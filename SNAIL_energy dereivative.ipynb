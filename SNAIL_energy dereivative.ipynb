{
 "cells": [
  {
   "cell_type": "code",
   "execution_count": 1,
   "id": "b542deff",
   "metadata": {},
   "outputs": [],
   "source": [
    "import numpy as np\n",
    "import matplotlib.pyplot as plt\n",
    "import scipy as sci\n",
    "import autograd as ad\n",
    "import autograd.numpy as np"
   ]
  },
  {
   "cell_type": "markdown",
   "id": "64b136e1",
   "metadata": {},
   "source": [
    "# SNAIL potential"
   ]
  },
  {
   "cell_type": "code",
   "execution_count": 14,
   "id": "fb4b1847",
   "metadata": {},
   "outputs": [],
   "source": [
    "phi = np.linspace(-3*np.pi,3*np.pi,1000)\n",
    "Ej = 90*2*np.pi\n",
    "El = 64*2*np.pi\n",
    "def U_s(phi): \n",
    "    beta = 0.2\n",
    "    phi_ex = 0.4*2*np.pi\n",
    "    return (-beta*np.cos(phi-phi_ex)-3*np.cos((phi)/3))\n",
    "# def U_sapp(phi): \n",
    "#     beta = 0.15\n",
    "#     phi_ex = 0.4*2*np.pi\n",
    "#     return (-3*np.cos((phi)/3)-beta*(1+1/2*(phi-phi_ex)**2+1/4/3/2*(phi-phi_ex)**4))"
   ]
  },
  {
   "cell_type": "code",
   "execution_count": 24,
   "id": "b8f2e22d",
   "metadata": {},
   "outputs": [
    {
     "data": {
      "text/plain": [
       "Text(0.5, 1.0, 'β = 0.15')"
      ]
     },
     "execution_count": 24,
     "metadata": {},
     "output_type": "execute_result"
    },
    {
     "data": {
      "image/png": "[encoded data removed]",
      "text/plain": [
       "<Figure size 432x288 with 1 Axes>"
      ]
     },
     "metadata": {
      "needs_background": "light"
     },
     "output_type": "display_data"
    }
   ],
   "source": [
    "# plt.plot(phi,U_sapp(phi),label='app')\n",
    "plt.plot(phi/2/np.pi,U_s(phi),label='exact')\n",
    "plt.xlabel('ϕ/2π',fontsize=16)\n",
    "plt.ylabel('U/$E_j$',fontsize=16)\n",
    "plt.tick_params(axis='both', which='major', labelsize=16)\n",
    "plt.title(\"β = 0.15\")"
   ]
  },
  {
   "cell_type": "markdown",
   "id": "5636af29",
   "metadata": {},
   "source": [
    "# Calculate potential minimum"
   ]
  },
  {
   "cell_type": "code",
   "execution_count": 299,
   "id": "768818b5",
   "metadata": {},
   "outputs": [],
   "source": [
    "phi_min = sci.optimize.minimize(U_s,0).x"
   ]
  },
  {
   "cell_type": "code",
   "execution_count": 300,
   "id": "d764a983",
   "metadata": {},
   "outputs": [
    {
     "data": {
      "text/plain": [
       "array([0.30879911])"
      ]
     },
     "execution_count": 300,
     "metadata": {},
     "output_type": "execute_result"
    }
   ],
   "source": [
    "phi_min"
   ]
  },
  {
   "cell_type": "code",
   "execution_count": 301,
   "id": "571546cc",
   "metadata": {},
   "outputs": [],
   "source": [
    "firstd = ad.grad(U_s)\n",
    "secondd = ad.grad(firstd)\n",
    "thirdd = ad.grad(secondd)\n",
    "fourd = ad.grad(thirdd)\n",
    "fived = ad.grad(fourd)\n",
    "sixd = ad.grad(fived)\n",
    "sevend = ad.grad(sixd)\n",
    "eightd = ad.grad(sevend)"
   ]
  },
  {
   "cell_type": "code",
   "execution_count": 302,
   "id": "6ee0d3b9",
   "metadata": {},
   "outputs": [],
   "source": [
    "c2 = secondd(phi_min[0])\n",
    "c3 = thirdd(phi_min[0])/3/2\n",
    "c4 = fourd(phi_min[0])/4/3/2\n",
    "c5 = fived(phi_min[0])/5/4/3/2\n",
    "c6 = sixd(phi_min[0])/6/5/4/3/2\n",
    "c7 = sevend(phi_min[0])/7/6/5/4/3/2\n",
    "c8 = eightd(phi_min[0])/8/7/6/5/4/3/2"
   ]
  },
  {
   "cell_type": "code",
   "execution_count": 303,
   "id": "acc17e70",
   "metadata": {},
   "outputs": [
    {
     "data": {
      "text/plain": [
       "0.18547607774037647"
      ]
     },
     "execution_count": 303,
     "metadata": {},
     "output_type": "execute_result"
    }
   ],
   "source": [
    "0.25092334291474816*p"
   ]
  },
  {
   "cell_type": "code",
   "execution_count": 304,
   "id": "331e98e0",
   "metadata": {},
   "outputs": [
    {
     "data": {
      "text/plain": [
       "0.8058348376266125"
      ]
     },
     "execution_count": 304,
     "metadata": {},
     "output_type": "execute_result"
    }
   ],
   "source": [
    "firstd(phi_min[0])\n",
    "c2"
   ]
  },
  {
   "cell_type": "code",
   "execution_count": 305,
   "id": "7574287c",
   "metadata": {},
   "outputs": [],
   "source": [
    "Ej = 90*2*np.pi\n",
    "Ec = 0.177*2*np.pi\n",
    "beta = 0.15\n",
    "phi_ex = 0.4*2*np.pi\n",
    "omega_s = np.sqrt(8*c2*Ej*Ec)\n",
    "phi_zpf = np.power(2*Ec/Ej/c2,1/4)\n",
    "g2 = Ej*phi_zpf**2*c2/2\n",
    "g3 = Ej*phi_zpf**3*c3\n",
    "g4 = Ej*phi_zpf**4*c4\n",
    "g5 = Ej*phi_zpf**5*c5\n",
    "g6 = Ej*phi_zpf**6*c6\n",
    "g7 = Ej*phi_zpf**7*c7\n",
    "g8 = 2*Ej*phi_zpf**8*c8"
   ]
  },
  {
   "cell_type": "code",
   "execution_count": 306,
   "id": "73cf48a0",
   "metadata": {},
   "outputs": [
    {
     "data": {
      "text/plain": [
       "10.133883347815658"
      ]
     },
     "execution_count": 306,
     "metadata": {},
     "output_type": "execute_result"
    }
   ],
   "source": [
    "omega_s/2/np.pi"
   ]
  },
  {
   "cell_type": "code",
   "execution_count": 307,
   "id": "384edce5",
   "metadata": {},
   "outputs": [],
   "source": [
    "phi = np.linspace(-2*np.pi,2*np.pi,10000)\n",
    "U_sapp = g2*(phi-phi_min)**2 + g3*(phi-phi_min)**3 + g4*(phi-phi_min)**4 + g5*(phi-phi_min)**5 + g6*(phi-phi_min)**6 + g7*(phi-phi_min)**7 + (g8)*(phi-phi_min)**8"
   ]
  },
  {
   "cell_type": "code",
   "execution_count": 308,
   "id": "28d80453",
   "metadata": {},
   "outputs": [
    {
     "data": {
      "text/plain": [
       "(-5.0, 10.0)"
      ]
     },
     "execution_count": 308,
     "metadata": {},
     "output_type": "execute_result"
    },
    {
     "data": {
      "image/png": "[encoded data removed]",
      "text/plain": [
       "<Figure size 432x288 with 1 Axes>"
      ]
     },
     "metadata": {
      "needs_background": "light"
     },
     "output_type": "display_data"
    }
   ],
   "source": [
    "plt.plot(phi,U_s(phi), label = \"exact\")\n",
    "plt.plot(phi,U_sapp/Ej*2*np.pi + np.min(U_s(phi))*np.ones(len(phi)), label = \"approximation\" )\n",
    "plt.legend()\n",
    "plt.ylim(-5,10)\n"
   ]
  },
  {
   "cell_type": "code",
   "execution_count": 309,
   "id": "f58dfe65",
   "metadata": {},
   "outputs": [],
   "source": [
    "def annihilation(dim):\n",
    "    return np.diag(np.sqrt(np.arange(1,dim)),1)\n",
    "def creation(dim):\n",
    "    return np.diag(np.sqrt(np.arange(1,dim)),-1)"
   ]
  },
  {
   "cell_type": "code",
   "execution_count": 310,
   "id": "5307c9fc",
   "metadata": {},
   "outputs": [],
   "source": [
    "dim = 10\n",
    "beta = 0.15\n",
    "s = annihilation(dim)\n",
    "sd = creation(dim)\n",
    "H = omega_s * np.matmul(sd,s)\n",
    "x2 = np.matmul(s+sd,s+sd)\n",
    "x3 = np.matmul(s+sd,x2)\n",
    "x4 = np.matmul(s+sd,x3)\n",
    "x5 = np.matmul(s+sd,x4)\n",
    "x6 = np.matmul(s+sd,x5)\n",
    "x7 = np.matmul(s+sd,x6)\n",
    "x8 = np.matmul(s+sd,x7)\n",
    "H += g3*x3 + g4*x4 + g5*x5 + g6*x6 + g7*x7 + g8*x8\n",
    "#cos(phi_ex(s+sd))"
   ]
  },
  {
   "cell_type": "code",
   "execution_count": 311,
   "id": "23604d46",
   "metadata": {},
   "outputs": [
    {
     "data": {
      "text/plain": [
       "10.136602948131612"
      ]
     },
     "execution_count": 311,
     "metadata": {},
     "output_type": "execute_result"
    }
   ],
   "source": [
    "energy = np.linalg.eigh(H)[0]\n",
    "energy = energy-energy[0]*np.ones(len(energy))\n",
    "energy[1]/2/np.pi"
   ]
  },
  {
   "cell_type": "code",
   "execution_count": 312,
   "id": "9463174d",
   "metadata": {},
   "outputs": [
    {
     "data": {
      "text/plain": [
       "array([1.62135255, 1.62015313, 1.61895325, ..., 1.61939647, 1.62037474,\n",
       "       1.62135255])"
      ]
     },
     "execution_count": 312,
     "metadata": {},
     "output_type": "execute_result"
    }
   ],
   "source": [
    "(-beta*np.cos(phi-phi_ex)-3*np.cos((phi)/3))"
   ]
  },
  {
   "cell_type": "code",
   "execution_count": 313,
   "id": "fa4ed03d",
   "metadata": {},
   "outputs": [
    {
     "data": {
      "text/plain": [
       "15.918266738916806"
      ]
     },
     "execution_count": 313,
     "metadata": {},
     "output_type": "execute_result"
    }
   ],
   "source": [
    "g2"
   ]
  },
  {
   "cell_type": "code",
   "execution_count": 314,
   "id": "905f1438",
   "metadata": {},
   "outputs": [],
   "source": [
    "H2 = (omega_s * np.matmul(sd,s)\n",
    "- Ej*(beta*sci.linalg.cosm(phi_zpf*(s+sd)+(phi_min-phi_ex)*np.identity(dim))\n",
    "+ 3*sci.linalg.cosm((phi_zpf*(s+sd)+phi_min*np.identity(dim))/3))- g2*x2)"
   ]
  },
  {
   "cell_type": "code",
   "execution_count": 315,
   "id": "c5cfedf7",
   "metadata": {},
   "outputs": [
    {
     "data": {
      "text/plain": [
       "5.633254732001965"
      ]
     },
     "execution_count": 315,
     "metadata": {},
     "output_type": "execute_result"
    }
   ],
   "source": [
    "energy = np.linalg.eigh(H2)[0]\n",
    "energy = energy-energy[0]*np.ones(len(energy))\n",
    "energy[1]/2/np.pi"
   ]
  },
  {
   "cell_type": "markdown",
   "id": "7841c4a7",
   "metadata": {},
   "source": [
    "# phi_min derivative"
   ]
  },
  {
   "cell_type": "code",
   "execution_count": 316,
   "id": "60c3e178",
   "metadata": {},
   "outputs": [],
   "source": [
    "def phi_mind(phi_ex,dphi_ex):\n",
    "    def U_s(phi,phi_ex): \n",
    "        beta = 0.147\n",
    "        return (-beta*np.cos(phi-phi_ex)-3*np.cos((phi)/3))\n",
    "    phi_min1 = sci.optimize.minimize(U_s,0,args=(phi_ex)).x\n",
    "    phi_ex2 = phi_ex + dphi_ex\n",
    "    phi_min2 = sci.optimize.minimize(U_s,0,args = (phi_ex2)).x\n",
    "    return (phi_min2-phi_min1)/dphi_ex, phi_min1"
   ]
  },
  {
   "cell_type": "code",
   "execution_count": 317,
   "id": "19375af5",
   "metadata": {},
   "outputs": [
    {
     "data": {
      "text/plain": [
       "(array([-0.31993247]), array([0.37215512]))"
      ]
     },
     "execution_count": 317,
     "metadata": {},
     "output_type": "execute_result"
    }
   ],
   "source": [
    "phi_mind(0.4*2*np.pi,1e-2)"
   ]
  },
  {
   "cell_type": "code",
   "execution_count": 318,
   "id": "747553c0",
   "metadata": {},
   "outputs": [],
   "source": [
    "beta = 0.147\n",
    "phi_min = 0.37217076"
   ]
  },
  {
   "cell_type": "code",
   "execution_count": 319,
   "id": "4c4422ad",
   "metadata": {},
   "outputs": [
    {
     "data": {
      "text/plain": [
       "-0.09848656614541582"
      ]
     },
     "execution_count": 319,
     "metadata": {},
     "output_type": "execute_result"
    }
   ],
   "source": [
    "beta*np.cos(phi_min - phi_ex)/c2"
   ]
  },
  {
   "cell_type": "markdown",
   "id": "2072641b",
   "metadata": {},
   "source": [
    "# Energy fluctuation"
   ]
  },
  {
   "cell_type": "code",
   "execution_count": 320,
   "id": "a1a477b2",
   "metadata": {},
   "outputs": [],
   "source": [
    "def dws(phi_ex,dphi_ex):\n",
    "    def U_s(phi,phi_ex): \n",
    "        beta = 0.147\n",
    "        return (-beta*np.cos(phi-phi_ex)-3*np.cos((phi)/3))\n",
    "    firstd = ad.grad(U_s)\n",
    "    secondd = ad.grad(firstd)\n",
    "    phi_min1 = sci.optimize.minimize(U_s,0,args=(phi_ex)).x\n",
    "    phi_ex2 = phi_ex + dphi_ex\n",
    "    phi_min2 = sci.optimize.minimize(U_s,0,args = (phi_ex2)).x\n",
    "    c21 = secondd(phi_min1[0],phi_ex)\n",
    "    c22 = secondd(phi_min2[0],phi_ex2)\n",
    "    Ej = 90*2*np.pi\n",
    "    Ec = 0.177*2*np.pi\n",
    "    omega_c1 = np.sqrt(8*c21*Ej*Ec)\n",
    "    omega_c2 = np.sqrt(8*c22*Ej*Ec)\n",
    "    return (omega_c2-omega_c1)/dphi_ex, omega_c1"
   ]
  },
  {
   "cell_type": "code",
   "execution_count": 321,
   "id": "bebcf41f",
   "metadata": {},
   "outputs": [
    {
     "data": {
      "text/plain": [
       "(-11.07948351304344, 35.564814488566746)"
      ]
     },
     "execution_count": 321,
     "metadata": {},
     "output_type": "execute_result"
    }
   ],
   "source": [
    "dws(0.4*2*np.pi,1e-5)"
   ]
  },
  {
   "cell_type": "code",
   "execution_count": 322,
   "id": "2437c951",
   "metadata": {},
   "outputs": [
    {
     "data": {
      "text/plain": [
       "-12.471631010178406"
      ]
     },
     "execution_count": 322,
     "metadata": {},
     "output_type": "execute_result"
    }
   ],
   "source": [
    "np.sqrt(8*Ec*Ej)/2/np.sqrt(c2)*-0.31567742"
   ]
  },
  {
   "cell_type": "code",
   "execution_count": 326,
   "id": "bc3a2d97",
   "metadata": {},
   "outputs": [
    {
     "data": {
      "text/plain": [
       "11.288932633336067"
      ]
     },
     "execution_count": 326,
     "metadata": {},
     "output_type": "execute_result"
    }
   ],
   "source": [
    "np.sqrt(8*Ec*Ej)/2/np.pi"
   ]
  },
  {
   "cell_type": "code",
   "execution_count": 324,
   "id": "dd8a2bb6",
   "metadata": {},
   "outputs": [],
   "source": [
    "dc2=c3*6/c2*(beta*np.cos(phi_min-phi_ex)-9/8*c2)"
   ]
  },
  {
   "cell_type": "code",
   "execution_count": 325,
   "id": "87d62e60",
   "metadata": {},
   "outputs": [
    {
     "data": {
      "text/plain": [
       "-15.029159963428821"
      ]
     },
     "execution_count": 325,
     "metadata": {},
     "output_type": "execute_result"
    }
   ],
   "source": [
    "dc2*np.sqrt(8*Ec*Ej)/2/np.sqrt(c2)"
   ]
  }
 ],
 "metadata": {
  "kernelspec": {
   "display_name": "Python 3 (ipykernel)",
   "language": "python",
   "name": "python3"
  },
  "language_info": {
   "codemirror_mode": {
    "name": "ipython",
    "version": 3
   },
   "file_extension": ".py",
   "mimetype": "text/x-python",
   "name": "python",
   "nbconvert_exporter": "python",
   "pygments_lexer": "ipython3",
   "version": "3.8.3"
  }
 },
 "nbformat": 4,
 "nbformat_minor": 5
}
