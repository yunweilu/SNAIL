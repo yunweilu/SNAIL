{
 "cells": [
  {
   "cell_type": "code",
   "execution_count": 133,
   "id": "97232948",
   "metadata": {},
   "outputs": [],
   "source": [
    "import autograd.numpy as np\n",
    "import autograd as ad\n",
    "def annihilation(dim):\n",
    "    return np.diag(np.sqrt(np.arange(1,dim)),1)\n",
    "def creation(dim):\n",
    "    return np.diag(np.sqrt(np.arange(1,dim)),-1)\n",
    "def coupled_oscillator(omega_s):\n",
    "    sdim = 10\n",
    "    s = annihilation(sdim)\n",
    "    sd = creation(sdim)\n",
    "    Hs = omega_s * np.matmul(sd,s)\n",
    "    \n",
    "    cdim = 12\n",
    "    c = annihilation(cdim)\n",
    "    cd = creation(cdim)\n",
    "    omega_c = 3*2*np.pi\n",
    "    Hc = omega_c * np.matmul(cd,c)\n",
    "    \n",
    "    Ic = np.identity(cdim)\n",
    "    Is = np.identity(sdim)\n",
    "    Hs = np.kron(Hs,Ic)\n",
    "    Hc = np.kron(Is,Hc)\n",
    "\n",
    "    g_int = 0.1*2*np.pi\n",
    "    H_int = g_int*(np.kron(sd+s,c+cd))\n",
    "#     H_int = g_int*(np.kron(sd,c)+np.kron(s,cd))\n",
    "    H = Hs + Hc + H_int\n",
    "    energy = np.linalg.eigh(H)[0]\n",
    "    energy = energy-energy[0]*np.ones(len(energy))\n",
    "    delta = omega_c - omega_s\n",
    "    energy2 = 1/2*(omega_s + omega_c - np.sqrt(delta**2 + 4*g_int**2))\n",
    "#     energy2 = omega_c + g_int**2/delta\n",
    "    return energy/2/np.pi,energy2/2/np.pi"
   ]
  },
  {
   "cell_type": "code",
   "execution_count": 134,
   "id": "34ede5b6",
   "metadata": {},
   "outputs": [
    {
     "data": {
      "text/plain": [
       "(array([ 0.        ,  2.93650687,  3.16021003,  5.87301374,  6.09671689,\n",
       "         6.32042005,  8.8095206 ,  9.03322376,  9.25692692,  9.48063008,\n",
       "        11.74602747, 11.96973063, 12.19343379, 12.41713695, 12.64084011,\n",
       "        14.68253434, 14.9062375 , 15.12994066, 15.35364382, 15.57734698,\n",
       "        15.80105014, 17.61904121, 17.84274437, 18.06644753, 18.29015068,\n",
       "        18.51385384, 18.737557  , 18.96126016, 20.55554807, 20.77925123,\n",
       "        21.0029544 , 21.22665757, 21.45036076, 21.67406394, 21.89776708,\n",
       "        22.12147021, 23.49205495, 23.71575819, 23.93946202, 24.16316798,\n",
       "        24.38687807, 24.61059058, 24.83429739, 25.05799298, 25.28168495,\n",
       "        26.42856217, 26.65227189, 26.87603113, 27.10000911, 27.3245454 ,\n",
       "        27.54981415, 27.77511983, 27.99896473, 28.22087641, 28.44259787,\n",
       "        29.36508219, 29.5889394 , 29.8137633 , 30.04232139, 30.27918296,\n",
       "        30.52762943, 30.78736225, 31.05496341, 31.32429643, 31.58528688,\n",
       "        32.30238641, 32.52892618, 32.75940313, 32.99838225, 33.25105515,\n",
       "        33.52042466, 33.80588072, 34.10362053, 34.40819934, 34.71022537,\n",
       "        35.25313007, 35.51498195, 35.80426304, 36.12627066, 36.46858116,\n",
       "        36.8107759 , 37.14594559, 37.48195032, 37.82180497, 38.2201213 ,\n",
       "        38.53220184, 38.90069563, 39.32193568, 39.75723135, 40.16746857,\n",
       "        40.54725898, 40.92327048, 41.20273295, 41.58674883, 42.06820423,\n",
       "        42.60902547, 43.13569047, 43.59705676, 44.0164854 , 44.20390892,\n",
       "        44.70016672, 45.33730003, 46.01229808, 46.61030136, 47.10100916,\n",
       "        47.23480564, 47.91053873, 48.75060464, 49.55048194, 50.17086405,\n",
       "        50.32265262, 51.28340188, 52.35787319, 53.20897094, 53.5303407 ,\n",
       "        54.92972828, 56.16929822, 57.00522247, 58.99206256, 61.069094  ]),\n",
       " 2.9381966011250107)"
      ]
     },
     "execution_count": 134,
     "metadata": {},
     "output_type": "execute_result"
    }
   ],
   "source": [
    "coupled_oscillator(3.1*np.pi*2)"
   ]
  },
  {
   "cell_type": "code",
   "execution_count": null,
   "id": "4e627e93",
   "metadata": {},
   "outputs": [],
   "source": []
  }
 ],
 "metadata": {
  "kernelspec": {
   "display_name": "Python 3 (ipykernel)",
   "language": "python",
   "name": "python3"
  },
  "language_info": {
   "codemirror_mode": {
    "name": "ipython",
    "version": 3
   },
   "file_extension": ".py",
   "mimetype": "text/x-python",
   "name": "python",
   "nbconvert_exporter": "python",
   "pygments_lexer": "ipython3",
   "version": "3.8.3"
  }
 },
 "nbformat": 4,
 "nbformat_minor": 5
}
