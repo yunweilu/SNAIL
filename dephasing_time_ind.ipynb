{
 "cells": [
  {
   "cell_type": "code",
   "execution_count": 1,
   "id": "faf8061e",
   "metadata": {},
   "outputs": [],
   "source": [
    "import numpy as np\n",
    "import matplotlib.pyplot as plt\n",
    "import scipy as sci\n",
    "import autograd as ad\n",
    "import autograd.numpy as np\n",
    "from cosmatrix import cosm,expm_pade\n",
    "expm = expm_pade\n",
    "from autograd.extend import primitive, defvjp\n",
    "def annihilation(dim):\n",
    "    return np.diag(np.sqrt(np.arange(1,dim)),1)\n",
    "def creation(dim):\n",
    "    return np.diag(np.sqrt(np.arange(1,dim)),-1)\n",
    "def new_cparameters(c2,c3,c4,c5,p):\n",
    "    c2=c2*p\n",
    "    c3=c3*p**3\n",
    "    c4=p**4*(c4-3*c3**2/c2*(1-p))\n",
    "    c5=p**5*(c5-(10*c4*c3/c2)*(1-p)+15*(c3**3/c2**2)*(1-p)**2)\n",
    "    return c2,c3,c4,c5\n",
    "def coupled_spectrum(phi_ex,beta,N,Ej,Ec,El,omega_c,g_intfa):\n",
    "    phi_ex = 2*np.pi*phi_ex\n",
    "    def U_s(phi): \n",
    "        return (-beta*np.cos(phi-phi_ex)-N*np.cos((phi)/N))\n",
    "    @primitive\n",
    "    def Us_min(phi_ex):\n",
    "        def U_s(phi): \n",
    "            return (-beta*np.cos(phi-phi_ex)-N*np.cos((phi)/N))\n",
    "        phi_min = sci.optimize.minimize(U_s,0).x\n",
    "        return phi_min\n",
    "    \n",
    "    def phi_minde(ans, phi_ex):\n",
    "        def phi_minde_vjp(g):\n",
    "            c2 = beta*np.cos(ans - phi_ex) + 1/N*np.cos(ans/N)\n",
    "            return g*beta*np.cos(ans - phi_ex)/c2\n",
    "        return phi_minde_vjp\n",
    "    defvjp(Us_min, phi_minde)\n",
    "    phi_min = Us_min(phi_ex)\n",
    "    # potential expansion around minimum\n",
    "    firstd = ad.grad(U_s)\n",
    "    secondd = ad.grad(firstd)\n",
    "    thirdd = ad.grad(secondd)\n",
    "    fourd = ad.grad(thirdd)\n",
    "    fived = ad.grad(fourd)\n",
    "    sixd = ad.grad(fived)\n",
    "    c2 = secondd(phi_min)\n",
    "    c3 = thirdd(phi_min)\n",
    "    c4 = fourd(phi_min)\n",
    "    c5 = fived(phi_min)\n",
    "    c6 = sixd(phi_min)\n",
    "    p = El/(El+c2*Ej)\n",
    "    c2,c3,c4,c5 = new_cparameters(c2,c3,c4,c5,p)\n",
    "    omega_s = np.sqrt(8*c2*Ej*Ec)\n",
    "    phi_zpf = np.power(2*Ec/(Ej*c2),1/4)\n",
    "    g2 = Ej*phi_zpf**2*c2/2\n",
    "    g3 = Ej*phi_zpf**3*c3/3/2\n",
    "    g4 = Ej*phi_zpf**4*c4/4/3/2\n",
    "    g5 = Ej*phi_zpf**5*c5/5/4/3/2\n",
    "    g6 = Ej*phi_zpf**6*c6/6/5/4/3/2\n",
    "    sdim = 5\n",
    "    s = annihilation(sdim)\n",
    "    sd = creation(sdim)\n",
    "    x2 = np.matmul(s+sd,s+sd)\n",
    "    x3 = np.matmul(s+sd,x2)\n",
    "    x4 = np.matmul(s+sd,x3)\n",
    "    x5 = np.matmul(s+sd,x4)\n",
    "    x6 = np.matmul(s+sd,x5)\n",
    "#     anh = 12*(g4-5*g3**2/omega_s)\n",
    "    Hs = omega_s * np.matmul(sd,s)+g3*x3 + g4*x4 + g5*x5 + 1e-9*x6 \n",
    "    energy = np.linalg.eigh(Hs)[0]\n",
    "    energy = energy-energy[0]*np.ones(len(energy))\n",
    "    omega_s = energy[1]\n",
    "    anh = (energy[2]-energy[1]-energy[1]-energy[0])\n",
    "    cdim = 5\n",
    "    c = annihilation(cdim)\n",
    "    cd = creation(cdim)\n",
    "    Hc = omega_c*np.matmul(cd,c)\n",
    "    Ic = np.identity(cdim)\n",
    "    Is = np.identity(sdim)\n",
    "    Hs = np.kron(Hs,Ic)\n",
    "    Hc = np.kron(Is,Hc)\n",
    "    g_int = g_intfa*2*np.pi*np.power((2*Ec)/Ej,1/4)/phi_zpf\n",
    "    H_int = g_int*np.kron(s+sd,cd+c)\n",
    "#     H_int = g_int*(np.kron(sd,c)+np.kron(s,cd))\n",
    "    H = Hs + Hc + H_int\n",
    "    energy,dressed_states = np.linalg.eigh(H)\n",
    "    energy = energy-energy[0]*np.ones(len(energy))\n",
    "    index = np.argmin(np.abs(energy-omega_c*np.ones(len(energy))))\n",
    "    exact = energy[index]\n",
    "    return exact\n",
    "Egrad = ad.grad(coupled_spectrum)\n",
    "\n",
    "def T1f(der):\n",
    "    factor = np.sqrt(2*np.abs(np.log(2*np.pi*1*1e-5)))\n",
    "    return 1/(factor*10**-6*der)\n",
    "def Tw(der):\n",
    "    return 3/1.7*1/((der*10**-8)**2*1e9)\n",
    "def os(phi_ex,beta,N,Ej,Ec,El,omega_c):\n",
    "    phi_ex = 2*np.pi*phi_ex\n",
    "    def U_s(phi): \n",
    "        return (-beta*np.cos(phi-phi_ex)-N*np.cos((phi)/N))\n",
    "    @primitive\n",
    "    def Us_min(phi_ex):\n",
    "        def U_s(phi): \n",
    "            return (-beta*np.cos(phi-phi_ex)-N*np.cos((phi)/N))\n",
    "        phi_min = sci.optimize.minimize(U_s,0).x\n",
    "        return phi_min\n",
    "    \n",
    "    def phi_minde(ans, phi_ex):\n",
    "        def phi_minde_vjp(g):\n",
    "            c2 = beta*np.cos(ans - phi_ex) + 1/N*np.cos(ans/N)\n",
    "            return g*beta*np.cos(ans - phi_ex)/c2\n",
    "        return phi_minde_vjp\n",
    "    defvjp(Us_min, phi_minde)\n",
    "    phi_min = Us_min(phi_ex)\n",
    "    # potential expansion around minimum\n",
    "    firstd = ad.grad(U_s)\n",
    "    secondd = ad.grad(firstd)\n",
    "    thirdd = ad.grad(secondd)\n",
    "    fourd = ad.grad(thirdd)\n",
    "    fived = ad.grad(fourd)\n",
    "    c2 = secondd(phi_min)\n",
    "    c3 = thirdd(phi_min)\n",
    "    c4 = fourd(phi_min)\n",
    "    c5 = fived(phi_min)\n",
    "    p = El/(El+c2*Ej)\n",
    "    c2,c3,c4,c5 = new_cparameters(c2,c3,c4,c5,p)\n",
    "    omega_s = np.sqrt(8*c2*Ej*Ec)\n",
    "    phi_zpf = np.power(2*Ec/(Ej*c2),1/4)\n",
    "    g2 = Ej*phi_zpf**2*c2/2\n",
    "    g3 = Ej*phi_zpf**3*c3/3/2\n",
    "    g4 = Ej*phi_zpf**4*c4/4/3/2\n",
    "    g5 = Ej*phi_zpf**5*c5/5/4/3/2\n",
    "    \n",
    "    sdim = 15\n",
    "    s = annihilation(sdim)\n",
    "    sd = creation(sdim)\n",
    "    x2 = np.matmul(s+sd,s+sd)\n",
    "    x3 = np.matmul(s+sd,x2)\n",
    "    x4 = np.matmul(s+sd,x3)\n",
    "    x5 = np.matmul(s+sd,x4)\n",
    "    x6 = np.matmul(s+sd,x5)\n",
    "    Hs = omega_s * np.matmul(sd,s)+g3*x3 + g4*x4 + g5*x5 + 1e-9*x6 \n",
    "    energy = np.linalg.eigh(Hs)[0]\n",
    "    energy = energy-energy[0]*np.ones(len(energy))\n",
    "    omega_s = energy[1]\n",
    "    anh = (energy[2]-energy[1]-energy[1]-energy[0])/2/np.pi\n",
    "    return omega_s,anh\n",
    "def god(phi_ex,beta,N,Ej,Ec,El,omega_c,g_intfa):\n",
    "    phi_ex = 2*np.pi*phi_ex\n",
    "    def U_s(phi): \n",
    "        return (-beta*np.cos(phi-phi_ex)-N*np.cos((phi)/N))\n",
    "    @primitive\n",
    "    def Us_min(phi_ex):\n",
    "        def U_s(phi): \n",
    "            return (-beta*np.cos(phi-phi_ex)-N*np.cos((phi)/N))\n",
    "        phi_min = sci.optimize.minimize(U_s,0).x\n",
    "        return phi_min\n",
    "    \n",
    "    def phi_minde(ans, phi_ex):\n",
    "        def phi_minde_vjp(g):\n",
    "            c2 = beta*np.cos(ans - phi_ex) + 1/N*np.cos(ans/N)\n",
    "            return g*beta*np.cos(ans - phi_ex)/c2\n",
    "        return phi_minde_vjp\n",
    "    defvjp(Us_min, phi_minde)\n",
    "    phi_min = Us_min(phi_ex)\n",
    "    # potential expansion around minimum\n",
    "    firstd = ad.grad(U_s)\n",
    "    secondd = ad.grad(firstd)\n",
    "    thirdd = ad.grad(secondd)\n",
    "    fourd = ad.grad(thirdd)\n",
    "    fived = ad.grad(fourd)\n",
    "    c2 = secondd(phi_min)\n",
    "    c3 = thirdd(phi_min)\n",
    "    c4 = fourd(phi_min)\n",
    "    c5 = fived(phi_min)\n",
    "    p = El/(El+c2*Ej)\n",
    "    c2,c3,c4,c5 = new_cparameters(c2,c3,c4,c5,p)\n",
    "    omega_s = np.sqrt(8*c2*Ej*Ec)\n",
    "    phi_zpf = np.power(2*Ec/(Ej*c2),1/4)\n",
    "    g2 = Ej*phi_zpf**2*c2/2\n",
    "    g3 = Ej*phi_zpf**3*c3/3/2\n",
    "    g4 = Ej*phi_zpf**4*c4/4/3/2\n",
    "    g5 = Ej*phi_zpf**5*c5/5/4/3/2\n",
    "    \n",
    "    sdim = 15\n",
    "    s = annihilation(sdim)\n",
    "    sd = creation(sdim)\n",
    "    x2 = np.matmul(s+sd,s+sd)\n",
    "    x3 = np.matmul(s+sd,x2)\n",
    "    x4 = np.matmul(s+sd,x3)\n",
    "    x5 = np.matmul(s+sd,x4)\n",
    "    x6 = np.matmul(s+sd,x5)\n",
    "#     anh = 12*(g4-5*g3**2/omega_s)\n",
    "    Hs = omega_s * np.matmul(sd,s)+g3*x3 + g4*x4 + g5*x5 + 1e-9*x6 \n",
    "    energy = np.linalg.eigh(Hs)[0]\n",
    "    energy = energy-energy[0]*np.ones(len(energy))\n",
    "    omega_s = energy[1]\n",
    "    anh = (energy[2]-energy[1]-energy[1]-energy[0])\n",
    "    g_int = g_intfa*2*np.pi*np.power((2*Ec)/Ej,1/4)/phi_zpf\n",
    "    delta = omega_s - omega_c\n",
    "    return g_int/delta,delta/2/np.pi,g_int/2/np.pi,g3,g4,g5,np.sqrt(8*c2*Ej*Ec),omega_s\n",
    "import scipy.optimize as opt\n",
    "def minimize_anh( beta, N, Ej, Ec, El, omega_c):\n",
    "    # Wrapper function that takes only phi_ex as an argument\n",
    "    def anh_wrapper(phi_ex):\n",
    "        omega_s, anh = os(phi_ex, beta, N, Ej, Ec, El, omega_c)\n",
    "        return np.abs(anh)\n",
    "    bounds = [(0,0.5)]\n",
    "    # Optimize phi_ex\n",
    "    result = opt.direct(anh_wrapper, bounds = bounds)\n",
    "\n",
    "    # Return the result of the optimization\n",
    "    return result.x, result.fun\n",
    "def minimize_Tp1(omega_c, beta, N, Ej, Ec, El, phi_ex,g_intfac):\n",
    "    # Wrapper function that takes only phi_ex as an argument\n",
    "    def anh_wrapper(omega_c):\n",
    "        der = Egrad(phi_ex,beta,N,Ej,Ec,El,omega_c,g_intfac)\n",
    "        T1fs = np.abs(T1f(der))\n",
    "        return 1/T1fs*1e9\n",
    "\n",
    "    # Optimize phi_ex\n",
    "    bounds = [(1.5*2*np.pi,4.5*2*np.pi)]\n",
    "    result = opt.minimize(anh_wrapper,omega_c,bounds=bounds)\n",
    "\n",
    "    # Return the result of the optimization\n",
    "    return result.x, result.fun\n",
    "def minimize_Tp(beta, N, El, g_intfac):\n",
    "    # Wrapper function that takes a vector of parameters (omega_c, Ej, Ec)\n",
    "    def anh_wrapper(params):\n",
    "        omega_c, Ej, Ec = params\n",
    "        phi_ex,anh=minimize_anh( beta, N, Ej, Ec, El, 0)\n",
    "        der = Egrad(phi_ex, beta, N, Ej, Ec, El, omega_c, g_intfac)\n",
    "        ratio,delta,g_int,g3,g4,g5,omega_bs,omega_s=god(phi_ex,beta,N,Ej,Ec,El,omega_c,g_intfac)\n",
    "        T1fs = np.abs(T1f(der))\n",
    "        print(omega_c/2/np.pi,Ej/2/np.pi,Ec/2/np.pi,1 / T1fs * 1e9,Ec/Ej,g_intfac/(omega_s-omega_c))\n",
    "        return 1 / T1fs * 1e9+1e4*np.exp(-10*g_intfac/(omega_s-omega_c))\n",
    "\n",
    "    # Initial guesses for omega_c, Ej, Ec\n",
    "    initial_guess = [3 * 2 * np.pi, 20 * 2 * np.pi, 0.5 * 2 * np.pi]  # Example values, adjust as needed\n",
    "\n",
    "    # Define the bounds for omega_c, Ej, Ec\n",
    "    bounds = [(2.5 * 2 * np.pi, 3.5 * 2 * np.pi),  # Bounds for omega_c\n",
    "              (18 * 2 * np.pi, 100 * 2 * np.pi),    # Bounds for Ej\n",
    "              (0.1 * 2 * np.pi, 0.5 * 2 * np.pi)]   # Bounds for Ec\n",
    "\n",
    "    # Optimize the parameters\n",
    "    result = opt.minimize(anh_wrapper, initial_guess, bounds=bounds)\n",
    "\n",
    "    # Return the result of the optimization\n",
    "    return result.x, result.fun"
   ]
  },
  {
   "cell_type": "code",
   "execution_count": 9,
   "id": "302e29b2",
   "metadata": {
    "scrolled": true
   },
   "outputs": [
    {
     "name": "stdout",
     "output_type": "stream",
     "text": [
      "β: 0.12000\n",
      "Ej: 90.00000 GHz\n",
      "Ec: 0.17700 GHz\n",
      "El: 10000000000.00000 GHz\n",
      "g3: 0.055767 GHz\n",
      "g4: 0.0018701 GHz\n",
      "g5: -0.00037982 GHz\n",
      "ω_s: 5.76960 GHz\n",
      "α: 0.000000016479 GHz\n",
      "T_ϕs: 4.76684μs\n",
      "\n",
      "\n",
      "T_ϕ: 45968738.08917 s v.s 4.019347151683722 ms\n",
      "ω_c: 1.72586 GHz\n",
      "g_int: 0.10729 GHz\n",
      "Δ: 4.04374 GHz\n",
      "g/Δ: 0.026531\n"
     ]
    }
   ],
   "source": [
    "x = 0\n",
    "beta = 0.12\n",
    "Ej = 90*2*np.pi\n",
    "Ec = 0.177*2*np.pi\n",
    "El =1e10*2*np.pi\n",
    "N = 3\n",
    "phi_ex = 0.4\n",
    "phi_ex,anh=minimize_anh( beta, N, Ej, Ec, El, 0)\n",
    "phi_ex=phi_ex[0]\n",
    "\n",
    "omega_c = 3*2*np.pi\n",
    "g_intfa=0.15\n",
    "omega_c=minimize_Tp1(omega_c, beta, N, Ej, Ec, El, phi_ex,g_intfa)[0][0]\n",
    "der = Egrad(phi_ex,beta,N,Ej,Ec,El,omega_c,g_intfa)\n",
    "ratio,delta,g_int,g3,g4,g5,omega_bs,omega_s=god(phi_ex,beta,N,Ej,Ec,El,omega_c,g_intfa)\n",
    "omega_cp=os(phi_ex,beta,N,Ej,Ec,El,0)[0]+delta*2*np.pi\n",
    "der2 = Egrad(phi_ex,beta,N,Ej,Ec,El,omega_cp,g_intfa)\n",
    "T1fs = np.abs(T1f(der))\n",
    "T1fsp = np.abs(T1f(der2))\n",
    "delt = 1e-4\n",
    "s_grad = np.abs((os(phi_ex+delt,beta,N,Ej,Ec,El,0)[0]-os(phi_ex,beta,N,Ej,Ec,El,0)[0])/delt)\n",
    "γ_s=T1f(s_grad)/1e3\n",
    "\n",
    "def format_number(num):\n",
    "    if num == 0:\n",
    "        return \"0.00000\"\n",
    "    else:\n",
    "        # Find the first non-zero digit after the decimal point\n",
    "        decimal_places = -int(np.floor(np.log10(abs(num)))) + 4\n",
    "        # Ensure a minimum of 5 decimal places\n",
    "        decimal_places = max(decimal_places, 5)\n",
    "        return f\"{num:.{decimal_places}f}\"\n",
    "print('β: ' + format_number(beta))\n",
    "print('Ej: ' + format_number(Ej / 2 / np.pi) + ' GHz')\n",
    "print('Ec: ' + format_number(Ec / 2 / np.pi) + ' GHz')\n",
    "print('El: ' + format_number(El / 2 / np.pi) + ' GHz')\n",
    "print('g3: ' + format_number(g3[0] / 2 / np.pi) + ' GHz')\n",
    "print('g4: ' + format_number(g4[0] / 2 / np.pi) + ' GHz')\n",
    "print('g5: ' + format_number(g5[0] / 2 / np.pi) + ' GHz')\n",
    "print('ω_s: ' + format_number(omega_s/2/np.pi) + ' GHz')\n",
    "print('α: ' + format_number(anh/2/np.pi) + ' GHz')\n",
    "print('T_ϕs: '+ format_number(γ_s) + 'μs')\n",
    "# print('ω_s: ' + format_number((delta+omega_c) / 2 / np.pi) + ' GHz')\n",
    "print('\\n')\n",
    "print(\"T_ϕ: \" + format_number(T1fs / 1e9) + ' s'+' v.s '+str(T1fsp / 1e6)+\" ms\")\n",
    "print('ω_c: ' + format_number(omega_c / 2 / np.pi) + ' GHz')\n",
    "print('g_int: ' + format_number(g_int[0] ) + ' GHz')\n",
    "print('Δ: ' + format_number(delta) + ' GHz')\n",
    "print('g/Δ: ' + format_number(ratio[0]))"
   ]
  },
  {
   "cell_type": "code",
   "execution_count": 8,
   "id": "775e2708",
   "metadata": {},
   "outputs": [
    {
     "data": {
      "text/plain": [
       "0.3730343537664575"
      ]
     },
     "execution_count": 8,
     "metadata": {},
     "output_type": "execute_result"
    }
   ],
   "source": [
    "phi_ex"
   ]
  },
  {
   "cell_type": "code",
   "execution_count": 10,
   "id": "3880ead2",
   "metadata": {},
   "outputs": [],
   "source": [
    "beta = 0.15\n",
    "Ej = 18*2*np.pi\n",
    "Ec = 0.5780577964833022*2*np.pi\n",
    "El =1e10*2*np.pi\n",
    "N = 3\n",
    "phi_ex = 0.4\n",
    "phi_ex,anh=minimize_anh( beta, N, Ej, Ec, El, 0)"
   ]
  },
  {
   "cell_type": "code",
   "execution_count": 6,
   "id": "73f1a3e4",
   "metadata": {},
   "outputs": [
    {
     "data": {
      "text/plain": [
       "(0.15, 3, 113.09733552923255, 3.632044253564492, 62831853071.79586)"
      ]
     },
     "execution_count": 6,
     "metadata": {},
     "output_type": "execute_result"
    }
   ],
   "source": [
    "beta, N, Ej, Ec, El"
   ]
  },
  {
   "cell_type": "code",
   "execution_count": 12,
   "id": "b6c7ccd5",
   "metadata": {
    "scrolled": true
   },
   "outputs": [],
   "source": [
    "from joblib import Parallel, delayed\n",
    "\n",
    "# Define your functions: minimize_anh, minimize_Tp, Egrad, os, T1f, god\n",
    "\n",
    "# Parameters\n",
    "betas = np.array([0.15])\n",
    "a = np.linspace(1, 10, 4)\n",
    "b = np.linspace(1, 5, 4)\n",
    "Ejs = 90 * 2 * np.pi / a\n",
    "Ecs = 0.177 * 2 * np.pi / b\n",
    "El = 1e10 * 2 * np.pi\n",
    "N = 3\n",
    "\n",
    "# Function to be parallelized\n",
    "def compute(i, j, k):\n",
    "    delt=1e-5\n",
    "    beta = betas[k]\n",
    "    Ej = Ejs[i]\n",
    "    Ec = Ecs[j]\n",
    "    phi_ex, anh = minimize_anh( beta, N, Ej, Ec, El, 0)\n",
    "    phi_ex = phi_ex[0]\n",
    "    omega_c = 3 * 2 * np.pi\n",
    "    g_intfa = 0.15\n",
    "    omega_c_result = minimize_Tp1(omega_c, beta, N, Ej, Ec, El, phi_ex, g_intfa)[0][0]\n",
    "    \n",
    "    ratio_result, delta, g_int, g3, g4, g5, omega_bs, omega_s = god(phi_ex, beta, N, Ej, Ec, El, omega_c, g_intfa)\n",
    "\n",
    "    return i, j, k, omega_c_result, ratio_result\n",
    "compute(0,0,0)\n",
    "# Parallel computation\n",
    "results = Parallel(n_jobs=-1)(delayed(compute)(i, j, k) for i in range(len(a)) for j in range(len(b)) for k in range(len(betas)))\n",
    "\n",
    "# Process results\n",
    "omega_cs = np.zeros((len(a), len(b), len(betas)))\n",
    "ratio = np.zeros((len(a), len(b), len(betas)))\n",
    "\n",
    "for result in results:\n",
    "    i, j, k, omega_c_result, ratio_result = result\n",
    "    omega_cs[i, j, k] = omega_c_result\n",
    "    ratio[i, j, k] = ratio_result\n",
    "\n",
    "# omega_cs and ratio are now filled with your parallel computation results\n"
   ]
  },
  {
   "cell_type": "code",
   "execution_count": 69,
   "id": "8b1c7ed6",
   "metadata": {},
   "outputs": [
    {
     "ename": "NameError",
     "evalue": "name 'Ejs' is not defined",
     "output_type": "error",
     "traceback": [
      "\u001b[0;31m---------------------------------------------------------------------------\u001b[0m",
      "\u001b[0;31mNameError\u001b[0m                                 Traceback (most recent call last)",
      "Input \u001b[0;32mIn [69]\u001b[0m, in \u001b[0;36m<module>\u001b[0;34m\u001b[0m\n\u001b[1;32m     10\u001b[0m beta_plot \u001b[38;5;241m=\u001b[39m []\n\u001b[1;32m     12\u001b[0m \u001b[38;5;66;03m# Iterate over all combinations of Ej, Ec, and beta\u001b[39;00m\n\u001b[0;32m---> 13\u001b[0m \u001b[38;5;28;01mfor\u001b[39;00m i, Ej \u001b[38;5;129;01min\u001b[39;00m \u001b[38;5;28menumerate\u001b[39m(\u001b[43mEjs\u001b[49m):\n\u001b[1;32m     14\u001b[0m     \u001b[38;5;28;01mfor\u001b[39;00m j, Ec \u001b[38;5;129;01min\u001b[39;00m \u001b[38;5;28menumerate\u001b[39m(Ecs):\n\u001b[1;32m     15\u001b[0m         \u001b[38;5;28;01mfor\u001b[39;00m k, beta \u001b[38;5;129;01min\u001b[39;00m \u001b[38;5;28menumerate\u001b[39m(betas):\n",
      "\u001b[0;31mNameError\u001b[0m: name 'Ejs' is not defined"
     ]
    }
   ],
   "source": [
    "import numpy as np\n",
    "import matplotlib.pyplot as plt\n",
    "from mpl_toolkits.mplot3d import Axes3D\n",
    "\n",
    "# Assuming omega_cs, ratio, betas, Ejs, Ecs are defined as per your code\n",
    "\n",
    "# Prepare arrays to store the points for the plot\n",
    "Ej_plot = []\n",
    "Ec_plot = []\n",
    "beta_plot = []\n",
    "\n",
    "# Iterate over all combinations of Ej, Ec, and beta\n",
    "for i, Ej in enumerate(Ejs):\n",
    "    for j, Ec in enumerate(Ecs):\n",
    "        for k, beta in enumerate(betas):\n",
    "            if omega_cs[i, j, k] / (2 * np.pi) > 2.5 and 0.05 < ratio[i, j, k] < 0.1:\n",
    "                Ej_plot.append(Ej / (2 * np.pi))\n",
    "                Ec_plot.append(Ec / (2 * np.pi))\n",
    "                beta_plot.append(beta)\n",
    "                print(f'Ej: {Ej / (2 * np.pi)} GHz, Ec: {Ec / (2 * np.pi)} GHz, Beta: {beta}')\n",
    "\n",
    "# Plotting\n",
    "fig = plt.figure()\n",
    "ax = fig.add_subplot(111, projection='3d')\n",
    "\n",
    "# Scatter plot for the points satisfying the condition\n",
    "ax.scatter(Ej_plot, Ec_plot, beta_plot, color='red', marker='o')\n",
    "\n",
    "ax.set_xlabel('Ej (GHz)')\n",
    "ax.set_ylabel('Ec (GHz)')\n",
    "ax.set_zlabel('Beta')\n",
    "\n",
    "plt.show()\n"
   ]
  },
  {
   "cell_type": "code",
   "execution_count": 249,
   "id": "f1d3754f",
   "metadata": {},
   "outputs": [
    {
     "data": {
      "text/plain": [
       "array([[1.66924416],\n",
       "       [2.18268574],\n",
       "       [2.65384362],\n",
       "       [3.09510027],\n",
       "       [3.51357634],\n",
       "       [3.91386282],\n",
       "       [4.29912317],\n",
       "       [4.5       ],\n",
       "       [4.5       ],\n",
       "       [4.5       ]])"
      ]
     },
     "execution_count": 249,
     "metadata": {},
     "output_type": "execute_result"
    }
   ],
   "source": [
    "(omega_cs/2/np.pi)[0]"
   ]
  },
  {
   "cell_type": "code",
   "execution_count": 68,
   "id": "eae07fa4",
   "metadata": {},
   "outputs": [
    {
     "data": {
      "text/plain": [
       "2.119090774308262"
      ]
     },
     "execution_count": 68,
     "metadata": {},
     "output_type": "execute_result"
    }
   ],
   "source": [
    "\n",
    "(os(phi_ex+delta,beta,N,Ej,Ec,El,0)[0]-os(phi_ex,beta,N,Ej,Ec,El,0)[0])"
   ]
  },
  {
   "cell_type": "code",
   "execution_count": 89,
   "id": "61c93fd7",
   "metadata": {},
   "outputs": [
    {
     "name": "stdout",
     "output_type": "stream",
     "text": [
      "0.39658259336407986\n"
     ]
    }
   ],
   "source": [
    "print(phi_ex)"
   ]
  },
  {
   "cell_type": "code",
   "execution_count": 92,
   "id": "3606ebb8",
   "metadata": {},
   "outputs": [],
   "source": [
    "# charge noise"
   ]
  },
  {
   "cell_type": "code",
   "execution_count": 93,
   "id": "328afb01",
   "metadata": {},
   "outputs": [
    {
     "data": {
      "text/plain": [
       "2.5518926325063983e-08"
      ]
     },
     "execution_count": 93,
     "metadata": {},
     "output_type": "execute_result"
    }
   ],
   "source": [
    "anh"
   ]
  },
  {
   "cell_type": "code",
   "execution_count": 94,
   "id": "e1fc51c7",
   "metadata": {},
   "outputs": [
    {
     "data": {
      "text/plain": [
       "array([-0.41792663])"
      ]
     },
     "execution_count": 94,
     "metadata": {},
     "output_type": "execute_result"
    }
   ],
   "source": [
    "(g4-5*g3**2/omega_s)/2/np.pi*12"
   ]
  },
  {
   "cell_type": "code",
   "execution_count": 95,
   "id": "669e455f",
   "metadata": {},
   "outputs": [
    {
     "data": {
      "text/plain": [
       "4.367193338955966"
      ]
     },
     "execution_count": 95,
     "metadata": {},
     "output_type": "execute_result"
    }
   ],
   "source": [
    "os(phi_ex,beta,N,Ej,Ec,El,0)[0]/2/np.pi"
   ]
  },
  {
   "cell_type": "code",
   "execution_count": 96,
   "id": "31b595e0",
   "metadata": {},
   "outputs": [],
   "source": [
    "# beta = 0.15\n",
    "# N = 3\n",
    "# Ej = 90*2*np.pi\n",
    "# Ec = 0.177*2*np.pi\n",
    "# phi_ex = 0.4\n",
    "# El = 1e*2*np.pi\n",
    "omega_cs = np.linspace(0.1*2*np.pi,3*2*np.pi,400)\n",
    "T1fs =  np.zeros(len(omega_cs))\n",
    "Tws = np.zeros(len(omega_cs))\n",
    "der = np.zeros(len(omega_cs))\n",
    "gods = np.zeros(len(omega_cs))\n",
    "gs = np.zeros(len(omega_cs))\n",
    "deltas = np.zeros(len(omega_cs))\n",
    "g_intfac = 0.15\n",
    "for i in range(len(omega_cs)):\n",
    "    der[i] = Egrad(phi_ex,beta,N,Ej,Ec,El,omega_cs[i],g_intfac)\n",
    "#     gods[i], gs[i],deltas[i]= god(phi_ex,beta,N,Ej,Ec,El,omega_cs[i],g_intfac)\n",
    "    T1fs[i] = np.abs(T1f(der[i]))\n",
    "    Tws[i] = np.abs(Tw(der[i]))"
   ]
  },
  {
   "cell_type": "code",
   "execution_count": 97,
   "id": "31419fc3",
   "metadata": {},
   "outputs": [
    {
     "data": {
      "text/plain": [
       "[<matplotlib.lines.Line2D at 0x7ff3810b3550>]"
      ]
     },
     "execution_count": 97,
     "metadata": {},
     "output_type": "execute_result"
    },
    {
     "data": {
      "image/png": "[encoded data removed]",
      "text/plain": [
       "<Figure size 432x288 with 1 Axes>"
      ]
     },
     "metadata": {
      "needs_background": "light"
     },
     "output_type": "display_data"
    }
   ],
   "source": [
    "plt.plot(omega_cs/2/np.pi,gods)"
   ]
  },
  {
   "cell_type": "code",
   "execution_count": 99,
   "id": "feac2175",
   "metadata": {},
   "outputs": [
    {
     "data": {
      "text/plain": [
       "<matplotlib.legend.Legend at 0x7ff3811b9460>"
      ]
     },
     "execution_count": 99,
     "metadata": {},
     "output_type": "execute_result"
    },
    {
     "data": {
      "image/png": "[encoded data removed]",
      "text/plain": [
       "<Figure size 432x288 with 1 Axes>"
      ]
     },
     "metadata": {
      "needs_background": "light"
     },
     "output_type": "display_data"
    }
   ],
   "source": [
    "plt.plot(omega_cs/2/np.pi,(T1fs)/1e6,label= 'exact')\n",
    "# plt.plot(omega_cs/2/np.pi,1/(gods**2)*(γ_s/1e3),label = '$(Δ/g)^2 3μs$')\n",
    "plt.yscale('log')\n",
    "plt.title('1/f dephasing time')\n",
    "plt.ylabel('$T_\\phi(ms)$')\n",
    "plt.xlabel('$\\omega_c$')\n",
    "plt.legend()"
   ]
  },
  {
   "cell_type": "code",
   "execution_count": 234,
   "id": "4a549843",
   "metadata": {},
   "outputs": [
    {
     "data": {
      "text/plain": [
       "0.595799837476944"
      ]
     },
     "execution_count": 234,
     "metadata": {},
     "output_type": "execute_result"
    }
   ],
   "source": [
    "(1/(gods**2)*(γ_s/1e3))[300]"
   ]
  },
  {
   "cell_type": "code",
   "execution_count": 235,
   "id": "7c771e87",
   "metadata": {},
   "outputs": [
    {
     "data": {
      "text/plain": [
       "0.0633544757653835"
      ]
     },
     "execution_count": 235,
     "metadata": {},
     "output_type": "execute_result"
    }
   ],
   "source": [
    "gods[300]"
   ]
  },
  {
   "cell_type": "code",
   "execution_count": null,
   "id": "d1c97934",
   "metadata": {},
   "outputs": [],
   "source": []
  }
 ],
 "metadata": {
  "kernelspec": {
   "display_name": "Python 3 (ipykernel)",
   "language": "python",
   "name": "python3"
  },
  "language_info": {
   "codemirror_mode": {
    "name": "ipython",
    "version": 3
   },
   "file_extension": ".py",
   "mimetype": "text/x-python",
   "name": "python",
   "nbconvert_exporter": "python",
   "pygments_lexer": "ipython3",
   "version": "3.8.3"
  }
 },
 "nbformat": 4,
 "nbformat_minor": 5
}
