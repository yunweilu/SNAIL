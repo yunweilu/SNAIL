{
 "cells": [
  {
   "cell_type": "code",
   "execution_count": 17,
   "metadata": {},
   "outputs": [],
   "source": [
    "\n",
    "import sympy as sp\n",
    "from sympy import eye\n",
    "from sympy import symbols, Matrix\n",
    "# Define the symbols\n",
    "\n",
    "\n",
    "# Compute the fourth order energy correction for the ground state |0>\n",
    "\n",
    "def energy_sec(N):\n",
    "    E2_N = 0  # Initialize the fourth order correction\n",
    "    EN = ENN[N]\n",
    "    dim = len(ENN)\n",
    "    for m in range(dim):\n",
    "        if m != N:\n",
    "            VNm = V_ij[m, N]\n",
    "            if sp.im(VNm) != 0 and sp.re(VNm) == 0:  # Pure imaginary\n",
    "                VNm = sp.im(VNm)\n",
    "            E2_N = E2_N + (VNm**2/(EN - ENN[m])) \n",
    "    return E2_N\n",
    "\n",
    "def energy_four(N):\n",
    "    E4_N = 0  # Initialize the fourth order correction\n",
    "    EN = ENN[N]\n",
    "    dim = len(ENN)\n",
    "    for m in range(dim):\n",
    "        if m != N and V_ij[N, m] !=0 :\n",
    "            for p in range(dim):\n",
    "                if p != N and V_ij[m, p]!=0 :\n",
    "                    for l in range(dim):\n",
    "                        if l != N and V_ij[p, l]!=0 and V_ij[l, N]!=0:\n",
    "                            # Contribution from the main term\n",
    "                            E4_N += ((V_ij[N, m] * V_ij[m, p] * V_ij[p, l] * V_ij[l, N] /\n",
    "                                     ((EN - ENN[m]) * (EN - ENN[p]) * (EN - ENN[l]))))\n",
    "\n",
    "    for m in range(dim):\n",
    "        if m != N:\n",
    "            for p in range(dim):\n",
    "                if p != N:\n",
    "                    VNm = V_ij[N, m]\n",
    "                    VNp = V_ij[N, p]\n",
    "                    if VNm == 0 or VNp ==0:\n",
    "                        continue\n",
    "                    if sp.im(VNm) != 0 and sp.re(VNm) == 0:  # Pure imaginary\n",
    "                        VNm = sp.im(VNm)\n",
    "                    if sp.im(VNp) != 0 and sp.re(VNp) == 0:  # Pure imaginary    \n",
    "                        VNp = sp.im(VNp)\n",
    "                    E4_N = E4_N - ((VNm**2/(EN - ENN[m])**2) * (VNp**2/(EN - ENN[p])))\n",
    "    return E4_N\n"
   ]
  },
  {
   "cell_type": "code",
   "execution_count": 18,
   "metadata": {},
   "outputs": [],
   "source": [
    "from sympy.physics.quantum import TensorProduct\n",
    "from sympy import symbols, sqrt\n",
    "nc=5\n",
    "ac = sp.zeros(nc)\n",
    "acd = sp.zeros(nc)\n",
    "\n",
    "# Fill the matrices using sympy functions\n",
    "for i in range(nc-1):\n",
    "    ac[i, i+1] = sqrt(i+1)\n",
    "    acd[i+1, i] = sqrt(i+1)\n"
   ]
  },
  {
   "cell_type": "code",
   "execution_count": 19,
   "metadata": {},
   "outputs": [],
   "source": [
    "omega1, omega2 , omegac,  = symbols('omega_1 omega_2 omega_c', real=True)\n",
    "alpha1, alpha2 , alpha3,  = symbols('alpha_1 alpha_2 alpha_c', real=True)\n",
    "delta = symbols('delta',real = True)\n",
    "chi12, chi2c, chi1c = symbols('chi_12 chi_2c chi_1c', real=True)\n",
    "A = symbols('A', real=True)\n",
    "\n",
    "n1=5\n",
    "n2 = 5"
   ]
  },
  {
   "cell_type": "code",
   "execution_count": 20,
   "metadata": {},
   "outputs": [],
   "source": [
    "Vc = A/2*(ac+acd)\n",
    "Vc = TensorProduct(Vc,eye(n2))\n",
    "V_ij = TensorProduct(Vc,eye(n1))"
   ]
  },
  {
   "cell_type": "code",
   "execution_count": 21,
   "metadata": {},
   "outputs": [],
   "source": [
    "\n",
    "\n",
    "ENN = [\n",
    "    i*omega1 +j*omega2+l*delta + i*(i-1) * alpha1 / 2 + j*(j-1) * alpha2 / 2 + l*(l-1) * alpha3 / 2 +chi12*i*j + chi1c*i*l + chi2c*j*l\n",
    "    for l in range(nc)\n",
    "    for j in range(n2)\n",
    "    for i in range(n1)\n",
    "]"
   ]
  },
  {
   "cell_type": "code",
   "execution_count": 22,
   "metadata": {},
   "outputs": [],
   "source": [
    "E01 = (energy_sec(1)-energy_sec(0)).expand().simplify()"
   ]
  },
  {
   "cell_type": "code",
   "execution_count": 23,
   "metadata": {},
   "outputs": [],
   "source": [
    "E10 =(energy_sec(5)-energy_sec(0)).expand().simplify()"
   ]
  },
  {
   "cell_type": "code",
   "execution_count": 24,
   "metadata": {},
   "outputs": [],
   "source": [
    "E11 = (energy_sec(6)-energy_sec(0)).expand().simplify()"
   ]
  },
  {
   "cell_type": "code",
   "execution_count": 25,
   "metadata": {},
   "outputs": [
    {
     "data": {
      "text/latex": [
       "$\\displaystyle - \\frac{A^{2} \\chi_{1c}}{4 \\delta \\left(\\chi_{1c} + \\delta\\right)} - \\frac{A^{2} \\chi_{2c}}{4 \\delta \\left(\\chi_{2c} + \\delta\\right)} + \\frac{A^{2} \\left(\\chi_{1c} + \\chi_{2c}\\right)}{4 \\delta \\left(\\chi_{1c} + \\chi_{2c} + \\delta\\right)}$"
      ],
      "text/plain": [
       "-A**2*chi_1c/(4*delta*(chi_1c + delta)) - A**2*chi_2c/(4*delta*(chi_2c + delta)) + A**2*(chi_1c + chi_2c)/(4*delta*(chi_1c + chi_2c + delta))"
      ]
     },
     "execution_count": 25,
     "metadata": {},
     "output_type": "execute_result"
    }
   ],
   "source": [
    "(E11 - E01 - E10)"
   ]
  },
  {
   "cell_type": "code",
   "execution_count": 26,
   "metadata": {},
   "outputs": [
    {
     "data": {
      "text/latex": [
       "$\\displaystyle \\frac{A^{2} \\chi_{1c}}{4 \\delta \\left(\\chi_{1c} + \\delta\\right)}$"
      ],
      "text/plain": [
       "A**2*chi_1c/(4*delta*(chi_1c + delta))"
      ]
     },
     "execution_count": 26,
     "metadata": {},
     "output_type": "execute_result"
    }
   ],
   "source": [
    "E01"
   ]
  },
  {
   "cell_type": "code",
   "execution_count": 27,
   "metadata": {},
   "outputs": [],
   "source": [
    "E014 = (energy_four(1)-energy_four(0))+E01\n",
    "E104 = (energy_four(5)-energy_four(0))+E10"
   ]
  },
  {
   "cell_type": "code",
   "execution_count": 28,
   "metadata": {},
   "outputs": [
    {
     "data": {
      "text/latex": [
       "$\\displaystyle \\frac{A^{4}}{8 \\left(- \\chi_{1c} - \\delta\\right)^{2} \\left(- \\alpha_{c} - 2 \\chi_{1c} - 2 \\delta\\right)} - \\frac{A^{4}}{16 \\left(- \\chi_{1c} - \\delta\\right)^{3}} - \\frac{A^{4}}{8 \\delta^{2} \\left(- \\alpha_{c} - 2 \\delta\\right)} - \\frac{A^{4}}{16 \\delta^{3}} + \\frac{A^{2} \\chi_{1c}}{4 \\delta \\left(\\chi_{1c} + \\delta\\right)}$"
      ],
      "text/plain": [
       "A**4/(8*(-chi_1c - delta)**2*(-alpha_c - 2*chi_1c - 2*delta)) - A**4/(16*(-chi_1c - delta)**3) - A**4/(8*delta**2*(-alpha_c - 2*delta)) - A**4/(16*delta**3) + A**2*chi_1c/(4*delta*(chi_1c + delta))"
      ]
     },
     "execution_count": 28,
     "metadata": {},
     "output_type": "execute_result"
    }
   ],
   "source": [
    "E014"
   ]
  },
  {
   "cell_type": "code",
   "execution_count": 29,
   "metadata": {},
   "outputs": [
    {
     "data": {
      "text/latex": [
       "$\\displaystyle \\frac{A^{4}}{8 \\left(- \\chi_{2c} - \\delta\\right)^{2} \\left(- \\alpha_{c} - 2 \\chi_{2c} - 2 \\delta\\right)} - \\frac{A^{4}}{16 \\left(- \\chi_{2c} - \\delta\\right)^{3}} - \\frac{A^{4}}{8 \\delta^{2} \\left(- \\alpha_{c} - 2 \\delta\\right)} - \\frac{A^{4}}{16 \\delta^{3}} + \\frac{A^{2} \\chi_{2c}}{4 \\delta \\left(\\chi_{2c} + \\delta\\right)}$"
      ],
      "text/plain": [
       "A**4/(8*(-chi_2c - delta)**2*(-alpha_c - 2*chi_2c - 2*delta)) - A**4/(16*(-chi_2c - delta)**3) - A**4/(8*delta**2*(-alpha_c - 2*delta)) - A**4/(16*delta**3) + A**2*chi_2c/(4*delta*(chi_2c + delta))"
      ]
     },
     "execution_count": 29,
     "metadata": {},
     "output_type": "execute_result"
    }
   ],
   "source": [
    "E104"
   ]
  },
  {
   "cell_type": "code",
   "execution_count": 30,
   "metadata": {},
   "outputs": [],
   "source": [
    "import qutip as qt"
   ]
  },
  {
   "cell_type": "code",
   "execution_count": 31,
   "metadata": {},
   "outputs": [],
   "source": [
    "qt.qsave([E104,E014],'expr')"
   ]
  }
 ],
 "metadata": {
  "kernelspec": {
   "display_name": "flux",
   "language": "python",
   "name": "python3"
  },
  "language_info": {
   "codemirror_mode": {
    "name": "ipython",
    "version": 3
   },
   "file_extension": ".py",
   "mimetype": "text/x-python",
   "name": "python",
   "nbconvert_exporter": "python",
   "pygments_lexer": "ipython3",
   "version": "3.12.2"
  }
 },
 "nbformat": 4,
 "nbformat_minor": 2
}
