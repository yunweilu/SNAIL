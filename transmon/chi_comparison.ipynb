{
 "cells": [
  {
   "cell_type": "code",
   "execution_count": 76,
   "metadata": {},
   "outputs": [],
   "source": [
    "import numpy as np\n",
    "import matplotlib.pyplot as plt\n",
    "from scipy.linalg import eigh\n",
    "# Parameters\n",
    "def state_index(index,dim):\n",
    "    n,k = index\n",
    "    N,K = dim\n",
    "    return n*K+k\n",
    "def annihilation(d):\n",
    "    return np.diag(np.sqrt(np.arange(1, d)), 1)\n",
    "\n",
    "def creation(d):\n",
    "    return annihilation(d).T\n",
    "\n",
    "def sort_eigenpairs(eigenvalues, eigenvectors):\n",
    "    n = eigenvectors.shape[0]\n",
    "    sorted_indices = []\n",
    "\n",
    "    for i in range(n):\n",
    "        max_abs_vals = np.abs(eigenvectors[i, :])\n",
    "        max_index = np.argmax(max_abs_vals)\n",
    "        while max_index in sorted_indices:\n",
    "            max_abs_vals[max_index] = -np.inf\n",
    "            max_index = np.argmax(max_abs_vals)\n",
    "        sorted_indices.append(max_index)\n",
    "\n",
    "    sorted_eigenvalues = eigenvalues[sorted_indices]\n",
    "    sorted_eigenvectors = eigenvectors[:, sorted_indices]\n",
    "\n",
    "    return sorted_eigenvalues, sorted_eigenvectors\n",
    "\n",
    "def floquetapp(omega3):\n",
    "    d1 = d2 = 5\n",
    "    omega1 = 5 * 2 * np.pi\n",
    "    g4 = -0.14 * 2 * np.pi / 12\n",
    "    g13 = 0.11 * 2 * np.pi\n",
    "\n",
    "    # Create operators\n",
    "    a1, a3 = [annihilation(d) for d in (d1, d2)]\n",
    "    a1d, a3d = [creation(d) for d in (d1, d2)]\n",
    "    I1,  I3 = [np.eye(d) for d in (d1, d2)]\n",
    "\n",
    "    # Construct Hamiltonians\n",
    "    H1 = omega1 * a1d @ a1 \n",
    "    # H3 = omega3 * a3d @ a3 + 6*g4*a3d@a3d@a3@a3\n",
    "    H3 = omega3 * a3d @ a3 + g4*(a3d+a3)@(a3d+a3)@(a3d+a3)@(a3d+a3)\n",
    "    H1 = np.kron(I3, H1)\n",
    "    H3 = np.kron(H3, I1)\n",
    "\n",
    "\n",
    "    # Hint13 = g13 * (np.kron(a3d + a3,  a1d + a1))\n",
    "    Hint13 = g13*(np.kron(a3d,a1)+np.kron(a3,a1d))\n",
    "    # Total Hamiltonian\n",
    "    H = H1 + H3 + Hint13\n",
    "    \n",
    "\n",
    "    # Diagonalize\n",
    "    eigenvalues, _ = eigh(H)\n",
    "    eigenvalues -= eigenvalues[0]\n",
    "    eigenvalues,_ = sort_eigenpairs(eigenvalues,_) \n",
    "    dim = [5,5]\n",
    "    index01 = state_index([0,1],dim)\n",
    "    index10 = state_index([1,0],dim)\n",
    "    index11 = state_index([1,1],dim)\n",
    "\n",
    "\n",
    "    \n",
    "    chi12 = eigenvalues[index11]-eigenvalues[index10]-eigenvalues[index01]\n",
    "    return chi12"
   ]
  },
  {
   "cell_type": "code",
   "execution_count": 77,
   "metadata": {},
   "outputs": [
    {
     "data": {
      "text/plain": [
       "-0.0064938378984180645"
      ]
     },
     "execution_count": 77,
     "metadata": {},
     "output_type": "execute_result"
    }
   ],
   "source": [
    "omega3 = 7*2*np.pi\n",
    "floquetapp(omega3)"
   ]
  },
  {
   "cell_type": "code",
   "execution_count": 78,
   "metadata": {},
   "outputs": [],
   "source": [
    "omega1 = 5 * 2 * np.pi\n",
    "delta1 = -0.24 * 2 * np.pi\n",
    "g4 = -0.14 * 2 * np.pi / 12\n",
    "g13 = 0.11 * 2 * np.pi"
   ]
  },
  {
   "cell_type": "code",
   "execution_count": 81,
   "metadata": {},
   "outputs": [
    {
     "data": {
      "text/plain": [
       "-0.006842388799518571"
      ]
     },
     "execution_count": 81,
     "metadata": {},
     "output_type": "execute_result"
    }
   ],
   "source": [
    "anh = -0.14 * 2 * np.pi\n",
    "(g13 / (omega3-omega1))**2*anh*2+ 2*anh/omega3*g13**2/(omega3-omega1)"
   ]
  },
  {
   "cell_type": "code",
   "execution_count": null,
   "metadata": {},
   "outputs": [],
   "source": []
  }
 ],
 "metadata": {
  "kernelspec": {
   "display_name": "fluxonium",
   "language": "python",
   "name": "python3"
  },
  "language_info": {
   "codemirror_mode": {
    "name": "ipython",
    "version": 3
   },
   "file_extension": ".py",
   "mimetype": "text/x-python",
   "name": "python",
   "nbconvert_exporter": "python",
   "pygments_lexer": "ipython3",
   "version": "3.11.8"
  }
 },
 "nbformat": 4,
 "nbformat_minor": 2
}
