{
 "cells": [
  {
   "cell_type": "code",
   "execution_count": 20,
   "metadata": {},
   "outputs": [],
   "source": [
    "import sympy as sp\n",
    "\n",
    "def commutator(A, B):\n",
    "    return A * B - B * A\n",
    "\n",
    "def nested_commutator(A, B, n):\n",
    "    if n == 1:\n",
    "        return commutator(A, B)\n",
    "    else:\n",
    "        return commutator(A, nested_commutator(A, B, n-1))\n",
    "def each_level_its_own_subspace(dim):\n",
    "    \"\"\"\n",
    "    Obtain the indices of the subspace to consider.\n",
    "\n",
    "    Args:\n",
    "        dim (int): The dimension of the subspace.\n",
    "\n",
    "    Returns:\n",
    "        list: A list of lists, each containing a single index of the subspace to consider.\n",
    "    \"\"\"\n",
    "    # Define the indices of the subspace to consider\n",
    "    subspace_indices = [[i] for i in range(dim)]\n",
    "    return subspace_indices\n",
    "\n",
    "def create_subspace_projectors(dim, subspace_indices):\n",
    "    \"\"\"\n",
    "    Create projectors for the given subspaces using SymPy.\n",
    "\n",
    "    Args:\n",
    "        dim (int): The total dimension of the Hilbert space.\n",
    "        subspace_indices (list): A list of lists, each containing the indices of a subspace.\n",
    "\n",
    "    Returns:\n",
    "        list: A list of projectors (SymPy matrices) for the given subspaces.\n",
    "    \"\"\"\n",
    "    projectors = []\n",
    "    \n",
    "    for subspace in subspace_indices:\n",
    "        # Initialize the projector matrix P as a zero matrix of size dim x dim\n",
    "        P = sp.zeros(dim, dim)\n",
    "        \n",
    "        # Create the basis states and compute the projector for each index in the subspace\n",
    "        for idx in subspace:\n",
    "            # Create a basis state (column vector) with 1 at the index 'idx'\n",
    "            state = sp.zeros(dim, 1)\n",
    "            state[idx, 0] = 1\n",
    "            \n",
    "            # Compute the rank-1 projector for this basis state: |state><state|\n",
    "            P += state * state.T  # Outer product in SymPy is `*`\n",
    "        \n",
    "        # Add the projector to the list\n",
    "        projectors.append(P)\n",
    "    \n",
    "    return projectors\n",
    "\n",
    "def swt_subspace(H0, V, subspace_indices):\n",
    "    \"\"\"\n",
    "    Compute the Schrieffer-Wolff transformation on a subspace of the Hamiltonian.\n",
    "\n",
    "    Args:\n",
    "        H0 (sp.Matrix): The unperturbed Hamiltonian.\n",
    "        V (sp.Matrix): The perturbation Hamiltonian.\n",
    "        subspace_indices (list): The indices of the subspace to consider.\n",
    "\n",
    "    Returns:\n",
    "        tuple: The Schrieffer-Wolff transformation operators (S1, S2, S3) and \n",
    "               the transformed Hamiltonian components (H1, H2, H3, H4).\n",
    "    \"\"\"\n",
    "    dim = H0.shape[0]\n",
    "    projectors = create_subspace_projectors(dim, subspace_indices)\n",
    "    Vd = sp.zeros(dim, dim)\n",
    "    for P in projectors:\n",
    "        Vd += P * V * P\n",
    "    Vod = V - Vd\n",
    "    # Compute the energy differences in the subspace\n",
    "    delta = sp.Matrix([[H0[i,i] - H0[j,j] if i != j else 1 for j in range(dim)] for i in range(dim)])\n",
    "\n",
    "    # Compute the Schrieffer-Wolff transformation components\n",
    "    H1 = Vd\n",
    "    S1 = sp.Matrix([[Vod[i,j] / delta[i,j] for j in range(dim)] for i in range(dim)])\n",
    "    H2 = sp.Rational(1, 2) * commutator(S1, Vod)\n",
    "    \n",
    "    # S2 = sp.Matrix([[-commutator(Vd, S1)[i,j] / delta[i,j] for j in range(dim)] for i in range(dim)])\n",
    "    # H3 = sp.Rational(1, 2) * commutator(S2, Vod)\n",
    "    # S3 = sp.Matrix([[(commutator(S2, Vd)[i,j] + sp.Rational(1, 3) * nested_commutator(S1, Vod, 2)[i,j]) / delta[i,j] for j in range(dim)] for i in range(dim)])\n",
    "    # H4 = sp.Rational(1, 2) * commutator(S3, Vod) - sp.Rational(1, 24) * nested_commutator(S1, Vod, 3)\n",
    "\n",
    "    return [S1], [H1, H2,]"
   ]
  },
  {
   "cell_type": "code",
   "execution_count": 43,
   "metadata": {},
   "outputs": [],
   "source": [
    "from sympy.physics.quantum import TensorProduct\n",
    "from sympy import symbols, sqrt\n",
    "nq = 10\n",
    "nc = 10\n",
    "ac = sp.zeros(nc)\n",
    "acd = sp.zeros(nc)\n",
    "\n",
    "# Fill the matrices using sympy functions\n",
    "for i in range(nc-1):\n",
    "    ac[i, i+1] = sqrt(i+1)\n",
    "    acd[i+1, i] = sqrt(i+1)\n"
   ]
  },
  {
   "cell_type": "code",
   "execution_count": 44,
   "metadata": {},
   "outputs": [],
   "source": [
    "omegaq, omegac,  = symbols('omega_q omega_a', real=True)\n",
    "alphaq  = symbols('alpha_q', real=True)\n",
    "g = symbols('g', real=True)\n",
    "delta = symbols('delta', real=True)\n",
    "A = symbols('A', real=True)\n"
   ]
  },
  {
   "cell_type": "code",
   "execution_count": 45,
   "metadata": {},
   "outputs": [],
   "source": [
    "V = g*(TensorProduct(ac,acd)+TensorProduct(acd,ac))\n",
    "\n",
    "ENN = [\n",
    "    l*delta + i*omegac\n",
    "    for l in range(nc)\n",
    "    for i in range(nq)\n",
    "]\n"
   ]
  },
  {
   "cell_type": "code",
   "execution_count": 46,
   "metadata": {},
   "outputs": [],
   "source": [
    "H0 = sp.diag(*ENN)"
   ]
  },
  {
   "cell_type": "code",
   "execution_count": 47,
   "metadata": {},
   "outputs": [],
   "source": [
    "acp  = TensorProduct(ac, sp.eye(nc)) + g/(omegac -omegaq)*TensorProduct(sp.eye(nq), ac)\n",
    "acdp = acp.transpose()\n",
    "V = sp.Rational(1,2)*A*(acp**2+acdp**2)"
   ]
  },
  {
   "cell_type": "code",
   "execution_count": 48,
   "metadata": {},
   "outputs": [],
   "source": [
    "indices = each_level_its_own_subspace(nq*nc)"
   ]
  },
  {
   "cell_type": "code",
   "execution_count": 49,
   "metadata": {},
   "outputs": [],
   "source": [
    "H2 = swt_subspace(H0, V, indices)[1][1]"
   ]
  },
  {
   "cell_type": "code",
   "execution_count": 50,
   "metadata": {},
   "outputs": [
    {
     "data": {
      "text/latex": [
       "$\\displaystyle - \\frac{A^{2} g^{2}}{\\left(\\delta + \\omega_{a}\\right) \\left(\\omega_{a} - \\omega_{q}\\right)^{2}}$"
      ],
      "text/plain": [
       "-A**2*g**2/((delta + omega_a)*(omega_a - omega_q)**2)"
      ]
     },
     "execution_count": 50,
     "metadata": {},
     "output_type": "execute_result"
    }
   ],
   "source": [
    "((H2[1,1] - H2[0,0]).args[1]+(H2[1,1] - H2[0,0]).args[0]).simplify()"
   ]
  },
  {
   "cell_type": "code",
   "execution_count": null,
   "metadata": {},
   "outputs": [],
   "source": []
  },
  {
   "cell_type": "code",
   "execution_count": null,
   "metadata": {},
   "outputs": [],
   "source": []
  }
 ],
 "metadata": {
  "kernelspec": {
   "display_name": "fluxonium",
   "language": "python",
   "name": "python3"
  },
  "language_info": {
   "codemirror_mode": {
    "name": "ipython",
    "version": 3
   },
   "file_extension": ".py",
   "mimetype": "text/x-python",
   "name": "python",
   "nbconvert_exporter": "python",
   "pygments_lexer": "ipython3",
   "version": "3.11.8"
  }
 },
 "nbformat": 4,
 "nbformat_minor": 2
}
