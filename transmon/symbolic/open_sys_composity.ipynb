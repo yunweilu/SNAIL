{
 "cells": [
  {
   "cell_type": "code",
   "execution_count": 1,
   "metadata": {},
   "outputs": [],
   "source": [
    "\n",
    "import sympy as sp\n",
    "from sympy import eye\n",
    "from sympy import symbols, Matrix\n",
    "# Define the symbols\n",
    "\n",
    "\n",
    "# Compute the fourth order energy correction for the ground state |0>\n",
    "\n",
    "def energy_sec(N):\n",
    "    E2_N = 0  # Initialize the fourth order correction\n",
    "    EN = ENN[N]\n",
    "    dim = len(ENN)\n",
    "    for m in range(dim):\n",
    "        if m != N:\n",
    "            VNm = V_ij[m, N]\n",
    "            if sp.im(VNm) != 0 and sp.re(VNm) == 0:  # Pure imaginary\n",
    "                VNm = sp.im(VNm)\n",
    "            E2_N = E2_N + (VNm**2/(EN - ENN[m])) \n",
    "    return E2_N\n",
    "\n",
    "def energy_four(N):\n",
    "    E4_N = 0  # Initialize the fourth order correction\n",
    "    EN = ENN[N]\n",
    "    dim = len(ENN)\n",
    "    for m in range(dim):\n",
    "        if m != N and V_ij[N, m] !=0 :\n",
    "            for p in range(dim):\n",
    "                if p != N and V_ij[m, p]!=0 :\n",
    "                    for l in range(dim):\n",
    "                        if l != N and V_ij[p, l]!=0 and V_ij[l, N]!=0:\n",
    "                            # Contribution from the main term\n",
    "                            E4_N += ((V_ij[N, m] * V_ij[m, p] * V_ij[p, l] * V_ij[l, N] /\n",
    "                                     ((EN - ENN[m]) * (EN - ENN[p]) * (EN - ENN[l]))))\n",
    "\n",
    "    for m in range(dim):\n",
    "        if m != N:\n",
    "            for p in range(dim):\n",
    "                if p != N:\n",
    "                    VNm = V_ij[N, m]\n",
    "                    VNp = V_ij[N, p]\n",
    "                    if VNm == 0 or VNp ==0:\n",
    "                        continue\n",
    "                    if sp.im(VNm) != 0 and sp.re(VNm) == 0:  # Pure imaginary\n",
    "                        VNm = sp.im(VNm)\n",
    "                    if sp.im(VNp) != 0 and sp.re(VNp) == 0:  # Pure imaginary    \n",
    "                        VNp = sp.im(VNp)\n",
    "                    E4_N = E4_N - ((VNm**2/(EN - ENN[m])**2) * (VNp**2/(EN - ENN[p])))\n",
    "    return E4_N\n"
   ]
  },
  {
   "cell_type": "code",
   "execution_count": 2,
   "metadata": {},
   "outputs": [],
   "source": [
    "import sympy as sp\n",
    "\n",
    "def state_first_order(N):\n",
    "    \"\"\"\n",
    "    Computes the first-order correction to the N-th unperturbed state\n",
    "    in standard non-degenerate perturbation theory.\n",
    "    \"\"\"\n",
    "    dim = len(ENN)\n",
    "    psi_corr_1 = [0]*dim\n",
    "    E_n0 = ENN[N]\n",
    "\n",
    "    for m in range(dim):\n",
    "        if m != N:\n",
    "            VNm = V_ij[m, N]\n",
    "            if sp.im(VNm) != 0 and sp.re(VNm) == 0:\n",
    "                VNm = sp.im(VNm)\n",
    "            denominator = E_n0 - ENN[m]\n",
    "            psi_corr_1[m] = VNm / denominator\n",
    "        else:\n",
    "            psi_corr_1[m] = 0\n",
    "    return psi_corr_1\n",
    "\n",
    "\n",
    "def state_second_order(N):\n",
    "    \"\"\"\n",
    "    Computes the second-order correction to the N-th unperturbed state\n",
    "    in standard non-degenerate perturbation theory, *including* the\n",
    "    usual normalization piece along the unperturbed state |n^(0)>.\n",
    "    \"\"\"\n",
    "    # --- 1) Get the first-order wavefunction ---\n",
    "    psi_corr_1 = state_first_order(N)\n",
    "    \n",
    "    dim = len(ENN)\n",
    "    psi_corr_2 = [0]*dim\n",
    "    E_n0 = ENN[N]\n",
    "\n",
    "    # --- 2) Compute the \"bare\" second-order part ---\n",
    "    #     (psi_n^(2))_m = <m| V | psi_n^(1)> / [E_n^(0) - E_m^(0)], for m != n\n",
    "    for m in range(dim):\n",
    "        if m != N:\n",
    "            sum_m = 0\n",
    "            for k in range(dim):\n",
    "                Vmk = V_ij[m, k]\n",
    "                if sp.im(Vmk) != 0 and sp.re(Vmk) == 0:\n",
    "                    Vmk = sp.im(Vmk)\n",
    "                sum_m += Vmk * psi_corr_1[k]\n",
    "            psi_corr_2[m] = sum_m / (E_n0 - ENN[m])\n",
    "        else:\n",
    "            psi_corr_2[m] = 0\n",
    "\n",
    "    # --- 3) Add the normalization term along |n^(0)> ---\n",
    "    #  The standard formula includes a piece:  - (1/2) |n^(0)> * SUM_{k != n} [ |V_{k,n}|^2 / (E_n0 - E_k0)^2 ]\n",
    "    #  We'll compute that sum here and put it into psi_corr_2[N].\n",
    "    norm_sum = 0\n",
    "    for k in range(dim):\n",
    "        if k != N:\n",
    "            Vkn = V_ij[k, N]\n",
    "            # If purely imaginary, keep the real coefficient\n",
    "            if sp.im(Vkn) != 0 and sp.re(Vkn) == 0:\n",
    "                Vkn = sp.im(Vkn)\n",
    "            # We'll treat 'Vkn' potentially as complex and do |Vkn|^2:\n",
    "            norm_sum += (Vkn * sp.conjugate(Vkn)) / (E_n0 - ENN[k])**2\n",
    "\n",
    "    # This gets multiplied by -1/2, and placed in the coefficient for m = n\n",
    "    psi_corr_2[N] = -0.5 * norm_sum\n",
    "\n",
    "    return psi_corr_2\n",
    "\n",
    "\n",
    "\n",
    "import sympy as sp\n",
    "\n",
    "def state_first_order(N):\n",
    "    \"\"\"\n",
    "    First-order wavefunction correction with no extra normalization piece.\n",
    "    \"\"\"\n",
    "    dim = len(ENN)\n",
    "    psi_corr_1 = [0]*dim\n",
    "    E_n0 = ENN[N]\n",
    "\n",
    "    for m in range(dim):\n",
    "        if m != N:\n",
    "            VNm = V_ij[m, N]\n",
    "            if sp.im(VNm) != 0 and sp.re(VNm) == 0:\n",
    "                VNm = sp.im(VNm)\n",
    "            denominator = E_n0 - ENN[m]\n",
    "            psi_corr_1[m] = VNm / denominator\n",
    "        else:\n",
    "            psi_corr_1[m] = 0\n",
    "    return psi_corr_1\n",
    "\n",
    "def state_second_order(N):\n",
    "    \"\"\"\n",
    "    Second-order wavefunction correction *including* the usual\n",
    "    'normalization' piece along |n^(0)>.\n",
    "    \"\"\"\n",
    "    psi_corr_1 = state_first_order(N)\n",
    "    dim = len(ENN)\n",
    "    psi_corr_2 = [0]*dim\n",
    "    E_n0 = ENN[N]\n",
    "\n",
    "    # --- \"Bare\" part ---\n",
    "    for m in range(dim):\n",
    "        if m != N:\n",
    "            sum_m = 0\n",
    "            for k in range(dim):\n",
    "                Vmk = V_ij[m, k]\n",
    "                if sp.im(Vmk) != 0 and sp.re(Vmk) == 0:\n",
    "                    Vmk = sp.im(Vmk)\n",
    "                sum_m += Vmk * psi_corr_1[k]\n",
    "            psi_corr_2[m] = sum_m / (E_n0 - ENN[m])\n",
    "        else:\n",
    "            psi_corr_2[m] = 0\n",
    "\n",
    "    # --- Normalization piece: - 1/2 sum_{k != n} |V_{k,n}|^2 / (E_n0 - E_k0)^2\n",
    "    norm_sum = 0\n",
    "    for k in range(dim):\n",
    "        if k != N:\n",
    "            Vkn = V_ij[k, N]\n",
    "            if sp.im(Vkn) != 0 and sp.re(Vkn) == 0:\n",
    "                Vkn = sp.im(Vkn)\n",
    "            norm_sum += (Vkn * sp.conjugate(Vkn)) / (E_n0 - ENN[k])**2\n",
    "\n",
    "    psi_corr_2[N] = - sp.Rational(1, 2) * norm_sum\n",
    "\n",
    "    return psi_corr_2\n",
    "\n",
    "import sympy as sp\n",
    "\n",
    "def state_third_order(N):\n",
    "    \"\"\"\n",
    "    Hard-coded third-order wavefunction correction |n^(3)|, simplified:\n",
    "\n",
    "    1) The triple-sum term:\n",
    "       - sum_{k2!=n, k3!=n} [ V_{k1,k2} * V_{k2,k3} * V_{k3,n}\n",
    "                             / ( (E_{k1}-E_n)*(E_n-E_{k2})*(E_n-E_{k3}) ) ]\n",
    "    2) The single-sum term you noted:\n",
    "       + sum_{k2!=n} [ |V_{n,k2}|^2 * V_{k1,n} / ( E_{k1,n} * E_{n,k2} )\n",
    "                      * ( 1/E_{n,k1} + 1/(2 * E_{n,k2}) ) ]\n",
    "\n",
    "    We set (psi_n^(3))_n = 0 (no diagonal piece / normalization piece).\n",
    "    We also assume v_nn = 0 is ignored.\n",
    "    \"\"\"\n",
    "    dim = len(ENN)\n",
    "    psi_corr_3 = [0]*dim\n",
    "    E_n0 = ENN[N]\n",
    "\n",
    "    # Helper for denominators: E(a,b) = E_a^(0) - E_b^(0)\n",
    "    def E_nk(a, b):\n",
    "        return ENN[a] - ENN[b]\n",
    "\n",
    "    for k1 in range(dim):\n",
    "        if k1 == N:\n",
    "            continue  # skip diagonal for the \"bare\" portion\n",
    "\n",
    "        bracket_k1 = 0\n",
    "\n",
    "        # -------------------------------------------------------\n",
    "        # 1) The triple-sum term:\n",
    "        #    - sum_{k2!=n, k3!=n} [ V_{k1,k2} V_{k2,k3} V_{k3,n}\n",
    "        #      / ( (E_{k1}-E_n)*(E_n-E_{k2})*(E_n-E_{k3}) ) ]\n",
    "        # -------------------------------------------------------\n",
    "        for k2 in range(dim):\n",
    "            if k2 == N:\n",
    "                continue\n",
    "            for k3 in range(dim):\n",
    "                if k3 == N:\n",
    "                    continue\n",
    "\n",
    "                V_k1k2 = V_ij[k1, k2]\n",
    "                V_k2k3 = V_ij[k2, k3]\n",
    "                V_k3n  = V_ij[k3, N]\n",
    "\n",
    "                # If purely imaginary in Sympy, extract the real-imag part\n",
    "                if sp.im(V_k1k2) != 0 and sp.re(V_k1k2) == 0:\n",
    "                    V_k1k2 = sp.im(V_k1k2)\n",
    "                if sp.im(V_k2k3) != 0 and sp.re(V_k2k3) == 0:\n",
    "                    V_k2k3 = sp.im(V_k2k3)\n",
    "                if sp.im(V_k3n)  != 0 and sp.re(V_k3n)  == 0:\n",
    "                    V_k3n  = sp.im(V_k3n)\n",
    "\n",
    "                denom_triple = ( E_nk(k1, N) *  # (E_{k1}-E_n)\n",
    "                                 E_nk(N, k2) *  # (E_n - E_{k2})\n",
    "                                 E_nk(N, k3) ) # (E_n - E_{k3})\n",
    "\n",
    "                term_triple = - (V_k1k2 * V_k2k3 * V_k3n) / denom_triple\n",
    "                bracket_k1 += term_triple\n",
    "\n",
    "        # -------------------------------------------------------\n",
    "        # 2) The single-sum term:\n",
    "        #    + sum_{k2!=n} [ |V_{n,k2}|^2 * V_{k1,n} / ( E_{k1,n} * E_{n,k2} )\n",
    "        #                     * ( 1/E_{k1,n} + 1/(2 E_{n,k2}) ) ]\n",
    "        # -------------------------------------------------------\n",
    "        for k2 in range(dim):\n",
    "            if k2 == N:\n",
    "                continue\n",
    "\n",
    "            # |V_{n,k2}|^2\n",
    "            V_nk2 = V_ij[N, k2]\n",
    "            if sp.im(V_nk2) != 0 and sp.re(V_nk2) == 0:\n",
    "                V_nk2 = sp.im(V_nk2)\n",
    "            square_nk2 = V_nk2 * sp.conjugate(V_nk2)\n",
    "\n",
    "            V_k1n = V_ij[k1, N]\n",
    "            if sp.im(V_k1n) != 0 and sp.re(V_k1n) == 0:\n",
    "                V_k1n = sp.im(V_k1n)\n",
    "\n",
    "            ek1n  = E_nk(k1, N)   # (E_{k1} - E_n)\n",
    "            enk2  = E_nk(N, k2)   # (E_n - E_{k2})\n",
    "\n",
    "            # ( 1/ek1n + 1/(2 * enk2) )\n",
    "            factor = (1/ek1n) \n",
    "\n",
    "            denom_single = ek1n * enk2  # E_{k1,n} * E_{n,k2}\n",
    "            term_single = ( square_nk2 * V_k1n / denom_single ) * factor\n",
    "\n",
    "            bracket_k1 += term_single\n",
    "\n",
    "        # Finally store sum of both terms in psi_corr_3\n",
    "        psi_corr_3[k1] = bracket_k1\n",
    "\n",
    "    # The coefficient along |n^(0)| is set to zero\n",
    "    psi_corr_3[N] = 0\n",
    "\n",
    "    return psi_corr_3\n",
    "\n",
    "# def energy_fourth_order(N):\n",
    "#     psi_corr_3 = state_third_order(N)  # fully orthogonal \n",
    "#     dim = len(ENN)  # number of basis states\n",
    "#     psi0 = [0]*dim\n",
    "#     psi0[N] = 1\n",
    "#     # compute val = <n^(0)| V | n^(3)>\n",
    "#     val = 0\n",
    "#     for i in range(dim):\n",
    "#         for j in range(dim):\n",
    "#             val += sp.conjugate(psi0[i]) * V_ij[i,j] * psi_corr_3[j]\n",
    "#     E4 = val \n",
    "#     return E4\n"
   ]
  },
  {
   "cell_type": "code",
   "execution_count": 3,
   "metadata": {},
   "outputs": [],
   "source": [
    "from sympy.physics.quantum import TensorProduct\n",
    "from sympy import symbols, sqrt\n",
    "nc=5\n",
    "ac = sp.zeros(nc)\n",
    "acd = sp.zeros(nc)\n",
    "\n",
    "# Fill the matrices using sympy functions\n",
    "for i in range(nc-1):\n",
    "    ac[i, i+1] = sqrt(i+1)\n",
    "    acd[i+1, i] = sqrt(i+1)\n"
   ]
  },
  {
   "cell_type": "code",
   "execution_count": 4,
   "metadata": {},
   "outputs": [],
   "source": [
    "omega1, omega2 , omegac,  = symbols('omega_q omega_2 omega_a', real=True)\n",
    "alpha1, alpha2 , alpha3,  = symbols('alpha_q alpha_2 K_a', real=True)\n",
    "delta = symbols('delta',real = True)\n",
    "chi12, chi2c, chi1c = symbols('chi_12 chi_2c chi', real=True)\n",
    "A = symbols('A', real=True)\n",
    "\n",
    "n1 = 5\n",
    "n2 = 5"
   ]
  },
  {
   "cell_type": "code",
   "execution_count": 5,
   "metadata": {},
   "outputs": [],
   "source": [
    "Vc = A/2*(ac+acd)\n",
    "V_ij = TensorProduct(Vc, sp.eye(n2))\n",
    "\n",
    "ENN = [\n",
    "    i*omega1 + l*delta + i*(i-1) * alpha1 / 2 + l*(l-1) * alpha3 / 2 + chi1c*i*l\n",
    "    for l in range(nc)\n",
    "    for i in range(n1)\n",
    "]\n",
    "def create_order_matrix(state_func, n_states):\n",
    "    rows = []\n",
    "    for i in range(n_states):\n",
    "        # state_func(i) should return an array (list) of sympy expressions\n",
    "        rows.append(state_func(i))\n",
    "    return sp.Matrix(rows)\n",
    "\n",
    "# Simplify creation of these TensorProducts\n",
    "a = TensorProduct(ac, sp.eye(n2))\n",
    "ad = TensorProduct(acd, sp.eye(n2))\n",
    "ada = ad * a  # Example operation\n",
    "b = TensorProduct(sp.eye(n1), ac)\n",
    "bd = TensorProduct(sp.eye(n1), acd)\n",
    "# Create the matrices\n",
    "n_states = n1 * n2\n",
    "first_order  = create_order_matrix(state_first_order,  n_states)\n",
    "# second_order = create_order_matrix(state_second_order, n_states)\n",
    "# third_order  = create_order_matrix(state_third_order,  n_states)"
   ]
  },
  {
   "cell_type": "code",
   "execution_count": 6,
   "metadata": {},
   "outputs": [],
   "source": [
    "g = sp.Symbol('g', real=True)\n",
    "Delta = sp.Symbol('Delta', real=True)"
   ]
  },
  {
   "cell_type": "code",
   "execution_count": 7,
   "metadata": {},
   "outputs": [],
   "source": [
    "import sympy as sp\n",
    "\n",
    "def group_matrices(evals, A):\n",
    "    d = len(evals)\n",
    "    \n",
    "    # Create a symbolic d x d matrix rho\n",
    "    rho_symbols = [\n",
    "        [sp.Symbol(f\"rho_{i},{j}\") for j in range(d)]\n",
    "        for i in range(d)\n",
    "    ]\n",
    "    rho = sp.Matrix(rho_symbols)\n",
    "    \n",
    "    # Define gamma as a symbolic function\n",
    "    gamma = sp.Function(\"gamma_1\")\n",
    "    \n",
    "    # Multiply each A_ij by gamma(evals[i] - evals[j])\n",
    "    for i in range(d):\n",
    "        for j in range(d):\n",
    "            A[i, j] *= sp.sqrt(gamma(-evals[i] + evals[j]))\n",
    "    \n",
    "    grouped_matrices = {}\n",
    "    for i in range(d):\n",
    "        for j in range(d):\n",
    "            expr = A[i, j]\n",
    "            # Look for gamma(...) in each element\n",
    "            for f in expr.atoms(sp.Function):\n",
    "                if f.func == gamma:\n",
    "                    arg = f.args[0]\n",
    "                    # Factor out the gamma(...) to find the remaining coefficient\n",
    "                    coeff = sp.simplify(expr)\n",
    "                    if arg not in grouped_matrices:\n",
    "                        grouped_matrices[arg] = sp.zeros(d)\n",
    "                    grouped_matrices[arg][i, j] = coeff\n",
    "    return rho, grouped_matrices\n",
    "\n",
    "def decay_rate(evals, A):\n",
    "    d = len(evals)\n",
    "    rho, grouped_matrices = group_matrices(evals, A)\n",
    "    new_terms = {}\n",
    "    for arg, A_mat in grouped_matrices.items():\n",
    "        A_mat_d = A_mat.T\n",
    "        new_expr = A_mat * rho * A_mat_d - sp.Rational(1, 2) * (A_mat_d * A_mat * rho + rho * A_mat_d * A_mat)\n",
    "        new_terms[arg] = new_expr\n",
    "    \n",
    "    # Sum all terms together, starting with a zero matrix instead of an integer\n",
    "    final_expr = sum(new_terms.values(), sp.zeros(d, d))\n",
    "    \n",
    "    return final_expr\n",
    "\n"
   ]
  },
  {
   "cell_type": "code",
   "execution_count": 9,
   "metadata": {},
   "outputs": [],
   "source": [
    "\n",
    "U = sp.eye(n_states) + first_order \n",
    "Ud = U.T\n",
    "expr = (Ud @ (ad) @ U)\n",
    "# rho, matrices =  group_matrices(ENN, expr)"
   ]
  },
  {
   "cell_type": "code",
   "execution_count": 10,
   "metadata": {},
   "outputs": [
    {
     "data": {
      "text/latex": [
       "$\\displaystyle \\left[\\begin{array}{ccccccccccccccccccccccccc}\\frac{A}{2 \\delta} & 0 & 0 & 0 & 0 & - \\frac{A^{2}}{4 \\delta^{2}} & 0 & 0 & 0 & 0 & 0 & 0 & 0 & 0 & 0 & 0 & 0 & 0 & 0 & 0 & 0 & 0 & 0 & 0 & 0\\\\0 & \\frac{A}{2 \\left(\\chi + \\delta\\right)} & 0 & 0 & 0 & 0 & \\frac{A^{2}}{4 \\left(- \\chi - \\delta\\right) \\left(\\chi + \\delta\\right)} & 0 & 0 & 0 & 0 & 0 & 0 & 0 & 0 & 0 & 0 & 0 & 0 & 0 & 0 & 0 & 0 & 0 & 0\\\\0 & 0 & \\frac{A}{2 \\left(2 \\chi + \\delta\\right)} & 0 & 0 & 0 & 0 & \\frac{A^{2}}{4 \\left(- 2 \\chi - \\delta\\right) \\left(2 \\chi + \\delta\\right)} & 0 & 0 & 0 & 0 & 0 & 0 & 0 & 0 & 0 & 0 & 0 & 0 & 0 & 0 & 0 & 0 & 0\\\\0 & 0 & 0 & \\frac{A}{2 \\left(3 \\chi + \\delta\\right)} & 0 & 0 & 0 & 0 & \\frac{A^{2}}{4 \\left(- 3 \\chi - \\delta\\right) \\left(3 \\chi + \\delta\\right)} & 0 & 0 & 0 & 0 & 0 & 0 & 0 & 0 & 0 & 0 & 0 & 0 & 0 & 0 & 0 & 0\\\\0 & 0 & 0 & 0 & \\frac{A}{2 \\left(4 \\chi + \\delta\\right)} & 0 & 0 & 0 & 0 & \\frac{A^{2}}{4 \\left(- 4 \\chi - \\delta\\right) \\left(4 \\chi + \\delta\\right)} & 0 & 0 & 0 & 0 & 0 & 0 & 0 & 0 & 0 & 0 & 0 & 0 & 0 & 0 & 0\\\\\\frac{A^{2}}{2 \\delta \\left(K_{a} + \\delta\\right)} + 1 & 0 & 0 & 0 & 0 & \\frac{A}{K_{a} + \\delta} - \\frac{A}{2 \\delta} & 0 & 0 & 0 & 0 & \\frac{\\sqrt{2} A^{2}}{2 \\left(- K_{a} - \\delta\\right) \\left(K_{a} + \\delta\\right)} & 0 & 0 & 0 & 0 & 0 & 0 & 0 & 0 & 0 & 0 & 0 & 0 & 0 & 0\\\\0 & \\frac{A^{2}}{2 \\left(\\chi + \\delta\\right) \\left(K_{a} + \\chi + \\delta\\right)} + 1 & 0 & 0 & 0 & 0 & \\frac{A}{K_{a} + \\chi + \\delta} + \\frac{A}{2 \\left(- \\chi - \\delta\\right)} & 0 & 0 & 0 & 0 & \\frac{\\sqrt{2} A^{2}}{2 \\left(- K_{a} - \\chi - \\delta\\right) \\left(K_{a} + \\chi + \\delta\\right)} & 0 & 0 & 0 & 0 & 0 & 0 & 0 & 0 & 0 & 0 & 0 & 0 & 0\\\\0 & 0 & \\frac{A^{2}}{2 \\left(2 \\chi + \\delta\\right) \\left(K_{a} + 2 \\chi + \\delta\\right)} + 1 & 0 & 0 & 0 & 0 & \\frac{A}{K_{a} + 2 \\chi + \\delta} + \\frac{A}{2 \\left(- 2 \\chi - \\delta\\right)} & 0 & 0 & 0 & 0 & \\frac{\\sqrt{2} A^{2}}{2 \\left(- K_{a} - 2 \\chi - \\delta\\right) \\left(K_{a} + 2 \\chi + \\delta\\right)} & 0 & 0 & 0 & 0 & 0 & 0 & 0 & 0 & 0 & 0 & 0 & 0\\\\0 & 0 & 0 & \\frac{A^{2}}{2 \\left(3 \\chi + \\delta\\right) \\left(K_{a} + 3 \\chi + \\delta\\right)} + 1 & 0 & 0 & 0 & 0 & \\frac{A}{K_{a} + 3 \\chi + \\delta} + \\frac{A}{2 \\left(- 3 \\chi - \\delta\\right)} & 0 & 0 & 0 & 0 & \\frac{\\sqrt{2} A^{2}}{2 \\left(- K_{a} - 3 \\chi - \\delta\\right) \\left(K_{a} + 3 \\chi + \\delta\\right)} & 0 & 0 & 0 & 0 & 0 & 0 & 0 & 0 & 0 & 0 & 0\\\\0 & 0 & 0 & 0 & \\frac{A^{2}}{2 \\left(4 \\chi + \\delta\\right) \\left(K_{a} + 4 \\chi + \\delta\\right)} + 1 & 0 & 0 & 0 & 0 & \\frac{A}{K_{a} + 4 \\chi + \\delta} + \\frac{A}{2 \\left(- 4 \\chi - \\delta\\right)} & 0 & 0 & 0 & 0 & \\frac{\\sqrt{2} A^{2}}{2 \\left(- K_{a} - 4 \\chi - \\delta\\right) \\left(K_{a} + 4 \\chi + \\delta\\right)} & 0 & 0 & 0 & 0 & 0 & 0 & 0 & 0 & 0 & 0\\\\\\frac{\\sqrt{2} A}{2 \\left(- K_{a} - \\delta\\right)} + \\frac{\\sqrt{2} A}{2 \\delta} & 0 & 0 & 0 & 0 & \\frac{3 \\sqrt{2} A^{2}}{4 \\left(K_{a} + \\delta\\right) \\left(2 K_{a} + \\delta\\right)} - \\frac{\\sqrt{2} A^{2}}{4 \\delta \\left(- K_{a} - \\delta\\right)} + \\sqrt{2} & 0 & 0 & 0 & 0 & \\frac{3 A}{2 \\left(2 K_{a} + \\delta\\right)} + \\frac{A}{- K_{a} - \\delta} & 0 & 0 & 0 & 0 & \\frac{3 \\sqrt{3} A^{2}}{4 \\left(- 2 K_{a} - \\delta\\right) \\left(2 K_{a} + \\delta\\right)} & 0 & 0 & 0 & 0 & 0 & 0 & 0 & 0 & 0\\\\0 & \\frac{\\sqrt{2} A}{2 \\left(- K_{a} - \\chi - \\delta\\right)} + \\frac{\\sqrt{2} A}{2 \\left(\\chi + \\delta\\right)} & 0 & 0 & 0 & 0 & \\frac{3 \\sqrt{2} A^{2}}{4 \\left(K_{a} + \\chi + \\delta\\right) \\left(2 K_{a} + \\chi + \\delta\\right)} + \\frac{\\sqrt{2} A^{2}}{4 \\left(- \\chi - \\delta\\right) \\left(- K_{a} - \\chi - \\delta\\right)} + \\sqrt{2} & 0 & 0 & 0 & 0 & \\frac{3 A}{2 \\left(2 K_{a} + \\chi + \\delta\\right)} + \\frac{A}{- K_{a} - \\chi - \\delta} & 0 & 0 & 0 & 0 & \\frac{3 \\sqrt{3} A^{2}}{4 \\left(- 2 K_{a} - \\chi - \\delta\\right) \\left(2 K_{a} + \\chi + \\delta\\right)} & 0 & 0 & 0 & 0 & 0 & 0 & 0 & 0\\\\0 & 0 & \\frac{\\sqrt{2} A}{2 \\left(- K_{a} - 2 \\chi - \\delta\\right)} + \\frac{\\sqrt{2} A}{2 \\left(2 \\chi + \\delta\\right)} & 0 & 0 & 0 & 0 & \\frac{3 \\sqrt{2} A^{2}}{4 \\left(K_{a} + 2 \\chi + \\delta\\right) \\left(2 K_{a} + 2 \\chi + \\delta\\right)} + \\frac{\\sqrt{2} A^{2}}{4 \\left(- 2 \\chi - \\delta\\right) \\left(- K_{a} - 2 \\chi - \\delta\\right)} + \\sqrt{2} & 0 & 0 & 0 & 0 & \\frac{3 A}{2 \\left(2 K_{a} + 2 \\chi + \\delta\\right)} + \\frac{A}{- K_{a} - 2 \\chi - \\delta} & 0 & 0 & 0 & 0 & \\frac{3 \\sqrt{3} A^{2}}{4 \\left(- 2 K_{a} - 2 \\chi - \\delta\\right) \\left(2 K_{a} + 2 \\chi + \\delta\\right)} & 0 & 0 & 0 & 0 & 0 & 0 & 0\\\\0 & 0 & 0 & \\frac{\\sqrt{2} A}{2 \\left(- K_{a} - 3 \\chi - \\delta\\right)} + \\frac{\\sqrt{2} A}{2 \\left(3 \\chi + \\delta\\right)} & 0 & 0 & 0 & 0 & \\frac{3 \\sqrt{2} A^{2}}{4 \\left(K_{a} + 3 \\chi + \\delta\\right) \\left(2 K_{a} + 3 \\chi + \\delta\\right)} + \\frac{\\sqrt{2} A^{2}}{4 \\left(- 3 \\chi - \\delta\\right) \\left(- K_{a} - 3 \\chi - \\delta\\right)} + \\sqrt{2} & 0 & 0 & 0 & 0 & \\frac{3 A}{2 \\left(2 K_{a} + 3 \\chi + \\delta\\right)} + \\frac{A}{- K_{a} - 3 \\chi - \\delta} & 0 & 0 & 0 & 0 & \\frac{3 \\sqrt{3} A^{2}}{4 \\left(- 2 K_{a} - 3 \\chi - \\delta\\right) \\left(2 K_{a} + 3 \\chi + \\delta\\right)} & 0 & 0 & 0 & 0 & 0 & 0\\\\0 & 0 & 0 & 0 & \\frac{\\sqrt{2} A}{2 \\left(- K_{a} - 4 \\chi - \\delta\\right)} + \\frac{\\sqrt{2} A}{2 \\left(4 \\chi + \\delta\\right)} & 0 & 0 & 0 & 0 & \\frac{3 \\sqrt{2} A^{2}}{4 \\left(K_{a} + 4 \\chi + \\delta\\right) \\left(2 K_{a} + 4 \\chi + \\delta\\right)} + \\frac{\\sqrt{2} A^{2}}{4 \\left(- 4 \\chi - \\delta\\right) \\left(- K_{a} - 4 \\chi - \\delta\\right)} + \\sqrt{2} & 0 & 0 & 0 & 0 & \\frac{3 A}{2 \\left(2 K_{a} + 4 \\chi + \\delta\\right)} + \\frac{A}{- K_{a} - 4 \\chi - \\delta} & 0 & 0 & 0 & 0 & \\frac{3 \\sqrt{3} A^{2}}{4 \\left(- 2 K_{a} - 4 \\chi - \\delta\\right) \\left(2 K_{a} + 4 \\chi + \\delta\\right)} & 0 & 0 & 0 & 0 & 0\\\\\\frac{\\sqrt{6} A^{2}}{4 \\delta \\left(- 2 K_{a} - \\delta\\right)} & 0 & 0 & 0 & 0 & \\frac{\\sqrt{6} A}{2 \\left(K_{a} + \\delta\\right)} + \\frac{\\sqrt{6} A}{2 \\left(- 2 K_{a} - \\delta\\right)} & 0 & 0 & 0 & 0 & \\frac{\\sqrt{3} A^{2}}{\\left(2 K_{a} + \\delta\\right) \\left(3 K_{a} + \\delta\\right)} + \\frac{\\sqrt{3} A^{2}}{2 \\left(- 2 K_{a} - \\delta\\right) \\left(- K_{a} - \\delta\\right)} + \\sqrt{3} & 0 & 0 & 0 & 0 & \\frac{2 A}{3 K_{a} + \\delta} + \\frac{3 A}{2 \\left(- 2 K_{a} - \\delta\\right)} & 0 & 0 & 0 & 0 & \\frac{2 A^{2}}{\\left(- 3 K_{a} - \\delta\\right) \\left(3 K_{a} + \\delta\\right)} & 0 & 0 & 0 & 0\\\\0 & \\frac{\\sqrt{6} A^{2}}{4 \\left(\\chi + \\delta\\right) \\left(- 2 K_{a} - \\chi - \\delta\\right)} & 0 & 0 & 0 & 0 & \\frac{\\sqrt{6} A}{2 \\left(K_{a} + \\chi + \\delta\\right)} + \\frac{\\sqrt{6} A}{2 \\left(- 2 K_{a} - \\chi - \\delta\\right)} & 0 & 0 & 0 & 0 & \\frac{\\sqrt{3} A^{2}}{\\left(2 K_{a} + \\chi + \\delta\\right) \\left(3 K_{a} + \\chi + \\delta\\right)} + \\frac{\\sqrt{3} A^{2}}{2 \\left(- 2 K_{a} - \\chi - \\delta\\right) \\left(- K_{a} - \\chi - \\delta\\right)} + \\sqrt{3} & 0 & 0 & 0 & 0 & \\frac{2 A}{3 K_{a} + \\chi + \\delta} + \\frac{3 A}{2 \\left(- 2 K_{a} - \\chi - \\delta\\right)} & 0 & 0 & 0 & 0 & \\frac{2 A^{2}}{\\left(- 3 K_{a} - \\chi - \\delta\\right) \\left(3 K_{a} + \\chi + \\delta\\right)} & 0 & 0 & 0\\\\0 & 0 & \\frac{\\sqrt{6} A^{2}}{4 \\left(2 \\chi + \\delta\\right) \\left(- 2 K_{a} - 2 \\chi - \\delta\\right)} & 0 & 0 & 0 & 0 & \\frac{\\sqrt{6} A}{2 \\left(K_{a} + 2 \\chi + \\delta\\right)} + \\frac{\\sqrt{6} A}{2 \\left(- 2 K_{a} - 2 \\chi - \\delta\\right)} & 0 & 0 & 0 & 0 & \\frac{\\sqrt{3} A^{2}}{\\left(2 K_{a} + 2 \\chi + \\delta\\right) \\left(3 K_{a} + 2 \\chi + \\delta\\right)} + \\frac{\\sqrt{3} A^{2}}{2 \\left(- 2 K_{a} - 2 \\chi - \\delta\\right) \\left(- K_{a} - 2 \\chi - \\delta\\right)} + \\sqrt{3} & 0 & 0 & 0 & 0 & \\frac{2 A}{3 K_{a} + 2 \\chi + \\delta} + \\frac{3 A}{2 \\left(- 2 K_{a} - 2 \\chi - \\delta\\right)} & 0 & 0 & 0 & 0 & \\frac{2 A^{2}}{\\left(- 3 K_{a} - 2 \\chi - \\delta\\right) \\left(3 K_{a} + 2 \\chi + \\delta\\right)} & 0 & 0\\\\0 & 0 & 0 & \\frac{\\sqrt{6} A^{2}}{4 \\left(3 \\chi + \\delta\\right) \\left(- 2 K_{a} - 3 \\chi - \\delta\\right)} & 0 & 0 & 0 & 0 & \\frac{\\sqrt{6} A}{2 \\left(K_{a} + 3 \\chi + \\delta\\right)} + \\frac{\\sqrt{6} A}{2 \\left(- 2 K_{a} - 3 \\chi - \\delta\\right)} & 0 & 0 & 0 & 0 & \\frac{\\sqrt{3} A^{2}}{\\left(2 K_{a} + 3 \\chi + \\delta\\right) \\left(3 K_{a} + 3 \\chi + \\delta\\right)} + \\frac{\\sqrt{3} A^{2}}{2 \\left(- 2 K_{a} - 3 \\chi - \\delta\\right) \\left(- K_{a} - 3 \\chi - \\delta\\right)} + \\sqrt{3} & 0 & 0 & 0 & 0 & \\frac{2 A}{3 K_{a} + 3 \\chi + \\delta} + \\frac{3 A}{2 \\left(- 2 K_{a} - 3 \\chi - \\delta\\right)} & 0 & 0 & 0 & 0 & \\frac{2 A^{2}}{\\left(- 3 K_{a} - 3 \\chi - \\delta\\right) \\left(3 K_{a} + 3 \\chi + \\delta\\right)} & 0\\\\0 & 0 & 0 & 0 & \\frac{\\sqrt{6} A^{2}}{4 \\left(4 \\chi + \\delta\\right) \\left(- 2 K_{a} - 4 \\chi - \\delta\\right)} & 0 & 0 & 0 & 0 & \\frac{\\sqrt{6} A}{2 \\left(K_{a} + 4 \\chi + \\delta\\right)} + \\frac{\\sqrt{6} A}{2 \\left(- 2 K_{a} - 4 \\chi - \\delta\\right)} & 0 & 0 & 0 & 0 & \\frac{\\sqrt{3} A^{2}}{\\left(2 K_{a} + 4 \\chi + \\delta\\right) \\left(3 K_{a} + 4 \\chi + \\delta\\right)} + \\frac{\\sqrt{3} A^{2}}{2 \\left(- 2 K_{a} - 4 \\chi - \\delta\\right) \\left(- K_{a} - 4 \\chi - \\delta\\right)} + \\sqrt{3} & 0 & 0 & 0 & 0 & \\frac{2 A}{3 K_{a} + 4 \\chi + \\delta} + \\frac{3 A}{2 \\left(- 2 K_{a} - 4 \\chi - \\delta\\right)} & 0 & 0 & 0 & 0 & \\frac{2 A^{2}}{\\left(- 3 K_{a} - 4 \\chi - \\delta\\right) \\left(3 K_{a} + 4 \\chi + \\delta\\right)}\\\\0 & 0 & 0 & 0 & 0 & \\frac{\\sqrt{6} A^{2}}{2 \\left(- 3 K_{a} - \\delta\\right) \\left(K_{a} + \\delta\\right)} & 0 & 0 & 0 & 0 & \\frac{\\sqrt{3} A}{2 K_{a} + \\delta} + \\frac{\\sqrt{3} A}{- 3 K_{a} - \\delta} & 0 & 0 & 0 & 0 & \\frac{3 A^{2}}{2 \\left(- 3 K_{a} - \\delta\\right) \\left(- 2 K_{a} - \\delta\\right)} + 2 & 0 & 0 & 0 & 0 & \\frac{2 A}{- 3 K_{a} - \\delta} & 0 & 0 & 0 & 0\\\\0 & 0 & 0 & 0 & 0 & 0 & \\frac{\\sqrt{6} A^{2}}{2 \\left(- 3 K_{a} - \\chi - \\delta\\right) \\left(K_{a} + \\chi + \\delta\\right)} & 0 & 0 & 0 & 0 & \\frac{\\sqrt{3} A}{2 K_{a} + \\chi + \\delta} + \\frac{\\sqrt{3} A}{- 3 K_{a} - \\chi - \\delta} & 0 & 0 & 0 & 0 & \\frac{3 A^{2}}{2 \\left(- 3 K_{a} - \\chi - \\delta\\right) \\left(- 2 K_{a} - \\chi - \\delta\\right)} + 2 & 0 & 0 & 0 & 0 & \\frac{2 A}{- 3 K_{a} - \\chi - \\delta} & 0 & 0 & 0\\\\0 & 0 & 0 & 0 & 0 & 0 & 0 & \\frac{\\sqrt{6} A^{2}}{2 \\left(- 3 K_{a} - 2 \\chi - \\delta\\right) \\left(K_{a} + 2 \\chi + \\delta\\right)} & 0 & 0 & 0 & 0 & \\frac{\\sqrt{3} A}{2 K_{a} + 2 \\chi + \\delta} + \\frac{\\sqrt{3} A}{- 3 K_{a} - 2 \\chi - \\delta} & 0 & 0 & 0 & 0 & \\frac{3 A^{2}}{2 \\left(- 3 K_{a} - 2 \\chi - \\delta\\right) \\left(- 2 K_{a} - 2 \\chi - \\delta\\right)} + 2 & 0 & 0 & 0 & 0 & \\frac{2 A}{- 3 K_{a} - 2 \\chi - \\delta} & 0 & 0\\\\0 & 0 & 0 & 0 & 0 & 0 & 0 & 0 & \\frac{\\sqrt{6} A^{2}}{2 \\left(- 3 K_{a} - 3 \\chi - \\delta\\right) \\left(K_{a} + 3 \\chi + \\delta\\right)} & 0 & 0 & 0 & 0 & \\frac{\\sqrt{3} A}{2 K_{a} + 3 \\chi + \\delta} + \\frac{\\sqrt{3} A}{- 3 K_{a} - 3 \\chi - \\delta} & 0 & 0 & 0 & 0 & \\frac{3 A^{2}}{2 \\left(- 3 K_{a} - 3 \\chi - \\delta\\right) \\left(- 2 K_{a} - 3 \\chi - \\delta\\right)} + 2 & 0 & 0 & 0 & 0 & \\frac{2 A}{- 3 K_{a} - 3 \\chi - \\delta} & 0\\\\0 & 0 & 0 & 0 & 0 & 0 & 0 & 0 & 0 & \\frac{\\sqrt{6} A^{2}}{2 \\left(- 3 K_{a} - 4 \\chi - \\delta\\right) \\left(K_{a} + 4 \\chi + \\delta\\right)} & 0 & 0 & 0 & 0 & \\frac{\\sqrt{3} A}{2 K_{a} + 4 \\chi + \\delta} + \\frac{\\sqrt{3} A}{- 3 K_{a} - 4 \\chi - \\delta} & 0 & 0 & 0 & 0 & \\frac{3 A^{2}}{2 \\left(- 3 K_{a} - 4 \\chi - \\delta\\right) \\left(- 2 K_{a} - 4 \\chi - \\delta\\right)} + 2 & 0 & 0 & 0 & 0 & \\frac{2 A}{- 3 K_{a} - 4 \\chi - \\delta}\\end{array}\\right]$"
      ],
      "text/plain": [
       "Matrix([\n",
       "[                                       A/(2*delta),                                                                0,                                                                    0,                                                                    0,                                                                    0,                                                                                 -A**2/(4*delta**2),                                                                                                                             0,                                                                                                                                     0,                                                                                                                                     0,                                                                                                                                     0,                                                                                                           0,                                                                                                                                   0,                                                                                                                                           0,                                                                                                                                           0,                                                                                                                                           0,                                                   0,                                                               0,                                                                   0,                                                                   0,                                                                   0,                                         0,                                                     0,                                                         0,                                                         0,                                                         0],\n",
       "[                                                 0,                                              A/(2*(chi + delta)),                                                                    0,                                                                    0,                                                                    0,                                                                                                  0,                                                                                         A**2/(4*(-chi - delta)*(chi + delta)),                                                                                                                                     0,                                                                                                                                     0,                                                                                                                                     0,                                                                                                           0,                                                                                                                                   0,                                                                                                                                           0,                                                                                                                                           0,                                                                                                                                           0,                                                   0,                                                               0,                                                                   0,                                                                   0,                                                                   0,                                         0,                                                     0,                                                         0,                                                         0,                                                         0],\n",
       "[                                                 0,                                                                0,                                                A/(2*(2*chi + delta)),                                                                    0,                                                                    0,                                                                                                  0,                                                                                                                             0,                                                                                             A**2/(4*(-2*chi - delta)*(2*chi + delta)),                                                                                                                                     0,                                                                                                                                     0,                                                                                                           0,                                                                                                                                   0,                                                                                                                                           0,                                                                                                                                           0,                                                                                                                                           0,                                                   0,                                                               0,                                                                   0,                                                                   0,                                                                   0,                                         0,                                                     0,                                                         0,                                                         0,                                                         0],\n",
       "[                                                 0,                                                                0,                                                                    0,                                                A/(2*(3*chi + delta)),                                                                    0,                                                                                                  0,                                                                                                                             0,                                                                                                                                     0,                                                                                             A**2/(4*(-3*chi - delta)*(3*chi + delta)),                                                                                                                                     0,                                                                                                           0,                                                                                                                                   0,                                                                                                                                           0,                                                                                                                                           0,                                                                                                                                           0,                                                   0,                                                               0,                                                                   0,                                                                   0,                                                                   0,                                         0,                                                     0,                                                         0,                                                         0,                                                         0],\n",
       "[                                                 0,                                                                0,                                                                    0,                                                                    0,                                                A/(2*(4*chi + delta)),                                                                                                  0,                                                                                                                             0,                                                                                                                                     0,                                                                                                                                     0,                                                                                             A**2/(4*(-4*chi - delta)*(4*chi + delta)),                                                                                                           0,                                                                                                                                   0,                                                                                                                                           0,                                                                                                                                           0,                                                                                                                                           0,                                                   0,                                                               0,                                                                   0,                                                                   0,                                                                   0,                                         0,                                                     0,                                                         0,                                                         0,                                                         0],\n",
       "[                  A**2/(2*delta*(K_a + delta)) + 1,                                                                0,                                                                    0,                                                                    0,                                                                    0,                                                                      A/(K_a + delta) - A/(2*delta),                                                                                                                             0,                                                                                                                                     0,                                                                                                                                     0,                                                                                                                                     0,                                                               sqrt(2)*A**2/(2*(-K_a - delta)*(K_a + delta)),                                                                                                                                   0,                                                                                                                                           0,                                                                                                                                           0,                                                                                                                                           0,                                                   0,                                                               0,                                                                   0,                                                                   0,                                                                   0,                                         0,                                                     0,                                                         0,                                                         0,                                                         0],\n",
       "[                                                 0,                   A**2/(2*(chi + delta)*(K_a + chi + delta)) + 1,                                                                    0,                                                                    0,                                                                    0,                                                                                                  0,                                                                                  A/(K_a + chi + delta) + A/(2*(-chi - delta)),                                                                                                                                     0,                                                                                                                                     0,                                                                                                                                     0,                                                                                                           0,                                                                           sqrt(2)*A**2/(2*(-K_a - chi - delta)*(K_a + chi + delta)),                                                                                                                                           0,                                                                                                                                           0,                                                                                                                                           0,                                                   0,                                                               0,                                                                   0,                                                                   0,                                                                   0,                                         0,                                                     0,                                                         0,                                                         0,                                                         0],\n",
       "[                                                 0,                                                                0,                   A**2/(2*(2*chi + delta)*(K_a + 2*chi + delta)) + 1,                                                                    0,                                                                    0,                                                                                                  0,                                                                                                                             0,                                                                                      A/(K_a + 2*chi + delta) + A/(2*(-2*chi - delta)),                                                                                                                                     0,                                                                                                                                     0,                                                                                                           0,                                                                                                                                   0,                                                                               sqrt(2)*A**2/(2*(-K_a - 2*chi - delta)*(K_a + 2*chi + delta)),                                                                                                                                           0,                                                                                                                                           0,                                                   0,                                                               0,                                                                   0,                                                                   0,                                                                   0,                                         0,                                                     0,                                                         0,                                                         0,                                                         0],\n",
       "[                                                 0,                                                                0,                                                                    0,                   A**2/(2*(3*chi + delta)*(K_a + 3*chi + delta)) + 1,                                                                    0,                                                                                                  0,                                                                                                                             0,                                                                                                                                     0,                                                                                      A/(K_a + 3*chi + delta) + A/(2*(-3*chi - delta)),                                                                                                                                     0,                                                                                                           0,                                                                                                                                   0,                                                                                                                                           0,                                                                               sqrt(2)*A**2/(2*(-K_a - 3*chi - delta)*(K_a + 3*chi + delta)),                                                                                                                                           0,                                                   0,                                                               0,                                                                   0,                                                                   0,                                                                   0,                                         0,                                                     0,                                                         0,                                                         0,                                                         0],\n",
       "[                                                 0,                                                                0,                                                                    0,                                                                    0,                   A**2/(2*(4*chi + delta)*(K_a + 4*chi + delta)) + 1,                                                                                                  0,                                                                                                                             0,                                                                                                                                     0,                                                                                                                                     0,                                                                                      A/(K_a + 4*chi + delta) + A/(2*(-4*chi - delta)),                                                                                                           0,                                                                                                                                   0,                                                                                                                                           0,                                                                                                                                           0,                                                                               sqrt(2)*A**2/(2*(-K_a - 4*chi - delta)*(K_a + 4*chi + delta)),                                                   0,                                                               0,                                                                   0,                                                                   0,                                                                   0,                                         0,                                                     0,                                                         0,                                                         0,                                                         0],\n",
       "[sqrt(2)*A/(2*(-K_a - delta)) + sqrt(2)*A/(2*delta),                                                                0,                                                                    0,                                                                    0,                                                                    0, 3*sqrt(2)*A**2/(4*(K_a + delta)*(2*K_a + delta)) - sqrt(2)*A**2/(4*delta*(-K_a - delta)) + sqrt(2),                                                                                                                             0,                                                                                                                                     0,                                                                                                                                     0,                                                                                                                                     0,                                                                  3*A/(2*(2*K_a + delta)) + A/(-K_a - delta),                                                                                                                                   0,                                                                                                                                           0,                                                                                                                                           0,                                                                                                                                           0, 3*sqrt(3)*A**2/(4*(-2*K_a - delta)*(2*K_a + delta)),                                                               0,                                                                   0,                                                                   0,                                                                   0,                                         0,                                                     0,                                                         0,                                                         0,                                                         0],\n",
       "[                                                 0, sqrt(2)*A/(2*(-K_a - chi - delta)) + sqrt(2)*A/(2*(chi + delta)),                                                                    0,                                                                    0,                                                                    0,                                                                                                  0, 3*sqrt(2)*A**2/(4*(K_a + chi + delta)*(2*K_a + chi + delta)) + sqrt(2)*A**2/(4*(-chi - delta)*(-K_a - chi - delta)) + sqrt(2),                                                                                                                                     0,                                                                                                                                     0,                                                                                                                                     0,                                                                                                           0,                                                                              3*A/(2*(2*K_a + chi + delta)) + A/(-K_a - chi - delta),                                                                                                                                           0,                                                                                                                                           0,                                                                                                                                           0,                                                   0, 3*sqrt(3)*A**2/(4*(-2*K_a - chi - delta)*(2*K_a + chi + delta)),                                                                   0,                                                                   0,                                                                   0,                                         0,                                                     0,                                                         0,                                                         0,                                                         0],\n",
       "[                                                 0,                                                                0, sqrt(2)*A/(2*(-K_a - 2*chi - delta)) + sqrt(2)*A/(2*(2*chi + delta)),                                                                    0,                                                                    0,                                                                                                  0,                                                                                                                             0, 3*sqrt(2)*A**2/(4*(K_a + 2*chi + delta)*(2*K_a + 2*chi + delta)) + sqrt(2)*A**2/(4*(-2*chi - delta)*(-K_a - 2*chi - delta)) + sqrt(2),                                                                                                                                     0,                                                                                                                                     0,                                                                                                           0,                                                                                                                                   0,                                                                                  3*A/(2*(2*K_a + 2*chi + delta)) + A/(-K_a - 2*chi - delta),                                                                                                                                           0,                                                                                                                                           0,                                                   0,                                                               0, 3*sqrt(3)*A**2/(4*(-2*K_a - 2*chi - delta)*(2*K_a + 2*chi + delta)),                                                                   0,                                                                   0,                                         0,                                                     0,                                                         0,                                                         0,                                                         0],\n",
       "[                                                 0,                                                                0,                                                                    0, sqrt(2)*A/(2*(-K_a - 3*chi - delta)) + sqrt(2)*A/(2*(3*chi + delta)),                                                                    0,                                                                                                  0,                                                                                                                             0,                                                                                                                                     0, 3*sqrt(2)*A**2/(4*(K_a + 3*chi + delta)*(2*K_a + 3*chi + delta)) + sqrt(2)*A**2/(4*(-3*chi - delta)*(-K_a - 3*chi - delta)) + sqrt(2),                                                                                                                                     0,                                                                                                           0,                                                                                                                                   0,                                                                                                                                           0,                                                                                  3*A/(2*(2*K_a + 3*chi + delta)) + A/(-K_a - 3*chi - delta),                                                                                                                                           0,                                                   0,                                                               0,                                                                   0, 3*sqrt(3)*A**2/(4*(-2*K_a - 3*chi - delta)*(2*K_a + 3*chi + delta)),                                                                   0,                                         0,                                                     0,                                                         0,                                                         0,                                                         0],\n",
       "[                                                 0,                                                                0,                                                                    0,                                                                    0, sqrt(2)*A/(2*(-K_a - 4*chi - delta)) + sqrt(2)*A/(2*(4*chi + delta)),                                                                                                  0,                                                                                                                             0,                                                                                                                                     0,                                                                                                                                     0, 3*sqrt(2)*A**2/(4*(K_a + 4*chi + delta)*(2*K_a + 4*chi + delta)) + sqrt(2)*A**2/(4*(-4*chi - delta)*(-K_a - 4*chi - delta)) + sqrt(2),                                                                                                           0,                                                                                                                                   0,                                                                                                                                           0,                                                                                                                                           0,                                                                                  3*A/(2*(2*K_a + 4*chi + delta)) + A/(-K_a - 4*chi - delta),                                                   0,                                                               0,                                                                   0,                                                                   0, 3*sqrt(3)*A**2/(4*(-2*K_a - 4*chi - delta)*(2*K_a + 4*chi + delta)),                                         0,                                                     0,                                                         0,                                                         0,                                                         0],\n",
       "[           sqrt(6)*A**2/(4*delta*(-2*K_a - delta)),                                                                0,                                                                    0,                                                                    0,                                                                    0,                                       sqrt(6)*A/(2*(K_a + delta)) + sqrt(6)*A/(2*(-2*K_a - delta)),                                                                                                                             0,                                                                                                                                     0,                                                                                                                                     0,                                                                                                                                     0, sqrt(3)*A**2/((2*K_a + delta)*(3*K_a + delta)) + sqrt(3)*A**2/(2*(-2*K_a - delta)*(-K_a - delta)) + sqrt(3),                                                                                                                                   0,                                                                                                                                           0,                                                                                                                                           0,                                                                                                                                           0,      2*A/(3*K_a + delta) + 3*A/(2*(-2*K_a - delta)),                                                               0,                                                                   0,                                                                   0,                                                                   0, 2*A**2/((-3*K_a - delta)*(3*K_a + delta)),                                                     0,                                                         0,                                                         0,                                                         0],\n",
       "[                                                 0,            sqrt(6)*A**2/(4*(chi + delta)*(-2*K_a - chi - delta)),                                                                    0,                                                                    0,                                                                    0,                                                                                                  0,                                                      sqrt(6)*A/(2*(K_a + chi + delta)) + sqrt(6)*A/(2*(-2*K_a - chi - delta)),                                                                                                                                     0,                                                                                                                                     0,                                                                                                                                     0,                                                                                                           0, sqrt(3)*A**2/((2*K_a + chi + delta)*(3*K_a + chi + delta)) + sqrt(3)*A**2/(2*(-2*K_a - chi - delta)*(-K_a - chi - delta)) + sqrt(3),                                                                                                                                           0,                                                                                                                                           0,                                                                                                                                           0,                                                   0,      2*A/(3*K_a + chi + delta) + 3*A/(2*(-2*K_a - chi - delta)),                                                                   0,                                                                   0,                                                                   0,                                         0, 2*A**2/((-3*K_a - chi - delta)*(3*K_a + chi + delta)),                                                         0,                                                         0,                                                         0],\n",
       "[                                                 0,                                                                0,            sqrt(6)*A**2/(4*(2*chi + delta)*(-2*K_a - 2*chi - delta)),                                                                    0,                                                                    0,                                                                                                  0,                                                                                                                             0,                                                          sqrt(6)*A/(2*(K_a + 2*chi + delta)) + sqrt(6)*A/(2*(-2*K_a - 2*chi - delta)),                                                                                                                                     0,                                                                                                                                     0,                                                                                                           0,                                                                                                                                   0, sqrt(3)*A**2/((2*K_a + 2*chi + delta)*(3*K_a + 2*chi + delta)) + sqrt(3)*A**2/(2*(-2*K_a - 2*chi - delta)*(-K_a - 2*chi - delta)) + sqrt(3),                                                                                                                                           0,                                                                                                                                           0,                                                   0,                                                               0,      2*A/(3*K_a + 2*chi + delta) + 3*A/(2*(-2*K_a - 2*chi - delta)),                                                                   0,                                                                   0,                                         0,                                                     0, 2*A**2/((-3*K_a - 2*chi - delta)*(3*K_a + 2*chi + delta)),                                                         0,                                                         0],\n",
       "[                                                 0,                                                                0,                                                                    0,            sqrt(6)*A**2/(4*(3*chi + delta)*(-2*K_a - 3*chi - delta)),                                                                    0,                                                                                                  0,                                                                                                                             0,                                                                                                                                     0,                                                          sqrt(6)*A/(2*(K_a + 3*chi + delta)) + sqrt(6)*A/(2*(-2*K_a - 3*chi - delta)),                                                                                                                                     0,                                                                                                           0,                                                                                                                                   0,                                                                                                                                           0, sqrt(3)*A**2/((2*K_a + 3*chi + delta)*(3*K_a + 3*chi + delta)) + sqrt(3)*A**2/(2*(-2*K_a - 3*chi - delta)*(-K_a - 3*chi - delta)) + sqrt(3),                                                                                                                                           0,                                                   0,                                                               0,                                                                   0,      2*A/(3*K_a + 3*chi + delta) + 3*A/(2*(-2*K_a - 3*chi - delta)),                                                                   0,                                         0,                                                     0,                                                         0, 2*A**2/((-3*K_a - 3*chi - delta)*(3*K_a + 3*chi + delta)),                                                         0],\n",
       "[                                                 0,                                                                0,                                                                    0,                                                                    0,            sqrt(6)*A**2/(4*(4*chi + delta)*(-2*K_a - 4*chi - delta)),                                                                                                  0,                                                                                                                             0,                                                                                                                                     0,                                                                                                                                     0,                                                          sqrt(6)*A/(2*(K_a + 4*chi + delta)) + sqrt(6)*A/(2*(-2*K_a - 4*chi - delta)),                                                                                                           0,                                                                                                                                   0,                                                                                                                                           0,                                                                                                                                           0, sqrt(3)*A**2/((2*K_a + 4*chi + delta)*(3*K_a + 4*chi + delta)) + sqrt(3)*A**2/(2*(-2*K_a - 4*chi - delta)*(-K_a - 4*chi - delta)) + sqrt(3),                                                   0,                                                               0,                                                                   0,                                                                   0,      2*A/(3*K_a + 4*chi + delta) + 3*A/(2*(-2*K_a - 4*chi - delta)),                                         0,                                                     0,                                                         0,                                                         0, 2*A**2/((-3*K_a - 4*chi - delta)*(3*K_a + 4*chi + delta))],\n",
       "[                                                 0,                                                                0,                                                                    0,                                                                    0,                                                                    0,                                                    sqrt(6)*A**2/(2*(-3*K_a - delta)*(K_a + delta)),                                                                                                                             0,                                                                                                                                     0,                                                                                                                                     0,                                                                                                                                     0,                                                      sqrt(3)*A/(2*K_a + delta) + sqrt(3)*A/(-3*K_a - delta),                                                                                                                                   0,                                                                                                                                           0,                                                                                                                                           0,                                                                                                                                           0,    3*A**2/(2*(-3*K_a - delta)*(-2*K_a - delta)) + 2,                                                               0,                                                                   0,                                                                   0,                                                                   0,                      2*A/(-3*K_a - delta),                                                     0,                                                         0,                                                         0,                                                         0],\n",
       "[                                                 0,                                                                0,                                                                    0,                                                                    0,                                                                    0,                                                                                                  0,                                                                   sqrt(6)*A**2/(2*(-3*K_a - chi - delta)*(K_a + chi + delta)),                                                                                                                                     0,                                                                                                                                     0,                                                                                                                                     0,                                                                                                           0,                                                                  sqrt(3)*A/(2*K_a + chi + delta) + sqrt(3)*A/(-3*K_a - chi - delta),                                                                                                                                           0,                                                                                                                                           0,                                                                                                                                           0,                                                   0,    3*A**2/(2*(-3*K_a - chi - delta)*(-2*K_a - chi - delta)) + 2,                                                                   0,                                                                   0,                                                                   0,                                         0,                            2*A/(-3*K_a - chi - delta),                                                         0,                                                         0,                                                         0],\n",
       "[                                                 0,                                                                0,                                                                    0,                                                                    0,                                                                    0,                                                                                                  0,                                                                                                                             0,                                                                       sqrt(6)*A**2/(2*(-3*K_a - 2*chi - delta)*(K_a + 2*chi + delta)),                                                                                                                                     0,                                                                                                                                     0,                                                                                                           0,                                                                                                                                   0,                                                                      sqrt(3)*A/(2*K_a + 2*chi + delta) + sqrt(3)*A/(-3*K_a - 2*chi - delta),                                                                                                                                           0,                                                                                                                                           0,                                                   0,                                                               0,    3*A**2/(2*(-3*K_a - 2*chi - delta)*(-2*K_a - 2*chi - delta)) + 2,                                                                   0,                                                                   0,                                         0,                                                     0,                              2*A/(-3*K_a - 2*chi - delta),                                                         0,                                                         0],\n",
       "[                                                 0,                                                                0,                                                                    0,                                                                    0,                                                                    0,                                                                                                  0,                                                                                                                             0,                                                                                                                                     0,                                                                       sqrt(6)*A**2/(2*(-3*K_a - 3*chi - delta)*(K_a + 3*chi + delta)),                                                                                                                                     0,                                                                                                           0,                                                                                                                                   0,                                                                                                                                           0,                                                                      sqrt(3)*A/(2*K_a + 3*chi + delta) + sqrt(3)*A/(-3*K_a - 3*chi - delta),                                                                                                                                           0,                                                   0,                                                               0,                                                                   0,    3*A**2/(2*(-3*K_a - 3*chi - delta)*(-2*K_a - 3*chi - delta)) + 2,                                                                   0,                                         0,                                                     0,                                                         0,                              2*A/(-3*K_a - 3*chi - delta),                                                         0],\n",
       "[                                                 0,                                                                0,                                                                    0,                                                                    0,                                                                    0,                                                                                                  0,                                                                                                                             0,                                                                                                                                     0,                                                                                                                                     0,                                                                       sqrt(6)*A**2/(2*(-3*K_a - 4*chi - delta)*(K_a + 4*chi + delta)),                                                                                                           0,                                                                                                                                   0,                                                                                                                                           0,                                                                                                                                           0,                                                                      sqrt(3)*A/(2*K_a + 4*chi + delta) + sqrt(3)*A/(-3*K_a - 4*chi - delta),                                                   0,                                                               0,                                                                   0,                                                                   0,    3*A**2/(2*(-3*K_a - 4*chi - delta)*(-2*K_a - 4*chi - delta)) + 2,                                         0,                                                     0,                                                         0,                                                         0,                              2*A/(-3*K_a - 4*chi - delta)]])"
      ]
     },
     "execution_count": 10,
     "metadata": {},
     "output_type": "execute_result"
    }
   ],
   "source": [
    "expr"
   ]
  },
  {
   "cell_type": "code",
   "execution_count": 22,
   "metadata": {},
   "outputs": [],
   "source": [
    "expr_modified = expr.copy()\n",
    "for i in range(expr.rows):\n",
    "    expr_modified[i, i] -= expr[0, 0]"
   ]
  },
  {
   "cell_type": "code",
   "execution_count": 23,
   "metadata": {},
   "outputs": [
    {
     "data": {
      "text/plain": [
       "'- \\\\frac{A^{2}}{4 \\\\delta^{2}} + \\\\frac{A \\\\left(\\\\frac{A}{2 \\\\left(\\\\chi + \\\\delta\\\\right)} + \\\\frac{A g^{2}}{2 \\\\Delta^{2} \\\\left(\\\\chi + \\\\delta\\\\right)}\\\\right)}{2 \\\\left(\\\\chi + \\\\delta\\\\right)} + \\\\frac{g^{2}}{\\\\Delta^{2}}'"
      ]
     },
     "execution_count": 23,
     "metadata": {},
     "output_type": "execute_result"
    }
   ],
   "source": [
    "sp.latex(expr_modified[1,1])"
   ]
  },
  {
   "cell_type": "code",
   "execution_count": 24,
   "metadata": {},
   "outputs": [
    {
     "ename": "KeyboardInterrupt",
     "evalue": "",
     "output_type": "error",
     "traceback": [
      "\u001b[0;31m---------------------------------------------------------------------------\u001b[0m",
      "\u001b[0;31mKeyboardInterrupt\u001b[0m                         Traceback (most recent call last)",
      "Cell \u001b[0;32mIn[24], line 1\u001b[0m\n\u001b[0;32m----> 1\u001b[0m result \u001b[38;5;241m=\u001b[39m \u001b[43mdecay_rate\u001b[49m\u001b[43m(\u001b[49m\u001b[43mENN\u001b[49m\u001b[43m,\u001b[49m\u001b[43m \u001b[49m\u001b[43mexpr_modified\u001b[49m\u001b[43m)\u001b[49m\n",
      "Cell \u001b[0;32mIn[20], line 38\u001b[0m, in \u001b[0;36mdecay_rate\u001b[0;34m(evals, A)\u001b[0m\n\u001b[1;32m     36\u001b[0m \u001b[38;5;28;01mdef\u001b[39;00m \u001b[38;5;21mdecay_rate\u001b[39m(evals, A):\n\u001b[1;32m     37\u001b[0m     d \u001b[38;5;241m=\u001b[39m \u001b[38;5;28mlen\u001b[39m(evals)\n\u001b[0;32m---> 38\u001b[0m     rho, grouped_matrices \u001b[38;5;241m=\u001b[39m \u001b[43mgroup_matrices\u001b[49m\u001b[43m(\u001b[49m\u001b[43mevals\u001b[49m\u001b[43m,\u001b[49m\u001b[43m \u001b[49m\u001b[43mA\u001b[49m\u001b[43m)\u001b[49m\n\u001b[1;32m     39\u001b[0m     new_terms \u001b[38;5;241m=\u001b[39m {}\n\u001b[1;32m     40\u001b[0m     \u001b[38;5;28;01mfor\u001b[39;00m arg, A_mat \u001b[38;5;129;01min\u001b[39;00m grouped_matrices\u001b[38;5;241m.\u001b[39mitems():\n",
      "Cell \u001b[0;32mIn[20], line 30\u001b[0m, in \u001b[0;36mgroup_matrices\u001b[0;34m(evals, A)\u001b[0m\n\u001b[1;32m     28\u001b[0m arg \u001b[38;5;241m=\u001b[39m f\u001b[38;5;241m.\u001b[39margs[\u001b[38;5;241m0\u001b[39m]\n\u001b[1;32m     29\u001b[0m \u001b[38;5;66;03m# Factor out the gamma(...) to find the remaining coefficient\u001b[39;00m\n\u001b[0;32m---> 30\u001b[0m coeff \u001b[38;5;241m=\u001b[39m \u001b[43msp\u001b[49m\u001b[38;5;241;43m.\u001b[39;49m\u001b[43msimplify\u001b[49m\u001b[43m(\u001b[49m\u001b[43mexpr\u001b[49m\u001b[43m)\u001b[49m\n\u001b[1;32m     31\u001b[0m \u001b[38;5;28;01mif\u001b[39;00m arg \u001b[38;5;129;01mnot\u001b[39;00m \u001b[38;5;129;01min\u001b[39;00m grouped_matrices:\n\u001b[1;32m     32\u001b[0m     grouped_matrices[arg] \u001b[38;5;241m=\u001b[39m sp\u001b[38;5;241m.\u001b[39mzeros(d)\n",
      "File \u001b[0;32m/opt/homebrew/Caskroom/miniconda/base/envs/fluxonium/lib/python3.11/site-packages/sympy/simplify/simplify.py:725\u001b[0m, in \u001b[0;36msimplify\u001b[0;34m(expr, ratio, measure, rational, inverse, doit, **kwargs)\u001b[0m\n\u001b[1;32m    722\u001b[0m     \u001b[38;5;28;01mfrom\u001b[39;00m \u001b[38;5;21;01msympy\u001b[39;00m\u001b[38;5;21;01m.\u001b[39;00m\u001b[38;5;21;01mphysics\u001b[39;00m\u001b[38;5;21;01m.\u001b[39;00m\u001b[38;5;21;01munits\u001b[39;00m\u001b[38;5;21;01m.\u001b[39;00m\u001b[38;5;21;01mutil\u001b[39;00m \u001b[38;5;28;01mimport\u001b[39;00m quantity_simplify\n\u001b[1;32m    723\u001b[0m     expr \u001b[38;5;241m=\u001b[39m quantity_simplify(expr)\n\u001b[0;32m--> 725\u001b[0m short \u001b[38;5;241m=\u001b[39m shorter(\u001b[43mpowsimp\u001b[49m\u001b[43m(\u001b[49m\u001b[43mexpr\u001b[49m\u001b[43m,\u001b[49m\u001b[43m \u001b[49m\u001b[43mcombine\u001b[49m\u001b[38;5;241;43m=\u001b[39;49m\u001b[38;5;124;43m'\u001b[39;49m\u001b[38;5;124;43mexp\u001b[39;49m\u001b[38;5;124;43m'\u001b[39;49m\u001b[43m,\u001b[49m\u001b[43m \u001b[49m\u001b[43mdeep\u001b[49m\u001b[38;5;241;43m=\u001b[39;49m\u001b[38;5;28;43;01mTrue\u001b[39;49;00m\u001b[43m)\u001b[49m, powsimp(expr), expr)\n\u001b[1;32m    726\u001b[0m short \u001b[38;5;241m=\u001b[39m shorter(short, cancel(short))\n\u001b[1;32m    727\u001b[0m short \u001b[38;5;241m=\u001b[39m shorter(short, factor_terms(short), expand_power_exp(expand_mul(short)))\n",
      "File \u001b[0;32m/opt/homebrew/Caskroom/miniconda/base/envs/fluxonium/lib/python3.11/site-packages/sympy/simplify/powsimp.py:117\u001b[0m, in \u001b[0;36mpowsimp\u001b[0;34m(expr, deep, combine, force, measure)\u001b[0m\n\u001b[1;32m    114\u001b[0m     \u001b[38;5;28;01mreturn\u001b[39;00m expr\n\u001b[1;32m    116\u001b[0m \u001b[38;5;28;01mif\u001b[39;00m deep \u001b[38;5;129;01mor\u001b[39;00m expr\u001b[38;5;241m.\u001b[39mis_Add \u001b[38;5;129;01mor\u001b[39;00m expr\u001b[38;5;241m.\u001b[39mis_Mul \u001b[38;5;129;01mand\u001b[39;00m _y \u001b[38;5;129;01mnot\u001b[39;00m \u001b[38;5;129;01min\u001b[39;00m expr\u001b[38;5;241m.\u001b[39margs:\n\u001b[0;32m--> 117\u001b[0m     expr \u001b[38;5;241m=\u001b[39m expr\u001b[38;5;241m.\u001b[39mfunc(\u001b[38;5;241m*\u001b[39m\u001b[43m[\u001b[49m\u001b[43mrecurse\u001b[49m\u001b[43m(\u001b[49m\u001b[43mw\u001b[49m\u001b[43m)\u001b[49m\u001b[43m \u001b[49m\u001b[38;5;28;43;01mfor\u001b[39;49;00m\u001b[43m \u001b[49m\u001b[43mw\u001b[49m\u001b[43m \u001b[49m\u001b[38;5;129;43;01min\u001b[39;49;00m\u001b[43m \u001b[49m\u001b[43mexpr\u001b[49m\u001b[38;5;241;43m.\u001b[39;49m\u001b[43margs\u001b[49m\u001b[43m]\u001b[49m)\n\u001b[1;32m    119\u001b[0m \u001b[38;5;28;01mif\u001b[39;00m expr\u001b[38;5;241m.\u001b[39mis_Pow:\n\u001b[1;32m    120\u001b[0m     \u001b[38;5;28;01mreturn\u001b[39;00m recurse(expr\u001b[38;5;241m*\u001b[39m_y, deep\u001b[38;5;241m=\u001b[39m\u001b[38;5;28;01mFalse\u001b[39;00m)\u001b[38;5;241m/\u001b[39m_y\n",
      "File \u001b[0;32m/opt/homebrew/Caskroom/miniconda/base/envs/fluxonium/lib/python3.11/site-packages/sympy/simplify/powsimp.py:117\u001b[0m, in \u001b[0;36m<listcomp>\u001b[0;34m(.0)\u001b[0m\n\u001b[1;32m    114\u001b[0m     \u001b[38;5;28;01mreturn\u001b[39;00m expr\n\u001b[1;32m    116\u001b[0m \u001b[38;5;28;01mif\u001b[39;00m deep \u001b[38;5;129;01mor\u001b[39;00m expr\u001b[38;5;241m.\u001b[39mis_Add \u001b[38;5;129;01mor\u001b[39;00m expr\u001b[38;5;241m.\u001b[39mis_Mul \u001b[38;5;129;01mand\u001b[39;00m _y \u001b[38;5;129;01mnot\u001b[39;00m \u001b[38;5;129;01min\u001b[39;00m expr\u001b[38;5;241m.\u001b[39margs:\n\u001b[0;32m--> 117\u001b[0m     expr \u001b[38;5;241m=\u001b[39m expr\u001b[38;5;241m.\u001b[39mfunc(\u001b[38;5;241m*\u001b[39m[\u001b[43mrecurse\u001b[49m\u001b[43m(\u001b[49m\u001b[43mw\u001b[49m\u001b[43m)\u001b[49m \u001b[38;5;28;01mfor\u001b[39;00m w \u001b[38;5;129;01min\u001b[39;00m expr\u001b[38;5;241m.\u001b[39margs])\n\u001b[1;32m    119\u001b[0m \u001b[38;5;28;01mif\u001b[39;00m expr\u001b[38;5;241m.\u001b[39mis_Pow:\n\u001b[1;32m    120\u001b[0m     \u001b[38;5;28;01mreturn\u001b[39;00m recurse(expr\u001b[38;5;241m*\u001b[39m_y, deep\u001b[38;5;241m=\u001b[39m\u001b[38;5;28;01mFalse\u001b[39;00m)\u001b[38;5;241m/\u001b[39m_y\n",
      "File \u001b[0;32m/opt/homebrew/Caskroom/miniconda/base/envs/fluxonium/lib/python3.11/site-packages/sympy/simplify/powsimp.py:108\u001b[0m, in \u001b[0;36mpowsimp.<locals>.recurse\u001b[0;34m(arg, **kwargs)\u001b[0m\n\u001b[1;32m    106\u001b[0m _force \u001b[38;5;241m=\u001b[39m kwargs\u001b[38;5;241m.\u001b[39mget(\u001b[38;5;124m'\u001b[39m\u001b[38;5;124mforce\u001b[39m\u001b[38;5;124m'\u001b[39m, force)\n\u001b[1;32m    107\u001b[0m _measure \u001b[38;5;241m=\u001b[39m kwargs\u001b[38;5;241m.\u001b[39mget(\u001b[38;5;124m'\u001b[39m\u001b[38;5;124mmeasure\u001b[39m\u001b[38;5;124m'\u001b[39m, measure)\n\u001b[0;32m--> 108\u001b[0m \u001b[38;5;28;01mreturn\u001b[39;00m \u001b[43mpowsimp\u001b[49m\u001b[43m(\u001b[49m\u001b[43marg\u001b[49m\u001b[43m,\u001b[49m\u001b[43m \u001b[49m\u001b[43m_deep\u001b[49m\u001b[43m,\u001b[49m\u001b[43m \u001b[49m\u001b[43m_combine\u001b[49m\u001b[43m,\u001b[49m\u001b[43m \u001b[49m\u001b[43m_force\u001b[49m\u001b[43m,\u001b[49m\u001b[43m \u001b[49m\u001b[43m_measure\u001b[49m\u001b[43m)\u001b[49m\n",
      "File \u001b[0;32m/opt/homebrew/Caskroom/miniconda/base/envs/fluxonium/lib/python3.11/site-packages/sympy/simplify/powsimp.py:117\u001b[0m, in \u001b[0;36mpowsimp\u001b[0;34m(expr, deep, combine, force, measure)\u001b[0m\n\u001b[1;32m    114\u001b[0m     \u001b[38;5;28;01mreturn\u001b[39;00m expr\n\u001b[1;32m    116\u001b[0m \u001b[38;5;28;01mif\u001b[39;00m deep \u001b[38;5;129;01mor\u001b[39;00m expr\u001b[38;5;241m.\u001b[39mis_Add \u001b[38;5;129;01mor\u001b[39;00m expr\u001b[38;5;241m.\u001b[39mis_Mul \u001b[38;5;129;01mand\u001b[39;00m _y \u001b[38;5;129;01mnot\u001b[39;00m \u001b[38;5;129;01min\u001b[39;00m expr\u001b[38;5;241m.\u001b[39margs:\n\u001b[0;32m--> 117\u001b[0m     expr \u001b[38;5;241m=\u001b[39m expr\u001b[38;5;241m.\u001b[39mfunc(\u001b[38;5;241m*\u001b[39m\u001b[43m[\u001b[49m\u001b[43mrecurse\u001b[49m\u001b[43m(\u001b[49m\u001b[43mw\u001b[49m\u001b[43m)\u001b[49m\u001b[43m \u001b[49m\u001b[38;5;28;43;01mfor\u001b[39;49;00m\u001b[43m \u001b[49m\u001b[43mw\u001b[49m\u001b[43m \u001b[49m\u001b[38;5;129;43;01min\u001b[39;49;00m\u001b[43m \u001b[49m\u001b[43mexpr\u001b[49m\u001b[38;5;241;43m.\u001b[39;49m\u001b[43margs\u001b[49m\u001b[43m]\u001b[49m)\n\u001b[1;32m    119\u001b[0m \u001b[38;5;28;01mif\u001b[39;00m expr\u001b[38;5;241m.\u001b[39mis_Pow:\n\u001b[1;32m    120\u001b[0m     \u001b[38;5;28;01mreturn\u001b[39;00m recurse(expr\u001b[38;5;241m*\u001b[39m_y, deep\u001b[38;5;241m=\u001b[39m\u001b[38;5;28;01mFalse\u001b[39;00m)\u001b[38;5;241m/\u001b[39m_y\n",
      "File \u001b[0;32m/opt/homebrew/Caskroom/miniconda/base/envs/fluxonium/lib/python3.11/site-packages/sympy/simplify/powsimp.py:117\u001b[0m, in \u001b[0;36m<listcomp>\u001b[0;34m(.0)\u001b[0m\n\u001b[1;32m    114\u001b[0m     \u001b[38;5;28;01mreturn\u001b[39;00m expr\n\u001b[1;32m    116\u001b[0m \u001b[38;5;28;01mif\u001b[39;00m deep \u001b[38;5;129;01mor\u001b[39;00m expr\u001b[38;5;241m.\u001b[39mis_Add \u001b[38;5;129;01mor\u001b[39;00m expr\u001b[38;5;241m.\u001b[39mis_Mul \u001b[38;5;129;01mand\u001b[39;00m _y \u001b[38;5;129;01mnot\u001b[39;00m \u001b[38;5;129;01min\u001b[39;00m expr\u001b[38;5;241m.\u001b[39margs:\n\u001b[0;32m--> 117\u001b[0m     expr \u001b[38;5;241m=\u001b[39m expr\u001b[38;5;241m.\u001b[39mfunc(\u001b[38;5;241m*\u001b[39m[\u001b[43mrecurse\u001b[49m\u001b[43m(\u001b[49m\u001b[43mw\u001b[49m\u001b[43m)\u001b[49m \u001b[38;5;28;01mfor\u001b[39;00m w \u001b[38;5;129;01min\u001b[39;00m expr\u001b[38;5;241m.\u001b[39margs])\n\u001b[1;32m    119\u001b[0m \u001b[38;5;28;01mif\u001b[39;00m expr\u001b[38;5;241m.\u001b[39mis_Pow:\n\u001b[1;32m    120\u001b[0m     \u001b[38;5;28;01mreturn\u001b[39;00m recurse(expr\u001b[38;5;241m*\u001b[39m_y, deep\u001b[38;5;241m=\u001b[39m\u001b[38;5;28;01mFalse\u001b[39;00m)\u001b[38;5;241m/\u001b[39m_y\n",
      "File \u001b[0;32m/opt/homebrew/Caskroom/miniconda/base/envs/fluxonium/lib/python3.11/site-packages/sympy/simplify/powsimp.py:108\u001b[0m, in \u001b[0;36mpowsimp.<locals>.recurse\u001b[0;34m(arg, **kwargs)\u001b[0m\n\u001b[1;32m    106\u001b[0m _force \u001b[38;5;241m=\u001b[39m kwargs\u001b[38;5;241m.\u001b[39mget(\u001b[38;5;124m'\u001b[39m\u001b[38;5;124mforce\u001b[39m\u001b[38;5;124m'\u001b[39m, force)\n\u001b[1;32m    107\u001b[0m _measure \u001b[38;5;241m=\u001b[39m kwargs\u001b[38;5;241m.\u001b[39mget(\u001b[38;5;124m'\u001b[39m\u001b[38;5;124mmeasure\u001b[39m\u001b[38;5;124m'\u001b[39m, measure)\n\u001b[0;32m--> 108\u001b[0m \u001b[38;5;28;01mreturn\u001b[39;00m \u001b[43mpowsimp\u001b[49m\u001b[43m(\u001b[49m\u001b[43marg\u001b[49m\u001b[43m,\u001b[49m\u001b[43m \u001b[49m\u001b[43m_deep\u001b[49m\u001b[43m,\u001b[49m\u001b[43m \u001b[49m\u001b[43m_combine\u001b[49m\u001b[43m,\u001b[49m\u001b[43m \u001b[49m\u001b[43m_force\u001b[49m\u001b[43m,\u001b[49m\u001b[43m \u001b[49m\u001b[43m_measure\u001b[49m\u001b[43m)\u001b[49m\n",
      "File \u001b[0;32m/opt/homebrew/Caskroom/miniconda/base/envs/fluxonium/lib/python3.11/site-packages/sympy/simplify/powsimp.py:142\u001b[0m, in \u001b[0;36mpowsimp\u001b[0;34m(expr, deep, combine, force, measure)\u001b[0m\n\u001b[1;32m    140\u001b[0m b, e \u001b[38;5;241m=\u001b[39m term\u001b[38;5;241m.\u001b[39mas_base_exp()\n\u001b[1;32m    141\u001b[0m \u001b[38;5;28;01mif\u001b[39;00m deep:\n\u001b[0;32m--> 142\u001b[0m     b, e \u001b[38;5;241m=\u001b[39m \u001b[43m[\u001b[49m\u001b[43mrecurse\u001b[49m\u001b[43m(\u001b[49m\u001b[43mi\u001b[49m\u001b[43m)\u001b[49m\u001b[43m \u001b[49m\u001b[38;5;28;43;01mfor\u001b[39;49;00m\u001b[43m \u001b[49m\u001b[43mi\u001b[49m\u001b[43m \u001b[49m\u001b[38;5;129;43;01min\u001b[39;49;00m\u001b[43m \u001b[49m\u001b[43m[\u001b[49m\u001b[43mb\u001b[49m\u001b[43m,\u001b[49m\u001b[43m \u001b[49m\u001b[43me\u001b[49m\u001b[43m]\u001b[49m\u001b[43m]\u001b[49m\n\u001b[1;32m    143\u001b[0m \u001b[38;5;28;01mif\u001b[39;00m b\u001b[38;5;241m.\u001b[39mis_Pow \u001b[38;5;129;01mor\u001b[39;00m \u001b[38;5;28misinstance\u001b[39m(b, exp):\n\u001b[1;32m    144\u001b[0m     \u001b[38;5;66;03m# don't let smthg like sqrt(x**a) split into x**a, 1/2\u001b[39;00m\n\u001b[1;32m    145\u001b[0m     \u001b[38;5;66;03m# or else it will be joined as x**(a/2) later\u001b[39;00m\n\u001b[1;32m    146\u001b[0m     b, e \u001b[38;5;241m=\u001b[39m b\u001b[38;5;241m*\u001b[39m\u001b[38;5;241m*\u001b[39me, S\u001b[38;5;241m.\u001b[39mOne\n",
      "File \u001b[0;32m/opt/homebrew/Caskroom/miniconda/base/envs/fluxonium/lib/python3.11/site-packages/sympy/simplify/powsimp.py:142\u001b[0m, in \u001b[0;36m<listcomp>\u001b[0;34m(.0)\u001b[0m\n\u001b[1;32m    140\u001b[0m b, e \u001b[38;5;241m=\u001b[39m term\u001b[38;5;241m.\u001b[39mas_base_exp()\n\u001b[1;32m    141\u001b[0m \u001b[38;5;28;01mif\u001b[39;00m deep:\n\u001b[0;32m--> 142\u001b[0m     b, e \u001b[38;5;241m=\u001b[39m [\u001b[43mrecurse\u001b[49m\u001b[43m(\u001b[49m\u001b[43mi\u001b[49m\u001b[43m)\u001b[49m \u001b[38;5;28;01mfor\u001b[39;00m i \u001b[38;5;129;01min\u001b[39;00m [b, e]]\n\u001b[1;32m    143\u001b[0m \u001b[38;5;28;01mif\u001b[39;00m b\u001b[38;5;241m.\u001b[39mis_Pow \u001b[38;5;129;01mor\u001b[39;00m \u001b[38;5;28misinstance\u001b[39m(b, exp):\n\u001b[1;32m    144\u001b[0m     \u001b[38;5;66;03m# don't let smthg like sqrt(x**a) split into x**a, 1/2\u001b[39;00m\n\u001b[1;32m    145\u001b[0m     \u001b[38;5;66;03m# or else it will be joined as x**(a/2) later\u001b[39;00m\n\u001b[1;32m    146\u001b[0m     b, e \u001b[38;5;241m=\u001b[39m b\u001b[38;5;241m*\u001b[39m\u001b[38;5;241m*\u001b[39me, S\u001b[38;5;241m.\u001b[39mOne\n",
      "File \u001b[0;32m/opt/homebrew/Caskroom/miniconda/base/envs/fluxonium/lib/python3.11/site-packages/sympy/simplify/powsimp.py:108\u001b[0m, in \u001b[0;36mpowsimp.<locals>.recurse\u001b[0;34m(arg, **kwargs)\u001b[0m\n\u001b[1;32m    106\u001b[0m _force \u001b[38;5;241m=\u001b[39m kwargs\u001b[38;5;241m.\u001b[39mget(\u001b[38;5;124m'\u001b[39m\u001b[38;5;124mforce\u001b[39m\u001b[38;5;124m'\u001b[39m, force)\n\u001b[1;32m    107\u001b[0m _measure \u001b[38;5;241m=\u001b[39m kwargs\u001b[38;5;241m.\u001b[39mget(\u001b[38;5;124m'\u001b[39m\u001b[38;5;124mmeasure\u001b[39m\u001b[38;5;124m'\u001b[39m, measure)\n\u001b[0;32m--> 108\u001b[0m \u001b[38;5;28;01mreturn\u001b[39;00m \u001b[43mpowsimp\u001b[49m\u001b[43m(\u001b[49m\u001b[43marg\u001b[49m\u001b[43m,\u001b[49m\u001b[43m \u001b[49m\u001b[43m_deep\u001b[49m\u001b[43m,\u001b[49m\u001b[43m \u001b[49m\u001b[43m_combine\u001b[49m\u001b[43m,\u001b[49m\u001b[43m \u001b[49m\u001b[43m_force\u001b[49m\u001b[43m,\u001b[49m\u001b[43m \u001b[49m\u001b[43m_measure\u001b[49m\u001b[43m)\u001b[49m\n",
      "File \u001b[0;32m/opt/homebrew/Caskroom/miniconda/base/envs/fluxonium/lib/python3.11/site-packages/sympy/simplify/powsimp.py:117\u001b[0m, in \u001b[0;36mpowsimp\u001b[0;34m(expr, deep, combine, force, measure)\u001b[0m\n\u001b[1;32m    114\u001b[0m     \u001b[38;5;28;01mreturn\u001b[39;00m expr\n\u001b[1;32m    116\u001b[0m \u001b[38;5;28;01mif\u001b[39;00m deep \u001b[38;5;129;01mor\u001b[39;00m expr\u001b[38;5;241m.\u001b[39mis_Add \u001b[38;5;129;01mor\u001b[39;00m expr\u001b[38;5;241m.\u001b[39mis_Mul \u001b[38;5;129;01mand\u001b[39;00m _y \u001b[38;5;129;01mnot\u001b[39;00m \u001b[38;5;129;01min\u001b[39;00m expr\u001b[38;5;241m.\u001b[39margs:\n\u001b[0;32m--> 117\u001b[0m     expr \u001b[38;5;241m=\u001b[39m expr\u001b[38;5;241m.\u001b[39mfunc(\u001b[38;5;241m*\u001b[39m\u001b[43m[\u001b[49m\u001b[43mrecurse\u001b[49m\u001b[43m(\u001b[49m\u001b[43mw\u001b[49m\u001b[43m)\u001b[49m\u001b[43m \u001b[49m\u001b[38;5;28;43;01mfor\u001b[39;49;00m\u001b[43m \u001b[49m\u001b[43mw\u001b[49m\u001b[43m \u001b[49m\u001b[38;5;129;43;01min\u001b[39;49;00m\u001b[43m \u001b[49m\u001b[43mexpr\u001b[49m\u001b[38;5;241;43m.\u001b[39;49m\u001b[43margs\u001b[49m\u001b[43m]\u001b[49m)\n\u001b[1;32m    119\u001b[0m \u001b[38;5;28;01mif\u001b[39;00m expr\u001b[38;5;241m.\u001b[39mis_Pow:\n\u001b[1;32m    120\u001b[0m     \u001b[38;5;28;01mreturn\u001b[39;00m recurse(expr\u001b[38;5;241m*\u001b[39m_y, deep\u001b[38;5;241m=\u001b[39m\u001b[38;5;28;01mFalse\u001b[39;00m)\u001b[38;5;241m/\u001b[39m_y\n",
      "File \u001b[0;32m/opt/homebrew/Caskroom/miniconda/base/envs/fluxonium/lib/python3.11/site-packages/sympy/simplify/powsimp.py:117\u001b[0m, in \u001b[0;36m<listcomp>\u001b[0;34m(.0)\u001b[0m\n\u001b[1;32m    114\u001b[0m     \u001b[38;5;28;01mreturn\u001b[39;00m expr\n\u001b[1;32m    116\u001b[0m \u001b[38;5;28;01mif\u001b[39;00m deep \u001b[38;5;129;01mor\u001b[39;00m expr\u001b[38;5;241m.\u001b[39mis_Add \u001b[38;5;129;01mor\u001b[39;00m expr\u001b[38;5;241m.\u001b[39mis_Mul \u001b[38;5;129;01mand\u001b[39;00m _y \u001b[38;5;129;01mnot\u001b[39;00m \u001b[38;5;129;01min\u001b[39;00m expr\u001b[38;5;241m.\u001b[39margs:\n\u001b[0;32m--> 117\u001b[0m     expr \u001b[38;5;241m=\u001b[39m expr\u001b[38;5;241m.\u001b[39mfunc(\u001b[38;5;241m*\u001b[39m[\u001b[43mrecurse\u001b[49m\u001b[43m(\u001b[49m\u001b[43mw\u001b[49m\u001b[43m)\u001b[49m \u001b[38;5;28;01mfor\u001b[39;00m w \u001b[38;5;129;01min\u001b[39;00m expr\u001b[38;5;241m.\u001b[39margs])\n\u001b[1;32m    119\u001b[0m \u001b[38;5;28;01mif\u001b[39;00m expr\u001b[38;5;241m.\u001b[39mis_Pow:\n\u001b[1;32m    120\u001b[0m     \u001b[38;5;28;01mreturn\u001b[39;00m recurse(expr\u001b[38;5;241m*\u001b[39m_y, deep\u001b[38;5;241m=\u001b[39m\u001b[38;5;28;01mFalse\u001b[39;00m)\u001b[38;5;241m/\u001b[39m_y\n",
      "File \u001b[0;32m/opt/homebrew/Caskroom/miniconda/base/envs/fluxonium/lib/python3.11/site-packages/sympy/simplify/powsimp.py:108\u001b[0m, in \u001b[0;36mpowsimp.<locals>.recurse\u001b[0;34m(arg, **kwargs)\u001b[0m\n\u001b[1;32m    106\u001b[0m _force \u001b[38;5;241m=\u001b[39m kwargs\u001b[38;5;241m.\u001b[39mget(\u001b[38;5;124m'\u001b[39m\u001b[38;5;124mforce\u001b[39m\u001b[38;5;124m'\u001b[39m, force)\n\u001b[1;32m    107\u001b[0m _measure \u001b[38;5;241m=\u001b[39m kwargs\u001b[38;5;241m.\u001b[39mget(\u001b[38;5;124m'\u001b[39m\u001b[38;5;124mmeasure\u001b[39m\u001b[38;5;124m'\u001b[39m, measure)\n\u001b[0;32m--> 108\u001b[0m \u001b[38;5;28;01mreturn\u001b[39;00m \u001b[43mpowsimp\u001b[49m\u001b[43m(\u001b[49m\u001b[43marg\u001b[49m\u001b[43m,\u001b[49m\u001b[43m \u001b[49m\u001b[43m_deep\u001b[49m\u001b[43m,\u001b[49m\u001b[43m \u001b[49m\u001b[43m_combine\u001b[49m\u001b[43m,\u001b[49m\u001b[43m \u001b[49m\u001b[43m_force\u001b[49m\u001b[43m,\u001b[49m\u001b[43m \u001b[49m\u001b[43m_measure\u001b[49m\u001b[43m)\u001b[49m\n",
      "File \u001b[0;32m/opt/homebrew/Caskroom/miniconda/base/envs/fluxonium/lib/python3.11/site-packages/sympy/simplify/powsimp.py:286\u001b[0m, in \u001b[0;36mpowsimp\u001b[0;34m(expr, deep, combine, force, measure)\u001b[0m\n\u001b[1;32m    284\u001b[0m     \u001b[38;5;28;01melse\u001b[39;00m:\n\u001b[1;32m    285\u001b[0m         common_b[b] \u001b[38;5;241m=\u001b[39m e\n\u001b[0;32m--> 286\u001b[0m     \u001b[38;5;28;01mif\u001b[39;00m \u001b[43mb\u001b[49m\u001b[43m[\u001b[49m\u001b[38;5;241;43m1\u001b[39;49m\u001b[43m]\u001b[49m\u001b[43m \u001b[49m\u001b[38;5;241;43m!=\u001b[39;49m\u001b[43m \u001b[49m\u001b[38;5;241;43m1\u001b[39;49m \u001b[38;5;129;01mand\u001b[39;00m b[\u001b[38;5;241m0\u001b[39m]\u001b[38;5;241m.\u001b[39mis_Mul:\n\u001b[1;32m    287\u001b[0m         bases\u001b[38;5;241m.\u001b[39mappend(b)\n\u001b[1;32m    288\u001b[0m bases\u001b[38;5;241m.\u001b[39msort(key\u001b[38;5;241m=\u001b[39mdefault_sort_key)  \u001b[38;5;66;03m# this makes tie-breaking canonical\u001b[39;00m\n",
      "File \u001b[0;32m/opt/homebrew/Caskroom/miniconda/base/envs/fluxonium/lib/python3.11/site-packages/sympy/core/numbers.py:1941\u001b[0m, in \u001b[0;36mInteger.__ne__\u001b[0;34m(self, other)\u001b[0m\n\u001b[1;32m   1938\u001b[0m         \u001b[38;5;28;01mreturn\u001b[39;00m (\u001b[38;5;28mself\u001b[39m\u001b[38;5;241m.\u001b[39mp \u001b[38;5;241m==\u001b[39m other\u001b[38;5;241m.\u001b[39mp)\n\u001b[1;32m   1939\u001b[0m     \u001b[38;5;28;01mreturn\u001b[39;00m Rational\u001b[38;5;241m.\u001b[39m\u001b[38;5;21m__eq__\u001b[39m(\u001b[38;5;28mself\u001b[39m, other)\n\u001b[0;32m-> 1941\u001b[0m \u001b[38;5;28;01mdef\u001b[39;00m \u001b[38;5;21m__ne__\u001b[39m(\u001b[38;5;28mself\u001b[39m, other):\n\u001b[1;32m   1942\u001b[0m     \u001b[38;5;28;01mreturn\u001b[39;00m \u001b[38;5;129;01mnot\u001b[39;00m \u001b[38;5;28mself\u001b[39m \u001b[38;5;241m==\u001b[39m other\n\u001b[1;32m   1944\u001b[0m \u001b[38;5;28;01mdef\u001b[39;00m \u001b[38;5;21m__gt__\u001b[39m(\u001b[38;5;28mself\u001b[39m, other):\n",
      "\u001b[0;31mKeyboardInterrupt\u001b[0m: "
     ]
    }
   ],
   "source": [
    "result = decay_rate(ENN, expr_modified)"
   ]
  },
  {
   "cell_type": "code",
   "execution_count": 12,
   "metadata": {},
   "outputs": [
    {
     "data": {
      "text/plain": [
       "'- \\\\frac{\\\\rho_{0,1} \\\\left(- A^{2} \\\\Delta^{2} \\\\left(\\\\chi + \\\\delta\\\\right)^{2} + A^{2} \\\\delta^{2} \\\\left(\\\\Delta^{2} + g^{2}\\\\right) + 4 \\\\delta^{2} g^{2} \\\\left(\\\\chi + \\\\delta\\\\right)^{2}\\\\right)^{2} \\\\gamma_{1}{\\\\left(0 \\\\right)}}{32 \\\\Delta^{4} \\\\delta^{4} \\\\left(\\\\chi + \\\\delta\\\\right)^{4}}'"
      ]
     },
     "execution_count": 12,
     "metadata": {},
     "output_type": "execute_result"
    }
   ],
   "source": [
    "sp.latex(result[0,1].args[6])"
   ]
  },
  {
   "cell_type": "code",
   "execution_count": 13,
   "metadata": {},
   "outputs": [],
   "source": [
    "# Get the specific element result[0,1]\n",
    "element = result[0, 1]\n",
    "\n"
   ]
  },
  {
   "cell_type": "code",
   "execution_count": 69,
   "metadata": {},
   "outputs": [
    {
     "data": {
      "text/latex": [
       "$\\displaystyle - \\frac{A^{4} \\rho_{0,1} \\gamma_{1}{\\left(- K_{a} - 2 \\delta \\right)}}{16 \\delta^{2} \\left(K_{a} + \\delta\\right)^{2}} - \\frac{A^{4} g^{2} \\rho_{0,1} \\gamma_{1}{\\left(- \\alpha_{q} - 2 \\chi - \\delta - \\omega_{q} \\right)}}{16 \\Delta^{2} \\left(\\chi + \\delta\\right)^{2} \\left(2 \\chi + \\delta\\right)^{2}} - \\frac{3 A^{4} g^{2} \\rho_{0,1} \\gamma_{1}{\\left(- 3 K_{a} - 3 \\delta + \\omega_{q} \\right)}}{16 \\Delta^{2} \\left(2 K_{a} + \\delta\\right)^{2} \\left(\\chi + \\delta\\right)^{2}} - \\frac{A^{4} g^{2} \\rho_{0,1} \\gamma_{1}{\\left(- \\chi - \\delta - \\omega_{q} \\right)}}{32 \\Delta^{2} \\delta^{2} \\left(\\chi + \\delta\\right)^{2}} - \\frac{A^{4} \\rho_{0,1} \\left(\\Delta^{2} + g^{2}\\right)^{2} \\gamma_{1}{\\left(- K_{a} - 2 \\chi - 2 \\delta \\right)}}{16 \\Delta^{4} \\left(\\chi + \\delta\\right)^{2} \\left(K_{a} + \\chi + \\delta\\right)^{2}} - \\frac{A^{2} \\rho_{0,1} \\gamma_{1}{\\left(- \\chi - \\delta \\right)}}{8 \\left(\\chi + \\delta\\right)^{2}} - \\frac{A^{2} \\rho_{0,1} \\gamma_{1}{\\left(- \\delta \\right)}}{8 \\delta^{2}} - \\frac{A^{2} g^{2} \\rho_{0,1} \\left(K_{a} - \\chi\\right)^{2} \\gamma_{1}{\\left(- K_{a} - 2 \\delta + \\omega_{q} \\right)}}{4 \\Delta^{2} \\left(K_{a} + \\delta\\right)^{2} \\left(\\chi + \\delta\\right)^{2}} - \\frac{A^{2} g^{2} \\rho_{0,1} \\gamma_{1}{\\left(- \\alpha_{q} - \\omega_{q} \\right)}}{4 \\Delta^{2} \\left(\\chi + \\delta\\right)^{2}} - \\frac{A^{2} g^{2} \\rho_{0,1} \\gamma_{1}{\\left(- \\omega_{q} \\right)}}{8 \\Delta^{2} \\delta^{2}} - \\frac{A^{2} g^{2} \\rho_{0,1} \\gamma_{1}{\\left(\\omega_{q} \\right)}}{8 \\Delta^{2} \\delta^{2}} - \\frac{g^{2} \\rho_{0,1} \\left(A^{2} + 2 \\left(K_{a} + \\delta\\right) \\left(\\chi + \\delta\\right)\\right)^{2} \\gamma_{1}{\\left(- \\delta + \\omega_{q} \\right)}}{8 \\Delta^{2} \\left(K_{a} + \\delta\\right)^{2} \\left(\\chi + \\delta\\right)^{2}} - \\frac{\\rho_{0,1} \\left(- A^{2} \\Delta^{2} \\left(\\chi + \\delta\\right)^{2} + A^{2} \\delta^{2} \\left(\\Delta^{2} + g^{2}\\right) + 4 \\delta^{2} g^{2} \\left(\\chi + \\delta\\right)^{2}\\right)^{2} \\gamma_{1}{\\left(0 \\right)}}{32 \\Delta^{4} \\delta^{4} \\left(\\chi + \\delta\\right)^{4}}$"
      ],
      "text/plain": [
       "-A**4*rho_0,1*gamma_1(-K_a - 2*delta)/(16*delta**2*(K_a + delta)**2) - A**4*g**2*rho_0,1*gamma_1(-alpha_q - 2*chi - delta - omega_q)/(16*Delta**2*(chi + delta)**2*(2*chi + delta)**2) - 3*A**4*g**2*rho_0,1*gamma_1(-3*K_a - 3*delta + omega_q)/(16*Delta**2*(2*K_a + delta)**2*(chi + delta)**2) - A**4*g**2*rho_0,1*gamma_1(-chi - delta - omega_q)/(32*Delta**2*delta**2*(chi + delta)**2) - A**4*rho_0,1*(Delta**2 + g**2)**2*gamma_1(-K_a - 2*chi - 2*delta)/(16*Delta**4*(chi + delta)**2*(K_a + chi + delta)**2) - A**2*rho_0,1*gamma_1(-chi - delta)/(8*(chi + delta)**2) - A**2*rho_0,1*gamma_1(-delta)/(8*delta**2) - A**2*g**2*rho_0,1*(K_a - chi)**2*gamma_1(-K_a - 2*delta + omega_q)/(4*Delta**2*(K_a + delta)**2*(chi + delta)**2) - A**2*g**2*rho_0,1*gamma_1(-alpha_q - omega_q)/(4*Delta**2*(chi + delta)**2) - A**2*g**2*rho_0,1*gamma_1(-omega_q)/(8*Delta**2*delta**2) - A**2*g**2*rho_0,1*gamma_1(omega_q)/(8*Delta**2*delta**2) - g**2*rho_0,1*(A**2 + 2*(K_a + delta)*(chi + delta))**2*gamma_1(-delta + omega_q)/(8*Delta**2*(K_a + delta)**2*(chi + delta)**2) - rho_0,1*(-A**2*Delta**2*(chi + delta)**2 + A**2*delta**2*(Delta**2 + g**2) + 4*delta**2*g**2*(chi + delta)**2)**2*gamma_1(0)/(32*Delta**4*delta**4*(chi + delta)**4)"
      ]
     },
     "execution_count": 69,
     "metadata": {},
     "output_type": "execute_result"
    }
   ],
   "source": [
    "element "
   ]
  },
  {
   "cell_type": "code",
   "execution_count": 13,
   "metadata": {},
   "outputs": [],
   "source": [
    "import sympy as sp\n",
    "\n",
    "def filter_expression(expr, gamma_name=\"gamma_1\"):\n",
    "    gamma = sp.Function(gamma_name)\n",
    "    \n",
    "    # Substitute gamma(0) with 1 and other gamma values with 0\n",
    "    substituted_expr = expr\n",
    "    for f in expr.atoms(sp.Function):\n",
    "        if f.func == gamma:\n",
    "            if f.args[0] == 0:\n",
    "                substituted_expr = substituted_expr.subs(f, 1)\n",
    "            else:\n",
    "                substituted_expr = substituted_expr.subs(f, 0)\n",
    "    \n",
    "    # Check if the substituted expression still contains the gamma function\n",
    "    if not any(f.func == gamma for f in substituted_expr.atoms(sp.Function)):\n",
    "        return substituted_expr\n",
    "    else:\n",
    "        # Print terms that contain the gamma function\n",
    "        terms_with_gamma = [term for term in expr.args if gamma in term.atoms(sp.Function)]\n",
    "        for term in terms_with_gamma:\n",
    "            print(term)\n",
    "        return None"
   ]
  },
  {
   "cell_type": "code",
   "execution_count": 14,
   "metadata": {},
   "outputs": [],
   "source": [
    "dephasing_rate = filter_expression(result[0,1], gamma_name=\"gamma_1\")"
   ]
  },
  {
   "cell_type": "code",
   "execution_count": 28,
   "metadata": {},
   "outputs": [
    {
     "data": {
      "text/latex": [
       "$\\displaystyle - \\frac{\\left(- A^{2} \\Delta^{2} \\left(\\chi + \\delta\\right)^{2} + A^{2} \\delta^{2} \\left(\\Delta^{2} + g^{2}\\right) + 4 \\delta^{2} g^{2} \\left(\\chi + \\delta\\right)^{2}\\right)^{2}}{32 \\Delta^{4} \\delta^{4} \\left(\\chi + \\delta\\right)^{4}}$"
      ],
      "text/plain": [
       "-(-A**2*Delta**2*(chi + delta)**2 + A**2*delta**2*(Delta**2 + g**2) + 4*delta**2*g**2*(chi + delta)**2)**2/(32*Delta**4*delta**4*(chi + delta)**4)"
      ]
     },
     "execution_count": 28,
     "metadata": {},
     "output_type": "execute_result"
    }
   ],
   "source": [
    "dephasing_rate/dephasing_rate.args[1]"
   ]
  },
  {
   "cell_type": "code",
   "execution_count": 234,
   "metadata": {},
   "outputs": [
    {
     "data": {
      "text/latex": [
       "$\\displaystyle - \\frac{g^{4} \\rho_{0,1}}{2 \\Delta^{4}} + \\chi \\left(\\frac{A^{4} g^{2} \\rho_{0,1}}{8 \\Delta^{2} \\delta^{5}} + \\frac{A^{4} g^{4} \\rho_{0,1}}{8 \\Delta^{4} \\delta^{5}} + \\frac{A^{2} g^{2} \\rho_{0,1}}{2 \\Delta^{2} \\delta^{3}} + \\frac{A^{2} g^{4} \\rho_{0,1}}{2 \\Delta^{4} \\delta^{3}}\\right) - \\frac{A^{2} g^{4} \\rho_{0,1}}{4 \\Delta^{4} \\delta^{2}} - \\frac{A^{4} g^{4} \\rho_{0,1}}{32 \\Delta^{4} \\delta^{4}} + O\\left(\\chi^{2}\\right)$"
      ],
      "text/plain": [
       "-g**4*rho_0,1/(2*Delta**4) + chi*(A**4*g**2*rho_0,1/(8*Delta**2*delta**5) + A**4*g**4*rho_0,1/(8*Delta**4*delta**5) + A**2*g**2*rho_0,1/(2*Delta**2*delta**3) + A**2*g**4*rho_0,1/(2*Delta**4*delta**3)) - A**2*g**4*rho_0,1/(4*Delta**4*delta**2) - A**4*g**4*rho_0,1/(32*Delta**4*delta**4) + O(chi**2)"
      ]
     },
     "execution_count": 234,
     "metadata": {},
     "output_type": "execute_result"
    }
   ],
   "source": [
    "# Perform the Taylor expansion around delta/chi1c\n",
    "# Factor each term in the expanded expression\n",
    "factored_terms = [sp.factor(term) for term in dephasing_rate.expand().as_ordered_terms()]\n",
    "factored_expr = sum(factored_terms)\n",
    "# Define the variable\n",
    "x = sp.Symbol('x', real=True)\n",
    "factored_expr.series(chi1c, 0,2 )"
   ]
  },
  {
   "cell_type": "code",
   "execution_count": 193,
   "metadata": {},
   "outputs": [
    {
     "data": {
      "text/latex": [
       "$\\displaystyle chi1c$"
      ],
      "text/plain": [
       "chi1c"
      ]
     },
     "execution_count": 193,
     "metadata": {},
     "output_type": "execute_result"
    }
   ],
   "source": [
    "chi1c"
   ]
  },
  {
   "cell_type": "code",
   "execution_count": 174,
   "metadata": {},
   "outputs": [
    {
     "data": {
      "text/latex": [
       "$\\displaystyle - \\frac{A^{4} \\rho_{0,1}}{32 \\delta^{4}} + \\frac{A^{2} \\rho_{0,1} \\left(\\frac{A^{2} \\left(\\Delta^{2} + g^{2}\\right)}{4} + g^{2} \\left(\\chi + \\delta\\right)^{2}\\right)}{4 \\Delta^{2} \\delta^{2} \\left(\\chi + \\delta\\right)^{2}} - \\frac{\\rho_{0,1} \\left(\\frac{A^{2} \\left(\\Delta^{2} + g^{2}\\right)}{4} + g^{2} \\left(\\chi + \\delta\\right)^{2}\\right)^{2}}{2 \\Delta^{4} \\left(\\chi + \\delta\\right)^{4}}$"
      ],
      "text/plain": [
       "-A**4*rho_0,1/(32*delta**4) + A**2*rho_0,1*(A**2*(Delta**2 + g**2)/4 + g**2*(chi + delta)**2)/(4*Delta**2*delta**2*(chi + delta)**2) - rho_0,1*(A**2*(Delta**2 + g**2)/4 + g**2*(chi + delta)**2)**2/(2*Delta**4*(chi + delta)**4)"
      ]
     },
     "execution_count": 174,
     "metadata": {},
     "output_type": "execute_result"
    }
   ],
   "source": [
    "taylor_expansion"
   ]
  },
  {
   "cell_type": "code",
   "execution_count": 182,
   "metadata": {},
   "outputs": [
    {
     "name": "stdout",
     "output_type": "stream",
     "text": [
      "Full series with Big-O notation:\n",
      "1 - x + x**2/2 - x**3/6 + x**4/24 + O(x**5)\n",
      "\n",
      "Truncated series (polynomial):\n",
      "x**4/24 - x**3/6 + x**2/2 - x + 1\n"
     ]
    }
   ],
   "source": [
    "import sympy as sp\n",
    "\n",
    "# Define the variable\n",
    "x = sp.Symbol('x', real=True)\n",
    "\n",
    "# Define the function e^(-x)\n",
    "f = sp.exp(-x)\n",
    "\n",
    "# Expand e^(-x) around x = 0 up to x^4\n",
    "taylor_series = f.series(x, 0, 5)  # 5 means up to x^4\n",
    "truncated_series = taylor_series.removeO()  # remove the Big-O term\n",
    "\n",
    "print(\"Full series with Big-O notation:\")\n",
    "print(taylor_series)\n",
    "\n",
    "print(\"\\nTruncated series (polynomial):\")\n",
    "print(truncated_series)"
   ]
  },
  {
   "cell_type": "code",
   "execution_count": null,
   "metadata": {},
   "outputs": [],
   "source": []
  }
 ],
 "metadata": {
  "kernelspec": {
   "display_name": "fluxonium",
   "language": "python",
   "name": "python3"
  },
  "language_info": {
   "codemirror_mode": {
    "name": "ipython",
    "version": 3
   },
   "file_extension": ".py",
   "mimetype": "text/x-python",
   "name": "python",
   "nbconvert_exporter": "python",
   "pygments_lexer": "ipython3",
   "version": "3.11.8"
  }
 },
 "nbformat": 4,
 "nbformat_minor": 2
}
