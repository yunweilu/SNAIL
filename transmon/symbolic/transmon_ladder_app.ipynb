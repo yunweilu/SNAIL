{
 "cells": [
  {
   "cell_type": "code",
   "execution_count": 4,
   "metadata": {},
   "outputs": [],
   "source": [
    "from sympy.physics.secondquant import *\n",
    "from sympy import symbols\n",
    "import sympy as sp\n",
    "from no import normal"
   ]
  },
  {
   "cell_type": "code",
   "execution_count": 5,
   "metadata": {},
   "outputs": [],
   "source": [
    "ind_s = symbols('s')\n",
    "ind_c = symbols('c')\n",
    "\n",
    "s = B(ind_s)\n",
    "sd = Bd(ind_s)\n",
    "c = B(ind_c)\n",
    "cd = Bd(ind_c)"
   ]
  },
  {
   "cell_type": "code",
   "execution_count": 6,
   "metadata": {},
   "outputs": [],
   "source": [
    "g, Delta,K = symbols('g Delta K', real=True)"
   ]
  },
  {
   "cell_type": "code",
   "execution_count": 7,
   "metadata": {},
   "outputs": [],
   "source": [
    "def _m_normal(expr):\n",
    "    if not expr.is_Mul:\n",
    "        return expr\n",
    "    else:\n",
    "        c_part = []\n",
    "        noncomm = []\n",
    "        for factor in expr.args:\n",
    "            if factor.is_commutative:\n",
    "                c_part.append(factor)\n",
    "            else:\n",
    "                noncomm.append(factor)\n",
    "                \n",
    "        expr_s = 1\n",
    "        expr_c = 1\n",
    "        expr_other = 1\n",
    "        \n",
    "        for factor in noncomm:\n",
    "            if factor.is_Pow:\n",
    "                if factor.args[0].args[0] == ind_s:\n",
    "                    expr_s *= factor\n",
    "                elif factor.args[0].args[0] == ind_c:\n",
    "                    expr_c *= factor\n",
    "                else:\n",
    "                    expr_other *= factor\n",
    "            else:\n",
    "                if factor.args[0] == ind_s:\n",
    "                    expr_s *= factor\n",
    "                elif factor.args[0] == ind_c:\n",
    "                    expr_c *= factor\n",
    "                else:\n",
    "                    expr_other *= factor\n",
    "                    \n",
    "        if expr_s != 1:\n",
    "            expr_s = normal(expr_s)\n",
    "        if expr_c != 1:\n",
    "            expr_c = normal(expr_c)\n",
    "        if expr_other != 1:\n",
    "            expr_other = normal(expr_other)\n",
    "    \n",
    "        return sp.Mul(*c_part) * expr_s * expr_c * expr_other    \n",
    "\n",
    "def m_normal(expr):\n",
    "    expr = expr.expand()\n",
    "    if isinstance(expr, sp.Add):\n",
    "        return sp.Add(*[_m_normal(term) for term in expr.args])\n",
    "    else:\n",
    "        return _m_normal(expr)"
   ]
  },
  {
   "cell_type": "code",
   "execution_count": 8,
   "metadata": {},
   "outputs": [],
   "source": [
    "D1 = (g/Delta*(sd*c - K/Delta*(sd*s-1)*sd*c)).expand() - (g/Delta*(s*cd - K/Delta*s*(sd*s-1)*cd)).expand()"
   ]
  },
  {
   "cell_type": "code",
   "execution_count": 9,
   "metadata": {},
   "outputs": [
    {
     "data": {
      "text/latex": [
       "$\\displaystyle - (\\frac{g b_{s} {b^\\dagger_{c}}}{\\Delta} + \\frac{K g b_{s} {b^\\dagger_{c}}}{\\Delta^{2}} - \\frac{K g b_{s} {b^\\dagger_{s}} b_{s} {b^\\dagger_{c}}}{\\Delta^{2}}) + \\frac{g {b^\\dagger_{s}} b_{c}}{\\Delta} + \\frac{K g {b^\\dagger_{s}} b_{c}}{\\Delta^{2}} - \\frac{K g {b^\\dagger_{s}} b_{s} {b^\\dagger_{s}} b_{c}}{\\Delta^{2}}$"
      ],
      "text/plain": [
       "-(g*AnnihilateBoson(s)*CreateBoson(c)/Delta + K*g*AnnihilateBoson(s)*CreateBoson(c)/Delta**2 - K*g*AnnihilateBoson(s)*CreateBoson(s)*AnnihilateBoson(s)*CreateBoson(c)/Delta**2) + g*CreateBoson(s)*AnnihilateBoson(c)/Delta + K*g*CreateBoson(s)*AnnihilateBoson(c)/Delta**2 - K*g*CreateBoson(s)*AnnihilateBoson(s)*CreateBoson(s)*AnnihilateBoson(c)/Delta**2"
      ]
     },
     "execution_count": 9,
     "metadata": {},
     "output_type": "execute_result"
    }
   ],
   "source": [
    "D1"
   ]
  },
  {
   "cell_type": "code",
   "execution_count": 10,
   "metadata": {},
   "outputs": [
    {
     "data": {
      "text/latex": [
       "$\\displaystyle - \\frac{g b_{c}}{\\Delta} - \\frac{K g b_{s}^{2} {b^\\dagger_{c}}}{\\Delta^{2}} + \\frac{2 K g {b^\\dagger_{s}} b_{s} b_{c}}{\\Delta^{2}}$"
      ],
      "text/plain": [
       "-g*AnnihilateBoson(c)/Delta - K*g*AnnihilateBoson(s)**2*CreateBoson(c)/Delta**2 + 2*K*g*CreateBoson(s)*AnnihilateBoson(s)*AnnihilateBoson(c)/Delta**2"
      ]
     },
     "execution_count": 10,
     "metadata": {},
     "output_type": "execute_result"
    }
   ],
   "source": [
    "m_normal(Commutator(D1,s).doit()).expand()"
   ]
  },
  {
   "cell_type": "code",
   "execution_count": 11,
   "metadata": {},
   "outputs": [],
   "source": [
    "sds_transformed = m_normal((m_normal(sd+Commutator(D1,sd).doit()).expand()*m_normal(s+Commutator(D1,s).doit()).expand()).expand()).expand()"
   ]
  },
  {
   "cell_type": "code",
   "execution_count": 12,
   "metadata": {},
   "outputs": [
    {
     "data": {
      "text/latex": [
       "$\\displaystyle {b^\\dagger_{s}} b_{s} - \\frac{g b_{s} {b^\\dagger_{c}}}{\\Delta} - \\frac{g {b^\\dagger_{s}} b_{c}}{\\Delta} + \\frac{K g {b^\\dagger_{s}} b_{s}^{2} {b^\\dagger_{c}}}{\\Delta^{2}} + \\frac{K g {b^\\dagger_{s}}^{2} b_{s} b_{c}}{\\Delta^{2}} + \\frac{g^{2} {b^\\dagger_{c}} b_{c}}{\\Delta^{2}} + \\frac{K g^{2} b_{s}^{2} {b^\\dagger_{c}}^{2}}{\\Delta^{3}} - \\frac{4 K g^{2} {b^\\dagger_{s}} b_{s} {b^\\dagger_{c}} b_{c}}{\\Delta^{3}} + \\frac{K g^{2} {b^\\dagger_{s}}^{2} b_{c}^{2}}{\\Delta^{3}} + \\frac{4 K^{2} g^{2} {b^\\dagger_{s}} b_{s} {b^\\dagger_{c}} b_{c}}{\\Delta^{4}} - \\frac{2 K^{2} g^{2} {b^\\dagger_{s}} b_{s}^{3} {b^\\dagger_{c}}^{2}}{\\Delta^{4}} + \\frac{K^{2} g^{2} {b^\\dagger_{s}}^{2} b_{s}^{2}}{\\Delta^{4}} + \\frac{5 K^{2} g^{2} {b^\\dagger_{s}}^{2} b_{s}^{2} {b^\\dagger_{c}} b_{c}}{\\Delta^{4}} - \\frac{2 K^{2} g^{2} {b^\\dagger_{s}}^{3} b_{s} b_{c}^{2}}{\\Delta^{4}}$"
      ],
      "text/plain": [
       "CreateBoson(s)*AnnihilateBoson(s) - g*AnnihilateBoson(s)*CreateBoson(c)/Delta - g*CreateBoson(s)*AnnihilateBoson(c)/Delta + K*g*CreateBoson(s)*AnnihilateBoson(s)**2*CreateBoson(c)/Delta**2 + K*g*CreateBoson(s)**2*AnnihilateBoson(s)*AnnihilateBoson(c)/Delta**2 + g**2*CreateBoson(c)*AnnihilateBoson(c)/Delta**2 + K*g**2*AnnihilateBoson(s)**2*CreateBoson(c)**2/Delta**3 - 4*K*g**2*CreateBoson(s)*AnnihilateBoson(s)*CreateBoson(c)*AnnihilateBoson(c)/Delta**3 + K*g**2*CreateBoson(s)**2*AnnihilateBoson(c)**2/Delta**3 + 4*K**2*g**2*CreateBoson(s)*AnnihilateBoson(s)*CreateBoson(c)*AnnihilateBoson(c)/Delta**4 - 2*K**2*g**2*CreateBoson(s)*AnnihilateBoson(s)**3*CreateBoson(c)**2/Delta**4 + K**2*g**2*CreateBoson(s)**2*AnnihilateBoson(s)**2/Delta**4 + 5*K**2*g**2*CreateBoson(s)**2*AnnihilateBoson(s)**2*CreateBoson(c)*AnnihilateBoson(c)/Delta**4 - 2*K**2*g**2*CreateBoson(s)**3*AnnihilateBoson(s)*AnnihilateBoson(c)**2/Delta**4"
      ]
     },
     "execution_count": 12,
     "metadata": {},
     "output_type": "execute_result"
    }
   ],
   "source": [
    "sds_transformed"
   ]
  },
  {
   "cell_type": "code",
   "execution_count": null,
   "metadata": {},
   "outputs": [],
   "source": []
  }
 ],
 "metadata": {
  "kernelspec": {
   "display_name": "fluxonium",
   "language": "python",
   "name": "python3"
  },
  "language_info": {
   "codemirror_mode": {
    "name": "ipython",
    "version": 3
   },
   "file_extension": ".py",
   "mimetype": "text/x-python",
   "name": "python",
   "nbconvert_exporter": "python",
   "pygments_lexer": "ipython3",
   "version": "3.11.8"
  }
 },
 "nbformat": 4,
 "nbformat_minor": 2
}
