{
 "cells": [
  {
   "cell_type": "code",
   "execution_count": 40,
   "metadata": {},
   "outputs": [
    {
     "name": "stdout",
     "output_type": "stream",
     "text": [
      "Matrix([[0, sqrt(gamma_0(epsilon1))], [0, 0]])\n",
      "Matrix([[0, 0], [sqrt(gamma_0(-epsilon1)), 0]])\n"
     ]
    }
   ],
   "source": [
    "import sympy as sp\n",
    "\n",
    "def compute_final_expr(evals, A_list):\n",
    "    d = len(evals)\n",
    "    \n",
    "    # Create a symbolic d x d matrix rho\n",
    "    rho_symbols = [\n",
    "        [sp.Symbol(f\"rho_{i},{j}\") for j in range(d)]\n",
    "        for i in range(d)\n",
    "    ]\n",
    "    rho = sp.Matrix(rho_symbols)\n",
    "    \n",
    "    final_exprs = []\n",
    "    \n",
    "    for idx, A in enumerate(A_list):\n",
    "        A = sp.Matrix(A)\n",
    "        \n",
    "        # Define gamma as a symbolic function\n",
    "        gamma = sp.Function(f\"gamma_{idx}\")\n",
    "        \n",
    "        # Multiply each A_ij by gamma(evals[i] - evals[j])\n",
    "        for i in range(d):\n",
    "            for j in range(d):\n",
    "                A[i, j] *= sp.sqrt(gamma(sp.simplify(-evals[i] + evals[j])))\n",
    "        \n",
    "        grouped_matrices = {}\n",
    "        for i in range(d):\n",
    "            for j in range(d):\n",
    "                expr = A[i, j]\n",
    "                # Look for gamma(...) in each element\n",
    "                for f in expr.atoms(sp.Function):\n",
    "                    if f.func == gamma:\n",
    "                        arg = f.args[0]\n",
    "                        # Factor out the gamma(...) to find the remaining coefficient\n",
    "                        coeff = sp.simplify(expr)\n",
    "                        if arg not in grouped_matrices:\n",
    "                            grouped_matrices[arg] = sp.zeros(d)\n",
    "                        grouped_matrices[arg][i, j] = coeff\n",
    "        \n",
    "        new_terms = {}\n",
    "        for arg, A_mat in grouped_matrices.items():\n",
    "            print(A_mat)\n",
    "            A_mat_d = A_mat.T\n",
    "            new_expr = A_mat * rho * A_mat_d - sp.Rational(1, 2) * (A_mat_d * A_mat * rho + rho * A_mat_d * A_mat)\n",
    "            new_terms[arg] = new_expr\n",
    "        \n",
    "        # Sum all terms together, starting with a zero matrix instead of an integer\n",
    "        final_expr = sum(new_terms.values(), sp.zeros(d, d))\n",
    "        final_exprs.append(final_expr)\n",
    "    \n",
    "    return final_exprs,grouped_matrices\n",
    "\n",
    "# Example usage\n",
    "# d = 4\n",
    "# evals = [\n",
    "#     0 if i == 0 else sp.Symbol(\"epsilon_1\") if i == 1 else sp.Symbol(f\"epsilon_{i}\")\n",
    "#     for i in range(d)\n",
    "# ]\n",
    "# evals[3] = sp.Symbol(f\"epsilon_{1}\") + sp.Symbol(f\"epsilon_{2}\")\n",
    "# import numpy as np\n",
    "# A_list = [\n",
    "#     np.kron(np.array([[0,1],[1,0]]),np.eye(2)),\n",
    "# ]\n",
    "# A_list = [\n",
    "#     np.sqrt(1/2)*np.kron(np.array([[-1,0],[0,1]]),np.eye(2)),\n",
    "# ]\n",
    "d = 2\n",
    "evals = [\n",
    "    0 if i == 0 else sp.Symbol(\"epsilon1\") if i == 1 else sp.Symbol(f\"epsilon_{i}\")\n",
    "    for i in range(d)\n",
    "]\n",
    "A_list = [\n",
    "    [[0, 1], [1, 0]],\n",
    "    # [[-sp.sqrt(1/2), 0], [0, sp.sqrt(1/2)]]\n",
    "]\n",
    "\n",
    "final_exprs,matrices = compute_final_expr(evals, A_list)"
   ]
  },
  {
   "cell_type": "code",
   "execution_count": 45,
   "metadata": {},
   "outputs": [
    {
     "data": {
      "text/latex": [
       "$\\displaystyle \\left[\\begin{matrix}s_{0,0} \\left(- \\rho_{0,0} \\gamma_{0}{\\left(- \\epsilon_{1} \\right)} + \\rho_{1,1} \\gamma_{0}{\\left(\\epsilon_{1} \\right)}\\right) & s_{0,1} \\left(- \\rho_{0,0} \\gamma_{0}{\\left(- \\epsilon_{1} \\right)} + \\rho_{1,1} \\gamma_{0}{\\left(\\epsilon_{1} \\right)}\\right) & s_{0,0} \\left(- \\frac{\\rho_{0,1} \\gamma_{0}{\\left(- \\epsilon_{1} \\right)}}{2} - \\frac{\\rho_{0,1} \\gamma_{0}{\\left(\\epsilon_{1} \\right)}}{2}\\right) & s_{0,1} \\left(- \\frac{\\rho_{0,1} \\gamma_{0}{\\left(- \\epsilon_{1} \\right)}}{2} - \\frac{\\rho_{0,1} \\gamma_{0}{\\left(\\epsilon_{1} \\right)}}{2}\\right)\\\\s_{1,0} \\left(- \\rho_{0,0} \\gamma_{0}{\\left(- \\epsilon_{1} \\right)} + \\rho_{1,1} \\gamma_{0}{\\left(\\epsilon_{1} \\right)}\\right) & s_{1,1} \\left(- \\rho_{0,0} \\gamma_{0}{\\left(- \\epsilon_{1} \\right)} + \\rho_{1,1} \\gamma_{0}{\\left(\\epsilon_{1} \\right)}\\right) & s_{1,0} \\left(- \\frac{\\rho_{0,1} \\gamma_{0}{\\left(- \\epsilon_{1} \\right)}}{2} - \\frac{\\rho_{0,1} \\gamma_{0}{\\left(\\epsilon_{1} \\right)}}{2}\\right) & s_{1,1} \\left(- \\frac{\\rho_{0,1} \\gamma_{0}{\\left(- \\epsilon_{1} \\right)}}{2} - \\frac{\\rho_{0,1} \\gamma_{0}{\\left(\\epsilon_{1} \\right)}}{2}\\right)\\\\s_{0,0} \\left(- \\frac{\\rho_{1,0} \\gamma_{0}{\\left(- \\epsilon_{1} \\right)}}{2} - \\frac{\\rho_{1,0} \\gamma_{0}{\\left(\\epsilon_{1} \\right)}}{2}\\right) & s_{0,1} \\left(- \\frac{\\rho_{1,0} \\gamma_{0}{\\left(- \\epsilon_{1} \\right)}}{2} - \\frac{\\rho_{1,0} \\gamma_{0}{\\left(\\epsilon_{1} \\right)}}{2}\\right) & s_{0,0} \\left(\\rho_{0,0} \\gamma_{0}{\\left(- \\epsilon_{1} \\right)} - \\rho_{1,1} \\gamma_{0}{\\left(\\epsilon_{1} \\right)}\\right) & s_{0,1} \\left(\\rho_{0,0} \\gamma_{0}{\\left(- \\epsilon_{1} \\right)} - \\rho_{1,1} \\gamma_{0}{\\left(\\epsilon_{1} \\right)}\\right)\\\\s_{1,0} \\left(- \\frac{\\rho_{1,0} \\gamma_{0}{\\left(- \\epsilon_{1} \\right)}}{2} - \\frac{\\rho_{1,0} \\gamma_{0}{\\left(\\epsilon_{1} \\right)}}{2}\\right) & s_{1,1} \\left(- \\frac{\\rho_{1,0} \\gamma_{0}{\\left(- \\epsilon_{1} \\right)}}{2} - \\frac{\\rho_{1,0} \\gamma_{0}{\\left(\\epsilon_{1} \\right)}}{2}\\right) & s_{1,0} \\left(\\rho_{0,0} \\gamma_{0}{\\left(- \\epsilon_{1} \\right)} - \\rho_{1,1} \\gamma_{0}{\\left(\\epsilon_{1} \\right)}\\right) & s_{1,1} \\left(\\rho_{0,0} \\gamma_{0}{\\left(- \\epsilon_{1} \\right)} - \\rho_{1,1} \\gamma_{0}{\\left(\\epsilon_{1} \\right)}\\right)\\end{matrix}\\right]$"
      ],
      "text/plain": [
       "Matrix([\n",
       "[    s_0,0*(-rho_0,0*gamma_0(-epsilon1) + rho_1,1*gamma_0(epsilon1)),     s_0,1*(-rho_0,0*gamma_0(-epsilon1) + rho_1,1*gamma_0(epsilon1)), s_0,0*(-rho_0,1*gamma_0(-epsilon1)/2 - rho_0,1*gamma_0(epsilon1)/2), s_0,1*(-rho_0,1*gamma_0(-epsilon1)/2 - rho_0,1*gamma_0(epsilon1)/2)],\n",
       "[    s_1,0*(-rho_0,0*gamma_0(-epsilon1) + rho_1,1*gamma_0(epsilon1)),     s_1,1*(-rho_0,0*gamma_0(-epsilon1) + rho_1,1*gamma_0(epsilon1)), s_1,0*(-rho_0,1*gamma_0(-epsilon1)/2 - rho_0,1*gamma_0(epsilon1)/2), s_1,1*(-rho_0,1*gamma_0(-epsilon1)/2 - rho_0,1*gamma_0(epsilon1)/2)],\n",
       "[s_0,0*(-rho_1,0*gamma_0(-epsilon1)/2 - rho_1,0*gamma_0(epsilon1)/2), s_0,1*(-rho_1,0*gamma_0(-epsilon1)/2 - rho_1,0*gamma_0(epsilon1)/2),      s_0,0*(rho_0,0*gamma_0(-epsilon1) - rho_1,1*gamma_0(epsilon1)),      s_0,1*(rho_0,0*gamma_0(-epsilon1) - rho_1,1*gamma_0(epsilon1))],\n",
       "[s_1,0*(-rho_1,0*gamma_0(-epsilon1)/2 - rho_1,0*gamma_0(epsilon1)/2), s_1,1*(-rho_1,0*gamma_0(-epsilon1)/2 - rho_1,0*gamma_0(epsilon1)/2),      s_1,0*(rho_0,0*gamma_0(-epsilon1) - rho_1,1*gamma_0(epsilon1)),      s_1,1*(rho_0,0*gamma_0(-epsilon1) - rho_1,1*gamma_0(epsilon1))]])"
      ]
     },
     "execution_count": 45,
     "metadata": {},
     "output_type": "execute_result"
    }
   ],
   "source": [
    "from sympy.physics.quantum import TensorProduct\n",
    "rho_symbols = [\n",
    "        [sp.Symbol(f\"s_{i},{j}\") for j in range(2)]\n",
    "        for i in range(2)\n",
    "    ]\n",
    "rho = sp.Matrix(rho_symbols)\n",
    "TensorProduct(final_exprs[0],rho)"
   ]
  },
  {
   "cell_type": "code",
   "execution_count": 36,
   "metadata": {},
   "outputs": [
    {
     "data": {
      "text/plain": [
       "{epsilon_2: Matrix([\n",
       " [0, 0, 1.0*sqrt(gamma_0(epsilon_2)),                            0],\n",
       " [0, 0,                            0, 1.0*sqrt(gamma_0(epsilon_2))],\n",
       " [0, 0,                            0,                            0],\n",
       " [0, 0,                            0,                            0]]),\n",
       " -epsilon_2: Matrix([\n",
       " [                            0,                             0, 0, 0],\n",
       " [                            0,                             0, 0, 0],\n",
       " [1.0*sqrt(gamma_0(-epsilon_2)),                             0, 0, 0],\n",
       " [                            0, 1.0*sqrt(gamma_0(-epsilon_2)), 0, 0]])}"
      ]
     },
     "execution_count": 36,
     "metadata": {},
     "output_type": "execute_result"
    }
   ],
   "source": [
    "matrices"
   ]
  },
  {
   "cell_type": "code",
   "execution_count": 39,
   "metadata": {},
   "outputs": [
    {
     "data": {
      "text/plain": [
       "array([[0., 0., 1., 0.],\n",
       "       [0., 0., 0., 1.],\n",
       "       [0., 0., 0., 0.],\n",
       "       [0., 0., 0., 0.]])"
      ]
     },
     "execution_count": 39,
     "metadata": {},
     "output_type": "execute_result"
    }
   ],
   "source": [
    "np.kron(np.array([[0,1],[0,0]]),np.eye(2))"
   ]
  },
  {
   "cell_type": "code",
   "execution_count": 37,
   "metadata": {},
   "outputs": [
    {
     "data": {
      "text/latex": [
       "$\\displaystyle \\left[\\begin{matrix}- 1.0 \\rho_{0,0} \\gamma_{0}{\\left(- \\epsilon_{2} \\right)} + 1.0 \\rho_{2,2} \\gamma_{0}{\\left(\\epsilon_{2} \\right)} & - 1.0 \\rho_{0,1} \\gamma_{0}{\\left(- \\epsilon_{2} \\right)} + 1.0 \\rho_{2,3} \\gamma_{0}{\\left(\\epsilon_{2} \\right)} & - 0.5 \\rho_{0,2} \\gamma_{0}{\\left(- \\epsilon_{2} \\right)} - 0.5 \\rho_{0,2} \\gamma_{0}{\\left(\\epsilon_{2} \\right)} & - 0.5 \\rho_{0,3} \\gamma_{0}{\\left(- \\epsilon_{2} \\right)} - 0.5 \\rho_{0,3} \\gamma_{0}{\\left(\\epsilon_{2} \\right)}\\\\- 1.0 \\rho_{1,0} \\gamma_{0}{\\left(- \\epsilon_{2} \\right)} + 1.0 \\rho_{3,2} \\gamma_{0}{\\left(\\epsilon_{2} \\right)} & - 1.0 \\rho_{1,1} \\gamma_{0}{\\left(- \\epsilon_{2} \\right)} + 1.0 \\rho_{3,3} \\gamma_{0}{\\left(\\epsilon_{2} \\right)} & - 0.5 \\rho_{1,2} \\gamma_{0}{\\left(- \\epsilon_{2} \\right)} - 0.5 \\rho_{1,2} \\gamma_{0}{\\left(\\epsilon_{2} \\right)} & - 0.5 \\rho_{1,3} \\gamma_{0}{\\left(- \\epsilon_{2} \\right)} - 0.5 \\rho_{1,3} \\gamma_{0}{\\left(\\epsilon_{2} \\right)}\\\\- 0.5 \\rho_{2,0} \\gamma_{0}{\\left(- \\epsilon_{2} \\right)} - 0.5 \\rho_{2,0} \\gamma_{0}{\\left(\\epsilon_{2} \\right)} & - 0.5 \\rho_{2,1} \\gamma_{0}{\\left(- \\epsilon_{2} \\right)} - 0.5 \\rho_{2,1} \\gamma_{0}{\\left(\\epsilon_{2} \\right)} & 1.0 \\rho_{0,0} \\gamma_{0}{\\left(- \\epsilon_{2} \\right)} - 1.0 \\rho_{2,2} \\gamma_{0}{\\left(\\epsilon_{2} \\right)} & 1.0 \\rho_{0,1} \\gamma_{0}{\\left(- \\epsilon_{2} \\right)} - 1.0 \\rho_{2,3} \\gamma_{0}{\\left(\\epsilon_{2} \\right)}\\\\- 0.5 \\rho_{3,0} \\gamma_{0}{\\left(- \\epsilon_{2} \\right)} - 0.5 \\rho_{3,0} \\gamma_{0}{\\left(\\epsilon_{2} \\right)} & - 0.5 \\rho_{3,1} \\gamma_{0}{\\left(- \\epsilon_{2} \\right)} - 0.5 \\rho_{3,1} \\gamma_{0}{\\left(\\epsilon_{2} \\right)} & 1.0 \\rho_{1,0} \\gamma_{0}{\\left(- \\epsilon_{2} \\right)} - 1.0 \\rho_{3,2} \\gamma_{0}{\\left(\\epsilon_{2} \\right)} & 1.0 \\rho_{1,1} \\gamma_{0}{\\left(- \\epsilon_{2} \\right)} - 1.0 \\rho_{3,3} \\gamma_{0}{\\left(\\epsilon_{2} \\right)}\\end{matrix}\\right]$"
      ],
      "text/plain": [
       "Matrix([\n",
       "[-1.0*rho_0,0*gamma_0(-epsilon_2) + 1.0*rho_2,2*gamma_0(epsilon_2), -1.0*rho_0,1*gamma_0(-epsilon_2) + 1.0*rho_2,3*gamma_0(epsilon_2), -0.5*rho_0,2*gamma_0(-epsilon_2) - 0.5*rho_0,2*gamma_0(epsilon_2), -0.5*rho_0,3*gamma_0(-epsilon_2) - 0.5*rho_0,3*gamma_0(epsilon_2)],\n",
       "[-1.0*rho_1,0*gamma_0(-epsilon_2) + 1.0*rho_3,2*gamma_0(epsilon_2), -1.0*rho_1,1*gamma_0(-epsilon_2) + 1.0*rho_3,3*gamma_0(epsilon_2), -0.5*rho_1,2*gamma_0(-epsilon_2) - 0.5*rho_1,2*gamma_0(epsilon_2), -0.5*rho_1,3*gamma_0(-epsilon_2) - 0.5*rho_1,3*gamma_0(epsilon_2)],\n",
       "[-0.5*rho_2,0*gamma_0(-epsilon_2) - 0.5*rho_2,0*gamma_0(epsilon_2), -0.5*rho_2,1*gamma_0(-epsilon_2) - 0.5*rho_2,1*gamma_0(epsilon_2),  1.0*rho_0,0*gamma_0(-epsilon_2) - 1.0*rho_2,2*gamma_0(epsilon_2),  1.0*rho_0,1*gamma_0(-epsilon_2) - 1.0*rho_2,3*gamma_0(epsilon_2)],\n",
       "[-0.5*rho_3,0*gamma_0(-epsilon_2) - 0.5*rho_3,0*gamma_0(epsilon_2), -0.5*rho_3,1*gamma_0(-epsilon_2) - 0.5*rho_3,1*gamma_0(epsilon_2),  1.0*rho_1,0*gamma_0(-epsilon_2) - 1.0*rho_3,2*gamma_0(epsilon_2),  1.0*rho_1,1*gamma_0(-epsilon_2) - 1.0*rho_3,3*gamma_0(epsilon_2)]])"
      ]
     },
     "execution_count": 37,
     "metadata": {},
     "output_type": "execute_result"
    }
   ],
   "source": [
    "final_exprs[0]"
   ]
  },
  {
   "cell_type": "code",
   "execution_count": 18,
   "metadata": {},
   "outputs": [
    {
     "data": {
      "text/latex": [
       "$\\displaystyle \\left[\\begin{matrix}- 1.0 \\rho_{0,0} \\gamma_{0}{\\left(- \\epsilon_{2} \\right)} + 1.0 \\rho_{2,2} \\gamma_{0}{\\left(\\epsilon_{2} \\right)} & - 0.5 \\rho_{0,1} \\gamma_{0}{\\left(- \\epsilon_{2} \\right)} - 0.5 \\rho_{0,1} \\gamma_{0}{\\left(\\epsilon_{1} - \\epsilon_{3} \\right)} & - 0.5 \\rho_{0,2} \\gamma_{0}{\\left(- \\epsilon_{2} \\right)} - 0.5 \\rho_{0,2} \\gamma_{0}{\\left(\\epsilon_{2} \\right)} & - 0.5 \\rho_{0,3} \\gamma_{0}{\\left(- \\epsilon_{2} \\right)} - 0.5 \\rho_{0,3} \\gamma_{0}{\\left(- \\epsilon_{1} + \\epsilon_{3} \\right)}\\\\- 0.5 \\rho_{1,0} \\gamma_{0}{\\left(- \\epsilon_{2} \\right)} - 0.5 \\rho_{1,0} \\gamma_{0}{\\left(\\epsilon_{1} - \\epsilon_{3} \\right)} & - 1.0 \\rho_{1,1} \\gamma_{0}{\\left(\\epsilon_{1} - \\epsilon_{3} \\right)} + 1.0 \\rho_{3,3} \\gamma_{0}{\\left(- \\epsilon_{1} + \\epsilon_{3} \\right)} & - 0.5 \\rho_{1,2} \\gamma_{0}{\\left(\\epsilon_{2} \\right)} - 0.5 \\rho_{1,2} \\gamma_{0}{\\left(\\epsilon_{1} - \\epsilon_{3} \\right)} & - 0.5 \\rho_{1,3} \\gamma_{0}{\\left(- \\epsilon_{1} + \\epsilon_{3} \\right)} - 0.5 \\rho_{1,3} \\gamma_{0}{\\left(\\epsilon_{1} - \\epsilon_{3} \\right)}\\\\- 0.5 \\rho_{2,0} \\gamma_{0}{\\left(- \\epsilon_{2} \\right)} - 0.5 \\rho_{2,0} \\gamma_{0}{\\left(\\epsilon_{2} \\right)} & - 0.5 \\rho_{2,1} \\gamma_{0}{\\left(\\epsilon_{2} \\right)} - 0.5 \\rho_{2,1} \\gamma_{0}{\\left(\\epsilon_{1} - \\epsilon_{3} \\right)} & 1.0 \\rho_{0,0} \\gamma_{0}{\\left(- \\epsilon_{2} \\right)} - 1.0 \\rho_{2,2} \\gamma_{0}{\\left(\\epsilon_{2} \\right)} & - 0.5 \\rho_{2,3} \\gamma_{0}{\\left(\\epsilon_{2} \\right)} - 0.5 \\rho_{2,3} \\gamma_{0}{\\left(- \\epsilon_{1} + \\epsilon_{3} \\right)}\\\\- 0.5 \\rho_{3,0} \\gamma_{0}{\\left(- \\epsilon_{2} \\right)} - 0.5 \\rho_{3,0} \\gamma_{0}{\\left(- \\epsilon_{1} + \\epsilon_{3} \\right)} & - 0.5 \\rho_{3,1} \\gamma_{0}{\\left(- \\epsilon_{1} + \\epsilon_{3} \\right)} - 0.5 \\rho_{3,1} \\gamma_{0}{\\left(\\epsilon_{1} - \\epsilon_{3} \\right)} & - 0.5 \\rho_{3,2} \\gamma_{0}{\\left(\\epsilon_{2} \\right)} - 0.5 \\rho_{3,2} \\gamma_{0}{\\left(- \\epsilon_{1} + \\epsilon_{3} \\right)} & 1.0 \\rho_{1,1} \\gamma_{0}{\\left(\\epsilon_{1} - \\epsilon_{3} \\right)} - 1.0 \\rho_{3,3} \\gamma_{0}{\\left(- \\epsilon_{1} + \\epsilon_{3} \\right)}\\end{matrix}\\right]$"
      ],
      "text/plain": [
       "Matrix([\n",
       "[            -1.0*rho_0,0*gamma_0(-epsilon_2) + 1.0*rho_2,2*gamma_0(epsilon_2),            -0.5*rho_0,1*gamma_0(-epsilon_2) - 0.5*rho_0,1*gamma_0(epsilon1 - epsilon_3),            -0.5*rho_0,2*gamma_0(-epsilon_2) - 0.5*rho_0,2*gamma_0(epsilon_2),           -0.5*rho_0,3*gamma_0(-epsilon_2) - 0.5*rho_0,3*gamma_0(-epsilon1 + epsilon_3)],\n",
       "[ -0.5*rho_1,0*gamma_0(-epsilon_2) - 0.5*rho_1,0*gamma_0(epsilon1 - epsilon_3), -1.0*rho_1,1*gamma_0(epsilon1 - epsilon_3) + 1.0*rho_3,3*gamma_0(-epsilon1 + epsilon_3),  -0.5*rho_1,2*gamma_0(epsilon_2) - 0.5*rho_1,2*gamma_0(epsilon1 - epsilon_3), -0.5*rho_1,3*gamma_0(-epsilon1 + epsilon_3) - 0.5*rho_1,3*gamma_0(epsilon1 - epsilon_3)],\n",
       "[            -0.5*rho_2,0*gamma_0(-epsilon_2) - 0.5*rho_2,0*gamma_0(epsilon_2),             -0.5*rho_2,1*gamma_0(epsilon_2) - 0.5*rho_2,1*gamma_0(epsilon1 - epsilon_3),             1.0*rho_0,0*gamma_0(-epsilon_2) - 1.0*rho_2,2*gamma_0(epsilon_2),            -0.5*rho_2,3*gamma_0(epsilon_2) - 0.5*rho_2,3*gamma_0(-epsilon1 + epsilon_3)],\n",
       "[-0.5*rho_3,0*gamma_0(-epsilon_2) - 0.5*rho_3,0*gamma_0(-epsilon1 + epsilon_3), -0.5*rho_3,1*gamma_0(-epsilon1 + epsilon_3) - 0.5*rho_3,1*gamma_0(epsilon1 - epsilon_3), -0.5*rho_3,2*gamma_0(epsilon_2) - 0.5*rho_3,2*gamma_0(-epsilon1 + epsilon_3),  1.0*rho_1,1*gamma_0(epsilon1 - epsilon_3) - 1.0*rho_3,3*gamma_0(-epsilon1 + epsilon_3)]])"
      ]
     },
     "execution_count": 18,
     "metadata": {},
     "output_type": "execute_result"
    }
   ],
   "source": [
    "final_exprs[0]"
   ]
  },
  {
   "cell_type": "code",
   "execution_count": 13,
   "metadata": {},
   "outputs": [
    {
     "data": {
      "text/latex": [
       "$\\displaystyle \\left[\\begin{matrix}- \\rho_{0,0} \\gamma_{0}{\\left(- \\epsilon_{1} \\right)} + \\rho_{1,1} \\gamma_{0}{\\left(\\epsilon_{1} \\right)} & - \\frac{\\rho_{0,1} \\gamma_{0}{\\left(- \\epsilon_{1} \\right)}}{2} - \\frac{\\rho_{0,1} \\gamma_{0}{\\left(\\epsilon_{1} \\right)}}{2}\\\\- \\frac{\\rho_{1,0} \\gamma_{0}{\\left(- \\epsilon_{1} \\right)}}{2} - \\frac{\\rho_{1,0} \\gamma_{0}{\\left(\\epsilon_{1} \\right)}}{2} & \\rho_{0,0} \\gamma_{0}{\\left(- \\epsilon_{1} \\right)} - \\rho_{1,1} \\gamma_{0}{\\left(\\epsilon_{1} \\right)}\\end{matrix}\\right]$"
      ],
      "text/plain": [
       "Matrix([\n",
       "[    -rho_0,0*gamma_0(-epsilon1) + rho_1,1*gamma_0(epsilon1), -rho_0,1*gamma_0(-epsilon1)/2 - rho_0,1*gamma_0(epsilon1)/2],\n",
       "[-rho_1,0*gamma_0(-epsilon1)/2 - rho_1,0*gamma_0(epsilon1)/2,      rho_0,0*gamma_0(-epsilon1) - rho_1,1*gamma_0(epsilon1)]])"
      ]
     },
     "execution_count": 13,
     "metadata": {},
     "output_type": "execute_result"
    }
   ],
   "source": [
    "final_exprs[0]"
   ]
  },
  {
   "cell_type": "code",
   "execution_count": 14,
   "metadata": {},
   "outputs": [
    {
     "data": {
      "text/latex": [
       "$\\displaystyle \\left[\\begin{matrix}0 & - 1.0 \\rho_{0,1} \\gamma_{1}{\\left(0 \\right)}\\\\- 1.0 \\rho_{1,0} \\gamma_{1}{\\left(0 \\right)} & 0\\end{matrix}\\right]$"
      ],
      "text/plain": [
       "Matrix([\n",
       "[                      0, -1.0*rho_0,1*gamma_1(0)],\n",
       "[-1.0*rho_1,0*gamma_1(0),                       0]])"
      ]
     },
     "execution_count": 14,
     "metadata": {},
     "output_type": "execute_result"
    }
   ],
   "source": [
    "final_exprs[1]"
   ]
  },
  {
   "cell_type": "code",
   "execution_count": null,
   "metadata": {},
   "outputs": [],
   "source": []
  }
 ],
 "metadata": {
  "kernelspec": {
   "display_name": "fluxonium",
   "language": "python",
   "name": "python3"
  },
  "language_info": {
   "codemirror_mode": {
    "name": "ipython",
    "version": 3
   },
   "file_extension": ".py",
   "mimetype": "text/x-python",
   "name": "python",
   "nbconvert_exporter": "python",
   "pygments_lexer": "ipython3",
   "version": "3.11.8"
  }
 },
 "nbformat": 4,
 "nbformat_minor": 2
}
