{
 "cells": [
  {
   "cell_type": "code",
   "execution_count": 1,
   "metadata": {},
   "outputs": [],
   "source": [
    "import sympy as sp\n",
    "\n",
    "def commutator(A, B):\n",
    "    return A * B - B * A\n",
    "\n",
    "def nested_commutator(A, B, n):\n",
    "    if n == 1:\n",
    "        return commutator(A, B)\n",
    "    else:\n",
    "        return commutator(A, nested_commutator(A, B, n-1))\n",
    "def each_level_its_own_subspace(dim):\n",
    "    \"\"\"\n",
    "    Obtain the indices of the subspace to consider.\n",
    "\n",
    "    Args:\n",
    "        dim (int): The dimension of the subspace.\n",
    "\n",
    "    Returns:\n",
    "        list: A list of lists, each containing a single index of the subspace to consider.\n",
    "    \"\"\"\n",
    "    # Define the indices of the subspace to consider\n",
    "    subspace_indices = [[i] for i in range(dim)]\n",
    "    return subspace_indices\n",
    "\n",
    "def create_subspace_projectors(dim, subspace_indices):\n",
    "    \"\"\"\n",
    "    Create projectors for the given subspaces using SymPy.\n",
    "\n",
    "    Args:\n",
    "        dim (int): The total dimension of the Hilbert space.\n",
    "        subspace_indices (list): A list of lists, each containing the indices of a subspace.\n",
    "\n",
    "    Returns:\n",
    "        list: A list of projectors (SymPy matrices) for the given subspaces.\n",
    "    \"\"\"\n",
    "    projectors = []\n",
    "    \n",
    "    for subspace in subspace_indices:\n",
    "        # Initialize the projector matrix P as a zero matrix of size dim x dim\n",
    "        P = sp.zeros(dim, dim)\n",
    "        \n",
    "        # Create the basis states and compute the projector for each index in the subspace\n",
    "        for idx in subspace:\n",
    "            # Create a basis state (column vector) with 1 at the index 'idx'\n",
    "            state = sp.zeros(dim, 1)\n",
    "            state[idx, 0] = 1\n",
    "            \n",
    "            # Compute the rank-1 projector for this basis state: |state><state|\n",
    "            P += state * state.T  # Outer product in SymPy is `*`\n",
    "        \n",
    "        # Add the projector to the list\n",
    "        projectors.append(P)\n",
    "    \n",
    "    return projectors\n",
    "\n",
    "def swt_subspace(H0, V, subspace_indices):\n",
    "    \"\"\"\n",
    "    Compute the Schrieffer-Wolff transformation on a subspace of the Hamiltonian.\n",
    "\n",
    "    Args:\n",
    "        H0 (sp.Matrix): The unperturbed Hamiltonian.\n",
    "        V (sp.Matrix): The perturbation Hamiltonian.\n",
    "        subspace_indices (list): The indices of the subspace to consider.\n",
    "\n",
    "    Returns:\n",
    "        tuple: The Schrieffer-Wolff transformation operators (S1, S2, S3) and \n",
    "               the transformed Hamiltonian components (H1, H2, H3, H4).\n",
    "    \"\"\"\n",
    "    dim = H0.shape[0]\n",
    "    projectors = create_subspace_projectors(dim, subspace_indices)\n",
    "    Vd = sp.zeros(dim, dim)\n",
    "    for P in projectors:\n",
    "        Vd += P * V * P\n",
    "    Vod = V - Vd\n",
    "    # Compute the energy differences in the subspace\n",
    "    delta = sp.Matrix([[H0[i,i] - H0[j,j] if i != j else 1 for j in range(dim)] for i in range(dim)])\n",
    "\n",
    "    # Compute the Schrieffer-Wolff transformation components\n",
    "    H1 = Vd\n",
    "    S1 = sp.Matrix([[Vod[i,j] / delta[i,j] for j in range(dim)] for i in range(dim)])\n",
    "    H2 = sp.Rational(1, 2) * commutator(S1, Vod)\n",
    "    \n",
    "    # S2 = sp.Matrix([[-commutator(Vd, S1)[i,j] / delta[i,j] for j in range(dim)] for i in range(dim)])\n",
    "    # H3 = sp.Rational(1, 2) * commutator(S2, Vod)\n",
    "    # S3 = sp.Matrix([[(commutator(S2, Vd)[i,j] + sp.Rational(1, 3) * nested_commutator(S1, Vod, 2)[i,j]) / delta[i,j] for j in range(dim)] for i in range(dim)])\n",
    "    # H4 = sp.Rational(1, 2) * commutator(S3, Vod) - sp.Rational(1, 24) * nested_commutator(S1, Vod, 3)\n",
    "\n",
    "    return [S1], [H1, H2,]"
   ]
  },
  {
   "cell_type": "code",
   "execution_count": 2,
   "metadata": {},
   "outputs": [],
   "source": [
    "from sympy.physics.quantum import TensorProduct\n",
    "from sympy import symbols, sqrt\n",
    "nc = 5\n",
    "nq = 2\n",
    "def create_annihilation(nc):\n",
    "    ac = sp.zeros(nc)\n",
    "    acd = sp.zeros(nc)\n",
    "\n",
    "    # Fill the matrices using sympy functions\n",
    "    for i in range(nc-1):\n",
    "        ac[i, i+1] = sqrt(i+1)\n",
    "        acd[i+1, i] = sqrt(i+1)\n",
    "    return ac, acd\n",
    "aq, aqd = create_annihilation(nq)\n",
    "ac, acd = create_annihilation(nc)\n",
    "aq = TensorProduct(aq, sp.eye(nc))\n",
    "aqd = TensorProduct(aqd, sp.eye(nc))\n",
    "ac = TensorProduct(sp.eye(nq), ac)\n",
    "acd = TensorProduct(sp.eye(nq), acd)\n",
    "sigmaz = TensorProduct( sp.Matrix([[-1,0],[0,1]]), sp.eye(nc))"
   ]
  },
  {
   "cell_type": "code",
   "execution_count": 5,
   "metadata": {},
   "outputs": [],
   "source": [
    "deltaq, deltac,  = symbols('delta_q delta_c', real=True)\n",
    "chi = symbols(' chi', real=True)\n",
    "A = symbols('A', real=True)\n",
    "g = symbols('g', real=True)\n",
    "Delta = symbols('Delta', real=True)\n"
   ]
  },
  {
   "cell_type": "code",
   "execution_count": 6,
   "metadata": {},
   "outputs": [],
   "source": [
    "V = A*(aqd + aq) \n",
    "anh = sp.symbols('Kappa')\n",
    "ENN = [\n",
    "    # i*deltac + (l-sp.Rational(1,2))*deltaq + i*2*(l-sp.Rational(1,2))*chi\n",
    "    i*deltac + l*deltaq + i*l*chi + l*(l-1)*anh\n",
    "    for l in range(nq)\n",
    "    for i in range(nc)\n",
    "]\n"
   ]
  },
  {
   "cell_type": "code",
   "execution_count": 7,
   "metadata": {},
   "outputs": [],
   "source": [
    "H0 = sp.diag(*ENN)"
   ]
  },
  {
   "cell_type": "code",
   "execution_count": 9,
   "metadata": {},
   "outputs": [],
   "source": [
    "indices = each_level_its_own_subspace(nq*nc)\n",
    "H2 = swt_subspace(H0, V, indices)[1][1]\n",
    "S1 = swt_subspace(H0, V, indices)[0][0]\n",
    "noise_op = aqd*aq"
   ]
  },
  {
   "cell_type": "code",
   "execution_count": 13,
   "metadata": {},
   "outputs": [],
   "source": [
    "def projector(mp,np,m,n):\n",
    "    P = sp.zeros(nq*nc, nq*nc)\n",
    "    bra_index = nc*mp + np\n",
    "    ket_index = nc*m + n\n",
    "    P[bra_index, ket_index] = 1\n",
    "    return P"
   ]
  },
  {
   "cell_type": "code",
   "execution_count": 14,
   "metadata": {},
   "outputs": [
    {
     "data": {
      "text/latex": [
       "$\\displaystyle \\left[\\begin{matrix}0 & 0 & 0 & 0 & 0 & 0 & 0 & 0 & 0 & 0\\\\0 & 0 & 0 & 0 & 0 & 0 & 0 & 0 & 0 & 0\\\\0 & 0 & 0 & 0 & 0 & 0 & 0 & 0 & 0 & 0\\\\0 & 0 & 0 & 0 & 0 & 0 & 0 & 0 & 0 & 0\\\\0 & 0 & 0 & 0 & 0 & 0 & 0 & 0 & 0 & 0\\\\0 & 0 & 0 & 0 & 0 & 0 & 0 & 0 & 0 & 0\\\\0 & 0 & 0 & 0 & 0 & 0 & 0 & 0 & 0 & 0\\\\0 & 0 & 0 & 0 & 0 & 0 & 0 & 0 & 0 & 0\\\\0 & 0 & 0 & 0 & 0 & 0 & 0 & 0 & 0 & 0\\\\0 & 0 & 0 & 0 & 0 & 0 & 0 & 0 & 0 & 0\\end{matrix}\\right]$"
      ],
      "text/plain": [
       "Matrix([\n",
       "[0, 0, 0, 0, 0, 0, 0, 0, 0, 0],\n",
       "[0, 0, 0, 0, 0, 0, 0, 0, 0, 0],\n",
       "[0, 0, 0, 0, 0, 0, 0, 0, 0, 0],\n",
       "[0, 0, 0, 0, 0, 0, 0, 0, 0, 0],\n",
       "[0, 0, 0, 0, 0, 0, 0, 0, 0, 0],\n",
       "[0, 0, 0, 0, 0, 0, 0, 0, 0, 0],\n",
       "[0, 0, 0, 0, 0, 0, 0, 0, 0, 0],\n",
       "[0, 0, 0, 0, 0, 0, 0, 0, 0, 0],\n",
       "[0, 0, 0, 0, 0, 0, 0, 0, 0, 0],\n",
       "[0, 0, 0, 0, 0, 0, 0, 0, 0, 0]])"
      ]
     },
     "execution_count": 14,
     "metadata": {},
     "output_type": "execute_result"
    }
   ],
   "source": [
    "### B23\n",
    "commutator(S1,aq) \n",
    "op = sp.zeros(nq*nc, nq*nc)\n",
    "for i in range(nc):\n",
    "    op = op + A/(deltaq+i*chi)*(projector(1,i,1,i) - projector(0,i,0,i))\n",
    "commutator(S1,aq)  - op"
   ]
  },
  {
   "cell_type": "code",
   "execution_count": 30,
   "metadata": {},
   "outputs": [],
   "source": [
    "### B24\n",
    "op = sp.zeros(nq*nc, nq*nc)\n",
    "for i in range(nc):\n",
    "    op = op - (A/(deltaq+i*chi))**2*(projector(1,i,0,i) + projector(0,i,1,i))\n",
    "# (sp.Rational(1,2)*commutator(S1,commutator(S1,aq)) - op).expand().applyfunc(lambda term: term.simplify())"
   ]
  },
  {
   "cell_type": "code",
   "execution_count": 31,
   "metadata": {},
   "outputs": [],
   "source": [
    "new_aq = (aq + commutator(S1,aq) + sp.Rational(1,2)*commutator(S1,commutator(S1,aq)))\n",
    "new_aqd = (aqd + commutator(S1,aqd) + sp.Rational(1,2)*commutator(S1,commutator(S1,aqd)))"
   ]
  },
  {
   "cell_type": "code",
   "execution_count": 37,
   "metadata": {},
   "outputs": [
    {
     "data": {
      "text/latex": [
       "$\\displaystyle \\left[\\begin{matrix}- \\frac{A^{2}}{\\delta_{q}^{2}} & 0 & 0 & 0 & 0 & \\frac{A}{\\delta_{q}} & 0 & 0 & 0 & 0\\\\0 & - \\frac{A^{2}}{\\left(\\chi + \\delta_{q}\\right)^{2}} & 0 & 0 & 0 & 0 & \\frac{A}{\\chi + \\delta_{q}} & 0 & 0 & 0\\\\0 & 0 & - \\frac{A^{2}}{\\left(2 \\chi + \\delta_{q}\\right)^{2}} & 0 & 0 & 0 & 0 & \\frac{A}{2 \\chi + \\delta_{q}} & 0 & 0\\\\0 & 0 & 0 & - \\frac{A^{2}}{\\left(3 \\chi + \\delta_{q}\\right)^{2}} & 0 & 0 & 0 & 0 & \\frac{A}{3 \\chi + \\delta_{q}} & 0\\\\0 & 0 & 0 & 0 & - \\frac{A^{2}}{\\left(4 \\chi + \\delta_{q}\\right)^{2}} & 0 & 0 & 0 & 0 & \\frac{A}{4 \\chi + \\delta_{q}}\\\\\\frac{A}{\\delta_{q}} & 0 & 0 & 0 & 0 & \\frac{A^{2}}{\\delta_{q}^{2}} - 1 & 0 & 0 & 0 & 0\\\\0 & \\frac{A}{\\chi + \\delta_{q}} & 0 & 0 & 0 & 0 & \\frac{A^{2}}{\\left(\\chi + \\delta_{q}\\right)^{2}} - 1 & 0 & 0 & 0\\\\0 & 0 & \\frac{A}{2 \\chi + \\delta_{q}} & 0 & 0 & 0 & 0 & \\frac{A^{2}}{\\left(2 \\chi + \\delta_{q}\\right)^{2}} - 1 & 0 & 0\\\\0 & 0 & 0 & \\frac{A}{3 \\chi + \\delta_{q}} & 0 & 0 & 0 & 0 & \\frac{A^{2}}{\\left(3 \\chi + \\delta_{q}\\right)^{2}} - 1 & 0\\\\0 & 0 & 0 & 0 & \\frac{A}{4 \\chi + \\delta_{q}} & 0 & 0 & 0 & 0 & \\frac{A^{2}}{\\left(4 \\chi + \\delta_{q}\\right)^{2}} - 1\\end{matrix}\\right]$"
      ],
      "text/plain": [
       "Matrix([\n",
       "[-A**2/delta_q**2,                        0,                          0,                          0,                          0,           A/delta_q,                           0,                             0,                             0,                             0],\n",
       "[               0, -A**2/(chi + delta_q)**2,                          0,                          0,                          0,                   0,           A/(chi + delta_q),                             0,                             0,                             0],\n",
       "[               0,                        0, -A**2/(2*chi + delta_q)**2,                          0,                          0,                   0,                           0,           A/(2*chi + delta_q),                             0,                             0],\n",
       "[               0,                        0,                          0, -A**2/(3*chi + delta_q)**2,                          0,                   0,                           0,                             0,           A/(3*chi + delta_q),                             0],\n",
       "[               0,                        0,                          0,                          0, -A**2/(4*chi + delta_q)**2,                   0,                           0,                             0,                             0,           A/(4*chi + delta_q)],\n",
       "[       A/delta_q,                        0,                          0,                          0,                          0, A**2/delta_q**2 - 1,                           0,                             0,                             0,                             0],\n",
       "[               0,        A/(chi + delta_q),                          0,                          0,                          0,                   0, A**2/(chi + delta_q)**2 - 1,                             0,                             0,                             0],\n",
       "[               0,                        0,        A/(2*chi + delta_q),                          0,                          0,                   0,                           0, A**2/(2*chi + delta_q)**2 - 1,                             0,                             0],\n",
       "[               0,                        0,                          0,        A/(3*chi + delta_q),                          0,                   0,                           0,                             0, A**2/(3*chi + delta_q)**2 - 1,                             0],\n",
       "[               0,                        0,                          0,                          0,        A/(4*chi + delta_q),                   0,                           0,                             0,                             0, A**2/(4*chi + delta_q)**2 - 1]])"
      ]
     },
     "execution_count": 37,
     "metadata": {},
     "output_type": "execute_result"
    }
   ],
   "source": [
    "###B25\n",
    "# op = sp.zeros(nq*nc, nq*nc)\n",
    "for i in range(nc):\n",
    "    op = op - (A/(deltaq+i*chi))*(projector(0,i,1,i) + projector(1,i,0,i)) +(A/(deltaq+i*chi))**2*(projector(0,i,0,i) - projector(1,i,1,i)) \n",
    "op += aqd*aq\n",
    "(new_aqd*new_aq).applyfunc(lambda term: term.series(A, 0, 3).removeO().simplify()) - op"
   ]
  },
  {
   "cell_type": "code",
   "execution_count": 39,
   "metadata": {},
   "outputs": [
    {
     "data": {
      "text/latex": [
       "$\\displaystyle \\left[\\begin{matrix}0 & 0 & 0 & 0 & 0 & 0 & 0 & 0 & 0 & 0\\\\0 & 0 & 0 & 0 & 0 & 0 & 0 & 0 & 0 & 0\\\\0 & 0 & 0 & 0 & 0 & 0 & 0 & 0 & 0 & 0\\\\0 & 0 & 0 & 0 & 0 & 0 & 0 & 0 & 0 & 0\\\\0 & 0 & 0 & 0 & 0 & 0 & 0 & 0 & 0 & 0\\\\0 & 0 & 0 & 0 & 0 & 0 & 0 & 0 & 0 & 0\\\\0 & 0 & 0 & 0 & 0 & 0 & 0 & 0 & 0 & 0\\\\0 & 0 & 0 & 0 & 0 & 0 & 0 & 0 & 0 & 0\\\\0 & 0 & 0 & 0 & 0 & 0 & 0 & 0 & 0 & 0\\\\0 & 0 & 0 & 0 & 0 & 0 & 0 & 0 & 0 & 0\\end{matrix}\\right]$"
      ],
      "text/plain": [
       "Matrix([\n",
       "[0, 0, 0, 0, 0, 0, 0, 0, 0, 0],\n",
       "[0, 0, 0, 0, 0, 0, 0, 0, 0, 0],\n",
       "[0, 0, 0, 0, 0, 0, 0, 0, 0, 0],\n",
       "[0, 0, 0, 0, 0, 0, 0, 0, 0, 0],\n",
       "[0, 0, 0, 0, 0, 0, 0, 0, 0, 0],\n",
       "[0, 0, 0, 0, 0, 0, 0, 0, 0, 0],\n",
       "[0, 0, 0, 0, 0, 0, 0, 0, 0, 0],\n",
       "[0, 0, 0, 0, 0, 0, 0, 0, 0, 0],\n",
       "[0, 0, 0, 0, 0, 0, 0, 0, 0, 0],\n",
       "[0, 0, 0, 0, 0, 0, 0, 0, 0, 0]])"
      ]
     },
     "execution_count": 39,
     "metadata": {},
     "output_type": "execute_result"
    }
   ],
   "source": [
    "###B27\n",
    "op = sp.zeros(nq*nc, nq*nc)\n",
    "for i in range(nc-1):\n",
    "    op = op + A*chi*sp.sqrt(i+1)/(deltaq+i*chi)/(deltaq+(i+1)*chi)*(projector(1,i,0,i+1) - projector(0,i,1,i+1))\n",
    "(op - commutator(S1,ac)).applyfunc(sp.simplify)"
   ]
  },
  {
   "cell_type": "code",
   "execution_count": null,
   "metadata": {},
   "outputs": [
    {
     "data": {
      "text/latex": [
       "$\\displaystyle \\left[\\begin{matrix}0 & 0 & 0 & 0 & 0 & 0 & 0 & 0 & 0 & 0\\\\0 & 0 & 0 & 0 & 0 & 0 & 0 & 0 & 0 & 0\\\\0 & 0 & 0 & 0 & 0 & 0 & 0 & 0 & 0 & 0\\\\0 & 0 & 0 & 0 & 0 & 0 & 0 & 0 & 0 & 0\\\\0 & 0 & 0 & 0 & 0 & 0 & 0 & 0 & 0 & 0\\\\0 & 0 & 0 & 0 & 0 & 0 & 0 & 0 & 0 & 0\\\\0 & 0 & 0 & 0 & 0 & 0 & 0 & 0 & 0 & 0\\\\0 & 0 & 0 & 0 & 0 & 0 & 0 & 0 & 0 & 0\\\\0 & 0 & 0 & 0 & 0 & 0 & 0 & 0 & 0 & 0\\\\0 & 0 & 0 & 0 & 0 & 0 & 0 & 0 & 0 & 0\\end{matrix}\\right]$"
      ],
      "text/plain": [
       "Matrix([\n",
       "[0, 0, 0, 0, 0, 0, 0, 0, 0, 0],\n",
       "[0, 0, 0, 0, 0, 0, 0, 0, 0, 0],\n",
       "[0, 0, 0, 0, 0, 0, 0, 0, 0, 0],\n",
       "[0, 0, 0, 0, 0, 0, 0, 0, 0, 0],\n",
       "[0, 0, 0, 0, 0, 0, 0, 0, 0, 0],\n",
       "[0, 0, 0, 0, 0, 0, 0, 0, 0, 0],\n",
       "[0, 0, 0, 0, 0, 0, 0, 0, 0, 0],\n",
       "[0, 0, 0, 0, 0, 0, 0, 0, 0, 0],\n",
       "[0, 0, 0, 0, 0, 0, 0, 0, 0, 0],\n",
       "[0, 0, 0, 0, 0, 0, 0, 0, 0, 0]])"
      ]
     },
     "execution_count": 54,
     "metadata": {},
     "output_type": "execute_result"
    }
   ],
   "source": [
    "###B28\n",
    "op = sp.zeros(nq*nc, nq*nc)\n",
    "for i in range(nc-1):\n",
    "    op = op - sp.sqrt(i+1)*(A*chi/(deltaq+i*chi)/(deltaq+(i+1)*chi))**2*(projector(0,i,0,i+1) + projector(1,i,1,i+1))\n",
    "(op - commutator(S1,commutator(S1,ac))).applyfunc(sp.simplify)"
   ]
  },
  {
   "cell_type": "code",
   "execution_count": 56,
   "metadata": {},
   "outputs": [
    {
     "data": {
      "text/latex": [
       "$\\displaystyle \\left[\\begin{matrix}0 & 0 & 0 & 0 & 0 & 0 & 0 & 0 & 0 & 0\\\\0 & 0 & 0 & 0 & 0 & 0 & 0 & 0 & 0 & 0\\\\0 & 0 & 0 & 0 & 0 & 0 & 0 & 0 & 0 & 0\\\\0 & 0 & 0 & 0 & 0 & 0 & 0 & 0 & 0 & 0\\\\0 & 0 & 0 & 0 & 0 & 0 & 0 & 0 & 0 & 0\\\\0 & 0 & 0 & 0 & 0 & 0 & 0 & 0 & 0 & 0\\\\0 & 0 & 0 & 0 & 0 & 0 & 0 & 0 & 0 & 0\\\\0 & 0 & 0 & 0 & 0 & 0 & 0 & 0 & 0 & 0\\\\0 & 0 & 0 & 0 & 0 & 0 & 0 & 0 & 0 & 0\\\\0 & 0 & 0 & 0 & 0 & 0 & 0 & 0 & 0 & 0\\end{matrix}\\right]$"
      ],
      "text/plain": [
       "Matrix([\n",
       "[0, 0, 0, 0, 0, 0, 0, 0, 0, 0],\n",
       "[0, 0, 0, 0, 0, 0, 0, 0, 0, 0],\n",
       "[0, 0, 0, 0, 0, 0, 0, 0, 0, 0],\n",
       "[0, 0, 0, 0, 0, 0, 0, 0, 0, 0],\n",
       "[0, 0, 0, 0, 0, 0, 0, 0, 0, 0],\n",
       "[0, 0, 0, 0, 0, 0, 0, 0, 0, 0],\n",
       "[0, 0, 0, 0, 0, 0, 0, 0, 0, 0],\n",
       "[0, 0, 0, 0, 0, 0, 0, 0, 0, 0],\n",
       "[0, 0, 0, 0, 0, 0, 0, 0, 0, 0],\n",
       "[0, 0, 0, 0, 0, 0, 0, 0, 0, 0]])"
      ]
     },
     "execution_count": 56,
     "metadata": {},
     "output_type": "execute_result"
    }
   ],
   "source": [
    "###B29\n",
    "commutator(S1,acd*ac)"
   ]
  },
  {
   "cell_type": "code",
   "execution_count": 77,
   "metadata": {},
   "outputs": [
    {
     "data": {
      "text/latex": [
       "$\\displaystyle \\left[\\begin{matrix}0 & 0 & 0 & 0 & 0 & 0 & 0 & 0 & 0 & 0\\\\0 & 0 & 0 & 0 & 0 & 0 & 0 & 0 & 0 & 0\\\\0 & 0 & 0 & 0 & 0 & 0 & 0 & 0 & 0 & 0\\\\0 & 0 & 0 & 0 & 0 & 0 & 0 & 0 & 0 & 0\\\\0 & 0 & 0 & 0 & 0 & 0 & 0 & 0 & 0 & 0\\\\0 & 0 & 0 & 0 & 0 & 0 & 0 & 0 & 0 & 0\\\\0 & 0 & 0 & 0 & 0 & 0 & 0 & 0 & 0 & 0\\\\0 & 0 & 0 & 0 & 0 & 0 & 0 & 0 & 0 & 0\\\\0 & 0 & 0 & 0 & 0 & 0 & 0 & 0 & 0 & 0\\\\0 & 0 & 0 & 0 & 0 & 0 & 0 & 0 & 0 & 0\\end{matrix}\\right]$"
      ],
      "text/plain": [
       "Matrix([\n",
       "[0, 0, 0, 0, 0, 0, 0, 0, 0, 0],\n",
       "[0, 0, 0, 0, 0, 0, 0, 0, 0, 0],\n",
       "[0, 0, 0, 0, 0, 0, 0, 0, 0, 0],\n",
       "[0, 0, 0, 0, 0, 0, 0, 0, 0, 0],\n",
       "[0, 0, 0, 0, 0, 0, 0, 0, 0, 0],\n",
       "[0, 0, 0, 0, 0, 0, 0, 0, 0, 0],\n",
       "[0, 0, 0, 0, 0, 0, 0, 0, 0, 0],\n",
       "[0, 0, 0, 0, 0, 0, 0, 0, 0, 0],\n",
       "[0, 0, 0, 0, 0, 0, 0, 0, 0, 0],\n",
       "[0, 0, 0, 0, 0, 0, 0, 0, 0, 0]])"
      ]
     },
     "execution_count": 77,
     "metadata": {},
     "output_type": "execute_result"
    }
   ],
   "source": [
    "#B30\n",
    "new_aq.applyfunc(lambda term: term.series(chi, 0, 2).removeO().expand())\n",
    "op = aq +A/deltaq*sigmaz + A*chi/deltaq**2*acd*ac - 2*A*chi/deltaq**2*aqd*aq*acd*ac - (A/deltaq)**2*(aqd+aq) + 2*A**2*chi/deltaq**3*(aqd+aq)*acd*ac\n",
    "(new_aq.applyfunc(lambda term: term.series(chi, 0, 2).removeO().expand()) - op).applyfunc(sp.simplify)"
   ]
  },
  {
   "cell_type": "code",
   "execution_count": 99,
   "metadata": {},
   "outputs": [
    {
     "data": {
      "text/latex": [
       "$\\displaystyle \\left[\\begin{matrix}0 & 0 & 0 & 0 & 0 & 0 & 0 & 0 & 0 & 0\\\\0 & 0 & 0 & 0 & 0 & 0 & 0 & 0 & 0 & 0\\\\0 & 0 & 0 & 0 & 0 & 0 & 0 & 0 & 0 & 0\\\\0 & 0 & 0 & 0 & 0 & 0 & 0 & 0 & 0 & 0\\\\0 & 0 & 0 & 0 & 0 & 0 & 0 & 0 & 0 & 0\\\\0 & 0 & 0 & 0 & 0 & 0 & 0 & 0 & 0 & 0\\\\0 & 0 & 0 & 0 & 0 & 0 & 0 & 0 & 0 & 0\\\\0 & 0 & 0 & 0 & 0 & 0 & 0 & 0 & 0 & 0\\\\0 & 0 & 0 & 0 & 0 & 0 & 0 & 0 & 0 & 0\\\\0 & 0 & 0 & 0 & 0 & 0 & 0 & 0 & 0 & 0\\end{matrix}\\right]$"
      ],
      "text/plain": [
       "Matrix([\n",
       "[0, 0, 0, 0, 0, 0, 0, 0, 0, 0],\n",
       "[0, 0, 0, 0, 0, 0, 0, 0, 0, 0],\n",
       "[0, 0, 0, 0, 0, 0, 0, 0, 0, 0],\n",
       "[0, 0, 0, 0, 0, 0, 0, 0, 0, 0],\n",
       "[0, 0, 0, 0, 0, 0, 0, 0, 0, 0],\n",
       "[0, 0, 0, 0, 0, 0, 0, 0, 0, 0],\n",
       "[0, 0, 0, 0, 0, 0, 0, 0, 0, 0],\n",
       "[0, 0, 0, 0, 0, 0, 0, 0, 0, 0],\n",
       "[0, 0, 0, 0, 0, 0, 0, 0, 0, 0],\n",
       "[0, 0, 0, 0, 0, 0, 0, 0, 0, 0]])"
      ]
     },
     "execution_count": 99,
     "metadata": {},
     "output_type": "execute_result"
    }
   ],
   "source": [
    "#B31\n",
    "op = A**2/deltaq**2*sp.eye(nq*nc) + aqd*aq- 2*A**2/deltaq**2*aqd*aq-2*A**2*chi/deltaq**3*acd*ac + 4*A**2*chi/deltaq**3*aqd*aq*acd*ac - A/deltaq*(aqd+aq) + A*chi/deltaq**2*(aqd+aq)*acd*ac\n",
    "exact = ((new_aqd*new_aq).applyfunc(lambda term: term.series(A, 0, 3).removeO().simplify())).applyfunc(lambda term: term.series(chi, 0, 2).removeO().simplify()) \n",
    "(op - exact).applyfunc(sp.simplify)"
   ]
  },
  {
   "cell_type": "code",
   "execution_count": null,
   "metadata": {},
   "outputs": [],
   "source": []
  }
 ],
 "metadata": {
  "kernelspec": {
   "display_name": "fluxonium",
   "language": "python",
   "name": "python3"
  },
  "language_info": {
   "codemirror_mode": {
    "name": "ipython",
    "version": 3
   },
   "file_extension": ".py",
   "mimetype": "text/x-python",
   "name": "python",
   "nbconvert_exporter": "python",
   "pygments_lexer": "ipython3",
   "version": "3.11.8"
  }
 },
 "nbformat": 4,
 "nbformat_minor": 2
}
