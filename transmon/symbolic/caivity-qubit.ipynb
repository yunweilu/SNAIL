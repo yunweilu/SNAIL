{
 "cells": [
  {
   "cell_type": "code",
   "execution_count": 70,
   "metadata": {},
   "outputs": [],
   "source": [
    "import sympy as sp\n",
    "\n",
    "def commutator(A, B):\n",
    "    return A * B - B * A\n",
    "\n",
    "def nested_commutator(A, B, n):\n",
    "    if n == 1:\n",
    "        return commutator(A, B)\n",
    "    else:\n",
    "        return commutator(A, nested_commutator(A, B, n-1))\n",
    "def each_level_its_own_subspace(dim):\n",
    "    \"\"\"\n",
    "    Obtain the indices of the subspace to consider.\n",
    "\n",
    "    Args:\n",
    "        dim (int): The dimension of the subspace.\n",
    "\n",
    "    Returns:\n",
    "        list: A list of lists, each containing a single index of the subspace to consider.\n",
    "    \"\"\"\n",
    "    # Define the indices of the subspace to consider\n",
    "    subspace_indices = [[i] for i in range(dim)]\n",
    "    return subspace_indices\n",
    "\n",
    "def create_subspace_projectors(dim, subspace_indices):\n",
    "    \"\"\"\n",
    "    Create projectors for the given subspaces using SymPy.\n",
    "\n",
    "    Args:\n",
    "        dim (int): The total dimension of the Hilbert space.\n",
    "        subspace_indices (list): A list of lists, each containing the indices of a subspace.\n",
    "\n",
    "    Returns:\n",
    "        list: A list of projectors (SymPy matrices) for the given subspaces.\n",
    "    \"\"\"\n",
    "    projectors = []\n",
    "    \n",
    "    for subspace in subspace_indices:\n",
    "        # Initialize the projector matrix P as a zero matrix of size dim x dim\n",
    "        P = sp.zeros(dim, dim)\n",
    "        \n",
    "        # Create the basis states and compute the projector for each index in the subspace\n",
    "        for idx in subspace:\n",
    "            # Create a basis state (column vector) with 1 at the index 'idx'\n",
    "            state = sp.zeros(dim, 1)\n",
    "            state[idx, 0] = 1\n",
    "            \n",
    "            # Compute the rank-1 projector for this basis state: |state><state|\n",
    "            P += state * state.T  # Outer product in SymPy is `*`\n",
    "        \n",
    "        # Add the projector to the list\n",
    "        projectors.append(P)\n",
    "    \n",
    "    return projectors\n",
    "\n",
    "def swt_subspace(H0, V, subspace_indices):\n",
    "    \"\"\"\n",
    "    Compute the Schrieffer-Wolff transformation on a subspace of the Hamiltonian.\n",
    "\n",
    "    Args:\n",
    "        H0 (sp.Matrix): The unperturbed Hamiltonian.\n",
    "        V (sp.Matrix): The perturbation Hamiltonian.\n",
    "        subspace_indices (list): The indices of the subspace to consider.\n",
    "\n",
    "    Returns:\n",
    "        tuple: The Schrieffer-Wolff transformation operators (S1, S2, S3) and \n",
    "               the transformed Hamiltonian components (H1, H2, H3, H4).\n",
    "    \"\"\"\n",
    "    dim = H0.shape[0]\n",
    "    projectors = create_subspace_projectors(dim, subspace_indices)\n",
    "    Vd = sp.zeros(dim, dim)\n",
    "    for P in projectors:\n",
    "        Vd += P * V * P\n",
    "    Vod = V - Vd\n",
    "    # Compute the energy differences in the subspace\n",
    "    delta = sp.Matrix([[H0[i,i] - H0[j,j] if i != j else 1 for j in range(dim)] for i in range(dim)])\n",
    "\n",
    "    # Compute the Schrieffer-Wolff transformation components\n",
    "    H1 = Vd\n",
    "    S1 = sp.Matrix([[Vod[i,j] / delta[i,j] for j in range(dim)] for i in range(dim)])\n",
    "    H2 = sp.Rational(1, 2) * commutator(S1, Vod)\n",
    "    \n",
    "    # S2 = sp.Matrix([[-commutator(Vd, S1)[i,j] / delta[i,j] for j in range(dim)] for i in range(dim)])\n",
    "    # H3 = sp.Rational(1, 2) * commutator(S2, Vod)\n",
    "    # S3 = sp.Matrix([[(commutator(S2, Vd)[i,j] + sp.Rational(1, 3) * nested_commutator(S1, Vod, 2)[i,j]) / delta[i,j] for j in range(dim)] for i in range(dim)])\n",
    "    # H4 = sp.Rational(1, 2) * commutator(S3, Vod) - sp.Rational(1, 24) * nested_commutator(S1, Vod, 3)\n",
    "\n",
    "    return [S1], [H1, H2,]"
   ]
  },
  {
   "cell_type": "code",
   "execution_count": 71,
   "metadata": {},
   "outputs": [],
   "source": [
    "from sympy.physics.quantum import TensorProduct\n",
    "from sympy import symbols, sqrt\n",
    "nc = 5\n",
    "nq = 2\n",
    "def create_annihilation(nc):\n",
    "    ac = sp.zeros(nc)\n",
    "    acd = sp.zeros(nc)\n",
    "\n",
    "    # Fill the matrices using sympy functions\n",
    "    for i in range(nc-1):\n",
    "        ac[i, i+1] = sqrt(i+1)\n",
    "        acd[i+1, i] = sqrt(i+1)\n",
    "    return ac, acd\n",
    "aq, aqd = create_annihilation(nq)\n",
    "ac, acd = create_annihilation(nc)\n",
    "aq = TensorProduct(aq, sp.eye(nc))\n",
    "aqd = TensorProduct(aqd, sp.eye(nc))\n",
    "ac = TensorProduct(sp.eye(nq), ac)\n",
    "acd = TensorProduct(sp.eye(nq), acd)\n",
    "sigmaz = TensorProduct( sp.Matrix([[-1,0],[0,1]]), sp.eye(nc))"
   ]
  },
  {
   "cell_type": "code",
   "execution_count": 72,
   "metadata": {},
   "outputs": [],
   "source": [
    "deltaq, deltac,  = symbols('delta_q delta_c', real=True)\n",
    "chi = symbols(' chi', real=True)\n",
    "A = symbols('A', real=True)\n",
    "g = symbols('g', real=True)\n",
    "Delta = symbols('Delta', real=True)\n"
   ]
  },
  {
   "cell_type": "code",
   "execution_count": 73,
   "metadata": {},
   "outputs": [
    {
     "data": {
      "text/latex": [
       "$\\displaystyle \\left[\\begin{matrix}0 & 0 & 0 & 0 & 0 & 0 & 0 & 0 & 0 & 0\\\\0 & 0 & 0 & 0 & 0 & 0 & 0 & 0 & 0 & 0\\\\0 & 0 & 0 & 0 & 0 & 0 & 0 & 0 & 0 & 0\\\\0 & 0 & 0 & 0 & 0 & 0 & 0 & 0 & 0 & 0\\\\0 & 0 & 0 & 0 & 0 & 0 & 0 & 0 & 0 & 0\\\\1 & 0 & 0 & 0 & 0 & 0 & 0 & 0 & 0 & 0\\\\0 & 1 & 0 & 0 & 0 & 0 & 0 & 0 & 0 & 0\\\\0 & 0 & 1 & 0 & 0 & 0 & 0 & 0 & 0 & 0\\\\0 & 0 & 0 & 1 & 0 & 0 & 0 & 0 & 0 & 0\\\\0 & 0 & 0 & 0 & 1 & 0 & 0 & 0 & 0 & 0\\end{matrix}\\right]$"
      ],
      "text/plain": [
       "Matrix([\n",
       "[0, 0, 0, 0, 0, 0, 0, 0, 0, 0],\n",
       "[0, 0, 0, 0, 0, 0, 0, 0, 0, 0],\n",
       "[0, 0, 0, 0, 0, 0, 0, 0, 0, 0],\n",
       "[0, 0, 0, 0, 0, 0, 0, 0, 0, 0],\n",
       "[0, 0, 0, 0, 0, 0, 0, 0, 0, 0],\n",
       "[1, 0, 0, 0, 0, 0, 0, 0, 0, 0],\n",
       "[0, 1, 0, 0, 0, 0, 0, 0, 0, 0],\n",
       "[0, 0, 1, 0, 0, 0, 0, 0, 0, 0],\n",
       "[0, 0, 0, 1, 0, 0, 0, 0, 0, 0],\n",
       "[0, 0, 0, 0, 1, 0, 0, 0, 0, 0]])"
      ]
     },
     "execution_count": 73,
     "metadata": {},
     "output_type": "execute_result"
    }
   ],
   "source": [
    "aqd"
   ]
  },
  {
   "cell_type": "code",
   "execution_count": 74,
   "metadata": {},
   "outputs": [],
   "source": [
    "V = A*(aqd + aq) \n",
    "\n",
    "ENN = [\n",
    "    # i*deltac + (l-sp.Rational(1,2))*deltaq + i*2*(l-sp.Rational(1,2))*chi\n",
    "    i*deltac + l*deltaq + i*l*chi\n",
    "    for l in range(nq)\n",
    "    for i in range(nc)\n",
    "]\n"
   ]
  },
  {
   "cell_type": "code",
   "execution_count": 75,
   "metadata": {},
   "outputs": [],
   "source": [
    "H0 = sp.diag(*ENN)"
   ]
  },
  {
   "cell_type": "code",
   "execution_count": 76,
   "metadata": {},
   "outputs": [
    {
     "data": {
      "text/latex": [
       "$\\displaystyle \\left[\\begin{matrix}0 & 0 & 0 & 0 & 0 & 0 & 0 & 0 & 0 & 0\\\\0 & \\delta_{c} & 0 & 0 & 0 & 0 & 0 & 0 & 0 & 0\\\\0 & 0 & 2 \\delta_{c} & 0 & 0 & 0 & 0 & 0 & 0 & 0\\\\0 & 0 & 0 & 3 \\delta_{c} & 0 & 0 & 0 & 0 & 0 & 0\\\\0 & 0 & 0 & 0 & 4 \\delta_{c} & 0 & 0 & 0 & 0 & 0\\\\0 & 0 & 0 & 0 & 0 & \\delta_{q} & 0 & 0 & 0 & 0\\\\0 & 0 & 0 & 0 & 0 & 0 & \\chi + \\delta_{c} + \\delta_{q} & 0 & 0 & 0\\\\0 & 0 & 0 & 0 & 0 & 0 & 0 & 2 \\chi + 2 \\delta_{c} + \\delta_{q} & 0 & 0\\\\0 & 0 & 0 & 0 & 0 & 0 & 0 & 0 & 3 \\chi + 3 \\delta_{c} + \\delta_{q} & 0\\\\0 & 0 & 0 & 0 & 0 & 0 & 0 & 0 & 0 & 4 \\chi + 4 \\delta_{c} + \\delta_{q}\\end{matrix}\\right]$"
      ],
      "text/plain": [
       "Matrix([\n",
       "[0,       0,         0,         0,         0,       0,                       0,                           0,                           0,                           0],\n",
       "[0, delta_c,         0,         0,         0,       0,                       0,                           0,                           0,                           0],\n",
       "[0,       0, 2*delta_c,         0,         0,       0,                       0,                           0,                           0,                           0],\n",
       "[0,       0,         0, 3*delta_c,         0,       0,                       0,                           0,                           0,                           0],\n",
       "[0,       0,         0,         0, 4*delta_c,       0,                       0,                           0,                           0,                           0],\n",
       "[0,       0,         0,         0,         0, delta_q,                       0,                           0,                           0,                           0],\n",
       "[0,       0,         0,         0,         0,       0, chi + delta_c + delta_q,                           0,                           0,                           0],\n",
       "[0,       0,         0,         0,         0,       0,                       0, 2*chi + 2*delta_c + delta_q,                           0,                           0],\n",
       "[0,       0,         0,         0,         0,       0,                       0,                           0, 3*chi + 3*delta_c + delta_q,                           0],\n",
       "[0,       0,         0,         0,         0,       0,                       0,                           0,                           0, 4*chi + 4*delta_c + delta_q]])"
      ]
     },
     "execution_count": 76,
     "metadata": {},
     "output_type": "execute_result"
    }
   ],
   "source": [
    "H0"
   ]
  },
  {
   "cell_type": "code",
   "execution_count": 77,
   "metadata": {},
   "outputs": [],
   "source": [
    "indices = each_level_its_own_subspace(nq*nc)\n",
    "H2 = swt_subspace(H0, V, indices)[1][1]\n",
    "S1 = swt_subspace(H0, V, indices)[0][0]\n",
    "noise_op = aqd*aq"
   ]
  },
  {
   "cell_type": "code",
   "execution_count": 78,
   "metadata": {},
   "outputs": [
    {
     "data": {
      "text/latex": [
       "$\\displaystyle \\left[\\begin{matrix}0 & 0 & 0 & 0 & 0 & - \\frac{A}{\\delta_{q}} & 0 & 0 & 0 & 0\\\\0 & 0 & 0 & 0 & 0 & 0 & \\frac{A}{- \\chi - \\delta_{q}} & 0 & 0 & 0\\\\0 & 0 & 0 & 0 & 0 & 0 & 0 & \\frac{A}{- 2 \\chi - \\delta_{q}} & 0 & 0\\\\0 & 0 & 0 & 0 & 0 & 0 & 0 & 0 & \\frac{A}{- 3 \\chi - \\delta_{q}} & 0\\\\0 & 0 & 0 & 0 & 0 & 0 & 0 & 0 & 0 & \\frac{A}{- 4 \\chi - \\delta_{q}}\\\\\\frac{A}{\\delta_{q}} & 0 & 0 & 0 & 0 & 0 & 0 & 0 & 0 & 0\\\\0 & \\frac{A}{\\chi + \\delta_{q}} & 0 & 0 & 0 & 0 & 0 & 0 & 0 & 0\\\\0 & 0 & \\frac{A}{2 \\chi + \\delta_{q}} & 0 & 0 & 0 & 0 & 0 & 0 & 0\\\\0 & 0 & 0 & \\frac{A}{3 \\chi + \\delta_{q}} & 0 & 0 & 0 & 0 & 0 & 0\\\\0 & 0 & 0 & 0 & \\frac{A}{4 \\chi + \\delta_{q}} & 0 & 0 & 0 & 0 & 0\\end{matrix}\\right]$"
      ],
      "text/plain": [
       "Matrix([\n",
       "[        0,                 0,                   0,                   0,                   0, -A/delta_q,                  0,                    0,                    0,                    0],\n",
       "[        0,                 0,                   0,                   0,                   0,          0, A/(-chi - delta_q),                    0,                    0,                    0],\n",
       "[        0,                 0,                   0,                   0,                   0,          0,                  0, A/(-2*chi - delta_q),                    0,                    0],\n",
       "[        0,                 0,                   0,                   0,                   0,          0,                  0,                    0, A/(-3*chi - delta_q),                    0],\n",
       "[        0,                 0,                   0,                   0,                   0,          0,                  0,                    0,                    0, A/(-4*chi - delta_q)],\n",
       "[A/delta_q,                 0,                   0,                   0,                   0,          0,                  0,                    0,                    0,                    0],\n",
       "[        0, A/(chi + delta_q),                   0,                   0,                   0,          0,                  0,                    0,                    0,                    0],\n",
       "[        0,                 0, A/(2*chi + delta_q),                   0,                   0,          0,                  0,                    0,                    0,                    0],\n",
       "[        0,                 0,                   0, A/(3*chi + delta_q),                   0,          0,                  0,                    0,                    0,                    0],\n",
       "[        0,                 0,                   0,                   0, A/(4*chi + delta_q),          0,                  0,                    0,                    0,                    0]])"
      ]
     },
     "execution_count": 78,
     "metadata": {},
     "output_type": "execute_result"
    }
   ],
   "source": [
    "S1"
   ]
  },
  {
   "cell_type": "code",
   "execution_count": 79,
   "metadata": {},
   "outputs": [
    {
     "data": {
      "text/latex": [
       "$\\displaystyle \\left[\\begin{matrix}- \\frac{A^{2}}{\\delta_{q}} & 0 & 0 & 0 & 0 & 0 & 0 & 0 & 0 & 0\\\\0 & - \\frac{A^{2}}{2 \\left(\\chi + \\delta_{q}\\right)} + \\frac{A^{2}}{2 \\left(- \\chi - \\delta_{q}\\right)} & 0 & 0 & 0 & 0 & 0 & 0 & 0 & 0\\\\0 & 0 & - \\frac{A^{2}}{2 \\left(2 \\chi + \\delta_{q}\\right)} + \\frac{A^{2}}{2 \\left(- 2 \\chi - \\delta_{q}\\right)} & 0 & 0 & 0 & 0 & 0 & 0 & 0\\\\0 & 0 & 0 & - \\frac{A^{2}}{2 \\left(3 \\chi + \\delta_{q}\\right)} + \\frac{A^{2}}{2 \\left(- 3 \\chi - \\delta_{q}\\right)} & 0 & 0 & 0 & 0 & 0 & 0\\\\0 & 0 & 0 & 0 & - \\frac{A^{2}}{2 \\left(4 \\chi + \\delta_{q}\\right)} + \\frac{A^{2}}{2 \\left(- 4 \\chi - \\delta_{q}\\right)} & 0 & 0 & 0 & 0 & 0\\\\0 & 0 & 0 & 0 & 0 & \\frac{A^{2}}{\\delta_{q}} & 0 & 0 & 0 & 0\\\\0 & 0 & 0 & 0 & 0 & 0 & \\frac{A^{2}}{2 \\left(\\chi + \\delta_{q}\\right)} - \\frac{A^{2}}{2 \\left(- \\chi - \\delta_{q}\\right)} & 0 & 0 & 0\\\\0 & 0 & 0 & 0 & 0 & 0 & 0 & \\frac{A^{2}}{2 \\left(2 \\chi + \\delta_{q}\\right)} - \\frac{A^{2}}{2 \\left(- 2 \\chi - \\delta_{q}\\right)} & 0 & 0\\\\0 & 0 & 0 & 0 & 0 & 0 & 0 & 0 & \\frac{A^{2}}{2 \\left(3 \\chi + \\delta_{q}\\right)} - \\frac{A^{2}}{2 \\left(- 3 \\chi - \\delta_{q}\\right)} & 0\\\\0 & 0 & 0 & 0 & 0 & 0 & 0 & 0 & 0 & \\frac{A^{2}}{2 \\left(4 \\chi + \\delta_{q}\\right)} - \\frac{A^{2}}{2 \\left(- 4 \\chi - \\delta_{q}\\right)}\\end{matrix}\\right]$"
      ],
      "text/plain": [
       "Matrix([\n",
       "[-A**2/delta_q,                                                     0,                                                         0,                                                         0,                                                         0,            0,                                                    0,                                                        0,                                                        0,                                                        0],\n",
       "[            0, -A**2/(2*(chi + delta_q)) + A**2/(2*(-chi - delta_q)),                                                         0,                                                         0,                                                         0,            0,                                                    0,                                                        0,                                                        0,                                                        0],\n",
       "[            0,                                                     0, -A**2/(2*(2*chi + delta_q)) + A**2/(2*(-2*chi - delta_q)),                                                         0,                                                         0,            0,                                                    0,                                                        0,                                                        0,                                                        0],\n",
       "[            0,                                                     0,                                                         0, -A**2/(2*(3*chi + delta_q)) + A**2/(2*(-3*chi - delta_q)),                                                         0,            0,                                                    0,                                                        0,                                                        0,                                                        0],\n",
       "[            0,                                                     0,                                                         0,                                                         0, -A**2/(2*(4*chi + delta_q)) + A**2/(2*(-4*chi - delta_q)),            0,                                                    0,                                                        0,                                                        0,                                                        0],\n",
       "[            0,                                                     0,                                                         0,                                                         0,                                                         0, A**2/delta_q,                                                    0,                                                        0,                                                        0,                                                        0],\n",
       "[            0,                                                     0,                                                         0,                                                         0,                                                         0,            0, A**2/(2*(chi + delta_q)) - A**2/(2*(-chi - delta_q)),                                                        0,                                                        0,                                                        0],\n",
       "[            0,                                                     0,                                                         0,                                                         0,                                                         0,            0,                                                    0, A**2/(2*(2*chi + delta_q)) - A**2/(2*(-2*chi - delta_q)),                                                        0,                                                        0],\n",
       "[            0,                                                     0,                                                         0,                                                         0,                                                         0,            0,                                                    0,                                                        0, A**2/(2*(3*chi + delta_q)) - A**2/(2*(-3*chi - delta_q)),                                                        0],\n",
       "[            0,                                                     0,                                                         0,                                                         0,                                                         0,            0,                                                    0,                                                        0,                                                        0, A**2/(2*(4*chi + delta_q)) - A**2/(2*(-4*chi - delta_q))]])"
      ]
     },
     "execution_count": 79,
     "metadata": {},
     "output_type": "execute_result"
    }
   ],
   "source": [
    "H2"
   ]
  },
  {
   "cell_type": "code",
   "execution_count": 80,
   "metadata": {},
   "outputs": [
    {
     "data": {
      "text/latex": [
       "$\\displaystyle \\left[\\begin{matrix}0 & 0 & 0 & 0 & 0 & - \\frac{A}{\\delta_{q}} & 0 & 0 & 0 & 0\\\\0 & 0 & 0 & 0 & 0 & 0 & \\frac{A}{- \\chi - \\delta_{q}} & 0 & 0 & 0\\\\0 & 0 & 0 & 0 & 0 & 0 & 0 & \\frac{A}{- 2 \\chi - \\delta_{q}} & 0 & 0\\\\0 & 0 & 0 & 0 & 0 & 0 & 0 & 0 & \\frac{A}{- 3 \\chi - \\delta_{q}} & 0\\\\0 & 0 & 0 & 0 & 0 & 0 & 0 & 0 & 0 & \\frac{A}{- 4 \\chi - \\delta_{q}}\\\\\\frac{A}{\\delta_{q}} & 0 & 0 & 0 & 0 & 0 & 0 & 0 & 0 & 0\\\\0 & \\frac{A}{\\chi + \\delta_{q}} & 0 & 0 & 0 & 0 & 0 & 0 & 0 & 0\\\\0 & 0 & \\frac{A}{2 \\chi + \\delta_{q}} & 0 & 0 & 0 & 0 & 0 & 0 & 0\\\\0 & 0 & 0 & \\frac{A}{3 \\chi + \\delta_{q}} & 0 & 0 & 0 & 0 & 0 & 0\\\\0 & 0 & 0 & 0 & \\frac{A}{4 \\chi + \\delta_{q}} & 0 & 0 & 0 & 0 & 0\\end{matrix}\\right]$"
      ],
      "text/plain": [
       "Matrix([\n",
       "[        0,                 0,                   0,                   0,                   0, -A/delta_q,                  0,                    0,                    0,                    0],\n",
       "[        0,                 0,                   0,                   0,                   0,          0, A/(-chi - delta_q),                    0,                    0,                    0],\n",
       "[        0,                 0,                   0,                   0,                   0,          0,                  0, A/(-2*chi - delta_q),                    0,                    0],\n",
       "[        0,                 0,                   0,                   0,                   0,          0,                  0,                    0, A/(-3*chi - delta_q),                    0],\n",
       "[        0,                 0,                   0,                   0,                   0,          0,                  0,                    0,                    0, A/(-4*chi - delta_q)],\n",
       "[A/delta_q,                 0,                   0,                   0,                   0,          0,                  0,                    0,                    0,                    0],\n",
       "[        0, A/(chi + delta_q),                   0,                   0,                   0,          0,                  0,                    0,                    0,                    0],\n",
       "[        0,                 0, A/(2*chi + delta_q),                   0,                   0,          0,                  0,                    0,                    0,                    0],\n",
       "[        0,                 0,                   0, A/(3*chi + delta_q),                   0,          0,                  0,                    0,                    0,                    0],\n",
       "[        0,                 0,                   0,                   0, A/(4*chi + delta_q),          0,                  0,                    0,                    0,                    0]])"
      ]
     },
     "execution_count": 80,
     "metadata": {},
     "output_type": "execute_result"
    }
   ],
   "source": [
    "S1"
   ]
  },
  {
   "cell_type": "code",
   "execution_count": 81,
   "metadata": {},
   "outputs": [],
   "source": [
    "def projector(mp,np,m,n):\n",
    "    P = sp.zeros(nq*nc, nq*nc)\n",
    "    bra_index = nc*mp + np\n",
    "    ket_index = nc*m + n\n",
    "    P[bra_index, ket_index] = 1\n",
    "    return P"
   ]
  },
  {
   "cell_type": "code",
   "execution_count": 82,
   "metadata": {},
   "outputs": [
    {
     "data": {
      "text/latex": [
       "$\\displaystyle \\left[\\begin{matrix}0 & 0 & 0 & 0 & 0 & 0 & 0 & 0 & 0 & 0\\\\0 & 0 & 0 & 0 & 0 & 0 & 0 & 0 & 0 & 0\\\\0 & 0 & 0 & 0 & 0 & 0 & 0 & 0 & 0 & 0\\\\0 & 0 & 0 & 0 & 0 & 0 & 0 & 0 & 0 & 0\\\\0 & 0 & 0 & 0 & 0 & 0 & 0 & 0 & 0 & 0\\\\0 & 0 & 0 & 0 & 0 & 0 & 0 & 0 & 0 & 0\\\\0 & 0 & 0 & 0 & 0 & 0 & 0 & 0 & 0 & 0\\\\0 & 0 & 0 & 0 & 0 & 0 & 0 & 0 & 0 & 0\\\\0 & 0 & 0 & 0 & 0 & 0 & 0 & 0 & 0 & 0\\\\0 & 0 & 0 & 0 & 0 & 0 & 0 & 0 & 0 & 0\\end{matrix}\\right]$"
      ],
      "text/plain": [
       "Matrix([\n",
       "[0, 0, 0, 0, 0, 0, 0, 0, 0, 0],\n",
       "[0, 0, 0, 0, 0, 0, 0, 0, 0, 0],\n",
       "[0, 0, 0, 0, 0, 0, 0, 0, 0, 0],\n",
       "[0, 0, 0, 0, 0, 0, 0, 0, 0, 0],\n",
       "[0, 0, 0, 0, 0, 0, 0, 0, 0, 0],\n",
       "[0, 0, 0, 0, 0, 0, 0, 0, 0, 0],\n",
       "[0, 0, 0, 0, 0, 0, 0, 0, 0, 0],\n",
       "[0, 0, 0, 0, 0, 0, 0, 0, 0, 0],\n",
       "[0, 0, 0, 0, 0, 0, 0, 0, 0, 0],\n",
       "[0, 0, 0, 0, 0, 0, 0, 0, 0, 0]])"
      ]
     },
     "execution_count": 82,
     "metadata": {},
     "output_type": "execute_result"
    }
   ],
   "source": [
    "op = sp.zeros(nq*nc, nq*nc)\n",
    "for i in range(nc):\n",
    "    op = op + A/(deltaq+i*chi)*(projector(1,i,1,i) - projector(0,i,0,i))\n",
    "op - commutator(S1,aq)"
   ]
  },
  {
   "cell_type": "code",
   "execution_count": 83,
   "metadata": {},
   "outputs": [
    {
     "data": {
      "text/latex": [
       "$\\displaystyle \\left[\\begin{matrix}0 & 0 & 0 & 0 & 0 & 0 & 0 & 0 & 0 & 0\\\\0 & 0 & 0 & 0 & 0 & 0 & 0 & 0 & 0 & 0\\\\0 & 0 & 0 & 0 & 0 & 0 & 0 & 0 & 0 & 0\\\\0 & 0 & 0 & 0 & 0 & 0 & 0 & 0 & 0 & 0\\\\0 & 0 & 0 & 0 & 0 & 0 & 0 & 0 & 0 & 0\\\\0 & 0 & 0 & 0 & 0 & 0 & 0 & 0 & 0 & 0\\\\0 & 0 & 0 & 0 & 0 & 0 & 0 & 0 & 0 & 0\\\\0 & 0 & 0 & 0 & 0 & 0 & 0 & 0 & 0 & 0\\\\0 & 0 & 0 & 0 & 0 & 0 & 0 & 0 & 0 & 0\\\\0 & 0 & 0 & 0 & 0 & 0 & 0 & 0 & 0 & 0\\end{matrix}\\right]$"
      ],
      "text/plain": [
       "Matrix([\n",
       "[0, 0, 0, 0, 0, 0, 0, 0, 0, 0],\n",
       "[0, 0, 0, 0, 0, 0, 0, 0, 0, 0],\n",
       "[0, 0, 0, 0, 0, 0, 0, 0, 0, 0],\n",
       "[0, 0, 0, 0, 0, 0, 0, 0, 0, 0],\n",
       "[0, 0, 0, 0, 0, 0, 0, 0, 0, 0],\n",
       "[0, 0, 0, 0, 0, 0, 0, 0, 0, 0],\n",
       "[0, 0, 0, 0, 0, 0, 0, 0, 0, 0],\n",
       "[0, 0, 0, 0, 0, 0, 0, 0, 0, 0],\n",
       "[0, 0, 0, 0, 0, 0, 0, 0, 0, 0],\n",
       "[0, 0, 0, 0, 0, 0, 0, 0, 0, 0]])"
      ]
     },
     "execution_count": 83,
     "metadata": {},
     "output_type": "execute_result"
    }
   ],
   "source": [
    "op = sp.zeros(nq*nc, nq*nc)\n",
    "for i in range(nc):\n",
    "    op = op + A/(deltaq+i*chi)*(projector(1,i,1,i) - projector(0,i,0,i))\n",
    "op - commutator(S1,aq)"
   ]
  },
  {
   "cell_type": "code",
   "execution_count": 84,
   "metadata": {},
   "outputs": [],
   "source": [
    "op = sp.zeros(nq*nc, nq*nc)\n",
    "for i in range(nc-1):\n",
    "    op = op + A*chi*sp.sqrt(i+1)/(deltaq+i*chi)/(deltaq+(i+1)*chi)*(projector(1,i,0,i+1) - projector(0,i,1,i+1))"
   ]
  },
  {
   "cell_type": "code",
   "execution_count": 85,
   "metadata": {},
   "outputs": [
    {
     "data": {
      "text/latex": [
       "$\\displaystyle \\left[\\begin{matrix}0 & 0 & 0 & 0 & 0 & 0 & 0 & 0 & 0 & 0\\\\0 & 0 & 0 & 0 & 0 & 0 & 0 & 0 & 0 & 0\\\\0 & 0 & 0 & 0 & 0 & 0 & 0 & 0 & 0 & 0\\\\0 & 0 & 0 & 0 & 0 & 0 & 0 & 0 & 0 & 0\\\\0 & 0 & 0 & 0 & 0 & 0 & 0 & 0 & 0 & 0\\\\0 & 0 & 0 & 0 & 0 & 0 & 0 & 0 & 0 & 0\\\\0 & 0 & 0 & 0 & 0 & 0 & 0 & 0 & 0 & 0\\\\0 & 0 & 0 & 0 & 0 & 0 & 0 & 0 & 0 & 0\\\\0 & 0 & 0 & 0 & 0 & 0 & 0 & 0 & 0 & 0\\\\0 & 0 & 0 & 0 & 0 & 0 & 0 & 0 & 0 & 0\\end{matrix}\\right]$"
      ],
      "text/plain": [
       "Matrix([\n",
       "[0, 0, 0, 0, 0, 0, 0, 0, 0, 0],\n",
       "[0, 0, 0, 0, 0, 0, 0, 0, 0, 0],\n",
       "[0, 0, 0, 0, 0, 0, 0, 0, 0, 0],\n",
       "[0, 0, 0, 0, 0, 0, 0, 0, 0, 0],\n",
       "[0, 0, 0, 0, 0, 0, 0, 0, 0, 0],\n",
       "[0, 0, 0, 0, 0, 0, 0, 0, 0, 0],\n",
       "[0, 0, 0, 0, 0, 0, 0, 0, 0, 0],\n",
       "[0, 0, 0, 0, 0, 0, 0, 0, 0, 0],\n",
       "[0, 0, 0, 0, 0, 0, 0, 0, 0, 0],\n",
       "[0, 0, 0, 0, 0, 0, 0, 0, 0, 0]])"
      ]
     },
     "execution_count": 85,
     "metadata": {},
     "output_type": "execute_result"
    }
   ],
   "source": [
    "(op - commutator(S1,ac)).applyfunc(sp.simplify)"
   ]
  },
  {
   "cell_type": "code",
   "execution_count": 86,
   "metadata": {},
   "outputs": [
    {
     "data": {
      "text/latex": [
       "$\\displaystyle \\left[\\begin{matrix}0 & 0 & 0 & 0 & 0 & 0 & 0 & 0 & 0 & 0\\\\0 & 0 & 0 & 0 & 0 & 0 & 0 & 0 & 0 & 0\\\\0 & 0 & 0 & 0 & 0 & 0 & 0 & 0 & 0 & 0\\\\0 & 0 & 0 & 0 & 0 & 0 & 0 & 0 & 0 & 0\\\\0 & 0 & 0 & 0 & 0 & 0 & 0 & 0 & 0 & 0\\\\0 & 0 & 0 & 0 & 0 & 0 & 0 & 0 & 0 & 0\\\\0 & 0 & 0 & 0 & 0 & 0 & 0 & 0 & 0 & 0\\\\0 & 0 & 0 & 0 & 0 & 0 & 0 & 0 & 0 & 0\\\\0 & 0 & 0 & 0 & 0 & 0 & 0 & 0 & 0 & 0\\\\0 & 0 & 0 & 0 & 0 & 0 & 0 & 0 & 0 & 0\\end{matrix}\\right]$"
      ],
      "text/plain": [
       "Matrix([\n",
       "[0, 0, 0, 0, 0, 0, 0, 0, 0, 0],\n",
       "[0, 0, 0, 0, 0, 0, 0, 0, 0, 0],\n",
       "[0, 0, 0, 0, 0, 0, 0, 0, 0, 0],\n",
       "[0, 0, 0, 0, 0, 0, 0, 0, 0, 0],\n",
       "[0, 0, 0, 0, 0, 0, 0, 0, 0, 0],\n",
       "[0, 0, 0, 0, 0, 0, 0, 0, 0, 0],\n",
       "[0, 0, 0, 0, 0, 0, 0, 0, 0, 0],\n",
       "[0, 0, 0, 0, 0, 0, 0, 0, 0, 0],\n",
       "[0, 0, 0, 0, 0, 0, 0, 0, 0, 0],\n",
       "[0, 0, 0, 0, 0, 0, 0, 0, 0, 0]])"
      ]
     },
     "execution_count": 86,
     "metadata": {},
     "output_type": "execute_result"
    }
   ],
   "source": [
    "op = sp.zeros(nq*nc, nq*nc)\n",
    "for i in range(nc):\n",
    "    op = op - A/(deltaq+i*chi)*(projector(0,i,1,i) + projector(1,i,0,i))\n",
    "(op - commutator(S1,aqd*aq)).applyfunc(sp.simplify)"
   ]
  },
  {
   "cell_type": "code",
   "execution_count": 87,
   "metadata": {},
   "outputs": [
    {
     "data": {
      "text/latex": [
       "$\\displaystyle \\left[\\begin{matrix}0 & 0 & 0 & 0 & 0 & 0 & 0 & 0 & 0 & 0\\\\0 & 0 & 0 & 0 & 0 & 0 & 0 & 0 & 0 & 0\\\\0 & 0 & 0 & 0 & 0 & 0 & 0 & 0 & 0 & 0\\\\0 & 0 & 0 & 0 & 0 & 0 & 0 & 0 & 0 & 0\\\\0 & 0 & 0 & 0 & 0 & 0 & 0 & 0 & 0 & 0\\\\0 & 0 & 0 & 0 & 0 & 0 & 0 & 0 & 0 & 0\\\\0 & 0 & 0 & 0 & 0 & 0 & 0 & 0 & 0 & 0\\\\0 & 0 & 0 & 0 & 0 & 0 & 0 & 0 & 0 & 0\\\\0 & 0 & 0 & 0 & 0 & 0 & 0 & 0 & 0 & 0\\\\0 & 0 & 0 & 0 & 0 & 0 & 0 & 0 & 0 & 0\\end{matrix}\\right]$"
      ],
      "text/plain": [
       "Matrix([\n",
       "[0, 0, 0, 0, 0, 0, 0, 0, 0, 0],\n",
       "[0, 0, 0, 0, 0, 0, 0, 0, 0, 0],\n",
       "[0, 0, 0, 0, 0, 0, 0, 0, 0, 0],\n",
       "[0, 0, 0, 0, 0, 0, 0, 0, 0, 0],\n",
       "[0, 0, 0, 0, 0, 0, 0, 0, 0, 0],\n",
       "[0, 0, 0, 0, 0, 0, 0, 0, 0, 0],\n",
       "[0, 0, 0, 0, 0, 0, 0, 0, 0, 0],\n",
       "[0, 0, 0, 0, 0, 0, 0, 0, 0, 0],\n",
       "[0, 0, 0, 0, 0, 0, 0, 0, 0, 0],\n",
       "[0, 0, 0, 0, 0, 0, 0, 0, 0, 0]])"
      ]
     },
     "execution_count": 87,
     "metadata": {},
     "output_type": "execute_result"
    }
   ],
   "source": [
    "op = sp.zeros(nq*nc, nq*nc)\n",
    "for i in range(nc-1):\n",
    "    op = op + A*sp.sqrt(i+1)*(1/(deltaq+(i+1)*chi))*projector(1,i+1,1,i) - A*sp.sqrt(i+1)*(1/(deltaq+(i)*chi))*projector(0,i+1,0,i)\n",
    "(op - commutator(S1,aq*acd) ).applyfunc(sp.simplify)"
   ]
  },
  {
   "cell_type": "code",
   "execution_count": 88,
   "metadata": {},
   "outputs": [
    {
     "data": {
      "text/latex": [
       "$\\displaystyle \\left[\\begin{matrix}0 & 0 & 0 & 0 & 0 & 0 & 0 & 0 & 0 & 0\\\\0 & 0 & 0 & 0 & 0 & 0 & 0 & 0 & 0 & 0\\\\0 & 0 & 0 & 0 & 0 & 0 & 0 & 0 & 0 & 0\\\\0 & 0 & 0 & 0 & 0 & 0 & 0 & 0 & 0 & 0\\\\0 & 0 & 0 & 0 & 0 & 0 & 0 & 0 & 0 & 0\\\\0 & 0 & 0 & 0 & 0 & 0 & 0 & 0 & 0 & 0\\\\0 & 0 & 0 & 0 & 0 & 0 & 0 & 0 & 0 & 0\\\\0 & 0 & 0 & 0 & 0 & 0 & 0 & 0 & 0 & 0\\\\0 & 0 & 0 & 0 & 0 & 0 & 0 & 0 & 0 & 0\\\\0 & 0 & 0 & 0 & 0 & 0 & 0 & 0 & 0 & 0\\end{matrix}\\right]$"
      ],
      "text/plain": [
       "Matrix([\n",
       "[0, 0, 0, 0, 0, 0, 0, 0, 0, 0],\n",
       "[0, 0, 0, 0, 0, 0, 0, 0, 0, 0],\n",
       "[0, 0, 0, 0, 0, 0, 0, 0, 0, 0],\n",
       "[0, 0, 0, 0, 0, 0, 0, 0, 0, 0],\n",
       "[0, 0, 0, 0, 0, 0, 0, 0, 0, 0],\n",
       "[0, 0, 0, 0, 0, 0, 0, 0, 0, 0],\n",
       "[0, 0, 0, 0, 0, 0, 0, 0, 0, 0],\n",
       "[0, 0, 0, 0, 0, 0, 0, 0, 0, 0],\n",
       "[0, 0, 0, 0, 0, 0, 0, 0, 0, 0],\n",
       "[0, 0, 0, 0, 0, 0, 0, 0, 0, 0]])"
      ]
     },
     "execution_count": 88,
     "metadata": {},
     "output_type": "execute_result"
    }
   ],
   "source": [
    "(commutator(S1,acd)*ac+acd*commutator(S1,ac)).applyfunc(sp.simplify)"
   ]
  },
  {
   "cell_type": "code",
   "execution_count": 89,
   "metadata": {},
   "outputs": [
    {
     "data": {
      "text/latex": [
       "$\\displaystyle \\left[\\begin{matrix}0 & 0 & 0 & 0 & 0 & 0 & 0 & 0 & 0 & 0\\\\0 & \\frac{A^{2} \\chi^{2}}{\\delta_{q}^{2} \\left(\\chi + \\delta_{q}\\right)^{2}} & 0 & 0 & 0 & 0 & 0 & 0 & 0 & 0\\\\0 & 0 & \\frac{2 A^{2} \\chi^{2}}{\\left(\\chi + \\delta_{q}\\right)^{2} \\left(2 \\chi + \\delta_{q}\\right)^{2}} & 0 & 0 & 0 & 0 & 0 & 0 & 0\\\\0 & 0 & 0 & \\frac{3 A^{2} \\chi^{2}}{\\left(2 \\chi + \\delta_{q}\\right)^{2} \\left(3 \\chi + \\delta_{q}\\right)^{2}} & 0 & 0 & 0 & 0 & 0 & 0\\\\0 & 0 & 0 & 0 & \\frac{4 A^{2} \\chi^{2}}{\\left(3 \\chi + \\delta_{q}\\right)^{2} \\left(4 \\chi + \\delta_{q}\\right)^{2}} & 0 & 0 & 0 & 0 & 0\\\\0 & 0 & 0 & 0 & 0 & 0 & 0 & 0 & 0 & 0\\\\0 & 0 & 0 & 0 & 0 & 0 & \\frac{A^{2} \\chi^{2}}{\\delta_{q}^{2} \\left(\\chi + \\delta_{q}\\right)^{2}} & 0 & 0 & 0\\\\0 & 0 & 0 & 0 & 0 & 0 & 0 & \\frac{2 A^{2} \\chi^{2}}{\\left(\\chi + \\delta_{q}\\right)^{2} \\left(2 \\chi + \\delta_{q}\\right)^{2}} & 0 & 0\\\\0 & 0 & 0 & 0 & 0 & 0 & 0 & 0 & \\frac{3 A^{2} \\chi^{2}}{\\left(2 \\chi + \\delta_{q}\\right)^{2} \\left(3 \\chi + \\delta_{q}\\right)^{2}} & 0\\\\0 & 0 & 0 & 0 & 0 & 0 & 0 & 0 & 0 & \\frac{4 A^{2} \\chi^{2}}{\\left(3 \\chi + \\delta_{q}\\right)^{2} \\left(4 \\chi + \\delta_{q}\\right)^{2}}\\end{matrix}\\right]$"
      ],
      "text/plain": [
       "Matrix([\n",
       "[0,                                           0,                                                       0,                                                         0,                                                         0, 0,                                           0,                                                       0,                                                         0,                                                         0],\n",
       "[0, A**2*chi**2/(delta_q**2*(chi + delta_q)**2),                                                       0,                                                         0,                                                         0, 0,                                           0,                                                       0,                                                         0,                                                         0],\n",
       "[0,                                           0, 2*A**2*chi**2/((chi + delta_q)**2*(2*chi + delta_q)**2),                                                         0,                                                         0, 0,                                           0,                                                       0,                                                         0,                                                         0],\n",
       "[0,                                           0,                                                       0, 3*A**2*chi**2/((2*chi + delta_q)**2*(3*chi + delta_q)**2),                                                         0, 0,                                           0,                                                       0,                                                         0,                                                         0],\n",
       "[0,                                           0,                                                       0,                                                         0, 4*A**2*chi**2/((3*chi + delta_q)**2*(4*chi + delta_q)**2), 0,                                           0,                                                       0,                                                         0,                                                         0],\n",
       "[0,                                           0,                                                       0,                                                         0,                                                         0, 0,                                           0,                                                       0,                                                         0,                                                         0],\n",
       "[0,                                           0,                                                       0,                                                         0,                                                         0, 0, A**2*chi**2/(delta_q**2*(chi + delta_q)**2),                                                       0,                                                         0,                                                         0],\n",
       "[0,                                           0,                                                       0,                                                         0,                                                         0, 0,                                           0, 2*A**2*chi**2/((chi + delta_q)**2*(2*chi + delta_q)**2),                                                         0,                                                         0],\n",
       "[0,                                           0,                                                       0,                                                         0,                                                         0, 0,                                           0,                                                       0, 3*A**2*chi**2/((2*chi + delta_q)**2*(3*chi + delta_q)**2),                                                         0],\n",
       "[0,                                           0,                                                       0,                                                         0,                                                         0, 0,                                           0,                                                       0,                                                         0, 4*A**2*chi**2/((3*chi + delta_q)**2*(4*chi + delta_q)**2)]])"
      ]
     },
     "execution_count": 89,
     "metadata": {},
     "output_type": "execute_result"
    }
   ],
   "source": [
    "(commutator(S1,acd)*commutator(S1,ac)).applyfunc(sp.simplify)"
   ]
  },
  {
   "cell_type": "code",
   "execution_count": 90,
   "metadata": {},
   "outputs": [
    {
     "data": {
      "text/plain": [
       "<function __main__.commutator(A, B)>"
      ]
     },
     "execution_count": 90,
     "metadata": {},
     "output_type": "execute_result"
    }
   ],
   "source": [
    "commutator"
   ]
  },
  {
   "cell_type": "code",
   "execution_count": 91,
   "metadata": {},
   "outputs": [],
   "source": [
    "def expand_matrix_terms(matrix, var, point, order):\n",
    "    expanded_matrix = matrix.applyfunc(lambda term: term.series(var, point, order).removeO())\n",
    "    return expanded_matrix"
   ]
  },
  {
   "cell_type": "code",
   "execution_count": 92,
   "metadata": {},
   "outputs": [
    {
     "data": {
      "text/latex": [
       "$\\displaystyle \\left[\\begin{matrix}- \\frac{A}{\\delta_{q}} & 0 & 0 & 0 & 0 & 0 & 0 & 0 & 0 & 0\\\\0 & - \\frac{A}{\\chi + \\delta_{q}} & 0 & 0 & 0 & 0 & 0 & 0 & 0 & 0\\\\0 & 0 & - \\frac{A}{2 \\chi + \\delta_{q}} & 0 & 0 & 0 & 0 & 0 & 0 & 0\\\\0 & 0 & 0 & - \\frac{A}{3 \\chi + \\delta_{q}} & 0 & 0 & 0 & 0 & 0 & 0\\\\0 & 0 & 0 & 0 & - \\frac{A}{4 \\chi + \\delta_{q}} & 0 & 0 & 0 & 0 & 0\\\\0 & 0 & 0 & 0 & 0 & \\frac{A}{\\delta_{q}} & 0 & 0 & 0 & 0\\\\0 & 0 & 0 & 0 & 0 & 0 & \\frac{A}{\\chi + \\delta_{q}} & 0 & 0 & 0\\\\0 & 0 & 0 & 0 & 0 & 0 & 0 & \\frac{A}{2 \\chi + \\delta_{q}} & 0 & 0\\\\0 & 0 & 0 & 0 & 0 & 0 & 0 & 0 & \\frac{A}{3 \\chi + \\delta_{q}} & 0\\\\0 & 0 & 0 & 0 & 0 & 0 & 0 & 0 & 0 & \\frac{A}{4 \\chi + \\delta_{q}}\\end{matrix}\\right]$"
      ],
      "text/plain": [
       "Matrix([\n",
       "[-A/delta_q,                  0,                    0,                    0,                    0,         0,                 0,                   0,                   0,                   0],\n",
       "[         0, -A/(chi + delta_q),                    0,                    0,                    0,         0,                 0,                   0,                   0,                   0],\n",
       "[         0,                  0, -A/(2*chi + delta_q),                    0,                    0,         0,                 0,                   0,                   0,                   0],\n",
       "[         0,                  0,                    0, -A/(3*chi + delta_q),                    0,         0,                 0,                   0,                   0,                   0],\n",
       "[         0,                  0,                    0,                    0, -A/(4*chi + delta_q),         0,                 0,                   0,                   0,                   0],\n",
       "[         0,                  0,                    0,                    0,                    0, A/delta_q,                 0,                   0,                   0,                   0],\n",
       "[         0,                  0,                    0,                    0,                    0,         0, A/(chi + delta_q),                   0,                   0,                   0],\n",
       "[         0,                  0,                    0,                    0,                    0,         0,                 0, A/(2*chi + delta_q),                   0,                   0],\n",
       "[         0,                  0,                    0,                    0,                    0,         0,                 0,                   0, A/(3*chi + delta_q),                   0],\n",
       "[         0,                  0,                    0,                    0,                    0,         0,                 0,                   0,                   0, A/(4*chi + delta_q)]])"
      ]
     },
     "execution_count": 92,
     "metadata": {},
     "output_type": "execute_result"
    }
   ],
   "source": [
    "commutator(S1,aq)"
   ]
  },
  {
   "cell_type": "code",
   "execution_count": 93,
   "metadata": {},
   "outputs": [
    {
     "data": {
      "text/latex": [
       "$\\displaystyle \\left[\\begin{matrix}0 & 0 & 0 & 0 & 0 & 0 & 0 & 0 & 0 & 0\\\\0 & \\frac{A \\chi \\left(1 - \\delta_{q}\\right)}{\\delta_{q}^{2}} & 0 & 0 & 0 & 0 & 0 & 0 & 0 & 0\\\\0 & 0 & \\frac{2 A \\chi \\left(1 - \\delta_{q}\\right)}{\\delta_{q}^{2}} & 0 & 0 & 0 & 0 & 0 & 0 & 0\\\\0 & 0 & 0 & \\frac{3 A \\chi \\left(1 - \\delta_{q}\\right)}{\\delta_{q}^{2}} & 0 & 0 & 0 & 0 & 0 & 0\\\\0 & 0 & 0 & 0 & \\frac{4 A \\chi \\left(1 - \\delta_{q}\\right)}{\\delta_{q}^{2}} & 0 & 0 & 0 & 0 & 0\\\\0 & 0 & 0 & 0 & 0 & 0 & 0 & 0 & 0 & 0\\\\0 & 0 & 0 & 0 & 0 & 0 & \\frac{A \\chi \\left(\\delta_{q} - 1\\right)}{\\delta_{q}^{2}} & 0 & 0 & 0\\\\0 & 0 & 0 & 0 & 0 & 0 & 0 & \\frac{2 A \\chi \\left(\\delta_{q} - 1\\right)}{\\delta_{q}^{2}} & 0 & 0\\\\0 & 0 & 0 & 0 & 0 & 0 & 0 & 0 & \\frac{3 A \\chi \\left(\\delta_{q} - 1\\right)}{\\delta_{q}^{2}} & 0\\\\0 & 0 & 0 & 0 & 0 & 0 & 0 & 0 & 0 & \\frac{4 A \\chi \\left(\\delta_{q} - 1\\right)}{\\delta_{q}^{2}}\\end{matrix}\\right]$"
      ],
      "text/plain": [
       "Matrix([\n",
       "[0,                              0,                                0,                                0,                                0, 0,                              0,                                0,                                0,                                0],\n",
       "[0, A*chi*(1 - delta_q)/delta_q**2,                                0,                                0,                                0, 0,                              0,                                0,                                0,                                0],\n",
       "[0,                              0, 2*A*chi*(1 - delta_q)/delta_q**2,                                0,                                0, 0,                              0,                                0,                                0,                                0],\n",
       "[0,                              0,                                0, 3*A*chi*(1 - delta_q)/delta_q**2,                                0, 0,                              0,                                0,                                0,                                0],\n",
       "[0,                              0,                                0,                                0, 4*A*chi*(1 - delta_q)/delta_q**2, 0,                              0,                                0,                                0,                                0],\n",
       "[0,                              0,                                0,                                0,                                0, 0,                              0,                                0,                                0,                                0],\n",
       "[0,                              0,                                0,                                0,                                0, 0, A*chi*(delta_q - 1)/delta_q**2,                                0,                                0,                                0],\n",
       "[0,                              0,                                0,                                0,                                0, 0,                              0, 2*A*chi*(delta_q - 1)/delta_q**2,                                0,                                0],\n",
       "[0,                              0,                                0,                                0,                                0, 0,                              0,                                0, 3*A*chi*(delta_q - 1)/delta_q**2,                                0],\n",
       "[0,                              0,                                0,                                0,                                0, 0,                              0,                                0,                                0, 4*A*chi*(delta_q - 1)/delta_q**2]])"
      ]
     },
     "execution_count": 93,
     "metadata": {},
     "output_type": "execute_result"
    }
   ],
   "source": [
    "(expand_matrix_terms(commutator(S1,aq), chi, 0, 2) -( A/deltaq*sigmaz - A*chi/deltaq*sigmaz*acd*ac)).applyfunc(sp.simplify)"
   ]
  },
  {
   "cell_type": "code",
   "execution_count": 94,
   "metadata": {},
   "outputs": [
    {
     "data": {
      "text/latex": [
       "$\\displaystyle \\left[\\begin{matrix}0 & 0 & 0 & 0 & 0 & 0 & 0 & 0 & 0 & 0\\\\0 & 0 & 0 & 0 & 0 & 0 & 0 & 0 & 0 & 0\\\\0 & 0 & 0 & 0 & 0 & 0 & 0 & 0 & 0 & 0\\\\0 & 0 & 0 & 0 & 0 & 0 & 0 & 0 & 0 & 0\\\\0 & 0 & 0 & 0 & 0 & 0 & 0 & 0 & 0 & 0\\\\0 & 0 & 0 & 0 & 0 & 0 & 0 & 0 & 0 & 0\\\\0 & 0 & 0 & 0 & 0 & 0 & 0 & 0 & 0 & 0\\\\0 & 0 & 0 & 0 & 0 & 0 & 0 & 0 & 0 & 0\\\\0 & 0 & 0 & 0 & 0 & 0 & 0 & 0 & 0 & 0\\\\0 & 0 & 0 & 0 & 0 & 0 & 0 & 0 & 0 & 0\\end{matrix}\\right]$"
      ],
      "text/plain": [
       "Matrix([\n",
       "[0, 0, 0, 0, 0, 0, 0, 0, 0, 0],\n",
       "[0, 0, 0, 0, 0, 0, 0, 0, 0, 0],\n",
       "[0, 0, 0, 0, 0, 0, 0, 0, 0, 0],\n",
       "[0, 0, 0, 0, 0, 0, 0, 0, 0, 0],\n",
       "[0, 0, 0, 0, 0, 0, 0, 0, 0, 0],\n",
       "[0, 0, 0, 0, 0, 0, 0, 0, 0, 0],\n",
       "[0, 0, 0, 0, 0, 0, 0, 0, 0, 0],\n",
       "[0, 0, 0, 0, 0, 0, 0, 0, 0, 0],\n",
       "[0, 0, 0, 0, 0, 0, 0, 0, 0, 0],\n",
       "[0, 0, 0, 0, 0, 0, 0, 0, 0, 0]])"
      ]
     },
     "execution_count": 94,
     "metadata": {},
     "output_type": "execute_result"
    }
   ],
   "source": [
    "expand_matrix_terms(commutator(S1,ac), chi, 0, 2) - A*chi/deltaq**2*(aqd - aq)*ac"
   ]
  },
  {
   "cell_type": "code",
   "execution_count": 95,
   "metadata": {},
   "outputs": [
    {
     "data": {
      "text/latex": [
       "$\\displaystyle \\left[\\begin{matrix}0 & 0 & 0 & 0 & 0 & 0 & 0 & 0 & 0 & 0\\\\0 & 0 & 0 & 0 & 0 & 0 & 0 & 0 & 0 & 0\\\\0 & 0 & 0 & 0 & 0 & 0 & 0 & 0 & 0 & 0\\\\0 & 0 & 0 & 0 & 0 & 0 & 0 & 0 & 0 & 0\\\\0 & 0 & 0 & 0 & 0 & 0 & 0 & 0 & 0 & 0\\\\0 & 0 & 0 & 0 & 0 & 0 & 0 & 0 & 0 & 0\\\\0 & 0 & 0 & 0 & 0 & 0 & 0 & 0 & 0 & 0\\\\0 & 0 & 0 & 0 & 0 & 0 & 0 & 0 & 0 & 0\\\\0 & 0 & 0 & 0 & 0 & 0 & 0 & 0 & 0 & 0\\\\0 & 0 & 0 & 0 & 0 & 0 & 0 & 0 & 0 & 0\\end{matrix}\\right]$"
      ],
      "text/plain": [
       "Matrix([\n",
       "[0, 0, 0, 0, 0, 0, 0, 0, 0, 0],\n",
       "[0, 0, 0, 0, 0, 0, 0, 0, 0, 0],\n",
       "[0, 0, 0, 0, 0, 0, 0, 0, 0, 0],\n",
       "[0, 0, 0, 0, 0, 0, 0, 0, 0, 0],\n",
       "[0, 0, 0, 0, 0, 0, 0, 0, 0, 0],\n",
       "[0, 0, 0, 0, 0, 0, 0, 0, 0, 0],\n",
       "[0, 0, 0, 0, 0, 0, 0, 0, 0, 0],\n",
       "[0, 0, 0, 0, 0, 0, 0, 0, 0, 0],\n",
       "[0, 0, 0, 0, 0, 0, 0, 0, 0, 0],\n",
       "[0, 0, 0, 0, 0, 0, 0, 0, 0, 0]])"
      ]
     },
     "execution_count": 95,
     "metadata": {},
     "output_type": "execute_result"
    }
   ],
   "source": [
    "\n",
    "expand_matrix_terms(commutator(S1,aqd)*aq + aqd*commutator(S1,aq), chi, 0, 2) - (-A/deltaq*(aqd+aq) - -A*chi/deltaq**2*(aqd+aq)*acd*ac)"
   ]
  },
  {
   "cell_type": "code",
   "execution_count": 96,
   "metadata": {},
   "outputs": [
    {
     "data": {
      "text/latex": [
       "$\\displaystyle \\left[\\begin{matrix}\\frac{A^{2}}{\\delta_{q}^{2}} & 0 & 0 & 0 & 0 & 0 & 0 & 0 & 0 & 0\\\\0 & - \\frac{2 A^{2} \\chi}{\\delta_{q}^{3}} + \\frac{A^{2}}{\\delta_{q}^{2}} & 0 & 0 & 0 & 0 & 0 & 0 & 0 & 0\\\\0 & 0 & - \\frac{4 A^{2} \\chi}{\\delta_{q}^{3}} + \\frac{A^{2}}{\\delta_{q}^{2}} & 0 & 0 & 0 & 0 & 0 & 0 & 0\\\\0 & 0 & 0 & - \\frac{6 A^{2} \\chi}{\\delta_{q}^{3}} + \\frac{A^{2}}{\\delta_{q}^{2}} & 0 & 0 & 0 & 0 & 0 & 0\\\\0 & 0 & 0 & 0 & - \\frac{8 A^{2} \\chi}{\\delta_{q}^{3}} + \\frac{A^{2}}{\\delta_{q}^{2}} & 0 & 0 & 0 & 0 & 0\\\\0 & 0 & 0 & 0 & 0 & \\frac{A^{2}}{\\delta_{q}^{2}} & 0 & 0 & 0 & 0\\\\0 & 0 & 0 & 0 & 0 & 0 & - \\frac{2 A^{2} \\chi}{\\delta_{q}^{3}} + \\frac{A^{2}}{\\delta_{q}^{2}} & 0 & 0 & 0\\\\0 & 0 & 0 & 0 & 0 & 0 & 0 & - \\frac{4 A^{2} \\chi}{\\delta_{q}^{3}} + \\frac{A^{2}}{\\delta_{q}^{2}} & 0 & 0\\\\0 & 0 & 0 & 0 & 0 & 0 & 0 & 0 & - \\frac{6 A^{2} \\chi}{\\delta_{q}^{3}} + \\frac{A^{2}}{\\delta_{q}^{2}} & 0\\\\0 & 0 & 0 & 0 & 0 & 0 & 0 & 0 & 0 & - \\frac{8 A^{2} \\chi}{\\delta_{q}^{3}} + \\frac{A^{2}}{\\delta_{q}^{2}}\\end{matrix}\\right]$"
      ],
      "text/plain": [
       "Matrix([\n",
       "[A**2/delta_q**2,                                        0,                                        0,                                        0,                                        0,               0,                                        0,                                        0,                                        0,                                        0],\n",
       "[              0, -2*A**2*chi/delta_q**3 + A**2/delta_q**2,                                        0,                                        0,                                        0,               0,                                        0,                                        0,                                        0,                                        0],\n",
       "[              0,                                        0, -4*A**2*chi/delta_q**3 + A**2/delta_q**2,                                        0,                                        0,               0,                                        0,                                        0,                                        0,                                        0],\n",
       "[              0,                                        0,                                        0, -6*A**2*chi/delta_q**3 + A**2/delta_q**2,                                        0,               0,                                        0,                                        0,                                        0,                                        0],\n",
       "[              0,                                        0,                                        0,                                        0, -8*A**2*chi/delta_q**3 + A**2/delta_q**2,               0,                                        0,                                        0,                                        0,                                        0],\n",
       "[              0,                                        0,                                        0,                                        0,                                        0, A**2/delta_q**2,                                        0,                                        0,                                        0,                                        0],\n",
       "[              0,                                        0,                                        0,                                        0,                                        0,               0, -2*A**2*chi/delta_q**3 + A**2/delta_q**2,                                        0,                                        0,                                        0],\n",
       "[              0,                                        0,                                        0,                                        0,                                        0,               0,                                        0, -4*A**2*chi/delta_q**3 + A**2/delta_q**2,                                        0,                                        0],\n",
       "[              0,                                        0,                                        0,                                        0,                                        0,               0,                                        0,                                        0, -6*A**2*chi/delta_q**3 + A**2/delta_q**2,                                        0],\n",
       "[              0,                                        0,                                        0,                                        0,                                        0,               0,                                        0,                                        0,                                        0, -8*A**2*chi/delta_q**3 + A**2/delta_q**2]])"
      ]
     },
     "execution_count": 96,
     "metadata": {},
     "output_type": "execute_result"
    }
   ],
   "source": [
    "expand_matrix_terms(commutator(S1,aqd)*commutator(S1,aq), chi, 0, 2)"
   ]
  },
  {
   "cell_type": "code",
   "execution_count": 97,
   "metadata": {},
   "outputs": [
    {
     "data": {
      "text/latex": [
       "$\\displaystyle \\left[\\begin{matrix}0 & 0 & 0 & 0 & 0 & 0 & 0 & 0 & 0 & 0\\\\- \\frac{A}{\\delta_{q}} & 0 & 0 & 0 & 0 & 0 & 0 & 0 & 0 & 0\\\\0 & \\frac{\\sqrt{2} A \\chi}{\\delta_{q}^{2}} - \\frac{\\sqrt{2} A}{\\delta_{q}} & 0 & 0 & 0 & 0 & 0 & 0 & 0 & 0\\\\0 & 0 & \\frac{2 \\sqrt{3} A \\chi}{\\delta_{q}^{2}} - \\frac{\\sqrt{3} A}{\\delta_{q}} & 0 & 0 & 0 & 0 & 0 & 0 & 0\\\\0 & 0 & 0 & \\frac{6 A \\chi}{\\delta_{q}^{2}} - \\frac{2 A}{\\delta_{q}} & 0 & 0 & 0 & 0 & 0 & 0\\\\0 & 0 & 0 & 0 & 0 & 0 & 0 & 0 & 0 & 0\\\\0 & 0 & 0 & 0 & 0 & - \\frac{A \\chi}{\\delta_{q}^{2}} + \\frac{A}{\\delta_{q}} & 0 & 0 & 0 & 0\\\\0 & 0 & 0 & 0 & 0 & 0 & - \\frac{2 \\sqrt{2} A \\chi}{\\delta_{q}^{2}} + \\frac{\\sqrt{2} A}{\\delta_{q}} & 0 & 0 & 0\\\\0 & 0 & 0 & 0 & 0 & 0 & 0 & - \\frac{3 \\sqrt{3} A \\chi}{\\delta_{q}^{2}} + \\frac{\\sqrt{3} A}{\\delta_{q}} & 0 & 0\\\\0 & 0 & 0 & 0 & 0 & 0 & 0 & 0 & - \\frac{8 A \\chi}{\\delta_{q}^{2}} + \\frac{2 A}{\\delta_{q}} & 0\\end{matrix}\\right]$"
      ],
      "text/plain": [
       "Matrix([\n",
       "[         0,                                            0,                                              0,                                0, 0,                             0,                                               0,                                               0,                                 0, 0],\n",
       "[-A/delta_q,                                            0,                                              0,                                0, 0,                             0,                                               0,                                               0,                                 0, 0],\n",
       "[         0, sqrt(2)*A*chi/delta_q**2 - sqrt(2)*A/delta_q,                                              0,                                0, 0,                             0,                                               0,                                               0,                                 0, 0],\n",
       "[         0,                                            0, 2*sqrt(3)*A*chi/delta_q**2 - sqrt(3)*A/delta_q,                                0, 0,                             0,                                               0,                                               0,                                 0, 0],\n",
       "[         0,                                            0,                                              0, 6*A*chi/delta_q**2 - 2*A/delta_q, 0,                             0,                                               0,                                               0,                                 0, 0],\n",
       "[         0,                                            0,                                              0,                                0, 0,                             0,                                               0,                                               0,                                 0, 0],\n",
       "[         0,                                            0,                                              0,                                0, 0, -A*chi/delta_q**2 + A/delta_q,                                               0,                                               0,                                 0, 0],\n",
       "[         0,                                            0,                                              0,                                0, 0,                             0, -2*sqrt(2)*A*chi/delta_q**2 + sqrt(2)*A/delta_q,                                               0,                                 0, 0],\n",
       "[         0,                                            0,                                              0,                                0, 0,                             0,                                               0, -3*sqrt(3)*A*chi/delta_q**2 + sqrt(3)*A/delta_q,                                 0, 0],\n",
       "[         0,                                            0,                                              0,                                0, 0,                             0,                                               0,                                               0, -8*A*chi/delta_q**2 + 2*A/delta_q, 0]])"
      ]
     },
     "execution_count": 97,
     "metadata": {},
     "output_type": "execute_result"
    }
   ],
   "source": [
    "expand_matrix_terms(commutator(S1,aq*acd), chi, 0, 2)"
   ]
  },
  {
   "cell_type": "code",
   "execution_count": 98,
   "metadata": {},
   "outputs": [
    {
     "data": {
      "text/latex": [
       "$\\displaystyle \\left[\\begin{matrix}0 & 0 & 0 & 0 & 0 & 0 & 0 & 0 & 0 & 0\\\\0 & 0 & 0 & 0 & 0 & 0 & 0 & 0 & 0 & 0\\\\0 & \\sqrt{2} & 0 & 0 & 0 & 0 & 0 & 0 & 0 & 0\\\\0 & 0 & 2 \\sqrt{3} & 0 & 0 & 0 & 0 & 0 & 0 & 0\\\\0 & 0 & 0 & 6 & 0 & 0 & 0 & 0 & 0 & 0\\\\0 & 0 & 0 & 0 & 0 & 0 & 0 & 0 & 0 & 0\\\\0 & 0 & 0 & 0 & 0 & 0 & 0 & 0 & 0 & 0\\\\0 & 0 & 0 & 0 & 0 & 0 & \\sqrt{2} & 0 & 0 & 0\\\\0 & 0 & 0 & 0 & 0 & 0 & 0 & 2 \\sqrt{3} & 0 & 0\\\\0 & 0 & 0 & 0 & 0 & 0 & 0 & 0 & 6 & 0\\end{matrix}\\right]$"
      ],
      "text/plain": [
       "Matrix([\n",
       "[0,       0,         0, 0, 0, 0,       0,         0, 0, 0],\n",
       "[0,       0,         0, 0, 0, 0,       0,         0, 0, 0],\n",
       "[0, sqrt(2),         0, 0, 0, 0,       0,         0, 0, 0],\n",
       "[0,       0, 2*sqrt(3), 0, 0, 0,       0,         0, 0, 0],\n",
       "[0,       0,         0, 6, 0, 0,       0,         0, 0, 0],\n",
       "[0,       0,         0, 0, 0, 0,       0,         0, 0, 0],\n",
       "[0,       0,         0, 0, 0, 0,       0,         0, 0, 0],\n",
       "[0,       0,         0, 0, 0, 0, sqrt(2),         0, 0, 0],\n",
       "[0,       0,         0, 0, 0, 0,       0, 2*sqrt(3), 0, 0],\n",
       "[0,       0,         0, 0, 0, 0,       0,         0, 6, 0]])"
      ]
     },
     "execution_count": 98,
     "metadata": {},
     "output_type": "execute_result"
    }
   ],
   "source": [
    "acd*ac*acd - acd "
   ]
  },
  {
   "cell_type": "code",
   "execution_count": 102,
   "metadata": {},
   "outputs": [
    {
     "data": {
      "text/latex": [
       "$\\displaystyle \\left[\\begin{matrix}0 & 0 & 0 & 0 & 0 & 0 & \\frac{A}{- \\chi - \\delta_{q}} - \\frac{A}{\\delta_{q}} & 0 & 0 & 0\\\\0 & 0 & 0 & 0 & 0 & 0 & 0 & \\frac{\\sqrt{2} A}{- \\chi - \\delta_{q}} + \\frac{\\sqrt{2} A}{- 2 \\chi - \\delta_{q}} & 0 & 0\\\\0 & 0 & 0 & 0 & 0 & 0 & 0 & 0 & \\frac{\\sqrt{3} A}{- 2 \\chi - \\delta_{q}} + \\frac{\\sqrt{3} A}{- 3 \\chi - \\delta_{q}} & 0\\\\0 & 0 & 0 & 0 & 0 & 0 & 0 & 0 & 0 & \\frac{2 A}{- 3 \\chi - \\delta_{q}} + \\frac{2 A}{- 4 \\chi - \\delta_{q}}\\\\0 & 0 & 0 & 0 & 0 & 0 & 0 & 0 & 0 & 0\\\\0 & - \\frac{A}{\\chi + \\delta_{q}} - \\frac{A}{\\delta_{q}} & 0 & 0 & 0 & 0 & 0 & 0 & 0 & 0\\\\0 & 0 & - \\frac{\\sqrt{2} A}{2 \\chi + \\delta_{q}} - \\frac{\\sqrt{2} A}{\\chi + \\delta_{q}} & 0 & 0 & 0 & 0 & 0 & 0 & 0\\\\0 & 0 & 0 & - \\frac{\\sqrt{3} A}{3 \\chi + \\delta_{q}} - \\frac{\\sqrt{3} A}{2 \\chi + \\delta_{q}} & 0 & 0 & 0 & 0 & 0 & 0\\\\0 & 0 & 0 & 0 & - \\frac{2 A}{4 \\chi + \\delta_{q}} - \\frac{2 A}{3 \\chi + \\delta_{q}} & 0 & 0 & 0 & 0 & 0\\\\0 & 0 & 0 & 0 & 0 & 0 & 0 & 0 & 0 & 0\\end{matrix}\\right]$"
      ],
      "text/plain": [
       "Matrix([\n",
       "[0,                              0,                                                        0,                                                          0,                                              0, 0, A/(-chi - delta_q) - A/delta_q,                                                         0,                                                           0,                                               0],\n",
       "[0,                              0,                                                        0,                                                          0,                                              0, 0,                              0, sqrt(2)*A/(-chi - delta_q) + sqrt(2)*A/(-2*chi - delta_q),                                                           0,                                               0],\n",
       "[0,                              0,                                                        0,                                                          0,                                              0, 0,                              0,                                                         0, sqrt(3)*A/(-2*chi - delta_q) + sqrt(3)*A/(-3*chi - delta_q),                                               0],\n",
       "[0,                              0,                                                        0,                                                          0,                                              0, 0,                              0,                                                         0,                                                           0, 2*A/(-3*chi - delta_q) + 2*A/(-4*chi - delta_q)],\n",
       "[0,                              0,                                                        0,                                                          0,                                              0, 0,                              0,                                                         0,                                                           0,                                               0],\n",
       "[0, -A/(chi + delta_q) - A/delta_q,                                                        0,                                                          0,                                              0, 0,                              0,                                                         0,                                                           0,                                               0],\n",
       "[0,                              0, -sqrt(2)*A/(2*chi + delta_q) - sqrt(2)*A/(chi + delta_q),                                                          0,                                              0, 0,                              0,                                                         0,                                                           0,                                               0],\n",
       "[0,                              0,                                                        0, -sqrt(3)*A/(3*chi + delta_q) - sqrt(3)*A/(2*chi + delta_q),                                              0, 0,                              0,                                                         0,                                                           0,                                               0],\n",
       "[0,                              0,                                                        0,                                                          0, -2*A/(4*chi + delta_q) - 2*A/(3*chi + delta_q), 0,                              0,                                                         0,                                                           0,                                               0],\n",
       "[0,                              0,                                                        0,                                                          0,                                              0, 0,                              0,                                                         0,                                                           0,                                               0]])"
      ]
     },
     "execution_count": 102,
     "metadata": {},
     "output_type": "execute_result"
    }
   ],
   "source": [
    "(commutator(S1,sigmaz@ac))"
   ]
  },
  {
   "cell_type": "code",
   "execution_count": 103,
   "metadata": {},
   "outputs": [
    {
     "data": {
      "text/latex": [
       "$\\displaystyle \\left[\\begin{matrix}0 & 0 & 0 & 0 & 0 & 0 & \\frac{A \\chi}{\\delta_{q}^{2}} - \\frac{2 A}{\\delta_{q}} & 0 & 0 & 0\\\\0 & 0 & 0 & 0 & 0 & 0 & 0 & \\frac{3 \\sqrt{2} A \\chi}{\\delta_{q}^{2}} - \\frac{2 \\sqrt{2} A}{\\delta_{q}} & 0 & 0\\\\0 & 0 & 0 & 0 & 0 & 0 & 0 & 0 & \\frac{5 \\sqrt{3} A \\chi}{\\delta_{q}^{2}} - \\frac{2 \\sqrt{3} A}{\\delta_{q}} & 0\\\\0 & 0 & 0 & 0 & 0 & 0 & 0 & 0 & 0 & \\frac{14 A \\chi}{\\delta_{q}^{2}} - \\frac{4 A}{\\delta_{q}}\\\\0 & 0 & 0 & 0 & 0 & 0 & 0 & 0 & 0 & 0\\\\0 & \\frac{A \\chi}{\\delta_{q}^{2}} - \\frac{2 A}{\\delta_{q}} & 0 & 0 & 0 & 0 & 0 & 0 & 0 & 0\\\\0 & 0 & \\frac{3 \\sqrt{2} A \\chi}{\\delta_{q}^{2}} - \\frac{2 \\sqrt{2} A}{\\delta_{q}} & 0 & 0 & 0 & 0 & 0 & 0 & 0\\\\0 & 0 & 0 & \\frac{5 \\sqrt{3} A \\chi}{\\delta_{q}^{2}} - \\frac{2 \\sqrt{3} A}{\\delta_{q}} & 0 & 0 & 0 & 0 & 0 & 0\\\\0 & 0 & 0 & 0 & \\frac{14 A \\chi}{\\delta_{q}^{2}} - \\frac{4 A}{\\delta_{q}} & 0 & 0 & 0 & 0 & 0\\\\0 & 0 & 0 & 0 & 0 & 0 & 0 & 0 & 0 & 0\\end{matrix}\\right]$"
      ],
      "text/plain": [
       "Matrix([\n",
       "[0,                              0,                                                0,                                                0,                                 0, 0, A*chi/delta_q**2 - 2*A/delta_q,                                                0,                                                0,                                 0],\n",
       "[0,                              0,                                                0,                                                0,                                 0, 0,                              0, 3*sqrt(2)*A*chi/delta_q**2 - 2*sqrt(2)*A/delta_q,                                                0,                                 0],\n",
       "[0,                              0,                                                0,                                                0,                                 0, 0,                              0,                                                0, 5*sqrt(3)*A*chi/delta_q**2 - 2*sqrt(3)*A/delta_q,                                 0],\n",
       "[0,                              0,                                                0,                                                0,                                 0, 0,                              0,                                                0,                                                0, 14*A*chi/delta_q**2 - 4*A/delta_q],\n",
       "[0,                              0,                                                0,                                                0,                                 0, 0,                              0,                                                0,                                                0,                                 0],\n",
       "[0, A*chi/delta_q**2 - 2*A/delta_q,                                                0,                                                0,                                 0, 0,                              0,                                                0,                                                0,                                 0],\n",
       "[0,                              0, 3*sqrt(2)*A*chi/delta_q**2 - 2*sqrt(2)*A/delta_q,                                                0,                                 0, 0,                              0,                                                0,                                                0,                                 0],\n",
       "[0,                              0,                                                0, 5*sqrt(3)*A*chi/delta_q**2 - 2*sqrt(3)*A/delta_q,                                 0, 0,                              0,                                                0,                                                0,                                 0],\n",
       "[0,                              0,                                                0,                                                0, 14*A*chi/delta_q**2 - 4*A/delta_q, 0,                              0,                                                0,                                                0,                                 0],\n",
       "[0,                              0,                                                0,                                                0,                                 0, 0,                              0,                                                0,                                                0,                                 0]])"
      ]
     },
     "execution_count": 103,
     "metadata": {},
     "output_type": "execute_result"
    }
   ],
   "source": [
    "expand_matrix_terms((commutator(S1,sigmaz@ac)), chi, 0, 2) "
   ]
  },
  {
   "cell_type": "code",
   "execution_count": 106,
   "metadata": {},
   "outputs": [
    {
     "data": {
      "text/latex": [
       "$\\displaystyle \\left[\\begin{matrix}0 & 0 & 0 & 0 & 0 & 0 & 1 & 0 & 0 & 0\\\\0 & 0 & 0 & 0 & 0 & 0 & 0 & \\sqrt{2} & 0 & 0\\\\0 & 0 & 0 & 0 & 0 & 0 & 0 & 0 & \\sqrt{3} & 0\\\\0 & 0 & 0 & 0 & 0 & 0 & 0 & 0 & 0 & 2\\\\0 & 0 & 0 & 0 & 0 & 0 & 0 & 0 & 0 & 0\\\\0 & 1 & 0 & 0 & 0 & 0 & 0 & 0 & 0 & 0\\\\0 & 0 & \\sqrt{2} & 0 & 0 & 0 & 0 & 0 & 0 & 0\\\\0 & 0 & 0 & \\sqrt{3} & 0 & 0 & 0 & 0 & 0 & 0\\\\0 & 0 & 0 & 0 & 2 & 0 & 0 & 0 & 0 & 0\\\\0 & 0 & 0 & 0 & 0 & 0 & 0 & 0 & 0 & 0\\end{matrix}\\right]$"
      ],
      "text/plain": [
       "Matrix([\n",
       "[0, 0,       0,       0, 0, 0, 1,       0,       0, 0],\n",
       "[0, 0,       0,       0, 0, 0, 0, sqrt(2),       0, 0],\n",
       "[0, 0,       0,       0, 0, 0, 0,       0, sqrt(3), 0],\n",
       "[0, 0,       0,       0, 0, 0, 0,       0,       0, 2],\n",
       "[0, 0,       0,       0, 0, 0, 0,       0,       0, 0],\n",
       "[0, 1,       0,       0, 0, 0, 0,       0,       0, 0],\n",
       "[0, 0, sqrt(2),       0, 0, 0, 0,       0,       0, 0],\n",
       "[0, 0,       0, sqrt(3), 0, 0, 0,       0,       0, 0],\n",
       "[0, 0,       0,       0, 2, 0, 0,       0,       0, 0],\n",
       "[0, 0,       0,       0, 0, 0, 0,       0,       0, 0]])"
      ]
     },
     "execution_count": 106,
     "metadata": {},
     "output_type": "execute_result"
    }
   ],
   "source": [
    "(aq+aqd)*ac"
   ]
  },
  {
   "cell_type": "code",
   "execution_count": 107,
   "metadata": {},
   "outputs": [
    {
     "data": {
      "text/latex": [
       "$\\displaystyle \\left[\\begin{matrix}0 & - \\frac{A}{\\delta_{q}} & 0 & 0 & 0 & 0 & 0 & 0 & 0 & 0\\\\0 & 0 & \\frac{\\sqrt{2} A \\chi}{\\delta_{q}^{2}} - \\frac{\\sqrt{2} A}{\\delta_{q}} & 0 & 0 & 0 & 0 & 0 & 0 & 0\\\\0 & 0 & 0 & \\frac{2 \\sqrt{3} A \\chi}{\\delta_{q}^{2}} - \\frac{\\sqrt{3} A}{\\delta_{q}} & 0 & 0 & 0 & 0 & 0 & 0\\\\0 & 0 & 0 & 0 & \\frac{6 A \\chi}{\\delta_{q}^{2}} - \\frac{2 A}{\\delta_{q}} & 0 & 0 & 0 & 0 & 0\\\\0 & 0 & 0 & 0 & 0 & 0 & 0 & 0 & 0 & 0\\\\0 & 0 & 0 & 0 & 0 & 0 & - \\frac{A \\chi}{\\delta_{q}^{2}} + \\frac{A}{\\delta_{q}} & 0 & 0 & 0\\\\0 & 0 & 0 & 0 & 0 & 0 & 0 & - \\frac{2 \\sqrt{2} A \\chi}{\\delta_{q}^{2}} + \\frac{\\sqrt{2} A}{\\delta_{q}} & 0 & 0\\\\0 & 0 & 0 & 0 & 0 & 0 & 0 & 0 & - \\frac{3 \\sqrt{3} A \\chi}{\\delta_{q}^{2}} + \\frac{\\sqrt{3} A}{\\delta_{q}} & 0\\\\0 & 0 & 0 & 0 & 0 & 0 & 0 & 0 & 0 & - \\frac{8 A \\chi}{\\delta_{q}^{2}} + \\frac{2 A}{\\delta_{q}}\\\\0 & 0 & 0 & 0 & 0 & 0 & 0 & 0 & 0 & 0\\end{matrix}\\right]$"
      ],
      "text/plain": [
       "Matrix([\n",
       "[0, -A/delta_q,                                            0,                                              0,                                0, 0,                             0,                                               0,                                               0,                                 0],\n",
       "[0,          0, sqrt(2)*A*chi/delta_q**2 - sqrt(2)*A/delta_q,                                              0,                                0, 0,                             0,                                               0,                                               0,                                 0],\n",
       "[0,          0,                                            0, 2*sqrt(3)*A*chi/delta_q**2 - sqrt(3)*A/delta_q,                                0, 0,                             0,                                               0,                                               0,                                 0],\n",
       "[0,          0,                                            0,                                              0, 6*A*chi/delta_q**2 - 2*A/delta_q, 0,                             0,                                               0,                                               0,                                 0],\n",
       "[0,          0,                                            0,                                              0,                                0, 0,                             0,                                               0,                                               0,                                 0],\n",
       "[0,          0,                                            0,                                              0,                                0, 0, -A*chi/delta_q**2 + A/delta_q,                                               0,                                               0,                                 0],\n",
       "[0,          0,                                            0,                                              0,                                0, 0,                             0, -2*sqrt(2)*A*chi/delta_q**2 + sqrt(2)*A/delta_q,                                               0,                                 0],\n",
       "[0,          0,                                            0,                                              0,                                0, 0,                             0,                                               0, -3*sqrt(3)*A*chi/delta_q**2 + sqrt(3)*A/delta_q,                                 0],\n",
       "[0,          0,                                            0,                                              0,                                0, 0,                             0,                                               0,                                               0, -8*A*chi/delta_q**2 + 2*A/delta_q],\n",
       "[0,          0,                                            0,                                              0,                                0, 0,                             0,                                               0,                                               0,                                 0]])"
      ]
     },
     "execution_count": 107,
     "metadata": {},
     "output_type": "execute_result"
    }
   ],
   "source": [
    "expand_matrix_terms((commutator(S1,aqd@ac)), chi, 0, 2) "
   ]
  },
  {
   "cell_type": "code",
   "execution_count": 109,
   "metadata": {},
   "outputs": [
    {
     "data": {
      "text/latex": [
       "$\\displaystyle \\left[\\begin{matrix}0 & -1 & 0 & 0 & 0 & 0 & 0 & 0 & 0 & 0\\\\0 & 0 & - \\sqrt{2} & 0 & 0 & 0 & 0 & 0 & 0 & 0\\\\0 & 0 & 0 & - \\sqrt{3} & 0 & 0 & 0 & 0 & 0 & 0\\\\0 & 0 & 0 & 0 & -2 & 0 & 0 & 0 & 0 & 0\\\\0 & 0 & 0 & 0 & 0 & 0 & 0 & 0 & 0 & 0\\\\0 & 0 & 0 & 0 & 0 & 0 & 1 & 0 & 0 & 0\\\\0 & 0 & 0 & 0 & 0 & 0 & 0 & \\sqrt{2} & 0 & 0\\\\0 & 0 & 0 & 0 & 0 & 0 & 0 & 0 & \\sqrt{3} & 0\\\\0 & 0 & 0 & 0 & 0 & 0 & 0 & 0 & 0 & 2\\\\0 & 0 & 0 & 0 & 0 & 0 & 0 & 0 & 0 & 0\\end{matrix}\\right]$"
      ],
      "text/plain": [
       "Matrix([\n",
       "[0, -1,        0,        0,  0, 0, 0,       0,       0, 0],\n",
       "[0,  0, -sqrt(2),        0,  0, 0, 0,       0,       0, 0],\n",
       "[0,  0,        0, -sqrt(3),  0, 0, 0,       0,       0, 0],\n",
       "[0,  0,        0,        0, -2, 0, 0,       0,       0, 0],\n",
       "[0,  0,        0,        0,  0, 0, 0,       0,       0, 0],\n",
       "[0,  0,        0,        0,  0, 0, 1,       0,       0, 0],\n",
       "[0,  0,        0,        0,  0, 0, 0, sqrt(2),       0, 0],\n",
       "[0,  0,        0,        0,  0, 0, 0,       0, sqrt(3), 0],\n",
       "[0,  0,        0,        0,  0, 0, 0,       0,       0, 2],\n",
       "[0,  0,        0,        0,  0, 0, 0,       0,       0, 0]])"
      ]
     },
     "execution_count": 109,
     "metadata": {},
     "output_type": "execute_result"
    }
   ],
   "source": [
    "sigmaz*ac"
   ]
  },
  {
   "cell_type": "code",
   "execution_count": null,
   "metadata": {},
   "outputs": [],
   "source": []
  }
 ],
 "metadata": {
  "kernelspec": {
   "display_name": "fluxonium",
   "language": "python",
   "name": "python3"
  },
  "language_info": {
   "codemirror_mode": {
    "name": "ipython",
    "version": 3
   },
   "file_extension": ".py",
   "mimetype": "text/x-python",
   "name": "python",
   "nbconvert_exporter": "python",
   "pygments_lexer": "ipython3",
   "version": "3.11.8"
  }
 },
 "nbformat": 4,
 "nbformat_minor": 2
}
