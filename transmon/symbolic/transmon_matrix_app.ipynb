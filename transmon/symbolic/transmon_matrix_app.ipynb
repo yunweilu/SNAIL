{
 "cells": [
  {
   "cell_type": "code",
   "execution_count": 1,
   "metadata": {},
   "outputs": [],
   "source": [
    "import sympy as sp\n",
    "\n",
    "def commutator(A, B):\n",
    "    return A * B - B * A\n",
    "\n",
    "def nested_commutator(A, B, n):\n",
    "    if n == 1:\n",
    "        return commutator(A, B)\n",
    "    else:\n",
    "        return commutator(A, nested_commutator(A, B, n-1))\n",
    "def each_level_its_own_subspace(dim):\n",
    "    \"\"\"\n",
    "    Obtain the indices of the subspace to consider.\n",
    "\n",
    "    Args:\n",
    "        dim (int): The dimension of the subspace.\n",
    "\n",
    "    Returns:\n",
    "        list: A list of lists, each containing a single index of the subspace to consider.\n",
    "    \"\"\"\n",
    "    # Define the indices of the subspace to consider\n",
    "    subspace_indices = [[i] for i in range(dim)]\n",
    "    return subspace_indices\n",
    "\n",
    "def create_subspace_projectors(dim, subspace_indices):\n",
    "    \"\"\"\n",
    "    Create projectors for the given subspaces using SymPy.\n",
    "\n",
    "    Args:\n",
    "        dim (int): The total dimension of the Hilbert space.\n",
    "        subspace_indices (list): A list of lists, each containing the indices of a subspace.\n",
    "\n",
    "    Returns:\n",
    "        list: A list of projectors (SymPy matrices) for the given subspaces.\n",
    "    \"\"\"\n",
    "    projectors = []\n",
    "    \n",
    "    for subspace in subspace_indices:\n",
    "        # Initialize the projector matrix P as a zero matrix of size dim x dim\n",
    "        P = sp.zeros(dim, dim)\n",
    "        \n",
    "        # Create the basis states and compute the projector for each index in the subspace\n",
    "        for idx in subspace:\n",
    "            # Create a basis state (column vector) with 1 at the index 'idx'\n",
    "            state = sp.zeros(dim, 1)\n",
    "            state[idx, 0] = 1\n",
    "            \n",
    "            # Compute the rank-1 projector for this basis state: |state><state|\n",
    "            P += state * state.T  # Outer product in SymPy is `*`\n",
    "        \n",
    "        # Add the projector to the list\n",
    "        projectors.append(P)\n",
    "    \n",
    "    return projectors\n",
    "\n",
    "def swt_subspace(H0, V, subspace_indices):\n",
    "    \"\"\"\n",
    "    Compute the Schrieffer-Wolff transformation on a subspace of the Hamiltonian.\n",
    "\n",
    "    Args:\n",
    "        H0 (sp.Matrix): The unperturbed Hamiltonian.\n",
    "        V (sp.Matrix): The perturbation Hamiltonian.\n",
    "        subspace_indices (list): The indices of the subspace to consider.\n",
    "\n",
    "    Returns:\n",
    "        tuple: The Schrieffer-Wolff transformation operators (S1, S2, S3) and \n",
    "               the transformed Hamiltonian components (H1, H2, H3, H4).\n",
    "    \"\"\"\n",
    "    dim = H0.shape[0]\n",
    "    projectors = create_subspace_projectors(dim, subspace_indices)\n",
    "    Vd = sp.zeros(dim, dim)\n",
    "    for P in projectors:\n",
    "        Vd += P * V * P\n",
    "    Vod = V - Vd\n",
    "    # Compute the energy differences in the subspace\n",
    "    delta = sp.Matrix([[H0[i,i] - H0[j,j] if i != j else 1 for j in range(dim)] for i in range(dim)])\n",
    "\n",
    "    # Compute the Schrieffer-Wolff transformation components\n",
    "    H1 = Vd\n",
    "    S1 = sp.Matrix([[Vod[i,j] / delta[i,j] for j in range(dim)] for i in range(dim)])\n",
    "    H2 = sp.Rational(1, 2) * commutator(S1, Vod)\n",
    "    \n",
    "    S2 = sp.Matrix([[-commutator(Vd, S1)[i,j] / delta[i,j] for j in range(dim)] for i in range(dim)])\n",
    "    # H3 = sp.Rational(1, 2) * commutator(S2, Vod)\n",
    "    # S3 = sp.Matrix([[(commutator(S2, Vd)[i,j] + sp.Rational(1, 3) * nested_commutator(S1, Vod, 2)[i,j]) / delta[i,j] for j in range(dim)] for i in range(dim)])\n",
    "    # H4 = sp.Rational(1, 2) * commutator(S3, Vod) - sp.Rational(1, 24) * nested_commutator(S1, Vod, 3)\n",
    "\n",
    "    return [S1,S2], [H1, H2,]"
   ]
  },
  {
   "cell_type": "code",
   "execution_count": 38,
   "metadata": {},
   "outputs": [],
   "source": [
    "from sympy.physics.quantum import TensorProduct\n",
    "from sympy import symbols, sqrt\n",
    "nc=3\n",
    "ac = sp.zeros(nc)\n",
    "acd = sp.zeros(nc)\n",
    "\n",
    "# Fill the matrices using sympy functions\n",
    "for i in range(nc-1):\n",
    "    ac[i, i+1] = sqrt(i+1)\n",
    "    acd[i+1, i] = sqrt(i+1)\n"
   ]
  },
  {
   "cell_type": "code",
   "execution_count": 39,
   "metadata": {},
   "outputs": [],
   "source": [
    "omega_s, omega_c = symbols('omega_s omega_c', real=True)\n",
    "K  = symbols('K', real=True)\n",
    "g = symbols('g', real=True)\n",
    "nq = 3\n",
    "nc = 3"
   ]
  },
  {
   "cell_type": "code",
   "execution_count": 40,
   "metadata": {},
   "outputs": [],
   "source": [
    "V = g*(TensorProduct(ac,acd)+TensorProduct(acd,ac))\n",
    "\n",
    "ENN = [\n",
    "    l*omega_s + i*omega_c + l*(l-1) * K / 2 \n",
    "    for l in range(nc)\n",
    "    for i in range(nq)\n",
    "]\n"
   ]
  },
  {
   "cell_type": "code",
   "execution_count": 41,
   "metadata": {},
   "outputs": [],
   "source": [
    "H0 = sp.diag(*ENN)"
   ]
  },
  {
   "cell_type": "code",
   "execution_count": 42,
   "metadata": {},
   "outputs": [],
   "source": [
    "indices = each_level_its_own_subspace(nq*nc)"
   ]
  },
  {
   "cell_type": "code",
   "execution_count": 43,
   "metadata": {},
   "outputs": [],
   "source": [
    "H2 = swt_subspace(H0, V, indices)[1][1]\n",
    "D1 = swt_subspace(H0, V, indices)[0][0]\n",
    "S = TensorProduct(ac,sp.eye(nc))\n",
    "Sd = TensorProduct(acd,sp.eye(nc))\n",
    "ac = TensorProduct(sp.eye(nq),ac)\n",
    "acd = TensorProduct(sp.eye(nq),acd)"
   ]
  },
  {
   "cell_type": "code",
   "execution_count": 57,
   "metadata": {},
   "outputs": [
    {
     "data": {
      "text/latex": [
       "$\\displaystyle \\left[\\begin{matrix}0 & 0 & 0 & 0 & 0 & 0 & 0 & 0 & 0\\\\0 & 0 & 0 & - \\frac{g}{\\Delta} & 0 & 0 & 0 & 0 & 0\\\\0 & 0 & 0 & 0 & - \\frac{\\sqrt{2} g}{\\Delta} & 0 & 0 & 0 & 0\\\\0 & \\frac{g}{\\Delta} & 0 & 0 & 0 & 0 & 0 & 0 & 0\\\\0 & 0 & \\frac{\\sqrt{2} g}{\\Delta} & 0 & 0 & 0 & \\frac{\\sqrt{2} g}{- \\Delta - K} & 0 & 0\\\\0 & 0 & 0 & 0 & 0 & 0 & 0 & \\frac{2 g}{- \\Delta - K} & 0\\\\0 & 0 & 0 & 0 & \\frac{\\sqrt{2} g}{\\Delta + K} & 0 & 0 & 0 & 0\\\\0 & 0 & 0 & 0 & 0 & \\frac{2 g}{\\Delta + K} & 0 & 0 & 0\\\\0 & 0 & 0 & 0 & 0 & 0 & 0 & 0 & 0\\end{matrix}\\right]$"
      ],
      "text/plain": [
       "Matrix([\n",
       "[0,       0,               0,        0,                     0,               0,                      0,                0, 0],\n",
       "[0,       0,               0, -g/Delta,                     0,               0,                      0,                0, 0],\n",
       "[0,       0,               0,        0,      -sqrt(2)*g/Delta,               0,                      0,                0, 0],\n",
       "[0, g/Delta,               0,        0,                     0,               0,                      0,                0, 0],\n",
       "[0,       0, sqrt(2)*g/Delta,        0,                     0,               0, sqrt(2)*g/(-Delta - K),                0, 0],\n",
       "[0,       0,               0,        0,                     0,               0,                      0, 2*g/(-Delta - K), 0],\n",
       "[0,       0,               0,        0, sqrt(2)*g/(Delta + K),               0,                      0,                0, 0],\n",
       "[0,       0,               0,        0,                     0, 2*g/(Delta + K),                      0,                0, 0],\n",
       "[0,       0,               0,        0,                     0,               0,                      0,                0, 0]])"
      ]
     },
     "execution_count": 57,
     "metadata": {},
     "output_type": "execute_result"
    }
   ],
   "source": [
    "### checked\n",
    "Delta = sp.symbols('Delta')\n",
    "D1 = D1.subs(omega_s - omega_c, Delta)\n",
    "D1"
   ]
  },
  {
   "cell_type": "code",
   "execution_count": 60,
   "metadata": {},
   "outputs": [
    {
     "data": {
      "text/latex": [
       "$\\displaystyle \\left[\\begin{matrix}0 & 0 & 0 & 0 & 0 & 0 & 0 & 0 & 0\\\\0 & 0 & 0 & - \\frac{g}{\\Delta} & 0 & 0 & 0 & 0 & 0\\\\0 & 0 & 0 & 0 & - \\frac{\\sqrt{2} g}{\\Delta} & 0 & 0 & 0 & 0\\\\0 & \\frac{g}{\\Delta} & 0 & 0 & 0 & 0 & 0 & 0 & 0\\\\0 & 0 & \\frac{\\sqrt{2} g}{\\Delta} & 0 & 0 & 0 & - \\frac{\\sqrt{2} g}{\\Delta} + \\frac{\\sqrt{2} K g}{\\Delta^{2}} & 0 & 0\\\\0 & 0 & 0 & 0 & 0 & 0 & 0 & - \\frac{2 g}{\\Delta} + \\frac{2 K g}{\\Delta^{2}} & 0\\\\0 & 0 & 0 & 0 & \\frac{\\sqrt{2} g}{\\Delta} - \\frac{\\sqrt{2} K g}{\\Delta^{2}} & 0 & 0 & 0 & 0\\\\0 & 0 & 0 & 0 & 0 & \\frac{2 g}{\\Delta} - \\frac{2 K g}{\\Delta^{2}} & 0 & 0 & 0\\\\0 & 0 & 0 & 0 & 0 & 0 & 0 & 0 & 0\\end{matrix}\\right]$"
      ],
      "text/plain": [
       "Matrix([\n",
       "[0,       0,               0,        0,                                      0,                          0,                                       0,                           0, 0],\n",
       "[0,       0,               0, -g/Delta,                                      0,                          0,                                       0,                           0, 0],\n",
       "[0,       0,               0,        0,                       -sqrt(2)*g/Delta,                          0,                                       0,                           0, 0],\n",
       "[0, g/Delta,               0,        0,                                      0,                          0,                                       0,                           0, 0],\n",
       "[0,       0, sqrt(2)*g/Delta,        0,                                      0,                          0, -sqrt(2)*g/Delta + sqrt(2)*K*g/Delta**2,                           0, 0],\n",
       "[0,       0,               0,        0,                                      0,                          0,                                       0, -2*g/Delta + 2*K*g/Delta**2, 0],\n",
       "[0,       0,               0,        0, sqrt(2)*g/Delta - sqrt(2)*K*g/Delta**2,                          0,                                       0,                           0, 0],\n",
       "[0,       0,               0,        0,                                      0, 2*g/Delta - 2*K*g/Delta**2,                                       0,                           0, 0],\n",
       "[0,       0,               0,        0,                                      0,                          0,                                       0,                           0, 0]])"
      ]
     },
     "execution_count": 60,
     "metadata": {},
     "output_type": "execute_result"
    }
   ],
   "source": [
    "# Expand each element of D1 in a power series in K up to second order (i.e. include terms up to K^2)\n",
    "D1_expanded = D1.applyfunc(lambda term: term.series(K, 0, 2).removeO().expand())\n",
    "D1_expanded\n"
   ]
  },
  {
   "cell_type": "code",
   "execution_count": null,
   "metadata": {},
   "outputs": [],
   "source": [
    "g/Delta*(Sd*ac)-g*K/Delta**2*(Sd*S-sp.eye(nc*nq))*Sd*ac"
   ]
  },
  {
   "cell_type": "code",
   "execution_count": 65,
   "metadata": {},
   "outputs": [],
   "source": [
    "### checked\n",
    "D1S = D1*S - S*D1\n",
    "D1Sd = D1*Sd - Sd*D1"
   ]
  },
  {
   "cell_type": "code",
   "execution_count": 66,
   "metadata": {},
   "outputs": [
    {
     "data": {
      "text/latex": [
       "$\\displaystyle \\left[\\begin{matrix}0 & - \\frac{g}{\\Delta} & 0 & 0 & 0 & 0 & 0 & 0 & 0\\\\0 & 0 & - \\frac{\\sqrt{2} g}{\\Delta} & 0 & 0 & 0 & - \\frac{\\sqrt{2} K g}{\\Delta^{2}} & 0 & 0\\\\0 & 0 & 0 & 0 & 0 & 0 & 0 & - \\frac{2 K g}{\\Delta^{2}} & 0\\\\0 & 0 & 0 & 0 & - \\frac{g}{\\Delta} + \\frac{2 K g}{\\Delta^{2}} & 0 & 0 & 0 & 0\\\\0 & 0 & 0 & 0 & 0 & - \\frac{\\sqrt{2} g}{\\Delta} + \\frac{2 \\sqrt{2} K g}{\\Delta^{2}} & 0 & 0 & 0\\\\0 & 0 & 0 & 0 & 0 & 0 & 0 & 0 & 0\\\\0 & 0 & 0 & 0 & 0 & 0 & 0 & \\frac{2 g}{\\Delta} - \\frac{2 K g}{\\Delta^{2}} & 0\\\\0 & 0 & 0 & 0 & 0 & 0 & 0 & 0 & \\frac{2 \\sqrt{2} g}{\\Delta} - \\frac{2 \\sqrt{2} K g}{\\Delta^{2}}\\\\0 & 0 & 0 & 0 & 0 & 0 & 0 & 0 & 0\\end{matrix}\\right]$"
      ],
      "text/plain": [
       "Matrix([\n",
       "[0, -g/Delta,                0, 0,                         0,                                         0,                     0,                          0,                                          0],\n",
       "[0,        0, -sqrt(2)*g/Delta, 0,                         0,                                         0, -sqrt(2)*K*g/Delta**2,                          0,                                          0],\n",
       "[0,        0,                0, 0,                         0,                                         0,                     0,            -2*K*g/Delta**2,                                          0],\n",
       "[0,        0,                0, 0, -g/Delta + 2*K*g/Delta**2,                                         0,                     0,                          0,                                          0],\n",
       "[0,        0,                0, 0,                         0, -sqrt(2)*g/Delta + 2*sqrt(2)*K*g/Delta**2,                     0,                          0,                                          0],\n",
       "[0,        0,                0, 0,                         0,                                         0,                     0,                          0,                                          0],\n",
       "[0,        0,                0, 0,                         0,                                         0,                     0, 2*g/Delta - 2*K*g/Delta**2,                                          0],\n",
       "[0,        0,                0, 0,                         0,                                         0,                     0,                          0, 2*sqrt(2)*g/Delta - 2*sqrt(2)*K*g/Delta**2],\n",
       "[0,        0,                0, 0,                         0,                                         0,                     0,                          0,                                          0]])"
      ]
     },
     "execution_count": 66,
     "metadata": {},
     "output_type": "execute_result"
    }
   ],
   "source": [
    "D1S.applyfunc(lambda term: term.series(K, 0, 2).removeO().expand())"
   ]
  },
  {
   "cell_type": "code",
   "execution_count": 67,
   "metadata": {},
   "outputs": [
    {
     "data": {
      "text/latex": [
       "$\\displaystyle \\left[\\begin{matrix}0 & 0 & 0 & 0 & 0 & 0 & 0 & 0 & 0\\\\0 & \\frac{g^{2}}{\\Delta^{2}} & 0 & - \\frac{g}{\\Delta} & 0 & 0 & 0 & 0 & 0\\\\0 & 0 & \\frac{2 g^{2}}{\\Delta^{2}} & 0 & - \\frac{\\sqrt{2} g}{\\Delta} & 0 & \\frac{2 K g^{2}}{\\Delta^{3}} & 0 & 0\\\\0 & - \\frac{g}{\\Delta} & 0 & 1 & 0 & 0 & 0 & 0 & 0\\\\0 & 0 & - \\frac{\\sqrt{2} g}{\\Delta} & 0 & 1 + \\frac{g^{2}}{\\Delta^{2}} - \\frac{4 K g^{2}}{\\Delta^{3}} & 0 & - \\frac{\\sqrt{2} g}{\\Delta} + \\frac{\\sqrt{2} K g}{\\Delta^{2}} & 0 & 0\\\\0 & 0 & 0 & 0 & 0 & 1 + \\frac{2 g^{2}}{\\Delta^{2}} - \\frac{8 K g^{2}}{\\Delta^{3}} & 0 & - \\frac{2 g}{\\Delta} + \\frac{2 K g}{\\Delta^{2}} & 0\\\\0 & 0 & \\frac{2 K g^{2}}{\\Delta^{3}} & 0 & - \\frac{\\sqrt{2} g}{\\Delta} + \\frac{\\sqrt{2} K g}{\\Delta^{2}} & 0 & 2 & 0 & 0\\\\0 & 0 & 0 & 0 & 0 & - \\frac{2 g}{\\Delta} + \\frac{2 K g}{\\Delta^{2}} & 0 & 2 + \\frac{4 g^{2}}{\\Delta^{2}} - \\frac{8 K g^{2}}{\\Delta^{3}} & 0\\\\0 & 0 & 0 & 0 & 0 & 0 & 0 & 0 & 2 + \\frac{8 g^{2}}{\\Delta^{2}} - \\frac{16 K g^{2}}{\\Delta^{3}}\\end{matrix}\\right]$"
      ],
      "text/plain": [
       "Matrix([\n",
       "[0,             0,                 0,        0,                                       0,                                       0,                                       0,                                       0,                                        0],\n",
       "[0, g**2/Delta**2,                 0, -g/Delta,                                       0,                                       0,                                       0,                                       0,                                        0],\n",
       "[0,             0,   2*g**2/Delta**2,        0,                        -sqrt(2)*g/Delta,                                       0,                       2*K*g**2/Delta**3,                                       0,                                        0],\n",
       "[0,      -g/Delta,                 0,        1,                                       0,                                       0,                                       0,                                       0,                                        0],\n",
       "[0,             0,  -sqrt(2)*g/Delta,        0,   1 + g**2/Delta**2 - 4*K*g**2/Delta**3,                                       0, -sqrt(2)*g/Delta + sqrt(2)*K*g/Delta**2,                                       0,                                        0],\n",
       "[0,             0,                 0,        0,                                       0, 1 + 2*g**2/Delta**2 - 8*K*g**2/Delta**3,                                       0,             -2*g/Delta + 2*K*g/Delta**2,                                        0],\n",
       "[0,             0, 2*K*g**2/Delta**3,        0, -sqrt(2)*g/Delta + sqrt(2)*K*g/Delta**2,                                       0,                                       2,                                       0,                                        0],\n",
       "[0,             0,                 0,        0,                                       0,             -2*g/Delta + 2*K*g/Delta**2,                                       0, 2 + 4*g**2/Delta**2 - 8*K*g**2/Delta**3,                                        0],\n",
       "[0,             0,                 0,        0,                                       0,                                       0,                                       0,                                       0, 2 + 8*g**2/Delta**2 - 16*K*g**2/Delta**3]])"
      ]
     },
     "execution_count": 67,
     "metadata": {},
     "output_type": "execute_result"
    }
   ],
   "source": [
    "((Sd + D1Sd)*(S+D1S)).applyfunc(lambda term: term.series(K, 0, 2).removeO().expand())"
   ]
  },
  {
   "cell_type": "code",
   "execution_count": null,
   "metadata": {},
   "outputs": [],
   "source": []
  }
 ],
 "metadata": {
  "kernelspec": {
   "display_name": "fluxonium",
   "language": "python",
   "name": "python3"
  },
  "language_info": {
   "codemirror_mode": {
    "name": "ipython",
    "version": 3
   },
   "file_extension": ".py",
   "mimetype": "text/x-python",
   "name": "python",
   "nbconvert_exporter": "python",
   "pygments_lexer": "ipython3",
   "version": "3.11.8"
  }
 },
 "nbformat": 4,
 "nbformat_minor": 2
}
