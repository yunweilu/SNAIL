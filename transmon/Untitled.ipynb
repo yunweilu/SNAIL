{
 "cells": [
  {
   "cell_type": "code",
   "execution_count": 2,
   "id": "d7bf539a",
   "metadata": {},
   "outputs": [],
   "source": [
    "import autograd.numpy as np\n",
    "import autograd as ad\n",
    "def annihilation(dim):\n",
    "    return np.diag(np.sqrt(np.arange(1,dim)),1)\n",
    "def creation(dim):\n",
    "    return np.diag(np.sqrt(np.arange(1,dim)),-1)\n",
    "def sort_eigenpairs(eigenvalues, eigenvectors):\n",
    "    n = eigenvectors.shape[0]\n",
    "    sorted_indices = []\n",
    "\n",
    "    for i in range(n):\n",
    "        max_abs_vals = np.abs(eigenvectors[i, :])\n",
    "        max_index = np.argmax(max_abs_vals)\n",
    "        while max_index in sorted_indices:\n",
    "            max_abs_vals[max_index] = -np.inf\n",
    "            max_index = np.argmax(max_abs_vals)\n",
    "        sorted_indices.append(max_index)\n",
    "\n",
    "    sorted_eigenvalues = eigenvalues[sorted_indices]\n",
    "    sorted_eigenvectors = eigenvectors[:, sorted_indices]\n",
    "\n",
    "    return sorted_eigenvalues, sorted_eigenvectors\n",
    "def coupled_oscillator(omega_s,omega_d):\n",
    "    sdim = 5\n",
    "    s = annihilation(sdim)\n",
    "    sd = creation(sdim)\n",
    "    anh = 0.2*2*np.pi   \n",
    "    A = 0.006*2*np.pi\n",
    "    Hs = (omega_s-omega_d) * np.matmul(sd,s) +anh/2*sd@sd@s@s+A/2*(s+sd)\n",
    "    energy,U = np.linalg.eigh(Hs)\n",
    "    Ud = U.conjugate().transpose()\n",
    "#     Hs = omega_s * np.matmul(sd,s) +6*g4*sd@sd@s@s +6*g4*sd@s\n",
    "    cdim = 3\n",
    "    c = annihilation(cdim)\n",
    "    cd = creation(cdim)\n",
    "    omega_c = 6*2*np.pi\n",
    "    Hc = (omega_c-omega_d) * np.matmul(cd,c)\n",
    "    \n",
    "    Ic = np.identity(cdim)\n",
    "    Is = np.identity(sdim)\n",
    "    Hs = np.kron(Hs,Ic)\n",
    "    Hc = np.kron(Is,Hc)\n",
    "\n",
    "    g_int = 0.2*2*np.pi\n",
    "    H_int = g_int*(np.kron(s,cd)+np.kron(sd,c))\n",
    "    H = Hs + Hc + H_int\n",
    "    energy,U = np.linalg.eigh(H)\n",
    "    energy = energy-energy[0]*np.ones(len(energy))\n",
    "    energy,U = sort_eigenpairs(energy, U)\n",
    "    Ud = U.transpose().conjugate()\n",
    "    print((Ud@np.kron(sd@s,Ic)@U)[1][1]-(Ud@np.kron(sd@s,Ic)@U)[0][0])\n",
    "    return energy[1]/2/np.pi"
   ]
  },
  {
   "cell_type": "code",
   "execution_count": 23,
   "id": "fd2a8b62",
   "metadata": {
    "scrolled": false
   },
   "outputs": [
    {
     "name": "stdout",
     "output_type": "stream",
     "text": [
      "7.905651781416057e-06\n",
      "-6.18153811682981e-06\n"
     ]
    }
   ],
   "source": [
    "omega_s = 4*2*np.pi\n",
    "delta = 1e-5*2*np.pi\n",
    "omega_d = 3.9633*np.pi*2\n",
    "der = (coupled_oscillator(omega_s+delta,omega_d) - coupled_oscillator(omega_s,omega_d))/delta\n"
   ]
  },
  {
   "cell_type": "code",
   "execution_count": 24,
   "id": "d9566899",
   "metadata": {},
   "outputs": [
    {
     "data": {
      "text/plain": [
       "1.3756252392294316e-07"
      ]
     },
     "execution_count": 24,
     "metadata": {},
     "output_type": "execute_result"
    }
   ],
   "source": [
    "der"
   ]
  },
  {
   "cell_type": "code",
   "execution_count": null,
   "id": "d2d8ac2c",
   "metadata": {},
   "outputs": [],
   "source": []
  }
 ],
 "metadata": {
  "kernelspec": {
   "display_name": "Python 3 (ipykernel)",
   "language": "python",
   "name": "python3"
  },
  "language_info": {
   "codemirror_mode": {
    "name": "ipython",
    "version": 3
   },
   "file_extension": ".py",
   "mimetype": "text/x-python",
   "name": "python",
   "nbconvert_exporter": "python",
   "pygments_lexer": "ipython3",
   "version": "3.12.2"
  }
 },
 "nbformat": 4,
 "nbformat_minor": 5
}
