{
 "cells": [
  {
   "cell_type": "code",
   "execution_count": 51,
   "metadata": {},
   "outputs": [],
   "source": [
    "import scqubits as scqubits\n",
    "import numpy as np\n",
    "import scipy as sci\n",
    "from system import SNAIL, calculate_overlap\n",
    "import qutip as qt\n",
    "\n",
    "class Hamiltonian:\n",
    "    def __init__(self, phi_ex, Ej, Ec):\n",
    "        self.phi_ex = phi_ex\n",
    "        self.Ej = Ej * 2*np.pi\n",
    "        self.Ec = Ec * 2*np.pi\n",
    "        self.beta = 1\n",
    "        self.N = 1\n",
    "        self.sdim = 10\n",
    "        self.cdim = 6\n",
    "        self.epsilon =1e-4\n",
    "        self.get_H()\n",
    "        self.get_H_der()\n",
    "\n",
    "    def annihilation(self, dim):\n",
    "        return np.diag(np.sqrt(np.arange(1,dim)),1)\n",
    "    def creation(self, dim):\n",
    "        return np.diag(np.sqrt(np.arange(1,dim)),-1)\n",
    "    \n",
    "\n",
    "    def sort_eigenpairs(self, eigenvalues, eigenvectors):\n",
    "        n = eigenvectors.shape[0]\n",
    "        sorted_indices = []\n",
    "\n",
    "        for i in range(n):\n",
    "            max_abs_vals = np.abs(eigenvectors[i, :])\n",
    "            max_index = np.argmax(max_abs_vals)\n",
    "            while max_index in sorted_indices:\n",
    "                max_abs_vals[max_index] = -np.inf\n",
    "                max_index = np.argmax(max_abs_vals)\n",
    "            sorted_indices.append(max_index)\n",
    "\n",
    "        sorted_eigenvalues = eigenvalues[sorted_indices]\n",
    "        sorted_eigenvectors = eigenvectors[:, sorted_indices]\n",
    "        return sorted_eigenvalues, sorted_eigenvectors\n",
    "    \n",
    "    def tensor_product(self,A,B,C):\n",
    "        return np.kron(A,np.kron(B,C))\n",
    "    \n",
    "    def composite_sys(self, squid,cavity, cavity2,  ):\n",
    "        Hs, charge_op = squid\n",
    "        Hc, Vc = cavity\n",
    "        Hc2, Vc2 = cavity2\n",
    "        sdim = Hs.shape[0]\n",
    "        cdim = Hc.shape[0]\n",
    "        cdim2 = Hc2.shape[0]\n",
    "        Ic = np.identity(cdim)\n",
    "        Ic2 = np.identity(cdim2)\n",
    "        Is = np.identity(sdim)\n",
    "        Hs = self.tensor_product(Hs,Ic,Ic2)\n",
    "        Hc = self.tensor_product(Is, Hc, Ic2)\n",
    "        Hc2 = self.tensor_product(Is, Ic, Hc2)\n",
    "        H_int = 0.05*2*np.pi * self.tensor_product(charge_op, Vc, Ic2) \n",
    "        H_int2 = 0.05*2*np.pi * self.tensor_product(charge_op, Ic, Vc2) \n",
    "        H = Hs + Hc + Hc2 + H_int + H_int2\n",
    "        H_control = self.tensor_product(charge_op, Ic, Ic2)\n",
    "        return H, H_control\n",
    "    \n",
    "    def get_H(self):\n",
    "        #if we want to use scqubits, replace Hs,charge_op with the ones obtained from scqubits\n",
    "        Hs,charge_op, phi_zpf = SNAIL(self.phi_ex, self.beta, self.N, self.Ej, self.Ec)\n",
    "        squid = [Hs,charge_op]\n",
    "        cavity = scqubits.Oscillator(\n",
    "            E_osc=5.226,\n",
    "            truncated_dim = 6\n",
    "        )\n",
    "        Hc = np.diag(cavity.eigenvals() - cavity.eigenvals()[0])*2*np.pi\n",
    "        Vc = cavity.creation_operator() + cavity.annihilation_operator()\n",
    "        cavity = [Hc,Vc]\n",
    "\n",
    "        cavity2 = scqubits.Oscillator(\n",
    "            E_osc=8.135,\n",
    "            truncated_dim = 6\n",
    "        )\n",
    "        Hc2 = np.diag(cavity2.eigenvals() - cavity2.eigenvals()[0])*2*np.pi\n",
    "        Vc2 = cavity2.creation_operator() + cavity2.annihilation_operator()\n",
    "        cavity2 = [Hc2,Vc2]\n",
    "        H,H_control = self.composite_sys(squid,cavity,cavity2)\n",
    "        evals,evecs = np.linalg.eigh(H)\n",
    "        evals,evecs = self.sort_eigenpairs(evals,evecs)\n",
    "        evals = evals - evals[0]\n",
    "        self.omega_c = evals[1]\n",
    "        self.omega_c2 = evals[self.cdim]\n",
    "        self.omega_s = evals[self.cdim*self.cdim]\n",
    "        self.chi = evals[self.cdim*self.cdim+1] - evals[self.cdim*self.cdim] - evals[1]\n",
    "        self.anh = evals[2*self.cdim*self.cdim] - 2*evals[self.cdim*self.cdim]\n",
    "        self.phi_zpf = phi_zpf\n",
    "        self.H, self.H_control = H,H_control\n",
    "\n",
    "    def get_H_der(self):\n",
    "        original_phi = self.phi_ex\n",
    "        Hs,charge_op, phi_zpf = SNAIL(self.phi_ex+self.epsilon, self.beta, self.N, self.Ej, self.Ec)\n",
    "        squid = [Hs,charge_op]\n",
    "        cavity = scqubits.Oscillator(\n",
    "            E_osc=5.226,\n",
    "            truncated_dim = 6\n",
    "        )\n",
    "        Hc = np.diag(cavity.eigenvals() - cavity.eigenvals()[0])*2*np.pi\n",
    "        Vc = cavity.creation_operator() + cavity.annihilation_operator()\n",
    "        cavity = [Hc,Vc]\n",
    "\n",
    "        cavity2 = scqubits.Oscillator(\n",
    "            E_osc=8.135,\n",
    "            truncated_dim = 6\n",
    "        )\n",
    "        Hc2 = np.diag(cavity2.eigenvals() - cavity2.eigenvals()[0])*2*np.pi\n",
    "        Vc2 = cavity2.creation_operator() + cavity2.annihilation_operator()\n",
    "        cavity2 = [Hc2,Vc2]\n",
    "        H,H_control = self.composite_sys(squid,cavity,cavity2)\n",
    "        self.H_per = H\n",
    "        self.H_control_per = H_control\n",
    "        evals,evecs = np.linalg.eigh(H)\n",
    "        evals,evecs = self.sort_eigenpairs(evals,evecs)\n",
    "        evals = evals - evals[0]\n",
    "        self.omega_s_per = evals[self.cdim*self.cdim]\n",
    "        self.omega_c_per = evals[1]\n",
    "        self.omega_c2_per = evals[self.cdim]\n",
    "\n",
    "    def static_rate(self, der):\n",
    "        A = 5e-6\n",
    "        return np.abs(der*4.4)*1e6*A\n",
    "    \n",
    "    def state_index(self, index,dim):\n",
    "        n,k,m = index\n",
    "        N,K,M = dim\n",
    "        return n*K*M + k*M + m\n",
    "\n",
    "    def calculate_floquet_energies(self, A, omega,H0, Hc):\n",
    "        # Define system parameters\n",
    "        dim = [10,6,6]\n",
    "        index000 = self.state_index([0,0,0], dim)\n",
    "        index001 = self.state_index([0,0,1], dim)\n",
    "        index010 = self.state_index([0,1,0], dim)\n",
    "\n",
    "        H0 = qt.Qobj(H0)\n",
    "        Hc = qt.Qobj(Hc)\n",
    "\n",
    "        T = (2 * np.pi) / omega\n",
    "\n",
    "        # Define the Hamiltonian\n",
    "        H = [H0, [Hc, lambda t, args: A * np.cos(args['w'] * t)]]\n",
    "\n",
    "        # Set up the Floquet solver\n",
    "        floquet_basis = qt.FloquetBasis(H, T, args={'w': omega})\n",
    "\n",
    "        # Compute Floquet modes and energies\n",
    "        f_modes = floquet_basis.mode(0)\n",
    "        f_energies = floquet_basis.e_quasi\n",
    "\n",
    "        # Define basis states\n",
    "        basis_states = [qt.basis(H0.dims[0][0], index000),\n",
    "                        qt.basis(H0.dims[0][0], index001),\n",
    "                        qt.basis(H0.dims[0][0], index010),]\n",
    "\n",
    "        # Find Floquet states with maximum overlap\n",
    "        max_overlap_indices = [-1] * 3\n",
    "        max_overlaps = [0] * 3\n",
    "        for f_index, f_state in enumerate(f_modes):\n",
    "            for b_index, b_state in enumerate(basis_states):\n",
    "                overlap = calculate_overlap(f_state, b_state)\n",
    "                if overlap > max_overlaps[b_index]:\n",
    "                    max_overlaps[b_index] = overlap\n",
    "                    max_overlap_indices[b_index] = f_index\n",
    "\n",
    "        # Calculate energies\n",
    "        energy000 = f_energies[max_overlap_indices[0]] \n",
    "\n",
    "        energy001 = f_energies[max_overlap_indices[1]] \n",
    "        energy001 = energy001  - energy000\n",
    "\n",
    "        energy010 = f_energies[max_overlap_indices[2]] \n",
    "        energy010 = energy010  - energy000\n",
    "        return energy001, energy010\n",
    "    \n",
    "    def calculate_dr_exact(self, A, omega):\n",
    "        energy001,energy010 = self.calculate_floquet_energies(A, omega, self.H, self.H_control)\n",
    "        energy001_,energy010_ = self.calculate_floquet_energies(A, omega, self.H_per, self.H_control_per)\n",
    "        der1 = (energy001_ - energy001) / self.epsilon\n",
    "        der2 = (energy010_ - (energy010 )) / self.epsilon\n",
    "        return self.static_rate(der1), self.static_rate(der2)\n"
   ]
  },
  {
   "cell_type": "code",
   "execution_count": 52,
   "metadata": {},
   "outputs": [
    {
     "name": "stderr",
     "output_type": "stream",
     "text": [
      "SparseEfficiencyWarning: Constructing a DIA matrix with 360 diagonals is inefficient\n",
      " /Users/yunwei/Desktop/PycharmProjects/qutip/qutip/solver/integrator/scipy_integrator.py: 80"
     ]
    },
    {
     "data": {
      "text/plain": [
       "(3.105652255399605, 9.148053842213956)"
      ]
     },
     "execution_count": 52,
     "metadata": {},
     "output_type": "execute_result"
    }
   ],
   "source": [
    "phi_ex = 0.2\n",
    "Ej = 30.19\n",
    "Ec = 0.1\n",
    "sc = Hamiltonian(phi_ex ,Ej,Ec)\n",
    "sc.calculate_dr_exact(0.0, 6*2*np.pi)"
   ]
  },
  {
   "cell_type": "code",
   "execution_count": 54,
   "metadata": {},
   "outputs": [
    {
     "data": {
      "text/plain": [
       "6.153645965245377"
      ]
     },
     "execution_count": 54,
     "metadata": {},
     "output_type": "execute_result"
    }
   ],
   "source": [
    "sc.omega_s/2/np.pi"
   ]
  },
  {
   "cell_type": "code",
   "execution_count": 55,
   "metadata": {},
   "outputs": [
    {
     "data": {
      "text/plain": [
       "8.139160580098793"
      ]
     },
     "execution_count": 55,
     "metadata": {},
     "output_type": "execute_result"
    }
   ],
   "source": [
    "sc.omega_c/2/np.pi"
   ]
  },
  {
   "cell_type": "code",
   "execution_count": null,
   "metadata": {},
   "outputs": [],
   "source": []
  }
 ],
 "metadata": {
  "kernelspec": {
   "display_name": "fluxonium",
   "language": "python",
   "name": "python3"
  },
  "language_info": {
   "codemirror_mode": {
    "name": "ipython",
    "version": 3
   },
   "file_extension": ".py",
   "mimetype": "text/x-python",
   "name": "python",
   "nbconvert_exporter": "python",
   "pygments_lexer": "ipython3",
   "version": "3.11.8"
  }
 },
 "nbformat": 4,
 "nbformat_minor": 2
}
