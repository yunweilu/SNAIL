{
 "cells": [
  {
   "cell_type": "code",
   "execution_count": 44,
   "id": "48b15d17",
   "metadata": {},
   "outputs": [],
   "source": [
    "from matplotlib import pyplot as plt\n",
    "from systemclass import SNAIL,SNAIL_sweep,Cavity, SNAILC, SNAILC_sweep, SNAILCC, SNAILCC_sweep\n",
    "import numpy as np\n",
    "from joblib import Parallel, delayed"
   ]
  },
  {
   "cell_type": "code",
   "execution_count": 35,
   "id": "cb94d548",
   "metadata": {},
   "outputs": [],
   "source": [
    "def calculate_overlap(state1, state2):\n",
    "    return abs((state1.dag() * state2)[0,0])**2\n",
    "def find_optimal_k(A, B, D):\n",
    "    # Define a large initial minimum difference\n",
    "    min_diff = float('inf')\n",
    "    optimal_k = None\n",
    "    \n",
    "    # Iterate over a range of possible k values\n",
    "    # The range can be adjusted based on expected size of k or other insights you have about your problem\n",
    "    for k in range(-1000, 1000):\n",
    "        # Calculate the difference for this value of k\n",
    "        diff = abs(A - (B + k * D))\n",
    "        \n",
    "        # If this is the smallest difference we've found so far, update min_diff and optimal_k\n",
    "        if diff < min_diff:\n",
    "            min_diff = diff\n",
    "            optimal_k = k\n",
    "            \n",
    "    return optimal_k"
   ]
  },
  {
   "cell_type": "code",
   "execution_count": 39,
   "id": "3984750e",
   "metadata": {},
   "outputs": [],
   "source": [
    "from qutip import propagator,floquet_modes,Qobj,Options,basis\n",
    "def energy_diff(A,omega):\n",
    "    #snail parameters\n",
    "    EJ = 30*2*np.pi\n",
    "    EC = 0.2*2*np.pi\n",
    "    beta = 0.45\n",
    "    ng = 0\n",
    "    ncut = 300\n",
    "    flux = 0.49\n",
    "    N = 2\n",
    "    dims = 10\n",
    "    snail = SNAIL(EJ,EC,beta,ng,ncut,flux,N,dims)\n",
    "\n",
    "    #cavity1 parameters\n",
    "    omega_c1 = 4.55*2*np.pi\n",
    "    g_int1 = 0.15*2*np.pi\n",
    "    dimc1 = 3\n",
    "    cavity1 = Cavity(omega_c1,g_int1,dimc1)\n",
    "    \n",
    "    #cavity1 parameters\n",
    "    omega_c2 = 4.25*2*np.pi\n",
    "    g_int2 = 0.15*2*np.pi\n",
    "    dimc2 = 3\n",
    "    cavity2 = Cavity(omega_c2,g_int2,dimc2)\n",
    "    snailcc = SNAILCC(snail,cavity1,cavity2)\n",
    "    \n",
    "    H0,Hc = snailcc.hamiltonian()\n",
    "    energy,U = np.linalg.eigh(H0)\n",
    "    U_dag = np.transpose(U.conjugate())\n",
    "    Hc = U_dag @ Hc @ U\n",
    "    H0 = U_dag @ H0 @ U\n",
    "    H0 = H0 - H0[0][0]*np.identity(len(H0))\n",
    "    index1 = np.argmin(np.abs(energy - omega_c1 * np.ones(len(energy))))\n",
    "    index2 = np.argmin(np.abs(energy - omega_c2 * np.ones(len(energy))))\n",
    "    bare_diff = (energy[index1] - energy[index2])/2/np.pi\n",
    "    \n",
    "    H0 = Qobj(H0)\n",
    "    Hc = Qobj(Hc)\n",
    "    args = {'w': omega}\n",
    "    T = (2*np.pi)/omega\n",
    "    H = [H0, [Hc, lambda t, args: A*np.cos(args['w']*t)]] \n",
    "    options = Options(nsteps=100000)  # Increasing nsteps to 10000, adjust as needed\n",
    "    f_modes, f_energies = floquet_modes(H, T, args, False, options=options) \n",
    "    total_dim = dims*dimc1*dimc2\n",
    "    basis_states = [basis(total_dim, index1), basis(total_dim, index2)]\n",
    "    \n",
    "    \n",
    "    max_overlap_indices = [0,0]\n",
    "    max_overlaps = [0,0]\n",
    "    for f_index, f_state in enumerate(f_modes):\n",
    "\n",
    "        # Loop over each basis state\n",
    "        for b_index, b_state in enumerate(basis_states):\n",
    "\n",
    "            # Calculate the overlap\n",
    "            overlap = calculate_overlap(f_state, b_state)\n",
    "\n",
    "            # If this is the maximum overlap for this basis state, store the index\n",
    "            if overlap > max_overlaps[b_index]:\n",
    "                max_overlaps[b_index] = overlap\n",
    "                max_overlap_indices[b_index] = f_index\n",
    "    omegac1p = f_energies[max_overlap_indices[0]]/2/np.pi\n",
    "    k = find_optimal_k(omega_c1/2/np.pi, omegac1p , omega/2/np.pi)\n",
    "    omegac1p = omegac1p + k *omega/2/np.pi\n",
    "    omegac2p = f_energies[max_overlap_indices[1]]/2/np.pi\n",
    "    k = find_optimal_k(omega_c2/2/np.pi, omegac2p, omega/2/np.pi)\n",
    "    omegac2p = omegac2p + k *omega/2/np.pi\n",
    "    diff = omegac1p - omegac2p\n",
    "    return diff"
   ]
  },
  {
   "cell_type": "code",
   "execution_count": 45,
   "id": "d87be40e",
   "metadata": {},
   "outputs": [],
   "source": [
    "A = 0.5 * 2 * np.pi\n",
    "omegas = np.linspace(0.25 * 2 * np.pi, 0.35 * 2 * np.pi, 20)\n",
    "\n",
    "# Parallel computation\n",
    "results = Parallel(n_jobs=-1)(delayed(energy_diff)(A, omega) for omega in omegas)\n"
   ]
  },
  {
   "cell_type": "code",
   "execution_count": 47,
   "id": "bd19fd0f",
   "metadata": {},
   "outputs": [
    {
     "data": {
      "image/png": "[encoded data removed]",
      "text/plain": [
       "<Figure size 432x288 with 1 Axes>"
      ]
     },
     "metadata": {
      "needs_background": "light"
     },
     "output_type": "display_data"
    }
   ],
   "source": [
    "plt.plot(omegas/2/np.pi, results, marker='o')\n",
    "plt.xlabel('Omega')\n",
    "plt.ylabel('Energy Difference')\n",
    "plt.title('Energy Difference vs Omega')\n",
    "plt.show()"
   ]
  },
  {
   "cell_type": "code",
   "execution_count": null,
   "id": "1e1baea2",
   "metadata": {},
   "outputs": [],
   "source": []
  }
 ],
 "metadata": {
  "kernelspec": {
   "display_name": "Python 3 (ipykernel)",
   "language": "python",
   "name": "python3"
  },
  "language_info": {
   "codemirror_mode": {
    "name": "ipython",
    "version": 3
   },
   "file_extension": ".py",
   "mimetype": "text/x-python",
   "name": "python",
   "nbconvert_exporter": "python",
   "pygments_lexer": "ipython3",
   "version": "3.8.3"
  }
 },
 "nbformat": 4,
 "nbformat_minor": 5
}
