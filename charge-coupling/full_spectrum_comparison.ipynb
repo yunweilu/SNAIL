{
 "cells": [
  {
   "cell_type": "code",
   "execution_count": 733,
   "id": "82447225",
   "metadata": {},
   "outputs": [],
   "source": [
    "from qutip import qload\n",
    "from sympy.physics.secondquant import *\n",
    "from sympy import symbols\n",
    "import sympy as sp\n",
    "from cosmatrix import expm_pade"
   ]
  },
  {
   "cell_type": "code",
   "execution_count": 776,
   "id": "6ca70d65",
   "metadata": {},
   "outputs": [],
   "source": [
    "import matplotlib.pyplot as plt\n",
    "import scipy as sci\n",
    "import autograd as ad\n",
    "import autograd.numpy as np\n",
    "from cosmatrix import cosm,expm_pade\n",
    "expm = expm_pade\n",
    "from autograd.extend import primitive, defvjp\n",
    "def annihilation(dim):\n",
    "    return np.diag(np.sqrt(np.arange(1,dim)),1)\n",
    "def creation(dim):\n",
    "    return np.diag(np.sqrt(np.arange(1,dim)),-1)\n",
    "def create_custom_matrix(N, dim):\n",
    "    # Initialize a dim x dim matrix with zeros\n",
    "    matrix = np.zeros((2*dim+1, 2*dim+1))\n",
    "\n",
    "    # Set the specified elements to 1\n",
    "    for k in range(2*dim+1):\n",
    "        if k  + N < 2*dim+1:\n",
    "            matrix[k][k + N] = 1\n",
    "\n",
    "    return matrix\n",
    "def create_diagonal_matrix(dim, ng, Ec):\n",
    "    # Initialize a dim x dim matrix with zeros\n",
    "    matrix = np.zeros((2*dim+1, 2*dim+1))\n",
    "\n",
    "    # Set the diagonal elements as per the given formula\n",
    "    for k in range(2*dim+1):\n",
    "        matrix[k][k] = 4 * Ec * ((k-dim)/N- ng)**2\n",
    "\n",
    "    return matrix\n",
    "def charge_op(dim, ng, Ec):\n",
    "    # Initialize a dim x dim matrix with zeros\n",
    "    matrix = np.zeros((2*dim+1, 2*dim+1))\n",
    "\n",
    "    # Set the diagonal elements as per the given formula\n",
    "    for k in range(2*dim+1):\n",
    "        matrix[k][k] =   ((k-dim)/N- ng)\n",
    "    return matrix\n",
    "def SNAIL_charge(phi_ex,beta,N,Ej,Ec,ncut):\n",
    "    ng=0\n",
    "    dim = 250\n",
    "    phi_ex = 2*phi_ex*np.pi\n",
    "    U = beta*np.exp(1j*phi_ex)*create_custom_matrix(N, dim)+N*create_custom_matrix(1, dim)\n",
    "    U = U + np.transpose(U.conjugate())\n",
    "    K = 4*Ec*charge_op(dim, ng, Ec)@charge_op(dim, ng, Ec)\n",
    "    H = K-Ej*U/2\n",
    "    energy,U = np.linalg.eigh(H)\n",
    "    U_dag = np.transpose(U.conjugate())\n",
    "    energy = energy-energy[0]*np.ones(len(energy))\n",
    "    charge = U_dag@charge_op(dim, ng, Ec)@U\n",
    "    H = U_dag@H@U\n",
    "    return (H - H[0][0]*np.identity(dim*2+1))[:ncut-1,:ncut-1],charge[:ncut-1,:ncut-1]\n",
    "\n",
    "def SNAIL_oscillator(phi_ex,beta,N,Ej,Ec,ncut):\n",
    "    sdim = 10\n",
    "    phi_ex = 2*np.pi*phi_ex\n",
    "    @primitive\n",
    "    def Us_min(phi_ex):\n",
    "        def U_s(phi): \n",
    "            return (-beta*np.cos(phi-phi_ex)-N*np.cos((phi)/N))\n",
    "        phi_min = sci.optimize.minimize(U_s,0).x\n",
    "        return phi_min\n",
    "    \n",
    "    def phi_minde(ans, phi_ex):\n",
    "        def phi_minde_vjp(g):\n",
    "            c2 = beta*np.cos(ans - phi_ex) + 1/N*np.cos(ans/N)\n",
    "            return g*beta*np.cos(ans - phi_ex)/c2\n",
    "        return phi_minde_vjp\n",
    "    defvjp(Us_min, phi_minde)\n",
    "    \n",
    "    phi_min = Us_min(phi_ex)\n",
    "    # potential expansion around minimum\n",
    "    c2 = beta*np.cos(phi_min - phi_ex) + 1/N*np.cos(phi_min/N)\n",
    "    omega_s = np.sqrt(8*c2*Ej*Ec)\n",
    "    phi_zpf = np.power(2*Ec/(Ej*c2),1/4)\n",
    "    c3 = (N**2-1)/N**2*np.sin(phi_min/N)\n",
    "    g3 = Ej*phi_zpf**3*c3/3/2\n",
    "    c4 = -beta*np.cos(phi_min-phi_ex) -1/N**3*np.cos(phi_min/N)\n",
    "\n",
    "    g4 = Ej*phi_zpf**4*c4/4/3/2\n",
    "    g2 = Ej*phi_zpf**2*c2/2\n",
    "    s = annihilation(sdim)\n",
    "    sd = creation(sdim)\n",
    "    x2 = np.matmul(s+sd,s+sd)\n",
    "    Hs = (omega_s * np.matmul(sd,s)\n",
    "        - Ej*(beta*cosm(phi_zpf*(s+sd)+(phi_min-phi_ex)*np.identity(sdim))\n",
    "        + N*cosm((phi_zpf*(s+sd)+phi_min*np.identity(sdim))/N))- g2*x2)\n",
    "    energy,U = np.linalg.eigh(Hs)\n",
    "    U_dag = np.conjugate(U.transpose())\n",
    "    Hs = U_dag@Hs@U\n",
    "    return (Hs-energy[0]*np.identity(sdim))[:ncut-1,:ncut-1],(U_dag@(-1j*(s-sd))@U)[:ncut-1,:ncut-1]\n",
    "\n",
    "def SNAIL_trunc(phi_ex,beta,N,Ej,Ec,ncut):\n",
    "    phi_ex = phi_ex*2*np.pi\n",
    "    sdim = 15\n",
    "    def U_s(phi): \n",
    "        return (-beta*np.cos(phi-phi_ex)-3*np.cos((phi)/3))\n",
    "    phi_min = sci.optimize.minimize(U_s,0).x\n",
    "    # potential expansion around minimum\n",
    "    firstd = ad.grad(U_s)\n",
    "    secondd = ad.grad(firstd)\n",
    "    thirdd = ad.grad(secondd)\n",
    "    fourd = ad.grad(thirdd)\n",
    "    fived = ad.grad(fourd)\n",
    "    sixd = ad.grad(fived)\n",
    "    sevend = ad.grad(sixd)\n",
    "    eightd = ad.grad(sevend)\n",
    "    c2 = secondd(phi_min[0])\n",
    "    c3 = thirdd(phi_min[0])/3/2\n",
    "    c4 = fourd(phi_min[0])/4/3/2\n",
    "    c5 = fived(phi_min[0])/5/4/3/2\n",
    "    c6 = sixd(phi_min[0])/6/5/4/3/2\n",
    "    c7 = sevend(phi_min[0])/7/6/5/4/3/2\n",
    "    c8 = eightd(phi_min[0])/8/7/6/5/4/3/2\n",
    "    omega_s = np.sqrt(8*c2*Ej*Ec)\n",
    "    phi_zpf = np.power(2*Ec/Ej/c2,1/4)\n",
    "    g2 = Ej*phi_zpf**2*c2/2\n",
    "    g3 = Ej*phi_zpf**3*c3\n",
    "    g4 = Ej*phi_zpf**4*c4\n",
    "    g5 = Ej*phi_zpf**5*c5\n",
    "    g6 = Ej*phi_zpf**6*c6\n",
    "    g7 = Ej*phi_zpf**7*c7\n",
    "    g8 = 1.5*Ej*phi_zpf**8*c8\n",
    "    \n",
    "    s = annihilation(sdim)\n",
    "    sd = creation(sdim)\n",
    "    Hs = omega_s * np.matmul(sd,s)\n",
    "    x2 = np.matmul(s+sd,s+sd)\n",
    "    x3 = np.matmul(s+sd,x2)\n",
    "    x4 = np.matmul(s+sd,x3)\n",
    "    x5 = np.matmul(s+sd,x4)\n",
    "    x6 = np.matmul(s+sd,x5)\n",
    "    x7 = np.matmul(s+sd,x6)\n",
    "    x8 = np.matmul(s+sd,x7)\n",
    "    Hs += g3*x3 + g4*x4 + g5*x5 + g6*x6 +1e-10*x8\n",
    "    energy,U = np.linalg.eigh(Hs)\n",
    "    U_dag = np.conjugate(U.transpose())\n",
    "    Hs = Hs\n",
    "    return (Hs-energy[0]*np.identity(sdim))[:ncut-1,:ncut-1],(-1j*(s))[:ncut-1,:ncut-1],1j*sd,c2\n",
    "\n",
    "\n",
    "def SNAIL_swt(phi_ex,beta,N,Ej,Ec,ncut):\n",
    "    phi_ex = phi_ex*2*np.pi\n",
    "    sdim = 10\n",
    "    def U_s(phi): \n",
    "        return (-beta*np.cos(phi-phi_ex)-3*np.cos((phi)/3))\n",
    "    phi_min = sci.optimize.minimize(U_s,0).x\n",
    "    # potential expansion around minimum\n",
    "    firstd = ad.grad(U_s)\n",
    "    secondd = ad.grad(firstd)\n",
    "    thirdd = ad.grad(secondd)\n",
    "    fourd = ad.grad(thirdd)\n",
    "    fived = ad.grad(fourd)\n",
    "    sixd = ad.grad(fived)\n",
    "    sevend = ad.grad(sixd)\n",
    "    eightd = ad.grad(sevend)\n",
    "    c2 = secondd(phi_min[0])\n",
    "    c3 = thirdd(phi_min[0])/3/2\n",
    "    c4 = fourd(phi_min[0])/4/3/2\n",
    "    c5 = fived(phi_min[0])/5/4/3/2\n",
    "    c6 = sixd(phi_min[0])/6/5/4/3/2\n",
    "    omega_s = np.sqrt(8*c2*Ej*Ec)\n",
    "    phi_zpf = np.power(2*Ec/Ej/c2,1/4)\n",
    "    g2 = Ej*phi_zpf**2*c2/2\n",
    "    g3 = Ej*phi_zpf**3*c3\n",
    "    g4 = Ej*phi_zpf**4*c4\n",
    "    g5 = Ej*phi_zpf**5*c5\n",
    "    g6 = Ej*phi_zpf**6*c6\n",
    "    \n",
    "    s = annihilation(sdim)\n",
    "    sd = creation(sdim)\n",
    "    Hs = (omega_s+12*g4-60*g3**2/omega_s)*sd@s\n",
    "    a = (24*g4/omega_s-272*g3**2/omega_s**2)*omega_c**2/(omega_c**2-omega_s**2)\n",
    "    z1 = 2*omega_s/(omega_c**2-omega_s**2)*(1+a)\n",
    "#     ec_plug(g3,g4,omega_s,omega_c)*g_int**2+omega_c,\n",
    "    return  ec_plug(g3,g4,omega_s,omega_c)*g_int**2+omega_c\n",
    "    \n",
    "def composite_spec(Hs, Vs, g_int,omega_c):\n",
    "    sdim = len(Hs[0])\n",
    "    cdim = 15\n",
    "    c = annihilation(cdim)\n",
    "    cd = creation(cdim)\n",
    "    Hc = omega_c*np.matmul(cd,c)\n",
    "    Ic = np.identity(cdim)\n",
    "    Is = np.identity(sdim)\n",
    "    Hs = np.kron(Hs,Ic)\n",
    "    Hc = np.kron(Is,Hc)\n",
    "    s,sd = Vs\n",
    "    H_int = g_int*np.kron(s,(cd))\n",
    "    H = Hs + Hc + H_int\n",
    "    energy,dressed_states = np.linalg.eigh(H)\n",
    "    energy = energy-energy[0]*np.ones(len(energy))\n",
    "    index = np.argmin(np.abs(energy-omega_c*np.ones(len(energy))))\n",
    "    exact = energy[index]\n",
    "    return exact"
   ]
  },
  {
   "cell_type": "code",
   "execution_count": 777,
   "id": "81d5c68f",
   "metadata": {
    "scrolled": true
   },
   "outputs": [],
   "source": [
    "beta = 0.12\n",
    "N = 3\n",
    "ncut=100\n",
    "Ej = 90*2*np.pi\n",
    "Ec = 0.177*2*np.pi\n",
    "omega_c = 4*2*np.pi\n",
    "phi_ex_values = np.linspace(0.4,0.43, 50)\n",
    "# phi_ex_values = np.linspace(.485, 0.5, 10)\n",
    "composite_spec_results1 = []\n",
    "composite_spec_results2 = []\n",
    "composite_spec_results3 = []\n",
    "composite_spec_results4 = []\n",
    "composite_spec_results5 = []\n",
    "composite_spec_results6 = []\n",
    "snail_freq1 = []\n",
    "snail_freq2 = []\n",
    "snail_anh1 = []\n",
    "snail_anh2 = []\n",
    "snail_anh3 = []\n",
    "for phi_ex in phi_ex_values:\n",
    "    H1,  s,sd,c2 = SNAIL_trunc(phi_ex, beta, N, Ej, Ec, ncut)\n",
    "    g_int = 0.15*2*np.pi*c2**0.25\n",
    "    snail_freq1.append(H1[1][1]/2/np.pi)\n",
    "    snail_anh1.append(H1[2][2]/2/np.pi - 2*H1[1][1]/2/np.pi )\n",
    "    \n",
    "    result = composite_spec(H1, (s,sd), g_int, omega_c) / (2 * np.pi)\n",
    "    composite_spec_results1.append(result)\n",
    "    phi_zpf = (2*Ec/Ej/c2)**0.25\n",
    "    H1, V1= SNAIL_charge(phi_ex, beta, N, Ej, Ec, ncut)\n",
    "    H1 = np.real(H1)\n",
    "    snail_freq2.append(H1[1][1]/2/np.pi)\n",
    "    snail_anh2.append(H1[2][2]/2/np.pi - 2*H1[1][1]/2/np.pi )\n",
    "#     result4= composite_spec(H1, V1*2*phi_zpf, g_int, omega_c) / (2 * np.pi)\n",
    "#     composite_spec_results4.append(result4)\n",
    "    result5= SNAIL_swt(phi_ex,beta,N,Ej,Ec,ncut)\n",
    "    snail_anh3.append(result5)\n",
    "    composite_spec_results5.append(result5/2/np.pi)\n",
    "    \n",
    "    H1, V1= SNAIL_oscillator(phi_ex, beta, N, Ej, Ec, ncut)\n",
    "#     result3 = composite_spec(H1, V1, g_int, omega_c) / (2 * np.pi)\n",
    "#     composite_spec_results3.append(result3)\n",
    "    # Plotting\n"
   ]
  },
  {
   "cell_type": "code",
   "execution_count": 778,
   "id": "d273631c",
   "metadata": {},
   "outputs": [
    {
     "data": {
      "text/plain": [
       "[<matplotlib.lines.Line2D at 0x7fb8764371f0>]"
      ]
     },
     "execution_count": 778,
     "metadata": {},
     "output_type": "execute_result"
    },
    {
     "data": {
      "image/png": "[encoded data removed]",
      "text/plain": [
       "<Figure size 432x288 with 1 Axes>"
      ]
     },
     "metadata": {
      "needs_background": "light"
     },
     "output_type": "display_data"
    }
   ],
   "source": [
    "# plt.plot(np.array(snail_anh1 ))\n",
    "# plt.plot(np.array(snail_anh2 ))\n",
    "# plt.plot(np.array(snail_anh3 )/np.pi)\n",
    "plt.plot(np.array(snail_freq1 )-np.array(snail_freq2 ))"
   ]
  },
  {
   "cell_type": "code",
   "execution_count": 779,
   "id": "a121de07",
   "metadata": {
    "scrolled": true
   },
   "outputs": [
    {
     "data": {
      "image/png": "[encoded data removed]",
      "text/plain": [
       "<Figure size 432x288 with 1 Axes>"
      ]
     },
     "metadata": {
      "needs_background": "light"
     },
     "output_type": "display_data"
    }
   ],
   "source": [
    "plt.plot(phi_ex_values, np.array(composite_spec_results1), label='truncated osci_basis')\n",
    "# plt.plot(phi_ex_values, np.array(composite_spec_results2), label='2nd swt')\n",
    "# plt.plot(phi_ex_values[:], np.array(composite_spec_results3), label='osc_basis')\n",
    "# plt.plot(phi_ex_values[:], np.array(composite_spec_results4))\n",
    "plt.plot(phi_ex_values, np.array(composite_spec_results5), label='analytical')\n",
    "# plt.ylim(omega_c/2/np.pi,omega_c/2/np.pi+0.025)\n",
    "plt.xlabel('phi_ex')\n",
    "plt.ylabel('composite_spec result')\n",
    "plt.title('composite_spec vs. phi_ex')\n",
    "plt.legend()\n",
    "plt.show()"
   ]
  },
  {
   "cell_type": "code",
   "execution_count": 771,
   "id": "56cd2dc9",
   "metadata": {},
   "outputs": [
    {
     "data": {
      "text/plain": [
       "array([3.99226573, 3.99225407, 3.99224236, 3.99223062, 3.99221883,\n",
       "       3.99220701, 3.99219515, 3.99218325, 3.99217131, 3.99215933,\n",
       "       3.99214732, 3.99213527, 3.99212319, 3.99211107, 3.99209892,\n",
       "       3.99208673, 3.99207451, 3.99206226, 3.99204997, 3.99203766,\n",
       "       3.99202531, 3.99201294, 3.99200054, 3.9919881 , 3.99197565,\n",
       "       3.99196316, 3.99195065, 3.99193811, 3.99192555, 3.99191297,\n",
       "       3.99190037, 3.99188774, 3.99187509, 3.99186243, 3.99184975,\n",
       "       3.99183705, 3.99182433, 3.9918116 , 3.99179886, 3.9917861 ,\n",
       "       3.99177333, 3.99176055, 3.99174776, 3.99173497, 3.99172217,\n",
       "       3.99170936, 3.99169655, 3.99168373, 3.99167092, 3.9916581 ])"
      ]
     },
     "execution_count": 771,
     "metadata": {},
     "output_type": "execute_result"
    }
   ],
   "source": [
    "np.array(composite_spec_results1)"
   ]
  },
  {
   "cell_type": "code",
   "execution_count": 657,
   "id": "479fedc0",
   "metadata": {},
   "outputs": [],
   "source": [
    "import qutip as qt\n",
    "expr = qt.qload('./anh')\n",
    "def anh_plug(g3v,g4v,g5v,g6v,omega_sv):\n",
    "    expr = qload('./anh')\n",
    "    from sympy import symbols\n",
    "    g3 = symbols('g3', real=True)\n",
    "    g4 = symbols('g4', real=True)\n",
    "    g5 = symbols('g5', real=True)\n",
    "    g6 = symbols('g6', real=True)\n",
    "    omega_a = symbols('omega', real=True)\n",
    "    return float(expr.subs(g3,g3v).subs(g4,g4v).subs(omega_a,omega_sv).subs(g5,g5v).subs(g6,g6v))"
   ]
  },
  {
   "cell_type": "code",
   "execution_count": 693,
   "id": "93ee9c6e",
   "metadata": {},
   "outputs": [],
   "source": [
    "import qutip as qt\n",
    "expr = qt.qload('./ect')\n",
    "def ec_plug(g3v,g4v,omega_sv,omega_cv):\n",
    "    expr = qload('./ect')\n",
    "    from sympy import symbols\n",
    "    g3 = symbols('g3', real=True)\n",
    "    g4 = symbols('g4', real=True)\n",
    "    g5 = symbols('g5', real=True)\n",
    "    g6 = symbols('g6', real=True)\n",
    "    omega_a = symbols('w_s', real=True)\n",
    "    omega_b = symbols('omega_c', real=True)\n",
    "    eta = symbols('eta',real = False)\n",
    "    return float(expr.subs(g3,g3v).subs(g4,g4v).subs(omega_a,omega_sv).subs(omega_b,omega_cv).subs(eta,0))"
   ]
  },
  {
   "cell_type": "code",
   "execution_count": 694,
   "id": "3b747a22",
   "metadata": {},
   "outputs": [
    {
     "data": {
      "text/latex": [
       "$\\displaystyle - \\frac{81 \\eta g_{3}^{2} w_{s} \\overline{\\eta}}{\\omega_{c}^{2} w_{s}^{2} + 2 \\omega_{c} w_{s}^{3} + w_{s}^{4}} - \\frac{9 \\eta g_{3}^{2} \\overline{\\eta}}{2 \\omega_{c}^{2} w_{s} + 4 \\omega_{c} w_{s}^{2} + 2 w_{s}^{3}} - \\frac{9 \\eta g_{3}^{2} \\overline{\\eta}}{2 \\omega_{c}^{2} w_{s} - 4 \\omega_{c} w_{s}^{2} + 2 w_{s}^{3}} - \\frac{81 \\eta g_{3}^{2} \\overline{\\eta}}{\\omega_{c}^{2} w_{s} - 2 \\omega_{c} w_{s}^{2} + w_{s}^{3}} + \\frac{693 \\eta g_{3}^{2} \\overline{\\eta}}{w_{s} \\left(8 \\omega_{c} w_{s} + 8 w_{s}^{2}\\right)} - \\frac{171 \\eta g_{3}^{2} \\overline{\\eta}}{w_{s} \\left(2 \\omega_{c} w_{s} - 2 w_{s}^{2}\\right)} + \\frac{9 \\eta g_{3}^{2} \\overline{\\eta}}{w_{s} \\left(- 8 \\omega_{c} w_{s} - 8 w_{s}^{2}\\right)} + \\frac{24 \\eta g_{4} w_{s}^{2} \\overline{\\eta}}{\\omega_{c}^{2} w_{s}^{2} + 2 \\omega_{c} w_{s}^{3} + w_{s}^{4}} + \\frac{24 \\eta g_{4} \\overline{\\eta}}{\\omega_{c}^{2} - 2 \\omega_{c} w_{s} + w_{s}^{2}} + \\frac{24 \\eta g_{4} \\overline{\\eta}}{\\omega_{c} w_{s} - w_{s}^{2}} + \\frac{24 \\eta g_{4} \\overline{\\eta}}{- \\omega_{c} w_{s} - w_{s}^{2}} - \\frac{60 g_{3}^{2} w_{s}}{\\omega_{c}^{2} w_{s}^{2} + 2 \\omega_{c} w_{s}^{3} + w_{s}^{4}} - \\frac{60 g_{3}^{2}}{\\omega_{c}^{2} w_{s} - 2 \\omega_{c} w_{s}^{2} + w_{s}^{3}} + \\frac{76 g_{3}^{2}}{w_{s} \\left(\\omega_{c} w_{s} + w_{s}^{2}\\right)} - \\frac{76 g_{3}^{2}}{w_{s} \\left(\\omega_{c} w_{s} - w_{s}^{2}\\right)} + \\frac{32 g_{3}^{2}}{w_{s} \\left(\\omega_{c} w_{s} - 2 w_{s}^{2}\\right)} + \\frac{32 g_{3}^{2}}{w_{s} \\left(- \\omega_{c} w_{s} - 2 w_{s}^{2}\\right)} + \\frac{12 g_{4} w_{s}^{2}}{\\omega_{c}^{2} w_{s}^{2} + 2 \\omega_{c} w_{s}^{3} + w_{s}^{4}} + \\frac{12 g_{4}}{\\omega_{c}^{2} - 2 \\omega_{c} w_{s} + w_{s}^{2}} + \\frac{12 g_{4}}{\\omega_{c} w_{s} - w_{s}^{2}} + \\frac{12 g_{4}}{- \\omega_{c} w_{s} - w_{s}^{2}} + \\frac{w_{s}}{- \\omega_{c} w_{s} - w_{s}^{2}} - \\frac{1}{- \\omega_{c} + w_{s}}$"
      ],
      "text/plain": [
       "-81*eta*g3**2*w_s*conjugate(eta)/(omega_c**2*w_s**2 + 2*omega_c*w_s**3 + w_s**4) - 9*eta*g3**2*conjugate(eta)/(2*omega_c**2*w_s + 4*omega_c*w_s**2 + 2*w_s**3) - 9*eta*g3**2*conjugate(eta)/(2*omega_c**2*w_s - 4*omega_c*w_s**2 + 2*w_s**3) - 81*eta*g3**2*conjugate(eta)/(omega_c**2*w_s - 2*omega_c*w_s**2 + w_s**3) + 693*eta*g3**2*conjugate(eta)/(w_s*(8*omega_c*w_s + 8*w_s**2)) - 171*eta*g3**2*conjugate(eta)/(w_s*(2*omega_c*w_s - 2*w_s**2)) + 9*eta*g3**2*conjugate(eta)/(w_s*(-8*omega_c*w_s - 8*w_s**2)) + 24*eta*g4*w_s**2*conjugate(eta)/(omega_c**2*w_s**2 + 2*omega_c*w_s**3 + w_s**4) + 24*eta*g4*conjugate(eta)/(omega_c**2 - 2*omega_c*w_s + w_s**2) + 24*eta*g4*conjugate(eta)/(omega_c*w_s - w_s**2) + 24*eta*g4*conjugate(eta)/(-omega_c*w_s - w_s**2) - 60*g3**2*w_s/(omega_c**2*w_s**2 + 2*omega_c*w_s**3 + w_s**4) - 60*g3**2/(omega_c**2*w_s - 2*omega_c*w_s**2 + w_s**3) + 76*g3**2/(w_s*(omega_c*w_s + w_s**2)) - 76*g3**2/(w_s*(omega_c*w_s - w_s**2)) + 32*g3**2/(w_s*(omega_c*w_s - 2*w_s**2)) + 32*g3**2/(w_s*(-omega_c*w_s - 2*w_s**2)) + 12*g4*w_s**2/(omega_c**2*w_s**2 + 2*omega_c*w_s**3 + w_s**4) + 12*g4/(omega_c**2 - 2*omega_c*w_s + w_s**2) + 12*g4/(omega_c*w_s - w_s**2) + 12*g4/(-omega_c*w_s - w_s**2) + w_s/(-omega_c*w_s - w_s**2) - 1/(-omega_c + w_s)"
      ]
     },
     "execution_count": 694,
     "metadata": {},
     "output_type": "execute_result"
    }
   ],
   "source": [
    "expr"
   ]
  },
  {
   "cell_type": "code",
   "execution_count": null,
   "id": "cb028034",
   "metadata": {},
   "outputs": [],
   "source": []
  }
 ],
 "metadata": {
  "kernelspec": {
   "display_name": "Python 3 (ipykernel)",
   "language": "python",
   "name": "python3"
  },
  "language_info": {
   "codemirror_mode": {
    "name": "ipython",
    "version": 3
   },
   "file_extension": ".py",
   "mimetype": "text/x-python",
   "name": "python",
   "nbconvert_exporter": "python",
   "pygments_lexer": "ipython3",
   "version": "3.9.7"
  }
 },
 "nbformat": 4,
 "nbformat_minor": 5
}
