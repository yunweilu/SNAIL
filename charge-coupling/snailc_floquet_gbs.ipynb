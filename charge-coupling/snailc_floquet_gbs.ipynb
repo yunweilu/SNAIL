{
 "cells": [
  {
   "cell_type": "code",
   "execution_count": 148,
   "id": "e9003eea",
   "metadata": {},
   "outputs": [],
   "source": [
    "from systemclass import SNAIL,SNAILC,SNAIL_sweep,SNAILC_sweep,Cavity\n",
    "import numpy as np\n",
    "from qutip import *\n",
    "import matplotlib.pyplot as plt"
   ]
  },
  {
   "cell_type": "code",
   "execution_count": 149,
   "id": "3e047c22",
   "metadata": {},
   "outputs": [],
   "source": [
    "EJ = 70*2*np.pi\n",
    "EC = 0.177*2*np.pi\n",
    "beta = 0.12\n",
    "ng = 0\n",
    "ncut = 100\n",
    "flux = 0.48\n",
    "N = 3\n",
    "dims = 10\n",
    "\n",
    "# truncated_dim:int = 6\n",
    "snail = SNAIL(EJ,EC,beta,ng,ncut,flux,N,dims)\n",
    "\n",
    "omega_c1 = 7*2*np.pi\n",
    "g_int1 = 0.15*2*np.pi\n",
    "dimc1 = 4\n",
    "trunc1 = dims * dimc1\n",
    "cavity1 = Cavity(omega_c1,g_int1,dimc1)\n"
   ]
  },
  {
   "cell_type": "code",
   "execution_count": 150,
   "id": "d6950bcd",
   "metadata": {},
   "outputs": [],
   "source": [
    "flux_values = np.linspace(0.422, 0.43, 15)\n",
    "Hss = []\n",
    "charge_ops = []\n",
    "snail_freqs = []\n",
    "snail_freqs2 = []\n",
    "for flux in flux_values:\n",
    "    snail_back = SNAIL(EJ,EC,beta,ng,ncut,flux,N,dims)\n",
    "    snail_freqs.append(snail_back.omegas)\n",
    "    H, op = snail_back.spectrum_charge()\n",
    "    snail_freqs2.append(H[2,2]/2/np.pi)\n",
    "    snailc =  SNAILC(snail_back, cavity1, trunc1)\n",
    "    snailc.parameters()\n",
    "    Hs , charge_op = snailc.dressed_H, snailc.dressed_charge\n",
    "    Hss.append(Hs)\n",
    "    charge_ops.append(charge_op)"
   ]
  },
  {
   "cell_type": "code",
   "execution_count": 151,
   "id": "f977154d",
   "metadata": {},
   "outputs": [],
   "source": [
    "def find_best_b_and_k(a, B, omega):\n",
    "    min_diff = float('inf')  # Initialize with a very large number\n",
    "    best_b = None\n",
    "    best_k = None\n",
    "\n",
    "    # Iterate over each element in B\n",
    "    for b in B:\n",
    "        # Iterate over each k in the range [-1000, 1000]\n",
    "        for k in range(-1000, 1001):  # 1001 is used to include 1000 in the range\n",
    "            diff = abs(a - (b + k * omega))\n",
    "            # Update min_diff and best_b if a smaller difference is found\n",
    "            if diff < min_diff:\n",
    "                min_diff = diff\n",
    "                best_b = b\n",
    "                best_k = k\n",
    "\n",
    "    return best_b, best_k, min_diff"
   ]
  },
  {
   "cell_type": "code",
   "execution_count": 226,
   "id": "edc702cc",
   "metadata": {},
   "outputs": [],
   "source": [
    "import qutip as qt  \n",
    "def find_optimal_k(A, B, D):\n",
    "    # Define a large initial minimum difference\n",
    "    min_diff = float('inf')\n",
    "    optimal_k = None\n",
    "    \n",
    "    # Iterate over a range of possible k values\n",
    "    # The range can be adjusted based on expected size of k or other insights you have about your problem\n",
    "    for k in range(-1000, 1000):\n",
    "        # Calculate the difference for this value of k\n",
    "        diff = abs(A - (B + k * D))\n",
    "        \n",
    "        # If this is the smallest difference we've found so far, update min_diff and optimal_k\n",
    "        if diff < min_diff:\n",
    "            min_diff = diff\n",
    "            optimal_k = k\n",
    "            \n",
    "    return optimal_k\n",
    "# Function to calculate overlap (you might use inner product, fidelity, etc.)\n",
    "def calculate_overlap(state1, state2):\n",
    "    return abs((state1.dag() * state2)[0,0])**2\n",
    "def floquet_spec(Hs,Hc, omega, A,omegas):\n",
    "#     Hs[0][0] = Hs[0][0]+Hs[1][1]\n",
    "#     Hs[1][1] = Hs[1][1]+Hs[1][1]\n",
    "    energy = np.diag(Hs)\n",
    "    indexs1 = np.argmin(np.abs(energy - omegas * np.ones(len(energy))))\n",
    "    indexc1 = np.argmin(np.abs(energy - omega_c1 * np.ones(len(energy))))\n",
    "    indexc2 = np.argmin(np.abs(energy - 2 * omega_c1 * np.ones(len(energy))))\n",
    "    indexsc = np.argmin(np.abs(energy - (omegas+omega_c1) * np.ones(len(energy))))\n",
    "    indexs2 = np.argmin(np.abs(energy - (2*omegas) * np.ones(len(energy))))\n",
    "    Hs = Qobj(Hs)\n",
    "    \n",
    "    Hc = Qobj(Hc)\n",
    "    omega1 = 4*2*np.pi\n",
    "    args = {'w': omega,'ww':omega1}\n",
    "    T = 2*np.pi/omega1\n",
    "    A1 = 0.7*2*np.pi\n",
    "    H = [Hs,  [Hc, lambda t, args: A1*np.cos(args['ww']*t)]]\n",
    "    options = Options(nsteps=100000)  # Increasing nsteps to 10000, adjust as needed\n",
    "    f_modes, f_energies = floquet_modes(H, T, args, True, options=options) \n",
    "    basis_states = [qt.basis(trunc1, 0),qt.basis(trunc1,indexc1)]\n",
    "    max_overlap_indices = [0,0]\n",
    "    max_overlaps = [0,0]\n",
    "    # Loop over each Floquet state\n",
    "    for f_index, f_state in enumerate(f_modes):\n",
    "        # Loop over each basis state\n",
    "        for b_index, b_state in enumerate(basis_states):\n",
    "            # Calculate the overlap\n",
    "            overlap = calculate_overlap(f_state, b_state)\n",
    "\n",
    "            # If this is the maximum overlap for this basis state, store the index\n",
    "            if overlap > max_overlaps[b_index]:\n",
    "                max_overlaps[b_index] = overlap\n",
    "                max_overlap_indices[b_index] = f_index\n",
    "                \n",
    "    ground_state = f_modes[max_overlap_indices[0]]\n",
    "    cavity_state = f_modes[max_overlap_indices[1]]\n",
    "\n",
    "    T = 10\n",
    "    H = [Hs,  [Hc, lambda t, args: A*np.cos(args['w']*t)],[Hc, lambda t, args: A1*np.cos(args['ww']*t)]] \n",
    "    options = Options(nsteps=100000)  # Increasing nsteps to 10000, adjust as needed\n",
    "    f_modes, f_energies = floquet_modes(H, T, args, True, options=options) \n",
    "    basis_states = [ground_state,qt.basis(trunc1, indexs1),cavity_state,qt.basis(trunc1,indexc2),qt.basis(trunc1,indexsc)\n",
    "                   ,qt.basis(trunc1,indexsc),qt.basis(trunc1,indexs2)]\n",
    "    \n",
    "    # Initialize a list to hold the indices of the Floquet states with the maximum overlap for each basis state\n",
    "    omega = 2*np.pi/T\n",
    "    max_overlap_indices = [-1] * 7\n",
    "    max_overlaps = [0] * 7\n",
    "    # Loop over each Floquet state\n",
    "    for f_index, f_state in enumerate(f_modes):\n",
    "        # Loop over each basis state\n",
    "        for b_index, b_state in enumerate(basis_states):\n",
    "            # Calculate the overlap\n",
    "            overlap = calculate_overlap(f_state, b_state)\n",
    "\n",
    "            # If this is the maximum overlap for this basis state, store the index\n",
    "            if overlap > max_overlaps[b_index]:\n",
    "                max_overlaps[b_index] = overlap\n",
    "                max_overlap_indices[b_index] = f_index\n",
    "    energyg = f_energies[max_overlap_indices[0]]/2/np.pi\n",
    "    print(max_overlaps)\n",
    "    energys1 = f_energies[max_overlap_indices[1]]/2/np.pi\n",
    "    k = find_optimal_k(omega_c1/2/np.pi, energys1, omega/2/np.pi)\n",
    "    energys1 = energys1 + k*omega/2/np.pi - energyg\n",
    "    \n",
    "    \n",
    "    energyc1 = f_energies[max_overlap_indices[2]]/2/np.pi\n",
    "    k = find_optimal_k(omega_c1/2/np.pi, energyc1, omega/2/np.pi)\n",
    "    energyc1 = energyc1 + k*omega/2/np.pi - energyg\n",
    "    \n",
    "    energysc = f_energies[max_overlap_indices[4]]/2/np.pi\n",
    "    k = find_optimal_k((omega_c1+omegas)/2/np.pi, energysc, omega/2/np.pi)\n",
    "    starkshift = energysc - energyg + k*omega/2/np.pi - energyc1 - energys1\n",
    "    \n",
    "    energyc2 = f_energies[max_overlap_indices[3]]/2/np.pi\n",
    "    k = find_optimal_k(2*omega_c1/2/np.pi, energyc2, omega/2/np.pi)\n",
    "    energyc2 = energyc2 +k*omega/2/np.pi\n",
    "    \n",
    "    selfkerr = energyc2-energyg - 2*energyc1\n",
    "    \n",
    "    energys2 = f_energies[max_overlap_indices[5]]/2/np.pi\n",
    "    \n",
    "    k = find_optimal_k(2*omegas/2/np.pi, energys2, omega/2/np.pi)\n",
    "    energys2 = energys2 + k*omega/2/np.pi - energyg\n",
    "#     print(f_energies[max_overlap_indices[1]],f_energies[max_overlap_indices[0]])\n",
    "    return energyc1, starkshift, selfkerr,energys2 ,energys1"
   ]
  },
  {
   "cell_type": "code",
   "execution_count": 227,
   "id": "57f80b2a",
   "metadata": {},
   "outputs": [
    {
     "data": {
      "text/plain": [
       "[<matplotlib.lines.Line2D at 0x7fa9af7b7250>]"
      ]
     },
     "execution_count": 227,
     "metadata": {},
     "output_type": "execute_result"
    },
    {
     "data": {
      "image/png": "[encoded data removed]",
      "text/plain": [
       "<Figure size 432x288 with 1 Axes>"
      ]
     },
     "metadata": {
      "needs_background": "light"
     },
     "output_type": "display_data"
    }
   ],
   "source": [
    "plt.plot(flux_values,np.array(snail_freqs)/2/np.pi)"
   ]
  },
  {
   "cell_type": "code",
   "execution_count": 228,
   "id": "f30a63cb",
   "metadata": {
    "scrolled": true
   },
   "outputs": [
    {
     "name": "stdout",
     "output_type": "stream",
     "text": [
      "[0.9787516514486534, 0.36280121110829566, 0.9789609744427376, 0.612301900914854, 0.3626553676074639, 0.3626553676074639, 0.34799460423751627]\n",
      "[0.9716892074164651, 0.36619887031421827, 0.9720163721500164, 0.5911855453359314, 0.36603434613710817, 0.36603434613710817, 0.3480003610407231]\n",
      "[0.9606322771697421, 0.3699469741964664, 0.961172513535401, 0.5631048749926449, 0.36976034892508364, 0.36976034892508364, 0.34799579653704116]\n",
      "[0.9421419976974449, 0.3740899436656535, 0.9431001860885798, 0.5240504827407124, 0.37387777500551606, 0.37387777500551606, 0.34797345532643065]\n",
      "[0.9086707610931196, 0.37944762548709365, 0.9105176835385417, 0.4668155756318911, 0.37841867016611147, 0.37841867016611147, 0.34792330550063044]\n",
      "[0.842941425245317, 0.41524521876427245, 0.8467711759053157, 0.5393765923261293, 0.4135853057326211, 0.4135853057326211, 0.3478447791094559]\n",
      "[0.7105511623870171, 0.45309958355285235, 0.7182420078059125, 0.6628462764874998, 0.45177981700738323, 0.45177981700738323, 0.3477198620497022]\n",
      "[0.5079883950144753, 0.4606212413526292, 0.5018756856018729, 0.8043694364321269, 0.4616674053107241, 0.4616674053107241, 0.34753770148816077]\n",
      "[0.723857755568626, 0.41085796301729877, 0.7158093446243727, 0.8752878482145556, 0.4142031559748754, 0.4142031559748754, 0.40185674048682685]\n",
      "[0.8483560609057488, 0.39229372822929176, 0.8444996164666029, 0.8548746148588153, 0.3929412882917208, 0.3929412882917208, 0.43167460884879616]\n",
      "[0.8858352301914452, 0.34827490376381615, 0.8871327478042287, 0.7666880493798663, 0.35336185238900936, 0.35336185238900936, 0.44167909567831226]\n",
      "[0.47684089751737757, 0.5845445979328953, 0.530295937976583, 0.6063164425720569, 0.5606034793895156, 0.5606034793895156, 0.44410549229045415]\n",
      "[0.9084793490145225, 0.6227681391933904, 0.9031002247834128, 0.9352714452031676, 0.6238444374793642, 0.6238444374793642, 0.44109757896792334]\n",
      "[0.9546167710776134, 0.6219350372031849, 0.9533544794916146, 0.8862319402963017, 0.6209500553274537, 0.6209500553274537, 0.4293072136953559]\n",
      "[0.9700202139871518, 0.63635253832429, 0.9694528793139925, 0.8543156560253988, 0.6354421040878645, 0.6354421040878645, 0.4020373730102405]\n"
     ]
    }
   ],
   "source": [
    "omega = 4.9*2*np.pi\n",
    "A = 0.005*2*np.pi\n",
    "floquet_results = []\n",
    "for i in range(len(flux_values)):\n",
    "    floquet_results.append(floquet_spec(Hss[i],charge_ops[i], omega, A,snail_freqs[i]))"
   ]
  },
  {
   "cell_type": "code",
   "execution_count": 229,
   "id": "733bf5b6",
   "metadata": {},
   "outputs": [],
   "source": [
    "floquet_results = np.array(floquet_results)"
   ]
  },
  {
   "cell_type": "code",
   "execution_count": 230,
   "id": "8edb79e6",
   "metadata": {},
   "outputs": [
    {
     "data": {
      "image/png": "[encoded data removed]",
      "text/plain": [
       "<Figure size 432x288 with 1 Axes>"
      ]
     },
     "metadata": {
      "needs_background": "light"
     },
     "output_type": "display_data"
    }
   ],
   "source": [
    "floquet_results = np.array(floquet_results)\n",
    "# Plotting\n",
    "plt.plot(flux_values, floquet_results[:,0])\n",
    "# plt.plot(flux_values, -(floquet_results/2/np.pi)[:,4]+(floquet_results/2/np.pi)[:,7])\n",
    "plt.xlabel('Flux')\n",
    "plt.ylabel('Floquet Spectrum Result')\n",
    "plt.title('Floquet Spectrum vs Flux')\n",
    "plt.ylim(7.004,7.0045)\n",
    "plt.show()"
   ]
  },
  {
   "cell_type": "code",
   "execution_count": 216,
   "id": "4db53839",
   "metadata": {},
   "outputs": [],
   "source": [
    "## import numpy as np\n",
    "import matplotlib.pyplot as plt\n",
    "import scipy as sci\n",
    "from cosmatrix import cosm,expm_pade\n",
    "expm = expm_pade\n",
    "from autograd.extend import primitive, defvjp\n",
    "from qutip import *\n",
    "def annihilation(dim):\n",
    "    return np.diag(np.sqrt(np.arange(1,dim)),1)\n",
    "def creation(dim):\n",
    "    return np.diag(np.sqrt(np.arange(1,dim)),-1)\n",
    "def SNAIL_H(phi_ex,beta,N,Ej,Ec):\n",
    "    phi_ex = 2*np.pi*phi_ex\n",
    "    def Us_min(phi_ex):\n",
    "        def U_s(phi): \n",
    "            return (-beta*np.cos(phi-phi_ex)-N*np.cos((phi)/N))\n",
    "        phi_min = sci.optimize.minimize(U_s,0).x\n",
    "        return phi_min\n",
    "    \n",
    "    def phi_minde(ans, phi_ex):\n",
    "        def phi_minde_vjp(g):\n",
    "            c2 = beta*np.cos(ans - phi_ex) + 1/N*np.cos(ans/N)\n",
    "            return g*beta*np.cos(ans - phi_ex)/c2\n",
    "        return phi_minde_vjp\n",
    "\n",
    "    phi_min = Us_min(phi_ex)\n",
    "    # potential expansion around minimum\n",
    "    c2 = beta*np.cos(phi_min - phi_ex) + 1/N*np.cos(phi_min/N)\n",
    "    omega_s = np.sqrt(8*c2*Ej*Ec)\n",
    "    phi_zpf = np.power(2*Ec/(Ej*c2),1/4)\n",
    "    g2 = Ej*phi_zpf**2*c2/2\n",
    "    sdim = 10\n",
    "    s = annihilation(sdim)\n",
    "    sd = creation(sdim)\n",
    "    x2 = np.matmul(s+sd,s+sd)\n",
    "    c3 = (N**2-1)/N**2*np.sin(phi_min/N)\n",
    "    g3 = Ej*phi_zpf**3*c3/3/2\n",
    "    c4 = -beta*np.cos(phi_min-phi_ex) -1/N**3*np.cos(phi_min/N)\n",
    "\n",
    "    g4 = Ej*phi_zpf**4*c4/4/3/2\n",
    "    Hs = omega_s * np.matmul(sd,s)+(\n",
    "        - Ej*(beta*cosm(phi_zpf*(s+sd)+(phi_min-phi_ex)*np.identity(sdim))\n",
    "        + N*cosm((phi_zpf*(s+sd)+phi_min*np.identity(sdim))/N))- g2*x2)\n",
    "    energy,U = np.linalg.eigh(Hs)\n",
    "    for i in range(U.shape[1]):\n",
    "        if U[i, i] < 0:\n",
    "            U[:, i] *= -1\n",
    "    U_dag = np.conjugate(U.transpose())\n",
    "    \n",
    "    Hs = Hs\n",
    "    \n",
    "    return Hs-energy[0]*np.identity(sdim),-1j*(s-sd),phi_zpf,c2"
   ]
  },
  {
   "cell_type": "code",
   "execution_count": 217,
   "id": "7f20bfc0",
   "metadata": {},
   "outputs": [],
   "source": [
    "def sort(energies,U,H):\n",
    "    diagonal_elements = np.diag(H)\n",
    "\n",
    "    # Find the index of the closest diagonal element for each eigenvalue\n",
    "    closest_indices = np.argmin(abs(energies[:, np.newaxis] - diagonal_elements), axis=1)\n",
    "\n",
    "    # Sort energies and U according to the indices of closest diagonal elements\n",
    "    sorted_energies = energies[np.argsort(closest_indices)]\n",
    "    U = U[:, np.argsort(closest_indices)]\n",
    "    return sorted_energies,U"
   ]
  },
  {
   "cell_type": "code",
   "execution_count": 222,
   "id": "b8cd1e8b",
   "metadata": {
    "scrolled": false
   },
   "outputs": [
    {
     "data": {
      "text/plain": [
       "(7.004330461392709, 0.006853882513191791, 0.7631867434872347)"
      ]
     },
     "execution_count": 222,
     "metadata": {},
     "output_type": "execute_result"
    }
   ],
   "source": [
    "from scipy.sparse.linalg import expm\n",
    "from scipy.linalg import logm\n",
    "def floquet_spec2(omega,A,phi_ex,omega_c,g_int):\n",
    "    beta = 0.12\n",
    "    N = 3\n",
    "    Ej = 70*2*np.pi\n",
    "    Ec = 0.177*2*np.pi\n",
    "    \n",
    "    H0,v,phi_zpf,c2 = SNAIL_H(phi_ex,beta,N,Ej,Ec)\n",
    "    g_int = g_int*c2**0.25\n",
    "    \n",
    "    energies,U=np.linalg.eig(H0)\n",
    "    energies = energies - energies[0]*np.ones(len(energies))\n",
    "    sorted_indices = np.argsort(energies)\n",
    "\n",
    "    U = U[:, sorted_indices]\n",
    "    Ud = U.transpose().conjugate()\n",
    "    \n",
    "    energies = np.sort(energies)\n",
    "    omega_s = energies[1]\n",
    "    anh = energies[2] - 2* energies[1]\n",
    "    dims = 10\n",
    "    s = annihilation(dims)\n",
    "    sd = creation(dims)\n",
    "    delta = (omega_s-omega)\n",
    "\n",
    "    cdim = 6\n",
    "    c = annihilation(cdim)\n",
    "    cd = creation(cdim)\n",
    "    Ic = np.identity(cdim)\n",
    "    Is = np.identity(dims)\n",
    "    s = np.kron(s,Ic)\n",
    "    sd = np.kron(sd,Ic)\n",
    "    c = np.kron(Is,c)\n",
    "    cd = np.kron(Is,cd)\n",
    "    H = omega_s*sd@s  + omega_c * cd@c +g_int*((s+sd)@(cd+c))\n",
    "    energies,U=np.linalg.eig(H)\n",
    "        # Get the diagonal elements of H\n",
    "    sorted_energies,U = sort(energies,U,H)\n",
    "    Ud = U.transpose().conjugate()\n",
    "    Hnl = Ud@(anh/2*sd@sd@s@s)@U\n",
    "    H =  omega_s*sd@s  + omega_c * cd@c +g_int*((s+sd)@(cd+c))+(anh/2*sd@sd@s@s)\n",
    "\n",
    "    \n",
    "    delta = (omega_c-omega_s)\n",
    "#     p=8*g_int**4*omega_c*omega_s**2/(omega_c**6-3*omega_c**4*omega_s**2+3*omega_c**2*omega_s**4-omega_s**6)\n",
    "#     H = (omega_s-g_int**2/delta + g_int**2/(omega_c+omega_s)+p)*sd@s+(omega_c+g_int**2/delta - g_int**2/(omega_c+omega_s)-p)*cd@c+Hnl\n",
    "    lam = g_int/(-delta)\n",
    "    sorted_energies = sorted_energies - sorted_energies[0]*np.ones(len(sorted_energies))\n",
    "    omega_sp = sorted_energies[np.argmin(np.abs(sorted_energies - omega_s))]\n",
    "    omega_cp = sorted_energies[1]\n",
    "    eta = A/2/phi_zpf/2\n",
    "    delta = (omega_sp-omega)\n",
    "    \n",
    "    s = annihilation(dims)\n",
    "    sd = creation(dims)\n",
    "    c = annihilation(cdim)\n",
    "    cd = creation(cdim)\n",
    "    Ic = np.identity(cdim)\n",
    "    Is = np.identity(dims)\n",
    "    \n",
    "    \n",
    "    Hs = delta*sd@s +(anh/2*sd@sd@s@s)+ eta*(s+sd)\n",
    "\n",
    "    H = np.kron(Hs,Ic) + np.kron(Is,omega_cp*cd@c)+np.kron(2*lam**2*anh*sd@s,cd@c)\n",
    "#     Hs = delta*sd@s +(anh/2*(sd@sd@s@s+4*eta**2/delta**2*sd@s-2*eta/delta*(sd@sd@s+sd@s@s)+eta**2/delta**2*(sd@sd+s@s)))\n",
    "#     energies,U = np.linalg.eig(Hs)\n",
    "#     H = np.kron(Hs,Ic) + np.kron(Is,omega_cp*cd@c)+np.kron(2*lam**2*anh*(sd-eta/delta*np.identity(dims))@(s-eta/delta*np.identity(dims)),cd@c)\n",
    "    energies,U = np.linalg.eig(H)\n",
    "    a = np.zeros(len(H))\n",
    "    a[0] = 1\n",
    "\n",
    "    # Compute the overlaps (absolute values of the first elements of the columns of U)\n",
    "    overlaps = np.abs(U[0, :])**2\n",
    "\n",
    "    # Find the index of the maximum overlap\n",
    "    max_overlap_index = np.argmax(overlaps)\n",
    "#     if max(overlaps)<=0.8:\n",
    "#         return 0,overlaps[0]**2,overlaps[1]**2\n",
    "    energies = energies - energies[max_overlap_index]*np.ones(len(energies))\n",
    "    return np.real(energies[np.argmin(np.abs(energies - omega_cp))])/2/np.pi,overlaps[0]**2,overlaps[1]**2\n",
    "floquet_spec2(4.9*2*np.pi,0.005*2*np.pi,0.426,7*2*np.pi,0.15*2*np.pi)"
   ]
  },
  {
   "cell_type": "code",
   "execution_count": 225,
   "id": "f166ee7c",
   "metadata": {},
   "outputs": [
    {
     "data": {
      "image/png": "[encoded data removed]",
      "text/plain": [
       "<Figure size 432x288 with 1 Axes>"
      ]
     },
     "metadata": {
      "needs_background": "light"
     },
     "output_type": "display_data"
    }
   ],
   "source": [
    "##### x_values = np.linspace(0.422, 0.43, 15) # 0.4, 0.43\n",
    "\n",
    "# Calculate the results for each x value\n",
    "results = [floquet_spec2(4.9 * 2 * np.pi, 0.005* 2 * np.pi, x, omega_c1, 0.15 * 2 * np.pi)  for x in x_values]\n",
    "\n",
    "### Plot the results\n",
    "plt.plot(x_values, np.array(results), label='Data 1')\n",
    "plt.plot(x_values, floquet_results[:,0], label='Floquet Results')\n",
    "plt.xlabel('x')\n",
    "plt.ylabel('floquet_spec1(4.9*2π, 0.00*2π, x, 3*2π, 0.15*2π) / 2π')\n",
    "plt.title('Plot of floquet_spec1 vs. x')\n",
    "plt.grid(True)\n",
    "plt.ylim(7.0043,7.0045)\n",
    "\n",
    "\n",
    "# Optional: Add a legend\n",
    "plt.legend(loc='upper left')\n",
    "\n",
    "# Show the plot\n",
    "plt.show()"
   ]
  }
 ],
 "metadata": {
  "kernelspec": {
   "display_name": "Python 3 (ipykernel)",
   "language": "python",
   "name": "python3"
  },
  "language_info": {
   "codemirror_mode": {
    "name": "ipython",
    "version": 3
   },
   "file_extension": ".py",
   "mimetype": "text/x-python",
   "name": "python",
   "nbconvert_exporter": "python",
   "pygments_lexer": "ipython3",
   "version": "3.8.3"
  }
 },
 "nbformat": 4,
 "nbformat_minor": 5
}
