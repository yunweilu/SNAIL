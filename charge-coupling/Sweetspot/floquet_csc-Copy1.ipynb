{
 "cells": [
  {
   "cell_type": "code",
   "execution_count": 22,
   "id": "99dfb7cb",
   "metadata": {},
   "outputs": [
    {
     "name": "stdout",
     "output_type": "stream",
     "text": [
      "ERROR! Session/line number was not unique in database. History logging moved to new session 2677\n"
     ]
    }
   ],
   "source": [
    "from matplotlib import pyplot as plt\n",
    "from systemclass import SNAIL,SNAIL_sweep,Cavity, SNAILC, SNAILC_sweep, SNAILCC, SNAILCC_sweep\n",
    "import numpy as np\n",
    "from joblib import Parallel, delayed"
   ]
  },
  {
   "cell_type": "code",
   "execution_count": 23,
   "id": "bbbe2e7f",
   "metadata": {},
   "outputs": [],
   "source": [
    "def sort(energies,U,H):\n",
    "    diagonal_elements = np.diag(H)\n",
    "\n",
    "    # Find the index of the closest diagonal element for each eigenvalue\n",
    "    closest_indices = np.argmin(abs(energies[:, np.newaxis] - diagonal_elements), axis=1)\n",
    "\n",
    "    # Sort energies and U according to the indices of closest diagonal elements\n",
    "    sorted_energies = energies[np.argsort(closest_indices)]\n",
    "    U = U[:, np.argsort(closest_indices)]\n",
    "    return sorted_energies,U"
   ]
  },
  {
   "cell_type": "code",
   "execution_count": 24,
   "id": "44ae8bb5",
   "metadata": {},
   "outputs": [],
   "source": [
    "def calculate_overlap(state1, state2):\n",
    "    return abs((state1.dag() * state2)[0,0])**2\n",
    "def find_optimal_k(A, B, D):\n",
    "    # Define a large initial minimum difference\n",
    "    min_diff = float('inf')\n",
    "    optimal_k = None\n",
    "    \n",
    "    # Iterate over a range of possible k values\n",
    "    # The range can be adjusted based on expected size of k or other insights you have about your problem\n",
    "    for k in range(-1000, 1000):\n",
    "        # Calculate the difference for this value of k\n",
    "        diff = abs(A - (B + k * D))\n",
    "        \n",
    "        # If this is the smallest difference we've found so far, update min_diff and optimal_k\n",
    "        if diff < min_diff:\n",
    "            min_diff = diff\n",
    "            optimal_k = k\n",
    "            \n",
    "    return optimal_k\n",
    "def T1f(der):\n",
    "    factor = np.sqrt(2*np.abs(np.log(2*np.pi*1*1e-5)))\n",
    "    return 1/(factor*10**-6*der)"
   ]
  },
  {
   "cell_type": "code",
   "execution_count": 56,
   "id": "be4b9d6c",
   "metadata": {},
   "outputs": [],
   "source": [
    "from qutip import propagator,floquet_modes,Qobj,Options,basis\n",
    "def energy_diff(A,omega,flux):\n",
    "    #snail parameters\n",
    "    EJ = 70*2*np.pi\n",
    "    EC = 0.177*2*np.pi\n",
    "    beta = 0.12\n",
    "    ng = 0\n",
    "    ncut = 300\n",
    "    N = 3\n",
    "    dims = 10\n",
    "    snail = SNAIL(EJ,EC,beta,ng,ncut,flux,N,dims)\n",
    "    omegas = snail.omegas\n",
    "    \n",
    "    #cavity1 parameters\n",
    "    omega_c1 = 7*2*np.pi\n",
    "    g_int1 = 0.15*2*np.pi\n",
    "    dimc1 = 5\n",
    "    cavity1 = Cavity(omega_c1,g_int1,dimc1)\n",
    "    \n",
    "    #cavity1 parameters\n",
    "    omega_c2 = 3*2*np.pi\n",
    "    g_int2 = 0.15*2*np.pi\n",
    "    dimc2 = 5\n",
    "    cavity2 = Cavity(omega_c2,g_int2,dimc2)\n",
    "    snailcc = SNAILCC(snail,cavity1,cavity2)\n",
    "    \n",
    "    H0,Hc = snailcc.hamiltonian()\n",
    "    energy,U = np.linalg.eigh(H0)\n",
    "    U_dag = np.transpose(U.conjugate())\n",
    "    Hc = U_dag @ Hc @ U\n",
    "    H0 = U_dag @ H0 @ U\n",
    "    H0 = H0 - H0[0][0]*np.identity(len(H0))\n",
    "    indexc11 = np.argmin(np.abs(energy - omega_c1 * np.ones(len(energy))))\n",
    "    indexc21 = np.argmin(np.abs(energy - omega_c2 * np.ones(len(energy))))\n",
    "    index12 = np.argmin(np.abs(energy - omega_c2 * np.ones(len(energy)) - omega_c1 * np.ones(len(energy))))\n",
    "    indexs1 = np.argmin(np.abs(energy - omegas * np.ones(len(energy))))\n",
    "    indexsc1 = np.argmin(np.abs(energy - (omegas+omega_c1) * np.ones(len(energy))))\n",
    "    indexsc2 = np.argmin(np.abs(energy - (omegas+omega_c2) * np.ones(len(energy))))\n",
    "    indexc12 = np.argmin(np.abs(energy - 2 * omega_c1 * np.ones(len(energy))))\n",
    "    indexc22 = np.argmin(np.abs(energy - 2 * omega_c2 * np.ones(len(energy))))\n",
    "    H0 = Qobj(H0)\n",
    "    Hc = Qobj(Hc)\n",
    "    args = {'w': omega}\n",
    "    T = 2*np.pi/omega\n",
    "#     H = [H0, [Hc, lambda t, args: A*np.cos(args['w']*t)]] \n",
    "    H = [H0, [Hc, lambda t, args: A*np.cos(args['w']*t)]] \n",
    "    options = Options(nsteps=1000000)  # Increasing nsteps to 10000, adjust as needed\n",
    "    f_modes, f_energies = floquet_modes(H, T, args, False, options=options) \n",
    "    total_dim = dims*dimc1*dimc2\n",
    "    basis_states = [basis(total_dim, 0),basis(total_dim, indexc11), basis(total_dim, indexc21),basis(total_dim, index12),\n",
    "                   basis(total_dim, indexs1),basis(total_dim, indexsc1),basis(total_dim, indexsc2),\n",
    "                   basis(total_dim, indexc12),basis(total_dim, indexc22)]\n",
    "    \n",
    "    \n",
    "    max_overlap_indices = [0,0,0,0,0,0,0,0,0]\n",
    "    max_overlaps = [0,0,0,0,0,0,0,0,0]\n",
    "    for f_index, f_state in enumerate(f_modes):\n",
    "\n",
    "        # Loop over each basis state\n",
    "        for b_index, b_state in enumerate(basis_states):\n",
    "\n",
    "            # Calculate the overlap\n",
    "            overlap = calculate_overlap(f_state, b_state)\n",
    "\n",
    "            # If this is the maximum overlap for this basis state, store the index\n",
    "            if overlap > max_overlaps[b_index]:\n",
    "                max_overlaps[b_index] = overlap\n",
    "                max_overlap_indices[b_index] = f_index\n",
    "    energyg = f_energies[max_overlap_indices[0]]/2/np.pi\n",
    "    omega = 2*np.pi/T\n",
    "\n",
    "    energyc1p = f_energies[max_overlap_indices[1]]/2/np.pi\n",
    "    k = find_optimal_k(omega_c1/2/np.pi, energyc1p , omega/2/np.pi)\n",
    "    energyc1p = energyc1p + k *omega/2/np.pi - energyg\n",
    "    energyc2p = f_energies[max_overlap_indices[2]]/2/np.pi\n",
    "    k = find_optimal_k(omega_c2/2/np.pi, energyc2p, omega/2/np.pi)\n",
    "    energyc2p = energyc2p + k *omega/2/np.pi - energyg\n",
    "    \n",
    "    omega12 = f_energies[max_overlap_indices[3]]/2/np.pi\n",
    "    k = find_optimal_k(omega_c1/2/np.pi+omega_c2/2/np.pi, omega12 , omega/2/np.pi)\n",
    "    omega12 = omega12 +k *omega/2/np.pi - energyg\n",
    "    \n",
    "    diff = omega12 - energyc1p - energyc2p\n",
    "    \n",
    "    energys1 = f_energies[max_overlap_indices[4]]/2/np.pi\n",
    "    k = find_optimal_k(omegas/2/np.pi, energys1, omega/2/np.pi)\n",
    "    energys1 = energys1 + k*omega/2/np.pi - energyg\n",
    "    \n",
    "    energysc1 = f_energies[max_overlap_indices[5]]/2/np.pi\n",
    "    k = find_optimal_k((omega_c1+omegas)/2/np.pi, energysc1, omega/2/np.pi)\n",
    "    starkshift1 = energysc1 - energyg + k*omega/2/np.pi - energyc1p - energys1\n",
    "\n",
    "    energysc2 = f_energies[max_overlap_indices[6]]/2/np.pi\n",
    "    k = find_optimal_k((omega_c2+omegas)/2/np.pi, energysc2, omega/2/np.pi)\n",
    "    starkshift2 = energysc2 - energyg + k*omega/2/np.pi - energyc2p - energys1\n",
    "    \n",
    "    energyc12 = f_energies[max_overlap_indices[7]]/2/np.pi\n",
    "    k = find_optimal_k(2*omega_c1/2/np.pi, energyc12, omega/2/np.pi)\n",
    "    energyc12 = energyc12 +k*omega/2/np.pi\n",
    "    selfkerr1 = energyc12-energyg - 2*energyc1p\n",
    "    \n",
    "    energyc22 = f_energies[max_overlap_indices[8]]/2/np.pi\n",
    "    k = find_optimal_k(2*omega_c2/2/np.pi, energyc22, omega/2/np.pi)\n",
    "    energyc22 = energyc22 +k*omega/2/np.pi\n",
    "    selfkerr2 = energyc22-energyg - 2*energyc2p\n",
    "\n",
    "    return diff,energyc1p,energyc2p , starkshift1, starkshift2, selfkerr1, selfkerr2,energys1"
   ]
  },
  {
   "cell_type": "code",
   "execution_count": 57,
   "id": "9cda3fe2",
   "metadata": {},
   "outputs": [],
   "source": [
    "## import numpy as np\n",
    "import matplotlib.pyplot as plt\n",
    "import scipy as sci\n",
    "from autograd.extend import primitive, defvjp\n",
    "from qutip import *\n",
    "def annihilation(dim):\n",
    "    return np.diag(np.sqrt(np.arange(1,dim)),1)\n",
    "def creation(dim):\n",
    "    return np.diag(np.sqrt(np.arange(1,dim)),-1)\n",
    "def SNAIL_H(phi_ex,beta,N,Ej,Ec):\n",
    "    phi_ex = 2*np.pi*phi_ex\n",
    "    def Us_min(phi_ex):\n",
    "        def U_s(phi): \n",
    "            return (-beta*np.cos(phi-phi_ex)-N*np.cos((phi)/N))\n",
    "        phi_min = sci.optimize.minimize(U_s,0).x\n",
    "        return phi_min\n",
    "    \n",
    "    def phi_minde(ans, phi_ex):\n",
    "        def phi_minde_vjp(g):\n",
    "            c2 = beta*np.cos(ans - phi_ex) + 1/N*np.cos(ans/N)\n",
    "            return g*beta*np.cos(ans - phi_ex)/c2\n",
    "        return phi_minde_vjp\n",
    "\n",
    "    phi_min = Us_min(phi_ex)\n",
    "    # potential expansion around minimum\n",
    "    c2 = beta*np.cos(phi_min - phi_ex) + 1/N*np.cos(phi_min/N)\n",
    "    omega_s = np.sqrt(8*c2*Ej*Ec)\n",
    "    phi_zpf = np.power(2*Ec/(Ej*c2),1/4)\n",
    "    g2 = Ej*phi_zpf**2*c2/2\n",
    "    sdim = 10\n",
    "    s = annihilation(sdim)\n",
    "    sd = creation(sdim)\n",
    "    x2 = np.matmul(s+sd,s+sd)\n",
    "    c3 = (N**2-1)/N**2*np.sin(phi_min/N)\n",
    "    g3 = Ej*phi_zpf**3*c3/3/2\n",
    "    c4 = -beta*np.cos(phi_min-phi_ex) -1/N**3*np.cos(phi_min/N)\n",
    "\n",
    "    g4 = Ej*phi_zpf**4*c4/4/3/2\n",
    "    Hs = omega_s * np.matmul(sd,s)\n",
    "    \n",
    "    return Hs,-1j*(s-sd),phi_zpf,c2"
   ]
  },
  {
   "cell_type": "code",
   "execution_count": 58,
   "id": "4f740328",
   "metadata": {},
   "outputs": [],
   "source": [
    "from qutip import propagator,floquet_modes,Qobj,Options,basis\n",
    "def annihilation(dim):\n",
    "    return np.diag(np.sqrt(np.arange(1,dim)),1)\n",
    "def creation(dim):\n",
    "    return np.diag(np.sqrt(np.arange(1,dim)),-1)\n",
    "def energy_diff2(A,omega,phi_ex):\n",
    "    #snail parameters\n",
    "    EJ = 70*2*np.pi\n",
    "    EC = 0.177*2*np.pi\n",
    "    beta = 0.12\n",
    "    ng = 0\n",
    "    ncut = 300\n",
    "    N = 3\n",
    "    dims = 10\n",
    "    snail = SNAIL(EJ,EC,beta,ng,ncut,phi_ex,N,dims)\n",
    "    H0,v,phi_zpf,c2 = SNAIL_H(phi_ex,beta,N,EJ,EC)\n",
    "    Hs,charge_op = snail.spectrum_charge()\n",
    "    \n",
    "    \n",
    "    #cavity1 parameters\n",
    "    omega_c1 = 7*2*np.pi\n",
    "    g_int1 = 0.15*2*np.pi\n",
    "    dimc1 = 5\n",
    "    cavity1 = Cavity(omega_c1,g_int1,dimc1)\n",
    "    \n",
    "    #cavity1 parameters\n",
    "    omega_c2 = 3*2*np.pi\n",
    "    g_int2 = 0.15*2*np.pi\n",
    "    dimc2 = 5\n",
    "    cavity2 = Cavity(omega_c2,g_int2,dimc2)\n",
    "    \n",
    "    Hc1, Vc1 = cavity1.hamiltonian()\n",
    "    Hc2, Vc2 = cavity2.hamiltonian()\n",
    "    \n",
    "    Ic1 = np.identity(dimc1)\n",
    "    Ic2 = np.identity(dimc2)\n",
    "    Is = np.identity(dims)\n",
    "    \n",
    "    Hs = np.kron(np.kron(Hs,Ic1),Ic2)\n",
    "    Hc1 = np.kron(np.kron(Is,Hc1),Ic2)\n",
    "    Hc2 = np.kron(np.kron(Is,Ic1),Hc2)\n",
    "    \n",
    "    H_int1 = cavity1.g_int * np.kron(np.kron(charge_op,Vc1),Ic2) * 2 * ((2 * snail.EC / snail.EJ) ** 0.25)\n",
    "    H_int2 = cavity2.g_int * np.kron(np.kron(charge_op,Ic1),Vc2) * 2 * ((2 * snail.EC / snail.EJ) ** 0.25)\n",
    "    \n",
    "    H = Hs + Hc1 + Hc2 + H_int1 + H_int2\n",
    "\n",
    "    energy,U = np.linalg.eigh(H)\n",
    "    energy,U = sort(energy,U,H)\n",
    "    energy = energy - energy[0]*np.ones(len(energy))\n",
    "    \n",
    "    omegas = snail.omegas\n",
    "    indexs1 = np.argmin(np.abs(energy - omegas * np.ones(len(energy))))\n",
    "    energys1 = energy[indexs1]\n",
    "    indexs2 = np.argmin(np.abs(energy - (2*omegas ) * np.ones(len(energy))))\n",
    "    anh = energy[indexs2] - 2*energys1\n",
    "    \n",
    "    indexc11 = np.argmin(np.abs(energy - omega_c1 * np.ones(len(energy))))\n",
    "    energyc11 = energy[indexc11]\n",
    "    indexc12 = np.argmin(np.abs(energy - 2 * omega_c1 * np.ones(len(energy))))\n",
    "    energyc12 = energy[indexc12]\n",
    "    indexsc11 = np.argmin(np.abs(energy - (omegas+omega_c1) * np.ones(len(energy))))\n",
    "    energysc11 = energy[indexsc11]\n",
    "    indexsc12 = np.argmin(np.abs(energy - (omegas+2*omega_c1) * np.ones(len(energy))))\n",
    "    energysc12 = energy[indexsc12]\n",
    "    \n",
    "    starkshift11 = energysc11  - energyc11 - energys1\n",
    "    selfkerr1 = energyc12 - 2*energyc11\n",
    "    starkshift12 = energysc12  - 2*energyc11 - energys1 - 2*starkshift11 - 2*selfkerr1\n",
    "    \n",
    "    indexc21 = np.argmin(np.abs(energy - omega_c2 * np.ones(len(energy))))\n",
    "    energyc21 = energy[indexc21]\n",
    "    indexc22 = np.argmin(np.abs(energy - 2 * omega_c2 * np.ones(len(energy))))\n",
    "    energyc22 = energy[indexc22]\n",
    "    indexsc21 = np.argmin(np.abs(energy - (omegas+omega_c2) * np.ones(len(energy))))\n",
    "    energysc21 = energy[indexsc21]\n",
    "    indexsc22 = np.argmin(np.abs(energy - (omegas+2*omega_c2) * np.ones(len(energy))))\n",
    "    energysc22 = energy[indexsc22]\n",
    "    \n",
    "    starkshift21 = energysc21  - energyc21 - energys1\n",
    "    selfkerr2 = energyc22 - 2*energyc21\n",
    "    starkshift22 = energysc22  - 2*energyc21 - energys1 - 2*starkshift21 - 2*selfkerr2\n",
    "    \n",
    "    index12 = np.argmin(np.abs(energy - omega_c2 * np.ones(len(energy)) - omega_c1 * np.ones(len(energy))))\n",
    "    energy12 = energy[index12]\n",
    "    index121 = np.argmin(np.abs(energy - (omega_c2+omega_c1+omegas) * np.ones(len(energy))))\n",
    "    energy121 = energy[index121]\n",
    "    crosskerr = energy12 - energyc11 - energyc21\n",
    "    scrosskerr = energy121 - energyc11 - energyc21 - energys1 - starkshift11 - starkshift21\n",
    "    return energys1,anh,energyc11,selfkerr1, starkshift11,starkshift12,energyc21,selfkerr2, starkshift21,starkshift22,crosskerr,scrosskerr"
   ]
  },
  {
   "cell_type": "code",
   "execution_count": 59,
   "id": "bb4cce24",
   "metadata": {},
   "outputs": [],
   "source": [
    "def app(A,omega,phi_ex):\n",
    "    EJ = 70*2*np.pi\n",
    "    EC = 0.177*2*np.pi\n",
    "    beta = 0.12\n",
    "    ng = 0\n",
    "    ncut = 100\n",
    "    flux = 0.48\n",
    "    N = 3\n",
    "    dims = 10\n",
    "    H0,v,phi_zpf,c2 = SNAIL_H(phi_ex,beta,N,EJ,EC)\n",
    "    dimc = 4\n",
    "    s = annihilation(dims)\n",
    "    sd = creation(dims)\n",
    "    c = annihilation(dimc)\n",
    "    cd = creation(dimc)\n",
    "    Ic = np.identity(dimc)\n",
    "    Is = np.identity(dims)\n",
    "    energys1,anh,energyc11,selfkerr1, starkshift11,starkshift12,energyc21,selfkerr2, starkshift21,starkshift22,crosskerr,scrosskerr=energy_diff2(A,omega,phi_ex)\n",
    "    delta = energys1-omega \n",
    "    \n",
    "    Hs = delta*sd@s +anh/2*sd@sd@s@s + A/2*(s+sd)/2/phi_zpf\n",
    "\n",
    "    energies,U=np.linalg.eig(Hs)\n",
    "    energies,U = sort(energies,U,Hs)\n",
    "    Ud = U.transpose().conjugate()\n",
    "    Hs = np.kron(np.kron(np.diag(energies),Ic),Ic)\n",
    "    \n",
    "    Hc1 = energyc11*cd@c + selfkerr1/2*cd@cd@c@c\n",
    "    Hc1 = np.kron(np.kron(Is,Hc1),Ic)\n",
    "    Hc2 = energyc21*cd@c + selfkerr2/2*cd@cd@c@c\n",
    "    Hc2 = np.kron(np.kron(Is,Ic),Hc2)\n",
    "    H_int1 = starkshift11 * np.kron(Ud@sd@s@U,cd@c)+starkshift12/2* np.kron(Ud@sd@s@U,cd@cd@c@c)\n",
    "    H_int1 = np.kron(H_int1,Ic)\n",
    "    H_int2 = starkshift21 * np.kron(np.kron(Ud@sd@s@U,Ic),cd@c)+starkshift22/2* np.kron(np.kron(Ud@sd@s@U,Ic),cd@cd@c@c)\n",
    "    H_int3 = crosskerr*np.kron(np.kron(Is,cd@c),cd@c) + scrosskerr*np.kron(np.kron(Ud@sd@s@U,cd@c),cd@c)\n",
    "    \n",
    "    H = Hs + Hc1 + Hc2 +H_int1+H_int2 + H_int3\n",
    "    energy,U = np.linalg.eigh(H)\n",
    "\n",
    "    # Compute the overlaps (absolute values of the first elements of the columns of U)\n",
    "    overlaps = np.abs(U[0, :])**2\n",
    "\n",
    "    # Find the index of the maximum overlap\n",
    "    max_overlap_index = np.argmax(overlaps)\n",
    "    energy = energy - energy[max_overlap_index]*np.ones(len(energy))\n",
    "    overlaps = np.abs(U[dimc**2, :])**2\n",
    "\n",
    "    # Find the index of the maximum overlap\n",
    "    indexs1 = np.argmax(overlaps)\n",
    "    energys1 = energy[indexs1]\n",
    "    index12 = np.argmin(np.abs(energy - energyc11  * np.ones(len(energy)) - energyc21  * np.ones(len(energy))))\n",
    "    \n",
    "    indexc11 = np.argmin(np.abs(energy - energyc11 * np.ones(len(energy))))\n",
    "    indexc12 = np.argmin(np.abs(energy - 2 * energyc11 * np.ones(len(energy))))\n",
    "    indexsc11 = np.argmin(np.abs(energy - (delta+energyc11) * np.ones(len(energy))))\n",
    "    energysc11 = energy[indexsc11]\n",
    "    energyc11 = energy[indexc11]\n",
    "    energyc12 = energy[indexc12]\n",
    "    starkshift11 = energysc11  - energyc11 - energys1\n",
    "    selfkerr1 = energyc12 - 2*energyc11\n",
    "    indexc21 = np.argmin(np.abs(energy - energyc21 * np.ones(len(energy)))) \n",
    "    indexc22 = np.argmin(np.abs(energy - 2 * energyc21 * np.ones(len(energy))))\n",
    "    indexsc21 = np.argmin(np.abs(energy - (delta+energyc21) * np.ones(len(energy))))\n",
    "    energysc21 = energy[indexsc21]\n",
    "    energyc21 = energy[indexc21]\n",
    "    energyc22 = energy[indexc22]\n",
    "    \n",
    "    starkshift21 = energysc21  - energyc21 - energys1\n",
    "    selfkerr2 = energyc22 - 2*energyc21\n",
    "    \n",
    "    \n",
    "    \n",
    "    energy12 = energy[index12]\n",
    "    crosskerr = energy12 - energyc11 - energyc21\n",
    "    return crosskerr/2/np.pi, energyc11/2/np.pi, energyc21/2/np.pi,  starkshift11/2/np.pi, starkshift21/2/np.pi, selfkerr1/2/np.pi, selfkerr2/2/np.pi"
   ]
  },
  {
   "cell_type": "code",
   "execution_count": 60,
   "id": "88b6e050",
   "metadata": {},
   "outputs": [
    {
     "data": {
      "text/plain": [
       "(7.590228415012441e-08,\n",
       " 7.0041550683405704,\n",
       " 2.9926768102373167,\n",
       " 0.0001565152289003022,\n",
       " 9.791687868778119e-05,\n",
       " 1.95866009677537e-07,\n",
       " 1.0991365957089112e-07)"
      ]
     },
     "execution_count": 60,
     "metadata": {},
     "output_type": "execute_result"
    }
   ],
   "source": [
    "(app)(A, omega, flux)"
   ]
  },
  {
   "cell_type": "code",
   "execution_count": 61,
   "id": "266d0dfb",
   "metadata": {},
   "outputs": [
    {
     "data": {
      "text/plain": [
       "(30.45737900469581,\n",
       " 0.17158532409406746,\n",
       " 44.008369965195484,\n",
       " 1.8696215846603081e-06,\n",
       " 0.001040910432109854,\n",
       " -1.230750413583337e-06,\n",
       " 18.80352146093559,\n",
       " 9.572165424742707e-07,\n",
       " 0.0006513401899290727,\n",
       " -9.117581925011109e-07,\n",
       " 7.824144709900338e-07,\n",
       " 2.2148579574832183e-06)"
      ]
     },
     "execution_count": 61,
     "metadata": {},
     "output_type": "execute_result"
    }
   ],
   "source": [
    "omega = 4.83 * 2 * np.pi\n",
    "A = 0.005 * 2 * np.pi\n",
    "flux = 0.435\n",
    "(energy_diff2)(A, omega, flux)"
   ]
  },
  {
   "cell_type": "code",
   "execution_count": 79,
   "id": "7d13a295",
   "metadata": {},
   "outputs": [],
   "source": [
    "from joblib import Parallel, delayed\n",
    "omega = 4.83 * 2 * np.pi\n",
    "A = 0.005 * 2 * np.pi\n",
    "fluxs = np.linspace(0.42, 0.44, 100)\n",
    "# Using joblib to parallelize the loo\n",
    "cross_kerrs = Parallel(n_jobs=-1)(delayed(app)(A, omega, flux) for flux in fluxs)\n"
   ]
  },
  {
   "cell_type": "code",
   "execution_count": 80,
   "id": "ae26a380",
   "metadata": {},
   "outputs": [],
   "source": [
    "cross_kerrs = np.array(cross_kerrs)"
   ]
  },
  {
   "cell_type": "code",
   "execution_count": null,
   "id": "d13c6d3c",
   "metadata": {},
   "outputs": [
    {
     "name": "stderr",
     "output_type": "stream",
     "text": [
      "capi_return is NULL\n",
      "Call-back cb_f_in_zvode__user__routines failed.\n",
      "capi_return is NULL\n",
      "Call-back cb_f_in_zvode__user__routines failed.\n",
      "capi_return is NULL\n",
      "Call-back cb_f_in_zvode__user__routines failed.\n",
      "capi_return is NULL\n",
      "Call-back cb_f_in_zvode__user__routines failed.\n",
      "capi_return is NULL\n",
      "Call-back cb_f_in_zvode__user__routines failed.\n",
      "capi_return is NULL\n",
      "Call-back cb_f_in_zvode__user__routines failed.\n",
      "capi_return is NULL\n",
      "Call-back cb_f_in_zvode__user__routines failed.\n"
     ]
    }
   ],
   "source": [
    "cross_kerrs1 = Parallel(n_jobs=-1)(delayed(energy_diff)(A, omega, flux) for flux in fluxs)"
   ]
  },
  {
   "cell_type": "code",
   "execution_count": 81,
   "id": "40f21584",
   "metadata": {},
   "outputs": [],
   "source": [
    "cross_kerrs1 = np.array(cross_kerrs1)"
   ]
  },
  {
   "cell_type": "code",
   "execution_count": 66,
   "id": "22cea344",
   "metadata": {},
   "outputs": [
    {
     "data": {
      "image/png": "[encoded data removed]",
      "text/plain": [
       "<Figure size 432x288 with 1 Axes>"
      ]
     },
     "metadata": {
      "needs_background": "light"
     },
     "output_type": "display_data"
    }
   ],
   "source": [
    "# Plotting the new data in a similar style with a different y-axis\n",
    "\n",
    "fig, ax1 = plt.subplots()\n",
    "\n",
    "color = 'tab:green'\n",
    "ax1.set_xlabel('Flux')\n",
    "ax1.set_ylabel('Cavity-Cavity Cross-Kerr', color=color)\n",
    "ax1.plot(fluxs, cross_kerrs1[:, 0], color=color)\n",
    "ax1.plot(fluxs, cross_kerrs[:, 0],'--',color=color, )\n",
    "ax1.tick_params(axis='y', labelcolor=color)\n",
    "ax1.set_ylim(-5e-7,5e-7)\n",
    "fig.tight_layout()\n",
    "plt.show()"
   ]
  },
  {
   "cell_type": "code",
   "execution_count": 67,
   "id": "bcc0ee3b",
   "metadata": {},
   "outputs": [
    {
     "data": {
      "image/png": "[encoded data removed]",
      "text/plain": [
       "<Figure size 432x288 with 2 Axes>"
      ]
     },
     "metadata": {
      "needs_background": "light"
     },
     "output_type": "display_data"
    }
   ],
   "source": [
    "# Plotting with two different y-axes\n",
    "fig, ax1 = plt.subplots()\n",
    "\n",
    "color = 'tab:red'\n",
    "ax1.set_xlabel('Flux')\n",
    "ax1.set_ylabel('cavity1 freq', color=color)\n",
    "ax1.plot(fluxs, cross_kerrs1[:, 1], color=color)\n",
    "ax1.plot(fluxs, cross_kerrs[:, 1],'--',color=color)\n",
    "ax1.tick_params(axis='y', labelcolor=color)\n",
    "plt.ylim(7.004,7.0045)\n",
    "ax2 = ax1.twinx()  # instantiate a second axes that shares the same x-axis\n",
    "color = 'tab:blue'\n",
    "ax2.set_ylabel('cavity2 freq', color=color)  # we already handled the x-label with ax1\n",
    "ax2.plot(fluxs, cross_kerrs1[:, 2], color=color)\n",
    "ax2.plot(fluxs, cross_kerrs[:, 2], '--',color=color)\n",
    "ax2.tick_params(axis='y', labelcolor=color)\n",
    "\n",
    "fig.tight_layout()  # to ensure the right y-label is not slightly clipped\n",
    "plt.show()"
   ]
  },
  {
   "cell_type": "code",
   "execution_count": 78,
   "id": "fe03e5fa",
   "metadata": {},
   "outputs": [
    {
     "data": {
      "image/png": "[encoded data removed]",
      "text/plain": [
       "<Figure size 432x288 with 2 Axes>"
      ]
     },
     "metadata": {
      "needs_background": "light"
     },
     "output_type": "display_data"
    }
   ],
   "source": [
    "# Plotting with two different y-axes\n",
    "fig, ax1 = plt.subplots()\n",
    "\n",
    "color = 'tab:red'\n",
    "ax1.set_xlabel('Flux')\n",
    "ax1.set_ylabel('cavit1-snail cross kerr', color=color)\n",
    "ax1.plot(fluxs, cross_kerrs1[:, 3], color=color)\n",
    "ax1.plot(fluxs, cross_kerrs[:, 3],'--', color=color)\n",
    "ax1.set_ylim(-1e-4,3e-4)\n",
    "ax1.tick_params(axis='y', labelcolor=color)\n",
    "ax2 = ax1.twinx()  # instantiate a second axes that shares the same x-axis\n",
    "color = 'tab:blue'\n",
    "ax2.set_ylabel('cavit2-snail cross kerr', color=color)  # we already handled the x-label with ax1\n",
    "ax2.plot(fluxs, cross_kerrs1[:, 4], color=color)\n",
    "ax2.plot(fluxs, cross_kerrs[:, 4],'--', color=color)\n",
    "ax2.set_ylim(-1e-4,1e-4)\n",
    "ax2.tick_params(axis='y', labelcolor=color)\n",
    "\n",
    "fig.tight_layout()  # to ensure the right y-label is not slightly clipped\n",
    "plt.show()"
   ]
  },
  {
   "cell_type": "code",
   "execution_count": 69,
   "id": "b9825973",
   "metadata": {
    "scrolled": false
   },
   "outputs": [
    {
     "data": {
      "image/png": "[encoded data removed]",
      "text/plain": [
       "<Figure size 432x288 with 2 Axes>"
      ]
     },
     "metadata": {
      "needs_background": "light"
     },
     "output_type": "display_data"
    }
   ],
   "source": [
    "# Plotting with two different y-axes\n",
    "fig, ax1 = plt.subplots()\n",
    "\n",
    "color = 'tab:red'\n",
    "ax1.set_xlabel('Flux')\n",
    "ax1.set_ylabel('cavity1 self kerr', color=color)\n",
    "ax1.plot(fluxs, cross_kerrs[:, 5],'--', color=color)\n",
    "ax1.plot(fluxs, cross_kerrs1[:, 5], color=color)\n",
    "ax1.tick_params(axis='y', labelcolor=color)\n",
    "\n",
    "ax2 = ax1.twinx()  # instantiate a second axes that shares the same x-axis\n",
    "color = 'tab:blue'\n",
    "ax2.set_ylabel('cavity2 self kerr', color=color)  # we already handled the x-label with ax1\n",
    "ax2.plot(fluxs, cross_kerrs[:, 6],'--', color=color)\n",
    "ax2.plot(fluxs, cross_kerrs1[:, 6], color=color)\n",
    "ax2.tick_params(axis='y', labelcolor=color)\n",
    "# ax1.set_ylim(-1e-6,1e-7)\n",
    "# ax2.set_ylim(-1e-7,1e-7)\n",
    "fig.tight_layout()  # to ensure the right y-label is not slightly clipped\n",
    "plt.show()"
   ]
  },
  {
   "cell_type": "code",
   "execution_count": null,
   "id": "c4ffe375",
   "metadata": {},
   "outputs": [],
   "source": []
  }
 ],
 "metadata": {
  "kernelspec": {
   "display_name": "Python 3 (ipykernel)",
   "language": "python",
   "name": "python3"
  },
  "language_info": {
   "codemirror_mode": {
    "name": "ipython",
    "version": 3
   },
   "file_extension": ".py",
   "mimetype": "text/x-python",
   "name": "python",
   "nbconvert_exporter": "python",
   "pygments_lexer": "ipython3",
   "version": "3.8.3"
  }
 },
 "nbformat": 4,
 "nbformat_minor": 5
}
