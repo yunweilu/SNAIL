{
 "cells": [
  {
   "cell_type": "code",
   "execution_count": 1,
   "id": "571dcb40",
   "metadata": {},
   "outputs": [],
   "source": [
    "from matplotlib import pyplot as plt\n",
    "from systemclass import SNAIL,SNAIL_sweep,Cavity, SNAILC, SNAILC_sweep, SNAILCC, SNAILCC_sweep\n",
    "import numpy as np\n",
    "from joblib import Parallel, delayed"
   ]
  },
  {
   "cell_type": "code",
   "execution_count": 2,
   "id": "9513d0d1",
   "metadata": {},
   "outputs": [],
   "source": [
    "def sort(energies,U,H):\n",
    "    diagonal_elements = np.diag(H)\n",
    "\n",
    "    # Find the index of the closest diagonal element for each eigenvalue\n",
    "    closest_indices = np.argmin(abs(energies[:, np.newaxis] - diagonal_elements), axis=1)\n",
    "\n",
    "    # Sort energies and U according to the indices of closest diagonal elements\n",
    "    sorted_energies = energies[np.argsort(closest_indices)]\n",
    "    U = U[:, np.argsort(closest_indices)]\n",
    "    return sorted_energies,U"
   ]
  },
  {
   "cell_type": "code",
   "execution_count": 3,
   "id": "13db4c26",
   "metadata": {},
   "outputs": [],
   "source": [
    "def calculate_overlap(state1, state2):\n",
    "    return abs((state1.dag() * state2)[0,0])**2\n",
    "def find_optimal_k(A, B, D):\n",
    "    # Define a large initial minimum difference\n",
    "    min_diff = float('inf')\n",
    "    optimal_k = None\n",
    "    \n",
    "    # Iterate over a range of possible k values\n",
    "    # The range can be adjusted based on expected size of k or other insights you have about your problem\n",
    "    for k in range(-1000, 1000):\n",
    "        # Calculate the difference for this value of k\n",
    "        diff = abs(A - (B + k * D))\n",
    "        \n",
    "        # If this is the smallest difference we've found so far, update min_diff and optimal_k\n",
    "        if diff < min_diff:\n",
    "            min_diff = diff\n",
    "            optimal_k = k\n",
    "            \n",
    "    return optimal_k\n",
    "def T1f(der):\n",
    "    factor = np.sqrt(2*np.abs(np.log(2*np.pi*1*1e-5)))\n",
    "    return np.abs(1/(factor*10**-6*der))"
   ]
  },
  {
   "cell_type": "code",
   "execution_count": 53,
   "id": "44da900b",
   "metadata": {},
   "outputs": [],
   "source": [
    "omega_c1 = 3.*2*np.pi\n",
    "g_int1 = 0.15*2*np.pi\n",
    "omega_c2 = 7*2*np.pi\n",
    "g_int2 = 0.15*2*np.pi"
   ]
  },
  {
   "cell_type": "code",
   "execution_count": 54,
   "id": "dd10815f",
   "metadata": {},
   "outputs": [],
   "source": [
    "## import numpy as np\n",
    "import matplotlib.pyplot as plt\n",
    "import scipy as sci\n",
    "from autograd.extend import primitive, defvjp\n",
    "from qutip import *\n",
    "def annihilation(dim):\n",
    "    return np.diag(np.sqrt(np.arange(1,dim)),1)\n",
    "def creation(dim):\n",
    "    return np.diag(np.sqrt(np.arange(1,dim)),-1)\n",
    "def SNAIL_H(phi_ex,beta,N,Ej,Ec):\n",
    "    phi_ex = 2*np.pi*phi_ex\n",
    "    def Us_min(phi_ex):\n",
    "        def U_s(phi): \n",
    "            return (-beta*np.cos(phi-phi_ex)-N*np.cos((phi)/N))\n",
    "        phi_min = sci.optimize.minimize(U_s,0).x\n",
    "        return phi_min\n",
    "    \n",
    "    def phi_minde(ans, phi_ex):\n",
    "        def phi_minde_vjp(g):\n",
    "            c2 = beta*np.cos(ans - phi_ex) + 1/N*np.cos(ans/N)\n",
    "            return g*beta*np.cos(ans - phi_ex)/c2\n",
    "        return phi_minde_vjp\n",
    "\n",
    "    phi_min = Us_min(phi_ex)\n",
    "    # potential expansion around minimum\n",
    "    c2 = beta*np.cos(phi_min - phi_ex) + 1/N*np.cos(phi_min/N)\n",
    "    omega_s = np.sqrt(8*c2*Ej*Ec)\n",
    "    phi_zpf = np.power(2*Ec/(Ej*c2),1/4)\n",
    "    g2 = Ej*phi_zpf**2*c2/2\n",
    "    sdim = 10\n",
    "    s = annihilation(sdim)\n",
    "    sd = creation(sdim)\n",
    "    x2 = np.matmul(s+sd,s+sd)\n",
    "    c3 = (N**2-1)/N**2*np.sin(phi_min/N)\n",
    "    g3 = Ej*phi_zpf**3*c3/3/2\n",
    "    c4 = -beta*np.cos(phi_min-phi_ex) -1/N**3*np.cos(phi_min/N)\n",
    "\n",
    "    g4 = Ej*phi_zpf**4*c4/4/3/2\n",
    "    Hs = omega_s * np.matmul(sd,s)\n",
    "    \n",
    "    return Hs,-1j*(s-sd),phi_zpf,c2,c3\n",
    "from qutip import propagator,floquet_modes,Qobj,Options,basis\n",
    "def annihilation(dim):\n",
    "    return np.diag(np.sqrt(np.arange(1,dim)),1)\n",
    "def creation(dim):\n",
    "    return np.diag(np.sqrt(np.arange(1,dim)),-1)\n",
    "def energy_diff2(phi_ex):\n",
    "    #snail parameters\n",
    "    EJ = 70*2*np.pi\n",
    "    EC = 0.177*2*np.pi\n",
    "    beta = 0.12\n",
    "    ng = 0\n",
    "    ncut = 300\n",
    "    N = 3\n",
    "    dims = 10\n",
    "    snail = SNAIL(EJ,EC,beta,ng,ncut,phi_ex,N,dims)\n",
    "    H0,v,phi_zpf,c2,c4 = SNAIL_H(phi_ex,beta,N,EJ,EC)\n",
    "    Hs,charge_op = snail.spectrum_charge()\n",
    "    omegas = H0[1][1]-H0[0,0]\n",
    "    \n",
    "    #cavity1 parameters\n",
    "#     omega_c1 = 7*2*np.pi\n",
    "#     g_int1 = 0.15*2*np.pi\n",
    "    dimc1 = 12\n",
    "    cavity1 = Cavity(omega_c1,g_int1,dimc1)\n",
    "    \n",
    "    #cavity1 parameters\n",
    "#     omega_c2 = 3*2*np.pi\n",
    "#     g_int2 = 0.15*2*np.pi\n",
    "    dimc2 = 12\n",
    "    cavity2 = Cavity(omega_c2,g_int2,dimc2)\n",
    "    \n",
    "    Hc1, Vc1 = cavity1.hamiltonian()\n",
    "    Hc2, Vc2 = cavity2.hamiltonian()\n",
    "    \n",
    "    Ic1 = np.identity(dimc1)\n",
    "    Ic2 = np.identity(dimc2)\n",
    "    Is = np.identity(dims)\n",
    "    \n",
    "    Hs = np.kron(np.kron(Hs,Ic1),Ic2)\n",
    "    Hc1 = np.kron(np.kron(Is,Hc1),Ic2)\n",
    "    Hc2 = np.kron(np.kron(Is,Ic1),Hc2)\n",
    "\n",
    "    H_int1 = cavity1.g_int * np.kron(np.kron(charge_op,Vc1),Ic2) * 2 * ((2 * snail.EC/ snail.EJ) ** 0.25)\n",
    "    H_int2 = cavity2.g_int * np.kron(np.kron(charge_op,Ic1),Vc2) * 2 * ((2 * snail.EC / snail.EJ) ** 0.25)\n",
    "    \n",
    "    H = Hs + Hc1 + Hc2 + H_int1 + H_int2\n",
    "\n",
    "    energy,U = np.linalg.eigh(H)\n",
    "    energy,U = sort(energy,U,H)\n",
    "    energy = energy - energy[0]*np.ones(len(energy))\n",
    "    omegas = snail.omegas\n",
    "    indexs1 = np.argmin(np.abs(energy - omegas * np.ones(len(energy))))\n",
    "    energys1 = energy[indexs1]\n",
    "    indexs2 = np.argmin(np.abs(energy - (2*omegas ) * np.ones(len(energy))))\n",
    "    anh = energy[indexs2] - 2*energys1\n",
    "    \n",
    "    indexc11 = np.argmin(np.abs(energy - omega_c1 * np.ones(len(energy))))\n",
    "    energyc11 = energy[indexc11]\n",
    "    indexc12 = np.argmin(np.abs(energy - 2 * omega_c1 * np.ones(len(energy))))\n",
    "    energyc12 = energy[indexc12]\n",
    "    indexsc11 = np.argmin(np.abs(energy - (energys1+energyc11) * np.ones(len(energy))))\n",
    "    energysc11 = energy[indexsc11]\n",
    "    starkshift11 = energysc11  - energyc11 - energys1\n",
    "    print(energyc12/2/np.pi,energyc11/2/np.pi)\n",
    "    selfkerr1 = energyc12 - 2*energyc11\n",
    "    \n",
    "    indexc21 = np.argmin(np.abs(energy - omega_c2 * np.ones(len(energy))))\n",
    "    energyc21 = energy[indexc21]\n",
    "    indexc22 = np.argmin(np.abs(energy - 2 * omega_c2 * np.ones(len(energy))))\n",
    "    energyc22 = energy[indexc22]\n",
    "    indexsc21 = np.argmin(np.abs(energy - (omegas+omega_c2) * np.ones(len(energy))))\n",
    "    energysc21 = energy[indexsc21]\n",
    "    indexsc22 = np.argmin(np.abs(energy - (omegas+2*omega_c2) * np.ones(len(energy))))\n",
    "    energysc22 = energy[indexsc22]\n",
    "    \n",
    "    starkshift21 = energysc21  - energyc21 - energys1\n",
    "    selfkerr2 = energyc22 - 2*energyc21\n",
    "    starkshift22 = energysc22  - 2*energyc21 - energys1 - 2*starkshift21 - 2*selfkerr2\n",
    "    \n",
    "    index12 = np.argmin(np.abs(energy - energyc11* np.ones(len(energy)) - energyc21 * np.ones(len(energy))))\n",
    "    energy12 = energy[index12]\n",
    "    index121 = np.argmin(np.abs(energy - (omega_c2+omega_c1+omegas) * np.ones(len(energy))))\n",
    "    energy121 = energy[index121]\n",
    "    crosskerr = energy12 - energyc11 - energyc21\n",
    "    scrosskerr = energy121 - energyc11 - energyc21 - energys1 - starkshift11 - starkshift21\n",
    "#     g = (cavity1.g_int * 2 * ((2 * snail.EC/ snail.EJ) ** 0.25)/2/phi_zpf)\n",
    "#     energyc11 = g**2/(omega_c1-omegas)\n",
    "#     energyc21 = g**2/(omega_c2-omegas)\n",
    "    return crosskerr, energyc11, energyc21,  starkshift11, starkshift21, selfkerr1, selfkerr2,anh,energys1,c4[0]\n",
    "#     return energys1,anh,energyc11,selfkerr1, starkshift11,starkshift12,energyc21,selfkerr2, starkshift21,starkshift22,crosskerr,scrosskerr"
   ]
  },
  {
   "cell_type": "code",
   "execution_count": 55,
   "id": "f63fe940",
   "metadata": {},
   "outputs": [
    {
     "name": "stdout",
     "output_type": "stream",
     "text": [
      "5.988621139800158 2.99431057581043\n"
     ]
    },
    {
     "data": {
      "text/plain": [
       "(-3.205553473861755e-05,\n",
       " 18.81380821506454,\n",
       " 44.214935218117155,\n",
       " -0.0003099740381742322,\n",
       " -0.05816535358707853,\n",
       " -7.427166082152326e-08,\n",
       " -0.003098724092780003,\n",
       " -0.3220907268190274,\n",
       " 41.503761908935644,\n",
       " 0.0)"
      ]
     },
     "execution_count": 55,
     "metadata": {},
     "output_type": "execute_result"
    }
   ],
   "source": [
    "energy_diff2(0)"
   ]
  },
  {
   "cell_type": "code",
   "execution_count": 56,
   "id": "aab58232",
   "metadata": {},
   "outputs": [],
   "source": [
    "fluxs = np.linspace(0., 0.5, 100)\n",
    "result = Parallel(n_jobs=-1)(delayed(energy_diff2)(flux) for flux in fluxs)\n",
    "result = np.array(result)"
   ]
  },
  {
   "cell_type": "code",
   "execution_count": 57,
   "id": "c70aaca4",
   "metadata": {},
   "outputs": [
    {
     "data": {
      "text/plain": [
       "[<matplotlib.lines.Line2D at 0x7fbef7e174c0>]"
      ]
     },
     "execution_count": 57,
     "metadata": {},
     "output_type": "execute_result"
    },
    {
     "data": {
      "image/png": "[encoded data removed]",
      "text/plain": [
       "<Figure size 432x288 with 1 Axes>"
      ]
     },
     "metadata": {
      "needs_background": "light"
     },
     "output_type": "display_data"
    }
   ],
   "source": [
    "plt.plot(fluxs,result[:,-2]/2/np.pi)"
   ]
  },
  {
   "cell_type": "code",
   "execution_count": 58,
   "id": "37d58735",
   "metadata": {},
   "outputs": [],
   "source": [
    "def app(phi_ex):\n",
    "    EJ = 70*2*np.pi\n",
    "    EC = 0.177*2*np.pi\n",
    "    beta = 0.12\n",
    "    ng = 0\n",
    "    ncut = 300\n",
    "    N = 3\n",
    "    dims = 10\n",
    "    snail = SNAIL(EJ,EC,beta,ng,ncut,phi_ex,N,dims)\n",
    "    H0,v,phi_zpf,c2,c4 = SNAIL_H(phi_ex,beta,N,EJ,EC)\n",
    "    g3 = snail.g3\n",
    "    g4 = snail.g4\n",
    "    omega_s = H0[1][1]-H0[0,0]\n",
    "    g = (g_int1 * 2 * ((2 * snail.EC/ snail.EJ) ** 0.25)/2/phi_zpf)\n",
    "    energyc11 = omega_c1 + g**2/(omega_c1-omega_s)\n",
    "    energyc21 = omega_c2 + g**2/(omega_c2-omega_s)\n",
    "    \n",
    "    omegap = 1/((8*omega_c1**2-3*omega_s**2)/(omega_s*(2*omega_c1-omega_s)*(omega_s+2*omega_c1)))\n",
    "    selfkerr1 =(12*g4 - 72*g3**2/omega_s*(omega_s/omegap/2))*(g/(omega_s-omega_c1))**4\n",
    "    omegap = 1/((omega_c1**2-6*omega_s**2)/(omega_s*(omega_c1-2*omega_s)*(2*omega_s+omega_c1)))\n",
    "    starkshift11 = 24*(g4-3*g3**2/omega_s*omega_s/omegap)*(g/(omega_s-omega_c1))**2\n",
    "    \n",
    "    omegap = 1/((8*omega_c2**2-3*omega_s**2)/(omega_s*(2*omega_c2-omega_s)*(omega_s+2*omega_c2)))\n",
    "    selfkerr2 =(12*g4 - 72*g3**2/omega_s*(omega_s/omegap/2))*(g/(omega_s-omega_c2))**4\n",
    "    omegap = 1/((omega_c2**2-6*omega_s**2)/(omega_s*(omega_c2-2*omega_s)*(2*omega_s+omega_c2)))\n",
    "    starkshift21 = 24*(g4-3*g3**2/omega_s*omega_s/omegap)*(g/(omega_s-omega_c2))**2\n",
    "    \n",
    "    crosskerr = (24*g4-72*g3**2/omega_s*(-omega_s/omegap)/2)*(g/(omega_s-omega_c1))**2*(g/(omega_s-omega_c2))**2\n",
    "    return crosskerr, energyc11, energyc21,  starkshift11, starkshift21, selfkerr1, selfkerr2,"
   ]
  },
  {
   "cell_type": "code",
   "execution_count": 59,
   "id": "2908a8e4",
   "metadata": {},
   "outputs": [],
   "source": [
    "def coeff(omega_s,omega_c1,omega_c2):\n",
    "\n",
    "    omegap = 1/( 1/(omega_c1-omega_c2-omega_s)+1/(-omega_c1+omega_c2-omega_s)+1/(omega_c1+omega_c2-omega_s)+1/(-omega_c1-omega_c2-omega_s))-2/omega_s\n",
    "    ck = (-omega_s/omegap)/2\n",
    "    omegap = 1/((8*omega_c1**2-3*omega_s**2)/(omega_s*(2*omega_c1-omega_s)*(omega_s+2*omega_c1)))\n",
    "    sk1 = omega_s/omegap/2 \n",
    "    omegap = 1/((8*omega_c2**2-3*omega_s**2)/(omega_s*(2*omega_c2-omega_s)*(omega_s+2*omega_c2)))\n",
    "    sk2 = omega_s/omegap/2 \n",
    "    omegap = 1/((omega_c1**2-6*omega_s**2)/(omega_s*(omega_c1-2*omega_s)*(2*omega_s+omega_c1)))\n",
    "    ss1 = omega_s/omegap \n",
    "    omegap = 1/((omega_c2**2-6*omega_s**2)/(omega_s*(omega_c2-2*omega_s)*(2*omega_s+omega_c2)))\n",
    "    ss2 = omega_s/omegap \n",
    "    c1 = 1/(np.sqrt(omega_c1)-omega_s/np.sqrt(omega_c1))\n",
    "    c2 = 1/(np.sqrt(omega_c2)-omega_s/np.sqrt(omega_c2))\n",
    "    return ck,sk1,sk2,ss1,ss2,c1,c2"
   ]
  },
  {
   "cell_type": "code",
   "execution_count": 60,
   "id": "c13f610c",
   "metadata": {},
   "outputs": [
    {
     "data": {
      "text/plain": [
       "(1.7571884984025559,\n",
       " -0.13636363636363635,\n",
       " 0.9269005847953218,\n",
       " 1.5494505494505495,\n",
       " 1.9803921568627452,\n",
       " -0.8660254037844384,\n",
       " 1.322875655532295)"
      ]
     },
     "execution_count": 60,
     "metadata": {},
     "output_type": "execute_result"
    }
   ],
   "source": [
    "coeff(5.0,3,7)"
   ]
  },
  {
   "cell_type": "code",
   "execution_count": 61,
   "id": "d13e9ba2",
   "metadata": {},
   "outputs": [],
   "source": [
    "result_app = Parallel(n_jobs=-1)(delayed(app)(flux) for flux in fluxs)\n",
    "result_app = np.array(result_app)"
   ]
  },
  {
   "cell_type": "code",
   "execution_count": 62,
   "id": "98b8d11d",
   "metadata": {},
   "outputs": [
    {
     "data": {
      "text/plain": [
       "[<matplotlib.lines.Line2D at 0x7fbefff8cf10>]"
      ]
     },
     "execution_count": 62,
     "metadata": {},
     "output_type": "execute_result"
    },
    {
     "data": {
      "image/png": "[encoded data removed]",
      "text/plain": [
       "<Figure size 432x288 with 1 Axes>"
      ]
     },
     "metadata": {
      "needs_background": "light"
     },
     "output_type": "display_data"
    }
   ],
   "source": [
    "plt.plot(fluxs,result[:,0]/2/np.pi)\n",
    "plt.plot(fluxs,result_app[:,0]/2/np.pi)\n",
    "# plt.ylim(-1e-7,1e-7)"
   ]
  },
  {
   "cell_type": "code",
   "execution_count": 63,
   "id": "bb16930b",
   "metadata": {},
   "outputs": [
    {
     "data": {
      "text/plain": [
       "[<matplotlib.lines.Line2D at 0x7fbfa29ad5b0>]"
      ]
     },
     "execution_count": 63,
     "metadata": {},
     "output_type": "execute_result"
    },
    {
     "data": {
      "image/png": "[encoded data removed]",
      "text/plain": [
       "<Figure size 432x288 with 1 Axes>"
      ]
     },
     "metadata": {
      "needs_background": "light"
     },
     "output_type": "display_data"
    }
   ],
   "source": [
    "plt.plot(fluxs,result[:,1]/2/np.pi)\n",
    "plt.plot(fluxs,result_app[:,1]/2/np.pi)\n",
    "# plt.ylim(-1e-4,1e-4)"
   ]
  },
  {
   "cell_type": "code",
   "execution_count": 64,
   "id": "92a269c4",
   "metadata": {},
   "outputs": [
    {
     "data": {
      "text/plain": [
       "[<matplotlib.lines.Line2D at 0x7fbfa2eb5fd0>]"
      ]
     },
     "execution_count": 64,
     "metadata": {},
     "output_type": "execute_result"
    },
    {
     "data": {
      "image/png": "[encoded data removed]",
      "text/plain": [
       "<Figure size 432x288 with 1 Axes>"
      ]
     },
     "metadata": {
      "needs_background": "light"
     },
     "output_type": "display_data"
    }
   ],
   "source": [
    "plt.plot(fluxs,result[:,2]/2/np.pi)\n",
    "plt.plot(fluxs,result_app[:,2]/2/np.pi)\n",
    "# plt.ylim(-1e-6,1e-6)"
   ]
  },
  {
   "cell_type": "code",
   "execution_count": 65,
   "id": "0bffa8fb",
   "metadata": {},
   "outputs": [
    {
     "data": {
      "text/plain": [
       "[<matplotlib.lines.Line2D at 0x7fbfa2ccc7c0>]"
      ]
     },
     "execution_count": 65,
     "metadata": {},
     "output_type": "execute_result"
    },
    {
     "data": {
      "image/png": "[encoded data removed]",
      "text/plain": [
       "<Figure size 432x288 with 1 Axes>"
      ]
     },
     "metadata": {
      "needs_background": "light"
     },
     "output_type": "display_data"
    }
   ],
   "source": [
    "plt.plot(fluxs,result[:,3]/2/np.pi)\n",
    "plt.plot(fluxs,result_app[:,3]/2/np.pi)\n",
    "# plt.ylim(-5e-7,5e-7)"
   ]
  },
  {
   "cell_type": "code",
   "execution_count": 70,
   "id": "49ee19b4",
   "metadata": {},
   "outputs": [
    {
     "data": {
      "text/plain": [
       "(-0.0001, 0.0001)"
      ]
     },
     "execution_count": 70,
     "metadata": {},
     "output_type": "execute_result"
    },
    {
     "data": {
      "image/png": "[encoded data removed]",
      "text/plain": [
       "<Figure size 432x288 with 1 Axes>"
      ]
     },
     "metadata": {
      "needs_background": "light"
     },
     "output_type": "display_data"
    }
   ],
   "source": [
    "plt.plot(fluxs,result[:,4]/2/np.pi)\n",
    "plt.plot(fluxs,result_app[:,4]/2/np.pi)\n",
    "plt.ylim(-1e-4,1e-4)"
   ]
  },
  {
   "cell_type": "code",
   "execution_count": 72,
   "id": "1db9d9b7",
   "metadata": {},
   "outputs": [
    {
     "name": "stdout",
     "output_type": "stream",
     "text": [
      "3.990024365718098 1.9950121835938635\n",
      "3.9899649250347746 1.9949824635130322\n",
      "5.988438307678434 2.9942191654053225\n",
      "5.9886209201501694 2.9943104659903024\n",
      "5.987265524339753 2.9936327326905645\n",
      "3.9897335223336414 1.9948667635063586\n",
      "3.989942426098161 1.9949712141540725\n",
      "5.98853218692631 2.994266101688532\n",
      "5.9870052127857365 2.9935025802715454\n",
      "5.988188584484671 2.9940943249309635\n",
      "3.9896418809832173 1.9948209434258926\n",
      "3.9899921177796682 1.9949960597610337\n",
      "3.9896069901947864 1.9948034982481893\n",
      "5.988190846962137 2.9940954556898043\n",
      "5.987141620316619 2.993570782553887\n",
      "5.987810513699494 2.9939051469541145\n"
     ]
    },
    {
     "data": {
      "text/plain": [
       "(-1e-06, 1e-06)"
      ]
     },
     "execution_count": 72,
     "metadata": {},
     "output_type": "execute_result"
    },
    {
     "name": "stdout",
     "output_type": "stream",
     "text": [
      "3.990022289450446 1.9950111454684993\n",
      "3.9890010624902823 1.9945005286286495\n",
      "3.9897050416449984 1.9948525233481271\n",
      "5.988623019891652 2.994311515856665\n",
      "5.9870746818734375 2.9935373141805885\n",
      "5.98859427502171 2.994297144035469\n"
     ]
    },
    {
     "data": {
      "image/png": "[encoded data removed]",
      "text/plain": [
       "<Figure size 432x288 with 1 Axes>"
      ]
     },
     "metadata": {
      "needs_background": "light"
     },
     "output_type": "display_data"
    },
    {
     "name": "stdout",
     "output_type": "stream",
     "text": [
      "3.9899699814646135 1.9949849917041518\n",
      "3.989606990194787 1.9948034982481926\n",
      "3.9897848421251663 1.9948924230715597\n",
      "3.9889139318824363 1.994456958495705\n",
      "5.987889510901361 2.9939444059153413\n",
      "5.98847583273875 2.9942379264077665\n",
      "5.98677830986465 2.9933891297689392\n",
      "3.9898188265972787 1.9949094150955355\n",
      "3.9899362028294627 1.9949681025509296\n",
      "3.9895301658351783 1.9947650864935345\n",
      "5.988591213720254 2.994295613501459\n",
      "5.98854787043835 2.994273942946216\n",
      "3.9900296322615305 1.9950148168444466\n",
      "3.989443746161513 1.994721876984286\n",
      "3.989915988774862 1.994957995627919\n",
      "3.9894662396999805 1.9947331236890942\n",
      "5.988621261926771 2.994310636912605\n",
      "5.985870425591192 2.9929351699786357\n",
      "5.988615636773964 2.99430782441875\n",
      "3.989999588543382 1.9949997951102285\n",
      "3.9891420129655155 1.994571008352578\n",
      "3.9900030433728806 1.9950015225100626\n",
      "3.989167838351389 1.9945839215383978\n",
      "5.987440626316908 2.9937202772117724\n",
      "5.9884632278403505 2.9942316244318263\n",
      "3.990035293106178 1.9950176472445242\n",
      "3.989167838351379 1.994583921538371\n",
      "3.990026280419352 1.9950131409367742\n",
      "5.988023939444671 2.9940120737431233\n",
      "5.987728044769968 2.9938639532507594\n",
      "5.984589059975788 2.9922943783444116\n",
      "3.989624721534434 1.9948123638092021\n",
      "3.989999588543395 1.994999795110225\n",
      "5.988238135374119 2.9941190934015642\n",
      "5.9865331013196625 2.9932665237284675\n",
      "5.988607002823226 2.9943035076383495\n",
      "3.989772682622098 1.9948863433974444\n",
      "3.9899087111042606 1.9949543568312436\n",
      "3.989372937627228 1.9946864727905675\n",
      "5.988572831977985 2.994286423089457\n",
      "5.984592898845625 2.9922962979246983\n",
      "5.988570713738144 2.994285363980067\n",
      "5.985561647008714 2.992780766027356\n",
      "3.9898587870679036 1.9949293950919613\n",
      "3.9897195287372114 1.994859766799555\n",
      "3.989021960354783 1.9945109784532302\n",
      "5.9884899811966 2.994245000179234\n",
      "5.988555993190446 2.9942780040975747\n",
      "5.985663733677327 2.992831814938828\n",
      "3.989690047020423 1.9948450261338944\n",
      "3.9898293660456896 1.9949146847555712\n",
      "5.987686791441365 2.9938433349568916\n",
      "5.985565019415382 2.9927824521246515\n",
      "5.988021602568993 2.9940109109754016\n",
      "5.985261548861813 2.992630696427929\n",
      "3.989995947898726 1.9949979748037439\n",
      "3.9900296322615 1.9950148168445037\n",
      "3.9892461370215178 1.9946230719079288\n",
      "5.988084082985337 2.9940421024782866\n",
      "5.988319681902747 2.9941598591113556\n",
      "5.984831400546778 2.9924155801754084\n",
      "3.9899159887748565 1.9949579956279446\n",
      "3.989849334804904 1.9949246690158347\n",
      "3.9890010624902748 1.9945005286286008\n",
      "5.988615310226639 2.99430766119421\n",
      "5.985667058857413 2.992833477404411\n",
      "5.988610330701134 2.9943051715014932\n",
      "3.9900323576869705 1.9950161795464805\n",
      "3.98967453099374 1.9948372682214552\n",
      "5.988112394865039 2.9940562476181642\n",
      "5.988589102265386 2.9942945577820095\n",
      "3.9899087111042566 1.9949543568312371\n",
      "3.989969981464618 1.9949849917041802\n",
      "3.9894437461614913 1.9947218769842165\n",
      "5.988465385974258 2.994232703462849\n",
      "5.9852650620095496 2.9926324529570967\n",
      "5.988390551343046 2.9941952894424553\n",
      "3.9900030433728735 1.9950015225100608\n",
      "3.9889816675909175 1.994490830265964\n",
      "3.9897335223336343 1.9948667635063915\n",
      "3.989588676701154 1.9947943416103238\n",
      "5.987493790770128 2.9937468565372365\n",
      "5.987591578627913 2.993795743563027\n",
      "5.984566073496184 2.9922828817838596\n",
      "3.989948403610882 1.9949742028807849\n",
      "3.989569772315718 1.9947848895257159\n",
      "3.9900280353785753 1.9950140184094307\n",
      "3.9889344732323715 1.9944672304871496\n",
      "5.988565725616325 2.994282870094019\n",
      "5.9847680618918435 2.992383902815431\n",
      "5.988235891254051 2.9941179716367152\n",
      "3.990036866384926 1.9950184338777697\n",
      "3.98909165031034 1.9945458258024624\n",
      "3.9899229914680108 1.9949614969378766\n",
      "5.988139598400611 2.9940698416724163\n",
      "5.987268152229768 2.9936340461084003\n",
      "5.987849432495651 2.993924557173947\n",
      "3.9899541418608466 1.9949770719777529\n",
      "3.989323274541877 1.9946616411500198\n",
      "3.989818826597274 1.994909415095534\n",
      "3.988923007876794 1.9944614970893144\n",
      "5.98830223122687 2.994151135134237\n",
      "5.987638864676963 2.993819381008653\n",
      "5.986855681576042 2.993427815642908\n",
      "3.9899838733946313 1.994991937605342\n",
      "3.9890219603547954 1.9945109784532589\n",
      "3.990032357686982 1.9950161795464072\n",
      "3.9890916503103337 1.9945458258024653\n",
      "5.988214968442117 2.9941075128521346\n",
      "5.984621267545545 2.992310486283833\n",
      "5.988081776901317 2.9940409512888793\n",
      "3.989674530993738 1.9948372682215234\n",
      "3.989979450701267 1.9949897262787215\n",
      "5.988585568927993 2.994292791243324\n",
      "5.987927363462407 2.993961154904677\n",
      "3.990034466963266 1.9950172341763375\n",
      "3.9893483238165115 1.9946741658544633\n",
      "3.9898395315566875 1.9949197674498726\n",
      "3.989297846431856 1.9946489269852743\n",
      "5.98859638456998 2.9942981988022077\n",
      "5.988499240812064 2.994249629624543\n",
      "3.989922991467988 1.9949614969379046\n",
      "3.9899838733946345 1.9949919376053546\n",
      "3.9889481846619597 1.994474087015837\n",
      "5.988392736693086 2.994196382046667\n",
      "5.988279508836831 2.9941397758698622\n",
      "3.990017644103756 1.9950088228141063\n",
      "3.9892721072811868 1.9946360572515107\n",
      "3.9900222894504673 1.9950111454684334\n",
      "5.988165735961668 2.99408290467454\n",
      "5.98626185779509 2.9931308977582938\n",
      "5.988436139424587 2.9942180813248704\n",
      "3.9898293660456803 1.9949146847555994\n",
      "3.9890674529786794 1.9945337264106384\n",
      "3.990036492258613 1.9950182468160307\n",
      "3.9891938887216685 1.994596947139457\n",
      "5.988512212834358 2.994256115257903\n",
      "5.984569923751663 2.992284807065062\n",
      "5.987438068313415 2.9937189989571795\n",
      "5.985967570721057 2.9929837464190743\n",
      "3.9899011502874395 1.9949505764635365\n",
      "3.989044157691987 1.994522077973084\n",
      "3.9900368663849344 1.9950184338777306\n",
      "3.989397069497262 1.9946985387253195\n",
      "5.987594075832437 2.993796990932317\n",
      "5.986069645302834 2.9930347866863825\n",
      "5.987491254019104 2.993745589025875\n",
      "5.986442188732194 2.9932210666283323\n",
      "3.9898493348048873 1.9949246690157976\n",
      "3.989995947898739 1.994997974803735\n",
      "5.9886223609488445 2.9943111863995964\n",
      "5.984835120393523 2.99241744016568\n",
      "5.987887024490669 2.9939432168472773\n",
      "3.989876681743259 1.9949383423269587\n",
      "3.98919388872165 1.9945969471395337\n",
      "3.9900310725783945 1.9950155369972062\n",
      "3.9893483238165253 1.9946741658544813\n",
      "5.988558116870129 2.994279065924507\n",
      "5.984660344586568 2.99233003018222\n",
      "5.9882127153635105 2.994106386685427\n",
      "5.986698261421414 2.9933491053009487\n",
      "3.990035967994977 1.9950179846862732\n",
      "3.988963976889151 1.9944819840061192\n",
      "3.990012326468917 1.9950061640187298\n",
      "5.9878129354955245 2.9939063509405615\n",
      "5.98536329270847 2.992681575728522\n",
      "5.987542399448457 2.993771158300546\n",
      "5.9857657610464745 2.9928828335560174\n",
      "3.9899297269969325 1.994964864667566\n",
      "3.9889230078768025 1.9944614970893766\n",
      "3.9898079011476177 1.9949039524381846\n",
      "3.9890674529786705 1.9945337264106062\n",
      "5.987851854606549 2.9939257535427277\n",
      "5.988450002164481 2.9942250121163467\n",
      "5.9847057410093605 2.992352734821766\n",
      "3.9900364922586102 1.9950182468159956\n",
      "3.9893729376272304 1.9946864727905131\n",
      "3.9899596470371055 1.994979824539343\n",
      "3.98890205292809 1.9944510182010886\n",
      "5.987327881284835 2.9936639090220574\n",
      "5.986618438833163 2.993309193235901\n",
      "5.9885636047503255 2.9942818096726818\n",
      "5.986615538015197 2.993307743103858\n",
      "3.989705041644988 1.9948525233481644\n",
      "3.9898766817432634 1.9949383423269913\n",
      "5.987544915933236 2.993772415523414\n",
      "5.984991078740844 2.9924954364801177\n",
      "5.988530053642861 2.9942650350645907\n",
      "3.9900262804193467 1.9950131409367857\n",
      "3.989509457524271 1.994754732434604\n",
      "3.989690047020429 1.9948450261337727\n",
      "5.98861773845813 2.9943088752559186\n",
      "5.985078035337365 2.992538923359038\n",
      "5.987989610371601 2.9939949759787208\n",
      "5.985074432993161 2.992537122187027\n",
      "3.989807901147608 1.9949039524381105\n",
      "3.9892978464318682 1.994648926985324\n",
      "3.989641880983217 1.9948209434258706\n",
      "3.98914201296551 1.9945710083525574\n",
      "5.988623239460922 2.9943116256364344\n",
      "5.988421622377662 2.994210823443696\n",
      "3.990015070549282 1.9950075360475128\n",
      "3.989530165835175 1.99476508649352\n",
      "3.990006315837591 1.9950031587284858\n",
      "3.9889073620176365 1.9944536731164506\n",
      "5.988612434337263 2.9943062233140787\n",
      "5.98693315999121 2.993466554301346\n",
      "5.988137315581809 2.9940687011276887\n",
      "3.9900063158376033 1.9950031587284753\n",
      "3.988913931882434 1.994456958495727\n",
      "3.9900150705492807 1.995007536047487\n",
      "5.987958522980038 2.9939795744548694\n",
      "5.985970757299317 2.9929853395340693\n",
      "5.98840643278049 2.9942032293606613\n",
      "5.985166118992593 2.9925829735395766\n",
      "3.9897600853156545 1.9948800448250623\n",
      "3.9898932977906916 1.9949466502580144\n",
      "5.988994222302488 2.993962336975248\n",
      "5.986781141017003 2.993390545033783\n",
      "5.988110100894844 2.994055101863005\n",
      "5.986351695169325 2.9931758184427064\n",
      "3.9898395315566875 1.9949197674498962\n",
      "3.989772682622096 1.9948863433974047\n",
      "3.989272107281173 1.9946360572515132\n",
      "5.9886091076840735 2.9943045600629223\n",
      "5.985169677492609 2.992584752766977\n",
      "5.988373957679174 2.9941869935098837\n",
      "5.986163667749574 2.9930818007572677\n",
      "3.990031072578398 1.995015536997218\n",
      "3.989420682080359 1.9947103449909453\n",
      "3.989747036516927 1.994873520510103\n",
      "3.988903384675645 1.9944516841685371\n",
      "5.988376149273542 2.9941880892248673\n",
      "5.986701126726838 2.9933505376601115\n",
      "5.987325277741101 2.993662607835206\n",
      "5.986258801312201 2.993129369734961\n",
      "3.9897848421251565 1.9948924230715765\n",
      "3.9897600853156714 1.9948800448251245\n",
      "3.9889816675909255 1.9944908302659423\n",
      "5.988549997122861 2.994275006274092\n",
      "5.988510072137094 2.9942550449314727\n",
      "5.984617442711272 2.9923085737311417\n"
     ]
    },
    {
     "name": "stdout",
     "output_type": "stream",
     "text": [
      "3.9899880943110593 1.9949940480446249\n",
      "3.990017644103751 1.995008822814138\n",
      "5.988321894011107 2.994160965031342\n",
      "5.986858479915988 2.993429214481814\n",
      "6.0101891443786135 2.9939783990919495\n",
      "3.9896584800064887 1.9948292428315682\n",
      "3.9889020529280903 1.994451018201124\n",
      "3.990037165477595 1.9950185834230019\n",
      "3.9895094575242904 1.994754732434578\n",
      "5.988619721647527 2.994309866806814\n",
      "5.984709522341459 2.992354625593887\n",
      "5.9885834553907635 2.994291734483461\n",
      "5.985460114132509 2.992729993363491\n",
      "3.989867899222342 1.994933951116517\n",
      "3.989550270198524 1.9947751385730783\n",
      "3.990037090721779 1.9950185460452712\n",
      "5.988601087167379 2.994300549989992\n",
      "5.985463533837212 2.992731703129217\n",
      "5.988613207648987 2.994306609910561\n",
      "3.990009409185611 1.9950047053893638\n",
      "3.9899541418608404 1.9949770719777493\n",
      "5.988579443950606 2.994289728907297\n",
      "5.988598979352277 2.994299496089198\n",
      "3.9900334887951763 1.9950167450960854\n",
      "3.9894662396999836 1.9947331236890602\n",
      "3.9900200496298774 1.9950100255673235\n",
      "5.988605326663824 2.994302669639561\n",
      "5.987206088489354 2.993603015564639\n",
      "5.988603220410561 2.994301616519214\n",
      "3.9900123264689222 1.9950061640187653\n",
      "3.9897965772564397 1.9948982905632082\n",
      "3.989488146929534 1.9947440772258238\n",
      "5.9884521652358735 2.994226093611309\n",
      "5.988520339055422 2.9942601780665608\n",
      "5.9871389404045035 2.9935694430380217\n",
      "3.989974821663023 1.994987411780885\n",
      "3.989588676701169 1.99479434161032\n",
      "3.9899297269969507 1.994964864667602\n",
      "3.9892200286018573 1.9946100174226822\n",
      "5.987991975295663 2.993996144911291\n",
      "5.985769039357679 2.9928844725697044\n",
      "5.988338546329391 2.9941692900047543\n",
      "3.9897965772564397 1.994898290563181\n",
      "3.989858787067899 1.9949293950919302\n",
      "5.988423796066532 2.9942119102348173\n",
      "5.988300011645999 2.994150025504494\n"
     ]
    }
   ],
   "source": [
    "plt.plot(fluxs,result[:,5]/2/np.pi)\n",
    "plt.plot(fluxs,result_app[:,5]/2/np.pi)\n",
    "plt.ylim(-1e-6,1e-6)"
   ]
  },
  {
   "cell_type": "code",
   "execution_count": 68,
   "id": "dbc36be5",
   "metadata": {},
   "outputs": [
    {
     "data": {
      "text/plain": [
       "(-1e-06, 1e-06)"
      ]
     },
     "execution_count": 68,
     "metadata": {},
     "output_type": "execute_result"
    },
    {
     "data": {
      "image/png": "[encoded data removed]",
      "text/plain": [
       "<Figure size 432x288 with 1 Axes>"
      ]
     },
     "metadata": {
      "needs_background": "light"
     },
     "output_type": "display_data"
    }
   ],
   "source": [
    "plt.plot(fluxs,result[:,6]/2/np.pi)\n",
    "plt.plot(fluxs,result_app[:,6]/2/np.pi)\n",
    "plt.ylim(-1e-6,1e-6)"
   ]
  },
  {
   "cell_type": "code",
   "execution_count": null,
   "id": "13623d4d",
   "metadata": {},
   "outputs": [],
   "source": []
  }
 ],
 "metadata": {
  "kernelspec": {
   "display_name": "Python 3 (ipykernel)",
   "language": "python",
   "name": "python3"
  },
  "language_info": {
   "codemirror_mode": {
    "name": "ipython",
    "version": 3
   },
   "file_extension": ".py",
   "mimetype": "text/x-python",
   "name": "python",
   "nbconvert_exporter": "python",
   "pygments_lexer": "ipython3",
   "version": "3.9.7"
  }
 },
 "nbformat": 4,
 "nbformat_minor": 5
}
