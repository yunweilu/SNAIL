{
 "cells": [
  {
   "cell_type": "code",
   "execution_count": 620,
   "id": "6164821e",
   "metadata": {},
   "outputs": [],
   "source": [
    "from matplotlib import pyplot as plt\n",
    "from systemclass import SNAIL,SNAIL_sweep,Cavity, SNAILC, SNAILC_sweep, SNAILCC, SNAILCC_sweep\n",
    "import numpy as np\n",
    "from joblib import Parallel, delayed"
   ]
  },
  {
   "cell_type": "code",
   "execution_count": 621,
   "id": "db641c6b",
   "metadata": {},
   "outputs": [],
   "source": [
    "def sort(energies,U,H):\n",
    "    diagonal_elements = np.diag(H)\n",
    "\n",
    "    # Find the index of the closest diagonal element for each eigenvalue\n",
    "    closest_indices = np.argmin(abs(energies[:, np.newaxis] - diagonal_elements), axis=1)\n",
    "\n",
    "    # Sort energies and U according to the indices of closest diagonal elements\n",
    "    sorted_energies = energies[np.argsort(closest_indices)]\n",
    "    U = U[:, np.argsort(closest_indices)]\n",
    "    return sorted_energies,U"
   ]
  },
  {
   "cell_type": "code",
   "execution_count": 622,
   "id": "e42398b8",
   "metadata": {},
   "outputs": [],
   "source": [
    "def calculate_overlap(state1, state2):\n",
    "    return abs((state1.dag() * state2)[0,0])**2\n",
    "def find_optimal_k(A, B, D):\n",
    "    # Define a large initial minimum difference\n",
    "    min_diff = float('inf')\n",
    "    optimal_k = None\n",
    "    \n",
    "    # Iterate over a range of possible k values\n",
    "    # The range can be adjusted based on expected size of k or other insights you have about your problem\n",
    "    for k in range(-1000, 1000):\n",
    "        # Calculate the difference for this value of k\n",
    "        diff = abs(A - (B + k * D))\n",
    "        \n",
    "        # If this is the smallest difference we've found so far, update min_diff and optimal_k\n",
    "        if diff < min_diff:\n",
    "            min_diff = diff\n",
    "            optimal_k = k\n",
    "            \n",
    "    return optimal_k\n",
    "def T1f(der):\n",
    "    factor = np.sqrt(2*np.abs(np.log(2*np.pi*1*1e-5)))\n",
    "    return np.abs(1/(factor*10**-6*der))"
   ]
  },
  {
   "cell_type": "code",
   "execution_count": 623,
   "id": "b9ae38e3",
   "metadata": {},
   "outputs": [],
   "source": [
    "omega_c1 = 4.1*2*np.pi\n",
    "g_int1 = 0.15/2*1.9*2*np.pi\n",
    "omega_c2 = 5.3*2*np.pi\n",
    "g_int2 =0.15/2*0.7*2*np.pi"
   ]
  },
  {
   "cell_type": "code",
   "execution_count": 624,
   "id": "76c0c412",
   "metadata": {},
   "outputs": [],
   "source": [
    "from qutip import propagator,floquet_modes,Qobj,Options,basis\n",
    "def energy_diff(A,omega,flux):\n",
    "    #snail parameters\n",
    "    EJ = 100*2*np.pi\n",
    "    EC = 0.177*2*np.pi\n",
    "    beta = 0.12\n",
    "    ng = 0\n",
    "    ncut = 300\n",
    "    N = 3\n",
    "    dims = 10\n",
    "    snail = SNAIL(EJ,EC,beta,ng,ncut,flux,N,dims)\n",
    "    omegas = snail.omegas\n",
    "    \n",
    "    #cavity1 parameters\n",
    "    \n",
    "    \n",
    "    dimc1 = 5\n",
    "    cavity1 = Cavity(omega_c1,g_int1,dimc1)\n",
    "    \n",
    "    #cavity1 parameters\n",
    "\n",
    "    dimc2 = 5\n",
    "    cavity2 = Cavity(omega_c2,g_int2,dimc2)\n",
    "    snailcc = SNAILCC(snail,cavity1,cavity2)\n",
    "    \n",
    "    H0,Hc = snailcc.hamiltonian()\n",
    "    energy,U = np.linalg.eigh(H0)\n",
    "    U_dag = np.transpose(U.conjugate())\n",
    "    Hc = U_dag @ Hc @ U\n",
    "    H0 = U_dag @ H0 @ U\n",
    "    H0 = H0 - H0[0][0]*np.identity(len(H0))\n",
    "    indexc11 = np.argmin(np.abs(energy - omega_c1 * np.ones(len(energy))))\n",
    "    indexc21 = np.argmin(np.abs(energy - omega_c2 * np.ones(len(energy))))\n",
    "    index12 = np.argmin(np.abs(energy - omega_c2 * np.ones(len(energy)) - omega_c1 * np.ones(len(energy))))\n",
    "    indexs1 = np.argmin(np.abs(energy - omegas * np.ones(len(energy))))\n",
    "    indexsc1 = np.argmin(np.abs(energy - (omegas+omega_c1) * np.ones(len(energy))))\n",
    "    indexsc2 = np.argmin(np.abs(energy - (omegas+omega_c2) * np.ones(len(energy))))\n",
    "    indexc12 = np.argmin(np.abs(energy - 2 * omega_c1 * np.ones(len(energy))))\n",
    "    indexc22 = np.argmin(np.abs(energy - 2 * omega_c2 * np.ones(len(energy))))\n",
    "    H0 = Qobj(H0)\n",
    "    Hc = Qobj(Hc)\n",
    "    args = {'w': omega}\n",
    "    T = 2*np.pi/omega\n",
    "#     H = [H0, [Hc, lambda t, args: A*np.cos(args['w']*t)]] \n",
    "    H = [H0, [Hc, lambda t, args: A*np.cos(args['w']*t)]] \n",
    "    options = Options(nsteps=1000000)  # Increasing nsteps to 10000, adjust as needed\n",
    "    f_modes, f_energies = floquet_modes(H, T, args, False, options=options) \n",
    "    total_dim = dims*dimc1*dimc2\n",
    "    basis_states = [basis(total_dim, 0),basis(total_dim, indexc11), basis(total_dim, indexc21),basis(total_dim, index12),\n",
    "                   basis(total_dim, indexs1),basis(total_dim, indexsc1),basis(total_dim, indexsc2),\n",
    "                   basis(total_dim, indexc12),basis(total_dim, indexc22)]\n",
    "    \n",
    "    \n",
    "    max_overlap_indices = [0,0,0,0,0,0,0,0,0]\n",
    "    max_overlaps = [0,0,0,0,0,0,0,0,0]\n",
    "\n",
    "    for f_index, f_state in enumerate(f_modes):\n",
    "\n",
    "        # Loop over each basis state\n",
    "        for b_index, b_state in enumerate(basis_states):\n",
    "\n",
    "            # Calculate the overlap\n",
    "            overlap = calculate_overlap(f_state, b_state)\n",
    "\n",
    "            # If this is the maximum overlap for this basis state, store the index\n",
    "            if overlap > max_overlaps[b_index]:\n",
    "                max_overlaps[b_index] = overlap\n",
    "                max_overlap_indices[b_index] = f_index\n",
    "    energyg = f_energies[max_overlap_indices[0]]/2/np.pi\n",
    "    omega = 2*np.pi/T\n",
    "\n",
    "    energyc1p = f_energies[max_overlap_indices[1]]/2/np.pi\n",
    "    k = find_optimal_k(omega_c1/2/np.pi, energyc1p , omega/2/np.pi)\n",
    "    energyc1p = energyc1p + k *omega/2/np.pi - energyg\n",
    "    energyc2p = f_energies[max_overlap_indices[2]]/2/np.pi\n",
    "    k = find_optimal_k(omega_c2/2/np.pi, energyc2p, omega/2/np.pi)\n",
    "    energyc2p = energyc2p + k *omega/2/np.pi - energyg\n",
    "    \n",
    "    omega12 = f_energies[max_overlap_indices[3]]/2/np.pi\n",
    "    k = find_optimal_k(omega_c1/2/np.pi+omega_c2/2/np.pi, omega12 , omega/2/np.pi)\n",
    "    omega12 = omega12 +k *omega/2/np.pi - energyg\n",
    "    \n",
    "    diff = omega12 - energyc1p - energyc2p\n",
    "    \n",
    "    energys1 = f_energies[max_overlap_indices[4]]/2/np.pi\n",
    "    k = find_optimal_k(omegas/2/np.pi, energys1, omega/2/np.pi)\n",
    "    energys1 = energys1 + k*omega/2/np.pi - energyg\n",
    "    \n",
    "    energysc1 = f_energies[max_overlap_indices[5]]/2/np.pi\n",
    "    k = find_optimal_k((omega_c1+omegas)/2/np.pi, energysc1, omega/2/np.pi)\n",
    "    starkshift1 = energysc1 - energyg + k*omega/2/np.pi - energyc1p - energys1\n",
    "\n",
    "    energysc2 = f_energies[max_overlap_indices[6]]/2/np.pi\n",
    "    k = find_optimal_k((omega_c2+omegas)/2/np.pi, energysc2, omega/2/np.pi)\n",
    "    starkshift2 = energysc2 - energyg + k*omega/2/np.pi - energyc2p - energys1\n",
    "    \n",
    "    energyc12 = f_energies[max_overlap_indices[7]]/2/np.pi\n",
    "    k = find_optimal_k(2*omega_c1/2/np.pi, energyc12, omega/2/np.pi)\n",
    "    energyc12 = energyc12 +k*omega/2/np.pi\n",
    "    selfkerr1 = energyc12-energyg - 2*energyc1p\n",
    "    \n",
    "    energyc22 = f_energies[max_overlap_indices[8]]/2/np.pi\n",
    "    k = find_optimal_k(2*omega_c2/2/np.pi, energyc22, omega/2/np.pi)\n",
    "    energyc22 = energyc22 +k*omega/2/np.pi\n",
    "    selfkerr2 = energyc22-energyg - 2*energyc2p\n",
    "\n",
    "    return diff,energyc1p,energyc2p , starkshift1, starkshift2, selfkerr1, selfkerr2,energys1"
   ]
  },
  {
   "cell_type": "code",
   "execution_count": 625,
   "id": "0d0398d4",
   "metadata": {},
   "outputs": [
    {
     "name": "stdout",
     "output_type": "stream",
     "text": [
      "Flux: 0.406200, T1f(der1): 5.849216, T1f(der2): 3.872523\n",
      "Flux: 0.406207, T1f(der1): 6.109510, T1f(der2): 4.003431\n",
      "Flux: 0.406214, T1f(der1): 6.404858, T1f(der2): 4.148838\n",
      "Flux: 0.406221, T1f(der1): 6.742939, T1f(der2): 4.311305\n",
      "Flux: 0.406228, T1f(der1): 7.133325, T1f(der2): 4.493829\n",
      "Flux: 0.406234, T1f(der1): 7.588607, T1f(der2): 4.700166\n",
      "Flux: 0.406241, T1f(der1): 8.126363, T1f(der2): 4.935183\n",
      "Flux: 0.406248, T1f(der1): 8.770450, T1f(der2): 5.205044\n",
      "Flux: 0.406255, T1f(der1): 9.555281, T1f(der2): 5.517826\n",
      "Flux: 0.406262, T1f(der1): 10.532011, T1f(der2): 5.884482\n",
      "Flux: 0.406269, T1f(der1): 11.779548, T1f(der2): 6.319761\n",
      "Flux: 0.406276, T1f(der1): 13.427521, T1f(der2): 6.844603\n",
      "Flux: 0.406283, T1f(der1): 15.702569, T1f(der2): 7.488950\n",
      "Flux: 0.406290, T1f(der1): 19.043441, T1f(der2): 8.298239\n",
      "Flux: 0.406297, T1f(der1): 24.423495, T1f(der2): 9.344134\n",
      "Flux: 0.406303, T1f(der1): 34.511297, T1f(der2): 10.746121\n",
      "Flux: 0.406310, T1f(der1): 60.276846, T1f(der2): 12.722604\n",
      "Flux: 0.406317, T1f(der1): 264.526328, T1f(der2): 15.712902\n",
      "Flux: 0.406324, T1f(der1): 105.705647, T1f(der2): 20.758645\n",
      "Flux: 0.406331, T1f(der1): 43.203843, T1f(der2): 31.079004\n",
      "Flux: 0.406338, T1f(der1): 26.824192, T1f(der2): 63.904414\n",
      "Flux: 0.406345, T1f(der1): 19.278320, T1f(der2): 701.969575\n",
      "Flux: 0.406352, T1f(der1): 14.941187, T1f(der2): 52.492203\n",
      "Flux: 0.406359, T1f(der1): 12.128205, T1f(der2): 26.859265\n",
      "Flux: 0.406366, T1f(der1): 10.157258, T1f(der2): 17.863884\n",
      "Flux: 0.406372, T1f(der1): 8.701463, T1f(der2): 13.281929\n",
      "Flux: 0.406379, T1f(der1): 7.583035, T1f(der2): 10.506995\n",
      "Flux: 0.406386, T1f(der1): 6.697998, T1f(der2): 8.648495\n",
      "Flux: 0.406393, T1f(der1): 5.981010, T1f(der2): 7.318184\n",
      "Flux: 0.406400, T1f(der1): 5.389143, T1f(der2): 6.320127\n"
     ]
    }
   ],
   "source": [
    "# Constants\n",
    "A_bs = 2*2*np.pi\n",
    "omega_bs = 1.2*2*np.pi\n",
    "A_ss = 0.002 * 2 * np.pi\n",
    "omega_ss = 6.* 2 * np.pi\n",
    "flux_range = np.linspace(0.4062, 0.4064, 30)\n",
    "\n",
    "def compute_values(flux):\n",
    "    result = energy_diff(A_ss, omega_ss, flux)\n",
    "    result1 = energy_diff(A_ss, omega_ss, flux + 1e-6)\n",
    "    \n",
    "    der1 = (result1[1] - result[1]) / 1e-6\n",
    "    der2 = (result1[2] - result[2]) / 1e-6\n",
    "    \n",
    "    T1f_der1 = T1f(der1) / 1e6 / 2 / np.pi\n",
    "    T1f_der2 = T1f(der2) / 1e6 / 2 / np.pi\n",
    "    \n",
    "    return T1f_der1, T1f_der2\n",
    "\n",
    "# Parallel computation\n",
    "results = Parallel(n_jobs=-1)(delayed(compute_values)(flux) for flux in flux_range)\n",
    "\n",
    "# Extract results\n",
    "T1f_der1_values, T1f_der2_values = zip(*results)\n",
    "\n",
    "# Output results\n",
    "for flux, val1, val2 in zip(flux_range, T1f_der1_values, T1f_der2_values):\n",
    "    print(f\"Flux: {flux:.6f}, T1f(der1): {val1:.6f}, T1f(der2): {val2:.6f}\")"
   ]
  },
  {
   "cell_type": "code",
   "execution_count": 626,
   "id": "b7489fe4",
   "metadata": {},
   "outputs": [
    {
     "data": {
      "text/plain": [
       "(8.030647613566089e-08,\n",
       " 4.0935965863361705,\n",
       " 5.297917517244892,\n",
       " 2.24819438585655e-05,\n",
       " 2.2838727460339214e-05,\n",
       " 8.780297733324005e-08,\n",
       " 3.398641545970804e-08,\n",
       " 6.002490573826972)"
      ]
     },
     "execution_count": 626,
     "metadata": {},
     "output_type": "execute_result"
    }
   ],
   "source": [
    "energy_diff(A_bs,omega_bs,0.4064)"
   ]
  },
  {
   "cell_type": "code",
   "execution_count": 627,
   "id": "5374eaab",
   "metadata": {},
   "outputs": [
    {
     "data": {
      "text/plain": [
       "(7.874801966067935e-08,\n",
       " 4.093600364136637,\n",
       " 5.297912869861077,\n",
       " 2.082734026753741e-05,\n",
       " 2.396986340524876e-05,\n",
       " 5.7860864544068136e-08,\n",
       " 3.674753479288029e-08,\n",
       " 6.002358697428916)"
      ]
     },
     "execution_count": 627,
     "metadata": {},
     "output_type": "execute_result"
    }
   ],
   "source": [
    "energy_diff(0,omega_bs, 0.4064)"
   ]
  },
  {
   "cell_type": "code",
   "execution_count": 636,
   "id": "5ba94451",
   "metadata": {},
   "outputs": [],
   "source": [
    "from qutip import propagator,floquet_modes,Qobj,Options,basis\n",
    "def energy_diff2(A,omega,A1,omega1,flux):\n",
    "    #snail parameters\n",
    "    EJ = 100*2*np.pi\n",
    "    EC = 0.177*2*np.pi\n",
    "    beta = 0.12\n",
    "    ng = 0\n",
    "    ncut = 300\n",
    "    N = 3\n",
    "    dims = 10\n",
    "    snail = SNAIL(EJ,EC,beta,ng,ncut,flux,N,dims)\n",
    "    omegas = snail.omegas\n",
    "    \n",
    "    #cavity1 parameters  \n",
    "    dimc1 = 5\n",
    "    cavity1 = Cavity(omega_c1,g_int1,dimc1)    \n",
    "    #cavity1 parameters \n",
    "    dimc2 = 5\n",
    "    cavity2 = Cavity(omega_c2,g_int2,dimc2)\n",
    "    snailcc = SNAILCC(snail,cavity1,cavity2)\n",
    "    \n",
    "    H0,Hc = snailcc.hamiltonian()\n",
    "    energy,U = np.linalg.eigh(H0)\n",
    "    U_dag = np.transpose(U.conjugate())\n",
    "    Hc = U_dag @ Hc @ U\n",
    "    H0 = U_dag @ H0 @ U\n",
    "    H0 = H0 - H0[0][0]*np.identity(len(H0))\n",
    "    indexc11 = np.argmin(np.abs(energy - omega_c1 * np.ones(len(energy))))\n",
    "    indexc21 = np.argmin(np.abs(energy - omega_c2 * np.ones(len(energy))))\n",
    "    H0 = Qobj(H0)\n",
    "    Hc = Qobj(Hc)\n",
    "    args = {'w': omega,'w1': omega1}\n",
    "    T = 2*np.pi/omega\n",
    "#     H = [H0, [Hc, lambda t, args: A*np.cos(args['w']*t)]] \n",
    "    H = [H0, [Hc, lambda t, args: A*np.cos(args['w']*t)]] \n",
    "    options = Options(nsteps=100000)  # Increasing nsteps to 10000, adjust as needed\n",
    "    f_modes, f_energies = floquet_modes(H, T, args, False, options=options) \n",
    "    total_dim = dims*dimc1*dimc2\n",
    "    basis_states = [basis(total_dim, 0),basis(total_dim, indexc11), basis(total_dim, indexc21)]\n",
    "    \n",
    "    \n",
    "    max_overlap_indices = [0,0,0]\n",
    "    max_overlaps = [0,0,0]\n",
    "    for f_index, f_state in enumerate(f_modes):\n",
    "\n",
    "        # Loop over each basis state\n",
    "        for b_index, b_state in enumerate(basis_states):\n",
    "\n",
    "            # Calculate the overlap\n",
    "            overlap = calculate_overlap(f_state, b_state)\n",
    "\n",
    "            # If this is the maximum overlap for this basis state, store the index\n",
    "            if overlap > max_overlaps[b_index]:\n",
    "                max_overlaps[b_index] = overlap\n",
    "                max_overlap_indices[b_index] = f_index\n",
    "                \n",
    "    ground_state = f_modes[max_overlap_indices[0]]\n",
    "    cavity1_state = f_modes[max_overlap_indices[1]]\n",
    "    cavity2_state = f_modes[max_overlap_indices[2]]\n",
    "    \n",
    "    T = 10\n",
    "    omega = 2*np.pi/T\n",
    "    H = [H0,  [Hc, lambda t, args: A*np.cos(args['w']*t)],[Hc, lambda t, args: A1*np.cos(args['w1']*t)]] \n",
    "    options = Options(nsteps=100000)  # Increasing nsteps to 10000, adjust as needed\n",
    "    f_modes, f_energies = floquet_modes(H, T, args, True, options=options) \n",
    "    basis_states = [ground_state,cavity1_state,cavity2_state]\n",
    "    \n",
    "    # Initialize a list to hold the indices of the Floquet states with the maximum overlap for each basis state\n",
    "    max_overlap_indices = [0,0,0]\n",
    "    max_overlaps = [0,0,0]\n",
    "    # Loop over each Floquet state\n",
    "    for f_index, f_state in enumerate(f_modes):\n",
    "        # Loop over each basis state\n",
    "        for b_index, b_state in enumerate(basis_states):\n",
    "            # Calculate the overlap\n",
    "            overlap = calculate_overlap(f_state, b_state)\n",
    "\n",
    "            # If this is the maximum overlap for this basis state, store the index\n",
    "            if overlap > max_overlaps[b_index]:\n",
    "                max_overlaps[b_index] = overlap\n",
    "                max_overlap_indices[b_index] = f_index\n",
    "    energyg = f_energies[max_overlap_indices[0]]/2/np.pi\n",
    "\n",
    "    energyc1 = f_energies[max_overlap_indices[1]]/2/np.pi\n",
    "    k = find_optimal_k(omega_c1/2/np.pi, energyc1, omega/2/np.pi)\n",
    "    energyc1 = energyc1 + k*omega/2/np.pi - energyg\n",
    "    \n",
    "\n",
    "    energyc2 = f_energies[max_overlap_indices[2]]/2/np.pi\n",
    "    k = find_optimal_k(omega_c2/2/np.pi, energyc2, omega/2/np.pi)\n",
    "    energyc2 = energyc2 +k*omega/2/np.pi - energyg\n",
    "\n",
    "    return 0,energyc1,energyc2"
   ]
  },
  {
   "cell_type": "code",
   "execution_count": 634,
   "id": "0baf9fc4",
   "metadata": {
    "scrolled": true
   },
   "outputs": [],
   "source": [
    "A_bs = 2*2*np.pi\n",
    "omega_bs = 1.2*2*np.pi\n",
    "# print(energy_diff(A_bs,omega_bs,0.406420))\n",
    "A_ss = 0.002* 2 * np.pi\n",
    "omega_ss = 6. * 2 * np.pi\n",
    "# energy_diff2(A_bs,omega_bs,A_ss,omega_ss,0.406420)"
   ]
  },
  {
   "cell_type": "code",
   "execution_count": 638,
   "id": "b5e7203d",
   "metadata": {},
   "outputs": [
    {
     "name": "stdout",
     "output_type": "stream",
     "text": [
      "Flux: 0.406200, T1f(der1): 5.786618, T1f(der2): 2.889194\n",
      "Flux: 0.406207, T1f(der1): 6.040104, T1f(der2): 2.708497\n",
      "Flux: 0.406214, T1f(der1): 6.313906, T1f(der2): 2.353998\n",
      "Flux: 0.406221, T1f(der1): 6.634710, T1f(der2): 1.721252\n",
      "Flux: 0.406228, T1f(der1): 7.004321, T1f(der2): 0.788382\n",
      "Flux: 0.406234, T1f(der1): 7.425730, T1f(der2): 0.053639\n",
      "Flux: 0.406241, T1f(der1): 7.932006, T1f(der2): 0.331874\n",
      "Flux: 0.406248, T1f(der1): 8.529237, T1f(der2): 1.325796\n",
      "Flux: 0.406255, T1f(der1): 9.248655, T1f(der2): 2.306116\n",
      "Flux: 0.406262, T1f(der1): 10.141915, T1f(der2): 3.073107\n",
      "Flux: 0.406269, T1f(der1): 11.258645, T1f(der2): 3.675225\n",
      "Flux: 0.406276, T1f(der1): 12.715884, T1f(der2): 4.187383\n",
      "Flux: 0.406283, T1f(der1): 14.671687, T1f(der2): 4.661218\n",
      "Flux: 0.406290, T1f(der1): 17.490940, T1f(der2): 5.140643\n",
      "Flux: 0.406297, T1f(der1): 21.746765, T1f(der2): 5.646337\n",
      "Flux: 0.406303, T1f(der1): 29.177733, T1f(der2): 6.219471\n",
      "Flux: 0.406310, T1f(der1): 45.046595, T1f(der2): 6.887965\n",
      "Flux: 0.406317, T1f(der1): 103.384556, T1f(der2): 7.702959\n",
      "Flux: 0.406324, T1f(der1): 307.409002, T1f(der2): 8.729312\n",
      "Flux: 0.406331, T1f(der1): 59.783321, T1f(der2): 10.095532\n",
      "Flux: 0.406338, T1f(der1): 32.702655, T1f(der2): 11.985123\n",
      "Flux: 0.406345, T1f(der1): 22.256130, T1f(der2): 14.818915\n",
      "Flux: 0.406352, T1f(der1): 16.776315, T1f(der2): 19.467267\n",
      "Flux: 0.406359, T1f(der1): 13.370219, T1f(der2): 28.712313\n",
      "Flux: 0.406366, T1f(der1): 11.043492, T1f(der2): 56.335452\n",
      "Flux: 0.406372, T1f(der1): 9.363021, T1f(der2): 4580.681033\n",
      "Flux: 0.406379, T1f(der1): 8.093308, T1f(der2): 56.197115\n",
      "Flux: 0.406386, T1f(der1): 7.104886, T1f(der2): 27.616483\n",
      "Flux: 0.406393, T1f(der1): 6.307724, T1f(der2): 18.099313\n",
      "Flux: 0.406400, T1f(der1): 5.660073, T1f(der2): 13.403513\n"
     ]
    }
   ],
   "source": [
    "def compute_values(flux):\n",
    "    result = energy_diff2(A_bs,omega_bs,A_ss,omega_ss,flux)\n",
    "    result1 = energy_diff2(A_bs,omega_bs,A_ss,omega_ss,flux+1e-6)\n",
    "    \n",
    "    der1 = (result1[1] - result[1]) / 1e-6\n",
    "    der2 = (result1[2] - result[2]) / 1e-6\n",
    "    \n",
    "    T1f_der1 = T1f(der1) / 1e6 / 2 / np.pi\n",
    "    T1f_der2 = T1f(der2) / 1e6 / 2 / np.pi\n",
    "    \n",
    "    return T1f_der1, T1f_der2\n",
    "\n",
    "# Parallel computation\n",
    "results = Parallel(n_jobs=15)(delayed(compute_values)(flux) for flux in flux_range)\n",
    "\n",
    "# Extract results\n",
    "T1f_der1_values1, T1f_der2_values1 = zip(*results)\n",
    "\n",
    "# Output results\n",
    "for flux, val1, val2 in zip(flux_range, T1f_der1_values1, T1f_der2_values1):\n",
    "    print(f\"Flux: {flux:.6f}, T1f(der1): {val1:.6f}, T1f(der2): {val2:.6f}\")"
   ]
  },
  {
   "cell_type": "code",
   "execution_count": 640,
   "id": "257212b6",
   "metadata": {},
   "outputs": [
    {
     "data": {
      "image/png": "[encoded data removed]",
      "text/plain": [
       "<Figure size 720x360 with 1 Axes>"
      ]
     },
     "metadata": {
      "needs_background": "light"
     },
     "output_type": "display_data"
    }
   ],
   "source": [
    "plt.figure(figsize=(10, 5))\n",
    "plt.plot(flux_range, T1f_der1_values1, label='T1f_der1')\n",
    "plt.plot(flux_range, T1f_der2_values1, label='T1f_der2')\n",
    "plt.xlabel('Flux')\n",
    "plt.ylabel('Values')\n",
    "plt.title('Plot of T1f Derivatives')\n",
    "plt.ylim(0,50)\n",
    "plt.legend()\n",
    "plt.show()"
   ]
  },
  {
   "cell_type": "code",
   "execution_count": 641,
   "id": "f5d4680f",
   "metadata": {},
   "outputs": [
    {
     "data": {
      "image/png": "[encoded data removed]",
      "text/plain": [
       "<Figure size 720x360 with 1 Axes>"
      ]
     },
     "metadata": {
      "needs_background": "light"
     },
     "output_type": "display_data"
    }
   ],
   "source": [
    "plt.figure(figsize=(10, 5))\n",
    "plt.plot(flux_range, T1f_der1_values, label='T1f_der1')\n",
    "plt.plot(flux_range, T1f_der2_values, label='T1f_der2')\n",
    "plt.xlabel('Flux')\n",
    "plt.ylabel('Values')\n",
    "plt.title('Plot of T1f Derivatives')\n",
    "plt.legend()\n",
    "plt.ylim(0,50)\n",
    "plt.show()"
   ]
  },
  {
   "cell_type": "code",
   "execution_count": null,
   "id": "bb3a0208",
   "metadata": {},
   "outputs": [],
   "source": [
    "T1f_der1_values"
   ]
  },
  {
   "cell_type": "code",
   "execution_count": null,
   "id": "4c8ef28f",
   "metadata": {},
   "outputs": [],
   "source": [
    "T1f_der2_values"
   ]
  },
  {
   "cell_type": "code",
   "execution_count": null,
   "id": "742eaf6b",
   "metadata": {},
   "outputs": [],
   "source": []
  }
 ],
 "metadata": {
  "kernelspec": {
   "display_name": "Python 3 (ipykernel)",
   "language": "python",
   "name": "python3"
  },
  "language_info": {
   "codemirror_mode": {
    "name": "ipython",
    "version": 3
   },
   "file_extension": ".py",
   "mimetype": "text/x-python",
   "name": "python",
   "nbconvert_exporter": "python",
   "pygments_lexer": "ipython3",
   "version": "3.9.7"
  }
 },
 "nbformat": 4,
 "nbformat_minor": 5
}
