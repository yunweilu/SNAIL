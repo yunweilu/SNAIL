{
 "cells": [
  {
   "cell_type": "code",
   "execution_count": 1,
   "id": "e9003eea",
   "metadata": {},
   "outputs": [],
   "source": [
    "from systemclass import SNAIL,SNAILC,SNAIL_sweep,SNAILC_sweep,Cavity\n",
    "import numpy as np\n",
    "from qutip import *\n",
    "import matplotlib.pyplot as plt"
   ]
  },
  {
   "cell_type": "code",
   "execution_count": 4,
   "id": "3e047c22",
   "metadata": {},
   "outputs": [],
   "source": [
    "EJ = 70*2*np.pi\n",
    "EC = 0.177*2*np.pi\n",
    "beta = 0.12\n",
    "ng = 0\n",
    "ncut = 100\n",
    "flux = 0.48\n",
    "N = 3\n",
    "dims = 6\n",
    "\n",
    "# truncated_dim:int = 6\n",
    "snail = SNAIL(EJ,EC,beta,ng,ncut,flux,N,dims)\n",
    "\n",
    "omega_c1 = 7*2*np.pi\n",
    "g_int1 = 0.15*2*np.pi\n",
    "dimc1 = 4\n",
    "trunc1 = dims * dimc1\n",
    "cavity1 = Cavity(omega_c1,g_int1,dimc1)\n",
    "\n",
    "# omega_c2 = 3*2*np.pi\n",
    "# g_int2 = 0.15*2*np.pi\n",
    "# dimc2 = 100\n",
    "# trunc2 = dims*dimc2\n",
    "# cavity2 = Cavity(omega_c2,g_int2,dimc2)"
   ]
  },
  {
   "cell_type": "code",
   "execution_count": 5,
   "id": "d6950bcd",
   "metadata": {},
   "outputs": [],
   "source": [
    "flux_values = np.linspace(0.42, 0.44, 100)\n",
    "Hss = []\n",
    "charge_ops = []\n",
    "snail_freqs = []\n",
    "snail_anhs = []\n",
    "snail_freqs2 = []\n",
    "for flux in flux_values:\n",
    "    snail_back = SNAIL(EJ,EC,beta,ng,ncut,flux,N,dims)\n",
    "    snail_anhs.append(snail_back.anh)\n",
    "    H, op = snail_back.spectrum_charge()\n",
    "    snail_freqs2.append(H[2,2]/2/np.pi)\n",
    "    snailc =  SNAILC(snail_back, cavity1, trunc1)\n",
    "    snailc.parameters()\n",
    "    Hs , charge_op = snailc.dressed_H, snailc.dressed_charge\n",
    "    energy = np.diag(Hs)\n",
    "    Hss.append(Hs)\n",
    "    index = np.argmin(np.abs(energy - snail_back.omegas* np.ones(len(energy))))\n",
    "    snail_freqs.append(energy[index])\n",
    "    charge_ops.append(charge_op)"
   ]
  },
  {
   "cell_type": "code",
   "execution_count": 6,
   "id": "f977154d",
   "metadata": {},
   "outputs": [],
   "source": [
    "def find_best_b_and_k(a, B, omega):\n",
    "    min_diff = float('inf')  # Initialize with a very large number\n",
    "    best_b = None\n",
    "    best_k = None\n",
    "\n",
    "    # Iterate over each element in B\n",
    "    for b in B:\n",
    "        # Iterate over each k in the range [-1000, 1000]\n",
    "        for k in range(-1000, 1001):  # 1001 is used to include 1000 in the range\n",
    "            diff = abs(a - (b + k * omega))\n",
    "            # Update min_diff and best_b if a smaller difference is found\n",
    "            if diff < min_diff:\n",
    "                min_diff = diff\n",
    "                best_b = b\n",
    "                best_k = k\n",
    "\n",
    "    return best_b, best_k, min_diff"
   ]
  },
  {
   "cell_type": "code",
   "execution_count": 21,
   "id": "edc702cc",
   "metadata": {},
   "outputs": [],
   "source": [
    "import qutip as qt  \n",
    "def find_optimal_k(A, B, D):\n",
    "    # Define a large initial minimum difference\n",
    "    min_diff = float('inf')\n",
    "    optimal_k = None\n",
    "    \n",
    "    # Iterate over a range of possible k values\n",
    "    # The range can be adjusted based on expected size of k or other insights you have about your problem\n",
    "    for k in range(-1000, 1000):\n",
    "        # Calculate the difference for this value of k\n",
    "        diff = abs(A - (B + k * D))\n",
    "        \n",
    "        # If this is the smallest difference we've found so far, update min_diff and optimal_k\n",
    "        if diff < min_diff:\n",
    "            min_diff = diff\n",
    "            optimal_k = k\n",
    "            \n",
    "    return optimal_k\n",
    "# Function to calculate overlap (you might use inner product, fidelity, etc.)\n",
    "def calculate_overlap(state1, state2):\n",
    "    return abs((state1.dag() * state2))**2\n",
    "def floquet_spec(Hs,Hc, omega, A,omegas):\n",
    "#     Hs[0][0] = Hs[0][0]+Hs[1][1]\n",
    "#     Hs[1][1] = Hs[1][1]+Hs[1][1]\n",
    "    energy = np.diag(Hs)\n",
    "    indexs1 = np.argmin(np.abs(energy - omegas * np.ones(len(energy))))\n",
    "    indexc1 = np.argmin(np.abs(energy - omega_c1 * np.ones(len(energy))))\n",
    "    indexc2 = np.argmin(np.abs(energy - 2 * omega_c1 * np.ones(len(energy))))\n",
    "    indexsc = np.argmin(np.abs(energy - (omegas+omega_c1) * np.ones(len(energy))))\n",
    "    indexs2 = np.argmin(np.abs(energy - (2*omegas) * np.ones(len(energy))))\n",
    "    Hs = Qobj(Hs)\n",
    "    \n",
    "    Hc = Qobj(Hc)\n",
    "    args = {'w': omega}\n",
    "    T = (2*np.pi)/omega\n",
    "    H = [Hs,  [Hc, lambda t, args: A*np.cos(args['w']*t)],] \n",
    "    options = Options(nsteps=100000)  # Increasing nsteps to 10000, adjust as needed\n",
    "    f_modes, f_energies = floquet_modes(H, T, args, True, options=options) \n",
    "    basis_states = [qt.basis(trunc1, 0),qt.basis(trunc1, indexs1),qt.basis(trunc1,indexc1),qt.basis(trunc1,indexc2),qt.basis(trunc1,indexsc)\n",
    "                   ,qt.basis(trunc1,indexsc),qt.basis(trunc1,indexs2)]\n",
    "    \n",
    "    # Initialize a list to hold the indices of the Floquet states with the maximum overlap for each basis state\n",
    "    max_overlap_indices = [-1] * 7\n",
    "    max_overlaps = [0] * 7\n",
    "    # Loop over each Floquet state\n",
    "    for f_index, f_state in enumerate(f_modes):\n",
    "        # Loop over each basis state\n",
    "        for b_index, b_state in enumerate(basis_states):\n",
    "            # Calculate the overlap\n",
    "            overlap = calculate_overlap(f_state, b_state)\n",
    "\n",
    "            # If this is the maximum overlap for this basis state, store the index\n",
    "            if overlap > max_overlaps[b_index]:\n",
    "                max_overlaps[b_index] = overlap\n",
    "                max_overlap_indices[b_index] = f_index\n",
    "    energyg = f_energies[max_overlap_indices[0]]/2/np.pi\n",
    "\n",
    "    energys1 = f_energies[max_overlap_indices[1]]/2/np.pi\n",
    "    k = find_optimal_k(omega_c1/2/np.pi, energys1, omega/2/np.pi)\n",
    "    energys1 = energys1 + k*omega/2/np.pi - energyg\n",
    "    \n",
    "    \n",
    "    energyc1 = f_energies[max_overlap_indices[2]]/2/np.pi\n",
    "    k = find_optimal_k(omega_c1/2/np.pi, energyc1, omega/2/np.pi)\n",
    "    energyc1 = energyc1 + k*omega/2/np.pi - energyg\n",
    "    \n",
    "    energysc = f_energies[max_overlap_indices[4]]/2/np.pi\n",
    "    k = find_optimal_k((omega_c1+omegas)/2/np.pi, energysc, omega/2/np.pi)\n",
    "    starkshift = energysc - energyg + k*omega/2/np.pi - energyc1 - energys1\n",
    "    \n",
    "    energyc2 = f_energies[max_overlap_indices[3]]/2/np.pi\n",
    "    k = find_optimal_k(2*omega_c1/2/np.pi, energyc2, omega/2/np.pi)\n",
    "    energyc2 = energyc2 +k*omega/2/np.pi\n",
    "    \n",
    "    selfkerr = energyc2-energyg - 2*energyc1\n",
    "    \n",
    "    energys2 = f_energies[max_overlap_indices[5]]/2/np.pi\n",
    "    \n",
    "    k = find_optimal_k(2*omegas/2/np.pi, energys2, omega/2/np.pi)\n",
    "    energys2 = energys2 + k*omega/2/np.pi - energyg\n",
    "#     print(f_energies[max_overlap_indices[1]],f_energies[max_overlap_indices[0]])\n",
    "    return energyc1, starkshift, selfkerr,energys2 ,energys1"
   ]
  },
  {
   "cell_type": "code",
   "execution_count": 22,
   "id": "c20c9e72",
   "metadata": {},
   "outputs": [
    {
     "data": {
      "text/plain": [
       "[<matplotlib.lines.Line2D at 0x7fb08faeba30>]"
      ]
     },
     "execution_count": 22,
     "metadata": {},
     "output_type": "execute_result"
    },
    {
     "data": {
      "image/png": "[encoded data removed]",
      "text/plain": [
       "<Figure size 432x288 with 1 Axes>"
      ]
     },
     "metadata": {
      "needs_background": "light"
     },
     "output_type": "display_data"
    }
   ],
   "source": [
    "plt.plot(flux_values,np.array(snail_freqs)/2/np.pi)"
   ]
  },
  {
   "cell_type": "code",
   "execution_count": 23,
   "id": "57f80b2a",
   "metadata": {
    "scrolled": true
   },
   "outputs": [
    {
     "data": {
      "text/plain": [
       "[<matplotlib.lines.Line2D at 0x7fb08faa0fa0>]"
      ]
     },
     "execution_count": 23,
     "metadata": {},
     "output_type": "execute_result"
    },
    {
     "data": {
      "image/png": "[encoded data removed]",
      "text/plain": [
       "<Figure size 432x288 with 1 Axes>"
      ]
     },
     "metadata": {
      "needs_background": "light"
     },
     "output_type": "display_data"
    }
   ],
   "source": [
    "plt.plot(flux_values,np.array(snail_anhs)/2/np.pi)"
   ]
  },
  {
   "cell_type": "code",
   "execution_count": 97,
   "id": "f30a63cb",
   "metadata": {
    "scrolled": true
   },
   "outputs": [],
   "source": [
    "omegas = 4.83*2*np.pi\n",
    "omegac = 7*2*np.pi\n",
    "delta = 0.1*2*np.pi\n",
    "omega = (omegas )\n",
    "A = 0.005*2*np.pi\n",
    "floquet_results = []\n",
    "for i in range(len(flux_values)):\n",
    "    floquet_results.append(floquet_spec(Hss[i],charge_ops[i], omega, A,snail_freqs[i]))"
   ]
  },
  {
   "cell_type": "code",
   "execution_count": 98,
   "id": "733bf5b6",
   "metadata": {},
   "outputs": [],
   "source": [
    "floquet_results = np.array(floquet_results)"
   ]
  },
  {
   "cell_type": "code",
   "execution_count": 99,
   "id": "8edb79e6",
   "metadata": {},
   "outputs": [
    {
     "data": {
      "image/png": "[encoded data removed]",
      "text/plain": [
       "<Figure size 432x288 with 1 Axes>"
      ]
     },
     "metadata": {
      "needs_background": "light"
     },
     "output_type": "display_data"
    }
   ],
   "source": [
    "floquet_results = np.array(floquet_results)\n",
    "# Plotting\n",
    "plt.plot(flux_values, floquet_results[:,0])\n",
    "# plt.plot(flux_values, -(floquet_results/2/np.pi)[:,4]+(floquet_results/2/np.pi)[:,7])\n",
    "plt.xlabel('Flux')\n",
    "plt.ylabel('Floquet Spectrum Result')\n",
    "plt.title('Floquet Spectrum vs Flux')\n",
    "# plt.ylim(7.0049,7.00496)\n",
    "plt.show()"
   ]
  },
  {
   "cell_type": "code",
   "execution_count": 11,
   "id": "4db53839",
   "metadata": {},
   "outputs": [],
   "source": [
    "## import numpy as np\n",
    "import matplotlib.pyplot as plt\n",
    "import scipy as sci\n",
    "from cosmatrix import cosm,expm_pade\n",
    "expm = expm_pade\n",
    "from autograd.extend import primitive, defvjp\n",
    "from qutip import *\n",
    "def annihilation(dim):\n",
    "    return np.diag(np.sqrt(np.arange(1,dim)),1)\n",
    "def creation(dim):\n",
    "    return np.diag(np.sqrt(np.arange(1,dim)),-1)\n",
    "def SNAIL_H(phi_ex,beta,N,Ej,Ec):\n",
    "    phi_ex = 2*np.pi*phi_ex\n",
    "    def Us_min(phi_ex):\n",
    "        def U_s(phi): \n",
    "            return (-beta*np.cos(phi-phi_ex)-N*np.cos((phi)/N))\n",
    "        phi_min = sci.optimize.minimize(U_s,0).x\n",
    "        return phi_min\n",
    "    \n",
    "    def phi_minde(ans, phi_ex):\n",
    "        def phi_minde_vjp(g):\n",
    "            c2 = beta*np.cos(ans - phi_ex) + 1/N*np.cos(ans/N)\n",
    "            return g*beta*np.cos(ans - phi_ex)/c2\n",
    "        return phi_minde_vjp\n",
    "\n",
    "    phi_min = Us_min(phi_ex)\n",
    "    # potential expansion around minimum\n",
    "    c2 = beta*np.cos(phi_min - phi_ex) + 1/N*np.cos(phi_min/N)\n",
    "    omega_s = np.sqrt(8*c2*Ej*Ec)\n",
    "    phi_zpf = np.power(2*Ec/(Ej*c2),1/4)\n",
    "    g2 = Ej*phi_zpf**2*c2/2\n",
    "    sdim = 10\n",
    "    s = annihilation(sdim)\n",
    "    sd = creation(sdim)\n",
    "    x2 = np.matmul(s+sd,s+sd)\n",
    "    c3 = (N**2-1)/N**2*np.sin(phi_min/N)\n",
    "    g3 = Ej*phi_zpf**3*c3/3/2\n",
    "    c4 = -beta*np.cos(phi_min-phi_ex) -1/N**3*np.cos(phi_min/N)\n",
    "\n",
    "    g4 = Ej*phi_zpf**4*c4/4/3/2\n",
    "    Hs = omega_s * np.matmul(sd,s)+(\n",
    "        - Ej*(beta*cosm(phi_zpf*(s+sd)+(phi_min-phi_ex)*np.identity(sdim))\n",
    "        + N*cosm((phi_zpf*(s+sd)+phi_min*np.identity(sdim))/N))- g2*x2)\n",
    "    energy,U = np.linalg.eigh(Hs)\n",
    "    for i in range(U.shape[1]):\n",
    "        if U[i, i] < 0:\n",
    "            U[:, i] *= -1\n",
    "    U_dag = np.conjugate(U.transpose())\n",
    "    \n",
    "    Hs = Hs\n",
    "    \n",
    "    return Hs-energy[0]*np.identity(sdim),-1j*(s-sd),phi_zpf,c2"
   ]
  },
  {
   "cell_type": "code",
   "execution_count": 12,
   "id": "7f20bfc0",
   "metadata": {},
   "outputs": [],
   "source": [
    "def sort(energies,U,H):\n",
    "    diagonal_elements = np.diag(H)\n",
    "\n",
    "    # Find the index of the closest diagonal element for each eigenvalue\n",
    "    closest_indices = np.argmin(abs(energies[:, np.newaxis] - diagonal_elements), axis=1)\n",
    "\n",
    "    # Sort energies and U according to the indices of closest diagonal elements\n",
    "    sorted_energies = energies[np.argsort(closest_indices)]\n",
    "    U = U[:, np.argsort(closest_indices)]\n",
    "    return sorted_energies,U"
   ]
  },
  {
   "cell_type": "code",
   "execution_count": 13,
   "id": "c4e95f09",
   "metadata": {
    "scrolled": false
   },
   "outputs": [
    {
     "data": {
      "text/plain": [
       "array([7.00459567])"
      ]
     },
     "execution_count": 13,
     "metadata": {},
     "output_type": "execute_result"
    }
   ],
   "source": [
    "from scipy.sparse.linalg import expm\n",
    "from scipy.linalg import logm\n",
    "def floquet_spec3(omega,A,phi_ex,omega_c,g_int):\n",
    "    beta = 0.12\n",
    "    N = 3\n",
    "    Ej = 70*2*np.pi\n",
    "    Ec = 0.177*2*np.pi\n",
    "    \n",
    "    H0,v,phi_zpf,c2 = SNAIL_H(phi_ex,beta,N,Ej,Ec)\n",
    "    g_int = g_int*c2**0.25\n",
    "    \n",
    "    energies,U=np.linalg.eig(H0)\n",
    "    energies = energies - energies[0]*np.ones(len(energies))\n",
    "    sorted_indices = np.argsort(energies)\n",
    "\n",
    "    U = U[:, sorted_indices]\n",
    "    Ud = U.transpose().conjugate()\n",
    "    \n",
    "    energies = np.sort(energies)\n",
    "    omega_s = energies[1]\n",
    "    anh = energies[2] - 2* energies[1]\n",
    "    dims = 10\n",
    "    s = annihilation(dims)\n",
    "    sd = creation(dims)\n",
    "    delta = (omega_s-omega)\n",
    "\n",
    "    cdim = 6\n",
    "    c = annihilation(cdim)\n",
    "    cd = creation(cdim)\n",
    "    Ic = np.identity(cdim)\n",
    "    Is = np.identity(dims)\n",
    "    s = np.kron(s,Ic)\n",
    "    sd = np.kron(sd,Ic)\n",
    "    c = np.kron(Is,c)\n",
    "    cd = np.kron(Is,cd)\n",
    "    H = omega_s*sd@s  + omega_c * cd@c +g_int*((s+sd)@(cd+c))\n",
    "    energies,U=np.linalg.eig(H)\n",
    "        # Get the diagonal elements of H\n",
    "    sorted_energies,U = sort(energies,U,H)\n",
    "    Ud = U.transpose().conjugate()\n",
    "    Hnl = Ud@(anh/2*sd@sd@s@s)@U\n",
    "    H =  omega_s*sd@s  + omega_c * cd@c +g_int*((s+sd)@(cd+c))+(anh/2*sd@sd@s@s)\n",
    "\n",
    "    \n",
    "    delta = (omega_c-omega_s)\n",
    "    p=8*g_int**4*omega_c*omega_s**2/(omega_c**6-3*omega_c**4*omega_s**2+3*omega_c**2*omega_s**4-omega_s**6)\n",
    "#     H = (omega_s-g_int**2/delta + g_int**2/(omega_c+omega_s)+p)*sd@s+(omega_c+g_int**2/delta - g_int**2/(omega_c+omega_s)-p)*cd@c+Hnl\n",
    "    lam = g_int/(-delta)\n",
    "    sorted_energies = sorted_energies - sorted_energies[0]*np.ones(len(sorted_energies))\n",
    "    omega_sp = sorted_energies[np.argmin(np.abs(sorted_energies - omega_s))]\n",
    "    omega_cp = sorted_energies[1]\n",
    "    eta = A/2/phi_zpf/2\n",
    "    delta = (omega_sp-omega)\n",
    "    \n",
    "    s = annihilation(dims)\n",
    "    sd = creation(dims)\n",
    "    c = annihilation(cdim)\n",
    "    cd = creation(cdim)\n",
    "    Ic = np.identity(cdim)\n",
    "    Is = np.identity(dims)\n",
    "    \n",
    "    \n",
    "    Hs = delta*sd@s +(anh/2*sd@sd@s@s)+ eta*(s+sd)\n",
    "    energies,U = np.linalg.eig(Hs)\n",
    "    energies,U = sort(energies,U,Hs)\n",
    "    Ud = U.transpose().conjugate()\n",
    "    \n",
    "    ele = [1 / (delta + anh* (n)) for n in range(0,dims)]\n",
    "    diagonal_matrix = np.diag(np.ravel(np.array(ele)))\n",
    "    result = -1j*eta*(sd@diagonal_matrix + diagonal_matrix@s)\n",
    "    U = (np.identity(dims)+result)\n",
    "    Ud = U.transpose().conjugate()\n",
    "    \n",
    "    energies = np.diag(Ud@Hs@U)\n",
    "    energies,U = sort(energies,U,Hs)\n",
    "    Ud = U.transpose().conjugate()\n",
    "#     Hs =  (delta+4*eta**2/(delta+anh))*sd@s +(anh/2*sd@sd@s@s)+ eta*(s+sd)\n",
    "    term = Ud@sd@s@U\n",
    "    upper_diag0 = np.diag(np.diag(term, k=0), k=0)  # Rebuild the matrix with modified diagonal\n",
    "    upper_diag1 = np.diag(np.diag(term, k=1), k=1)\n",
    "    lower_diag1 = np.diag(np.diag(term, k=-1), k=-1)\n",
    "    upper_diag2 = np.diag(np.diag(term, k=2), k=2)\n",
    "    lower_diag2 = np.diag(np.diag(term, k=-2), k=-2)\n",
    "    H = np.kron((delta+4*eta**2/(anh+delta))*sd@s +(anh/2*sd@sd@s@s),Ic) + np.kron(Is,omega_cp*cd@c)+np.kron(2*lam**2*anh*(upper_diag1+lower_diag1),cd@c)\n",
    "    energies,U = np.linalg.eig(H)\n",
    "    a = np.zeros(len(H))\n",
    "    a[0] = 1\n",
    "\n",
    "    # Compute the overlaps (absolute values of the first elements of the columns of U)\n",
    "    overlaps = np.abs(U[0, :])**2\n",
    "\n",
    "    # Find the index of the maximum overlap\n",
    "    max_overlap_index = np.argmax(overlaps)\n",
    "#     if max(overlaps)<=0.8:\n",
    "#         return 0,overlaps[0]**2,overlaps[1]**2\n",
    "    energies = omega_cp+2*lam**2*anh*(eta**2/delta**2+(2*eta**2/(delta*(2*delta+anh)))**2)\n",
    "    return np.real(energies/2/np.pi)\n",
    "6.009191037837764\n",
    "floquet_spec3(4.9*2*np.pi,0.005*2*np.pi,0.425,7*2*np.pi,0.15*2*np.pi)"
   ]
  },
  {
   "cell_type": "code",
   "execution_count": 19,
   "id": "b8cd1e8b",
   "metadata": {
    "scrolled": false
   },
   "outputs": [
    {
     "data": {
      "text/plain": [
       "7.004330461392692"
      ]
     },
     "execution_count": 19,
     "metadata": {},
     "output_type": "execute_result"
    }
   ],
   "source": [
    "from scipy.sparse.linalg import expm\n",
    "from scipy.linalg import logm\n",
    "def floquet_spec2(omega,A,phi_ex,omega_c,g_int):\n",
    "    beta = 0.12\n",
    "    N = 3\n",
    "    Ej = 70*2*np.pi\n",
    "    Ec = 0.177*2*np.pi\n",
    "    \n",
    "    H0,v,phi_zpf,c2 = SNAIL_H(phi_ex,beta,N,Ej,Ec)\n",
    "    g_int = g_int*c2**0.25\n",
    "    \n",
    "    energies,U=np.linalg.eig(H0)\n",
    "    energies = energies - energies[0]*np.ones(len(energies))\n",
    "    sorted_indices = np.argsort(energies)\n",
    "\n",
    "    U = U[:, sorted_indices]\n",
    "    Ud = U.transpose().conjugate()\n",
    "    \n",
    "    energies = np.sort(energies)\n",
    "    omega_s = energies[1]\n",
    "    anh = energies[2] - 2* energies[1]\n",
    "    dims = 10\n",
    "    s = annihilation(dims)\n",
    "    sd = creation(dims)\n",
    "    delta = (omega_s-omega)\n",
    "\n",
    "    cdim = 8\n",
    "    c = annihilation(cdim)\n",
    "    cd = creation(cdim)\n",
    "    Ic = np.identity(cdim)\n",
    "    Is = np.identity(dims)\n",
    "    s = np.kron(s,Ic)\n",
    "    sd = np.kron(sd,Ic)\n",
    "    c = np.kron(Is,c)\n",
    "    cd = np.kron(Is,cd)\n",
    "    H = omega_s*sd@s  + omega_c * cd@c +g_int*((s+sd)@(cd+c))\n",
    "    energies,U=np.linalg.eig(H)\n",
    "        # Get the diagonal elements of H\n",
    "    sorted_energies,U = sort(energies,U,H)\n",
    "    Ud = U.transpose().conjugate()\n",
    "    Hnl = Ud@(anh/2*sd@sd@s@s)@U\n",
    "    H =  omega_s*sd@s  + omega_c * cd@c +g_int*((s+sd)@(cd+c))+(anh/2*sd@sd@s@s)\n",
    "\n",
    "    \n",
    "    delta = (omega_c-omega_s)\n",
    "#     p=8*g_int**4*omega_c*omega_s**2/(omega_c**6-3*omega_c**4*omega_s**2+3*omega_c**2*omega_s**4-omega_s**6)\n",
    "#     H = (omega_s-g_int**2/delta + g_int**2/(omega_c+omega_s)+p)*sd@s+(omega_c+g_int**2/delta - g_int**2/(omega_c+omega_s)-p)*cd@c+Hnl\n",
    "    lam = g_int/(-delta)\n",
    "    sorted_energies = sorted_energies - sorted_energies[0]*np.ones(len(sorted_energies))\n",
    "    omega_sp = sorted_energies[np.argmin(np.abs(sorted_energies - omega_s))]\n",
    "    omega_cp = sorted_energies[1]\n",
    "    eta = A/2/phi_zpf/2\n",
    "    delta = (omega_sp-omega)\n",
    "    \n",
    "    s = annihilation(dims)\n",
    "    sd = creation(dims)\n",
    "    c = annihilation(cdim)\n",
    "    cd = creation(cdim)\n",
    "    Ic = np.identity(cdim)\n",
    "    Is = np.identity(dims)\n",
    "    Hs = delta*sd@s +(anh/2*sd@sd@s@s)+ eta*(s+sd)\n",
    "\n",
    "    H = np.kron(Hs,Ic) + np.kron(Is,omega_cp*cd@c)+np.kron(2*lam**2*anh*sd@s,cd@c)\n",
    "    energies,U = np.linalg.eig(H)\n",
    "    a = np.zeros(len(H))\n",
    "    a[0] = 1\n",
    "\n",
    "    # Compute the overlaps (absolute values of the first elements of the columns of U)\n",
    "    overlaps = np.abs(U[0, :])**2\n",
    "\n",
    "    # Find the index of the maximum overlap\n",
    "    max_overlap_index = np.argmax(overlaps)\n",
    "#     if max(overlaps)<=0.8:\n",
    "#         return 0,overlaps[0]**2,overlaps[1]**2\n",
    "    energies = energies - energies[max_overlap_index]*np.ones(len(energies))\n",
    "    return np.real(energies[np.argmin(np.abs(energies - omega_cp))])/2/np.pi\n",
    "floquet_spec2(4.9*2*np.pi,0.005*2*np.pi,0.426,7*2*np.pi,0.15*2*np.pi)"
   ]
  },
  {
   "cell_type": "code",
   "execution_count": 20,
   "id": "9092262a",
   "metadata": {},
   "outputs": [],
   "source": [
    "## 0.00640639/-8.25531096e-04"
   ]
  },
  {
   "cell_type": "code",
   "execution_count": 21,
   "id": "170b6a21",
   "metadata": {
    "scrolled": true
   },
   "outputs": [],
   "source": [
    "x_values = flux_values  # 0.4, 0.43\n",
    "\n",
    "# Calculate the results for each x value\n",
    "results = [floquet_spec3(omega, A, x,omega_c1, 0.15 * 2 * np.pi)  for x in x_values]\n",
    "\n"
   ]
  },
  {
   "cell_type": "code",
   "execution_count": 22,
   "id": "e3eb34d5",
   "metadata": {},
   "outputs": [
    {
     "data": {
      "image/png": "[encoded data removed]",
      "text/plain": [
       "<Figure size 432x288 with 1 Axes>"
      ]
     },
     "metadata": {
      "needs_background": "light"
     },
     "output_type": "display_data"
    }
   ],
   "source": [
    "### Plot the results\n",
    "plt.plot(x_values, np.array(results))\n",
    "plt.plot(x_values, floquet_results[:,0])\n",
    "plt.xlabel('x')\n",
    "plt.ylabel('floquet_spec1(4.9*2π, 0.00*2π, x, 3*2π, 0.15*2π) / 2π')\n",
    "plt.title('Plot of floquet_spec1 vs. x')\n",
    "plt.grid(True)\n",
    "# plt.ylim(7.0048,7.005)\n",
    "plt.show()"
   ]
  },
  {
   "cell_type": "code",
   "execution_count": 26,
   "id": "91b76bd0",
   "metadata": {},
   "outputs": [
    {
     "data": {
      "image/png": "[encoded data removed]",
      "text/plain": [
       "<Figure size 432x288 with 1 Axes>"
      ]
     },
     "metadata": {
      "needs_background": "light"
     },
     "output_type": "display_data"
    }
   ],
   "source": [
    "\n",
    "# Calculate the results for each x value\n",
    "results = [floquet_spec2(omega, A, x, omega_c1, 0.15 * 2 * np.pi)  for x in x_values]\n",
    "\n",
    "### Plot the results\n",
    "plt.plot(x_values, np.array(results), label='Data 1')\n",
    "plt.plot(x_values, floquet_results[:,0], label='Floquet Results')\n",
    "plt.xlabel('x')\n",
    "plt.ylabel('floquet_spec1(4.9*2π, 0.00*2π, x, 3*2π, 0.15*2π) / 2π')\n",
    "plt.title('Plot of floquet_spec1 vs. x')\n",
    "plt.grid(True)\n",
    "plt.ylim(7.004,7.005)\n",
    "\n",
    "# Create a second y-axis\n",
    "# Optional: Add a legend\n",
    "plt.legend(loc='upper left')\n",
    "\n",
    "# Show the plot\n",
    "plt.show()"
   ]
  },
  {
   "cell_type": "code",
   "execution_count": null,
   "id": "c1a147ff",
   "metadata": {},
   "outputs": [],
   "source": []
  },
  {
   "cell_type": "code",
   "execution_count": null,
   "id": "f493e483",
   "metadata": {},
   "outputs": [],
   "source": []
  },
  {
   "cell_type": "code",
   "execution_count": null,
   "id": "eecf9cdc",
   "metadata": {},
   "outputs": [],
   "source": []
  },
  {
   "cell_type": "code",
   "execution_count": null,
   "id": "1848ce2d",
   "metadata": {},
   "outputs": [],
   "source": []
  }
 ],
 "metadata": {
  "kernelspec": {
   "display_name": "Python 3 (ipykernel)",
   "language": "python",
   "name": "python3"
  },
  "language_info": {
   "codemirror_mode": {
    "name": "ipython",
    "version": 3
   },
   "file_extension": ".py",
   "mimetype": "text/x-python",
   "name": "python",
   "nbconvert_exporter": "python",
   "pygments_lexer": "ipython3",
   "version": "3.9.7"
  }
 },
 "nbformat": 4,
 "nbformat_minor": 5
}
