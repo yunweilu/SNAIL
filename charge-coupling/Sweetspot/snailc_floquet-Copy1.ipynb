{
 "cells": [
  {
   "cell_type": "code",
   "execution_count": 1,
   "id": "e9003eea",
   "metadata": {},
   "outputs": [],
   "source": [
    "from systemclass import SNAIL,SNAILC,SNAIL_sweep,SNAILC_sweep,Cavity\n",
    "import numpy as np\n",
    "from qutip import *\n",
    "import matplotlib.pyplot as plt"
   ]
  },
  {
   "cell_type": "code",
   "execution_count": 2,
   "id": "3e047c22",
   "metadata": {},
   "outputs": [],
   "source": [
    "EJ = 70*2*np.pi\n",
    "EC = 0.177*2*np.pi\n",
    "beta = 0.12\n",
    "ng = 0\n",
    "ncut = 100\n",
    "flux = 0.48\n",
    "N = 3\n",
    "dims = 10\n",
    "\n",
    "# truncated_dim:int = 6\n",
    "snail = SNAIL(EJ,EC,beta,ng,ncut,flux,N,dims)\n",
    "\n",
    "omega_c1 = 7*2*np.pi\n",
    "g_int1 = 0.15*2*np.pi\n",
    "dimc1 = 5\n",
    "trunc1 = dims * dimc1\n",
    "cavity1 = Cavity(omega_c1,g_int1,dimc1)\n",
    "\n",
    "# omega_c2 = 3*2*np.pi\n",
    "# g_int2 = 0.15*2*np.pi\n",
    "# dimc2 = 100\n",
    "# trunc2 = dims*dimc2\n",
    "# cavity2 = Cavity(omega_c2,g_int2,dimc2)"
   ]
  },
  {
   "cell_type": "code",
   "execution_count": 3,
   "id": "d6950bcd",
   "metadata": {},
   "outputs": [],
   "source": [
    "flux_values = np.linspace(0.42, 0.44, 100)\n",
    "Hss = []\n",
    "charge_ops = []\n",
    "snail_freqs = []\n",
    "snail_anhs = []\n",
    "snail_freqs2 = []\n",
    "for flux in flux_values:\n",
    "    snail_back = SNAIL(EJ,EC,beta,ng,ncut,flux,N,dims)\n",
    "    snail_anhs.append(snail_back.anh)\n",
    "    H, op = snail_back.spectrum_charge()\n",
    "    snail_freqs2.append(H[2,2]/2/np.pi)\n",
    "    snailc =  SNAILC(snail_back, cavity1, trunc1)\n",
    "    snailc.parameters()\n",
    "    Hs , charge_op = snailc.dressed_H, snailc.dressed_charge\n",
    "    energy = np.diag(Hs)\n",
    "    Hss.append(Hs)\n",
    "    index = np.argmin(np.abs(energy - snail_back.omegas* np.ones(len(energy))))\n",
    "    snail_freqs.append(energy[index])\n",
    "    charge_ops.append(charge_op)"
   ]
  },
  {
   "cell_type": "code",
   "execution_count": 4,
   "id": "f977154d",
   "metadata": {},
   "outputs": [],
   "source": [
    "def find_best_b_and_k(a, B, omega):\n",
    "    min_diff = float('inf')  # Initialize with a very large number\n",
    "    best_b = None\n",
    "    best_k = None\n",
    "\n",
    "    # Iterate over each element in B\n",
    "    for b in B:\n",
    "        # Iterate over each k in the range [-1000, 1000]\n",
    "        for k in range(-1000, 1001):  # 1001 is used to include 1000 in the range\n",
    "            diff = abs(a - (b + k * omega))\n",
    "            # Update min_diff and best_b if a smaller difference is found\n",
    "            if diff < min_diff:\n",
    "                min_diff = diff\n",
    "                best_b = b\n",
    "                best_k = k\n",
    "\n",
    "    return best_b, best_k, min_diff"
   ]
  },
  {
   "cell_type": "code",
   "execution_count": 5,
   "id": "edc702cc",
   "metadata": {},
   "outputs": [],
   "source": [
    "import qutip as qt  \n",
    "def find_optimal_k(A, B, D):\n",
    "    # Define a large initial minimum difference\n",
    "    min_diff = float('inf')\n",
    "    optimal_k = None\n",
    "    \n",
    "    # Iterate over a range of possible k values\n",
    "    # The range can be adjusted based on expected size of k or other insights you have about your problem\n",
    "    for k in range(-1000, 1000):\n",
    "        # Calculate the difference for this value of k\n",
    "        diff = abs(A - (B + k * D))\n",
    "        \n",
    "        # If this is the smallest difference we've found so far, update min_diff and optimal_k\n",
    "        if diff < min_diff:\n",
    "            min_diff = diff\n",
    "            optimal_k = k\n",
    "            \n",
    "    return optimal_k\n",
    "# Function to calculate overlap (you might use inner product, fidelity, etc.)\n",
    "def calculate_overlap(state1, state2):\n",
    "    return abs((state1.dag() * state2)[0,0])**2\n",
    "def floquet_spec(Hs,Hc, omega, A,omegas):\n",
    "#     Hs[0][0] = Hs[0][0]+Hs[1][1]\n",
    "#     Hs[1][1] = Hs[1][1]+Hs[1][1]\n",
    "    energy = np.diag(Hs)\n",
    "    indexs1 = np.argmin(np.abs(energy - omegas * np.ones(len(energy))))\n",
    "    indexc1 = np.argmin(np.abs(energy - omega_c1 * np.ones(len(energy))))\n",
    "    indexc2 = np.argmin(np.abs(energy - 2 * omega_c1 * np.ones(len(energy))))\n",
    "    indexsc = np.argmin(np.abs(energy - (omegas+omega_c1) * np.ones(len(energy))))\n",
    "    indexs2 = np.argmin(np.abs(energy - (2*omegas) * np.ones(len(energy))))\n",
    "    Hs = Qobj(Hs)\n",
    "    \n",
    "    Hc = Qobj(Hc)\n",
    "    args = {'w': omega}\n",
    "    T = (2*np.pi)/omega\n",
    "    H = [Hs,  [Hc, lambda t, args: A*np.cos(args['w']*t)],] \n",
    "    options = Options(nsteps=100000)  # Increasing nsteps to 10000, adjust as needed\n",
    "    f_modes, f_energies = floquet_modes(H, T, args, True, options=options) \n",
    "    basis_states = [qt.basis(trunc1, 0),qt.basis(trunc1, indexs1),qt.basis(trunc1,indexc1),qt.basis(trunc1,indexc2),qt.basis(trunc1,indexsc)\n",
    "                   ,qt.basis(trunc1,indexsc),qt.basis(trunc1,indexs2)]\n",
    "    \n",
    "    # Initialize a list to hold the indices of the Floquet states with the maximum overlap for each basis state\n",
    "    max_overlap_indices = [-1] * 7\n",
    "    max_overlaps = [0] * 7\n",
    "    # Loop over each Floquet state\n",
    "    for f_index, f_state in enumerate(f_modes):\n",
    "        # Loop over each basis state\n",
    "        for b_index, b_state in enumerate(basis_states):\n",
    "            # Calculate the overlap\n",
    "            overlap = calculate_overlap(f_state, b_state)\n",
    "\n",
    "            # If this is the maximum overlap for this basis state, store the index\n",
    "            if overlap > max_overlaps[b_index]:\n",
    "                max_overlaps[b_index] = overlap\n",
    "                max_overlap_indices[b_index] = f_index\n",
    "    energyg = f_energies[max_overlap_indices[0]]/2/np.pi\n",
    "    print(max_overlaps)\n",
    "    energys1 = f_energies[max_overlap_indices[1]]/2/np.pi\n",
    "    k = find_optimal_k(omega_c1/2/np.pi, energys1, omega/2/np.pi)\n",
    "    energys1 = energys1 + k*omega/2/np.pi - energyg\n",
    "    \n",
    "    \n",
    "    energyc1 = f_energies[max_overlap_indices[2]]/2/np.pi\n",
    "    k = find_optimal_k(omega_c1/2/np.pi, energyc1, omega/2/np.pi)\n",
    "    energyc1 = energyc1 + k*omega/2/np.pi - energyg\n",
    "    \n",
    "    energysc = f_energies[max_overlap_indices[4]]/2/np.pi\n",
    "    k = find_optimal_k((omega_c1+omegas)/2/np.pi, energysc, omega/2/np.pi)\n",
    "    starkshift = energysc - energyg + k*omega/2/np.pi - energyc1 - energys1\n",
    "    \n",
    "    energyc2 = f_energies[max_overlap_indices[3]]/2/np.pi\n",
    "    k = find_optimal_k(2*omega_c1/2/np.pi, energyc2, omega/2/np.pi)\n",
    "    energyc2 = energyc2 +k*omega/2/np.pi\n",
    "    \n",
    "    selfkerr = energyc2-energyg - 2*energyc1\n",
    "    \n",
    "    energys2 = f_energies[max_overlap_indices[5]]/2/np.pi\n",
    "    \n",
    "    k = find_optimal_k(2*omegas/2/np.pi, energys2, omega/2/np.pi)\n",
    "    energys2 = energys2 + k*omega/2/np.pi - energyg\n",
    "#     print(f_energies[max_overlap_indices[1]],f_energies[max_overlap_indices[0]])\n",
    "    return energyc1, starkshift, selfkerr,energys2 ,energys1"
   ]
  },
  {
   "cell_type": "code",
   "execution_count": 6,
   "id": "c20c9e72",
   "metadata": {},
   "outputs": [
    {
     "name": "stderr",
     "output_type": "stream",
     "text": [
      "/Users/apple/miniconda3/lib/python3.8/site-packages/matplotlib/cbook/__init__.py:1369: ComplexWarning: Casting complex values to real discards the imaginary part\n",
      "  return np.asarray(x, float)\n"
     ]
    },
    {
     "data": {
      "text/plain": [
       "[<matplotlib.lines.Line2D at 0x7fabd15eaeb0>]"
      ]
     },
     "execution_count": 6,
     "metadata": {},
     "output_type": "execute_result"
    },
    {
     "data": {
      "image/png": "[encoded data removed]",
      "text/plain": [
       "<Figure size 432x288 with 1 Axes>"
      ]
     },
     "metadata": {
      "needs_background": "light"
     },
     "output_type": "display_data"
    }
   ],
   "source": [
    "plt.plot(flux_values,np.array(snail_freqs)/2/np.pi)"
   ]
  },
  {
   "cell_type": "code",
   "execution_count": 7,
   "id": "57f80b2a",
   "metadata": {},
   "outputs": [
    {
     "data": {
      "text/plain": [
       "[<matplotlib.lines.Line2D at 0x7fabd2ba0f10>]"
      ]
     },
     "execution_count": 7,
     "metadata": {},
     "output_type": "execute_result"
    },
    {
     "data": {
      "image/png": "[encoded data removed]",
      "text/plain": [
       "<Figure size 432x288 with 1 Axes>"
      ]
     },
     "metadata": {
      "needs_background": "light"
     },
     "output_type": "display_data"
    }
   ],
   "source": [
    "plt.plot(flux_values,np.array(snail_anhs)/2/np.pi)"
   ]
  },
  {
   "cell_type": "code",
   "execution_count": 8,
   "id": "f30a63cb",
   "metadata": {
    "scrolled": true
   },
   "outputs": [
    {
     "name": "stdout",
     "output_type": "stream",
     "text": [
      "[0.998821708188896, 0.9970683288315241, 0.9988238151547937, 0.9988259224051618, 0.9970742036594709, 0.9970742036594709, 0.9962664065540316]\n",
      "[0.9987926829581711, 0.9970073238294035, 0.9987948968739693, 0.9987971108335792, 0.9970134383642064, 0.9970134383642064, 0.9962075087774485]\n",
      "[0.9987625984929033, 0.9969444160242011, 0.9987649253294758, 0.9987672519431792, 0.9969507815056273, 0.9969507815056273, 0.9961472537068252]\n",
      "[0.9987314032725549, 0.9968795246847263, 0.9987338493945891, 0.9987362949985209, 0.996886152992287, 0.996886152992287, 0.9960855994774529]\n",
      "[0.9986990426255902, 0.9968125646703625, 0.9987016148221144, 0.9987041861739576, 0.9968194683672279, 0.9968194683672279, 0.9960225025795223]\n",
      "[0.9986654584963013, 0.9967434461343219, 0.9986681640188341, 0.9986708684631528, 0.9967506385907433, 0.9967506385907433, 0.995957917806931]\n",
      "[0.9986305891911704, 0.9966720741935956, 0.9986334357704373, 0.9986362807412648, 0.9966795693326959, 0.9966795693326959, 0.9958917980315223]\n",
      "[0.9985943691030565, 0.9965983485949474, 0.9985973650180211, 0.9986003588834036, 0.996606161409371, 0.996606161409371, 0.9958240943985479]\n",
      "[0.9985567284104115, 0.9965221633215763, 0.9985598825119928, 0.998563034077011, 0.9965303096252479, 0.9965303096252479, 0.9957547559474474]\n",
      "[0.998517592749656, 0.9964434061904794, 0.9985209145130348, 0.998524233202416, 0.9964519027617245, 0.9964519027617245, 0.9956837296549248]\n",
      "[0.9984768828570846, 0.9963619584054119, 0.9984803824336362, 0.9984838783431971, 0.9963708230582968, 0.9963708230582968, 0.9956109603007662]\n",
      "[0.9984345141778929, 0.9962776940727645, 0.998438202452136, 0.9984418864051664, 0.996286945734756, 0.996286945734756, 0.9955363903556793]\n",
      "[0.998390396438237, 0.9961904796747202, 0.9983942850903599, 0.9983981686995204, 0.9962001384712674, 0.9962001384712674, 0.9954599598624516]\n",
      "[0.9983444331764327, 0.9961001734951789, 0.9983485347510191, 0.998352630486373, 0.996110260841982, 0.996110260841982, 0.9953816063096983]\n",
      "[0.9982965212289557, 0.9960066249936796, 0.9983008492106126, 0.998305170474457, 0.9960171636974468, 0.9960171636974468, 0.9953012644978236]\n",
      "[0.9982465501659843, 0.9959096741217363, 0.9982511190626739, 0.998255680271984, 0.9959206884903373, 0.9959206884903373, 0.9952188663965248]\n",
      "[0.9981944016709732, 0.9958091505751205, 0.9981992271059411, 0.9982040437832926, 0.9958206665381901, 0.9958206665381901, 0.9951343409932721]\n",
      "[0.9981399488575202, 0.9957048729753467, 0.9981450476708382, 0.9981501365448342, 0.9957169182164701, 0.9957169182164701, 0.9950476141320471]\n",
      "[0.99808305551664, 0.9955966479722995, 0.9980884458775221, 0.9980938249938183, 0.9956092520741032, 0.9956092520741032, 0.9949586083417663]\n",
      "[0.9980235752858132, 0.9954842692591418, 0.9980292768170164, 0.9980349656612824, 0.9954974638627757, 0.9954974638627757, 0.9948672426533096]\n",
      "[0.9979613507307354, 0.9953675164892664, 0.9979673846465209, 0.9979734042807736, 0.995381335469929, 0.995381335469929, 0.9947734324045646]\n",
      "[0.9978962123288527, 0.9952461540840131, 0.9979026015882316, 0.9979089748022262, 0.9952606337444424, 0.9952606337444424, 0.9946770890325115]\n",
      "[0.9978279773428925, 0.9951199299180762, 0.99783474682009, 0.9978414982996611, 0.9951351092021509, 0.9951351092021509, 0.9945781198511371]\n",
      "[0.9977564485702712, 0.9949885738678832, 0.9977636252446168, 0.997770781759173, 0.9950044945967857, 0.9950044945967857, 0.9944764278143081]\n",
      "[0.9976814129526954, 0.9948517962060683, 0.9976890261205053, 0.9976966167321923, 0.9948685033398336, 0.9948685033398336, 0.9943719112623072]\n",
      "[0.9976026400279664, 0.994709285822897, 0.9976107215393412, 0.9976187778366943, 0.9947268277505449, 0.9947268277505449, 0.9942644636506347]\n",
      "[0.9975198802027843, 0.9945607082524377, 0.9975284647266834, 0.9975370210861552, 0.9945791371143478, 0.9945791371143478, 0.9941539732598464]\n",
      "[0.9974328628236309, 0.9944057034789823, 0.9974419881451096, 0.9974510820241714, 0.9944250755257271, 0.9944250755257271, 0.9940403228844757]\n",
      "[0.9973412940166761, 0.9942438834936276, 0.9973510013707833, 0.9973606736371131, 0.9942642594861438, 0.9942642594861438, 0.993923389499851]\n",
      "[0.9972448542668351, 0.9940748295690447, 0.9972551887143682, 0.99726548401617, 0.9940962752257092, 0.9940962752257092, 0.9938030439043433]\n",
      "[0.9971431956971838, 0.993898089212616, 0.9971542065483415, 0.9971651737317484, 0.9939206757097312, 0.9939206757097312, 0.9936791503354706]\n",
      "[0.9970359390079021, 0.9937131727548076, 0.9970476803008932, 0.9970593728813006, 0.9937369772879867, 0.9937369772879867, 0.9935515660572996]\n",
      "[0.9969226700232218, 0.9935195495196238, 0.996935201065817, 0.9969476777513325, 0.993544655931536, 0.993544655931536, 0.9934201409158274]\n",
      "[0.9968029357905703, 0.9933166435188641, 0.9968163217750319, 0.996829647098751, 0.9933431430189386, 0.9933431430189386, 0.9932847168642515]\n",
      "[0.9966762401620385, 0.9931038285983772, 0.9966905528632364, 0.9967047978447188, 0.9931318205570354, 0.9931318205570354, 0.9931451274444568]\n",
      "[0.9965420387803336, 0.9928804229557936, 0.9965573573516001, 0.9965726002873989, 0.9929100158149656, 0.9929100158149656, 0.9930011972346281]\n",
      "[0.9963997333756582, 0.9926456829334936, 0.9964161452573995, 0.9964324726141699, 0.9926769952365708, 0.9926769952365708, 0.9928527412499554]\n",
      "[0.9962486652625513, 0.9923987959729963, 0.9962662672222042, 0.9962837746585529, 0.9924319575359273, 0.9924319575359273, 0.9926995642957103]\n",
      "[0.9960881079083453, 0.9921388725992853, 0.9961070072336321, 0.9961258007719346, 0.9921740258456769, 0.9921740258456769, 0.9925414602680106]\n",
      "[0.9959172584177635, 0.9918649372770502, 0.9959375742938216, 0.9959577718175175, 0.9919022388122231, 0.9919022388122231, 0.9923782114083894]\n",
      "[0.9957352277504907, 0.9915759179479888, 0.9957570928295384, 0.9957788251961249, 0.9916155401659521, 0.9916155401659521, 0.9922095874375977]\n",
      "[0.9955410294532564, 0.991270634037192, 0.9955645916986549, 0.9955880049670163, 0.9913127672720796, 0.9913127672720796, 0.9920353447353705]\n",
      "[0.9953335666437223, 0.9909477826483741, 0.9953589914491661, 0.9953842488196984, 0.9909926374464114, 0.9909926374464114, 0.9918552253291288]\n",
      "[0.9951116169319433, 0.9906059226397387, 0.9951390895916814, 0.9951663738262256, 0.990653732440485, 0.990653732440485, 0.9916689558558892]\n",
      "[0.9948738148980412, 0.9902434561911009, 0.9949035434892555, 0.9949330597333489, 0.9902944804384223, 0.9902944804384223, 0.9914762464208782]\n",
      "[0.9946186316674892, 0.989858607399947, 0.9946508504245041, 0.9946828295090796, 0.9899131351637653, 0.9899131351637653, 0.9912767893538139]\n",
      "[0.9943443510236472, 0.989449397346905, 0.9943793243375236, 0.9944140276625774, 0.9895077518384875, 0.9895077518384875, 0.9910702579159774]\n",
      "[0.9940490413751618, 0.9890136149149239, 0.9940870683580876, 0.9941247895191764, 0.9890761576104408, 0.9890761576104408, 0.9908563045689097]\n",
      "[0.9937305227430454, 0.9885487825974478, 0.9937719428571895, 0.9938130159038976, 0.9886159198996335, 0.9886159198996335, 0.9906345597283268]\n",
      "[0.9933863277354917, 0.9880521161630091, 0.9934315273197906, 0.993476332228422, 0.9881243060304145, 0.9881243060304145, 0.9904046297456887]\n",
      "[0.9930136552383869, 0.9875204769738465, 0.9930630753053137, 0.9931120449918559, 0.9875982369498746, 0.9875982369498746, 0.99016609499432]\n",
      "[0.992609315239513, 0.9869503153652881, 0.9926634609051731, 0.992717092133205, 0.9870342327913904, 0.9870342327913904, 0.9899185078674602]\n",
      "[0.9921696628088406, 0.9863376030771847, 0.992229114506981, 0.9922879778057351, 0.9864283464823603, 0.9864283464823603, 0.9896613902752744]\n",
      "[0.9916905187559377, 0.9856777523056084, 0.9917559457696657, 0.9918206972131288, 0.9857760851049324, 0.9857760851049324, 0.9893942310612437]\n",
      "[0.9911670738360883, 0.9849655182637276, 0.991239250862633, 0.9913106500431152, 0.9850723162009358, 0.9850723162009358, 0.9891164833231754]\n",
      "[0.9905937725324478, 0.9841948812583823, 0.9906735997613216, 0.9907525286863484, 0.9843111528550185, 0.9843111528550185, 0.9888275611435821]\n",
      "[0.9899641713454185, 0.9833589032925295, 0.9900526990963666, 0.9901401860969151, 0.9834858150094432, 0.9834858150094432, 0.9885268361499487]\n",
      "[0.9892707650845827, 0.9824495527211201, 0.9893692241666456, 0.9894664733283615, 0.9825884598551621, 0.9825884598551621, 0.9882136336668718]\n",
      "[0.9885047727547959, 0.9814574886350116, 0.9886146120877316, 0.9887230396834412, 0.9816099734805988, 0.9816099734805988, 0.9878872284470261]\n"
     ]
    },
    {
     "name": "stdout",
     "output_type": "stream",
     "text": [
      "[0.9876558721004622, 0.980371794145713, 0.9877788056122697, 0.9879000854688689, 0.9805397134174788, 0.9805397134174788, 0.9875468399237066]\n",
      "[0.9867118684998165, 0.9791796444179554, 0.9868499338673599, 0.9869860520573064, 0.9793651881871238, 0.9793651881871238, 0.9871916268625901]\n",
      "[0.9856582793409464, 0.9778658908475231, 0.9858139125010509, 0.9859672451980086, 0.9780716583014822, 0.9780716583014822, 0.9868206816937859]\n",
      "[0.9844778088230954, 0.9764125365617246, 0.9846539381073588, 0.9848273356787243, 0.9766416294630605, 0.9766416294630605, 0.9864330235373436]\n",
      "[0.9831496796968849, 0.9747980703577029, 0.9833498468493306, 0.9835467547846249, 0.9750542146841862, 0.9750542146841862, 0.986027591110372]\n",
      "[0.9816487767957869, 0.9729966144850923, 0.9818772927352256, 0.9821018988722972, 0.9732843155713075, 0.9732843155713075, 0.985603234229728]\n",
      "[0.9799445411026536, 0.9709768260792694, 0.9802066888736113, 0.980464128577251, 0.9713015717510626, 0.9713015717510626, 0.9851587046884323]\n",
      "[0.9779995305688745, 0.9687004697130533, 0.9783018295596211, 0.978598411648045, 0.9690689901205718, 0.9690689901205718, 0.9846926449666742]\n",
      "[0.9757675323141326, 0.9661205480377532, 0.9761180896543273, 0.9764616588167365, 0.9665411668826741, 0.9665411668826741, 0.9842035772493082]\n",
      "[0.9731910661997657, 0.9631788331072304, 0.9736000429284863, 0.9740004167441285, 0.9636619282883253, 0.9636619282883253, 0.9836898891308758]\n",
      "[0.9701980566997717, 0.9598025799956378, 0.9706782940425038, 0.9711478604044215, 0.9603612025699652, 0.9603612025699652, 0.9831498182496636]\n",
      "[0.9666973605044397, 0.9559001165560973, 0.9672652274077004, 0.9678197517507885, 0.956550826969239, 0.956550826969239, 0.9825814345240776]\n",
      "[0.9625727112679898, 0.9513548804827131, 0.9632492599497811, 0.963908984227458, 0.9521188868420822, 0.9521188868420822, 0.9819826197604522]\n",
      "[0.9576744669543715, 0.9460173037072501, 0.9584870185531832, 0.9592781673070826, 0.9469220211826814, 0.9469220211826814, 0.9813510441497297]\n",
      "[0.9518083060761751, 0.9396937122909085, 0.9527926361551291, 0.9537494841299177, 0.9407749085914809, 0.9407749085914809, 0.9806841390104559]\n",
      "[0.94471970988375, 0.9321311116480602, 0.9459230665596348, 0.947090818882496, 0.9334358658764922, 0.9334358658764922, 0.9799790653079139]\n",
      "[0.9360727100508626, 0.9229963850410731, 0.9375579622337048, 0.9389966754662071, 0.924587144578831, 0.924587144578831, 0.9792326763723783]\n",
      "[0.9254210816178905, 0.9118481552820324, 0.927272349861459, 0.9290622950638739, 0.9138082312093264, 0.9138082312093264, 0.978441474512367]\n",
      "[0.9121702395674708, 0.8980996639383576, 0.9145003128840916, 0.9167490747923356, 0.9005404471533532, 0.9005404471533532, 0.9776015593934375]\n",
      "[0.8955293838907895, 0.8809723299019584, 0.8984888925023038, 0.9013402681902922, 0.8840421748034415, 0.8840421748034415, 0.9767085665116982]\n",
      "[0.8744578422473672, 0.8594440382486378, 0.8782450926459578, 0.8818889361649805, 0.8633377025478471, 0.8633377025478471, 0.9757575931520036]\n",
      "[0.847620959323494, 0.8322074770135094, 0.8524886919882506, 0.8571685901106217, 0.8371723957256957, 0.8371723957256957, 0.974743108562353]\n",
      "[0.8133955652211103, 0.7976780924512104, 0.8196454061258136, 0.8256561105429435, 0.804008378234291, 0.804008378234291, 0.9736588436549373]\n",
      "[0.7700080088556085, 0.7541331735263198, 0.7779546124582009, 0.7856129019486335, 0.7621336932102439, 0.7621336932102439, 0.9724976540549582]\n",
      "[0.715934656979401, 0.7001087545264922, 0.7258145366905681, 0.7353790914360827, 0.710004980031709, 0.710004980031709, 0.9712513476446005]\n",
      "[0.6506700767659961, 0.6351549002677599, 0.6624841180213319, 0.6740083783797925, 0.6469383837925705, 0.6469383837925705, 0.9699104639623458]\n",
      "[0.575718029430317, 0.5608024344223176, 0.5890606916148181, 0.6022168251779011, 0.5740648611737681, 0.5740648611737681, 0.9684639868884797]\n",
      "[0.5045761509236828, 0.4952637325159561, 0.5091780909843209, 0.5231843850484281, 0.49500095903542657, 0.49500095903542657, 0.9668989626713477]\n",
      "[0.5847555870782498, 0.5730470195484253, 0.5711421584043495, 0.5573581084265445, 0.5598915269876684, 0.5598915269876684, 0.9651999800402539]\n",
      "[0.658770988450173, 0.6445062981671834, 0.6464756787700366, 0.6338760989099578, 0.6326992028232669, 0.6326992028232669, 0.9633484434173702]\n",
      "[0.7227992886742869, 0.7059241529599289, 0.7123264515271507, 0.7014949579944854, 0.6959544465628391, 0.6959544465628391, 0.9613215259165363]\n",
      "[0.7755800304136015, 0.7561069544418361, 0.7670153291690012, 0.7581023080347724, 0.748052072375987, 0.748052072375987, 0.9590906069445748]\n",
      "[0.8177607651710543, 0.7957283812876922, 0.8109251394869533, 0.8037856454046114, 0.7894071137987172, 0.7894071137987172, 0.9566188510250277]\n",
      "[0.8509049306925508, 0.8263523494180841, 0.8455154720088427, 0.8398759115058649, 0.8214826747910934, 0.8214826747910934, 0.9538572830532115]\n",
      "[0.8767566385331098, 0.8497166275963665, 0.8725283374099994, 0.8680994920076942, 0.8460141256368668, 0.8460141256368668, 0.9507380998468268]\n",
      "[0.8968650139473823, 0.8673755500608861, 0.8935572931882733, 0.8900888722516995, 0.8645962978119199, 0.8645962978119199, 0.947162593697491]\n",
      "[0.9124477355824414, 0.8805860266690934, 0.9098803228352765, 0.9071802919497108, 0.8785369754792858, 0.8785369754792858, 0.9429778234387142]\n",
      "[0.9243550936474184, 0.8903119289174679, 0.9224154613974337, 0.9203575171353968, 0.8888470101311339, 0.8888470101311339, 0.9379277650459712]\n",
      "[0.9330229137138133, 0.8972704365956499, 0.9316860410181657, 0.9302245464115777, 0.8962823268096477, 0.8962823268096477, 0.9315404396153504]\n",
      "[0.9382704535767498, 0.9019845624382916, 0.9376707109135909, 0.9368956183598353, 0.9013964216136232, 0.9013964216136232, 0.9228324854413645]\n",
      "[0.9385249756858294, 0.9048286307037645, 0.9392229793373892, 0.9395598979661407, 0.9045872647826623, 0.9045872647826623, 0.9093986252391618]\n"
     ]
    }
   ],
   "source": [
    "omega = 4.83*2*np.pi\n",
    "A = 0.005*2*np.pi\n",
    "floquet_results = []\n",
    "for i in range(len(flux_values)):\n",
    "    floquet_results.append(floquet_spec(Hss[i],charge_ops[i], omega, A,snail_freqs[i]))"
   ]
  },
  {
   "cell_type": "code",
   "execution_count": 9,
   "id": "733bf5b6",
   "metadata": {},
   "outputs": [],
   "source": [
    "floquet_results = np.array(floquet_results)"
   ]
  },
  {
   "cell_type": "code",
   "execution_count": 10,
   "id": "8edb79e6",
   "metadata": {},
   "outputs": [
    {
     "data": {
      "image/png": "[encoded data removed]",
      "text/plain": [
       "<Figure size 432x288 with 1 Axes>"
      ]
     },
     "metadata": {
      "needs_background": "light"
     },
     "output_type": "display_data"
    }
   ],
   "source": [
    "floquet_results = np.array(floquet_results)\n",
    "# Plotting\n",
    "plt.plot(flux_values, floquet_results[:,0])\n",
    "# plt.plot(flux_values, -(floquet_results/2/np.pi)[:,4]+(floquet_results/2/np.pi)[:,7])\n",
    "plt.xlabel('Flux')\n",
    "plt.ylabel('Floquet Spectrum Result')\n",
    "plt.title('Floquet Spectrum vs Flux')\n",
    "# plt.ylim(7.0049,7.00496)\n",
    "plt.show()"
   ]
  },
  {
   "cell_type": "code",
   "execution_count": 11,
   "id": "4db53839",
   "metadata": {},
   "outputs": [],
   "source": [
    "## import numpy as np\n",
    "import matplotlib.pyplot as plt\n",
    "import scipy as sci\n",
    "from cosmatrix import cosm,expm_pade\n",
    "expm = expm_pade\n",
    "from autograd.extend import primitive, defvjp\n",
    "from qutip import *\n",
    "def annihilation(dim):\n",
    "    return np.diag(np.sqrt(np.arange(1,dim)),1)\n",
    "def creation(dim):\n",
    "    return np.diag(np.sqrt(np.arange(1,dim)),-1)\n",
    "def SNAIL_H(phi_ex,beta,N,Ej,Ec):\n",
    "    phi_ex = 2*np.pi*phi_ex\n",
    "    def Us_min(phi_ex):\n",
    "        def U_s(phi): \n",
    "            return (-beta*np.cos(phi-phi_ex)-N*np.cos((phi)/N))\n",
    "        phi_min = sci.optimize.minimize(U_s,0).x\n",
    "        return phi_min\n",
    "    \n",
    "    def phi_minde(ans, phi_ex):\n",
    "        def phi_minde_vjp(g):\n",
    "            c2 = beta*np.cos(ans - phi_ex) + 1/N*np.cos(ans/N)\n",
    "            return g*beta*np.cos(ans - phi_ex)/c2\n",
    "        return phi_minde_vjp\n",
    "\n",
    "    phi_min = Us_min(phi_ex)\n",
    "    # potential expansion around minimum\n",
    "    c2 = beta*np.cos(phi_min - phi_ex) + 1/N*np.cos(phi_min/N)\n",
    "    omega_s = np.sqrt(8*c2*Ej*Ec)\n",
    "    phi_zpf = np.power(2*Ec/(Ej*c2),1/4)\n",
    "    g2 = Ej*phi_zpf**2*c2/2\n",
    "    sdim = 10\n",
    "    s = annihilation(sdim)\n",
    "    sd = creation(sdim)\n",
    "    x2 = np.matmul(s+sd,s+sd)\n",
    "    c3 = (N**2-1)/N**2*np.sin(phi_min/N)\n",
    "    g3 = Ej*phi_zpf**3*c3/3/2\n",
    "    c4 = -beta*np.cos(phi_min-phi_ex) -1/N**3*np.cos(phi_min/N)\n",
    "\n",
    "    g4 = Ej*phi_zpf**4*c4/4/3/2\n",
    "    Hs = omega_s * np.matmul(sd,s)+(\n",
    "        - Ej*(beta*cosm(phi_zpf*(s+sd)+(phi_min-phi_ex)*np.identity(sdim))\n",
    "        + N*cosm((phi_zpf*(s+sd)+phi_min*np.identity(sdim))/N))- g2*x2)\n",
    "    energy,U = np.linalg.eigh(Hs)\n",
    "    for i in range(U.shape[1]):\n",
    "        if U[i, i] < 0:\n",
    "            U[:, i] *= -1\n",
    "    U_dag = np.conjugate(U.transpose())\n",
    "    \n",
    "    Hs = Hs\n",
    "    \n",
    "    return Hs-energy[0]*np.identity(sdim),-1j*(s-sd),phi_zpf,c2"
   ]
  },
  {
   "cell_type": "code",
   "execution_count": 12,
   "id": "7f20bfc0",
   "metadata": {},
   "outputs": [],
   "source": [
    "def sort(energies,U,H):\n",
    "    diagonal_elements = np.diag(H)\n",
    "\n",
    "    # Find the index of the closest diagonal element for each eigenvalue\n",
    "    closest_indices = np.argmin(abs(energies[:, np.newaxis] - diagonal_elements), axis=1)\n",
    "\n",
    "    # Sort energies and U according to the indices of closest diagonal elements\n",
    "    sorted_energies = energies[np.argsort(closest_indices)]\n",
    "    U = U[:, np.argsort(closest_indices)]\n",
    "    return sorted_energies,U"
   ]
  },
  {
   "cell_type": "code",
   "execution_count": 13,
   "id": "c4e95f09",
   "metadata": {
    "scrolled": false
   },
   "outputs": [
    {
     "data": {
      "text/plain": [
       "array([7.00459567])"
      ]
     },
     "execution_count": 13,
     "metadata": {},
     "output_type": "execute_result"
    }
   ],
   "source": [
    "from scipy.sparse.linalg import expm\n",
    "from scipy.linalg import logm\n",
    "def floquet_spec3(omega,A,phi_ex,omega_c,g_int):\n",
    "    beta = 0.12\n",
    "    N = 3\n",
    "    Ej = 70*2*np.pi\n",
    "    Ec = 0.177*2*np.pi\n",
    "    \n",
    "    H0,v,phi_zpf,c2 = SNAIL_H(phi_ex,beta,N,Ej,Ec)\n",
    "    g_int = g_int*c2**0.25\n",
    "    \n",
    "    energies,U=np.linalg.eig(H0)\n",
    "    energies = energies - energies[0]*np.ones(len(energies))\n",
    "    sorted_indices = np.argsort(energies)\n",
    "\n",
    "    U = U[:, sorted_indices]\n",
    "    Ud = U.transpose().conjugate()\n",
    "    \n",
    "    energies = np.sort(energies)\n",
    "    omega_s = energies[1]\n",
    "    anh = energies[2] - 2* energies[1]\n",
    "    dims = 10\n",
    "    s = annihilation(dims)\n",
    "    sd = creation(dims)\n",
    "    delta = (omega_s-omega)\n",
    "\n",
    "    cdim = 6\n",
    "    c = annihilation(cdim)\n",
    "    cd = creation(cdim)\n",
    "    Ic = np.identity(cdim)\n",
    "    Is = np.identity(dims)\n",
    "    s = np.kron(s,Ic)\n",
    "    sd = np.kron(sd,Ic)\n",
    "    c = np.kron(Is,c)\n",
    "    cd = np.kron(Is,cd)\n",
    "    H = omega_s*sd@s  + omega_c * cd@c +g_int*((s+sd)@(cd+c))\n",
    "    energies,U=np.linalg.eig(H)\n",
    "        # Get the diagonal elements of H\n",
    "    sorted_energies,U = sort(energies,U,H)\n",
    "    Ud = U.transpose().conjugate()\n",
    "    Hnl = Ud@(anh/2*sd@sd@s@s)@U\n",
    "    H =  omega_s*sd@s  + omega_c * cd@c +g_int*((s+sd)@(cd+c))+(anh/2*sd@sd@s@s)\n",
    "\n",
    "    \n",
    "    delta = (omega_c-omega_s)\n",
    "    p=8*g_int**4*omega_c*omega_s**2/(omega_c**6-3*omega_c**4*omega_s**2+3*omega_c**2*omega_s**4-omega_s**6)\n",
    "#     H = (omega_s-g_int**2/delta + g_int**2/(omega_c+omega_s)+p)*sd@s+(omega_c+g_int**2/delta - g_int**2/(omega_c+omega_s)-p)*cd@c+Hnl\n",
    "    lam = g_int/(-delta)\n",
    "    sorted_energies = sorted_energies - sorted_energies[0]*np.ones(len(sorted_energies))\n",
    "    omega_sp = sorted_energies[np.argmin(np.abs(sorted_energies - omega_s))]\n",
    "    omega_cp = sorted_energies[1]\n",
    "    eta = A/2/phi_zpf/2\n",
    "    delta = (omega_sp-omega)\n",
    "    \n",
    "    s = annihilation(dims)\n",
    "    sd = creation(dims)\n",
    "    c = annihilation(cdim)\n",
    "    cd = creation(cdim)\n",
    "    Ic = np.identity(cdim)\n",
    "    Is = np.identity(dims)\n",
    "    \n",
    "    \n",
    "    Hs = delta*sd@s +(anh/2*sd@sd@s@s)+ eta*(s+sd)\n",
    "    energies,U = np.linalg.eig(Hs)\n",
    "    energies,U = sort(energies,U,Hs)\n",
    "    Ud = U.transpose().conjugate()\n",
    "    \n",
    "    ele = [1 / (delta + anh* (n)) for n in range(0,dims)]\n",
    "    diagonal_matrix = np.diag(np.ravel(np.array(ele)))\n",
    "    result = -1j*eta*(sd@diagonal_matrix + diagonal_matrix@s)\n",
    "    U = (np.identity(dims)+result)\n",
    "    Ud = U.transpose().conjugate()\n",
    "    \n",
    "    energies = np.diag(Ud@Hs@U)\n",
    "    energies,U = sort(energies,U,Hs)\n",
    "    Ud = U.transpose().conjugate()\n",
    "#     Hs =  (delta+4*eta**2/(delta+anh))*sd@s +(anh/2*sd@sd@s@s)+ eta*(s+sd)\n",
    "    term = Ud@sd@s@U\n",
    "    upper_diag0 = np.diag(np.diag(term, k=0), k=0)  # Rebuild the matrix with modified diagonal\n",
    "    upper_diag1 = np.diag(np.diag(term, k=1), k=1)\n",
    "    lower_diag1 = np.diag(np.diag(term, k=-1), k=-1)\n",
    "    upper_diag2 = np.diag(np.diag(term, k=2), k=2)\n",
    "    lower_diag2 = np.diag(np.diag(term, k=-2), k=-2)\n",
    "    H = np.kron((delta+4*eta**2/(anh+delta))*sd@s +(anh/2*sd@sd@s@s),Ic) + np.kron(Is,omega_cp*cd@c)+np.kron(2*lam**2*anh*(upper_diag1+lower_diag1),cd@c)\n",
    "    energies,U = np.linalg.eig(H)\n",
    "    a = np.zeros(len(H))\n",
    "    a[0] = 1\n",
    "\n",
    "    # Compute the overlaps (absolute values of the first elements of the columns of U)\n",
    "    overlaps = np.abs(U[0, :])**2\n",
    "\n",
    "    # Find the index of the maximum overlap\n",
    "    max_overlap_index = np.argmax(overlaps)\n",
    "#     if max(overlaps)<=0.8:\n",
    "#         return 0,overlaps[0]**2,overlaps[1]**2\n",
    "    energies = omega_cp+2*lam**2*anh*(eta**2/delta**2+(2*eta**2/(delta*(2*delta+anh)))**2)\n",
    "    return np.real(energies/2/np.pi)\n",
    "6.009191037837764\n",
    "floquet_spec3(4.9*2*np.pi,0.005*2*np.pi,0.425,7*2*np.pi,0.15*2*np.pi)"
   ]
  },
  {
   "cell_type": "code",
   "execution_count": 19,
   "id": "b8cd1e8b",
   "metadata": {
    "scrolled": false
   },
   "outputs": [
    {
     "data": {
      "text/plain": [
       "7.004330461392692"
      ]
     },
     "execution_count": 19,
     "metadata": {},
     "output_type": "execute_result"
    }
   ],
   "source": [
    "from scipy.sparse.linalg import expm\n",
    "from scipy.linalg import logm\n",
    "def floquet_spec2(omega,A,phi_ex,omega_c,g_int):\n",
    "    beta = 0.12\n",
    "    N = 3\n",
    "    Ej = 70*2*np.pi\n",
    "    Ec = 0.177*2*np.pi\n",
    "    \n",
    "    H0,v,phi_zpf,c2 = SNAIL_H(phi_ex,beta,N,Ej,Ec)\n",
    "    g_int = g_int*c2**0.25\n",
    "    \n",
    "    energies,U=np.linalg.eig(H0)\n",
    "    energies = energies - energies[0]*np.ones(len(energies))\n",
    "    sorted_indices = np.argsort(energies)\n",
    "\n",
    "    U = U[:, sorted_indices]\n",
    "    Ud = U.transpose().conjugate()\n",
    "    \n",
    "    energies = np.sort(energies)\n",
    "    omega_s = energies[1]\n",
    "    anh = energies[2] - 2* energies[1]\n",
    "    dims = 10\n",
    "    s = annihilation(dims)\n",
    "    sd = creation(dims)\n",
    "    delta = (omega_s-omega)\n",
    "\n",
    "    cdim = 8\n",
    "    c = annihilation(cdim)\n",
    "    cd = creation(cdim)\n",
    "    Ic = np.identity(cdim)\n",
    "    Is = np.identity(dims)\n",
    "    s = np.kron(s,Ic)\n",
    "    sd = np.kron(sd,Ic)\n",
    "    c = np.kron(Is,c)\n",
    "    cd = np.kron(Is,cd)\n",
    "    H = omega_s*sd@s  + omega_c * cd@c +g_int*((s+sd)@(cd+c))\n",
    "    energies,U=np.linalg.eig(H)\n",
    "        # Get the diagonal elements of H\n",
    "    sorted_energies,U = sort(energies,U,H)\n",
    "    Ud = U.transpose().conjugate()\n",
    "    Hnl = Ud@(anh/2*sd@sd@s@s)@U\n",
    "    H =  omega_s*sd@s  + omega_c * cd@c +g_int*((s+sd)@(cd+c))+(anh/2*sd@sd@s@s)\n",
    "\n",
    "    \n",
    "    delta = (omega_c-omega_s)\n",
    "#     p=8*g_int**4*omega_c*omega_s**2/(omega_c**6-3*omega_c**4*omega_s**2+3*omega_c**2*omega_s**4-omega_s**6)\n",
    "#     H = (omega_s-g_int**2/delta + g_int**2/(omega_c+omega_s)+p)*sd@s+(omega_c+g_int**2/delta - g_int**2/(omega_c+omega_s)-p)*cd@c+Hnl\n",
    "    lam = g_int/(-delta)\n",
    "    sorted_energies = sorted_energies - sorted_energies[0]*np.ones(len(sorted_energies))\n",
    "    omega_sp = sorted_energies[np.argmin(np.abs(sorted_energies - omega_s))]\n",
    "    omega_cp = sorted_energies[1]\n",
    "    eta = A/2/phi_zpf/2\n",
    "    delta = (omega_sp-omega)\n",
    "    \n",
    "    s = annihilation(dims)\n",
    "    sd = creation(dims)\n",
    "    c = annihilation(cdim)\n",
    "    cd = creation(cdim)\n",
    "    Ic = np.identity(cdim)\n",
    "    Is = np.identity(dims)\n",
    "    Hs = delta*sd@s +(anh/2*sd@sd@s@s)+ eta*(s+sd)\n",
    "\n",
    "    H = np.kron(Hs,Ic) + np.kron(Is,omega_cp*cd@c)+np.kron(2*lam**2*anh*sd@s,cd@c)\n",
    "    energies,U = np.linalg.eig(H)\n",
    "    a = np.zeros(len(H))\n",
    "    a[0] = 1\n",
    "\n",
    "    # Compute the overlaps (absolute values of the first elements of the columns of U)\n",
    "    overlaps = np.abs(U[0, :])**2\n",
    "\n",
    "    # Find the index of the maximum overlap\n",
    "    max_overlap_index = np.argmax(overlaps)\n",
    "#     if max(overlaps)<=0.8:\n",
    "#         return 0,overlaps[0]**2,overlaps[1]**2\n",
    "    energies = energies - energies[max_overlap_index]*np.ones(len(energies))\n",
    "    return np.real(energies[np.argmin(np.abs(energies - omega_cp))])/2/np.pi\n",
    "floquet_spec2(4.9*2*np.pi,0.005*2*np.pi,0.426,7*2*np.pi,0.15*2*np.pi)"
   ]
  },
  {
   "cell_type": "code",
   "execution_count": 20,
   "id": "9092262a",
   "metadata": {},
   "outputs": [],
   "source": [
    "## 0.00640639/-8.25531096e-04"
   ]
  },
  {
   "cell_type": "code",
   "execution_count": 21,
   "id": "170b6a21",
   "metadata": {
    "scrolled": true
   },
   "outputs": [],
   "source": [
    "x_values = flux_values  # 0.4, 0.43\n",
    "\n",
    "# Calculate the results for each x value\n",
    "results = [floquet_spec3(omega, A, x,omega_c1, 0.15 * 2 * np.pi)  for x in x_values]\n",
    "\n"
   ]
  },
  {
   "cell_type": "code",
   "execution_count": 22,
   "id": "e3eb34d5",
   "metadata": {},
   "outputs": [
    {
     "data": {
      "image/png": "[encoded data removed]",
      "text/plain": [
       "<Figure size 432x288 with 1 Axes>"
      ]
     },
     "metadata": {
      "needs_background": "light"
     },
     "output_type": "display_data"
    }
   ],
   "source": [
    "### Plot the results\n",
    "plt.plot(x_values, np.array(results))\n",
    "plt.plot(x_values, floquet_results[:,0])\n",
    "plt.xlabel('x')\n",
    "plt.ylabel('floquet_spec1(4.9*2π, 0.00*2π, x, 3*2π, 0.15*2π) / 2π')\n",
    "plt.title('Plot of floquet_spec1 vs. x')\n",
    "plt.grid(True)\n",
    "# plt.ylim(7.0048,7.005)\n",
    "plt.show()"
   ]
  },
  {
   "cell_type": "code",
   "execution_count": 26,
   "id": "91b76bd0",
   "metadata": {},
   "outputs": [
    {
     "data": {
      "image/png": "[encoded data removed]",
      "text/plain": [
       "<Figure size 432x288 with 1 Axes>"
      ]
     },
     "metadata": {
      "needs_background": "light"
     },
     "output_type": "display_data"
    }
   ],
   "source": [
    "\n",
    "# Calculate the results for each x value\n",
    "results = [floquet_spec2(omega, A, x, omega_c1, 0.15 * 2 * np.pi)  for x in x_values]\n",
    "\n",
    "### Plot the results\n",
    "plt.plot(x_values, np.array(results), label='Data 1')\n",
    "plt.plot(x_values, floquet_results[:,0], label='Floquet Results')\n",
    "plt.xlabel('x')\n",
    "plt.ylabel('floquet_spec1(4.9*2π, 0.00*2π, x, 3*2π, 0.15*2π) / 2π')\n",
    "plt.title('Plot of floquet_spec1 vs. x')\n",
    "plt.grid(True)\n",
    "plt.ylim(7.004,7.005)\n",
    "\n",
    "# Create a second y-axis\n",
    "# Optional: Add a legend\n",
    "plt.legend(loc='upper left')\n",
    "\n",
    "# Show the plot\n",
    "plt.show()"
   ]
  },
  {
   "cell_type": "code",
   "execution_count": null,
   "id": "c1a147ff",
   "metadata": {},
   "outputs": [],
   "source": []
  },
  {
   "cell_type": "code",
   "execution_count": null,
   "id": "f493e483",
   "metadata": {},
   "outputs": [],
   "source": []
  },
  {
   "cell_type": "code",
   "execution_count": null,
   "id": "eecf9cdc",
   "metadata": {},
   "outputs": [],
   "source": []
  },
  {
   "cell_type": "code",
   "execution_count": null,
   "id": "1848ce2d",
   "metadata": {},
   "outputs": [],
   "source": []
  }
 ],
 "metadata": {
  "kernelspec": {
   "display_name": "Python 3 (ipykernel)",
   "language": "python",
   "name": "python3"
  },
  "language_info": {
   "codemirror_mode": {
    "name": "ipython",
    "version": 3
   },
   "file_extension": ".py",
   "mimetype": "text/x-python",
   "name": "python",
   "nbconvert_exporter": "python",
   "pygments_lexer": "ipython3",
   "version": "3.8.3"
  }
 },
 "nbformat": 4,
 "nbformat_minor": 5
}
