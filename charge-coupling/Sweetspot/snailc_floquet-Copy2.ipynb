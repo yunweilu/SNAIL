{
 "cells": [
  {
   "cell_type": "code",
   "execution_count": 1,
   "id": "e9003eea",
   "metadata": {},
   "outputs": [],
   "source": [
    "from systemclass import SNAIL,SNAILC,SNAIL_sweep,SNAILC_sweep,Cavity\n",
    "import numpy as np\n",
    "from qutip import *\n",
    "import matplotlib.pyplot as plt"
   ]
  },
  {
   "cell_type": "code",
   "execution_count": 2,
   "id": "4f8b2d43",
   "metadata": {},
   "outputs": [],
   "source": [
    "## import numpy as np\n",
    "import matplotlib.pyplot as plt\n",
    "import scipy as sci\n",
    "from cosmatrix import cosm,expm_pade\n",
    "expm = expm_pade\n",
    "from autograd.extend import primitive, defvjp\n",
    "from qutip import *\n",
    "def annihilation(dim):\n",
    "    return np.diag(np.sqrt(np.arange(1,dim)),1)\n",
    "def creation(dim):\n",
    "    return np.diag(np.sqrt(np.arange(1,dim)),-1)\n",
    "def SNAIL_H(phi_ex,beta,N,Ej,Ec):\n",
    "    phi_ex = 2*np.pi*phi_ex\n",
    "    def Us_min(phi_ex):\n",
    "        def U_s(phi): \n",
    "            return (-beta*np.cos(phi-phi_ex)-N*np.cos((phi)/N))\n",
    "        phi_min = sci.optimize.minimize(U_s,0).x\n",
    "        return phi_min\n",
    "    \n",
    "    def phi_minde(ans, phi_ex):\n",
    "        def phi_minde_vjp(g):\n",
    "            c2 = beta*np.cos(ans - phi_ex) + 1/N*np.cos(ans/N)\n",
    "            return g*beta*np.cos(ans - phi_ex)/c2\n",
    "        return phi_minde_vjp\n",
    "\n",
    "    phi_min = Us_min(phi_ex)\n",
    "    # potential expansion around minimum\n",
    "    c2 = beta*np.cos(phi_min - phi_ex) + 1/N*np.cos(phi_min/N)\n",
    "    omega_s = np.sqrt(8*c2*Ej*Ec)\n",
    "    phi_zpf = np.power(2*Ec/(Ej*c2),1/4)\n",
    "    g2 = Ej*phi_zpf**2*c2/2\n",
    "    sdim = 10\n",
    "    s = annihilation(sdim)\n",
    "    sd = creation(sdim)\n",
    "    x2 = np.matmul(s+sd,s+sd)\n",
    "    c3 = (N**2-1)/N**2*np.sin(phi_min/N)\n",
    "    g3 = Ej*phi_zpf**3*c3/3/2\n",
    "    c4 = -beta*np.cos(phi_min-phi_ex) -1/N**3*np.cos(phi_min/N)\n",
    "\n",
    "    g4 = Ej*phi_zpf**4*c4/4/3/2\n",
    "    Hs = omega_s * np.matmul(sd,s)+(\n",
    "        - Ej*(beta*cosm(phi_zpf*(s+sd)+(phi_min-phi_ex)*np.identity(sdim))\n",
    "        + N*cosm((phi_zpf*(s+sd)+phi_min*np.identity(sdim))/N))- g2*x2)\n",
    "    energy,U = np.linalg.eigh(Hs)\n",
    "    for i in range(U.shape[1]):\n",
    "        if U[i, i] < 0:\n",
    "            U[:, i] *= -1\n",
    "    U_dag = np.conjugate(U.transpose())\n",
    "    \n",
    "    Hs = Hs\n",
    "    \n",
    "    return Hs-energy[0]*np.identity(sdim),-1j*(s-sd),phi_zpf,c2\n",
    "def sort(energies,U,H):\n",
    "    diagonal_elements = np.diag(H)\n",
    "\n",
    "    # Find the index of the closest diagonal element for each eigenvalue\n",
    "    closest_indices = np.argmin(abs(energies[:, np.newaxis] - diagonal_elements), axis=1)\n",
    "\n",
    "    # Sort energies and U according to the indices of closest diagonal elements\n",
    "    sorted_energies = energies[np.argsort(closest_indices)]\n",
    "    U = U[:, np.argsort(closest_indices)]\n",
    "    return sorted_energies,U\n",
    "\n",
    "def sort_energy(energies,H):\n",
    "    diagonal_elements = np.diag(H)\n",
    "\n",
    "    # Find the index of the closest diagonal element for each eigenvalue\n",
    "    closest_indices = np.argmin(abs(energies[:, np.newaxis] - diagonal_elements), axis=1)\n",
    "\n",
    "    # Sort energies and U according to the indices of closest diagonal elements\n",
    "    sorted_energies = energies[np.argsort(closest_indices)]\n",
    "    return sorted_energies\n",
    "from scipy.sparse.linalg import expm\n",
    "from scipy.linalg import logm\n",
    "def floquet_spec3(omega,A,phi_ex,omega_c,g_int):\n",
    "    EJ = 70*2*np.pi\n",
    "    EC = 0.177*2*np.pi\n",
    "    beta = 0.12\n",
    "    ng = 0\n",
    "    ncut = 100\n",
    "    flux = 0.48\n",
    "    N = 3\n",
    "    dims = 10\n",
    "    H0,v,phi_zpf,c2 = SNAIL_H(phi_ex,beta,N,EJ,EC)\n",
    "    omega_c1 = 7*2*np.pi\n",
    "    g_int1 = 0.15*2*np.pi\n",
    "    dimc1 = 8\n",
    "    trunc1 = dims * dimc1\n",
    "    cavity1 = Cavity(omega_c1,g_int1,dimc1)\n",
    "    \n",
    "    \n",
    "    snail_back = SNAIL(EJ,EC,beta,ng,ncut,phi_ex,N,dims)\n",
    "    snailc =  SNAILC(snail_back, cavity1, trunc1)\n",
    "    snailc.parameters()\n",
    "    Hs , charge_op = snailc.dressed_H, snailc.dressed_charge\n",
    "    a=np.abs(np.sort(np.diag(Hs)))\n",
    "    omegas = snail_back.omegas\n",
    "    s = annihilation(dims)\n",
    "    sd = creation(dims)\n",
    "    c = annihilation(dimc1)\n",
    "    cd = creation(dimc1)\n",
    "    Hs,charge_op = H0,v\n",
    "    energies,U=np.linalg.eig(H0)\n",
    "    energies,U = sort(energies,U,Hs)\n",
    "    Ud = U.transpose().conjugate()\n",
    "    omega_s = energies[1]\n",
    "    charge_op = charge_op/2/phi_zpf\n",
    "    \n",
    "    Hc1, Vc1 = cavity1.hamiltonian()\n",
    "    Ic1 = np.identity(dimc1)\n",
    "    Is = np.identity(dims)\n",
    "    Hs = np.kron(Hs,Ic1)\n",
    "    Hc1 = np.kron(Is,Hc1)\n",
    "    H_int1 = cavity1.g_int * np.kron(charge_op,Vc1) * 2 * ((2 * snail.EC / snail.EJ) ** 0.25)   \n",
    "    Hs = Hs + Hc1 + H_int1 \n",
    "    \n",
    "    energies,U=np.linalg.eig(Hs)\n",
    "    energies,U = sort(energies,U,Hs)\n",
    "    energy1 = energies - energies[0]*np.ones(len(energies))\n",
    "    energy2 = energies - energies[0]*np.ones(len(energies))\n",
    "\n",
    "    detuning = omegas\n",
    "    indexs1 = np.argmin(np.abs(energy1 - detuning * np.ones(len(energy1))))\n",
    "    indexs2 = np.argmin(np.abs(energy1 - (2*detuning + snail_back.anh ) * np.ones(len(energy1))))\n",
    "    indexc1 = np.argmin(np.abs(energy2 - omega_c1 * np.ones(len(energy1))))\n",
    "    energys1 = energy1[indexs1]\n",
    "    energyc1 = energy2[indexc1] \n",
    "    \n",
    "    indexc2 = np.argmin(np.abs(energy2 - 2 * omega_c1 * np.ones(len(energy1))))\n",
    "    indexsc = np.argmin(np.abs(energy1 - (detuning + omega_c1) * np.ones(len(energy1))))\n",
    "    indexsc2 = np.argmin(np.abs(energy1 - (detuning + 2*omega_c1) * np.ones(len(energy1))))\n",
    "    energysc = energy1[indexsc]\n",
    "    energyc2 = energy2[indexc2]\n",
    "    energysc2 = energy1[indexsc2]\n",
    "    starkshift = energysc  - energyc1 - energys1\n",
    "    selfkerr = energyc2 - 2*energyc1\n",
    "#     print(selfkerr/2/np.pi)\n",
    "    starkshift2 = energysc2  - 2*energyc1 - energys1 - 2*starkshift - 2*selfkerr\n",
    "#     anhs = energy1[indexs2] - 2*energys1\n",
    "#     print(anhs/2/np.pi)\n",
    "#     delta = energys1 - omega\n",
    "#     Hs = delta*sd@s +anhs/2*sd@sd@s@s + A/2*(s+sd)/2/phi_zpf\n",
    "#     energies,U=np.linalg.eig(Hs)\n",
    "#     print(U)\n",
    "#     energies,U = sort(energies,U,Hs)\n",
    "    \n",
    "#     Ud = U.transpose().conjugate()\n",
    "#     Hc = energyc1*cd@c + selfkerr/2*cd@cd@c@c\n",
    "#     H_int = starkshift * np.kron(Ud@sd@s@U,cd@c)+starkshift2/2* np.kron(Ud@sd@s@U,cd@cd@c@c)\n",
    "#     H = np.kron(np.diag(energies),Ic1) + np.kron(Is,Hc)+H_int\n",
    "#     energy,U = np.linalg.eig(H)\n",
    "#     energy,U = sort(energy,U,Hs)\n",
    "#     # Compute the overlaps (absolute values of the first elements of the columns of U)\n",
    "#     overlaps = np.abs(U[0, :])**2\n",
    "\n",
    "#     # Find the index of the maximum overlap\n",
    "#     max_overlap_index = np.argmax(overlaps)\n",
    "#     energy = energy - energy[max_overlap_index]*np.ones(len(energy))\n",
    "#     overlaps = np.abs(U[dimc1, :])**2\n",
    "\n",
    "#     #xsa Find the index of the maximum overlap\n",
    "#     indexs1 = np.argmax(overlaps)\n",
    "# #     indexs1 = np.argmin(np.abs(np.abs(energy) - delta * np.ones(len(energy))))\n",
    "#     indexc1 = np.argmin(np.abs(energy - energyc1 * np.ones(len(energy))))\n",
    "#     energys1 = energy[indexs1] \n",
    "#     energyc1 = energy[indexc1] \n",
    "#     indexc2 = np.argmin(np.abs(energy - energyc2 * np.ones(len(energy))))\n",
    "#     overlaps = np.abs(U[dimc1+1, :])**2\n",
    "\n",
    "#     # Find the index of the maximum overlap\n",
    "#     indexsc = np.argmax(overlaps)\n",
    "# #     indexsc = np.argmin(np.abs(energy - (energysc-omega) * np.ones(len(energy))))\n",
    "#     starkshift = energy[indexsc]  - energyc1 - energys1\n",
    "    \n",
    "#     selfkerr = energy[indexc2]  - 2*energyc1\n",
    "    return energyc1/2/np.pi, starkshift/2/np.pi, selfkerr/2/np.pi,energys1/2/np.pi,starkshift2/2/np.pi"
   ]
  },
  {
   "cell_type": "code",
   "execution_count": 3,
   "id": "9ea44698",
   "metadata": {},
   "outputs": [],
   "source": [
    "import qutip as qt \n",
    "def find_best_b_and_k(a, B, omega):\n",
    "    min_diff = float('inf')  # Initialize with a very large number\n",
    "    best_b = None\n",
    "    best_k = None\n",
    "\n",
    "    # Iterate over each element in B\n",
    "    for b in B:\n",
    "        # Iterate over each k in the range [-1000, 1000]\n",
    "        for k in range(-1000, 1001):  # 1001 is used to include 1000 in the range\n",
    "            diff = abs(a - (b + k * omega))\n",
    "            # Update min_diff and best_b if a smaller difference is found\n",
    "            if diff < min_diff:\n",
    "                min_diff = diff\n",
    "                best_b = b\n",
    "                best_k = k\n",
    "\n",
    "    return best_b, best_k, min_diff\n",
    "def find_optimal_k(A, B, D):\n",
    "    # Define a large initial minimum difference\n",
    "    min_diff = float('inf')\n",
    "    optimal_k = None\n",
    "    \n",
    "    # Iterate over a range of possible k values\n",
    "    # The range can be adjusted based on expected size of k or other insights you have about your problem\n",
    "    for k in range(-1000, 1000):\n",
    "        # Calculate the difference for this value of k\n",
    "        diff = abs(A - (B + k * D))\n",
    "        \n",
    "        # If this is the smallest difference we've found so far, update min_diff and optimal_k\n",
    "        if diff < min_diff:\n",
    "            min_diff = diff\n",
    "            optimal_k = k\n",
    "            \n",
    "    return optimal_k\n",
    "# Function to calculate overlap (you might use inner product, fidelity, etc.)\n",
    "def calculate_overlap(state1, state2):\n",
    "    return abs((state1.dag() * state2)[0,0])**2\n",
    "def floquet_spec(Hs,Hc, omega, A,omegas):\n",
    "#     Hs[0][0] = Hs[0][0]+Hs[1][1]\n",
    "#     Hs[1][1] = Hs[1][1]+Hs[1][1]\n",
    "    energy = np.diag(Hs)\n",
    "    indexs1 = np.argmin(np.abs(energy - omegas * np.ones(len(energy))))\n",
    "    indexc1 = np.argmin(np.abs(energy - omega_c1 * np.ones(len(energy))))\n",
    "    indexc2 = np.argmin(np.abs(energy - 2 * omega_c1 * np.ones(len(energy))))\n",
    "    indexsc = np.argmin(np.abs(energy - (omegas+omega_c1) * np.ones(len(energy))))\n",
    "    indexs2 = np.argmin(np.abs(energy - (2*omegas) * np.ones(len(energy))))\n",
    "    Hs = Qobj(Hs)\n",
    "    \n",
    "    Hc = Qobj(Hc)\n",
    "    args = {'w': omega}\n",
    "    T = (2*np.pi)/omega\n",
    "    H = [Hs,  [Hc, lambda t, args: A*np.cos(args['w']*t)],] \n",
    "    options = Options(nsteps=100000)  # Increasing nsteps to 10000, adjust as needed\n",
    "    f_modes, f_energies = floquet_modes(H, T, args, True, options=options) \n",
    "    basis_states = [qt.basis(trunc1, 0),qt.basis(trunc1, indexs1),qt.basis(trunc1,indexc1),qt.basis(trunc1,indexc2),qt.basis(trunc1,indexsc)\n",
    "                   ,qt.basis(trunc1,indexsc),qt.basis(trunc1,indexs2)]\n",
    "    \n",
    "    # Initialize a list to hold the indices of the Floquet states with the maximum overlap for each basis state\n",
    "    max_overlap_indices = [-1] * 7\n",
    "    max_overlaps = [0] * 7\n",
    "    # Loop over each Floquet state\n",
    "    for f_index, f_state in enumerate(f_modes):\n",
    "        # Loop over each basis state\n",
    "        for b_index, b_state in enumerate(basis_states):\n",
    "            # Calculate the overlap\n",
    "            overlap = calculate_overlap(f_state, b_state)\n",
    "\n",
    "            # If this is the maximum overlap for this basis state, store the index\n",
    "            if overlap > max_overlaps[b_index]:\n",
    "                max_overlaps[b_index] = overlap\n",
    "                max_overlap_indices[b_index] = f_index\n",
    "#     print(max_overlaps)\n",
    "    energyg = f_energies[max_overlap_indices[0]]/2/np.pi\n",
    "    energys1 = f_energies[max_overlap_indices[1]]/2/np.pi\n",
    "    k = find_optimal_k(omega_c1/2/np.pi, energys1, omega/2/np.pi)\n",
    "    energys1 = energys1 + k*omega/2/np.pi - energyg\n",
    "    \n",
    "    \n",
    "    energyc1 = f_energies[max_overlap_indices[2]]/2/np.pi\n",
    "    k = find_optimal_k(omega_c1/2/np.pi, energyc1, omega/2/np.pi)\n",
    "    energyc1 = energyc1 + k*omega/2/np.pi - energyg\n",
    "    \n",
    "    energysc = f_energies[max_overlap_indices[4]]/2/np.pi\n",
    "    k = find_optimal_k((omega_c1+omegas)/2/np.pi, energysc, omega/2/np.pi)\n",
    "    starkshift = energysc - energyg + k*omega/2/np.pi - energyc1 - energys1\n",
    "    \n",
    "    energyc2 = f_energies[max_overlap_indices[3]]/2/np.pi\n",
    "    k = find_optimal_k(2*omega_c1/2/np.pi, energyc2, omega/2/np.pi)\n",
    "    energyc2 = energyc2 +k*omega/2/np.pi\n",
    "    \n",
    "    selfkerr = energyc2-energyg - 2*energyc1\n",
    "    \n",
    "    energys2 = f_energies[max_overlap_indices[5]]/2/np.pi\n",
    "    \n",
    "    k = find_optimal_k(2*omegas/2/np.pi, energys2, omega/2/np.pi)\n",
    "    energys2 = energys2 + k*omega/2/np.pi - energyg\n",
    "#     print(f_energies[max_overlap_indices[1]],f_energies[max_overlap_indices[0]])\n",
    "    return energyc1, starkshift, selfkerr,energys2 ,energys1"
   ]
  },
  {
   "cell_type": "code",
   "execution_count": 4,
   "id": "3e047c22",
   "metadata": {},
   "outputs": [],
   "source": [
    "EJ = 70*2*np.pi\n",
    "EC = 0.177*2*np.pi\n",
    "beta = 0.12\n",
    "ng = 0\n",
    "ncut = 100\n",
    "flux = 0.48\n",
    "N = 3\n",
    "dims = 10\n",
    "\n",
    "# truncated_dim:int = 6\n",
    "snail = SNAIL(EJ,EC,beta,ng,ncut,flux,N,dims)\n",
    "\n",
    "omega_c1 = 7*2*np.pi\n",
    "g_int1 = 0.15*2*np.pi\n",
    "dimc1 = 5\n",
    "trunc1 = dims * dimc1\n",
    "cavity1 = Cavity(omega_c1,g_int1,dimc1)\n",
    "\n",
    "# omega_c2 = 3*2*np.pi\n",
    "# g_int2 = 0.15*2*np.pi\n",
    "# dimc2 = 100\n",
    "# trunc2 = dims*dimc2\n",
    "# cavity2 = Cavity(omega_c2,g_int2,dimc2)"
   ]
  },
  {
   "cell_type": "code",
   "execution_count": 5,
   "id": "d6950bcd",
   "metadata": {},
   "outputs": [],
   "source": [
    "flux_values  = np.linspace(0.4041, 0.4052, 100)\n",
    "Hss = []\n",
    "charge_ops = []\n",
    "snail_freqs = []\n",
    "snail_anhs = []\n",
    "snail_freqs2 = []\n",
    "for flux in flux_values:\n",
    "    snail_back = SNAIL(EJ,EC,beta,ng,ncut,flux,N,dims)\n",
    "    snail_anhs.append(snail_back.anh)\n",
    "    H, op = snail_back.spectrum_charge()\n",
    "    snail_freqs2.append(H[2,2]/2/np.pi)\n",
    "    snailc =  SNAILC(snail_back, cavity1, trunc1)\n",
    "    snailc.parameters()\n",
    "    Hs , charge_op = snailc.dressed_H, snailc.dressed_charge\n",
    "    energy = np.diag(Hs)\n",
    "    Hss.append(Hs)\n",
    "    index = np.argmin(np.abs(energy - snail_back.omegas* np.ones(len(energy))))\n",
    "    snail_freqs.append(energy[index])\n",
    "    charge_ops.append(charge_op)"
   ]
  },
  {
   "cell_type": "code",
   "execution_count": 6,
   "id": "c20c9e72",
   "metadata": {},
   "outputs": [
    {
     "name": "stderr",
     "output_type": "stream",
     "text": [
      "/Users/apple/miniconda3/lib/python3.8/site-packages/matplotlib/cbook/__init__.py:1369: ComplexWarning: Casting complex values to real discards the imaginary part\n",
      "  return np.asarray(x, float)\n"
     ]
    },
    {
     "data": {
      "text/plain": [
       "[<matplotlib.lines.Line2D at 0x7fa9b5805250>]"
      ]
     },
     "execution_count": 6,
     "metadata": {},
     "output_type": "execute_result"
    },
    {
     "data": {
      "image/png": "[encoded data removed]",
      "text/plain": [
       "<Figure size 432x288 with 1 Axes>"
      ]
     },
     "metadata": {
      "needs_background": "light"
     },
     "output_type": "display_data"
    }
   ],
   "source": [
    "plt.plot(flux_values,np.array(snail_freqs)/2/np.pi)"
   ]
  },
  {
   "cell_type": "code",
   "execution_count": 7,
   "id": "57f80b2a",
   "metadata": {},
   "outputs": [
    {
     "data": {
      "text/plain": [
       "[<matplotlib.lines.Line2D at 0x7fa9b57c1910>]"
      ]
     },
     "execution_count": 7,
     "metadata": {},
     "output_type": "execute_result"
    },
    {
     "data": {
      "image/png": "[encoded data removed]",
      "text/plain": [
       "<Figure size 432x288 with 1 Axes>"
      ]
     },
     "metadata": {
      "needs_background": "light"
     },
     "output_type": "display_data"
    }
   ],
   "source": [
    "plt.plot(flux_values,np.array(snail_anhs)/2/np.pi)"
   ]
  },
  {
   "cell_type": "code",
   "execution_count": 8,
   "id": "d283a1c5",
   "metadata": {},
   "outputs": [],
   "source": [
    "# Calculate the results for each x value\n",
    "omega = 0\n",
    "A = 0\n",
    "results = [floquet_spec3(omega, A, x,omega_c1, 0.15 * 2 * np.pi)  for x in flux_values]\n",
    "# results1 = [floquet_spec3(omega, A, x+1e-5,omega_c1, 0.15 * 2 * np.pi)  for x in flux_values]\n",
    "results = np.array(results)\n",
    "# results1 = np.array(results1)\n",
    "# derivative = (results1[:,0]-results[:,0])/1e-5"
   ]
  },
  {
   "cell_type": "code",
   "execution_count": 10,
   "id": "cfea1f58",
   "metadata": {},
   "outputs": [
    {
     "data": {
      "text/plain": [
       "[<matplotlib.lines.Line2D at 0x7fa9b7cb6fa0>]"
      ]
     },
     "execution_count": 10,
     "metadata": {},
     "output_type": "execute_result"
    },
    {
     "name": "stdout",
     "output_type": "stream",
     "text": [
      "ERROR! Session/line number was not unique in database. History logging moved to new session 2685\n"
     ]
    },
    {
     "data": {
      "image/png": "[encoded data removed]",
      "text/plain": [
       "<Figure size 432x288 with 1 Axes>"
      ]
     },
     "metadata": {
      "needs_background": "light"
     },
     "output_type": "display_data"
    }
   ],
   "source": [
    "plt.plot(flux_values, results[:,1])"
   ]
  },
  {
   "cell_type": "code",
   "execution_count": 12,
   "id": "f30a63cb",
   "metadata": {
    "scrolled": true
   },
   "outputs": [],
   "source": [
    "# omega = 4.83 * 2 * np.pi\n",
    "# A = 0.005 * 2 * np.pi\n",
    "omega = 5.02 * 2 * np.pi\n",
    "A = 0.002 * 2 * np.pi\n",
    "\n",
    "# Function to be executed in parallel\n",
    "def compute_floquet_spectrum(Hss_item, charge_ops_item, snail_freqs_item):\n",
    "    return floquet_spec(Hss_item, charge_ops_item, omega, A, snail_freqs_item)\n",
    "\n",
    "# Assuming flux_values, Hss, charge_ops, and snail_freqs are all lists of the same length\n",
    "floquet_results = Parallel(n_jobs=-1)(delayed(compute_floquet_spectrum)(Hss[i], charge_ops[i], snail_freqs[i]) for i in range(len(flux_values)))"
   ]
  },
  {
   "cell_type": "code",
   "execution_count": 13,
   "id": "8edb79e6",
   "metadata": {},
   "outputs": [
    {
     "data": {
      "image/png": "[encoded data removed]",
      "text/plain": [
       "<Figure size 432x288 with 2 Axes>"
      ]
     },
     "metadata": {
      "needs_background": "light"
     },
     "output_type": "display_data"
    }
   ],
   "source": [
    "floquet_results = np.array(floquet_results)\n",
    "fig, ax1 = plt.subplots()\n",
    "color = 'tab:blue'\n",
    "ax1.set_xlabel('x')\n",
    "ax1.set_ylabel('cavity self kerr', color=color)\n",
    "# ax1.plot(flux_values, np.array(results)[:, 2], color=color)\n",
    "ax1.plot(flux_values, floquet_results[:,2],'--',color=color)\n",
    "ax1.tick_params(axis='y', labelcolor=color)\n",
    "ax1.set_ylim(-1e-6, 1e-6)\n",
    "\n",
    "# Create a second y-axis\n",
    "ax2 = ax1.twinx()\n",
    "color = 'tab:red'\n",
    "ax2.set_ylabel('cavity freq', color=color)\n",
    "# ax2.plot(flux_values, np.array(results)[:, 0], color=color)\n",
    "ax2.plot(flux_values, floquet_results[:,0],'--',color=color)\n",
    "ax2.tick_params(axis='y', labelcolor=color)\n",
    "ax2.set_ylim(7.0046,7.005)\n",
    "# Find where 'self kerr' crosses zero\n",
    "zero_crossings = np.where(np.diff(np.sign(np.array(results)[:, 2])))[0]\n",
    "# If there is a significant jump in values at zero, you might need a more sophisticated method to find zero crossings\n",
    "\n",
    "# Calculate mid-points of zero crossings for better accuracy\n",
    "zero_flux_values = flux_values[zero_crossings]\n",
    "zero_cavity_freq = np.array(results)[zero_crossings, 0]\n",
    "\n",
    "# Plot these points on the second y-axis\n",
    "ax2.plot(zero_flux_values, zero_cavity_freq, 'ro', label='Zero Self Kerr Points')  # 'ro' is red circle marker\n",
    "\n",
    "plt.title('Plot of floquet_spec1 vs. x')\n",
    "plt.legend()\n",
    "plt.show()"
   ]
  },
  {
   "cell_type": "code",
   "execution_count": 196,
   "id": "231e9eb6",
   "metadata": {},
   "outputs": [],
   "source": [
    "def T1f(der):\n",
    "    factor = np.sqrt(2*np.abs(np.log(2*np.pi*1*1e-5)))\n",
    "    return np.abs(1/(factor*10**-6*der))"
   ]
  },
  {
   "cell_type": "code",
   "execution_count": null,
   "id": "9933bd01",
   "metadata": {},
   "outputs": [],
   "source": []
  }
 ],
 "metadata": {
  "kernelspec": {
   "display_name": "Python 3 (ipykernel)",
   "language": "python",
   "name": "python3"
  },
  "language_info": {
   "codemirror_mode": {
    "name": "ipython",
    "version": 3
   },
   "file_extension": ".py",
   "mimetype": "text/x-python",
   "name": "python",
   "nbconvert_exporter": "python",
   "pygments_lexer": "ipython3",
   "version": "3.8.3"
  }
 },
 "nbformat": 4,
 "nbformat_minor": 5
}
