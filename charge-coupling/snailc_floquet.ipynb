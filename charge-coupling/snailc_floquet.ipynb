{
 "cells": [
  {
   "cell_type": "code",
   "execution_count": 27,
   "id": "e9003eea",
   "metadata": {},
   "outputs": [],
   "source": [
    "from systemclass import SNAIL,SNAILC,SNAIL_sweep,SNAILC_sweep,Cavity\n",
    "import numpy as np\n",
    "from qutip import *\n",
    "import matplotlib.pyplot as plt"
   ]
  },
  {
   "cell_type": "code",
   "execution_count": 320,
   "id": "3e047c22",
   "metadata": {},
   "outputs": [],
   "source": [
    "EJ = 90*2*np.pi\n",
    "EC = 0.177*2*np.pi\n",
    "beta = 0.12\n",
    "ng = 0\n",
    "ncut = 300\n",
    "flux = 0.48\n",
    "N = 3\n",
    "dims = 2\n",
    "\n",
    "# truncated_dim:int = 6\n",
    "snail = SNAIL(EJ,EC,beta,ng,ncut,flux,N,dims)\n",
    "\n",
    "omega_c1 = 8*2*np.pi\n",
    "g_int1 = 0.15*2*np.pi\n",
    "dimc1 = 10\n",
    "trunc1 = 4\n",
    "cavity1 = Cavity(omega_c1,g_int1,dimc1)\n",
    "\n",
    "omega_c2 = 3*2*np.pi\n",
    "g_int2 = 0.15*2*np.pi\n",
    "dimc2 = 10\n",
    "trunc2 = dims*dimc2\n",
    "cavity2 = Cavity(omega_c2,g_int2,dimc2)"
   ]
  },
  {
   "cell_type": "code",
   "execution_count": 351,
   "id": "d6950bcd",
   "metadata": {},
   "outputs": [],
   "source": [
    "flux_values = np.linspace(0.35, 0.4, 100)\n",
    "Hss = []\n",
    "charge_ops = []\n",
    "for flux in flux_values:\n",
    "    snail_back = SNAIL(EJ,EC,beta,ng,ncut,flux,N,dims)\n",
    "    snailc =  SNAILC(snail_back, cavity2, trunc2)\n",
    "    snailc.parameters()\n",
    "    Hs , charge_op = snailc.dressed_H, snailc.dressed_charge\n",
    "    Hss.append(Hs)\n",
    "    charge_ops.append(charge_op)"
   ]
  },
  {
   "cell_type": "code",
   "execution_count": 352,
   "id": "f977154d",
   "metadata": {},
   "outputs": [],
   "source": [
    "def find_best_b_and_k(a, B, omega):\n",
    "    min_diff = float('inf')  # Initialize with a very large number\n",
    "    best_b = None\n",
    "    best_k = None\n",
    "\n",
    "    # Iterate over each element in B\n",
    "    for b in B:\n",
    "        # Iterate over each k in the range [-1000, 1000]\n",
    "        for k in range(-1000, 1001):  # 1001 is used to include 1000 in the range\n",
    "            diff = abs(a - (b + k * omega))\n",
    "            # Update min_diff and best_b if a smaller difference is found\n",
    "            if diff < min_diff:\n",
    "                min_diff = diff\n",
    "                best_b = b\n",
    "                best_k = k\n",
    "\n",
    "    return best_b, best_k, min_diff"
   ]
  },
  {
   "cell_type": "code",
   "execution_count": 353,
   "id": "554ff22d",
   "metadata": {},
   "outputs": [],
   "source": [
    "import qutip as qt  \n",
    "def find_optimal_k(A, B, D):\n",
    "    # Define a large initial minimum difference\n",
    "    min_diff = float('inf')\n",
    "    optimal_k = None\n",
    "    \n",
    "    # Iterate over a range of possible k values\n",
    "    # The range can be adjusted based on expected size of k or other insights you have about your problem\n",
    "    for k in range(-1000, 1000):\n",
    "        # Calculate the difference for this value of k\n",
    "        diff = abs(A - (B + k * D))\n",
    "        \n",
    "        # If this is the smallest difference we've found so far, update min_diff and optimal_k\n",
    "        if diff < min_diff:\n",
    "            min_diff = diff\n",
    "            optimal_k = k\n",
    "            \n",
    "    return optimal_k\n",
    "# Function to calculate overlap (you might use inner product, fidelity, etc.)\n",
    "def calculate_overlap(state1, state2):\n",
    "    return abs((state1.dag() * state2)[0,0])**2\n",
    "def floquet_spec(Hs,Hc, omega, A):\n",
    "#     Hs[0][0] = Hs[0][0]+Hs[1][1]\n",
    "#     Hs[1][1] = Hs[1][1]+Hs[1][1]\n",
    "    Hs = Qobj(Hs)\n",
    "    Hc = Qobj(charge_op)\n",
    "    args = {'w': omega}\n",
    "    T = (2*np.pi)/omega\n",
    "    H = [Hs,  [Hc, lambda t, args: A*np.cos(args['w']*t)],] \n",
    "    options = Options(nsteps=100000)  # Increasing nsteps to 10000, adjust as needed\n",
    "    f_modes, f_energies = floquet_modes(H, T, args, True, options=options) \n",
    "    basis_states = [qt.basis(dims*dimc2, i) for i in range(2)]\n",
    "    # Initialize a list to hold the indices of the Floquet states with the maximum overlap for each basis state\n",
    "    max_overlap_indices = [-1] * 3\n",
    "    max_overlaps = [0] * 3\n",
    "    # Loop over each Floquet state\n",
    "    for f_index, f_state in enumerate(f_modes):\n",
    "\n",
    "        # Loop over each basis state\n",
    "        for b_index, b_state in enumerate(basis_states):\n",
    "\n",
    "            # Calculate the overlap\n",
    "            overlap = calculate_overlap(f_state, b_state)\n",
    "\n",
    "            # If this is the maximum overlap for this basis state, store the index\n",
    "            if overlap > max_overlaps[b_index]:\n",
    "                max_overlaps[b_index] = overlap\n",
    "                max_overlap_indices[b_index] = f_index\n",
    "    energy01 = f_energies[max_overlap_indices[1]]-f_energies[max_overlap_indices[0]]\n",
    "#     print(f_energies[max_overlap_indices[1]],f_energies[max_overlap_indices[0]])\n",
    "    return energy01"
   ]
  },
  {
   "cell_type": "code",
   "execution_count": 354,
   "id": "f30a63cb",
   "metadata": {},
   "outputs": [],
   "source": [
    "omega = 6.2*2*np.pi\n",
    "A = 0.1*2*np.pi\n",
    "floquet_results = []\n",
    "for i in range(len(flux_values)):\n",
    "    floquet_results.append(floquet_spec(Hss[i],charge_ops[i], omega, A))"
   ]
  },
  {
   "cell_type": "code",
   "execution_count": 355,
   "id": "733bf5b6",
   "metadata": {},
   "outputs": [],
   "source": [
    "floquet_results = np.array(floquet_results)"
   ]
  },
  {
   "cell_type": "code",
   "execution_count": 356,
   "id": "0fc0a718",
   "metadata": {},
   "outputs": [
    {
     "data": {
      "image/png": "[encoded data removed]",
      "text/plain": [
       "<Figure size 432x288 with 1 Axes>"
      ]
     },
     "metadata": {
      "needs_background": "light"
     },
     "output_type": "display_data"
    }
   ],
   "source": [
    "# Plotting\n",
    "plt.plot(flux_values, floquet_results/2/np.pi, )\n",
    "# plt.plot(flux_values, -(floquet_results/2/np.pi)[:,4]+(floquet_results/2/np.pi)[:,7])\n",
    "plt.xlabel('Flux')\n",
    "plt.ylabel('Floquet Spectrum Result')\n",
    "plt.title('Floquet Spectrum vs Flux')\n",
    "# plt.ylim(-1.010,-1.006)\n",
    "plt.show()"
   ]
  },
  {
   "cell_type": "code",
   "execution_count": null,
   "id": "ca41f4c5",
   "metadata": {},
   "outputs": [],
   "source": []
  }
 ],
 "metadata": {
  "kernelspec": {
   "display_name": "Python 3 (ipykernel)",
   "language": "python",
   "name": "python3"
  },
  "language_info": {
   "codemirror_mode": {
    "name": "ipython",
    "version": 3
   },
   "file_extension": ".py",
   "mimetype": "text/x-python",
   "name": "python",
   "nbconvert_exporter": "python",
   "pygments_lexer": "ipython3",
   "version": "3.8.3"
  }
 },
 "nbformat": 4,
 "nbformat_minor": 5
}
