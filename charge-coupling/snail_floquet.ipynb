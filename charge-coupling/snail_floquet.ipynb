{
 "cells": [
  {
   "cell_type": "code",
   "execution_count": 4,
   "id": "b9128367",
   "metadata": {},
   "outputs": [],
   "source": [
    "from systemclass import SNAIL\n",
    "import numpy as np"
   ]
  },
  {
   "cell_type": "code",
   "execution_count": 5,
   "id": "30bdf58f",
   "metadata": {},
   "outputs": [],
   "source": [
    "EJ = 90*2*np.pi\n",
    "EC = 0.177*2*np.pi\n",
    "beta = 0.33\n",
    "ng = 0\n",
    "ncut = 300\n",
    "flux = 0.48\n",
    "N = 3\n",
    "dims = 30"
   ]
  },
  {
   "cell_type": "code",
   "execution_count": 6,
   "id": "d597e0e0",
   "metadata": {},
   "outputs": [],
   "source": [
    "snail = SNAIL(EJ,EC,beta,ng,ncut,flux,N,dims)\n",
    "Hs , charge_op = snail.spectrum_charge()"
   ]
  },
  {
   "cell_type": "code",
   "execution_count": 7,
   "id": "4a6c6d86",
   "metadata": {},
   "outputs": [],
   "source": [
    "def find_optimal_k(A, B, D):\n",
    "    # Define a large initial minimum difference\n",
    "    min_diff = float('inf')\n",
    "    optimal_k = None\n",
    "    \n",
    "    # Iterate over a range of possible k values\n",
    "    # The range can be adjusted based on expected size of k or other insights you have about your problem\n",
    "    for k in range(-1000, 1000):\n",
    "        # Calculate the difference for this value of k\n",
    "        diff = abs(A - (B + k * D))\n",
    "        \n",
    "        # If this is the smallest difference we've found so far, update min_diff and optimal_k\n",
    "        if diff < min_diff:\n",
    "            min_diff = diff\n",
    "            optimal_k = k\n",
    "            \n",
    "    return optimal_k\n",
    "# Function to calculate overlap (you might use inner product, fidelity, etc.)\n",
    "def calculate_overlap(state1, state2):\n",
    "    return abs((state1.dag() * state2)[0,0])**2"
   ]
  },
  {
   "cell_type": "code",
   "execution_count": 8,
   "id": "06b1dc3b",
   "metadata": {},
   "outputs": [],
   "source": [
    "import qutip as qt\n",
    "def floquet_spec(omega,A):\n",
    "    beta = 0.15\n",
    "    N = 3\n",
    "    Ej = 90*2*np.pi\n",
    "    Ec = 0.177*2*np.pi\n",
    "    phi_ex = 0.41340478058712055\n",
    "    H0,Hc = SNAIL_H(phi_ex,beta,N,Ej,Ec)\n",
    "    energies,U=np.linalg.eig(H0)\n",
    "    energies = energies - energies[0]*np.ones(len(energies))\n",
    "    energies = energies/2/np.pi\n",
    "    # U_dag = np.conjugate(U.transpose())\n",
    "    # U_dag@Hc@U\n",
    "    energies = np.sort(energies)\n",
    "    omega_s = energies[1]\n",
    "    H0 = Qobj(H0)\n",
    "    Hc = Qobj(Hc)\n",
    "    args = {'w': omega}\n",
    "    T = (2*np.pi)/omega\n",
    "    H = [H0, [Hc, lambda t, args: A*np.cos(args['w']*t)]] \n",
    "    options = Options(nsteps=1000000)  # Increasing nsteps to 10000, adjust as needed\n",
    "    f_modes, f_energies = floquet_modes(H, T, args, False, options=options) \n",
    "    \n",
    "    # Define your system dimension\n",
    "    sdim = 20\n",
    "    floquet_states = f_modes\n",
    "    # Create your basis states\n",
    "    basis_states = [qt.basis(sdim, i) for i in range(3)]\n",
    "    # Initialize a list to hold the indices of the Floquet states with the maximum overlap for each basis state\n",
    "    max_overlap_indices = [-1] * 3\n",
    "    max_overlaps = [0] * 3\n",
    "    # Loop over each Floquet state\n",
    "    for f_index, f_state in enumerate(floquet_states):\n",
    "\n",
    "        # Loop over each basis state\n",
    "        for b_index, b_state in enumerate(basis_states):\n",
    "\n",
    "            # Calculate the overlap\n",
    "            overlap = calculate_overlap(f_state, b_state)\n",
    "\n",
    "            # If this is the maximum overlap for this basis state, store the index\n",
    "            if overlap > max_overlaps[b_index]:\n",
    "                max_overlaps[b_index] = overlap\n",
    "                max_overlap_indices[b_index] = f_index\n",
    "    energy01 = f_energies[max_overlap_indices[1]]/2/np.pi-f_energies[max_overlap_indices[0]]/2/np.pi\n",
    "    k = find_optimal_k(omega_s, energy01, omega/2/np.pi)\n",
    "    energy01 =energy01+k*omega/2/np.pi\n",
    "    omega_ss = energy01-omega_s\n",
    "    energy02 = f_energies[max_overlap_indices[2]]/2/np.pi-f_energies[max_overlap_indices[0]]/2/np.pi\n",
    "    k = find_optimal_k(2*omega_s, energy02, omega/2/np.pi)\n",
    "    energy02 =energy02+k*omega/2/np.pi\n",
    "    anh = energy02 - energy01 - energy01\n",
    "    if (max_overlaps<(np.sqrt(2)/2*np.ones(3))).all():\n",
    "        omega_ss = 1000\n",
    "        anh = 1000\n",
    "    return np.abs(omega_ss),anh"
   ]
  },
  {
   "cell_type": "code",
   "execution_count": null,
   "id": "53ec753d",
   "metadata": {},
   "outputs": [],
   "source": []
  }
 ],
 "metadata": {
  "kernelspec": {
   "display_name": "Python 3 (ipykernel)",
   "language": "python",
   "name": "python3"
  },
  "language_info": {
   "codemirror_mode": {
    "name": "ipython",
    "version": 3
   },
   "file_extension": ".py",
   "mimetype": "text/x-python",
   "name": "python",
   "nbconvert_exporter": "python",
   "pygments_lexer": "ipython3",
   "version": "3.8.3"
  }
 },
 "nbformat": 4,
 "nbformat_minor": 5
}