{
 "cells": [
  {
   "cell_type": "code",
   "execution_count": 204,
   "id": "5bce71df",
   "metadata": {},
   "outputs": [],
   "source": [
    "from matplotlib import pyplot as plt\n",
    "from systemclass import SNAIL,SNAIL_sweep,Cavity, SNAILC, SNAILC_sweep, SNAILCC, SNAILCC_sweep\n",
    "import numpy as np\n",
    "from joblib import Parallel, delayed\n",
    "import qutip as qt\n",
    "from qutip import propagator,floquet_modes,Qobj,Options,basis\n",
    "from scipy.optimize import fsolve\n",
    "import numpy as np\n",
    "def state_index(index,dim):\n",
    "    m,n,k = index\n",
    "    M,N,K = dim\n",
    "    return m*(N*K)+n*K+k\n",
    "def sort_eigenpairs(eigenvalues, eigenvectors):\n",
    "    n = eigenvectors.shape[0]\n",
    "    sorted_indices = []\n",
    "\n",
    "    for i in range(n):\n",
    "        max_abs_vals = np.abs(eigenvectors[i, :])\n",
    "        max_index = np.argmax(max_abs_vals)\n",
    "        while max_index in sorted_indices:\n",
    "            max_abs_vals[max_index] = -np.inf\n",
    "            max_index = np.argmax(max_abs_vals)\n",
    "        sorted_indices.append(max_index)\n",
    "\n",
    "    sorted_eigenvalues = eigenvalues[sorted_indices]\n",
    "    sorted_eigenvectors = eigenvectors[:, sorted_indices]\n",
    "\n",
    "    return sorted_eigenvalues, sorted_eigenvectors\n",
    "    \n",
    "    return sorted_eigenvalues, sorted_eigenvectors\n",
    "# def integral_of_pulse(max_amplitude, duration, t0,t1, target_area):\n",
    "#     duration = t1+t0\n",
    "#     func = gaussian_pulse(t0,t1, max_amplitude)\n",
    "#     t_values = np.linspace(0,duration,10000)\n",
    "#     func_values = np.array([np.array(func(t)) for t in t_values])\n",
    "#     func_values = func_values.reshape(10000)\n",
    "#     current_area = np.trapz(func_values, t_values)\n",
    "    \n",
    "#     return current_area - target_area  # we want this to be zero\n",
    "\n",
    "# def find_max_amplitude(duration,t0,t1, target_area):\n",
    "\n",
    "#     # Initial guess for max_amplitude\n",
    "#     initial_guess = 1.0\n",
    "#     # Use fsolve to find the root, i.e., when integral_of_pulse returns 0\n",
    "#     max_amplitude, = fsolve(integral_of_pulse, initial_guess, args=(duration,t0,t1, target_area))\n",
    "#     return max_amplitude\n",
    "def gaussian_pulse(t0,t1,amplitude):\n",
    "    ramp_time = 50\n",
    "    # Standard deviation for the Gaussian pulse\n",
    "    sigma = ramp_time / 3 # Assuming the pulse mostly lies within +/- 3 sigma\n",
    "    \n",
    "    \n",
    "    # Generate the Gaussian pulse\n",
    "    def time_dependent_function(t):\n",
    "        if t <= t0:\n",
    "            pulse = 0\n",
    "        elif t <= t1:\n",
    "            t = t-t0\n",
    "            offset = amplitude * np.exp(-((0 - ramp_time)**2) / (2 * sigma**2))\n",
    "            if t<ramp_time:\n",
    "                pulse =  max_amplitude * np.exp(-0.5 * ((t - ramp_time) / sigma) ** 2)-offset\n",
    "            elif t< t1-t0-ramp_time:\n",
    "                pulse = amplitude - offset\n",
    "            else:\n",
    "                pulse = amplitude * np.exp(-((t - (t1-t0-ramp_time))**2) / (2 * sigma**2)) - offset\n",
    "        else:\n",
    "            pulse =  0\n",
    "        if type(pulse) == np.ndarray:\n",
    "            pulse = pulse[0]\n",
    "        return pulse\n",
    "    return time_dependent_function\n",
    "def gaussian_ramp(t0,t1, amplitude):\n",
    "    \"\"\"\n",
    "    Creates a time-dependent function using a Gaussian function that starts near zero,\n",
    "    peaks at 'amplitude' at time 't0', and remains constant at 'amplitude' for t > t0.\n",
    "\n",
    "    Args:\n",
    "    t0 (float): The time at which the function peaks at the amplitude.\n",
    "    amplitude (float): The maximum amplitude of the Gaussian peak.\n",
    "\n",
    "    Returns:\n",
    "    function: A function of time 't' that implements the desired behavior.\n",
    "    \"\"\"\n",
    "    # Define the standard deviation such that the peak is sharp at t0\n",
    "    sigma = t0 / 3  # Adjust sigma to make the function start close to zero at t=0\n",
    "    \n",
    "    offset = amplitude * np.exp(-((0 - t0)**2) / (2 * sigma**2))\n",
    "    \n",
    "    # Define the function using a closure to encapsulate the parameters\n",
    "    def time_dependent_function(t):\n",
    "        if t <= t0:\n",
    "            # Gaussian function for ramp up\n",
    "            return amplitude * np.exp(-((t - t0)**2) / (2 * sigma**2)) - offset\n",
    "        elif t <= t1:\n",
    "            # Constant amplitude between t0 and t1\n",
    "            return amplitude - offset\n",
    "        else:\n",
    "            # Symmetric Gaussian function for ramp down\n",
    "            return amplitude * np.exp(-((t - t1)**2) / (2 * sigma**2)) - offset\n",
    "\n",
    "    return time_dependent_function\n",
    "\n",
    "def energy_diff(t0,duration,t1,amplitude,omega):\n",
    "    flux =0.432\n",
    "    #snail parameters\n",
    "    EJ = 100*2*np.pi\n",
    "    EC = 0.177*2*np.pi\n",
    "    beta = 0.12\n",
    "    ng = 0\n",
    "    ncut = 300\n",
    "    N = 3\n",
    "    dims = 14\n",
    "    snail = SNAIL(EJ,EC,beta,ng,ncut,flux,N,dims)\n",
    "    Hs,charge_op = snail.spectrum_charge()\n",
    "\n",
    "\n",
    "    #cavity1 parameters\n",
    "    omega_c1 = 4.5*2*np.pi\n",
    "    g_int1 = 0.15/2*(6-omega_c1/2/np.pi)*2*np.pi\n",
    "    dimc1 = 5\n",
    "    cavity1 = Cavity(omega_c1,g_int1,dimc1)\n",
    "\n",
    "    #cavity1 parameters\n",
    "    omega_c2 =  8.5*2*np.pi\n",
    "    g_int2 = 0.15/2*(6-omega_c2/2/np.pi)*2*np.pi\n",
    "    dimc2 = 5\n",
    "    cavity2 = Cavity(omega_c2,g_int2,dimc2)\n",
    "\n",
    "    Hc1, Vc1 = cavity1.hamiltonian()\n",
    "    Hc2, Vc2 = cavity2.hamiltonian()\n",
    "\n",
    "    Ic1 = np.identity(dimc1)\n",
    "    Ic2 = np.identity(dimc2)\n",
    "    Is = np.identity(dims)\n",
    "\n",
    "    Hs = np.kron(np.kron(Hs,Ic1),Ic2)\n",
    "    Hc1 = np.kron(np.kron(Is,Hc1),Ic2)\n",
    "    Hc2 = np.kron(np.kron(Is,Ic1),Hc2)\n",
    "\n",
    "    H_int1 = cavity1.g_int * np.kron(np.kron(charge_op,Vc1),Ic2) * 2 * ((2 * snail.EC / snail.EJ) ** 0.25)\n",
    "    H_int2 = cavity2.g_int * np.kron(np.kron(charge_op,Ic1),Vc2) * 2 * ((2 * snail.EC / snail.EJ) ** 0.25)\n",
    "\n",
    "    H = Hs + Hc1 + Hc2 + H_int1 + H_int2\n",
    "    Hc  =  np.kron(np.kron(charge_op,Ic1),Ic2)\n",
    "    energy0,U = np.linalg.eigh(H)\n",
    "    energy0,U = sort_eigenpairs(energy0, U)\n",
    "    Ud = U.transpose().conjugate()\n",
    "    H = Ud@H@U\n",
    "    Hc = Ud@Hc@U\n",
    "\n",
    "    index1 = np.argmin(np.abs(energy0 - omega_c1 * np.ones(len(energy0))))\n",
    "    index2 = np.argmin(np.abs(energy0 - omega_c2 * np.ones(len(energy0))))\n",
    "\n",
    "    total_dim = dims*dimc1*dimc2\n",
    "    H0 = Qobj(H)\n",
    "    Hc = Qobj(Hc)\n",
    "    psi0 = qt.basis(total_dim, index1)\n",
    "    Iss = qt.qeye(dims)\n",
    "    s0 = qt.basis(dims, 0)*(qt.basis(dims, 0).dag())\n",
    "    cavity0 = qt.basis(dimc1, 0)*(qt.basis(dimc1, 0).dag())\n",
    "    cavity1 = qt.basis(dimc1, 1)*(qt.basis(dimc1, 1).dag())\n",
    "    cavity2 = qt.basis(dimc1, 2)*(qt.basis(dimc1, 2).dag())\n",
    "    PP1 = qt.Qobj(np.array(qt.tensor(Iss, cavity0, cavity1).full()))\n",
    "    PP2 = qt.Qobj(np.array(qt.tensor(Iss, cavity1, cavity0).full()))\n",
    "    omega1 =  5.8* 2 * np.pi\n",
    "#     amplitude = find_max_amplitude(initial_duration,t0,t1, target_area=6700)\n",
    "    func = gaussian_pulse(t0,t1, amplitude )\n",
    "    func1 = gaussian_ramp(t0 ,t1,0.003 * 2 * np.pi)\n",
    "#     omega = 4.0104625*2*np.pi\n",
    "    \n",
    "    args = {'w': omega,'w1':omega1}\n",
    "    tlist = np.linspace(0, duration, 100000)  # Cover ten periods\n",
    "    H = [H0, [Hc, lambda t, args: func(t)*np.cos(args['w']*t)],[Hc, lambda t, args: func1(t)*np.cos(args['w1']*t)]]\n",
    "\n",
    "    result = qt.sesolve(H, psi0, tlist, args=args)\n",
    "    exp_P1 = np.array([qt.expect(PP1, state) for state in result.states])\n",
    "    exp_P2 = np.array([qt.expect(PP2, state) for state in result.states])\n",
    "    return exp_P1,exp_P2"
   ]
  },
  {
   "cell_type": "code",
   "execution_count": 205,
   "id": "0e9ffc8c",
   "metadata": {
    "scrolled": true
   },
   "outputs": [
    {
     "data": {
      "image/png": "[encoded data removed]",
      "text/plain": [
       "<Figure size 432x288 with 2 Axes>"
      ]
     },
     "metadata": {
      "needs_background": "light"
     },
     "output_type": "display_data"
    }
   ],
   "source": [
    "\n",
    "# Parameters for the Gaussian functions\n",
    "t0 = 800\n",
    "t1 = t0+1000\n",
    "duration = t1+t0\n",
    "max_amplitude =1.1459158455310345\n",
    "\n",
    "# Create the Gaussian pulse and ramp functions\n",
    "pulse_function = gaussian_pulse(t0, t1, max_amplitude)\n",
    "ramp_function = gaussian_ramp(t0, t1, 0.003 * 2 * np.pi)\n",
    "\n",
    "# Generate the time values and function values\n",
    "t_values = np.arange(duration)\n",
    "pulse_values = np.array([np.array(pulse_function(t)) for t in t_values])\n",
    "pulse_values.reshape(duration)\n",
    "ramp_values = [ramp_function(t) for t in t_values]\n",
    "\n",
    "\n",
    "# Create a figure and a set of subplots\n",
    "fig, ax1 = plt.subplots()\n",
    "\n",
    "# Plot the first data set on the primary y-axis\n",
    "color = 'tab:red'\n",
    "ax1.set_xlabel('Time (t)')\n",
    "ax1.set_ylabel('Pulse Amplitude', color=color)\n",
    "ax1.plot(t_values, pulse_values, color=color)\n",
    "ax1.tick_params(axis='y', labelcolor=color)\n",
    "\n",
    "# Create a second y-axis for the second data set\n",
    "ax2 = ax1.twinx()  \n",
    "color = 'tab:blue'\n",
    "ax2.set_ylabel('Scaled Ramp Amplitude x50', color=color)  # we already handled the x-label with ax1\n",
    "ax2.plot(t_values, np.array(ramp_values)/2/np.pi , color=color)\n",
    "ax2.tick_params(axis='y', labelcolor=color)\n",
    "\n",
    "# Add title and grid\n",
    "plt.title('Gaussian Pulse and Ramp Functions with Twin Axes')\n",
    "fig.tight_layout()  # To ensure there's no overlap\n",
    "plt.show()"
   ]
  },
  {
   "cell_type": "code",
   "execution_count": 206,
   "id": "a79e101f",
   "metadata": {},
   "outputs": [
    {
     "data": {
      "text/plain": [
       "6699.997625504709"
      ]
     },
     "execution_count": 206,
     "metadata": {},
     "output_type": "execute_result"
    }
   ],
   "source": [
    "sum(pulse_values)*2*np.pi"
   ]
  },
  {
   "cell_type": "code",
   "execution_count": 207,
   "id": "b3f5155a",
   "metadata": {},
   "outputs": [],
   "source": [
    "t0 = 800\n",
    "t1s = np.linspace(t0+1000+0, t0+1000+30, 10)  # 11 points for 10 intervals\n",
    "\n",
    "omega_values = np.linspace(4.01046,4.010475,5) * 2 * np.pi\n",
    "# Define the range for omega values, scaling by 2*pi\n",
    "max_amplitude = 1.1185443935505557*2*np.pi\n",
    "# Use joblib to parallelize the calculation over both durations and omega values\n",
    "results = Parallel(n_jobs=-1)(\n",
    "    delayed(energy_diff)(t0,t1+t0, t1,max_amplitude, omega)\n",
    "    for t1 in t1s\n",
    "    for omega in omega_values \n",
    ")\n"
   ]
  },
  {
   "cell_type": "code",
   "execution_count": 208,
   "id": "fafcb8f4",
   "metadata": {},
   "outputs": [],
   "source": [
    "# t0 = 800\n",
    "# t1s = np.linspace(t0+500+40, t0+500+50, 10)  # 11 points for 10 intervals\n",
    "\n",
    "# omega_values = np.linspace(4.00982,4.00984,5) * 2 * np.pi\n",
    "# # Define the range for omega values, scaling by 2*pi\n",
    "# max_amplitude = 4.083976633689181*2*np.pi\n",
    "# # Use joblib to parallelize the calculation over both durations and omega values\n",
    "# results = Parallel(n_jobs=-1)(\n",
    "#     delayed(energy_diff)(t0,t1+t0, t1,max_amplitude, omega)\n",
    "#     for t1 in t1s\n",
    "#     for omega in omega_values \n",
    "# )\n"
   ]
  },
  {
   "cell_type": "code",
   "execution_count": 209,
   "id": "9a4c16ef",
   "metadata": {},
   "outputs": [],
   "source": [
    "results = np.array(results)"
   ]
  },
  {
   "cell_type": "code",
   "execution_count": 211,
   "id": "5b098d01",
   "metadata": {},
   "outputs": [
    {
     "data": {
      "text/plain": [
       "array([[0.99692995, 0.99710424, 0.99717981, 0.99715664, 0.99703474],\n",
       "       [0.9971743 , 0.99735012, 0.99742633, 0.99740294, 0.99727993],\n",
       "       [0.99735823, 0.99753559, 0.99761248, 0.99758888, 0.99746479],\n",
       "       [0.99748289, 0.99766182, 0.99773941, 0.99771563, 0.99759048],\n",
       "       [0.99754941, 0.99772994, 0.99780824, 0.9977843 , 0.99765811],\n",
       "       [0.9975587 , 0.99774084, 0.99781989, 0.99779581, 0.99766861],\n",
       "       [0.99751149, 0.99769528, 0.99777508, 0.99775088, 0.99762268],\n",
       "       [0.99740821, 0.99759365, 0.99767423, 0.99764991, 0.99752073],\n",
       "       [0.99724898, 0.99743609, 0.99751744, 0.99749302, 0.99736284],\n",
       "       [0.99703363, 0.9972224 , 0.99730453, 0.99728001, 0.99714884]])"
      ]
     },
     "execution_count": 211,
     "metadata": {},
     "output_type": "execute_result"
    }
   ],
   "source": [
    "results[:,0,-1].reshape(10,5)"
   ]
  },
  {
   "cell_type": "code",
   "execution_count": 132,
   "id": "a8ca5e05",
   "metadata": {},
   "outputs": [
    {
     "data": {
      "text/plain": [
       "array([4.00982 , 4.009825, 4.00983 , 4.009835, 4.00984 ])"
      ]
     },
     "execution_count": 132,
     "metadata": {},
     "output_type": "execute_result"
    }
   ],
   "source": [
    "omega_values/2/np.pi"
   ]
  },
  {
   "cell_type": "code",
   "execution_count": 133,
   "id": "f98a0c86",
   "metadata": {},
   "outputs": [
    {
     "data": {
      "text/plain": [
       "array([1340.        , 1341.11111111, 1342.22222222, 1343.33333333,\n",
       "       1344.44444444, 1345.55555556, 1346.66666667, 1347.77777778,\n",
       "       1348.88888889, 1350.        ])"
      ]
     },
     "execution_count": 133,
     "metadata": {},
     "output_type": "execute_result"
    }
   ],
   "source": [
    "t1s"
   ]
  },
  {
   "cell_type": "code",
   "execution_count": 44,
   "id": "8c9f293f",
   "metadata": {
    "scrolled": false
   },
   "outputs": [
    {
     "data": {
      "image/png": "[encoded data removed]",
      "text/plain": [
       "<Figure size 720x432 with 2 Axes>"
      ]
     },
     "metadata": {
      "needs_background": "light"
     },
     "output_type": "display_data"
    }
   ],
   "source": [
    "import numpy as np\n",
    "import matplotlib.pyplot as plt\n",
    "\n",
    "# Assuming 'results' array as specified\n",
    "data_slice = results[:, 0, -1].reshape(5,10)\n",
    "omega_values = np.linspace(4.010462,4.010465,5) * 2 * np.pi\n",
    "omega_values = omega_values/2/np.pi\n",
    "\n",
    "# Creating the 2D plot using imshow\n",
    "plt.figure(figsize=(10, 6))\n",
    "# Transposing data_slice so that the x-axis (omega) and y-axis (duration) match correctly\n",
    "im = plt.imshow(data_slice.T, aspect='auto', extent=[omega_values.min(), omega_values.max(), t1s.min(), t1s.max()], origin='lower', cmap='viridis',vmin = 0.999)\n",
    "plt.colorbar(im, label='fidelity')  # Add a colorbar to a plot\n",
    "plt.xlabel('Omega')\n",
    "plt.ylabel('Duration')\n",
    "plt.title('2D Data Visualization with Results Data')\n",
    "plt.show()"
   ]
  },
  {
   "cell_type": "code",
   "execution_count": 226,
   "id": "05f40ec4",
   "metadata": {},
   "outputs": [],
   "source": [
    "t0 = 800\n",
    "t1 = t0+1000-5\n",
    "omega = 4.0104675*2*np.pi\n",
    "duration = t0+t1\n",
    "# Define the range for omega values, scaling by 2*pi\n",
    "amplitude = 1.1185443935505557*2*np.pi\n",
    "\n",
    "flux =0.432\n",
    "#snail parameters\n",
    "EJ = 100*2*np.pi\n",
    "EC = 0.177*2*np.pi\n",
    "beta = 0.12\n",
    "ng = 0\n",
    "ncut = 300\n",
    "N = 3\n",
    "dims = 12\n",
    "snail = SNAIL(EJ,EC,beta,ng,ncut,flux,N,dims)\n",
    "Hs,charge_op = snail.spectrum_charge()\n",
    "\n",
    "\n",
    "#cavity1 parameters\n",
    "omega_c1 = 4.5*2*np.pi\n",
    "g_int1 = 0.15/2*(6-omega_c1/2/np.pi)*2*np.pi\n",
    "dimc1 = 4\n",
    "cavity1 = Cavity(omega_c1,g_int1,dimc1)\n",
    "\n",
    "#cavity1 parameters\n",
    "omega_c2 =  8.5*2*np.pi\n",
    "g_int2 = 0.15/2*(6-omega_c2/2/np.pi)*2*np.pi\n",
    "dimc2 = 4\n",
    "cavity2 = Cavity(omega_c2,g_int2,dimc2)\n",
    "\n",
    "Hc1, Vc1 = cavity1.hamiltonian()\n",
    "Hc2, Vc2 = cavity2.hamiltonian()\n",
    "\n",
    "Ic1 = np.identity(dimc1)\n",
    "Ic2 = np.identity(dimc2)\n",
    "Is = np.identity(dims)\n",
    "\n",
    "Hs = np.kron(np.kron(Hs,Ic1),Ic2)\n",
    "Hc1 = np.kron(np.kron(Is,Hc1),Ic2)\n",
    "Hc2 = np.kron(np.kron(Is,Ic1),Hc2)\n",
    "\n",
    "H_int1 = cavity1.g_int * np.kron(np.kron(charge_op,Vc1),Ic2) * 2 * ((2 * snail.EC / snail.EJ) ** 0.25)\n",
    "H_int2 = cavity2.g_int * np.kron(np.kron(charge_op,Ic1),Vc2) * 2 * ((2 * snail.EC / snail.EJ) ** 0.25)\n",
    "\n",
    "H = Hs + Hc1 + Hc2 + H_int1 + H_int2\n",
    "Hc  =  np.kron(np.kron(charge_op,Ic1),Ic2)\n",
    "energy0,U = np.linalg.eigh(H)\n",
    "energy0,U = sort_eigenpairs(energy0, U)\n",
    "Ud = U.transpose().conjugate()\n",
    "H = Ud@H@U\n",
    "Hc = Ud@Hc@U\n",
    "\n",
    "index1 = np.argmin(np.abs(energy0 - omega_c1 * np.ones(len(energy0))))\n",
    "index2 = np.argmin(np.abs(energy0 - omega_c2 * np.ones(len(energy0))))\n",
    "\n",
    "total_dim = dims*dimc1*dimc2\n",
    "H0 = Qobj(H)\n",
    "Hc = Qobj(Hc)\n",
    "psi0 = qt.basis(total_dim, index1)\n",
    "Iss = qt.qeye(dims)\n",
    "s0 = qt.basis(dims, 0)*(qt.basis(dims, 0).dag())\n",
    "cavity0 = qt.basis(dimc1, 0)*(qt.basis(dimc1, 0).dag())\n",
    "cavity1 = qt.basis(dimc1, 1)*(qt.basis(dimc1, 1).dag())\n",
    "cavity2 = qt.basis(dimc1, 2)*(qt.basis(dimc1, 2).dag())\n",
    "PP1 = qt.Qobj(np.array(qt.tensor(Iss, cavity0, cavity1).full()))\n",
    "PP2 = qt.Qobj(np.array(qt.tensor(Iss, cavity1, cavity0).full()))\n",
    "omega1 =  5.8* 2 * np.pi\n",
    "#     amplitude = find_max_amplitude(initial_duration,t0,t1, target_area=6700)\n",
    "func = gaussian_pulse(t0,t1, amplitude )\n",
    "func1 = gaussian_ramp(t0 ,t1,0.003 * 2 * np.pi)\n",
    "#     omega = 4.0104625*2*np.pi\n",
    "\n",
    "args = {'w': omega,'w1':omega1}\n",
    "tlist = np.linspace(0, duration, 100000)  # Cover ten periods\n",
    "H = [H0, [Hc, lambda t, args: func(t)*np.cos(args['w']*t)],[Hc, lambda t, args: func1(t)*np.cos(args['w1']*t)]]\n",
    "\n",
    "result = qt.sesolve(H, psi0, tlist, args=args)"
   ]
  },
  {
   "cell_type": "code",
   "execution_count": 227,
   "id": "aa238e93",
   "metadata": {},
   "outputs": [
    {
     "data": {
      "text/latex": [
       "Quantum object: dims=[[192], [1]], shape=(192, 1), type='ket', dtype=Dense$$\\left(\\begin{array}{cc}-2.957\\times10^{ -5 }\\\\(-0.596-0.783j)\\\\3.219\\times10^{ -5 }\\\\-1.702\\times10^{ -10 }\\\\(-0.018+0.024j)\\\\\\vdots\\\\4.496\\times10^{ -11 }\\\\7.385\\times10^{ -13 }\\\\1.550\\times10^{ -14 }\\\\-7.010\\times10^{ -12 }\\\\-2.803\\times10^{ -7 }\\end{array}\\right)$$"
      ],
      "text/plain": [
       "Quantum object: dims=[[192], [1]], shape=(192, 1), type='ket', dtype=Dense\n",
       "Qobj data =\n",
       "[[-2.95683988e-05-1.85387432e-05j]\n",
       " [-5.96073520e-01-7.82875532e-01j]\n",
       " [ 3.21900899e-05+3.36680442e-05j]\n",
       " [-1.70249579e-10+1.74451566e-09j]\n",
       " [-1.75950558e-02+2.42499146e-02j]\n",
       " [ 4.42954313e-05+9.12754151e-06j]\n",
       " [-6.76140895e-10+5.59815584e-10j]\n",
       " [ 2.14573903e-11+1.28321438e-10j]\n",
       " [ 6.47850512e-06+6.21152503e-06j]\n",
       " [ 2.68018007e-08+5.92544772e-09j]\n",
       " [ 1.26970026e-09+8.02287769e-10j]\n",
       " [-8.43699084e-13+1.16711804e-12j]\n",
       " [ 8.55086640e-09+1.28937418e-08j]\n",
       " [-1.25486482e-09-1.18786504e-11j]\n",
       " [ 2.19230910e-11+1.95327688e-11j]\n",
       " [-7.67614384e-14-4.37903968e-13j]\n",
       " [-7.73760764e-06-5.03230558e-06j]\n",
       " [-1.55215452e-01+6.63568113e-02j]\n",
       " [-6.86658351e-07-4.95499853e-06j]\n",
       " [-2.66566635e-11-9.88933506e-12j]\n",
       " [ 4.86408727e-02+6.59712499e-03j]\n",
       " [-1.83948392e-06+9.16974826e-06j]\n",
       " [ 4.09267502e-10-1.50312500e-09j]\n",
       " [-1.25405633e-12-1.67658104e-12j]\n",
       " [ 2.24951624e-06-2.97214724e-06j]\n",
       " [-7.83363963e-10-1.39733640e-09j]\n",
       " [-4.34093551e-11+2.24485103e-11j]\n",
       " [-1.30600165e-13-1.82002911e-13j]\n",
       " [-5.19250135e-09+2.49852540e-09j]\n",
       " [ 5.21516361e-10-1.97973532e-10j]\n",
       " [ 3.57102026e-12-3.51038109e-12j]\n",
       " [ 2.79089364e-13+1.39291675e-12j]\n",
       " [-2.85150396e-07-3.88277542e-09j]\n",
       " [ 1.13663141e-04+1.56416118e-04j]\n",
       " [ 6.37079059e-08-1.02867385e-07j]\n",
       " [ 1.76307173e-13-4.48588589e-12j]\n",
       " [-8.19659057e-05+2.14293782e-04j]\n",
       " [ 1.93924753e-07+1.11069930e-07j]\n",
       " [ 1.09298553e-10-2.54742307e-11j]\n",
       " [ 7.01014986e-13-1.80955292e-12j]\n",
       " [ 1.90382907e-07+6.39577911e-08j]\n",
       " [ 1.00430128e-09+7.48656347e-10j]\n",
       " [-1.24170665e-11-1.10115874e-11j]\n",
       " [-1.30973899e-12+5.15020410e-12j]\n",
       " [-1.44378560e-09+1.87724364e-09j]\n",
       " [-1.33823192e-11+1.51521842e-12j]\n",
       " [ 2.75635938e-12-1.26643079e-12j]\n",
       " [-6.10038915e-12-4.36294687e-13j]\n",
       " [-1.38837625e-07-3.57417698e-08j]\n",
       " [ 3.48148054e-07+1.26747021e-06j]\n",
       " [ 3.55812277e-10+1.81219119e-10j]\n",
       " [ 1.12509108e-11-4.57605377e-12j]\n",
       " [-1.26576954e-07-9.96249025e-07j]\n",
       " [-5.84525855e-09+2.21121201e-09j]\n",
       " [-4.06291338e-12+6.72164777e-11j]\n",
       " [ 8.68964902e-12-4.21780729e-11j]\n",
       " [ 3.42498255e-10+1.31476723e-08j]\n",
       " [-2.29786719e-10+8.77710053e-11j]\n",
       " [ 4.55844344e-12-8.00666201e-12j]\n",
       " [-2.09189721e-12+1.29168061e-12j]\n",
       " [-3.13760606e-10-1.26955456e-10j]\n",
       " [ 2.00639381e-11-1.72924045e-11j]\n",
       " [-1.11243153e-11+4.11335398e-11j]\n",
       " [-1.30247945e-11-3.53287811e-11j]\n",
       " [-1.28462663e-08+3.53584349e-09j]\n",
       " [ 8.46634128e-09-1.03458271e-10j]\n",
       " [ 2.09145819e-10+1.62561993e-10j]\n",
       " [ 4.12949910e-11+4.27120712e-11j]\n",
       " [ 3.06342276e-08+3.68946324e-09j]\n",
       " [ 1.22945402e-09-9.85416578e-10j]\n",
       " [ 5.56441415e-11+6.87242304e-11j]\n",
       " [-3.55489931e-12-2.01873797e-11j]\n",
       " [ 2.65493356e-10-4.45233268e-10j]\n",
       " [-8.66864136e-10+9.39293347e-10j]\n",
       " [ 2.32088140e-10-2.30001957e-09j]\n",
       " [ 5.59724549e-11-2.77323923e-11j]\n",
       " [-1.03380167e-10-8.91660836e-11j]\n",
       " [ 1.04710749e-10+7.41496102e-11j]\n",
       " [-1.01688171e-10+1.76723309e-10j]\n",
       " [ 2.11942542e-11+2.66235708e-11j]\n",
       " [-7.88812603e-10-4.29180075e-10j]\n",
       " [ 1.28400761e-09+1.04660496e-09j]\n",
       " [ 6.96084961e-10+6.02674020e-11j]\n",
       " [ 1.20602587e-10+5.34493078e-11j]\n",
       " [ 9.27289314e-09+6.35257708e-09j]\n",
       " [-1.21393920e-09+1.22112480e-09j]\n",
       " [-9.61763911e-12-2.97226269e-10j]\n",
       " [-4.94570102e-11+5.79508696e-11j]\n",
       " [-9.84230515e-10-2.39740877e-09j]\n",
       " [-6.87956900e-10+1.05044067e-11j]\n",
       " [ 1.54207128e-09+3.59840566e-10j]\n",
       " [-1.77289004e-11+6.93547001e-12j]\n",
       " [-2.72657806e-10+1.47938513e-10j]\n",
       " [ 5.84198962e-10-1.42878864e-09j]\n",
       " [ 6.73318052e-10+1.29358681e-09j]\n",
       " [ 3.46853536e-11-1.78529155e-11j]\n",
       " [ 7.12727722e-11+1.09211310e-10j]\n",
       " [-5.63508208e-09+2.57677002e-09j]\n",
       " [ 2.50044712e-10-1.01402009e-10j]\n",
       " [-3.52375257e-12+2.99568993e-11j]\n",
       " [-1.43884255e-08-9.14059334e-09j]\n",
       " [-1.40346223e-09-1.41866924e-10j]\n",
       " [-7.34941113e-10+8.85856959e-10j]\n",
       " [-5.13736442e-11+5.83247373e-11j]\n",
       " [-1.97697634e-09-1.25376921e-10j]\n",
       " [ 8.19070853e-10-1.12710871e-09j]\n",
       " [ 2.07622187e-10+2.87471554e-10j]\n",
       " [ 7.05954541e-13-1.50935055e-11j]\n",
       " [-1.11836688e-11-5.16000759e-11j]\n",
       " [-4.06048936e-11+2.88381040e-10j]\n",
       " [-1.07448085e-11+1.93149013e-11j]\n",
       " [ 2.72857093e-12+3.61904673e-12j]\n",
       " [-3.76122355e-11+1.79779472e-10j]\n",
       " [ 1.31337677e-09-8.78334190e-11j]\n",
       " [-6.53836591e-10-2.75069435e-09j]\n",
       " [-2.45479385e-11-6.40525047e-12j]\n",
       " [-8.48926782e-10-7.37535462e-10j]\n",
       " [-3.87440981e-09-6.69380885e-10j]\n",
       " [ 9.99153794e-11+4.26109485e-10j]\n",
       " [-5.54356229e-12+1.74270436e-11j]\n",
       " [ 3.03986286e-10+8.53527319e-10j]\n",
       " [-1.68150203e-09+6.51526889e-10j]\n",
       " [-1.29814153e-10+1.61839376e-10j]\n",
       " [ 1.60905139e-12-4.00214558e-12j]\n",
       " [-5.64371431e-10+3.64649912e-10j]\n",
       " [-2.91203837e-10-3.25625514e-10j]\n",
       " [ 2.80713719e-12-2.08081329e-11j]\n",
       " [ 5.61320444e-13+6.21738649e-13j]\n",
       " [-1.21596947e-09+7.24202728e-09j]\n",
       " [-8.34281029e-09+4.73789397e-09j]\n",
       " [ 7.86149390e-11+4.67591759e-11j]\n",
       " [-6.38063486e-12-2.12274784e-12j]\n",
       " [-7.74911286e-09-1.91275547e-08j]\n",
       " [ 1.81041153e-10-1.20644038e-10j]\n",
       " [-3.88348557e-11+3.41685225e-11j]\n",
       " [ 5.94249533e-12-1.23503508e-12j]\n",
       " [-1.87768156e-11+6.69166784e-10j]\n",
       " [ 7.89376019e-11-7.05760903e-11j]\n",
       " [ 1.41492592e-11-2.05677576e-11j]\n",
       " [-4.38941020e-13+1.70207169e-13j]\n",
       " [-9.65542827e-11-6.74560592e-11j]\n",
       " [-4.99364264e-11-6.94575634e-11j]\n",
       " [ 4.03571327e-12+4.18692259e-12j]\n",
       " [ 1.36848040e-13-7.68093985e-14j]\n",
       " [-4.61199375e-10-2.73936029e-11j]\n",
       " [ 2.78022237e-11-1.67262885e-10j]\n",
       " [-1.05432148e-11+3.89204905e-11j]\n",
       " [-3.01424793e-14-1.01649410e-13j]\n",
       " [ 1.19348210e-09+3.64031400e-10j]\n",
       " [-2.47858041e-11-5.54464818e-11j]\n",
       " [-2.08120925e-12-5.05477173e-12j]\n",
       " [ 1.78891426e-13+7.31448248e-14j]\n",
       " [-9.92133194e-10-3.17210481e-10j]\n",
       " [ 1.83317000e-12+9.62789614e-12j]\n",
       " [ 4.53974848e-13+2.08843121e-13j]\n",
       " [-1.95229964e-14+4.36199944e-14j]\n",
       " [-2.79581685e-13-1.74002138e-11j]\n",
       " [ 5.78870867e-12+7.56473769e-13j]\n",
       " [ 3.56099846e-13+3.13035511e-13j]\n",
       " [ 2.64754476e-13-2.50471850e-14j]\n",
       " [-2.09746700e-10-2.16512796e-09j]\n",
       " [-3.35298102e-11+3.17634313e-11j]\n",
       " [-3.23037731e-12+5.38596876e-13j]\n",
       " [ 6.37532469e-15+2.13099425e-14j]\n",
       " [-2.35008447e-10-5.29346151e-11j]\n",
       " [-2.35410027e-11-1.37968384e-11j]\n",
       " [ 1.45751610e-12-2.16456074e-12j]\n",
       " [-1.38732356e-15-4.58464107e-15j]\n",
       " [-3.09781286e-11+8.18640079e-11j]\n",
       " [ 3.14921809e-12-6.57552818e-12j]\n",
       " [ 1.06198782e-13-1.56933567e-13j]\n",
       " [-6.17003010e-14+1.11290944e-13j]\n",
       " [-1.87571887e-11+2.95299644e-12j]\n",
       " [ 1.03304404e-12-2.36444068e-12j]\n",
       " [ 7.25460218e-14-7.02297546e-14j]\n",
       " [-1.81977787e-10-2.76677544e-10j]\n",
       " [ 9.15285450e-11-4.12119744e-11j]\n",
       " [ 2.35160056e-12+1.37465164e-11j]\n",
       " [-6.41973371e-14-5.66433869e-14j]\n",
       " [-9.07139496e-15+1.68248436e-16j]\n",
       " [-5.17097144e-11+1.17318174e-11j]\n",
       " [-1.28012438e-13-1.31740327e-12j]\n",
       " [ 3.72090405e-16-6.48537974e-15j]\n",
       " [ 5.22257671e-14+9.19663905e-14j]\n",
       " [-2.46232456e-13-1.13267891e-12j]\n",
       " [-1.06611629e-13+5.36398434e-15j]\n",
       " [ 1.29951135e-14-8.18272616e-15j]\n",
       " [ 4.49552570e-11-2.40280988e-11j]\n",
       " [ 7.38541379e-13+1.72917517e-14j]\n",
       " [ 1.54963845e-14+8.47593405e-16j]\n",
       " [-7.01039946e-12-3.81331540e-12j]\n",
       " [-2.80265328e-07-8.21461356e-08j]]"
      ]
     },
     "execution_count": 227,
     "metadata": {},
     "output_type": "execute_result"
    }
   ],
   "source": [
    "result.states[-1]"
   ]
  },
  {
   "cell_type": "code",
   "execution_count": 247,
   "id": "65833c58",
   "metadata": {},
   "outputs": [],
   "source": [
    "PP1 = qt.Qobj(np.array(qt.tensor(s0, cavity0, cavity1).full()))\n",
    "PP2 = qt.Qobj(np.array(qt.tensor(s0, cavity1, cavity0).full()))\n",
    "exp_P1 = np.array([qt.expect(PP1, state) for state in result.states])\n",
    "exp_P2 = np.array([qt.expect(PP2, state) for state in result.states])"
   ]
  },
  {
   "cell_type": "code",
   "execution_count": 249,
   "id": "6007056c",
   "metadata": {},
   "outputs": [
    {
     "data": {
      "image/png": "[encoded data removed]",
      "text/plain": [
       "<Figure size 432x288 with 1 Axes>"
      ]
     },
     "metadata": {
      "needs_background": "light"
     },
     "output_type": "display_data"
    }
   ],
   "source": [
    "plt.plot(tlist,exp_P1)\n",
    "plt.grid()"
   ]
  },
  {
   "cell_type": "code",
   "execution_count": 250,
   "id": "ce97187f",
   "metadata": {},
   "outputs": [
    {
     "data": {
      "text/plain": [
       "array([0.00000000e+00, 8.90861125e-26, 1.75181861e-25, ...,\n",
       "       9.68197737e-01, 9.68197739e-01, 9.68197741e-01])"
      ]
     },
     "execution_count": 250,
     "metadata": {},
     "output_type": "execute_result"
    }
   ],
   "source": [
    "exp_P1"
   ]
  },
  {
   "cell_type": "code",
   "execution_count": 253,
   "id": "e35997d0",
   "metadata": {},
   "outputs": [
    {
     "data": {
      "text/plain": [
       "array([1.00000000e+00, 1.00000000e+00, 1.00000000e+00, ...,\n",
       "       8.97644339e-04, 8.97644342e-04, 8.97644346e-04])"
      ]
     },
     "execution_count": 253,
     "metadata": {},
     "output_type": "execute_result"
    }
   ],
   "source": [
    "exp_P2"
   ]
  },
  {
   "cell_type": "code",
   "execution_count": null,
   "id": "144d1b87",
   "metadata": {},
   "outputs": [],
   "source": []
  }
 ],
 "metadata": {
  "kernelspec": {
   "display_name": "Python 3 (ipykernel)",
   "language": "python",
   "name": "python3"
  },
  "language_info": {
   "codemirror_mode": {
    "name": "ipython",
    "version": 3
   },
   "file_extension": ".py",
   "mimetype": "text/x-python",
   "name": "python",
   "nbconvert_exporter": "python",
   "pygments_lexer": "ipython3",
   "version": "3.9.7"
  }
 },
 "nbformat": 4,
 "nbformat_minor": 5
}
