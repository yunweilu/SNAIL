{
 "cells": [
  {
   "cell_type": "code",
   "execution_count": 1,
   "id": "5bce71df",
   "metadata": {},
   "outputs": [],
   "source": [
    "from matplotlib import pyplot as plt\n",
    "from systemclass import SNAIL,SNAIL_sweep,Cavity, SNAILC, SNAILC_sweep, SNAILCC, SNAILCC_sweep\n",
    "import numpy as np\n",
    "from joblib import Parallel, delayed\n",
    "import qutip as qt\n",
    "from qutip import propagator,floquet_modes,Qobj,Options,basis\n",
    "from scipy.optimize import fsolve\n",
    "import numpy as np\n",
    "def state_index(index,dim):\n",
    "    m,n,k = index\n",
    "    M,N,K = dim\n",
    "    return m*(N*K)+n*K+k\n",
    "def sort_eigenpairs(eigenvalues, eigenvectors):\n",
    "    n = eigenvectors.shape[0]\n",
    "    sorted_indices = []\n",
    "\n",
    "    for i in range(n):\n",
    "        max_abs_vals = np.abs(eigenvectors[i, :])\n",
    "        max_index = np.argmax(max_abs_vals)\n",
    "        while max_index in sorted_indices:\n",
    "            max_abs_vals[max_index] = -np.inf\n",
    "            max_index = np.argmax(max_abs_vals)\n",
    "        sorted_indices.append(max_index)\n",
    "\n",
    "    sorted_eigenvalues = eigenvalues[sorted_indices]\n",
    "    sorted_eigenvectors = eigenvectors[:, sorted_indices]\n",
    "\n",
    "    return sorted_eigenvalues, sorted_eigenvectors\n",
    "    \n",
    "\n",
    "def integral_of_pulse(max_amplitude, t0,t1,duration, target_area):\n",
    "    func = gaussian_ramp(t0,t1, max_amplitude)\n",
    "    t_values = np.linspace(0, duration, 10000)  # a dense grid for accuracy\n",
    "    func_values = np.array([func(t) for t in t_values])\n",
    "    func_values = func_values.reshape(10000)\n",
    "    current_area = np.trapz(func_values, t_values)\n",
    "    \n",
    "    return current_area - target_area  # we want this to be zero\n",
    "\n",
    "def find_max_amplitude(t0,t1,duration, target_area):\n",
    "    # Initial guess for max_amplitude\n",
    "    initial_guess = 1.0\n",
    "    # Use fsolve to find the root, i.e., when integral_of_pulse returns 0\n",
    "    max_amplitude, = fsolve(integral_of_pulse, initial_guess, args=(t0,t1,duration, target_area))\n",
    "    return max_amplitude\n",
    "\n",
    "def gaussian_ramp(t0,t1, amplitude):\n",
    "    \"\"\"\n",
    "    Creates a time-dependent function using a Gaussian function that starts near zero,\n",
    "    peaks at 'amplitude' at time 't0', and remains constant at 'amplitude' for t > t0.\n",
    "\n",
    "    Args:\n",
    "    t0 (float): The time at which the function peaks at the amplitude.\n",
    "    amplitude (float): The maximum amplitude of the Gaussian peak.\n",
    "\n",
    "    Returns:\n",
    "    function: A function of time 't' that implements the desired behavior.\n",
    "    \"\"\"\n",
    "    # Define the standard deviation such that the peak is sharp at t0\n",
    "    sigma = t0 / 3  # Adjust sigma to make the function start close to zero at t=0\n",
    "    \n",
    "    offset = amplitude * np.exp(-((0 - t0)**2) / (2 * sigma**2))\n",
    "    \n",
    "    # Define the function using a closure to encapsulate the parameters\n",
    "    def time_dependent_function(t):\n",
    "        if t <= t0:\n",
    "            # Gaussian function for ramp up\n",
    "            return amplitude * np.exp(-((t - t0)**2) / (2 * sigma**2)) - offset\n",
    "        elif t <= t1:\n",
    "            # Constant amplitude between t0 and t1\n",
    "            return amplitude - offset\n",
    "        else:\n",
    "            # Symmetric Gaussian function for ramp down\n",
    "            return amplitude * np.exp(-((t - t1)**2) / (2 * sigma**2)) - offset\n",
    "\n",
    "    return time_dependent_function\n",
    "\n",
    "def energy_diff(t0,t1,duration,initial_duration,omega):\n",
    "    flux =0.432\n",
    "    #snail parameters\n",
    "    EJ = 100*2*np.pi\n",
    "    EC = 0.177*2*np.pi\n",
    "    beta = 0.12\n",
    "    ng = 0\n",
    "    ncut = 300\n",
    "    N = 3\n",
    "    dims = 8\n",
    "    snail = SNAIL(EJ,EC,beta,ng,ncut,flux,N,dims)\n",
    "    Hs,charge_op = snail.spectrum_charge()\n",
    "\n",
    "\n",
    "    #cavity1 parameters\n",
    "    omega_c1 = 4.5*2*np.pi\n",
    "    g_int1 = 0.15/2*(6-omega_c1/2/np.pi)*2*np.pi\n",
    "    dimc1 = 4\n",
    "    cavity1 = Cavity(omega_c1,g_int1,dimc1)\n",
    "\n",
    "    #cavity1 parameters\n",
    "    omega_c2 =  8.5*2*np.pi\n",
    "    g_int2 = 0.15/2*(6-omega_c2/2/np.pi)*2*np.pi\n",
    "    dimc2 = 4\n",
    "    cavity2 = Cavity(omega_c2,g_int2,dimc2)\n",
    "\n",
    "    Hc1, Vc1 = cavity1.hamiltonian()\n",
    "    Hc2, Vc2 = cavity2.hamiltonian()\n",
    "\n",
    "    Ic1 = np.identity(dimc1)\n",
    "    Ic2 = np.identity(dimc2)\n",
    "    Is = np.identity(dims)\n",
    "\n",
    "    Hs = np.kron(np.kron(Hs,Ic1),Ic2)\n",
    "    Hc1 = np.kron(np.kron(Is,Hc1),Ic2)\n",
    "    Hc2 = np.kron(np.kron(Is,Ic1),Hc2)\n",
    "\n",
    "    H_int1 = cavity1.g_int * np.kron(np.kron(charge_op,Vc1),Ic2) * 2 * ((2 * snail.EC / snail.EJ) ** 0.25)\n",
    "    H_int2 = cavity2.g_int * np.kron(np.kron(charge_op,Ic1),Vc2) * 2 * ((2 * snail.EC / snail.EJ) ** 0.25)\n",
    "\n",
    "    H = Hs + Hc1 + Hc2 + H_int1 + H_int2\n",
    "    Hc  =  np.kron(np.kron(charge_op,Ic1),Ic2)\n",
    "    energy0,U = np.linalg.eigh(H)\n",
    "    energy0,U = sort_eigenpairs(energy0, U)\n",
    "    Ud = U.transpose().conjugate()\n",
    "    H = Ud@H@U\n",
    "    Hc = Ud@Hc@U\n",
    "\n",
    "    index1 = np.argmin(np.abs(energy0 - omega_c1 * np.ones(len(energy0))))\n",
    "    index2 = np.argmin(np.abs(energy0 - omega_c2 * np.ones(len(energy0))))\n",
    "\n",
    "    total_dim = dims*dimc1*dimc2\n",
    "    H0 = Qobj(H)\n",
    "    Hc = Qobj(Hc)\n",
    "    psi0 = qt.basis(total_dim, index1)\n",
    "    Iss = qt.qeye(dims)\n",
    "    s0 = qt.basis(dims, 0)*(qt.basis(dims, 0).dag())\n",
    "    cavity0 = qt.basis(dimc1, 0)*(qt.basis(dimc1, 0).dag())\n",
    "    cavity1 = qt.basis(dimc1, 1)*(qt.basis(dimc1, 1).dag())\n",
    "    cavity2 = qt.basis(dimc1, 2)*(qt.basis(dimc1, 2).dag())\n",
    "    PP1 = qt.Qobj(np.array(qt.tensor(s0, cavity0, cavity1).full()))\n",
    "    PP2 = qt.Qobj(np.array(qt.tensor(s0, cavity1, cavity0).full()))\n",
    "\n",
    "    amplitude = find_max_amplitude(t0,initial_duration-t0,initial_duration,6700)\n",
    "    func = gaussian_ramp(t0,t1, amplitude)\n",
    " \n",
    "    args = {'w': omega}\n",
    "    tlist = np.linspace(0, duration, 100000)  # Cover ten periods\n",
    "    H = [H0, [Hc, lambda t, args: func(t)*np.cos(args['w']*t)]]\n",
    "\n",
    "    result = qt.sesolve(H, psi0, tlist, args=args)\n",
    "    exp_P1 = np.array([qt.expect(PP1, state) for state in result.states])\n",
    "    exp_P2 = np.array([qt.expect(PP2, state) for state in result.states])\n",
    "    return exp_P1,exp_P2"
   ]
  },
  {
   "cell_type": "code",
   "execution_count": 19,
   "id": "cbc50a0a",
   "metadata": {},
   "outputs": [],
   "source": [
    "def annihilation(dim):\n",
    "    return np.diag(np.sqrt(np.arange(1,dim)),1)\n",
    "def creation(dim):\n",
    "    return np.diag(np.sqrt(np.arange(1,dim)),-1)\n",
    "dims = 8\n",
    "sd = creation(dims)\n",
    "s = annihilation(dims)\n",
    "omega_s = 5*2*np.pi\n",
    "g3 = 0.1*2*np.pi\n",
    "Hs = omega_s*sd@s+g3*(s+sd)@(s+sd)@(s+sd)\n",
    "Is = 1*np.identity(dims)\n",
    "charge_op = -1j*(s-sd)\n",
    "\n",
    "\n",
    "#cavity1 parameters\n",
    "omega_c1 = 0.69*2*np.pi\n",
    "g_int1 = 0.2/2*(6-omega_c1/2/np.pi)*2*np.pi\n",
    "dimc1 = 2\n",
    "cavity1 = Cavity(omega_c1,g_int1,dimc1)\n",
    "\n",
    "#cavity1 parameters\n",
    "omega_c2 =  0.43*2*np.pi\n",
    "g_int2 = 0.2/2*(6-omega_c2/2/np.pi)*2*np.pi\n",
    "dimc2 = 2\n",
    "cavity2 = Cavity(omega_c2,g_int2,dimc2)\n",
    "\n",
    "Hc1, Vc1 = cavity1.hamiltonian()\n",
    "Hc2, Vc2 = cavity2.hamiltonian()\n",
    "\n",
    "Ic1 = np.identity(dimc1)\n",
    "Ic2 = np.identity(dimc2)\n",
    "Is = np.identity(dims)\n",
    "\n",
    "Hs = np.kron(np.kron(Hs,Ic1),Ic2)\n",
    "Hc1 = np.kron(np.kron(Is,Hc1),Ic2)\n",
    "Hc2 = np.kron(np.kron(Is,Ic1),Hc2)\n",
    "\n",
    "H_int1 = cavity1.g_int * np.kron(np.kron(charge_op,Vc1),Ic2) * 2 * ((2 * snail.EC / snail.EJ) ** 0.25)\n",
    "H_int2 = cavity2.g_int * np.kron(np.kron(charge_op,Ic1),Vc2) * 2 * ((2 * snail.EC / snail.EJ) ** 0.25)\n",
    "\n",
    "H = Hs + Hc1 + Hc2 + H_int1 + H_int2\n",
    "Hc  =  np.kron(np.kron(charge_op,Ic1),Ic2)\n",
    "energy0,U = np.linalg.eigh(H)\n",
    "energy0,U = sort_eigenpairs(energy0, U)\n",
    "Ud = U.transpose().conjugate()\n",
    "H = Ud@H@U\n",
    "Hc = Ud@Hc@U\n",
    "\n",
    "index1 = np.argmin(np.abs(energy0 - omega_c1 * np.ones(len(energy0))))\n",
    "index2 = np.argmin(np.abs(energy0 - omega_c2 * np.ones(len(energy0))))"
   ]
  },
  {
   "cell_type": "code",
   "execution_count": 21,
   "id": "d6637a23",
   "metadata": {},
   "outputs": [
    {
     "data": {
      "text/plain": [
       "0.531"
      ]
     },
     "execution_count": 21,
     "metadata": {},
     "output_type": "execute_result"
    }
   ],
   "source": [
    "cavity1.g_int/2/np.pi"
   ]
  },
  {
   "cell_type": "code",
   "execution_count": 22,
   "id": "a9b1f844",
   "metadata": {},
   "outputs": [
    {
     "data": {
      "text/plain": [
       "0.12301517615353084j"
      ]
     },
     "execution_count": 22,
     "metadata": {},
     "output_type": "execute_result"
    }
   ],
   "source": [
    "Hc[0,index2]"
   ]
  },
  {
   "cell_type": "code",
   "execution_count": 3,
   "id": "59858d2a",
   "metadata": {},
   "outputs": [],
   "source": [
    "flux =0.432\n",
    "#snail parameters\n",
    "EJ = 100*2*np.pi\n",
    "EC = 0.177*2*np.pi\n",
    "beta = 0.12\n",
    "ng = 0\n",
    "ncut = 300\n",
    "N = 3\n",
    "dims = 8\n",
    "snail = SNAIL(EJ,EC,beta,ng,ncut,flux,N,dims)\n",
    "Hs,charge_op = snail.spectrum_charge()\n",
    "\n",
    "\n",
    "#cavity1 parameters\n",
    "omega_c1 = 4.5*2*np.pi\n",
    "g_int1 = 0.15/2*(6-omega_c1/2/np.pi)*2*np.pi\n",
    "dimc1 = 4\n",
    "cavity1 = Cavity(omega_c1,g_int1,dimc1)\n",
    "\n",
    "#cavity1 parameters\n",
    "omega_c2 =  8.5*2*np.pi\n",
    "g_int2 = 0.15/2*(6-omega_c2/2/np.pi)*2*np.pi\n",
    "dimc2 = 4\n",
    "cavity2 = Cavity(omega_c2,g_int2,dimc2)\n",
    "\n",
    "Hc1, Vc1 = cavity1.hamiltonian()\n",
    "Hc2, Vc2 = cavity2.hamiltonian()\n",
    "\n",
    "Ic1 = np.identity(dimc1)\n",
    "Ic2 = np.identity(dimc2)\n",
    "Is = np.identity(dims)\n",
    "\n",
    "Hs = np.kron(np.kron(Hs,Ic1),Ic2)\n",
    "Hc1 = np.kron(np.kron(Is,Hc1),Ic2)\n",
    "Hc2 = np.kron(np.kron(Is,Ic1),Hc2)\n",
    "\n",
    "H_int1 = cavity1.g_int * np.kron(np.kron(charge_op,Vc1),Ic2) * 2 * ((2 * snail.EC / snail.EJ) ** 0.25)\n",
    "H_int2 = cavity2.g_int * np.kron(np.kron(charge_op,Ic1),Vc2) * 2 * ((2 * snail.EC / snail.EJ) ** 0.25)\n",
    "\n",
    "H = Hs + Hc1 + Hc2 + H_int1 + H_int2\n",
    "Hc  =  np.kron(np.kron(charge_op,Ic1),Ic2)\n",
    "energy0,U = np.linalg.eigh(H)\n",
    "energy0,U = sort_eigenpairs(energy0, U)\n",
    "Ud = U.transpose().conjugate()\n",
    "H = Ud@H@U\n",
    "Hc = Ud@Hc@U\n"
   ]
  },
  {
   "cell_type": "code",
   "execution_count": 6,
   "id": "7f29ec56",
   "metadata": {},
   "outputs": [],
   "source": [
    "\n",
    "index1 = np.argmin(np.abs(energy0 - omega_c1 * np.ones(len(energy0))))\n",
    "index2 = np.argmin(np.abs(energy0 - omega_c2 * np.ones(len(energy0))))"
   ]
  },
  {
   "cell_type": "code",
   "execution_count": 11,
   "id": "28564c5e",
   "metadata": {},
   "outputs": [
    {
     "data": {
      "text/plain": [
       "(1.3063364815877818e-12-0.0004851379810626978j)"
      ]
     },
     "execution_count": 11,
     "metadata": {},
     "output_type": "execute_result"
    }
   ],
   "source": [
    "Hc[1,4]"
   ]
  },
  {
   "cell_type": "code",
   "execution_count": 328,
   "id": "b34c6ea0",
   "metadata": {},
   "outputs": [
    {
     "data": {
      "text/plain": [
       "1.1185443935505557"
      ]
     },
     "execution_count": 328,
     "metadata": {},
     "output_type": "execute_result"
    }
   ],
   "source": [
    "find_max_amplitude(200,1200-200,1200,6700)/2/np.pi"
   ]
  },
  {
   "cell_type": "code",
   "execution_count": 329,
   "id": "4933bbbd",
   "metadata": {},
   "outputs": [
    {
     "data": {
      "text/plain": [
       "[<matplotlib.lines.Line2D at 0x7f8c026d6c70>]"
      ]
     },
     "execution_count": 329,
     "metadata": {},
     "output_type": "execute_result"
    },
    {
     "data": {
      "image/png": "[encoded data removed]",
      "text/plain": [
       "<Figure size 432x288 with 1 Axes>"
      ]
     },
     "metadata": {
      "needs_background": "light"
     },
     "output_type": "display_data"
    }
   ],
   "source": [
    "t0 = 50\n",
    "initial_duration = 1000\n",
    "t1 = t0+(initial_duration-t0-t0)\n",
    "duration = t1+t0\n",
    "\n",
    "amplitude = find_max_amplitude(t0,initial_duration-t0,initial_duration,6700)\n",
    "func = gaussian_ramp(t0,t1, amplitude/2/np.pi)\n",
    "t_values = np.arange(duration)\n",
    "pulse_values = [func(t) for t in t_values]\n",
    "plt.plot(t_values,pulse_values)"
   ]
  },
  {
   "cell_type": "code",
   "execution_count": 330,
   "id": "8677cc99",
   "metadata": {},
   "outputs": [
    {
     "data": {
      "text/plain": [
       "1.1459158455310345"
      ]
     },
     "execution_count": 330,
     "metadata": {},
     "output_type": "execute_result"
    }
   ],
   "source": [
    "amplitude /2/np.pi"
   ]
  },
  {
   "cell_type": "code",
   "execution_count": 331,
   "id": "9fee551d",
   "metadata": {},
   "outputs": [
    {
     "data": {
      "text/plain": [
       "6699.997625504709"
      ]
     },
     "execution_count": 331,
     "metadata": {},
     "output_type": "execute_result"
    }
   ],
   "source": [
    "sum(pulse_values)*2*np.pi"
   ]
  },
  {
   "cell_type": "code",
   "execution_count": 343,
   "id": "fafcb8f4",
   "metadata": {},
   "outputs": [],
   "source": [
    "t0 = 50\n",
    "initial_duration = 1000\n",
    "t1 = (initial_duration-t0)\n",
    "duration = t1+t0\n",
    "t1s = np.linspace(t1-20, t1-10, 10)  # 11 points for 10 intervals\n",
    "# Define the range for omega values, scaling by 2*pi\n",
    "omega_values = np.linspace(4.01046,4.010475,5) * 2 * np.pi\n",
    "# Use joblib to parallelize the calculation over both durations and omega values\n",
    "results = Parallel(n_jobs=-1)(\n",
    "    delayed(energy_diff)(t0,t1,t0+t1, initial_duration, omega)\n",
    "    for t1 in t1s\n",
    "    for omega in omega_values \n",
    ")\n"
   ]
  },
  {
   "cell_type": "code",
   "execution_count": 344,
   "id": "9a4c16ef",
   "metadata": {},
   "outputs": [],
   "source": [
    "results = np.array(results)"
   ]
  },
  {
   "cell_type": "code",
   "execution_count": 345,
   "id": "e40c6009",
   "metadata": {},
   "outputs": [
    {
     "data": {
      "text/plain": [
       "array([[0.99975074, 0.99986817, 0.99989026, 0.99981701, 0.99964843],\n",
       "       [0.99978558, 0.99990336, 0.99992552, 0.99985205, 0.99968296],\n",
       "       [0.99981333, 0.99993147, 0.99995369, 0.99987999, 0.99971039],\n",
       "       [0.999834  , 0.99995249, 0.99997478, 0.99990086, 0.99973076],\n",
       "       [0.99984758, 0.99996642, 0.99998878, 0.99991464, 0.99974403],\n",
       "       [0.99985409, 0.99997328, 0.9999957 , 0.99992134, 0.99975023],\n",
       "       [0.9998535 , 0.99997304, 0.99999553, 0.99992095, 0.99974933],\n",
       "       [0.99984583, 0.99996572, 0.99998828, 0.99991349, 0.99974136],\n",
       "       [0.99983107, 0.99995132, 0.99997394, 0.99989893, 0.99972629],\n",
       "       [0.99980924, 0.99992984, 0.99995252, 0.99987729, 0.99970415]])"
      ]
     },
     "execution_count": 345,
     "metadata": {},
     "output_type": "execute_result"
    }
   ],
   "source": [
    "results[:,0,-1].reshape(10,5)"
   ]
  },
  {
   "cell_type": "code",
   "execution_count": 346,
   "id": "a9f50a83",
   "metadata": {},
   "outputs": [
    {
     "data": {
      "text/plain": [
       "array([4.01046   , 4.01046375, 4.0104675 , 4.01047125, 4.010475  ])"
      ]
     },
     "execution_count": 346,
     "metadata": {},
     "output_type": "execute_result"
    }
   ],
   "source": [
    "omega_values/2/np.pi"
   ]
  },
  {
   "cell_type": "code",
   "execution_count": 347,
   "id": "0ed17ef1",
   "metadata": {},
   "outputs": [
    {
     "data": {
      "text/plain": [
       "array([930.        , 931.11111111, 932.22222222, 933.33333333,\n",
       "       934.44444444, 935.55555556, 936.66666667, 937.77777778,\n",
       "       938.88888889, 940.        ])"
      ]
     },
     "execution_count": 347,
     "metadata": {},
     "output_type": "execute_result"
    }
   ],
   "source": [
    "t1s"
   ]
  },
  {
   "cell_type": "code",
   "execution_count": 199,
   "id": "8c9f293f",
   "metadata": {
    "scrolled": false
   },
   "outputs": [
    {
     "data": {
      "image/png": "[encoded data removed]",
      "text/plain": [
       "<Figure size 720x432 with 2 Axes>"
      ]
     },
     "metadata": {
      "needs_background": "light"
     },
     "output_type": "display_data"
    }
   ],
   "source": [
    "import numpy as np\n",
    "import matplotlib.pyplot as plt\n",
    "\n",
    "# Assuming 'results' array as specified\n",
    "data_slice = results[:, 0, -1].reshape(5, 10)\n",
    "omega_values = np.linspace(4.0104625,4.010465,5) * 2 * np.pi\n",
    "omega_values = omega_values/2/np.pi\n",
    "\n",
    "# Creating the 2D plot using imshow\n",
    "plt.figure(figsize=(10, 6))\n",
    "# Transposing data_slice so that the x-axis (omega) and y-axis (duration) match correctly\n",
    "im = plt.imshow(data_slice.T, aspect='auto', extent=[omega_values.min(), omega_values.max(), durations.min(), durations.max()], origin='lower', cmap='viridis',vmin = 0.99999)\n",
    "plt.colorbar(im, label='fidelity')  # Add a colorbar to a plot\n",
    "plt.xlabel('Omega')\n",
    "plt.ylabel('Duration')\n",
    "plt.title('2D Data Visualization with Results Data')\n",
    "plt.show()"
   ]
  },
  {
   "cell_type": "code",
   "execution_count": 353,
   "id": "a3554b4d",
   "metadata": {},
   "outputs": [],
   "source": [
    "\n",
    "t0 = 50\n",
    "initial_duration = 1000\n",
    "t1 = (initial_duration-t0)\n",
    "duration = 50\n",
    "omega = 4.0104675*2*np.pi\n",
    "flux =0.432\n",
    "#snail parameters\n",
    "EJ = 100*2*np.pi\n",
    "EC = 0.177*2*np.pi\n",
    "beta = 0.12\n",
    "ng = 0\n",
    "ncut = 300\n",
    "N = 3\n",
    "dims = 8\n",
    "snail = SNAIL(EJ,EC,beta,ng,ncut,flux,N,dims)\n",
    "Hs,charge_op = snail.spectrum_charge()\n",
    "\n",
    "\n",
    "#cavity1 parameters\n",
    "omega_c1 = 4.5*2*np.pi\n",
    "g_int1 = 0.15/2*(6-omega_c1/2/np.pi)*2*np.pi\n",
    "dimc1 = 4\n",
    "cavity1 = Cavity(omega_c1,g_int1,dimc1)\n",
    "\n",
    "#cavity1 parameters\n",
    "omega_c2 =  8.5*2*np.pi\n",
    "g_int2 = 0.15/2*(6-omega_c2/2/np.pi)*2*np.pi\n",
    "dimc2 = 4\n",
    "cavity2 = Cavity(omega_c2,g_int2,dimc2)\n",
    "\n",
    "Hc1, Vc1 = cavity1.hamiltonian()\n",
    "Hc2, Vc2 = cavity2.hamiltonian()\n",
    "\n",
    "Ic1 = np.identity(dimc1)\n",
    "Ic2 = np.identity(dimc2)\n",
    "Is = np.identity(dims)\n",
    "\n",
    "Hs = np.kron(np.kron(Hs,Ic1),Ic2)\n",
    "Hc1 = np.kron(np.kron(Is,Hc1),Ic2)\n",
    "Hc2 = np.kron(np.kron(Is,Ic1),Hc2)\n",
    "\n",
    "H_int1 = cavity1.g_int * np.kron(np.kron(charge_op,Vc1),Ic2) * 2 * ((2 * snail.EC / snail.EJ) ** 0.25)\n",
    "H_int2 = cavity2.g_int * np.kron(np.kron(charge_op,Ic1),Vc2) * 2 * ((2 * snail.EC / snail.EJ) ** 0.25)\n",
    "\n",
    "H = Hs + Hc1 + Hc2 + H_int1 + H_int2\n",
    "Hc  =  np.kron(np.kron(charge_op,Ic1),Ic2)\n",
    "energy0,U = np.linalg.eigh(H)\n",
    "energy0,U = sort_eigenpairs(energy0, U)\n",
    "Ud = U.transpose().conjugate()\n",
    "H = Ud@H@U\n",
    "Hc = Ud@Hc@U\n",
    "\n",
    "index1 = np.argmin(np.abs(energy0 - omega_c1 * np.ones(len(energy0))))\n",
    "index2 = np.argmin(np.abs(energy0 - omega_c2 * np.ones(len(energy0))))\n",
    "\n",
    "total_dim = dims*dimc1*dimc2\n",
    "H0 = Qobj(H)\n",
    "Hc = Qobj(Hc)\n",
    "psi0 = qt.basis(total_dim, index1)\n",
    "Iss = qt.qeye(dims)\n",
    "s0 = qt.basis(dims, 0)*(qt.basis(dims, 0).dag())\n",
    "cavity0 = qt.basis(dimc1, 0)*(qt.basis(dimc1, 0).dag())\n",
    "cavity1 = qt.basis(dimc1, 1)*(qt.basis(dimc1, 1).dag())\n",
    "cavity2 = qt.basis(dimc1, 2)*(qt.basis(dimc1, 2).dag())\n",
    "PP1 = qt.Qobj(np.array(qt.tensor(s0, cavity0, cavity1).full()))\n",
    "PP2 = qt.Qobj(np.array(qt.tensor(s0, cavity1, cavity0).full()))\n",
    "\n",
    "amplitude = find_max_amplitude(t0,initial_duration-t0,initial_duration,6700)\n",
    "func = gaussian_ramp(t0,t1, amplitude)\n",
    "\n",
    "args = {'w': omega}\n",
    "tlist = np.linspace(0, duration, 100000)  # Cover ten periods\n",
    "H = [H0, [Hc, lambda t, args: func(t)*np.cos(args['w']*t)]]\n",
    "\n",
    "result = qt.sesolve(H, psi0, tlist, args=args)\n",
    "exp_P1 = np.array([qt.expect(PP1, state) for state in result.states])\n",
    "exp_P2 = np.array([qt.expect(PP2, state) for state in result.states])"
   ]
  },
  {
   "cell_type": "code",
   "execution_count": 354,
   "id": "b4fc08dd",
   "metadata": {},
   "outputs": [
    {
     "data": {
      "text/plain": [
       "array([0.00000000e+00, 7.91506705e-25, 1.22978651e-23, ...,\n",
       "       8.53383707e-04, 8.54068185e-04, 8.54819798e-04])"
      ]
     },
     "execution_count": 354,
     "metadata": {},
     "output_type": "execute_result"
    }
   ],
   "source": [
    "exp_P1"
   ]
  },
  {
   "cell_type": "code",
   "execution_count": 356,
   "id": "bea2e3d6",
   "metadata": {},
   "outputs": [
    {
     "data": {
      "text/plain": [
       "array([[ 5.49560397e-15-5.55111512e-17j,  1.11092482e+00+9.03192932e-01j,\n",
       "        -5.56384427e-02+1.20131527e-02j,  3.40538359e-03-6.95059410e-03j,\n",
       "         1.69812609e-04+3.47599791e-04j, -1.80577822e-04-3.63983558e-05j,\n",
       "         1.26988851e-05-1.12741263e-05j,  2.14291168e-10+2.43962021e-09j],\n",
       "       [ 1.11092482e+00-9.03192932e-01j, -3.49720253e-14-5.55111512e-17j,\n",
       "         1.58301628e+00+1.26844328e+00j, -8.90723905e-02+2.05792255e-02j,\n",
       "        -6.15028525e-03+1.32789609e-02j,  4.00633194e-04+7.62599844e-04j,\n",
       "        -4.24926897e-04-6.95062828e-05j,  2.78997106e-05-2.70662816e-05j],\n",
       "       [-5.56384427e-02-1.20131527e-02j,  1.58301628e+00-1.26844328e+00j,\n",
       "         7.82707232e-15+1.06492969e-50j,  1.95395196e+00+1.54236895e+00j,\n",
       "         1.16602606e-01-2.87545158e-02j, -8.74813320e-03+2.00426182e-02j,\n",
       "         7.27789769e-04+1.29083629e-03j, -7.64865351e-04-9.61381247e-05j],\n",
       "       [ 3.40538359e-03+6.95059410e-03j, -8.90723905e-02-2.05792255e-02j,\n",
       "         1.95395196e+00-1.54236895e+00j, -3.86357613e-14+2.77555756e-17j,\n",
       "        -2.27404634e+00-1.76781214e+00j,  1.39561040e-01-3.66286767e-02j,\n",
       "        -1.10887223e-02+2.70383832e-02j,  1.15914036e-03+1.91986161e-03j],\n",
       "       [ 1.69812609e-04-3.47599791e-04j, -6.15028525e-03-1.32789609e-02j,\n",
       "         1.16602606e-01+2.87545158e-02j, -2.27404634e+00+1.76781214e+00j,\n",
       "         2.20934382e-14-2.39713585e-50j,  2.56245741e+00+1.96148889e+00j,\n",
       "        -1.58720849e-01+4.42020726e-02j,  1.30991047e-02-3.40941005e-02j],\n",
       "       [-1.80577822e-04+3.63983558e-05j,  4.00633194e-04-7.62599844e-04j,\n",
       "        -8.74813320e-03-2.00426182e-02j,  1.39561040e-01+3.66286767e-02j,\n",
       "         2.56245741e+00-1.96148889e+00j,  1.00142117e-13-2.15157559e-49j,\n",
       "         2.82879973e+00+2.13204109e+00j, -1.74665328e-01+5.14599406e-02j],\n",
       "       [ 1.26988851e-05+1.12741263e-05j, -4.24926897e-04+6.95062828e-05j,\n",
       "         7.27789769e-04-1.29083629e-03j, -1.10887223e-02-2.70383832e-02j,\n",
       "        -1.58720849e-01-4.42020726e-02j,  2.82879973e+00-2.13204109e+00j,\n",
       "        -6.03961325e-14-5.55935060e-49j,  3.07864372e+00+2.28464840e+00j],\n",
       "       [ 2.14291155e-10-2.43962022e-09j,  2.78997106e-05+2.70662816e-05j,\n",
       "        -7.64865351e-04+9.61381247e-05j,  1.15914036e-03-1.91986161e-03j,\n",
       "         1.30991047e-02+3.40941005e-02j, -1.74665328e-01-5.14599406e-02j,\n",
       "         3.07864372e+00-2.28464840e+00j, -1.22124533e-15+6.72367372e-51j]])"
      ]
     },
     "execution_count": 356,
     "metadata": {},
     "output_type": "execute_result"
    }
   ],
   "source": [
    "charge_op"
   ]
  }
 ],
 "metadata": {
  "kernelspec": {
   "display_name": "Python 3 (ipykernel)",
   "language": "python",
   "name": "python3"
  },
  "language_info": {
   "codemirror_mode": {
    "name": "ipython",
    "version": 3
   },
   "file_extension": ".py",
   "mimetype": "text/x-python",
   "name": "python",
   "nbconvert_exporter": "python",
   "pygments_lexer": "ipython3",
   "version": "3.9.7"
  }
 },
 "nbformat": 4,
 "nbformat_minor": 5
}
