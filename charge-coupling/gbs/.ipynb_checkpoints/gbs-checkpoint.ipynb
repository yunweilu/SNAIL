{
 "cells": [
  {
   "cell_type": "code",
   "execution_count": 416,
   "id": "27be340c",
   "metadata": {},
   "outputs": [],
   "source": [
    "from matplotlib import pyplot as plt\n",
    "from systemclass import SNAIL,SNAIL_sweep,Cavity, SNAILC, SNAILC_sweep, SNAILCC, SNAILCC_sweep\n",
    "import numpy as np\n",
    "from joblib import Parallel, delayed"
   ]
  },
  {
   "cell_type": "code",
   "execution_count": 417,
   "id": "1e47172e",
   "metadata": {},
   "outputs": [],
   "source": [
    "def calculate_overlap(state1, state2):\n",
    "    return abs((state1.dag() * state2)[0,0])**2\n",
    "def find_optimal_k(A, B, D):\n",
    "    # Define a large initial minimum difference\n",
    "    min_diff = float('inf')\n",
    "    optimal_k = None\n",
    "    \n",
    "    # Iterate over a range of possible k values\n",
    "    # The range can be adjusted based on expected size of k or other insights you have about your problem\n",
    "    for k in range(-1000, 1000):\n",
    "        # Calculate the difference for this value of k\n",
    "        diff = abs(A - (B + k * D))\n",
    "        \n",
    "        # If this is the smallest difference we've found so far, update min_diff and optimal_k\n",
    "        if diff < min_diff:\n",
    "            min_diff = diff\n",
    "            optimal_k = k\n",
    "            \n",
    "    return optimal_k\n",
    "def annihilation(dim):\n",
    "    return np.diag(np.sqrt(np.arange(1,dim)),1)\n",
    "def creation(dim):\n",
    "    return np.diag(np.sqrt(np.arange(1,dim)),-1)\n",
    "from qutip import propagator,floquet_modes,Qobj,Options,basis\n",
    "from scipy.optimize import linear_sum_assignment\n",
    "def sort_eigenpairs(eigenvalues, eigenvectors):\n",
    "    n = eigenvectors.shape[0]\n",
    "    sorted_indices = []\n",
    "\n",
    "    for i in range(n):\n",
    "        max_abs_vals = np.abs(eigenvectors[i, :])\n",
    "        max_index = np.argmax(max_abs_vals)\n",
    "        while max_index in sorted_indices:\n",
    "            max_abs_vals[max_index] = -np.inf\n",
    "            max_index = np.argmax(max_abs_vals)\n",
    "        sorted_indices.append(max_index)\n",
    "\n",
    "    sorted_eigenvalues = eigenvalues[sorted_indices]\n",
    "    sorted_eigenvectors = eigenvectors[:, sorted_indices]\n",
    "\n",
    "    return sorted_eigenvalues, sorted_eigenvectors\n",
    "    \n",
    "    return sorted_eigenvalues, sorted_eigenvectors\n",
    "def zero_corresponding_elements(A, B):\n",
    "    # Ensure A and B have the same shape\n",
    "    if A.shape != B.shape:\n",
    "        raise ValueError(\"Matrices A and B must have the same shape\")\n",
    "    \n",
    "    # Create a copy of B to modify and return\n",
    "    B_new = B.copy()\n",
    "    \n",
    "    # Set elements in B_new to zero where A is non-zero\n",
    "    B_new[A != 0] = 0\n",
    "    \n",
    "    return B_new\n",
    "def one_corresponding_elements(A, B):\n",
    "    # Ensure A and B have the same shape\n",
    "    if A.shape != B.shape:\n",
    "        raise ValueError(\"Matrices A and B must have the same shape\")\n",
    "    \n",
    "    # Create a copy of B to modify and return\n",
    "    B_new = B.copy()\n",
    "    \n",
    "    # Set elements in B_new to zero where A is non-zero\n",
    "    B_new[A == 0] = 0\n",
    "    \n",
    "    return B_new"
   ]
  },
  {
   "cell_type": "code",
   "execution_count": 472,
   "id": "99848af4",
   "metadata": {},
   "outputs": [],
   "source": [
    "from qutip import propagator,floquet_modes,Qobj,Options,basis\n",
    "def energy_diff(A,omega):\n",
    "    flux =0.406400\n",
    "    #snail parameters\n",
    "    EJ = 100*2*np.pi\n",
    "    EC = 0.177*2*np.pi\n",
    "    beta = 0.12\n",
    "    ng = 0\n",
    "    ncut = 300\n",
    "    N = 3\n",
    "    dims = 8\n",
    "    snail = SNAIL(EJ,EC,beta,ng,ncut,flux,N,dims)\n",
    "    Hs,charge_op = snail.spectrum_charge()\n",
    "\n",
    "\n",
    "    #cavity1 parameters\n",
    "    omega_c1 = 4.1*2*np.pi\n",
    "    g_int1 = 0.15/2*1.9*2*np.pi\n",
    "    dimc1 = 4\n",
    "    cavity1 = Cavity(omega_c1,g_int1,dimc1)\n",
    "\n",
    "    #cavity1 parameters\n",
    "    omega_c2 = 5.3*2*np.pi\n",
    "    g_int2 = 0.15/2*0.7*2*np.pi\n",
    "    dimc2 = 4\n",
    "    cavity2 = Cavity(omega_c2,g_int2,dimc2)\n",
    "\n",
    "    Hc1, Vc1 = cavity1.hamiltonian()\n",
    "    Hc2, Vc2 = cavity2.hamiltonian()\n",
    "\n",
    "    Ic1 = np.identity(dimc1)\n",
    "    Ic2 = np.identity(dimc2)\n",
    "    Is = np.identity(dims)\n",
    "\n",
    "    Hs = np.kron(np.kron(Hs,Ic1),Ic2)\n",
    "    Hc1 = np.kron(np.kron(Is,Hc1),Ic2)\n",
    "    Hc2 = np.kron(np.kron(Is,Ic1),Hc2)\n",
    "\n",
    "    H_int1 = cavity1.g_int * np.kron(np.kron(charge_op,Vc1),Ic2) * 2 * ((2 * snail.EC / snail.EJ) ** 0.25)\n",
    "    H_int2 = cavity2.g_int * np.kron(np.kron(charge_op,Ic1),Vc2) * 2 * ((2 * snail.EC / snail.EJ) ** 0.25)\n",
    "    H = Hs + Hc1 + Hc2 + H_int1 + H_int2\n",
    "    Hc  =  np.kron(np.kron(charge_op,Ic1),Ic2)\n",
    "    energy,U = np.linalg.eigh(H)\n",
    "    energy,U = sort_eigenpairs(energy, U)\n",
    "    Ud = U.transpose().conjugate()\n",
    "    H = Ud@H@U\n",
    "    Hc = Ud@Hc@U\n",
    "    c = annihilation(dimc1)\n",
    "    cd = creation(dimc1)\n",
    "#     Hgbs = np.kron(np.kron(np.identity(dims),c),cd)+np.kron(np.kron(np.identity(dims),cd),c)\n",
    "#     Hc = zero_corresponding_elements(Hgbs, Hc)\n",
    "    index1 = np.argmin(np.abs(energy - omega_c1 * np.ones(len(energy))))\n",
    "    index2 = np.argmin(np.abs(energy - omega_c2 * np.ones(len(energy))))\n",
    "    H0 = H\n",
    "    H0 = Qobj(H0)\n",
    "    Hc = Qobj(Hc)\n",
    "    args = {'w': omega}\n",
    "    T = (2*np.pi)/omega\n",
    "    H = [H0, [Hc, lambda t, args: A*np.cos(args['w']*t)]] \n",
    "    options = Options(nsteps=100000)  # Increasing nsteps to 10000, adjust as needed\n",
    "    f_modes, f_energies = floquet_modes(H, T, args, False, options=options) \n",
    "    total_dim = dims*dimc1*dimc2\n",
    "    basis_states = [basis(total_dim, index1), basis(total_dim, index2)]\n",
    "    \n",
    "    \n",
    "    max_overlap_indices = [0,0]\n",
    "    max_overlaps = [0,0]\n",
    "    for f_index, f_state in enumerate(f_modes):\n",
    "\n",
    "        # Loop over each basis state\n",
    "        for b_index, b_state in enumerate(basis_states):\n",
    "\n",
    "            # Calculate the overlap\n",
    "            overlap = calculate_overlap(f_state, b_state)\n",
    "\n",
    "            # If this is the maximum overlap for this basis state, store the index\n",
    "            if overlap > max_overlaps[b_index]:\n",
    "                max_overlaps[b_index] = overlap\n",
    "                max_overlap_indices[b_index] = f_index\n",
    "    omegac1p = f_energies[max_overlap_indices[0]]/2/np.pi\n",
    "    k = find_optimal_k(omega_c1/2/np.pi, omegac1p , omega/2/np.pi)\n",
    "    omegac1p = omegac1p + k *omega/2/np.pi\n",
    "    omegac2p = f_energies[max_overlap_indices[1]]/2/np.pi\n",
    "    k = find_optimal_k(omega_c2/2/np.pi, omegac2p, omega/2/np.pi)\n",
    "    omegac2p = omegac2p + k *omega/2/np.pi\n",
    "    diff = omegac2p - omegac1p\n",
    "    return diff"
   ]
  },
  {
   "cell_type": "code",
   "execution_count": 473,
   "id": "6e93cfe3",
   "metadata": {},
   "outputs": [],
   "source": [
    "# energy_diff(0,10)"
   ]
  },
  {
   "cell_type": "code",
   "execution_count": 474,
   "id": "d38c1215",
   "metadata": {},
   "outputs": [],
   "source": [
    "import scipy\n",
    "def fit_avoided_crossing(energy_diff,upthre,lothre):\n",
    "    print(omegas,detuning)\n",
    "    # define the cost function to fit the avoided crossing\n",
    "    def cost_func(parameters):\n",
    "        g = parameters[0]   # beam splitter rate \n",
    "        a = parameters[1]   # energy difference between two modes, excluding effects from avoided crossings \n",
    "        res = 0\n",
    "        for i in range(len(omegas)):\n",
    "            # sometimes it is helpful to select the part of data to fit with \n",
    "            # if omega_list[i]/(2*np.pi)<3.95 or omega_list[i]/(2*np.pi) > 3.96:\n",
    "#             if omegas[i]<0.279:\n",
    "                if np.abs(energy_diff[i]>upthre) or np.abs(energy_diff[i]<lothre):\n",
    "                    continue\n",
    "                delta =   detuning - omegas[i]\n",
    "                res += np.abs(energy_diff[i] - (a+ np.sign(delta) * np.sqrt(4*g**2 + (delta)**2) - delta ) )**2 \n",
    "        return res\n",
    "\n",
    "    # boundaries of the fitting parameters \n",
    "    bb = scipy.optimize.Bounds(np.array([0.01e-4, detuning-1e-1,]), np.array([3e-4, detuning+1e-1,]))\n",
    "    \n",
    "    # initial guess \n",
    "    x0 = np.array([1e-5, detuning])\n",
    "    \n",
    "    res = scipy.optimize.minimize(cost_func, x0, bounds=bb, method='Powell', tol=1e-30)\n",
    "    print(res)\n",
    "    # store fitted beam splitter rate, unit in MHz\n",
    "    g = res.x[0]   \n",
    "    a = res.x[1]\n",
    "    return g, a,\n",
    "def displacement(A):\n",
    "    flux =  0.406420\n",
    "    #snail parameters\n",
    "    EJ = 100*2*np.pi\n",
    "    EC = 0.177*2*np.pi\n",
    "    beta = 0.12\n",
    "    ng = 0\n",
    "    ncut = 300\n",
    "    N = 3\n",
    "    dims = 8\n",
    "    snail = SNAIL(EJ,EC,beta,ng,ncut,flux,N,dims)\n",
    "    Hs,charge_op = snail.spectrum_charge()\n",
    "\n",
    "\n",
    "    #cavity1 parameters\n",
    "    omega_c1 = 5*2*np.pi\n",
    "    g_int1 = 0.075*2*np.pi\n",
    "    dimc1 = 4\n",
    "    cavity1 = Cavity(omega_c1,g_int1,dimc1)\n",
    "\n",
    "    #cavity1 parameters\n",
    "    omega_c2 = 4*2*np.pi\n",
    "    g_int2 = 0.15*2*np.pi\n",
    "    dimc2 = 4\n",
    "    cavity2 = Cavity(omega_c2,g_int2,dimc2)\n",
    "\n",
    "    Hc1, Vc1 = cavity1.hamiltonian()\n",
    "    Hc2, Vc2 = cavity2.hamiltonian()\n",
    "\n",
    "    Ic1 = np.identity(dimc1)\n",
    "    Ic2 = np.identity(dimc2)\n",
    "    Is = np.identity(dims)\n",
    "\n",
    "    Hs = np.kron(np.kron(Hs,Ic1),Ic2)\n",
    "    Hc1 = np.kron(np.kron(Is,Hc1),Ic2)\n",
    "    Hc2 = np.kron(np.kron(Is,Ic1),Hc2)\n",
    "    detuning = energy_diff(0,10)*2*np.pi\n",
    "    H_int1 = cavity1.g_int * np.kron(np.kron(charge_op,Vc1),Ic2) * 2 * ((2 * snail.EC / snail.EJ) ** 0.25)\n",
    "    H_int2 = cavity2.g_int * np.kron(np.kron(charge_op,Ic1),Vc2) * 2 * ((2 * snail.EC / snail.EJ) ** 0.25)\n",
    "    eta = A/2/snail.phi_zpf/2/(snail.omegas+detuning)\n",
    "    print((snail.omegas-detuning)/2/np.pi)\n",
    "    return eta,6*eta*snail.g3/2/np.pi*cavity2.g_int * snail.c2**0.25/(snail.omegas-omega_c2)*cavity1.g_int * snail.c2**0.25/(snail.omegas-omega_c1)"
   ]
  },
  {
   "cell_type": "code",
   "execution_count": 475,
   "id": "ff416e41",
   "metadata": {},
   "outputs": [
    {
     "name": "stdout",
     "output_type": "stream",
     "text": [
      "[1.20401    1.20403069 1.20405138 1.20407207 1.20409276 1.20411345\n",
      " 1.20413414 1.20415483 1.20417552 1.20419621 1.2042169  1.20423759\n",
      " 1.20425828 1.20427897 1.20429966 1.20432034 1.20434103 1.20436172\n",
      " 1.20438241 1.2044031  1.20442379 1.20444448 1.20446517 1.20448586\n",
      " 1.20450655 1.20452724 1.20454793 1.20456862 1.20458931 1.20461   ] 1.20431\n",
      " message: Optimization terminated successfully.\n",
      " success: True\n",
      "  status: 0\n",
      "     fun: 8.153596873915646e-12\n",
      "       x: [ 1.637e-05  1.204e+00]\n",
      "     nit: 2\n",
      "   direc: [[ 1.000e+00  0.000e+00]\n",
      "           [ 0.000e+00  1.000e+00]]\n",
      "    nfev: 120\n",
      "[1.20401    1.20403069 1.20405138 1.20407207 1.20409276 1.20411345\n",
      " 1.20413414 1.20415483 1.20417552 1.20419621 1.2042169  1.20423759\n",
      " 1.20425828 1.20427897 1.20429966 1.20432034 1.20434103 1.20436172\n",
      " 1.20438241 1.2044031  1.20442379 1.20444448 1.20446517 1.20448586\n",
      " 1.20450655 1.20452724 1.20454793 1.20456862 1.20458931 1.20461   ] 1.20431\n",
      " message: Optimization terminated successfully.\n",
      " success: True\n",
      "  status: 0\n",
      "     fun: 2.7239293917765e-11\n",
      "       x: [ 3.269e-05  1.204e+00]\n",
      "     nit: 2\n",
      "   direc: [[ 1.000e+00  0.000e+00]\n",
      "           [ 0.000e+00  1.000e+00]]\n",
      "    nfev: 118\n",
      "[1.20401    1.20403069 1.20405138 1.20407207 1.20409276 1.20411345\n",
      " 1.20413414 1.20415483 1.20417552 1.20419621 1.2042169  1.20423759\n",
      " 1.20425828 1.20427897 1.20429966 1.20432034 1.20434103 1.20436172\n",
      " 1.20438241 1.2044031  1.20442379 1.20444448 1.20446517 1.20448586\n",
      " 1.20450655 1.20452724 1.20454793 1.20456862 1.20458931 1.20461   ] 1.20431\n",
      " message: Optimization terminated successfully.\n",
      " success: True\n",
      "  status: 0\n",
      "     fun: 7.116136781144779e-11\n",
      "       x: [ 4.899e-05  1.204e+00]\n",
      "     nit: 2\n",
      "   direc: [[ 1.000e+00  0.000e+00]\n",
      "           [ 0.000e+00  1.000e+00]]\n",
      "    nfev: 120\n",
      "[1.20401    1.20403069 1.20405138 1.20407207 1.20409276 1.20411345\n",
      " 1.20413414 1.20415483 1.20417552 1.20419621 1.2042169  1.20423759\n",
      " 1.20425828 1.20427897 1.20429966 1.20432034 1.20434103 1.20436172\n",
      " 1.20438241 1.2044031  1.20442379 1.20444448 1.20446517 1.20448586\n",
      " 1.20450655 1.20452724 1.20454793 1.20456862 1.20458931 1.20461   ] 1.20431\n",
      " message: Optimization terminated successfully.\n",
      " success: True\n",
      "  status: 0\n",
      "     fun: 1.57397796020686e-10\n",
      "       x: [ 6.526e-05  1.204e+00]\n",
      "     nit: 2\n",
      "   direc: [[ 1.000e+00  0.000e+00]\n",
      "           [ 0.000e+00  1.000e+00]]\n",
      "    nfev: 108\n",
      "[1.20401    1.20403069 1.20405138 1.20407207 1.20409276 1.20411345\n",
      " 1.20413414 1.20415483 1.20417552 1.20419621 1.2042169  1.20423759\n",
      " 1.20425828 1.20427897 1.20429966 1.20432034 1.20434103 1.20436172\n",
      " 1.20438241 1.2044031  1.20442379 1.20444448 1.20446517 1.20448586\n",
      " 1.20450655 1.20452724 1.20454793 1.20456862 1.20458931 1.20461   ] 1.2043306896551724\n",
      " message: Optimization terminated successfully.\n",
      " success: True\n",
      "  status: 0\n",
      "     fun: 1.2552870492738181e-10\n",
      "       x: [ 8.132e-05  1.204e+00]\n",
      "     nit: 3\n",
      "   direc: [[ 0.000e+00  1.000e+00]\n",
      "           [ 2.240e-10 -1.386e-11]]\n",
      "    nfev: 218\n",
      "[1.20401    1.20403069 1.20405138 1.20407207 1.20409276 1.20411345\n",
      " 1.20413414 1.20415483 1.20417552 1.20419621 1.2042169  1.20423759\n",
      " 1.20425828 1.20427897 1.20429966 1.20432034 1.20434103 1.20436172\n",
      " 1.20438241 1.2044031  1.20442379 1.20444448 1.20446517 1.20448586\n",
      " 1.20450655 1.20452724 1.20454793 1.20456862 1.20458931 1.20461   ] 1.2043306896551724\n",
      " message: Optimization terminated successfully.\n",
      " success: True\n",
      "  status: 0\n",
      "     fun: 2.6336570733709595e-11\n",
      "       x: [ 9.730e-05  1.204e+00]\n",
      "     nit: 3\n",
      "   direc: [[ 0.000e+00  1.000e+00]\n",
      "           [ 1.181e-10 -8.367e-12]]\n",
      "    nfev: 201\n"
     ]
    }
   ],
   "source": [
    "A_values = np.linspace(0.5,3,6)*2*np.pi\n",
    "gs1 = []\n",
    "A = 4*2*np.pi\n",
    "for A in A_values:\n",
    "    detuning = 1.20431*2*np.pi\n",
    "    omegas = np.linspace(detuning-0.3e-3*2*np.pi, detuning+0.3e-3*2*np.pi, 30)\n",
    "    results = Parallel(n_jobs=30)(delayed(energy_diff)(A, omega) for omega in omegas)\n",
    "    index_of_min = np.argmin(results)\n",
    "    index_of_max = np.argmax(results)\n",
    "    detuning = (omegas[index_of_min]+omegas[index_of_max])/2/2/np.pi\n",
    "    omegas = omegas/2/np.pi\n",
    "    g,a = fit_avoided_crossing(results,1.210,1.2)\n",
    "    gs1.append(g)\n"
   ]
  },
  {
   "cell_type": "code",
   "execution_count": 476,
   "id": "f6c28b67",
   "metadata": {},
   "outputs": [
    {
     "data": {
      "text/plain": [
       "[1.6370223043619673e-05,\n",
       " 3.269068354166425e-05,\n",
       " 4.899461699562117e-05,\n",
       " 6.526449898712047e-05,\n",
       " 8.132279849029331e-05,\n",
       " 9.730102494364819e-05]"
      ]
     },
     "execution_count": 476,
     "metadata": {},
     "output_type": "execute_result"
    }
   ],
   "source": [
    "gs1"
   ]
  },
  {
   "cell_type": "code",
   "execution_count": 392,
   "id": "157f3d38",
   "metadata": {},
   "outputs": [],
   "source": [
    "# plt.plot(disp,result)\n",
    "# plt.plot(disp,gs)"
   ]
  },
  {
   "cell_type": "code",
   "execution_count": 422,
   "id": "52c926f4",
   "metadata": {},
   "outputs": [
    {
     "name": "stderr",
     "output_type": "stream",
     "text": [
      "/tmp/ipykernel_4064907/792710035.py:1: UserWarning: marker is redundantly defined by the 'marker' keyword argument and the fmt string \".\" (-> marker='.'). The keyword argument will take precedence.\n",
      "  plt.plot(omegas, results,'.', marker='o',)\n"
     ]
    },
    {
     "data": {
      "image/png": "[encoded data removed]",
      "text/plain": [
       "<Figure size 432x288 with 1 Axes>"
      ]
     },
     "metadata": {
      "needs_background": "light"
     },
     "output_type": "display_data"
    }
   ],
   "source": [
    "plt.plot(omegas, results,'.', marker='o',)\n",
    "# plt.ylim(1.20,1.205)\n",
    "plt.xlabel('Omega')\n",
    "plt.ylabel('Energy Difference')\n",
    "plt.title('Energy Difference vs Omega')\n",
    "plt.show()\n"
   ]
  },
  {
   "cell_type": "code",
   "execution_count": 394,
   "id": "f7af44d3",
   "metadata": {},
   "outputs": [
    {
     "data": {
      "text/plain": [
       "[<matplotlib.lines.Line2D at 0x7f4171695040>]"
      ]
     },
     "execution_count": 394,
     "metadata": {},
     "output_type": "execute_result"
    },
    {
     "data": {
      "image/png": "[encoded data removed]",
      "text/plain": [
       "<Figure size 432x288 with 1 Axes>"
      ]
     },
     "metadata": {
      "needs_background": "light"
     },
     "output_type": "display_data"
    }
   ],
   "source": [
    "delta = -omegas + (detuning) *np.ones(len(omegas))\n",
    "plt.plot(omegas,(a+ np.sign(delta) * np.sqrt(4*g**2 + (delta)**2) - delta ))\n",
    "plt.plot(omegas,results)\n",
    "# plt.ylim(1.204,1.206)"
   ]
  },
  {
   "cell_type": "code",
   "execution_count": 493,
   "id": "8e2ea00c",
   "metadata": {},
   "outputs": [],
   "source": [
    "from qutip import propagator,floquet_modes,Qobj,Options,basis\n",
    "def energy_diff2(A,omega):\n",
    "    flux =0.406400\n",
    "    #snail parameters\n",
    "    EJ = 100*2*np.pi\n",
    "    EC = 0.177*2*np.pi\n",
    "    beta = 0.12\n",
    "    ng = 0\n",
    "    ncut = 300\n",
    "    N = 3\n",
    "    dims = 30\n",
    "    snail = SNAIL(EJ,EC,beta,ng,ncut,flux,N,dims)\n",
    "    Hs,charge_op = snail.spectrum_charge()\n",
    "\n",
    "\n",
    "    #cavity1 parameters\n",
    "    omega_c1 = 4.1*2*np.pi\n",
    "    g_int1 = 0.15/2*1.9*2*np.pi\n",
    "    dimc1 = 4\n",
    "    cavity1 = Cavity(omega_c1,g_int1,dimc1)\n",
    "\n",
    "    #cavity1 parameters\n",
    "    omega_c2 = 5.3*2*np.pi\n",
    "    g_int2 = 0.15/2*0.7*2*np.pi\n",
    "    dimc2 = 4\n",
    "    cavity2 = Cavity(omega_c2,g_int2,dimc2)\n",
    "\n",
    "    Hc1, Vc1 = cavity1.hamiltonian()\n",
    "    Hc2, Vc2 = cavity2.hamiltonian()\n",
    "\n",
    "    Ic1 = np.identity(dimc1)\n",
    "    Ic2 = np.identity(dimc2)\n",
    "    Is = np.identity(dims)\n",
    "\n",
    "    Hs = np.kron(np.kron(Hs,Ic1),Ic2)\n",
    "    Hc1 = np.kron(np.kron(Is,Hc1),Ic2)\n",
    "    Hc2 = np.kron(np.kron(Is,Ic1),Hc2)\n",
    "\n",
    "    H_int1 = cavity1.g_int * np.kron(np.kron(charge_op,Vc1),Ic2) * 2 * ((2 * snail.EC / snail.EJ) ** 0.25)\n",
    "    H_int2 = cavity2.g_int * np.kron(np.kron(charge_op,Ic1),Vc2) * 2 * ((2 * snail.EC / snail.EJ) ** 0.25)\n",
    "    H = Hs + Hc1 + Hc2 + H_int1 + H_int2\n",
    "    Hc  =  np.kron(np.kron(charge_op,Ic1),Ic2)\n",
    "    energy,U = np.linalg.eigh(H)\n",
    "    energy,U = sort_eigenpairs(energy, U)\n",
    "    Ud = U.transpose().conjugate()\n",
    "    H = Ud@H@U\n",
    "    Hc = Ud@Hc@U\n",
    "    c = annihilation(dimc1)\n",
    "    cd = creation(dimc1)\n",
    "    s = annihilation(dims)\n",
    "    sd = creation(dims)\n",
    "#     Hgbs = np.kron(np.kron(np.identity(dims),c),cd)+np.kron(np.kron(np.identity(dims),cd),c)\n",
    "    Hgbs = np.kron(np.kron(np.ones((dims,dims)),c),cd)+np.kron(np.kron(np.ones((dims,dims)),cd),c)\n",
    "    Hgbs += np.kron(np.kron(s+sd,np.identity(dimc1)),np.identity(dimc2))+np.kron(np.kron(s+sd,np.identity(dimc1)),np.identity(dimc2))\n",
    "#     Hgbs += np.kron(np.kron(s+sd,c),cd)+np.kron(np.kron(s+sd,cd),c)\n",
    "    Hc = one_corresponding_elements(Hgbs, Hc)\n",
    "    index1 = np.argmin(np.abs(energy - omega_c1 * np.ones(len(energy))))\n",
    "    index2 = np.argmin(np.abs(energy - omega_c2 * np.ones(len(energy))))\n",
    "    H0 = H\n",
    "    H0 = Qobj(H0)\n",
    "    Hc = Qobj(Hc)\n",
    "    args = {'w': omega}\n",
    "    T = (2*np.pi)/omega\n",
    "    H = [H0, [Hc, lambda t, args: A*np.cos(args['w']*t)]] \n",
    "    options = Options(nsteps=100000)  # Increasing nsteps to 10000, adjust as needed\n",
    "    f_modes, f_energies = floquet_modes(H, T, args, False, options=options) \n",
    "    total_dim = dims*dimc1*dimc2\n",
    "    basis_states = [basis(total_dim, index1), basis(total_dim, index2)]\n",
    "    \n",
    "    \n",
    "    max_overlap_indices = [0,0]\n",
    "    max_overlaps = [0,0]\n",
    "    for f_index, f_state in enumerate(f_modes):\n",
    "\n",
    "        # Loop over each basis state\n",
    "        for b_index, b_state in enumerate(basis_states):\n",
    "\n",
    "            # Calculate the overlap\n",
    "            overlap = calculate_overlap(f_state, b_state)\n",
    "\n",
    "            # If this is the maximum overlap for this basis state, store the index\n",
    "            if overlap > max_overlaps[b_index]:\n",
    "                max_overlaps[b_index] = overlap\n",
    "                max_overlap_indices[b_index] = f_index\n",
    "    omegac1p = f_energies[max_overlap_indices[0]]/2/np.pi\n",
    "    k = find_optimal_k(omega_c1/2/np.pi, omegac1p , omega/2/np.pi)\n",
    "    omegac1p = omegac1p + k *omega/2/np.pi\n",
    "    omegac2p = f_energies[max_overlap_indices[1]]/2/np.pi\n",
    "    k = find_optimal_k(omega_c2/2/np.pi, omegac2p, omega/2/np.pi)\n",
    "    omegac2p = omegac2p + k *omega/2/np.pi\n",
    "    diff = omegac2p - omegac1p\n",
    "    return diff"
   ]
  },
  {
   "cell_type": "code",
   "execution_count": 495,
   "id": "2c2fa414",
   "metadata": {},
   "outputs": [
    {
     "name": "stdout",
     "output_type": "stream",
     "text": [
      "[1.20401    1.20403069 1.20405138 1.20407207 1.20409276 1.20411345\n",
      " 1.20413414 1.20415483 1.20417552 1.20419621 1.2042169  1.20423759\n",
      " 1.20425828 1.20427897 1.20429966 1.20432034 1.20434103 1.20436172\n",
      " 1.20438241 1.2044031  1.20442379 1.20444448 1.20446517 1.20448586\n",
      " 1.20450655 1.20452724 1.20454793 1.20456862 1.20458931 1.20461   ] 1.2044444827586207\n",
      " message: Optimization terminated successfully.\n",
      " success: True\n",
      "  status: 0\n",
      "     fun: 2.606365381984587e-05\n",
      "       x: [ 1.835e-06  1.205e+00]\n",
      "     nit: 6\n",
      "   direc: [[ 3.032e-08 -3.636e-11]\n",
      "           [ 4.148e-12  2.298e-10]]\n",
      "    nfev: 604\n"
     ]
    },
    {
     "name": "stderr",
     "output_type": "stream",
     "text": [
      "capi_return is NULL\n",
      "Call-back cb_f_in_zvode__user__routines failed.\n",
      "capi_return is NULL\n",
      "Call-back cb_f_in_zvode__user__routines failed.\n",
      "capi_return is NULL\n",
      "Call-back cb_f_in_zvode__user__routines failed.\n",
      "capi_return is NULL\n",
      "Call-back cb_f_in_zvode__user__routines failed.\n",
      "capi_return is NULL\n",
      "Call-back cb_f_in_zvode__user__routines failed.\n",
      "capi_return is NULL\n",
      "Call-back cb_f_in_zvode__user__routines failed.\n",
      "capi_return is NULL\n",
      "Call-back cb_f_in_zvode__user__routines failed.\n",
      "capi_return is NULL\n",
      "Call-back cb_f_in_zvode__user__routines failed.\n",
      "capi_return is NULL\n",
      "Call-back cb_f_in_zvode__user__routines failed.\n",
      "capi_return is NULL\n",
      "Call-back cb_f_in_zvode__user__routines failed.\n",
      "capi_return is NULL\n",
      "Call-back cb_f_in_zvode__user__routines failed.\n",
      "capi_return is NULL\n",
      "Call-back cb_f_in_zvode__user__routines failed.\n",
      "capi_return is NULL\n",
      "Call-back cb_f_in_zvode__user__routines failed.\n",
      "capi_return is NULL\n",
      "Call-back cb_f_in_zvode__user__routines failed.\n",
      "capi_return is NULL\n",
      "Call-back cb_f_in_zvode__user__routines failed.\n"
     ]
    },
    {
     "ename": "KeyboardInterrupt",
     "evalue": "",
     "output_type": "error",
     "traceback": [
      "\u001b[0;31m---------------------------------------------------------------------------\u001b[0m",
      "\u001b[0;31mKeyboardInterrupt\u001b[0m                         Traceback (most recent call last)",
      "\u001b[0;32m/tmp/ipykernel_4064907/2341401730.py\u001b[0m in \u001b[0;36m<module>\u001b[0;34m\u001b[0m\n\u001b[1;32m      5\u001b[0m     \u001b[0mdetuning\u001b[0m \u001b[0;34m=\u001b[0m \u001b[0;36m1.20431\u001b[0m\u001b[0;34m*\u001b[0m\u001b[0;36m2\u001b[0m\u001b[0;34m*\u001b[0m\u001b[0mnp\u001b[0m\u001b[0;34m.\u001b[0m\u001b[0mpi\u001b[0m\u001b[0;34m\u001b[0m\u001b[0;34m\u001b[0m\u001b[0m\n\u001b[1;32m      6\u001b[0m     \u001b[0momegas\u001b[0m \u001b[0;34m=\u001b[0m \u001b[0mnp\u001b[0m\u001b[0;34m.\u001b[0m\u001b[0mlinspace\u001b[0m\u001b[0;34m(\u001b[0m\u001b[0mdetuning\u001b[0m\u001b[0;34m-\u001b[0m\u001b[0;36m0.3e-3\u001b[0m\u001b[0;34m*\u001b[0m\u001b[0;36m2\u001b[0m\u001b[0;34m*\u001b[0m\u001b[0mnp\u001b[0m\u001b[0;34m.\u001b[0m\u001b[0mpi\u001b[0m\u001b[0;34m,\u001b[0m \u001b[0mdetuning\u001b[0m\u001b[0;34m+\u001b[0m\u001b[0;36m0.3e-3\u001b[0m\u001b[0;34m*\u001b[0m\u001b[0;36m2\u001b[0m\u001b[0;34m*\u001b[0m\u001b[0mnp\u001b[0m\u001b[0;34m.\u001b[0m\u001b[0mpi\u001b[0m\u001b[0;34m,\u001b[0m \u001b[0;36m30\u001b[0m\u001b[0;34m)\u001b[0m\u001b[0;34m\u001b[0m\u001b[0;34m\u001b[0m\u001b[0m\n\u001b[0;32m----> 7\u001b[0;31m     \u001b[0mresults\u001b[0m \u001b[0;34m=\u001b[0m \u001b[0mParallel\u001b[0m\u001b[0;34m(\u001b[0m\u001b[0mn_jobs\u001b[0m\u001b[0;34m=\u001b[0m\u001b[0;36m15\u001b[0m\u001b[0;34m)\u001b[0m\u001b[0;34m(\u001b[0m\u001b[0mdelayed\u001b[0m\u001b[0;34m(\u001b[0m\u001b[0menergy_diff2\u001b[0m\u001b[0;34m)\u001b[0m\u001b[0;34m(\u001b[0m\u001b[0mA\u001b[0m\u001b[0;34m,\u001b[0m \u001b[0momega\u001b[0m\u001b[0;34m)\u001b[0m \u001b[0;32mfor\u001b[0m \u001b[0momega\u001b[0m \u001b[0;32min\u001b[0m \u001b[0momegas\u001b[0m\u001b[0;34m)\u001b[0m\u001b[0;34m\u001b[0m\u001b[0;34m\u001b[0m\u001b[0m\n\u001b[0m\u001b[1;32m      8\u001b[0m     \u001b[0mindex_of_min\u001b[0m \u001b[0;34m=\u001b[0m \u001b[0mnp\u001b[0m\u001b[0;34m.\u001b[0m\u001b[0margmin\u001b[0m\u001b[0;34m(\u001b[0m\u001b[0mresults\u001b[0m\u001b[0;34m)\u001b[0m\u001b[0;34m\u001b[0m\u001b[0;34m\u001b[0m\u001b[0m\n\u001b[1;32m      9\u001b[0m     \u001b[0mindex_of_max\u001b[0m \u001b[0;34m=\u001b[0m \u001b[0mnp\u001b[0m\u001b[0;34m.\u001b[0m\u001b[0margmax\u001b[0m\u001b[0;34m(\u001b[0m\u001b[0mresults\u001b[0m\u001b[0;34m)\u001b[0m\u001b[0;34m\u001b[0m\u001b[0;34m\u001b[0m\u001b[0m\n",
      "\u001b[0;32m/opt/anaconda3/envs/yunwei/lib/python3.9/site-packages/joblib/parallel.py\u001b[0m in \u001b[0;36m__call__\u001b[0;34m(self, iterable)\u001b[0m\n\u001b[1;32m   1052\u001b[0m \u001b[0;34m\u001b[0m\u001b[0m\n\u001b[1;32m   1053\u001b[0m             \u001b[0;32mwith\u001b[0m \u001b[0mself\u001b[0m\u001b[0;34m.\u001b[0m\u001b[0m_backend\u001b[0m\u001b[0;34m.\u001b[0m\u001b[0mretrieval_context\u001b[0m\u001b[0;34m(\u001b[0m\u001b[0;34m)\u001b[0m\u001b[0;34m:\u001b[0m\u001b[0;34m\u001b[0m\u001b[0;34m\u001b[0m\u001b[0m\n\u001b[0;32m-> 1054\u001b[0;31m                 \u001b[0mself\u001b[0m\u001b[0;34m.\u001b[0m\u001b[0mretrieve\u001b[0m\u001b[0;34m(\u001b[0m\u001b[0;34m)\u001b[0m\u001b[0;34m\u001b[0m\u001b[0;34m\u001b[0m\u001b[0m\n\u001b[0m\u001b[1;32m   1055\u001b[0m             \u001b[0;31m# Make sure that we get a last message telling us we are done\u001b[0m\u001b[0;34m\u001b[0m\u001b[0;34m\u001b[0m\u001b[0m\n\u001b[1;32m   1056\u001b[0m             \u001b[0melapsed_time\u001b[0m \u001b[0;34m=\u001b[0m \u001b[0mtime\u001b[0m\u001b[0;34m.\u001b[0m\u001b[0mtime\u001b[0m\u001b[0;34m(\u001b[0m\u001b[0;34m)\u001b[0m \u001b[0;34m-\u001b[0m \u001b[0mself\u001b[0m\u001b[0;34m.\u001b[0m\u001b[0m_start_time\u001b[0m\u001b[0;34m\u001b[0m\u001b[0;34m\u001b[0m\u001b[0m\n",
      "\u001b[0;32m/opt/anaconda3/envs/yunwei/lib/python3.9/site-packages/joblib/parallel.py\u001b[0m in \u001b[0;36mretrieve\u001b[0;34m(self)\u001b[0m\n\u001b[1;32m    931\u001b[0m             \u001b[0;32mtry\u001b[0m\u001b[0;34m:\u001b[0m\u001b[0;34m\u001b[0m\u001b[0;34m\u001b[0m\u001b[0m\n\u001b[1;32m    932\u001b[0m                 \u001b[0;32mif\u001b[0m \u001b[0mgetattr\u001b[0m\u001b[0;34m(\u001b[0m\u001b[0mself\u001b[0m\u001b[0;34m.\u001b[0m\u001b[0m_backend\u001b[0m\u001b[0;34m,\u001b[0m \u001b[0;34m'supports_timeout'\u001b[0m\u001b[0;34m,\u001b[0m \u001b[0;32mFalse\u001b[0m\u001b[0;34m)\u001b[0m\u001b[0;34m:\u001b[0m\u001b[0;34m\u001b[0m\u001b[0;34m\u001b[0m\u001b[0m\n\u001b[0;32m--> 933\u001b[0;31m                     \u001b[0mself\u001b[0m\u001b[0;34m.\u001b[0m\u001b[0m_output\u001b[0m\u001b[0;34m.\u001b[0m\u001b[0mextend\u001b[0m\u001b[0;34m(\u001b[0m\u001b[0mjob\u001b[0m\u001b[0;34m.\u001b[0m\u001b[0mget\u001b[0m\u001b[0;34m(\u001b[0m\u001b[0mtimeout\u001b[0m\u001b[0;34m=\u001b[0m\u001b[0mself\u001b[0m\u001b[0;34m.\u001b[0m\u001b[0mtimeout\u001b[0m\u001b[0;34m)\u001b[0m\u001b[0;34m)\u001b[0m\u001b[0;34m\u001b[0m\u001b[0;34m\u001b[0m\u001b[0m\n\u001b[0m\u001b[1;32m    934\u001b[0m                 \u001b[0;32melse\u001b[0m\u001b[0;34m:\u001b[0m\u001b[0;34m\u001b[0m\u001b[0;34m\u001b[0m\u001b[0m\n\u001b[1;32m    935\u001b[0m                     \u001b[0mself\u001b[0m\u001b[0;34m.\u001b[0m\u001b[0m_output\u001b[0m\u001b[0;34m.\u001b[0m\u001b[0mextend\u001b[0m\u001b[0;34m(\u001b[0m\u001b[0mjob\u001b[0m\u001b[0;34m.\u001b[0m\u001b[0mget\u001b[0m\u001b[0;34m(\u001b[0m\u001b[0;34m)\u001b[0m\u001b[0;34m)\u001b[0m\u001b[0;34m\u001b[0m\u001b[0;34m\u001b[0m\u001b[0m\n",
      "\u001b[0;32m/opt/anaconda3/envs/yunwei/lib/python3.9/site-packages/joblib/_parallel_backends.py\u001b[0m in \u001b[0;36mwrap_future_result\u001b[0;34m(future, timeout)\u001b[0m\n\u001b[1;32m    540\u001b[0m         AsyncResults.get from multiprocessing.\"\"\"\n\u001b[1;32m    541\u001b[0m         \u001b[0;32mtry\u001b[0m\u001b[0;34m:\u001b[0m\u001b[0;34m\u001b[0m\u001b[0;34m\u001b[0m\u001b[0m\n\u001b[0;32m--> 542\u001b[0;31m             \u001b[0;32mreturn\u001b[0m \u001b[0mfuture\u001b[0m\u001b[0;34m.\u001b[0m\u001b[0mresult\u001b[0m\u001b[0;34m(\u001b[0m\u001b[0mtimeout\u001b[0m\u001b[0;34m=\u001b[0m\u001b[0mtimeout\u001b[0m\u001b[0;34m)\u001b[0m\u001b[0;34m\u001b[0m\u001b[0;34m\u001b[0m\u001b[0m\n\u001b[0m\u001b[1;32m    543\u001b[0m         \u001b[0;32mexcept\u001b[0m \u001b[0mCfTimeoutError\u001b[0m \u001b[0;32mas\u001b[0m \u001b[0me\u001b[0m\u001b[0;34m:\u001b[0m\u001b[0;34m\u001b[0m\u001b[0;34m\u001b[0m\u001b[0m\n\u001b[1;32m    544\u001b[0m             \u001b[0;32mraise\u001b[0m \u001b[0mTimeoutError\u001b[0m \u001b[0;32mfrom\u001b[0m \u001b[0me\u001b[0m\u001b[0;34m\u001b[0m\u001b[0;34m\u001b[0m\u001b[0m\n",
      "\u001b[0;32m/opt/anaconda3/envs/yunwei/lib/python3.9/concurrent/futures/_base.py\u001b[0m in \u001b[0;36mresult\u001b[0;34m(self, timeout)\u001b[0m\n\u001b[1;32m    438\u001b[0m                     \u001b[0;32mreturn\u001b[0m \u001b[0mself\u001b[0m\u001b[0;34m.\u001b[0m\u001b[0m__get_result\u001b[0m\u001b[0;34m(\u001b[0m\u001b[0;34m)\u001b[0m\u001b[0;34m\u001b[0m\u001b[0;34m\u001b[0m\u001b[0m\n\u001b[1;32m    439\u001b[0m \u001b[0;34m\u001b[0m\u001b[0m\n\u001b[0;32m--> 440\u001b[0;31m                 \u001b[0mself\u001b[0m\u001b[0;34m.\u001b[0m\u001b[0m_condition\u001b[0m\u001b[0;34m.\u001b[0m\u001b[0mwait\u001b[0m\u001b[0;34m(\u001b[0m\u001b[0mtimeout\u001b[0m\u001b[0;34m)\u001b[0m\u001b[0;34m\u001b[0m\u001b[0;34m\u001b[0m\u001b[0m\n\u001b[0m\u001b[1;32m    441\u001b[0m \u001b[0;34m\u001b[0m\u001b[0m\n\u001b[1;32m    442\u001b[0m                 \u001b[0;32mif\u001b[0m \u001b[0mself\u001b[0m\u001b[0;34m.\u001b[0m\u001b[0m_state\u001b[0m \u001b[0;32min\u001b[0m \u001b[0;34m[\u001b[0m\u001b[0mCANCELLED\u001b[0m\u001b[0;34m,\u001b[0m \u001b[0mCANCELLED_AND_NOTIFIED\u001b[0m\u001b[0;34m]\u001b[0m\u001b[0;34m:\u001b[0m\u001b[0;34m\u001b[0m\u001b[0;34m\u001b[0m\u001b[0m\n",
      "\u001b[0;32m/opt/anaconda3/envs/yunwei/lib/python3.9/threading.py\u001b[0m in \u001b[0;36mwait\u001b[0;34m(self, timeout)\u001b[0m\n\u001b[1;32m    310\u001b[0m         \u001b[0;32mtry\u001b[0m\u001b[0;34m:\u001b[0m    \u001b[0;31m# restore state no matter what (e.g., KeyboardInterrupt)\u001b[0m\u001b[0;34m\u001b[0m\u001b[0;34m\u001b[0m\u001b[0m\n\u001b[1;32m    311\u001b[0m             \u001b[0;32mif\u001b[0m \u001b[0mtimeout\u001b[0m \u001b[0;32mis\u001b[0m \u001b[0;32mNone\u001b[0m\u001b[0;34m:\u001b[0m\u001b[0;34m\u001b[0m\u001b[0;34m\u001b[0m\u001b[0m\n\u001b[0;32m--> 312\u001b[0;31m                 \u001b[0mwaiter\u001b[0m\u001b[0;34m.\u001b[0m\u001b[0macquire\u001b[0m\u001b[0;34m(\u001b[0m\u001b[0;34m)\u001b[0m\u001b[0;34m\u001b[0m\u001b[0;34m\u001b[0m\u001b[0m\n\u001b[0m\u001b[1;32m    313\u001b[0m                 \u001b[0mgotit\u001b[0m \u001b[0;34m=\u001b[0m \u001b[0;32mTrue\u001b[0m\u001b[0;34m\u001b[0m\u001b[0;34m\u001b[0m\u001b[0m\n\u001b[1;32m    314\u001b[0m             \u001b[0;32melse\u001b[0m\u001b[0;34m:\u001b[0m\u001b[0;34m\u001b[0m\u001b[0;34m\u001b[0m\u001b[0m\n",
      "\u001b[0;31mKeyboardInterrupt\u001b[0m: "
     ]
    }
   ],
   "source": [
    "A_values = np.linspace(7,8,3)*2*np.pi\n",
    "gs = []\n",
    "# A = 5*2*np.pi\n",
    "for A in A_values:\n",
    "    detuning = 1.20431*2*np.pi\n",
    "    omegas = np.linspace(detuning-0.3e-3*2*np.pi, detuning+0.3e-3*2*np.pi, 30)\n",
    "    results = Parallel(n_jobs=15)(delayed(energy_diff2)(A, omega) for omega in omegas)\n",
    "    index_of_min = np.argmin(results)\n",
    "    index_of_max = np.argmax(results)\n",
    "    detuning = (omegas[index_of_min]+omegas[index_of_max])/2/2/np.pi\n",
    "    omegas = omegas/2/np.pi\n",
    "    g,a = fit_avoided_crossing(results,1.210,1.2)\n",
    "    gs.append(g)\n"
   ]
  },
  {
   "cell_type": "code",
   "execution_count": 506,
   "id": "9c5aa256",
   "metadata": {},
   "outputs": [
    {
     "name": "stdout",
     "output_type": "stream",
     "text": [
      "[1.20401    1.20403069 1.20405138 1.20407207 1.20409276 1.20411345\n",
      " 1.20413414 1.20415483 1.20417552 1.20419621 1.2042169  1.20423759\n",
      " 1.20425828 1.20427897 1.20429966 1.20432034 1.20434103 1.20436172\n",
      " 1.20438241 1.2044031  1.20442379 1.20444448 1.20446517 1.20448586\n",
      " 1.20450655 1.20452724 1.20454793 1.20456862 1.20458931 1.20461   ] 1.2044444827586207\n",
      " message: Optimization terminated successfully.\n",
      " success: True\n",
      "  status: 0\n",
      "     fun: 4.3772874559728284e-07\n",
      "       x: [ 8.622e-05  1.204e+00]\n",
      "     nit: 5\n",
      "   direc: [[ 0.000e+00  1.000e+00]\n",
      "           [ 1.027e-06 -4.361e-07]]\n",
      "    nfev: 308\n"
     ]
    }
   ],
   "source": [
    "detuning = (omegas[index_of_min]+omegas[index_of_max])/2/2/np.pi\n",
    "omegas = omegas/2/np.pi\n",
    "g,a = fit_avoided_crossing(results,1.206,1.2)"
   ]
  },
  {
   "cell_type": "code",
   "execution_count": 521,
   "id": "07092f92",
   "metadata": {},
   "outputs": [],
   "source": [
    "g = g*1.1"
   ]
  },
  {
   "cell_type": "code",
   "execution_count": 522,
   "id": "e17b6a37",
   "metadata": {},
   "outputs": [
    {
     "data": {
      "text/plain": [
       "0.00013886546135681251"
      ]
     },
     "execution_count": 522,
     "metadata": {},
     "output_type": "execute_result"
    }
   ],
   "source": [
    "g"
   ]
  },
  {
   "cell_type": "code",
   "execution_count": 523,
   "id": "704e4138",
   "metadata": {},
   "outputs": [
    {
     "data": {
      "text/plain": [
       "(1.204, 1.206)"
      ]
     },
     "execution_count": 523,
     "metadata": {},
     "output_type": "execute_result"
    },
    {
     "data": {
      "image/png": "[encoded data removed]",
      "text/plain": [
       "<Figure size 432x288 with 1 Axes>"
      ]
     },
     "metadata": {
      "needs_background": "light"
     },
     "output_type": "display_data"
    }
   ],
   "source": [
    "delta = -omegas + (detuning) *np.ones(len(omegas))\n",
    "plt.plot(omegas,(a+ np.sign(delta) * np.sqrt(4*g**2 + (delta)**2) - delta ))\n",
    "plt.plot(omegas,results)\n",
    "plt.ylim(1.204,1.206)"
   ]
  },
  {
   "cell_type": "code",
   "execution_count": null,
   "id": "cd8ba028",
   "metadata": {},
   "outputs": [],
   "source": []
  },
  {
   "cell_type": "code",
   "execution_count": 373,
   "id": "13d4e7da",
   "metadata": {},
   "outputs": [
    {
     "data": {
      "text/plain": [
       "array([2., 3., 4., 5.])"
      ]
     },
     "execution_count": 373,
     "metadata": {},
     "output_type": "execute_result"
    }
   ],
   "source": [
    "A_values = np.linspace(2,5,4)*2*np.pi\n",
    "A_values/2/np.pi"
   ]
  },
  {
   "cell_type": "code",
   "execution_count": 409,
   "id": "b02d6140",
   "metadata": {},
   "outputs": [
    {
     "data": {
      "text/plain": [
       "[1.6320813612833752e-05,\n",
       " 3.238055891690814e-05,\n",
       " 4.800436742593926e-05,\n",
       " 6.296995634655563e-05,\n",
       " 7.706576188127462e-05,\n",
       " 9.0089207444211e-05,\n",
       " 0.00010174638894095385,\n",
       " 9.364338704613406e-05,\n",
       " 9.704611937280574e-05,\n",
       " 0.00010287615873967213]"
      ]
     },
     "execution_count": 409,
     "metadata": {},
     "output_type": "execute_result"
    }
   ],
   "source": [
    "gs"
   ]
  },
  {
   "cell_type": "code",
   "execution_count": 446,
   "id": "5666c5be",
   "metadata": {},
   "outputs": [
    {
     "data": {
      "text/plain": [
       "array([1., 1., 1., 1., 1.])"
      ]
     },
     "execution_count": 446,
     "metadata": {},
     "output_type": "execute_result"
    }
   ],
   "source": [
    "np.ones(5)"
   ]
  },
  {
   "cell_type": "code",
   "execution_count": 481,
   "id": "04710f54",
   "metadata": {},
   "outputs": [
    {
     "data": {
      "image/png": "[encoded data removed]",
      "text/plain": [
       "<Figure size 720x360 with 1 Axes>"
      ]
     },
     "metadata": {
      "needs_background": "light"
     },
     "output_type": "display_data"
    }
   ],
   "source": [
    "import matplotlib.pyplot as plt\n",
    "\n",
    "# First set of lists\n",
    "list1 = [1.6370223043619673e-05, 3.269068354166425e-05, 4.899461699562117e-05, \n",
    "         6.526449898712047e-05, 8.132279849029331e-05, 9.730102494364819e-05]\n",
    "list2 = [0.00011337041998902711, 0.00010471702804629378, 0.00011756762051362766, \n",
    "         0.0001301610504522635]\n",
    "\n",
    "# Second set of lists\n",
    "new_list1 = [1.636219360849445e-05, 3.2712339330490106e-05, 4.9126353340123596e-05, \n",
    "             6.563670428038323e-05, 8.230487786455534e-05, 9.930732033913214e-05]\n",
    "new_list2 = [0.00011609274532256626, 0.00011412036264886066, 0.0001237011916561157, \n",
    "             0.00013808842776595829]\n",
    "\n",
    "# Combine the lists\n",
    "combined_list = list1 + list2\n",
    "new_combined_list = new_list1 + new_list2\n",
    "\n",
    "# Generate A values from 0.5 to 5\n",
    "A_values = [0.5 * i for i in range(1, 11)]\n",
    "\n",
    "# Plotting\n",
    "plt.figure(figsize=(10, 5))\n",
    "plt.plot(A_values[:len(combined_list)], combined_list, marker='o', label='Previous Combined List')\n",
    "plt.plot(A_values[:len(new_combined_list)], new_combined_list, marker='x', label='New Combined List')\n",
    "plt.title('Comparison of A values vs. Combined List Values')\n",
    "plt.xlabel('A values (0.5, 1, ..., 5)')\n",
    "plt.ylabel('List Values')\n",
    "plt.grid(True)\n",
    "plt.legend()\n",
    "plt.show()\n"
   ]
  },
  {
   "cell_type": "code",
   "execution_count": null,
   "id": "763471be",
   "metadata": {},
   "outputs": [],
   "source": [
    "[1.636219360849445e-05,\n",
    " 3.2712339330490106e-05,\n",
    " 4.9126353340123596e-05,\n",
    " 6.563670428038323e-05,\n",
    " 8.230487786455534e-05,\n",
    " 9.930732033913214e-05]\n",
    "[0.00011609274532256626,\n",
    " 0.00011412036264886066,\n",
    " 0.0001237011916561157,\n",
    " 0.00013808842776595829]\n"
   ]
  }
 ],
 "metadata": {
  "kernelspec": {
   "display_name": "Python 3 (ipykernel)",
   "language": "python",
   "name": "python3"
  },
  "language_info": {
   "codemirror_mode": {
    "name": "ipython",
    "version": 3
   },
   "file_extension": ".py",
   "mimetype": "text/x-python",
   "name": "python",
   "nbconvert_exporter": "python",
   "pygments_lexer": "ipython3",
   "version": "3.9.7"
  }
 },
 "nbformat": 4,
 "nbformat_minor": 5
}
