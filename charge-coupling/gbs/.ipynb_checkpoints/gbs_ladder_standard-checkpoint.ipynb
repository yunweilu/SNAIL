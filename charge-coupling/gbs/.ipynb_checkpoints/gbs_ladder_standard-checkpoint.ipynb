{
 "cells": [
  {
   "cell_type": "code",
   "execution_count": 1,
   "id": "7aed5436",
   "metadata": {},
   "outputs": [],
   "source": [
    "from matplotlib import pyplot as plt\n",
    "from systemclass import SNAIL,SNAIL_sweep,Cavity, SNAILC, SNAILC_sweep, SNAILCC, SNAILCC_sweep\n",
    "import numpy as np\n",
    "from joblib import Parallel, delayed\n",
    "import scipy as sci\n",
    "from qutip import *\n",
    "from cosmatrix import cosm,expm_pade"
   ]
  },
  {
   "cell_type": "code",
   "execution_count": 2,
   "id": "3cde929d",
   "metadata": {},
   "outputs": [],
   "source": [
    "def calculate_overlap(state1, state2):\n",
    "    return abs((state1.dag() * state2)[0,0])**2\n",
    "def find_optimal_k(A, B, D):\n",
    "    # Define a large initial minimum difference\n",
    "    min_diff = float('inf')\n",
    "    optimal_k = None\n",
    "    \n",
    "    # Iterate over a range of possible k values\n",
    "    # The range can be adjusted based on expected size of k or other insights you have about your problem\n",
    "    for k in range(-1000, 1000):\n",
    "        # Calculate the difference for this value of k\n",
    "        diff = abs(A - (B + k * D))\n",
    "        \n",
    "        # If this is the smallest difference we've found so far, update min_diff and optimal_k\n",
    "        if diff < min_diff:\n",
    "            min_diff = diff\n",
    "            optimal_k = k\n",
    "            \n",
    "    return optimal_k"
   ]
  },
  {
   "cell_type": "code",
   "execution_count": 3,
   "id": "59bca46a",
   "metadata": {},
   "outputs": [],
   "source": [
    "sdim = dims = 8\n",
    "phi_ex = flux =  0.435\n",
    "def annihilation(dim):\n",
    "    return np.diag(np.sqrt(np.arange(1,dim)),1)\n",
    "def creation(dim):\n",
    "    return np.diag(np.sqrt(np.arange(1,dim)),-1)\n",
    "def SNAIL_H(phi_ex,beta,N,Ej,Ec):\n",
    "    phi_ex = 2*np.pi*phi_ex\n",
    "    def Us_min(phi_ex):\n",
    "        def U_s(phi): \n",
    "            return (-beta*np.cos(phi-phi_ex)-N*np.cos((phi)/N))\n",
    "        phi_min = sci.optimize.minimize(U_s,0).x\n",
    "        return phi_min\n",
    "    \n",
    "    def phi_minde(ans, phi_ex):\n",
    "        def phi_minde_vjp(g):\n",
    "            c2 = beta*np.cos(ans - phi_ex) + 1/N*np.cos(ans/N)\n",
    "            return g*beta*np.cos(ans - phi_ex)/c2\n",
    "        return phi_minde_vjp\n",
    "\n",
    "    phi_min = Us_min(phi_ex)\n",
    "    # potential expansion around minimum\n",
    "    c2 = beta*np.cos(phi_min - phi_ex) + 1/N*np.cos(phi_min/N)\n",
    "    omega_s = np.sqrt(8*c2*Ej*Ec)\n",
    "    phi_zpf = np.power(2*Ec/(Ej*c2),1/4)\n",
    "    g2 = Ej*phi_zpf**2*c2/2\n",
    "\n",
    "    s = annihilation(sdim)\n",
    "    sd = creation(sdim)\n",
    "    x2 = np.matmul(s+sd,s+sd)\n",
    "    c3 = (N**2-1)/N**2*np.sin(phi_min/N)\n",
    "    g3 = Ej*phi_zpf**3*c3/3/2\n",
    "    c4 = -beta*np.cos(phi_min-phi_ex) -1/N**3*np.cos(phi_min/N)\n",
    "    g4 = Ej*phi_zpf**4*c4/4/3/2\n",
    "    c5 = (1-N**4)/N**4 * np.sin(phi_min/N)\n",
    "    g5 = Ej * phi_zpf**5 * c5 / 5/4/3/2/1\n",
    "    s = annihilation(sdim)\n",
    "    sd = creation(sdim)\n",
    "    x3 = (s+sd)@(s+sd)@(s+sd)\n",
    "    x4 = (s+sd)@(s+sd)@(s+sd)@(s+sd)\n",
    "    x5 = (s+sd)@x4\n",
    "    Hs = omega_s * np.matmul(sd,s) + g3*x3 + g4*x4 + g5*x5\n",
    "    Hs = Hs-Hs[0,0]*np.identity(len(Hs))\n",
    "    x2 = np.matmul(s+sd,s+sd)\n",
    "#     Hs = (omega_s * np.matmul(sd,s)\n",
    "#         - Ej*(beta*cosm(phi_zpf*(s+sd)+(phi_min-phi_ex)*np.identity(sdim))\n",
    "#         + N*cosm((phi_zpf*(s+sd)+phi_min*np.identity(sdim))/N))- g2*x2)\n",
    "#     Hs = Hs-Hs[0,0]*np.identity(len(Hs))\n",
    "    return Hs,-1j*(s-sd),phi_zpf"
   ]
  },
  {
   "cell_type": "code",
   "execution_count": 4,
   "id": "952dd7bf",
   "metadata": {},
   "outputs": [],
   "source": [
    "from qutip import propagator,floquet_modes,Qobj,Options,basis\n",
    "def energy_diff(A,omega):\n",
    "    N = 3   # number of large JJs in a SNAIL\n",
    "    EJ = 70 * 2*np.pi   # junction energy of larger JJ \n",
    "    EC = 177e-3 * 2*np.pi   # charging energy of the SNAIL \n",
    "    beta = 0.12   # ratio between small and large JJ # external flux in SNAIL, e.g., 2pi = 1 flux quantum \n",
    "    Hs,charge_op,phi_zpf = SNAIL_H(phi_ex,beta,N,EJ,EC)\n",
    "    #cavity1 parameters\n",
    "    omega_c1 = 3*2*np.pi\n",
    "    g_int1 =0.1043980977363549 * 2*np.pi \n",
    "    dimc1 = 4\n",
    "    cavity1 = Cavity(omega_c1,g_int1,dimc1)\n",
    "\n",
    "    #cavity1 parameters\n",
    "    omega_c2 = 7*2*np.pi\n",
    "    g_int2 =0.1043980977363549 * 2*np.pi \n",
    "    dimc2 = 4\n",
    "    cavity2 = Cavity(omega_c2,g_int2,dimc2)\n",
    "    Hc1, Vc1 = cavity1.hamiltonian()\n",
    "    Hc2, Vc2 = cavity2.hamiltonian()\n",
    "\n",
    "    Ic1 = np.identity(dimc1)\n",
    "    Ic2 = np.identity(dimc2)\n",
    "    Is = np.identity(sdim)\n",
    "\n",
    "    Hs = np.kron(np.kron(Hs,Ic1),Ic2)\n",
    "    Hc1 = np.kron(np.kron(Is,Hc1),Ic2)\n",
    "    Hc2 = np.kron(np.kron(Is,Ic1),Hc2)\n",
    "\n",
    "    H_int1 = cavity1.g_int * np.kron(np.kron(charge_op,Vc1),Ic2)\n",
    "    H_int2 = cavity2.g_int * np.kron(np.kron(charge_op,Ic1),Vc2)\n",
    "\n",
    "    H0 = Hs + Hc1 + Hc2 + H_int1 + H_int2\n",
    "    Hc = np.kron(np.kron(charge_op,Ic1),Ic2)\n",
    "    energy = np.diag(H0)\n",
    "#     energy,U = np.linalg.eigh(H0)\n",
    "#     U_dag = np.transpose(U.conjugate())\n",
    "#     Hc = U_dag @ Hc @ U\n",
    "#     H0 = U_dag @ H0 @ U\n",
    "#     H0 = H0 - H0[0][0]*np.identity(len(H0))\n",
    "    index1 = np.argmin(np.abs(energy - omega_c1 * np.ones(len(energy))))\n",
    "    index2 = np.argmin(np.abs(energy - omega_c2 * np.ones(len(energy))))\n",
    "    bare_diff = (energy[index1] - energy[index2])/2/np.pi\n",
    "\n",
    "    H0 = Qobj(H0)\n",
    "    Hc = Qobj(Hc)\n",
    "    args = {'w': omega}\n",
    "    T = (2*np.pi)/omega\n",
    "    H = [H0, [Hc, lambda t, args: A*np.cos(args['w']*t)]] \n",
    "    options = Options(nsteps=100000)  # Increasing nsteps to 10000, adjust as needed\n",
    "    f_modes, f_energies = floquet_modes(H, T, args, False, options=options) \n",
    "    total_dim = dims*dimc1*dimc2\n",
    "    basis_states = [basis(total_dim, index1), basis(total_dim, index2)]\n",
    "\n",
    "\n",
    "    max_overlap_indices = [0,0]\n",
    "    max_overlaps = [0,0]\n",
    "    for f_index, f_state in enumerate(f_modes):\n",
    "\n",
    "        # Loop over each basis state\n",
    "        for b_index, b_state in enumerate(basis_states):\n",
    "\n",
    "            # Calculate the overlap\n",
    "            overlap = calculate_overlap(f_state, b_state)\n",
    "\n",
    "            # If this is the maximum overlap for this basis state, store the index\n",
    "            if overlap > max_overlaps[b_index]:\n",
    "                max_overlaps[b_index] = overlap\n",
    "                max_overlap_indices[b_index] = f_index\n",
    "    omegac1p = f_energies[max_overlap_indices[0]]/2/np.pi\n",
    "    k = find_optimal_k(omega_c1/2/np.pi, omegac1p , omega/2/np.pi)\n",
    "    omegac1p = omegac1p + k *omega/2/np.pi\n",
    "    omegac2p = f_energies[max_overlap_indices[1]]/2/np.pi\n",
    "    k = find_optimal_k(omega_c2/2/np.pi, omegac2p, omega/2/np.pi)\n",
    "    omegac2p = omegac2p + k *omega/2/np.pi\n",
    "    diff = omegac2p - omegac1p\n",
    "    return diff"
   ]
  },
  {
   "cell_type": "code",
   "execution_count": 5,
   "id": "21da955e",
   "metadata": {},
   "outputs": [],
   "source": [
    "detuning = energy_diff(0,10)"
   ]
  },
  {
   "cell_type": "code",
   "execution_count": 6,
   "id": "ef25ef2c",
   "metadata": {},
   "outputs": [
    {
     "data": {
      "text/plain": [
       "4.0114802366999"
      ]
     },
     "execution_count": 6,
     "metadata": {},
     "output_type": "execute_result"
    }
   ],
   "source": [
    "detuning"
   ]
  },
  {
   "cell_type": "code",
   "execution_count": 7,
   "id": "e9c39b90",
   "metadata": {
    "scrolled": true
   },
   "outputs": [
    {
     "name": "stdout",
     "output_type": "stream",
     "text": [
      " message: Optimization terminated successfully.\n",
      " success: True\n",
      "  status: 0\n",
      "     fun: 1.3995722295583448e-11\n",
      "       x: [ 1.370e-04  4.011e+00]\n",
      "     nit: 2\n",
      "   direc: [[ 0.000e+00  1.000e+00]\n",
      "           [ 4.237e-12  4.145e-13]]\n",
      "    nfev: 137\n",
      " message: Optimization terminated successfully.\n",
      " success: True\n",
      "  status: 0\n",
      "     fun: 7.619799938300093e-11\n",
      "       x: [ 1.978e-04  4.011e+00]\n",
      "     nit: 2\n",
      "   direc: [[ 0.000e+00  1.000e+00]\n",
      "           [-1.365e-12 -1.391e-13]]\n",
      "    nfev: 133\n",
      " message: Optimization terminated successfully.\n",
      " success: True\n",
      "  status: 0\n",
      "     fun: 2.4580556445681313e-10\n",
      "       x: [ 2.551e-04  4.011e+00]\n",
      "     nit: 2\n",
      "   direc: [[ 0.000e+00  1.000e+00]\n",
      "           [ 3.275e-14  3.447e-15]]\n",
      "    nfev: 149\n",
      " message: Optimization terminated successfully.\n",
      " success: True\n",
      "  status: 0\n",
      "     fun: 5.79109024730056e-10\n",
      "       x: [ 3.080e-04  4.011e+00]\n",
      "     nit: 2\n",
      "   direc: [[ 0.000e+00  1.000e+00]\n",
      "           [-1.249e-13 -1.346e-14]]\n",
      "    nfev: 149\n"
     ]
    }
   ],
   "source": [
    "import scipy\n",
    "def fit_avoided_crossing(energy_diff):\n",
    "\n",
    "    # define the cost function to fit the avoided crossing\n",
    "    def cost_func(parameters):\n",
    "        g = parameters[0]   # beam splitter rate \n",
    "        a = parameters[1]   # energy difference between two modes, excluding effects from avoided crossings \n",
    "        res = 0\n",
    "        for i in range(len(omegas)):\n",
    "            # sometimes it is helpful to select the part of data to fit with \n",
    "            # if omega_list[i]/(2*np.pi)<3.95 or omega_list[i]/(2*np.pi) > 3.96:\n",
    "#             if omegas[i]<0.279:\n",
    "                delta =   detuning - omegas[i]\n",
    "                res += np.abs(energy_diff[i] - (a+ np.sign(delta) * np.sqrt(4*g**2 + (delta)**2) - delta ) )**2 \n",
    "        return res\n",
    "\n",
    "    # boundaries of the fitting parameters \n",
    "    bb = scipy.optimize.Bounds(np.array([0.0e-4, detuning-1e-2,]), np.array([1e-3, detuning+1e-2,]))\n",
    "    \n",
    "    # initial guess \n",
    "    x0 = np.array([1e-3, 4.011567357533754])\n",
    "    \n",
    "    res = scipy.optimize.minimize(cost_func, x0, bounds=bb, method='Powell', tol=1e-30)\n",
    "    print(res)\n",
    "    # store fitted beam splitter rate, unit in MHz\n",
    "    g = res.x[0]   \n",
    "    a = res.x[1]\n",
    "    return g, a,\n",
    "# Define A values to sample\n",
    "A_values = np.linspace(0.5, 1.2, 4)*2*np.pi\n",
    "\n",
    "# List to store results of g for each A\n",
    "g_values = []\n",
    "\n",
    "# Main loop to compute required parameters for each A\n",
    "for A in A_values:\n",
    "    omegas =np.linspace(detuning-1e-3, detuning+1e-3, 20) * 2*np.pi\n",
    "    # Parallel computation for each A\n",
    "    results = Parallel(n_jobs=25)(delayed(energy_diff)(A, omega) for omega in omegas)\n",
    "    omegas = omegas / (2 * np.pi)\n",
    "    index_of_min = np.argmin(results)\n",
    "    index_of_max = np.argmax(results)\n",
    "    detuning = (omegas[index_of_min] + omegas[index_of_max]) / 2\n",
    "    g, a = fit_avoided_crossing(results)\n",
    "    g_values.append(g)\n"
   ]
  },
  {
   "cell_type": "code",
   "execution_count": 8,
   "id": "21e35236",
   "metadata": {},
   "outputs": [
    {
     "name": "stdout",
     "output_type": "stream",
     "text": [
      "0.6559525937945636\n",
      "0.4024539495973205\n",
      "0.6559525937945636\n",
      "0.5902657927427366\n",
      "0.6559525937945636\n",
      "0.7780776358881529\n",
      "0.6559525937945636\n",
      "0.9658894790335693\n"
     ]
    },
    {
     "data": {
      "image/png": "[encoded data removed]",
      "text/plain": [
       "<Figure size 576x360 with 1 Axes>"
      ]
     },
     "metadata": {
      "needs_background": "light"
     },
     "output_type": "display_data"
    }
   ],
   "source": [
    "from qutip import propagator,floquet_modes,Qobj,Options,basis\n",
    "def gbs(A,omega):\n",
    "    #snail parameters\n",
    "    #snail parameters\n",
    "    EJ = 70*2*np.pi\n",
    "    EC = 0.177*2*np.pi\n",
    "    beta = 0.12\n",
    "    ng = 0\n",
    "    ncut = 300\n",
    "    N = 3\n",
    "    dims = 10\n",
    "    snail = SNAIL(EJ,EC,beta,ng,ncut,flux,N,dims)\n",
    "\n",
    "    #cavity1 parameters\n",
    "    omega_c1 = 3*2*np.pi\n",
    "    g_int1 = 0.15*2*np.pi\n",
    "    dimc1 = 5\n",
    "    cavity1 = Cavity(omega_c1,g_int1,dimc1)\n",
    "    \n",
    "    #cavity1 parameters\n",
    "    omega_c2 = 7*2*np.pi\n",
    "    g_int2 = 0.15*2*np.pi\n",
    "    dimc2 = 5\n",
    "    cavity2 = Cavity(omega_c2,g_int2,dimc2)\n",
    "    print(g_int2*snail.c2**0.25)\n",
    "    eta = A/2/(-omega+np.sqrt(8*EJ*EC*snail.c2))/2/snail.phi_zpf\n",
    "    print(eta)\n",
    "    return eta,eta*6*snail.g3*g_int1*snail.c2**0.25/(snail.omegas - omega_c1)*g_int2*snail.c2**0.25/(-snail.omegas +omega_c2)/2/np.pi\n",
    "# Parameters\n",
    "B = 4.012 * 2 * np.pi\n",
    "\n",
    "# A range of values scaled by 2*pi\n",
    "A_values =np.linspace(0.5,1.2,4) * 2*np.pi\n",
    "\n",
    "# List to store results\n",
    "results = []\n",
    "eta = []\n",
    "# Loop through A values and compute the gbs function\n",
    "for A in A_values:\n",
    "    result = gbs(A, B)\n",
    "    results.append(result[1])\n",
    "    eta.append(result[0])\n",
    "\n",
    "plt.figure(figsize=(8, 5))\n",
    "plt.plot(eta, g_values, 'o-', label='g vs A')\n",
    "plt.plot(eta, results)\n",
    "plt.xlabel('A ($2\\pi$ scaled)')\n",
    "plt.ylabel('g (parameter from fit_avoided_crossing)')\n",
    "plt.title('Parameter g vs Amplitude A')\n",
    "plt.legend()\n",
    "plt.grid(True)\n",
    "plt.show()"
   ]
  },
  {
   "cell_type": "code",
   "execution_count": 9,
   "id": "f37fdfc8",
   "metadata": {},
   "outputs": [
    {
     "data": {
      "text/plain": [
       "[0.0001370203472681181,\n",
       " 0.00019780272373558252,\n",
       " 0.0002551064845289951,\n",
       " 0.00030796544311299275]"
      ]
     },
     "execution_count": 9,
     "metadata": {},
     "output_type": "execute_result"
    }
   ],
   "source": [
    "g_values"
   ]
  },
  {
   "cell_type": "code",
   "execution_count": 10,
   "id": "74ec9078",
   "metadata": {},
   "outputs": [
    {
     "data": {
      "text/plain": [
       "[0.0002679363841557482,\n",
       " 0.00039297336342843054,\n",
       " 0.0005180103427011131,\n",
       " 0.0006430473219737956]"
      ]
     },
     "execution_count": 10,
     "metadata": {},
     "output_type": "execute_result"
    }
   ],
   "source": [
    "results"
   ]
  },
  {
   "cell_type": "code",
   "execution_count": 11,
   "id": "e104a553",
   "metadata": {},
   "outputs": [
    {
     "data": {
      "text/plain": [
       "[0.4024539495973205,\n",
       " 0.5902657927427366,\n",
       " 0.7780776358881529,\n",
       " 0.9658894790335693]"
      ]
     },
     "execution_count": 11,
     "metadata": {},
     "output_type": "execute_result"
    }
   ],
   "source": [
    "eta"
   ]
  },
  {
   "cell_type": "code",
   "execution_count": null,
   "id": "915fadb4",
   "metadata": {},
   "outputs": [],
   "source": []
  }
 ],
 "metadata": {
  "kernelspec": {
   "display_name": "Python 3 (ipykernel)",
   "language": "python",
   "name": "python3"
  },
  "language_info": {
   "codemirror_mode": {
    "name": "ipython",
    "version": 3
   },
   "file_extension": ".py",
   "mimetype": "text/x-python",
   "name": "python",
   "nbconvert_exporter": "python",
   "pygments_lexer": "ipython3",
   "version": "3.9.7"
  }
 },
 "nbformat": 4,
 "nbformat_minor": 5
}
