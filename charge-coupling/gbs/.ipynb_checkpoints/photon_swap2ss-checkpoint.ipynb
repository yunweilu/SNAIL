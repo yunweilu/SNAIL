{
 "cells": [
  {
   "cell_type": "code",
   "execution_count": 44,
   "id": "5bce71df",
   "metadata": {},
   "outputs": [],
   "source": [
    "from matplotlib import pyplot as plt\n",
    "from systemclass import SNAIL,SNAIL_sweep,Cavity, SNAILC, SNAILC_sweep, SNAILCC, SNAILCC_sweep\n",
    "import numpy as np\n",
    "from joblib import Parallel, delayed\n",
    "import qutip as qt\n",
    "from qutip import propagator,floquet_modes,Qobj,Options,basis\n",
    "from scipy.optimize import fsolve\n",
    "import numpy as np\n",
    "def state_index(index,dim):\n",
    "    m,n,k = index\n",
    "    M,N,K = dim\n",
    "    return m*(N*K)+n*K+k\n",
    "def sort_eigenpairs(eigenvalues, eigenvectors):\n",
    "    n = eigenvectors.shape[0]\n",
    "    sorted_indices = []\n",
    "\n",
    "    for i in range(n):\n",
    "        max_abs_vals = np.abs(eigenvectors[i, :])\n",
    "        max_index = np.argmax(max_abs_vals)\n",
    "        while max_index in sorted_indices:\n",
    "            max_abs_vals[max_index] = -np.inf\n",
    "            max_index = np.argmax(max_abs_vals)\n",
    "        sorted_indices.append(max_index)\n",
    "\n",
    "    sorted_eigenvalues = eigenvalues[sorted_indices]\n",
    "    sorted_eigenvectors = eigenvectors[:, sorted_indices]\n",
    "\n",
    "    return sorted_eigenvalues, sorted_eigenvectors\n",
    "    \n",
    "    return sorted_eigenvalues, sorted_eigenvectors\n",
    "def find_max_amplitude(duration, target_integral=6700):\n",
    "    # Standard deviation of the Gaussian pulse\n",
    "    sigma = duration / 3\n",
    "    center = duration/2\n",
    "    # Define the equation to solve: integral of the Gaussian minus the target integral\n",
    "    def equation(amplitude):\n",
    "        # Integral of a Gaussian from -inf to inf is sqrt(2*pi) * sigma * amplitude\n",
    "        # Here, we approximate that the integral from 0 to duration is a good representation\n",
    "        return amplitude * np.sqrt(2 * np.pi) * sigma - target_integral -amplitude * np.exp(-0.5 * (- center / sigma) ** 2) *duration\n",
    "\n",
    "    # Initial guess for amplitude\n",
    "    initial_guess = 1\n",
    "\n",
    "    # Solve for amplitude\n",
    "    amplitude_solution = fsolve(equation, initial_guess)\n",
    "\n",
    "    return amplitude_solution[0]\n",
    "def gaussian_pulse(duration, max_amplitude):\n",
    "    # Define the time array centered at duration/2\n",
    "    \n",
    "    # Standard deviation for the Gaussian pulse\n",
    "    sigma = duration / 3 # Assuming the pulse mostly lies within +/- 3 sigma\n",
    "    \n",
    "    # Shift the center of the pulse to duration/2\n",
    "    center = duration / 2\n",
    "    \n",
    "    # Generate the Gaussian pulse\n",
    "    def time_dependent_function(t):\n",
    "        pulse =  max_amplitude * np.exp(-0.5 * ((t - center) / sigma) ** 2)-max_amplitude * np.exp(-0.5 * (- center / sigma) ** 2)\n",
    "    \n",
    "        return pulse\n",
    "    return time_dependent_function\n",
    "def gaussian_ramp(t0, amplitude):\n",
    "    \"\"\"\n",
    "    Creates a time-dependent function using a Gaussian function that starts near zero,\n",
    "    peaks at 'amplitude' at time 't0', and remains constant at 'amplitude' for t > t0.\n",
    "\n",
    "    Args:\n",
    "    t0 (float): The time at which the function peaks at the amplitude.\n",
    "    amplitude (float): The maximum amplitude of the Gaussian peak.\n",
    "\n",
    "    Returns:\n",
    "    function: A function of time 't' that implements the desired behavior.\n",
    "    \"\"\"\n",
    "    # Define the standard deviation such that the peak is sharp at t0\n",
    "    sigma = t0 / 3  # Adjust sigma to make the function start close to zero at t=0\n",
    "\n",
    "    # Define the function using a closure to encapsulate the parameters\n",
    "    def time_dependent_function(t):\n",
    "        if t <= t0:\n",
    "            # Gaussian function centered at t0\n",
    "            return amplitude * np.exp(-((t - t0)**2) / (2 * sigma**2)) - amplitude * np.exp(-((0 - t0)**2) / (2 * sigma**2))\n",
    "        else:\n",
    "            # Return constant amplitude for t > t0\n",
    "            return amplitude- amplitude * np.exp(-((0 - t0)**2) / (2 * sigma**2))\n",
    "\n",
    "    return time_dependent_function\n",
    "\n",
    "def energy_diff(duration,initial_duration,omega):\n",
    "    flux =0.432\n",
    "    #snail parameters\n",
    "    EJ = 100*2*np.pi\n",
    "    EC = 0.177*2*np.pi\n",
    "    beta = 0.12\n",
    "    ng = 0\n",
    "    ncut = 300\n",
    "    N = 3\n",
    "    dims = 10\n",
    "    snail = SNAIL(EJ,EC,beta,ng,ncut,flux,N,dims)\n",
    "    Hs,charge_op = snail.spectrum_charge()\n",
    "\n",
    "\n",
    "    #cavity1 parameters\n",
    "    omega_c1 = 4.5*2*np.pi\n",
    "    g_int1 = 0.15/2*(6-omega_c1/2/np.pi)*2*np.pi\n",
    "    dimc1 = 4\n",
    "    cavity1 = Cavity(omega_c1,g_int1,dimc1)\n",
    "\n",
    "    #cavity1 parameters\n",
    "    omega_c2 =  8.5*2*np.pi\n",
    "    g_int2 = 0.15/2*(6-omega_c2/2/np.pi)*2*np.pi\n",
    "    dimc2 = 4\n",
    "    cavity2 = Cavity(omega_c2,g_int2,dimc2)\n",
    "\n",
    "    Hc1, Vc1 = cavity1.hamiltonian()\n",
    "    Hc2, Vc2 = cavity2.hamiltonian()\n",
    "\n",
    "    Ic1 = np.identity(dimc1)\n",
    "    Ic2 = np.identity(dimc2)\n",
    "    Is = np.identity(dims)\n",
    "\n",
    "    Hs = np.kron(np.kron(Hs,Ic1),Ic2)\n",
    "    Hc1 = np.kron(np.kron(Is,Hc1),Ic2)\n",
    "    Hc2 = np.kron(np.kron(Is,Ic1),Hc2)\n",
    "\n",
    "    H_int1 = cavity1.g_int * np.kron(np.kron(charge_op,Vc1),Ic2) * 2 * ((2 * snail.EC / snail.EJ) ** 0.25)\n",
    "    H_int2 = cavity2.g_int * np.kron(np.kron(charge_op,Ic1),Vc2) * 2 * ((2 * snail.EC / snail.EJ) ** 0.25)\n",
    "\n",
    "    H = Hs + Hc1 + Hc2 + H_int1 + H_int2\n",
    "    Hc  =  np.kron(np.kron(charge_op,Ic1),Ic2)\n",
    "    energy0,U = np.linalg.eigh(H)\n",
    "    energy0,U = sort_eigenpairs(energy0, U)\n",
    "    Ud = U.transpose().conjugate()\n",
    "    H = Ud@H@U\n",
    "    Hc = Ud@Hc@U\n",
    "\n",
    "    index1 = np.argmin(np.abs(energy0 - omega_c1 * np.ones(len(energy0))))\n",
    "    index2 = np.argmin(np.abs(energy0 - omega_c2 * np.ones(len(energy0))))\n",
    "\n",
    "    total_dim = dims*dimc1*dimc2\n",
    "    H0 = Qobj(H)\n",
    "    Hc = Qobj(Hc)\n",
    "    psi0 = qt.basis(total_dim, index1)\n",
    "    Iss = qt.qeye(dims)\n",
    "    s0 = qt.basis(dims, 0)*(qt.basis(dims, 0).dag())\n",
    "    cavity0 = qt.basis(dimc1, 0)*(qt.basis(dimc1, 0).dag())\n",
    "    cavity1 = qt.basis(dimc1, 1)*(qt.basis(dimc1, 1).dag())\n",
    "    cavity2 = qt.basis(dimc1, 2)*(qt.basis(dimc1, 2).dag())\n",
    "    PP1 = qt.Qobj(np.array(qt.tensor(Iss, cavity0, cavity1)))\n",
    "    PP2 = qt.Qobj(np.array(qt.tensor(Iss, cavity1, cavity0)))\n",
    "    omega1 =  6.0 * 2 * np.pi\n",
    "#     initial_duration = 2000\n",
    "    amplitude = find_max_amplitude(initial_duration, target_integral=6700)\n",
    "    func = gaussian_pulse(duration, amplitude )\n",
    "    print(func(0)/2/np.pi)\n",
    "    func1 = gaussian_ramp(1000, 0.00 * 2 * np.pi)\n",
    "#     omega = 4.0104625*2*np.pi\n",
    "    \n",
    "    args = {'w': omega,'w1':omega1}\n",
    "    tlist = np.linspace(0, duration, 100000)  # Cover ten periods\n",
    "    H = [H0, [Hc, lambda t, args: func(t)*np.cos(args['w']*t)],[Hc, lambda t, args: func1(t)*np.cos(args['w1']*t)]]\n",
    "\n",
    "    result = qt.sesolve(H, psi0, tlist, args=args)\n",
    "    exp_P1 = np.array([qt.expect(PP1, state) for state in result.states])\n",
    "    exp_P2 = np.array([qt.expect(PP2, state) for state in result.states])\n",
    "    return exp_P1,exp_P2"
   ]
  },
  {
   "cell_type": "code",
   "execution_count": 49,
   "id": "0e9ffc8c",
   "metadata": {},
   "outputs": [
    {
     "data": {
      "image/png": "[encoded data removed]",
      "text/plain": [
       "<Figure size 432x288 with 1 Axes>"
      ]
     },
     "metadata": {
      "needs_background": "light"
     },
     "output_type": "display_data"
    }
   ],
   "source": [
    "import numpy as np\n",
    "import matplotlib.pyplot as plt\n",
    "\n",
    "# Parameters for the Gaussian pulse\n",
    "duration = 1200\n",
    "max_amplitude = 2.08\n",
    "\n",
    "# Get the time values and adjusted pulse values\n",
    "func = gaussian_pulse(duration, max_amplitude)\n",
    "\n",
    "# # Plot the results\n",
    "# plt.plot(t_values, pulse_values)\n",
    "# plt.xlabel('t')\n",
    "# plt.ylabel('Pulse Amplitude')\n",
    "# plt.title('Gaussian Pulse vs t')\n",
    "# plt.grid(True)\n",
    "# plt.show()\n",
    "\n",
    "t_values = []\n",
    "func_values = []# Compute the values of func for t in the range [0, 2000]\n",
    "for t in range(1200):  # range(2001) goes from 0 to 2000 inclusive\n",
    "    t_values.append(t)\n",
    "    func_values.append(func(t))\n",
    "\n",
    "# Plot the results\n",
    "plt.plot(t_values, func_values)\n",
    "plt.xlabel('t')\n",
    "plt.ylabel('func(t)')\n",
    "plt.title('Plot of func(t) vs t')\n",
    "plt.grid(True)\n",
    "plt.show()"
   ]
  },
  {
   "cell_type": "code",
   "execution_count": 47,
   "id": "5300a833",
   "metadata": {},
   "outputs": [
    {
     "data": {
      "text/plain": [
       "2.6090193379321835"
      ]
     },
     "execution_count": 47,
     "metadata": {},
     "output_type": "execute_result"
    }
   ],
   "source": [
    "find_max_amplitude(800, target_integral=6700)/2/np.pi"
   ]
  },
  {
   "cell_type": "code",
   "execution_count": 19,
   "id": "fafcb8f4",
   "metadata": {},
   "outputs": [],
   "source": [
    "durations = np.linspace(1263, 1272, 10)  # 11 points for 10 intervals\n",
    "initial_duration = 1000\n",
    "# Define the range for omega values, scaling by 2*pi\n",
    "omega_values = np.linspace(4.0104625,4.010465,5) * 2 * np.pi\n",
    "\n",
    "\n",
    "# Use joblib to parallelize the calculation over both durations and omega values\n",
    "results = Parallel(n_jobs=-1)(\n",
    "    delayed(energy_diff)(duration, initial_duration, omega)\n",
    "    for duration in durations\n",
    "    for omega in omega_values \n",
    ")\n"
   ]
  },
  {
   "cell_type": "code",
   "execution_count": 20,
   "id": "9a4c16ef",
   "metadata": {},
   "outputs": [],
   "source": [
    "results = np.array(results)"
   ]
  },
  {
   "cell_type": "code",
   "execution_count": 52,
   "id": "5b098d01",
   "metadata": {},
   "outputs": [
    {
     "data": {
      "text/plain": [
       "array([[0.99996175, 0.99996782, 0.99997129, 0.99997221, 0.99997054],\n",
       "       [0.99997327, 0.99997931, 0.99998281, 0.99998368, 0.99998199],\n",
       "       [0.99998154, 0.99998762, 0.9999911 , 0.99999198, 0.99999027],\n",
       "       [0.99998667, 0.99999275, 0.99999623, 0.9999971 , 0.99999538],\n",
       "       [0.99998855, 0.99999464, 0.99999812, 0.999999  , 0.99999727],\n",
       "       [0.99998724, 0.99999334, 0.99999683, 0.9999977 , 0.99999596],\n",
       "       [0.9999827 , 0.99998881, 0.99999231, 0.99999318, 0.99999144],\n",
       "       [0.99997494, 0.99998105, 0.99998453, 0.9999854 , 0.99998367],\n",
       "       [0.9999642 , 0.9999703 , 0.9999738 , 0.99997463, 0.99997288],\n",
       "       [0.99995018, 0.99995631, 0.99995981, 0.99996067, 0.99995891]])"
      ]
     },
     "execution_count": 52,
     "metadata": {},
     "output_type": "execute_result"
    }
   ],
   "source": [
    "results[:,0,-1].reshape(10,5)"
   ]
  },
  {
   "cell_type": "code",
   "execution_count": 23,
   "id": "8a5d96b4",
   "metadata": {},
   "outputs": [
    {
     "data": {
      "text/plain": [
       "array([4.0104625 , 4.01046313, 4.01046375, 4.01046437, 4.010465  ])"
      ]
     },
     "execution_count": 23,
     "metadata": {},
     "output_type": "execute_result"
    }
   ],
   "source": [
    "omega_values/2/np.pi"
   ]
  },
  {
   "cell_type": "code",
   "execution_count": 24,
   "id": "a9f50a83",
   "metadata": {},
   "outputs": [
    {
     "data": {
      "text/plain": [
       "array([4.0104625 , 4.01046313, 4.01046375, 4.01046437, 4.010465  ])"
      ]
     },
     "execution_count": 24,
     "metadata": {},
     "output_type": "execute_result"
    }
   ],
   "source": [
    "omega_values/2/np.pi"
   ]
  },
  {
   "cell_type": "code",
   "execution_count": 25,
   "id": "0ed17ef1",
   "metadata": {},
   "outputs": [
    {
     "data": {
      "text/plain": [
       "array([1263., 1264., 1265., 1266., 1267., 1268., 1269., 1270., 1271.,\n",
       "       1272.])"
      ]
     },
     "execution_count": 25,
     "metadata": {},
     "output_type": "execute_result"
    }
   ],
   "source": [
    "durations"
   ]
  },
  {
   "cell_type": "code",
   "execution_count": 29,
   "id": "8c9f293f",
   "metadata": {
    "scrolled": false
   },
   "outputs": [
    {
     "data": {
      "image/png": "[encoded data removed]",
      "text/plain": [
       "<Figure size 720x432 with 2 Axes>"
      ]
     },
     "metadata": {
      "needs_background": "light"
     },
     "output_type": "display_data"
    }
   ],
   "source": [
    "import numpy as np\n",
    "import matplotlib.pyplot as plt\n",
    "\n",
    "# Assuming 'results' array as specified\n",
    "data_slice = results[:, 0, -1].reshape(10, 5)\n",
    "omega_values = np.linspace(4.0104625,4.010465,5) * 2 * np.pi\n",
    "omega_values = omega_values/2/np.pi\n",
    "\n",
    "# Creating the 2D plot using imshow\n",
    "plt.figure(figsize=(10, 6))\n",
    "# Transposing data_slice so that the x-axis (omega) and y-axis (duration) match correctly\n",
    "im = plt.imshow(data_slice.T, aspect='auto', extent=[omega_values.min(), omega_values.max(), durations.min(), durations.max()], origin='lower', cmap='viridis',vmin = 0.99999)\n",
    "plt.colorbar(im, label='fidelity')  # Add a colorbar to a plot\n",
    "plt.xlabel('Omega')\n",
    "plt.ylabel('Duration')\n",
    "plt.title('2D Data Visualization with Results Data')\n",
    "plt.show()"
   ]
  },
  {
   "cell_type": "code",
   "execution_count": 30,
   "id": "aacca59f",
   "metadata": {},
   "outputs": [
    {
     "data": {
      "text/plain": [
       "4.01046428174043"
      ]
     },
     "execution_count": 30,
     "metadata": {},
     "output_type": "execute_result"
    }
   ],
   "source": [
    "25.19849025/2/np.pi"
   ]
  },
  {
   "cell_type": "code",
   "execution_count": 297,
   "id": "35da0f9f",
   "metadata": {},
   "outputs": [
    {
     "data": {
      "text/plain": [
       "array([4.010464 , 4.0104645, 4.010465 , 4.0104655, 4.010466 ])"
      ]
     },
     "execution_count": 297,
     "metadata": {},
     "output_type": "execute_result"
    }
   ],
   "source": [
    "omega_values"
   ]
  },
  {
   "cell_type": "code",
   "execution_count": 298,
   "id": "8a74302f",
   "metadata": {},
   "outputs": [
    {
     "ename": "IndexError",
     "evalue": "index 7 is out of bounds for axis 1 with size 5",
     "output_type": "error",
     "traceback": [
      "\u001b[0;31m---------------------------------------------------------------------------\u001b[0m",
      "\u001b[0;31mIndexError\u001b[0m                                Traceback (most recent call last)",
      "\u001b[0;32m/tmp/ipykernel_1305652/3000172998.py\u001b[0m in \u001b[0;36m<module>\u001b[0;34m\u001b[0m\n\u001b[0;32m----> 1\u001b[0;31m \u001b[0mdata_slice\u001b[0m\u001b[0;34m[\u001b[0m\u001b[0;34m:\u001b[0m\u001b[0;34m,\u001b[0m\u001b[0;36m7\u001b[0m\u001b[0;34m]\u001b[0m\u001b[0;34m\u001b[0m\u001b[0;34m\u001b[0m\u001b[0m\n\u001b[0m",
      "\u001b[0;31mIndexError\u001b[0m: index 7 is out of bounds for axis 1 with size 5"
     ]
    }
   ],
   "source": [
    "data_slice[:,7]"
   ]
  },
  {
   "cell_type": "code",
   "execution_count": 368,
   "id": "75ea3f9e",
   "metadata": {},
   "outputs": [],
   "source": [
    "initial_duration = 2000\n",
    "amplitude = find_max_amplitude(initial_duration, target_integral=6700)"
   ]
  },
  {
   "cell_type": "code",
   "execution_count": 369,
   "id": "1550d915",
   "metadata": {},
   "outputs": [
    {
     "data": {
      "text/plain": [
       "0.7444628813289755"
      ]
     },
     "execution_count": 369,
     "metadata": {},
     "output_type": "execute_result"
    }
   ],
   "source": [
    "amplitude/2/np.pi"
   ]
  },
  {
   "cell_type": "code",
   "execution_count": 370,
   "id": "9ad4d070",
   "metadata": {},
   "outputs": [],
   "source": [
    "func = gaussian_pulse(2000, amplitude )"
   ]
  },
  {
   "cell_type": "code",
   "execution_count": 362,
   "id": "dce0d6f9",
   "metadata": {},
   "outputs": [
    {
     "data": {
      "image/png": "[encoded data removed]",
      "text/plain": [
       "<Figure size 432x288 with 1 Axes>"
      ]
     },
     "metadata": {
      "needs_background": "light"
     },
     "output_type": "display_data"
    }
   ],
   "source": [
    "\n",
    "t_values = []\n",
    "func_values = []# Compute the values of func for t in the range [0, 2000]\n",
    "for t in range(2001):  # range(2001) goes from 0 to 2000 inclusive\n",
    "    t_values.append(t)\n",
    "    func_values.append(func(t))\n",
    "\n",
    "# Plot the results\n",
    "plt.plot(t_values, func_values)\n",
    "plt.xlabel('t')\n",
    "plt.ylabel('func(t)')\n",
    "plt.title('Plot of func(t) vs t')\n",
    "plt.grid(True)\n",
    "plt.show()"
   ]
  },
  {
   "cell_type": "code",
   "execution_count": 371,
   "id": "0dad9b8a",
   "metadata": {},
   "outputs": [
    {
     "data": {
      "image/png": "[encoded data removed]",
      "text/plain": [
       "<Figure size 432x288 with 1 Axes>"
      ]
     },
     "metadata": {
      "needs_background": "light"
     },
     "output_type": "display_data"
    }
   ],
   "source": [
    "\n",
    "t_values = []\n",
    "func_values = []# Compute the values of func for t in the range [0, 2000]\n",
    "for t in range(2001):  # range(2001) goes from 0 to 2000 inclusive\n",
    "    t_values.append(t)\n",
    "    func_values.append(func(t))\n",
    "\n",
    "# Plot the results\n",
    "plt.plot(t_values, func_values)\n",
    "plt.xlabel('t')\n",
    "plt.ylabel('func(t)')\n",
    "plt.title('Plot of func(t) vs t')\n",
    "plt.grid(True)\n",
    "plt.show()"
   ]
  },
  {
   "cell_type": "code",
   "execution_count": 373,
   "id": "aa278e28",
   "metadata": {},
   "outputs": [
    {
     "data": {
      "text/plain": [
       "1.0116015632408477"
      ]
     },
     "execution_count": 373,
     "metadata": {},
     "output_type": "execute_result"
    }
   ],
   "source": [
    "func(0)"
   ]
  },
  {
   "cell_type": "code",
   "execution_count": null,
   "id": "1b23a353",
   "metadata": {},
   "outputs": [],
   "source": []
  }
 ],
 "metadata": {
  "kernelspec": {
   "display_name": "Python 3 (ipykernel)",
   "language": "python",
   "name": "python3"
  },
  "language_info": {
   "codemirror_mode": {
    "name": "ipython",
    "version": 3
   },
   "file_extension": ".py",
   "mimetype": "text/x-python",
   "name": "python",
   "nbconvert_exporter": "python",
   "pygments_lexer": "ipython3",
   "version": "3.9.7"
  }
 },
 "nbformat": 4,
 "nbformat_minor": 5
}
