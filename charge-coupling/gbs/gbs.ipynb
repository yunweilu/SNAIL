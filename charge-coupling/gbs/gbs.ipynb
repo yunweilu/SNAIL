{
 "cells": [
  {
   "cell_type": "code",
   "execution_count": 2,
   "id": "27be340c",
   "metadata": {},
   "outputs": [],
   "source": [
    "from matplotlib import pyplot as plt\n",
    "from systemclass import SNAIL,SNAIL_sweep,Cavity, SNAILC, SNAILC_sweep, SNAILCC, SNAILCC_sweep\n",
    "import numpy as np\n",
    "from joblib import Parallel, delayed"
   ]
  },
  {
   "cell_type": "code",
   "execution_count": 3,
   "id": "1e47172e",
   "metadata": {},
   "outputs": [],
   "source": [
    "def calculate_overlap(state1, state2):\n",
    "    return abs((state1.dag() * state2)[0,0])**2\n",
    "def find_optimal_k(A, B, D):\n",
    "    # Define a large initial minimum difference\n",
    "    min_diff = float('inf')\n",
    "    optimal_k = None\n",
    "    \n",
    "    # Iterate over a range of possible k values\n",
    "    # The range can be adjusted based on expected size of k or other insights you have about your problem\n",
    "    for k in range(-1000, 1000):\n",
    "        # Calculate the difference for this value of k\n",
    "        diff = abs(A - (B + k * D))\n",
    "        \n",
    "        # If this is the smallest difference we've found so far, update min_diff and optimal_k\n",
    "        if diff < min_diff:\n",
    "            min_diff = diff\n",
    "            optimal_k = k\n",
    "            \n",
    "    return optimal_k\n",
    "def annihilation(dim):\n",
    "    return np.diag(np.sqrt(np.arange(1,dim)),1)\n",
    "def creation(dim):\n",
    "    return np.diag(np.sqrt(np.arange(1,dim)),-1)\n",
    "from qutip import propagator,floquet_modes,Qobj,Options,basis\n",
    "from scipy.optimize import linear_sum_assignment\n",
    "def sort_eigenpairs(eigenvalues, eigenvectors):\n",
    "    n = eigenvectors.shape[0]\n",
    "    sorted_indices = []\n",
    "\n",
    "    for i in range(n):\n",
    "        max_abs_vals = np.abs(eigenvectors[i, :])\n",
    "        max_index = np.argmax(max_abs_vals)\n",
    "        while max_index in sorted_indices:\n",
    "            max_abs_vals[max_index] = -np.inf\n",
    "            max_index = np.argmax(max_abs_vals)\n",
    "        sorted_indices.append(max_index)\n",
    "\n",
    "    sorted_eigenvalues = eigenvalues[sorted_indices]\n",
    "    sorted_eigenvectors = eigenvectors[:, sorted_indices]\n",
    "\n",
    "    return sorted_eigenvalues, sorted_eigenvectors\n",
    "    \n",
    "    return sorted_eigenvalues, sorted_eigenvectors\n",
    "def zero_corresponding_elements(A, B):\n",
    "    # Ensure A and B have the same shape\n",
    "    if A.shape != B.shape:\n",
    "        raise ValueError(\"Matrices A and B must have the same shape\")\n",
    "    \n",
    "    # Create a copy of B to modify and return\n",
    "    B_new = B.copy()\n",
    "    \n",
    "    # Set elements in B_new to zero where A is non-zero\n",
    "    B_new[A != 0] = 0\n",
    "    \n",
    "    return B_new\n",
    "def one_corresponding_elements(A, B):\n",
    "    # Ensure A and B have the same shape\n",
    "    if A.shape != B.shape:\n",
    "        raise ValueError(\"Matrices A and B must have the same shape\")\n",
    "    \n",
    "    # Create a copy of B to modify and return\n",
    "    B_new = B.copy()\n",
    "    \n",
    "    # Set elements in B_new to zero where A is non-zero\n",
    "    B_new[A == 0] = 0\n",
    "    \n",
    "    return B_new"
   ]
  },
  {
   "cell_type": "code",
   "execution_count": 88,
   "id": "99848af4",
   "metadata": {},
   "outputs": [],
   "source": [
    "from qutip import propagator,floquet_modes,Qobj,Options,basis\n",
    "def energy_diff(A,omega):\n",
    "    flux =0.4325\n",
    "    #snail parameters\n",
    "    EJ = 100*2*np.pi\n",
    "    EC = 0.177*2*np.pi\n",
    "    beta = 0.12\n",
    "    ng = 0\n",
    "    ncut = 300\n",
    "    N = 3\n",
    "    dims = 6\n",
    "    snail = SNAIL(EJ,EC,beta,ng,ncut,flux,N,dims)\n",
    "    Hs,charge_op = snail.spectrum_charge()\n",
    "\n",
    "\n",
    "    #cavity1 parameters\n",
    "    omega_c1 = 4.5*2*np.pi\n",
    "    g_int1 = 0.15/2*(6-omega_c1/2/np.pi)*2*np.pi\n",
    "    dimc1 = 3\n",
    "    cavity1 = Cavity(omega_c1,g_int1,dimc1)\n",
    "\n",
    "    #cavity1 parameters\n",
    "    omega_c2 =  8.5*2*np.pi\n",
    "    g_int2 = 0.15/2*(6-omega_c2/2/np.pi)*2*np.pi\n",
    "    dimc2 = 3\n",
    "    cavity2 = Cavity(omega_c2,g_int2,dimc2)\n",
    "\n",
    "    Hc1, Vc1 = cavity1.hamiltonian()\n",
    "    Hc2, Vc2 = cavity2.hamiltonian()\n",
    "\n",
    "    Ic1 = np.identity(dimc1)\n",
    "    Ic2 = np.identity(dimc2)\n",
    "    Is = np.identity(dims)\n",
    "\n",
    "    Hs = np.kron(np.kron(Hs,Ic1),Ic2)\n",
    "    Hc1 = np.kron(np.kron(Is,Hc1),Ic2)\n",
    "    Hc2 = np.kron(np.kron(Is,Ic1),Hc2)\n",
    "\n",
    "    H_int1 = cavity1.g_int * np.kron(np.kron(charge_op,Vc1),Ic2) * 2 * ((2 * snail.EC / snail.EJ) ** 0.25)\n",
    "    H_int2 = cavity2.g_int * np.kron(np.kron(charge_op,Ic1),Vc2) * 2 * ((2 * snail.EC / snail.EJ) ** 0.25)\n",
    "    H = Hs + Hc1 + Hc2 + H_int1 + H_int2\n",
    "    Hc  =  np.kron(np.kron(charge_op,Ic1),Ic2)\n",
    "    energy,U = np.linalg.eigh(H)\n",
    "    energy,U = sort_eigenpairs(energy, U)\n",
    "    Ud = U.transpose().conjugate()\n",
    "    H = Ud@H@U\n",
    "    Hc = Ud@Hc@U\n",
    "    c = annihilation(dimc1)\n",
    "    cd = creation(dimc1)\n",
    "#     Hgbs = np.kron(np.kron(np.identity(dims),c),cd)+np.kron(np.kron(np.identity(dims),cd),c)\n",
    "#     Hc = zero_corresponding_elements(Hgbs, Hc)\n",
    "    index1 = np.argmin(np.abs(energy - omega_c1 * np.ones(len(energy))))\n",
    "    index2 = np.argmin(np.abs(energy - omega_c2 * np.ones(len(energy))))\n",
    "    H0 = H\n",
    "    H0 = Qobj(H0)\n",
    "    Hc = Qobj(Hc)\n",
    "    args = {'w': omega}\n",
    "    T = (2*np.pi)/omega\n",
    "    H = [H0, [Hc, lambda t, args: A*np.cos(args['w']*t)]] \n",
    "    options = Options(nsteps=100000)  # Increasing nsteps to 10000, adjust as needed\n",
    "    f_modes, f_energies = floquet_modes(H, T, args, False, options=options) \n",
    "    total_dim = dims*dimc1*dimc2\n",
    "    basis_states = [basis(total_dim, index1), basis(total_dim, index2)]\n",
    "    \n",
    "    \n",
    "    max_overlap_indices = [0,0]\n",
    "    max_overlaps = [0,0]\n",
    "    for f_index, f_state in enumerate(f_modes):\n",
    "\n",
    "        # Loop over each basis state\n",
    "        for b_index, b_state in enumerate(basis_states):\n",
    "\n",
    "            # Calculate the overlap\n",
    "            overlap = calculate_overlap(f_state, b_state)\n",
    "\n",
    "            # If this is the maximum overlap for this basis state, store the index\n",
    "            if overlap > max_overlaps[b_index]:\n",
    "                max_overlaps[b_index] = overlap\n",
    "                max_overlap_indices[b_index] = f_index\n",
    "    omegac1p = f_energies[max_overlap_indices[0]]/2/np.pi\n",
    "    k = find_optimal_k(omega_c1/2/np.pi, omegac1p , omega/2/np.pi)\n",
    "    omegac1p = omegac1p + k *omega/2/np.pi\n",
    "    omegac2p = f_energies[max_overlap_indices[1]]/2/np.pi\n",
    "    k = find_optimal_k(omega_c2/2/np.pi, omegac2p, omega/2/np.pi)\n",
    "    omegac2p = omegac2p + k *omega/2/np.pi\n",
    "    diff = omegac2p - omegac1p\n",
    "    return diff"
   ]
  },
  {
   "cell_type": "code",
   "execution_count": 89,
   "id": "6e93cfe3",
   "metadata": {},
   "outputs": [
    {
     "data": {
      "text/plain": [
       "4.010478690767836"
      ]
     },
     "execution_count": 89,
     "metadata": {},
     "output_type": "execute_result"
    }
   ],
   "source": [
    "energy_diff(0,10)"
   ]
  },
  {
   "cell_type": "code",
   "execution_count": 90,
   "id": "d38c1215",
   "metadata": {},
   "outputs": [],
   "source": [
    "import scipy\n",
    "def fit_avoided_crossing(energy_diff,upthre,lothre):\n",
    "    print(omegas,detuning)\n",
    "    # define the cost function to fit the avoided crossing\n",
    "    def cost_func(parameters):\n",
    "        g = parameters[0]   # beam splitter rate \n",
    "        a = parameters[1]   # energy difference between two modes, excluding effects from avoided crossings \n",
    "        res = 0\n",
    "        for i in range(len(omegas)):\n",
    "            # sometimes it is helpful to select the part of data to fit with \n",
    "            # if omega_list[i]/(2*np.pi)<3.95 or omega_list[i]/(2*np.pi) > 3.96:\n",
    "#             if omegas[i]<0.279:\n",
    "                if np.abs(energy_diff[i]>upthre) or np.abs(energy_diff[i]<lothre):\n",
    "                    continue\n",
    "                delta =   detuning - omegas[i]\n",
    "                res += np.abs(energy_diff[i] - (a+ np.sign(delta) * np.sqrt(4*g**2 + (delta)**2) - delta ) )**2 \n",
    "        return res\n",
    "\n",
    "    # boundaries of the fitting parameters \n",
    "    bb = scipy.optimize.Bounds(np.array([0.01e-4, detuning-1e-1,]), np.array([1e-3, detuning+1e-1,]))\n",
    "    \n",
    "    # initial guess \n",
    "    x0 = np.array([1e-5, detuning])\n",
    "    \n",
    "    res = scipy.optimize.minimize(cost_func, x0, bounds=bb, method='Powell', tol=1e-30)\n",
    "    print(res)\n",
    "    # store fitted beam splitter rate, unit in MHz\n",
    "    g = res.x[0]   \n",
    "    a = res.x[1]\n",
    "    return g, a,\n",
    "def displacement(A):\n",
    "    flux =0.4325\n",
    "    #snail parameters\n",
    "    EJ = 100*2*np.pi\n",
    "    EC = 0.177*2*np.pi\n",
    "    beta = 0.12\n",
    "    ng = 0\n",
    "    ncut = 200\n",
    "    N = 3\n",
    "    dims = 8\n",
    "    snail = SNAIL(EJ,EC,beta,ng,ncut,flux,N,dims)\n",
    "    Hs,charge_op = snail.spectrum_charge()\n",
    "\n",
    "\n",
    "    #cavity1 parameters\n",
    "    omega_c1 = 4.5*2*np.pi\n",
    "    g_int1 = 0.15/2*(6-omega_c1/2/np.pi)*2*np.pi\n",
    "    dimc1 = 4\n",
    "    cavity1 = Cavity(omega_c1,g_int1,dimc1)\n",
    "\n",
    "    #cavity1 parameters\n",
    "    omega_c2 =  8.5*2*np.pi\n",
    "    g_int2 = 0.15/2*(6-omega_c2/2/np.pi)*2*np.pi\n",
    "    dimc2 = 4\n",
    "    cavity2 = Cavity(omega_c2,g_int2,dimc2)\n",
    "\n",
    "    Hc1, Vc1 = cavity1.hamiltonian()\n",
    "    Hc2, Vc2 = cavity2.hamiltonian()\n",
    "\n",
    "    Ic1 = np.identity(dimc1)\n",
    "    Ic2 = np.identity(dimc2)\n",
    "    Is = np.identity(dims)\n",
    "\n",
    "    Hs = np.kron(np.kron(Hs,Ic1),Ic2)\n",
    "    Hc1 = np.kron(np.kron(Is,Hc1),Ic2)\n",
    "    Hc2 = np.kron(np.kron(Is,Ic1),Hc2)\n",
    "    eta = A/2/snail.phi_zpf/2/(snail.omegas-4.0104780296943225*2*np.pi)\n",
    "    return eta,6*eta*snail.g3/2/np.pi*cavity2.g_int * snail.c2**0.25/(snail.omegas-omega_c2)*cavity1.g_int * snail.c2**0.25/(snail.omegas-omega_c1)"
   ]
  },
  {
   "cell_type": "code",
   "execution_count": 91,
   "id": "ff416e41",
   "metadata": {
    "scrolled": true
   },
   "outputs": [
    {
     "name": "stdout",
     "output_type": "stream",
     "text": [
      "[4.01017803 4.01019872 4.01021941 4.0102401  4.01026079 4.01028148\n",
      " 4.01030217 4.01032286 4.01034355 4.01036424 4.01038493 4.01040562\n",
      " 4.01042631 4.010447   4.01046768 4.01048837 4.01050906 4.01052975\n",
      " 4.01055044 4.01057113 4.01059182 4.01061251 4.0106332  4.01065389\n",
      " 4.01067458 4.01069527 4.01071596 4.01073665 4.01075734 4.01077803] 4.010271133142599\n",
      " message: Optimization terminated successfully.\n",
      " success: True\n",
      "  status: 0\n",
      "     fun: 8.26878981397673e-12\n",
      "       x: [ 3.053e-04  4.010e+00]\n",
      "     nit: 3\n",
      "   direc: [[ 0.000e+00  1.000e+00]\n",
      "           [ 1.112e-07  1.313e-07]]\n",
      "    nfev: 124\n"
     ]
    }
   ],
   "source": [
    "A_values = np.linspace(1.4,1.5,5)*2*np.pi\n",
    "gs1 = []\n",
    "A = 1.3*2*np.pi\n",
    "# for A in A_values:\n",
    "detuning = 4.0104780296943225*2*np.pi\n",
    "omegas = np.linspace(detuning-0.3e-3*2*np.pi, detuning+0.3e-3*2*np.pi, 30)\n",
    "results = Parallel(n_jobs=30)(delayed(energy_diff)(A, omega) for omega in omegas)\n",
    "index_of_min = np.argmin(results)\n",
    "index_of_max = np.argmax(results)\n",
    "detuning = (omegas[index_of_min]+omegas[index_of_max])/2/2/np.pi\n",
    "omegas = omegas/2/np.pi\n",
    "g,a = fit_avoided_crossing(results,4.02,4)\n",
    "gs1.append(g)\n"
   ]
  },
  {
   "cell_type": "code",
   "execution_count": 38,
   "id": "d98e6422",
   "metadata": {},
   "outputs": [],
   "source": [
    "disp = []\n",
    "rate = []\n",
    "for A in A_values:\n",
    "    disp.append(displacement(A)[0])\n",
    "    rate.append(displacement(A)[1])"
   ]
  },
  {
   "cell_type": "code",
   "execution_count": 39,
   "id": "d1172f99",
   "metadata": {},
   "outputs": [
    {
     "ename": "ValueError",
     "evalue": "x and y must have same first dimension, but have shapes (5,) and (1,)",
     "output_type": "error",
     "traceback": [
      "\u001b[0;31m---------------------------------------------------------------------------\u001b[0m",
      "\u001b[0;31mValueError\u001b[0m                                Traceback (most recent call last)",
      "\u001b[0;32m/tmp/ipykernel_834620/152858274.py\u001b[0m in \u001b[0;36m<module>\u001b[0;34m\u001b[0m\n\u001b[1;32m      1\u001b[0m \u001b[0mplt\u001b[0m\u001b[0;34m.\u001b[0m\u001b[0mplot\u001b[0m\u001b[0;34m(\u001b[0m\u001b[0mdisp\u001b[0m\u001b[0;34m,\u001b[0m\u001b[0mrate\u001b[0m\u001b[0;34m)\u001b[0m\u001b[0;34m\u001b[0m\u001b[0;34m\u001b[0m\u001b[0m\n\u001b[0;32m----> 2\u001b[0;31m \u001b[0mplt\u001b[0m\u001b[0;34m.\u001b[0m\u001b[0mplot\u001b[0m\u001b[0;34m(\u001b[0m\u001b[0mdisp\u001b[0m\u001b[0;34m,\u001b[0m\u001b[0mgs1\u001b[0m\u001b[0;34m)\u001b[0m\u001b[0;34m\u001b[0m\u001b[0;34m\u001b[0m\u001b[0m\n\u001b[0m",
      "\u001b[0;32m/opt/anaconda3/envs/yunwei/lib/python3.9/site-packages/matplotlib/pyplot.py\u001b[0m in \u001b[0;36mplot\u001b[0;34m(scalex, scaley, data, *args, **kwargs)\u001b[0m\n\u001b[1;32m   2810\u001b[0m \u001b[0;34m@\u001b[0m\u001b[0m_copy_docstring_and_deprecators\u001b[0m\u001b[0;34m(\u001b[0m\u001b[0mAxes\u001b[0m\u001b[0;34m.\u001b[0m\u001b[0mplot\u001b[0m\u001b[0;34m)\u001b[0m\u001b[0;34m\u001b[0m\u001b[0;34m\u001b[0m\u001b[0m\n\u001b[1;32m   2811\u001b[0m \u001b[0;32mdef\u001b[0m \u001b[0mplot\u001b[0m\u001b[0;34m(\u001b[0m\u001b[0;34m*\u001b[0m\u001b[0margs\u001b[0m\u001b[0;34m,\u001b[0m \u001b[0mscalex\u001b[0m\u001b[0;34m=\u001b[0m\u001b[0;32mTrue\u001b[0m\u001b[0;34m,\u001b[0m \u001b[0mscaley\u001b[0m\u001b[0;34m=\u001b[0m\u001b[0;32mTrue\u001b[0m\u001b[0;34m,\u001b[0m \u001b[0mdata\u001b[0m\u001b[0;34m=\u001b[0m\u001b[0;32mNone\u001b[0m\u001b[0;34m,\u001b[0m \u001b[0;34m**\u001b[0m\u001b[0mkwargs\u001b[0m\u001b[0;34m)\u001b[0m\u001b[0;34m:\u001b[0m\u001b[0;34m\u001b[0m\u001b[0;34m\u001b[0m\u001b[0m\n\u001b[0;32m-> 2812\u001b[0;31m     return gca().plot(\n\u001b[0m\u001b[1;32m   2813\u001b[0m         \u001b[0;34m*\u001b[0m\u001b[0margs\u001b[0m\u001b[0;34m,\u001b[0m \u001b[0mscalex\u001b[0m\u001b[0;34m=\u001b[0m\u001b[0mscalex\u001b[0m\u001b[0;34m,\u001b[0m \u001b[0mscaley\u001b[0m\u001b[0;34m=\u001b[0m\u001b[0mscaley\u001b[0m\u001b[0;34m,\u001b[0m\u001b[0;34m\u001b[0m\u001b[0;34m\u001b[0m\u001b[0m\n\u001b[1;32m   2814\u001b[0m         **({\"data\": data} if data is not None else {}), **kwargs)\n",
      "\u001b[0;32m/opt/anaconda3/envs/yunwei/lib/python3.9/site-packages/matplotlib/axes/_axes.py\u001b[0m in \u001b[0;36mplot\u001b[0;34m(self, scalex, scaley, data, *args, **kwargs)\u001b[0m\n\u001b[1;32m   1686\u001b[0m         \"\"\"\n\u001b[1;32m   1687\u001b[0m         \u001b[0mkwargs\u001b[0m \u001b[0;34m=\u001b[0m \u001b[0mcbook\u001b[0m\u001b[0;34m.\u001b[0m\u001b[0mnormalize_kwargs\u001b[0m\u001b[0;34m(\u001b[0m\u001b[0mkwargs\u001b[0m\u001b[0;34m,\u001b[0m \u001b[0mmlines\u001b[0m\u001b[0;34m.\u001b[0m\u001b[0mLine2D\u001b[0m\u001b[0;34m)\u001b[0m\u001b[0;34m\u001b[0m\u001b[0;34m\u001b[0m\u001b[0m\n\u001b[0;32m-> 1688\u001b[0;31m         \u001b[0mlines\u001b[0m \u001b[0;34m=\u001b[0m \u001b[0;34m[\u001b[0m\u001b[0;34m*\u001b[0m\u001b[0mself\u001b[0m\u001b[0;34m.\u001b[0m\u001b[0m_get_lines\u001b[0m\u001b[0;34m(\u001b[0m\u001b[0;34m*\u001b[0m\u001b[0margs\u001b[0m\u001b[0;34m,\u001b[0m \u001b[0mdata\u001b[0m\u001b[0;34m=\u001b[0m\u001b[0mdata\u001b[0m\u001b[0;34m,\u001b[0m \u001b[0;34m**\u001b[0m\u001b[0mkwargs\u001b[0m\u001b[0;34m)\u001b[0m\u001b[0;34m]\u001b[0m\u001b[0;34m\u001b[0m\u001b[0;34m\u001b[0m\u001b[0m\n\u001b[0m\u001b[1;32m   1689\u001b[0m         \u001b[0;32mfor\u001b[0m \u001b[0mline\u001b[0m \u001b[0;32min\u001b[0m \u001b[0mlines\u001b[0m\u001b[0;34m:\u001b[0m\u001b[0;34m\u001b[0m\u001b[0;34m\u001b[0m\u001b[0m\n\u001b[1;32m   1690\u001b[0m             \u001b[0mself\u001b[0m\u001b[0;34m.\u001b[0m\u001b[0madd_line\u001b[0m\u001b[0;34m(\u001b[0m\u001b[0mline\u001b[0m\u001b[0;34m)\u001b[0m\u001b[0;34m\u001b[0m\u001b[0;34m\u001b[0m\u001b[0m\n",
      "\u001b[0;32m/opt/anaconda3/envs/yunwei/lib/python3.9/site-packages/matplotlib/axes/_base.py\u001b[0m in \u001b[0;36m__call__\u001b[0;34m(self, data, *args, **kwargs)\u001b[0m\n\u001b[1;32m    309\u001b[0m                 \u001b[0mthis\u001b[0m \u001b[0;34m+=\u001b[0m \u001b[0margs\u001b[0m\u001b[0;34m[\u001b[0m\u001b[0;36m0\u001b[0m\u001b[0;34m]\u001b[0m\u001b[0;34m,\u001b[0m\u001b[0;34m\u001b[0m\u001b[0;34m\u001b[0m\u001b[0m\n\u001b[1;32m    310\u001b[0m                 \u001b[0margs\u001b[0m \u001b[0;34m=\u001b[0m \u001b[0margs\u001b[0m\u001b[0;34m[\u001b[0m\u001b[0;36m1\u001b[0m\u001b[0;34m:\u001b[0m\u001b[0;34m]\u001b[0m\u001b[0;34m\u001b[0m\u001b[0;34m\u001b[0m\u001b[0m\n\u001b[0;32m--> 311\u001b[0;31m             yield from self._plot_args(\n\u001b[0m\u001b[1;32m    312\u001b[0m                 this, kwargs, ambiguous_fmt_datakey=ambiguous_fmt_datakey)\n\u001b[1;32m    313\u001b[0m \u001b[0;34m\u001b[0m\u001b[0m\n",
      "\u001b[0;32m/opt/anaconda3/envs/yunwei/lib/python3.9/site-packages/matplotlib/axes/_base.py\u001b[0m in \u001b[0;36m_plot_args\u001b[0;34m(self, tup, kwargs, return_kwargs, ambiguous_fmt_datakey)\u001b[0m\n\u001b[1;32m    502\u001b[0m \u001b[0;34m\u001b[0m\u001b[0m\n\u001b[1;32m    503\u001b[0m         \u001b[0;32mif\u001b[0m \u001b[0mx\u001b[0m\u001b[0;34m.\u001b[0m\u001b[0mshape\u001b[0m\u001b[0;34m[\u001b[0m\u001b[0;36m0\u001b[0m\u001b[0;34m]\u001b[0m \u001b[0;34m!=\u001b[0m \u001b[0my\u001b[0m\u001b[0;34m.\u001b[0m\u001b[0mshape\u001b[0m\u001b[0;34m[\u001b[0m\u001b[0;36m0\u001b[0m\u001b[0;34m]\u001b[0m\u001b[0;34m:\u001b[0m\u001b[0;34m\u001b[0m\u001b[0;34m\u001b[0m\u001b[0m\n\u001b[0;32m--> 504\u001b[0;31m             raise ValueError(f\"x and y must have same first dimension, but \"\n\u001b[0m\u001b[1;32m    505\u001b[0m                              f\"have shapes {x.shape} and {y.shape}\")\n\u001b[1;32m    506\u001b[0m         \u001b[0;32mif\u001b[0m \u001b[0mx\u001b[0m\u001b[0;34m.\u001b[0m\u001b[0mndim\u001b[0m \u001b[0;34m>\u001b[0m \u001b[0;36m2\u001b[0m \u001b[0;32mor\u001b[0m \u001b[0my\u001b[0m\u001b[0;34m.\u001b[0m\u001b[0mndim\u001b[0m \u001b[0;34m>\u001b[0m \u001b[0;36m2\u001b[0m\u001b[0;34m:\u001b[0m\u001b[0;34m\u001b[0m\u001b[0;34m\u001b[0m\u001b[0m\n",
      "\u001b[0;31mValueError\u001b[0m: x and y must have same first dimension, but have shapes (5,) and (1,)"
     ]
    },
    {
     "data": {
      "image/png": "[encoded data removed]",
      "text/plain": [
       "<Figure size 432x288 with 1 Axes>"
      ]
     },
     "metadata": {
      "needs_background": "light"
     },
     "output_type": "display_data"
    }
   ],
   "source": [
    "plt.plot(disp,rate)\n",
    "plt.plot(disp,gs1)"
   ]
  },
  {
   "cell_type": "code",
   "execution_count": 51,
   "id": "f6c28b67",
   "metadata": {},
   "outputs": [
    {
     "data": {
      "text/plain": [
       "0.0"
      ]
     },
     "execution_count": 51,
     "metadata": {},
     "output_type": "execute_result"
    }
   ],
   "source": [
    "(gs1[-1]-gs1[0])/(A_values[-1]-A_values[0])*2*np.pi"
   ]
  },
  {
   "cell_type": "code",
   "execution_count": 52,
   "id": "65a7c274",
   "metadata": {},
   "outputs": [
    {
     "data": {
      "text/plain": [
       "7.5398223686155035"
      ]
     },
     "execution_count": 52,
     "metadata": {},
     "output_type": "execute_result"
    }
   ],
   "source": [
    "(A_values[-1]-A_values[0])"
   ]
  },
  {
   "cell_type": "code",
   "execution_count": 53,
   "id": "849e3839",
   "metadata": {},
   "outputs": [
    {
     "data": {
      "text/plain": [
       "0.0"
      ]
     },
     "execution_count": 53,
     "metadata": {},
     "output_type": "execute_result"
    }
   ],
   "source": [
    "(gs1[-1]-gs1[0])"
   ]
  },
  {
   "cell_type": "code",
   "execution_count": 54,
   "id": "157f3d38",
   "metadata": {},
   "outputs": [],
   "source": [
    "# plt.plot(disp,result)\n",
    "# plt.plot(disp,gs)"
   ]
  },
  {
   "cell_type": "code",
   "execution_count": 55,
   "id": "52c926f4",
   "metadata": {},
   "outputs": [
    {
     "name": "stderr",
     "output_type": "stream",
     "text": [
      "/tmp/ipykernel_834620/2704417918.py:1: UserWarning: marker is redundantly defined by the 'marker' keyword argument and the fmt string \".\" (-> marker='.'). The keyword argument will take precedence.\n",
      "  plt.plot(omegas, results,'.', marker='o',)\n"
     ]
    },
    {
     "data": {
      "image/png": "[encoded data removed]",
      "text/plain": [
       "<Figure size 432x288 with 1 Axes>"
      ]
     },
     "metadata": {
      "needs_background": "light"
     },
     "output_type": "display_data"
    }
   ],
   "source": [
    "plt.plot(omegas, results,'.', marker='o',)\n",
    "# plt.ylim(1.20,1.205)\n",
    "plt.xlabel('Omega')\n",
    "plt.ylabel('Energy Difference')\n",
    "plt.title('Energy Difference vs Omega')\n",
    "# plt.ylim(4,4.02)\n",
    "plt.show()\n"
   ]
  },
  {
   "cell_type": "code",
   "execution_count": 56,
   "id": "f7af44d3",
   "metadata": {},
   "outputs": [
    {
     "data": {
      "text/plain": [
       "[<matplotlib.lines.Line2D at 0x7ffa56cd06d0>]"
      ]
     },
     "execution_count": 56,
     "metadata": {},
     "output_type": "execute_result"
    },
    {
     "data": {
      "image/png": "[encoded data removed]",
      "text/plain": [
       "<Figure size 432x288 with 1 Axes>"
      ]
     },
     "metadata": {
      "needs_background": "light"
     },
     "output_type": "display_data"
    }
   ],
   "source": [
    "delta = -omegas + (detuning) *np.ones(len(omegas))\n",
    "plt.plot(omegas,(a+ np.sign(delta) * np.sqrt(4*g**2 + (delta)**2) - delta ))\n",
    "plt.plot(omegas,results)\n",
    "# plt.ylim(4,4.02)\n",
    "# plt.ylim(1.204,1.206)"
   ]
  },
  {
   "cell_type": "code",
   "execution_count": 684,
   "id": "8e2ea00c",
   "metadata": {},
   "outputs": [],
   "source": [
    "from qutip import propagator,floquet_modes,Qobj,Options,basis\n",
    "def energy_diff2(A,omega):\n",
    "    flux =0.406400\n",
    "    #snail parameters\n",
    "    EJ = 100*2*np.pi\n",
    "    EC = 0.177*2*np.pi\n",
    "    beta = 0.12\n",
    "    ng = 0\n",
    "    ncut = 300\n",
    "    N = 3\n",
    "    dims = 8\n",
    "    snail = SNAIL(EJ,EC,beta,ng,ncut,flux,N,dims)\n",
    "    Hs,charge_op = snail.spectrum_charge()\n",
    "\n",
    "\n",
    "    #cavity1 parameters\n",
    "    omega_c1 = 4.5*2*np.pi\n",
    "    g_int1 = 0.15/2*(6-omega_c1/2/np.pi)*2*np.pi\n",
    "    dimc1 = 4\n",
    "    cavity1 = Cavity(omega_c1,g_int1,dimc1)\n",
    "\n",
    "    #cavity1 parameters\n",
    "    omega_c2 =  8.5*2*np.pi\n",
    "    g_int2 = 0.15/2*(6-omega_c2/2/np.pi)*2*np.pi\n",
    "    dimc2 = 4\n",
    "    cavity2 = Cavity(omega_c2,g_int2,dimc2)\n",
    "\n",
    "    Hc1, Vc1 = cavity1.hamiltonian()\n",
    "    Hc2, Vc2 = cavity2.hamiltonian()\n",
    "\n",
    "    Ic1 = np.identity(dimc1)\n",
    "    Ic2 = np.identity(dimc2)\n",
    "    Is = np.identity(dims)\n",
    "\n",
    "    Hs = np.kron(np.kron(Hs,Ic1),Ic2)\n",
    "    Hc1 = np.kron(np.kron(Is,Hc1),Ic2)\n",
    "    Hc2 = np.kron(np.kron(Is,Ic1),Hc2)\n",
    "\n",
    "    H_int1 = cavity1.g_int * np.kron(np.kron(charge_op,Vc1),Ic2) * 2 * ((2 * snail.EC / snail.EJ) ** 0.25)\n",
    "    H_int2 = cavity2.g_int * np.kron(np.kron(charge_op,Ic1),Vc2) * 2 * ((2 * snail.EC / snail.EJ) ** 0.25)\n",
    "    H = Hs + Hc1 + Hc2 + H_int1 + H_int2\n",
    "    Hc  =  np.kron(np.kron(charge_op,Ic1),Ic2)\n",
    "    energy,U = np.linalg.eigh(H)\n",
    "    energy,U = sort_eigenpairs(energy, U)\n",
    "    Ud = U.transpose().conjugate()\n",
    "    H = Ud@H@U\n",
    "    Hc = Ud@Hc@U\n",
    "    c = annihilation(dimc1)\n",
    "    cd = creation(dimc1)\n",
    "    s = annihilation(dims)\n",
    "    sd = creation(dims)\n",
    "#     Hgbs = np.kron(np.kron(np.identity(dims),c),cd)+np.kron(np.kron(np.identity(dims),cd),c)\n",
    "    Hgbs = np.kron(np.kron(np.ones((dims,dims)),c),cd)+np.kron(np.kron(np.ones((dims,dims)),cd),c)\n",
    "    Hgbs += np.kron(np.kron(s+sd,np.identity(dimc1)),np.identity(dimc2))+np.kron(np.kron(s+sd,np.identity(dimc1)),np.identity(dimc2))\n",
    "#     Hgbs += np.kron(np.kron(s+sd,c),cd)+np.kron(np.kron(s+sd,cd),c)\n",
    "    Hc = one_corresponding_elements(Hgbs, Hc)\n",
    "    index1 = np.argmin(np.abs(energy - omega_c1 * np.ones(len(energy))))\n",
    "    index2 = np.argmin(np.abs(energy - omega_c2 * np.ones(len(energy))))\n",
    "    H0 = H\n",
    "    H0 = Qobj(H0)\n",
    "    Hc = Qobj(Hc)\n",
    "    args = {'w': omega}\n",
    "    T = (2*np.pi)/omega\n",
    "    H = [H0, [Hc, lambda t, args: A*np.cos(args['w']*t)]] \n",
    "    options = Options(nsteps=100000)  # Increasing nsteps to 10000, adjust as needed\n",
    "    f_modes, f_energies = floquet_modes(H, T, args, False, options=options) \n",
    "    total_dim = dims*dimc1*dimc2\n",
    "    basis_states = [basis(total_dim, index1), basis(total_dim, index2)]\n",
    "    \n",
    "    \n",
    "    max_overlap_indices = [0,0]\n",
    "    max_overlaps = [0,0]\n",
    "    for f_index, f_state in enumerate(f_modes):\n",
    "\n",
    "        # Loop over each basis state\n",
    "        for b_index, b_state in enumerate(basis_states):\n",
    "\n",
    "            # Calculate the overlap\n",
    "            overlap = calculate_overlap(f_state, b_state)\n",
    "\n",
    "            # If this is the maximum overlap for this basis state, store the index\n",
    "            if overlap > max_overlaps[b_index]:\n",
    "                max_overlaps[b_index] = overlap\n",
    "                max_overlap_indices[b_index] = f_index\n",
    "    omegac1p = f_energies[max_overlap_indices[0]]/2/np.pi\n",
    "    k = find_optimal_k(omega_c1/2/np.pi, omegac1p , omega/2/np.pi)\n",
    "    omegac1p = omegac1p + k *omega/2/np.pi\n",
    "    omegac2p = f_energies[max_overlap_indices[1]]/2/np.pi\n",
    "    k = find_optimal_k(omega_c2/2/np.pi, omegac2p, omega/2/np.pi)\n",
    "    omegac2p = omegac2p + k *omega/2/np.pi\n",
    "    diff = omegac2p - omegac1p\n",
    "    return diff"
   ]
  },
  {
   "cell_type": "code",
   "execution_count": 598,
   "id": "2c2fa414",
   "metadata": {},
   "outputs": [
    {
     "name": "stdout",
     "output_type": "stream",
     "text": [
      "[4.01017803 4.01019872 4.01021941 4.0102401  4.01026079 4.01028148\n",
      " 4.01030217 4.01032286 4.01034355 4.01036424 4.01038493 4.01040562\n",
      " 4.01042631 4.010447   4.01046768 4.01048837 4.01050906 4.01052975\n",
      " 4.01055044 4.01057113 4.01059182 4.01061251 4.0106332  4.01065389\n",
      " 4.01067458 4.01069527 4.01071596 4.01073665 4.01075734 4.01077803] 4.010643546935702\n",
      " message: Optimization terminated successfully.\n",
      " success: True\n",
      "  status: 0\n",
      "     fun: 5.665328174629876e-12\n",
      "       x: [ 4.894e-04  4.011e+00]\n",
      "     nit: 3\n",
      "   direc: [[ 0.000e+00  1.000e+00]\n",
      "           [-4.262e-08  4.320e-08]]\n",
      "    nfev: 131\n",
      "[4.01017803 4.01019872 4.01021941 4.0102401  4.01026079 4.01028148\n",
      " 4.01030217 4.01032286 4.01034355 4.01036424 4.01038493 4.01040562\n",
      " 4.01042631 4.010447   4.01046768 4.01048837 4.01050906 4.01052975\n",
      " 4.01055044 4.01057113 4.01059182 4.01061251 4.0106332  4.01065389\n",
      " 4.01067458 4.01069527 4.01071596 4.01073665 4.01075734 4.01077803] 4.0104780296943225\n",
      " message: Optimization terminated successfully.\n",
      " success: True\n",
      "  status: 0\n",
      "     fun: 2.4986565626892713e-10\n",
      "       x: [ 1.000e-06  4.004e+00]\n",
      "     nit: 6\n",
      "   direc: [[ 3.289e-14  4.488e-11]\n",
      "           [ 1.741e-18  5.700e-11]]\n",
      "    nfev: 1136\n",
      "[4.01017803 4.01019872 4.01021941 4.0102401  4.01026079 4.01028148\n",
      " 4.01030217 4.01032286 4.01034355 4.01036424 4.01038493 4.01040562\n",
      " 4.01042631 4.010447   4.01046768 4.01048837 4.01050906 4.01052975\n",
      " 4.01055044 4.01057113 4.01059182 4.01061251 4.0106332  4.01065389\n",
      " 4.01067458 4.01069527 4.01071596 4.01073665 4.01075734 4.01077803] 4.0104780296943225\n",
      " message: Optimization terminated successfully.\n",
      " success: True\n",
      "  status: 0\n",
      "     fun: 6.936477489185243e-08\n",
      "       x: [ 4.192e-05  4.001e+00]\n",
      "     nit: 3\n",
      "   direc: [[ 0.000e+00  1.000e+00]\n",
      "           [ 1.446e-18  0.000e+00]]\n",
      "    nfev: 331\n",
      "[4.01017803 4.01019872 4.01021941 4.0102401  4.01026079 4.01028148\n",
      " 4.01030217 4.01032286 4.01034355 4.01036424 4.01038493 4.01040562\n",
      " 4.01042631 4.010447   4.01046768 4.01048837 4.01050906 4.01052975\n",
      " 4.01055044 4.01057113 4.01059182 4.01061251 4.0106332  4.01065389\n",
      " 4.01067458 4.01069527 4.01071596 4.01073665 4.01075734 4.01077803] 4.0104780296943225\n",
      " message: Optimization terminated successfully.\n",
      " success: True\n",
      "  status: 0\n",
      "     fun: 5.76285916833191e-11\n",
      "       x: [ 1.000e-06  3.994e+00]\n",
      "     nit: 3\n",
      "   direc: [[-1.007e-14 -1.897e-11]\n",
      "           [-4.509e-15 -6.527e-14]]\n",
      "    nfev: 551\n"
     ]
    }
   ],
   "source": [
    "gs = []\n",
    "# A = 5*2*np.pi\n",
    "for A in A_values:\n",
    "    detuning =  4.0104780296943225*2*np.pi\n",
    "    omegas = np.linspace(detuning-0.3e-3*2*np.pi, detuning+0.3e-3*2*np.pi, 30)\n",
    "    results = Parallel(n_jobs=15)(delayed(energy_diff2)(A, omega) for omega in omegas)\n",
    "    index_of_min = np.argmin(results)\n",
    "    index_of_max = np.argmax(results)\n",
    "    detuning = (omegas[index_of_min]+omegas[index_of_max])/2/2/np.pi\n",
    "    omegas = omegas/2/np.pi\n",
    "    g,a = fit_avoided_crossing(results,100,0)\n",
    "    gs.append(g)\n"
   ]
  },
  {
   "cell_type": "code",
   "execution_count": 599,
   "id": "57226e7c",
   "metadata": {},
   "outputs": [
    {
     "data": {
      "text/plain": [
       "1.000000001482578e-06"
      ]
     },
     "execution_count": 599,
     "metadata": {},
     "output_type": "execute_result"
    }
   ],
   "source": [
    "g"
   ]
  },
  {
   "cell_type": "code",
   "execution_count": 600,
   "id": "704e4138",
   "metadata": {},
   "outputs": [
    {
     "data": {
      "text/plain": [
       "[<matplotlib.lines.Line2D at 0x7f416b977850>]"
      ]
     },
     "execution_count": 600,
     "metadata": {},
     "output_type": "execute_result"
    },
    {
     "data": {
      "image/png": "[encoded data removed]",
      "text/plain": [
       "<Figure size 432x288 with 1 Axes>"
      ]
     },
     "metadata": {
      "needs_background": "light"
     },
     "output_type": "display_data"
    }
   ],
   "source": [
    "delta = -omegas + (detuning) *np.ones(len(omegas))\n",
    "plt.plot(omegas,(a+ np.sign(delta) * np.sqrt(4*g**2 + (delta)**2) - delta ))\n",
    "plt.plot(omegas,results)\n",
    "# plt.ylim(1.204,1.206)"
   ]
  },
  {
   "cell_type": "code",
   "execution_count": null,
   "id": "e39a9254",
   "metadata": {},
   "outputs": [],
   "source": []
  },
  {
   "cell_type": "code",
   "execution_count": 601,
   "id": "13d4e7da",
   "metadata": {},
   "outputs": [
    {
     "data": {
      "text/plain": [
       "array([2., 3., 4., 5.])"
      ]
     },
     "execution_count": 601,
     "metadata": {},
     "output_type": "execute_result"
    }
   ],
   "source": [
    "A_values = np.linspace(2,5,4)*2*np.pi\n",
    "A_values/2/np.pi"
   ]
  },
  {
   "cell_type": "code",
   "execution_count": 602,
   "id": "b02d6140",
   "metadata": {},
   "outputs": [
    {
     "data": {
      "text/plain": [
       "[0.0004894062968206518,\n",
       " 1.000000012585842e-06,\n",
       " 4.191753117379518e-05,\n",
       " 1.000000001482578e-06]"
      ]
     },
     "execution_count": 602,
     "metadata": {},
     "output_type": "execute_result"
    }
   ],
   "source": [
    "gs"
   ]
  },
  {
   "cell_type": "code",
   "execution_count": 603,
   "id": "e34f450e",
   "metadata": {},
   "outputs": [
    {
     "ename": "ValueError",
     "evalue": "x and y must have same first dimension, but have shapes (6,) and (4,)",
     "output_type": "error",
     "traceback": [
      "\u001b[0;31m---------------------------------------------------------------------------\u001b[0m",
      "\u001b[0;31mValueError\u001b[0m                                Traceback (most recent call last)",
      "\u001b[0;32m/tmp/ipykernel_4064907/654064446.py\u001b[0m in \u001b[0;36m<module>\u001b[0;34m\u001b[0m\n\u001b[1;32m      5\u001b[0m \u001b[0mplt\u001b[0m\u001b[0;34m.\u001b[0m\u001b[0mfigure\u001b[0m\u001b[0;34m(\u001b[0m\u001b[0mfigsize\u001b[0m\u001b[0;34m=\u001b[0m\u001b[0;34m(\u001b[0m\u001b[0;36m10\u001b[0m\u001b[0;34m,\u001b[0m \u001b[0;36m5\u001b[0m\u001b[0;34m)\u001b[0m\u001b[0;34m)\u001b[0m\u001b[0;34m\u001b[0m\u001b[0;34m\u001b[0m\u001b[0m\n\u001b[1;32m      6\u001b[0m \u001b[0mplt\u001b[0m\u001b[0;34m.\u001b[0m\u001b[0mplot\u001b[0m\u001b[0;34m(\u001b[0m\u001b[0mdisp\u001b[0m\u001b[0;34m,\u001b[0m \u001b[0mgs1\u001b[0m\u001b[0;34m,\u001b[0m \u001b[0mmarker\u001b[0m\u001b[0;34m=\u001b[0m\u001b[0;34m'o'\u001b[0m\u001b[0;34m,\u001b[0m \u001b[0mlabel\u001b[0m\u001b[0;34m=\u001b[0m\u001b[0;34m'Previous Combined List'\u001b[0m\u001b[0;34m)\u001b[0m\u001b[0;34m\u001b[0m\u001b[0;34m\u001b[0m\u001b[0m\n\u001b[0;32m----> 7\u001b[0;31m \u001b[0mplt\u001b[0m\u001b[0;34m.\u001b[0m\u001b[0mplot\u001b[0m\u001b[0;34m(\u001b[0m\u001b[0mdisp\u001b[0m\u001b[0;34m,\u001b[0m \u001b[0mgs\u001b[0m\u001b[0;34m,\u001b[0m \u001b[0mmarker\u001b[0m\u001b[0;34m=\u001b[0m\u001b[0;34m'x'\u001b[0m\u001b[0;34m,\u001b[0m \u001b[0mlabel\u001b[0m\u001b[0;34m=\u001b[0m\u001b[0;34m'New Combined List'\u001b[0m\u001b[0;34m)\u001b[0m\u001b[0;34m\u001b[0m\u001b[0;34m\u001b[0m\u001b[0m\n\u001b[0m\u001b[1;32m      8\u001b[0m \u001b[0mplt\u001b[0m\u001b[0;34m.\u001b[0m\u001b[0mtitle\u001b[0m\u001b[0;34m(\u001b[0m\u001b[0;34m'Comparison of A values vs. Combined List Values'\u001b[0m\u001b[0;34m)\u001b[0m\u001b[0;34m\u001b[0m\u001b[0;34m\u001b[0m\u001b[0m\n\u001b[1;32m      9\u001b[0m \u001b[0mplt\u001b[0m\u001b[0;34m.\u001b[0m\u001b[0mxlabel\u001b[0m\u001b[0;34m(\u001b[0m\u001b[0;34m'A values (0.5, 1, ..., 5)'\u001b[0m\u001b[0;34m)\u001b[0m\u001b[0;34m\u001b[0m\u001b[0;34m\u001b[0m\u001b[0m\n",
      "\u001b[0;32m/opt/anaconda3/envs/yunwei/lib/python3.9/site-packages/matplotlib/pyplot.py\u001b[0m in \u001b[0;36mplot\u001b[0;34m(scalex, scaley, data, *args, **kwargs)\u001b[0m\n\u001b[1;32m   2810\u001b[0m \u001b[0;34m@\u001b[0m\u001b[0m_copy_docstring_and_deprecators\u001b[0m\u001b[0;34m(\u001b[0m\u001b[0mAxes\u001b[0m\u001b[0;34m.\u001b[0m\u001b[0mplot\u001b[0m\u001b[0;34m)\u001b[0m\u001b[0;34m\u001b[0m\u001b[0;34m\u001b[0m\u001b[0m\n\u001b[1;32m   2811\u001b[0m \u001b[0;32mdef\u001b[0m \u001b[0mplot\u001b[0m\u001b[0;34m(\u001b[0m\u001b[0;34m*\u001b[0m\u001b[0margs\u001b[0m\u001b[0;34m,\u001b[0m \u001b[0mscalex\u001b[0m\u001b[0;34m=\u001b[0m\u001b[0;32mTrue\u001b[0m\u001b[0;34m,\u001b[0m \u001b[0mscaley\u001b[0m\u001b[0;34m=\u001b[0m\u001b[0;32mTrue\u001b[0m\u001b[0;34m,\u001b[0m \u001b[0mdata\u001b[0m\u001b[0;34m=\u001b[0m\u001b[0;32mNone\u001b[0m\u001b[0;34m,\u001b[0m \u001b[0;34m**\u001b[0m\u001b[0mkwargs\u001b[0m\u001b[0;34m)\u001b[0m\u001b[0;34m:\u001b[0m\u001b[0;34m\u001b[0m\u001b[0;34m\u001b[0m\u001b[0m\n\u001b[0;32m-> 2812\u001b[0;31m     return gca().plot(\n\u001b[0m\u001b[1;32m   2813\u001b[0m         \u001b[0;34m*\u001b[0m\u001b[0margs\u001b[0m\u001b[0;34m,\u001b[0m \u001b[0mscalex\u001b[0m\u001b[0;34m=\u001b[0m\u001b[0mscalex\u001b[0m\u001b[0;34m,\u001b[0m \u001b[0mscaley\u001b[0m\u001b[0;34m=\u001b[0m\u001b[0mscaley\u001b[0m\u001b[0;34m,\u001b[0m\u001b[0;34m\u001b[0m\u001b[0;34m\u001b[0m\u001b[0m\n\u001b[1;32m   2814\u001b[0m         **({\"data\": data} if data is not None else {}), **kwargs)\n",
      "\u001b[0;32m/opt/anaconda3/envs/yunwei/lib/python3.9/site-packages/matplotlib/axes/_axes.py\u001b[0m in \u001b[0;36mplot\u001b[0;34m(self, scalex, scaley, data, *args, **kwargs)\u001b[0m\n\u001b[1;32m   1686\u001b[0m         \"\"\"\n\u001b[1;32m   1687\u001b[0m         \u001b[0mkwargs\u001b[0m \u001b[0;34m=\u001b[0m \u001b[0mcbook\u001b[0m\u001b[0;34m.\u001b[0m\u001b[0mnormalize_kwargs\u001b[0m\u001b[0;34m(\u001b[0m\u001b[0mkwargs\u001b[0m\u001b[0;34m,\u001b[0m \u001b[0mmlines\u001b[0m\u001b[0;34m.\u001b[0m\u001b[0mLine2D\u001b[0m\u001b[0;34m)\u001b[0m\u001b[0;34m\u001b[0m\u001b[0;34m\u001b[0m\u001b[0m\n\u001b[0;32m-> 1688\u001b[0;31m         \u001b[0mlines\u001b[0m \u001b[0;34m=\u001b[0m \u001b[0;34m[\u001b[0m\u001b[0;34m*\u001b[0m\u001b[0mself\u001b[0m\u001b[0;34m.\u001b[0m\u001b[0m_get_lines\u001b[0m\u001b[0;34m(\u001b[0m\u001b[0;34m*\u001b[0m\u001b[0margs\u001b[0m\u001b[0;34m,\u001b[0m \u001b[0mdata\u001b[0m\u001b[0;34m=\u001b[0m\u001b[0mdata\u001b[0m\u001b[0;34m,\u001b[0m \u001b[0;34m**\u001b[0m\u001b[0mkwargs\u001b[0m\u001b[0;34m)\u001b[0m\u001b[0;34m]\u001b[0m\u001b[0;34m\u001b[0m\u001b[0;34m\u001b[0m\u001b[0m\n\u001b[0m\u001b[1;32m   1689\u001b[0m         \u001b[0;32mfor\u001b[0m \u001b[0mline\u001b[0m \u001b[0;32min\u001b[0m \u001b[0mlines\u001b[0m\u001b[0;34m:\u001b[0m\u001b[0;34m\u001b[0m\u001b[0;34m\u001b[0m\u001b[0m\n\u001b[1;32m   1690\u001b[0m             \u001b[0mself\u001b[0m\u001b[0;34m.\u001b[0m\u001b[0madd_line\u001b[0m\u001b[0;34m(\u001b[0m\u001b[0mline\u001b[0m\u001b[0;34m)\u001b[0m\u001b[0;34m\u001b[0m\u001b[0;34m\u001b[0m\u001b[0m\n",
      "\u001b[0;32m/opt/anaconda3/envs/yunwei/lib/python3.9/site-packages/matplotlib/axes/_base.py\u001b[0m in \u001b[0;36m__call__\u001b[0;34m(self, data, *args, **kwargs)\u001b[0m\n\u001b[1;32m    309\u001b[0m                 \u001b[0mthis\u001b[0m \u001b[0;34m+=\u001b[0m \u001b[0margs\u001b[0m\u001b[0;34m[\u001b[0m\u001b[0;36m0\u001b[0m\u001b[0;34m]\u001b[0m\u001b[0;34m,\u001b[0m\u001b[0;34m\u001b[0m\u001b[0;34m\u001b[0m\u001b[0m\n\u001b[1;32m    310\u001b[0m                 \u001b[0margs\u001b[0m \u001b[0;34m=\u001b[0m \u001b[0margs\u001b[0m\u001b[0;34m[\u001b[0m\u001b[0;36m1\u001b[0m\u001b[0;34m:\u001b[0m\u001b[0;34m]\u001b[0m\u001b[0;34m\u001b[0m\u001b[0;34m\u001b[0m\u001b[0m\n\u001b[0;32m--> 311\u001b[0;31m             yield from self._plot_args(\n\u001b[0m\u001b[1;32m    312\u001b[0m                 this, kwargs, ambiguous_fmt_datakey=ambiguous_fmt_datakey)\n\u001b[1;32m    313\u001b[0m \u001b[0;34m\u001b[0m\u001b[0m\n",
      "\u001b[0;32m/opt/anaconda3/envs/yunwei/lib/python3.9/site-packages/matplotlib/axes/_base.py\u001b[0m in \u001b[0;36m_plot_args\u001b[0;34m(self, tup, kwargs, return_kwargs, ambiguous_fmt_datakey)\u001b[0m\n\u001b[1;32m    502\u001b[0m \u001b[0;34m\u001b[0m\u001b[0m\n\u001b[1;32m    503\u001b[0m         \u001b[0;32mif\u001b[0m \u001b[0mx\u001b[0m\u001b[0;34m.\u001b[0m\u001b[0mshape\u001b[0m\u001b[0;34m[\u001b[0m\u001b[0;36m0\u001b[0m\u001b[0;34m]\u001b[0m \u001b[0;34m!=\u001b[0m \u001b[0my\u001b[0m\u001b[0;34m.\u001b[0m\u001b[0mshape\u001b[0m\u001b[0;34m[\u001b[0m\u001b[0;36m0\u001b[0m\u001b[0;34m]\u001b[0m\u001b[0;34m:\u001b[0m\u001b[0;34m\u001b[0m\u001b[0;34m\u001b[0m\u001b[0m\n\u001b[0;32m--> 504\u001b[0;31m             raise ValueError(f\"x and y must have same first dimension, but \"\n\u001b[0m\u001b[1;32m    505\u001b[0m                              f\"have shapes {x.shape} and {y.shape}\")\n\u001b[1;32m    506\u001b[0m         \u001b[0;32mif\u001b[0m \u001b[0mx\u001b[0m\u001b[0;34m.\u001b[0m\u001b[0mndim\u001b[0m \u001b[0;34m>\u001b[0m \u001b[0;36m2\u001b[0m \u001b[0;32mor\u001b[0m \u001b[0my\u001b[0m\u001b[0;34m.\u001b[0m\u001b[0mndim\u001b[0m \u001b[0;34m>\u001b[0m \u001b[0;36m2\u001b[0m\u001b[0;34m:\u001b[0m\u001b[0;34m\u001b[0m\u001b[0;34m\u001b[0m\u001b[0m\n",
      "\u001b[0;31mValueError\u001b[0m: x and y must have same first dimension, but have shapes (6,) and (4,)"
     ]
    },
    {
     "data": {
      "image/png": "[encoded data removed]",
      "text/plain": [
       "<Figure size 720x360 with 1 Axes>"
      ]
     },
     "metadata": {
      "needs_background": "light"
     },
     "output_type": "display_data"
    }
   ],
   "source": [
    "import matplotlib.pyplot as plt\n",
    "\n",
    "\n",
    "# Plotting\n",
    "plt.figure(figsize=(10, 5))\n",
    "plt.plot(disp, gs1, marker='o', label='Previous Combined List')\n",
    "plt.plot(disp, gs, marker='x', label='New Combined List')\n",
    "plt.title('Comparison of A values vs. Combined List Values')\n",
    "plt.xlabel('A values (0.5, 1, ..., 5)')\n",
    "plt.ylabel('List Values')\n",
    "plt.grid(True)\n",
    "plt.legend()\n",
    "plt.show()\n"
   ]
  },
  {
   "cell_type": "code",
   "execution_count": null,
   "id": "6856185c",
   "metadata": {},
   "outputs": [],
   "source": [
    "[1.636219360849445e-05,\n",
    " 3.2712339330490106e-05,\n",
    " 4.9126353340123596e-05,\n",
    " 6.563670428038323e-05,\n",
    " 8.230487786455534e-05,\n",
    " 9.930732033913214e-05]\n",
    "[0.00011609274532256626,\n",
    " 0.00011412036264886066,\n",
    " 0.0001237011916561157,\n",
    " 0.00013808842776595829]\n"
   ]
  }
 ],
 "metadata": {
  "kernelspec": {
   "display_name": "Python 3 (ipykernel)",
   "language": "python",
   "name": "python3"
  },
  "language_info": {
   "codemirror_mode": {
    "name": "ipython",
    "version": 3
   },
   "file_extension": ".py",
   "mimetype": "text/x-python",
   "name": "python",
   "nbconvert_exporter": "python",
   "pygments_lexer": "ipython3",
   "version": "3.9.7"
  }
 },
 "nbformat": 4,
 "nbformat_minor": 5
}
