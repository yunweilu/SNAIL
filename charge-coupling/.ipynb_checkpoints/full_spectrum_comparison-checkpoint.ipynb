{
 "cells": [
  {
   "cell_type": "code",
   "execution_count": 292,
   "id": "82447225",
   "metadata": {},
   "outputs": [],
   "source": [
    "from qutip import qload\n",
    "from sympy.physics.secondquant import *\n",
    "from sympy import symbols\n",
    "import sympy as sp\n",
    "from cosmatrix import expm_pade\n",
    "def int_swt(g3,g4,omegas,s,sd,order):    \n",
    "    s1,s2,s3 = qload('./symbolic/swt')\n",
    "    omegasp = symbols('omega', real=True)\n",
    "    g3sp = symbols('g3', real=True)\n",
    "    g4sp = symbols('g4', real=True)\n",
    "    omega = symbols('omega', real=True)\n",
    "    kappa = symbols('kappa', real=True)\n",
    "    ind_a = symbols('a')\n",
    "    a = B(ind_a)\n",
    "    ad = Bd(ind_a)\n",
    "    def replace_scalars_with_valued_matrices(expr, matrix_values):\n",
    "        \"\"\"\n",
    "        Replace scalar symbols and scalar operations in a SymPy scalar expression with valued matrices.\n",
    "\n",
    "        Args:\n",
    "        expr (sympy.Expr): The input scalar expression.\n",
    "        matrix_values (dict): A dictionary mapping scalar symbols to valued matrices.\n",
    "\n",
    "        Returns:\n",
    "        sympy.Expr: The modified expression with valued matrices.\n",
    "        \"\"\"\n",
    "\n",
    "        def map_operations(node):\n",
    "            if (isinstance(node, AnnihilateBoson) or isinstance(node, CreateBoson) )and node in matrix_values:\n",
    "                return matrix_values[node]\n",
    "            elif isinstance(node, sp.Add):\n",
    "                return sp.Add(*[map_operations(arg) for arg in node.args])\n",
    "            elif isinstance(node, sp.Mul):\n",
    "                return sp.Mul(*[map_operations(arg) for arg in node.args])\n",
    "            elif isinstance(node, sp.Pow):\n",
    "                base, exponent = map_operations(node.base), map_operations(node.exp)\n",
    "                return base**exponent\n",
    "            else:\n",
    "                return node\n",
    "\n",
    "        return map_operations(expr)\n",
    "    def smatrix(expr):\n",
    "        expr = expr.subs({ g3sp:g3,g4sp:g4, kappa:1,omegasp:omegas})\n",
    "        sp_s = sp.Matrix(s)\n",
    "        sp_sd = sp.Matrix(sd)\n",
    "        matrix_values = {a: sp_s, ad: sp_sd}\n",
    "        result = replace_scalars_with_valued_matrices(expr, matrix_values)\n",
    "        return np.array(result,np.float64)\n",
    "    if order == 1:\n",
    "        D = smatrix(s1)\n",
    "    if order == 2:\n",
    "        D = smatrix(s1) + smatrix(s2) \n",
    "    if order == 3:\n",
    "        D = smatrix(s1) + smatrix(s2) + smatrix(s3)\n",
    "    app = expm(D)@(s+sd)@expm(-D)\n",
    "    return app,D"
   ]
  },
  {
   "cell_type": "code",
   "execution_count": 477,
   "id": "99d8b741",
   "metadata": {},
   "outputs": [],
   "source": [
    "anh_exp = qload('./symbolic/anh')[0]\n",
    "g3sp = symbols('g3', real=True)\n",
    "g4sp = symbols('g4', real=True)\n",
    "g5sp = symbols('g5', real=True)\n",
    "omega = symbols('omega', real=True)"
   ]
  },
  {
   "cell_type": "code",
   "execution_count": 478,
   "id": "23120a87",
   "metadata": {},
   "outputs": [
    {
     "data": {
      "text/latex": [
       "$\\displaystyle - \\frac{2566170 g_{4}^{4}}{\\omega^{3}} - \\frac{10264680 g_{4}^{3} g_{5}}{\\omega^{3}} + \\frac{25164 g_{4}^{3}}{\\omega^{2}} - \\frac{15397020 g_{4}^{2} g_{5}^{2}}{\\omega^{3}} + \\frac{75492 g_{4}^{2} g_{5}}{\\omega^{2}} - \\frac{306 g_{4}^{2}}{\\omega} - \\frac{1570836 g_{4}^{2}}{\\omega^{3}} - \\frac{10264680 g_{4} g_{5}^{3}}{\\omega^{3}} + \\frac{75492 g_{4} g_{5}^{2}}{\\omega^{2}} - \\frac{612 g_{4} g_{5}}{\\omega} - \\frac{3141672 g_{4} g_{5}}{\\omega^{3}} + 6 g_{4} + \\frac{8100 g_{4}}{\\omega^{2}} - \\frac{2566170 g_{5}^{4}}{\\omega^{3}} + \\frac{25164 g_{5}^{3}}{\\omega^{2}} - \\frac{306 g_{5}^{2}}{\\omega} - \\frac{1570836 g_{5}^{2}}{\\omega^{3}} + 6 g_{5} + \\frac{8100 g_{5}}{\\omega^{2}} - \\frac{30}{\\omega} - \\frac{12690}{\\omega^{3}}$"
      ],
      "text/plain": [
       "-2566170*g4**4/omega**3 - 10264680*g4**3*g5/omega**3 + 25164*g4**3/omega**2 - 15397020*g4**2*g5**2/omega**3 + 75492*g4**2*g5/omega**2 - 306*g4**2/omega - 1570836*g4**2/omega**3 - 10264680*g4*g5**3/omega**3 + 75492*g4*g5**2/omega**2 - 612*g4*g5/omega - 3141672*g4*g5/omega**3 + 6*g4 + 8100*g4/omega**2 - 2566170*g5**4/omega**3 + 25164*g5**3/omega**2 - 306*g5**2/omega - 1570836*g5**2/omega**3 + 6*g5 + 8100*g5/omega**2 - 30/omega - 12690/omega**3"
      ]
     },
     "execution_count": 478,
     "metadata": {},
     "output_type": "execute_result"
    }
   ],
   "source": [
    "anh_exp.subs({g3sp:1})"
   ]
  },
  {
   "cell_type": "code",
   "execution_count": 499,
   "id": "6ca70d65",
   "metadata": {},
   "outputs": [],
   "source": [
    "import matplotlib.pyplot as plt\n",
    "import scipy as sci\n",
    "import autograd as ad\n",
    "import autograd.numpy as np\n",
    "from cosmatrix import cosm,expm_pade\n",
    "expm = expm_pade\n",
    "from autograd.extend import primitive, defvjp\n",
    "def annihilation(dim):\n",
    "    return np.diag(np.sqrt(np.arange(1,dim)),1)\n",
    "def creation(dim):\n",
    "    return np.diag(np.sqrt(np.arange(1,dim)),-1)\n",
    "def create_custom_matrix(N, dim):\n",
    "    # Initialize a dim x dim matrix with zeros\n",
    "    matrix = np.zeros((2*dim+1, 2*dim+1))\n",
    "\n",
    "    # Set the specified elements to 1\n",
    "    for k in range(2*dim+1):\n",
    "        if k  + N < 2*dim+1:\n",
    "            matrix[k][k + N] = 1\n",
    "\n",
    "    return matrix\n",
    "def create_diagonal_matrix(dim, ng, Ec):\n",
    "    # Initialize a dim x dim matrix with zeros\n",
    "    matrix = np.zeros((2*dim+1, 2*dim+1))\n",
    "\n",
    "    # Set the diagonal elements as per the given formula\n",
    "    for k in range(2*dim+1):\n",
    "        matrix[k][k] = 4 * Ec * ((k-dim)/N- ng)**2\n",
    "\n",
    "    return matrix\n",
    "def charge_op(dim, ng, Ec):\n",
    "    # Initialize a dim x dim matrix with zeros\n",
    "    matrix = np.zeros((2*dim+1, 2*dim+1))\n",
    "\n",
    "    # Set the diagonal elements as per the given formula\n",
    "    for k in range(2*dim+1):\n",
    "        matrix[k][k] =   ((k-dim)/N- ng)\n",
    "    return matrix\n",
    "def SNAIL_charge(phi_ex,beta,N,Ej,Ec,ncut):\n",
    "    ng=0\n",
    "    dim = 250\n",
    "    phi_ex = 2*phi_ex*np.pi\n",
    "    U = beta*np.exp(1j*phi_ex)*create_custom_matrix(N, dim)+N*create_custom_matrix(1, dim)\n",
    "    U = U + np.transpose(U.conjugate())\n",
    "    K = 4*Ec*charge_op(dim, ng, Ec)@charge_op(dim, ng, Ec)\n",
    "    H = K-Ej*U/2\n",
    "    energy,U = np.linalg.eigh(H)\n",
    "    U_dag = np.transpose(U.conjugate())\n",
    "    energy = energy-energy[0]*np.ones(len(energy))\n",
    "    charge = U_dag@charge_op(dim, ng, Ec)@U\n",
    "    H = U_dag@H@U\n",
    "    return (H - H[0][0]*np.identity(dim*2+1))[:ncut-1,:ncut-1],charge[:ncut-1,:ncut-1]\n",
    "\n",
    "def SNAIL_oscillator(phi_ex,beta,N,Ej,Ec,ncut):\n",
    "    sdim = 200\n",
    "    phi_ex = 2*np.pi*phi_ex\n",
    "    @primitive\n",
    "    def Us_min(phi_ex):\n",
    "        def U_s(phi): \n",
    "            return (-beta*np.cos(phi-phi_ex)-N*np.cos((phi)/N))\n",
    "        phi_min = sci.optimize.minimize(U_s,0).x\n",
    "        return phi_min\n",
    "    \n",
    "    def phi_minde(ans, phi_ex):\n",
    "        def phi_minde_vjp(g):\n",
    "            c2 = beta*np.cos(ans - phi_ex) + 1/N*np.cos(ans/N)\n",
    "            return g*beta*np.cos(ans - phi_ex)/c2\n",
    "        return phi_minde_vjp\n",
    "    defvjp(Us_min, phi_minde)\n",
    "    \n",
    "    phi_min = Us_min(phi_ex)\n",
    "    # potential expansion around minimum\n",
    "    c2 = beta*np.cos(phi_min - phi_ex) + 1/N*np.cos(phi_min/N)\n",
    "    omega_s = np.sqrt(8*c2*Ej*Ec)\n",
    "    phi_zpf = np.power(2*Ec/(Ej*c2),1/4)\n",
    "    c3 = (N**2-1)/N**2*np.sin(phi_min/N)\n",
    "    g3 = Ej*phi_zpf**3*c3/3/2\n",
    "    c4 = -beta*np.cos(phi_min-phi_ex) -1/N**3*np.cos(phi_min/N)\n",
    "\n",
    "    g4 = Ej*phi_zpf**4*c4/4/3/2\n",
    "    g2 = Ej*phi_zpf**2*c2/2\n",
    "    s = annihilation(sdim)\n",
    "    sd = creation(sdim)\n",
    "    x2 = np.matmul(s+sd,s+sd)\n",
    "    Hs = (omega_s * np.matmul(sd,s)\n",
    "        - Ej*(beta*cosm(phi_zpf*(s+sd)+(phi_min-phi_ex)*np.identity(sdim))\n",
    "        + N*cosm((phi_zpf*(s+sd)+phi_min*np.identity(sdim))/N))- g2*x2)\n",
    "    energy,U = np.linalg.eigh(Hs)\n",
    "    U_dag = np.conjugate(U.transpose())\n",
    "    Hs = Hs\n",
    "    return (Hs-energy[0]*np.identity(sdim))[:ncut-1,:ncut-1],((s+sd))[:ncut-1,:ncut-1]\n",
    "\n",
    "def SNAIL_trunc(phi_ex,beta,N,Ej,Ec,ncut):\n",
    "    phi_ex = phi_ex*2*np.pi\n",
    "    sdim = 200\n",
    "    def U_s(phi): \n",
    "        return (-beta*np.cos(phi-phi_ex)-3*np.cos((phi)/3))\n",
    "    phi_min = sci.optimize.minimize(U_s,0).x\n",
    "    # potential expansion around minimum\n",
    "    firstd = ad.grad(U_s)\n",
    "    secondd = ad.grad(firstd)\n",
    "    thirdd = ad.grad(secondd)\n",
    "    fourd = ad.grad(thirdd)\n",
    "    fived = ad.grad(fourd)\n",
    "    sixd = ad.grad(fived)\n",
    "    sevend = ad.grad(sixd)\n",
    "    eightd = ad.grad(sevend)\n",
    "    c2 = secondd(phi_min[0])\n",
    "    c3 = thirdd(phi_min[0])/3/2\n",
    "    c4 = fourd(phi_min[0])/4/3/2\n",
    "    c5 = fived(phi_min[0])/5/4/3/2\n",
    "    c6 = sixd(phi_min[0])/6/5/4/3/2\n",
    "    c7 = sevend(phi_min[0])/7/6/5/4/3/2\n",
    "    c8 = eightd(phi_min[0])/8/7/6/5/4/3/2\n",
    "    omega_s = np.sqrt(8*c2*Ej*Ec)\n",
    "    phi_zpf = np.power(2*Ec/Ej/c2,1/4)\n",
    "    g2 = Ej*phi_zpf**2*c2/2\n",
    "    g3 = Ej*phi_zpf**3*c3\n",
    "    g4 = Ej*phi_zpf**4*c4\n",
    "    g5 = Ej*phi_zpf**5*c5\n",
    "    g6 = Ej*phi_zpf**6*c6\n",
    "    g7 = Ej*phi_zpf**7*c7\n",
    "    g8 = 1.5*Ej*phi_zpf**8*c8\n",
    "    \n",
    "    s = annihilation(sdim)\n",
    "    sd = creation(sdim)\n",
    "    Hs = omega_s * np.matmul(sd,s)\n",
    "    x2 = np.matmul(s+sd,s+sd)\n",
    "    x3 = np.matmul(s+sd,x2)\n",
    "    x4 = np.matmul(s+sd,x3)\n",
    "    x5 = np.matmul(s+sd,x4)\n",
    "    x6 = np.matmul(s+sd,x5)\n",
    "    x7 = np.matmul(s+sd,x6)\n",
    "    x8 = np.matmul(s+sd,x7)\n",
    "    Hs += g3*x3 + g4*x4+1e-10*x8\n",
    "    energy,U = np.linalg.eigh(Hs)\n",
    "    U_dag = np.conjugate(U.transpose())\n",
    "    Hs = Hs\n",
    "    return (Hs-energy[0]*np.identity(sdim))[:ncut-1,:ncut-1],((s+sd))[:ncut-1,:ncut-1],c2\n",
    "\n",
    "\n",
    "def SNAIL_swt(phi_ex,beta,N,Ej,Ec,ncut):\n",
    "    phi_ex = phi_ex*2*np.pi\n",
    "    sdim = 10\n",
    "    def U_s(phi): \n",
    "        return (-beta*np.cos(phi-phi_ex)-3*np.cos((phi)/3))\n",
    "    phi_min = sci.optimize.minimize(U_s,0).x\n",
    "    # potential expansion around minimum\n",
    "    firstd = ad.grad(U_s)\n",
    "    secondd = ad.grad(firstd)\n",
    "    thirdd = ad.grad(secondd)\n",
    "    fourd = ad.grad(thirdd)\n",
    "    fived = ad.grad(fourd)\n",
    "    sixd = ad.grad(fived)\n",
    "    sevend = ad.grad(sixd)\n",
    "    eightd = ad.grad(sevend)\n",
    "    c2 = secondd(phi_min[0])\n",
    "    c3 = thirdd(phi_min[0])/3/2\n",
    "    c4 = fourd(phi_min[0])/4/3/2\n",
    "    c5 = fived(phi_min[0])/5/4/3/2\n",
    "    c6 = sixd(phi_min[0])/6/5/4/3/2\n",
    "    omega_s = np.sqrt(8*c2*Ej*Ec)\n",
    "    phi_zpf = np.power(2*Ec/Ej/c2,1/4)\n",
    "    g2 = Ej*phi_zpf**2*c2/2\n",
    "    g3 = Ej*phi_zpf**3*c3\n",
    "    g4 = Ej*phi_zpf**4*c4\n",
    "    g5 = Ej*phi_zpf**5*c5\n",
    "    g6 = Ej*phi_zpf**6*c6\n",
    "    \n",
    "    s = annihilation(sdim)\n",
    "    sd = creation(sdim)\n",
    "    Hs = (omega_s+12*g4-60*g3**2/omega_s)*sd@s\n",
    "    Vs = int_swt(g3,g4,omega_s,s,sd,2)[0]\n",
    "    x = (g3/omega_s)**2\n",
    "    x4 = (g3**2/omega_s**2)*144*omega_s**3*(6*omega_s**2-omega_c**2)/(omega_c**6-6*omega_c**4*omega_s**2+9*omega_c**2*omega_s**4-4*omega_s**6)\n",
    "    x1 =-x*16*omega_s*(2*omega_c**2+13*omega_s**2)/(omega_c**2-omega_s**2)**2\n",
    "    x2 = 32*x*omega_s/(omega_c**2-4*omega_s**2)\n",
    "    x3 = -120*x*omega_s*(omega_c**2+omega_s**2)/(omega_c**2-omega_s**2)**2\n",
    "    y1 = 48*omega_s**2*(g4+g5)/(omega_c**2-omega_s**2)**2\n",
    "    y2 = 48*omega_s**2*(g4)/(omega_c**2-omega_s**2)**2\n",
    "    z1 = 2*omega_s/(omega_c**2-omega_s**2)\n",
    "    return Hs[:ncut-1,:ncut-1],Vs[:ncut-1,:ncut-1],(x1+y1+z1)*g_int**2+omega_c,(x1+y2+z1)*g_int**2+omega_c\n",
    "    \n",
    "def composite_spec(Hs, Vs, g_int,omega_c):\n",
    "    sdim = len(Hs[0])\n",
    "    cdim = 5\n",
    "    c = annihilation(cdim)\n",
    "    cd = creation(cdim)\n",
    "    Hc = omega_c*np.matmul(cd,c)\n",
    "    Ic = np.identity(cdim)\n",
    "    Is = np.identity(sdim)\n",
    "    Hs = np.kron(Hs,Ic)\n",
    "    Hc = np.kron(Is,Hc)\n",
    "    H_int = g_int*np.kron(Vs,cd+c)\n",
    "    H = Hs + Hc + H_int\n",
    "    energy,dressed_states = np.linalg.eigh(H)\n",
    "    energy = energy-energy[0]*np.ones(len(energy))\n",
    "    index = np.argmin(np.abs(energy-omega_c*np.ones(len(energy))))\n",
    "    exact = energy[index]\n",
    "    return exact"
   ]
  },
  {
   "cell_type": "code",
   "execution_count": 501,
   "id": "8b4c5665",
   "metadata": {},
   "outputs": [
    {
     "data": {
      "text/plain": [
       "0.21333333333333332"
      ]
     },
     "execution_count": 501,
     "metadata": {},
     "output_type": "execute_result"
    }
   ],
   "source": [
    "c2"
   ]
  },
  {
   "cell_type": "code",
   "execution_count": 506,
   "id": "63272eb7",
   "metadata": {},
   "outputs": [
    {
     "data": {
      "text/plain": [
       "array([[-3.80781558e-15+0.j,  1.00000000e+00+0.j, -9.25023287e-16+0.j,\n",
       "         4.95492116e-03+0.j,  1.39967852e-15+0.j,  7.16935130e-05+0.j,\n",
       "        -8.97844526e-16+0.j,  1.50541858e-06+0.j,  4.56984448e-16+0.j],\n",
       "       [ 1.00000000e+00+0.j,  1.35077320e-15+0.j,  1.40845965e+00+0.j,\n",
       "         5.21095786e-15+0.j,  9.90268543e-03+0.j, -5.78180314e-16+0.j,\n",
       "         1.76785256e-04+0.j,  1.27534907e-16+0.j,  4.31526324e-06+0.j],\n",
       "       [-9.55256609e-16+0.j,  1.40845965e+00+0.j, -1.80688246e-14+0.j,\n",
       "         1.71793663e+00+0.j, -2.81345523e-15+0.j,  1.56430681e-02+0.j,\n",
       "        -2.20203198e-16+0.j,  3.32865725e-04+0.j,  1.35617107e-15+0.j],\n",
       "       [ 4.95492116e-03+0.j,  5.14713597e-15+0.j,  1.71793663e+00+0.j,\n",
       "         1.30243658e-15+0.j,  1.97552111e+00+0.j, -8.24389641e-15+0.j,\n",
       "         2.20975822e-02+0.j,  3.77739786e-15+0.j,  5.46934194e-04+0.j],\n",
       "       [ 1.38385811e-15+0.j,  9.90268543e-03+0.j, -2.79855356e-15+0.j,\n",
       "         1.97552111e+00+0.j,  2.78261747e-14+0.j,  2.19953224e+00+0.j,\n",
       "         8.65075832e-15+0.j,  2.91928542e-02+0.j, -1.69751553e-15+0.j],\n",
       "       [ 7.16935130e-05+0.j, -6.40372032e-16+0.j,  1.56430681e-02+0.j,\n",
       "        -8.40945111e-15+0.j,  2.19953224e+00+0.j, -2.55603229e-14+0.j,\n",
       "         2.39940501e+00+0.j, -1.49784995e-14+0.j,  3.68680578e-02+0.j],\n",
       "       [-8.97683598e-16+0.j,  1.76785256e-04+0.j, -1.87245258e-16+0.j,\n",
       "         2.20975822e-02+0.j,  8.54483992e-15+0.j,  2.39940501e+00+0.j,\n",
       "         4.71574598e-14+0.j,  2.58076843e+00+0.j,  3.74847720e-16+0.j],\n",
       "       [ 1.50541858e-06+0.j,  1.19290574e-16+0.j,  3.32865725e-04+0.j,\n",
       "         3.77735833e-15+0.j,  2.91928542e-02+0.j, -1.49788081e-14+0.j,\n",
       "         2.58076843e+00+0.j,  5.46851819e-15+0.j,  2.74730665e+00+0.j],\n",
       "       [ 4.65612901e-16+0.j,  4.31526324e-06+0.j,  1.35028209e-15+0.j,\n",
       "         5.46934194e-04+0.j, -1.62933667e-15+0.j,  3.68680578e-02+0.j,\n",
       "         3.04713963e-16+0.j,  2.74730665e+00+0.j, -4.07191039e-14+0.j]])"
      ]
     },
     "execution_count": 506,
     "metadata": {},
     "output_type": "execute_result"
    }
   ],
   "source": [
    "beta = 0.12\n",
    "N = 3\n",
    "ncut=10\n",
    "Ej = 90*2*np.pi\n",
    "Ec = 0.177*2*np.pi\n",
    "SNAIL_charge(0,beta,N,Ej,Ec,ncut)[1]*2*(2*Ec/Ej/0.21333333333333332)**0.25/1.20249536"
   ]
  },
  {
   "cell_type": "code",
   "execution_count": 496,
   "id": "84862a5c",
   "metadata": {},
   "outputs": [
    {
     "data": {
      "image/png": "[encoded data removed]",
      "text/plain": [
       "<Figure size 432x288 with 1 Axes>"
      ]
     },
     "metadata": {
      "needs_background": "light"
     },
     "output_type": "display_data"
    }
   ],
   "source": [
    "beta = 0.12\n",
    "N = 3\n",
    "ncut=10\n",
    "Ej = 90*2*np.pi\n",
    "Ec = 0.177*2*np.pi\n",
    "omega_c = 1.6*2*np.pi\n",
    "\n",
    "phi_ex_values = np.linspace(0, 0.5, 50)\n",
    "composite_spec_results1 = []\n",
    "for phi_ex in phi_ex_values:\n",
    "    H1, V1 = SNAIL_charge(phi_ex, beta, N, Ej, Ec, ncut)\n",
    "    g_int = 0.15*2*np.pi*c2**0.25\n",
    "    result = composite_spec(H1, V1, g_int, omega_c) / (2 * np.pi)\n",
    "    composite_spec_results1.append(result)\n",
    "\n",
    "    # Plotting\n",
    "plt.plot(phi_ex_values, np.array(composite_spec_results1), label='charge')\n",
    "# plt.plot(phi_ex_values, np.array(composite_spec_results2), label='2nd swt')\n",
    "# plt.plot(phi_ex_values, np.array(composite_spec_results3), label='osc_basis')\n",
    "# plt.plot(phi_ex_values, np.array(composite_spec_results4), label='analytical')\n",
    "# plt.plot(phi_ex_values, np.array(composite_spec_results5), label='analytical')\n",
    "plt.xlabel('phi_ex')\n",
    "plt.ylabel('composite_spec result')\n",
    "plt.title('composite_spec vs. phi_ex')\n",
    "plt.legend()\n",
    "plt.show()"
   ]
  },
  {
   "cell_type": "code",
   "execution_count": 492,
   "id": "81d5c68f",
   "metadata": {},
   "outputs": [
    {
     "data": {
      "image/png": "[encoded data removed]",
      "text/plain": [
       "<Figure size 432x288 with 1 Axes>"
      ]
     },
     "metadata": {
      "needs_background": "light"
     },
     "output_type": "display_data"
    }
   ],
   "source": [
    "# beta = 0.12\n",
    "# N = 3\n",
    "# ncut=5\n",
    "# Ej = 90*2*np.pi\n",
    "# Ec = 0.177*2*np.pi\n",
    "# omega_c = 1.6*2*np.pi\n",
    "\n",
    "# phi_ex_values = np.linspace(0, 0.5, 50)\n",
    "# composite_spec_results1 = []\n",
    "# composite_spec_results2 = []\n",
    "# composite_spec_results3 = []\n",
    "# composite_spec_results4 = []\n",
    "# composite_spec_results5 = []\n",
    "# composite_spec_results6 = []\n",
    "# for phi_ex in phi_ex_values:\n",
    "#     H1, V1, c2 = SNAIL_trunc(phi_ex, beta, N, Ej, Ec, ncut)\n",
    "#     g_int = 0.15*2*np.pi*c2**0.25\n",
    "#     result = composite_spec(H1, V1, g_int, omega_c) / (2 * np.pi)\n",
    "#     composite_spec_results1.append(result)\n",
    "    \n",
    "#     H1, V1,result4,result5= SNAIL_swt(phi_ex, beta, N, Ej, Ec, ncut)\n",
    "#     result2 = composite_spec(H1, V1, g_int, omega_c) / (2 * np.pi)\n",
    "#     composite_spec_results2.append(result2)\n",
    "#     composite_spec_results4.append(result4/2/np.pi)\n",
    "#     composite_spec_results5.append(result5/2/np.pi)\n",
    "    \n",
    "#     H1, V1= SNAIL_oscillator(phi_ex, beta, N, Ej, Ec, ncut)\n",
    "#     result3 = composite_spec(H1, V1, g_int, omega_c) / (2 * np.pi)\n",
    "#     composite_spec_results3.append(result3)\n",
    "#     # Plotting\n",
    "plt.plot(phi_ex_values, np.array(composite_spec_results1), label='truncated osci_basis')\n",
    "# plt.plot(phi_ex_values, np.array(composite_spec_results2), label='2nd swt')\n",
    "plt.plot(phi_ex_values, np.array(composite_spec_results3), label='osc_basis')\n",
    "plt.plot(phi_ex_values, np.array(composite_spec_results4), label='analytical')\n",
    "# plt.plot(phi_ex_values, np.array(composite_spec_results5), label='analytical')\n",
    "plt.xlabel('phi_ex')\n",
    "plt.ylabel('composite_spec result')\n",
    "plt.title('composite_spec vs. phi_ex')\n",
    "plt.legend()\n",
    "plt.show()"
   ]
  },
  {
   "cell_type": "code",
   "execution_count": 467,
   "id": "1a21492c",
   "metadata": {},
   "outputs": [
    {
     "data": {
      "text/plain": [
       "[<matplotlib.lines.Line2D at 0x7f9a4a922a90>]"
      ]
     },
     "execution_count": 467,
     "metadata": {},
     "output_type": "execute_result"
    },
    {
     "data": {
      "image/png": "[encoded data removed]",
      "text/plain": [
       "<Figure size 432x288 with 1 Axes>"
      ]
     },
     "metadata": {
      "needs_background": "light"
     },
     "output_type": "display_data"
    }
   ],
   "source": [
    "plt.plot(phi_ex_values, np.array(composite_spec_results5), label='analytical')"
   ]
  },
  {
   "cell_type": "code",
   "execution_count": null,
   "id": "d7904437",
   "metadata": {},
   "outputs": [],
   "source": []
  },
  {
   "cell_type": "code",
   "execution_count": 418,
   "id": "1972896e",
   "metadata": {},
   "outputs": [
    {
     "data": {
      "image/png": "[encoded data removed]",
      "text/plain": [
       "<Figure size 432x288 with 1 Axes>"
      ]
     },
     "metadata": {
      "needs_background": "light"
     },
     "output_type": "display_data"
    }
   ],
   "source": [
    "beta = 0.1\n",
    "N = 3\n",
    "ncut=5\n",
    "Ej = 90*2*np.pi\n",
    "Ec = 0.177*2*np.pi\n",
    "omega_c = 1.6*2*np.pi\n",
    "\n",
    "phi_ex_values = np.linspace(0, 0.5, 50)\n",
    "composite_spec_results1 = []\n",
    "composite_spec_results2 = []\n",
    "composite_spec_results3 = []\n",
    "composite_spec_results4 = []\n",
    "composite_spec_results5 = []\n",
    "composite_spec_results6 = []\n",
    "for phi_ex in phi_ex_values:\n",
    "    H1, V1, c2 = SNAIL_trunc(phi_ex, beta, N, Ej, Ec, ncut)\n",
    "    g_int = 0.15*2*np.pi*c2**0.25\n",
    "#     result = composite_spec(H1, V1, g_int, omega_c) / (2 * np.pi)\n",
    "#     composite_spec_results1.append(result)\n",
    "    \n",
    "    H1, V1,result4,result5= SNAIL_swt(phi_ex, beta, N, Ej, Ec, ncut)\n",
    "#     result2 = composite_spec(H1, V1, g_int, omega_c) / (2 * np.pi)\n",
    "#     composite_spec_results2.append(result2)\n",
    "    composite_spec_results4.append(result4/2/np.pi)\n",
    "    composite_spec_results5.append(result5/2/np.pi)\n",
    "    \n",
    "    H1, V1= SNAIL_oscillator(phi_ex, beta, N, Ej, Ec, ncut)\n",
    "#     result3 = composite_spec(H1, V1, g_int, omega_c) / (2 * np.pi)\n",
    "#     composite_spec_results3.append(result3)\n",
    "    # Plotting\n",
    "# plt.plot(phi_ex_values, np.array(composite_spec_results1), label='truncated osci_basis')\n",
    "# plt.plot(phi_ex_values, np.array(composite_spec_results2), label='2nd swt')\n",
    "# plt.plot(phi_ex_values, np.array(composite_spec_results3), label='osc_basis')\n",
    "plt.plot(phi_ex_values, np.array(composite_spec_results4), label='analytical')\n",
    "plt.plot(phi_ex_values, np.array(composite_spec_results5), label='analytical')\n",
    "plt.xlabel('phi_ex')\n",
    "plt.ylabel('composite_spec result')\n",
    "plt.title('composite_spec vs. phi_ex')\n",
    "plt.legend()\n",
    "plt.show()"
   ]
  },
  {
   "cell_type": "code",
   "execution_count": null,
   "id": "db3251e8",
   "metadata": {},
   "outputs": [],
   "source": []
  }
 ],
 "metadata": {
  "kernelspec": {
   "display_name": "Python 3 (ipykernel)",
   "language": "python",
   "name": "python3"
  },
  "language_info": {
   "codemirror_mode": {
    "name": "ipython",
    "version": 3
   },
   "file_extension": ".py",
   "mimetype": "text/x-python",
   "name": "python",
   "nbconvert_exporter": "python",
   "pygments_lexer": "ipython3",
   "version": "3.8.3"
  }
 },
 "nbformat": 4,
 "nbformat_minor": 5
}
