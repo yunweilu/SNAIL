{
 "cells": [
  {
   "cell_type": "code",
   "execution_count": 452,
   "id": "d637951c",
   "metadata": {},
   "outputs": [],
   "source": [
    "from typing import Any, Dict, List, Optional, Tuple, Union\n",
    "import autograd.numpy as np\n",
    "\n",
    "from numpy import ndarray\n",
    "\n",
    "import scipy as sp\n",
    "import autograd as ad\n",
    "class SNAIL():\n",
    "    def __init__(\n",
    "        self,\n",
    "        EJ:float,\n",
    "        EC: float,\n",
    "        beta:float,\n",
    "        ng: float,\n",
    "        ncut: int,\n",
    "        flux:float,\n",
    "        N:int,\n",
    "        truncated_dim:int = 6\n",
    "    ) -> None:\n",
    "        self.EJ = EJ\n",
    "        self.EC = EC\n",
    "        self.beta = beta\n",
    "        self.ng = ng\n",
    "        self.ncut = ncut\n",
    "        self.flux = flux\n",
    "        self.truncated_dim = truncated_dim\n",
    "        self.N = N\n",
    "        self.phi_ex = 2 * np.pi * flux\n",
    "        self.quantities()\n",
    "        \n",
    "    @staticmethod\n",
    "    def default_params() -> Dict[str, Any]:\n",
    "        pass\n",
    "    \n",
    "    def hilbertdim(self) -> int:\n",
    "        \"\"\"Returns Hilbert space dimension\"\"\"\n",
    "        return 2 * self.ncut + 1\n",
    "    \n",
    "    def _hamiltonian_diagonal(self) -> ndarray:\n",
    "        dimension = self.hilbertdim()\n",
    "        return 4.0 * self.EC * ((np.arange(dimension) - self.ncut)/self.N - self.ng) ** 2\n",
    "    \n",
    "    def _hamiltonian_offdiagonal(self) -> ndarray:\n",
    "        dimension = self.hilbertdim()\n",
    "        return np.full(shape=(dimension - 1,), fill_value=-self.N * self.EJ / 2.0), np.full(shape=(dimension - 3,), fill_value=-self.beta * np.exp(1j*self.flux) * self.EJ / 2.0)\n",
    "    \n",
    "    def _evals_calc(self, evals_count: int) -> ndarray:\n",
    "        dimension = self.hilbertdim()\n",
    "        banded_matrix = np.zeros((4, dimension), dtype=np.complex128)\n",
    "        banded_matrix[0, :] = self._hamiltonian_diagonal()\n",
    "        banded_matrix[1, 1:],banded_matrix[3, 3:] = self._hamiltonian_offdiagonal()\n",
    "\n",
    "        evals = sp.linalg.eigvals_banded(\n",
    "            banded_matrix,\n",
    "            lower = False,\n",
    "            select=\"i\",\n",
    "            select_range=(0, evals_count - 1),\n",
    "            check_finite=False,\n",
    "        )\n",
    "        return evals\n",
    "    \n",
    "    def hamiltonian(self) -> ndarray:\n",
    "        dimension = self.hilbertdim()\n",
    "        hamiltonian_mat =  np.diag(\n",
    "            [\n",
    "                4.0 * self.EC * ((ind - self.ncut)/N - self.ng) ** 2 +1j*0\n",
    "                for ind in range(dimension)\n",
    "            ]\n",
    "        )\n",
    "        ind = np.arange(dimension - 1)\n",
    "        hamiltonian_mat[ind, ind + 1] = -self.N * self.EJ / 2.0\n",
    "        hamiltonian_mat[ind + 1, ind] = -self.N * self.EJ / 2.0\n",
    "        ind = np.arange(dimension - 3)\n",
    "        hamiltonian_mat[ind, ind + 3] = -self.beta * np.exp(1j*self.flux * 2*np.pi) * self.EJ / 2.0\n",
    "        hamiltonian_mat[ind + 3, ind] = -self.beta * np.exp(-1j*self.flux * 2*np.pi) * self.EJ / 2.0\n",
    "        return hamiltonian_mat\n",
    "    \n",
    "    def _U_s(self,phi): \n",
    "            return (-self.beta*np.cos(phi-self.phi_ex)-3*np.cos((phi)/3))\n",
    "        \n",
    "    def plot_potential(self):\n",
    "        phi = np.linspace(-1.5,1.5,1000)*2*np.pi\n",
    "        plt.plot(phi/2/np.pi,self._U_s(phi))\n",
    "        \n",
    "    def quantities(self):\n",
    "        beta = self.beta\n",
    "        phi_ex = self.phi_ex\n",
    "        EJ = self.EJ\n",
    "        EC = self.EC\n",
    "\n",
    "        phi_min = sp.optimize.minimize(self._U_s,0).x\n",
    "        self.phi_min = phi_min[0]\n",
    "        # potential expansion around minimum\n",
    "        firstd = ad.grad(self._U_s)\n",
    "        secondd = ad.grad(firstd)\n",
    "        thirdd = ad.grad(secondd)\n",
    "        fourd = ad.grad(thirdd)\n",
    "        fived = ad.grad(fourd)\n",
    "        sixd = ad.grad(fived)\n",
    "        sevend = ad.grad(sixd)\n",
    "        eightd = ad.grad(sevend)\n",
    "        c2 = secondd(phi_min[0])\n",
    "        c3 = thirdd(phi_min[0])\n",
    "        c4 = fourd(phi_min[0])\n",
    "        c5 = fived(phi_min[0])\n",
    "        c6 = sixd(phi_min[0])\n",
    "        c7 = sevend(phi_min[0])\n",
    "        c8 = eightd(phi_min[0])\n",
    "        self.bare_omegas = np.sqrt(8*c2*EJ*EC)\n",
    "        self.phi_zpf = np.power(2*EC/EJ/c2,1/4)\n",
    "        self.g2 = EJ*self.phi_zpf**2*c2/2\n",
    "        self.g3 = EJ*self.phi_zpf**3*c3/3/2\n",
    "        self.g4 = EJ*self.phi_zpf**4*c4/4/3/2\n",
    "        self.g5 = EJ*self.phi_zpf**5*c5/5/4/3/2\n",
    "        self.g6 = EJ*self.phi_zpf**6*c6/6/5/4/3/2\n",
    "        self.g7 = EJ*self.phi_zpf**7*c7/7/6/5/4/3/2\n",
    "        self.g8 = EJ*self.phi_zpf**8*c8/8/7/6/5/4/3/2\n",
    "        H,op = self.spectrum_charge()\n",
    "        self.omegas = H[1,1]\n",
    "        self.anh = H[2,2]-2*H[1,1]\n",
    "        \n",
    "    def spectrum_charge(self):\n",
    "        dimension = self.hilbertdim()\n",
    "        H = self.hamiltonian()\n",
    "        energy,U = np.linalg.eigh(H)\n",
    "        U_dag = np.transpose(U.conjugate())\n",
    "        energy = np.real(energy-energy[0]*np.ones(len(energy)))\n",
    "        charge_op = hamiltonian_mat =  np.diag(\n",
    "            [\n",
    "                (ind - self.ncut)/N - self.ng\n",
    "                for ind in range(dimension)\n",
    "            ]\n",
    "        )\n",
    "        charge = U_dag@charge_op@U\n",
    "        H = np.real(U_dag@H@U)\n",
    "        return (H - H[0][0]*np.identity(dimension))[:self.truncated_dim,:self.truncated_dim],charge[:self.truncated_dim,:self.truncated_dim]\n",
    "    \n",
    "class SNAIL_sweep(SNAIL):\n",
    "    def __init__(self, snail_object ):\n",
    "        self.EJ = snail_object.EJ\n",
    "        self.EC = snail_object.EC\n",
    "        self.beta = snail_object.beta\n",
    "        self.ng = snail_object.ng\n",
    "        self.ncut = snail_object.ncut\n",
    "        self.flux = snail_object.flux\n",
    "        self.truncated_dim = snail_object.truncated_dim\n",
    "        self.N = snail_object.N\n",
    "        self.fluxs = np.linspace(0.4,0.5,10)\n",
    "        self.g3s = []\n",
    "        self.g4s = []\n",
    "        self.g5s = []\n",
    "        self.g6s = []\n",
    "        self.g7s = []\n",
    "        self.g8s = []\n",
    "        self.bare_omegass = []\n",
    "        self.omegass = []\n",
    "        self.anhs = []\n",
    "        self.quantities_sweep()\n",
    "        \n",
    "    def quantities_sweep(self):\n",
    "        \n",
    "        for flux in self.fluxs:\n",
    "            snail_back = SNAIL(self.EJ,self.EC,self.beta,self.ng,self.ncut,flux,self.N)\n",
    "            (self.g3s).append(snail_back.g3)\n",
    "            (self.g4s).append(snail_back.g4)\n",
    "            (self.g5s).append(snail_back.g5)\n",
    "            (self.g6s).append(snail_back.g6)\n",
    "            (self.g7s).append(snail_back.g7)\n",
    "            (self.g8s).append(snail_back.g8)\n",
    "            (self.bare_omegass).append(snail_back.bare_omegas)\n",
    "            H,op = snail_back.spectrum_charge()\n",
    "            omegass = H[1,1]\n",
    "            anh = H[2,2]-2*H[1,1]\n",
    "            (self.omegass).append(omegass)\n",
    "            (self.anhs).append(anh)\n",
    "    "
   ]
  },
  {
   "cell_type": "code",
   "execution_count": 453,
   "id": "588210fd",
   "metadata": {},
   "outputs": [],
   "source": [
    "class Cavity():\n",
    "    def __init__(\n",
    "        self,\n",
    "        cavity_freq:float,\n",
    "        g_int:float,\n",
    "        truncated_dim:int = 10\n",
    "    ) -> None:\n",
    "        self.cavity_freq = cavity_freq\n",
    "        self.g_int = g_int\n",
    "        self.truncated_dim = truncated_dim\n",
    "        \n",
    "    def annihilation(self):\n",
    "        return np.diag(np.sqrt(np.arange(1,self.truncated_dim)),1)\n",
    "    \n",
    "    def creation(self):\n",
    "        return np.diag(np.sqrt(np.arange(1,self.truncated_dim)),-1)\n",
    "    \n",
    "    def hamiltonian(self):\n",
    "        return self.cavity_freq*self.creation()@self.annihilation(), self.creation() + self.annihilation()"
   ]
  },
  {
   "cell_type": "code",
   "execution_count": 606,
   "id": "7c93687f",
   "metadata": {},
   "outputs": [],
   "source": [
    "class SNAILC(SNAIL):\n",
    "    def __init__(self,\n",
    "        snail_object,\n",
    "        cavity_object,\n",
    "        truncated_dim = 100\n",
    "    ) -> None:\n",
    "        self.snail = snail_object\n",
    "        self.cavity = cavity_object\n",
    "        self.hamiltonian()\n",
    "        self.truncated_dim = truncated_dim\n",
    "    \n",
    "\n",
    "    def hamiltonian(self):\n",
    "        snail = self.snail\n",
    "        cavity = self.cavity\n",
    "        sdim = snail.truncated_dim\n",
    "        cdim = cavity.truncated_dim\n",
    "        Hs, charge_op = snail.spectrum_charge()\n",
    "        \n",
    "        Hc, Vc = cavity.hamiltonian()\n",
    "        Ic = np.identity(cdim)\n",
    "        Is = np.identity(sdim)\n",
    "        Hs = np.kron(Hs,Ic)\n",
    "        Hc = np.kron(Is,Hc)\n",
    "        self.charge_op = np.kron(charge_op,Ic)\n",
    "        H_int = cavity.g_int*np.kron(charge_op,Vc)*2*((2*snail.EC/snail.EJ)**0.25)\n",
    "        c2 = snail.bare_omegas**2/8/snail.EC/snail.EJ\n",
    "        self.g_intr = cavity.g_int*2*((2*snail.EC/snail.EJ/c2)**0.25)\n",
    "        H = Hs + Hc + H_int\n",
    "        return H\n",
    "    \n",
    "    def parameters(self):\n",
    "        H = self.hamiltonian()\n",
    "        snail = self.snail\n",
    "        cavity = self.cavity\n",
    "        energy,U = np.linalg.eigh(H)\n",
    "        U_dag = np.transpose(U.conjugate())\n",
    "     \n",
    "        self.dressed_charge = U_dag@self.charge_op@U\n",
    "        self.dressed_charge = self.dressed_charge[:self.truncated_dim,:self.truncated_dim]\n",
    "        self.dressed_H = U_dag@H@U\n",
    "        self.dressed_H = (self.dressed_H - self.dressed_H[0][0]*np.identity(len(self.dressed_H)))\n",
    "        self.dressed_H = self.dressed_H[:self.truncated_dim,:self.truncated_dim]\n",
    "        \n",
    "        energy = np.real(energy-energy[0]*np.ones(len(energy)))\n",
    "        index = np.argmin(np.abs(energy-cavity.cavity_freq*np.ones(len(energy))))\n",
    "        omega_cp = energy[index]\n",
    "        \n",
    "        index = np.argmin(np.abs(energy-snail.omegas*np.ones(len(energy))))\n",
    "        omega_sp = energy[index]\n",
    "        index = np.argmin(np.abs(energy-2*cavity.cavity_freq*np.ones(len(energy))))\n",
    "        selfkerr = energy[index] - 2*omega_cp\n",
    "        \n",
    "        index = np.argmin(np.abs(energy-cavity.cavity_freq*np.ones(len(energy))-snail.omegas))\n",
    "        starkshift = energy[index] - cavity.cavity_freq - omega_sp\n",
    "        \n",
    "        index = np.argmin(np.abs(energy-2*cavity.cavity_freq*np.ones(len(energy))-snail.omegas))\n",
    "        sc_crosskerr = energy[index]  - 2*cavity.cavity_freq - omega_sp - 2*starkshift\n",
    "        \n",
    "        return omega_cp, starkshift, selfkerr, sc_crosskerr\n",
    "    \n",
    "class SNAILC_sweep(SNAILC):\n",
    "    def __init__(self, snailc_object,  ):\n",
    "        self.fluxs = np.linspace(0.4,0.5,10)\n",
    "        self.snail = snailc_object.snail\n",
    "        self.cavity = snailc_object.cavity   \n",
    "        self.selfkers = []\n",
    "        self.starkshifts = []\n",
    "        self.sc_crosskerrs = []\n",
    "        self.omegac = []\n",
    "        self.g_ints = []\n",
    "        self.apps = []\n",
    "        \n",
    "    def quantities_sweep(self):\n",
    "        cavity = self.cavity\n",
    "        snail = self.snail\n",
    "        for flux in self.fluxs:\n",
    "            snail_back = SNAIL(snail.EJ,snail.EC,snail.beta,snail.ng,snail.ncut,flux,snail.N,snail.truncated_dim)\n",
    "            snailc_back = SNAILC(snail_back, self.cavity)\n",
    "            omega_c, starkshift, selfkerr, sc_crosskerr = snailc_back.parameters()\n",
    "            self.omegac.append(omega_c)\n",
    "            self.starkshifts.append(starkshift)\n",
    "            self.selfkers.append(selfkerr)\n",
    "            self.sc_crosskerrs.append(sc_crosskerr)\n",
    "            self.g_ints.append(snailc_back.g_intr)\n",
    "            self.apps.append(cavity.cavity_freq+ snailc_back.g_intr**2/(cavity.cavity_freq - snail_back.bare_omegas)) \n",
    "        return self.omegac, self.starkshifts, self.selfkers, self.sc_crosskerrs, self.apps"
   ]
  },
  {
   "cell_type": "code",
   "execution_count": 653,
   "id": "4731bc12",
   "metadata": {},
   "outputs": [],
   "source": [
    "class SNAILCC(SNAIL):\n",
    "    def __init__(self,\n",
    "        snail_object,\n",
    "        cavity1,\n",
    "        cavity2,\n",
    "    ) -> None:\n",
    "        self.snail = snail_object\n",
    "        self.cavity1 = cavity1\n",
    "        self.cavity2 = cavity2\n",
    "        self.snailc1 = SNAILC(snail_object, cavity1)\n",
    "        self.snailc2 = SNAILC(snail_object, cavity2)\n",
    "        \n",
    "    def hamiltonian(self):\n",
    "        snail = self.snail\n",
    "        self.snailc1_paras = self.snailc1.parameters()\n",
    "        self.snailc2_paras = self.snailc2.parameters()\n",
    "        snailc1 = self.snailc1\n",
    "        cavity2 = self.cavity2\n",
    "        scdim = snailc1.truncated_dim\n",
    "        c2dim = cavity2.truncated_dim\n",
    "        Hsc = snailc1.dressed_H\n",
    "        dressed_charge = snailc1.dressed_charge\n",
    "        \n",
    "        Hc, Vc = cavity2.hamiltonian()\n",
    "        Ic = np.identity(c2dim)\n",
    "        Isc = np.identity(scdim)\n",
    "        Hsc = np.kron(Hsc,Ic)\n",
    "        Hc = np.kron(Isc,Hc)\n",
    "        H_int = cavity2.g_int*np.kron(dressed_charge,Vc)*2*((2*snail.EC/snail.EJ)**0.25)\n",
    "        c2 = snail.bare_omegas**2/8/snail.EC/snail.EJ\n",
    "        self.g_intr = cavity2.g_int*2*((2*snail.EC/snail.EJ/c2)**0.25)\n",
    "        H = Hsc + Hc + H_int\n",
    "        return H\n",
    "    \n",
    "    def parameters(self):\n",
    "        cavity1 = self.cavity1\n",
    "        cavity2 = self.cavity2\n",
    "        H = self.hamiltonian()\n",
    "        energy,dressed_states = np.linalg.eigh(H)\n",
    "        energy = np.real(energy-energy[0]*np.ones(len(energy)))\n",
    "        \n",
    "        index = np.argmin(np.abs(energy-cavity1.cavity_freq*np.ones(len(energy))))\n",
    "        omega_cp1 = energy[index]\n",
    "        \n",
    "        index = np.argmin(np.abs(energy-cavity2.cavity_freq*np.ones(len(energy))))\n",
    "        omega_cp2 = energy[index]\n",
    "        \n",
    "        index = np.argmin(np.abs(energy-omega_cp2-omega_cp1))\n",
    "        cross_kerr = energy[index] - omega_cp1 - omega_cp2\n",
    "        return cross_kerr,self.snailc1_paras,self.snailc2_paras\n",
    "    \n",
    "class SNAILCC_sweep(SNAILCC):\n",
    "    def __init__(self, snailcc_object,  ):\n",
    "        self.fluxs = np.linspace(0.4,0.5,10)\n",
    "        self.snail = snailcc_object.snail\n",
    "        self.cavity1 = snailcc_object.cavity1\n",
    "        self.cavity2 = snailcc_object.cavity2\n",
    "        \n",
    "        self.crosskerr = []\n",
    "        \n",
    "        self.selfkers1 = []\n",
    "        self.starkshifts1 = []\n",
    "        self.sc_crosskerrs1 = []\n",
    "        self.omegac1 = []\n",
    "        self.g_ints1 = []\n",
    "        self.apps1 = []\n",
    "        \n",
    "        self.selfkers2 = []\n",
    "        self.starkshifts2 = []\n",
    "        self.sc_crosskerrs2 = []\n",
    "        self.omegac2 = []\n",
    "        self.g_ints2 = []\n",
    "        self.apps2 = []\n",
    "        \n",
    "    def quantities_sweep(self):\n",
    "        snail = self.snail\n",
    "        \n",
    "        cavity1 = self.cavity1\n",
    "        cavity2 = self.cavity2\n",
    "        for flux in self.fluxs:\n",
    "            snail_back = SNAIL(snail.EJ,snail.EC,snail.beta,snail.ng,snail.ncut,flux,snail.N,snail.truncated_dim)\n",
    "            snailcc_back = SNAILCC(snail_back, cavity1, cavity2)\n",
    "            snailc1 = snailcc_back.snailc1\n",
    "            snailc2 = snailcc_back.snailc2\n",
    "            cross_kerr, snailc1_paras, snailc2_paras = snailcc_back.parameters()\n",
    "            self.crosskerr.append(cross_kerr)\n",
    "            \n",
    "            self.omegac1.append(snailc1_paras[0])\n",
    "            self.starkshifts1.append(snailc1_paras[1])\n",
    "            self.selfkers1.append(snailc1_paras[2])\n",
    "            self.sc_crosskerrs1.append(snailc1_paras[3])\n",
    "            self.g_ints1.append(snailc1.g_intr)\n",
    "            self.apps1.append(cavity1.cavity_freq + snailc1.g_intr**2/(cavity1.cavity_freq - snail_back.bare_omegas)) \n",
    "            snailc1_paras = [self.omegac1, self.starkshifts1, self.selfkers1, self.sc_crosskerrs1, self.g_ints1, self.apps1]\n",
    "            \n",
    "            self.omegac2.append(snailc2_paras[0])\n",
    "            self.starkshifts2.append(snailc2_paras[1])\n",
    "            self.selfkers2.append(snailc2_paras[2])\n",
    "            self.sc_crosskerrs2.append(snailc2_paras[3])\n",
    "            self.g_ints2.append(snailc2.g_intr)\n",
    "            self.apps2.append(cavity2.cavity_freq + snailc2.g_intr**2/(cavity2.cavity_freq - snail_back.bare_omegas))\n",
    "            snailc2_paras = [self.omegac2, self.starkshifts2, self.selfkers2, self.sc_crosskerrs2, self.g_ints2, self.apps2]\n",
    "        return self.crosskerr, snailc1_paras, snailc2_paras"
   ]
  },
  {
   "cell_type": "code",
   "execution_count": 654,
   "id": "3e54054e",
   "metadata": {},
   "outputs": [],
   "source": [
    "from matplotlib import pyplot as plt"
   ]
  },
  {
   "cell_type": "code",
   "execution_count": 655,
   "id": "6497bdfc",
   "metadata": {},
   "outputs": [],
   "source": [
    "EJ = 100*2*np.pi/3\n",
    "EC = 0.3*2*np.pi*3\n",
    "beta = 0.31\n",
    "ng = 0\n",
    "ncut = 300\n",
    "flux = 0.48\n",
    "N = 3\n",
    "dims = 30\n",
    "\n",
    "# truncated_dim:int = 6\n",
    "snail = SNAIL(EJ,EC,beta,ng,ncut,flux,N,dims)\n",
    "\n",
    "omega_c1 = 7*2*np.pi\n",
    "g_int1 = 0.15*2*np.pi\n",
    "dimc1 = 10\n",
    "cavity1 = Cavity(omega_c1,g_int1,dimc1)\n",
    "\n",
    "omega_c2 = 3*2*np.pi\n",
    "g_int2 = 0.15*2*np.pi\n",
    "dimc2 = 10\n",
    "cavity2 = Cavity(omega_c2,g_int2,dimc2)\n",
    "\n",
    "snailcc = SNAILCC(snail,cavity1,cavity2)\n",
    "snailcc_sweep = SNAILCC_sweep(snailcc)"
   ]
  },
  {
   "cell_type": "code",
   "execution_count": 656,
   "id": "9c5c2b03",
   "metadata": {},
   "outputs": [],
   "source": [
    "crosskerr,snailc1_paras,snailc2_paras = snailcc_sweep.quantities_sweep()"
   ]
  },
  {
   "cell_type": "code",
   "execution_count": 657,
   "id": "7ae76412",
   "metadata": {},
   "outputs": [
    {
     "data": {
      "text/plain": [
       "[18.828049112765125,\n",
       " 18.82767257165699,\n",
       " 18.827189016880816,\n",
       " 18.826559698282466,\n",
       " 18.825736624256358,\n",
       " 18.82467440457797,\n",
       " 18.823369994831086,\n",
       " 18.82194831755051,\n",
       " 18.82075480099032,\n",
       " 18.820274106510155]"
      ]
     },
     "execution_count": 657,
     "metadata": {},
     "output_type": "execute_result"
    }
   ],
   "source": [
    "snailc2_paras[0]"
   ]
  },
  {
   "cell_type": "code",
   "execution_count": 658,
   "id": "82ebf9f2",
   "metadata": {},
   "outputs": [],
   "source": [
    "omega_cs1,starkshifts1,selfkerrs1,sc_crosskerrs1,g_ints1,apps1 = snailc1_paras\n",
    "omega_cs2,starkshifts2,selfkerrs2,sc_crosskerrs2,g_ints2,apps2 = snailc2_paras"
   ]
  },
  {
   "cell_type": "code",
   "execution_count": 659,
   "id": "5e71403b",
   "metadata": {},
   "outputs": [
    {
     "data": {
      "text/plain": [
       "[<matplotlib.lines.Line2D at 0x7fe063ee6fa0>]"
      ]
     },
     "execution_count": 659,
     "metadata": {},
     "output_type": "execute_result"
    },
    {
     "data": {
      "image/png": "[encoded data removed]",
      "text/plain": [
       "<Figure size 432x288 with 1 Axes>"
      ]
     },
     "metadata": {
      "needs_background": "light"
     },
     "output_type": "display_data"
    }
   ],
   "source": [
    "# plt.plot(snailc_sweep.fluxs[0:], (np.array(apps)/2/np.pi)[0:],label = 'app')\n",
    "plt.plot(snailc_sweep.fluxs[0:],(np.array (omega_cs1)/2/np.pi)[0:],label = 'exact')"
   ]
  },
  {
   "cell_type": "code",
   "execution_count": 660,
   "id": "5e35b399",
   "metadata": {},
   "outputs": [
    {
     "data": {
      "text/plain": [
       "[<matplotlib.lines.Line2D at 0x7fe062148370>]"
      ]
     },
     "execution_count": 660,
     "metadata": {},
     "output_type": "execute_result"
    },
    {
     "data": {
      "image/png": "[encoded data removed]",
      "text/plain": [
       "<Figure size 432x288 with 1 Axes>"
      ]
     },
     "metadata": {
      "needs_background": "light"
     },
     "output_type": "display_data"
    }
   ],
   "source": [
    "# plt.plot(snailc_sweep.fluxs[0:], (np.array(apps)/2/np.pi)[0:],label = 'app')\n",
    "plt.plot(snailc_sweep.fluxs[0:],(np.array (omega_cs2)/2/np.pi)[0:],label = 'exact')"
   ]
  },
  {
   "cell_type": "code",
   "execution_count": 673,
   "id": "3db76568",
   "metadata": {},
   "outputs": [
    {
     "data": {
      "text/plain": [
       "(-1e-06, 1e-06)"
      ]
     },
     "execution_count": 673,
     "metadata": {},
     "output_type": "execute_result"
    },
    {
     "data": {
      "image/png": "[encoded data removed]",
      "text/plain": [
       "<Figure size 432x288 with 1 Axes>"
      ]
     },
     "metadata": {
      "needs_background": "light"
     },
     "output_type": "display_data"
    }
   ],
   "source": [
    "plt.plot(snailc_sweep.fluxs, np.array(crosskerr)/2/np.pi)\n",
    "plt.ylim(-1e-6,1e-6)"
   ]
  },
  {
   "cell_type": "code",
   "execution_count": 664,
   "id": "420da086",
   "metadata": {},
   "outputs": [
    {
     "data": {
      "text/plain": [
       "(-1e-05, 1e-05)"
      ]
     },
     "execution_count": 664,
     "metadata": {},
     "output_type": "execute_result"
    },
    {
     "data": {
      "image/png": "[encoded data removed]",
      "text/plain": [
       "<Figure size 432x288 with 1 Axes>"
      ]
     },
     "metadata": {
      "needs_background": "light"
     },
     "output_type": "display_data"
    }
   ],
   "source": [
    "plt.plot(snailc_sweep.fluxs, np.array(selfkerrs1)/2/np.pi)\n",
    "plt.plot(snailc_sweep.fluxs, np.array(selfkerrs2)/2/np.pi)\n",
    "plt.ylim(-1e-5,1e-5)"
   ]
  },
  {
   "cell_type": "code",
   "execution_count": 670,
   "id": "3e53f016",
   "metadata": {},
   "outputs": [
    {
     "data": {
      "text/plain": [
       "(-0.001, 0.001)"
      ]
     },
     "execution_count": 670,
     "metadata": {},
     "output_type": "execute_result"
    },
    {
     "data": {
      "image/png": "[encoded data removed]",
      "text/plain": [
       "<Figure size 432x288 with 1 Axes>"
      ]
     },
     "metadata": {
      "needs_background": "light"
     },
     "output_type": "display_data"
    }
   ],
   "source": [
    "plt.plot(snailc_sweep.fluxs, np.array(sc_crosskerrs1)/2/np.pi)\n",
    "plt.plot(snailc_sweep.fluxs, np.array(sc_crosskerrs2)/2/np.pi)\n",
    "plt.ylim(-1e-3,1e-3)"
   ]
  },
  {
   "cell_type": "code",
   "execution_count": 509,
   "id": "2645f98e",
   "metadata": {},
   "outputs": [],
   "source": [
    "snail_sweep = SNAIL_sweep(snail1)"
   ]
  },
  {
   "cell_type": "code",
   "execution_count": 510,
   "id": "37d11a8f",
   "metadata": {},
   "outputs": [
    {
     "data": {
      "text/plain": [
       "[<matplotlib.lines.Line2D at 0x7fe066503970>]"
      ]
     },
     "execution_count": 510,
     "metadata": {},
     "output_type": "execute_result"
    },
    {
     "data": {
      "image/png": "[encoded data removed]",
      "text/plain": [
       "<Figure size 432x288 with 1 Axes>"
      ]
     },
     "metadata": {
      "needs_background": "light"
     },
     "output_type": "display_data"
    }
   ],
   "source": [
    "\n",
    "plt.plot(snail_sweep.fluxs, -np.array(snail_sweep.g3s)/2/np.pi )\n",
    "plt.plot(snail_sweep.fluxs, 12*np.array(snail_sweep.g4s)/2/np.pi )\n",
    "plt.xlim(0.4,0.5)\n",
    "# plt.plot(snail_sweep.fluxs, -60*np.array(snail_sweep.g5s)/2/np.pi )\n",
    "plt.plot(snail_sweep.fluxs, np.array(snail_sweep.anhs)/2/np.pi )\n",
    "plt.plot(snail_sweep.fluxs, 12*(np.array(snail_sweep.g4s)-5*np.array(snail_sweep.g3s)/np.array(snail_sweep.bare_omegass))/2/np.pi )"
   ]
  },
  {
   "cell_type": "code",
   "execution_count": 511,
   "id": "1ff678bf",
   "metadata": {
    "scrolled": true
   },
   "outputs": [
    {
     "data": {
      "text/plain": [
       "[<matplotlib.lines.Line2D at 0x7fe0665dab50>]"
      ]
     },
     "execution_count": 511,
     "metadata": {},
     "output_type": "execute_result"
    },
    {
     "data": {
      "image/png": "[encoded data removed]",
      "text/plain": [
       "<Figure size 432x288 with 1 Axes>"
      ]
     },
     "metadata": {
      "needs_background": "light"
     },
     "output_type": "display_data"
    }
   ],
   "source": [
    "plt.plot(snail_sweep.fluxs, np.array(snail_sweep.omegass)/2/np.pi )"
   ]
  }
 ],
 "metadata": {
  "kernelspec": {
   "display_name": "Python 3 (ipykernel)",
   "language": "python",
   "name": "python3"
  },
  "language_info": {
   "codemirror_mode": {
    "name": "ipython",
    "version": 3
   },
   "file_extension": ".py",
   "mimetype": "text/x-python",
   "name": "python",
   "nbconvert_exporter": "python",
   "pygments_lexer": "ipython3",
   "version": "3.8.3"
  }
 },
 "nbformat": 4,
 "nbformat_minor": 5
}
