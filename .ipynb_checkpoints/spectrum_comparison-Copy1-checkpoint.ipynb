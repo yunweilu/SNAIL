{
 "cells": [
  {
   "cell_type": "code",
   "execution_count": 97,
   "id": "fe74d74a",
   "metadata": {},
   "outputs": [],
   "source": [
    "import numpy as np\n",
    "import matplotlib.pyplot as plt\n",
    "import scipy as sci\n",
    "import autograd as ad\n",
    "import autograd.numpy as np\n",
    "from cosmatrix import cosm,expm_pade\n",
    "expm = expm_pade\n",
    "from autograd.extend import primitive, defvjp\n",
    "def annihilation(dim):\n",
    "    return np.diag(np.sqrt(np.arange(1,dim)),1)\n",
    "def creation(dim):\n",
    "    return np.diag(np.sqrt(np.arange(1,dim)),-1)\n",
    "def coupled_spectrum(phi_ex,beta,N,Ej,Ec,omega_c,g_intfa):\n",
    "    @primitive\n",
    "    def Us_min(phi_ex):\n",
    "        def U_s(phi): \n",
    "            return (-beta*np.cos(phi-phi_ex)-N*np.cos((phi)/N))\n",
    "        phi_min = sci.optimize.minimize(U_s,0).x\n",
    "        return phi_min\n",
    "    \n",
    "    def phi_minde(ans, phi_ex):\n",
    "        def phi_minde_vjp(g):\n",
    "            c2 = beta*np.cos(ans - phi_ex) + 1/N*np.cos(ans/N)\n",
    "            return g*beta*np.cos(ans - phi_ex)/c2\n",
    "        return phi_minde_vjp\n",
    "    defvjp(Us_min, phi_minde)\n",
    "    \n",
    "    phi_min = Us_min(phi_ex)\n",
    "    # potential expansion around minimum\n",
    "    c2 = beta*np.cos(phi_min - phi_ex) + 1/N*np.cos(phi_min/N)\n",
    "    omega_s = np.sqrt(8*c2*Ej*Ec)\n",
    "    phi_zpf = np.power(2*Ec/(Ej*c2),1/4)\n",
    "    g2 = Ej*phi_zpf**2*c2/2\n",
    "    sdim = 10\n",
    "    s = annihilation(sdim)\n",
    "    sd = creation(sdim)\n",
    "    x2 = np.matmul(s+sd,s+sd)\n",
    "    Hs = (omega_s * np.matmul(sd,s)\n",
    "        - Ej*(beta*cosm(phi_zpf*(s+sd)+(phi_min-phi_ex)*np.identity(sdim))\n",
    "        + N*cosm((phi_zpf*(s+sd)+phi_min*np.identity(sdim))/N))- g2*x2)\n",
    "    \n",
    "    cdim = 10\n",
    "    c = annihilation(cdim)\n",
    "    cd = creation(cdim)\n",
    "    Hc = omega_c*np.matmul(cd,c)\n",
    "    Ic = np.identity(cdim)\n",
    "    Is = np.identity(sdim)\n",
    "    Hs = np.kron(Hs,Ic)\n",
    "    Hc = np.kron(Is,Hc)\n",
    "    g_int =  g_intfa*2*np.pi*np.power((2*Ec)/Ej,1/4)/phi_zpf\n",
    "    H_int = g_int*np.kron(s+sd,cd+c)\n",
    "#     H_int = g_int*(np.kron(sd,c)+np.kron(s,cd))\n",
    "    H = Hs + Hc + H_int\n",
    "    energy,dressed_states = np.linalg.eigh(H)\n",
    "    energy = energy-energy[0]*np.ones(len(energy))\n",
    "    exact = energy[1]/2/np.pi\n",
    "    return exact, omega_s\n",
    "\n",
    "def coupled_spectrumapp(phi_ex,beta,N,Ej,Ec,omega_c,g_intfa):\n",
    "    @primitive\n",
    "    def Us_min(phi_ex):\n",
    "        def U_s(phi): \n",
    "            return (-beta*np.cos(phi-phi_ex)-N*np.cos((phi)/N))\n",
    "        phi_min = sci.optimize.minimize(U_s,0).x\n",
    "        return phi_min\n",
    "    \n",
    "    def phi_minde(ans, phi_ex):\n",
    "        def phi_minde_vjp(g):\n",
    "            c2 = beta*np.cos(ans - phi_ex) + 1/N*np.cos(ans/N)\n",
    "            return g*beta*np.cos(ans - phi_ex)/c2\n",
    "        return phi_minde_vjp\n",
    "    defvjp(Us_min, phi_minde)\n",
    "    \n",
    "    phi_min = Us_min(phi_ex)\n",
    "    # potential expansion around minimum\n",
    "    c2 = beta*np.cos(phi_min - phi_ex) + 1/N*np.cos(phi_min/N)\n",
    "    omega_s = np.sqrt(8*c2*Ej*Ec)\n",
    "    phi_zpf = np.power(2*Ec/(Ej*c2),1/4)\n",
    "    g2 = Ej*phi_zpf**2*c2/2\n",
    "    sdim = 10\n",
    "    s = annihilation(sdim)\n",
    "    sd = creation(sdim)\n",
    "    x2 = np.matmul(s+sd,s+sd)\n",
    "    Hs = (omega_s * np.matmul(sd,s)\n",
    "        - Ej*(beta*cosm(phi_zpf*(s+sd)+(phi_min-phi_ex)*np.identity(sdim))\n",
    "        + N*cosm((phi_zpf*(s+sd)+phi_min*np.identity(sdim))/N))- g2*x2)\n",
    "    \n",
    "    energy,dressed_states = np.linalg.eigh(Hs)\n",
    "    energy = energy-energy[0]*np.ones(len(energy))\n",
    "    omega_sp = energy[1]\n",
    "    c3 = (N**2-1)/N**2*np.sin(phi_min/N)\n",
    "    g3 = Ej*phi_zpf**3*c3/3/2\n",
    "    c4 = -beta*np.cos(phi_min-phi_ex) -1/N**3*np.cos(phi_min/N)\n",
    "    g4 = Ej*phi_zpf**4*c4/4/3/2\n",
    "#     omega_sp = omega_s +12*(g4-5*g3/omega_s**2-24*g4**2/omega_s)\n",
    "    g_int =  0.1*2*np.pi*np.power((2*Ec)/Ej,1/4)/phi_zpf\n",
    "    deltap = omega_c - omega_sp\n",
    "    addp = omega_c + omega_sp\n",
    "    delta = omega_c - omega_s\n",
    "    add = omega_c + omega_s\n",
    "    x2 = np.matmul(s+sd,s+sd)\n",
    "    x3 = np.matmul(s+sd,x2)\n",
    "    x4 = np.matmul(s+sd,x3)\n",
    "    Hs = omega_sp * np.matmul(sd,s) \n",
    "    cdim = 10\n",
    "    c = annihilation(cdim)\n",
    "    cd = creation(cdim)\n",
    "    Hc = omega_c*np.matmul(cd,c)\n",
    "    Ic = np.identity(cdim)\n",
    "    Is = np.identity(sdim)\n",
    "    Hs = np.kron(Hs,Ic)\n",
    "    Hc = np.kron(Is,Hc)\n",
    "    g_int =  g_intfa*2*np.pi*np.power((2*Ec)/Ej,1/4)/phi_zpf\n",
    "    p1 = - 6*g4*s +2*g3*s@s  - 6*g4*sd@s@s+g4*s@s@s \n",
    "    app2 = s+sd+1/omega_s*(-12*g3*sd@s+ p1 + np.transpose(p1.conjugate()))\n",
    "    dressed_states_dagger = np.conjugate(dressed_states.transpose())\n",
    "#     s_int = dressed_states_dagger@(s+sd)@dressed_states\n",
    "    D = int_swt(g3,g4,omega_s,s,sd,1)[1]\n",
    "    U = expm(-D)\n",
    "    int_s = np.transpose(U.conjugate())@(s+sd)@U\n",
    "    H_int = g_int*np.kron(app2,cd+c)\n",
    "    H = Hs + Hc + H_int\n",
    "    energy,dressed_states = np.linalg.eigh(H)\n",
    "    energy = energy-energy[0]*np.ones(len(energy))\n",
    "    exact = energy[1]/2/np.pi\n",
    "#     +20*(g3/omega_s)**2+300*(g4/omega_s)**2\n",
    "    return (omega_c + g_int**2/deltap)/2/np.pi,(omega_c + g_int**2/delta - g_int**2/add)/2/np.pi,(omega_c + (g_int)**2/deltap - (g_int)**2/addp)/2/np.pi,g4/2/np.pi,g3/2/np.pi,omega_sp/2/np.pi, exact,(1-6*g4/omega_s)\n"
   ]
  },
  {
   "cell_type": "code",
   "execution_count": 98,
   "id": "05a9c483",
   "metadata": {},
   "outputs": [],
   "source": [
    "from qutip import qload\n",
    "from sympy.physics.secondquant import *\n",
    "from sympy import symbols\n",
    "import sympy as sp\n",
    "from cosmatrix import expm_pade\n",
    "def int_swt(g3,g4,omegas,s,sd,order):    \n",
    "    s1,s2,s3 = qload('./symbolic/swt')\n",
    "    omegasp = symbols('omega', real=True)\n",
    "    g3sp = symbols('g3', real=True)\n",
    "    g4sp = symbols('g4', real=True)\n",
    "    omega = symbols('omega', real=True)\n",
    "    kappa = symbols('kappa', real=True)\n",
    "    ind_a = symbols('a')\n",
    "    a = B(ind_a)\n",
    "    ad = Bd(ind_a)\n",
    "    def replace_scalars_with_valued_matrices(expr, matrix_values):\n",
    "        \"\"\"\n",
    "        Replace scalar symbols and scalar operations in a SymPy scalar expression with valued matrices.\n",
    "\n",
    "        Args:\n",
    "        expr (sympy.Expr): The input scalar expression.\n",
    "        matrix_values (dict): A dictionary mapping scalar symbols to valued matrices.\n",
    "\n",
    "        Returns:\n",
    "        sympy.Expr: The modified expression with valued matrices.\n",
    "        \"\"\"\n",
    "\n",
    "        def map_operations(node):\n",
    "            if (isinstance(node, AnnihilateBoson) or isinstance(node, CreateBoson) )and node in matrix_values:\n",
    "                return matrix_values[node]\n",
    "            elif isinstance(node, sp.Add):\n",
    "                return sp.Add(*[map_operations(arg) for arg in node.args])\n",
    "            elif isinstance(node, sp.Mul):\n",
    "                return sp.Mul(*[map_operations(arg) for arg in node.args])\n",
    "            elif isinstance(node, sp.Pow):\n",
    "                base, exponent = map_operations(node.base), map_operations(node.exp)\n",
    "                return base**exponent\n",
    "            else:\n",
    "                return node\n",
    "\n",
    "        return map_operations(expr)\n",
    "    def smatrix(expr):\n",
    "        expr = expr.subs({ g3sp:g3[0],g4sp:g4[0], kappa:1,omegasp:omegas[0]})\n",
    "        sp_s = sp.Matrix(s)\n",
    "        sp_sd = sp.Matrix(sd)\n",
    "        matrix_values = {a: sp_s, ad: sp_sd}\n",
    "        result = replace_scalars_with_valued_matrices(expr, matrix_values)\n",
    "        return np.array(result,np.float64)\n",
    "    if order == 1:\n",
    "        D = smatrix(s1)\n",
    "    if order == 2:\n",
    "        D = smatrix(s1) + smatrix(s2) \n",
    "    if order == 3:\n",
    "        D = smatrix(s1) + smatrix(s2) + smatrix(s3)\n",
    "    app = expm(D)@(s+sd)@expm(-D)\n",
    "    return app,D"
   ]
  },
  {
   "cell_type": "code",
   "execution_count": 99,
   "id": "c4a1b6dc",
   "metadata": {},
   "outputs": [],
   "source": [
    "beta = 0.175\n",
    "omega_c = 1.09039*2*np.pi\n",
    "g_intfa=0.15\n",
    "N = 3\n",
    "Ej = 20*2*np.pi\n",
    "Ec = 0.177*2*np.pi\n",
    "phi_exs = np.linspace(0.0*2*np.pi,0.5*2*np.pi,100)\n",
    "grad = ad.grad(coupled_spectrum)\n",
    "snail_energies = np.zeros(len(phi_exs))\n",
    "snail_energiesapp1 = np.zeros(len(phi_exs))\n",
    "snail_energiesapp2 = np.zeros(len(phi_exs))\n",
    "snail_energiesapp3 = np.zeros(len(phi_exs))\n",
    "dressed_omegas = np.zeros(len(phi_exs))\n",
    "g4s = np.zeros(len(phi_exs))\n",
    "g3s = np.zeros(len(phi_exs))\n",
    "omega_sps = np.zeros(len(phi_exs))\n",
    "Hs34 = np.zeros(len(phi_exs))\n",
    "facs = np.zeros(len(phi_exs))\n",
    "for i in range(len(phi_exs)):\n",
    "    snail_energies[i],dressed_omegas[i] = coupled_spectrum(phi_exs[i],beta,N,Ej,Ec,omega_c,g_intfa)\n",
    "    snail_energiesapp1[i],snail_energiesapp2[i],snail_energiesapp3[i], g4s[i],g3s[i],omega_sps[i],Hs34[i],facs[i]= coupled_spectrumapp(phi_exs[i],beta,N,Ej,Ec,omega_c,g_intfa)"
   ]
  },
  {
   "cell_type": "code",
   "execution_count": 106,
   "id": "645cb9c9",
   "metadata": {},
   "outputs": [
    {
     "data": {
      "text/plain": [
       "<matplotlib.legend.Legend at 0x7fc220c36100>"
      ]
     },
     "execution_count": 106,
     "metadata": {},
     "output_type": "execute_result"
    },
    {
     "data": {
      "image/png": "[encoded data removed]",
      "text/plain": [
       "<Figure size 432x288 with 1 Axes>"
      ]
     },
     "metadata": {
      "needs_background": "light"
     },
     "output_type": "display_data"
    }
   ],
   "source": [
    "plt.plot(phi_exs/2/np.pi,snail_energies-omega_c/2/np.pi*np.ones(100),label = 'exact dressed fock 1 energy')\n",
    "# plt.scatter((phi_exs/2/np.pi)[-13],snail_energies[-14])\n",
    "# plt.plot(phi_exs/2/np.pi,Hs34-omega_c/2/np.pi*np.ones(100), label = '1st order to $s+s^\\dagger$')\n",
    "# plt.plot(phi_exs/2/np.pi,snail_energiesapp2, label = '$g^2/\\Delta - g^2/(\\omega_c+\\omega_s)$')\n",
    "plt.plot(phi_exs/2/np.pi,(snail_energiesapp3-omega_c/2/np.pi*np.ones(100)), label = '$g^2/\\Delta - g^2/(\\omega_c+\\omega_s)$')\n",
    "plt.plot(phi_exs/2/np.pi,(snail_energiesapp3-omega_c/2/np.pi*np.ones(100))*facs**2, label = '$g^{\\'2}/\\Delta^{\\'} - g^{\\'2}/(\\omega_c+\\omega_s^{\\'})$, $g^{\\'}=g*(1-6g_4/ω_s)$')\n",
    "plt.legend()"
   ]
  },
  {
   "cell_type": "code",
   "execution_count": 245,
   "id": "a0f9ea0e",
   "metadata": {},
   "outputs": [],
   "source": [
    "# check paramereters - g/delta\n",
    "# calculate t2 - see improvement\n",
    "# drive - engineer factor "
   ]
  },
  {
   "cell_type": "code",
   "execution_count": 284,
   "id": "769fe1aa",
   "metadata": {},
   "outputs": [
    {
     "data": {
      "text/plain": [
       "[<matplotlib.lines.Line2D at 0x7ff2c9942970>]"
      ]
     },
     "execution_count": 284,
     "metadata": {},
     "output_type": "execute_result"
    },
    {
     "data": {
      "image/png": "[encoded data removed]",
      "text/plain": [
       "<Figure size 432x288 with 1 Axes>"
      ]
     },
     "metadata": {
      "needs_background": "light"
     },
     "output_type": "display_data"
    }
   ],
   "source": [
    "plt.plot(facs)"
   ]
  },
  {
   "cell_type": "code",
   "execution_count": 225,
   "id": "d7aba3f4",
   "metadata": {},
   "outputs": [],
   "source": [
    "def coupled_spectrumapp(phi_ex,beta,N,Ej,Ec,omega_c):\n",
    "    @primitive\n",
    "    def Us_min(phi_ex):\n",
    "        def U_s(phi): \n",
    "            return (-beta*np.cos(phi-phi_ex)-N*np.cos((phi)/N))\n",
    "        phi_min = sci.optimize.minimize(U_s,0).x\n",
    "        return phi_min\n",
    "    \n",
    "    def phi_minde(ans, phi_ex):\n",
    "        def phi_minde_vjp(g):\n",
    "            c2 = beta*np.cos(ans - phi_ex) + 1/N*np.cos(ans/N)\n",
    "            return g*beta*np.cos(ans - phi_ex)/c2\n",
    "        return phi_minde_vjp\n",
    "    defvjp(Us_min, phi_minde)\n",
    "    \n",
    "    phi_min = Us_min(phi_ex)\n",
    "    # potential expansion around minimum\n",
    "    c2 = beta*np.cos(phi_min - phi_ex) + 1/N*np.cos(phi_min/N)\n",
    "    omega_s = np.sqrt(8*c2*Ej*Ec)\n",
    "    phi_zpf = np.power(2*Ec/(Ej*c2),1/4)\n",
    "    g2 = Ej*phi_zpf**2*c2/2\n",
    "    sdim = 10\n",
    "    s = annihilation(sdim)\n",
    "    sd = creation(sdim)\n",
    "    x2 = np.matmul(s+sd,s+sd)\n",
    "    Hs = (omega_s * np.matmul(sd,s)\n",
    "        - Ej*(beta*cosm(phi_zpf*(s+sd)+(phi_min-phi_ex)*np.identity(sdim))\n",
    "        + N*cosm((phi_zpf*(s+sd)+phi_min*np.identity(sdim))/N))- g2*x2)\n",
    "    \n",
    "    energy,dressed_states = np.linalg.eigh(Hs)\n",
    "    energy = energy-energy[0]*np.ones(len(energy))\n",
    "    omega_sp = energy[1]\n",
    "    g_int =  0.1*2*np.pi*np.power((2*Ec)/Ej,1/4)/phi_zpf\n",
    "    deltap = omega_c - omega_sp\n",
    "    addp = omega_c + omega_sp\n",
    "    delta = omega_c - omega_s\n",
    "    add = omega_c + omega_s\n",
    "    c3 = (N**2-1)/N**2*np.sin(phi_min/N)\n",
    "    g3 = Ej*phi_zpf**3*c3/3/2\n",
    "    c4 = -beta*np.cos(phi_min-phi_ex) -1/N**3*np.cos(phi_min/N)\n",
    "    g4 = Ej*phi_zpf**4*c4/4/3/2\n",
    "    x2 = np.matmul(s+sd,s+sd)\n",
    "    x3 = np.matmul(s+sd,x2)\n",
    "    x4 = np.matmul(s+sd,x3)\n",
    "    Hs = omega_sp * np.matmul(sd,s) \n",
    "    cdim = 10\n",
    "    c = annihilation(cdim)\n",
    "    cd = creation(cdim)\n",
    "    Hc = omega_c*np.matmul(cd,c)\n",
    "    Ic = np.identity(cdim)\n",
    "    Is = np.identity(sdim)\n",
    "    Hs = np.kron(Hs,Ic)\n",
    "    Hc = np.kron(Is,Hc)\n",
    "    g_int =  0.1*2*np.pi*np.power((2*Ec)/Ej,1/4)/phi_zpf\n",
    "    dressed_states_dagger = np.conjugate(dressed_states.transpose())\n",
    "#     s_int = dressed_states_dagger@(s+sd)@dressed_states\n",
    "    D = int_swt(g3,g4,omega_s,s,sd,1)[0]\n",
    "#     U = expm(-D)\n",
    "#     int_s = np.transpose(U.conjugate())@(s+sd)@U\n",
    "    H_int = g_int*np.kron(D,cd+c)\n",
    "    H = Hs + Hc + H_int\n",
    "    energy,dressed_states = np.linalg.eigh(H)\n",
    "    energy = energy-energy[0]*np.ones(len(energy))\n",
    "    exact1 = energy[1]/2/np.pi\n",
    "    D = int_swt(g3,g4,omega_s,s,sd,2)[0]\n",
    "#     U = expm(-D)\n",
    "#     int_s = np.transpose(U.conjugate())@(s+sd)@U\n",
    "    H_int = g_int*np.kron(D,cd+c)\n",
    "    H = Hs + Hc + H_int\n",
    "    energy,dressed_states = np.linalg.eigh(H)\n",
    "    energy = energy-energy[0]*np.ones(len(energy))\n",
    "    exact2 = energy[1]/2/np.pi\n",
    "    return exact1,exact2\n"
   ]
  },
  {
   "cell_type": "code",
   "execution_count": 226,
   "id": "6a30a1a4",
   "metadata": {},
   "outputs": [],
   "source": [
    "phi_exs = np.linspace(0.0*2*np.pi,0.5*2*np.pi,100)\n",
    "grad = ad.grad(coupled_spectrum)\n",
    "snail_energies = np.zeros(len(phi_exs))\n",
    "snail_energiesapp1 = np.zeros(len(phi_exs))\n",
    "snail_energiesapp2 = np.zeros(len(phi_exs))\n",
    "snail_energiesapp3 = np.zeros(len(phi_exs))\n",
    "dressed_omegas = np.zeros(len(phi_exs))\n",
    "g4s = np.zeros(len(phi_exs))\n",
    "g3s = np.zeros(len(phi_exs))\n",
    "omega_sps = np.zeros(len(phi_exs))\n",
    "Hs34 = np.zeros(len(phi_exs))\n",
    "for i in range(len(phi_exs)):\n",
    "    snail_energies[i],dressed_omegas[i] = coupled_spectrum(phi_exs[i],beta,N,Ej,Ec,omega_c)\n",
    "    snail_energiesapp1[i],snail_energiesapp2[i]= coupled_spectrumapp(phi_exs[i],beta,N,Ej,Ec,omega_c)"
   ]
  },
  {
   "cell_type": "code",
   "execution_count": 227,
   "id": "86c918a9",
   "metadata": {},
   "outputs": [
    {
     "data": {
      "text/plain": [
       "<matplotlib.legend.Legend at 0x7ff2c6924970>"
      ]
     },
     "execution_count": 227,
     "metadata": {},
     "output_type": "execute_result"
    },
    {
     "data": {
      "image/png": "[encoded data removed]",
      "text/plain": [
       "<Figure size 432x288 with 1 Axes>"
      ]
     },
     "metadata": {
      "needs_background": "light"
     },
     "output_type": "display_data"
    }
   ],
   "source": [
    "plt.plot(phi_exs/2/np.pi,snail_energies,label = 'exact dressed fock 1 energy')\n",
    "plt.plot(phi_exs/2/np.pi,snail_energiesapp1, label = '1st swt to $s+s^\\dagger$')\n",
    "plt.plot(phi_exs/2/np.pi,snail_energiesapp2, label = '2nd swt to $s+s^\\dagger$')\n",
    "\n",
    "plt.legend()"
   ]
  },
  {
   "cell_type": "code",
   "execution_count": null,
   "id": "05d9462c",
   "metadata": {},
   "outputs": [],
   "source": []
  }
 ],
 "metadata": {
  "kernelspec": {
   "display_name": "Python 3 (ipykernel)",
   "language": "python",
   "name": "python3"
  },
  "language_info": {
   "codemirror_mode": {
    "name": "ipython",
    "version": 3
   },
   "file_extension": ".py",
   "mimetype": "text/x-python",
   "name": "python",
   "nbconvert_exporter": "python",
   "pygments_lexer": "ipython3",
   "version": "3.8.3"
  }
 },
 "nbformat": 4,
 "nbformat_minor": 5
}
