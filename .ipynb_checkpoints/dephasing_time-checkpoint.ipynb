{
 "cells": [
  {
   "cell_type": "code",
   "execution_count": 306,
   "id": "66b32a88",
   "metadata": {},
   "outputs": [],
   "source": [
    "import numpy as np\n",
    "import matplotlib.pyplot as plt\n",
    "import scipy as sci\n",
    "import autograd as ad\n",
    "import autograd.numpy as np\n",
    "from cosmatrix import cosm,expm_pade\n",
    "expm = expm_pade\n",
    "from autograd.extend import primitive, defvjp\n",
    "def annihilation(dim):\n",
    "    return np.diag(np.sqrt(np.arange(1,dim)),1)\n",
    "def creation(dim):\n",
    "    return np.diag(np.sqrt(np.arange(1,dim)),-1)\n",
    "def coupled_spectrum(phi_ex,beta,N,Ej,Ec,omega_c,g_intfac):\n",
    "    phi_ex = 2*np.pi*phi_ex\n",
    "    @primitive\n",
    "    def Us_min(phi_ex):\n",
    "        def U_s(phi): \n",
    "            return (-beta*np.cos(phi-phi_ex)-N*np.cos((phi)/N))\n",
    "        phi_min = sci.optimize.minimize(U_s,0).x\n",
    "        return phi_min\n",
    "    \n",
    "    def phi_minde(ans, phi_ex):\n",
    "        def phi_minde_vjp(g):\n",
    "            c2 = beta*np.cos(ans - phi_ex) + 1/N*np.cos(ans/N)\n",
    "            return g*beta*np.cos(ans - phi_ex)/c2\n",
    "        return phi_minde_vjp\n",
    "    defvjp(Us_min, phi_minde)\n",
    "    \n",
    "    phi_min = Us_min(phi_ex)\n",
    "    # potential expansion around minimum\n",
    "    c2 = beta*np.cos(phi_min - phi_ex) + 1/N*np.cos(phi_min/N)\n",
    "    omega_s = np.sqrt(8*c2*Ej*Ec)\n",
    "    phi_zpf = np.power(2*Ec/(Ej*c2),1/4)\n",
    "    g2 = Ej*phi_zpf**2*c2/2\n",
    "    sdim = 10\n",
    "    s = annihilation(sdim)\n",
    "    sd = creation(sdim)\n",
    "    x2 = np.matmul(s+sd,s+sd)\n",
    "    Hs = (omega_s * np.matmul(sd,s)\n",
    "        - Ej*(beta*cosm(phi_zpf*(s+sd)+(phi_min-phi_ex)*np.identity(sdim))\n",
    "        + N*cosm((phi_zpf*(s+sd)+phi_min*np.identity(sdim))/N))- g2*x2)\n",
    "    \n",
    "    cdim = 10\n",
    "    c = annihilation(cdim)\n",
    "    cd = creation(cdim)\n",
    "    Hc = omega_c*np.matmul(cd,c)\n",
    "    Ic = np.identity(cdim)\n",
    "    Is = np.identity(sdim)\n",
    "    Hs = np.kron(Hs,Ic)\n",
    "    Hc = np.kron(Is,Hc)\n",
    "    g_int =  g_intfac*2*np.pi*np.power((2*Ec)/Ej,1/4)/phi_zpf\n",
    "    H_int = g_int*np.kron(s+sd,cd+c)\n",
    "#     H_int = g_int*(np.kron(sd,c)+np.kron(s,cd))\n",
    "    H = Hs + Hc + H_int\n",
    "    energy,dressed_states = np.linalg.eigh(H)\n",
    "    energy = energy-energy[0]*np.ones(len(energy))\n",
    "    exact = energy[1]\n",
    "    return exact\n",
    "Egrad = ad.grad(coupled_spectrum)\n",
    "\n",
    "def T1f(der):\n",
    "    factor = np.sqrt(2*np.abs(np.log(2*np.pi*1*1e-5)))\n",
    "    return 1/(factor*10**-6*der)\n",
    "def Tw(der):\n",
    "    return 3/1.7*1/((der*10**-8)**2*1e9)\n",
    "def os(phi_ex,beta,N,Ej,Ec,omega_c):\n",
    "    phi_ex = 2*np.pi*phi_ex\n",
    "    def Us_min(phi_ex):\n",
    "        def U_s(phi): \n",
    "            return (-beta*np.cos(phi-phi_ex)-N*np.cos((phi)/N))\n",
    "        phi_min = sci.optimize.minimize(U_s,0).x\n",
    "        return phi_min\n",
    "    \n",
    "    def phi_minde(ans, phi_ex):\n",
    "        def phi_minde_vjp(g):\n",
    "            c2 = beta*np.cos(ans - phi_ex) + 1/N*np.cos(ans/N)\n",
    "            return g*beta*np.cos(ans - phi_ex)/c2\n",
    "        return phi_minde_vjp\n",
    "    defvjp(Us_min, phi_minde)\n",
    "    \n",
    "    phi_min = Us_min(phi_ex)\n",
    "    # potential expansion around minimum\n",
    "    c2 = beta*np.cos(phi_min - phi_ex) + 1/N*np.cos(phi_min/N)\n",
    "    omega_s = np.sqrt(8*c2*Ej*Ec)\n",
    "    phi_zpf = np.power(2*Ec/(Ej*c2),1/4)\n",
    "    g2 = Ej*phi_zpf**2*c2/2\n",
    "    sdim = 10\n",
    "    s = annihilation(sdim)\n",
    "    sd = creation(sdim)\n",
    "    x2 = np.matmul(s+sd,s+sd)\n",
    "    Hs = (omega_s * np.matmul(sd,s)\n",
    "        - Ej*(beta*cosm(phi_zpf*(s+sd)+(phi_min-phi_ex)*np.identity(sdim))\n",
    "        + N*cosm((phi_zpf*(s+sd)+phi_min*np.identity(sdim))/N))- g2*x2)\n",
    "    energy,dressed_states = np.linalg.eigh(Hs)\n",
    "    energy = energy-energy[0]*np.ones(len(energy))\n",
    "    omega_ss = energy[1]\n",
    "    return omega_ss\n",
    "def god(phi_ex,beta,N,Ej,Ec,omega_c,g_intfac):\n",
    "    phi_ex = 2*np.pi*phi_ex\n",
    "    def Us_min(phi_ex):\n",
    "        def U_s(phi): \n",
    "            return (-beta*np.cos(phi-phi_ex)-N*np.cos((phi)/N))\n",
    "        phi_min = sci.optimize.minimize(U_s,0).x\n",
    "        return phi_min\n",
    "    \n",
    "    def phi_minde(ans, phi_ex):\n",
    "        def phi_minde_vjp(g):\n",
    "            c2 = beta*np.cos(ans - phi_ex) + 1/N*np.cos(ans/N)\n",
    "            return g*beta*np.cos(ans - phi_ex)/c2\n",
    "        return phi_minde_vjp\n",
    "    defvjp(Us_min, phi_minde)\n",
    "    \n",
    "    phi_min = Us_min(phi_ex)\n",
    "    # potential expansion around minimum\n",
    "    c2 = beta*np.cos(phi_min - phi_ex) + 1/N*np.cos(phi_min/N)\n",
    "    omega_s = np.sqrt(8*c2*Ej*Ec)\n",
    "    phi_zpf = np.power(2*Ec/(Ej*c2),1/4)\n",
    "    g2 = Ej*phi_zpf**2*c2/2\n",
    "    sdim = 10\n",
    "    s = annihilation(sdim)\n",
    "    sd = creation(sdim)\n",
    "    x2 = np.matmul(s+sd,s+sd)\n",
    "    Hs = (omega_s * np.matmul(sd,s)\n",
    "        - Ej*(beta*cosm(phi_zpf*(s+sd)+(phi_min-phi_ex)*np.identity(sdim))\n",
    "        + N*cosm((phi_zpf*(s+sd)+phi_min*np.identity(sdim))/N))- g2*x2)\n",
    "    energy,dressed_states = np.linalg.eigh(Hs)\n",
    "    energy = energy-energy[0]*np.ones(len(energy))\n",
    "    omega_s = energy[1]\n",
    "    g_int =  g_intfac*2*np.pi*np.power((2*Ec)/Ej,1/4)/phi_zpf\n",
    "    delta = omega_s - omega_c\n",
    "    return g_int/delta, g_int,omega_s"
   ]
  },
  {
   "cell_type": "code",
   "execution_count": 290,
   "id": "e94cf393",
   "metadata": {},
   "outputs": [
    {
     "data": {
      "text/plain": [
       "2.9567322747987284"
      ]
     },
     "execution_count": 290,
     "metadata": {},
     "output_type": "execute_result"
    }
   ],
   "source": [
    "beta = 0.17392149\n",
    "N = 3\n",
    "Ej = 90*2*np.pi\n",
    "Ec = 0.177*2*np.pi\n",
    "phi_ex = 2.7484/2/np.pi\n",
    "delta = 1e-3\n",
    "s_grad = np.abs((os(phi_ex+delta,beta,N,Ej,Ec,0)-os(phi_ex,beta,N,Ej,Ec,0))/delta)\n",
    "T1f(s_grad)/1e3"
   ]
  },
  {
   "cell_type": "code",
   "execution_count": 291,
   "id": "5ff61f7d",
   "metadata": {},
   "outputs": [],
   "source": [
    "## beta = 0.17392149\n",
    "# N = 3\n",
    "# Ej = 90*2*np.pi\n",
    "# Ec = 0.177*2*np.pi\n",
    "# phi_ex = 2.7484/2/np.pi\n",
    "# omega_cs = np.linspace(1.5*2*np.pi,3.5*2*np.pi,400)\n",
    "# g_facs = np.linspace(0.1,0.5,20)\n",
    "# T1fs =  np.zeros((len(omega_cs),len(g_facs)))\n",
    "# Tws = np.zeros((len(omega_cs),len(g_facs)))\n",
    "# der = np.zeros((len(omega_cs),len(g_facs)))\n",
    "# gods = np.zeros((len(omega_cs),len(g_facs)))\n",
    "# g_int = np.zeros(len(g_facs))\n",
    "# from joblib import Parallel, delayed\n",
    "\n",
    "# # Your existing code\n",
    "\n",
    "# def compute_values(i, j):\n",
    "#     der_ij = Egrad(phi_ex, beta, N, Ej, Ec, omega_cs[i], g_facs[j])\n",
    "#     gods_ij, g_int = god(phi_ex, beta, N, Ej, Ec, omega_cs[i], g_facs[j])\n",
    "#     T1fs_ij = np.abs(T1f(der_ij))\n",
    "#     Tws_ij = np.abs(Tw(der_ij))\n",
    "#     return der_ij, gods_ij[0], T1fs_ij, Tws_ij, g_int[0]\n",
    "\n",
    "# num_jobs = len(omega_cs) * len(g_facs)\n",
    "# results = Parallel(n_jobs=-1)(delayed(compute_values)(i, j) for i in range(len(omega_cs)) for j in range(len(g_facs)))\n",
    "\n"
   ]
  },
  {
   "cell_type": "code",
   "execution_count": 292,
   "id": "079d1c7e",
   "metadata": {},
   "outputs": [],
   "source": [
    "# # Update the arrays with the computed values\n",
    "# k = 0\n",
    "# for i in range(len(omega_cs)):\n",
    "#     for j in range(len(g_facs)):\n",
    "#         der[i][j], gods[i][j], T1fs[i][j], Tws[i][j],g_int[j] = results[k]\n",
    "#         k += 1"
   ]
  },
  {
   "cell_type": "code",
   "execution_count": 293,
   "id": "58fa5ed6",
   "metadata": {},
   "outputs": [],
   "source": [
    "# import matplotlib.pyplot as plt\n",
    "# from matplotlib.colors import LogNorm\n",
    "# # Plot gods vs. g_int and omega_cs\n",
    "# plt.figure(figsize=(12, 6))\n",
    "# plt.subplot(1, 2, 1)\n",
    "# plt.contourf( omega_cs/2/np.pi,g_int/2/np.pi, gods.transpose(), 100, cmap='viridis')\n",
    "# plt.ylabel('$g_{int}$')\n",
    "# plt.xlabel('$ω_c$')\n",
    "# plt.title('$g/Δ$')\n",
    "# plt.colorbar()\n",
    "\n",
    "# # Plot T1fs vs. g_int and omega_cs\n",
    "# plt.subplot(1, 2, 2)\n",
    "# plt.contourf( omega_cs/2/np.pi,g_int/2/np.pi, (T1fs/1e6).transpose(), 100, cmap='viridis',norm=LogNorm())\n",
    "# plt.ylabel('$g_{int}$')\n",
    "# plt.xlabel('$ω_c$')\n",
    "# plt.title('$T_2^{1/f}$(ms)')\n",
    "# plt.colorbar()\n",
    "\n",
    "# plt.tight_layout()\n",
    "# plt.show()\n"
   ]
  },
  {
   "cell_type": "code",
   "execution_count": null,
   "id": "08d2f010",
   "metadata": {},
   "outputs": [],
   "source": []
  },
  {
   "cell_type": "code",
   "execution_count": 294,
   "id": "61d32ab1",
   "metadata": {},
   "outputs": [],
   "source": [
    "beta = 0.17392149\n",
    "N = 3\n",
    "Ej = 90*2*np.pi\n",
    "Ec = 0.177*2*np.pi\n",
    "phi_ex = 2.7484/2/np.pi\n",
    "omega_cs = np.linspace(1*2*np.pi,4*2*np.pi,400)\n",
    "T1fs =  np.zeros(len(omega_cs))\n",
    "Tws = np.zeros(len(omega_cs))\n",
    "der = np.zeros(len(omega_cs))\n",
    "gods = np.zeros(len(omega_cs))\n",
    "deltas = np.zeros(len(omega_cs))\n",
    "for i in range(len(omega_cs)):\n",
    "    der[i] = Egrad(phi_ex,beta,N,Ej,Ec,omega_cs[i],0.1)\n",
    "    gods[i], a,deltas[i]= god(phi_ex,beta,N,Ej,Ec,omega_cs[i],0.1)\n",
    "    T1fs[i] = np.abs(T1f(der[i]))\n",
    "    Tws[i] = np.abs(Tw(der[i]))"
   ]
  },
  {
   "cell_type": "code",
   "execution_count": 295,
   "id": "15ed8090",
   "metadata": {},
   "outputs": [
    {
     "data": {
      "text/plain": [
       "5.105396257271261"
      ]
     },
     "execution_count": 295,
     "metadata": {},
     "output_type": "execute_result"
    }
   ],
   "source": [
    "os(phi_ex,beta,N,Ej,Ec,0)/2/np.pi"
   ]
  },
  {
   "cell_type": "code",
   "execution_count": 302,
   "id": "2cee5f5b",
   "metadata": {},
   "outputs": [
    {
     "data": {
      "text/plain": [
       "[<matplotlib.lines.Line2D at 0x7fcda6091a90>]"
      ]
     },
     "execution_count": 302,
     "metadata": {},
     "output_type": "execute_result"
    },
    {
     "data": {
      "image/png": "[encoded data removed]",
      "text/plain": [
       "<Figure size 432x288 with 1 Axes>"
      ]
     },
     "metadata": {
      "needs_background": "light"
     },
     "output_type": "display_data"
    }
   ],
   "source": [
    "plt.plot(omega_cs/2/np.pi,gods)"
   ]
  },
  {
   "cell_type": "code",
   "execution_count": 297,
   "id": "5140557b",
   "metadata": {},
   "outputs": [
    {
     "data": {
      "text/plain": [
       "array([0.06717858])"
      ]
     },
     "execution_count": 297,
     "metadata": {},
     "output_type": "execute_result"
    }
   ],
   "source": [
    "a/2/np.pi"
   ]
  },
  {
   "cell_type": "code",
   "execution_count": 303,
   "id": "03266e77",
   "metadata": {},
   "outputs": [
    {
     "data": {
      "text/plain": [
       "<matplotlib.legend.Legend at 0x7fcda4bc8700>"
      ]
     },
     "execution_count": 303,
     "metadata": {},
     "output_type": "execute_result"
    },
    {
     "data": {
      "image/png": "[encoded data removed]",
      "text/plain": [
       "<Figure size 432x288 with 1 Axes>"
      ]
     },
     "metadata": {
      "needs_background": "light"
     },
     "output_type": "display_data"
    }
   ],
   "source": [
    "plt.plot(omega_cs/2/np.pi,T1fs/1e6,label= 'exact')\n",
    "plt.plot(omega_cs/2/np.pi,1/(gods**2)*(γ_s/1e3),label = '$(Δ/g)^2 3μs$')\n",
    "plt.yscale('log')\n",
    "plt.title('1/f dephasing time')\n",
    "plt.ylabel('$T_\\phi(ms)$')\n",
    "plt.xlabel('$\\omega_c$')\n",
    "plt.legend()"
   ]
  },
  {
   "cell_type": "code",
   "execution_count": 305,
   "id": "03969d10",
   "metadata": {},
   "outputs": [
    {
     "data": {
      "text/plain": [
       "<matplotlib.legend.Legend at 0x7fcda643f430>"
      ]
     },
     "execution_count": 305,
     "metadata": {},
     "output_type": "execute_result"
    },
    {
     "data": {
      "image/png": "[encoded data removed]",
      "text/plain": [
       "<Figure size 432x288 with 1 Axes>"
      ]
     },
     "metadata": {
      "needs_background": "light"
     },
     "output_type": "display_data"
    }
   ],
   "source": [
    "# plt.plot(T1fs/1e9)\n",
    "plt.plot(omega_cs/2/np.pi,Tws/1e6,label= 'exact')\n",
    "plt.plot(omega_cs/2/np.pi,1/(gods**4)*1.66e-3,label = '$(Δ/g)^4 3μs$')\n",
    "plt.yscale('log')\n",
    "plt.title('white noise dephasing time')\n",
    "plt.legend()"
   ]
  },
  {
   "cell_type": "code",
   "execution_count": null,
   "id": "f4b441be",
   "metadata": {},
   "outputs": [],
   "source": []
  }
 ],
 "metadata": {
  "kernelspec": {
   "display_name": "Python 3 (ipykernel)",
   "language": "python",
   "name": "python3"
  },
  "language_info": {
   "codemirror_mode": {
    "name": "ipython",
    "version": 3
   },
   "file_extension": ".py",
   "mimetype": "text/x-python",
   "name": "python",
   "nbconvert_exporter": "python",
   "pygments_lexer": "ipython3",
   "version": "3.8.3"
  }
 },
 "nbformat": 4,
 "nbformat_minor": 5
}
