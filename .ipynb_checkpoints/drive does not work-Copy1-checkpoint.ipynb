{
 "cells": [
  {
   "cell_type": "code",
   "execution_count": 31,
   "id": "af85bf13",
   "metadata": {},
   "outputs": [],
   "source": [
    "import matplotlib.pyplot as plt\n",
    "from joblib import Parallel, delayed\n",
    "import scipy as sci\n",
    "import autograd as ad\n",
    "import autograd.numpy as np\n",
    "from cosmatrix import cosm,expm_pade\n",
    "expm = expm_pade\n",
    "from autograd.extend import primitive, defvjp\n",
    "import scipy.optimize as opt\n",
    "from qutip import *\n",
    "from sympy import symbols\n",
    "def annihilation(dim):\n",
    "    return np.diag(np.sqrt(np.arange(1,dim)),1)\n",
    "def creation(dim):\n",
    "    return np.diag(np.sqrt(np.arange(1,dim)),-1)\n",
    "def g3g4(phi_ex,beta, N, Ej, Ec,omega_c):\n",
    "    def U_s(phi): \n",
    "        return (-beta*np.cos(phi-phi_ex)-3*np.cos((phi)/3))\n",
    "#     phi_ex = 0.4*2*np.pi\n",
    "    phi_min = sci.optimize.minimize(U_s,0).x\n",
    "    # potential expansion around minimum\n",
    "    firstd = ad.grad(U_s)\n",
    "    secondd = ad.grad(firstd)\n",
    "    thirdd = ad.grad(secondd)\n",
    "    fourd = ad.grad(thirdd)\n",
    "    fived = ad.grad(fourd)\n",
    "    sixd = ad.grad(fived)\n",
    "    sevend = ad.grad(sixd)\n",
    "    eightd = ad.grad(sevend)\n",
    "    c2 = secondd(phi_min[0])\n",
    "    c3 = thirdd(phi_min[0])\n",
    "    c4 = fourd(phi_min[0])\n",
    "    c5 = fived(phi_min[0])\n",
    "    c6 = sixd(phi_min[0])\n",
    "    c7 = sevend(phi_min[0])/7/6/5/4/3/2\n",
    "    c8 = eightd(phi_min[0])/8/7/6/5/4/3/2\n",
    "    phimd=beta*np.cos(phi_min - phi_ex)/c2\n",
    "    c2d = c3*(beta*np.cos(phi_min - phi_ex)/c2-9/8)\n",
    "    c4d = -10/9*c3*(beta*np.cos(phi_min - phi_ex)/c2-81/80)\n",
    "    c3d = c4*beta*np.cos(phi_min - phi_ex)/c2 +beta*np.cos(phi_min - phi_ex)\n",
    "    omega_s = np.sqrt(8*c2*Ej*Ec)\n",
    "    phi_zpf = np.power(2*Ec/Ej/c2,1/4)\n",
    "    g2 = Ej*phi_zpf**2*c2/2\n",
    "    g3 = Ej*phi_zpf**3*c3/3/2\n",
    "    g4 = Ej*phi_zpf**4*c4/4/3/2\n",
    "    g5 = Ej*phi_zpf**5*c5/5/4/3/2\n",
    "    g6 = Ej*phi_zpf**6*c6/6/5/4/3/2\n",
    "    g_int =  0.1*2*np.pi*np.power((2*Ec)/Ej,1/4)/phi_zpf\n",
    "    A =  0.1*2*np.pi*np.power((2*Ec)/Ej,1/4)\n",
    "    delta = omega_c - omega_s\n",
    "    x=(-4 * np.sqrt(1540 * beta**2 + 141) + 45) / 77\n",
    "    a = (c4d-3/2*c4/c2*c2d-104/72*(2*c3d/c2*c3-5/2*c3**2/c2**2*c2d))\n",
    "    B = 2*omega_s*g_int**2/(omega_c**2-omega_s**2)\n",
    "    u = 24*g4/omega_s - 104*g3**2/omega_s**2\n",
    "    v = omega_s**2/(omega_c**2-omega_s**2)\n",
    "    Bd = 4*Ej*A**2*omega_c**2/(omega_c**2-omega_s**2)**2*c2d\n",
    "#     c3**2, 64/81*(beta**2-x**2)\n",
    "#     c3/c2**2.5*(2*c3d-5/2*c3/c2*c2d)\n",
    "# (c4d/c2**1.5-1.5*c4/c2**2.5*c2d)\n",
    "    c2 = x+1/3\n",
    "#     c4=-x-1/27\n",
    "#     phi_md = x/(x+1/3)\n",
    "#     c3 = np.sqrt(0.6*c2*c4)\n",
    "#     c2d = (phi_md-9/8)*c3\n",
    "#     c4d = (-10/9*phi_md+9/8)*c3\n",
    "# (c4d-3/2*c4/c2*c2d-104/72*(2*c3d*c3/c2-5/2*c3**2*c3/c2**2*c2d))/c2d\n",
    "    return c2,secondd(phi_min[0])\n",
    "def os(phi_ex,beta,N,Ej,Ec,El,omega_c):\n",
    "    phi_ex = 2*np.pi*phi_ex\n",
    "    @primitive\n",
    "    def Us_min(phi_ex):\n",
    "        def U_s(phi): \n",
    "            return (-beta*np.cos(phi-phi_ex)-N*np.cos((phi)/N))\n",
    "        phi_min = sci.optimize.minimize(U_s,0).x\n",
    "        return phi_min\n",
    "    \n",
    "    def phi_minde(ans, phi_ex):\n",
    "        def phi_minde_vjp(g):\n",
    "            c2 = beta*np.cos(ans - phi_ex) + 1/N*np.cos(ans/N)\n",
    "            return g*beta*np.cos(ans - phi_ex)/c2\n",
    "        return phi_minde_vjp\n",
    "    defvjp(Us_min, phi_minde)\n",
    "    def U_s(phi): \n",
    "        return (-beta*np.cos(phi-phi_ex)-3*np.cos((phi)/3))\n",
    "#     phi_ex = 0.4*2*np.pi\n",
    "    phi_min = sci.optimize.minimize(U_s,0).x\n",
    "    # potential expansion around minimum\n",
    "    firstd = ad.grad(U_s)\n",
    "    secondd = ad.grad(firstd)\n",
    "    thirdd = ad.grad(secondd)\n",
    "    fourd = ad.grad(thirdd)\n",
    "    fived = ad.grad(fourd)\n",
    "    sixd = ad.grad(fived)\n",
    "    sevend = ad.grad(sixd)\n",
    "    eightd = ad.grad(sevend)\n",
    "    c2 = secondd(phi_min[0])\n",
    "    c3 = thirdd(phi_min[0])/3/2\n",
    "    c4 = fourd(phi_min[0])/4/3/2\n",
    "    c5 = fived(phi_min[0])/5/4/3/2\n",
    "    c6 = sixd(phi_min[0])/6/5/4/3/2\n",
    "    c7 = sevend(phi_min[0])/7/6/5/4/3/2\n",
    "    c8 = eightd(phi_min[0])/8/7/6/5/4/3/2\n",
    "    \n",
    "    \n",
    "    omega_s = np.sqrt(8*c2*Ej*Ec)\n",
    "    phi_zpf = np.power(2*Ec/Ej/c2,1/4)\n",
    "    g2 = Ej*phi_zpf**2*c2/2\n",
    "    g3 = Ej*phi_zpf**3*c3\n",
    "    g4 = Ej*phi_zpf**4*c4\n",
    "    g5 = Ej*phi_zpf**5*c5\n",
    "    g6 = Ej*phi_zpf**6*c6\n",
    "    phi_min = Us_min(phi_ex)\n",
    "    # potential expansion around minimum\n",
    "    c2 = beta*np.cos(phi_min - phi_ex) + 1/N*np.cos(phi_min/N)\n",
    "    omega_s = np.sqrt(8*c2*Ej*Ec)\n",
    "    phi_zpf = np.power(2*Ec/(Ej*c2),1/4)\n",
    "    g2 = Ej*phi_zpf**2*c2/2\n",
    "    sdim = 10\n",
    "    s = annihilation(sdim)\n",
    "    sd = creation(sdim)\n",
    "    x2 = np.matmul(s+sd,s+sd)\n",
    "    Hs = (omega_s * np.matmul(sd,s)\n",
    "        - Ej*(beta*cosm(phi_zpf*(s+sd)+(phi_min-phi_ex)*np.identity(sdim))\n",
    "        + N*cosm((phi_zpf*(s+sd)+phi_min*np.identity(sdim))/N))- g2*x2)\n",
    "    x3 = np.matmul(x2,s+sd)\n",
    "    x4 = np.matmul(x3,s+sd)\n",
    "    x5 = np.matmul(x4,s+sd)\n",
    "    x6 = np.matmul(x5,s+sd)\n",
    "#     Hs = omega_s * np.matmul(sd,s)+g3*x3+g4*x4\n",
    "    energy = np.linalg.eigh(Hs)[0]\n",
    "    energy = energy-energy[0]*np.ones(len(energy))\n",
    "    omega_s = energy[1]\n",
    "    anh = (energy[2]-energy[1]-energy[1]-energy[0])/2/np.pi\n",
    "#     anh_exp = qload('./symbolic/anh')[0]\n",
    "#     g3sp = symbols('g3', real=True)\n",
    "#     g4sp = symbols('g4', real=True)\n",
    "#     g5sp = symbols('g5', real=True)\n",
    "#     omega = symbols('omega', real=True)\n",
    "#     print(anh-anh_exp.subs({g3sp:g3,g4sp:g4,g5sp:g5,omega:omega_s})/2/np.pi)\n",
    "    return omega_s,anh\n",
    "def minimize_anh( beta, N, Ej, Ec, El, omega_c):\n",
    "    # Wrapper function that takes only phi_ex as an argument\n",
    "    def anh_wrapper(phi_ex):\n",
    "        omega_s, anh = os(phi_ex, beta, N, Ej, Ec, El, omega_c)\n",
    "        return np.abs(anh)\n",
    "    bounds = [(0,0.5)]\n",
    "    # Optimize phi_ex\n",
    "    result = opt.direct(anh_wrapper, bounds = bounds)\n",
    "\n",
    "    # Return the result of the optimization\n",
    "    return result.x, result.fun\n",
    "\n",
    "    \n",
    "def find_optimal_k(A, B, D):\n",
    "    # Define a large initial minimum difference\n",
    "    min_diff = float('inf')\n",
    "    optimal_k = None\n",
    "    \n",
    "    # Iterate over a range of possible k values\n",
    "    # The range can be adjusted based on expected size of k or other insights you have about your problem\n",
    "    for k in range(-1000, 1000):\n",
    "        # Calculate the difference for this value of k\n",
    "        diff = abs(A - (B + k * D))\n",
    "        \n",
    "        # If this is the smallest difference we've found so far, update min_diff and optimal_k\n",
    "        if diff < min_diff:\n",
    "            min_diff = diff\n",
    "            optimal_k = k\n",
    "            \n",
    "    return optimal_k\n",
    "# Function to calculate overlap (you might use inner product, fidelity, etc.)\n",
    "def calculate_overlap(state1, state2):\n",
    "    return abs((state1.dag() * state2)[0,0])**2\n",
    "import qutip as qt\n",
    "\n",
    "\n",
    "\n",
    "def SNAIL_H(phi_ex,beta,N,Ej,Ec):\n",
    "    phi_ex = 2*np.pi*phi_ex\n",
    "    @primitive\n",
    "    def Us_min(phi_ex):\n",
    "        def U_s(phi): \n",
    "            return (-beta*np.cos(phi-phi_ex)-N*np.cos((phi)/N))\n",
    "        phi_min = sci.optimize.minimize(U_s,0).x\n",
    "        return phi_min\n",
    "    \n",
    "    def phi_minde(ans, phi_ex):\n",
    "        def phi_minde_vjp(g):\n",
    "            c2 = beta*np.cos(ans - phi_ex) + 1/N*np.cos(ans/N)\n",
    "            return g*beta*np.cos(ans - phi_ex)/c2\n",
    "        return phi_minde_vjp\n",
    "    defvjp(Us_min, phi_minde)\n",
    "    \n",
    "    phi_min = Us_min(phi_ex)\n",
    "    # potential expansion around minimum\n",
    "    c2 = beta*np.cos(phi_min - phi_ex) + 1/N*np.cos(phi_min/N)\n",
    "    omega_s = np.sqrt(8*c2*Ej*Ec)\n",
    "    phi_zpf = np.power(2*Ec/(Ej*c2),1/4)\n",
    "    g2 = Ej*phi_zpf**2*c2/2\n",
    "    sdim = 10\n",
    "    s = annihilation(sdim)\n",
    "    sd = creation(sdim)\n",
    "    x2 = np.matmul(s+sd,s+sd)\n",
    "    c3 = (N**2-1)/N**2*np.sin(phi_min/N)\n",
    "    g3 = Ej*phi_zpf**3*c3/3/2\n",
    "    x3 = np.matmul(s+sd,x2)\n",
    "    c4 = -beta*np.cos(phi_min-phi_ex) -1/N**3*np.cos(phi_min/N)\n",
    "    \n",
    "    g4 = Ej*phi_zpf**4*c4/4/3/2\n",
    "    x4 = np.matmul(s+sd,x3)\n",
    "    \n",
    "    Hs = (omega_s * np.matmul(sd,s)\n",
    "        - Ej*(beta*cosm(phi_zpf*(s+sd)+(phi_min-phi_ex)*np.identity(sdim))\n",
    "        + N*cosm((phi_zpf*(s+sd)+phi_min*np.identity(sdim))/N))- g2*x2)\n",
    "#     Hs = omega_s * np.matmul(sd,s)+g3*x3+g4*x4\n",
    "    energy,U = np.linalg.eigh(Hs)\n",
    "    U_dag = np.conjugate(U.transpose())\n",
    "    Hs = Hs\n",
    "    return Hs-energy[0]*np.identity(sdim),1j*(s-sd)\n",
    "def floquet_spec(omega,A,phi_ex,Ej,Ec,beta):\n",
    "#     phi_ex = 0.41340478058712055\n",
    "    H0,Hc = SNAIL_H(phi_ex,beta,N,Ej,Ec)\n",
    "    energies,U=np.linalg.eig(H0)\n",
    "    energies = energies - energies[0]*np.ones(len(energies))\n",
    "    energies = energies/2/np.pi\n",
    "    # U_dag = np.conjugate(U.transpose())\n",
    "    # U_dag@Hc@U\n",
    "    energies = np.sort(energies)\n",
    "    omega_s = energies[1]\n",
    "    H0 = Qobj(H0)\n",
    "    Hc = Qobj(Hc)\n",
    "    args = {'w': omega}\n",
    "    T = (2*np.pi)/omega\n",
    "    H = [H0, [Hc, lambda t, args: A*np.cos(args['w']*t)]] \n",
    "    options = Options(nsteps=100000)  # Increasing nsteps to 10000, adjust as needed\n",
    "    f_modes, f_energies = floquet_modes(H, T, args, False, options=options) \n",
    "    \n",
    "    # Define your system dimension\n",
    "    sdim = 10\n",
    "    floquet_states = f_modes\n",
    "    # Create your basis states\n",
    "    basis_states = [qt.basis(sdim, i) for i in range(3)]\n",
    "    # Initialize a list to hold the indices of the Floquet states with the maximum overlap for each basis state\n",
    "    max_overlap_indices = [-1] * 3\n",
    "    max_overlaps = [0] * 3\n",
    "    # Loop over each Floquet state\n",
    "    for f_index, f_state in enumerate(floquet_states):\n",
    "\n",
    "        # Loop over each basis state\n",
    "        for b_index, b_state in enumerate(basis_states):\n",
    "\n",
    "            # Calculate the overlap\n",
    "            overlap = calculate_overlap(f_state, b_state)\n",
    "\n",
    "            # If this is the maximum overlap for this basis state, store the index\n",
    "            if overlap > max_overlaps[b_index]:\n",
    "                max_overlaps[b_index] = overlap\n",
    "                max_overlap_indices[b_index] = f_index\n",
    "    energy01 = f_energies[max_overlap_indices[1]]/2/np.pi-f_energies[max_overlap_indices[0]]/2/np.pi\n",
    "    k = find_optimal_k(omega_s, energy01, omega/2/np.pi)\n",
    "    energy01 =energy01+k*omega/2/np.pi\n",
    "    omega_ss = energy01-omega_s\n",
    "    energy02 = f_energies[max_overlap_indices[2]]/2/np.pi-f_energies[max_overlap_indices[0]]/2/np.pi\n",
    "    k = find_optimal_k(2*omega_s, energy02, omega/2/np.pi)\n",
    "    energy02 =energy02+k*omega/2/np.pi\n",
    "    anh = energy02 - energy01 - energy01\n",
    "    if (max_overlaps<(np.sqrt(2)/2*np.ones(3))).all():\n",
    "        omega_ss = 1000\n",
    "        anh = 1000\n",
    "    return np.abs(omega_ss),anh\n",
    "def minimize_anhfl( omega,A,phi_ex,Ej,Ec,beta):\n",
    "    # Wrapper function that takes only phi_ex as an argument\n",
    "    def anh_wrapper(phi_ex):\n",
    "        omega_s, anh = floquet_spec(omega,A,phi_ex,Ej,Ec,beta)\n",
    "        return np.abs(anh)\n",
    "    bounds = [(0,0.5)]\n",
    "    # Optimize phi_ex\n",
    "    \n",
    "    result = opt.direct(anh_wrapper, bounds = bounds)\n",
    "\n",
    "    # Return the result of the optimization\n",
    "    return result.x, result.fun\n",
    "def coupled_spectrum(phi_ex,omega_c,g_intfa,Ec,Ej,beta):\n",
    "    N = 3\n",
    "    phi_ex = 2*np.pi*phi_ex\n",
    "    g_intfa = 0.15\n",
    "    @primitive\n",
    "    def Us_min(phi_ex):\n",
    "        def U_s(phi): \n",
    "            return (-beta*np.cos(phi-phi_ex)-N*np.cos((phi)/N))\n",
    "        phi_min = sci.optimize.minimize(U_s,0).x\n",
    "        return phi_min\n",
    "    \n",
    "    def phi_minde(ans, phi_ex):\n",
    "        def phi_minde_vjp(g):\n",
    "            c2 = beta*np.cos(ans - phi_ex) + 1/N*np.cos(ans/N)\n",
    "            return g*beta*np.cos(ans - phi_ex)/c2\n",
    "        return phi_minde_vjp\n",
    "    defvjp(Us_min, phi_minde)\n",
    "    \n",
    "    phi_min = Us_min(phi_ex)\n",
    "    # potential expansion around minimum\n",
    "    c2 = beta*np.cos(phi_min - phi_ex) + 1/N*np.cos(phi_min/N)\n",
    "    omega_s = np.sqrt(8*c2*Ej*Ec)\n",
    "    phi_zpf = np.power(2*Ec/(Ej*c2),1/4)\n",
    "    g2 = Ej*phi_zpf**2*c2/2\n",
    "    sdim = 10\n",
    "    s = annihilation(sdim)\n",
    "    sd = creation(sdim)\n",
    "    x2 = np.matmul(s+sd,s+sd)\n",
    "    c3 = (N**2-1)/N**2*np.sin(phi_min/N)\n",
    "    g3 = Ej*phi_zpf**3*c3/3/2\n",
    "    c4 = -beta*np.cos(phi_min-phi_ex) -1/N**3*np.cos(phi_min/N)\n",
    "\n",
    "    g4 = Ej*phi_zpf**4*c4/4/3/2\n",
    "    x3 = np.matmul(s+sd,x2)\n",
    "    x4 = np.matmul(s+sd,x3)\n",
    "    Hs = (omega_s * np.matmul(sd,s)\n",
    "        - Ej*(beta*cosm(phi_zpf*(s+sd)+(phi_min-phi_ex)*np.identity(sdim))\n",
    "        + N*cosm((phi_zpf*(s+sd)+phi_min*np.identity(sdim))/N))- g2*x2)\n",
    "#     Hs = omega_s * np.matmul(sd,s)+g3*x3+g4*x4\n",
    "    cdim = 5\n",
    "    c = annihilation(cdim)\n",
    "    cd = creation(cdim)\n",
    "    Hc = omega_c*np.matmul(cd,c)\n",
    "    Ic = np.identity(cdim)\n",
    "    Is = np.identity(sdim)\n",
    "    Hs = np.kron(Hs,Ic)\n",
    "    Hc = np.kron(Is,Hc)\n",
    "    g_int = g_intfa*2*np.pi*np.power((2*Ec)/Ej,1/4)/phi_zpf\n",
    "    H_int = g_int*np.kron(1j*(s-sd),cd+c)\n",
    "#     H_int = g_int*(np.kron(sd,c)+np.kron(s,cd))\n",
    "    H = Hs + Hc + H_int\n",
    "    energy,dressed_states = np.linalg.eigh(H)\n",
    "    energy,U = np.linalg.eigh(H)\n",
    "    U_dag = np.conjugate(U.transpose())\n",
    "    H = U_dag@H@U\n",
    "    return H-energy[0]*np.identity(sdim*cdim),U_dag@np.kron(1j*(s-sd),Ic)@U\n",
    "def find_best_b_and_k(a, B, omega):\n",
    "    min_diff = float('inf')  # Initialize with a very large number\n",
    "    best_b = None\n",
    "    best_k = None\n",
    "\n",
    "    # Iterate over each element in B\n",
    "    for b in B:\n",
    "        # Iterate over each k in the range [-1000, 1000]\n",
    "        for k in range(-1000, 1001):  # 1001 is used to include 1000 in the range\n",
    "            diff = abs(a - (b + k * omega))\n",
    "            # Update min_diff and best_b if a smaller difference is found\n",
    "            if diff < min_diff:\n",
    "                min_diff = diff\n",
    "                best_b = b\n",
    "                best_k = k\n",
    "\n",
    "    return best_b, best_k, min_diff\n",
    "def floquet_comp(omega,A,phi_ex,omega_c,Ec,Ej,beta):\n",
    "    omega_c = omega_c *2*np.pi\n",
    "    g_intfa = 0.15\n",
    "    N = 3\n",
    "    H0,Hc = coupled_spectrum(phi_ex,omega_c,g_intfa,Ec,Ej,beta)\n",
    "    energies,U=np.linalg.eig(H0)\n",
    "    energies = energies - energies[0]*np.ones(len(energies))\n",
    "    energies = energies\n",
    "    # U_dag = np.conjugate(U.transpose())\n",
    "    # U_dag@Hc@U\n",
    "    energies = np.sort(energies)\n",
    "    omega_cp = energies[1]\n",
    "    H0 = Qobj(H0)\n",
    "    Hc = Qobj(Hc)\n",
    "    args = {'w': omega}\n",
    "    T = (2*np.pi)/omega\n",
    "    H = [H0, [Hc, lambda t, args: A*np.cos(args['w']*t)]] \n",
    "    options = Options(nsteps=100000)  # Increasing nsteps to 10000, adjust as needed\n",
    "    f_modes, f_energies = floquet_modes(H, T, args, False, options=options) \n",
    "    \n",
    "    # Define your system dimension\n",
    "    sdim = 10\n",
    "    cdim = 5\n",
    "    floquet_states = f_modes\n",
    "    # Create your basis states\n",
    "    basis_states = [qt.basis(sdim*cdim, i) for i in range(2)]\n",
    "    # Initialize a list to hold the indices of the Floquet states with the maximum overlap for each basis state\n",
    "    max_overlap_indices = [-1] * 3\n",
    "    max_overlaps = [0] * 3\n",
    "    # Loop over each Floquet state\n",
    "    for f_index, f_state in enumerate(floquet_states):\n",
    "\n",
    "        # Loop over each basis state\n",
    "        for b_index, b_state in enumerate(basis_states):\n",
    "\n",
    "            # Calculate the overlap\n",
    "            overlap = calculate_overlap(f_state, b_state)\n",
    "\n",
    "            # If this is the maximum overlap for this basis state, store the index\n",
    "            if overlap > max_overlaps[b_index]:\n",
    "                max_overlaps[b_index] = overlap\n",
    "                max_overlap_indices[b_index] = f_index\n",
    "    energy01 = f_energies[max_overlap_indices[1]]-f_energies[max_overlap_indices[0]]\n",
    "    print(max_overlaps)\n",
    "    k = find_optimal_k(omega_cp, energy01, omega)\n",
    "    energy01 =energy01+k*omega\n",
    "    omega_cpp = energy01\n",
    "    b,k,mind_diff = find_best_b_and_k(energy01, f_energies , omega)\n",
    "    \n",
    "    return omega_cpp\n",
    "def energy_der(omega,A,phi_ex,omega_c,Ec,Ej,beta):\n",
    "    delta = 1e-5\n",
    "    der = (-floquet_comp(omega,A,phi_ex,omega_c,Ec,Ej,beta) + floquet_comp(omega,A,phi_ex+delta,omega_c,Ec,Ej,beta))/delta\n",
    "    return der\n",
    "def T1f(der):\n",
    "    factor = np.sqrt(2*np.abs(np.log(2*np.pi*1*1e-5)))\n",
    "    return 1/(factor*10**-6*der)\n",
    "def minimize_Tp1(omega,A,phi_ex,omega_c,Ec,Ej,beta):\n",
    "    options = {'maxfev': 20}\n",
    "    # Wrapper function that takes only phi_ex as an argument\n",
    "    def wrapper(omega_c):\n",
    "        der = energy_der(omega,A,phi_ex,omega_c,Ec,Ej,beta)\n",
    "        T1fs = np.abs(T1f(der))\n",
    "        return 1/T1fs*1e9\n",
    "    def callback_function(xk):\n",
    "#     \"\"\"Callback function to check the current function value.\"\"\"\n",
    "        fval = wrapper(xk)\n",
    "        if fval < 0.04:\n",
    "            return True  # Returning True will stop the optimization\n",
    "    # Optimize phi_ex\n",
    "    bounds = [(1,3.2)]\n",
    "    result = opt.minimize(wrapper,omega_c, bounds = bounds,method='Nelder-Mead',options=options)\n",
    "\n",
    "    # Return the result of the optimization\n",
    "    return result.x, result.fun"
   ]
  },
  {
   "cell_type": "code",
   "execution_count": 32,
   "id": "95059f99",
   "metadata": {},
   "outputs": [
    {
     "name": "stdout",
     "output_type": "stream",
     "text": [
      "[0.9751738541220893, 0.9751469380411194, 0]\n",
      "[0.9751336170966113, 0.9751066473976715, 0]\n",
      "[0.9318826831341215, 0.9318105577780833, 0]\n",
      "[0.9317733590347016, 0.9317010942674402, 0]\n"
     ]
    },
    {
     "data": {
      "image/png": "[encoded data removed]",
      "text/plain": [
       "<Figure size 720x432 with 1 Axes>"
      ]
     },
     "metadata": {
      "needs_background": "light"
     },
     "output_type": "display_data"
    }
   ],
   "source": [
    "import numpy as np\n",
    "import matplotlib.pyplot as plt\n",
    "\n",
    "beta = 0.12\n",
    "omega_c1 = 4\n",
    "# omega_c2 = 1.8\n",
    "N = 3\n",
    "Ej = 90 * 2 * np.pi\n",
    "Ec = 0.177 * 2 * np.pi\n",
    "omegas = np.array([5.8]) * 2 * np.pi\n",
    "phi_ex = 0.38\n",
    "# A_values = np.linspace(0, 0.05 * 2 * np.pi, 20)\n",
    "A_values = np.array([0.03*2*np.pi,0.05*2*np.pi])\n",
    "\n",
    "plt.figure(figsize=(10, 6))\n",
    "\n",
    "# Loop over different omegas\n",
    "for omega in omegas:\n",
    "    T1f_values_omega_c1 = []\n",
    "    for A in A_values:\n",
    "        # Calculating T1f values for different A values and omega_c values\n",
    "        T1f_values_omega_c1.append(T1f(np.abs(energy_der(omega, A, phi_ex, omega_c1, Ec, Ej, beta)))/1e6)\n",
    "    # Plotting for each omega\n",
    "    plt.plot(A_values/2/np.pi, T1f_values_omega_c1, label=f'omega = {omega/(2*np.pi):.1f} * 2pi')\n",
    "\n",
    "plt.xlabel('A')\n",
    "plt.ylabel('T1f (ms)')\n",
    "plt.title('T1f vs. A for Different omega Values')\n",
    "plt.yscale('log')\n",
    "plt.legend()\n",
    "plt.grid(True)\n",
    "plt.show()\n"
   ]
  },
  {
   "cell_type": "code",
   "execution_count": 67,
   "id": "7abcb773",
   "metadata": {
    "scrolled": true
   },
   "outputs": [
    {
     "name": "stdout",
     "output_type": "stream",
     "text": [
      "0.4678499418664703 0.4873697047791509\n",
      "0.46783924340856103 0.4873607042067607\n",
      "0.4678065291355174 0.48733304602312993\n",
      "0.46774994111824053 0.4872847750660042\n",
      "0.4676665182223538 0.4872127698474082\n",
      "0.4675523644151111 0.4871129292558275\n",
      "0.46740268664165213 0.486980227141806\n",
      "0.4672126060388533 0.4868095169321019\n",
      "0.4669766982759771 0.4865951057901045\n",
      "0.46668958926185033 0.4863313556803352\n",
      "0.46634607373743786 0.48601280724682755\n",
      "0.46594122160266266 0.48563430483110603\n",
      "0.4654705249400007 0.4851911278238894\n",
      "0.4649299141504863 0.4846790229890813\n",
      "0.464315582761465 0.4840942460196571\n",
      "0.46362487145657166 0.4834335489858585\n",
      "0.4628546842754635 0.4826941211530924\n",
      "0.462002102519005 0.48187354491318635\n",
      "0.4610683758663054 0.48097085847052956\n",
      "0.4600476131560682 0.4799825651156673\n",
      "0.45894063050600575 0.4789084382361064\n",
      "0.45774601473455157 0.47774715665543604\n",
      "0.45646274840143625 0.4764977144736392\n",
      "0.45508995614167297 0.475159251360147\n",
      "0.4536268455938866 0.4737310004114074\n",
      "0.45207269343825734 0.4722122621781015\n",
      "0.45042680627602705 0.47060237386011045\n",
      "0.44868932512766124 0.46890145947279355\n",
      "0.44685810769816925 0.46710749477098995\n",
      "0.4449331404474871 0.4652204588725312\n",
      "0.4429139004674668 0.46323968759650874\n",
      "0.44079942611603573 0.4611644452077063\n",
      "0.43858933480880374 0.45899382762485597\n",
      "0.436283215082744 0.4567275949811508\n",
      "0.4338820730149543 0.45436431716934583\n",
      "0.43141313306023105 0.4519087319048322\n",
      "0.42872847911281453 0.4493449375677567\n"
     ]
    },
    {
     "name": "stderr",
     "output_type": "stream",
     "text": [
      "capi_return is NULL\n",
      "Call-back cb_f_in_zvode__user__routines failed.\n"
     ]
    },
    {
     "ename": "KeyboardInterrupt",
     "evalue": "",
     "output_type": "error",
     "traceback": [
      "\u001b[0;31m---------------------------------------------------------------------------\u001b[0m",
      "\u001b[0;31mKeyboardInterrupt\u001b[0m                         Traceback (most recent call last)",
      "Input \u001b[0;32mIn [67]\u001b[0m, in \u001b[0;36m<module>\u001b[0;34m\u001b[0m\n\u001b[1;32m     20\u001b[0m \u001b[38;5;66;03m# Loop over phi_ex values\u001b[39;00m\n\u001b[1;32m     21\u001b[0m \u001b[38;5;28;01mfor\u001b[39;00m phi_ex \u001b[38;5;129;01min\u001b[39;00m phi_ex_values:\n\u001b[0;32m---> 22\u001b[0m     e \u001b[38;5;241m=\u001b[39m \u001b[43mfloquet_comp\u001b[49m\u001b[43m(\u001b[49m\u001b[43momega\u001b[49m\u001b[43m,\u001b[49m\u001b[43m \u001b[49m\u001b[43mA\u001b[49m\u001b[43m,\u001b[49m\u001b[43m \u001b[49m\u001b[43mphi_ex\u001b[49m\u001b[43m,\u001b[49m\u001b[43m \u001b[49m\u001b[43momega_c1\u001b[49m\u001b[43m,\u001b[49m\u001b[43m \u001b[49m\u001b[43mEc\u001b[49m\u001b[43m,\u001b[49m\u001b[43m \u001b[49m\u001b[43mEj\u001b[49m\u001b[43m,\u001b[49m\u001b[43m \u001b[49m\u001b[43mbeta\u001b[49m\u001b[43m)\u001b[49m  \u001b[38;5;66;03m# Compute e for each phi_ex\u001b[39;00m\n\u001b[1;32m     23\u001b[0m     e_values\u001b[38;5;241m.\u001b[39mappend(e\u001b[38;5;241m/\u001b[39m\u001b[38;5;241m2\u001b[39m\u001b[38;5;241m/\u001b[39mnp\u001b[38;5;241m.\u001b[39mpi)\n",
      "Input \u001b[0;32mIn [65]\u001b[0m, in \u001b[0;36mfloquet_comp\u001b[0;34m(omega, A, phi_ex, omega_c, Ec, Ej, beta)\u001b[0m\n\u001b[1;32m    372\u001b[0m H \u001b[38;5;241m=\u001b[39m [H0, [Hc, \u001b[38;5;28;01mlambda\u001b[39;00m t, args: A\u001b[38;5;241m*\u001b[39mnp\u001b[38;5;241m.\u001b[39mcos(args[\u001b[38;5;124m'\u001b[39m\u001b[38;5;124mw\u001b[39m\u001b[38;5;124m'\u001b[39m]\u001b[38;5;241m*\u001b[39mt)]] \n\u001b[1;32m    373\u001b[0m options \u001b[38;5;241m=\u001b[39m Options(nsteps\u001b[38;5;241m=\u001b[39m\u001b[38;5;241m100000\u001b[39m)  \u001b[38;5;66;03m# Increasing nsteps to 10000, adjust as needed\u001b[39;00m\n\u001b[0;32m--> 374\u001b[0m f_modes, f_energies \u001b[38;5;241m=\u001b[39m \u001b[43mfloquet_modes\u001b[49m\u001b[43m(\u001b[49m\u001b[43mH\u001b[49m\u001b[43m,\u001b[49m\u001b[43m \u001b[49m\u001b[43mT\u001b[49m\u001b[43m,\u001b[49m\u001b[43m \u001b[49m\u001b[43margs\u001b[49m\u001b[43m,\u001b[49m\u001b[43m \u001b[49m\u001b[38;5;28;43;01mFalse\u001b[39;49;00m\u001b[43m,\u001b[49m\u001b[43m \u001b[49m\u001b[43moptions\u001b[49m\u001b[38;5;241;43m=\u001b[39;49m\u001b[43moptions\u001b[49m\u001b[43m)\u001b[49m \n\u001b[1;32m    376\u001b[0m \u001b[38;5;66;03m# Define your system dimension\u001b[39;00m\n\u001b[1;32m    377\u001b[0m sdim \u001b[38;5;241m=\u001b[39m \u001b[38;5;241m10\u001b[39m\n",
      "File \u001b[0;32m~/miniconda3/lib/python3.8/site-packages/qutip/floquet.py:75\u001b[0m, in \u001b[0;36mfloquet_modes\u001b[0;34m(H, T, args, sort, U, options)\u001b[0m\n\u001b[1;32m     34\u001b[0m \u001b[38;5;124;03m\"\"\"\u001b[39;00m\n\u001b[1;32m     35\u001b[0m \u001b[38;5;124;03mCalculate the initial Floquet modes Phi_alpha(0) for a driven system with\u001b[39;00m\n\u001b[1;32m     36\u001b[0m \u001b[38;5;124;03mperiod T.\u001b[39;00m\n\u001b[0;32m   (...)\u001b[0m\n\u001b[1;32m     70\u001b[0m \n\u001b[1;32m     71\u001b[0m \u001b[38;5;124;03m\"\"\"\u001b[39;00m\n\u001b[1;32m     73\u001b[0m \u001b[38;5;28;01mif\u001b[39;00m U \u001b[38;5;129;01mis\u001b[39;00m \u001b[38;5;28;01mNone\u001b[39;00m:\n\u001b[1;32m     74\u001b[0m     \u001b[38;5;66;03m# get the unitary propagator\u001b[39;00m\n\u001b[0;32m---> 75\u001b[0m     U \u001b[38;5;241m=\u001b[39m \u001b[43mpropagator\u001b[49m\u001b[43m(\u001b[49m\u001b[43mH\u001b[49m\u001b[43m,\u001b[49m\u001b[43m \u001b[49m\u001b[43mT\u001b[49m\u001b[43m,\u001b[49m\u001b[43m \u001b[49m\u001b[43m[\u001b[49m\u001b[43m]\u001b[49m\u001b[43m,\u001b[49m\u001b[43m \u001b[49m\u001b[43margs\u001b[49m\u001b[38;5;241;43m=\u001b[39;49m\u001b[43margs\u001b[49m\u001b[43m,\u001b[49m\u001b[43m \u001b[49m\u001b[43moptions\u001b[49m\u001b[38;5;241;43m=\u001b[39;49m\u001b[43mcopy\u001b[49m\u001b[43m(\u001b[49m\u001b[43moptions\u001b[49m\u001b[43m)\u001b[49m\u001b[43m)\u001b[49m\n\u001b[1;32m     77\u001b[0m \u001b[38;5;66;03m# find the eigenstates for the propagator\u001b[39;00m\n\u001b[1;32m     78\u001b[0m evals, evecs \u001b[38;5;241m=\u001b[39m la\u001b[38;5;241m.\u001b[39meig(U\u001b[38;5;241m.\u001b[39mfull())\n",
      "File \u001b[0;32m~/miniconda3/lib/python3.8/site-packages/qutip/propagator.py:148\u001b[0m, in \u001b[0;36mpropagator\u001b[0;34m(H, t, c_op_list, args, options, unitary_mode, parallel, progress_bar, _safe_mode, **kwargs)\u001b[0m\n\u001b[1;32m    146\u001b[0m     H2 \u001b[38;5;241m=\u001b[39m tensor(qeye(N), H)\n\u001b[1;32m    147\u001b[0m options\u001b[38;5;241m.\u001b[39mnormalize_output \u001b[38;5;241m=\u001b[39m \u001b[38;5;28;01mFalse\u001b[39;00m\n\u001b[0;32m--> 148\u001b[0m output \u001b[38;5;241m=\u001b[39m \u001b[43msesolve\u001b[49m\u001b[43m(\u001b[49m\u001b[43mH2\u001b[49m\u001b[43m,\u001b[49m\u001b[43m \u001b[49m\u001b[43mpsi0\u001b[49m\u001b[43m,\u001b[49m\u001b[43m \u001b[49m\u001b[43mtlist\u001b[49m\u001b[43m,\u001b[49m\u001b[43m \u001b[49m\u001b[43m[\u001b[49m\u001b[43m]\u001b[49m\u001b[43m,\u001b[49m\n\u001b[1;32m    149\u001b[0m \u001b[43m                 \u001b[49m\u001b[43margs\u001b[49m\u001b[38;5;241;43m=\u001b[39;49m\u001b[43margs\u001b[49m\u001b[43m,\u001b[49m\u001b[43m \u001b[49m\u001b[43moptions\u001b[49m\u001b[38;5;241;43m=\u001b[39;49m\u001b[43moptions\u001b[49m\u001b[43m,\u001b[49m\n\u001b[1;32m    150\u001b[0m \u001b[43m                 \u001b[49m\u001b[43m_safe_mode\u001b[49m\u001b[38;5;241;43m=\u001b[39;49m\u001b[38;5;28;43;01mFalse\u001b[39;49;00m\u001b[43m)\u001b[49m\n\u001b[1;32m    151\u001b[0m \u001b[38;5;28;01mfor\u001b[39;00m k, t \u001b[38;5;129;01min\u001b[39;00m \u001b[38;5;28menumerate\u001b[39m(tlist):\n\u001b[1;32m    152\u001b[0m     u[k] \u001b[38;5;241m=\u001b[39m sp_reshape(output\u001b[38;5;241m.\u001b[39mstates[k]\u001b[38;5;241m.\u001b[39mdata, (N, N))\n",
      "File \u001b[0;32m~/miniconda3/lib/python3.8/site-packages/qutip/sesolve.py:136\u001b[0m, in \u001b[0;36msesolve\u001b[0;34m(H, psi0, tlist, e_ops, args, options, progress_bar, _safe_mode)\u001b[0m\n\u001b[1;32m    133\u001b[0m     v \u001b[38;5;241m=\u001b[39m psi0\u001b[38;5;241m.\u001b[39mfull()\u001b[38;5;241m.\u001b[39mravel(\u001b[38;5;124m'\u001b[39m\u001b[38;5;124mF\u001b[39m\u001b[38;5;124m'\u001b[39m)\n\u001b[1;32m    134\u001b[0m     func(\u001b[38;5;241m0.\u001b[39m, v, \u001b[38;5;241m*\u001b[39mode_args) \u001b[38;5;241m+\u001b[39m v\n\u001b[0;32m--> 136\u001b[0m res \u001b[38;5;241m=\u001b[39m \u001b[43m_generic_ode_solve\u001b[49m\u001b[43m(\u001b[49m\u001b[43mfunc\u001b[49m\u001b[43m,\u001b[49m\u001b[43m \u001b[49m\u001b[43mode_args\u001b[49m\u001b[43m,\u001b[49m\u001b[43m \u001b[49m\u001b[43mpsi0\u001b[49m\u001b[43m,\u001b[49m\u001b[43m \u001b[49m\u001b[43mtlist\u001b[49m\u001b[43m,\u001b[49m\u001b[43m \u001b[49m\u001b[43me_ops\u001b[49m\u001b[43m,\u001b[49m\u001b[43m \u001b[49m\u001b[43moptions\u001b[49m\u001b[43m,\u001b[49m\n\u001b[1;32m    137\u001b[0m \u001b[43m                         \u001b[49m\u001b[43mprogress_bar\u001b[49m\u001b[43m,\u001b[49m\u001b[43m \u001b[49m\u001b[43mdims\u001b[49m\u001b[38;5;241;43m=\u001b[39;49m\u001b[43mpsi0\u001b[49m\u001b[38;5;241;43m.\u001b[39;49m\u001b[43mdims\u001b[49m\u001b[43m)\u001b[49m\n\u001b[1;32m    138\u001b[0m \u001b[38;5;28;01mif\u001b[39;00m e_ops_dict:\n\u001b[1;32m    139\u001b[0m     res\u001b[38;5;241m.\u001b[39mexpect \u001b[38;5;241m=\u001b[39m {e: res\u001b[38;5;241m.\u001b[39mexpect[n]\n\u001b[1;32m    140\u001b[0m                   \u001b[38;5;28;01mfor\u001b[39;00m n, e \u001b[38;5;129;01min\u001b[39;00m \u001b[38;5;28menumerate\u001b[39m(e_ops_dict\u001b[38;5;241m.\u001b[39mkeys())}\n",
      "File \u001b[0;32m~/miniconda3/lib/python3.8/site-packages/qutip/sesolve.py:381\u001b[0m, in \u001b[0;36m_generic_ode_solve\u001b[0;34m(func, ode_args, psi0, tlist, e_ops, opt, progress_bar, dims)\u001b[0m\n\u001b[1;32m    377\u001b[0m             output\u001b[38;5;241m.\u001b[39mexpect[m][t_idx] \u001b[38;5;241m=\u001b[39m cy_expect_psi(e_ops_data[m], cdata,\n\u001b[1;32m    378\u001b[0m                                                     e_ops[m]\u001b[38;5;241m.\u001b[39misherm)\n\u001b[1;32m    380\u001b[0m     \u001b[38;5;28;01mif\u001b[39;00m t_idx \u001b[38;5;241m<\u001b[39m n_tsteps \u001b[38;5;241m-\u001b[39m \u001b[38;5;241m1\u001b[39m:\n\u001b[0;32m--> 381\u001b[0m         \u001b[43mr\u001b[49m\u001b[38;5;241;43m.\u001b[39;49m\u001b[43mintegrate\u001b[49m\u001b[43m(\u001b[49m\u001b[43mr\u001b[49m\u001b[38;5;241;43m.\u001b[39;49m\u001b[43mt\u001b[49m\u001b[43m \u001b[49m\u001b[38;5;241;43m+\u001b[39;49m\u001b[43m \u001b[49m\u001b[43mdt\u001b[49m\u001b[43m[\u001b[49m\u001b[43mt_idx\u001b[49m\u001b[43m]\u001b[49m\u001b[43m)\u001b[49m\n\u001b[1;32m    383\u001b[0m progress_bar\u001b[38;5;241m.\u001b[39mfinished()\n\u001b[1;32m    385\u001b[0m \u001b[38;5;28;01mif\u001b[39;00m opt\u001b[38;5;241m.\u001b[39mstore_final_state:\n",
      "File \u001b[0;32m~/miniconda3/lib/python3.8/site-packages/scipy/integrate/_ode.py:431\u001b[0m, in \u001b[0;36mode.integrate\u001b[0;34m(self, t, step, relax)\u001b[0m\n\u001b[1;32m    428\u001b[0m     mth \u001b[38;5;241m=\u001b[39m \u001b[38;5;28mself\u001b[39m\u001b[38;5;241m.\u001b[39m_integrator\u001b[38;5;241m.\u001b[39mrun\n\u001b[1;32m    430\u001b[0m \u001b[38;5;28;01mtry\u001b[39;00m:\n\u001b[0;32m--> 431\u001b[0m     \u001b[38;5;28mself\u001b[39m\u001b[38;5;241m.\u001b[39m_y, \u001b[38;5;28mself\u001b[39m\u001b[38;5;241m.\u001b[39mt \u001b[38;5;241m=\u001b[39m \u001b[43mmth\u001b[49m\u001b[43m(\u001b[49m\u001b[38;5;28;43mself\u001b[39;49m\u001b[38;5;241;43m.\u001b[39;49m\u001b[43mf\u001b[49m\u001b[43m,\u001b[49m\u001b[43m \u001b[49m\u001b[38;5;28;43mself\u001b[39;49m\u001b[38;5;241;43m.\u001b[39;49m\u001b[43mjac\u001b[49m\u001b[43m \u001b[49m\u001b[38;5;129;43;01mor\u001b[39;49;00m\u001b[43m \u001b[49m\u001b[43m(\u001b[49m\u001b[38;5;28;43;01mlambda\u001b[39;49;00m\u001b[43m:\u001b[49m\u001b[43m \u001b[49m\u001b[38;5;28;43;01mNone\u001b[39;49;00m\u001b[43m)\u001b[49m\u001b[43m,\u001b[49m\n\u001b[1;32m    432\u001b[0m \u001b[43m                          \u001b[49m\u001b[38;5;28;43mself\u001b[39;49m\u001b[38;5;241;43m.\u001b[39;49m\u001b[43m_y\u001b[49m\u001b[43m,\u001b[49m\u001b[43m \u001b[49m\u001b[38;5;28;43mself\u001b[39;49m\u001b[38;5;241;43m.\u001b[39;49m\u001b[43mt\u001b[49m\u001b[43m,\u001b[49m\u001b[43m \u001b[49m\u001b[43mt\u001b[49m\u001b[43m,\u001b[49m\n\u001b[1;32m    433\u001b[0m \u001b[43m                          \u001b[49m\u001b[38;5;28;43mself\u001b[39;49m\u001b[38;5;241;43m.\u001b[39;49m\u001b[43mf_params\u001b[49m\u001b[43m,\u001b[49m\u001b[43m \u001b[49m\u001b[38;5;28;43mself\u001b[39;49m\u001b[38;5;241;43m.\u001b[39;49m\u001b[43mjac_params\u001b[49m\u001b[43m)\u001b[49m\n\u001b[1;32m    434\u001b[0m \u001b[38;5;28;01mexcept\u001b[39;00m \u001b[38;5;167;01mSystemError\u001b[39;00m \u001b[38;5;28;01mas\u001b[39;00m e:\n\u001b[1;32m    435\u001b[0m     \u001b[38;5;66;03m# f2py issue with tuple returns, see ticket 1187.\u001b[39;00m\n\u001b[1;32m    436\u001b[0m     \u001b[38;5;28;01mraise\u001b[39;00m \u001b[38;5;167;01mValueError\u001b[39;00m(\n\u001b[1;32m    437\u001b[0m         \u001b[38;5;124m'\u001b[39m\u001b[38;5;124mFunction to integrate must not return a tuple.\u001b[39m\u001b[38;5;124m'\u001b[39m\n\u001b[1;32m    438\u001b[0m     ) \u001b[38;5;28;01mfrom\u001b[39;00m \u001b[38;5;21;01me\u001b[39;00m\n",
      "File \u001b[0;32m~/miniconda3/lib/python3.8/site-packages/scipy/integrate/_ode.py:1007\u001b[0m, in \u001b[0;36mvode.run\u001b[0;34m(self, f, jac, y0, t0, t1, f_params, jac_params)\u001b[0m\n\u001b[1;32m   1003\u001b[0m     jac \u001b[38;5;241m=\u001b[39m _vode_banded_jac_wrapper(jac, \u001b[38;5;28mself\u001b[39m\u001b[38;5;241m.\u001b[39mml, jac_params)\n\u001b[1;32m   1005\u001b[0m args \u001b[38;5;241m=\u001b[39m ((f, jac, y0, t0, t1) \u001b[38;5;241m+\u001b[39m \u001b[38;5;28mtuple\u001b[39m(\u001b[38;5;28mself\u001b[39m\u001b[38;5;241m.\u001b[39mcall_args) \u001b[38;5;241m+\u001b[39m\n\u001b[1;32m   1006\u001b[0m         (f_params, jac_params))\n\u001b[0;32m-> 1007\u001b[0m y1, t, istate \u001b[38;5;241m=\u001b[39m \u001b[38;5;28;43mself\u001b[39;49m\u001b[38;5;241;43m.\u001b[39;49m\u001b[43mrunner\u001b[49m\u001b[43m(\u001b[49m\u001b[38;5;241;43m*\u001b[39;49m\u001b[43margs\u001b[49m\u001b[43m)\u001b[49m\n\u001b[1;32m   1008\u001b[0m \u001b[38;5;28mself\u001b[39m\u001b[38;5;241m.\u001b[39mistate \u001b[38;5;241m=\u001b[39m istate\n\u001b[1;32m   1009\u001b[0m \u001b[38;5;28;01mif\u001b[39;00m istate \u001b[38;5;241m<\u001b[39m \u001b[38;5;241m0\u001b[39m:\n",
      "File \u001b[0;32m~/miniconda3/lib/python3.8/site-packages/qutip/cy/cqobjevo.pyx:212\u001b[0m, in \u001b[0;36mqutip.cy.cqobjevo.CQobjEvo.mul_vec\u001b[0;34m()\u001b[0m\n",
      "File \u001b[0;32m~/miniconda3/lib/python3.8/site-packages/qutip/cy/cqobjevo.pyx:679\u001b[0m, in \u001b[0;36mqutip.cy.cqobjevo.CQobjEvoTd._mul_vec\u001b[0;34m()\u001b[0m\n",
      "File \u001b[0;32m~/miniconda3/lib/python3.8/site-packages/qutip/cy/cqobjevo.pyx:293\u001b[0m, in \u001b[0;36mqutip.cy.cqobjevo.CQobjEvo._factor_dyn\u001b[0;34m()\u001b[0m\n",
      "File \u001b[0;32m~/miniconda3/lib/python3.8/site-packages/qutip/cy/cqobjevo.pyx:278\u001b[0m, in \u001b[0;36mqutip.cy.cqobjevo.CQobjEvo._factor\u001b[0;34m()\u001b[0m\n",
      "File \u001b[0;32m~/miniconda3/lib/python3.8/site-packages/qutip/qobjevo.py:1820\u001b[0m, in \u001b[0;36m_UnitedFuncCaller.__call__\u001b[0;34m(self, t, args)\u001b[0m\n\u001b[1;32m   1817\u001b[0m             \u001b[38;5;28;01melse\u001b[39;00m:\n\u001b[1;32m   1818\u001b[0m                 \u001b[38;5;28mself\u001b[39m\u001b[38;5;241m.\u001b[39margs[name] \u001b[38;5;241m=\u001b[39m op\u001b[38;5;241m.\u001b[39mexpect(t, state)\n\u001b[0;32m-> 1820\u001b[0m \u001b[38;5;28;01mdef\u001b[39;00m \u001b[38;5;21m__call__\u001b[39m(\u001b[38;5;28mself\u001b[39m, t, args\u001b[38;5;241m=\u001b[39m{}):\n\u001b[1;32m   1821\u001b[0m     \u001b[38;5;28;01mif\u001b[39;00m args:\n\u001b[1;32m   1822\u001b[0m         now_args \u001b[38;5;241m=\u001b[39m \u001b[38;5;28mself\u001b[39m\u001b[38;5;241m.\u001b[39margs\u001b[38;5;241m.\u001b[39mcopy()\n",
      "\u001b[0;31mKeyboardInterrupt\u001b[0m: "
     ]
    }
   ],
   "source": [
    "import numpy as np\n",
    "import matplotlib.pyplot as plt\n",
    "\n",
    "# Assuming the floquet_comp function is defined somewhere in your code\n",
    "# def floquet_comp(omega, A, phi_ex, omega_c, Ec, Ej, beta):\n",
    "#     # implementation\n",
    "#     pass\n",
    "\n",
    "beta = 0.12\n",
    "omega_c1 = 3\n",
    "N = 3\n",
    "Ej = 15 * 2 * np.pi\n",
    "Ec = 0.7 * 2 * np.pi\n",
    "omega = 2 * 2 * np.pi\n",
    "A = 4.4* 2 * np.pi\n",
    "phi_ex_values = np.linspace(0, 0.5, 100)  # 50 points between 0 and 0.5\n",
    "\n",
    "e_values = []\n",
    "\n",
    "# Loop over phi_ex values\n",
    "for phi_ex in phi_ex_values:\n",
    "    e = floquet_comp(omega, A, phi_ex, omega_c1, Ec, Ej, beta)  # Compute e for each phi_ex\n",
    "    e_values.append(e/2/np.pi)\n",
    "\n"
   ]
  },
  {
   "cell_type": "code",
   "execution_count": 61,
   "id": "10670963",
   "metadata": {},
   "outputs": [
    {
     "data": {
      "image/png": "[encoded data removed]",
      "text/plain": [
       "<Figure size 720x432 with 1 Axes>"
      ]
     },
     "metadata": {
      "needs_background": "light"
     },
     "output_type": "display_data"
    }
   ],
   "source": [
    "# Plotting\n",
    "plt.figure(figsize=(10, 6))\n",
    "plt.plot(phi_ex_values, e_values)\n",
    "plt.xlabel('phi_ex')\n",
    "plt.ylabel('e')\n",
    "plt.title('e vs. phi_ex')\n",
    "plt.grid(True)\n",
    "plt.show()"
   ]
  },
  {
   "cell_type": "code",
   "execution_count": 52,
   "id": "f1cb66d6",
   "metadata": {},
   "outputs": [
    {
     "data": {
      "text/plain": [
       "0.02530529208399912"
      ]
     },
     "execution_count": 52,
     "metadata": {},
     "output_type": "execute_result"
    }
   ],
   "source": [
    "energy_der(omega,A,phi_ex,omega_c,Ec,Ej,beta)"
   ]
  },
  {
   "cell_type": "code",
   "execution_count": 195,
   "id": "912f3097",
   "metadata": {
    "scrolled": true
   },
   "outputs": [],
   "source": [
    "beta = 0.12\n",
    "N = 3\n",
    "Ej = 90 * 2 * np.pi\n",
    "Ec = 0.177 * 2 * np.pi\n",
    "omega = 1* 2 * np.pi\n",
    "phi_ex = 0.4002794603101128\n",
    "\n",
    "# Range for A\n",
    "A_values = np.linspace(0*2*np.pi, 5*2*np.pi, 20)\n",
    "\n",
    "# # Sweep A and compute phi_ex for each value\n",
    "# for A in A_values:\n",
    "#     phi_ex, _ = minimize_anhfl(omega, A, 0.4, Ej, Ec, beta)\n",
    "#     phi_ex_values.append(phi_ex)\n",
    "\n"
   ]
  },
  {
   "cell_type": "code",
   "execution_count": 196,
   "id": "b11af80c",
   "metadata": {
    "scrolled": true
   },
   "outputs": [],
   "source": [
    "# # Plotting\n",
    "# plt.scatter(A_values/2/np.pi, phi_ex_values)\n",
    "# plt.xlabel(' A')\n",
    "# plt.ylabel('phi_ex')\n",
    "# plt.title('phi_ex vs A')\n",
    "# plt.show()"
   ]
  },
  {
   "cell_type": "code",
   "execution_count": 198,
   "id": "1bea8e70",
   "metadata": {},
   "outputs": [],
   "source": [
    "omega_s=np.abs(SNAIL_H(phi_ex,beta,N,Ej,Ec)[0][1][1]/2/np.pi)\n",
    "omegac_values = []\n",
    "omegac_pred = []\n",
    "T_values = []\n",
    "etas = []"
   ]
  },
  {
   "cell_type": "code",
   "execution_count": 199,
   "id": "59666f70",
   "metadata": {},
   "outputs": [
    {
     "name": "stdout",
     "output_type": "stream",
     "text": [
      "[1.74125] 0.0\n",
      "[1.745625] 1.6534698176788385\n",
      "[1.75875] 3.306939635357677\n",
      "[1.780625] 4.960409453036515\n",
      "[1.81125] 6.613879270715354\n",
      "[1.84625] 8.267349088394193\n",
      "[1.894375] 9.92081890607303\n",
      "[1.946875] 11.57428872375187\n",
      "[2.0125] 13.227758541430708\n",
      "[2.069375] 14.881228359109546\n",
      "[2.1415625] 16.534698176788385\n",
      "[2.218125] 18.188167994467225\n",
      "[2.2990625] 19.84163781214606\n",
      "[2.3865625] 21.4951076298249\n",
      "[2.4784375] 23.14857744750374\n",
      "[2.57578125] 24.802047265182576\n",
      "[2.67804687] 26.455517082861416\n",
      "[2.77703125] 28.108986900540256\n",
      "[2.88121094] 29.76245671821909\n",
      "[2.99632813] 31.41592653589793\n"
     ]
    }
   ],
   "source": [
    "\n",
    "for A in A_values:\n",
    "#     bare_phiex,anh = minimize_anh( beta, N, Ej, Ec, 0, 0)\n",
    "#     bare_phiex = bare_phiex[0]\n",
    "#     phi_ex,anh=minimize_anhfl(omega,A,bare_phiex,Ej,Ec,beta)\n",
    "    omega_c = 2.8\n",
    "    omegac, T=minimize_Tp1(omega,A,phi_ex,omega_c,Ec,Ej,beta)\n",
    "    print(omegac,A)\n",
    "    omegac_values.append(omegac)\n",
    "    T_values.append(T)\n",
    "    eta = A*2*omega_s/(omega_s**2-(omega/2/np.pi)**2)/2/np.pi\n",
    "    etas.append(eta)\n",
    "    omega_cp=np.sqrt(2*(1+eta**2)*omega_s*Ec/2/np.pi)\n",
    "    omegac_pred.append(omega_cp)"
   ]
  },
  {
   "cell_type": "code",
   "execution_count": 201,
   "id": "457034f9",
   "metadata": {},
   "outputs": [
    {
     "data": {
      "text/plain": [
       "[0.0,\n",
       " 0.09409892186365798,\n",
       " 0.18819784372731596,\n",
       " 0.2822967655909739,\n",
       " 0.3763956874546319,\n",
       " 0.47049460931828996,\n",
       " 0.5645935311819478,\n",
       " 0.658692453045606,\n",
       " 0.7527913749092638,\n",
       " 0.8468902967729218,\n",
       " 0.9409892186365799,\n",
       " 1.035088140500238,\n",
       " 1.1291870623638955,\n",
       " 1.2232859842275539,\n",
       " 1.317384906091212,\n",
       " 1.4114838279548696,\n",
       " 1.5055827498185277,\n",
       " 1.599681671682186,\n",
       " 1.6937805935458436,\n",
       " 1.7878795154095017]"
      ]
     },
     "execution_count": 201,
     "metadata": {},
     "output_type": "execute_result"
    }
   ],
   "source": [
    "etas"
   ]
  },
  {
   "cell_type": "code",
   "execution_count": 202,
   "id": "931df1a0",
   "metadata": {},
   "outputs": [
    {
     "data": {
      "text/plain": [
       "array([ 22.83897404,  27.67944352,  27.36281957,  48.64894211,\n",
       "        36.9552143 ,  11.93671484,  19.18506688,  14.36414429,\n",
       "         2.80775761,  30.46682707,  40.46029311,  61.34402604,\n",
       "        18.61440664,  44.97800131,  40.00247159,  33.50680922,\n",
       "        95.63287036,   0.49546413, 272.05762568, 167.33251454])"
      ]
     },
     "execution_count": 202,
     "metadata": {},
     "output_type": "execute_result"
    }
   ],
   "source": [
    "1/np.array(T_values)"
   ]
  },
  {
   "cell_type": "code",
   "execution_count": 200,
   "id": "b172d037",
   "metadata": {},
   "outputs": [
    {
     "data": {
      "image/png": "[encoded data removed]",
      "text/plain": [
       "<Figure size 432x288 with 1 Axes>"
      ]
     },
     "metadata": {
      "needs_background": "light"
     },
     "output_type": "display_data"
    }
   ],
   "source": [
    "plt.scatter(A_values/2/np.pi, np.array(omegac_values))\n",
    "plt.scatter(A_values/2/np.pi, np.array(omegac_pred))\n",
    "plt.xlabel('A')\n",
    "plt.show()"
   ]
  },
  {
   "cell_type": "code",
   "execution_count": 820,
   "id": "9e460a28",
   "metadata": {},
   "outputs": [
    {
     "data": {
      "text/plain": [
       "0.31029647031164753"
      ]
     },
     "execution_count": 820,
     "metadata": {},
     "output_type": "execute_result"
    }
   ],
   "source": [
    "eta"
   ]
  },
  {
   "cell_type": "code",
   "execution_count": 403,
   "id": "2033bd9a",
   "metadata": {},
   "outputs": [
    {
     "data": {
      "image/png": "[encoded data removed]",
      "text/plain": [
       "<Figure size 432x288 with 1 Axes>"
      ]
     },
     "metadata": {
      "needs_background": "light"
     },
     "output_type": "display_data"
    }
   ],
   "source": [
    "beta = 0.15\n",
    "omega_c = 2\n",
    "N = 3\n",
    "Ej = 74*2*np.pi\n",
    "Ec = 0.275*2*np.pi\n",
    "plot_phisweep(Ec,Ej,beta,)\n",
    "# Lists to store results\n",
    "phi_ex_values = []\n",
    "\n",
    "omega = 2*2*np.pi\n",
    "# Range for A\n",
    "A_values = np.linspace(0, 1.5*2*np.pi, 5)\n",
    "\n",
    "# Sweep A and compute phi_ex for each value\n",
    "for A in A_values:\n",
    "    phi_ex, _ = minimize_anhfl(omega, A, 0.4, Ej, Ec, beta)\n",
    "    phi_ex_values.append(phi_ex)\n",
    "# Plotting\n"
   ]
  },
  {
   "cell_type": "code",
   "execution_count": 325,
   "id": "7d570d75",
   "metadata": {},
   "outputs": [
    {
     "data": {
      "text/plain": [
       "Text(0.5, 1.0, 'phi_ex vs A')"
      ]
     },
     "execution_count": 325,
     "metadata": {},
     "output_type": "execute_result"
    },
    {
     "data": {
      "image/png": "[encoded data removed]",
      "text/plain": [
       "<Figure size 432x288 with 1 Axes>"
      ]
     },
     "metadata": {
      "needs_background": "light"
     },
     "output_type": "display_data"
    }
   ],
   "source": [
    "plt.scatter(A_values/2/np.pi, phi_ex_values)\n",
    "plt.xlabel('A')\n",
    "plt.ylabel('phi_ex')\n",
    "plt.title('phi_ex vs A')"
   ]
  },
  {
   "cell_type": "code",
   "execution_count": 326,
   "id": "3eec2785",
   "metadata": {},
   "outputs": [],
   "source": [
    "omega_s=np.abs(SNAIL_H(phi_ex,beta,N,Ej,Ec)[0][1][1]/2/np.pi)\n",
    "omegac_values = []\n",
    "omegac_pred = []\n",
    "T_values = []"
   ]
  },
  {
   "cell_type": "code",
   "execution_count": 327,
   "id": "9b36d9b8",
   "metadata": {},
   "outputs": [],
   "source": [
    "for A in A_values:\n",
    "    bare_phiex,anh = minimize_anh( beta, N, Ej, Ec, 0, 0)\n",
    "    bare_phiex = bare_phiex[0]\n",
    "    phi_ex,anh=minimize_anhfl(omega,A,bare_phiex,Ej,Ec,beta)\n",
    "    phi_ex = phi_ex[0]\n",
    "    omegac, T=minimize_Tp1(omega,A,phi_ex,omega_c,Ec,Ej,beta)\n",
    "    omegac_values.append(omegac)\n",
    "    T_values.append(T)\n",
    "    eta = A*2*omega_s/(omega_s**2-(omega/2/np.pi)**2)/2/np.pi\n",
    "    omega_cp=np.sqrt(2*(1+eta**2)*omega_s*Ec/2/np.pi)\n",
    "    omegac_pred.append(omega_cp)"
   ]
  },
  {
   "cell_type": "code",
   "execution_count": 328,
   "id": "c00ee08c",
   "metadata": {},
   "outputs": [
    {
     "data": {
      "image/png": "[encoded data removed]",
      "text/plain": [
       "<Figure size 432x288 with 1 Axes>"
      ]
     },
     "metadata": {
      "needs_background": "light"
     },
     "output_type": "display_data"
    }
   ],
   "source": [
    "plt.scatter(A_values/2/np.pi, np.array(omegac_values))\n",
    "plt.scatter(A_values/2/np.pi, np.array(omegac_pred)[0:5])\n",
    "plt.xlabel('A')\n",
    "plt.show()"
   ]
  },
  {
   "cell_type": "code",
   "execution_count": null,
   "id": "65d169a9",
   "metadata": {},
   "outputs": [],
   "source": []
  }
 ],
 "metadata": {
  "kernelspec": {
   "display_name": "Python 3 (ipykernel)",
   "language": "python",
   "name": "python3"
  },
  "language_info": {
   "codemirror_mode": {
    "name": "ipython",
    "version": 3
   },
   "file_extension": ".py",
   "mimetype": "text/x-python",
   "name": "python",
   "nbconvert_exporter": "python",
   "pygments_lexer": "ipython3",
   "version": "3.8.3"
  }
 },
 "nbformat": 4,
 "nbformat_minor": 5
}
