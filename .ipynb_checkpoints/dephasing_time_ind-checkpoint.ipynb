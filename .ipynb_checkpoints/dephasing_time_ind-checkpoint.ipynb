{
 "cells": [
  {
   "cell_type": "code",
   "execution_count": 44,
   "id": "7f48ddcb",
   "metadata": {},
   "outputs": [],
   "source": [
    "import numpy as np\n",
    "import matplotlib.pyplot as plt\n",
    "import scipy as sci\n",
    "import autograd as ad\n",
    "import autograd.numpy as np\n",
    "from cosmatrix import cosm,expm_pade\n",
    "expm = expm_pade\n",
    "from autograd.extend import primitive, defvjp\n",
    "def annihilation(dim):\n",
    "    return np.diag(np.sqrt(np.arange(1,dim)),1)\n",
    "def creation(dim):\n",
    "    return np.diag(np.sqrt(np.arange(1,dim)),-1)\n",
    "def new_cparameters(c2,c3,c4,c5,p):\n",
    "    c2=c2*p\n",
    "    c3=c3*p**3\n",
    "    c4=p**4*(c4-3*c3**2/c2*(1-p))\n",
    "    c5=p**5*(c5-(10*c4*c3/c2)*(1-p)+15*(c3**3/c2**2)*(1-p)**2)\n",
    "    return c2,c3,c4,c5\n",
    "def coupled_spectrum(phi_ex,beta,N,Ej,Ec,El,omega_c,g_intfa):\n",
    "    phi_ex = 2*np.pi*phi_ex\n",
    "    def U_s(phi): \n",
    "        return (-beta*np.cos(phi-phi_ex)-N*np.cos((phi)/N))\n",
    "    @primitive\n",
    "    def Us_min(phi_ex):\n",
    "        def U_s(phi): \n",
    "            return (-beta*np.cos(phi-phi_ex)-N*np.cos((phi)/N))\n",
    "        phi_min = sci.optimize.minimize(U_s,0).x\n",
    "        return phi_min\n",
    "    \n",
    "    def phi_minde(ans, phi_ex):\n",
    "        def phi_minde_vjp(g):\n",
    "            c2 = beta*np.cos(ans - phi_ex) + 1/N*np.cos(ans/N)\n",
    "            return g*beta*np.cos(ans - phi_ex)/c2\n",
    "        return phi_minde_vjp\n",
    "    defvjp(Us_min, phi_minde)\n",
    "    phi_min = Us_min(phi_ex)\n",
    "    # potential expansion around minimum\n",
    "    firstd = ad.grad(U_s)\n",
    "    secondd = ad.grad(firstd)\n",
    "    thirdd = ad.grad(secondd)\n",
    "    fourd = ad.grad(thirdd)\n",
    "    fived = ad.grad(fourd)\n",
    "    c2 = secondd(phi_min)\n",
    "    c3 = thirdd(phi_min)\n",
    "    c4 = fourd(phi_min)\n",
    "    c5 = fived(phi_min)\n",
    "    p = El/(El+c2*Ej)\n",
    "    c2,c3,c4,c5 = new_cparameters(c2,c3,c4,c5,p)\n",
    "    omega_s = np.sqrt(8*c2*Ej*Ec)\n",
    "    phi_zpf = np.power(2*Ec/(Ej*c2),1/4)\n",
    "    g2 = Ej*phi_zpf**2*c2/2\n",
    "    g3 = Ej*phi_zpf**3*c3/3/2\n",
    "    g4 = Ej*phi_zpf**4*c4/4/3/2\n",
    "    g5 = Ej*phi_zpf**5*c5/5/4/3/2\n",
    "    \n",
    "    sdim = 5\n",
    "    s = annihilation(sdim)\n",
    "    sd = creation(sdim)\n",
    "    x2 = np.matmul(s+sd,s+sd)\n",
    "    x3 = np.matmul(s+sd,x2)\n",
    "    x4 = np.matmul(s+sd,x3)\n",
    "    x5 = np.matmul(s+sd,x4)\n",
    "    x6 = np.matmul(s+sd,x5)\n",
    "#     anh = 12*(g4-5*g3**2/omega_s)\n",
    "    Hs = omega_s * np.matmul(sd,s)+g3*x3 + g4*x4 + g5*x5 + 1e-9*x6 \n",
    "    energy = np.linalg.eigh(Hs)[0]\n",
    "    energy = energy-energy[0]*np.ones(len(energy))\n",
    "    omega_s = energy[1]\n",
    "    anh = (energy[2]-energy[1]-energy[1]-energy[0])\n",
    "    cdim = 5\n",
    "    c = annihilation(cdim)\n",
    "    cd = creation(cdim)\n",
    "    Hc = omega_c*np.matmul(cd,c)\n",
    "    Ic = np.identity(cdim)\n",
    "    Is = np.identity(sdim)\n",
    "    Hs = np.kron(Hs,Ic)\n",
    "    Hc = np.kron(Is,Hc)\n",
    "    g_int = g_intfa*2*np.pi*np.power((2*Ec)/Ej,1/4)/phi_zpf\n",
    "    H_int = g_int*np.kron(s+sd,cd+c)\n",
    "#     H_int = g_int*(np.kron(sd,c)+np.kron(s,cd))\n",
    "    H = Hs + Hc + H_int\n",
    "    energy,dressed_states = np.linalg.eigh(H)\n",
    "    energy = energy-energy[0]*np.ones(len(energy))\n",
    "    exact = energy[1]\n",
    "    return exact\n",
    "Egrad = ad.grad(coupled_spectrum)\n",
    "\n",
    "def T1f(der):\n",
    "    factor = np.sqrt(2*np.abs(np.log(2*np.pi*1*1e-5)))\n",
    "    return 1/(factor*10**-6*der)\n",
    "def Tw(der):\n",
    "    return 3/1.7*1/((der*10**-8)**2*1e9)\n",
    "def os(phi_ex,beta,N,Ej,Ec,El,omega_c):\n",
    "    phi_ex = 2*np.pi*phi_ex\n",
    "    def U_s(phi): \n",
    "        return (-beta*np.cos(phi-phi_ex)-N*np.cos((phi)/N))\n",
    "    @primitive\n",
    "    def Us_min(phi_ex):\n",
    "        def U_s(phi): \n",
    "            return (-beta*np.cos(phi-phi_ex)-N*np.cos((phi)/N))\n",
    "        phi_min = sci.optimize.minimize(U_s,0).x\n",
    "        return phi_min\n",
    "    \n",
    "    def phi_minde(ans, phi_ex):\n",
    "        def phi_minde_vjp(g):\n",
    "            c2 = beta*np.cos(ans - phi_ex) + 1/N*np.cos(ans/N)\n",
    "            return g*beta*np.cos(ans - phi_ex)/c2\n",
    "        return phi_minde_vjp\n",
    "    defvjp(Us_min, phi_minde)\n",
    "    phi_min = Us_min(phi_ex)\n",
    "    # potential expansion around minimum\n",
    "    firstd = ad.grad(U_s)\n",
    "    secondd = ad.grad(firstd)\n",
    "    thirdd = ad.grad(secondd)\n",
    "    fourd = ad.grad(thirdd)\n",
    "    fived = ad.grad(fourd)\n",
    "    c2 = secondd(phi_min)\n",
    "    c3 = thirdd(phi_min)\n",
    "    c4 = fourd(phi_min)\n",
    "    c5 = fived(phi_min)\n",
    "    p = El/(El+c2*Ej)\n",
    "    c2,c3,c4,c5 = new_cparameters(c2,c3,c4,c5,p)\n",
    "    omega_s = np.sqrt(8*c2*Ej*Ec)\n",
    "    phi_zpf = np.power(2*Ec/(Ej*c2),1/4)\n",
    "    g2 = Ej*phi_zpf**2*c2/2\n",
    "    g3 = Ej*phi_zpf**3*c3/3/2\n",
    "    g4 = Ej*phi_zpf**4*c4/4/3/2\n",
    "    g5 = Ej*phi_zpf**5*c5/5/4/3/2\n",
    "    \n",
    "    sdim = 5\n",
    "    s = annihilation(sdim)\n",
    "    sd = creation(sdim)\n",
    "    x2 = np.matmul(s+sd,s+sd)\n",
    "    x3 = np.matmul(s+sd,x2)\n",
    "    x4 = np.matmul(s+sd,x3)\n",
    "    x5 = np.matmul(s+sd,x4)\n",
    "    x6 = np.matmul(s+sd,x5)\n",
    "    Hs = omega_s * np.matmul(sd,s)+g3*x3 + g4*x4 + g5*x5 + 1e-9*x6 \n",
    "    energy = np.linalg.eigh(Hs)[0]\n",
    "    energy = energy-energy[0]*np.ones(len(energy))\n",
    "    omega_s = energy[1]\n",
    "    anh = (energy[2]-energy[1]-energy[1]-energy[0])/2/np.pi\n",
    "    return omega_s,anh\n",
    "def god(phi_ex,beta,N,Ej,Ec,El,omega_c,g_intfa):\n",
    "    phi_ex = 2*np.pi*phi_ex\n",
    "    def U_s(phi): \n",
    "        return (-beta*np.cos(phi-phi_ex)-N*np.cos((phi)/N))\n",
    "    @primitive\n",
    "    def Us_min(phi_ex):\n",
    "        def U_s(phi): \n",
    "            return (-beta*np.cos(phi-phi_ex)-N*np.cos((phi)/N))\n",
    "        phi_min = sci.optimize.minimize(U_s,0).x\n",
    "        return phi_min\n",
    "    \n",
    "    def phi_minde(ans, phi_ex):\n",
    "        def phi_minde_vjp(g):\n",
    "            c2 = beta*np.cos(ans - phi_ex) + 1/N*np.cos(ans/N)\n",
    "            return g*beta*np.cos(ans - phi_ex)/c2\n",
    "        return phi_minde_vjp\n",
    "    defvjp(Us_min, phi_minde)\n",
    "    phi_min = Us_min(phi_ex)\n",
    "    # potential expansion around minimum\n",
    "    firstd = ad.grad(U_s)\n",
    "    secondd = ad.grad(firstd)\n",
    "    thirdd = ad.grad(secondd)\n",
    "    fourd = ad.grad(thirdd)\n",
    "    fived = ad.grad(fourd)\n",
    "    c2 = secondd(phi_min)\n",
    "    c3 = thirdd(phi_min)\n",
    "    c4 = fourd(phi_min)\n",
    "    c5 = fived(phi_min)\n",
    "    p = El/(El+c2*Ej)\n",
    "    c2,c3,c4,c5 = new_cparameters(c2,c3,c4,c5,p)\n",
    "    omega_s = np.sqrt(8*c2*Ej*Ec)\n",
    "    phi_zpf = np.power(2*Ec/(Ej*c2),1/4)\n",
    "    g2 = Ej*phi_zpf**2*c2/2\n",
    "    g3 = Ej*phi_zpf**3*c3/3/2\n",
    "    g4 = Ej*phi_zpf**4*c4/4/3/2\n",
    "    g5 = Ej*phi_zpf**5*c5/5/4/3/2\n",
    "    \n",
    "    sdim = 5\n",
    "    s = annihilation(sdim)\n",
    "    sd = creation(sdim)\n",
    "    x2 = np.matmul(s+sd,s+sd)\n",
    "    x3 = np.matmul(s+sd,x2)\n",
    "    x4 = np.matmul(s+sd,x3)\n",
    "    x5 = np.matmul(s+sd,x4)\n",
    "    x6 = np.matmul(s+sd,x5)\n",
    "#     anh = 12*(g4-5*g3**2/omega_s)\n",
    "    Hs = omega_s * np.matmul(sd,s)+g3*x3 + g4*x4 + g5*x5 + 1e-9*x6 \n",
    "    energy = np.linalg.eigh(Hs)[0]\n",
    "    energy = energy-energy[0]*np.ones(len(energy))\n",
    "    omega_s = energy[1]\n",
    "    anh = (energy[2]-energy[1]-energy[1]-energy[0])\n",
    "    g_int = g_intfa*2*np.pi*np.power((2*Ec)/Ej,1/4)/phi_zpf\n",
    "    delta = omega_s - omega_c\n",
    "    return g_int/delta,delta/2/np.pi,g_int/2/np.pi,g3,g4,g5,np.sqrt(8*c2*Ej*Ec),omega_s\n",
    "import scipy.optimize as opt\n",
    "def minimize_anh(phi_ex_initial, beta, N, Ej, Ec, El, omega_c):\n",
    "    # Wrapper function that takes only phi_ex as an argument\n",
    "    def anh_wrapper(phi_ex):\n",
    "        omega_s, anh = os(phi_ex, beta, N, Ej, Ec, El, omega_c)\n",
    "        return np.abs(anh)\n",
    "    bounds = [(0,0.5)]\n",
    "    # Optimize phi_ex\n",
    "    result = opt.direct(anh_wrapper, bounds = bounds)\n",
    "\n",
    "    # Return the result of the optimization\n",
    "    return result.x, result.fun\n",
    "def minimize_Tp(omega_c, beta, N, Ej, Ec, El, phi_ex,g_intfac):\n",
    "    # Wrapper function that takes only phi_ex as an argument\n",
    "    def anh_wrapper(omega_c):\n",
    "        der = Egrad(phi_ex,beta,N,Ej,Ec,El,omega_c,g_intfac)\n",
    "        T1fs = np.abs(T1f(der))\n",
    "        return 1/T1fs*1e9\n",
    "    bounds = [(0.5*2*np.pi,3*np.pi)]\n",
    "    # Optimize phi_ex\n",
    "    result = opt.minimize(anh_wrapper,omega_c, bounds = bounds)\n",
    "\n",
    "    # Return the result of the optimization\n",
    "    return result.x, result.fun"
   ]
  },
  {
   "cell_type": "code",
   "execution_count": 69,
   "id": "1facb4e6",
   "metadata": {},
   "outputs": [
    {
     "name": "stdout",
     "output_type": "stream",
     "text": [
      "β: 0.20000\n",
      "Ej: 30.00000 GHz\n",
      "Ec: 0.17700 GHz\n",
      "El: 64.00000 GHz\n",
      "g3: 0.066785 GHz\n",
      "g4: 0.0031544 GHz\n",
      "g5: -0.00083340 GHz\n",
      "ω_s: 2.84370 GHz\n",
      "\n",
      "\n",
      "T_ϕ: 12701184.96991 s\n",
      "ω_c: 1.11665 GHz\n",
      "g_int: 0.099651 GHz\n",
      "Δ: 1.72704 GHz\n",
      "g/Δ: 0.057700\n"
     ]
    }
   ],
   "source": [
    "beta = 0.2\n",
    "N = 3\n",
    "Ej = 30*2*np.pi\n",
    "Ec = 0.177*2*np.pi\n",
    "phi_ex = 0.4\n",
    "El = 64*2*np.pi\n",
    "delta = 1e-3\n",
    "# s_grad = np.abs((os(phi_ex+delta,beta,N,Ej,Ec,El,0)[0]-os(phi_ex,beta,N,Ej,Ec,El,0)[0])/delta)\n",
    "omega_c = 1.5*2*np.pi\n",
    "phi_ex,anh=minimize_anh(phi_ex, beta, N, Ej, Ec, El, 0)\n",
    "phi_ex=phi_ex[0]\n",
    "g_intfa=0.15\n",
    "omega_c=minimize_Tp(omega_c, beta, N, Ej, Ec, El, phi_ex,g_intfa)[0][0]\n",
    "der = Egrad(phi_ex,beta,N,Ej,Ec,El,omega_c,g_intfa)\n",
    "T1fs = np.abs(T1f(der))\n",
    "ratio,delta,g_int,g3,g4,g5,omega_bs,omega_s=god(phi_ex,beta,N,Ej,Ec,El,omega_c,g_intfa)\n",
    "def format_number(num):\n",
    "    if num == 0:\n",
    "        return \"0.00000\"\n",
    "    else:\n",
    "        # Find the first non-zero digit after the decimal point\n",
    "        decimal_places = -int(np.floor(np.log10(abs(num)))) + 4\n",
    "        # Ensure a minimum of 5 decimal places\n",
    "        decimal_places = max(decimal_places, 5)\n",
    "        return f\"{num:.{decimal_places}f}\"\n",
    "print('β: ' + format_number(beta))\n",
    "print('Ej: ' + format_number(Ej / 2 / np.pi) + ' GHz')\n",
    "print('Ec: ' + format_number(Ec / 2 / np.pi) + ' GHz')\n",
    "print('El: ' + format_number(El / 2 / np.pi) + ' GHz')\n",
    "print('g3: ' + format_number(g3[0] / 2 / np.pi) + ' GHz')\n",
    "print('g4: ' + format_number(g4[0] / 2 / np.pi) + ' GHz')\n",
    "print('g5: ' + format_number(g5[0] / 2 / np.pi) + ' GHz')\n",
    "print('ω_s: ' + format_number(omega_s/2/np.pi) + ' GHz')\n",
    "# print('ω_s: ' + format_number((delta+omega_c) / 2 / np.pi) + ' GHz')\n",
    "print('\\n')\n",
    "print(\"T_ϕ: \" + format_number(T1fs / 1e9) + ' s')\n",
    "print('ω_c: ' + format_number(omega_c / 2 / np.pi) + ' GHz')\n",
    "print('g_int: ' + format_number(g_int[0] ) + ' GHz')\n",
    "print('Δ: ' + format_number(delta) + ' GHz')\n",
    "print('g/Δ: ' + format_number(ratio[0]))\n",
    "# γ_s = T1f(s_grad)/1e3\n",
    "# γ_s"
   ]
  },
  {
   "cell_type": "code",
   "execution_count": 67,
   "id": "80956d44",
   "metadata": {},
   "outputs": [
    {
     "data": {
      "text/plain": [
       "1.0528612609696832e-07"
      ]
     },
     "execution_count": 67,
     "metadata": {},
     "output_type": "execute_result"
    }
   ],
   "source": [
    "anh"
   ]
  },
  {
   "cell_type": "code",
   "execution_count": 47,
   "id": "da7019e2",
   "metadata": {},
   "outputs": [
    {
     "data": {
      "text/plain": [
       "array([-0.02227887])"
      ]
     },
     "execution_count": 47,
     "metadata": {},
     "output_type": "execute_result"
    }
   ],
   "source": [
    "(g4-5*g3**2/omega_s)/2/np.pi*12"
   ]
  },
  {
   "cell_type": "code",
   "execution_count": 36,
   "id": "82d5ed0b",
   "metadata": {},
   "outputs": [
    {
     "data": {
      "text/plain": [
       "4.5003873853280485"
      ]
     },
     "execution_count": 36,
     "metadata": {},
     "output_type": "execute_result"
    }
   ],
   "source": [
    "os(phi_ex,beta,N,Ej,Ec,El,0)[0]/2/np.pi"
   ]
  },
  {
   "cell_type": "code",
   "execution_count": 506,
   "id": "3309e544",
   "metadata": {},
   "outputs": [],
   "source": [
    "# beta = 0.15\n",
    "# N = 3\n",
    "# Ej = 90*2*np.pi\n",
    "# Ec = 0.177*2*np.pi\n",
    "# phi_ex = 0.4\n",
    "El = 1e3*2*np.pi\n",
    "omega_cs = np.linspace(0.1*2*np.pi,3*2*np.pi,400)\n",
    "T1fs =  np.zeros(len(omega_cs))\n",
    "Tws = np.zeros(len(omega_cs))\n",
    "der = np.zeros(len(omega_cs))\n",
    "gods = np.zeros(len(omega_cs))\n",
    "gs = np.zeros(len(omega_cs))\n",
    "deltas = np.zeros(len(omega_cs))\n",
    "g_intfac = 0.15\n",
    "for i in range(len(omega_cs)):\n",
    "    der[i] = Egrad(phi_ex,beta,N,Ej,Ec,El,omega_cs[i],g_intfac)\n",
    "    gods[i], gs[i],deltas[i]= god(phi_ex,beta,N,Ej,Ec,El,omega_cs[i],g_intfac)\n",
    "    T1fs[i] = np.abs(T1f(der[i]))\n",
    "    Tws[i] = np.abs(Tw(der[i]))"
   ]
  },
  {
   "cell_type": "code",
   "execution_count": 507,
   "id": "79792628",
   "metadata": {},
   "outputs": [
    {
     "data": {
      "text/plain": [
       "[<matplotlib.lines.Line2D at 0x7f9ad6a06970>]"
      ]
     },
     "execution_count": 507,
     "metadata": {},
     "output_type": "execute_result"
    },
    {
     "data": {
      "image/png": "[encoded data removed]",
      "text/plain": [
       "<Figure size 432x288 with 1 Axes>"
      ]
     },
     "metadata": {
      "needs_background": "light"
     },
     "output_type": "display_data"
    }
   ],
   "source": [
    "plt.plot(omega_cs/2/np.pi,gods)"
   ]
  },
  {
   "cell_type": "code",
   "execution_count": 508,
   "id": "317cc218",
   "metadata": {},
   "outputs": [
    {
     "data": {
      "text/plain": [
       "<matplotlib.legend.Legend at 0x7f9ad6b74040>"
      ]
     },
     "execution_count": 508,
     "metadata": {},
     "output_type": "execute_result"
    },
    {
     "data": {
      "image/png": "[encoded data removed]",
      "text/plain": [
       "<Figure size 432x288 with 1 Axes>"
      ]
     },
     "metadata": {
      "needs_background": "light"
     },
     "output_type": "display_data"
    }
   ],
   "source": [
    "plt.plot(omega_cs/2/np.pi,T1fs/1e6,label= 'exact')\n",
    "plt.plot(omega_cs/2/np.pi,1/(gods**2)*(γ_s/1e3),label = '$(Δ/g)^2 3μs$')\n",
    "plt.yscale('log')\n",
    "plt.title('1/f dephasing time')\n",
    "plt.ylabel('$T_\\phi(ms)$')\n",
    "plt.xlabel('$\\omega_c$')\n",
    "plt.legend()"
   ]
  },
  {
   "cell_type": "code",
   "execution_count": 234,
   "id": "80e69f3c",
   "metadata": {},
   "outputs": [
    {
     "data": {
      "text/plain": [
       "0.595799837476944"
      ]
     },
     "execution_count": 234,
     "metadata": {},
     "output_type": "execute_result"
    }
   ],
   "source": [
    "(1/(gods**2)*(γ_s/1e3))[300]"
   ]
  },
  {
   "cell_type": "code",
   "execution_count": 235,
   "id": "bc076a24",
   "metadata": {},
   "outputs": [
    {
     "data": {
      "text/plain": [
       "0.0633544757653835"
      ]
     },
     "execution_count": 235,
     "metadata": {},
     "output_type": "execute_result"
    }
   ],
   "source": [
    "gods[300]"
   ]
  },
  {
   "cell_type": "code",
   "execution_count": null,
   "id": "cffc2acf",
   "metadata": {},
   "outputs": [],
   "source": []
  }
 ],
 "metadata": {
  "kernelspec": {
   "display_name": "Python 3 (ipykernel)",
   "language": "python",
   "name": "python3"
  },
  "language_info": {
   "codemirror_mode": {
    "name": "ipython",
    "version": 3
   },
   "file_extension": ".py",
   "mimetype": "text/x-python",
   "name": "python",
   "nbconvert_exporter": "python",
   "pygments_lexer": "ipython3",
   "version": "3.8.3"
  }
 },
 "nbformat": 4,
 "nbformat_minor": 5
}
