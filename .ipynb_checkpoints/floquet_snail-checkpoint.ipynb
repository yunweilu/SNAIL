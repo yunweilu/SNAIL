{
 "cells": [
  {
   "cell_type": "code",
   "execution_count": 182,
   "id": "346630e2",
   "metadata": {},
   "outputs": [],
   "source": [
    "import numpy as np\n",
    "import matplotlib.pyplot as plt\n",
    "import scipy as sci\n",
    "import autograd as ad\n",
    "import autograd.numpy as np\n",
    "from cosmatrix import cosm,expm_pade\n",
    "expm = expm_pade\n",
    "from autograd.extend import primitive, defvjp\n",
    "from qutip import *\n",
    "def annihilation(dim):\n",
    "    return np.diag(np.sqrt(np.arange(1,dim)),1)\n",
    "def creation(dim):\n",
    "    return np.diag(np.sqrt(np.arange(1,dim)),-1)\n",
    "def SNAIL_H(phi_ex,beta,N,Ej,Ec):\n",
    "    phi_ex = 2*np.pi*phi_ex\n",
    "    @primitive\n",
    "    def Us_min(phi_ex):\n",
    "        def U_s(phi): \n",
    "            return (-beta*np.cos(phi-phi_ex)-N*np.cos((phi)/N))\n",
    "        phi_min = sci.optimize.minimize(U_s,0).x\n",
    "        return phi_min\n",
    "    \n",
    "    def phi_minde(ans, phi_ex):\n",
    "        def phi_minde_vjp(g):\n",
    "            c2 = beta*np.cos(ans - phi_ex) + 1/N*np.cos(ans/N)\n",
    "            return g*beta*np.cos(ans - phi_ex)/c2\n",
    "        return phi_minde_vjp\n",
    "    defvjp(Us_min, phi_minde)\n",
    "    \n",
    "    phi_min = Us_min(phi_ex)\n",
    "    # potential expansion around minimum\n",
    "    c2 = beta*np.cos(phi_min - phi_ex) + 1/N*np.cos(phi_min/N)\n",
    "    omega_s = np.sqrt(8*c2*Ej*Ec)\n",
    "    phi_zpf = np.power(2*Ec/(Ej*c2),1/4)\n",
    "    g2 = Ej*phi_zpf**2*c2/2\n",
    "    sdim = 10\n",
    "    s = annihilation(sdim)\n",
    "    sd = creation(sdim)\n",
    "    x2 = np.matmul(s+sd,s+sd)\n",
    "    c3 = (N**2-1)/N**2*np.sin(phi_min/N)\n",
    "    g3 = Ej*phi_zpf**3*c3/3/2\n",
    "    c4 = -beta*np.cos(phi_min-phi_ex) -1/N**3*np.cos(phi_min/N)\n",
    "\n",
    "    g4 = Ej*phi_zpf**4*c4/4/3/2\n",
    "    Hs = (omega_s * np.matmul(sd,s)\n",
    "        - Ej*(beta*cosm(phi_zpf*(s+sd)+(phi_min-phi_ex)*np.identity(sdim))\n",
    "        + N*cosm((phi_zpf*(s+sd)+phi_min*np.identity(sdim))/N))- g2*x2)\n",
    "    energy,U = np.linalg.eigh(Hs)\n",
    "    U_dag = np.conjugate(U.transpose())\n",
    "    Hs = U_dag@Hs@U\n",
    "    return Hs-energy[0]*np.identity(sdim),U_dag@(s+sd)@U"
   ]
  },
  {
   "cell_type": "code",
   "execution_count": null,
   "id": "baaaced7",
   "metadata": {},
   "outputs": [],
   "source": [
    "import matplotlib.pyplot as plt\n",
    "import scipy as sci\n",
    "import autograd as ad\n",
    "import autograd.numpy as np\n",
    "from cosmatrix import cosm,expm_pade\n",
    "expm = expm_pade\n",
    "from autograd.extend import primitive, defvjp\n",
    "def create_custom_matrix(N, dim):\n",
    "    # Initialize a dim x dim matrix with zeros\n",
    "    matrix = np.zeros((2*dim+1, 2*dim+1))\n",
    "\n",
    "    # Set the specified elements to 1\n",
    "    for k in range(2*dim+1):\n",
    "        if k  + N < 2*dim+1:\n",
    "            matrix[k][k + N] = 1\n",
    "\n",
    "    return matrix\n",
    "def create_diagonal_matrix(dim, ng, Ec):\n",
    "    # Initialize a dim x dim matrix with zeros\n",
    "    matrix = np.zeros((2*dim+1, 2*dim+1))\n",
    "\n",
    "    # Set the diagonal elements as per the given formula\n",
    "    for k in range(2*dim+1):\n",
    "        matrix[k][k] = 4 * Ec * ((k-dim)/N- ng)**2\n",
    "\n",
    "    return matrix\n",
    "def SNAIL(phi_ex,beta,N,Ej,Ec,ng):\n",
    "    dim = 50\n",
    "    phi_ex = 2*phi_ex*np.pi\n",
    "    U = beta*np.exp(1j*phi_ex)*create_custom_matrix(N, dim)+N*create_custom_matrix(1, dim)\n",
    "    U = U + np.transpose(U.conjugate())\n",
    "    H = create_diagonal_matrix(dim, ng, Ec)-Ej*U/2\n",
    "    energy,dressed_states = np.linalg.eigh(H)\n",
    "    energy = energy-energy[0]*np.ones(len(energy))\n",
    "    return energy[0],energy[1],energy[2],energy[3]"
   ]
  },
  {
   "cell_type": "code",
   "execution_count": 345,
   "id": "7a6a23e8",
   "metadata": {},
   "outputs": [],
   "source": [
    "beta = 0.15\n",
    "N = 3\n",
    "Ej = 90*2*np.pi\n",
    "Ec = 0.177*2*np.pi\n",
    "phi_ex = 0.41340478058712055\n",
    "H0,Hc = SNAIL_H(phi_ex,beta,N,Ej,Ec)"
   ]
  },
  {
   "cell_type": "code",
   "execution_count": 346,
   "id": "cbe57b21",
   "metadata": {},
   "outputs": [],
   "source": [
    "Hc = Hc - Hc[0][0]*np.identity(10)"
   ]
  },
  {
   "cell_type": "code",
   "execution_count": 347,
   "id": "41844d0e",
   "metadata": {},
   "outputs": [
    {
     "data": {
      "text/plain": [
       "array([0.        , 1.49205187, 0.34604136, 1.52218413, 0.9841037 ,\n",
       "       0.48356885, 1.99588741, 1.52642665, 0.75531635, 1.09310255])"
      ]
     },
     "execution_count": 347,
     "metadata": {},
     "output_type": "execute_result"
    }
   ],
   "source": [
    "energies,U=np.linalg.eig(H0)\n",
    "energies = energies - energies[0]*np.ones(len(energies))\n",
    "energies = energies/2/np.pi\n",
    "# U_dag = np.conjugate(U.transpose())\n",
    "# U_dag@Hc@U\n",
    "\n",
    "np.mod(np.abs(energies),2.0)"
   ]
  },
  {
   "cell_type": "code",
   "execution_count": 364,
   "id": "48457246",
   "metadata": {},
   "outputs": [],
   "source": [
    "omega_s = energies[1]"
   ]
  },
  {
   "cell_type": "code",
   "execution_count": 350,
   "id": "d58edacb",
   "metadata": {},
   "outputs": [],
   "source": [
    "H0 = Qobj(H0)\n",
    "Hc = Qobj(Hc)"
   ]
  },
  {
   "cell_type": "code",
   "execution_count": 351,
   "id": "af09c04f",
   "metadata": {},
   "outputs": [
    {
     "data": {
      "text/latex": [
       "Quantum object: dims = [[10], [10]], shape = (10, 10), type = oper, isherm = True $ \\\\ \\left(\\begin{matrix}0.0 & -1.000 & 0.033 & -0.003 & -9.230\\times10^{-05} & 4.434\\times10^{-05} & 5.583\\times10^{-06} & -5.956\\times10^{-07} & 3.170\\times10^{-07} & -8.658\\times10^{-07}\\\\-1.000 & -0.142 & -1.412 & 0.054 & -0.005 & -2.062\\times10^{-04} & -1.020\\times10^{-04} & 1.290\\times10^{-05} & -8.735\\times10^{-06} & -3.038\\times10^{-06}\\\\0.033 & -1.412 & -0.269 & -1.728 & 0.070 & -0.007 & 3.501\\times10^{-04} & -1.582\\times10^{-04} & 4.585\\times10^{-05} & 6.975\\times10^{-05}\\\\-0.003 & 0.054 & -1.728 & -0.383 & -1.992 & 0.084 & 0.010 & 4.227\\times10^{-04} & 6.747\\times10^{-05} & -4.322\\times10^{-04}\\\\-9.230\\times10^{-05} & -0.005 & 0.070 & -1.992 & -0.483 & -2.222 & -0.095 & 0.013 & -0.003 & -2.941\\times10^{-04}\\\\4.434\\times10^{-05} & -2.062\\times10^{-04} & -0.007 & 0.084 & -2.222 & -0.572 & 2.426 & -0.092 & -0.011 & -0.002\\\\5.583\\times10^{-06} & -1.020\\times10^{-04} & 3.501\\times10^{-04} & 0.010 & -0.095 & 2.426 & -0.594 & -2.592 & 0.025 & 0.073\\\\-5.956\\times10^{-07} & 1.290\\times10^{-05} & -1.582\\times10^{-04} & 4.227\\times10^{-04} & 0.013 & -0.092 & -2.592 & -0.222 & 2.533 & 0.011\\\\3.170\\times10^{-07} & -8.735\\times10^{-06} & 4.585\\times10^{-05} & 6.747\\times10^{-05} & -0.003 & -0.011 & 0.025 & 2.533 & -0.034 & -2.130\\\\-8.658\\times10^{-07} & -3.038\\times10^{-06} & 6.975\\times10^{-05} & -4.322\\times10^{-04} & -2.941\\times10^{-04} & -0.002 & 0.073 & 0.011 & -2.130 & 3.449\\\\\\end{matrix}\\right)$"
      ],
      "text/plain": [
       "Quantum object: dims = [[10], [10]], shape = (10, 10), type = oper, isherm = True\n",
       "Qobj data =\n",
       "[[ 0.00000000e+00 -9.99604375e-01  3.33894222e-02 -2.60827810e-03\n",
       "  -9.22989764e-05  4.43423175e-05  5.58260490e-06 -5.95628374e-07\n",
       "   3.16993320e-07 -8.65838078e-07]\n",
       " [-9.99604375e-01 -1.42229211e-01 -1.41238858e+00  5.36113555e-02\n",
       "  -4.96272231e-03 -2.06194742e-04 -1.02017764e-04  1.29006884e-05\n",
       "  -8.73483436e-06 -3.03804289e-06]\n",
       " [ 3.33894222e-02 -1.41238858e+00 -2.69464551e-01 -1.72756341e+00\n",
       "   7.01242414e-02 -7.42140012e-03  3.50062006e-04 -1.58206484e-04\n",
       "   4.58522527e-05  6.97533875e-05]\n",
       " [-2.60827810e-03  5.36113555e-02 -1.72756341e+00 -3.82537277e-01\n",
       "  -1.99166552e+00  8.36130038e-02  9.97187588e-03  4.22656947e-04\n",
       "   6.74736161e-05 -4.32214704e-04]\n",
       " [-9.22989764e-05 -4.96272231e-03  7.01242414e-02 -1.99166552e+00\n",
       "  -4.82573978e-01 -2.22248171e+00 -9.48266312e-02  1.28834925e-02\n",
       "  -3.26581437e-03 -2.94061234e-04]\n",
       " [ 4.43423175e-05 -2.06194742e-04 -7.42140012e-03  8.36130038e-02\n",
       "  -2.22248171e+00 -5.71622735e-01  2.42591721e+00 -9.21244042e-02\n",
       "  -1.10993706e-02 -1.87500051e-03]\n",
       " [ 5.58260490e-06 -1.02017764e-04  3.50062006e-04  9.97187588e-03\n",
       "  -9.48266312e-02  2.42591721e+00 -5.94321000e-01 -2.59155284e+00\n",
       "   2.51158649e-02  7.27074821e-02]\n",
       " [-5.95628374e-07  1.29006884e-05 -1.58206484e-04  4.22656947e-04\n",
       "   1.28834925e-02 -9.21244042e-02 -2.59155284e+00 -2.21636331e-01\n",
       "   2.53293532e+00  1.09892105e-02]\n",
       " [ 3.16993320e-07 -8.73483436e-06  4.58522527e-05  6.74736161e-05\n",
       "  -3.26581437e-03 -1.10993706e-02  2.51158649e-02  2.53293532e+00\n",
       "  -3.41105174e-02 -2.13016320e+00]\n",
       " [-8.65838078e-07 -3.03804289e-06  6.97533875e-05 -4.32214704e-04\n",
       "  -2.94061234e-04 -1.87500051e-03  7.27074821e-02  1.09892105e-02\n",
       "  -2.13016320e+00  3.44901307e+00]]"
      ]
     },
     "execution_count": 351,
     "metadata": {},
     "output_type": "execute_result"
    }
   ],
   "source": [
    "Hc"
   ]
  },
  {
   "cell_type": "code",
   "execution_count": 352,
   "id": "b1e317dc",
   "metadata": {},
   "outputs": [],
   "source": [
    "omega =  1* 2*np.pi\n",
    "args = {'w': omega}\n",
    "T = (2*np.pi)/omega\n",
    "A = 0.6*2*np.pi\n",
    "H = [H0, [Hc, lambda t, args: A*np.cos(args['w']*t)]] \n",
    "options = Options(nsteps=1000000)  # Increasing nsteps to 10000, adjust as needed\n",
    "f_modes, f_energies = floquet_modes(H, T, args, False, options=options) \n",
    "\n",
    "H = [H0, [Hc, lambda t, args: 0*np.cos(args['w']*t)]] \n",
    "f_modes_ca, f_energies_ca = floquet_modes(H, T, args, False, options=options) "
   ]
  },
  {
   "cell_type": "code",
   "execution_count": 353,
   "id": "81f51447",
   "metadata": {},
   "outputs": [
    {
     "data": {
      "text/plain": [
       "array([-0.03389368, -0.04935977,  0.07072385, -0.03641626, -0.1994972 ,\n",
       "        0.45825309,  0.45058922,  0.49607547, -0.43467035,  0.4769955 ])"
      ]
     },
     "execution_count": 353,
     "metadata": {},
     "output_type": "execute_result"
    }
   ],
   "source": [
    "f_energies/2/np.pi"
   ]
  },
  {
   "cell_type": "code",
   "execution_count": 354,
   "id": "888231a9",
   "metadata": {},
   "outputs": [
    {
     "data": {
      "text/plain": [
       "array([-0.01589629,  0.48356897, -0.        ,  0.49205187, -0.00411166,\n",
       "       -0.473569  ,  0.09311755, -0.24464061, -0.47768185,  0.34635267])"
      ]
     },
     "execution_count": 354,
     "metadata": {},
     "output_type": "execute_result"
    }
   ],
   "source": [
    "f_energies_ca/2/np.pi"
   ]
  },
  {
   "cell_type": "code",
   "execution_count": 355,
   "id": "ecf69aa8",
   "metadata": {},
   "outputs": [
    {
     "data": {
      "text/plain": [
       "[Quantum object: dims = [[10], [1]], shape = (10, 1), type = ket\n",
       " Qobj data =\n",
       " [[ 9.93467841e-01+0.00000000e+00j]\n",
       "  [ 1.13873691e-01-2.03685894e-09j]\n",
       "  [ 7.36916087e-03+1.23369809e-08j]\n",
       "  [ 3.55955194e-04+8.05367650e-10j]\n",
       "  [ 2.41395279e-05+7.18396155e-09j]\n",
       "  [ 1.31994697e-06+1.81727470e-09j]\n",
       "  [-1.97957095e-08-2.15645968e-10j]\n",
       "  [-1.87404769e-09-2.01975238e-11j]\n",
       "  [ 5.78196572e-09+3.82477146e-12j]\n",
       "  [ 9.55925214e-09+9.13455969e-13j]],\n",
       " Quantum object: dims = [[10], [1]], shape = (10, 1), type = ket\n",
       " Qobj data =\n",
       " [[ 1.09792365e-02-1.22690959e-08j]\n",
       "  [-1.59026811e-01-3.81984921e-09j]\n",
       "  [ 9.67817009e-01+0.00000000e+00j]\n",
       "  [ 1.93869346e-01+2.74429420e-07j]\n",
       "  [ 1.82584884e-02-1.15106968e-06j]\n",
       "  [ 1.20861115e-03-2.96308099e-07j]\n",
       "  [-9.84121081e-05+3.93925253e-08j]\n",
       "  [-6.81387251e-06+4.06260133e-09j]\n",
       "  [ 6.31103418e-07-4.81807200e-10j]\n",
       "  [ 4.49170224e-07-5.94999092e-11j]],\n",
       " Quantum object: dims = [[10], [1]], shape = (10, 1), type = ket\n",
       " Qobj data =\n",
       " [[-3.17889747e-07-2.17791773e-10j]\n",
       "  [ 1.57822389e-05+4.42356273e-09j]\n",
       "  [-3.14301448e-04-5.21727949e-08j]\n",
       "  [ 3.98809247e-03+4.17854204e-07j]\n",
       "  [-3.76310123e-02-2.07788940e-06j]\n",
       "  [ 2.59610835e-01+2.59782391e-06j]\n",
       "  [ 9.28149273e-01+0.00000000e+00j]\n",
       "  [ 2.61896328e-01+2.00944818e-05j]\n",
       "  [-3.32254495e-02-4.48346503e-06j]\n",
       "  [-3.92762966e-03+2.14046566e-07j]],\n",
       " Quantum object: dims = [[10], [1]], shape = (10, 1), type = ket\n",
       " Qobj data =\n",
       " [[ 9.51020217e-05+6.12489884e-09j]\n",
       "  [-1.99958543e-03-1.95790121e-07j]\n",
       "  [ 2.55507953e-02+1.19019370e-06j]\n",
       "  [-2.19609713e-01+1.86978991e-07j]\n",
       "  [ 9.43643855e-01+0.00000000e+00j]\n",
       "  [ 2.44604671e-01+7.37358636e-07j]\n",
       "  [-2.85289062e-02+1.30455550e-06j]\n",
       "  [-2.35490852e-03+2.46664780e-07j]\n",
       "  [ 3.23879671e-04+5.55006815e-09j]\n",
       "  [ 6.36497117e-05+1.82247221e-09j]],\n",
       " Quantum object: dims = [[10], [1]], shape = (10, 1), type = ket\n",
       " Qobj data =\n",
       " [[-2.92533026e-08+3.48922051e-11j]\n",
       "  [-5.11316939e-07-9.05398954e-10j]\n",
       "  [ 2.29003753e-05+1.41564469e-08j]\n",
       "  [-3.96178652e-04-1.51448369e-07j]\n",
       "  [ 4.51607134e-03+1.17665539e-06j]\n",
       "  [-3.89862936e-02-6.52033913e-06j]\n",
       "  [-2.61868010e-01-2.13232636e-05j]\n",
       "  [ 9.39358889e-01+0.00000000e+00j]\n",
       "  [-2.17207312e-01-5.18055246e-05j]\n",
       "  [-1.76215828e-02-1.07986810e-05j]],\n",
       " Quantum object: dims = [[10], [1]], shape = (10, 1), type = ket\n",
       " Qobj data =\n",
       " [[-1.13578178e-01+4.03687540e-10j]\n",
       "  [ 9.80507529e-01+0.00000000e+00j]\n",
       "  [ 1.59808787e-01-6.96289166e-08j]\n",
       "  [ 1.28678281e-02+3.38282193e-07j]\n",
       "  [ 7.42150095e-04+7.93469654e-08j]\n",
       "  [ 5.57804058e-05+5.01069507e-09j]\n",
       "  [-3.36334066e-06+3.22196396e-10j]\n",
       "  [-1.16543433e-07+4.50038861e-11j]\n",
       "  [ 5.67794004e-08-9.67338337e-11j]\n",
       "  [-2.43983028e-08+3.78708320e-10j]],\n",
       " Quantum object: dims = [[10], [1]], shape = (10, 1), type = ket\n",
       " Qobj data =\n",
       " [[-1.04609828e-03+4.02019775e-08j]\n",
       "  [ 1.85530036e-02-3.46620831e-07j]\n",
       "  [-1.92549197e-01-6.32116255e-08j]\n",
       "  [ 9.55498147e-01+0.00000000e+00j]\n",
       "  [ 2.21460732e-01+3.55286277e-07j]\n",
       "  [ 2.35561987e-02-1.17620423e-06j]\n",
       "  [-1.73581701e-03+3.23390591e-07j]\n",
       "  [-1.56315822e-04+4.06348222e-08j]\n",
       "  [ 2.89738276e-05-1.09775367e-08j]\n",
       "  [ 1.14502467e-05-9.86831467e-08j]],\n",
       " Quantum object: dims = [[10], [1]], shape = (10, 1), type = ket\n",
       " Qobj data =\n",
       " [[-7.27085774e-06-1.78135843e-09j]\n",
       "  [ 1.98598098e-04+2.79925920e-08j]\n",
       "  [-3.01178375e-03-2.54954299e-07j]\n",
       "  [ 3.20696946e-02+1.30280992e-06j]\n",
       "  [-2.42329353e-01-1.31457392e-07j]\n",
       "  [ 9.33108623e-01+0.00000000e+00j]\n",
       "  [-2.61714391e-01-2.45719373e-06j]\n",
       "  [-3.22696268e-02-3.13835450e-07j]\n",
       "  [ 3.32620687e-03-3.34125293e-06j]\n",
       "  [ 6.26257134e-04+5.74198931e-06j]],\n",
       " Quantum object: dims = [[10], [1]], shape = (10, 1), type = ket\n",
       " Qobj data =\n",
       " [[-6.74820234e-10-5.08496462e-11j]\n",
       "  [-1.03695017e-07+9.09569462e-10j]\n",
       "  [ 1.42664942e-06-1.03364137e-08j]\n",
       "  [-1.83782805e-05+7.93135444e-08j]\n",
       "  [ 2.30957141e-04-3.62477561e-07j]\n",
       "  [-3.11025731e-03+1.36719080e-07j]\n",
       "  [-2.56548953e-02-1.45857753e-05j]\n",
       "  [ 2.18640499e-01+5.47970805e-05j]\n",
       "  [ 9.65140848e-01+0.00000000e+00j]\n",
       "  [ 1.41532730e-01+2.41729321e-04j]],\n",
       " Quantum object: dims = [[10], [1]], shape = (10, 1), type = ket\n",
       " Qobj data =\n",
       " [[-8.49031553e-09-1.24648486e-11j]\n",
       "  [-4.82014394e-08+1.98583867e-10j]\n",
       "  [ 1.01297364e-06-1.12184536e-10j]\n",
       "  [-5.92076696e-06-1.05016156e-07j]\n",
       "  [-1.18839058e-05+1.49531792e-06j]\n",
       "  [ 1.74520148e-04-5.28487685e-06j]\n",
       "  [ 2.85991977e-03+6.40806867e-06j]\n",
       "  [-1.34861853e-02-4.94160342e-05j]\n",
       "  [-1.42150187e-01-2.35998926e-04j]\n",
       "  [ 9.89749049e-01+0.00000000e+00j]]]"
      ]
     },
     "execution_count": 355,
     "metadata": {},
     "output_type": "execute_result"
    }
   ],
   "source": [
    "f_modes"
   ]
  },
  {
   "cell_type": "code",
   "execution_count": 356,
   "id": "036c9964",
   "metadata": {},
   "outputs": [
    {
     "name": "stdout",
     "output_type": "stream",
     "text": [
      "[0.9869783506009635, 0.9613950142475397, 0.936669763461991]\n",
      "Basis state 0:\n",
      "  Index of Floquet state with maximum overlap: 0\n",
      "  Corresponding eigenenergy: -0.03389368228309552\n",
      "Basis state 1:\n",
      "  Index of Floquet state with maximum overlap: 5\n",
      "  Corresponding eigenenergy: 0.4582530865694612\n",
      "Basis state 2:\n",
      "  Index of Floquet state with maximum overlap: 1\n",
      "  Corresponding eigenenergy: -0.04935977077290152\n"
     ]
    }
   ],
   "source": [
    "import qutip as qt\n",
    "\n",
    "# Define your system dimension\n",
    "sdim = 10\n",
    "floquet_states = f_modes\n",
    "# Create your basis states\n",
    "basis_states = [qt.basis(sdim, i) for i in range(3)]\n",
    "\n",
    "# Function to calculate overlap (you might use inner product, fidelity, etc.)\n",
    "def calculate_overlap(state1, state2):\n",
    "    return abs((state1.dag() * state2)[0,0])**2\n",
    "\n",
    "# Initialize a list to hold the indices of the Floquet states with the maximum overlap for each basis state\n",
    "max_overlap_indices = [-1] * 3\n",
    "max_overlaps = [0] * 3\n",
    "\n",
    "# Loop over each Floquet state\n",
    "for f_index, f_state in enumerate(floquet_states):\n",
    "    \n",
    "    # Loop over each basis state\n",
    "    for b_index, b_state in enumerate(basis_states):\n",
    "        \n",
    "        # Calculate the overlap\n",
    "        overlap = calculate_overlap(f_state, b_state)\n",
    "        \n",
    "        # If this is the maximum overlap for this basis state, store the index\n",
    "        if overlap > max_overlaps[b_index]:\n",
    "            max_overlaps[b_index] = overlap\n",
    "            max_overlap_indices[b_index] = f_index\n",
    "\n",
    "print(max_overlaps)\n",
    "for i in range(3):\n",
    "    print(f\"Basis state {i}:\")\n",
    "    print(f\"  Index of Floquet state with maximum overlap: {max_overlap_indices[i]}\")\n",
    "    print(f\"  Corresponding eigenenergy: {f_energies[max_overlap_indices[i]]/2/np.pi}\")"
   ]
  },
  {
   "cell_type": "code",
   "execution_count": 357,
   "id": "f7e9d08a",
   "metadata": {},
   "outputs": [],
   "source": [
    "# import qutip as qt\n",
    "\n",
    "# # Define your system dimension\n",
    "# sdim = 10\n",
    "# floquet_states = f_modes_ca\n",
    "# # Create your basis states\n",
    "# basis_states = [qt.basis(sdim, i) for i in range(3)]\n",
    "\n",
    "# # Function to calculate overlap (you might use inner product, fidelity, etc.)\n",
    "# def calculate_overlap(state1, state2):\n",
    "#     return abs((state1.dag() * state2)[0,0])**2\n",
    "\n",
    "# # Initialize a list to hold the indices of the Floquet states with the maximum overlap for each basis state\n",
    "# max_overlap_indices = [-1] * 3\n",
    "# max_overlaps = [0] * 3\n",
    "\n",
    "# # Loop over each Floquet state\n",
    "# for f_index, f_state in enumerate(floquet_states):\n",
    "    \n",
    "#     # Loop over each basis state\n",
    "#     for b_index, b_state in enumerate(basis_states):\n",
    "        \n",
    "#         # Calculate the overlap\n",
    "#         overlap = calculate_overlap(f_state, b_state)\n",
    "        \n",
    "#         # If this is the maximum overlap for this basis state, store the index\n",
    "#         if overlap > max_overlaps[b_index]:\n",
    "#             max_overlaps[b_index] = overlap\n",
    "#             max_overlap_indices[b_index] = f_index\n",
    "\n",
    "\n",
    "# for i in range(3):\n",
    "#     print(f\"Basis state {i}:\")\n",
    "#     print(f\"  Index of Floquet state with maximum overlap: {max_overlap_indices[i]}\")\n",
    "#     print(f\"  Corresponding eigenenergy: {f_energies_ca[max_overlap_indices[i]]/2/np.pi}\")"
   ]
  },
  {
   "cell_type": "code",
   "execution_count": 358,
   "id": "212e3e91",
   "metadata": {},
   "outputs": [],
   "source": [
    "def find_optimal_k(A, B, D):\n",
    "    # Define a large initial minimum difference\n",
    "    min_diff = float('inf')\n",
    "    optimal_k = None\n",
    "    \n",
    "    # Iterate over a range of possible k values\n",
    "    # The range can be adjusted based on expected size of k or other insights you have about your problem\n",
    "    for k in range(-1000, 1000):\n",
    "        # Calculate the difference for this value of k\n",
    "        diff = abs(A - (B + k * D))\n",
    "        \n",
    "        # If this is the smallest difference we've found so far, update min_diff and optimal_k\n",
    "        if diff < min_diff:\n",
    "            min_diff = diff\n",
    "            optimal_k = k\n",
    "            \n",
    "    return optimal_k"
   ]
  },
  {
   "cell_type": "code",
   "execution_count": 365,
   "id": "cedc0aa9",
   "metadata": {},
   "outputs": [],
   "source": [
    "energy01 = f_energies[max_overlap_indices[1]]/2/np.pi-f_energies[max_overlap_indices[0]]/2/np.pi\n",
    "k = find_optimal_k(omega_s, energy01, omega/2/np.pi)\n",
    "energy01 =energy01+k*omega/2/np.pi"
   ]
  },
  {
   "cell_type": "code",
   "execution_count": 360,
   "id": "7270d3c8",
   "metadata": {},
   "outputs": [
    {
     "data": {
      "text/plain": [
       "1"
      ]
     },
     "execution_count": 360,
     "metadata": {},
     "output_type": "execute_result"
    }
   ],
   "source": [
    "max_overlap_indices[2]"
   ]
  },
  {
   "cell_type": "code",
   "execution_count": 366,
   "id": "d06120eb",
   "metadata": {},
   "outputs": [],
   "source": [
    "energy02 = f_energies[max_overlap_indices[2]]/2/np.pi-f_energies[max_overlap_indices[0]]/2/np.pi\n",
    "k = find_optimal_k(2*omega_s, energy02, omega/2/np.pi)\n",
    "energy02 =energy02+k*omega/2/np.pi"
   ]
  },
  {
   "cell_type": "code",
   "execution_count": 367,
   "id": "6f383b26",
   "metadata": {},
   "outputs": [
    {
     "data": {
      "text/plain": [
       "0.00024037380507913042"
      ]
     },
     "execution_count": 367,
     "metadata": {},
     "output_type": "execute_result"
    }
   ],
   "source": [
    "energy02 - energy01 - energy01"
   ]
  },
  {
   "cell_type": "code",
   "execution_count": 368,
   "id": "696bac58",
   "metadata": {},
   "outputs": [
    {
     "data": {
      "text/plain": [
       "-1.6779999999272377e-05"
      ]
     },
     "execution_count": 368,
     "metadata": {},
     "output_type": "execute_result"
    }
   ],
   "source": [
    "9.50911198-4.75456438-4.75456438"
   ]
  },
  {
   "cell_type": "code",
   "execution_count": 370,
   "id": "fa475a72",
   "metadata": {},
   "outputs": [
    {
     "data": {
      "text/plain": [
       "(9.489926907502166e-05+0j)"
      ]
     },
     "execution_count": 370,
     "metadata": {},
     "output_type": "execute_result"
    }
   ],
   "source": [
    "energy01-omega_s"
   ]
  },
  {
   "cell_type": "code",
   "execution_count": null,
   "id": "26a9f3bc",
   "metadata": {},
   "outputs": [],
   "source": []
  }
 ],
 "metadata": {
  "kernelspec": {
   "display_name": "Python 3 (ipykernel)",
   "language": "python",
   "name": "python3"
  },
  "language_info": {
   "codemirror_mode": {
    "name": "ipython",
    "version": 3
   },
   "file_extension": ".py",
   "mimetype": "text/x-python",
   "name": "python",
   "nbconvert_exporter": "python",
   "pygments_lexer": "ipython3",
   "version": "3.8.3"
  }
 },
 "nbformat": 4,
 "nbformat_minor": 5
}
