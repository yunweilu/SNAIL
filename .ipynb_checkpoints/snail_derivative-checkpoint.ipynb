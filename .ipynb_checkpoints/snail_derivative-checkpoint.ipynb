{
 "cells": [
  {
   "cell_type": "code",
   "execution_count": 2,
   "id": "b80fc4e1",
   "metadata": {},
   "outputs": [],
   "source": [
    "import numpy as np\n",
    "import matplotlib.pyplot as plt\n",
    "import scipy as sci\n",
    "import autograd as ad\n",
    "import autograd.numpy as np"
   ]
  },
  {
   "cell_type": "markdown",
   "id": "73633c4c",
   "metadata": {},
   "source": [
    "# SNAIL E_1"
   ]
  },
  {
   "cell_type": "code",
   "execution_count": 40,
   "id": "cd79b8b7",
   "metadata": {},
   "outputs": [],
   "source": [
    "\n",
    "def annihilation(dim):\n",
    "    return np.diag(np.sqrt(np.arange(1,dim+1)),1)\n",
    "def creation(dim):\n",
    "    return np.diag(np.sqrt(np.arange(1,dim+1)),-1)\n",
    "def SNAIL_spectrum(phi_ex):\n",
    "    beta = 0.147\n",
    "    def U_s(phi): \n",
    "        return (-beta*np.cos(phi-phi_ex)-3*np.cos((phi)/3))\n",
    "#     phi_ex = 0.4*2*np.pi\n",
    "    phi_min = sci.optimize.minimize(U_s,0).x\n",
    "    # potential expansion around minimum\n",
    "    firstd = ad.grad(U_s)\n",
    "    secondd = ad.grad(firstd)\n",
    "    thirdd = ad.grad(secondd)\n",
    "    fourd = ad.grad(thirdd)\n",
    "    fived = ad.grad(fourd)\n",
    "    sixd = ad.grad(fived)\n",
    "    sevend = ad.grad(sixd)\n",
    "    eightd = ad.grad(sevend)\n",
    "    c2 = secondd(phi_min[0])\n",
    "    c3 = thirdd(phi_min[0])/3/2\n",
    "    c4 = fourd(phi_min[0])/4/3/2\n",
    "    c5 = fived(phi_min[0])/5/4/3/2\n",
    "    c6 = sixd(phi_min[0])/6/5/4/3/2\n",
    "    c7 = sevend(phi_min[0])/7/6/5/4/3/2\n",
    "    c8 = eightd(phi_min[0])/8/7/6/5/4/3/2\n",
    "    \n",
    "    Ej = 90*2*np.pi\n",
    "    Ec = 0.177*2*np.pi\n",
    "    omega_c = np.sqrt(8*c2*Ej*Ec)\n",
    "    phi_zpf = np.power(2*Ec/Ej/c2,1/4)\n",
    "    g2 = Ej*phi_zpf**2*c2\n",
    "    g3 = Ej*phi_zpf**3*c3\n",
    "    g4 = Ej*phi_zpf**4*c4\n",
    "    g5 = Ej*phi_zpf**5*c5\n",
    "    g6 = Ej*phi_zpf**6*c6\n",
    "    g7 = Ej*phi_zpf**7*c7\n",
    "    g8 = 2*Ej*phi_zpf**8*c8\n",
    "    \n",
    "    dim = 500\n",
    "    s = annihilation(dim)\n",
    "    sd = creation(dim)\n",
    "    H = omega_c * np.matmul(sd,s)\n",
    "    x2 = np.matmul(s+sd,s+sd)\n",
    "    x3 = np.matmul(s+sd,x2)\n",
    "    x4 = np.matmul(s+sd,x3)\n",
    "    x5 = np.matmul(s+sd,x4)\n",
    "    x6 = np.matmul(s+sd,x5)\n",
    "    x7 = np.matmul(s+sd,x6)\n",
    "    x8 = np.matmul(s+sd,x7)\n",
    "    H += g3*x3 + g4*x4 + g5*x5 + g6*x6 + g7*x7 + g8*x8\n",
    "    energy = np.linalg.eigh(H)[0]\n",
    "    energy = energy-energy[0]*np.ones(len(energy))\n",
    "    return energy[1]"
   ]
  },
  {
   "cell_type": "code",
   "execution_count": 49,
   "id": "c2ddca22",
   "metadata": {},
   "outputs": [],
   "source": [
    "phi_exs = np.linspace(0.37*2*np.pi,0.6*2*np.pi,100)\n",
    "energies = np.zeros(len(phi_exs))\n",
    "for i in range(len(phi_exs)):\n",
    "    energies[i] = SNAIL_spectrum(phi_exs[i])"
   ]
  },
  {
   "cell_type": "code",
   "execution_count": 51,
   "id": "1b3c3db7",
   "metadata": {},
   "outputs": [
    {
     "data": {
      "text/plain": [
       "Text(0, 0.5, '0-1 frequency')"
      ]
     },
     "execution_count": 51,
     "metadata": {},
     "output_type": "execute_result"
    },
    {
     "data": {
      "image/png": "[encoded data removed]",
      "text/plain": [
       "<Figure size 432x288 with 1 Axes>"
      ]
     },
     "metadata": {
      "needs_background": "light"
     },
     "output_type": "display_data"
    }
   ],
   "source": [
    "plt.plot(phi_exs/2/np.pi,energies)\n",
    "plt.xlabel('external flux')\n",
    "plt.ylabel('0-1 frequency')"
   ]
  },
  {
   "cell_type": "code",
   "execution_count": 41,
   "id": "a80f1317",
   "metadata": {},
   "outputs": [
    {
     "data": {
      "text/plain": [
       "-10.195120807878766"
      ]
     },
     "execution_count": 41,
     "metadata": {},
     "output_type": "execute_result"
    }
   ],
   "source": [
    "dphi = 1e-4\n",
    "(SNAIL_spectrum(0.4*2*np.pi+dphi)-SNAIL_spectrum((0.4)*2*np.pi))/dphi"
   ]
  },
  {
   "cell_type": "code",
   "execution_count": 35,
   "id": "7afe12f4",
   "metadata": {},
   "outputs": [
    {
     "data": {
      "text/plain": [
       "35.564814488566746"
      ]
     },
     "execution_count": 35,
     "metadata": {},
     "output_type": "execute_result"
    }
   ],
   "source": [
    "SNAIL_spectrum(0.4*2*np.pi)"
   ]
  },
  {
   "cell_type": "code",
   "execution_count": null,
   "id": "0d96feab",
   "metadata": {},
   "outputs": [],
   "source": [
    "g_sc = 0.1*2*np.pi\n",
    "omega_c = 6*2*np.pi"
   ]
  }
 ],
 "metadata": {
  "kernelspec": {
   "display_name": "Python 3 (ipykernel)",
   "language": "python",
   "name": "python3"
  },
  "language_info": {
   "codemirror_mode": {
    "name": "ipython",
    "version": 3
   },
   "file_extension": ".py",
   "mimetype": "text/x-python",
   "name": "python",
   "nbconvert_exporter": "python",
   "pygments_lexer": "ipython3",
   "version": "3.8.3"
  }
 },
 "nbformat": 4,
 "nbformat_minor": 5
}
