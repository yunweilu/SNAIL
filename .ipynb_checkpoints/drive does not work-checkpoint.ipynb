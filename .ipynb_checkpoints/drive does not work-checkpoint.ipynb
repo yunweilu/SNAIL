{
 "cells": [
  {
   "cell_type": "code",
   "execution_count": 130,
   "id": "af85bf13",
   "metadata": {},
   "outputs": [],
   "source": [
    "import matplotlib.pyplot as plt\n",
    "from joblib import Parallel, delayed\n",
    "import scipy as sci\n",
    "import autograd as ad\n",
    "import autograd.numpy as np\n",
    "from cosmatrix import cosm,expm_pade\n",
    "expm = expm_pade\n",
    "from autograd.extend import primitive, defvjp\n",
    "import scipy.optimize as opt\n",
    "from qutip import *\n",
    "from sympy import symbols\n",
    "def annihilation(dim):\n",
    "    return np.diag(np.sqrt(np.arange(1,dim)),1)\n",
    "def creation(dim):\n",
    "    return np.diag(np.sqrt(np.arange(1,dim)),-1)\n",
    "def g3g4(phi_ex,beta, N, Ej, Ec,omega_c):\n",
    "    def U_s(phi): \n",
    "        return (-beta*np.cos(phi-phi_ex)-3*np.cos((phi)/3))\n",
    "#     phi_ex = 0.4*2*np.pi\n",
    "    phi_min = sci.optimize.minimize(U_s,0).x\n",
    "    # potential expansion around minimum\n",
    "    firstd = ad.grad(U_s)\n",
    "    secondd = ad.grad(firstd)\n",
    "    thirdd = ad.grad(secondd)\n",
    "    fourd = ad.grad(thirdd)\n",
    "    fived = ad.grad(fourd)\n",
    "    sixd = ad.grad(fived)\n",
    "    sevend = ad.grad(sixd)\n",
    "    eightd = ad.grad(sevend)\n",
    "    c2 = secondd(phi_min[0])\n",
    "    c3 = thirdd(phi_min[0])\n",
    "    c4 = fourd(phi_min[0])\n",
    "    c5 = fived(phi_min[0])\n",
    "    c6 = sixd(phi_min[0])\n",
    "    c7 = sevend(phi_min[0])/7/6/5/4/3/2\n",
    "    c8 = eightd(phi_min[0])/8/7/6/5/4/3/2\n",
    "    phimd=beta*np.cos(phi_min - phi_ex)/c2\n",
    "    c2d = c3*(beta*np.cos(phi_min - phi_ex)/c2-9/8)\n",
    "    c4d = -10/9*c3*(beta*np.cos(phi_min - phi_ex)/c2-81/80)\n",
    "    c3d = c4*beta*np.cos(phi_min - phi_ex)/c2 +beta*np.cos(phi_min - phi_ex)\n",
    "    omega_s = np.sqrt(8*c2*Ej*Ec)\n",
    "    phi_zpf = np.power(2*Ec/Ej/c2,1/4)\n",
    "    g2 = Ej*phi_zpf**2*c2/2\n",
    "    g3 = Ej*phi_zpf**3*c3/3/2\n",
    "    g4 = Ej*phi_zpf**4*c4/4/3/2\n",
    "    g5 = Ej*phi_zpf**5*c5/5/4/3/2\n",
    "    g6 = Ej*phi_zpf**6*c6/6/5/4/3/2\n",
    "    g_int =  0.1*2*np.pi*np.power((2*Ec)/Ej,1/4)/phi_zpf\n",
    "    A =  0.1*2*np.pi*np.power((2*Ec)/Ej,1/4)\n",
    "    delta = omega_c - omega_s\n",
    "    x=(-4 * np.sqrt(1540 * beta**2 + 141) + 45) / 77\n",
    "    a = (c4d-3/2*c4/c2*c2d-104/72*(2*c3d/c2*c3-5/2*c3**2/c2**2*c2d))\n",
    "    B = 2*omega_s*g_int**2/(omega_c**2-omega_s**2)\n",
    "    u = 24*g4/omega_s - 104*g3**2/omega_s**2\n",
    "    v = omega_s**2/(omega_c**2-omega_s**2)\n",
    "    Bd = 4*Ej*A**2*omega_c**2/(omega_c**2-omega_s**2)**2*c2d\n",
    "#     c3**2, 64/81*(beta**2-x**2)\n",
    "#     c3/c2**2.5*(2*c3d-5/2*c3/c2*c2d)\n",
    "# (c4d/c2**1.5-1.5*c4/c2**2.5*c2d)\n",
    "    c2 = x+1/3\n",
    "#     c4=-x-1/27\n",
    "#     phi_md = x/(x+1/3)\n",
    "#     c3 = np.sqrt(0.6*c2*c4)\n",
    "#     c2d = (phi_md-9/8)*c3\n",
    "#     c4d = (-10/9*phi_md+9/8)*c3\n",
    "# (c4d-3/2*c4/c2*c2d-104/72*(2*c3d*c3/c2-5/2*c3**2*c3/c2**2*c2d))/c2d\n",
    "    return c2,secondd(phi_min[0])\n",
    "def os(phi_ex,beta,N,Ej,Ec,El,omega_c):\n",
    "    phi_ex = 2*np.pi*phi_ex\n",
    "    @primitive\n",
    "    def Us_min(phi_ex):\n",
    "        def U_s(phi): \n",
    "            return (-beta*np.cos(phi-phi_ex)-N*np.cos((phi)/N))\n",
    "        phi_min = sci.optimize.minimize(U_s,0).x\n",
    "        return phi_min\n",
    "    \n",
    "    def phi_minde(ans, phi_ex):\n",
    "        def phi_minde_vjp(g):\n",
    "            c2 = beta*np.cos(ans - phi_ex) + 1/N*np.cos(ans/N)\n",
    "            return g*beta*np.cos(ans - phi_ex)/c2\n",
    "        return phi_minde_vjp\n",
    "    defvjp(Us_min, phi_minde)\n",
    "    def U_s(phi): \n",
    "        return (-beta*np.cos(phi-phi_ex)-3*np.cos((phi)/3))\n",
    "#     phi_ex = 0.4*2*np.pi\n",
    "    phi_min = sci.optimize.minimize(U_s,0).x\n",
    "    # potential expansion around minimum\n",
    "    firstd = ad.grad(U_s)\n",
    "    secondd = ad.grad(firstd)\n",
    "    thirdd = ad.grad(secondd)\n",
    "    fourd = ad.grad(thirdd)\n",
    "    fived = ad.grad(fourd)\n",
    "    sixd = ad.grad(fived)\n",
    "    sevend = ad.grad(sixd)\n",
    "    eightd = ad.grad(sevend)\n",
    "    c2 = secondd(phi_min[0])\n",
    "    c3 = thirdd(phi_min[0])/3/2\n",
    "    c4 = fourd(phi_min[0])/4/3/2\n",
    "    c5 = fived(phi_min[0])/5/4/3/2\n",
    "    c6 = sixd(phi_min[0])/6/5/4/3/2\n",
    "    c7 = sevend(phi_min[0])/7/6/5/4/3/2\n",
    "    c8 = eightd(phi_min[0])/8/7/6/5/4/3/2\n",
    "    \n",
    "    \n",
    "    omega_s = np.sqrt(8*c2*Ej*Ec)\n",
    "    phi_zpf = np.power(2*Ec/Ej/c2,1/4)\n",
    "    g2 = Ej*phi_zpf**2*c2/2\n",
    "    g3 = Ej*phi_zpf**3*c3\n",
    "    g4 = Ej*phi_zpf**4*c4\n",
    "    g5 = Ej*phi_zpf**5*c5\n",
    "    g6 = Ej*phi_zpf**6*c6\n",
    "    phi_min = Us_min(phi_ex)\n",
    "    # potential expansion around minimum\n",
    "    c2 = beta*np.cos(phi_min - phi_ex) + 1/N*np.cos(phi_min/N)\n",
    "    omega_s = np.sqrt(8*c2*Ej*Ec)\n",
    "    phi_zpf = np.power(2*Ec/(Ej*c2),1/4)\n",
    "    g2 = Ej*phi_zpf**2*c2/2\n",
    "    sdim = 10\n",
    "    s = annihilation(sdim)\n",
    "    sd = creation(sdim)\n",
    "    x2 = np.matmul(s+sd,s+sd)\n",
    "    Hs = (omega_s * np.matmul(sd,s)\n",
    "        - Ej*(beta*cosm(phi_zpf*(s+sd)+(phi_min-phi_ex)*np.identity(sdim))\n",
    "        + N*cosm((phi_zpf*(s+sd)+phi_min*np.identity(sdim))/N))- g2*x2)\n",
    "    x3 = np.matmul(x2,s+sd)\n",
    "    x4 = np.matmul(x3,s+sd)\n",
    "    x5 = np.matmul(x4,s+sd)\n",
    "    x6 = np.matmul(x5,s+sd)\n",
    "#     Hs = omega_s * np.matmul(sd,s)+g3*x3+g4*x4\n",
    "    energy = np.linalg.eigh(Hs)[0]\n",
    "    energy = energy-energy[0]*np.ones(len(energy))\n",
    "    omega_s = energy[1]\n",
    "    anh = (energy[2]-energy[1]-energy[1]-energy[0])/2/np.pi\n",
    "#     anh_exp = qload('./symbolic/anh')[0]\n",
    "#     g3sp = symbols('g3', real=True)\n",
    "#     g4sp = symbols('g4', real=True)\n",
    "#     g5sp = symbols('g5', real=True)\n",
    "#     omega = symbols('omega', real=True)\n",
    "#     print(anh-anh_exp.subs({g3sp:g3,g4sp:g4,g5sp:g5,omega:omega_s})/2/np.pi)\n",
    "    return omega_s,anh\n",
    "def minimize_anh( beta, N, Ej, Ec, El, omega_c):\n",
    "    # Wrapper function that takes only phi_ex as an argument\n",
    "    def anh_wrapper(phi_ex):\n",
    "        omega_s, anh = os(phi_ex, beta, N, Ej, Ec, El, omega_c)\n",
    "        return np.abs(anh)\n",
    "    bounds = [(0,0.5)]\n",
    "    # Optimize phi_ex\n",
    "    result = opt.direct(anh_wrapper, bounds = bounds)\n",
    "\n",
    "    # Return the result of the optimization\n",
    "    return result.x, result.fun\n",
    "\n",
    "    \n",
    "def find_optimal_k(A, B, D):\n",
    "    # Define a large initial minimum difference\n",
    "    min_diff = float('inf')\n",
    "    optimal_k = None\n",
    "    \n",
    "    # Iterate over a range of possible k values\n",
    "    # The range can be adjusted based on expected size of k or other insights you have about your problem\n",
    "    for k in range(-1000, 1000):\n",
    "        # Calculate the difference for this value of k\n",
    "        diff = abs(A - (B + k * D))\n",
    "        \n",
    "        # If this is the smallest difference we've found so far, update min_diff and optimal_k\n",
    "        if diff < min_diff:\n",
    "            min_diff = diff\n",
    "            optimal_k = k\n",
    "            \n",
    "    return optimal_k\n",
    "# Function to calculate overlap (you might use inner product, fidelity, etc.)\n",
    "def calculate_overlap(state1, state2):\n",
    "    return abs((state1.dag() * state2)[0,0])**2\n",
    "import qutip as qt\n",
    "\n",
    "\n",
    "\n",
    "def SNAIL_H(phi_ex,beta,N,Ej,Ec):\n",
    "    phi_ex = 2*np.pi*phi_ex\n",
    "    @primitive\n",
    "    def Us_min(phi_ex):\n",
    "        def U_s(phi): \n",
    "            return (-beta*np.cos(phi-phi_ex)-N*np.cos((phi)/N))\n",
    "        phi_min = sci.optimize.minimize(U_s,0).x\n",
    "        return phi_min\n",
    "    \n",
    "    def phi_minde(ans, phi_ex):\n",
    "        def phi_minde_vjp(g):\n",
    "            c2 = beta*np.cos(ans - phi_ex) + 1/N*np.cos(ans/N)\n",
    "            return g*beta*np.cos(ans - phi_ex)/c2\n",
    "        return phi_minde_vjp\n",
    "    defvjp(Us_min, phi_minde)\n",
    "    \n",
    "    phi_min = Us_min(phi_ex)\n",
    "    # potential expansion around minimum\n",
    "    c2 = beta*np.cos(phi_min - phi_ex) + 1/N*np.cos(phi_min/N)\n",
    "    omega_s = np.sqrt(8*c2*Ej*Ec)\n",
    "    phi_zpf = np.power(2*Ec/(Ej*c2),1/4)\n",
    "    g2 = Ej*phi_zpf**2*c2/2\n",
    "    sdim = 10\n",
    "    s = annihilation(sdim)\n",
    "    sd = creation(sdim)\n",
    "    x2 = np.matmul(s+sd,s+sd)\n",
    "    c3 = (N**2-1)/N**2*np.sin(phi_min/N)\n",
    "    g3 = Ej*phi_zpf**3*c3/3/2\n",
    "    x3 = np.matmul(s+sd,x2)\n",
    "    c4 = -beta*np.cos(phi_min-phi_ex) -1/N**3*np.cos(phi_min/N)\n",
    "    \n",
    "    g4 = Ej*phi_zpf**4*c4/4/3/2\n",
    "    x4 = np.matmul(s+sd,x3)\n",
    "    \n",
    "    Hs = (omega_s * np.matmul(sd,s)\n",
    "        - Ej*(beta*cosm(phi_zpf*(s+sd)+(phi_min-phi_ex)*np.identity(sdim))\n",
    "        + N*cosm((phi_zpf*(s+sd)+phi_min*np.identity(sdim))/N))- g2*x2)\n",
    "#     Hs = omega_s * np.matmul(sd,s)+g3*x3+g4*x4\n",
    "    energy,U = np.linalg.eigh(Hs)\n",
    "    U_dag = np.conjugate(U.transpose())\n",
    "    Hs = Hs\n",
    "    return Hs-energy[0]*np.identity(sdim),(s+sd)\n",
    "def floquet_spec(omega,A,phi_ex,Ej,Ec,beta):\n",
    "#     phi_ex = 0.41340478058712055\n",
    "    H0,Hc = SNAIL_H(phi_ex,beta,N,Ej,Ec)\n",
    "    energies,U=np.linalg.eig(H0)\n",
    "    energies = energies - energies[0]*np.ones(len(energies))\n",
    "    energies = energies/2/np.pi\n",
    "    # U_dag = np.conjugate(U.transpose())\n",
    "    # U_dag@Hc@U\n",
    "    energies = np.sort(energies)\n",
    "    omega_s = energies[1]\n",
    "    H0 = Qobj(H0)\n",
    "    Hc = Qobj(Hc)\n",
    "    args = {'w': omega}\n",
    "    T = (2*np.pi)/omega\n",
    "    H = [H0, [Hc, lambda t, args: A*np.cos(args['w']*t)]] \n",
    "    options = Options(nsteps=100000)  # Increasing nsteps to 10000, adjust as needed\n",
    "    f_modes, f_energies = floquet_modes(H, T, args, False, options=options) \n",
    "    \n",
    "    # Define your system dimension\n",
    "    sdim = 10\n",
    "    floquet_states = f_modes\n",
    "    # Create your basis states\n",
    "    basis_states = [qt.basis(sdim, i) for i in range(3)]\n",
    "    # Initialize a list to hold the indices of the Floquet states with the maximum overlap for each basis state\n",
    "    max_overlap_indices = [-1] * 3\n",
    "    max_overlaps = [0] * 3\n",
    "    # Loop over each Floquet state\n",
    "    for f_index, f_state in enumerate(floquet_states):\n",
    "\n",
    "        # Loop over each basis state\n",
    "        for b_index, b_state in enumerate(basis_states):\n",
    "\n",
    "            # Calculate the overlap\n",
    "            overlap = calculate_overlap(f_state, b_state)\n",
    "\n",
    "            # If this is the maximum overlap for this basis state, store the index\n",
    "            if overlap > max_overlaps[b_index]:\n",
    "                max_overlaps[b_index] = overlap\n",
    "                max_overlap_indices[b_index] = f_index\n",
    "    energy01 = f_energies[max_overlap_indices[1]]/2/np.pi-f_energies[max_overlap_indices[0]]/2/np.pi\n",
    "    k = find_optimal_k(omega_s, energy01, omega/2/np.pi)\n",
    "    energy01 =energy01+k*omega/2/np.pi\n",
    "    omega_ss = energy01-omega_s\n",
    "    energy02 = f_energies[max_overlap_indices[2]]/2/np.pi-f_energies[max_overlap_indices[0]]/2/np.pi\n",
    "    k = find_optimal_k(2*omega_s, energy02, omega/2/np.pi)\n",
    "    energy02 =energy02+k*omega/2/np.pi\n",
    "    anh = energy02 - energy01 - energy01\n",
    "    if (max_overlaps<(np.sqrt(2)/2*np.ones(3))).all():\n",
    "        omega_ss = 1000\n",
    "        anh = 1000\n",
    "    return np.abs(omega_ss),anh\n",
    "def minimize_anhfl( omega,A,phi_ex,Ej,Ec,beta):\n",
    "    # Wrapper function that takes only phi_ex as an argument\n",
    "    def anh_wrapper(phi_ex):\n",
    "        omega_s, anh = floquet_spec(omega,A,phi_ex,Ej,Ec,beta)\n",
    "        return np.abs(anh)\n",
    "    bounds = [(0,0.5)]\n",
    "    # Optimize phi_ex\n",
    "    \n",
    "    result = opt.direct(anh_wrapper, bounds = bounds)\n",
    "\n",
    "    # Return the result of the optimization\n",
    "    return result.x, result.fun\n",
    "def coupled_spectrum(phi_ex,omega_c,g_intfa,Ec,Ej,beta):\n",
    "    N = 3\n",
    "    phi_ex = 2*np.pi*phi_ex\n",
    "    g_intfa = 0.15\n",
    "    @primitive\n",
    "    def Us_min(phi_ex):\n",
    "        def U_s(phi): \n",
    "            return (-beta*np.cos(phi-phi_ex)-N*np.cos((phi)/N))\n",
    "        phi_min = sci.optimize.minimize(U_s,0).x\n",
    "        return phi_min\n",
    "    \n",
    "    def phi_minde(ans, phi_ex):\n",
    "        def phi_minde_vjp(g):\n",
    "            c2 = beta*np.cos(ans - phi_ex) + 1/N*np.cos(ans/N)\n",
    "            return g*beta*np.cos(ans - phi_ex)/c2\n",
    "        return phi_minde_vjp\n",
    "    defvjp(Us_min, phi_minde)\n",
    "    \n",
    "    phi_min = Us_min(phi_ex)\n",
    "    # potential expansion around minimum\n",
    "    c2 = beta*np.cos(phi_min - phi_ex) + 1/N*np.cos(phi_min/N)\n",
    "    omega_s = np.sqrt(8*c2*Ej*Ec)\n",
    "    phi_zpf = np.power(2*Ec/(Ej*c2),1/4)\n",
    "    g2 = Ej*phi_zpf**2*c2/2\n",
    "    sdim = 10\n",
    "    s = annihilation(sdim)\n",
    "    sd = creation(sdim)\n",
    "    x2 = np.matmul(s+sd,s+sd)\n",
    "    c3 = (N**2-1)/N**2*np.sin(phi_min/N)\n",
    "    g3 = Ej*phi_zpf**3*c3/3/2\n",
    "    c4 = -beta*np.cos(phi_min-phi_ex) -1/N**3*np.cos(phi_min/N)\n",
    "\n",
    "    g4 = Ej*phi_zpf**4*c4/4/3/2\n",
    "    x3 = np.matmul(s+sd,x2)\n",
    "    x4 = np.matmul(s+sd,x3)\n",
    "    Hs = (omega_s * np.matmul(sd,s)\n",
    "        - Ej*(beta*cosm(phi_zpf*(s+sd)+(phi_min-phi_ex)*np.identity(sdim))\n",
    "        + N*cosm((phi_zpf*(s+sd)+phi_min*np.identity(sdim))/N))- g2*x2)\n",
    "#     Hs = omega_s * np.matmul(sd,s)+g3*x3+g4*x4\n",
    "    cdim = 5\n",
    "    c = annihilation(cdim)\n",
    "    cd = creation(cdim)\n",
    "    Hc = omega_c*np.matmul(cd,c)\n",
    "    Ic = np.identity(cdim)\n",
    "    Is = np.identity(sdim)\n",
    "    Hs = np.kron(Hs,Ic)\n",
    "    Hc = np.kron(Is,Hc)\n",
    "    g_int = g_intfa*2*np.pi*np.power((2*Ec)/Ej,1/4)/phi_zpf\n",
    "    H_int = g_int*np.kron(s+sd,cd+c)\n",
    "#     H_int = g_int*(np.kron(sd,c)+np.kron(s,cd))\n",
    "    H = Hs + Hc + H_int\n",
    "    energy,dressed_states = np.linalg.eigh(H)\n",
    "    energy,U = np.linalg.eigh(H)\n",
    "    U_dag = np.conjugate(U.transpose())\n",
    "    H = U_dag@H@U\n",
    "    return H-energy[0]*np.identity(sdim*cdim),U_dag@np.kron((s+sd),Ic)@U\n",
    "def floquet_comp(omega,A,phi_ex,omega_c,Ec,Ej,beta):\n",
    "    omega_c = omega_c *2*np.pi\n",
    "    g_intfa = 0.15\n",
    "    N = 3\n",
    "    H0,Hc = coupled_spectrum(phi_ex,omega_c,g_intfa,Ec,Ej,beta)\n",
    "    energies,U=np.linalg.eig(H0)\n",
    "    energies = energies - energies[0]*np.ones(len(energies))\n",
    "    energies = energies\n",
    "    # U_dag = np.conjugate(U.transpose())\n",
    "    # U_dag@Hc@U\n",
    "    energies = np.sort(energies)\n",
    "    omega_cp = energies[1]\n",
    "    H0 = Qobj(H0)\n",
    "    Hc = Qobj(Hc)\n",
    "    args = {'w': omega}\n",
    "    T = (2*np.pi)/omega\n",
    "    H = [H0, [Hc, lambda t, args: A*np.cos(args['w']*t)]] \n",
    "    options = Options(nsteps=100000)  # Increasing nsteps to 10000, adjust as needed\n",
    "    f_modes, f_energies = floquet_modes(H, T, args, False, options=options) \n",
    "    \n",
    "    # Define your system dimension\n",
    "    sdim = 10\n",
    "    cdim = 5\n",
    "    floquet_states = f_modes\n",
    "    # Create your basis states\n",
    "    basis_states = [qt.basis(sdim*cdim, i) for i in range(2)]\n",
    "    # Initialize a list to hold the indices of the Floquet states with the maximum overlap for each basis state\n",
    "    max_overlap_indices = [-1] * 3\n",
    "    max_overlaps = [0] * 3\n",
    "    # Loop over each Floquet state\n",
    "    for f_index, f_state in enumerate(floquet_states):\n",
    "\n",
    "        # Loop over each basis state\n",
    "        for b_index, b_state in enumerate(basis_states):\n",
    "\n",
    "            # Calculate the overlap\n",
    "            overlap = calculate_overlap(f_state, b_state)\n",
    "\n",
    "            # If this is the maximum overlap for this basis state, store the index\n",
    "            if overlap > max_overlaps[b_index]:\n",
    "                max_overlaps[b_index] = overlap\n",
    "                max_overlap_indices[b_index] = f_index\n",
    "    energy01 = f_energies[max_overlap_indices[1]]-f_energies[max_overlap_indices[0]]\n",
    "    k = find_optimal_k(omega_cp, energy01, omega)\n",
    "    energy01 =energy01+k*omega\n",
    "    omega_cpp = energy01\n",
    "    if (max_overlaps<(np.sqrt(2)/2*np.ones(3))).all():\n",
    "        omega_cpp == 2*np.pi*1000\n",
    "    return omega_cpp\n",
    "def energy_der(omega,A,phi_ex,omega_c,Ec,Ej,beta):\n",
    "    delta = 1e-5\n",
    "    der = (-floquet_comp(omega,A,phi_ex,omega_c,Ec,Ej,beta) + floquet_comp(omega,A,phi_ex+delta,omega_c,Ec,Ej,beta))/delta\n",
    "    return der\n",
    "def T1f(der):\n",
    "    factor = np.sqrt(2*np.abs(np.log(2*np.pi*1*1e-5)))\n",
    "    return 1/(factor*10**-6*der)\n",
    "def minimize_Tp1(omega,A,phi_ex,omega_c,Ec,Ej,beta):\n",
    "    options = {'maxfev': 20}\n",
    "    # Wrapper function that takes only phi_ex as an argument\n",
    "    def wrapper(omega_c):\n",
    "        der = energy_der(omega,A,phi_ex,omega_c,Ec,Ej,beta)\n",
    "        T1fs = np.abs(T1f(der))\n",
    "        return 1/T1fs*1e9\n",
    "    def callback_function(xk):\n",
    "#     \"\"\"Callback function to check the current function value.\"\"\"\n",
    "        fval = wrapper(xk)\n",
    "        if fval < 0.04:\n",
    "            return True  # Returning True will stop the optimization\n",
    "    # Optimize phi_ex\n",
    "    bounds = [(1,3.2)]\n",
    "    result = opt.minimize(wrapper,omega_c, bounds = bounds,method='Nelder-Mead',options=options)\n",
    "\n",
    "    # Return the result of the optimization\n",
    "    return result.x, result.fun"
   ]
  },
  {
   "cell_type": "code",
   "execution_count": 262,
   "id": "4c63560a",
   "metadata": {},
   "outputs": [],
   "source": [
    "def g3g4(phi_ex,beta,N,Ej,Ec,omega_c,eta):\n",
    "    g_intfa = 0.15\n",
    "    phi_ex = 2*np.pi*phi_ex\n",
    "    def U_s(phi): \n",
    "            return (-beta*np.cos(phi-phi_ex)-N*np.cos((phi)/N))\n",
    "    @primitive\n",
    "    def Us_min(phi_ex):\n",
    "        def U_s(phi): \n",
    "            return (-beta*np.cos(phi-phi_ex)-N*np.cos((phi)/N))\n",
    "        phi_min = sci.optimize.minimize(U_s,0).x\n",
    "        return phi_min\n",
    "    \n",
    "    def phi_minde(ans, phi_ex):\n",
    "        def phi_minde_vjp(g):\n",
    "            c2 = beta*np.cos(ans - phi_ex) + 1/N*np.cos(ans/N)\n",
    "            return g*beta*np.cos(ans - phi_ex)/c2\n",
    "        return phi_minde_vjp\n",
    "    defvjp(Us_min, phi_minde)\n",
    "    \n",
    "    phi_min = Us_min(phi_ex)\n",
    "    # potential expansion around minimum\n",
    "    c2 = beta*np.cos(phi_min - phi_ex) + 1/N*np.cos(phi_min/N)\n",
    "    omega_s = np.sqrt(8*c2*Ej*Ec)\n",
    "    phi_zpf = np.power(2*Ec/(Ej*c2),1/4)\n",
    "    g2 = Ej*phi_zpf**2*c2/2\n",
    "    sdim = 10\n",
    "    s = annihilation(sdim)\n",
    "    sd = creation(sdim)\n",
    "    x2 = np.matmul(s+sd,s+sd)\n",
    "    \n",
    "    # potential expansion around minimum\n",
    "    firstd = ad.grad(U_s)\n",
    "    secondd = ad.grad(firstd)\n",
    "    thirdd = ad.grad(secondd)\n",
    "    fourd = ad.grad(thirdd)\n",
    "    fived = ad.grad(fourd)\n",
    "    c2 = secondd(phi_min)\n",
    "    c3 = thirdd(phi_min)\n",
    "    c4 = fourd(phi_min)\n",
    "    six = ad.grad(fived)\n",
    "    c6 = six(phi_min)\n",
    "    \n",
    "    c5 = fived(phi_min)\n",
    "    g2 = Ej*phi_zpf**2*c2/2\n",
    "    g3 = Ej*phi_zpf**3*c3/3/2\n",
    "    g4 = Ej*phi_zpf**4*c4/4/3/2\n",
    "    g5 = Ej*phi_zpf**5*c5/5/4/3/2\n",
    "    g6 = Ej*phi_zpf**5*c5/6/5/4/3/2\n",
    "    Hs = (omega_s * np.matmul(sd,s)\n",
    "        - Ej*(beta*cosm(phi_zpf*(s+sd)+(phi_min-phi_ex)*np.identity(sdim))\n",
    "        + N*cosm((phi_zpf*(s+sd)+phi_min*np.identity(sdim))/N))- g2*x2)\n",
    "    energy = np.linalg.eigh(Hs)[0]\n",
    "    energy = energy-energy[0]*np.ones(len(energy))\n",
    "    omega_s = energy[1]\n",
    "    anh = (energy[2]-energy[1]-energy[1]-energy[0])\n",
    "    g_int = g_intfa*2*np.pi*np.power((2*Ec)/Ej,1/4)/phi_zpf\n",
    "    delta = omega_s - omega_c\n",
    "    A =  g_intfa*2*np.pi*np.power((2*Ec)/Ej,1/4)\n",
    "    omega_c = omega_c*2*np.pi\n",
    "    derapp = -5*Ej*A**2/(omega_c**2-omega_s**2)**2*(omega_c**2-2*(1+2*eta**2)*omega_s*Ec)\n",
    "    return derapp"
   ]
  },
  {
   "cell_type": "code",
   "execution_count": 3,
   "id": "664f2fa0",
   "metadata": {},
   "outputs": [
    {
     "name": "stdout",
     "output_type": "stream",
     "text": [
      "[0.38209713]\n"
     ]
    },
    {
     "data": {
      "image/png": "[encoded data removed]",
      "text/plain": [
       "<Figure size 432x288 with 1 Axes>"
      ]
     },
     "metadata": {
      "needs_background": "light"
     },
     "output_type": "display_data"
    }
   ],
   "source": [
    "def plot_phisweep(Ec,Ej,beta,): \n",
    "    omega_c=2*2*np.pi\n",
    "    phi_exs = np.linspace(0.0*2*np.pi,0.5*2*np.pi,100)\n",
    "    phi_exsf,anh=minimize_anh( beta, N, Ej, Ec, 0, 0)\n",
    "    snail_energies = np.zeros(len(phi_exs))\n",
    "    g3s = np.zeros(len(phi_exs))\n",
    "    g4s = np.zeros(len(phi_exs))\n",
    "    omegass = np.zeros(len(phi_exs))\n",
    "    god = np.zeros(len(phi_exs))\n",
    "    for i in range(len(phi_exs)):\n",
    "        delta = 1e-5\n",
    "        g3s[i] = g3g4(phi_exs[i],beta,N,Ej,Ec,omega_c)[0]\n",
    "        g4s[i] = g3g4(phi_exs[i],beta,N,Ej,Ec,omega_c)[1]\n",
    "    plt.plot(phi_exs/2/np.pi,g3s, label = 'c3')\n",
    "    plt.plot(phi_exs/2/np.pi,g4s,label = 'c4')\n",
    "    print(phi_exsf)\n",
    "    plt.axvline(phi_exsf,linestyle='--')\n",
    "    plt.axhline(0,linestyle='--')\n",
    "    plt.xlabel('external flux ($\\Phi_0$)')\n",
    "    # plt.ylim(-0.02,0.09)\n",
    "    omega_c = float(omega_c/2/np.pi)\n",
    "    plt.title('β = '+str(beta))\n",
    "    plt.legend()\n",
    "beta = 0.1\n",
    "omega_c = 2*2*np.pi\n",
    "N = 3\n",
    "Ej = 15*2*np.pi\n",
    "Ec = 0.7*2*np.pi\n",
    "plot_phisweep(Ec,Ej,beta,)"
   ]
  },
  {
   "cell_type": "code",
   "execution_count": 289,
   "id": "91b545ee",
   "metadata": {},
   "outputs": [
    {
     "name": "stdout",
     "output_type": "stream",
     "text": [
      "4.754523087333312\n"
     ]
    },
    {
     "data": {
      "text/plain": [
       "6.185074037122092"
      ]
     },
     "execution_count": 289,
     "metadata": {},
     "output_type": "execute_result"
    }
   ],
   "source": [
    "beta = 0.12\n",
    "omega_c1 = 2.70933 \n",
    "# omega_c2 = 1.8\n",
    "N = 3\n",
    "Ej = 15 * 2 * np.pi\n",
    "Ec = 0.7 * 2 * np.pi\n",
    "omega = 0.4 * 2 * np.pi\n",
    "phi_ex = 0.38059900660029355\n",
    "# energy_der(omega,0,phi_ex,omega_c1,Ec,Ej,beta)\n",
    "T1f(np.abs(g3g4(phi_ex,beta, N, Ej, Ec, 2.70933 ,0.5)))/1e6"
   ]
  },
  {
   "cell_type": "code",
   "execution_count": 265,
   "id": "c21cf1dd",
   "metadata": {},
   "outputs": [
    {
     "data": {
      "text/plain": [
       "2.5799868841268623"
      ]
     },
     "execution_count": 265,
     "metadata": {},
     "output_type": "execute_result"
    }
   ],
   "source": [
    "np.sqrt(4.754523087333312*0.7*2)"
   ]
  },
  {
   "cell_type": "code",
   "execution_count": 357,
   "id": "55455a5c",
   "metadata": {
    "scrolled": true
   },
   "outputs": [],
   "source": [
    "beta = 0.12\n",
    "omega_c1 = 2.70933 \n",
    "# omega_c2 = 1.8\n",
    "N = 3\n",
    "Ej = 15 * 2 * np.pi\n",
    "Ec = 0.7 * 2 * np.pi\n",
    "omega = 1.6* 2 * np.pi\n",
    "phi_ex = 0.38059900660029355\n",
    "T1f_values_omega_c1 = []\n",
    "T1f_values_omega_c2 = []\n",
    "A_values = np.linspace(0, 3 * 2 * np.pi, 20)\n",
    "for A in A_values:\n",
    "# Calculating T1f values for different A values and omega_c values\n",
    "    T1f_values_omega_c1.append(T1f(np.abs(energy_der(omega, A, phi_ex, omega_c1, Ec, Ej, beta)))/1e6)\n",
    "#     T1f_values_omega_c2.append(T1f(np.abs(energy_der(omega, A, phi_ex, omega_c2, Ec, Ej, beta)))/1e6)\n",
    "\n"
   ]
  },
  {
   "cell_type": "code",
   "execution_count": 358,
   "id": "c4a6c7fb",
   "metadata": {},
   "outputs": [],
   "source": [
    "omega_s = 4.75452\n",
    "etas = A_values/2/np.pi*2*omega_s/(omega_s**2-(omega/2/np.pi)**2)"
   ]
  },
  {
   "cell_type": "code",
   "execution_count": 359,
   "id": "66971bd0",
   "metadata": {},
   "outputs": [
    {
     "data": {
      "text/plain": [
       "array([0.        , 0.15789474, 0.31578947, 0.47368421, 0.63157895,\n",
       "       0.78947368, 0.94736842, 1.10526316, 1.26315789, 1.42105263,\n",
       "       1.57894737, 1.73684211, 1.89473684, 2.05263158, 2.21052632,\n",
       "       2.36842105, 2.52631579, 2.68421053, 2.84210526, 3.        ])"
      ]
     },
     "execution_count": 359,
     "metadata": {},
     "output_type": "execute_result"
    }
   ],
   "source": [
    "A_values/2/np.pi"
   ]
  },
  {
   "cell_type": "code",
   "execution_count": 360,
   "id": "fd44fa08",
   "metadata": {},
   "outputs": [
    {
     "data": {
      "text/plain": [
       "array([0.        , 0.07490112, 0.14980223, 0.22470335, 0.29960447,\n",
       "       0.37450558, 0.4494067 , 0.52430782, 0.59920893, 0.67411005,\n",
       "       0.74901117, 0.82391228, 0.8988134 , 0.97371452, 1.04861563,\n",
       "       1.12351675, 1.19841787, 1.27331898, 1.3482201 , 1.42312121])"
      ]
     },
     "execution_count": 360,
     "metadata": {},
     "output_type": "execute_result"
    }
   ],
   "source": [
    "etas"
   ]
  },
  {
   "cell_type": "code",
   "execution_count": 361,
   "id": "4db687f3",
   "metadata": {},
   "outputs": [
    {
     "data": {
      "image/png": "[encoded data removed]",
      "text/plain": [
       "<Figure size 720x432 with 1 Axes>"
      ]
     },
     "metadata": {
      "needs_background": "light"
     },
     "output_type": "display_data"
    }
   ],
   "source": [
    "# Plotting\n",
    "plt.figure(figsize=(10, 6))\n",
    "plt.plot(A_values/2/np.pi, T1f_values_omega_c1, label='omega_c = 2.7 * 2pi')\n",
    "# plt.plot(A_values/2/np.pi, etas)\n",
    "# plt.plot(A_values/2/np.pi, T1f_values_omega_c2, label='omega_c = 2.8 * 2pi')\n",
    "plt.xlabel('A ')\n",
    "plt.ylabel('T1f (ms)')\n",
    "plt.title('T1f vs. A for Different omega_c Values')\n",
    "plt.yscale('log')\n",
    "plt.legend()\n",
    "plt.grid(True)\n",
    "plt.show()"
   ]
  },
  {
   "cell_type": "code",
   "execution_count": 52,
   "id": "f1cb66d6",
   "metadata": {},
   "outputs": [
    {
     "data": {
      "text/plain": [
       "0.02530529208399912"
      ]
     },
     "execution_count": 52,
     "metadata": {},
     "output_type": "execute_result"
    }
   ],
   "source": [
    "energy_der(omega,A,phi_ex,omega_c,Ec,Ej,beta)"
   ]
  },
  {
   "cell_type": "code",
   "execution_count": 195,
   "id": "912f3097",
   "metadata": {
    "scrolled": true
   },
   "outputs": [],
   "source": [
    "beta = 0.12\n",
    "N = 3\n",
    "Ej = 90 * 2 * np.pi\n",
    "Ec = 0.177 * 2 * np.pi\n",
    "omega = 1* 2 * np.pi\n",
    "phi_ex = 0.4002794603101128\n",
    "\n",
    "# Range for A\n",
    "A_values = np.linspace(0*2*np.pi, 5*2*np.pi, 20)\n",
    "\n",
    "# # Sweep A and compute phi_ex for each value\n",
    "# for A in A_values:\n",
    "#     phi_ex, _ = minimize_anhfl(omega, A, 0.4, Ej, Ec, beta)\n",
    "#     phi_ex_values.append(phi_ex)\n",
    "\n"
   ]
  },
  {
   "cell_type": "code",
   "execution_count": 196,
   "id": "b11af80c",
   "metadata": {
    "scrolled": true
   },
   "outputs": [],
   "source": [
    "# # Plotting\n",
    "# plt.scatter(A_values/2/np.pi, phi_ex_values)\n",
    "# plt.xlabel(' A')\n",
    "# plt.ylabel('phi_ex')\n",
    "# plt.title('phi_ex vs A')\n",
    "# plt.show()"
   ]
  },
  {
   "cell_type": "code",
   "execution_count": 198,
   "id": "1bea8e70",
   "metadata": {},
   "outputs": [],
   "source": [
    "omega_s=np.abs(SNAIL_H(phi_ex,beta,N,Ej,Ec)[0][1][1]/2/np.pi)\n",
    "omegac_values = []\n",
    "omegac_pred = []\n",
    "T_values = []\n",
    "etas = []"
   ]
  },
  {
   "cell_type": "code",
   "execution_count": 199,
   "id": "59666f70",
   "metadata": {},
   "outputs": [
    {
     "name": "stdout",
     "output_type": "stream",
     "text": [
      "[1.74125] 0.0\n",
      "[1.745625] 1.6534698176788385\n",
      "[1.75875] 3.306939635357677\n",
      "[1.780625] 4.960409453036515\n",
      "[1.81125] 6.613879270715354\n",
      "[1.84625] 8.267349088394193\n",
      "[1.894375] 9.92081890607303\n",
      "[1.946875] 11.57428872375187\n",
      "[2.0125] 13.227758541430708\n",
      "[2.069375] 14.881228359109546\n",
      "[2.1415625] 16.534698176788385\n",
      "[2.218125] 18.188167994467225\n",
      "[2.2990625] 19.84163781214606\n",
      "[2.3865625] 21.4951076298249\n",
      "[2.4784375] 23.14857744750374\n",
      "[2.57578125] 24.802047265182576\n",
      "[2.67804687] 26.455517082861416\n",
      "[2.77703125] 28.108986900540256\n",
      "[2.88121094] 29.76245671821909\n",
      "[2.99632813] 31.41592653589793\n"
     ]
    }
   ],
   "source": [
    "\n",
    "for A in A_values:\n",
    "#     bare_phiex,anh = minimize_anh( beta, N, Ej, Ec, 0, 0)\n",
    "#     bare_phiex = bare_phiex[0]\n",
    "#     phi_ex,anh=minimize_anhfl(omega,A,bare_phiex,Ej,Ec,beta)\n",
    "    omega_c = 2.8\n",
    "    omegac, T=minimize_Tp1(omega,A,phi_ex,omega_c,Ec,Ej,beta)\n",
    "    print(omegac,A)\n",
    "    omegac_values.append(omegac)\n",
    "    T_values.append(T)\n",
    "    eta = A*2*omega_s/(omega_s**2-(omega/2/np.pi)**2)/2/np.pi\n",
    "    etas.append(eta)\n",
    "    omega_cp=np.sqrt(2*(1+eta**2)*omega_s*Ec/2/np.pi)\n",
    "    omegac_pred.append(omega_cp)"
   ]
  },
  {
   "cell_type": "code",
   "execution_count": 201,
   "id": "457034f9",
   "metadata": {},
   "outputs": [
    {
     "data": {
      "text/plain": [
       "[0.0,\n",
       " 0.09409892186365798,\n",
       " 0.18819784372731596,\n",
       " 0.2822967655909739,\n",
       " 0.3763956874546319,\n",
       " 0.47049460931828996,\n",
       " 0.5645935311819478,\n",
       " 0.658692453045606,\n",
       " 0.7527913749092638,\n",
       " 0.8468902967729218,\n",
       " 0.9409892186365799,\n",
       " 1.035088140500238,\n",
       " 1.1291870623638955,\n",
       " 1.2232859842275539,\n",
       " 1.317384906091212,\n",
       " 1.4114838279548696,\n",
       " 1.5055827498185277,\n",
       " 1.599681671682186,\n",
       " 1.6937805935458436,\n",
       " 1.7878795154095017]"
      ]
     },
     "execution_count": 201,
     "metadata": {},
     "output_type": "execute_result"
    }
   ],
   "source": [
    "etas"
   ]
  },
  {
   "cell_type": "code",
   "execution_count": 202,
   "id": "931df1a0",
   "metadata": {},
   "outputs": [
    {
     "data": {
      "text/plain": [
       "array([ 22.83897404,  27.67944352,  27.36281957,  48.64894211,\n",
       "        36.9552143 ,  11.93671484,  19.18506688,  14.36414429,\n",
       "         2.80775761,  30.46682707,  40.46029311,  61.34402604,\n",
       "        18.61440664,  44.97800131,  40.00247159,  33.50680922,\n",
       "        95.63287036,   0.49546413, 272.05762568, 167.33251454])"
      ]
     },
     "execution_count": 202,
     "metadata": {},
     "output_type": "execute_result"
    }
   ],
   "source": [
    "1/np.array(T_values)"
   ]
  },
  {
   "cell_type": "code",
   "execution_count": 200,
   "id": "b172d037",
   "metadata": {},
   "outputs": [
    {
     "data": {
      "image/png": "[encoded data removed]",
      "text/plain": [
       "<Figure size 432x288 with 1 Axes>"
      ]
     },
     "metadata": {
      "needs_background": "light"
     },
     "output_type": "display_data"
    }
   ],
   "source": [
    "plt.scatter(A_values/2/np.pi, np.array(omegac_values))\n",
    "plt.scatter(A_values/2/np.pi, np.array(omegac_pred))\n",
    "plt.xlabel('A')\n",
    "plt.show()"
   ]
  },
  {
   "cell_type": "code",
   "execution_count": 820,
   "id": "9e460a28",
   "metadata": {},
   "outputs": [
    {
     "data": {
      "text/plain": [
       "0.31029647031164753"
      ]
     },
     "execution_count": 820,
     "metadata": {},
     "output_type": "execute_result"
    }
   ],
   "source": [
    "eta"
   ]
  },
  {
   "cell_type": "code",
   "execution_count": 403,
   "id": "2033bd9a",
   "metadata": {},
   "outputs": [
    {
     "data": {
      "image/png": "[encoded data removed]",
      "text/plain": [
       "<Figure size 432x288 with 1 Axes>"
      ]
     },
     "metadata": {
      "needs_background": "light"
     },
     "output_type": "display_data"
    }
   ],
   "source": [
    "beta = 0.15\n",
    "omega_c = 2\n",
    "N = 3\n",
    "Ej = 74*2*np.pi\n",
    "Ec = 0.275*2*np.pi\n",
    "plot_phisweep(Ec,Ej,beta,)\n",
    "# Lists to store results\n",
    "phi_ex_values = []\n",
    "\n",
    "omega = 2*2*np.pi\n",
    "# Range for A\n",
    "A_values = np.linspace(0, 1.5*2*np.pi, 5)\n",
    "\n",
    "# Sweep A and compute phi_ex for each value\n",
    "for A in A_values:\n",
    "    phi_ex, _ = minimize_anhfl(omega, A, 0.4, Ej, Ec, beta)\n",
    "    phi_ex_values.append(phi_ex)\n",
    "# Plotting\n"
   ]
  },
  {
   "cell_type": "code",
   "execution_count": 325,
   "id": "7d570d75",
   "metadata": {},
   "outputs": [
    {
     "data": {
      "text/plain": [
       "Text(0.5, 1.0, 'phi_ex vs A')"
      ]
     },
     "execution_count": 325,
     "metadata": {},
     "output_type": "execute_result"
    },
    {
     "data": {
      "image/png": "[encoded data removed]",
      "text/plain": [
       "<Figure size 432x288 with 1 Axes>"
      ]
     },
     "metadata": {
      "needs_background": "light"
     },
     "output_type": "display_data"
    }
   ],
   "source": [
    "plt.scatter(A_values/2/np.pi, phi_ex_values)\n",
    "plt.xlabel('A')\n",
    "plt.ylabel('phi_ex')\n",
    "plt.title('phi_ex vs A')"
   ]
  },
  {
   "cell_type": "code",
   "execution_count": 326,
   "id": "3eec2785",
   "metadata": {},
   "outputs": [],
   "source": [
    "omega_s=np.abs(SNAIL_H(phi_ex,beta,N,Ej,Ec)[0][1][1]/2/np.pi)\n",
    "omegac_values = []\n",
    "omegac_pred = []\n",
    "T_values = []"
   ]
  },
  {
   "cell_type": "code",
   "execution_count": 327,
   "id": "9b36d9b8",
   "metadata": {},
   "outputs": [],
   "source": [
    "for A in A_values:\n",
    "    bare_phiex,anh = minimize_anh( beta, N, Ej, Ec, 0, 0)\n",
    "    bare_phiex = bare_phiex[0]\n",
    "    phi_ex,anh=minimize_anhfl(omega,A,bare_phiex,Ej,Ec,beta)\n",
    "    phi_ex = phi_ex[0]\n",
    "    omegac, T=minimize_Tp1(omega,A,phi_ex,omega_c,Ec,Ej,beta)\n",
    "    omegac_values.append(omegac)\n",
    "    T_values.append(T)\n",
    "    eta = A*2*omega_s/(omega_s**2-(omega/2/np.pi)**2)/2/np.pi\n",
    "    omega_cp=np.sqrt(2*(1+eta**2)*omega_s*Ec/2/np.pi)\n",
    "    omegac_pred.append(omega_cp)"
   ]
  },
  {
   "cell_type": "code",
   "execution_count": 328,
   "id": "c00ee08c",
   "metadata": {},
   "outputs": [
    {
     "data": {
      "image/png": "[encoded data removed]",
      "text/plain": [
       "<Figure size 432x288 with 1 Axes>"
      ]
     },
     "metadata": {
      "needs_background": "light"
     },
     "output_type": "display_data"
    }
   ],
   "source": [
    "plt.scatter(A_values/2/np.pi, np.array(omegac_values))\n",
    "plt.scatter(A_values/2/np.pi, np.array(omegac_pred)[0:5])\n",
    "plt.xlabel('A')\n",
    "plt.show()"
   ]
  },
  {
   "cell_type": "code",
   "execution_count": null,
   "id": "65d169a9",
   "metadata": {},
   "outputs": [],
   "source": []
  }
 ],
 "metadata": {
  "kernelspec": {
   "display_name": "Python 3 (ipykernel)",
   "language": "python",
   "name": "python3"
  },
  "language_info": {
   "codemirror_mode": {
    "name": "ipython",
    "version": 3
   },
   "file_extension": ".py",
   "mimetype": "text/x-python",
   "name": "python",
   "nbconvert_exporter": "python",
   "pygments_lexer": "ipython3",
   "version": "3.8.3"
  }
 },
 "nbformat": 4,
 "nbformat_minor": 5
}
