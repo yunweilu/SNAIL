{
 "cells": [
  {
   "cell_type": "code",
   "execution_count": 1,
   "id": "f0fa3f9c",
   "metadata": {},
   "outputs": [],
   "source": [
    "import numpy as np\n",
    "import matplotlib.pyplot as plt\n",
    "import scipy as sci\n",
    "import autograd as ad\n",
    "import autograd.numpy as np\n",
    "from cosmatrix import cosm\n",
    "from autograd.extend import primitive, defvjp\n",
    "def annihilation(dim):\n",
    "    return np.diag(np.sqrt(np.arange(1,dim)),1)\n",
    "def creation(dim):\n",
    "    return np.diag(np.sqrt(np.arange(1,dim)),-1)\n",
    "\n",
    "def coupled_spectrum(phi_ex,beta,N,Ej,Ec,omega_c):\n",
    "    @primitive\n",
    "    def Us_min(phi_ex):\n",
    "        def U_s(phi): \n",
    "            return (-beta*np.cos(phi-phi_ex)-N*np.cos((phi)/N))\n",
    "        phi_min = sci.optimize.minimize(U_s,0).x\n",
    "        return phi_min\n",
    "    \n",
    "    def phi_minde(ans, phi_ex):\n",
    "        def phi_minde_vjp(g):\n",
    "            c2 = beta*np.cos(ans - phi_ex) + 1/N*np.cos(ans/N)\n",
    "            return g*beta*np.cos(ans - phi_ex)/c2\n",
    "        return phi_minde_vjp\n",
    "    defvjp(Us_min, phi_minde)\n",
    "    \n",
    "    phi_min = Us_min(phi_ex)\n",
    "    # potential expansion around minimum\n",
    "    c2 = beta*np.cos(phi_min - phi_ex) + 1/N*np.cos(phi_min/N)\n",
    "    omega_s = np.sqrt(8*c2*Ej*Ec)\n",
    "    phi_zpf = np.power(2*Ec/(Ej*c2),1/4)\n",
    "    g2 = Ej*phi_zpf**2*c2/2\n",
    "    sdim = 10\n",
    "    s = annihilation(sdim)\n",
    "    sd = creation(sdim)\n",
    "    x2 = np.matmul(s+sd,s+sd)\n",
    "    Hs = (omega_s * np.matmul(sd,s)\n",
    "        - Ej*(beta*cosm(phi_zpf*(s+sd)+(phi_min-phi_ex)*np.identity(sdim))\n",
    "        + N*cosm((phi_zpf*(s+sd)+phi_min*np.identity(sdim))/N))- g2*x2)\n",
    "    \n",
    "    cdim = 10\n",
    "    c = annihilation(sdim)\n",
    "    cd = creation(sdim)\n",
    "    Hc = omega_c*np.matmul(cd,c)\n",
    "    Ic = np.identity(cdim)\n",
    "    Is = np.identity(sdim)\n",
    "    Hs = np.kron(Hs,Ic)\n",
    "    Hc = np.kron(Is,Hc)\n",
    "    g_int =  0.1*2*np.pi*np.power((2*Ec)/Ej,1/4)/phi_zpf\n",
    "    H_int = g_int*np.kron(s+sd,cd+c)\n",
    "#     H_int = g_int*(np.kron(sd,c)+np.kron(s,cd))\n",
    "    H = Hs + Hc + H_int\n",
    "    energy,dressed_states = np.linalg.eigh(H)\n",
    "    energy = energy-energy[0]*np.ones(len(energy))\n",
    "    exact = energy[1]/2/np.pi\n",
    "    return exact\n",
    "\n",
    "def energy_der(phi_ex,beta,N,Ej,Ec,omega_c):\n",
    "    energy_der = ad.grad(coupled_spectrum)\n",
    "    return energy_der(phi_ex,beta,N,Ej,Ec,omega_c)\n",
    "\n",
    "def g3g4(phi_ex,beta,N,Ej,Ec,omega_c):\n",
    "    def U_s(phi): \n",
    "        return (-beta*np.cos(phi-phi_ex)-3*np.cos((phi)/3))\n",
    "    phi_min = sci.optimize.minimize(U_s,0).x\n",
    "    # potential expansion around minimum\n",
    "    firstd = ad.grad(U_s)\n",
    "    secondd = ad.grad(firstd)\n",
    "    thirdd = ad.grad(secondd)\n",
    "    fourd = ad.grad(thirdd)\n",
    "    fived = ad.grad(fourd)\n",
    "    sixd = ad.grad(fived)\n",
    "    sevend = ad.grad(sixd)\n",
    "    eightd = ad.grad(sevend)\n",
    "    c2 = secondd(phi_min[0])\n",
    "    c3 = thirdd(phi_min[0])/3/2\n",
    "    c4 = fourd(phi_min[0])/4/3/2\n",
    "    c5 = fived(phi_min[0])/5/4/3/2\n",
    "    c6 = sixd(phi_min[0])/6/5/4/3/2\n",
    "    c7 = sevend(phi_min[0])/7/6/5/4/3/2\n",
    "    c8 = eightd(phi_min[0])/8/7/6/5/4/3/2\n",
    "    \n",
    "    omega_s = np.sqrt(8*c2*Ej*Ec)\n",
    "    phi_zpf = np.power(2*Ec/Ej/c2,1/4)\n",
    "    g2 = Ej*phi_zpf**2*c2/2\n",
    "    g3 = Ej*phi_zpf**3*c3\n",
    "    g4 = Ej*phi_zpf**4*c4\n",
    "    \n",
    "    sdim = 10\n",
    "    s = annihilation(sdim)\n",
    "    sd = creation(sdim)\n",
    "    x2 = np.matmul(s+sd,s+sd)\n",
    "    Hs = (omega_s * np.matmul(sd,s)\n",
    "        - Ej*(beta*cosm(phi_zpf*(s+sd)+(phi_min-phi_ex)*np.identity(sdim))\n",
    "        + N*cosm((phi_zpf*(s+sd)+phi_min*np.identity(sdim))/N))- g2*x2)\n",
    "    energy,dressed_states = np.linalg.eigh(Hs)\n",
    "    energy = energy-energy[0]*np.ones(len(energy))\n",
    "    omega_s = energy[1]\n",
    "    return g3/2/np.pi,g4/2/np.pi,omega_s/2/np.pi\n",
    "\n",
    "def sweep(phi_ex,beta,omega_c):\n",
    "    Ej = 90*2*np.pi\n",
    "    Ec = 0.177*2*np.pi\n",
    "    N = 3\n",
    "    der = energy_der(phi_exs[i],beta,N,Ej,Ec,omega_c)\n",
    "    g3,g4,omega_sps = g3g4(phi_exs[i],beta,N,Ej,Ec,omega_c)\n",
    "    kerr = g4s-5*g3s**2/omega_sps\n",
    "    return der, g3, kerr\n",
    "\n",
    "def cost(x0):\n",
    "    phi_ex,beta,omega_c = x0\n",
    "    Ej = 90*2*np.pi\n",
    "    Ec = 0.177*2*np.pi\n",
    "    N = 3\n",
    "    der = energy_der(phi_ex,beta,N,Ej,Ec,omega_c)\n",
    "    g3,g4,omega_sp = g3g4(phi_ex,beta,N,Ej,Ec,omega_c)\n",
    "    kerr = g4-5*g3**2/omega_sp\n",
    "    loss = der**2+kerr**2-g3**2\n",
    "    return loss"
   ]
  },
  {
   "cell_type": "code",
   "execution_count": 2,
   "id": "d7fdfd5b",
   "metadata": {},
   "outputs": [],
   "source": [
    "import autograd.numpy as np\n",
    "\n",
    "# Define the bounds\n",
    "x_bounds = (0, 0.5 * 2 * np.pi)\n",
    "y_bounds = (0, 0.3)\n",
    "z_bounds = (0, 5 * 2 * np.pi)\n",
    "bounds = [x_bounds,y_bounds,z_bounds]\n",
    "# Define the number of points for each variable\n",
    "N_x = 10  # You can change this value as needed\n",
    "N_y = 5   # You can change this value as needed\n",
    "N_z = 25  # You can change this value as needed\n",
    "\n",
    "# Create linear spaces for x, y, and z\n",
    "x_values = np.linspace(x_bounds[0], x_bounds[1], N_x)\n",
    "y_values = np.linspace(y_bounds[0], y_bounds[1], N_y)\n",
    "z_values = np.linspace(z_bounds[0], z_bounds[1], N_z)\n",
    "\n",
    "# Generate combinations of (x, y, z)\n",
    "combinations = [(x, y, z) for x in x_values for y in y_values for z in z_values]"
   ]
  },
  {
   "cell_type": "code",
   "execution_count": null,
   "id": "0e5304db",
   "metadata": {
    "scrolled": true
   },
   "outputs": [],
   "source": [
    "from joblib import Parallel, delayed\n",
    "results = Parallel(n_jobs=3)(delayed(sci.optimize.minimize)(cost, combo, bounds=bounds) for combo in combinations)"
   ]
  },
  {
   "cell_type": "code",
   "execution_count": 16,
   "id": "a050b1c3",
   "metadata": {},
   "outputs": [],
   "source": [
    "beta = 0.15\n",
    "omega_c = 4*2*np.pi\n",
    "N = 3\n",
    "Ej = 90*2*np.pi\n",
    "Ec = 0.177*2*np.pi\n",
    "phi_exs = np.linspace(0.0*2*np.pi,0.5*2*np.pi,100)\n",
    "grad = ad.grad(coupled_spectrum)\n",
    "snail_energies = np.zeros(len(phi_exs))\n",
    "snail_energiesapp1 = np.zeros(len(phi_exs))\n",
    "snail_energiesapp2 = np.zeros(len(phi_exs))\n",
    "snail_energiesapp3 = np.zeros(len(phi_exs))\n",
    "dressed_omegas = np.zeros(len(phi_exs))\n",
    "g4s = np.zeros(len(phi_exs))\n",
    "g3s = np.zeros(len(phi_exs))\n",
    "omega_sps = np.zeros(len(phi_exs))\n",
    "for i in range(len(phi_exs)):\n",
    "    snail_energies[i] = energy_der(phi_exs[i],beta,N,Ej,Ec,omega_c)\n",
    "    g3s[i],g4s[i],omega_sps[i] = g3g4(phi_exs[i],beta,N,Ej,Ec,omega_c)"
   ]
  },
  {
   "cell_type": "code",
   "execution_count": 17,
   "id": "5f892e10",
   "metadata": {},
   "outputs": [
    {
     "data": {
      "text/plain": [
       "<matplotlib.legend.Legend at 0x7fc4569afe50>"
      ]
     },
     "execution_count": 17,
     "metadata": {},
     "output_type": "execute_result"
    },
    {
     "data": {
      "image/png": "[encoded data removed]",
      "text/plain": [
       "<Figure size 432x288 with 1 Axes>"
      ]
     },
     "metadata": {
      "needs_background": "light"
     },
     "output_type": "display_data"
    }
   ],
   "source": [
    "plt.plot(phi_exs/2/np.pi,snail_energies,label = 'exact dressed fock 1 energy')\n",
    "# plt.scatter((phi_exs/2/np.pi)[-13],snail_energies[-14])\n",
    "# plt.plot(phi_exs/2/np.pi,snail_energiesapp1, label = '$g^2/\\Delta$')\n",
    "# plt.plot(phi_exs/2/np.pi,snail_energiesapp2, label = '$g^2/\\Delta - g^2/(\\omega_c+\\omega_s)$')\n",
    "# plt.plot(phi_exs/2/np.pi,snail_energiesapp3, label = '$g^2/\\Delta^{\\'} - g^2/(\\omega_c+\\omega_s^{\\'})$')\n",
    "plt.legend()"
   ]
  },
  {
   "cell_type": "code",
   "execution_count": 25,
   "id": "92d37666",
   "metadata": {},
   "outputs": [
    {
     "data": {
      "text/plain": [
       "[<matplotlib.lines.Line2D at 0x7fc4571f1850>]"
      ]
     },
     "execution_count": 25,
     "metadata": {},
     "output_type": "execute_result"
    },
    {
     "data": {
      "image/png": "[encoded data removed]",
      "text/plain": [
       "<Figure size 432x288 with 1 Axes>"
      ]
     },
     "metadata": {
      "needs_background": "light"
     },
     "output_type": "display_data"
    }
   ],
   "source": [
    "plt.plot(phi_exs/2/np.pi,g4s-5*g3s**2/omega_sps)\n",
    "plt.plot(phi_exs/2/np.pi,g3s)"
   ]
  },
  {
   "cell_type": "code",
   "execution_count": null,
   "id": "93ea23a9",
   "metadata": {},
   "outputs": [],
   "source": []
  }
 ],
 "metadata": {
  "kernelspec": {
   "display_name": "Python 3 (ipykernel)",
   "language": "python",
   "name": "python3"
  },
  "language_info": {
   "codemirror_mode": {
    "name": "ipython",
    "version": 3
   },
   "file_extension": ".py",
   "mimetype": "text/x-python",
   "name": "python",
   "nbconvert_exporter": "python",
   "pygments_lexer": "ipython3",
   "version": "3.8.3"
  }
 },
 "nbformat": 4,
 "nbformat_minor": 5
}
