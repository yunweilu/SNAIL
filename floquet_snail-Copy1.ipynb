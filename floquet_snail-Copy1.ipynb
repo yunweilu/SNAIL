{
 "cells": [
  {
   "cell_type": "code",
   "execution_count": 2,
   "id": "9e230725",
   "metadata": {},
   "outputs": [],
   "source": [
    "import numpy as np\n",
    "import matplotlib.pyplot as plt\n",
    "import scipy as sci\n",
    "import autograd as ad\n",
    "import autograd.numpy as np\n",
    "from cosmatrix import cosm,expm_pade\n",
    "expm = expm_pade\n",
    "from autograd.extend import primitive, defvjp\n",
    "from qutip import *\n",
    "def annihilation(dim):\n",
    "    return np.diag(np.sqrt(np.arange(1,dim)),1)\n",
    "def creation(dim):\n",
    "    return np.diag(np.sqrt(np.arange(1,dim)),-1)\n",
    "def SNAIL_H(phi_ex,beta,N,Ej,Ec):\n",
    "    phi_ex = 2*np.pi*phi_ex\n",
    "    @primitive\n",
    "    def Us_min(phi_ex):\n",
    "        def U_s(phi): \n",
    "            return (-beta*np.cos(phi-phi_ex)-N*np.cos((phi)/N))\n",
    "        phi_min = sci.optimize.minimize(U_s,0).x\n",
    "        return phi_min\n",
    "    \n",
    "    def phi_minde(ans, phi_ex):\n",
    "        def phi_minde_vjp(g):\n",
    "            c2 = beta*np.cos(ans - phi_ex) + 1/N*np.cos(ans/N)\n",
    "            return g*beta*np.cos(ans - phi_ex)/c2\n",
    "        return phi_minde_vjp\n",
    "    defvjp(Us_min, phi_minde)\n",
    "    \n",
    "    phi_min = Us_min(phi_ex)\n",
    "    # potential expansion around minimum\n",
    "    c2 = beta*np.cos(phi_min - phi_ex) + 1/N*np.cos(phi_min/N)\n",
    "    omega_s = np.sqrt(8*c2*Ej*Ec)\n",
    "    phi_zpf = np.power(2*Ec/(Ej*c2),1/4)\n",
    "    g2 = Ej*phi_zpf**2*c2/2\n",
    "    sdim = 20\n",
    "    s = annihilation(sdim)\n",
    "    sd = creation(sdim)\n",
    "    x2 = np.matmul(s+sd,s+sd)\n",
    "    c3 = (N**2-1)/N**2*np.sin(phi_min/N)\n",
    "    g3 = Ej*phi_zpf**3*c3/3/2\n",
    "    c4 = -beta*np.cos(phi_min-phi_ex) -1/N**3*np.cos(phi_min/N)\n",
    "\n",
    "    g4 = Ej*phi_zpf**4*c4/4/3/2\n",
    "    Hs = (omega_s * np.matmul(sd,s)\n",
    "        - Ej*(beta*cosm(phi_zpf*(s+sd)+(phi_min-phi_ex)*np.identity(sdim))\n",
    "        + N*cosm((phi_zpf*(s+sd)+phi_min*np.identity(sdim))/N))- g2*x2)\n",
    "    energy,U = np.linalg.eigh(Hs)\n",
    "    U_dag = np.conjugate(U.transpose())\n",
    "    Hs = U_dag@Hs@U\n",
    "    return Hs-energy[0]*np.identity(sdim),U_dag@(s+sd)@U\n"
   ]
  },
  {
   "cell_type": "code",
   "execution_count": 3,
   "id": "a745297c",
   "metadata": {},
   "outputs": [],
   "source": [
    "def find_optimal_k(A, B, D):\n",
    "    # Define a large initial minimum difference\n",
    "    min_diff = float('inf')\n",
    "    optimal_k = None\n",
    "    \n",
    "    # Iterate over a range of possible k values\n",
    "    # The range can be adjusted based on expected size of k or other insights you have about your problem\n",
    "    for k in range(-1000, 1000):\n",
    "        # Calculate the difference for this value of k\n",
    "        diff = abs(A - (B + k * D))\n",
    "        \n",
    "        # If this is the smallest difference we've found so far, update min_diff and optimal_k\n",
    "        if diff < min_diff:\n",
    "            min_diff = diff\n",
    "            optimal_k = k\n",
    "            \n",
    "    return optimal_k\n",
    "# Function to calculate overlap (you might use inner product, fidelity, etc.)\n",
    "def calculate_overlap(state1, state2):\n",
    "    return abs((state1.dag() * state2)[0,0])**2"
   ]
  },
  {
   "cell_type": "code",
   "execution_count": 15,
   "id": "000defee",
   "metadata": {},
   "outputs": [],
   "source": [
    "import qutip as qt\n",
    "def floquet_spec(omega,A,Ec,Ej,beta,phi_ex):\n",
    "    N = 3 \n",
    "    H0,Hc = SNAIL_H(phi_ex,beta,N,Ej,Ec)\n",
    "    energies,U=np.linalg.eig(H0)\n",
    "    energies = energies - energies[0]*np.ones(len(energies))\n",
    "    energies = energies/2/np.pi\n",
    "    # U_dag = np.conjugate(U.transpose())\n",
    "    # U_dag@Hc@U\n",
    "    energies = np.sort(energies)\n",
    "    omega_s = energies[1]\n",
    "    H0 = Qobj(H0)\n",
    "    Hc = Qobj(Hc)\n",
    "    args = {'w': omega}\n",
    "    T = (2*np.pi)/omega\n",
    "    H = [H0, [Hc, lambda t, args: A*np.cos(args['w']*t)]] \n",
    "    options = Options(nsteps=1000000)  # Increasing nsteps to 10000, adjust as needed\n",
    "    f_modes, f_energies = floquet_modes(H, T, args, False, options=options) \n",
    "    \n",
    "    # Define your system dimension\n",
    "    sdim = 20\n",
    "    floquet_states = f_modes\n",
    "    # Create your basis states\n",
    "    basis_states = [qt.basis(sdim, i) for i in range(3)]\n",
    "    # Initialize a list to hold the indices of the Floquet states with the maximum overlap for each basis state\n",
    "    max_overlap_indices = [-1] * 3\n",
    "    max_overlaps = [0] * 3\n",
    "    # Loop over each Floquet state\n",
    "    for f_index, f_state in enumerate(floquet_states):\n",
    "\n",
    "        # Loop over each basis state\n",
    "        for b_index, b_state in enumerate(basis_states):\n",
    "\n",
    "            # Calculate the overlap\n",
    "            overlap = calculate_overlap(f_state, b_state)\n",
    "\n",
    "            # If this is the maximum overlap for this basis state, store the index\n",
    "            if overlap > max_overlaps[b_index]:\n",
    "                max_overlaps[b_index] = overlap\n",
    "                max_overlap_indices[b_index] = f_index\n",
    "    energy01 = f_energies[max_overlap_indices[1]]/2/np.pi-f_energies[max_overlap_indices[0]]/2/np.pi\n",
    "    k = find_optimal_k(omega_s, energy01, omega/2/np.pi)\n",
    "    energy01 =energy01+k*omega/2/np.pi\n",
    "    omega_ss = energy01-omega_s\n",
    "    energy02 = f_energies[max_overlap_indices[2]]/2/np.pi-f_energies[max_overlap_indices[0]]/2/np.pi\n",
    "    k = find_optimal_k(2*omega_s, energy02, omega/2/np.pi)\n",
    "    energy02 =energy02+k*omega/2/np.pi\n",
    "    anh = energy02 - energy01 - energy01\n",
    "    if (max_overlaps<(np.sqrt(2)/2*np.ones(3))).all():\n",
    "        omega_ss = 1000\n",
    "        anh = 1000\n",
    "    return energy01,energy02"
   ]
  },
  {
   "cell_type": "code",
   "execution_count": 27,
   "id": "3e8c0b17",
   "metadata": {},
   "outputs": [],
   "source": [
    "omega = 2*2*np.pi\n",
    "A = 0.5*2*np.pi\n",
    "Ec = 0.7*2*np.pi\n",
    "Ej = 15*2*np.pi\n",
    "beta = 0.12\n",
    "e_values = []\n",
    "f_values = []\n",
    "phi_ex_values = np.linspace(0, 0.5, 100)  # 50 points between 0 and 0.5\n",
    "# Loop over phi_ex values\n",
    "for phi_ex in phi_ex_values:\n",
    "    e,f = floquet_spec(omega,A,Ec,Ej,beta,phi_ex) # Compute e for each phi_ex\n",
    "    e_values.append(e)\n",
    "    f_values.append(f)"
   ]
  },
  {
   "cell_type": "code",
   "execution_count": 28,
   "id": "e9f7fbe9",
   "metadata": {},
   "outputs": [
    {
     "data": {
      "text/plain": [
       "(5.927074573551092, 11.616324935994346)"
      ]
     },
     "execution_count": 28,
     "metadata": {},
     "output_type": "execute_result"
    }
   ],
   "source": [
    "floquet_spec(omega,A,Ec,Ej,beta,0)"
   ]
  },
  {
   "cell_type": "code",
   "execution_count": 30,
   "id": "06cbdfc8",
   "metadata": {},
   "outputs": [
    {
     "data": {
      "image/png": "[encoded data removed]",
      "text/plain": [
       "<Figure size 720x432 with 1 Axes>"
      ]
     },
     "metadata": {
      "needs_background": "light"
     },
     "output_type": "display_data"
    }
   ],
   "source": [
    "# Plotting\n",
    "plt.figure(figsize=(10, 6))\n",
    "plt.plot(phi_ex_values, e_values)\n",
    "plt.plot(phi_ex_values, f_values)\n",
    "plt.xlabel('phi_ex')\n",
    "plt.ylabel('e')\n",
    "plt.title('e vs. phi_ex')\n",
    "plt.grid(True)\n",
    "plt.show()"
   ]
  },
  {
   "cell_type": "code",
   "execution_count": null,
   "id": "f0c391ff",
   "metadata": {},
   "outputs": [],
   "source": []
  }
 ],
 "metadata": {
  "kernelspec": {
   "display_name": "Python 3 (ipykernel)",
   "language": "python",
   "name": "python3"
  },
  "language_info": {
   "codemirror_mode": {
    "name": "ipython",
    "version": 3
   },
   "file_extension": ".py",
   "mimetype": "text/x-python",
   "name": "python",
   "nbconvert_exporter": "python",
   "pygments_lexer": "ipython3",
   "version": "3.8.3"
  }
 },
 "nbformat": 4,
 "nbformat_minor": 5
}
