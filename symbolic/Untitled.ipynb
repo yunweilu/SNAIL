{
 "cells": [
  {
   "cell_type": "code",
   "execution_count": 235,
   "id": "c58e90aa",
   "metadata": {},
   "outputs": [],
   "source": [
    "from sympy.physics.secondquant import *\n",
    "from sympy import symbols, I\n",
    "import sympy as sp\n",
    "from no import normal\n",
    "from sympy import exp\n",
    "from sympy import symbols, diff\n",
    "from sympy.core.numbers import Zero"
   ]
  },
  {
   "cell_type": "code",
   "execution_count": 236,
   "id": "5df42a9f",
   "metadata": {},
   "outputs": [],
   "source": [
    "ind_a = symbols('s')\n",
    "\n",
    "a = B(ind_a)\n",
    "ad = Bd(ind_a)\n",
    "def get_ti(expr):\n",
    "    return sum([term for term in expr.args if not term.has(t)])\n",
    "def remove_constant(expr):\n",
    "    terms_without_B_Bd = [term for term in expr.args if not (term.has(a) or term.has(ad))]\n",
    "    return expr - sum(terms_without_B_Bd)"
   ]
  },
  {
   "cell_type": "code",
   "execution_count": 241,
   "id": "92077ee4",
   "metadata": {},
   "outputs": [],
   "source": [
    "g4 = symbols('g4', real=True)\n",
    "g3 = symbols('g3', real=True)\n",
    "g5 = symbols('g5', real=True)\n",
    "g6 = symbols('g6', real=True)\n",
    "w_t = symbols('w_t', real=True)\n",
    "omega_a = symbols('w_s', real=True)\n",
    "delta = symbols('delta', real=True)\n",
    "omega_d = 2*omega_a\n",
    "t = symbols('t', real=True)\n",
    "eta = symbols('eta', real=False)\n",
    "kappa = symbols('kappa', real=True)"
   ]
  },
  {
   "cell_type": "code",
   "execution_count": 242,
   "id": "d9a35307",
   "metadata": {},
   "outputs": [],
   "source": [
    "h0 =omega_a * ad * a"
   ]
  },
  {
   "cell_type": "code",
   "execution_count": 243,
   "id": "db9b255b",
   "metadata": {},
   "outputs": [],
   "source": [
    "v = normal(g3*(a + ad + eta*exp(-I*omega_d*t)+ eta.conjugate()*exp(I*omega_d*t))**3 \n",
    "           +g4 * (a + ad + eta*exp(-I*omega_d*t) + eta.conjugate()*exp(I*omega_d*t))**4  \n",
    "          +g5 * (a + ad + eta*exp(-I*omega_d*t) + eta.conjugate()*exp(I*omega_d*t))**5\n",
    "          +g6 * (a + ad + eta*exp(-I*omega_d*t) + eta.conjugate()*exp(I*omega_d*t))**6)"
   ]
  },
  {
   "cell_type": "code",
   "execution_count": 244,
   "id": "4fe7adc7",
   "metadata": {},
   "outputs": [],
   "source": [
    "v = remove_constant(v)\n",
    "v_ti = get_ti(v)"
   ]
  },
  {
   "cell_type": "markdown",
   "id": "1b4da1e2",
   "metadata": {},
   "source": [
    "### obtain $\\hat{H}_1$"
   ]
  },
  {
   "cell_type": "code",
   "execution_count": 245,
   "id": "613a6889",
   "metadata": {},
   "outputs": [],
   "source": [
    "v1 = v*1"
   ]
  },
  {
   "cell_type": "code",
   "execution_count": 246,
   "id": "b9dab812",
   "metadata": {},
   "outputs": [],
   "source": [
    "temp = 0\n",
    "for term in v1.args:\n",
    "    if term.as_powers_dict()[ad] == term.as_powers_dict()[a]:\n",
    "        temp += term\n",
    "h1 = temp * 1"
   ]
  },
  {
   "cell_type": "code",
   "execution_count": 247,
   "id": "0f8934bb",
   "metadata": {},
   "outputs": [],
   "source": [
    "h1_ti = get_ti(h1)"
   ]
  },
  {
   "cell_type": "code",
   "execution_count": 248,
   "id": "2de02ccb",
   "metadata": {},
   "outputs": [
    {
     "data": {
      "text/latex": [
       "$\\displaystyle 180 \\eta^{2} g_{6} \\overline{\\eta}^{2} {b^\\dagger_{s}} b_{s} + 24 \\eta g_{4} \\overline{\\eta} {b^\\dagger_{s}} b_{s} + 360 \\eta g_{6} \\overline{\\eta} {b^\\dagger_{s}} b_{s} + 180 \\eta g_{6} \\overline{\\eta} {b^\\dagger_{s}}^{2} b_{s}^{2} + 12 g_{4} {b^\\dagger_{s}} b_{s} + 6 g_{4} {b^\\dagger_{s}}^{2} b_{s}^{2} + 90 g_{6} {b^\\dagger_{s}} b_{s} + 90 g_{6} {b^\\dagger_{s}}^{2} b_{s}^{2} + 20 g_{6} {b^\\dagger_{s}}^{3} b_{s}^{3}$"
      ],
      "text/plain": [
       "180*eta**2*g6*conjugate(eta)**2*CreateBoson(s)*AnnihilateBoson(s) + 24*eta*g4*conjugate(eta)*CreateBoson(s)*AnnihilateBoson(s) + 360*eta*g6*conjugate(eta)*CreateBoson(s)*AnnihilateBoson(s) + 180*eta*g6*conjugate(eta)*CreateBoson(s)**2*AnnihilateBoson(s)**2 + 12*g4*CreateBoson(s)*AnnihilateBoson(s) + 6*g4*CreateBoson(s)**2*AnnihilateBoson(s)**2 + 90*g6*CreateBoson(s)*AnnihilateBoson(s) + 90*g6*CreateBoson(s)**2*AnnihilateBoson(s)**2 + 20*g6*CreateBoson(s)**3*AnnihilateBoson(s)**3"
      ]
     },
     "execution_count": 248,
     "metadata": {},
     "output_type": "execute_result"
    }
   ],
   "source": [
    "h1_ti"
   ]
  },
  {
   "cell_type": "markdown",
   "id": "5b45b062",
   "metadata": {},
   "source": [
    "### obtain up to $\\hat{H}_2$"
   ]
  },
  {
   "cell_type": "code",
   "execution_count": 249,
   "id": "cf968dc1",
   "metadata": {},
   "outputs": [],
   "source": [
    "temp = 0\n",
    "tempp = 0\n",
    "for term in (v1-h1).args:\n",
    "    if (term.as_powers_dict()[ad] != term.as_powers_dict()[a] or \n",
    "        term.as_powers_dict()[eta] != term.as_powers_dict()[eta.conjugate()]):\n",
    "        if type((omega_d/2 * (term.as_powers_dict()[ad] - term.as_powers_dict()[a]) + \n",
    "                        omega_d * (term.as_powers_dict()[eta.conjugate()] - term.as_powers_dict()[eta]) )) == Zero:\n",
    "            tempp += term\n",
    "        else:\n",
    "            temp += (term / (omega_d/2 * (term.as_powers_dict()[ad] - term.as_powers_dict()[a]) + \n",
    "                        omega_d * (term.as_powers_dict()[eta.conjugate()] - term.as_powers_dict()[eta]) )).simplify()\n",
    "sq1 = normal(tempp) * 1\n",
    "s1= normal(temp) * 1"
   ]
  },
  {
   "cell_type": "code",
   "execution_count": 250,
   "id": "0eea09ae",
   "metadata": {},
   "outputs": [
    {
     "data": {
      "text/latex": [
       "$\\displaystyle 30 \\eta^{2} g_{5} e^{- 2 i t w_{s}} \\overline{\\eta} {b^\\dagger_{s}}^{2} + 15 \\eta^{2} g_{6} e^{- 4 i t w_{s}} {b^\\dagger_{s}}^{4} + 3 \\eta g_{3} e^{- 2 i t w_{s}} {b^\\dagger_{s}}^{2} + 30 \\eta g_{5} e^{2 i t w_{s}} \\overline{\\eta}^{2} b_{s}^{2} + 30 \\eta g_{5} e^{- 2 i t w_{s}} {b^\\dagger_{s}}^{2} + 20 \\eta g_{5} e^{- 2 i t w_{s}} {b^\\dagger_{s}}^{3} b_{s} + 3 g_{3} e^{2 i t w_{s}} \\overline{\\eta} b_{s}^{2} + 30 g_{5} e^{2 i t w_{s}} \\overline{\\eta} b_{s}^{2} + 20 g_{5} e^{2 i t w_{s}} \\overline{\\eta} {b^\\dagger_{s}} b_{s}^{3} + 15 g_{6} e^{4 i t w_{s}} \\overline{\\eta}^{2} b_{s}^{4}$"
      ],
      "text/plain": [
       "30*eta**2*g5*exp(-2*I*t*w_s)*conjugate(eta)*CreateBoson(s)**2 + 15*eta**2*g6*exp(-4*I*t*w_s)*CreateBoson(s)**4 + 3*eta*g3*exp(-2*I*t*w_s)*CreateBoson(s)**2 + 30*eta*g5*exp(2*I*t*w_s)*conjugate(eta)**2*AnnihilateBoson(s)**2 + 30*eta*g5*exp(-2*I*t*w_s)*CreateBoson(s)**2 + 20*eta*g5*exp(-2*I*t*w_s)*CreateBoson(s)**3*AnnihilateBoson(s) + 3*g3*exp(2*I*t*w_s)*conjugate(eta)*AnnihilateBoson(s)**2 + 30*g5*exp(2*I*t*w_s)*conjugate(eta)*AnnihilateBoson(s)**2 + 20*g5*exp(2*I*t*w_s)*conjugate(eta)*CreateBoson(s)*AnnihilateBoson(s)**3 + 15*g6*exp(4*I*t*w_s)*conjugate(eta)**2*AnnihilateBoson(s)**4"
      ]
     },
     "execution_count": 250,
     "metadata": {},
     "output_type": "execute_result"
    }
   ],
   "source": [
    "sq1"
   ]
  },
  {
   "cell_type": "code",
   "execution_count": 251,
   "id": "bbf87333",
   "metadata": {},
   "outputs": [],
   "source": [
    "s_tot_1 = s1 * kappa\n",
    "sd_tot_1 = sp.diff(s_tot_1, t)"
   ]
  },
  {
   "cell_type": "code",
   "execution_count": 252,
   "id": "2b6e346f",
   "metadata": {},
   "outputs": [
    {
     "name": "stdout",
     "output_type": "stream",
     "text": [
      "x\n",
      "x\n"
     ]
    }
   ],
   "source": [
    "# time-independent part \n",
    "h_tot = h0 + kappa*v \n",
    "h_eff_2_ti = 0\n",
    "\n",
    "temp_2 = normal(Commutator(s_tot_1, h_tot.coeff(kappa,1)*kappa**1).doit() )\n",
    "temp_1 = normal(Commutator(s_tot_1, h_tot.coeff(kappa,0)*kappa**0).doit() )\n",
    "print('x')\n",
    "h_eff_2_ti += temp_2\n",
    "\n",
    "temp_2 = normal(sp.Rational(1,2) * Commutator(s_tot_1, temp_1).doit())\n",
    "print('x')\n",
    "h_eff_2_ti += temp_2"
   ]
  },
  {
   "cell_type": "code",
   "execution_count": 253,
   "id": "9ffe7805",
   "metadata": {},
   "outputs": [
    {
     "name": "stdout",
     "output_type": "stream",
     "text": [
      "x\n"
     ]
    }
   ],
   "source": [
    "# time-dependent part \n",
    "h_eff_2_td = 0\n",
    "\n",
    "temp_2 = normal(I*sp.Rational(1,2) * Commutator(s_tot_1, sd_tot_1).doit() )\n",
    "print('x')\n",
    "h_eff_2_td +=  temp_2"
   ]
  },
  {
   "cell_type": "code",
   "execution_count": 254,
   "id": "3fa5d74c",
   "metadata": {},
   "outputs": [],
   "source": [
    "h_eff_2 = h_eff_2_ti + h_eff_2_td\n",
    "v2 = normal(h_eff_2.coeff(kappa,2))\n",
    "\n",
    "v2 = remove_constant(v2)\n",
    "\n",
    "temp = 0\n",
    "for term in v2.args:\n",
    "    if term.as_powers_dict()[ad] == term.as_powers_dict()[a]:\n",
    "        temp += term\n",
    "h2 = temp * 1\n",
    "temp = 0\n",
    "for term in h2.args:\n",
    "    if term.as_powers_dict()[eta] == term.as_powers_dict()[eta.conjugate()]:\n",
    "        temp += term.simplify()\n",
    "h2_ti = temp * 1"
   ]
  },
  {
   "cell_type": "code",
   "execution_count": 256,
   "id": "5bb6a121",
   "metadata": {},
   "outputs": [
    {
     "data": {
      "text/latex": [
       "$\\displaystyle \\frac{125100 \\eta^{4} g_{6}^{2} \\overline{\\eta}^{4}}{7 w_{s}} + \\frac{30624 \\eta^{3} g_{4} g_{6} \\overline{\\eta}^{3}}{7 w_{s}} - \\frac{7730 \\eta^{3} g_{5}^{2} \\overline{\\eta}^{3}}{w_{s}} - \\frac{121280 \\eta^{3} g_{6}^{2} \\overline{\\eta}^{3}}{7 w_{s}} - \\frac{1932 \\eta^{2} g_{3} g_{5} \\overline{\\eta}^{2}}{w_{s}} + \\frac{144 \\eta^{2} g_{4}^{2} \\overline{\\eta}^{2}}{w_{s}} - \\frac{6048 \\eta^{2} g_{4} g_{6} \\overline{\\eta}^{2}}{w_{s}} - \\frac{202560 \\eta^{2} g_{5}^{2} \\overline{\\eta}^{2}}{7 w_{s}} - \\frac{314100 \\eta^{2} g_{6}^{2} \\overline{\\eta}^{2}}{w_{s}} - \\frac{81 \\eta g_{3}^{2} \\overline{\\eta}}{w_{s}} - \\frac{3480 \\eta g_{3} g_{5} \\overline{\\eta}}{w_{s}} - \\frac{1728 \\eta g_{4}^{2} \\overline{\\eta}}{5 w_{s}} - \\frac{26640 \\eta g_{4} g_{6} \\overline{\\eta}}{w_{s}} - \\frac{26900 \\eta g_{5}^{2} \\overline{\\eta}}{w_{s}} - \\frac{2355120 \\eta g_{6}^{2} \\overline{\\eta}}{7 w_{s}} - \\frac{60 g_{3}^{2}}{w_{s}} - \\frac{1100 g_{3} g_{5}}{w_{s}} - \\frac{288 g_{4}^{2}}{w_{s}} - \\frac{6840 g_{4} g_{6}}{w_{s}} - \\frac{5320 g_{5}^{2}}{w_{s}} - \\frac{43650 g_{6}^{2}}{w_{s}}$"
      ],
      "text/plain": [
       "125100*eta**4*g6**2*conjugate(eta)**4/(7*w_s) + 30624*eta**3*g4*g6*conjugate(eta)**3/(7*w_s) - 7730*eta**3*g5**2*conjugate(eta)**3/w_s - 121280*eta**3*g6**2*conjugate(eta)**3/(7*w_s) - 1932*eta**2*g3*g5*conjugate(eta)**2/w_s + 144*eta**2*g4**2*conjugate(eta)**2/w_s - 6048*eta**2*g4*g6*conjugate(eta)**2/w_s - 202560*eta**2*g5**2*conjugate(eta)**2/(7*w_s) - 314100*eta**2*g6**2*conjugate(eta)**2/w_s - 81*eta*g3**2*conjugate(eta)/w_s - 3480*eta*g3*g5*conjugate(eta)/w_s - 1728*eta*g4**2*conjugate(eta)/(5*w_s) - 26640*eta*g4*g6*conjugate(eta)/w_s - 26900*eta*g5**2*conjugate(eta)/w_s - 2355120*eta*g6**2*conjugate(eta)/(7*w_s) - 60*g3**2/w_s - 1100*g3*g5/w_s - 288*g4**2/w_s - 6840*g4*g6/w_s - 5320*g5**2/w_s - 43650*g6**2/w_s"
      ]
     },
     "execution_count": 256,
     "metadata": {},
     "output_type": "execute_result"
    }
   ],
   "source": [
    "h2_ti.coeff(ad*a)"
   ]
  },
  {
   "cell_type": "code",
   "execution_count": 257,
   "id": "73c93007",
   "metadata": {},
   "outputs": [],
   "source": [
    "delta = h2_ti.coeff(ad*a)\n",
    "K = h2_ti.coeff(ad**2*a**2)"
   ]
  },
  {
   "cell_type": "code",
   "execution_count": 262,
   "id": "24b92ce0",
   "metadata": {},
   "outputs": [
    {
     "data": {
      "text/latex": [
       "$\\displaystyle - \\frac{207355 \\eta^{4} g_{5} g_{6} e^{- 2 i t w_{s}} \\overline{\\eta}^{3} {b^\\dagger_{s}}^{2}}{21 w_{s}} - \\frac{220035 \\eta^{4} g_{6}^{2} e^{- 4 i t w_{s}} \\overline{\\eta}^{2} {b^\\dagger_{s}}^{4}}{7 w_{s}} - \\frac{2304 \\eta^{3} g_{3} g_{6} e^{- 2 i t w_{s}} \\overline{\\eta}^{2} {b^\\dagger_{s}}^{2}}{w_{s}} - \\frac{3368 \\eta^{3} g_{4} g_{5} e^{- 2 i t w_{s}} \\overline{\\eta}^{2} {b^\\dagger_{s}}^{2}}{7 w_{s}} - \\frac{29520 \\eta^{3} g_{4} g_{6} e^{- 4 i t w_{s}} \\overline{\\eta} {b^\\dagger_{s}}^{4}}{7 w_{s}} + \\frac{1940 \\eta^{3} g_{5}^{2} e^{- 4 i t w_{s}} \\overline{\\eta} {b^\\dagger_{s}}^{4}}{3 w_{s}} - \\frac{207355 \\eta^{3} g_{5} g_{6} e^{2 i t w_{s}} \\overline{\\eta}^{4} b_{s}^{2}}{21 w_{s}} - \\frac{404295 \\eta^{3} g_{5} g_{6} e^{- 2 i t w_{s}} \\overline{\\eta}^{2} {b^\\dagger_{s}}^{2}}{7 w_{s}} - \\frac{269530 \\eta^{3} g_{5} g_{6} e^{- 2 i t w_{s}} \\overline{\\eta}^{2} {b^\\dagger_{s}}^{3} b_{s}}{7 w_{s}} + \\frac{50 \\eta^{3} g_{5} g_{6} e^{- 6 i t w_{s}} {b^\\dagger_{s}}^{6}}{w_{s}} - \\frac{687300 \\eta^{3} g_{6}^{2} e^{- 4 i t w_{s}} \\overline{\\eta} {b^\\dagger_{s}}^{4}}{7 w_{s}} - \\frac{274920 \\eta^{3} g_{6}^{2} e^{- 4 i t w_{s}} \\overline{\\eta} {b^\\dagger_{s}}^{5} b_{s}}{7 w_{s}} - \\frac{846 \\eta^{2} g_{3} g_{4} e^{- 2 i t w_{s}} \\overline{\\eta} {b^\\dagger_{s}}^{2}}{5 w_{s}} + \\frac{2 \\eta^{2} g_{3} g_{5} e^{- 4 i t w_{s}} {b^\\dagger_{s}}^{4}}{w_{s}} - \\frac{2304 \\eta^{2} g_{3} g_{6} e^{2 i t w_{s}} \\overline{\\eta}^{3} b_{s}^{2}}{w_{s}} - \\frac{5463 \\eta^{2} g_{3} g_{6} e^{- 2 i t w_{s}} \\overline{\\eta} {b^\\dagger_{s}}^{2}}{w_{s}} - \\frac{3642 \\eta^{2} g_{3} g_{6} e^{- 2 i t w_{s}} \\overline{\\eta} {b^\\dagger_{s}}^{3} b_{s}}{w_{s}} - \\frac{132 \\eta^{2} g_{4}^{2} e^{- 4 i t w_{s}} {b^\\dagger_{s}}^{4}}{w_{s}} - \\frac{3368 \\eta^{2} g_{4} g_{5} e^{2 i t w_{s}} \\overline{\\eta}^{3} b_{s}^{2}}{7 w_{s}} - \\frac{3366 \\eta^{2} g_{4} g_{5} e^{- 2 i t w_{s}} \\overline{\\eta} {b^\\dagger_{s}}^{2}}{w_{s}} - \\frac{2244 \\eta^{2} g_{4} g_{5} e^{- 2 i t w_{s}} \\overline{\\eta} {b^\\dagger_{s}}^{3} b_{s}}{w_{s}} - \\frac{6210 \\eta^{2} g_{4} g_{6} e^{- 4 i t w_{s}} {b^\\dagger_{s}}^{4}}{w_{s}} - \\frac{2484 \\eta^{2} g_{4} g_{6} e^{- 4 i t w_{s}} {b^\\dagger_{s}}^{5} b_{s}}{w_{s}} - \\frac{400 \\eta^{2} g_{5}^{2} e^{- 4 i t w_{s}} {b^\\dagger_{s}}^{4}}{w_{s}} - \\frac{160 \\eta^{2} g_{5}^{2} e^{- 4 i t w_{s}} {b^\\dagger_{s}}^{5} b_{s}}{w_{s}} - \\frac{404295 \\eta^{2} g_{5} g_{6} e^{2 i t w_{s}} \\overline{\\eta}^{3} b_{s}^{2}}{7 w_{s}} - \\frac{269530 \\eta^{2} g_{5} g_{6} e^{2 i t w_{s}} \\overline{\\eta}^{3} {b^\\dagger_{s}} b_{s}^{3}}{7 w_{s}} - \\frac{665520 \\eta^{2} g_{5} g_{6} e^{- 2 i t w_{s}} \\overline{\\eta} {b^\\dagger_{s}}^{2}}{7 w_{s}} - \\frac{963720 \\eta^{2} g_{5} g_{6} e^{- 2 i t w_{s}} \\overline{\\eta} {b^\\dagger_{s}}^{3} b_{s}}{7 w_{s}} - \\frac{240930 \\eta^{2} g_{5} g_{6} e^{- 2 i t w_{s}} \\overline{\\eta} {b^\\dagger_{s}}^{4} b_{s}^{2}}{7 w_{s}} + 30 \\eta^{2} g_{5} e^{- 2 i t w_{s}} \\overline{\\eta} {b^\\dagger_{s}}^{2} - \\frac{220035 \\eta^{2} g_{6}^{2} e^{4 i t w_{s}} \\overline{\\eta}^{4} b_{s}^{4}}{7 w_{s}} - \\frac{70950 \\eta^{2} g_{6}^{2} e^{- 4 i t w_{s}} {b^\\dagger_{s}}^{4}}{w_{s}} - \\frac{66960 \\eta^{2} g_{6}^{2} e^{- 4 i t w_{s}} {b^\\dagger_{s}}^{5} b_{s}}{w_{s}} - \\frac{11160 \\eta^{2} g_{6}^{2} e^{- 4 i t w_{s}} {b^\\dagger_{s}}^{6} b_{s}^{2}}{w_{s}} + 15 \\eta^{2} g_{6} e^{- 4 i t w_{s}} {b^\\dagger_{s}}^{4} - \\frac{846 \\eta g_{3} g_{4} e^{2 i t w_{s}} \\overline{\\eta}^{2} b_{s}^{2}}{5 w_{s}} - \\frac{189 \\eta g_{3} g_{4} e^{- 2 i t w_{s}} {b^\\dagger_{s}}^{2}}{w_{s}} - \\frac{126 \\eta g_{3} g_{4} e^{- 2 i t w_{s}} {b^\\dagger_{s}}^{3} b_{s}}{w_{s}} - \\frac{5463 \\eta g_{3} g_{6} e^{2 i t w_{s}} \\overline{\\eta}^{2} b_{s}^{2}}{w_{s}} - \\frac{3642 \\eta g_{3} g_{6} e^{2 i t w_{s}} \\overline{\\eta}^{2} {b^\\dagger_{s}} b_{s}^{3}}{w_{s}} - \\frac{2985 \\eta g_{3} g_{6} e^{- 2 i t w_{s}} {b^\\dagger_{s}}^{2}}{w_{s}} - \\frac{4620 \\eta g_{3} g_{6} e^{- 2 i t w_{s}} {b^\\dagger_{s}}^{3} b_{s}}{w_{s}} - \\frac{1155 \\eta g_{3} g_{6} e^{- 2 i t w_{s}} {b^\\dagger_{s}}^{4} b_{s}^{2}}{w_{s}} + 3 \\eta g_{3} e^{- 2 i t w_{s}} {b^\\dagger_{s}}^{2} - \\frac{3366 \\eta g_{4} g_{5} e^{2 i t w_{s}} \\overline{\\eta}^{2} b_{s}^{2}}{w_{s}} - \\frac{2244 \\eta g_{4} g_{5} e^{2 i t w_{s}} \\overline{\\eta}^{2} {b^\\dagger_{s}} b_{s}^{3}}{w_{s}} - \\frac{2538 \\eta g_{4} g_{5} e^{- 2 i t w_{s}} {b^\\dagger_{s}}^{2}}{w_{s}} - \\frac{3248 \\eta g_{4} g_{5} e^{- 2 i t w_{s}} {b^\\dagger_{s}}^{3} b_{s}}{w_{s}} - \\frac{812 \\eta g_{4} g_{5} e^{- 2 i t w_{s}} {b^\\dagger_{s}}^{4} b_{s}^{2}}{w_{s}} - \\frac{29520 \\eta g_{4} g_{6} e^{4 i t w_{s}} \\overline{\\eta}^{3} b_{s}^{4}}{7 w_{s}} + \\frac{1940 \\eta g_{5}^{2} e^{4 i t w_{s}} \\overline{\\eta}^{3} b_{s}^{4}}{3 w_{s}} - \\frac{665520 \\eta g_{5} g_{6} e^{2 i t w_{s}} \\overline{\\eta}^{2} b_{s}^{2}}{7 w_{s}} - \\frac{963720 \\eta g_{5} g_{6} e^{2 i t w_{s}} \\overline{\\eta}^{2} {b^\\dagger_{s}} b_{s}^{3}}{7 w_{s}} - \\frac{240930 \\eta g_{5} g_{6} e^{2 i t w_{s}} \\overline{\\eta}^{2} {b^\\dagger_{s}}^{2} b_{s}^{4}}{7 w_{s}} - \\frac{39990 \\eta g_{5} g_{6} e^{- 2 i t w_{s}} {b^\\dagger_{s}}^{2}}{w_{s}} - \\frac{89260 \\eta g_{5} g_{6} e^{- 2 i t w_{s}} {b^\\dagger_{s}}^{3} b_{s}}{w_{s}} - \\frac{46950 \\eta g_{5} g_{6} e^{- 2 i t w_{s}} {b^\\dagger_{s}}^{4} b_{s}^{2}}{w_{s}} - \\frac{6260 \\eta g_{5} g_{6} e^{- 2 i t w_{s}} {b^\\dagger_{s}}^{5} b_{s}^{3}}{w_{s}} + 30 \\eta g_{5} e^{2 i t w_{s}} \\overline{\\eta}^{2} b_{s}^{2} + 30 \\eta g_{5} e^{- 2 i t w_{s}} {b^\\dagger_{s}}^{2} + 20 \\eta g_{5} e^{- 2 i t w_{s}} {b^\\dagger_{s}}^{3} b_{s} - \\frac{687300 \\eta g_{6}^{2} e^{4 i t w_{s}} \\overline{\\eta}^{3} b_{s}^{4}}{7 w_{s}} - \\frac{274920 \\eta g_{6}^{2} e^{4 i t w_{s}} \\overline{\\eta}^{3} {b^\\dagger_{s}} b_{s}^{5}}{7 w_{s}} - \\frac{189 g_{3} g_{4} e^{2 i t w_{s}} \\overline{\\eta} b_{s}^{2}}{w_{s}} - \\frac{126 g_{3} g_{4} e^{2 i t w_{s}} \\overline{\\eta} {b^\\dagger_{s}} b_{s}^{3}}{w_{s}} + \\frac{2 g_{3} g_{5} e^{4 i t w_{s}} \\overline{\\eta}^{2} b_{s}^{4}}{w_{s}} - \\frac{2985 g_{3} g_{6} e^{2 i t w_{s}} \\overline{\\eta} b_{s}^{2}}{w_{s}} - \\frac{4620 g_{3} g_{6} e^{2 i t w_{s}} \\overline{\\eta} {b^\\dagger_{s}} b_{s}^{3}}{w_{s}} - \\frac{1155 g_{3} g_{6} e^{2 i t w_{s}} \\overline{\\eta} {b^\\dagger_{s}}^{2} b_{s}^{4}}{w_{s}} + 3 g_{3} e^{2 i t w_{s}} \\overline{\\eta} b_{s}^{2} - \\frac{132 g_{4}^{2} e^{4 i t w_{s}} \\overline{\\eta}^{2} b_{s}^{4}}{w_{s}} - \\frac{2538 g_{4} g_{5} e^{2 i t w_{s}} \\overline{\\eta} b_{s}^{2}}{w_{s}} - \\frac{3248 g_{4} g_{5} e^{2 i t w_{s}} \\overline{\\eta} {b^\\dagger_{s}} b_{s}^{3}}{w_{s}} - \\frac{812 g_{4} g_{5} e^{2 i t w_{s}} \\overline{\\eta} {b^\\dagger_{s}}^{2} b_{s}^{4}}{w_{s}} - \\frac{6210 g_{4} g_{6} e^{4 i t w_{s}} \\overline{\\eta}^{2} b_{s}^{4}}{w_{s}} - \\frac{2484 g_{4} g_{6} e^{4 i t w_{s}} \\overline{\\eta}^{2} {b^\\dagger_{s}} b_{s}^{5}}{w_{s}} - \\frac{400 g_{5}^{2} e^{4 i t w_{s}} \\overline{\\eta}^{2} b_{s}^{4}}{w_{s}} - \\frac{160 g_{5}^{2} e^{4 i t w_{s}} \\overline{\\eta}^{2} {b^\\dagger_{s}} b_{s}^{5}}{w_{s}} + \\frac{50 g_{5} g_{6} e^{6 i t w_{s}} \\overline{\\eta}^{3} b_{s}^{6}}{w_{s}} - \\frac{39990 g_{5} g_{6} e^{2 i t w_{s}} \\overline{\\eta} b_{s}^{2}}{w_{s}} - \\frac{89260 g_{5} g_{6} e^{2 i t w_{s}} \\overline{\\eta} {b^\\dagger_{s}} b_{s}^{3}}{w_{s}} - \\frac{46950 g_{5} g_{6} e^{2 i t w_{s}} \\overline{\\eta} {b^\\dagger_{s}}^{2} b_{s}^{4}}{w_{s}} - \\frac{6260 g_{5} g_{6} e^{2 i t w_{s}} \\overline{\\eta} {b^\\dagger_{s}}^{3} b_{s}^{5}}{w_{s}} + 30 g_{5} e^{2 i t w_{s}} \\overline{\\eta} b_{s}^{2} + 20 g_{5} e^{2 i t w_{s}} \\overline{\\eta} {b^\\dagger_{s}} b_{s}^{3} - \\frac{70950 g_{6}^{2} e^{4 i t w_{s}} \\overline{\\eta}^{2} b_{s}^{4}}{w_{s}} - \\frac{66960 g_{6}^{2} e^{4 i t w_{s}} \\overline{\\eta}^{2} {b^\\dagger_{s}} b_{s}^{5}}{w_{s}} - \\frac{11160 g_{6}^{2} e^{4 i t w_{s}} \\overline{\\eta}^{2} {b^\\dagger_{s}}^{2} b_{s}^{6}}{w_{s}} + 15 g_{6} e^{4 i t w_{s}} \\overline{\\eta}^{2} b_{s}^{4}$"
      ],
      "text/plain": [
       "-207355*eta**4*g5*g6*exp(-2*I*t*w_s)*conjugate(eta)**3*CreateBoson(s)**2/(21*w_s) - 220035*eta**4*g6**2*exp(-4*I*t*w_s)*conjugate(eta)**2*CreateBoson(s)**4/(7*w_s) - 2304*eta**3*g3*g6*exp(-2*I*t*w_s)*conjugate(eta)**2*CreateBoson(s)**2/w_s - 3368*eta**3*g4*g5*exp(-2*I*t*w_s)*conjugate(eta)**2*CreateBoson(s)**2/(7*w_s) - 29520*eta**3*g4*g6*exp(-4*I*t*w_s)*conjugate(eta)*CreateBoson(s)**4/(7*w_s) + 1940*eta**3*g5**2*exp(-4*I*t*w_s)*conjugate(eta)*CreateBoson(s)**4/(3*w_s) - 207355*eta**3*g5*g6*exp(2*I*t*w_s)*conjugate(eta)**4*AnnihilateBoson(s)**2/(21*w_s) - 404295*eta**3*g5*g6*exp(-2*I*t*w_s)*conjugate(eta)**2*CreateBoson(s)**2/(7*w_s) - 269530*eta**3*g5*g6*exp(-2*I*t*w_s)*conjugate(eta)**2*CreateBoson(s)**3*AnnihilateBoson(s)/(7*w_s) + 50*eta**3*g5*g6*exp(-6*I*t*w_s)*CreateBoson(s)**6/w_s - 687300*eta**3*g6**2*exp(-4*I*t*w_s)*conjugate(eta)*CreateBoson(s)**4/(7*w_s) - 274920*eta**3*g6**2*exp(-4*I*t*w_s)*conjugate(eta)*CreateBoson(s)**5*AnnihilateBoson(s)/(7*w_s) - 846*eta**2*g3*g4*exp(-2*I*t*w_s)*conjugate(eta)*CreateBoson(s)**2/(5*w_s) + 2*eta**2*g3*g5*exp(-4*I*t*w_s)*CreateBoson(s)**4/w_s - 2304*eta**2*g3*g6*exp(2*I*t*w_s)*conjugate(eta)**3*AnnihilateBoson(s)**2/w_s - 5463*eta**2*g3*g6*exp(-2*I*t*w_s)*conjugate(eta)*CreateBoson(s)**2/w_s - 3642*eta**2*g3*g6*exp(-2*I*t*w_s)*conjugate(eta)*CreateBoson(s)**3*AnnihilateBoson(s)/w_s - 132*eta**2*g4**2*exp(-4*I*t*w_s)*CreateBoson(s)**4/w_s - 3368*eta**2*g4*g5*exp(2*I*t*w_s)*conjugate(eta)**3*AnnihilateBoson(s)**2/(7*w_s) - 3366*eta**2*g4*g5*exp(-2*I*t*w_s)*conjugate(eta)*CreateBoson(s)**2/w_s - 2244*eta**2*g4*g5*exp(-2*I*t*w_s)*conjugate(eta)*CreateBoson(s)**3*AnnihilateBoson(s)/w_s - 6210*eta**2*g4*g6*exp(-4*I*t*w_s)*CreateBoson(s)**4/w_s - 2484*eta**2*g4*g6*exp(-4*I*t*w_s)*CreateBoson(s)**5*AnnihilateBoson(s)/w_s - 400*eta**2*g5**2*exp(-4*I*t*w_s)*CreateBoson(s)**4/w_s - 160*eta**2*g5**2*exp(-4*I*t*w_s)*CreateBoson(s)**5*AnnihilateBoson(s)/w_s - 404295*eta**2*g5*g6*exp(2*I*t*w_s)*conjugate(eta)**3*AnnihilateBoson(s)**2/(7*w_s) - 269530*eta**2*g5*g6*exp(2*I*t*w_s)*conjugate(eta)**3*CreateBoson(s)*AnnihilateBoson(s)**3/(7*w_s) - 665520*eta**2*g5*g6*exp(-2*I*t*w_s)*conjugate(eta)*CreateBoson(s)**2/(7*w_s) - 963720*eta**2*g5*g6*exp(-2*I*t*w_s)*conjugate(eta)*CreateBoson(s)**3*AnnihilateBoson(s)/(7*w_s) - 240930*eta**2*g5*g6*exp(-2*I*t*w_s)*conjugate(eta)*CreateBoson(s)**4*AnnihilateBoson(s)**2/(7*w_s) + 30*eta**2*g5*exp(-2*I*t*w_s)*conjugate(eta)*CreateBoson(s)**2 - 220035*eta**2*g6**2*exp(4*I*t*w_s)*conjugate(eta)**4*AnnihilateBoson(s)**4/(7*w_s) - 70950*eta**2*g6**2*exp(-4*I*t*w_s)*CreateBoson(s)**4/w_s - 66960*eta**2*g6**2*exp(-4*I*t*w_s)*CreateBoson(s)**5*AnnihilateBoson(s)/w_s - 11160*eta**2*g6**2*exp(-4*I*t*w_s)*CreateBoson(s)**6*AnnihilateBoson(s)**2/w_s + 15*eta**2*g6*exp(-4*I*t*w_s)*CreateBoson(s)**4 - 846*eta*g3*g4*exp(2*I*t*w_s)*conjugate(eta)**2*AnnihilateBoson(s)**2/(5*w_s) - 189*eta*g3*g4*exp(-2*I*t*w_s)*CreateBoson(s)**2/w_s - 126*eta*g3*g4*exp(-2*I*t*w_s)*CreateBoson(s)**3*AnnihilateBoson(s)/w_s - 5463*eta*g3*g6*exp(2*I*t*w_s)*conjugate(eta)**2*AnnihilateBoson(s)**2/w_s - 3642*eta*g3*g6*exp(2*I*t*w_s)*conjugate(eta)**2*CreateBoson(s)*AnnihilateBoson(s)**3/w_s - 2985*eta*g3*g6*exp(-2*I*t*w_s)*CreateBoson(s)**2/w_s - 4620*eta*g3*g6*exp(-2*I*t*w_s)*CreateBoson(s)**3*AnnihilateBoson(s)/w_s - 1155*eta*g3*g6*exp(-2*I*t*w_s)*CreateBoson(s)**4*AnnihilateBoson(s)**2/w_s + 3*eta*g3*exp(-2*I*t*w_s)*CreateBoson(s)**2 - 3366*eta*g4*g5*exp(2*I*t*w_s)*conjugate(eta)**2*AnnihilateBoson(s)**2/w_s - 2244*eta*g4*g5*exp(2*I*t*w_s)*conjugate(eta)**2*CreateBoson(s)*AnnihilateBoson(s)**3/w_s - 2538*eta*g4*g5*exp(-2*I*t*w_s)*CreateBoson(s)**2/w_s - 3248*eta*g4*g5*exp(-2*I*t*w_s)*CreateBoson(s)**3*AnnihilateBoson(s)/w_s - 812*eta*g4*g5*exp(-2*I*t*w_s)*CreateBoson(s)**4*AnnihilateBoson(s)**2/w_s - 29520*eta*g4*g6*exp(4*I*t*w_s)*conjugate(eta)**3*AnnihilateBoson(s)**4/(7*w_s) + 1940*eta*g5**2*exp(4*I*t*w_s)*conjugate(eta)**3*AnnihilateBoson(s)**4/(3*w_s) - 665520*eta*g5*g6*exp(2*I*t*w_s)*conjugate(eta)**2*AnnihilateBoson(s)**2/(7*w_s) - 963720*eta*g5*g6*exp(2*I*t*w_s)*conjugate(eta)**2*CreateBoson(s)*AnnihilateBoson(s)**3/(7*w_s) - 240930*eta*g5*g6*exp(2*I*t*w_s)*conjugate(eta)**2*CreateBoson(s)**2*AnnihilateBoson(s)**4/(7*w_s) - 39990*eta*g5*g6*exp(-2*I*t*w_s)*CreateBoson(s)**2/w_s - 89260*eta*g5*g6*exp(-2*I*t*w_s)*CreateBoson(s)**3*AnnihilateBoson(s)/w_s - 46950*eta*g5*g6*exp(-2*I*t*w_s)*CreateBoson(s)**4*AnnihilateBoson(s)**2/w_s - 6260*eta*g5*g6*exp(-2*I*t*w_s)*CreateBoson(s)**5*AnnihilateBoson(s)**3/w_s + 30*eta*g5*exp(2*I*t*w_s)*conjugate(eta)**2*AnnihilateBoson(s)**2 + 30*eta*g5*exp(-2*I*t*w_s)*CreateBoson(s)**2 + 20*eta*g5*exp(-2*I*t*w_s)*CreateBoson(s)**3*AnnihilateBoson(s) - 687300*eta*g6**2*exp(4*I*t*w_s)*conjugate(eta)**3*AnnihilateBoson(s)**4/(7*w_s) - 274920*eta*g6**2*exp(4*I*t*w_s)*conjugate(eta)**3*CreateBoson(s)*AnnihilateBoson(s)**5/(7*w_s) - 189*g3*g4*exp(2*I*t*w_s)*conjugate(eta)*AnnihilateBoson(s)**2/w_s - 126*g3*g4*exp(2*I*t*w_s)*conjugate(eta)*CreateBoson(s)*AnnihilateBoson(s)**3/w_s + 2*g3*g5*exp(4*I*t*w_s)*conjugate(eta)**2*AnnihilateBoson(s)**4/w_s - 2985*g3*g6*exp(2*I*t*w_s)*conjugate(eta)*AnnihilateBoson(s)**2/w_s - 4620*g3*g6*exp(2*I*t*w_s)*conjugate(eta)*CreateBoson(s)*AnnihilateBoson(s)**3/w_s - 1155*g3*g6*exp(2*I*t*w_s)*conjugate(eta)*CreateBoson(s)**2*AnnihilateBoson(s)**4/w_s + 3*g3*exp(2*I*t*w_s)*conjugate(eta)*AnnihilateBoson(s)**2 - 132*g4**2*exp(4*I*t*w_s)*conjugate(eta)**2*AnnihilateBoson(s)**4/w_s - 2538*g4*g5*exp(2*I*t*w_s)*conjugate(eta)*AnnihilateBoson(s)**2/w_s - 3248*g4*g5*exp(2*I*t*w_s)*conjugate(eta)*CreateBoson(s)*AnnihilateBoson(s)**3/w_s - 812*g4*g5*exp(2*I*t*w_s)*conjugate(eta)*CreateBoson(s)**2*AnnihilateBoson(s)**4/w_s - 6210*g4*g6*exp(4*I*t*w_s)*conjugate(eta)**2*AnnihilateBoson(s)**4/w_s - 2484*g4*g6*exp(4*I*t*w_s)*conjugate(eta)**2*CreateBoson(s)*AnnihilateBoson(s)**5/w_s - 400*g5**2*exp(4*I*t*w_s)*conjugate(eta)**2*AnnihilateBoson(s)**4/w_s - 160*g5**2*exp(4*I*t*w_s)*conjugate(eta)**2*CreateBoson(s)*AnnihilateBoson(s)**5/w_s + 50*g5*g6*exp(6*I*t*w_s)*conjugate(eta)**3*AnnihilateBoson(s)**6/w_s - 39990*g5*g6*exp(2*I*t*w_s)*conjugate(eta)*AnnihilateBoson(s)**2/w_s - 89260*g5*g6*exp(2*I*t*w_s)*conjugate(eta)*CreateBoson(s)*AnnihilateBoson(s)**3/w_s - 46950*g5*g6*exp(2*I*t*w_s)*conjugate(eta)*CreateBoson(s)**2*AnnihilateBoson(s)**4/w_s - 6260*g5*g6*exp(2*I*t*w_s)*conjugate(eta)*CreateBoson(s)**3*AnnihilateBoson(s)**5/w_s + 30*g5*exp(2*I*t*w_s)*conjugate(eta)*AnnihilateBoson(s)**2 + 20*g5*exp(2*I*t*w_s)*conjugate(eta)*CreateBoson(s)*AnnihilateBoson(s)**3 - 70950*g6**2*exp(4*I*t*w_s)*conjugate(eta)**2*AnnihilateBoson(s)**4/w_s - 66960*g6**2*exp(4*I*t*w_s)*conjugate(eta)**2*CreateBoson(s)*AnnihilateBoson(s)**5/w_s - 11160*g6**2*exp(4*I*t*w_s)*conjugate(eta)**2*CreateBoson(s)**2*AnnihilateBoson(s)**6/w_s + 15*g6*exp(4*I*t*w_s)*conjugate(eta)**2*AnnihilateBoson(s)**4"
      ]
     },
     "execution_count": 262,
     "metadata": {},
     "output_type": "execute_result"
    }
   ],
   "source": [
    "sq1+sq2"
   ]
  },
  {
   "cell_type": "markdown",
   "id": "15d69362",
   "metadata": {},
   "source": [
    "### obtain up to $\\hat{H}_3$"
   ]
  },
  {
   "cell_type": "code",
   "execution_count": 259,
   "id": "67822146",
   "metadata": {},
   "outputs": [],
   "source": [
    "temp = 0\n",
    "tempp = 0\n",
    "for term in (v2-h2).args:\n",
    "    if (term.as_powers_dict()[ad] != term.as_powers_dict()[a] or \n",
    "        term.as_powers_dict()[eta] != term.as_powers_dict()[eta.conjugate()]):\n",
    "        if type((omega_d/2 * (term.as_powers_dict()[ad] - term.as_powers_dict()[a]) + \n",
    "                        omega_d * (term.as_powers_dict()[eta.conjugate()] - term.as_powers_dict()[eta]) )) == Zero:\n",
    "            tempp += term\n",
    "        else:\n",
    "            temp += (term / (omega_d/2 * (term.as_powers_dict()[ad] - term.as_powers_dict()[a]) + \n",
    "                        omega_d * (term.as_powers_dict()[eta.conjugate()] - term.as_powers_dict()[eta]) )).simplify()\n",
    "sq2 = normal(tempp) * 1\n",
    "s2= normal(temp) * 1"
   ]
  },
  {
   "cell_type": "code",
   "execution_count": 159,
   "id": "a2a2955f",
   "metadata": {},
   "outputs": [],
   "source": [
    "s_tot_1 = s1 * kappa\n",
    "s_tot_2 = s2 * kappa**2\n",
    "sd_tot_1 = sp.diff(s_tot_1, t)\n",
    "sd_tot_2 = sp.diff(s_tot_2, t)"
   ]
  },
  {
   "cell_type": "code",
   "execution_count": 160,
   "id": "81051475",
   "metadata": {},
   "outputs": [
    {
     "name": "stdout",
     "output_type": "stream",
     "text": [
      "x\n",
      "x\n",
      "x\n"
     ]
    }
   ],
   "source": [
    "# time-independent part \n",
    "h_tot = h0 + kappa*v \n",
    "h_eff_3_ti = 0\n",
    "h_eff_2_ti = 0\n",
    "\n",
    "temp_3 = normal(Commutator(s_tot_2, h_tot.coeff(kappa,1)*kappa**1).doit() )\n",
    "temp_2 = normal(Commutator(s_tot_1, h_tot.coeff(kappa,1)*kappa**1).doit() + Commutator(s_tot_2, h_tot.coeff(kappa,0)*kappa**0).doit() )\n",
    "temp_1 = normal(Commutator(s_tot_1, h_tot.coeff(kappa,0)*kappa**0).doit() )\n",
    "print('x')\n",
    "h_eff_3_ti += temp_3\n",
    "h_eff_2_ti += temp_2\n",
    "\n",
    "temp_3 = normal(sp.Rational(1,2)*Commutator(s_tot_2, temp_1).doit() + sp.Rational(1,2)*Commutator(s_tot_1, temp_2).doit())\n",
    "temp_2 = normal(sp.Rational(1,2)*Commutator(s_tot_1, temp_1).doit())\n",
    "print('x')\n",
    "h_eff_3_ti += temp_3\n",
    "h_eff_2_ti += temp_2\n",
    "\n",
    "temp_3 = normal(sp.Rational(1,3)*Commutator(s_tot_1, temp_2).doit())\n",
    "print('x')\n",
    "h_eff_3_ti += temp_3\n",
    "\n",
    "# h_eff_3_ti = h_eff_3_ti.expand()\n",
    "# h_eff_2_ti = h_eff_2_ti.expand()"
   ]
  },
  {
   "cell_type": "code",
   "execution_count": 161,
   "id": "927ccef5",
   "metadata": {},
   "outputs": [
    {
     "name": "stdout",
     "output_type": "stream",
     "text": [
      "x\n"
     ]
    }
   ],
   "source": [
    "# time-dependent part \n",
    "h_eff_3_td = 0\n",
    "h_eff_2_td = 0\n",
    "\n",
    "temp_3 = normal(I*sp.Rational(1,2)*Commutator(s_tot_1, sd_tot_2).doit() + \n",
    "                I*sp.Rational(1,2)*Commutator(s_tot_2, sd_tot_1).doit() )\n",
    "temp_2 = normal(I*sp.Rational(1,2)*Commutator(s_tot_1, sd_tot_1).doit())\n",
    "print('x')                \n",
    "h_eff_3_td += temp_3\n",
    "h_eff_2_td += temp_2\n",
    "\n",
    "temp_3 = normal(sp.Rational(1,3)*Commutator(s_tot_1, temp_2).doit())\n",
    "h_eff_3_td += temp_3\n",
    "\n",
    "# h_eff_3_td = (I * h_eff_3_td).expand()\n",
    "# h_eff_2_td = (I * h_eff_2_td).expand()"
   ]
  },
  {
   "cell_type": "code",
   "execution_count": 162,
   "id": "6cff2588",
   "metadata": {},
   "outputs": [],
   "source": [
    "h_eff_2 = h_eff_2_ti + h_eff_2_td\n",
    "h_eff_3 = h_eff_3_ti + h_eff_3_td"
   ]
  },
  {
   "cell_type": "code",
   "execution_count": 163,
   "id": "f708525e",
   "metadata": {},
   "outputs": [],
   "source": [
    "v3 = normal(h_eff_3.coeff(kappa,3))\n",
    "v2 = normal(h_eff_2.coeff(kappa,2))"
   ]
  },
  {
   "cell_type": "code",
   "execution_count": 164,
   "id": "5dfa7956",
   "metadata": {},
   "outputs": [],
   "source": [
    "temp = 0\n",
    "for term in v3.args:\n",
    "    if term.as_powers_dict()[ad] == term.as_powers_dict()[a]:\n",
    "        temp += term\n",
    "h3 = remove_constant(temp * 1)\n",
    "\n",
    "temp = 0\n",
    "for term in v2.args:\n",
    "    if term.as_powers_dict()[ad] == term.as_powers_dict()[a]:\n",
    "        temp += term\n",
    "h2 =  remove_constant(temp * 1)\n",
    "\n",
    "temp = 0\n",
    "for term in v1.args:\n",
    "    if term.as_powers_dict()[ad] == term.as_powers_dict()[a]:\n",
    "        temp += term\n",
    "h1 =  remove_constant(temp * 1)"
   ]
  },
  {
   "cell_type": "code",
   "execution_count": 165,
   "id": "0133a9ea",
   "metadata": {},
   "outputs": [],
   "source": [
    "temp = 0\n",
    "for term in h3.args:\n",
    "    if term.as_powers_dict()[eta] == term.as_powers_dict()[eta.conjugate()]:\n",
    "        temp += term\n",
    "h3_ti = temp * 1\n",
    "\n",
    "temp = 0\n",
    "for term in h2.args:\n",
    "    if term.as_powers_dict()[eta] == term.as_powers_dict()[eta.conjugate()]:\n",
    "        temp += term\n",
    "h2_ti = temp * 1\n",
    "\n",
    "temp = 0\n",
    "for term in h1.args:\n",
    "    if term.as_powers_dict()[eta] == term.as_powers_dict()[eta.conjugate()]:\n",
    "        temp += term\n",
    "h1_ti = temp * 1"
   ]
  },
  {
   "cell_type": "code",
   "execution_count": 172,
   "id": "cfda2295",
   "metadata": {},
   "outputs": [
    {
     "data": {
      "text/latex": [
       "$\\displaystyle \\frac{10512 \\eta^{2} g_{4}^{3} \\overline{\\eta}^{2}}{25 w_{s}^{2}} + \\frac{701 \\eta g_{3}^{2} g_{4} \\overline{\\eta}}{5 w_{s}^{2}} + \\frac{108999 \\eta g_{4}^{3} \\overline{\\eta}}{100 w_{s}^{2}} - \\frac{54 \\eta g_{4}^{2} \\overline{\\eta}}{5 w_{s}} + \\frac{225 g_{3}^{2} g_{4}}{w_{s}^{2}} - \\frac{10 g_{3}^{2}}{3 w_{s}} + \\frac{6291 g_{4}^{3}}{16 w_{s}^{2}} - \\frac{153 g_{4}^{2}}{8 w_{s}} + \\frac{3 g_{4}}{2}$"
      ],
      "text/plain": [
       "10512*eta**2*g4**3*conjugate(eta)**2/(25*w_s**2) + 701*eta*g3**2*g4*conjugate(eta)/(5*w_s**2) + 108999*eta*g4**3*conjugate(eta)/(100*w_s**2) - 54*eta*g4**2*conjugate(eta)/(5*w_s) + 225*g3**2*g4/w_s**2 - 10*g3**2/(3*w_s) + 6291*g4**3/(16*w_s**2) - 153*g4**2/(8*w_s) + 3*g4/2"
      ]
     },
     "execution_count": 172,
     "metadata": {},
     "output_type": "execute_result"
    }
   ],
   "source": [
    "(h1_ti+h2_ti+h3_ti).coeff(ad**2*a**2)"
   ]
  },
  {
   "cell_type": "code",
   "execution_count": 174,
   "id": "98bc677e",
   "metadata": {},
   "outputs": [
    {
     "data": {
      "text/latex": [
       "$\\displaystyle \\eta g_{3} e^{- 2 i t w_{s}} {b^\\dagger_{s}}^{2} + g_{3} e^{2 i t w_{s}} \\overline{\\eta} b_{s}^{2}$"
      ],
      "text/plain": [
       "eta*g3*exp(-2*I*t*w_s)*CreateBoson(s)**2 + g3*exp(2*I*t*w_s)*conjugate(eta)*AnnihilateBoson(s)**2"
      ]
     },
     "execution_count": 174,
     "metadata": {},
     "output_type": "execute_result"
    }
   ],
   "source": [
    "sq1"
   ]
  },
  {
   "cell_type": "code",
   "execution_count": 175,
   "id": "be332c8a",
   "metadata": {},
   "outputs": [
    {
     "data": {
      "text/latex": [
       "$\\displaystyle - \\frac{141 \\eta^{2} g_{3} g_{4} e^{- 2 i t w_{s}} \\overline{\\eta} {b^\\dagger_{s}}^{2}}{10 w_{s}} - \\frac{33 \\eta^{2} g_{4}^{2} e^{- 4 i t w_{s}} {b^\\dagger_{s}}^{4}}{4 w_{s}} - \\frac{141 \\eta g_{3} g_{4} e^{2 i t w_{s}} \\overline{\\eta}^{2} b_{s}^{2}}{10 w_{s}} - \\frac{63 \\eta g_{3} g_{4} e^{- 2 i t w_{s}} {b^\\dagger_{s}}^{2}}{4 w_{s}} - \\frac{21 \\eta g_{3} g_{4} e^{- 2 i t w_{s}} {b^\\dagger_{s}}^{3} b_{s}}{2 w_{s}} - \\frac{63 g_{3} g_{4} e^{2 i t w_{s}} \\overline{\\eta} b_{s}^{2}}{4 w_{s}} - \\frac{21 g_{3} g_{4} e^{2 i t w_{s}} \\overline{\\eta} {b^\\dagger_{s}} b_{s}^{3}}{2 w_{s}} - \\frac{33 g_{4}^{2} e^{4 i t w_{s}} \\overline{\\eta}^{2} b_{s}^{4}}{4 w_{s}}$"
      ],
      "text/plain": [
       "-141*eta**2*g3*g4*exp(-2*I*t*w_s)*conjugate(eta)*CreateBoson(s)**2/(10*w_s) - 33*eta**2*g4**2*exp(-4*I*t*w_s)*CreateBoson(s)**4/(4*w_s) - 141*eta*g3*g4*exp(2*I*t*w_s)*conjugate(eta)**2*AnnihilateBoson(s)**2/(10*w_s) - 63*eta*g3*g4*exp(-2*I*t*w_s)*CreateBoson(s)**2/(4*w_s) - 21*eta*g3*g4*exp(-2*I*t*w_s)*CreateBoson(s)**3*AnnihilateBoson(s)/(2*w_s) - 63*g3*g4*exp(2*I*t*w_s)*conjugate(eta)*AnnihilateBoson(s)**2/(4*w_s) - 21*g3*g4*exp(2*I*t*w_s)*conjugate(eta)*CreateBoson(s)*AnnihilateBoson(s)**3/(2*w_s) - 33*g4**2*exp(4*I*t*w_s)*conjugate(eta)**2*AnnihilateBoson(s)**4/(4*w_s)"
      ]
     },
     "execution_count": 175,
     "metadata": {},
     "output_type": "execute_result"
    }
   ],
   "source": [
    "sq2"
   ]
  },
  {
   "cell_type": "markdown",
   "id": "f43bf041",
   "metadata": {},
   "source": [
    "### obtain up to $\\hat{H}_4$"
   ]
  },
  {
   "cell_type": "code",
   "execution_count": 177,
   "id": "d370945f",
   "metadata": {},
   "outputs": [],
   "source": [
    "temp = 0\n",
    "tempp = 0\n",
    "for term in (v3-h3).args:\n",
    "    if (term.as_powers_dict()[ad] != term.as_powers_dict()[a] or \n",
    "        term.as_powers_dict()[eta] != term.as_powers_dict()[eta.conjugate()]):\n",
    "        if type((omega_d/2 * (term.as_powers_dict()[ad] - term.as_powers_dict()[a]) + \n",
    "                        omega_d * (term.as_powers_dict()[eta.conjugate()] - term.as_powers_dict()[eta]) )) == Zero:\n",
    "            tempp += term\n",
    "        else:\n",
    "            temp += (term / (omega_d/2 * (term.as_powers_dict()[ad] - term.as_powers_dict()[a]) + \n",
    "                        omega_d * (term.as_powers_dict()[eta.conjugate()] - term.as_powers_dict()[eta]) )).simplify()\n",
    "sq3 = normal(tempp) * 1\n",
    "s3= normal(temp) * 1"
   ]
  },
  {
   "cell_type": "code",
   "execution_count": 179,
   "id": "bb9260a4",
   "metadata": {},
   "outputs": [
    {
     "data": {
      "text/latex": [
       "$\\displaystyle \\frac{1}{w_{s}^{2}}$"
      ],
      "text/plain": [
       "w_s**(-2)"
      ]
     },
     "execution_count": 179,
     "metadata": {},
     "output_type": "execute_result"
    }
   ],
   "source": [
    "sq3.coeff(ad**4)"
   ]
  },
  {
   "cell_type": "code",
   "execution_count": 231,
   "id": "cdf98be2",
   "metadata": {},
   "outputs": [],
   "source": [
    "temp = 0\n",
    "for term in (sq3+sq4).args:\n",
    "    temp += term.coeff(ad**4)"
   ]
  },
  {
   "cell_type": "code",
   "execution_count": 232,
   "id": "37c2cd44",
   "metadata": {},
   "outputs": [
    {
     "data": {
      "text/latex": [
       "$\\displaystyle - \\frac{9786739 \\eta^{4} g_{4}^{4} e^{- 4 i t w_{s}} \\overline{\\eta}^{2}}{3920 w_{s}^{3}} + \\frac{9029 \\eta^{3} g_{3}^{2} g_{4}^{2} e^{- 4 i t w_{s}} \\overline{\\eta}}{336 w_{s}^{3}} - \\frac{69669101 \\eta^{3} g_{4}^{4} e^{- 4 i t w_{s}} \\overline{\\eta}}{9800 w_{s}^{3}} + \\frac{24807 \\eta^{3} g_{4}^{3} e^{- 4 i t w_{s}} \\overline{\\eta}}{175 w_{s}^{2}} + \\frac{79 \\eta^{2} g_{3}^{4} e^{- 4 i t w_{s}}}{6 w_{s}^{3}} - \\frac{1013 \\eta^{2} g_{3}^{2} g_{4}^{2} e^{- 4 i t w_{s}}}{9 w_{s}^{3}} - \\frac{125 \\eta^{2} g_{3}^{2} g_{4} e^{- 4 i t w_{s}}}{24 w_{s}^{2}} - \\frac{607047031 \\eta^{2} g_{3} g_{4}^{3} e^{- 2 i t w_{s}} \\overline{\\eta}}{84000 w_{s}^{3}} - \\frac{245067 \\eta^{2} g_{4}^{4} e^{- 4 i t w_{s}}}{32 w_{s}^{3}} + \\frac{1665 \\eta^{2} g_{4}^{3} e^{- 4 i t w_{s}}}{8 w_{s}^{2}} - \\frac{1409 \\eta g_{3}^{3} g_{4} e^{- 2 i t w_{s}}}{18 w_{s}^{3}} - \\frac{913587 \\eta g_{3} g_{4}^{3} e^{- 2 i t w_{s}}}{64 w_{s}^{3}} + \\frac{2131 \\eta g_{3} g_{4}^{2} e^{- 2 i t w_{s}}}{16 w_{s}^{2}}$"
      ],
      "text/plain": [
       "-9786739*eta**4*g4**4*exp(-4*I*t*w_s)*conjugate(eta)**2/(3920*w_s**3) + 9029*eta**3*g3**2*g4**2*exp(-4*I*t*w_s)*conjugate(eta)/(336*w_s**3) - 69669101*eta**3*g4**4*exp(-4*I*t*w_s)*conjugate(eta)/(9800*w_s**3) + 24807*eta**3*g4**3*exp(-4*I*t*w_s)*conjugate(eta)/(175*w_s**2) + 79*eta**2*g3**4*exp(-4*I*t*w_s)/(6*w_s**3) - 1013*eta**2*g3**2*g4**2*exp(-4*I*t*w_s)/(9*w_s**3) - 125*eta**2*g3**2*g4*exp(-4*I*t*w_s)/(24*w_s**2) - 607047031*eta**2*g3*g4**3*exp(-2*I*t*w_s)*conjugate(eta)/(84000*w_s**3) - 245067*eta**2*g4**4*exp(-4*I*t*w_s)/(32*w_s**3) + 1665*eta**2*g4**3*exp(-4*I*t*w_s)/(8*w_s**2) - 1409*eta*g3**3*g4*exp(-2*I*t*w_s)/(18*w_s**3) - 913587*eta*g3*g4**3*exp(-2*I*t*w_s)/(64*w_s**3) + 2131*eta*g3*g4**2*exp(-2*I*t*w_s)/(16*w_s**2)"
      ]
     },
     "execution_count": 232,
     "metadata": {},
     "output_type": "execute_result"
    }
   ],
   "source": [
    "temp"
   ]
  },
  {
   "cell_type": "code",
   "execution_count": 183,
   "id": "dc24f11c",
   "metadata": {},
   "outputs": [],
   "source": [
    "s_tot_1 = s1 * kappa\n",
    "s_tot_2 = s2 * kappa**2\n",
    "s_tot_3 = s3 * kappa**3\n",
    "sd_tot_1 = sp.diff(s_tot_1, t)\n",
    "sd_tot_2 = sp.diff(s_tot_2, t)\n",
    "sd_tot_3 = sp.diff(s_tot_3, t)"
   ]
  },
  {
   "cell_type": "code",
   "execution_count": 184,
   "id": "45579dfb",
   "metadata": {},
   "outputs": [
    {
     "name": "stdout",
     "output_type": "stream",
     "text": [
      "x\n",
      "x\n",
      "x\n",
      "x\n"
     ]
    }
   ],
   "source": [
    "# time-independent part \n",
    "h_tot = h0 + kappa*v \n",
    "h_eff_4_ti = 0\n",
    "h_eff_3_ti = 0\n",
    "h_eff_2_ti = 0\n",
    "\n",
    "temp_4 = normal(Commutator(s_tot_3, h_tot.coeff(kappa,1)*kappa**1).doit() )\n",
    "temp_3 = normal(Commutator(s_tot_2, h_tot.coeff(kappa,1)*kappa**1).doit() + Commutator(s_tot_3, h_tot.coeff(kappa,0)*kappa**0).doit() )\n",
    "temp_2 = normal(Commutator(s_tot_1, h_tot.coeff(kappa,1)*kappa**1).doit() + Commutator(s_tot_2, h_tot.coeff(kappa,0)*kappa**0).doit() )\n",
    "temp_1 = normal(Commutator(s_tot_1, h_tot.coeff(kappa,0)*kappa**0).doit() )\n",
    "print('x')\n",
    "h_eff_4_ti += temp_4\n",
    "h_eff_3_ti += temp_3\n",
    "h_eff_2_ti += temp_2\n",
    "\n",
    "temp_4 = normal(Commutator(s_tot_3, temp_1).doit() + Commutator(s_tot_2, temp_2).doit() + Commutator(s_tot_1, temp_3).doit())\n",
    "temp_3 = normal(Commutator(s_tot_2, temp_1).doit() + Commutator(s_tot_1, temp_2).doit())\n",
    "temp_2 = normal(Commutator(s_tot_1, temp_1).doit())\n",
    "print('x')\n",
    "h_eff_4_ti += sp.Rational(1,2) * temp_4\n",
    "h_eff_3_ti += sp.Rational(1,2) * temp_3\n",
    "h_eff_2_ti += sp.Rational(1,2) * temp_2\n",
    "\n",
    "temp_4 = normal(Commutator(s_tot_2, temp_2).doit() + Commutator(s_tot_1, temp_3).doit())\n",
    "temp_3 = normal(Commutator(s_tot_1, temp_2).doit())\n",
    "print('x')\n",
    "h_eff_4_ti += sp.Rational(1,6) * temp_4\n",
    "h_eff_3_ti += sp.Rational(1,6) * temp_3\n",
    "\n",
    "temp_4 = normal(Commutator(s_tot_1, temp_3).doit())\n",
    "print('x')\n",
    "h_eff_4_ti += sp.Rational(1,24) * temp_4\n",
    "\n",
    "\n",
    "h_eff_4_ti = h_eff_4_ti.expand()\n",
    "h_eff_3_ti = h_eff_3_ti.expand()\n",
    "h_eff_2_ti = h_eff_2_ti.expand()"
   ]
  },
  {
   "cell_type": "code",
   "execution_count": 185,
   "id": "888a03de",
   "metadata": {},
   "outputs": [
    {
     "name": "stdout",
     "output_type": "stream",
     "text": [
      "x\n",
      "x\n",
      "x\n"
     ]
    }
   ],
   "source": [
    "# time-dependent part \n",
    "h_eff_4_td = 0\n",
    "h_eff_3_td = 0\n",
    "h_eff_2_td = 0\n",
    "\n",
    "temp_4 = normal(Commutator(s_tot_1, sd_tot_3).doit() + \n",
    "                Commutator(s_tot_2, sd_tot_2).doit() +\n",
    "                Commutator(s_tot_3, sd_tot_1).doit())\n",
    "temp_3 = normal(Commutator(s_tot_1, sd_tot_2).doit() + \n",
    "                Commutator(s_tot_2, sd_tot_1).doit() )\n",
    "temp_2 = normal(Commutator(s_tot_1, sd_tot_1).doit())\n",
    "print('x')                \n",
    "h_eff_4_td += sp.Rational(1,2) * temp_4\n",
    "h_eff_3_td += sp.Rational(1,2) * temp_3\n",
    "h_eff_2_td += sp.Rational(1,2) * temp_2\n",
    "\n",
    "temp_4 = normal(Commutator(s_tot_1, temp_3).doit() + \n",
    "                Commutator(s_tot_2, temp_2).doit() )\n",
    "temp_3 = normal(Commutator(s_tot_1, temp_2).doit())\n",
    "print('x')             \n",
    "h_eff_4_td += sp.Rational(1,6) * temp_4\n",
    "h_eff_3_td += sp.Rational(1,6) * temp_3\n",
    "\n",
    "temp_4 = normal(Commutator(s_tot_1, temp_3).doit())\n",
    "print('x')             \n",
    "h_eff_4_td += sp.Rational(1,24) * temp_4\n",
    "\n",
    "h_eff_4_td = (I * h_eff_4_td).expand()\n",
    "h_eff_3_td = (I * h_eff_3_td).expand()\n",
    "h_eff_2_td = (I * h_eff_2_td).expand()"
   ]
  },
  {
   "cell_type": "code",
   "execution_count": 186,
   "id": "3939fb8f",
   "metadata": {},
   "outputs": [],
   "source": [
    "h_eff_2 = h_eff_2_ti + h_eff_2_td\n",
    "h_eff_3 = h_eff_3_ti + h_eff_3_td\n",
    "h_eff_4 = h_eff_4_ti + h_eff_4_td"
   ]
  },
  {
   "cell_type": "code",
   "execution_count": 187,
   "id": "95ae0987",
   "metadata": {},
   "outputs": [],
   "source": [
    "v4 = normal(h_eff_4.coeff(kappa,4))\n",
    "v3 = normal(h_eff_3.coeff(kappa,3))\n",
    "v2 = normal(h_eff_2.coeff(kappa,2))"
   ]
  },
  {
   "cell_type": "code",
   "execution_count": 190,
   "id": "1295cbbe",
   "metadata": {},
   "outputs": [],
   "source": [
    "temp = 0\n",
    "for term in v4.args:\n",
    "    if term.as_powers_dict()[ad] == term.as_powers_dict()[a]:\n",
    "        temp += term\n",
    "h4 =  remove_constant(temp * 1)\n",
    "\n",
    "temp = 0\n",
    "for term in v3.args:\n",
    "    if term.as_powers_dict()[ad] == term.as_powers_dict()[a]:\n",
    "        temp += term\n",
    "h3 =  remove_constant(temp * 1)\n",
    "\n",
    "temp = 0\n",
    "for term in v2.args:\n",
    "    if term.as_powers_dict()[ad] == term.as_powers_dict()[a]:\n",
    "        temp += term\n",
    "h2 =  remove_constant(temp * 1)\n",
    "\n",
    "temp = 0\n",
    "for term in v1.args:\n",
    "    if term.as_powers_dict()[ad] == term.as_powers_dict()[a]:\n",
    "        temp += term\n",
    "h1 =  remove_constant(temp * 1)"
   ]
  },
  {
   "cell_type": "code",
   "execution_count": 191,
   "id": "0e90c33f",
   "metadata": {},
   "outputs": [],
   "source": [
    "temp = 0\n",
    "for term in h4.args:\n",
    "    if term.as_powers_dict()[eta] == term.as_powers_dict()[eta.conjugate()]:\n",
    "        temp += term\n",
    "h4_ti = temp * 1\n",
    "\n",
    "temp = 0\n",
    "for term in h3.args:\n",
    "    if term.as_powers_dict()[eta] == term.as_powers_dict()[eta.conjugate()]:\n",
    "        temp += term\n",
    "h3_ti = temp * 1\n",
    "\n",
    "temp = 0\n",
    "for term in h2.args:\n",
    "    if term.as_powers_dict()[eta] == term.as_powers_dict()[eta.conjugate()]:\n",
    "        temp += term\n",
    "h2_ti = temp * 1\n",
    "\n",
    "temp = 0\n",
    "for term in h1.args:\n",
    "    if term.as_powers_dict()[eta] == term.as_powers_dict()[eta.conjugate()]:\n",
    "        temp += term\n",
    "h1_ti = temp * 1"
   ]
  },
  {
   "cell_type": "code",
   "execution_count": 192,
   "id": "6471fa81",
   "metadata": {},
   "outputs": [
    {
     "data": {
      "text/latex": [
       "$\\displaystyle \\frac{160829523 \\eta^{4} g_{4}^{4} \\overline{\\eta}^{4} {b^\\dagger_{s}} b_{s}}{171500 w_{s}^{3}} - \\frac{1330765369 \\eta^{3} g_{3}^{2} g_{4}^{2} \\overline{\\eta}^{3} {b^\\dagger_{s}} b_{s}}{441000 w_{s}^{3}} - \\frac{446269504 \\eta^{3} g_{4}^{4} \\overline{\\eta}^{3} {b^\\dagger_{s}} b_{s}}{42875 w_{s}^{3}} - \\frac{223134752 \\eta^{3} g_{4}^{4} \\overline{\\eta}^{3} {b^\\dagger_{s}}^{2} b_{s}^{2}}{42875 w_{s}^{3}} + \\frac{235733 \\eta^{2} g_{3}^{4} \\overline{\\eta}^{2} {b^\\dagger_{s}} b_{s}}{2700 w_{s}^{3}} - \\frac{21220351 \\eta^{2} g_{3}^{2} g_{4}^{2} \\overline{\\eta}^{2} {b^\\dagger_{s}} b_{s}}{2100 w_{s}^{3}} - \\frac{21220351 \\eta^{2} g_{3}^{2} g_{4}^{2} \\overline{\\eta}^{2} {b^\\dagger_{s}}^{2} b_{s}^{2}}{4200 w_{s}^{3}} - \\frac{4398303 \\eta^{2} g_{4}^{4} \\overline{\\eta}^{2} {b^\\dagger_{s}} b_{s}}{100 w_{s}^{3}} - \\frac{76252779 \\eta^{2} g_{4}^{4} \\overline{\\eta}^{2} {b^\\dagger_{s}}^{2} b_{s}^{2}}{2000 w_{s}^{3}} - \\frac{8472531 \\eta^{2} g_{4}^{4} \\overline{\\eta}^{2} {b^\\dagger_{s}}^{3} b_{s}^{3}}{1000 w_{s}^{3}} + \\frac{1132 \\eta g_{3}^{4} \\overline{\\eta} {b^\\dagger_{s}} b_{s}}{45 w_{s}^{3}} + \\frac{566 \\eta g_{3}^{4} \\overline{\\eta} {b^\\dagger_{s}}^{2} b_{s}^{2}}{45 w_{s}^{3}} - \\frac{2683529 \\eta g_{3}^{2} g_{4}^{2} \\overline{\\eta} {b^\\dagger_{s}} b_{s}}{240 w_{s}^{3}} - \\frac{2599227 \\eta g_{3}^{2} g_{4}^{2} \\overline{\\eta} {b^\\dagger_{s}}^{2} b_{s}^{2}}{200 w_{s}^{3}} - \\frac{288803 \\eta g_{3}^{2} g_{4}^{2} \\overline{\\eta} {b^\\dagger_{s}}^{3} b_{s}^{3}}{100 w_{s}^{3}} - \\frac{41296509 \\eta g_{4}^{4} \\overline{\\eta} {b^\\dagger_{s}} b_{s}}{875 w_{s}^{3}} - \\frac{116820729 \\eta g_{4}^{4} \\overline{\\eta} {b^\\dagger_{s}}^{2} b_{s}^{2}}{1750 w_{s}^{3}} - \\frac{5034948 \\eta g_{4}^{4} \\overline{\\eta} {b^\\dagger_{s}}^{3} b_{s}^{3}}{175 w_{s}^{3}} - \\frac{1258737 \\eta g_{4}^{4} \\overline{\\eta} {b^\\dagger_{s}}^{4} b_{s}^{4}}{350 w_{s}^{3}} - \\frac{3440 g_{3}^{4} {b^\\dagger_{s}} b_{s}}{27 w_{s}^{3}} - \\frac{470 g_{3}^{4} {b^\\dagger_{s}}^{2} b_{s}^{2}}{3 w_{s}^{3}} - \\frac{940 g_{3}^{4} {b^\\dagger_{s}}^{3} b_{s}^{3}}{27 w_{s}^{3}} - \\frac{31123 g_{3}^{2} g_{4}^{2} {b^\\dagger_{s}} b_{s}}{6 w_{s}^{3}} - \\frac{130903 g_{3}^{2} g_{4}^{2} {b^\\dagger_{s}}^{2} b_{s}^{2}}{12 w_{s}^{3}} - \\frac{16630 g_{3}^{2} g_{4}^{2} {b^\\dagger_{s}}^{3} b_{s}^{3}}{3 w_{s}^{3}} - \\frac{8315 g_{3}^{2} g_{4}^{2} {b^\\dagger_{s}}^{4} b_{s}^{4}}{12 w_{s}^{3}} - \\frac{3825 g_{4}^{4} {b^\\dagger_{s}} b_{s}}{w_{s}^{3}} - \\frac{1283085 g_{4}^{4} {b^\\dagger_{s}}^{2} b_{s}^{2}}{128 w_{s}^{3}} - \\frac{498865 g_{4}^{4} {b^\\dagger_{s}}^{3} b_{s}^{3}}{64 w_{s}^{3}} - \\frac{267225 g_{4}^{4} {b^\\dagger_{s}}^{4} b_{s}^{4}}{128 w_{s}^{3}} - \\frac{10689 g_{4}^{4} {b^\\dagger_{s}}^{5} b_{s}^{5}}{64 w_{s}^{3}}$"
      ],
      "text/plain": [
       "160829523*eta**4*g4**4*conjugate(eta)**4*CreateBoson(s)*AnnihilateBoson(s)/(171500*w_s**3) - 1330765369*eta**3*g3**2*g4**2*conjugate(eta)**3*CreateBoson(s)*AnnihilateBoson(s)/(441000*w_s**3) - 446269504*eta**3*g4**4*conjugate(eta)**3*CreateBoson(s)*AnnihilateBoson(s)/(42875*w_s**3) - 223134752*eta**3*g4**4*conjugate(eta)**3*CreateBoson(s)**2*AnnihilateBoson(s)**2/(42875*w_s**3) + 235733*eta**2*g3**4*conjugate(eta)**2*CreateBoson(s)*AnnihilateBoson(s)/(2700*w_s**3) - 21220351*eta**2*g3**2*g4**2*conjugate(eta)**2*CreateBoson(s)*AnnihilateBoson(s)/(2100*w_s**3) - 21220351*eta**2*g3**2*g4**2*conjugate(eta)**2*CreateBoson(s)**2*AnnihilateBoson(s)**2/(4200*w_s**3) - 4398303*eta**2*g4**4*conjugate(eta)**2*CreateBoson(s)*AnnihilateBoson(s)/(100*w_s**3) - 76252779*eta**2*g4**4*conjugate(eta)**2*CreateBoson(s)**2*AnnihilateBoson(s)**2/(2000*w_s**3) - 8472531*eta**2*g4**4*conjugate(eta)**2*CreateBoson(s)**3*AnnihilateBoson(s)**3/(1000*w_s**3) + 1132*eta*g3**4*conjugate(eta)*CreateBoson(s)*AnnihilateBoson(s)/(45*w_s**3) + 566*eta*g3**4*conjugate(eta)*CreateBoson(s)**2*AnnihilateBoson(s)**2/(45*w_s**3) - 2683529*eta*g3**2*g4**2*conjugate(eta)*CreateBoson(s)*AnnihilateBoson(s)/(240*w_s**3) - 2599227*eta*g3**2*g4**2*conjugate(eta)*CreateBoson(s)**2*AnnihilateBoson(s)**2/(200*w_s**3) - 288803*eta*g3**2*g4**2*conjugate(eta)*CreateBoson(s)**3*AnnihilateBoson(s)**3/(100*w_s**3) - 41296509*eta*g4**4*conjugate(eta)*CreateBoson(s)*AnnihilateBoson(s)/(875*w_s**3) - 116820729*eta*g4**4*conjugate(eta)*CreateBoson(s)**2*AnnihilateBoson(s)**2/(1750*w_s**3) - 5034948*eta*g4**4*conjugate(eta)*CreateBoson(s)**3*AnnihilateBoson(s)**3/(175*w_s**3) - 1258737*eta*g4**4*conjugate(eta)*CreateBoson(s)**4*AnnihilateBoson(s)**4/(350*w_s**3) - 3440*g3**4*CreateBoson(s)*AnnihilateBoson(s)/(27*w_s**3) - 470*g3**4*CreateBoson(s)**2*AnnihilateBoson(s)**2/(3*w_s**3) - 940*g3**4*CreateBoson(s)**3*AnnihilateBoson(s)**3/(27*w_s**3) - 31123*g3**2*g4**2*CreateBoson(s)*AnnihilateBoson(s)/(6*w_s**3) - 130903*g3**2*g4**2*CreateBoson(s)**2*AnnihilateBoson(s)**2/(12*w_s**3) - 16630*g3**2*g4**2*CreateBoson(s)**3*AnnihilateBoson(s)**3/(3*w_s**3) - 8315*g3**2*g4**2*CreateBoson(s)**4*AnnihilateBoson(s)**4/(12*w_s**3) - 3825*g4**4*CreateBoson(s)*AnnihilateBoson(s)/w_s**3 - 1283085*g4**4*CreateBoson(s)**2*AnnihilateBoson(s)**2/(128*w_s**3) - 498865*g4**4*CreateBoson(s)**3*AnnihilateBoson(s)**3/(64*w_s**3) - 267225*g4**4*CreateBoson(s)**4*AnnihilateBoson(s)**4/(128*w_s**3) - 10689*g4**4*CreateBoson(s)**5*AnnihilateBoson(s)**5/(64*w_s**3)"
      ]
     },
     "execution_count": 192,
     "metadata": {},
     "output_type": "execute_result"
    }
   ],
   "source": [
    "h4_ti"
   ]
  },
  {
   "cell_type": "code",
   "execution_count": 234,
   "id": "c3ebc01f",
   "metadata": {},
   "outputs": [
    {
     "data": {
      "text/latex": [
       "$\\displaystyle - \\frac{8472531 \\eta^{2} g_{4}^{4} \\overline{\\eta}^{2}}{1000 w_{s}^{3}} - \\frac{288803 \\eta g_{3}^{2} g_{4}^{2} \\overline{\\eta}}{100 w_{s}^{3}} - \\frac{5034948 \\eta g_{4}^{4} \\overline{\\eta}}{175 w_{s}^{3}} + \\frac{12111 \\eta g_{4}^{3} \\overline{\\eta}}{50 w_{s}^{2}} - \\frac{940 g_{3}^{4}}{27 w_{s}^{3}} - \\frac{16630 g_{3}^{2} g_{4}^{2}}{3 w_{s}^{3}} + \\frac{50 g_{3}^{2} g_{4}}{w_{s}^{2}} - \\frac{498865 g_{4}^{4}}{64 w_{s}^{3}} + \\frac{375 g_{4}^{3}}{2 w_{s}^{2}} - \\frac{17 g_{4}^{2}}{4 w_{s}}$"
      ],
      "text/plain": [
       "-8472531*eta**2*g4**4*conjugate(eta)**2/(1000*w_s**3) - 288803*eta*g3**2*g4**2*conjugate(eta)/(100*w_s**3) - 5034948*eta*g4**4*conjugate(eta)/(175*w_s**3) + 12111*eta*g4**3*conjugate(eta)/(50*w_s**2) - 940*g3**4/(27*w_s**3) - 16630*g3**2*g4**2/(3*w_s**3) + 50*g3**2*g4/w_s**2 - 498865*g4**4/(64*w_s**3) + 375*g4**3/(2*w_s**2) - 17*g4**2/(4*w_s)"
      ]
     },
     "execution_count": 234,
     "metadata": {},
     "output_type": "execute_result"
    }
   ],
   "source": [
    "(h3_ti+h4_ti+h2_ti).coeff(ad**3*a**3)"
   ]
  },
  {
   "cell_type": "code",
   "execution_count": 233,
   "id": "5c898fa7",
   "metadata": {},
   "outputs": [
    {
     "ename": "KeyboardInterrupt",
     "evalue": "",
     "output_type": "error",
     "traceback": [
      "\u001b[0;31m---------------------------------------------------------------------------\u001b[0m",
      "\u001b[0;31mKeyboardInterrupt\u001b[0m                         Traceback (most recent call last)",
      "Input \u001b[0;32mIn [233]\u001b[0m, in \u001b[0;36m<module>\u001b[0;34m\u001b[0m\n\u001b[1;32m      8\u001b[0m             tempp \u001b[38;5;241m+\u001b[39m\u001b[38;5;241m=\u001b[39m term\n\u001b[1;32m      9\u001b[0m         \u001b[38;5;28;01melse\u001b[39;00m:\n\u001b[0;32m---> 10\u001b[0m             temp \u001b[38;5;241m+\u001b[39m\u001b[38;5;241m=\u001b[39m (term \u001b[38;5;241m/\u001b[39m (omega_d\u001b[38;5;241m/\u001b[39m\u001b[38;5;241m2\u001b[39m \u001b[38;5;241m*\u001b[39m (term\u001b[38;5;241m.\u001b[39mas_powers_dict()[ad] \u001b[38;5;241m-\u001b[39m term\u001b[38;5;241m.\u001b[39mas_powers_dict()[a]) \u001b[38;5;241m+\u001b[39m \n\u001b[1;32m     11\u001b[0m                         omega_d \u001b[38;5;241m*\u001b[39m (term\u001b[38;5;241m.\u001b[39mas_powers_dict()[eta\u001b[38;5;241m.\u001b[39mconjugate()] \u001b[38;5;241m-\u001b[39m term\u001b[38;5;241m.\u001b[39mas_powers_dict()[eta]) ))\u001b[38;5;241m.\u001b[39msimplify()\n\u001b[1;32m     12\u001b[0m sq4 \u001b[38;5;241m=\u001b[39m normal(tempp) \u001b[38;5;241m*\u001b[39m \u001b[38;5;241m1\u001b[39m\n\u001b[1;32m     13\u001b[0m s4\u001b[38;5;241m=\u001b[39m normal(temp) \u001b[38;5;241m*\u001b[39m \u001b[38;5;241m1\u001b[39m\n",
      "File \u001b[0;32m~/miniconda3/lib/python3.8/site-packages/sympy/core/decorators.py:236\u001b[0m, in \u001b[0;36m_SympifyWrapper.make_wrapped.<locals>._func\u001b[0;34m(self, other)\u001b[0m\n\u001b[1;32m    234\u001b[0m \u001b[38;5;28;01mif\u001b[39;00m \u001b[38;5;129;01mnot\u001b[39;00m \u001b[38;5;28misinstance\u001b[39m(other, expectedcls):\n\u001b[1;32m    235\u001b[0m     \u001b[38;5;28;01mreturn\u001b[39;00m retval\n\u001b[0;32m--> 236\u001b[0m \u001b[38;5;28;01mreturn\u001b[39;00m \u001b[43mfunc\u001b[49m\u001b[43m(\u001b[49m\u001b[38;5;28;43mself\u001b[39;49m\u001b[43m,\u001b[49m\u001b[43m \u001b[49m\u001b[43mother\u001b[49m\u001b[43m)\u001b[49m\n",
      "File \u001b[0;32m~/miniconda3/lib/python3.8/site-packages/sympy/core/decorators.py:106\u001b[0m, in \u001b[0;36mcall_highest_priority.<locals>.priority_decorator.<locals>.binary_op_wrapper\u001b[0;34m(self, other)\u001b[0m\n\u001b[1;32m    104\u001b[0m         \u001b[38;5;28;01mif\u001b[39;00m f \u001b[38;5;129;01mis\u001b[39;00m \u001b[38;5;129;01mnot\u001b[39;00m \u001b[38;5;28;01mNone\u001b[39;00m:\n\u001b[1;32m    105\u001b[0m             \u001b[38;5;28;01mreturn\u001b[39;00m f(\u001b[38;5;28mself\u001b[39m)\n\u001b[0;32m--> 106\u001b[0m \u001b[38;5;28;01mreturn\u001b[39;00m \u001b[43mfunc\u001b[49m\u001b[43m(\u001b[49m\u001b[38;5;28;43mself\u001b[39;49m\u001b[43m,\u001b[49m\u001b[43m \u001b[49m\u001b[43mother\u001b[49m\u001b[43m)\u001b[49m\n",
      "File \u001b[0;32m~/miniconda3/lib/python3.8/site-packages/sympy/core/expr.py:198\u001b[0m, in \u001b[0;36mExpr.__add__\u001b[0;34m(self, other)\u001b[0m\n\u001b[1;32m    195\u001b[0m \u001b[38;5;129m@sympify_return\u001b[39m([(\u001b[38;5;124m'\u001b[39m\u001b[38;5;124mother\u001b[39m\u001b[38;5;124m'\u001b[39m, \u001b[38;5;124m'\u001b[39m\u001b[38;5;124mExpr\u001b[39m\u001b[38;5;124m'\u001b[39m)], \u001b[38;5;28mNotImplemented\u001b[39m)\n\u001b[1;32m    196\u001b[0m \u001b[38;5;129m@call_highest_priority\u001b[39m(\u001b[38;5;124m'\u001b[39m\u001b[38;5;124m__radd__\u001b[39m\u001b[38;5;124m'\u001b[39m)\n\u001b[1;32m    197\u001b[0m \u001b[38;5;28;01mdef\u001b[39;00m \u001b[38;5;21m__add__\u001b[39m(\u001b[38;5;28mself\u001b[39m, other):\n\u001b[0;32m--> 198\u001b[0m     \u001b[38;5;28;01mreturn\u001b[39;00m \u001b[43mAdd\u001b[49m\u001b[43m(\u001b[49m\u001b[38;5;28;43mself\u001b[39;49m\u001b[43m,\u001b[49m\u001b[43m \u001b[49m\u001b[43mother\u001b[49m\u001b[43m)\u001b[49m\n",
      "File \u001b[0;32m~/miniconda3/lib/python3.8/site-packages/sympy/core/cache.py:70\u001b[0m, in \u001b[0;36m__cacheit.<locals>.func_wrapper.<locals>.wrapper\u001b[0;34m(*args, **kwargs)\u001b[0m\n\u001b[1;32m     67\u001b[0m \u001b[38;5;129m@wraps\u001b[39m(func)\n\u001b[1;32m     68\u001b[0m \u001b[38;5;28;01mdef\u001b[39;00m \u001b[38;5;21mwrapper\u001b[39m(\u001b[38;5;241m*\u001b[39margs, \u001b[38;5;241m*\u001b[39m\u001b[38;5;241m*\u001b[39mkwargs):\n\u001b[1;32m     69\u001b[0m     \u001b[38;5;28;01mtry\u001b[39;00m:\n\u001b[0;32m---> 70\u001b[0m         retval \u001b[38;5;241m=\u001b[39m \u001b[43mcfunc\u001b[49m\u001b[43m(\u001b[49m\u001b[38;5;241;43m*\u001b[39;49m\u001b[43margs\u001b[49m\u001b[43m,\u001b[49m\u001b[43m \u001b[49m\u001b[38;5;241;43m*\u001b[39;49m\u001b[38;5;241;43m*\u001b[39;49m\u001b[43mkwargs\u001b[49m\u001b[43m)\u001b[49m\n\u001b[1;32m     71\u001b[0m     \u001b[38;5;28;01mexcept\u001b[39;00m \u001b[38;5;167;01mTypeError\u001b[39;00m \u001b[38;5;28;01mas\u001b[39;00m e:\n\u001b[1;32m     72\u001b[0m         \u001b[38;5;28;01mif\u001b[39;00m \u001b[38;5;129;01mnot\u001b[39;00m e\u001b[38;5;241m.\u001b[39margs \u001b[38;5;129;01mor\u001b[39;00m \u001b[38;5;129;01mnot\u001b[39;00m e\u001b[38;5;241m.\u001b[39margs[\u001b[38;5;241m0\u001b[39m]\u001b[38;5;241m.\u001b[39mstartswith(\u001b[38;5;124m'\u001b[39m\u001b[38;5;124munhashable type:\u001b[39m\u001b[38;5;124m'\u001b[39m):\n",
      "File \u001b[0;32m~/miniconda3/lib/python3.8/site-packages/sympy/core/operations.py:98\u001b[0m, in \u001b[0;36mAssocOp.__new__\u001b[0;34m(cls, evaluate, _sympify, *args)\u001b[0m\n\u001b[1;32m     95\u001b[0m \u001b[38;5;28;01mif\u001b[39;00m \u001b[38;5;28mlen\u001b[39m(args) \u001b[38;5;241m==\u001b[39m \u001b[38;5;241m1\u001b[39m:\n\u001b[1;32m     96\u001b[0m     \u001b[38;5;28;01mreturn\u001b[39;00m args[\u001b[38;5;241m0\u001b[39m]\n\u001b[0;32m---> 98\u001b[0m c_part, nc_part, order_symbols \u001b[38;5;241m=\u001b[39m \u001b[38;5;28;43mcls\u001b[39;49m\u001b[38;5;241;43m.\u001b[39;49m\u001b[43mflatten\u001b[49m\u001b[43m(\u001b[49m\u001b[43margs\u001b[49m\u001b[43m)\u001b[49m\n\u001b[1;32m     99\u001b[0m is_commutative \u001b[38;5;241m=\u001b[39m \u001b[38;5;129;01mnot\u001b[39;00m nc_part\n\u001b[1;32m    100\u001b[0m obj \u001b[38;5;241m=\u001b[39m \u001b[38;5;28mcls\u001b[39m\u001b[38;5;241m.\u001b[39m_from_args(c_part \u001b[38;5;241m+\u001b[39m nc_part, is_commutative)\n",
      "File \u001b[0;32m~/miniconda3/lib/python3.8/site-packages/sympy/core/add.py:331\u001b[0m, in \u001b[0;36mAdd.flatten\u001b[0;34m(cls, seq)\u001b[0m\n\u001b[1;32m    326\u001b[0m \u001b[38;5;66;03m# c*s\u001b[39;00m\n\u001b[1;32m    327\u001b[0m \u001b[38;5;28;01melse\u001b[39;00m:\n\u001b[1;32m    328\u001b[0m     \u001b[38;5;28;01mif\u001b[39;00m s\u001b[38;5;241m.\u001b[39mis_Mul:\n\u001b[1;32m    329\u001b[0m         \u001b[38;5;66;03m# Mul, already keeps its arguments in perfect order.\u001b[39;00m\n\u001b[1;32m    330\u001b[0m         \u001b[38;5;66;03m# so we can simply put c in slot0 and go the fast way.\u001b[39;00m\n\u001b[0;32m--> 331\u001b[0m         cs \u001b[38;5;241m=\u001b[39m \u001b[43ms\u001b[49m\u001b[38;5;241;43m.\u001b[39;49m\u001b[43m_new_rawargs\u001b[49m\u001b[43m(\u001b[49m\u001b[38;5;241;43m*\u001b[39;49m\u001b[43m(\u001b[49m\u001b[43m(\u001b[49m\u001b[43mc\u001b[49m\u001b[43m,\u001b[49m\u001b[43m)\u001b[49m\u001b[43m \u001b[49m\u001b[38;5;241;43m+\u001b[39;49m\u001b[43m \u001b[49m\u001b[43ms\u001b[49m\u001b[38;5;241;43m.\u001b[39;49m\u001b[43margs\u001b[49m\u001b[43m)\u001b[49m\u001b[43m)\u001b[49m\n\u001b[1;32m    332\u001b[0m         newseq\u001b[38;5;241m.\u001b[39mappend(cs)\n\u001b[1;32m    333\u001b[0m     \u001b[38;5;28;01melif\u001b[39;00m s\u001b[38;5;241m.\u001b[39mis_Add:\n\u001b[1;32m    334\u001b[0m         \u001b[38;5;66;03m# we just re-create the unevaluated Mul\u001b[39;00m\n",
      "File \u001b[0;32m~/miniconda3/lib/python3.8/site-packages/sympy/core/operations.py:172\u001b[0m, in \u001b[0;36mAssocOp._new_rawargs\u001b[0;34m(self, reeval, *args, **kwargs)\u001b[0m\n\u001b[1;32m    170\u001b[0m \u001b[38;5;28;01melse\u001b[39;00m:\n\u001b[1;32m    171\u001b[0m     is_commutative \u001b[38;5;241m=\u001b[39m \u001b[38;5;28mself\u001b[39m\u001b[38;5;241m.\u001b[39mis_commutative\n\u001b[0;32m--> 172\u001b[0m \u001b[38;5;28;01mreturn\u001b[39;00m \u001b[38;5;28;43mself\u001b[39;49m\u001b[38;5;241;43m.\u001b[39;49m\u001b[43m_from_args\u001b[49m\u001b[43m(\u001b[49m\u001b[43margs\u001b[49m\u001b[43m,\u001b[49m\u001b[43m \u001b[49m\u001b[43mis_commutative\u001b[49m\u001b[43m)\u001b[49m\n",
      "File \u001b[0;32m~/miniconda3/lib/python3.8/site-packages/sympy/core/operations.py:116\u001b[0m, in \u001b[0;36mAssocOp._from_args\u001b[0;34m(cls, args, is_commutative)\u001b[0m\n\u001b[1;32m    114\u001b[0m \u001b[38;5;28;01mif\u001b[39;00m \u001b[38;5;28mlen\u001b[39m(args) \u001b[38;5;241m==\u001b[39m \u001b[38;5;241m0\u001b[39m:\n\u001b[1;32m    115\u001b[0m     \u001b[38;5;28;01mreturn\u001b[39;00m \u001b[38;5;28mcls\u001b[39m\u001b[38;5;241m.\u001b[39midentity\n\u001b[0;32m--> 116\u001b[0m \u001b[38;5;28;01melif\u001b[39;00m \u001b[38;5;28;43mlen\u001b[39;49m\u001b[43m(\u001b[49m\u001b[43margs\u001b[49m\u001b[43m)\u001b[49m \u001b[38;5;241m==\u001b[39m \u001b[38;5;241m1\u001b[39m:\n\u001b[1;32m    117\u001b[0m     \u001b[38;5;28;01mreturn\u001b[39;00m args[\u001b[38;5;241m0\u001b[39m]\n\u001b[1;32m    119\u001b[0m obj \u001b[38;5;241m=\u001b[39m \u001b[38;5;28msuper\u001b[39m()\u001b[38;5;241m.\u001b[39m\u001b[38;5;21m__new__\u001b[39m(\u001b[38;5;28mcls\u001b[39m, \u001b[38;5;241m*\u001b[39margs)\n",
      "\u001b[0;31mKeyboardInterrupt\u001b[0m: "
     ]
    }
   ],
   "source": [
    "temp = 0\n",
    "tempp = 0\n",
    "for term in (v4-h4).args:\n",
    "    if (term.as_powers_dict()[ad] != term.as_powers_dict()[a] or \n",
    "        term.as_powers_dict()[eta] != term.as_powers_dict()[eta.conjugate()]):\n",
    "        if type((omega_d/2 * (term.as_powers_dict()[ad] - term.as_powers_dict()[a]) + \n",
    "                        omega_d * (term.as_powers_dict()[eta.conjugate()] - term.as_powers_dict()[eta]) )) == Zero:\n",
    "            tempp += term\n",
    "        else:\n",
    "            temp += (term / (omega_d/2 * (term.as_powers_dict()[ad] - term.as_powers_dict()[a]) + \n",
    "                        omega_d * (term.as_powers_dict()[eta.conjugate()] - term.as_powers_dict()[eta]) )).simplify()\n",
    "sq4 = normal(tempp) * 1\n",
    "s4= normal(temp) * 1"
   ]
  },
  {
   "cell_type": "code",
   "execution_count": null,
   "id": "8172b460",
   "metadata": {},
   "outputs": [],
   "source": []
  },
  {
   "cell_type": "code",
   "execution_count": null,
   "id": "48798e9a",
   "metadata": {},
   "outputs": [],
   "source": []
  }
 ],
 "metadata": {
  "kernelspec": {
   "display_name": "Python 3 (ipykernel)",
   "language": "python",
   "name": "python3"
  },
  "language_info": {
   "codemirror_mode": {
    "name": "ipython",
    "version": 3
   },
   "file_extension": ".py",
   "mimetype": "text/x-python",
   "name": "python",
   "nbconvert_exporter": "python",
   "pygments_lexer": "ipython3",
   "version": "3.8.3"
  }
 },
 "nbformat": 4,
 "nbformat_minor": 5
}
