{
 "cells": [
  {
   "cell_type": "code",
   "execution_count": 1,
   "id": "27ca754a-9d30-4a6d-8054-db633309ef22",
   "metadata": {
    "execution": {
     "iopub.execute_input": "2023-09-19T15:50:01.132876Z",
     "iopub.status.busy": "2023-09-19T15:50:01.131893Z",
     "iopub.status.idle": "2023-09-19T15:50:01.482535Z",
     "shell.execute_reply": "2023-09-19T15:50:01.482249Z",
     "shell.execute_reply.started": "2023-09-19T15:50:01.132832Z"
    },
    "tags": []
   },
   "outputs": [],
   "source": [
    "from sympy.physics.secondquant import *\n",
    "from sympy import symbols, I\n",
    "import sympy as sp\n",
    "from no import normal\n",
    "from sympy import exp"
   ]
  },
  {
   "cell_type": "code",
   "execution_count": 2,
   "id": "bee929bb-cb95-42cf-8cfc-b637ef21834a",
   "metadata": {
    "execution": {
     "iopub.execute_input": "2023-09-19T15:50:01.483512Z",
     "iopub.status.busy": "2023-09-19T15:50:01.483361Z",
     "iopub.status.idle": "2023-09-19T15:50:01.485989Z",
     "shell.execute_reply": "2023-09-19T15:50:01.485620Z",
     "shell.execute_reply.started": "2023-09-19T15:50:01.483502Z"
    },
    "tags": []
   },
   "outputs": [],
   "source": [
    "ind_a = symbols('a')\n",
    "ind_b = symbols('b')\n",
    "ind_c = symbols('c')\n",
    "a = B(ind_a)\n",
    "ad = Bd(ind_a)\n",
    "b = B(ind_b)\n",
    "bd = Bd(ind_b)\n",
    "c = B(ind_c)\n",
    "cd = Bd(ind_c)"
   ]
  },
  {
   "cell_type": "code",
   "execution_count": 3,
   "id": "bd55f7a7-b1e1-4a35-94cb-263462a7bec0",
   "metadata": {
    "execution": {
     "iopub.execute_input": "2023-09-19T15:50:01.489846Z",
     "iopub.status.busy": "2023-09-19T15:50:01.489759Z",
     "iopub.status.idle": "2023-09-19T15:50:01.492725Z",
     "shell.execute_reply": "2023-09-19T15:50:01.492398Z",
     "shell.execute_reply.started": "2023-09-19T15:50:01.489838Z"
    },
    "tags": []
   },
   "outputs": [],
   "source": [
    "g4 = symbols('g4', real=True)\n",
    "g3 = symbols('g3', real=True)\n",
    "omega_a = symbols('omega_a', real=True)\n",
    "omega_b = symbols('omega_b', real=True)\n",
    "omega_c = symbols('omega_c', real=True)\n",
    "w_d = symbols('w_d', real=True)\n",
    "\n",
    "phi_a = symbols('phi_a', real=True)\n",
    "phi_b = symbols('phi_b', real=True)\n",
    "t = symbols('t', real=True)\n",
    "eta = symbols('eta', real=False)\n",
    "kappa = symbols('kappa', real=True)"
   ]
  },
  {
   "cell_type": "code",
   "execution_count": 4,
   "id": "f840d5cb-7bee-4f99-ad59-8389deeda7bd",
   "metadata": {
    "execution": {
     "iopub.execute_input": "2023-09-19T15:50:01.493442Z",
     "iopub.status.busy": "2023-09-19T15:50:01.493322Z",
     "iopub.status.idle": "2023-09-19T15:50:01.497280Z",
     "shell.execute_reply": "2023-09-19T15:50:01.496933Z",
     "shell.execute_reply.started": "2023-09-19T15:50:01.493434Z"
    },
    "tags": []
   },
   "outputs": [],
   "source": [
    "def _m_normal(expr):\n",
    "    if not expr.is_Mul:\n",
    "        return expr\n",
    "    else:\n",
    "        c_part = []\n",
    "        string = []\n",
    "        for factor in expr.args:\n",
    "            if factor.is_commutative:\n",
    "                c_part.append(factor)\n",
    "            else:\n",
    "                string.append(factor)\n",
    "                \n",
    "        expr_a = 1\n",
    "        expr_b = 1\n",
    "        expr_c = 1\n",
    "        \n",
    "        for factor in string:\n",
    "            if factor.is_Pow:\n",
    "                if factor.args[0].args[0] == ind_a:\n",
    "                    expr_a *= factor\n",
    "                elif factor.args[0].args[0] == ind_b:\n",
    "                    expr_b *= factor\n",
    "                else:\n",
    "                    expr_c *= factor\n",
    "            else:\n",
    "                if factor.args[0] == ind_a:\n",
    "                    expr_a *= factor\n",
    "                elif factor.args[0] == ind_b:\n",
    "                    expr_b *= factor\n",
    "                else:\n",
    "                    expr_c *= factor\n",
    "                    \n",
    "        if expr_a != 1:\n",
    "            expr_a = normal(expr_a)\n",
    "        if expr_b != 1:\n",
    "            expr_b = normal(expr_b)\n",
    "        if expr_c != 1:\n",
    "            expr_c = normal(expr_c)\n",
    "    \n",
    "        return sp.Mul(*c_part) * expr_a * expr_b * expr_c\n",
    "\n",
    "def m_normal(expr):\n",
    "    expr = expr.expand()\n",
    "    if isinstance(expr, sp.Add):\n",
    "        return sp.Add(*[_m_normal(term) for term in expr.args])\n",
    "    else:\n",
    "        return _m_normal(expr)"
   ]
  },
  {
   "cell_type": "code",
   "execution_count": 5,
   "id": "86e082c8-2981-467e-abfc-fc96b02e9e6c",
   "metadata": {
    "execution": {
     "iopub.execute_input": "2023-09-19T15:50:03.615818Z",
     "iopub.status.busy": "2023-09-19T15:50:03.614886Z",
     "iopub.status.idle": "2023-09-19T15:50:03.631160Z",
     "shell.execute_reply": "2023-09-19T15:50:03.630158Z",
     "shell.execute_reply.started": "2023-09-19T15:50:03.615780Z"
    },
    "tags": []
   },
   "outputs": [],
   "source": [
    "h0 = omega_a * ad * a + omega_b * bd * b + omega_c * cd * c"
   ]
  },
  {
   "cell_type": "code",
   "execution_count": 6,
   "id": "4059cbd5-4e57-4034-8de7-4b48e55b4b7e",
   "metadata": {
    "execution": {
     "iopub.execute_input": "2023-09-19T15:50:04.008564Z",
     "iopub.status.busy": "2023-09-19T15:50:04.007872Z",
     "iopub.status.idle": "2023-09-19T15:50:05.345124Z",
     "shell.execute_reply": "2023-09-19T15:50:05.344831Z",
     "shell.execute_reply.started": "2023-09-19T15:50:04.008525Z"
    },
    "tags": []
   },
   "outputs": [],
   "source": [
    "v = m_normal(g4 * ( phi_a*(a + ad) + phi_b*(b + bd) + c+cd + eta*exp(-I*w_d*t) + eta.conjugate()*exp(I*w_d*t))**4  + \n",
    "             g3 * ( phi_a*(a + ad) + phi_b*(b + bd) + c+cd + eta*exp(-I*w_d*t) + eta.conjugate()*exp(I*w_d*t))**3)"
   ]
  },
  {
   "cell_type": "code",
   "execution_count": 7,
   "id": "bc3961ee-5f2b-42e6-9eaa-cae5e1ddf08a",
   "metadata": {
    "execution": {
     "iopub.execute_input": "2023-09-19T15:50:05.345941Z",
     "iopub.status.busy": "2023-09-19T15:50:05.345831Z",
     "iopub.status.idle": "2023-09-19T15:50:05.667938Z",
     "shell.execute_reply": "2023-09-19T15:50:05.667577Z",
     "shell.execute_reply.started": "2023-09-19T15:50:05.345930Z"
    },
    "tags": []
   },
   "outputs": [],
   "source": [
    "v = v.expand()"
   ]
  },
  {
   "cell_type": "markdown",
   "id": "6d99629b-96b8-4139-bb1e-2af74528d302",
   "metadata": {},
   "source": [
    "### obtain $\\hat{H}_1$"
   ]
  },
  {
   "cell_type": "code",
   "execution_count": 8,
   "id": "1868fc98-9273-429a-a29d-fb50ee3c5f61",
   "metadata": {
    "execution": {
     "iopub.execute_input": "2023-09-19T15:50:06.416663Z",
     "iopub.status.busy": "2023-09-19T15:50:06.408957Z",
     "iopub.status.idle": "2023-09-19T15:50:06.422129Z",
     "shell.execute_reply": "2023-09-19T15:50:06.421653Z",
     "shell.execute_reply.started": "2023-09-19T15:50:06.416607Z"
    },
    "tags": []
   },
   "outputs": [],
   "source": [
    "v1 = v * 1"
   ]
  },
  {
   "cell_type": "code",
   "execution_count": 9,
   "id": "8e484b4f-c180-4f7d-86b4-82445d4ef982",
   "metadata": {
    "execution": {
     "iopub.execute_input": "2023-09-19T15:50:08.900899Z",
     "iopub.status.busy": "2023-09-19T15:50:08.900515Z",
     "iopub.status.idle": "2023-09-19T15:50:08.965555Z",
     "shell.execute_reply": "2023-09-19T15:50:08.965217Z",
     "shell.execute_reply.started": "2023-09-19T15:50:08.900874Z"
    },
    "tags": []
   },
   "outputs": [],
   "source": [
    "temp = 0\n",
    "for term in v1.args:\n",
    "    if term.as_powers_dict()[ad] == term.as_powers_dict()[a] and term.as_powers_dict()[bd] == term.as_powers_dict()[b] and term.as_powers_dict()[cd] == term.as_powers_dict()[c]:\n",
    "        temp += term\n",
    "h1 = temp * 1"
   ]
  },
  {
   "cell_type": "code",
   "execution_count": 10,
   "id": "e2221933-1754-46e0-a0be-88ebccc92a60",
   "metadata": {
    "execution": {
     "iopub.execute_input": "2023-09-19T15:50:09.590985Z",
     "iopub.status.busy": "2023-09-19T15:50:09.590600Z",
     "iopub.status.idle": "2023-09-19T15:50:09.628257Z",
     "shell.execute_reply": "2023-09-19T15:50:09.627934Z",
     "shell.execute_reply.started": "2023-09-19T15:50:09.590961Z"
    },
    "tags": []
   },
   "outputs": [
    {
     "data": {
      "text/latex": [
       "$\\displaystyle \\eta^{4} g_{4} e^{- 4 i t w_{d}} + \\eta^{3} g_{3} e^{- 3 i t w_{d}} + 4 \\eta^{3} g_{4} e^{- 2 i t w_{d}} \\overline{\\eta} + 3 \\eta^{2} g_{3} e^{- i t w_{d}} \\overline{\\eta} + 6 \\eta^{2} g_{4} \\phi_{a}^{2} e^{- 2 i t w_{d}} + 12 \\eta^{2} g_{4} \\phi_{a}^{2} e^{- 2 i t w_{d}} {b^\\dagger_{a}} b_{a} + 6 \\eta^{2} g_{4} \\phi_{b}^{2} e^{- 2 i t w_{d}} + 12 \\eta^{2} g_{4} \\phi_{b}^{2} e^{- 2 i t w_{d}} {b^\\dagger_{b}} b_{b} + 6 \\eta^{2} g_{4} \\overline{\\eta}^{2} + 6 \\eta^{2} g_{4} e^{- 2 i t w_{d}} + 12 \\eta^{2} g_{4} e^{- 2 i t w_{d}} {b^\\dagger_{c}} b_{c} + 3 \\eta g_{3} \\phi_{a}^{2} e^{- i t w_{d}} + 6 \\eta g_{3} \\phi_{a}^{2} e^{- i t w_{d}} {b^\\dagger_{a}} b_{a} + 3 \\eta g_{3} \\phi_{b}^{2} e^{- i t w_{d}} + 6 \\eta g_{3} \\phi_{b}^{2} e^{- i t w_{d}} {b^\\dagger_{b}} b_{b} + 3 \\eta g_{3} e^{i t w_{d}} \\overline{\\eta}^{2} + 3 \\eta g_{3} e^{- i t w_{d}} + 6 \\eta g_{3} e^{- i t w_{d}} {b^\\dagger_{c}} b_{c} + 12 \\eta g_{4} \\phi_{a}^{2} \\overline{\\eta} + 24 \\eta g_{4} \\phi_{a}^{2} \\overline{\\eta} {b^\\dagger_{a}} b_{a} + 12 \\eta g_{4} \\phi_{b}^{2} \\overline{\\eta} + 24 \\eta g_{4} \\phi_{b}^{2} \\overline{\\eta} {b^\\dagger_{b}} b_{b} + 4 \\eta g_{4} e^{2 i t w_{d}} \\overline{\\eta}^{3} + 12 \\eta g_{4} \\overline{\\eta} + 24 \\eta g_{4} \\overline{\\eta} {b^\\dagger_{c}} b_{c} + 3 g_{3} \\phi_{a}^{2} e^{i t w_{d}} \\overline{\\eta} + 6 g_{3} \\phi_{a}^{2} e^{i t w_{d}} \\overline{\\eta} {b^\\dagger_{a}} b_{a} + 3 g_{3} \\phi_{b}^{2} e^{i t w_{d}} \\overline{\\eta} + 6 g_{3} \\phi_{b}^{2} e^{i t w_{d}} \\overline{\\eta} {b^\\dagger_{b}} b_{b} + g_{3} e^{3 i t w_{d}} \\overline{\\eta}^{3} + 3 g_{3} e^{i t w_{d}} \\overline{\\eta} + 6 g_{3} e^{i t w_{d}} \\overline{\\eta} {b^\\dagger_{c}} b_{c} + 3 g_{4} \\phi_{a}^{4} + 12 g_{4} \\phi_{a}^{4} {b^\\dagger_{a}} b_{a} + 6 g_{4} \\phi_{a}^{4} {b^\\dagger_{a}}^{2} b_{a}^{2} + 6 g_{4} \\phi_{a}^{2} \\phi_{b}^{2} + 12 g_{4} \\phi_{a}^{2} \\phi_{b}^{2} {b^\\dagger_{a}} b_{a} + 24 g_{4} \\phi_{a}^{2} \\phi_{b}^{2} {b^\\dagger_{a}} b_{a} {b^\\dagger_{b}} b_{b} + 12 g_{4} \\phi_{a}^{2} \\phi_{b}^{2} {b^\\dagger_{b}} b_{b} + 6 g_{4} \\phi_{a}^{2} e^{2 i t w_{d}} \\overline{\\eta}^{2} + 12 g_{4} \\phi_{a}^{2} e^{2 i t w_{d}} \\overline{\\eta}^{2} {b^\\dagger_{a}} b_{a} + 6 g_{4} \\phi_{a}^{2} + 12 g_{4} \\phi_{a}^{2} {b^\\dagger_{a}} b_{a} + 24 g_{4} \\phi_{a}^{2} {b^\\dagger_{a}} b_{a} {b^\\dagger_{c}} b_{c} + 12 g_{4} \\phi_{a}^{2} {b^\\dagger_{c}} b_{c} + 3 g_{4} \\phi_{b}^{4} + 12 g_{4} \\phi_{b}^{4} {b^\\dagger_{b}} b_{b} + 6 g_{4} \\phi_{b}^{4} {b^\\dagger_{b}}^{2} b_{b}^{2} + 6 g_{4} \\phi_{b}^{2} e^{2 i t w_{d}} \\overline{\\eta}^{2} + 12 g_{4} \\phi_{b}^{2} e^{2 i t w_{d}} \\overline{\\eta}^{2} {b^\\dagger_{b}} b_{b} + 6 g_{4} \\phi_{b}^{2} + 12 g_{4} \\phi_{b}^{2} {b^\\dagger_{b}} b_{b} + 24 g_{4} \\phi_{b}^{2} {b^\\dagger_{b}} b_{b} {b^\\dagger_{c}} b_{c} + 12 g_{4} \\phi_{b}^{2} {b^\\dagger_{c}} b_{c} + g_{4} e^{4 i t w_{d}} \\overline{\\eta}^{4} + 6 g_{4} e^{2 i t w_{d}} \\overline{\\eta}^{2} + 12 g_{4} e^{2 i t w_{d}} \\overline{\\eta}^{2} {b^\\dagger_{c}} b_{c} + 3 g_{4} + 12 g_{4} {b^\\dagger_{c}} b_{c} + 6 g_{4} {b^\\dagger_{c}}^{2} b_{c}^{2}$"
      ],
      "text/plain": [
       "eta**4*g4*exp(-4*I*t*w_d) + eta**3*g3*exp(-3*I*t*w_d) + 4*eta**3*g4*exp(-2*I*t*w_d)*conjugate(eta) + 3*eta**2*g3*exp(-I*t*w_d)*conjugate(eta) + 6*eta**2*g4*phi_a**2*exp(-2*I*t*w_d) + 12*eta**2*g4*phi_a**2*exp(-2*I*t*w_d)*CreateBoson(a)*AnnihilateBoson(a) + 6*eta**2*g4*phi_b**2*exp(-2*I*t*w_d) + 12*eta**2*g4*phi_b**2*exp(-2*I*t*w_d)*CreateBoson(b)*AnnihilateBoson(b) + 6*eta**2*g4*conjugate(eta)**2 + 6*eta**2*g4*exp(-2*I*t*w_d) + 12*eta**2*g4*exp(-2*I*t*w_d)*CreateBoson(c)*AnnihilateBoson(c) + 3*eta*g3*phi_a**2*exp(-I*t*w_d) + 6*eta*g3*phi_a**2*exp(-I*t*w_d)*CreateBoson(a)*AnnihilateBoson(a) + 3*eta*g3*phi_b**2*exp(-I*t*w_d) + 6*eta*g3*phi_b**2*exp(-I*t*w_d)*CreateBoson(b)*AnnihilateBoson(b) + 3*eta*g3*exp(I*t*w_d)*conjugate(eta)**2 + 3*eta*g3*exp(-I*t*w_d) + 6*eta*g3*exp(-I*t*w_d)*CreateBoson(c)*AnnihilateBoson(c) + 12*eta*g4*phi_a**2*conjugate(eta) + 24*eta*g4*phi_a**2*conjugate(eta)*CreateBoson(a)*AnnihilateBoson(a) + 12*eta*g4*phi_b**2*conjugate(eta) + 24*eta*g4*phi_b**2*conjugate(eta)*CreateBoson(b)*AnnihilateBoson(b) + 4*eta*g4*exp(2*I*t*w_d)*conjugate(eta)**3 + 12*eta*g4*conjugate(eta) + 24*eta*g4*conjugate(eta)*CreateBoson(c)*AnnihilateBoson(c) + 3*g3*phi_a**2*exp(I*t*w_d)*conjugate(eta) + 6*g3*phi_a**2*exp(I*t*w_d)*conjugate(eta)*CreateBoson(a)*AnnihilateBoson(a) + 3*g3*phi_b**2*exp(I*t*w_d)*conjugate(eta) + 6*g3*phi_b**2*exp(I*t*w_d)*conjugate(eta)*CreateBoson(b)*AnnihilateBoson(b) + g3*exp(3*I*t*w_d)*conjugate(eta)**3 + 3*g3*exp(I*t*w_d)*conjugate(eta) + 6*g3*exp(I*t*w_d)*conjugate(eta)*CreateBoson(c)*AnnihilateBoson(c) + 3*g4*phi_a**4 + 12*g4*phi_a**4*CreateBoson(a)*AnnihilateBoson(a) + 6*g4*phi_a**4*CreateBoson(a)**2*AnnihilateBoson(a)**2 + 6*g4*phi_a**2*phi_b**2 + 12*g4*phi_a**2*phi_b**2*CreateBoson(a)*AnnihilateBoson(a) + 24*g4*phi_a**2*phi_b**2*CreateBoson(a)*AnnihilateBoson(a)*CreateBoson(b)*AnnihilateBoson(b) + 12*g4*phi_a**2*phi_b**2*CreateBoson(b)*AnnihilateBoson(b) + 6*g4*phi_a**2*exp(2*I*t*w_d)*conjugate(eta)**2 + 12*g4*phi_a**2*exp(2*I*t*w_d)*conjugate(eta)**2*CreateBoson(a)*AnnihilateBoson(a) + 6*g4*phi_a**2 + 12*g4*phi_a**2*CreateBoson(a)*AnnihilateBoson(a) + 24*g4*phi_a**2*CreateBoson(a)*AnnihilateBoson(a)*CreateBoson(c)*AnnihilateBoson(c) + 12*g4*phi_a**2*CreateBoson(c)*AnnihilateBoson(c) + 3*g4*phi_b**4 + 12*g4*phi_b**4*CreateBoson(b)*AnnihilateBoson(b) + 6*g4*phi_b**4*CreateBoson(b)**2*AnnihilateBoson(b)**2 + 6*g4*phi_b**2*exp(2*I*t*w_d)*conjugate(eta)**2 + 12*g4*phi_b**2*exp(2*I*t*w_d)*conjugate(eta)**2*CreateBoson(b)*AnnihilateBoson(b) + 6*g4*phi_b**2 + 12*g4*phi_b**2*CreateBoson(b)*AnnihilateBoson(b) + 24*g4*phi_b**2*CreateBoson(b)*AnnihilateBoson(b)*CreateBoson(c)*AnnihilateBoson(c) + 12*g4*phi_b**2*CreateBoson(c)*AnnihilateBoson(c) + g4*exp(4*I*t*w_d)*conjugate(eta)**4 + 6*g4*exp(2*I*t*w_d)*conjugate(eta)**2 + 12*g4*exp(2*I*t*w_d)*conjugate(eta)**2*CreateBoson(c)*AnnihilateBoson(c) + 3*g4 + 12*g4*CreateBoson(c)*AnnihilateBoson(c) + 6*g4*CreateBoson(c)**2*AnnihilateBoson(c)**2"
      ]
     },
     "execution_count": 10,
     "metadata": {},
     "output_type": "execute_result"
    }
   ],
   "source": [
    "h1"
   ]
  },
  {
   "cell_type": "code",
   "execution_count": 11,
   "id": "4cab389b-ba66-43bf-b7d5-0201ac095b67",
   "metadata": {
    "execution": {
     "iopub.execute_input": "2023-09-19T15:50:15.861004Z",
     "iopub.status.busy": "2023-09-19T15:50:15.860539Z",
     "iopub.status.idle": "2023-09-19T15:50:15.884090Z",
     "shell.execute_reply": "2023-09-19T15:50:15.883741Z",
     "shell.execute_reply.started": "2023-09-19T15:50:15.860975Z"
    },
    "tags": []
   },
   "outputs": [],
   "source": [
    "temp = 0\n",
    "for term in h1.args:\n",
    "    if term.as_powers_dict()[eta] == term.as_powers_dict()[eta.conjugate()]:\n",
    "        temp += term\n",
    "h1_ti = temp * 1"
   ]
  },
  {
   "cell_type": "code",
   "execution_count": 69,
   "id": "143fca87-8842-426f-b519-1458ac8972f6",
   "metadata": {
    "execution": {
     "iopub.execute_input": "2023-09-20T00:09:04.299168Z",
     "iopub.status.busy": "2023-09-20T00:09:04.298740Z",
     "iopub.status.idle": "2023-09-20T00:09:04.326977Z",
     "shell.execute_reply": "2023-09-20T00:09:04.326641Z",
     "shell.execute_reply.started": "2023-09-20T00:09:04.299139Z"
    },
    "tags": []
   },
   "outputs": [
    {
     "data": {
      "text/latex": [
       "$\\displaystyle 6 \\eta^{2} g_{4} \\overline{\\eta}^{2} + 12 \\eta g_{4} \\phi_{a}^{2} \\overline{\\eta} + 24 \\eta g_{4} \\phi_{a}^{2} \\overline{\\eta} {b^\\dagger_{a}} b_{a} + 12 \\eta g_{4} \\phi_{b}^{2} \\overline{\\eta} + 24 \\eta g_{4} \\phi_{b}^{2} \\overline{\\eta} {b^\\dagger_{b}} b_{b} + 12 \\eta g_{4} \\overline{\\eta} + 24 \\eta g_{4} \\overline{\\eta} {b^\\dagger_{c}} b_{c} + 3 g_{4} \\phi_{a}^{4} + 12 g_{4} \\phi_{a}^{4} {b^\\dagger_{a}} b_{a} + 6 g_{4} \\phi_{a}^{4} {b^\\dagger_{a}}^{2} b_{a}^{2} + 6 g_{4} \\phi_{a}^{2} \\phi_{b}^{2} + 12 g_{4} \\phi_{a}^{2} \\phi_{b}^{2} {b^\\dagger_{a}} b_{a} + 24 g_{4} \\phi_{a}^{2} \\phi_{b}^{2} {b^\\dagger_{a}} b_{a} {b^\\dagger_{b}} b_{b} + 12 g_{4} \\phi_{a}^{2} \\phi_{b}^{2} {b^\\dagger_{b}} b_{b} + 6 g_{4} \\phi_{a}^{2} + 12 g_{4} \\phi_{a}^{2} {b^\\dagger_{a}} b_{a} + 24 g_{4} \\phi_{a}^{2} {b^\\dagger_{a}} b_{a} {b^\\dagger_{c}} b_{c} + 12 g_{4} \\phi_{a}^{2} {b^\\dagger_{c}} b_{c} + 3 g_{4} \\phi_{b}^{4} + 12 g_{4} \\phi_{b}^{4} {b^\\dagger_{b}} b_{b} + 6 g_{4} \\phi_{b}^{4} {b^\\dagger_{b}}^{2} b_{b}^{2} + 6 g_{4} \\phi_{b}^{2} + 12 g_{4} \\phi_{b}^{2} {b^\\dagger_{b}} b_{b} + 24 g_{4} \\phi_{b}^{2} {b^\\dagger_{b}} b_{b} {b^\\dagger_{c}} b_{c} + 12 g_{4} \\phi_{b}^{2} {b^\\dagger_{c}} b_{c} + 3 g_{4} + 12 g_{4} {b^\\dagger_{c}} b_{c} + 6 g_{4} {b^\\dagger_{c}}^{2} b_{c}^{2}$"
      ],
      "text/plain": [
       "6*eta**2*g4*conjugate(eta)**2 + 12*eta*g4*phi_a**2*conjugate(eta) + 24*eta*g4*phi_a**2*conjugate(eta)*CreateBoson(a)*AnnihilateBoson(a) + 12*eta*g4*phi_b**2*conjugate(eta) + 24*eta*g4*phi_b**2*conjugate(eta)*CreateBoson(b)*AnnihilateBoson(b) + 12*eta*g4*conjugate(eta) + 24*eta*g4*conjugate(eta)*CreateBoson(c)*AnnihilateBoson(c) + 3*g4*phi_a**4 + 12*g4*phi_a**4*CreateBoson(a)*AnnihilateBoson(a) + 6*g4*phi_a**4*CreateBoson(a)**2*AnnihilateBoson(a)**2 + 6*g4*phi_a**2*phi_b**2 + 12*g4*phi_a**2*phi_b**2*CreateBoson(a)*AnnihilateBoson(a) + 24*g4*phi_a**2*phi_b**2*CreateBoson(a)*AnnihilateBoson(a)*CreateBoson(b)*AnnihilateBoson(b) + 12*g4*phi_a**2*phi_b**2*CreateBoson(b)*AnnihilateBoson(b) + 6*g4*phi_a**2 + 12*g4*phi_a**2*CreateBoson(a)*AnnihilateBoson(a) + 24*g4*phi_a**2*CreateBoson(a)*AnnihilateBoson(a)*CreateBoson(c)*AnnihilateBoson(c) + 12*g4*phi_a**2*CreateBoson(c)*AnnihilateBoson(c) + 3*g4*phi_b**4 + 12*g4*phi_b**4*CreateBoson(b)*AnnihilateBoson(b) + 6*g4*phi_b**4*CreateBoson(b)**2*AnnihilateBoson(b)**2 + 6*g4*phi_b**2 + 12*g4*phi_b**2*CreateBoson(b)*AnnihilateBoson(b) + 24*g4*phi_b**2*CreateBoson(b)*AnnihilateBoson(b)*CreateBoson(c)*AnnihilateBoson(c) + 12*g4*phi_b**2*CreateBoson(c)*AnnihilateBoson(c) + 3*g4 + 12*g4*CreateBoson(c)*AnnihilateBoson(c) + 6*g4*CreateBoson(c)**2*AnnihilateBoson(c)**2"
      ]
     },
     "execution_count": 69,
     "metadata": {},
     "output_type": "execute_result"
    }
   ],
   "source": [
    "h1_ti"
   ]
  },
  {
   "cell_type": "code",
   "execution_count": 70,
   "id": "f911053e-e0fd-4ab8-a5f2-f83bf5d771f7",
   "metadata": {
    "execution": {
     "iopub.execute_input": "2023-09-20T00:10:15.457241Z",
     "iopub.status.busy": "2023-09-20T00:10:15.456552Z",
     "iopub.status.idle": "2023-09-20T00:10:15.484485Z",
     "shell.execute_reply": "2023-09-20T00:10:15.483975Z",
     "shell.execute_reply.started": "2023-09-20T00:10:15.457194Z"
    }
   },
   "outputs": [
    {
     "data": {
      "text/latex": [
       "$\\displaystyle 6 g_{4} \\phi_{a}^{4}$"
      ],
      "text/plain": [
       "6*g4*phi_a**4"
      ]
     },
     "execution_count": 70,
     "metadata": {},
     "output_type": "execute_result"
    }
   ],
   "source": [
    "h1_ti.coeff(ad**2*a**2)"
   ]
  },
  {
   "cell_type": "markdown",
   "id": "b9b1ca1b-47cc-4692-a118-305b06a20ba6",
   "metadata": {},
   "source": [
    "### obtain up to $\\hat{H}_2$"
   ]
  },
  {
   "cell_type": "code",
   "execution_count": 13,
   "id": "d6af1876-eee8-4634-af64-2741d34404ea",
   "metadata": {
    "execution": {
     "iopub.execute_input": "2023-09-19T15:50:19.993288Z",
     "iopub.status.busy": "2023-09-19T15:50:19.992856Z",
     "iopub.status.idle": "2023-09-19T15:50:23.231023Z",
     "shell.execute_reply": "2023-09-19T15:50:23.230591Z",
     "shell.execute_reply.started": "2023-09-19T15:50:19.993260Z"
    },
    "tags": []
   },
   "outputs": [],
   "source": [
    "temp = 0\n",
    "for term in (v1-h1).args:\n",
    "    if (term.as_powers_dict()[ad] != term.as_powers_dict()[a] or \n",
    "        term.as_powers_dict()[bd] != term.as_powers_dict()[b] or \n",
    "        term.as_powers_dict()[cd] != term.as_powers_dict()[c] or \n",
    "        term.as_powers_dict()[eta] != term.as_powers_dict()[eta.conjugate()]):\n",
    "        \n",
    "        temp += term / (omega_a * (term.as_powers_dict()[ad] - term.as_powers_dict()[a]) +\n",
    "                        omega_b * (term.as_powers_dict()[bd] - term.as_powers_dict()[b]) +\n",
    "                        omega_c * (term.as_powers_dict()[cd] - term.as_powers_dict()[c]) +\n",
    "                        w_d * (term.as_powers_dict()[eta.conjugate()] - term.as_powers_dict()[eta]))\n",
    "s1= m_normal(temp)"
   ]
  },
  {
   "cell_type": "code",
   "execution_count": 14,
   "id": "db049298-86f3-4db4-a574-8c6864c4d9be",
   "metadata": {
    "execution": {
     "iopub.execute_input": "2023-09-19T15:50:25.421624Z",
     "iopub.status.busy": "2023-09-19T15:50:25.420703Z",
     "iopub.status.idle": "2023-09-19T15:50:26.496489Z",
     "shell.execute_reply": "2023-09-19T15:50:26.496124Z",
     "shell.execute_reply.started": "2023-09-19T15:50:25.421566Z"
    },
    "tags": []
   },
   "outputs": [],
   "source": [
    "s_tot_1 = s1 * kappa\n",
    "sd_tot_1 = sp.diff(s_tot_1, t)"
   ]
  },
  {
   "cell_type": "code",
   "execution_count": 15,
   "id": "c53202b8-dafb-4b3e-a582-fc9de68300c9",
   "metadata": {
    "execution": {
     "iopub.execute_input": "2023-09-19T15:51:07.938013Z",
     "iopub.status.busy": "2023-09-19T15:51:07.937575Z",
     "iopub.status.idle": "2023-09-19T17:06:18.128690Z",
     "shell.execute_reply": "2023-09-19T17:06:18.128321Z",
     "shell.execute_reply.started": "2023-09-19T15:51:07.937984Z"
    },
    "tags": []
   },
   "outputs": [
    {
     "name": "stdout",
     "output_type": "stream",
     "text": [
      "x\n",
      "x\n",
      "x\n"
     ]
    }
   ],
   "source": [
    "# time-independent part \n",
    "h_tot = h0 + kappa*v \n",
    "h_eff_2_ti = 0\n",
    "\n",
    "temp_2 = m_normal(Commutator(s_tot_1, kappa*v).doit() )\n",
    "print('x')\n",
    "temp_1 = m_normal(Commutator(s_tot_1, h0).doit() )\n",
    "print('x')\n",
    "h_eff_2_ti += temp_2\n",
    "\n",
    "temp_2 = m_normal(Commutator(s_tot_1, temp_1).doit())\n",
    "print('x')\n",
    "h_eff_2_ti += sp.Rational(1,2) * temp_2"
   ]
  },
  {
   "cell_type": "code",
   "execution_count": 16,
   "id": "25990443-3a0d-4cae-8718-782de690fbb3",
   "metadata": {
    "execution": {
     "iopub.execute_input": "2023-09-19T17:06:18.129559Z",
     "iopub.status.busy": "2023-09-19T17:06:18.129459Z",
     "iopub.status.idle": "2023-09-19T17:58:41.751109Z",
     "shell.execute_reply": "2023-09-19T17:58:41.750800Z",
     "shell.execute_reply.started": "2023-09-19T17:06:18.129550Z"
    },
    "tags": []
   },
   "outputs": [
    {
     "name": "stdout",
     "output_type": "stream",
     "text": [
      "x\n"
     ]
    }
   ],
   "source": [
    "# time-dependent part \n",
    "h_eff_2_td = 0\n",
    "\n",
    "temp_2 = m_normal(Commutator(s_tot_1, sd_tot_1).doit() )\n",
    "print('x')\n",
    "h_eff_2_td += sp.Rational(1,2) * temp_2\n",
    "\n",
    "h_eff_2_td = I * h_eff_2_td"
   ]
  },
  {
   "cell_type": "code",
   "execution_count": 17,
   "id": "16315ec4-51cf-4a44-a881-31f8911ef7f4",
   "metadata": {
    "execution": {
     "iopub.execute_input": "2023-09-19T19:37:10.919565Z",
     "iopub.status.busy": "2023-09-19T19:37:10.918819Z",
     "iopub.status.idle": "2023-09-19T19:37:15.160725Z",
     "shell.execute_reply": "2023-09-19T19:37:15.160241Z",
     "shell.execute_reply.started": "2023-09-19T19:37:10.919476Z"
    },
    "tags": []
   },
   "outputs": [],
   "source": [
    "h_eff_2 = h_eff_2_ti + h_eff_2_td"
   ]
  },
  {
   "cell_type": "code",
   "execution_count": 18,
   "id": "d5440524-89f9-4a92-b619-2473c4e27f6b",
   "metadata": {
    "execution": {
     "iopub.execute_input": "2023-09-19T19:37:17.293228Z",
     "iopub.status.busy": "2023-09-19T19:37:17.292289Z",
     "iopub.status.idle": "2023-09-19T20:20:36.999492Z",
     "shell.execute_reply": "2023-09-19T20:20:36.998755Z",
     "shell.execute_reply.started": "2023-09-19T19:37:17.293172Z"
    },
    "tags": []
   },
   "outputs": [],
   "source": [
    "new = h_eff_2.expand()"
   ]
  },
  {
   "cell_type": "code",
   "execution_count": 20,
   "id": "f07ff33e-9eab-4157-a0cc-5236a4091686",
   "metadata": {
    "execution": {
     "iopub.execute_input": "2023-09-19T20:32:15.065827Z",
     "iopub.status.busy": "2023-09-19T20:32:15.065209Z",
     "iopub.status.idle": "2023-09-19T20:33:14.794814Z",
     "shell.execute_reply": "2023-09-19T20:33:14.794344Z",
     "shell.execute_reply.started": "2023-09-19T20:32:15.065784Z"
    },
    "tags": []
   },
   "outputs": [],
   "source": [
    "v2 = new.coeff(kappa,2)"
   ]
  },
  {
   "cell_type": "code",
   "execution_count": 22,
   "id": "fae0223d-e61b-463b-80c8-dfd47114936c",
   "metadata": {
    "execution": {
     "iopub.execute_input": "2023-09-19T20:33:58.062982Z",
     "iopub.status.busy": "2023-09-19T20:33:58.062439Z",
     "iopub.status.idle": "2023-09-19T20:40:29.852276Z",
     "shell.execute_reply": "2023-09-19T20:40:29.851965Z",
     "shell.execute_reply.started": "2023-09-19T20:33:58.062946Z"
    },
    "tags": []
   },
   "outputs": [],
   "source": [
    "temp = 0\n",
    "for term in v2.args:\n",
    "    if term.as_powers_dict()[eta] == term.as_powers_dict()[eta.conjugate()] and term.as_powers_dict()[ad] == term.as_powers_dict()[a] and term.as_powers_dict()[bd] == term.as_powers_dict()[b] and term.as_powers_dict()[cd] == term.as_powers_dict()[c]:\n",
    "        temp += term\n",
    "h2_ti = temp * 1"
   ]
  },
  {
   "cell_type": "code",
   "execution_count": 36,
   "id": "cecbd674-2fb7-4154-a81e-09bf73c836f6",
   "metadata": {
    "execution": {
     "iopub.execute_input": "2023-09-19T20:59:47.471417Z",
     "iopub.status.busy": "2023-09-19T20:59:47.470762Z",
     "iopub.status.idle": "2023-09-19T21:07:03.329952Z",
     "shell.execute_reply": "2023-09-19T21:07:03.329656Z",
     "shell.execute_reply.started": "2023-09-19T20:59:47.471369Z"
    },
    "tags": []
   },
   "outputs": [],
   "source": [
    "new = 0\n",
    "for term in h2_ti.expand().args:\n",
    "    new += sp.simplify(term)"
   ]
  },
  {
   "cell_type": "markdown",
   "id": "e201e1f0-d0c3-4397-aa43-142d4071079f",
   "metadata": {},
   "source": [
    "### one operator only"
   ]
  },
  {
   "cell_type": "code",
   "execution_count": 121,
   "id": "aaf57533-8f94-4969-ab96-d5a53289d7fc",
   "metadata": {
    "execution": {
     "iopub.execute_input": "2023-09-20T03:56:30.109502Z",
     "iopub.status.busy": "2023-09-20T03:56:30.108829Z",
     "iopub.status.idle": "2023-09-20T03:57:07.502743Z",
     "shell.execute_reply": "2023-09-20T03:57:07.502433Z",
     "shell.execute_reply.started": "2023-09-20T03:56:30.109455Z"
    },
    "tags": []
   },
   "outputs": [],
   "source": [
    "ham_a = 0\n",
    "for term in new.args:\n",
    "    if term.coeff(bd,0)!=0 and term.coeff(b,0)!=0 and term.coeff(cd,0)!=0 and term.coeff(c,0) != 0:\n",
    "        ham_a += term"
   ]
  },
  {
   "cell_type": "code",
   "execution_count": 126,
   "id": "38c8df9b-721b-4ede-b5ac-a8713f6de58d",
   "metadata": {
    "execution": {
     "iopub.execute_input": "2023-09-20T03:57:45.046989Z",
     "iopub.status.busy": "2023-09-20T03:57:45.046317Z",
     "iopub.status.idle": "2023-09-20T03:58:27.403487Z",
     "shell.execute_reply": "2023-09-20T03:58:27.403140Z",
     "shell.execute_reply.started": "2023-09-20T03:57:45.046943Z"
    }
   },
   "outputs": [],
   "source": [
    "ham_b = 0\n",
    "for term in new.args:\n",
    "    if term.coeff(ad,0)!=0 and term.coeff(a,0)!=0 and term.coeff(cd,0)!=0 and term.coeff(c,0) != 0:\n",
    "        ham_b += term"
   ]
  },
  {
   "cell_type": "markdown",
   "id": "19e3d0bf-99c1-4f11-b600-5b559050ead0",
   "metadata": {},
   "source": [
    "### static Kerr"
   ]
  },
  {
   "cell_type": "code",
   "execution_count": 155,
   "id": "2e24585e-5e39-4aa3-8d6f-1a9ffc40266d",
   "metadata": {
    "execution": {
     "iopub.execute_input": "2023-09-20T04:42:08.629319Z",
     "iopub.status.busy": "2023-09-20T04:42:08.628462Z",
     "iopub.status.idle": "2023-09-20T04:42:08.750278Z",
     "shell.execute_reply": "2023-09-20T04:42:08.749966Z",
     "shell.execute_reply.started": "2023-09-20T04:42:08.629267Z"
    },
    "tags": []
   },
   "outputs": [
    {
     "data": {
      "text/latex": [
       "$\\displaystyle \\frac{18 g_{3}^{2} \\omega_{a} \\phi_{a}^{4} {b^\\dagger_{a}}^{2} b_{a}^{2}}{4 \\omega_{a}^{2} + 4 \\omega_{a} \\omega_{c} + \\omega_{c}^{2}} - \\frac{18 g_{3}^{2} \\omega_{a} \\phi_{a}^{4} {b^\\dagger_{a}}^{2} b_{a}^{2}}{4 \\omega_{a}^{2} - 4 \\omega_{a} \\omega_{c} + \\omega_{c}^{2}} + \\frac{9 g_{3}^{2} \\omega_{c} \\phi_{a}^{4} {b^\\dagger_{a}}^{2} b_{a}^{2}}{4 \\omega_{a}^{2} + 4 \\omega_{a} \\omega_{c} + \\omega_{c}^{2}} + \\frac{9 g_{3}^{2} \\omega_{c} \\phi_{a}^{4} {b^\\dagger_{a}}^{2} b_{a}^{2}}{4 \\omega_{a}^{2} - 4 \\omega_{a} \\omega_{c} + \\omega_{c}^{2}} - \\frac{18 g_{3}^{2} \\phi_{a}^{4} {b^\\dagger_{a}}^{2} b_{a}^{2}}{2 \\omega_{a} + \\omega_{c}} + \\frac{18 g_{3}^{2} \\phi_{a}^{4} {b^\\dagger_{a}}^{2} b_{a}^{2}}{2 \\omega_{a} - \\omega_{c}} - \\frac{36 g_{3}^{2} \\phi_{a}^{4} {b^\\dagger_{a}}^{2} b_{a}^{2}}{\\omega_{c}}$"
      ],
      "text/plain": [
       "18*g3**2*omega_a*phi_a**4*CreateBoson(a)**2*AnnihilateBoson(a)**2/(4*omega_a**2 + 4*omega_a*omega_c + omega_c**2) - 18*g3**2*omega_a*phi_a**4*CreateBoson(a)**2*AnnihilateBoson(a)**2/(4*omega_a**2 - 4*omega_a*omega_c + omega_c**2) + 9*g3**2*omega_c*phi_a**4*CreateBoson(a)**2*AnnihilateBoson(a)**2/(4*omega_a**2 + 4*omega_a*omega_c + omega_c**2) + 9*g3**2*omega_c*phi_a**4*CreateBoson(a)**2*AnnihilateBoson(a)**2/(4*omega_a**2 - 4*omega_a*omega_c + omega_c**2) - 18*g3**2*phi_a**4*CreateBoson(a)**2*AnnihilateBoson(a)**2/(2*omega_a + omega_c) + 18*g3**2*phi_a**4*CreateBoson(a)**2*AnnihilateBoson(a)**2/(2*omega_a - omega_c) - 36*g3**2*phi_a**4*CreateBoson(a)**2*AnnihilateBoson(a)**2/omega_c"
      ]
     },
     "execution_count": 155,
     "metadata": {},
     "output_type": "execute_result"
    }
   ],
   "source": [
    "temp = 0\n",
    "for term in ham_a.args:\n",
    "    if term.coeff(phi_b,0).coeff(ad**2*a**2*g3**2*phi_a**4) != 0:\n",
    "        temp += term\n",
    "temp"
   ]
  },
  {
   "cell_type": "code",
   "execution_count": 143,
   "id": "7f68b6ca-3111-43c8-ab40-9c12606e8104",
   "metadata": {
    "execution": {
     "iopub.execute_input": "2023-09-20T04:08:31.856450Z",
     "iopub.status.busy": "2023-09-20T04:08:31.855930Z",
     "iopub.status.idle": "2023-09-20T04:08:31.876379Z",
     "shell.execute_reply": "2023-09-20T04:08:31.875564Z",
     "shell.execute_reply.started": "2023-09-20T04:08:31.856415Z"
    },
    "tags": []
   },
   "outputs": [
    {
     "name": "stdout",
     "output_type": "stream",
     "text": [
      "18*g3**2*omega_a*phi_a**4/(4*omega_a**2 + 4*omega_a*omega_c + omega_c**2) - 18*g3**2*omega_a*phi_a**4/(4*omega_a**2 - 4*omega_a*omega_c + omega_c**2) + 9*g3**2*omega_c*phi_a**4/(4*omega_a**2 + 4*omega_a*omega_c + omega_c**2) + 9*g3**2*omega_c*phi_a**4/(4*omega_a**2 - 4*omega_a*omega_c + omega_c**2) - 18*g3**2*phi_a**4/(2*omega_a + omega_c) + 18*g3**2*phi_a**4/(2*omega_a - omega_c) - 36*g3**2*phi_a**4/omega_c\n"
     ]
    }
   ],
   "source": [
    "print(temp.coeff(ad**2*a**2))"
   ]
  },
  {
   "cell_type": "code",
   "execution_count": 144,
   "id": "58badafd-09d1-499d-919d-05c4bbdb3605",
   "metadata": {
    "execution": {
     "iopub.execute_input": "2023-09-20T04:09:27.693690Z",
     "iopub.status.busy": "2023-09-20T04:09:27.692819Z",
     "iopub.status.idle": "2023-09-20T04:09:27.837505Z",
     "shell.execute_reply": "2023-09-20T04:09:27.837193Z",
     "shell.execute_reply.started": "2023-09-20T04:09:27.693627Z"
    },
    "tags": []
   },
   "outputs": [
    {
     "data": {
      "text/latex": [
       "$\\displaystyle \\frac{18 g_{3}^{2} \\omega_{b} \\phi_{b}^{4} {b^\\dagger_{b}}^{2} b_{b}^{2}}{4 \\omega_{b}^{2} + 4 \\omega_{b} \\omega_{c} + \\omega_{c}^{2}} - \\frac{18 g_{3}^{2} \\omega_{b} \\phi_{b}^{4} {b^\\dagger_{b}}^{2} b_{b}^{2}}{4 \\omega_{b}^{2} - 4 \\omega_{b} \\omega_{c} + \\omega_{c}^{2}} + \\frac{9 g_{3}^{2} \\omega_{c} \\phi_{b}^{4} {b^\\dagger_{b}}^{2} b_{b}^{2}}{4 \\omega_{b}^{2} + 4 \\omega_{b} \\omega_{c} + \\omega_{c}^{2}} + \\frac{9 g_{3}^{2} \\omega_{c} \\phi_{b}^{4} {b^\\dagger_{b}}^{2} b_{b}^{2}}{4 \\omega_{b}^{2} - 4 \\omega_{b} \\omega_{c} + \\omega_{c}^{2}} - \\frac{18 g_{3}^{2} \\phi_{b}^{4} {b^\\dagger_{b}}^{2} b_{b}^{2}}{2 \\omega_{b} + \\omega_{c}} + \\frac{18 g_{3}^{2} \\phi_{b}^{4} {b^\\dagger_{b}}^{2} b_{b}^{2}}{2 \\omega_{b} - \\omega_{c}} - \\frac{36 g_{3}^{2} \\phi_{b}^{4} {b^\\dagger_{b}}^{2} b_{b}^{2}}{\\omega_{c}}$"
      ],
      "text/plain": [
       "18*g3**2*omega_b*phi_b**4*CreateBoson(b)**2*AnnihilateBoson(b)**2/(4*omega_b**2 + 4*omega_b*omega_c + omega_c**2) - 18*g3**2*omega_b*phi_b**4*CreateBoson(b)**2*AnnihilateBoson(b)**2/(4*omega_b**2 - 4*omega_b*omega_c + omega_c**2) + 9*g3**2*omega_c*phi_b**4*CreateBoson(b)**2*AnnihilateBoson(b)**2/(4*omega_b**2 + 4*omega_b*omega_c + omega_c**2) + 9*g3**2*omega_c*phi_b**4*CreateBoson(b)**2*AnnihilateBoson(b)**2/(4*omega_b**2 - 4*omega_b*omega_c + omega_c**2) - 18*g3**2*phi_b**4*CreateBoson(b)**2*AnnihilateBoson(b)**2/(2*omega_b + omega_c) + 18*g3**2*phi_b**4*CreateBoson(b)**2*AnnihilateBoson(b)**2/(2*omega_b - omega_c) - 36*g3**2*phi_b**4*CreateBoson(b)**2*AnnihilateBoson(b)**2/omega_c"
      ]
     },
     "execution_count": 144,
     "metadata": {},
     "output_type": "execute_result"
    }
   ],
   "source": [
    "temp = 0\n",
    "for term in ham_b.args:\n",
    "    if term.coeff(phi_a,0).coeff(bd**2*b**2*g3**2*phi_b**4) != 0:\n",
    "        temp += term\n",
    "temp"
   ]
  },
  {
   "cell_type": "code",
   "execution_count": 146,
   "id": "6af46d8a-659f-4fd4-85eb-71e7a71b0b3a",
   "metadata": {
    "execution": {
     "iopub.execute_input": "2023-09-20T04:09:47.469767Z",
     "iopub.status.busy": "2023-09-20T04:09:47.469361Z",
     "iopub.status.idle": "2023-09-20T04:09:47.491420Z",
     "shell.execute_reply": "2023-09-20T04:09:47.490095Z",
     "shell.execute_reply.started": "2023-09-20T04:09:47.469742Z"
    }
   },
   "outputs": [
    {
     "name": "stdout",
     "output_type": "stream",
     "text": [
      "18*g3**2*omega_b*phi_b**4/(4*omega_b**2 + 4*omega_b*omega_c + omega_c**2) - 18*g3**2*omega_b*phi_b**4/(4*omega_b**2 - 4*omega_b*omega_c + omega_c**2) + 9*g3**2*omega_c*phi_b**4/(4*omega_b**2 + 4*omega_b*omega_c + omega_c**2) + 9*g3**2*omega_c*phi_b**4/(4*omega_b**2 - 4*omega_b*omega_c + omega_c**2) - 18*g3**2*phi_b**4/(2*omega_b + omega_c) + 18*g3**2*phi_b**4/(2*omega_b - omega_c) - 36*g3**2*phi_b**4/omega_c\n"
     ]
    }
   ],
   "source": [
    "print(temp.coeff(bd**2*b**2))"
   ]
  },
  {
   "cell_type": "code",
   "execution_count": 147,
   "id": "5eadbfc2-a6da-4d70-b1a9-a456696885ef",
   "metadata": {
    "execution": {
     "iopub.execute_input": "2023-09-20T04:09:49.823392Z",
     "iopub.status.busy": "2023-09-20T04:09:49.822826Z",
     "iopub.status.idle": "2023-09-20T04:09:49.974134Z",
     "shell.execute_reply": "2023-09-20T04:09:49.973822Z",
     "shell.execute_reply.started": "2023-09-20T04:09:49.823351Z"
    },
    "tags": []
   },
   "outputs": [
    {
     "data": {
      "text/latex": [
       "$\\displaystyle \\frac{324 g_{4}^{2} \\omega_{a} \\phi_{a}^{4} {b^\\dagger_{a}}^{2} b_{a}^{2}}{\\omega_{a}^{2} + 2 \\omega_{a} \\omega_{c} + \\omega_{c}^{2}} - \\frac{324 g_{4}^{2} \\omega_{a} \\phi_{a}^{4} {b^\\dagger_{a}}^{2} b_{a}^{2}}{\\omega_{a}^{2} - 2 \\omega_{a} \\omega_{c} + \\omega_{c}^{2}} + \\frac{324 g_{4}^{2} \\omega_{c} \\phi_{a}^{4} {b^\\dagger_{a}}^{2} b_{a}^{2}}{\\omega_{a}^{2} + 2 \\omega_{a} \\omega_{c} + \\omega_{c}^{2}} + \\frac{324 g_{4}^{2} \\omega_{c} \\phi_{a}^{4} {b^\\dagger_{a}}^{2} b_{a}^{2}}{\\omega_{a}^{2} - 2 \\omega_{a} \\omega_{c} + \\omega_{c}^{2}} - \\frac{648 g_{4}^{2} \\phi_{a}^{4} {b^\\dagger_{a}}^{2} b_{a}^{2}}{\\omega_{a} + \\omega_{c}} + \\frac{648 g_{4}^{2} \\phi_{a}^{4} {b^\\dagger_{a}}^{2} b_{a}^{2}}{\\omega_{a} - \\omega_{c}} - \\frac{144 g_{4}^{2} \\phi_{a}^{4} {b^\\dagger_{a}}^{2} b_{a}^{2}}{\\omega_{c}}$"
      ],
      "text/plain": [
       "324*g4**2*omega_a*phi_a**4*CreateBoson(a)**2*AnnihilateBoson(a)**2/(omega_a**2 + 2*omega_a*omega_c + omega_c**2) - 324*g4**2*omega_a*phi_a**4*CreateBoson(a)**2*AnnihilateBoson(a)**2/(omega_a**2 - 2*omega_a*omega_c + omega_c**2) + 324*g4**2*omega_c*phi_a**4*CreateBoson(a)**2*AnnihilateBoson(a)**2/(omega_a**2 + 2*omega_a*omega_c + omega_c**2) + 324*g4**2*omega_c*phi_a**4*CreateBoson(a)**2*AnnihilateBoson(a)**2/(omega_a**2 - 2*omega_a*omega_c + omega_c**2) - 648*g4**2*phi_a**4*CreateBoson(a)**2*AnnihilateBoson(a)**2/(omega_a + omega_c) + 648*g4**2*phi_a**4*CreateBoson(a)**2*AnnihilateBoson(a)**2/(omega_a - omega_c) - 144*g4**2*phi_a**4*CreateBoson(a)**2*AnnihilateBoson(a)**2/omega_c"
      ]
     },
     "execution_count": 147,
     "metadata": {},
     "output_type": "execute_result"
    }
   ],
   "source": [
    "temp = 0\n",
    "for term in ham_a.args:\n",
    "    if term.coeff(eta,0).coeff(eta.conjugate(),0).coeff(phi_b,0).coeff(ad**2*a**2*g4**2*phi_a**4) != 0:\n",
    "        temp += term\n",
    "temp"
   ]
  },
  {
   "cell_type": "code",
   "execution_count": 148,
   "id": "56f76ad7-346b-4b8a-947d-455d00cb4b03",
   "metadata": {
    "execution": {
     "iopub.execute_input": "2023-09-20T04:09:57.207832Z",
     "iopub.status.busy": "2023-09-20T04:09:57.207161Z",
     "iopub.status.idle": "2023-09-20T04:09:57.230029Z",
     "shell.execute_reply": "2023-09-20T04:09:57.229360Z",
     "shell.execute_reply.started": "2023-09-20T04:09:57.207785Z"
    }
   },
   "outputs": [
    {
     "name": "stdout",
     "output_type": "stream",
     "text": [
      "324*g4**2*omega_a*phi_a**4/(omega_a**2 + 2*omega_a*omega_c + omega_c**2) - 324*g4**2*omega_a*phi_a**4/(omega_a**2 - 2*omega_a*omega_c + omega_c**2) + 324*g4**2*omega_c*phi_a**4/(omega_a**2 + 2*omega_a*omega_c + omega_c**2) + 324*g4**2*omega_c*phi_a**4/(omega_a**2 - 2*omega_a*omega_c + omega_c**2) - 648*g4**2*phi_a**4/(omega_a + omega_c) + 648*g4**2*phi_a**4/(omega_a - omega_c) - 144*g4**2*phi_a**4/omega_c\n"
     ]
    }
   ],
   "source": [
    "print(temp.coeff(ad**2*a**2))"
   ]
  },
  {
   "cell_type": "code",
   "execution_count": 149,
   "id": "562dae4c-dfbd-4bbc-bb42-81b5fdda5855",
   "metadata": {
    "execution": {
     "iopub.execute_input": "2023-09-20T04:10:12.718405Z",
     "iopub.status.busy": "2023-09-20T04:10:12.717858Z",
     "iopub.status.idle": "2023-09-20T04:10:12.860433Z",
     "shell.execute_reply": "2023-09-20T04:10:12.860094Z",
     "shell.execute_reply.started": "2023-09-20T04:10:12.718366Z"
    },
    "tags": []
   },
   "outputs": [
    {
     "data": {
      "text/latex": [
       "$\\displaystyle \\frac{324 g_{4}^{2} \\omega_{b} \\phi_{b}^{4} {b^\\dagger_{b}}^{2} b_{b}^{2}}{\\omega_{b}^{2} + 2 \\omega_{b} \\omega_{c} + \\omega_{c}^{2}} - \\frac{324 g_{4}^{2} \\omega_{b} \\phi_{b}^{4} {b^\\dagger_{b}}^{2} b_{b}^{2}}{\\omega_{b}^{2} - 2 \\omega_{b} \\omega_{c} + \\omega_{c}^{2}} + \\frac{324 g_{4}^{2} \\omega_{c} \\phi_{b}^{4} {b^\\dagger_{b}}^{2} b_{b}^{2}}{\\omega_{b}^{2} + 2 \\omega_{b} \\omega_{c} + \\omega_{c}^{2}} + \\frac{324 g_{4}^{2} \\omega_{c} \\phi_{b}^{4} {b^\\dagger_{b}}^{2} b_{b}^{2}}{\\omega_{b}^{2} - 2 \\omega_{b} \\omega_{c} + \\omega_{c}^{2}} - \\frac{648 g_{4}^{2} \\phi_{b}^{4} {b^\\dagger_{b}}^{2} b_{b}^{2}}{\\omega_{b} + \\omega_{c}} + \\frac{648 g_{4}^{2} \\phi_{b}^{4} {b^\\dagger_{b}}^{2} b_{b}^{2}}{\\omega_{b} - \\omega_{c}} - \\frac{144 g_{4}^{2} \\phi_{b}^{4} {b^\\dagger_{b}}^{2} b_{b}^{2}}{\\omega_{c}}$"
      ],
      "text/plain": [
       "324*g4**2*omega_b*phi_b**4*CreateBoson(b)**2*AnnihilateBoson(b)**2/(omega_b**2 + 2*omega_b*omega_c + omega_c**2) - 324*g4**2*omega_b*phi_b**4*CreateBoson(b)**2*AnnihilateBoson(b)**2/(omega_b**2 - 2*omega_b*omega_c + omega_c**2) + 324*g4**2*omega_c*phi_b**4*CreateBoson(b)**2*AnnihilateBoson(b)**2/(omega_b**2 + 2*omega_b*omega_c + omega_c**2) + 324*g4**2*omega_c*phi_b**4*CreateBoson(b)**2*AnnihilateBoson(b)**2/(omega_b**2 - 2*omega_b*omega_c + omega_c**2) - 648*g4**2*phi_b**4*CreateBoson(b)**2*AnnihilateBoson(b)**2/(omega_b + omega_c) + 648*g4**2*phi_b**4*CreateBoson(b)**2*AnnihilateBoson(b)**2/(omega_b - omega_c) - 144*g4**2*phi_b**4*CreateBoson(b)**2*AnnihilateBoson(b)**2/omega_c"
      ]
     },
     "execution_count": 149,
     "metadata": {},
     "output_type": "execute_result"
    }
   ],
   "source": [
    "temp = 0\n",
    "for term in ham_b.args:\n",
    "    if term.coeff(eta,0).coeff(eta.conjugate(),0).coeff(phi_a,0).coeff(bd**2*b**2*g4**2*phi_b**4) != 0:\n",
    "        temp += term\n",
    "temp"
   ]
  },
  {
   "cell_type": "code",
   "execution_count": 150,
   "id": "d09de41e-d976-44a2-814c-bff4dd2ca594",
   "metadata": {
    "execution": {
     "iopub.execute_input": "2023-09-20T04:10:17.274432Z",
     "iopub.status.busy": "2023-09-20T04:10:17.273812Z",
     "iopub.status.idle": "2023-09-20T04:10:17.292270Z",
     "shell.execute_reply": "2023-09-20T04:10:17.291496Z",
     "shell.execute_reply.started": "2023-09-20T04:10:17.274404Z"
    },
    "tags": []
   },
   "outputs": [
    {
     "name": "stdout",
     "output_type": "stream",
     "text": [
      "324*g4**2*omega_b*phi_b**4/(omega_b**2 + 2*omega_b*omega_c + omega_c**2) - 324*g4**2*omega_b*phi_b**4/(omega_b**2 - 2*omega_b*omega_c + omega_c**2) + 324*g4**2*omega_c*phi_b**4/(omega_b**2 + 2*omega_b*omega_c + omega_c**2) + 324*g4**2*omega_c*phi_b**4/(omega_b**2 - 2*omega_b*omega_c + omega_c**2) - 648*g4**2*phi_b**4/(omega_b + omega_c) + 648*g4**2*phi_b**4/(omega_b - omega_c) - 144*g4**2*phi_b**4/omega_c\n"
     ]
    }
   ],
   "source": [
    "print(temp.coeff(bd**2*b**2))"
   ]
  },
  {
   "cell_type": "code",
   "execution_count": null,
   "id": "d16e7f8b-d30c-45f4-8ea4-8010c2566447",
   "metadata": {},
   "outputs": [],
   "source": []
  },
  {
   "cell_type": "markdown",
   "id": "c9aef685-e4cc-4c59-9ab5-203fb528b65e",
   "metadata": {},
   "source": [
    "### driven Kerr"
   ]
  },
  {
   "cell_type": "code",
   "execution_count": 153,
   "id": "f64d5659-6007-43a1-a22c-eaf28cad095f",
   "metadata": {
    "execution": {
     "iopub.execute_input": "2023-09-20T04:38:56.232698Z",
     "iopub.status.busy": "2023-09-20T04:38:56.232187Z",
     "iopub.status.idle": "2023-09-20T04:38:56.821027Z",
     "shell.execute_reply": "2023-09-20T04:38:56.820750Z",
     "shell.execute_reply.started": "2023-09-20T04:38:56.232599Z"
    },
    "tags": []
   },
   "outputs": [
    {
     "data": {
      "text/latex": [
       "$\\displaystyle \\frac{144 \\omega_{a} w_{d}}{8 \\omega_{a}^{3} + 12 \\omega_{a}^{2} \\omega_{c} + 12 \\omega_{a}^{2} w_{d} + 6 \\omega_{a} \\omega_{c}^{2} + 12 \\omega_{a} \\omega_{c} w_{d} + 6 \\omega_{a} w_{d}^{2} + \\omega_{c}^{3} + 3 \\omega_{c}^{2} w_{d} + 3 \\omega_{c} w_{d}^{2} + w_{d}^{3}} - \\frac{144 \\omega_{a} w_{d}}{8 \\omega_{a}^{3} + 12 \\omega_{a}^{2} \\omega_{c} - 12 \\omega_{a}^{2} w_{d} + 6 \\omega_{a} \\omega_{c}^{2} - 12 \\omega_{a} \\omega_{c} w_{d} + 6 \\omega_{a} w_{d}^{2} + \\omega_{c}^{3} - 3 \\omega_{c}^{2} w_{d} + 3 \\omega_{c} w_{d}^{2} - w_{d}^{3}} - \\frac{144 \\omega_{a} w_{d}}{8 \\omega_{a}^{3} - 12 \\omega_{a}^{2} \\omega_{c} + 12 \\omega_{a}^{2} w_{d} + 6 \\omega_{a} \\omega_{c}^{2} - 12 \\omega_{a} \\omega_{c} w_{d} + 6 \\omega_{a} w_{d}^{2} - \\omega_{c}^{3} + 3 \\omega_{c}^{2} w_{d} - 3 \\omega_{c} w_{d}^{2} + w_{d}^{3}} + \\frac{144 \\omega_{a} w_{d}}{8 \\omega_{a}^{3} - 12 \\omega_{a}^{2} \\omega_{c} - 12 \\omega_{a}^{2} w_{d} + 6 \\omega_{a} \\omega_{c}^{2} + 12 \\omega_{a} \\omega_{c} w_{d} + 6 \\omega_{a} w_{d}^{2} - \\omega_{c}^{3} - 3 \\omega_{c}^{2} w_{d} - 3 \\omega_{c} w_{d}^{2} - w_{d}^{3}} + \\frac{288 \\omega_{a}}{4 \\omega_{a}^{2} + 4 \\omega_{a} \\omega_{c} + 4 \\omega_{a} w_{d} + \\omega_{c}^{2} + 2 \\omega_{c} w_{d} + w_{d}^{2}} + \\frac{288 \\omega_{a}}{4 \\omega_{a}^{2} + 4 \\omega_{a} \\omega_{c} - 4 \\omega_{a} w_{d} + \\omega_{c}^{2} - 2 \\omega_{c} w_{d} + w_{d}^{2}} - \\frac{288 \\omega_{a}}{4 \\omega_{a}^{2} - 4 \\omega_{a} \\omega_{c} + 4 \\omega_{a} w_{d} + \\omega_{c}^{2} - 2 \\omega_{c} w_{d} + w_{d}^{2}} - \\frac{288 \\omega_{a}}{4 \\omega_{a}^{2} - 4 \\omega_{a} \\omega_{c} - 4 \\omega_{a} w_{d} + \\omega_{c}^{2} + 2 \\omega_{c} w_{d} + w_{d}^{2}} + \\frac{576 \\omega_{a}}{\\omega_{a}^{2} + 2 \\omega_{a} \\omega_{c} + \\omega_{c}^{2}} - \\frac{576 \\omega_{a}}{\\omega_{a}^{2} - 2 \\omega_{a} \\omega_{c} + \\omega_{c}^{2}} + \\frac{72 \\omega_{c} w_{d}}{8 \\omega_{a}^{3} + 12 \\omega_{a}^{2} \\omega_{c} + 12 \\omega_{a}^{2} w_{d} + 6 \\omega_{a} \\omega_{c}^{2} + 12 \\omega_{a} \\omega_{c} w_{d} + 6 \\omega_{a} w_{d}^{2} + \\omega_{c}^{3} + 3 \\omega_{c}^{2} w_{d} + 3 \\omega_{c} w_{d}^{2} + w_{d}^{3}} - \\frac{72 \\omega_{c} w_{d}}{8 \\omega_{a}^{3} + 12 \\omega_{a}^{2} \\omega_{c} - 12 \\omega_{a}^{2} w_{d} + 6 \\omega_{a} \\omega_{c}^{2} - 12 \\omega_{a} \\omega_{c} w_{d} + 6 \\omega_{a} w_{d}^{2} + \\omega_{c}^{3} - 3 \\omega_{c}^{2} w_{d} + 3 \\omega_{c} w_{d}^{2} - w_{d}^{3}} + \\frac{72 \\omega_{c} w_{d}}{8 \\omega_{a}^{3} - 12 \\omega_{a}^{2} \\omega_{c} + 12 \\omega_{a}^{2} w_{d} + 6 \\omega_{a} \\omega_{c}^{2} - 12 \\omega_{a} \\omega_{c} w_{d} + 6 \\omega_{a} w_{d}^{2} - \\omega_{c}^{3} + 3 \\omega_{c}^{2} w_{d} - 3 \\omega_{c} w_{d}^{2} + w_{d}^{3}} + \\frac{72 \\omega_{c} w_{d}}{- 8 \\omega_{a}^{3} + 12 \\omega_{a}^{2} \\omega_{c} + 12 \\omega_{a}^{2} w_{d} - 6 \\omega_{a} \\omega_{c}^{2} - 12 \\omega_{a} \\omega_{c} w_{d} - 6 \\omega_{a} w_{d}^{2} + \\omega_{c}^{3} + 3 \\omega_{c}^{2} w_{d} + 3 \\omega_{c} w_{d}^{2} + w_{d}^{3}} + \\frac{288 \\omega_{c} w_{d}}{\\omega_{c}^{3} + 3 \\omega_{c}^{2} w_{d} + 3 \\omega_{c} w_{d}^{2} + w_{d}^{3}} - \\frac{288 \\omega_{c} w_{d}}{\\omega_{c}^{3} - 3 \\omega_{c}^{2} w_{d} + 3 \\omega_{c} w_{d}^{2} - w_{d}^{3}} + \\frac{144 \\omega_{c}}{4 \\omega_{a}^{2} + 4 \\omega_{a} \\omega_{c} + 4 \\omega_{a} w_{d} + \\omega_{c}^{2} + 2 \\omega_{c} w_{d} + w_{d}^{2}} + \\frac{144 \\omega_{c}}{4 \\omega_{a}^{2} + 4 \\omega_{a} \\omega_{c} - 4 \\omega_{a} w_{d} + \\omega_{c}^{2} - 2 \\omega_{c} w_{d} + w_{d}^{2}} + \\frac{144 \\omega_{c}}{4 \\omega_{a}^{2} - 4 \\omega_{a} \\omega_{c} + 4 \\omega_{a} w_{d} + \\omega_{c}^{2} - 2 \\omega_{c} w_{d} + w_{d}^{2}} + \\frac{144 \\omega_{c}}{4 \\omega_{a}^{2} - 4 \\omega_{a} \\omega_{c} - 4 \\omega_{a} w_{d} + \\omega_{c}^{2} + 2 \\omega_{c} w_{d} + w_{d}^{2}} + \\frac{576 \\omega_{c}}{\\omega_{c}^{2} + 2 \\omega_{c} w_{d} + w_{d}^{2}} + \\frac{576 \\omega_{c}}{\\omega_{c}^{2} - 2 \\omega_{c} w_{d} + w_{d}^{2}} + \\frac{576 \\omega_{c}}{\\omega_{a}^{2} + 2 \\omega_{a} \\omega_{c} + \\omega_{c}^{2}} + \\frac{576 \\omega_{c}}{\\omega_{a}^{2} - 2 \\omega_{a} \\omega_{c} + \\omega_{c}^{2}} + \\frac{72 w_{d}^{2}}{8 \\omega_{a}^{3} + 12 \\omega_{a}^{2} \\omega_{c} + 12 \\omega_{a}^{2} w_{d} + 6 \\omega_{a} \\omega_{c}^{2} + 12 \\omega_{a} \\omega_{c} w_{d} + 6 \\omega_{a} w_{d}^{2} + \\omega_{c}^{3} + 3 \\omega_{c}^{2} w_{d} + 3 \\omega_{c} w_{d}^{2} + w_{d}^{3}} + \\frac{72 w_{d}^{2}}{8 \\omega_{a}^{3} + 12 \\omega_{a}^{2} \\omega_{c} - 12 \\omega_{a}^{2} w_{d} + 6 \\omega_{a} \\omega_{c}^{2} - 12 \\omega_{a} \\omega_{c} w_{d} + 6 \\omega_{a} w_{d}^{2} + \\omega_{c}^{3} - 3 \\omega_{c}^{2} w_{d} + 3 \\omega_{c} w_{d}^{2} - w_{d}^{3}} - \\frac{72 w_{d}^{2}}{8 \\omega_{a}^{3} - 12 \\omega_{a}^{2} \\omega_{c} + 12 \\omega_{a}^{2} w_{d} + 6 \\omega_{a} \\omega_{c}^{2} - 12 \\omega_{a} \\omega_{c} w_{d} + 6 \\omega_{a} w_{d}^{2} - \\omega_{c}^{3} + 3 \\omega_{c}^{2} w_{d} - 3 \\omega_{c} w_{d}^{2} + w_{d}^{3}} + \\frac{72 w_{d}^{2}}{- 8 \\omega_{a}^{3} + 12 \\omega_{a}^{2} \\omega_{c} + 12 \\omega_{a}^{2} w_{d} - 6 \\omega_{a} \\omega_{c}^{2} - 12 \\omega_{a} \\omega_{c} w_{d} - 6 \\omega_{a} w_{d}^{2} + \\omega_{c}^{3} + 3 \\omega_{c}^{2} w_{d} + 3 \\omega_{c} w_{d}^{2} + w_{d}^{3}} + \\frac{288 w_{d}^{2}}{\\omega_{c}^{3} + 3 \\omega_{c}^{2} w_{d} + 3 \\omega_{c} w_{d}^{2} + w_{d}^{3}} + \\frac{288 w_{d}^{2}}{\\omega_{c}^{3} - 3 \\omega_{c}^{2} w_{d} + 3 \\omega_{c} w_{d}^{2} - w_{d}^{3}} + \\frac{72 w_{d}}{4 \\omega_{a}^{2} + 4 \\omega_{a} \\omega_{c} + 4 \\omega_{a} w_{d} + \\omega_{c}^{2} + 2 \\omega_{c} w_{d} + w_{d}^{2}} - \\frac{72 w_{d}}{4 \\omega_{a}^{2} + 4 \\omega_{a} \\omega_{c} - 4 \\omega_{a} w_{d} + \\omega_{c}^{2} - 2 \\omega_{c} w_{d} + w_{d}^{2}} - \\frac{72 w_{d}}{4 \\omega_{a}^{2} - 4 \\omega_{a} \\omega_{c} + 4 \\omega_{a} w_{d} + \\omega_{c}^{2} - 2 \\omega_{c} w_{d} + w_{d}^{2}} + \\frac{72 w_{d}}{4 \\omega_{a}^{2} - 4 \\omega_{a} \\omega_{c} - 4 \\omega_{a} w_{d} + \\omega_{c}^{2} + 2 \\omega_{c} w_{d} + w_{d}^{2}} + \\frac{288 w_{d}}{\\omega_{c}^{2} + 2 \\omega_{c} w_{d} + w_{d}^{2}} - \\frac{288 w_{d}}{\\omega_{c}^{2} - 2 \\omega_{c} w_{d} + w_{d}^{2}} - \\frac{288}{2 \\omega_{a} + \\omega_{c} + w_{d}} - \\frac{288}{2 \\omega_{a} + \\omega_{c} - w_{d}} + \\frac{288}{2 \\omega_{a} - \\omega_{c} + w_{d}} + \\frac{288}{2 \\omega_{a} - \\omega_{c} - w_{d}} - \\frac{1152}{\\omega_{c} + w_{d}} - \\frac{1152}{\\omega_{c} - w_{d}} - \\frac{1152}{\\omega_{a} + \\omega_{c}} + \\frac{1152}{\\omega_{a} - \\omega_{c}}$"
      ],
      "text/plain": [
       "144*omega_a*w_d/(8*omega_a**3 + 12*omega_a**2*omega_c + 12*omega_a**2*w_d + 6*omega_a*omega_c**2 + 12*omega_a*omega_c*w_d + 6*omega_a*w_d**2 + omega_c**3 + 3*omega_c**2*w_d + 3*omega_c*w_d**2 + w_d**3) - 144*omega_a*w_d/(8*omega_a**3 + 12*omega_a**2*omega_c - 12*omega_a**2*w_d + 6*omega_a*omega_c**2 - 12*omega_a*omega_c*w_d + 6*omega_a*w_d**2 + omega_c**3 - 3*omega_c**2*w_d + 3*omega_c*w_d**2 - w_d**3) - 144*omega_a*w_d/(8*omega_a**3 - 12*omega_a**2*omega_c + 12*omega_a**2*w_d + 6*omega_a*omega_c**2 - 12*omega_a*omega_c*w_d + 6*omega_a*w_d**2 - omega_c**3 + 3*omega_c**2*w_d - 3*omega_c*w_d**2 + w_d**3) + 144*omega_a*w_d/(8*omega_a**3 - 12*omega_a**2*omega_c - 12*omega_a**2*w_d + 6*omega_a*omega_c**2 + 12*omega_a*omega_c*w_d + 6*omega_a*w_d**2 - omega_c**3 - 3*omega_c**2*w_d - 3*omega_c*w_d**2 - w_d**3) + 288*omega_a/(4*omega_a**2 + 4*omega_a*omega_c + 4*omega_a*w_d + omega_c**2 + 2*omega_c*w_d + w_d**2) + 288*omega_a/(4*omega_a**2 + 4*omega_a*omega_c - 4*omega_a*w_d + omega_c**2 - 2*omega_c*w_d + w_d**2) - 288*omega_a/(4*omega_a**2 - 4*omega_a*omega_c + 4*omega_a*w_d + omega_c**2 - 2*omega_c*w_d + w_d**2) - 288*omega_a/(4*omega_a**2 - 4*omega_a*omega_c - 4*omega_a*w_d + omega_c**2 + 2*omega_c*w_d + w_d**2) + 576*omega_a/(omega_a**2 + 2*omega_a*omega_c + omega_c**2) - 576*omega_a/(omega_a**2 - 2*omega_a*omega_c + omega_c**2) + 72*omega_c*w_d/(8*omega_a**3 + 12*omega_a**2*omega_c + 12*omega_a**2*w_d + 6*omega_a*omega_c**2 + 12*omega_a*omega_c*w_d + 6*omega_a*w_d**2 + omega_c**3 + 3*omega_c**2*w_d + 3*omega_c*w_d**2 + w_d**3) - 72*omega_c*w_d/(8*omega_a**3 + 12*omega_a**2*omega_c - 12*omega_a**2*w_d + 6*omega_a*omega_c**2 - 12*omega_a*omega_c*w_d + 6*omega_a*w_d**2 + omega_c**3 - 3*omega_c**2*w_d + 3*omega_c*w_d**2 - w_d**3) + 72*omega_c*w_d/(8*omega_a**3 - 12*omega_a**2*omega_c + 12*omega_a**2*w_d + 6*omega_a*omega_c**2 - 12*omega_a*omega_c*w_d + 6*omega_a*w_d**2 - omega_c**3 + 3*omega_c**2*w_d - 3*omega_c*w_d**2 + w_d**3) + 72*omega_c*w_d/(-8*omega_a**3 + 12*omega_a**2*omega_c + 12*omega_a**2*w_d - 6*omega_a*omega_c**2 - 12*omega_a*omega_c*w_d - 6*omega_a*w_d**2 + omega_c**3 + 3*omega_c**2*w_d + 3*omega_c*w_d**2 + w_d**3) + 288*omega_c*w_d/(omega_c**3 + 3*omega_c**2*w_d + 3*omega_c*w_d**2 + w_d**3) - 288*omega_c*w_d/(omega_c**3 - 3*omega_c**2*w_d + 3*omega_c*w_d**2 - w_d**3) + 144*omega_c/(4*omega_a**2 + 4*omega_a*omega_c + 4*omega_a*w_d + omega_c**2 + 2*omega_c*w_d + w_d**2) + 144*omega_c/(4*omega_a**2 + 4*omega_a*omega_c - 4*omega_a*w_d + omega_c**2 - 2*omega_c*w_d + w_d**2) + 144*omega_c/(4*omega_a**2 - 4*omega_a*omega_c + 4*omega_a*w_d + omega_c**2 - 2*omega_c*w_d + w_d**2) + 144*omega_c/(4*omega_a**2 - 4*omega_a*omega_c - 4*omega_a*w_d + omega_c**2 + 2*omega_c*w_d + w_d**2) + 576*omega_c/(omega_c**2 + 2*omega_c*w_d + w_d**2) + 576*omega_c/(omega_c**2 - 2*omega_c*w_d + w_d**2) + 576*omega_c/(omega_a**2 + 2*omega_a*omega_c + omega_c**2) + 576*omega_c/(omega_a**2 - 2*omega_a*omega_c + omega_c**2) + 72*w_d**2/(8*omega_a**3 + 12*omega_a**2*omega_c + 12*omega_a**2*w_d + 6*omega_a*omega_c**2 + 12*omega_a*omega_c*w_d + 6*omega_a*w_d**2 + omega_c**3 + 3*omega_c**2*w_d + 3*omega_c*w_d**2 + w_d**3) + 72*w_d**2/(8*omega_a**3 + 12*omega_a**2*omega_c - 12*omega_a**2*w_d + 6*omega_a*omega_c**2 - 12*omega_a*omega_c*w_d + 6*omega_a*w_d**2 + omega_c**3 - 3*omega_c**2*w_d + 3*omega_c*w_d**2 - w_d**3) - 72*w_d**2/(8*omega_a**3 - 12*omega_a**2*omega_c + 12*omega_a**2*w_d + 6*omega_a*omega_c**2 - 12*omega_a*omega_c*w_d + 6*omega_a*w_d**2 - omega_c**3 + 3*omega_c**2*w_d - 3*omega_c*w_d**2 + w_d**3) + 72*w_d**2/(-8*omega_a**3 + 12*omega_a**2*omega_c + 12*omega_a**2*w_d - 6*omega_a*omega_c**2 - 12*omega_a*omega_c*w_d - 6*omega_a*w_d**2 + omega_c**3 + 3*omega_c**2*w_d + 3*omega_c*w_d**2 + w_d**3) + 288*w_d**2/(omega_c**3 + 3*omega_c**2*w_d + 3*omega_c*w_d**2 + w_d**3) + 288*w_d**2/(omega_c**3 - 3*omega_c**2*w_d + 3*omega_c*w_d**2 - w_d**3) + 72*w_d/(4*omega_a**2 + 4*omega_a*omega_c + 4*omega_a*w_d + omega_c**2 + 2*omega_c*w_d + w_d**2) - 72*w_d/(4*omega_a**2 + 4*omega_a*omega_c - 4*omega_a*w_d + omega_c**2 - 2*omega_c*w_d + w_d**2) - 72*w_d/(4*omega_a**2 - 4*omega_a*omega_c + 4*omega_a*w_d + omega_c**2 - 2*omega_c*w_d + w_d**2) + 72*w_d/(4*omega_a**2 - 4*omega_a*omega_c - 4*omega_a*w_d + omega_c**2 + 2*omega_c*w_d + w_d**2) + 288*w_d/(omega_c**2 + 2*omega_c*w_d + w_d**2) - 288*w_d/(omega_c**2 - 2*omega_c*w_d + w_d**2) - 288/(2*omega_a + omega_c + w_d) - 288/(2*omega_a + omega_c - w_d) + 288/(2*omega_a - omega_c + w_d) + 288/(2*omega_a - omega_c - w_d) - 1152/(omega_c + w_d) - 1152/(omega_c - w_d) - 1152/(omega_a + omega_c) + 1152/(omega_a - omega_c)"
      ]
     },
     "execution_count": 153,
     "metadata": {},
     "output_type": "execute_result"
    }
   ],
   "source": [
    "temp = 0\n",
    "for term in ham_a.args:\n",
    "    temp += sp.simplify(term.coeff(ad**2*a**2*g4**2*phi_a**4*eta*eta.conjugate()).subs(phi_b,0))\n",
    "temp"
   ]
  },
  {
   "cell_type": "code",
   "execution_count": 152,
   "id": "017f5ab8-d32b-417a-8442-586ecc6c91a3",
   "metadata": {
    "execution": {
     "iopub.execute_input": "2023-09-20T04:18:54.786862Z",
     "iopub.status.busy": "2023-09-20T04:18:54.786203Z",
     "iopub.status.idle": "2023-09-20T04:18:55.352890Z",
     "shell.execute_reply": "2023-09-20T04:18:55.352582Z",
     "shell.execute_reply.started": "2023-09-20T04:18:54.786815Z"
    },
    "tags": []
   },
   "outputs": [
    {
     "name": "stdout",
     "output_type": "stream",
     "text": [
      "144*omega_b*w_d/(8*omega_b**3 + 12*omega_b**2*omega_c + 12*omega_b**2*w_d + 6*omega_b*omega_c**2 + 12*omega_b*omega_c*w_d + 6*omega_b*w_d**2 + omega_c**3 + 3*omega_c**2*w_d + 3*omega_c*w_d**2 + w_d**3) - 144*omega_b*w_d/(8*omega_b**3 + 12*omega_b**2*omega_c - 12*omega_b**2*w_d + 6*omega_b*omega_c**2 - 12*omega_b*omega_c*w_d + 6*omega_b*w_d**2 + omega_c**3 - 3*omega_c**2*w_d + 3*omega_c*w_d**2 - w_d**3) - 144*omega_b*w_d/(8*omega_b**3 - 12*omega_b**2*omega_c + 12*omega_b**2*w_d + 6*omega_b*omega_c**2 - 12*omega_b*omega_c*w_d + 6*omega_b*w_d**2 - omega_c**3 + 3*omega_c**2*w_d - 3*omega_c*w_d**2 + w_d**3) + 144*omega_b*w_d/(8*omega_b**3 - 12*omega_b**2*omega_c - 12*omega_b**2*w_d + 6*omega_b*omega_c**2 + 12*omega_b*omega_c*w_d + 6*omega_b*w_d**2 - omega_c**3 - 3*omega_c**2*w_d - 3*omega_c*w_d**2 - w_d**3) + 288*omega_b/(4*omega_b**2 + 4*omega_b*omega_c + 4*omega_b*w_d + omega_c**2 + 2*omega_c*w_d + w_d**2) + 288*omega_b/(4*omega_b**2 + 4*omega_b*omega_c - 4*omega_b*w_d + omega_c**2 - 2*omega_c*w_d + w_d**2) - 288*omega_b/(4*omega_b**2 - 4*omega_b*omega_c + 4*omega_b*w_d + omega_c**2 - 2*omega_c*w_d + w_d**2) - 288*omega_b/(4*omega_b**2 - 4*omega_b*omega_c - 4*omega_b*w_d + omega_c**2 + 2*omega_c*w_d + w_d**2) + 576*omega_b/(omega_b**2 + 2*omega_b*omega_c + omega_c**2) - 576*omega_b/(omega_b**2 - 2*omega_b*omega_c + omega_c**2) + 72*omega_c*w_d/(8*omega_b**3 + 12*omega_b**2*omega_c + 12*omega_b**2*w_d + 6*omega_b*omega_c**2 + 12*omega_b*omega_c*w_d + 6*omega_b*w_d**2 + omega_c**3 + 3*omega_c**2*w_d + 3*omega_c*w_d**2 + w_d**3) - 72*omega_c*w_d/(8*omega_b**3 + 12*omega_b**2*omega_c - 12*omega_b**2*w_d + 6*omega_b*omega_c**2 - 12*omega_b*omega_c*w_d + 6*omega_b*w_d**2 + omega_c**3 - 3*omega_c**2*w_d + 3*omega_c*w_d**2 - w_d**3) + 72*omega_c*w_d/(8*omega_b**3 - 12*omega_b**2*omega_c + 12*omega_b**2*w_d + 6*omega_b*omega_c**2 - 12*omega_b*omega_c*w_d + 6*omega_b*w_d**2 - omega_c**3 + 3*omega_c**2*w_d - 3*omega_c*w_d**2 + w_d**3) + 72*omega_c*w_d/(-8*omega_b**3 + 12*omega_b**2*omega_c + 12*omega_b**2*w_d - 6*omega_b*omega_c**2 - 12*omega_b*omega_c*w_d - 6*omega_b*w_d**2 + omega_c**3 + 3*omega_c**2*w_d + 3*omega_c*w_d**2 + w_d**3) + 288*omega_c*w_d/(omega_c**3 + 3*omega_c**2*w_d + 3*omega_c*w_d**2 + w_d**3) - 288*omega_c*w_d/(omega_c**3 - 3*omega_c**2*w_d + 3*omega_c*w_d**2 - w_d**3) + 144*omega_c/(4*omega_b**2 + 4*omega_b*omega_c + 4*omega_b*w_d + omega_c**2 + 2*omega_c*w_d + w_d**2) + 144*omega_c/(4*omega_b**2 + 4*omega_b*omega_c - 4*omega_b*w_d + omega_c**2 - 2*omega_c*w_d + w_d**2) + 144*omega_c/(4*omega_b**2 - 4*omega_b*omega_c + 4*omega_b*w_d + omega_c**2 - 2*omega_c*w_d + w_d**2) + 144*omega_c/(4*omega_b**2 - 4*omega_b*omega_c - 4*omega_b*w_d + omega_c**2 + 2*omega_c*w_d + w_d**2) + 576*omega_c/(omega_c**2 + 2*omega_c*w_d + w_d**2) + 576*omega_c/(omega_c**2 - 2*omega_c*w_d + w_d**2) + 576*omega_c/(omega_b**2 + 2*omega_b*omega_c + omega_c**2) + 576*omega_c/(omega_b**2 - 2*omega_b*omega_c + omega_c**2) + 72*w_d**2/(8*omega_b**3 + 12*omega_b**2*omega_c + 12*omega_b**2*w_d + 6*omega_b*omega_c**2 + 12*omega_b*omega_c*w_d + 6*omega_b*w_d**2 + omega_c**3 + 3*omega_c**2*w_d + 3*omega_c*w_d**2 + w_d**3) + 72*w_d**2/(8*omega_b**3 + 12*omega_b**2*omega_c - 12*omega_b**2*w_d + 6*omega_b*omega_c**2 - 12*omega_b*omega_c*w_d + 6*omega_b*w_d**2 + omega_c**3 - 3*omega_c**2*w_d + 3*omega_c*w_d**2 - w_d**3) - 72*w_d**2/(8*omega_b**3 - 12*omega_b**2*omega_c + 12*omega_b**2*w_d + 6*omega_b*omega_c**2 - 12*omega_b*omega_c*w_d + 6*omega_b*w_d**2 - omega_c**3 + 3*omega_c**2*w_d - 3*omega_c*w_d**2 + w_d**3) + 72*w_d**2/(-8*omega_b**3 + 12*omega_b**2*omega_c + 12*omega_b**2*w_d - 6*omega_b*omega_c**2 - 12*omega_b*omega_c*w_d - 6*omega_b*w_d**2 + omega_c**3 + 3*omega_c**2*w_d + 3*omega_c*w_d**2 + w_d**3) + 288*w_d**2/(omega_c**3 + 3*omega_c**2*w_d + 3*omega_c*w_d**2 + w_d**3) + 288*w_d**2/(omega_c**3 - 3*omega_c**2*w_d + 3*omega_c*w_d**2 - w_d**3) + 72*w_d/(4*omega_b**2 + 4*omega_b*omega_c + 4*omega_b*w_d + omega_c**2 + 2*omega_c*w_d + w_d**2) - 72*w_d/(4*omega_b**2 + 4*omega_b*omega_c - 4*omega_b*w_d + omega_c**2 - 2*omega_c*w_d + w_d**2) - 72*w_d/(4*omega_b**2 - 4*omega_b*omega_c + 4*omega_b*w_d + omega_c**2 - 2*omega_c*w_d + w_d**2) + 72*w_d/(4*omega_b**2 - 4*omega_b*omega_c - 4*omega_b*w_d + omega_c**2 + 2*omega_c*w_d + w_d**2) + 288*w_d/(omega_c**2 + 2*omega_c*w_d + w_d**2) - 288*w_d/(omega_c**2 - 2*omega_c*w_d + w_d**2) - 288/(2*omega_b + omega_c + w_d) - 288/(2*omega_b + omega_c - w_d) + 288/(2*omega_b - omega_c + w_d) + 288/(2*omega_b - omega_c - w_d) - 1152/(omega_c + w_d) - 1152/(omega_c - w_d) - 1152/(omega_b + omega_c) + 1152/(omega_b - omega_c)\n"
     ]
    }
   ],
   "source": [
    "temp = 0\n",
    "for term in ham_b.args:\n",
    "    temp += sp.simplify(term.coeff(bd**2*b**2*g4**2*phi_b**4*eta*eta.conjugate()).subs(phi_a,0))\n",
    "print(temp)"
   ]
  },
  {
   "cell_type": "code",
   "execution_count": null,
   "id": "ac83fdfa-fc3c-43ad-8d23-d448a08fac49",
   "metadata": {},
   "outputs": [],
   "source": []
  },
  {
   "cell_type": "markdown",
   "id": "81839e3e-0dda-4d43-a104-12f3c45c6737",
   "metadata": {},
   "source": [
    "### full Kerr"
   ]
  },
  {
   "cell_type": "code",
   "execution_count": 159,
   "id": "4fbdd2c8-413f-4f77-a3cd-2fdb6193321b",
   "metadata": {
    "execution": {
     "iopub.execute_input": "2023-09-20T04:51:25.853825Z",
     "iopub.status.busy": "2023-09-20T04:51:25.853136Z",
     "iopub.status.idle": "2023-09-20T04:51:28.066580Z",
     "shell.execute_reply": "2023-09-20T04:51:28.066148Z",
     "shell.execute_reply.started": "2023-09-20T04:51:25.853766Z"
    },
    "tags": []
   },
   "outputs": [
    {
     "name": "stdout",
     "output_type": "stream",
     "text": [
      "72*eta*g4**2*omega_a*phi_a**2*phi_b**4*w_d*conjugate(eta)/(omega_a**3 + 6*omega_a**2*omega_b + 3*omega_a**2*w_d + 12*omega_a*omega_b**2 + 12*omega_a*omega_b*w_d + 3*omega_a*w_d**2 + 8*omega_b**3 + 12*omega_b**2*w_d + 6*omega_b*w_d**2 + w_d**3) - 72*eta*g4**2*omega_a*phi_a**2*phi_b**4*w_d*conjugate(eta)/(omega_a**3 + 6*omega_a**2*omega_b - 3*omega_a**2*w_d + 12*omega_a*omega_b**2 - 12*omega_a*omega_b*w_d + 3*omega_a*w_d**2 + 8*omega_b**3 - 12*omega_b**2*w_d + 6*omega_b*w_d**2 - w_d**3) + 72*eta*g4**2*omega_a*phi_a**2*phi_b**4*w_d*conjugate(eta)/(omega_a**3 - 6*omega_a**2*omega_b + 3*omega_a**2*w_d + 12*omega_a*omega_b**2 - 12*omega_a*omega_b*w_d + 3*omega_a*w_d**2 - 8*omega_b**3 + 12*omega_b**2*w_d - 6*omega_b*w_d**2 + w_d**3) + 72*eta*g4**2*omega_a*phi_a**2*phi_b**4*w_d*conjugate(eta)/(-omega_a**3 + 6*omega_a**2*omega_b + 3*omega_a**2*w_d - 12*omega_a*omega_b**2 - 12*omega_a*omega_b*w_d - 3*omega_a*w_d**2 + 8*omega_b**3 + 12*omega_b**2*w_d + 6*omega_b*w_d**2 + w_d**3) + 288*eta*g4**2*omega_a*phi_a**2*phi_b**4*w_d*conjugate(eta)/(omega_a**3 + 3*omega_a**2*w_d + 3*omega_a*w_d**2 + w_d**3) - 288*eta*g4**2*omega_a*phi_a**2*phi_b**4*w_d*conjugate(eta)/(omega_a**3 - 3*omega_a**2*w_d + 3*omega_a*w_d**2 - w_d**3) + 144*eta*g4**2*omega_a*phi_a**2*phi_b**4*conjugate(eta)/(omega_a**2 + 4*omega_a*omega_b + 2*omega_a*w_d + 4*omega_b**2 + 4*omega_b*w_d + w_d**2) + 144*eta*g4**2*omega_a*phi_a**2*phi_b**4*conjugate(eta)/(omega_a**2 + 4*omega_a*omega_b - 2*omega_a*w_d + 4*omega_b**2 - 4*omega_b*w_d + w_d**2) + 144*eta*g4**2*omega_a*phi_a**2*phi_b**4*conjugate(eta)/(omega_a**2 - 4*omega_a*omega_b + 2*omega_a*w_d + 4*omega_b**2 - 4*omega_b*w_d + w_d**2) + 144*eta*g4**2*omega_a*phi_a**2*phi_b**4*conjugate(eta)/(omega_a**2 - 4*omega_a*omega_b - 2*omega_a*w_d + 4*omega_b**2 + 4*omega_b*w_d + w_d**2) + 576*eta*g4**2*omega_a*phi_a**2*phi_b**4*conjugate(eta)/(omega_a**2 + 2*omega_a*w_d + w_d**2) + 576*eta*g4**2*omega_a*phi_a**2*phi_b**4*conjugate(eta)/(omega_a**2 - 2*omega_a*w_d + w_d**2) + 576*eta*g4**2*omega_a*phi_a**2*phi_b**4*conjugate(eta)/(omega_a**2 + 2*omega_a*omega_b + omega_b**2) + 576*eta*g4**2*omega_a*phi_a**2*phi_b**4*conjugate(eta)/(omega_a**2 - 2*omega_a*omega_b + omega_b**2) + 144*eta*g4**2*omega_b*phi_a**2*phi_b**4*w_d*conjugate(eta)/(omega_a**3 + 6*omega_a**2*omega_b + 3*omega_a**2*w_d + 12*omega_a*omega_b**2 + 12*omega_a*omega_b*w_d + 3*omega_a*w_d**2 + 8*omega_b**3 + 12*omega_b**2*w_d + 6*omega_b*w_d**2 + w_d**3) - 144*eta*g4**2*omega_b*phi_a**2*phi_b**4*w_d*conjugate(eta)/(omega_a**3 + 6*omega_a**2*omega_b - 3*omega_a**2*w_d + 12*omega_a*omega_b**2 - 12*omega_a*omega_b*w_d + 3*omega_a*w_d**2 + 8*omega_b**3 - 12*omega_b**2*w_d + 6*omega_b*w_d**2 - w_d**3) - 144*eta*g4**2*omega_b*phi_a**2*phi_b**4*w_d*conjugate(eta)/(omega_a**3 - 6*omega_a**2*omega_b + 3*omega_a**2*w_d + 12*omega_a*omega_b**2 - 12*omega_a*omega_b*w_d + 3*omega_a*w_d**2 - 8*omega_b**3 + 12*omega_b**2*w_d - 6*omega_b*w_d**2 + w_d**3) + 144*eta*g4**2*omega_b*phi_a**2*phi_b**4*w_d*conjugate(eta)/(omega_a**3 - 6*omega_a**2*omega_b - 3*omega_a**2*w_d + 12*omega_a*omega_b**2 + 12*omega_a*omega_b*w_d + 3*omega_a*w_d**2 - 8*omega_b**3 - 12*omega_b**2*w_d - 6*omega_b*w_d**2 - w_d**3) + 288*eta*g4**2*omega_b*phi_a**2*phi_b**4*conjugate(eta)/(omega_a**2 + 4*omega_a*omega_b + 2*omega_a*w_d + 4*omega_b**2 + 4*omega_b*w_d + w_d**2) + 288*eta*g4**2*omega_b*phi_a**2*phi_b**4*conjugate(eta)/(omega_a**2 + 4*omega_a*omega_b - 2*omega_a*w_d + 4*omega_b**2 - 4*omega_b*w_d + w_d**2) - 288*eta*g4**2*omega_b*phi_a**2*phi_b**4*conjugate(eta)/(omega_a**2 - 4*omega_a*omega_b + 2*omega_a*w_d + 4*omega_b**2 - 4*omega_b*w_d + w_d**2) - 288*eta*g4**2*omega_b*phi_a**2*phi_b**4*conjugate(eta)/(omega_a**2 - 4*omega_a*omega_b - 2*omega_a*w_d + 4*omega_b**2 + 4*omega_b*w_d + w_d**2) + 576*eta*g4**2*omega_b*phi_a**2*phi_b**4*conjugate(eta)/(omega_a**2 + 2*omega_a*omega_b + omega_b**2) - 576*eta*g4**2*omega_b*phi_a**2*phi_b**4*conjugate(eta)/(omega_a**2 - 2*omega_a*omega_b + omega_b**2) + 216*eta*g4**2*omega_b*phi_b**6*w_d*conjugate(eta)/(27*omega_b**3 + 27*omega_b**2*w_d + 9*omega_b*w_d**2 + w_d**3) - 216*eta*g4**2*omega_b*phi_b**6*w_d*conjugate(eta)/(27*omega_b**3 - 27*omega_b**2*w_d + 9*omega_b*w_d**2 - w_d**3) + 216*eta*g4**2*omega_b*phi_b**6*w_d*conjugate(eta)/(omega_b**3 + 3*omega_b**2*w_d + 3*omega_b*w_d**2 + w_d**3) - 216*eta*g4**2*omega_b*phi_b**6*w_d*conjugate(eta)/(omega_b**3 - 3*omega_b**2*w_d + 3*omega_b*w_d**2 - w_d**3) + 432*eta*g4**2*omega_b*phi_b**6*conjugate(eta)/(9*omega_b**2 + 6*omega_b*w_d + w_d**2) + 432*eta*g4**2*omega_b*phi_b**6*conjugate(eta)/(9*omega_b**2 - 6*omega_b*w_d + w_d**2) + 432*eta*g4**2*omega_b*phi_b**6*conjugate(eta)/(omega_b**2 + 2*omega_b*w_d + w_d**2) + 432*eta*g4**2*omega_b*phi_b**6*conjugate(eta)/(omega_b**2 - 2*omega_b*w_d + w_d**2) + 144*eta*g4**2*omega_b*phi_b**4*w_d*conjugate(eta)/(8*omega_b**3 + 12*omega_b**2*omega_c + 12*omega_b**2*w_d + 6*omega_b*omega_c**2 + 12*omega_b*omega_c*w_d + 6*omega_b*w_d**2 + omega_c**3 + 3*omega_c**2*w_d + 3*omega_c*w_d**2 + w_d**3) - 144*eta*g4**2*omega_b*phi_b**4*w_d*conjugate(eta)/(8*omega_b**3 + 12*omega_b**2*omega_c - 12*omega_b**2*w_d + 6*omega_b*omega_c**2 - 12*omega_b*omega_c*w_d + 6*omega_b*w_d**2 + omega_c**3 - 3*omega_c**2*w_d + 3*omega_c*w_d**2 - w_d**3) - 144*eta*g4**2*omega_b*phi_b**4*w_d*conjugate(eta)/(8*omega_b**3 - 12*omega_b**2*omega_c + 12*omega_b**2*w_d + 6*omega_b*omega_c**2 - 12*omega_b*omega_c*w_d + 6*omega_b*w_d**2 - omega_c**3 + 3*omega_c**2*w_d - 3*omega_c*w_d**2 + w_d**3) + 144*eta*g4**2*omega_b*phi_b**4*w_d*conjugate(eta)/(8*omega_b**3 - 12*omega_b**2*omega_c - 12*omega_b**2*w_d + 6*omega_b*omega_c**2 + 12*omega_b*omega_c*w_d + 6*omega_b*w_d**2 - omega_c**3 - 3*omega_c**2*w_d - 3*omega_c*w_d**2 - w_d**3) + 288*eta*g4**2*omega_b*phi_b**4*conjugate(eta)/(4*omega_b**2 + 4*omega_b*omega_c + 4*omega_b*w_d + omega_c**2 + 2*omega_c*w_d + w_d**2) + 288*eta*g4**2*omega_b*phi_b**4*conjugate(eta)/(4*omega_b**2 + 4*omega_b*omega_c - 4*omega_b*w_d + omega_c**2 - 2*omega_c*w_d + w_d**2) - 288*eta*g4**2*omega_b*phi_b**4*conjugate(eta)/(4*omega_b**2 - 4*omega_b*omega_c + 4*omega_b*w_d + omega_c**2 - 2*omega_c*w_d + w_d**2) - 288*eta*g4**2*omega_b*phi_b**4*conjugate(eta)/(4*omega_b**2 - 4*omega_b*omega_c - 4*omega_b*w_d + omega_c**2 + 2*omega_c*w_d + w_d**2) + 576*eta*g4**2*omega_b*phi_b**4*conjugate(eta)/(omega_b**2 + 2*omega_b*omega_c + omega_c**2) - 576*eta*g4**2*omega_b*phi_b**4*conjugate(eta)/(omega_b**2 - 2*omega_b*omega_c + omega_c**2) + 72*eta*g4**2*omega_c*phi_b**4*w_d*conjugate(eta)/(8*omega_b**3 + 12*omega_b**2*omega_c + 12*omega_b**2*w_d + 6*omega_b*omega_c**2 + 12*omega_b*omega_c*w_d + 6*omega_b*w_d**2 + omega_c**3 + 3*omega_c**2*w_d + 3*omega_c*w_d**2 + w_d**3) - 72*eta*g4**2*omega_c*phi_b**4*w_d*conjugate(eta)/(8*omega_b**3 + 12*omega_b**2*omega_c - 12*omega_b**2*w_d + 6*omega_b*omega_c**2 - 12*omega_b*omega_c*w_d + 6*omega_b*w_d**2 + omega_c**3 - 3*omega_c**2*w_d + 3*omega_c*w_d**2 - w_d**3) + 72*eta*g4**2*omega_c*phi_b**4*w_d*conjugate(eta)/(8*omega_b**3 - 12*omega_b**2*omega_c + 12*omega_b**2*w_d + 6*omega_b*omega_c**2 - 12*omega_b*omega_c*w_d + 6*omega_b*w_d**2 - omega_c**3 + 3*omega_c**2*w_d - 3*omega_c*w_d**2 + w_d**3) + 72*eta*g4**2*omega_c*phi_b**4*w_d*conjugate(eta)/(-8*omega_b**3 + 12*omega_b**2*omega_c + 12*omega_b**2*w_d - 6*omega_b*omega_c**2 - 12*omega_b*omega_c*w_d - 6*omega_b*w_d**2 + omega_c**3 + 3*omega_c**2*w_d + 3*omega_c*w_d**2 + w_d**3) + 288*eta*g4**2*omega_c*phi_b**4*w_d*conjugate(eta)/(omega_c**3 + 3*omega_c**2*w_d + 3*omega_c*w_d**2 + w_d**3) - 288*eta*g4**2*omega_c*phi_b**4*w_d*conjugate(eta)/(omega_c**3 - 3*omega_c**2*w_d + 3*omega_c*w_d**2 - w_d**3) + 144*eta*g4**2*omega_c*phi_b**4*conjugate(eta)/(4*omega_b**2 + 4*omega_b*omega_c + 4*omega_b*w_d + omega_c**2 + 2*omega_c*w_d + w_d**2) + 144*eta*g4**2*omega_c*phi_b**4*conjugate(eta)/(4*omega_b**2 + 4*omega_b*omega_c - 4*omega_b*w_d + omega_c**2 - 2*omega_c*w_d + w_d**2) + 144*eta*g4**2*omega_c*phi_b**4*conjugate(eta)/(4*omega_b**2 - 4*omega_b*omega_c + 4*omega_b*w_d + omega_c**2 - 2*omega_c*w_d + w_d**2) + 144*eta*g4**2*omega_c*phi_b**4*conjugate(eta)/(4*omega_b**2 - 4*omega_b*omega_c - 4*omega_b*w_d + omega_c**2 + 2*omega_c*w_d + w_d**2) + 576*eta*g4**2*omega_c*phi_b**4*conjugate(eta)/(omega_c**2 + 2*omega_c*w_d + w_d**2) + 576*eta*g4**2*omega_c*phi_b**4*conjugate(eta)/(omega_c**2 - 2*omega_c*w_d + w_d**2) + 576*eta*g4**2*omega_c*phi_b**4*conjugate(eta)/(omega_b**2 + 2*omega_b*omega_c + omega_c**2) + 576*eta*g4**2*omega_c*phi_b**4*conjugate(eta)/(omega_b**2 - 2*omega_b*omega_c + omega_c**2) + 72*eta*g4**2*phi_a**2*phi_b**4*w_d**2*conjugate(eta)/(omega_a**3 + 6*omega_a**2*omega_b + 3*omega_a**2*w_d + 12*omega_a*omega_b**2 + 12*omega_a*omega_b*w_d + 3*omega_a*w_d**2 + 8*omega_b**3 + 12*omega_b**2*w_d + 6*omega_b*w_d**2 + w_d**3) + 72*eta*g4**2*phi_a**2*phi_b**4*w_d**2*conjugate(eta)/(omega_a**3 + 6*omega_a**2*omega_b - 3*omega_a**2*w_d + 12*omega_a*omega_b**2 - 12*omega_a*omega_b*w_d + 3*omega_a*w_d**2 + 8*omega_b**3 - 12*omega_b**2*w_d + 6*omega_b*w_d**2 - w_d**3) + 72*eta*g4**2*phi_a**2*phi_b**4*w_d**2*conjugate(eta)/(omega_a**3 - 6*omega_a**2*omega_b + 3*omega_a**2*w_d + 12*omega_a*omega_b**2 - 12*omega_a*omega_b*w_d + 3*omega_a*w_d**2 - 8*omega_b**3 + 12*omega_b**2*w_d - 6*omega_b*w_d**2 + w_d**3) + 72*eta*g4**2*phi_a**2*phi_b**4*w_d**2*conjugate(eta)/(omega_a**3 - 6*omega_a**2*omega_b - 3*omega_a**2*w_d + 12*omega_a*omega_b**2 + 12*omega_a*omega_b*w_d + 3*omega_a*w_d**2 - 8*omega_b**3 - 12*omega_b**2*w_d - 6*omega_b*w_d**2 - w_d**3) + 288*eta*g4**2*phi_a**2*phi_b**4*w_d**2*conjugate(eta)/(omega_a**3 + 3*omega_a**2*w_d + 3*omega_a*w_d**2 + w_d**3) + 288*eta*g4**2*phi_a**2*phi_b**4*w_d**2*conjugate(eta)/(omega_a**3 - 3*omega_a**2*w_d + 3*omega_a*w_d**2 - w_d**3) + 72*eta*g4**2*phi_a**2*phi_b**4*w_d*conjugate(eta)/(omega_a**2 + 4*omega_a*omega_b + 2*omega_a*w_d + 4*omega_b**2 + 4*omega_b*w_d + w_d**2) - 72*eta*g4**2*phi_a**2*phi_b**4*w_d*conjugate(eta)/(omega_a**2 + 4*omega_a*omega_b - 2*omega_a*w_d + 4*omega_b**2 - 4*omega_b*w_d + w_d**2) + 72*eta*g4**2*phi_a**2*phi_b**4*w_d*conjugate(eta)/(omega_a**2 - 4*omega_a*omega_b + 2*omega_a*w_d + 4*omega_b**2 - 4*omega_b*w_d + w_d**2) - 72*eta*g4**2*phi_a**2*phi_b**4*w_d*conjugate(eta)/(omega_a**2 - 4*omega_a*omega_b - 2*omega_a*w_d + 4*omega_b**2 + 4*omega_b*w_d + w_d**2) + 288*eta*g4**2*phi_a**2*phi_b**4*w_d*conjugate(eta)/(omega_a**2 + 2*omega_a*w_d + w_d**2) - 288*eta*g4**2*phi_a**2*phi_b**4*w_d*conjugate(eta)/(omega_a**2 - 2*omega_a*w_d + w_d**2) - 288*eta*g4**2*phi_a**2*phi_b**4*conjugate(eta)/(omega_a + 2*omega_b + w_d) - 288*eta*g4**2*phi_a**2*phi_b**4*conjugate(eta)/(omega_a + 2*omega_b - w_d) - 288*eta*g4**2*phi_a**2*phi_b**4*conjugate(eta)/(omega_a - 2*omega_b + w_d) + 288*eta*g4**2*phi_a**2*phi_b**4*conjugate(eta)/(-omega_a + 2*omega_b + w_d) - 1152*eta*g4**2*phi_a**2*phi_b**4*conjugate(eta)/(omega_a + w_d) - 1152*eta*g4**2*phi_a**2*phi_b**4*conjugate(eta)/(omega_a - w_d) - 1152*eta*g4**2*phi_a**2*phi_b**4*conjugate(eta)/(omega_a + omega_b) - 1152*eta*g4**2*phi_a**2*phi_b**4*conjugate(eta)/(omega_a - omega_b) + 72*eta*g4**2*phi_b**6*w_d**2*conjugate(eta)/(27*omega_b**3 + 27*omega_b**2*w_d + 9*omega_b*w_d**2 + w_d**3) + 72*eta*g4**2*phi_b**6*w_d**2*conjugate(eta)/(27*omega_b**3 - 27*omega_b**2*w_d + 9*omega_b*w_d**2 - w_d**3) + 216*eta*g4**2*phi_b**6*w_d**2*conjugate(eta)/(omega_b**3 + 3*omega_b**2*w_d + 3*omega_b*w_d**2 + w_d**3) + 216*eta*g4**2*phi_b**6*w_d**2*conjugate(eta)/(omega_b**3 - 3*omega_b**2*w_d + 3*omega_b*w_d**2 - w_d**3) + 72*eta*g4**2*phi_b**6*w_d*conjugate(eta)/(9*omega_b**2 + 6*omega_b*w_d + w_d**2) - 72*eta*g4**2*phi_b**6*w_d*conjugate(eta)/(9*omega_b**2 - 6*omega_b*w_d + w_d**2) + 216*eta*g4**2*phi_b**6*w_d*conjugate(eta)/(omega_b**2 + 2*omega_b*w_d + w_d**2) - 216*eta*g4**2*phi_b**6*w_d*conjugate(eta)/(omega_b**2 - 2*omega_b*w_d + w_d**2) - 288*eta*g4**2*phi_b**6*conjugate(eta)/(3*omega_b + w_d) - 288*eta*g4**2*phi_b**6*conjugate(eta)/(3*omega_b - w_d) - 864*eta*g4**2*phi_b**6*conjugate(eta)/(omega_b + w_d) - 864*eta*g4**2*phi_b**6*conjugate(eta)/(omega_b - w_d) + 72*eta*g4**2*phi_b**4*w_d**2*conjugate(eta)/(8*omega_b**3 + 12*omega_b**2*omega_c + 12*omega_b**2*w_d + 6*omega_b*omega_c**2 + 12*omega_b*omega_c*w_d + 6*omega_b*w_d**2 + omega_c**3 + 3*omega_c**2*w_d + 3*omega_c*w_d**2 + w_d**3) + 72*eta*g4**2*phi_b**4*w_d**2*conjugate(eta)/(8*omega_b**3 + 12*omega_b**2*omega_c - 12*omega_b**2*w_d + 6*omega_b*omega_c**2 - 12*omega_b*omega_c*w_d + 6*omega_b*w_d**2 + omega_c**3 - 3*omega_c**2*w_d + 3*omega_c*w_d**2 - w_d**3) - 72*eta*g4**2*phi_b**4*w_d**2*conjugate(eta)/(8*omega_b**3 - 12*omega_b**2*omega_c + 12*omega_b**2*w_d + 6*omega_b*omega_c**2 - 12*omega_b*omega_c*w_d + 6*omega_b*w_d**2 - omega_c**3 + 3*omega_c**2*w_d - 3*omega_c*w_d**2 + w_d**3) + 72*eta*g4**2*phi_b**4*w_d**2*conjugate(eta)/(-8*omega_b**3 + 12*omega_b**2*omega_c + 12*omega_b**2*w_d - 6*omega_b*omega_c**2 - 12*omega_b*omega_c*w_d - 6*omega_b*w_d**2 + omega_c**3 + 3*omega_c**2*w_d + 3*omega_c*w_d**2 + w_d**3) + 288*eta*g4**2*phi_b**4*w_d**2*conjugate(eta)/(omega_c**3 + 3*omega_c**2*w_d + 3*omega_c*w_d**2 + w_d**3) + 288*eta*g4**2*phi_b**4*w_d**2*conjugate(eta)/(omega_c**3 - 3*omega_c**2*w_d + 3*omega_c*w_d**2 - w_d**3) + 72*eta*g4**2*phi_b**4*w_d*conjugate(eta)/(4*omega_b**2 + 4*omega_b*omega_c + 4*omega_b*w_d + omega_c**2 + 2*omega_c*w_d + w_d**2) - 72*eta*g4**2*phi_b**4*w_d*conjugate(eta)/(4*omega_b**2 + 4*omega_b*omega_c - 4*omega_b*w_d + omega_c**2 - 2*omega_c*w_d + w_d**2) - 72*eta*g4**2*phi_b**4*w_d*conjugate(eta)/(4*omega_b**2 - 4*omega_b*omega_c + 4*omega_b*w_d + omega_c**2 - 2*omega_c*w_d + w_d**2) + 72*eta*g4**2*phi_b**4*w_d*conjugate(eta)/(4*omega_b**2 - 4*omega_b*omega_c - 4*omega_b*w_d + omega_c**2 + 2*omega_c*w_d + w_d**2) + 288*eta*g4**2*phi_b**4*w_d*conjugate(eta)/(omega_c**2 + 2*omega_c*w_d + w_d**2) - 288*eta*g4**2*phi_b**4*w_d*conjugate(eta)/(omega_c**2 - 2*omega_c*w_d + w_d**2) - 288*eta*g4**2*phi_b**4*conjugate(eta)/(2*omega_b + omega_c + w_d) - 288*eta*g4**2*phi_b**4*conjugate(eta)/(2*omega_b + omega_c - w_d) + 288*eta*g4**2*phi_b**4*conjugate(eta)/(2*omega_b - omega_c + w_d) + 288*eta*g4**2*phi_b**4*conjugate(eta)/(2*omega_b - omega_c - w_d) - 1152*eta*g4**2*phi_b**4*conjugate(eta)/(omega_c + w_d) - 1152*eta*g4**2*phi_b**4*conjugate(eta)/(omega_c - w_d) - 1152*eta*g4**2*phi_b**4*conjugate(eta)/(omega_b + omega_c) + 1152*eta*g4**2*phi_b**4*conjugate(eta)/(omega_b - omega_c) - 288*eta*g4**2*phi_b**6*conjugate(eta)/omega_b + 9*g3**2*omega_a*phi_a**2*phi_b**4/(omega_a**2 + 4*omega_a*omega_b + 4*omega_b**2) + 9*g3**2*omega_a*phi_a**2*phi_b**4/(omega_a**2 - 4*omega_a*omega_b + 4*omega_b**2) + 18*g3**2*omega_b*phi_a**2*phi_b**4/(omega_a**2 + 4*omega_a*omega_b + 4*omega_b**2) - 18*g3**2*omega_b*phi_a**2*phi_b**4/(omega_a**2 - 4*omega_a*omega_b + 4*omega_b**2) + 18*g3**2*omega_b*phi_b**4/(4*omega_b**2 + 4*omega_b*omega_c + omega_c**2) - 18*g3**2*omega_b*phi_b**4/(4*omega_b**2 - 4*omega_b*omega_c + omega_c**2) + 9*g3**2*omega_c*phi_b**4/(4*omega_b**2 + 4*omega_b*omega_c + omega_c**2) + 9*g3**2*omega_c*phi_b**4/(4*omega_b**2 - 4*omega_b*omega_c + omega_c**2) - 18*g3**2*phi_a**2*phi_b**4/(omega_a + 2*omega_b) - 18*g3**2*phi_a**2*phi_b**4/(omega_a - 2*omega_b) - 18*g3**2*phi_b**4/(2*omega_b + omega_c) + 18*g3**2*phi_b**4/(2*omega_b - omega_c) - 36*g3**2*phi_b**4/omega_c - 30*g3**2*phi_b**6/omega_b - 36*g3**2*phi_a**2*phi_b**4/omega_a + 324*g4**2*omega_a*phi_a**4*phi_b**4/(omega_a**2 + 2*omega_a*omega_b + omega_b**2) + 324*g4**2*omega_a*phi_a**4*phi_b**4/(omega_a**2 - 2*omega_a*omega_b + omega_b**2) + 144*g4**2*omega_a*phi_a**2*phi_b**6/(omega_a**2 + 6*omega_a*omega_b + 9*omega_b**2) + 864*g4**2*omega_a*phi_a**2*phi_b**6/(omega_a**2 + 2*omega_a*omega_b + omega_b**2) + 432*g4**2*omega_a*phi_a**2*phi_b**6/(omega_a**2 - 2*omega_a*omega_b + omega_b**2) + 144*g4**2*omega_a*phi_a**2*phi_b**4/(omega_a**2 + 4*omega_a*omega_b + 2*omega_a*omega_c + 4*omega_b**2 + 4*omega_b*omega_c + omega_c**2) + 144*g4**2*omega_a*phi_a**2*phi_b**4/(omega_a**2 - 4*omega_a*omega_b + 2*omega_a*omega_c + 4*omega_b**2 - 4*omega_b*omega_c + omega_c**2) + 576*g4**2*omega_a*phi_a**2*phi_b**4/(omega_a**2 + 2*omega_a*omega_c + omega_c**2) + 288*g4**2*omega_a*phi_a**2*phi_b**4/(omega_a**2 + 2*omega_a*omega_b + omega_b**2) + 288*g4**2*omega_a*phi_a**2*phi_b**4/(omega_a**2 - 2*omega_a*omega_b + omega_b**2) + 324*g4**2*omega_b*phi_a**4*phi_b**4/(omega_a**2 + 2*omega_a*omega_b + omega_b**2) - 324*g4**2*omega_b*phi_a**4*phi_b**4/(omega_a**2 - 2*omega_a*omega_b + omega_b**2) + 432*g4**2*omega_b*phi_a**2*phi_b**6/(omega_a**2 + 6*omega_a*omega_b + 9*omega_b**2) + 864*g4**2*omega_b*phi_a**2*phi_b**6/(omega_a**2 + 2*omega_a*omega_b + omega_b**2) - 432*g4**2*omega_b*phi_a**2*phi_b**6/(omega_a**2 - 2*omega_a*omega_b + omega_b**2) + 288*g4**2*omega_b*phi_a**2*phi_b**4/(omega_a**2 + 4*omega_a*omega_b + 2*omega_a*omega_c + 4*omega_b**2 + 4*omega_b*omega_c + omega_c**2) - 288*g4**2*omega_b*phi_a**2*phi_b**4/(omega_a**2 - 4*omega_a*omega_b + 2*omega_a*omega_c + 4*omega_b**2 - 4*omega_b*omega_c + omega_c**2) + 288*g4**2*omega_b*phi_a**2*phi_b**4/(omega_b**2 + 2*omega_b*omega_c + omega_c**2) - 288*g4**2*omega_b*phi_a**2*phi_b**4/(omega_b**2 - 2*omega_b*omega_c + omega_c**2) + 288*g4**2*omega_b*phi_a**2*phi_b**4/(omega_a**2 + 2*omega_a*omega_b + omega_b**2) - 288*g4**2*omega_b*phi_a**2*phi_b**4/(omega_a**2 - 2*omega_a*omega_b + omega_b**2) + 432*g4**2*omega_b*phi_b**6/(9*omega_b**2 + 6*omega_b*omega_c + omega_c**2) + 864*g4**2*omega_b*phi_b**6/(omega_b**2 + 2*omega_b*omega_c + omega_c**2) - 432*g4**2*omega_b*phi_b**6/(omega_b**2 - 2*omega_b*omega_c + omega_c**2) + 324*g4**2*omega_b*phi_b**4/(omega_b**2 + 2*omega_b*omega_c + omega_c**2) - 324*g4**2*omega_b*phi_b**4/(omega_b**2 - 2*omega_b*omega_c + omega_c**2) + 144*g4**2*omega_c*phi_a**2*phi_b**4/(omega_a**2 + 4*omega_a*omega_b + 2*omega_a*omega_c + 4*omega_b**2 + 4*omega_b*omega_c + omega_c**2) + 144*g4**2*omega_c*phi_a**2*phi_b**4/(omega_a**2 - 4*omega_a*omega_b + 2*omega_a*omega_c + 4*omega_b**2 - 4*omega_b*omega_c + omega_c**2) + 288*g4**2*omega_c*phi_a**2*phi_b**4/(omega_b**2 + 2*omega_b*omega_c + omega_c**2) + 288*g4**2*omega_c*phi_a**2*phi_b**4/(omega_b**2 - 2*omega_b*omega_c + omega_c**2) + 576*g4**2*omega_c*phi_a**2*phi_b**4/(omega_a**2 + 2*omega_a*omega_c + omega_c**2) + 144*g4**2*omega_c*phi_b**6/(9*omega_b**2 + 6*omega_b*omega_c + omega_c**2) + 864*g4**2*omega_c*phi_b**6/(omega_b**2 + 2*omega_b*omega_c + omega_c**2) + 432*g4**2*omega_c*phi_b**6/(omega_b**2 - 2*omega_b*omega_c + omega_c**2) + 324*g4**2*omega_c*phi_b**4/(omega_b**2 + 2*omega_b*omega_c + omega_c**2) + 324*g4**2*omega_c*phi_b**4/(omega_b**2 - 2*omega_b*omega_c + omega_c**2) - 648*g4**2*phi_a**4*phi_b**4/(omega_a + omega_b) - 648*g4**2*phi_a**4*phi_b**4/(omega_a - omega_b) - 288*g4**2*phi_a**2*phi_b**6/(omega_a + 3*omega_b) - 1728*g4**2*phi_a**2*phi_b**6/(omega_a + omega_b) - 864*g4**2*phi_a**2*phi_b**6/(omega_a - omega_b) - 288*g4**2*phi_a**2*phi_b**4/(omega_a + 2*omega_b + omega_c) - 288*g4**2*phi_a**2*phi_b**4/(omega_a - 2*omega_b + omega_c) - 576*g4**2*phi_a**2*phi_b**4/(omega_b + omega_c) + 576*g4**2*phi_a**2*phi_b**4/(omega_b - omega_c) - 1152*g4**2*phi_a**2*phi_b**4/(omega_a + omega_c) - 576*g4**2*phi_a**2*phi_b**4/(omega_a + omega_b) - 576*g4**2*phi_a**2*phi_b**4/(omega_a - omega_b) - 288*g4**2*phi_b**6/(3*omega_b + omega_c) - 1728*g4**2*phi_b**6/(omega_b + omega_c) + 864*g4**2*phi_b**6/(omega_b - omega_c) - 648*g4**2*phi_b**4/(omega_b + omega_c) + 648*g4**2*phi_b**4/(omega_b - omega_c) - 144*g4**2*phi_b**4/omega_c - 144*g4**2*phi_a**2*phi_b**6/omega_b - 306*g4**2*phi_b**8/omega_b - 144*g4**2*phi_b**6/omega_b - 144*g4**2*phi_a**4*phi_b**4/omega_a\n"
     ]
    }
   ],
   "source": [
    "temp = 0\n",
    "for term in ham_b.args:\n",
    "    temp += sp.simplify(term.coeff(bd**2*b**2))\n",
    "print(temp)"
   ]
  },
  {
   "cell_type": "code",
   "execution_count": 157,
   "id": "5b00b784-1ae7-4247-a2fb-faeef1465796",
   "metadata": {
    "execution": {
     "iopub.execute_input": "2023-09-20T04:45:52.702638Z",
     "iopub.status.busy": "2023-09-20T04:45:52.702000Z",
     "iopub.status.idle": "2023-09-20T04:45:54.822021Z",
     "shell.execute_reply": "2023-09-20T04:45:54.821693Z",
     "shell.execute_reply.started": "2023-09-20T04:45:52.702597Z"
    },
    "tags": []
   },
   "outputs": [
    {
     "name": "stdout",
     "output_type": "stream",
     "text": [
      "216*eta*g4**2*omega_a*phi_a**6*w_d*conjugate(eta)/(27*omega_a**3 + 27*omega_a**2*w_d + 9*omega_a*w_d**2 + w_d**3) - 216*eta*g4**2*omega_a*phi_a**6*w_d*conjugate(eta)/(27*omega_a**3 - 27*omega_a**2*w_d + 9*omega_a*w_d**2 - w_d**3) + 216*eta*g4**2*omega_a*phi_a**6*w_d*conjugate(eta)/(omega_a**3 + 3*omega_a**2*w_d + 3*omega_a*w_d**2 + w_d**3) - 216*eta*g4**2*omega_a*phi_a**6*w_d*conjugate(eta)/(omega_a**3 - 3*omega_a**2*w_d + 3*omega_a*w_d**2 - w_d**3) + 432*eta*g4**2*omega_a*phi_a**6*conjugate(eta)/(9*omega_a**2 + 6*omega_a*w_d + w_d**2) + 432*eta*g4**2*omega_a*phi_a**6*conjugate(eta)/(9*omega_a**2 - 6*omega_a*w_d + w_d**2) + 432*eta*g4**2*omega_a*phi_a**6*conjugate(eta)/(omega_a**2 + 2*omega_a*w_d + w_d**2) + 432*eta*g4**2*omega_a*phi_a**6*conjugate(eta)/(omega_a**2 - 2*omega_a*w_d + w_d**2) + 144*eta*g4**2*omega_a*phi_a**4*phi_b**2*w_d*conjugate(eta)/(8*omega_a**3 + 12*omega_a**2*omega_b + 12*omega_a**2*w_d + 6*omega_a*omega_b**2 + 12*omega_a*omega_b*w_d + 6*omega_a*w_d**2 + omega_b**3 + 3*omega_b**2*w_d + 3*omega_b*w_d**2 + w_d**3) - 144*eta*g4**2*omega_a*phi_a**4*phi_b**2*w_d*conjugate(eta)/(8*omega_a**3 + 12*omega_a**2*omega_b - 12*omega_a**2*w_d + 6*omega_a*omega_b**2 - 12*omega_a*omega_b*w_d + 6*omega_a*w_d**2 + omega_b**3 - 3*omega_b**2*w_d + 3*omega_b*w_d**2 - w_d**3) - 144*eta*g4**2*omega_a*phi_a**4*phi_b**2*w_d*conjugate(eta)/(8*omega_a**3 - 12*omega_a**2*omega_b + 12*omega_a**2*w_d + 6*omega_a*omega_b**2 - 12*omega_a*omega_b*w_d + 6*omega_a*w_d**2 - omega_b**3 + 3*omega_b**2*w_d - 3*omega_b*w_d**2 + w_d**3) + 144*eta*g4**2*omega_a*phi_a**4*phi_b**2*w_d*conjugate(eta)/(8*omega_a**3 - 12*omega_a**2*omega_b - 12*omega_a**2*w_d + 6*omega_a*omega_b**2 + 12*omega_a*omega_b*w_d + 6*omega_a*w_d**2 - omega_b**3 - 3*omega_b**2*w_d - 3*omega_b*w_d**2 - w_d**3) + 288*eta*g4**2*omega_a*phi_a**4*phi_b**2*conjugate(eta)/(4*omega_a**2 + 4*omega_a*omega_b + 4*omega_a*w_d + omega_b**2 + 2*omega_b*w_d + w_d**2) + 288*eta*g4**2*omega_a*phi_a**4*phi_b**2*conjugate(eta)/(4*omega_a**2 + 4*omega_a*omega_b - 4*omega_a*w_d + omega_b**2 - 2*omega_b*w_d + w_d**2) - 288*eta*g4**2*omega_a*phi_a**4*phi_b**2*conjugate(eta)/(4*omega_a**2 - 4*omega_a*omega_b + 4*omega_a*w_d + omega_b**2 - 2*omega_b*w_d + w_d**2) - 288*eta*g4**2*omega_a*phi_a**4*phi_b**2*conjugate(eta)/(4*omega_a**2 - 4*omega_a*omega_b - 4*omega_a*w_d + omega_b**2 + 2*omega_b*w_d + w_d**2) + 576*eta*g4**2*omega_a*phi_a**4*phi_b**2*conjugate(eta)/(omega_a**2 + 2*omega_a*omega_b + omega_b**2) - 576*eta*g4**2*omega_a*phi_a**4*phi_b**2*conjugate(eta)/(omega_a**2 - 2*omega_a*omega_b + omega_b**2) + 144*eta*g4**2*omega_a*phi_a**4*w_d*conjugate(eta)/(8*omega_a**3 + 12*omega_a**2*omega_c + 12*omega_a**2*w_d + 6*omega_a*omega_c**2 + 12*omega_a*omega_c*w_d + 6*omega_a*w_d**2 + omega_c**3 + 3*omega_c**2*w_d + 3*omega_c*w_d**2 + w_d**3) - 144*eta*g4**2*omega_a*phi_a**4*w_d*conjugate(eta)/(8*omega_a**3 + 12*omega_a**2*omega_c - 12*omega_a**2*w_d + 6*omega_a*omega_c**2 - 12*omega_a*omega_c*w_d + 6*omega_a*w_d**2 + omega_c**3 - 3*omega_c**2*w_d + 3*omega_c*w_d**2 - w_d**3) - 144*eta*g4**2*omega_a*phi_a**4*w_d*conjugate(eta)/(8*omega_a**3 - 12*omega_a**2*omega_c + 12*omega_a**2*w_d + 6*omega_a*omega_c**2 - 12*omega_a*omega_c*w_d + 6*omega_a*w_d**2 - omega_c**3 + 3*omega_c**2*w_d - 3*omega_c*w_d**2 + w_d**3) + 144*eta*g4**2*omega_a*phi_a**4*w_d*conjugate(eta)/(8*omega_a**3 - 12*omega_a**2*omega_c - 12*omega_a**2*w_d + 6*omega_a*omega_c**2 + 12*omega_a*omega_c*w_d + 6*omega_a*w_d**2 - omega_c**3 - 3*omega_c**2*w_d - 3*omega_c*w_d**2 - w_d**3) + 288*eta*g4**2*omega_a*phi_a**4*conjugate(eta)/(4*omega_a**2 + 4*omega_a*omega_c + 4*omega_a*w_d + omega_c**2 + 2*omega_c*w_d + w_d**2) + 288*eta*g4**2*omega_a*phi_a**4*conjugate(eta)/(4*omega_a**2 + 4*omega_a*omega_c - 4*omega_a*w_d + omega_c**2 - 2*omega_c*w_d + w_d**2) - 288*eta*g4**2*omega_a*phi_a**4*conjugate(eta)/(4*omega_a**2 - 4*omega_a*omega_c + 4*omega_a*w_d + omega_c**2 - 2*omega_c*w_d + w_d**2) - 288*eta*g4**2*omega_a*phi_a**4*conjugate(eta)/(4*omega_a**2 - 4*omega_a*omega_c - 4*omega_a*w_d + omega_c**2 + 2*omega_c*w_d + w_d**2) + 576*eta*g4**2*omega_a*phi_a**4*conjugate(eta)/(omega_a**2 + 2*omega_a*omega_c + omega_c**2) - 576*eta*g4**2*omega_a*phi_a**4*conjugate(eta)/(omega_a**2 - 2*omega_a*omega_c + omega_c**2) + 72*eta*g4**2*omega_b*phi_a**4*phi_b**2*w_d*conjugate(eta)/(8*omega_a**3 + 12*omega_a**2*omega_b + 12*omega_a**2*w_d + 6*omega_a*omega_b**2 + 12*omega_a*omega_b*w_d + 6*omega_a*w_d**2 + omega_b**3 + 3*omega_b**2*w_d + 3*omega_b*w_d**2 + w_d**3) - 72*eta*g4**2*omega_b*phi_a**4*phi_b**2*w_d*conjugate(eta)/(8*omega_a**3 + 12*omega_a**2*omega_b - 12*omega_a**2*w_d + 6*omega_a*omega_b**2 - 12*omega_a*omega_b*w_d + 6*omega_a*w_d**2 + omega_b**3 - 3*omega_b**2*w_d + 3*omega_b*w_d**2 - w_d**3) + 72*eta*g4**2*omega_b*phi_a**4*phi_b**2*w_d*conjugate(eta)/(8*omega_a**3 - 12*omega_a**2*omega_b + 12*omega_a**2*w_d + 6*omega_a*omega_b**2 - 12*omega_a*omega_b*w_d + 6*omega_a*w_d**2 - omega_b**3 + 3*omega_b**2*w_d - 3*omega_b*w_d**2 + w_d**3) + 72*eta*g4**2*omega_b*phi_a**4*phi_b**2*w_d*conjugate(eta)/(-8*omega_a**3 + 12*omega_a**2*omega_b + 12*omega_a**2*w_d - 6*omega_a*omega_b**2 - 12*omega_a*omega_b*w_d - 6*omega_a*w_d**2 + omega_b**3 + 3*omega_b**2*w_d + 3*omega_b*w_d**2 + w_d**3) + 288*eta*g4**2*omega_b*phi_a**4*phi_b**2*w_d*conjugate(eta)/(omega_b**3 + 3*omega_b**2*w_d + 3*omega_b*w_d**2 + w_d**3) - 288*eta*g4**2*omega_b*phi_a**4*phi_b**2*w_d*conjugate(eta)/(omega_b**3 - 3*omega_b**2*w_d + 3*omega_b*w_d**2 - w_d**3) + 144*eta*g4**2*omega_b*phi_a**4*phi_b**2*conjugate(eta)/(4*omega_a**2 + 4*omega_a*omega_b + 4*omega_a*w_d + omega_b**2 + 2*omega_b*w_d + w_d**2) + 144*eta*g4**2*omega_b*phi_a**4*phi_b**2*conjugate(eta)/(4*omega_a**2 + 4*omega_a*omega_b - 4*omega_a*w_d + omega_b**2 - 2*omega_b*w_d + w_d**2) + 144*eta*g4**2*omega_b*phi_a**4*phi_b**2*conjugate(eta)/(4*omega_a**2 - 4*omega_a*omega_b + 4*omega_a*w_d + omega_b**2 - 2*omega_b*w_d + w_d**2) + 144*eta*g4**2*omega_b*phi_a**4*phi_b**2*conjugate(eta)/(4*omega_a**2 - 4*omega_a*omega_b - 4*omega_a*w_d + omega_b**2 + 2*omega_b*w_d + w_d**2) + 576*eta*g4**2*omega_b*phi_a**4*phi_b**2*conjugate(eta)/(omega_b**2 + 2*omega_b*w_d + w_d**2) + 576*eta*g4**2*omega_b*phi_a**4*phi_b**2*conjugate(eta)/(omega_b**2 - 2*omega_b*w_d + w_d**2) + 576*eta*g4**2*omega_b*phi_a**4*phi_b**2*conjugate(eta)/(omega_a**2 + 2*omega_a*omega_b + omega_b**2) + 576*eta*g4**2*omega_b*phi_a**4*phi_b**2*conjugate(eta)/(omega_a**2 - 2*omega_a*omega_b + omega_b**2) + 72*eta*g4**2*omega_c*phi_a**4*w_d*conjugate(eta)/(8*omega_a**3 + 12*omega_a**2*omega_c + 12*omega_a**2*w_d + 6*omega_a*omega_c**2 + 12*omega_a*omega_c*w_d + 6*omega_a*w_d**2 + omega_c**3 + 3*omega_c**2*w_d + 3*omega_c*w_d**2 + w_d**3) - 72*eta*g4**2*omega_c*phi_a**4*w_d*conjugate(eta)/(8*omega_a**3 + 12*omega_a**2*omega_c - 12*omega_a**2*w_d + 6*omega_a*omega_c**2 - 12*omega_a*omega_c*w_d + 6*omega_a*w_d**2 + omega_c**3 - 3*omega_c**2*w_d + 3*omega_c*w_d**2 - w_d**3) + 72*eta*g4**2*omega_c*phi_a**4*w_d*conjugate(eta)/(8*omega_a**3 - 12*omega_a**2*omega_c + 12*omega_a**2*w_d + 6*omega_a*omega_c**2 - 12*omega_a*omega_c*w_d + 6*omega_a*w_d**2 - omega_c**3 + 3*omega_c**2*w_d - 3*omega_c*w_d**2 + w_d**3) + 72*eta*g4**2*omega_c*phi_a**4*w_d*conjugate(eta)/(-8*omega_a**3 + 12*omega_a**2*omega_c + 12*omega_a**2*w_d - 6*omega_a*omega_c**2 - 12*omega_a*omega_c*w_d - 6*omega_a*w_d**2 + omega_c**3 + 3*omega_c**2*w_d + 3*omega_c*w_d**2 + w_d**3) + 288*eta*g4**2*omega_c*phi_a**4*w_d*conjugate(eta)/(omega_c**3 + 3*omega_c**2*w_d + 3*omega_c*w_d**2 + w_d**3) - 288*eta*g4**2*omega_c*phi_a**4*w_d*conjugate(eta)/(omega_c**3 - 3*omega_c**2*w_d + 3*omega_c*w_d**2 - w_d**3) + 144*eta*g4**2*omega_c*phi_a**4*conjugate(eta)/(4*omega_a**2 + 4*omega_a*omega_c + 4*omega_a*w_d + omega_c**2 + 2*omega_c*w_d + w_d**2) + 144*eta*g4**2*omega_c*phi_a**4*conjugate(eta)/(4*omega_a**2 + 4*omega_a*omega_c - 4*omega_a*w_d + omega_c**2 - 2*omega_c*w_d + w_d**2) + 144*eta*g4**2*omega_c*phi_a**4*conjugate(eta)/(4*omega_a**2 - 4*omega_a*omega_c + 4*omega_a*w_d + omega_c**2 - 2*omega_c*w_d + w_d**2) + 144*eta*g4**2*omega_c*phi_a**4*conjugate(eta)/(4*omega_a**2 - 4*omega_a*omega_c - 4*omega_a*w_d + omega_c**2 + 2*omega_c*w_d + w_d**2) + 576*eta*g4**2*omega_c*phi_a**4*conjugate(eta)/(omega_c**2 + 2*omega_c*w_d + w_d**2) + 576*eta*g4**2*omega_c*phi_a**4*conjugate(eta)/(omega_c**2 - 2*omega_c*w_d + w_d**2) + 576*eta*g4**2*omega_c*phi_a**4*conjugate(eta)/(omega_a**2 + 2*omega_a*omega_c + omega_c**2) + 576*eta*g4**2*omega_c*phi_a**4*conjugate(eta)/(omega_a**2 - 2*omega_a*omega_c + omega_c**2) + 72*eta*g4**2*phi_a**6*w_d**2*conjugate(eta)/(27*omega_a**3 + 27*omega_a**2*w_d + 9*omega_a*w_d**2 + w_d**3) + 72*eta*g4**2*phi_a**6*w_d**2*conjugate(eta)/(27*omega_a**3 - 27*omega_a**2*w_d + 9*omega_a*w_d**2 - w_d**3) + 216*eta*g4**2*phi_a**6*w_d**2*conjugate(eta)/(omega_a**3 + 3*omega_a**2*w_d + 3*omega_a*w_d**2 + w_d**3) + 216*eta*g4**2*phi_a**6*w_d**2*conjugate(eta)/(omega_a**3 - 3*omega_a**2*w_d + 3*omega_a*w_d**2 - w_d**3) + 72*eta*g4**2*phi_a**6*w_d*conjugate(eta)/(9*omega_a**2 + 6*omega_a*w_d + w_d**2) - 72*eta*g4**2*phi_a**6*w_d*conjugate(eta)/(9*omega_a**2 - 6*omega_a*w_d + w_d**2) + 216*eta*g4**2*phi_a**6*w_d*conjugate(eta)/(omega_a**2 + 2*omega_a*w_d + w_d**2) - 216*eta*g4**2*phi_a**6*w_d*conjugate(eta)/(omega_a**2 - 2*omega_a*w_d + w_d**2) - 288*eta*g4**2*phi_a**6*conjugate(eta)/(3*omega_a + w_d) - 288*eta*g4**2*phi_a**6*conjugate(eta)/(3*omega_a - w_d) - 864*eta*g4**2*phi_a**6*conjugate(eta)/(omega_a + w_d) - 864*eta*g4**2*phi_a**6*conjugate(eta)/(omega_a - w_d) + 72*eta*g4**2*phi_a**4*phi_b**2*w_d**2*conjugate(eta)/(8*omega_a**3 + 12*omega_a**2*omega_b + 12*omega_a**2*w_d + 6*omega_a*omega_b**2 + 12*omega_a*omega_b*w_d + 6*omega_a*w_d**2 + omega_b**3 + 3*omega_b**2*w_d + 3*omega_b*w_d**2 + w_d**3) + 72*eta*g4**2*phi_a**4*phi_b**2*w_d**2*conjugate(eta)/(8*omega_a**3 + 12*omega_a**2*omega_b - 12*omega_a**2*w_d + 6*omega_a*omega_b**2 - 12*omega_a*omega_b*w_d + 6*omega_a*w_d**2 + omega_b**3 - 3*omega_b**2*w_d + 3*omega_b*w_d**2 - w_d**3) - 72*eta*g4**2*phi_a**4*phi_b**2*w_d**2*conjugate(eta)/(8*omega_a**3 - 12*omega_a**2*omega_b + 12*omega_a**2*w_d + 6*omega_a*omega_b**2 - 12*omega_a*omega_b*w_d + 6*omega_a*w_d**2 - omega_b**3 + 3*omega_b**2*w_d - 3*omega_b*w_d**2 + w_d**3) + 72*eta*g4**2*phi_a**4*phi_b**2*w_d**2*conjugate(eta)/(-8*omega_a**3 + 12*omega_a**2*omega_b + 12*omega_a**2*w_d - 6*omega_a*omega_b**2 - 12*omega_a*omega_b*w_d - 6*omega_a*w_d**2 + omega_b**3 + 3*omega_b**2*w_d + 3*omega_b*w_d**2 + w_d**3) + 288*eta*g4**2*phi_a**4*phi_b**2*w_d**2*conjugate(eta)/(omega_b**3 + 3*omega_b**2*w_d + 3*omega_b*w_d**2 + w_d**3) + 288*eta*g4**2*phi_a**4*phi_b**2*w_d**2*conjugate(eta)/(omega_b**3 - 3*omega_b**2*w_d + 3*omega_b*w_d**2 - w_d**3) + 72*eta*g4**2*phi_a**4*phi_b**2*w_d*conjugate(eta)/(4*omega_a**2 + 4*omega_a*omega_b + 4*omega_a*w_d + omega_b**2 + 2*omega_b*w_d + w_d**2) - 72*eta*g4**2*phi_a**4*phi_b**2*w_d*conjugate(eta)/(4*omega_a**2 + 4*omega_a*omega_b - 4*omega_a*w_d + omega_b**2 - 2*omega_b*w_d + w_d**2) - 72*eta*g4**2*phi_a**4*phi_b**2*w_d*conjugate(eta)/(4*omega_a**2 - 4*omega_a*omega_b + 4*omega_a*w_d + omega_b**2 - 2*omega_b*w_d + w_d**2) + 72*eta*g4**2*phi_a**4*phi_b**2*w_d*conjugate(eta)/(4*omega_a**2 - 4*omega_a*omega_b - 4*omega_a*w_d + omega_b**2 + 2*omega_b*w_d + w_d**2) + 288*eta*g4**2*phi_a**4*phi_b**2*w_d*conjugate(eta)/(omega_b**2 + 2*omega_b*w_d + w_d**2) - 288*eta*g4**2*phi_a**4*phi_b**2*w_d*conjugate(eta)/(omega_b**2 - 2*omega_b*w_d + w_d**2) - 288*eta*g4**2*phi_a**4*phi_b**2*conjugate(eta)/(2*omega_a + omega_b + w_d) - 288*eta*g4**2*phi_a**4*phi_b**2*conjugate(eta)/(2*omega_a + omega_b - w_d) + 288*eta*g4**2*phi_a**4*phi_b**2*conjugate(eta)/(2*omega_a - omega_b + w_d) + 288*eta*g4**2*phi_a**4*phi_b**2*conjugate(eta)/(2*omega_a - omega_b - w_d) - 1152*eta*g4**2*phi_a**4*phi_b**2*conjugate(eta)/(omega_b + w_d) - 1152*eta*g4**2*phi_a**4*phi_b**2*conjugate(eta)/(omega_b - w_d) - 1152*eta*g4**2*phi_a**4*phi_b**2*conjugate(eta)/(omega_a + omega_b) + 1152*eta*g4**2*phi_a**4*phi_b**2*conjugate(eta)/(omega_a - omega_b) + 72*eta*g4**2*phi_a**4*w_d**2*conjugate(eta)/(8*omega_a**3 + 12*omega_a**2*omega_c + 12*omega_a**2*w_d + 6*omega_a*omega_c**2 + 12*omega_a*omega_c*w_d + 6*omega_a*w_d**2 + omega_c**3 + 3*omega_c**2*w_d + 3*omega_c*w_d**2 + w_d**3) + 72*eta*g4**2*phi_a**4*w_d**2*conjugate(eta)/(8*omega_a**3 + 12*omega_a**2*omega_c - 12*omega_a**2*w_d + 6*omega_a*omega_c**2 - 12*omega_a*omega_c*w_d + 6*omega_a*w_d**2 + omega_c**3 - 3*omega_c**2*w_d + 3*omega_c*w_d**2 - w_d**3) - 72*eta*g4**2*phi_a**4*w_d**2*conjugate(eta)/(8*omega_a**3 - 12*omega_a**2*omega_c + 12*omega_a**2*w_d + 6*omega_a*omega_c**2 - 12*omega_a*omega_c*w_d + 6*omega_a*w_d**2 - omega_c**3 + 3*omega_c**2*w_d - 3*omega_c*w_d**2 + w_d**3) + 72*eta*g4**2*phi_a**4*w_d**2*conjugate(eta)/(-8*omega_a**3 + 12*omega_a**2*omega_c + 12*omega_a**2*w_d - 6*omega_a*omega_c**2 - 12*omega_a*omega_c*w_d - 6*omega_a*w_d**2 + omega_c**3 + 3*omega_c**2*w_d + 3*omega_c*w_d**2 + w_d**3) + 288*eta*g4**2*phi_a**4*w_d**2*conjugate(eta)/(omega_c**3 + 3*omega_c**2*w_d + 3*omega_c*w_d**2 + w_d**3) + 288*eta*g4**2*phi_a**4*w_d**2*conjugate(eta)/(omega_c**3 - 3*omega_c**2*w_d + 3*omega_c*w_d**2 - w_d**3) + 72*eta*g4**2*phi_a**4*w_d*conjugate(eta)/(4*omega_a**2 + 4*omega_a*omega_c + 4*omega_a*w_d + omega_c**2 + 2*omega_c*w_d + w_d**2) - 72*eta*g4**2*phi_a**4*w_d*conjugate(eta)/(4*omega_a**2 + 4*omega_a*omega_c - 4*omega_a*w_d + omega_c**2 - 2*omega_c*w_d + w_d**2) - 72*eta*g4**2*phi_a**4*w_d*conjugate(eta)/(4*omega_a**2 - 4*omega_a*omega_c + 4*omega_a*w_d + omega_c**2 - 2*omega_c*w_d + w_d**2) + 72*eta*g4**2*phi_a**4*w_d*conjugate(eta)/(4*omega_a**2 - 4*omega_a*omega_c - 4*omega_a*w_d + omega_c**2 + 2*omega_c*w_d + w_d**2) + 288*eta*g4**2*phi_a**4*w_d*conjugate(eta)/(omega_c**2 + 2*omega_c*w_d + w_d**2) - 288*eta*g4**2*phi_a**4*w_d*conjugate(eta)/(omega_c**2 - 2*omega_c*w_d + w_d**2) - 288*eta*g4**2*phi_a**4*conjugate(eta)/(2*omega_a + omega_c + w_d) - 288*eta*g4**2*phi_a**4*conjugate(eta)/(2*omega_a + omega_c - w_d) + 288*eta*g4**2*phi_a**4*conjugate(eta)/(2*omega_a - omega_c + w_d) + 288*eta*g4**2*phi_a**4*conjugate(eta)/(2*omega_a - omega_c - w_d) - 1152*eta*g4**2*phi_a**4*conjugate(eta)/(omega_c + w_d) - 1152*eta*g4**2*phi_a**4*conjugate(eta)/(omega_c - w_d) - 1152*eta*g4**2*phi_a**4*conjugate(eta)/(omega_a + omega_c) + 1152*eta*g4**2*phi_a**4*conjugate(eta)/(omega_a - omega_c) - 288*eta*g4**2*phi_a**6*conjugate(eta)/omega_a + 18*g3**2*omega_a*phi_a**4*phi_b**2/(4*omega_a**2 + 4*omega_a*omega_b + omega_b**2) - 18*g3**2*omega_a*phi_a**4*phi_b**2/(4*omega_a**2 - 4*omega_a*omega_b + omega_b**2) + 18*g3**2*omega_a*phi_a**4/(4*omega_a**2 + 4*omega_a*omega_c + omega_c**2) - 18*g3**2*omega_a*phi_a**4/(4*omega_a**2 - 4*omega_a*omega_c + omega_c**2) + 9*g3**2*omega_b*phi_a**4*phi_b**2/(4*omega_a**2 + 4*omega_a*omega_b + omega_b**2) + 9*g3**2*omega_b*phi_a**4*phi_b**2/(4*omega_a**2 - 4*omega_a*omega_b + omega_b**2) + 9*g3**2*omega_c*phi_a**4/(4*omega_a**2 + 4*omega_a*omega_c + omega_c**2) + 9*g3**2*omega_c*phi_a**4/(4*omega_a**2 - 4*omega_a*omega_c + omega_c**2) - 18*g3**2*phi_a**4*phi_b**2/(2*omega_a + omega_b) + 18*g3**2*phi_a**4*phi_b**2/(2*omega_a - omega_b) - 18*g3**2*phi_a**4/(2*omega_a + omega_c) + 18*g3**2*phi_a**4/(2*omega_a - omega_c) - 36*g3**2*phi_a**4/omega_c - 36*g3**2*phi_a**4*phi_b**2/omega_b - 30*g3**2*phi_a**6/omega_a + 432*g4**2*omega_a*phi_a**6*phi_b**2/(9*omega_a**2 + 6*omega_a*omega_b + omega_b**2) + 864*g4**2*omega_a*phi_a**6*phi_b**2/(omega_a**2 + 2*omega_a*omega_b + omega_b**2) - 432*g4**2*omega_a*phi_a**6*phi_b**2/(omega_a**2 - 2*omega_a*omega_b + omega_b**2) + 432*g4**2*omega_a*phi_a**6/(9*omega_a**2 + 6*omega_a*omega_c + omega_c**2) + 864*g4**2*omega_a*phi_a**6/(omega_a**2 + 2*omega_a*omega_c + omega_c**2) - 432*g4**2*omega_a*phi_a**6/(omega_a**2 - 2*omega_a*omega_c + omega_c**2) + 324*g4**2*omega_a*phi_a**4*phi_b**4/(omega_a**2 + 2*omega_a*omega_b + omega_b**2) - 324*g4**2*omega_a*phi_a**4*phi_b**4/(omega_a**2 - 2*omega_a*omega_b + omega_b**2) + 288*g4**2*omega_a*phi_a**4*phi_b**2/(4*omega_a**2 + 4*omega_a*omega_b + 4*omega_a*omega_c + omega_b**2 + 2*omega_b*omega_c + omega_c**2) - 288*g4**2*omega_a*phi_a**4*phi_b**2/(4*omega_a**2 - 4*omega_a*omega_b - 4*omega_a*omega_c + omega_b**2 + 2*omega_b*omega_c + omega_c**2) + 288*g4**2*omega_a*phi_a**4*phi_b**2/(omega_a**2 + 2*omega_a*omega_c + omega_c**2) - 288*g4**2*omega_a*phi_a**4*phi_b**2/(omega_a**2 - 2*omega_a*omega_c + omega_c**2) + 288*g4**2*omega_a*phi_a**4*phi_b**2/(omega_a**2 + 2*omega_a*omega_b + omega_b**2) - 288*g4**2*omega_a*phi_a**4*phi_b**2/(omega_a**2 - 2*omega_a*omega_b + omega_b**2) + 324*g4**2*omega_a*phi_a**4/(omega_a**2 + 2*omega_a*omega_c + omega_c**2) - 324*g4**2*omega_a*phi_a**4/(omega_a**2 - 2*omega_a*omega_c + omega_c**2) + 144*g4**2*omega_b*phi_a**6*phi_b**2/(9*omega_a**2 + 6*omega_a*omega_b + omega_b**2) + 864*g4**2*omega_b*phi_a**6*phi_b**2/(omega_a**2 + 2*omega_a*omega_b + omega_b**2) + 432*g4**2*omega_b*phi_a**6*phi_b**2/(omega_a**2 - 2*omega_a*omega_b + omega_b**2) + 324*g4**2*omega_b*phi_a**4*phi_b**4/(omega_a**2 + 2*omega_a*omega_b + omega_b**2) + 324*g4**2*omega_b*phi_a**4*phi_b**4/(omega_a**2 - 2*omega_a*omega_b + omega_b**2) + 144*g4**2*omega_b*phi_a**4*phi_b**2/(4*omega_a**2 + 4*omega_a*omega_b + 4*omega_a*omega_c + omega_b**2 + 2*omega_b*omega_c + omega_c**2) + 144*g4**2*omega_b*phi_a**4*phi_b**2/(4*omega_a**2 - 4*omega_a*omega_b - 4*omega_a*omega_c + omega_b**2 + 2*omega_b*omega_c + omega_c**2) + 576*g4**2*omega_b*phi_a**4*phi_b**2/(omega_b**2 + 2*omega_b*omega_c + omega_c**2) + 288*g4**2*omega_b*phi_a**4*phi_b**2/(omega_a**2 + 2*omega_a*omega_b + omega_b**2) + 288*g4**2*omega_b*phi_a**4*phi_b**2/(omega_a**2 - 2*omega_a*omega_b + omega_b**2) + 144*g4**2*omega_c*phi_a**6/(9*omega_a**2 + 6*omega_a*omega_c + omega_c**2) + 864*g4**2*omega_c*phi_a**6/(omega_a**2 + 2*omega_a*omega_c + omega_c**2) + 432*g4**2*omega_c*phi_a**6/(omega_a**2 - 2*omega_a*omega_c + omega_c**2) + 144*g4**2*omega_c*phi_a**4*phi_b**2/(4*omega_a**2 + 4*omega_a*omega_b + 4*omega_a*omega_c + omega_b**2 + 2*omega_b*omega_c + omega_c**2) + 144*g4**2*omega_c*phi_a**4*phi_b**2/(4*omega_a**2 - 4*omega_a*omega_b - 4*omega_a*omega_c + omega_b**2 + 2*omega_b*omega_c + omega_c**2) + 576*g4**2*omega_c*phi_a**4*phi_b**2/(omega_b**2 + 2*omega_b*omega_c + omega_c**2) + 288*g4**2*omega_c*phi_a**4*phi_b**2/(omega_a**2 + 2*omega_a*omega_c + omega_c**2) + 288*g4**2*omega_c*phi_a**4*phi_b**2/(omega_a**2 - 2*omega_a*omega_c + omega_c**2) + 324*g4**2*omega_c*phi_a**4/(omega_a**2 + 2*omega_a*omega_c + omega_c**2) + 324*g4**2*omega_c*phi_a**4/(omega_a**2 - 2*omega_a*omega_c + omega_c**2) - 288*g4**2*phi_a**6*phi_b**2/(3*omega_a + omega_b) - 1728*g4**2*phi_a**6*phi_b**2/(omega_a + omega_b) + 864*g4**2*phi_a**6*phi_b**2/(omega_a - omega_b) - 288*g4**2*phi_a**6/(3*omega_a + omega_c) - 1728*g4**2*phi_a**6/(omega_a + omega_c) + 864*g4**2*phi_a**6/(omega_a - omega_c) - 648*g4**2*phi_a**4*phi_b**4/(omega_a + omega_b) + 648*g4**2*phi_a**4*phi_b**4/(omega_a - omega_b) - 288*g4**2*phi_a**4*phi_b**2/(2*omega_a + omega_b + omega_c) + 288*g4**2*phi_a**4*phi_b**2/(2*omega_a - omega_b - omega_c) - 1152*g4**2*phi_a**4*phi_b**2/(omega_b + omega_c) - 576*g4**2*phi_a**4*phi_b**2/(omega_a + omega_c) + 576*g4**2*phi_a**4*phi_b**2/(omega_a - omega_c) - 576*g4**2*phi_a**4*phi_b**2/(omega_a + omega_b) + 576*g4**2*phi_a**4*phi_b**2/(omega_a - omega_b) - 648*g4**2*phi_a**4/(omega_a + omega_c) + 648*g4**2*phi_a**4/(omega_a - omega_c) - 144*g4**2*phi_a**4/omega_c - 144*g4**2*phi_a**4*phi_b**4/omega_b - 306*g4**2*phi_a**8/omega_a - 144*g4**2*phi_a**6*phi_b**2/omega_a - 144*g4**2*phi_a**6/omega_a\n"
     ]
    }
   ],
   "source": [
    "temp = 0\n",
    "for term in ham_a.args:\n",
    "    temp += sp.simplify(term.coeff(ad**2*a**2))\n",
    "print(temp)"
   ]
  },
  {
   "cell_type": "code",
   "execution_count": null,
   "id": "d9046a8c-fbad-4db1-be21-562996ca7f5c",
   "metadata": {},
   "outputs": [],
   "source": []
  },
  {
   "cell_type": "code",
   "execution_count": null,
   "id": "e98fb82c-7ae3-4f23-bc4a-13f4fbd4598a",
   "metadata": {},
   "outputs": [],
   "source": []
  },
  {
   "cell_type": "code",
   "execution_count": null,
   "id": "df5f4b20-79db-4e2b-ac70-91c0766c0858",
   "metadata": {},
   "outputs": [],
   "source": []
  },
  {
   "cell_type": "code",
   "execution_count": null,
   "id": "0cbf56a4-40f4-422e-a094-153c567dd75f",
   "metadata": {},
   "outputs": [],
   "source": []
  }
 ],
 "metadata": {
  "kernelspec": {
   "display_name": "Python 3 (ipykernel)",
   "language": "python",
   "name": "python3"
  },
  "language_info": {
   "codemirror_mode": {
    "name": "ipython",
    "version": 3
   },
   "file_extension": ".py",
   "mimetype": "text/x-python",
   "name": "python",
   "nbconvert_exporter": "python",
   "pygments_lexer": "ipython3",
   "version": "3.8.3"
  }
 },
 "nbformat": 4,
 "nbformat_minor": 5
}
