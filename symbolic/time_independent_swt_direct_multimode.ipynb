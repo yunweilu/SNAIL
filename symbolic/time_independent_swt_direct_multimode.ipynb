{
 "cells": [
  {
   "cell_type": "code",
   "execution_count": 2,
   "id": "27ca754a-9d30-4a6d-8054-db633309ef22",
   "metadata": {
    "execution": {
     "iopub.execute_input": "2023-09-17T20:00:38.907947Z",
     "iopub.status.busy": "2023-09-17T20:00:38.906486Z",
     "iopub.status.idle": "2023-09-17T20:00:39.324077Z",
     "shell.execute_reply": "2023-09-17T20:00:39.323758Z",
     "shell.execute_reply.started": "2023-09-17T20:00:38.907910Z"
    },
    "tags": []
   },
   "outputs": [],
   "source": [
    "from sympy.physics.secondquant import *\n",
    "from sympy import symbols\n",
    "import sympy as sp\n",
    "from no import normal"
   ]
  },
  {
   "cell_type": "code",
   "execution_count": 7,
   "id": "bee929bb-cb95-42cf-8cfc-b637ef21834a",
   "metadata": {
    "execution": {
     "iopub.execute_input": "2023-09-17T20:00:44.649040Z",
     "iopub.status.busy": "2023-09-17T20:00:44.648749Z",
     "iopub.status.idle": "2023-09-17T20:00:44.652983Z",
     "shell.execute_reply": "2023-09-17T20:00:44.652377Z",
     "shell.execute_reply.started": "2023-09-17T20:00:44.649026Z"
    },
    "tags": []
   },
   "outputs": [],
   "source": [
    "ind_s = symbols('s')\n",
    "ind_c = symbols('c')\n",
    "\n",
    "s = B(ind_s)\n",
    "sd = Bd(ind_s)\n",
    "c = B(ind_c)\n",
    "cd = Bd(ind_c)"
   ]
  },
  {
   "cell_type": "code",
   "execution_count": 21,
   "id": "bd55f7a7-b1e1-4a35-94cb-263462a7bec0",
   "metadata": {
    "execution": {
     "iopub.execute_input": "2023-09-17T20:00:48.069298Z",
     "iopub.status.busy": "2023-09-17T20:00:48.069062Z",
     "iopub.status.idle": "2023-09-17T20:00:48.073236Z",
     "shell.execute_reply": "2023-09-17T20:00:48.072722Z",
     "shell.execute_reply.started": "2023-09-17T20:00:48.069267Z"
    },
    "tags": []
   },
   "outputs": [],
   "source": [
    "g, Delta,K = symbols('g Delta K', real=True)"
   ]
  },
  {
   "cell_type": "code",
   "execution_count": 22,
   "id": "a09e4ac2-a6cd-40df-a3a7-38d6a1c77f46",
   "metadata": {
    "execution": {
     "iopub.execute_input": "2023-09-17T20:00:53.434937Z",
     "iopub.status.busy": "2023-09-17T20:00:53.434741Z",
     "iopub.status.idle": "2023-09-17T20:00:53.440630Z",
     "shell.execute_reply": "2023-09-17T20:00:53.440149Z",
     "shell.execute_reply.started": "2023-09-17T20:00:53.434923Z"
    }
   },
   "outputs": [],
   "source": [
    "def _m_normal(expr):\n",
    "    if not expr.is_Mul:\n",
    "        return expr\n",
    "    else:\n",
    "        c_part = []\n",
    "        noncomm = []\n",
    "        for factor in expr.args:\n",
    "            if factor.is_commutative:\n",
    "                c_part.append(factor)\n",
    "            else:\n",
    "                noncomm.append(factor)\n",
    "                \n",
    "        expr_s = 1\n",
    "        expr_c = 1\n",
    "        expr_other = 1\n",
    "        \n",
    "        for factor in noncomm:\n",
    "            if factor.is_Pow:\n",
    "                if factor.args[0].args[0] == ind_s:\n",
    "                    expr_s *= factor\n",
    "                elif factor.args[0].args[0] == ind_c:\n",
    "                    expr_c *= factor\n",
    "                else:\n",
    "                    expr_other *= factor\n",
    "            else:\n",
    "                if factor.args[0] == ind_s:\n",
    "                    expr_s *= factor\n",
    "                elif factor.args[0] == ind_c:\n",
    "                    expr_c *= factor\n",
    "                else:\n",
    "                    expr_other *= factor\n",
    "                    \n",
    "        if expr_s != 1:\n",
    "            expr_s = normal(expr_s)\n",
    "        if expr_c != 1:\n",
    "            expr_c = normal(expr_c)\n",
    "        if expr_other != 1:\n",
    "            expr_other = normal(expr_other)\n",
    "    \n",
    "        return sp.Mul(*c_part) * expr_s * expr_c * expr_other    \n",
    "\n",
    "def m_normal(expr):\n",
    "    expr = expr.expand()\n",
    "    if isinstance(expr, sp.Add):\n",
    "        return sp.Add(*[_m_normal(term) for term in expr.args])\n",
    "    else:\n",
    "        return _m_normal(expr)"
   ]
  },
  {
   "cell_type": "code",
   "execution_count": 25,
   "id": "1f013aad",
   "metadata": {},
   "outputs": [],
   "source": [
    "D1 = (g/Delta*(sd*c +K/Delta*sd*s*s*c)).expand()"
   ]
  },
  {
   "cell_type": "code",
   "execution_count": 26,
   "id": "85a900e7",
   "metadata": {},
   "outputs": [
    {
     "data": {
      "text/latex": [
       "$\\displaystyle \\frac{g {b^\\dagger_{s}} b_{c}}{\\Delta} + \\frac{K g {b^\\dagger_{s}} b_{s}^{2} b_{c}}{\\Delta^{2}}$"
      ],
      "text/plain": [
       "g*CreateBoson(s)*AnnihilateBoson(c)/Delta + K*g*CreateBoson(s)*AnnihilateBoson(s)**2*AnnihilateBoson(c)/Delta**2"
      ]
     },
     "execution_count": 26,
     "metadata": {},
     "output_type": "execute_result"
    }
   ],
   "source": [
    "D1"
   ]
  },
  {
   "cell_type": "code",
   "execution_count": 20,
   "id": "ad0626fd",
   "metadata": {},
   "outputs": [
    {
     "data": {
      "text/latex": [
       "$\\displaystyle {b^\\dagger_{s}} b_{s}^{2} b_{c}$"
      ],
      "text/plain": [
       "CreateBoson(s)*AnnihilateBoson(s)**2*AnnihilateBoson(c)"
      ]
     },
     "execution_count": 20,
     "metadata": {},
     "output_type": "execute_result"
    }
   ],
   "source": [
    "m_normal(sd*s*s*c)"
   ]
  },
  {
   "cell_type": "code",
   "execution_count": 5,
   "id": "86e082c8-2981-467e-abfc-fc96b02e9e6c",
   "metadata": {
    "execution": {
     "iopub.execute_input": "2023-09-17T20:01:00.069136Z",
     "iopub.status.busy": "2023-09-17T20:01:00.068898Z",
     "iopub.status.idle": "2023-09-17T20:01:00.074154Z",
     "shell.execute_reply": "2023-09-17T20:01:00.073807Z",
     "shell.execute_reply.started": "2023-09-17T20:01:00.069107Z"
    },
    "tags": []
   },
   "outputs": [],
   "source": [
    "h0 = omega_a * ad * a + omega_b * bd * b + omega_c * cd * c"
   ]
  },
  {
   "cell_type": "code",
   "execution_count": 6,
   "id": "cb9a2f02-ca22-4202-abce-288d7892ccba",
   "metadata": {
    "execution": {
     "iopub.execute_input": "2023-09-17T20:01:06.555985Z",
     "iopub.status.busy": "2023-09-17T20:01:06.555726Z",
     "iopub.status.idle": "2023-09-17T20:01:07.137747Z",
     "shell.execute_reply": "2023-09-17T20:01:07.137410Z",
     "shell.execute_reply.started": "2023-09-17T20:01:06.555974Z"
    },
    "tags": []
   },
   "outputs": [],
   "source": [
    "v = m_normal( g4 * ( phi_a*(a + ad) + phi_b*(b + bd) + c+cd )**4  + g3 * ( phi_a*(a + ad) + phi_b*(b + bd) + c+cd )**3)"
   ]
  },
  {
   "cell_type": "markdown",
   "id": "6d99629b-96b8-4139-bb1e-2af74528d302",
   "metadata": {},
   "source": [
    "### obtain $\\hat{H}_1$"
   ]
  },
  {
   "cell_type": "code",
   "execution_count": 7,
   "id": "1868fc98-9273-429a-a29d-fb50ee3c5f61",
   "metadata": {
    "execution": {
     "iopub.execute_input": "2023-09-17T20:02:04.762059Z",
     "iopub.status.busy": "2023-09-17T20:02:04.761562Z",
     "iopub.status.idle": "2023-09-17T20:02:08.150294Z",
     "shell.execute_reply": "2023-09-17T20:02:08.149971Z",
     "shell.execute_reply.started": "2023-09-17T20:02:04.762032Z"
    },
    "tags": []
   },
   "outputs": [],
   "source": [
    "v1 = sp.simplify(v)"
   ]
  },
  {
   "cell_type": "code",
   "execution_count": 10,
   "id": "8e484b4f-c180-4f7d-86b4-82445d4ef982",
   "metadata": {
    "execution": {
     "iopub.execute_input": "2023-09-17T20:02:14.026677Z",
     "iopub.status.busy": "2023-09-17T20:02:14.026463Z",
     "iopub.status.idle": "2023-09-17T20:02:14.039063Z",
     "shell.execute_reply": "2023-09-17T20:02:14.038592Z",
     "shell.execute_reply.started": "2023-09-17T20:02:14.026659Z"
    },
    "tags": []
   },
   "outputs": [],
   "source": [
    "temp = 0\n",
    "for term in v1.args:\n",
    "    if term.as_powers_dict()[ad] == term.as_powers_dict()[a] and term.as_powers_dict()[bd] == term.as_powers_dict()[b] and term.as_powers_dict()[cd] == term.as_powers_dict()[c]:\n",
    "        temp += term\n",
    "h1 = temp * 1"
   ]
  },
  {
   "cell_type": "code",
   "execution_count": 11,
   "id": "e2221933-1754-46e0-a0be-88ebccc92a60",
   "metadata": {
    "execution": {
     "iopub.execute_input": "2023-09-17T20:02:15.008245Z",
     "iopub.status.busy": "2023-09-17T20:02:15.007976Z",
     "iopub.status.idle": "2023-09-17T20:02:15.018651Z",
     "shell.execute_reply": "2023-09-17T20:02:15.018304Z",
     "shell.execute_reply.started": "2023-09-17T20:02:15.008231Z"
    },
    "tags": []
   },
   "outputs": [
    {
     "data": {
      "text/latex": [
       "$\\displaystyle 3 g_{4} \\phi_{a}^{4} + 12 g_{4} \\phi_{a}^{4} {b^\\dagger_{a}} b_{a} + 6 g_{4} \\phi_{a}^{4} {b^\\dagger_{a}}^{2} b_{a}^{2} + 6 g_{4} \\phi_{a}^{2} \\phi_{b}^{2} + 12 g_{4} \\phi_{a}^{2} \\phi_{b}^{2} {b^\\dagger_{a}} b_{a} + 24 g_{4} \\phi_{a}^{2} \\phi_{b}^{2} {b^\\dagger_{a}} b_{a} {b^\\dagger_{b}} b_{b} + 12 g_{4} \\phi_{a}^{2} \\phi_{b}^{2} {b^\\dagger_{b}} b_{b} + 6 g_{4} \\phi_{a}^{2} + 12 g_{4} \\phi_{a}^{2} {b^\\dagger_{a}} b_{a} + 24 g_{4} \\phi_{a}^{2} {b^\\dagger_{a}} b_{a} {b^\\dagger_{c}} b_{c} + 12 g_{4} \\phi_{a}^{2} {b^\\dagger_{c}} b_{c} + 3 g_{4} \\phi_{b}^{4} + 12 g_{4} \\phi_{b}^{4} {b^\\dagger_{b}} b_{b} + 6 g_{4} \\phi_{b}^{4} {b^\\dagger_{b}}^{2} b_{b}^{2} + 6 g_{4} \\phi_{b}^{2} + 12 g_{4} \\phi_{b}^{2} {b^\\dagger_{b}} b_{b} + 24 g_{4} \\phi_{b}^{2} {b^\\dagger_{b}} b_{b} {b^\\dagger_{c}} b_{c} + 12 g_{4} \\phi_{b}^{2} {b^\\dagger_{c}} b_{c} + 3 g_{4} + 12 g_{4} {b^\\dagger_{c}} b_{c} + 6 g_{4} {b^\\dagger_{c}}^{2} b_{c}^{2}$"
      ],
      "text/plain": [
       "3*g4*phi_a**4 + 12*g4*phi_a**4*CreateBoson(a)*AnnihilateBoson(a) + 6*g4*phi_a**4*CreateBoson(a)**2*AnnihilateBoson(a)**2 + 6*g4*phi_a**2*phi_b**2 + 12*g4*phi_a**2*phi_b**2*CreateBoson(a)*AnnihilateBoson(a) + 24*g4*phi_a**2*phi_b**2*CreateBoson(a)*AnnihilateBoson(a)*CreateBoson(b)*AnnihilateBoson(b) + 12*g4*phi_a**2*phi_b**2*CreateBoson(b)*AnnihilateBoson(b) + 6*g4*phi_a**2 + 12*g4*phi_a**2*CreateBoson(a)*AnnihilateBoson(a) + 24*g4*phi_a**2*CreateBoson(a)*AnnihilateBoson(a)*CreateBoson(c)*AnnihilateBoson(c) + 12*g4*phi_a**2*CreateBoson(c)*AnnihilateBoson(c) + 3*g4*phi_b**4 + 12*g4*phi_b**4*CreateBoson(b)*AnnihilateBoson(b) + 6*g4*phi_b**4*CreateBoson(b)**2*AnnihilateBoson(b)**2 + 6*g4*phi_b**2 + 12*g4*phi_b**2*CreateBoson(b)*AnnihilateBoson(b) + 24*g4*phi_b**2*CreateBoson(b)*AnnihilateBoson(b)*CreateBoson(c)*AnnihilateBoson(c) + 12*g4*phi_b**2*CreateBoson(c)*AnnihilateBoson(c) + 3*g4 + 12*g4*CreateBoson(c)*AnnihilateBoson(c) + 6*g4*CreateBoson(c)**2*AnnihilateBoson(c)**2"
      ]
     },
     "execution_count": 11,
     "metadata": {},
     "output_type": "execute_result"
    }
   ],
   "source": [
    "h1"
   ]
  },
  {
   "cell_type": "markdown",
   "id": "b9b1ca1b-47cc-4692-a118-305b06a20ba6",
   "metadata": {},
   "source": [
    "### obtain up to $\\hat{H}_2$"
   ]
  },
  {
   "cell_type": "code",
   "execution_count": 12,
   "id": "d6af1876-eee8-4634-af64-2741d34404ea",
   "metadata": {
    "execution": {
     "iopub.execute_input": "2023-09-17T20:03:36.691965Z",
     "iopub.status.busy": "2023-09-17T20:03:36.691671Z",
     "iopub.status.idle": "2023-09-17T20:03:37.257728Z",
     "shell.execute_reply": "2023-09-17T20:03:37.257401Z",
     "shell.execute_reply.started": "2023-09-17T20:03:36.691923Z"
    },
    "tags": []
   },
   "outputs": [],
   "source": [
    "temp = 0\n",
    "for term in (v1-h1).args:\n",
    "    if (term.as_powers_dict()[ad] != term.as_powers_dict()[a] or \n",
    "        term.as_powers_dict()[bd] != term.as_powers_dict()[b] or \n",
    "        term.as_powers_dict()[cd] != term.as_powers_dict()[c] ):\n",
    "        \n",
    "        temp += term / (omega_a * (term.as_powers_dict()[ad] - term.as_powers_dict()[a]) +\n",
    "                        omega_b * (term.as_powers_dict()[bd] - term.as_powers_dict()[b]) +\n",
    "                        omega_c * (term.as_powers_dict()[cd] - term.as_powers_dict()[c]) )\n",
    "s1 = temp * 1"
   ]
  },
  {
   "cell_type": "code",
   "execution_count": 13,
   "id": "0be99425",
   "metadata": {
    "scrolled": true
   },
   "outputs": [
    {
     "data": {
      "text/latex": [
       "$\\displaystyle \\frac{3 g_{3} \\phi_{a}^{2} \\phi_{b} {b^\\dagger_{a}}^{2} {b^\\dagger_{b}}}{2 \\omega_{a} + \\omega_{b}} + \\frac{3 g_{3} \\phi_{a}^{2} \\phi_{b} {b^\\dagger_{a}}^{2} b_{b}}{2 \\omega_{a} - \\omega_{b}} + \\frac{3 g_{3} \\phi_{a}^{2} \\phi_{b} b_{a}^{2} {b^\\dagger_{b}}}{- 2 \\omega_{a} + \\omega_{b}} + \\frac{3 g_{3} \\phi_{a}^{2} \\phi_{b} b_{a}^{2} b_{b}}{- 2 \\omega_{a} - \\omega_{b}} + \\frac{3 g_{3} \\phi_{a}^{2} {b^\\dagger_{a}}^{2} {b^\\dagger_{c}}}{2 \\omega_{a} + \\omega_{c}} + \\frac{3 g_{3} \\phi_{a}^{2} {b^\\dagger_{a}}^{2} b_{c}}{2 \\omega_{a} - \\omega_{c}} + \\frac{3 g_{3} \\phi_{a}^{2} b_{a}^{2} {b^\\dagger_{c}}}{- 2 \\omega_{a} + \\omega_{c}} + \\frac{3 g_{3} \\phi_{a}^{2} b_{a}^{2} b_{c}}{- 2 \\omega_{a} - \\omega_{c}} + \\frac{3 g_{3} \\phi_{a} \\phi_{b}^{2} {b^\\dagger_{a}} {b^\\dagger_{b}}^{2}}{\\omega_{a} + 2 \\omega_{b}} + \\frac{3 g_{3} \\phi_{a} \\phi_{b}^{2} {b^\\dagger_{a}} b_{b}^{2}}{\\omega_{a} - 2 \\omega_{b}} + \\frac{3 g_{3} \\phi_{a} \\phi_{b}^{2} b_{a} {b^\\dagger_{b}}^{2}}{- \\omega_{a} + 2 \\omega_{b}} + \\frac{3 g_{3} \\phi_{a} \\phi_{b}^{2} b_{a} b_{b}^{2}}{- \\omega_{a} - 2 \\omega_{b}} + \\frac{6 g_{3} \\phi_{a} \\phi_{b} {b^\\dagger_{a}} {b^\\dagger_{b}} {b^\\dagger_{c}}}{\\omega_{a} + \\omega_{b} + \\omega_{c}} + \\frac{6 g_{3} \\phi_{a} \\phi_{b} {b^\\dagger_{a}} {b^\\dagger_{b}} b_{c}}{\\omega_{a} + \\omega_{b} - \\omega_{c}} + \\frac{6 g_{3} \\phi_{a} \\phi_{b} {b^\\dagger_{a}} b_{b} {b^\\dagger_{c}}}{\\omega_{a} - \\omega_{b} + \\omega_{c}} + \\frac{6 g_{3} \\phi_{a} \\phi_{b} {b^\\dagger_{a}} b_{b} b_{c}}{\\omega_{a} - \\omega_{b} - \\omega_{c}} + \\frac{6 g_{3} \\phi_{a} \\phi_{b} b_{a} {b^\\dagger_{b}} {b^\\dagger_{c}}}{- \\omega_{a} + \\omega_{b} + \\omega_{c}} + \\frac{6 g_{3} \\phi_{a} \\phi_{b} b_{a} {b^\\dagger_{b}} b_{c}}{- \\omega_{a} + \\omega_{b} - \\omega_{c}} + \\frac{6 g_{3} \\phi_{a} \\phi_{b} b_{a} b_{b} {b^\\dagger_{c}}}{- \\omega_{a} - \\omega_{b} + \\omega_{c}} + \\frac{6 g_{3} \\phi_{a} \\phi_{b} b_{a} b_{b} b_{c}}{- \\omega_{a} - \\omega_{b} - \\omega_{c}} + \\frac{3 g_{3} \\phi_{a} {b^\\dagger_{a}} {b^\\dagger_{c}}^{2}}{\\omega_{a} + 2 \\omega_{c}} + \\frac{3 g_{3} \\phi_{a} {b^\\dagger_{a}} b_{c}^{2}}{\\omega_{a} - 2 \\omega_{c}} + \\frac{3 g_{3} \\phi_{a} b_{a} {b^\\dagger_{c}}^{2}}{- \\omega_{a} + 2 \\omega_{c}} + \\frac{3 g_{3} \\phi_{a} b_{a} b_{c}^{2}}{- \\omega_{a} - 2 \\omega_{c}} + \\frac{3 g_{3} \\phi_{b}^{2} {b^\\dagger_{b}}^{2} {b^\\dagger_{c}}}{2 \\omega_{b} + \\omega_{c}} + \\frac{3 g_{3} \\phi_{b}^{2} {b^\\dagger_{b}}^{2} b_{c}}{2 \\omega_{b} - \\omega_{c}} + \\frac{3 g_{3} \\phi_{b}^{2} b_{b}^{2} {b^\\dagger_{c}}}{- 2 \\omega_{b} + \\omega_{c}} + \\frac{3 g_{3} \\phi_{b}^{2} b_{b}^{2} b_{c}}{- 2 \\omega_{b} - \\omega_{c}} + \\frac{3 g_{3} \\phi_{b} {b^\\dagger_{b}} {b^\\dagger_{c}}^{2}}{\\omega_{b} + 2 \\omega_{c}} + \\frac{3 g_{3} \\phi_{b} {b^\\dagger_{b}} b_{c}^{2}}{\\omega_{b} - 2 \\omega_{c}} + \\frac{3 g_{3} \\phi_{b} b_{b} {b^\\dagger_{c}}^{2}}{- \\omega_{b} + 2 \\omega_{c}} + \\frac{3 g_{3} \\phi_{b} b_{b} b_{c}^{2}}{- \\omega_{b} - 2 \\omega_{c}} - \\frac{3 g_{3} \\phi_{a}^{2} b_{c}}{\\omega_{c}} - \\frac{6 g_{3} \\phi_{a}^{2} {b^\\dagger_{a}} b_{a} b_{c}}{\\omega_{c}} + \\frac{6 g_{3} \\phi_{a}^{2} {b^\\dagger_{a}} b_{a} {b^\\dagger_{c}}}{\\omega_{c}} + \\frac{3 g_{3} \\phi_{a}^{2} {b^\\dagger_{c}}}{\\omega_{c}} - \\frac{3 g_{3} \\phi_{b}^{2} b_{c}}{\\omega_{c}} - \\frac{6 g_{3} \\phi_{b}^{2} {b^\\dagger_{b}} b_{b} b_{c}}{\\omega_{c}} + \\frac{6 g_{3} \\phi_{b}^{2} {b^\\dagger_{b}} b_{b} {b^\\dagger_{c}}}{\\omega_{c}} + \\frac{3 g_{3} \\phi_{b}^{2} {b^\\dagger_{c}}}{\\omega_{c}} - \\frac{3 g_{3} b_{c}}{\\omega_{c}} - \\frac{g_{3} b_{c}^{3}}{3 \\omega_{c}} + \\frac{3 g_{3} {b^\\dagger_{c}}}{\\omega_{c}} - \\frac{3 g_{3} {b^\\dagger_{c}} b_{c}^{2}}{\\omega_{c}} + \\frac{3 g_{3} {b^\\dagger_{c}}^{2} b_{c}}{\\omega_{c}} + \\frac{g_{3} {b^\\dagger_{c}}^{3}}{3 \\omega_{c}} - \\frac{3 g_{3} \\phi_{a}^{2} \\phi_{b} b_{b}}{\\omega_{b}} - \\frac{6 g_{3} \\phi_{a}^{2} \\phi_{b} {b^\\dagger_{a}} b_{a} b_{b}}{\\omega_{b}} + \\frac{6 g_{3} \\phi_{a}^{2} \\phi_{b} {b^\\dagger_{a}} b_{a} {b^\\dagger_{b}}}{\\omega_{b}} + \\frac{3 g_{3} \\phi_{a}^{2} \\phi_{b} {b^\\dagger_{b}}}{\\omega_{b}} - \\frac{3 g_{3} \\phi_{b}^{3} b_{b}}{\\omega_{b}} - \\frac{g_{3} \\phi_{b}^{3} b_{b}^{3}}{3 \\omega_{b}} + \\frac{3 g_{3} \\phi_{b}^{3} {b^\\dagger_{b}}}{\\omega_{b}} - \\frac{3 g_{3} \\phi_{b}^{3} {b^\\dagger_{b}} b_{b}^{2}}{\\omega_{b}} + \\frac{3 g_{3} \\phi_{b}^{3} {b^\\dagger_{b}}^{2} b_{b}}{\\omega_{b}} + \\frac{g_{3} \\phi_{b}^{3} {b^\\dagger_{b}}^{3}}{3 \\omega_{b}} - \\frac{3 g_{3} \\phi_{b} b_{b}}{\\omega_{b}} - \\frac{6 g_{3} \\phi_{b} b_{b} {b^\\dagger_{c}} b_{c}}{\\omega_{b}} + \\frac{3 g_{3} \\phi_{b} {b^\\dagger_{b}}}{\\omega_{b}} + \\frac{6 g_{3} \\phi_{b} {b^\\dagger_{b}} {b^\\dagger_{c}} b_{c}}{\\omega_{b}} - \\frac{3 g_{3} \\phi_{a}^{3} b_{a}}{\\omega_{a}} - \\frac{g_{3} \\phi_{a}^{3} b_{a}^{3}}{3 \\omega_{a}} + \\frac{3 g_{3} \\phi_{a}^{3} {b^\\dagger_{a}}}{\\omega_{a}} - \\frac{3 g_{3} \\phi_{a}^{3} {b^\\dagger_{a}} b_{a}^{2}}{\\omega_{a}} + \\frac{3 g_{3} \\phi_{a}^{3} {b^\\dagger_{a}}^{2} b_{a}}{\\omega_{a}} + \\frac{g_{3} \\phi_{a}^{3} {b^\\dagger_{a}}^{3}}{3 \\omega_{a}} - \\frac{3 g_{3} \\phi_{a} \\phi_{b}^{2} b_{a}}{\\omega_{a}} - \\frac{6 g_{3} \\phi_{a} \\phi_{b}^{2} b_{a} {b^\\dagger_{b}} b_{b}}{\\omega_{a}} + \\frac{3 g_{3} \\phi_{a} \\phi_{b}^{2} {b^\\dagger_{a}}}{\\omega_{a}} + \\frac{6 g_{3} \\phi_{a} \\phi_{b}^{2} {b^\\dagger_{a}} {b^\\dagger_{b}} b_{b}}{\\omega_{a}} - \\frac{3 g_{3} \\phi_{a} b_{a}}{\\omega_{a}} - \\frac{6 g_{3} \\phi_{a} b_{a} {b^\\dagger_{c}} b_{c}}{\\omega_{a}} + \\frac{3 g_{3} \\phi_{a} {b^\\dagger_{a}}}{\\omega_{a}} + \\frac{6 g_{3} \\phi_{a} {b^\\dagger_{a}} {b^\\dagger_{c}} b_{c}}{\\omega_{a}} + \\frac{4 g_{4} \\phi_{a}^{3} \\phi_{b} {b^\\dagger_{a}}^{3} {b^\\dagger_{b}}}{3 \\omega_{a} + \\omega_{b}} + \\frac{4 g_{4} \\phi_{a}^{3} \\phi_{b} {b^\\dagger_{a}}^{3} b_{b}}{3 \\omega_{a} - \\omega_{b}} + \\frac{12 g_{4} \\phi_{a}^{3} \\phi_{b} {b^\\dagger_{a}} {b^\\dagger_{b}}}{\\omega_{a} + \\omega_{b}} + \\frac{12 g_{4} \\phi_{a}^{3} \\phi_{b} {b^\\dagger_{a}}^{2} b_{a} {b^\\dagger_{b}}}{\\omega_{a} + \\omega_{b}} + \\frac{12 g_{4} \\phi_{a}^{3} \\phi_{b} {b^\\dagger_{a}} b_{b}}{\\omega_{a} - \\omega_{b}} + \\frac{12 g_{4} \\phi_{a}^{3} \\phi_{b} {b^\\dagger_{a}}^{2} b_{a} b_{b}}{\\omega_{a} - \\omega_{b}} + \\frac{12 g_{4} \\phi_{a}^{3} \\phi_{b} b_{a} {b^\\dagger_{b}}}{- \\omega_{a} + \\omega_{b}} + \\frac{12 g_{4} \\phi_{a}^{3} \\phi_{b} {b^\\dagger_{a}} b_{a}^{2} {b^\\dagger_{b}}}{- \\omega_{a} + \\omega_{b}} + \\frac{12 g_{4} \\phi_{a}^{3} \\phi_{b} b_{a} b_{b}}{- \\omega_{a} - \\omega_{b}} + \\frac{12 g_{4} \\phi_{a}^{3} \\phi_{b} {b^\\dagger_{a}} b_{a}^{2} b_{b}}{- \\omega_{a} - \\omega_{b}} + \\frac{4 g_{4} \\phi_{a}^{3} \\phi_{b} b_{a}^{3} {b^\\dagger_{b}}}{- 3 \\omega_{a} + \\omega_{b}} + \\frac{4 g_{4} \\phi_{a}^{3} \\phi_{b} b_{a}^{3} b_{b}}{- 3 \\omega_{a} - \\omega_{b}} + \\frac{4 g_{4} \\phi_{a}^{3} {b^\\dagger_{a}}^{3} {b^\\dagger_{c}}}{3 \\omega_{a} + \\omega_{c}} + \\frac{4 g_{4} \\phi_{a}^{3} {b^\\dagger_{a}}^{3} b_{c}}{3 \\omega_{a} - \\omega_{c}} + \\frac{12 g_{4} \\phi_{a}^{3} {b^\\dagger_{a}} {b^\\dagger_{c}}}{\\omega_{a} + \\omega_{c}} + \\frac{12 g_{4} \\phi_{a}^{3} {b^\\dagger_{a}}^{2} b_{a} {b^\\dagger_{c}}}{\\omega_{a} + \\omega_{c}} + \\frac{12 g_{4} \\phi_{a}^{3} {b^\\dagger_{a}} b_{c}}{\\omega_{a} - \\omega_{c}} + \\frac{12 g_{4} \\phi_{a}^{3} {b^\\dagger_{a}}^{2} b_{a} b_{c}}{\\omega_{a} - \\omega_{c}} + \\frac{12 g_{4} \\phi_{a}^{3} b_{a} {b^\\dagger_{c}}}{- \\omega_{a} + \\omega_{c}} + \\frac{12 g_{4} \\phi_{a}^{3} {b^\\dagger_{a}} b_{a}^{2} {b^\\dagger_{c}}}{- \\omega_{a} + \\omega_{c}} + \\frac{12 g_{4} \\phi_{a}^{3} b_{a} b_{c}}{- \\omega_{a} - \\omega_{c}} + \\frac{12 g_{4} \\phi_{a}^{3} {b^\\dagger_{a}} b_{a}^{2} b_{c}}{- \\omega_{a} - \\omega_{c}} + \\frac{4 g_{4} \\phi_{a}^{3} b_{a}^{3} {b^\\dagger_{c}}}{- 3 \\omega_{a} + \\omega_{c}} + \\frac{4 g_{4} \\phi_{a}^{3} b_{a}^{3} b_{c}}{- 3 \\omega_{a} - \\omega_{c}} + \\frac{6 g_{4} \\phi_{a}^{2} \\phi_{b}^{2} {b^\\dagger_{a}}^{2} {b^\\dagger_{b}}^{2}}{2 \\omega_{a} + 2 \\omega_{b}} + \\frac{6 g_{4} \\phi_{a}^{2} \\phi_{b}^{2} {b^\\dagger_{a}}^{2} b_{b}^{2}}{2 \\omega_{a} - 2 \\omega_{b}} + \\frac{6 g_{4} \\phi_{a}^{2} \\phi_{b}^{2} b_{a}^{2} {b^\\dagger_{b}}^{2}}{- 2 \\omega_{a} + 2 \\omega_{b}} + \\frac{6 g_{4} \\phi_{a}^{2} \\phi_{b}^{2} b_{a}^{2} b_{b}^{2}}{- 2 \\omega_{a} - 2 \\omega_{b}} + \\frac{12 g_{4} \\phi_{a}^{2} \\phi_{b} {b^\\dagger_{a}}^{2} {b^\\dagger_{b}} {b^\\dagger_{c}}}{2 \\omega_{a} + \\omega_{b} + \\omega_{c}} + \\frac{12 g_{4} \\phi_{a}^{2} \\phi_{b} {b^\\dagger_{a}}^{2} {b^\\dagger_{b}} b_{c}}{2 \\omega_{a} + \\omega_{b} - \\omega_{c}} + \\frac{12 g_{4} \\phi_{a}^{2} \\phi_{b} {b^\\dagger_{a}}^{2} b_{b} {b^\\dagger_{c}}}{2 \\omega_{a} - \\omega_{b} + \\omega_{c}} + \\frac{12 g_{4} \\phi_{a}^{2} \\phi_{b} {b^\\dagger_{a}}^{2} b_{b} b_{c}}{2 \\omega_{a} - \\omega_{b} - \\omega_{c}} + \\frac{12 g_{4} \\phi_{a}^{2} \\phi_{b} b_{a}^{2} {b^\\dagger_{b}} {b^\\dagger_{c}}}{- 2 \\omega_{a} + \\omega_{b} + \\omega_{c}} + \\frac{12 g_{4} \\phi_{a}^{2} \\phi_{b} b_{a}^{2} {b^\\dagger_{b}} b_{c}}{- 2 \\omega_{a} + \\omega_{b} - \\omega_{c}} + \\frac{12 g_{4} \\phi_{a}^{2} \\phi_{b} b_{a}^{2} b_{b} {b^\\dagger_{c}}}{- 2 \\omega_{a} - \\omega_{b} + \\omega_{c}} + \\frac{12 g_{4} \\phi_{a}^{2} \\phi_{b} b_{a}^{2} b_{b} b_{c}}{- 2 \\omega_{a} - \\omega_{b} - \\omega_{c}} + \\frac{24 g_{4} \\phi_{a}^{2} \\phi_{b} {b^\\dagger_{a}} b_{a} {b^\\dagger_{b}} {b^\\dagger_{c}}}{\\omega_{b} + \\omega_{c}} + \\frac{12 g_{4} \\phi_{a}^{2} \\phi_{b} {b^\\dagger_{b}} {b^\\dagger_{c}}}{\\omega_{b} + \\omega_{c}} + \\frac{24 g_{4} \\phi_{a}^{2} \\phi_{b} {b^\\dagger_{a}} b_{a} {b^\\dagger_{b}} b_{c}}{\\omega_{b} - \\omega_{c}} + \\frac{12 g_{4} \\phi_{a}^{2} \\phi_{b} {b^\\dagger_{b}} b_{c}}{\\omega_{b} - \\omega_{c}} + \\frac{12 g_{4} \\phi_{a}^{2} \\phi_{b} b_{b} {b^\\dagger_{c}}}{- \\omega_{b} + \\omega_{c}} + \\frac{24 g_{4} \\phi_{a}^{2} \\phi_{b} {b^\\dagger_{a}} b_{a} b_{b} {b^\\dagger_{c}}}{- \\omega_{b} + \\omega_{c}} + \\frac{12 g_{4} \\phi_{a}^{2} \\phi_{b} b_{b} b_{c}}{- \\omega_{b} - \\omega_{c}} + \\frac{24 g_{4} \\phi_{a}^{2} \\phi_{b} {b^\\dagger_{a}} b_{a} b_{b} b_{c}}{- \\omega_{b} - \\omega_{c}} + \\frac{6 g_{4} \\phi_{a}^{2} {b^\\dagger_{a}}^{2} {b^\\dagger_{c}}^{2}}{2 \\omega_{a} + 2 \\omega_{c}} + \\frac{6 g_{4} \\phi_{a}^{2} {b^\\dagger_{a}}^{2} b_{c}^{2}}{2 \\omega_{a} - 2 \\omega_{c}} + \\frac{6 g_{4} \\phi_{a}^{2} b_{a}^{2} {b^\\dagger_{c}}^{2}}{- 2 \\omega_{a} + 2 \\omega_{c}} + \\frac{6 g_{4} \\phi_{a}^{2} b_{a}^{2} b_{c}^{2}}{- 2 \\omega_{a} - 2 \\omega_{c}} + \\frac{4 g_{4} \\phi_{a} \\phi_{b}^{3} {b^\\dagger_{a}} {b^\\dagger_{b}}^{3}}{\\omega_{a} + 3 \\omega_{b}} + \\frac{12 g_{4} \\phi_{a} \\phi_{b}^{3} {b^\\dagger_{a}} {b^\\dagger_{b}}}{\\omega_{a} + \\omega_{b}} + \\frac{12 g_{4} \\phi_{a} \\phi_{b}^{3} {b^\\dagger_{a}} {b^\\dagger_{b}}^{2} b_{b}}{\\omega_{a} + \\omega_{b}} + \\frac{12 g_{4} \\phi_{a} \\phi_{b}^{3} {b^\\dagger_{a}} b_{b}}{\\omega_{a} - \\omega_{b}} + \\frac{12 g_{4} \\phi_{a} \\phi_{b}^{3} {b^\\dagger_{a}} {b^\\dagger_{b}} b_{b}^{2}}{\\omega_{a} - \\omega_{b}} + \\frac{4 g_{4} \\phi_{a} \\phi_{b}^{3} {b^\\dagger_{a}} b_{b}^{3}}{\\omega_{a} - 3 \\omega_{b}} + \\frac{4 g_{4} \\phi_{a} \\phi_{b}^{3} b_{a} {b^\\dagger_{b}}^{3}}{- \\omega_{a} + 3 \\omega_{b}} + \\frac{12 g_{4} \\phi_{a} \\phi_{b}^{3} b_{a} {b^\\dagger_{b}}}{- \\omega_{a} + \\omega_{b}} + \\frac{12 g_{4} \\phi_{a} \\phi_{b}^{3} b_{a} {b^\\dagger_{b}}^{2} b_{b}}{- \\omega_{a} + \\omega_{b}} + \\frac{12 g_{4} \\phi_{a} \\phi_{b}^{3} b_{a} b_{b}}{- \\omega_{a} - \\omega_{b}} + \\frac{12 g_{4} \\phi_{a} \\phi_{b}^{3} b_{a} {b^\\dagger_{b}} b_{b}^{2}}{- \\omega_{a} - \\omega_{b}} + \\frac{4 g_{4} \\phi_{a} \\phi_{b}^{3} b_{a} b_{b}^{3}}{- \\omega_{a} - 3 \\omega_{b}} + \\frac{12 g_{4} \\phi_{a} \\phi_{b}^{2} {b^\\dagger_{a}} {b^\\dagger_{b}}^{2} {b^\\dagger_{c}}}{\\omega_{a} + 2 \\omega_{b} + \\omega_{c}} + \\frac{12 g_{4} \\phi_{a} \\phi_{b}^{2} {b^\\dagger_{a}} {b^\\dagger_{b}}^{2} b_{c}}{\\omega_{a} + 2 \\omega_{b} - \\omega_{c}} + \\frac{12 g_{4} \\phi_{a} \\phi_{b}^{2} {b^\\dagger_{a}} b_{b}^{2} {b^\\dagger_{c}}}{\\omega_{a} - 2 \\omega_{b} + \\omega_{c}} + \\frac{12 g_{4} \\phi_{a} \\phi_{b}^{2} {b^\\dagger_{a}} b_{b}^{2} b_{c}}{\\omega_{a} - 2 \\omega_{b} - \\omega_{c}} + \\frac{12 g_{4} \\phi_{a} \\phi_{b}^{2} b_{a} {b^\\dagger_{b}}^{2} {b^\\dagger_{c}}}{- \\omega_{a} + 2 \\omega_{b} + \\omega_{c}} + \\frac{12 g_{4} \\phi_{a} \\phi_{b}^{2} b_{a} {b^\\dagger_{b}}^{2} b_{c}}{- \\omega_{a} + 2 \\omega_{b} - \\omega_{c}} + \\frac{12 g_{4} \\phi_{a} \\phi_{b}^{2} b_{a} b_{b}^{2} {b^\\dagger_{c}}}{- \\omega_{a} - 2 \\omega_{b} + \\omega_{c}} + \\frac{12 g_{4} \\phi_{a} \\phi_{b}^{2} b_{a} b_{b}^{2} b_{c}}{- \\omega_{a} - 2 \\omega_{b} - \\omega_{c}} + \\frac{24 g_{4} \\phi_{a} \\phi_{b}^{2} {b^\\dagger_{a}} {b^\\dagger_{b}} b_{b} {b^\\dagger_{c}}}{\\omega_{a} + \\omega_{c}} + \\frac{12 g_{4} \\phi_{a} \\phi_{b}^{2} {b^\\dagger_{a}} {b^\\dagger_{c}}}{\\omega_{a} + \\omega_{c}} + \\frac{12 g_{4} \\phi_{a} \\phi_{b}^{2} {b^\\dagger_{a}} b_{c}}{\\omega_{a} - \\omega_{c}} + \\frac{24 g_{4} \\phi_{a} \\phi_{b}^{2} {b^\\dagger_{a}} {b^\\dagger_{b}} b_{b} b_{c}}{\\omega_{a} - \\omega_{c}} + \\frac{24 g_{4} \\phi_{a} \\phi_{b}^{2} b_{a} {b^\\dagger_{b}} b_{b} {b^\\dagger_{c}}}{- \\omega_{a} + \\omega_{c}} + \\frac{12 g_{4} \\phi_{a} \\phi_{b}^{2} b_{a} {b^\\dagger_{c}}}{- \\omega_{a} + \\omega_{c}} + \\frac{12 g_{4} \\phi_{a} \\phi_{b}^{2} b_{a} b_{c}}{- \\omega_{a} - \\omega_{c}} + \\frac{24 g_{4} \\phi_{a} \\phi_{b}^{2} b_{a} {b^\\dagger_{b}} b_{b} b_{c}}{- \\omega_{a} - \\omega_{c}} + \\frac{12 g_{4} \\phi_{a} \\phi_{b} {b^\\dagger_{a}} {b^\\dagger_{b}} {b^\\dagger_{c}}^{2}}{\\omega_{a} + \\omega_{b} + 2 \\omega_{c}} + \\frac{12 g_{4} \\phi_{a} \\phi_{b} {b^\\dagger_{a}} {b^\\dagger_{b}} b_{c}^{2}}{\\omega_{a} + \\omega_{b} - 2 \\omega_{c}} + \\frac{12 g_{4} \\phi_{a} \\phi_{b} {b^\\dagger_{a}} b_{b} {b^\\dagger_{c}}^{2}}{\\omega_{a} - \\omega_{b} + 2 \\omega_{c}} + \\frac{12 g_{4} \\phi_{a} \\phi_{b} {b^\\dagger_{a}} b_{b} b_{c}^{2}}{\\omega_{a} - \\omega_{b} - 2 \\omega_{c}} + \\frac{12 g_{4} \\phi_{a} \\phi_{b} b_{a} {b^\\dagger_{b}} {b^\\dagger_{c}}^{2}}{- \\omega_{a} + \\omega_{b} + 2 \\omega_{c}} + \\frac{12 g_{4} \\phi_{a} \\phi_{b} b_{a} {b^\\dagger_{b}} b_{c}^{2}}{- \\omega_{a} + \\omega_{b} - 2 \\omega_{c}} + \\frac{12 g_{4} \\phi_{a} \\phi_{b} b_{a} b_{b} {b^\\dagger_{c}}^{2}}{- \\omega_{a} - \\omega_{b} + 2 \\omega_{c}} + \\frac{12 g_{4} \\phi_{a} \\phi_{b} b_{a} b_{b} b_{c}^{2}}{- \\omega_{a} - \\omega_{b} - 2 \\omega_{c}} + \\frac{12 g_{4} \\phi_{a} \\phi_{b} {b^\\dagger_{a}} {b^\\dagger_{b}}}{\\omega_{a} + \\omega_{b}} + \\frac{24 g_{4} \\phi_{a} \\phi_{b} {b^\\dagger_{a}} {b^\\dagger_{b}} {b^\\dagger_{c}} b_{c}}{\\omega_{a} + \\omega_{b}} + \\frac{12 g_{4} \\phi_{a} \\phi_{b} {b^\\dagger_{a}} b_{b}}{\\omega_{a} - \\omega_{b}} + \\frac{24 g_{4} \\phi_{a} \\phi_{b} {b^\\dagger_{a}} b_{b} {b^\\dagger_{c}} b_{c}}{\\omega_{a} - \\omega_{b}} + \\frac{12 g_{4} \\phi_{a} \\phi_{b} b_{a} {b^\\dagger_{b}}}{- \\omega_{a} + \\omega_{b}} + \\frac{24 g_{4} \\phi_{a} \\phi_{b} b_{a} {b^\\dagger_{b}} {b^\\dagger_{c}} b_{c}}{- \\omega_{a} + \\omega_{b}} + \\frac{12 g_{4} \\phi_{a} \\phi_{b} b_{a} b_{b}}{- \\omega_{a} - \\omega_{b}} + \\frac{24 g_{4} \\phi_{a} \\phi_{b} b_{a} b_{b} {b^\\dagger_{c}} b_{c}}{- \\omega_{a} - \\omega_{b}} + \\frac{4 g_{4} \\phi_{a} {b^\\dagger_{a}} {b^\\dagger_{c}}^{3}}{\\omega_{a} + 3 \\omega_{c}} + \\frac{12 g_{4} \\phi_{a} {b^\\dagger_{a}} {b^\\dagger_{c}}}{\\omega_{a} + \\omega_{c}} + \\frac{12 g_{4} \\phi_{a} {b^\\dagger_{a}} {b^\\dagger_{c}}^{2} b_{c}}{\\omega_{a} + \\omega_{c}} + \\frac{12 g_{4} \\phi_{a} {b^\\dagger_{a}} b_{c}}{\\omega_{a} - \\omega_{c}} + \\frac{12 g_{4} \\phi_{a} {b^\\dagger_{a}} {b^\\dagger_{c}} b_{c}^{2}}{\\omega_{a} - \\omega_{c}} + \\frac{4 g_{4} \\phi_{a} {b^\\dagger_{a}} b_{c}^{3}}{\\omega_{a} - 3 \\omega_{c}} + \\frac{4 g_{4} \\phi_{a} b_{a} {b^\\dagger_{c}}^{3}}{- \\omega_{a} + 3 \\omega_{c}} + \\frac{12 g_{4} \\phi_{a} b_{a} {b^\\dagger_{c}}}{- \\omega_{a} + \\omega_{c}} + \\frac{12 g_{4} \\phi_{a} b_{a} {b^\\dagger_{c}}^{2} b_{c}}{- \\omega_{a} + \\omega_{c}} + \\frac{12 g_{4} \\phi_{a} b_{a} b_{c}}{- \\omega_{a} - \\omega_{c}} + \\frac{12 g_{4} \\phi_{a} b_{a} {b^\\dagger_{c}} b_{c}^{2}}{- \\omega_{a} - \\omega_{c}} + \\frac{4 g_{4} \\phi_{a} b_{a} b_{c}^{3}}{- \\omega_{a} - 3 \\omega_{c}} + \\frac{4 g_{4} \\phi_{b}^{3} {b^\\dagger_{b}}^{3} {b^\\dagger_{c}}}{3 \\omega_{b} + \\omega_{c}} + \\frac{4 g_{4} \\phi_{b}^{3} {b^\\dagger_{b}}^{3} b_{c}}{3 \\omega_{b} - \\omega_{c}} + \\frac{12 g_{4} \\phi_{b}^{3} {b^\\dagger_{b}} {b^\\dagger_{c}}}{\\omega_{b} + \\omega_{c}} + \\frac{12 g_{4} \\phi_{b}^{3} {b^\\dagger_{b}}^{2} b_{b} {b^\\dagger_{c}}}{\\omega_{b} + \\omega_{c}} + \\frac{12 g_{4} \\phi_{b}^{3} {b^\\dagger_{b}} b_{c}}{\\omega_{b} - \\omega_{c}} + \\frac{12 g_{4} \\phi_{b}^{3} {b^\\dagger_{b}}^{2} b_{b} b_{c}}{\\omega_{b} - \\omega_{c}} + \\frac{12 g_{4} \\phi_{b}^{3} b_{b} {b^\\dagger_{c}}}{- \\omega_{b} + \\omega_{c}} + \\frac{12 g_{4} \\phi_{b}^{3} {b^\\dagger_{b}} b_{b}^{2} {b^\\dagger_{c}}}{- \\omega_{b} + \\omega_{c}} + \\frac{12 g_{4} \\phi_{b}^{3} b_{b} b_{c}}{- \\omega_{b} - \\omega_{c}} + \\frac{12 g_{4} \\phi_{b}^{3} {b^\\dagger_{b}} b_{b}^{2} b_{c}}{- \\omega_{b} - \\omega_{c}} + \\frac{4 g_{4} \\phi_{b}^{3} b_{b}^{3} {b^\\dagger_{c}}}{- 3 \\omega_{b} + \\omega_{c}} + \\frac{4 g_{4} \\phi_{b}^{3} b_{b}^{3} b_{c}}{- 3 \\omega_{b} - \\omega_{c}} + \\frac{6 g_{4} \\phi_{b}^{2} {b^\\dagger_{b}}^{2} {b^\\dagger_{c}}^{2}}{2 \\omega_{b} + 2 \\omega_{c}} + \\frac{6 g_{4} \\phi_{b}^{2} {b^\\dagger_{b}}^{2} b_{c}^{2}}{2 \\omega_{b} - 2 \\omega_{c}} + \\frac{6 g_{4} \\phi_{b}^{2} b_{b}^{2} {b^\\dagger_{c}}^{2}}{- 2 \\omega_{b} + 2 \\omega_{c}} + \\frac{6 g_{4} \\phi_{b}^{2} b_{b}^{2} b_{c}^{2}}{- 2 \\omega_{b} - 2 \\omega_{c}} + \\frac{4 g_{4} \\phi_{b} {b^\\dagger_{b}} {b^\\dagger_{c}}^{3}}{\\omega_{b} + 3 \\omega_{c}} + \\frac{12 g_{4} \\phi_{b} {b^\\dagger_{b}} {b^\\dagger_{c}}}{\\omega_{b} + \\omega_{c}} + \\frac{12 g_{4} \\phi_{b} {b^\\dagger_{b}} {b^\\dagger_{c}}^{2} b_{c}}{\\omega_{b} + \\omega_{c}} + \\frac{12 g_{4} \\phi_{b} {b^\\dagger_{b}} b_{c}}{\\omega_{b} - \\omega_{c}} + \\frac{12 g_{4} \\phi_{b} {b^\\dagger_{b}} {b^\\dagger_{c}} b_{c}^{2}}{\\omega_{b} - \\omega_{c}} + \\frac{4 g_{4} \\phi_{b} {b^\\dagger_{b}} b_{c}^{3}}{\\omega_{b} - 3 \\omega_{c}} + \\frac{4 g_{4} \\phi_{b} b_{b} {b^\\dagger_{c}}^{3}}{- \\omega_{b} + 3 \\omega_{c}} + \\frac{12 g_{4} \\phi_{b} b_{b} {b^\\dagger_{c}}}{- \\omega_{b} + \\omega_{c}} + \\frac{12 g_{4} \\phi_{b} b_{b} {b^\\dagger_{c}}^{2} b_{c}}{- \\omega_{b} + \\omega_{c}} + \\frac{12 g_{4} \\phi_{b} b_{b} b_{c}}{- \\omega_{b} - \\omega_{c}} + \\frac{12 g_{4} \\phi_{b} b_{b} {b^\\dagger_{c}} b_{c}^{2}}{- \\omega_{b} - \\omega_{c}} + \\frac{4 g_{4} \\phi_{b} b_{b} b_{c}^{3}}{- \\omega_{b} - 3 \\omega_{c}} - \\frac{3 g_{4} \\phi_{a}^{2} b_{c}^{2}}{\\omega_{c}} - \\frac{6 g_{4} \\phi_{a}^{2} {b^\\dagger_{a}} b_{a} b_{c}^{2}}{\\omega_{c}} + \\frac{6 g_{4} \\phi_{a}^{2} {b^\\dagger_{a}} b_{a} {b^\\dagger_{c}}^{2}}{\\omega_{c}} + \\frac{3 g_{4} \\phi_{a}^{2} {b^\\dagger_{c}}^{2}}{\\omega_{c}} - \\frac{3 g_{4} \\phi_{b}^{2} b_{c}^{2}}{\\omega_{c}} - \\frac{6 g_{4} \\phi_{b}^{2} {b^\\dagger_{b}} b_{b} b_{c}^{2}}{\\omega_{c}} + \\frac{6 g_{4} \\phi_{b}^{2} {b^\\dagger_{b}} b_{b} {b^\\dagger_{c}}^{2}}{\\omega_{c}} + \\frac{3 g_{4} \\phi_{b}^{2} {b^\\dagger_{c}}^{2}}{\\omega_{c}} - \\frac{3 g_{4} b_{c}^{2}}{\\omega_{c}} - \\frac{g_{4} b_{c}^{4}}{4 \\omega_{c}} - \\frac{2 g_{4} {b^\\dagger_{c}} b_{c}^{3}}{\\omega_{c}} + \\frac{3 g_{4} {b^\\dagger_{c}}^{2}}{\\omega_{c}} + \\frac{2 g_{4} {b^\\dagger_{c}}^{3} b_{c}}{\\omega_{c}} + \\frac{g_{4} {b^\\dagger_{c}}^{4}}{4 \\omega_{c}} - \\frac{3 g_{4} \\phi_{a}^{2} \\phi_{b}^{2} b_{b}^{2}}{\\omega_{b}} - \\frac{6 g_{4} \\phi_{a}^{2} \\phi_{b}^{2} {b^\\dagger_{a}} b_{a} b_{b}^{2}}{\\omega_{b}} + \\frac{6 g_{4} \\phi_{a}^{2} \\phi_{b}^{2} {b^\\dagger_{a}} b_{a} {b^\\dagger_{b}}^{2}}{\\omega_{b}} + \\frac{3 g_{4} \\phi_{a}^{2} \\phi_{b}^{2} {b^\\dagger_{b}}^{2}}{\\omega_{b}} - \\frac{3 g_{4} \\phi_{b}^{4} b_{b}^{2}}{\\omega_{b}} - \\frac{g_{4} \\phi_{b}^{4} b_{b}^{4}}{4 \\omega_{b}} - \\frac{2 g_{4} \\phi_{b}^{4} {b^\\dagger_{b}} b_{b}^{3}}{\\omega_{b}} + \\frac{3 g_{4} \\phi_{b}^{4} {b^\\dagger_{b}}^{2}}{\\omega_{b}} + \\frac{2 g_{4} \\phi_{b}^{4} {b^\\dagger_{b}}^{3} b_{b}}{\\omega_{b}} + \\frac{g_{4} \\phi_{b}^{4} {b^\\dagger_{b}}^{4}}{4 \\omega_{b}} - \\frac{3 g_{4} \\phi_{b}^{2} b_{b}^{2}}{\\omega_{b}} - \\frac{6 g_{4} \\phi_{b}^{2} b_{b}^{2} {b^\\dagger_{c}} b_{c}}{\\omega_{b}} + \\frac{3 g_{4} \\phi_{b}^{2} {b^\\dagger_{b}}^{2}}{\\omega_{b}} + \\frac{6 g_{4} \\phi_{b}^{2} {b^\\dagger_{b}}^{2} {b^\\dagger_{c}} b_{c}}{\\omega_{b}} - \\frac{3 g_{4} \\phi_{a}^{4} b_{a}^{2}}{\\omega_{a}} - \\frac{g_{4} \\phi_{a}^{4} b_{a}^{4}}{4 \\omega_{a}} - \\frac{2 g_{4} \\phi_{a}^{4} {b^\\dagger_{a}} b_{a}^{3}}{\\omega_{a}} + \\frac{3 g_{4} \\phi_{a}^{4} {b^\\dagger_{a}}^{2}}{\\omega_{a}} + \\frac{2 g_{4} \\phi_{a}^{4} {b^\\dagger_{a}}^{3} b_{a}}{\\omega_{a}} + \\frac{g_{4} \\phi_{a}^{4} {b^\\dagger_{a}}^{4}}{4 \\omega_{a}} - \\frac{3 g_{4} \\phi_{a}^{2} \\phi_{b}^{2} b_{a}^{2}}{\\omega_{a}} - \\frac{6 g_{4} \\phi_{a}^{2} \\phi_{b}^{2} b_{a}^{2} {b^\\dagger_{b}} b_{b}}{\\omega_{a}} + \\frac{3 g_{4} \\phi_{a}^{2} \\phi_{b}^{2} {b^\\dagger_{a}}^{2}}{\\omega_{a}} + \\frac{6 g_{4} \\phi_{a}^{2} \\phi_{b}^{2} {b^\\dagger_{a}}^{2} {b^\\dagger_{b}} b_{b}}{\\omega_{a}} - \\frac{3 g_{4} \\phi_{a}^{2} b_{a}^{2}}{\\omega_{a}} - \\frac{6 g_{4} \\phi_{a}^{2} b_{a}^{2} {b^\\dagger_{c}} b_{c}}{\\omega_{a}} + \\frac{3 g_{4} \\phi_{a}^{2} {b^\\dagger_{a}}^{2}}{\\omega_{a}} + \\frac{6 g_{4} \\phi_{a}^{2} {b^\\dagger_{a}}^{2} {b^\\dagger_{c}} b_{c}}{\\omega_{a}}$"
      ],
      "text/plain": [
       "3*g3*phi_a**2*phi_b*CreateBoson(a)**2*CreateBoson(b)/(2*omega_a + omega_b) + 3*g3*phi_a**2*phi_b*CreateBoson(a)**2*AnnihilateBoson(b)/(2*omega_a - omega_b) + 3*g3*phi_a**2*phi_b*AnnihilateBoson(a)**2*CreateBoson(b)/(-2*omega_a + omega_b) + 3*g3*phi_a**2*phi_b*AnnihilateBoson(a)**2*AnnihilateBoson(b)/(-2*omega_a - omega_b) + 3*g3*phi_a**2*CreateBoson(a)**2*CreateBoson(c)/(2*omega_a + omega_c) + 3*g3*phi_a**2*CreateBoson(a)**2*AnnihilateBoson(c)/(2*omega_a - omega_c) + 3*g3*phi_a**2*AnnihilateBoson(a)**2*CreateBoson(c)/(-2*omega_a + omega_c) + 3*g3*phi_a**2*AnnihilateBoson(a)**2*AnnihilateBoson(c)/(-2*omega_a - omega_c) + 3*g3*phi_a*phi_b**2*CreateBoson(a)*CreateBoson(b)**2/(omega_a + 2*omega_b) + 3*g3*phi_a*phi_b**2*CreateBoson(a)*AnnihilateBoson(b)**2/(omega_a - 2*omega_b) + 3*g3*phi_a*phi_b**2*AnnihilateBoson(a)*CreateBoson(b)**2/(-omega_a + 2*omega_b) + 3*g3*phi_a*phi_b**2*AnnihilateBoson(a)*AnnihilateBoson(b)**2/(-omega_a - 2*omega_b) + 6*g3*phi_a*phi_b*CreateBoson(a)*CreateBoson(b)*CreateBoson(c)/(omega_a + omega_b + omega_c) + 6*g3*phi_a*phi_b*CreateBoson(a)*CreateBoson(b)*AnnihilateBoson(c)/(omega_a + omega_b - omega_c) + 6*g3*phi_a*phi_b*CreateBoson(a)*AnnihilateBoson(b)*CreateBoson(c)/(omega_a - omega_b + omega_c) + 6*g3*phi_a*phi_b*CreateBoson(a)*AnnihilateBoson(b)*AnnihilateBoson(c)/(omega_a - omega_b - omega_c) + 6*g3*phi_a*phi_b*AnnihilateBoson(a)*CreateBoson(b)*CreateBoson(c)/(-omega_a + omega_b + omega_c) + 6*g3*phi_a*phi_b*AnnihilateBoson(a)*CreateBoson(b)*AnnihilateBoson(c)/(-omega_a + omega_b - omega_c) + 6*g3*phi_a*phi_b*AnnihilateBoson(a)*AnnihilateBoson(b)*CreateBoson(c)/(-omega_a - omega_b + omega_c) + 6*g3*phi_a*phi_b*AnnihilateBoson(a)*AnnihilateBoson(b)*AnnihilateBoson(c)/(-omega_a - omega_b - omega_c) + 3*g3*phi_a*CreateBoson(a)*CreateBoson(c)**2/(omega_a + 2*omega_c) + 3*g3*phi_a*CreateBoson(a)*AnnihilateBoson(c)**2/(omega_a - 2*omega_c) + 3*g3*phi_a*AnnihilateBoson(a)*CreateBoson(c)**2/(-omega_a + 2*omega_c) + 3*g3*phi_a*AnnihilateBoson(a)*AnnihilateBoson(c)**2/(-omega_a - 2*omega_c) + 3*g3*phi_b**2*CreateBoson(b)**2*CreateBoson(c)/(2*omega_b + omega_c) + 3*g3*phi_b**2*CreateBoson(b)**2*AnnihilateBoson(c)/(2*omega_b - omega_c) + 3*g3*phi_b**2*AnnihilateBoson(b)**2*CreateBoson(c)/(-2*omega_b + omega_c) + 3*g3*phi_b**2*AnnihilateBoson(b)**2*AnnihilateBoson(c)/(-2*omega_b - omega_c) + 3*g3*phi_b*CreateBoson(b)*CreateBoson(c)**2/(omega_b + 2*omega_c) + 3*g3*phi_b*CreateBoson(b)*AnnihilateBoson(c)**2/(omega_b - 2*omega_c) + 3*g3*phi_b*AnnihilateBoson(b)*CreateBoson(c)**2/(-omega_b + 2*omega_c) + 3*g3*phi_b*AnnihilateBoson(b)*AnnihilateBoson(c)**2/(-omega_b - 2*omega_c) - 3*g3*phi_a**2*AnnihilateBoson(c)/omega_c - 6*g3*phi_a**2*CreateBoson(a)*AnnihilateBoson(a)*AnnihilateBoson(c)/omega_c + 6*g3*phi_a**2*CreateBoson(a)*AnnihilateBoson(a)*CreateBoson(c)/omega_c + 3*g3*phi_a**2*CreateBoson(c)/omega_c - 3*g3*phi_b**2*AnnihilateBoson(c)/omega_c - 6*g3*phi_b**2*CreateBoson(b)*AnnihilateBoson(b)*AnnihilateBoson(c)/omega_c + 6*g3*phi_b**2*CreateBoson(b)*AnnihilateBoson(b)*CreateBoson(c)/omega_c + 3*g3*phi_b**2*CreateBoson(c)/omega_c - 3*g3*AnnihilateBoson(c)/omega_c - g3*AnnihilateBoson(c)**3/(3*omega_c) + 3*g3*CreateBoson(c)/omega_c - 3*g3*CreateBoson(c)*AnnihilateBoson(c)**2/omega_c + 3*g3*CreateBoson(c)**2*AnnihilateBoson(c)/omega_c + g3*CreateBoson(c)**3/(3*omega_c) - 3*g3*phi_a**2*phi_b*AnnihilateBoson(b)/omega_b - 6*g3*phi_a**2*phi_b*CreateBoson(a)*AnnihilateBoson(a)*AnnihilateBoson(b)/omega_b + 6*g3*phi_a**2*phi_b*CreateBoson(a)*AnnihilateBoson(a)*CreateBoson(b)/omega_b + 3*g3*phi_a**2*phi_b*CreateBoson(b)/omega_b - 3*g3*phi_b**3*AnnihilateBoson(b)/omega_b - g3*phi_b**3*AnnihilateBoson(b)**3/(3*omega_b) + 3*g3*phi_b**3*CreateBoson(b)/omega_b - 3*g3*phi_b**3*CreateBoson(b)*AnnihilateBoson(b)**2/omega_b + 3*g3*phi_b**3*CreateBoson(b)**2*AnnihilateBoson(b)/omega_b + g3*phi_b**3*CreateBoson(b)**3/(3*omega_b) - 3*g3*phi_b*AnnihilateBoson(b)/omega_b - 6*g3*phi_b*AnnihilateBoson(b)*CreateBoson(c)*AnnihilateBoson(c)/omega_b + 3*g3*phi_b*CreateBoson(b)/omega_b + 6*g3*phi_b*CreateBoson(b)*CreateBoson(c)*AnnihilateBoson(c)/omega_b - 3*g3*phi_a**3*AnnihilateBoson(a)/omega_a - g3*phi_a**3*AnnihilateBoson(a)**3/(3*omega_a) + 3*g3*phi_a**3*CreateBoson(a)/omega_a - 3*g3*phi_a**3*CreateBoson(a)*AnnihilateBoson(a)**2/omega_a + 3*g3*phi_a**3*CreateBoson(a)**2*AnnihilateBoson(a)/omega_a + g3*phi_a**3*CreateBoson(a)**3/(3*omega_a) - 3*g3*phi_a*phi_b**2*AnnihilateBoson(a)/omega_a - 6*g3*phi_a*phi_b**2*AnnihilateBoson(a)*CreateBoson(b)*AnnihilateBoson(b)/omega_a + 3*g3*phi_a*phi_b**2*CreateBoson(a)/omega_a + 6*g3*phi_a*phi_b**2*CreateBoson(a)*CreateBoson(b)*AnnihilateBoson(b)/omega_a - 3*g3*phi_a*AnnihilateBoson(a)/omega_a - 6*g3*phi_a*AnnihilateBoson(a)*CreateBoson(c)*AnnihilateBoson(c)/omega_a + 3*g3*phi_a*CreateBoson(a)/omega_a + 6*g3*phi_a*CreateBoson(a)*CreateBoson(c)*AnnihilateBoson(c)/omega_a + 4*g4*phi_a**3*phi_b*CreateBoson(a)**3*CreateBoson(b)/(3*omega_a + omega_b) + 4*g4*phi_a**3*phi_b*CreateBoson(a)**3*AnnihilateBoson(b)/(3*omega_a - omega_b) + 12*g4*phi_a**3*phi_b*CreateBoson(a)*CreateBoson(b)/(omega_a + omega_b) + 12*g4*phi_a**3*phi_b*CreateBoson(a)**2*AnnihilateBoson(a)*CreateBoson(b)/(omega_a + omega_b) + 12*g4*phi_a**3*phi_b*CreateBoson(a)*AnnihilateBoson(b)/(omega_a - omega_b) + 12*g4*phi_a**3*phi_b*CreateBoson(a)**2*AnnihilateBoson(a)*AnnihilateBoson(b)/(omega_a - omega_b) + 12*g4*phi_a**3*phi_b*AnnihilateBoson(a)*CreateBoson(b)/(-omega_a + omega_b) + 12*g4*phi_a**3*phi_b*CreateBoson(a)*AnnihilateBoson(a)**2*CreateBoson(b)/(-omega_a + omega_b) + 12*g4*phi_a**3*phi_b*AnnihilateBoson(a)*AnnihilateBoson(b)/(-omega_a - omega_b) + 12*g4*phi_a**3*phi_b*CreateBoson(a)*AnnihilateBoson(a)**2*AnnihilateBoson(b)/(-omega_a - omega_b) + 4*g4*phi_a**3*phi_b*AnnihilateBoson(a)**3*CreateBoson(b)/(-3*omega_a + omega_b) + 4*g4*phi_a**3*phi_b*AnnihilateBoson(a)**3*AnnihilateBoson(b)/(-3*omega_a - omega_b) + 4*g4*phi_a**3*CreateBoson(a)**3*CreateBoson(c)/(3*omega_a + omega_c) + 4*g4*phi_a**3*CreateBoson(a)**3*AnnihilateBoson(c)/(3*omega_a - omega_c) + 12*g4*phi_a**3*CreateBoson(a)*CreateBoson(c)/(omega_a + omega_c) + 12*g4*phi_a**3*CreateBoson(a)**2*AnnihilateBoson(a)*CreateBoson(c)/(omega_a + omega_c) + 12*g4*phi_a**3*CreateBoson(a)*AnnihilateBoson(c)/(omega_a - omega_c) + 12*g4*phi_a**3*CreateBoson(a)**2*AnnihilateBoson(a)*AnnihilateBoson(c)/(omega_a - omega_c) + 12*g4*phi_a**3*AnnihilateBoson(a)*CreateBoson(c)/(-omega_a + omega_c) + 12*g4*phi_a**3*CreateBoson(a)*AnnihilateBoson(a)**2*CreateBoson(c)/(-omega_a + omega_c) + 12*g4*phi_a**3*AnnihilateBoson(a)*AnnihilateBoson(c)/(-omega_a - omega_c) + 12*g4*phi_a**3*CreateBoson(a)*AnnihilateBoson(a)**2*AnnihilateBoson(c)/(-omega_a - omega_c) + 4*g4*phi_a**3*AnnihilateBoson(a)**3*CreateBoson(c)/(-3*omega_a + omega_c) + 4*g4*phi_a**3*AnnihilateBoson(a)**3*AnnihilateBoson(c)/(-3*omega_a - omega_c) + 6*g4*phi_a**2*phi_b**2*CreateBoson(a)**2*CreateBoson(b)**2/(2*omega_a + 2*omega_b) + 6*g4*phi_a**2*phi_b**2*CreateBoson(a)**2*AnnihilateBoson(b)**2/(2*omega_a - 2*omega_b) + 6*g4*phi_a**2*phi_b**2*AnnihilateBoson(a)**2*CreateBoson(b)**2/(-2*omega_a + 2*omega_b) + 6*g4*phi_a**2*phi_b**2*AnnihilateBoson(a)**2*AnnihilateBoson(b)**2/(-2*omega_a - 2*omega_b) + 12*g4*phi_a**2*phi_b*CreateBoson(a)**2*CreateBoson(b)*CreateBoson(c)/(2*omega_a + omega_b + omega_c) + 12*g4*phi_a**2*phi_b*CreateBoson(a)**2*CreateBoson(b)*AnnihilateBoson(c)/(2*omega_a + omega_b - omega_c) + 12*g4*phi_a**2*phi_b*CreateBoson(a)**2*AnnihilateBoson(b)*CreateBoson(c)/(2*omega_a - omega_b + omega_c) + 12*g4*phi_a**2*phi_b*CreateBoson(a)**2*AnnihilateBoson(b)*AnnihilateBoson(c)/(2*omega_a - omega_b - omega_c) + 12*g4*phi_a**2*phi_b*AnnihilateBoson(a)**2*CreateBoson(b)*CreateBoson(c)/(-2*omega_a + omega_b + omega_c) + 12*g4*phi_a**2*phi_b*AnnihilateBoson(a)**2*CreateBoson(b)*AnnihilateBoson(c)/(-2*omega_a + omega_b - omega_c) + 12*g4*phi_a**2*phi_b*AnnihilateBoson(a)**2*AnnihilateBoson(b)*CreateBoson(c)/(-2*omega_a - omega_b + omega_c) + 12*g4*phi_a**2*phi_b*AnnihilateBoson(a)**2*AnnihilateBoson(b)*AnnihilateBoson(c)/(-2*omega_a - omega_b - omega_c) + 24*g4*phi_a**2*phi_b*CreateBoson(a)*AnnihilateBoson(a)*CreateBoson(b)*CreateBoson(c)/(omega_b + omega_c) + 12*g4*phi_a**2*phi_b*CreateBoson(b)*CreateBoson(c)/(omega_b + omega_c) + 24*g4*phi_a**2*phi_b*CreateBoson(a)*AnnihilateBoson(a)*CreateBoson(b)*AnnihilateBoson(c)/(omega_b - omega_c) + 12*g4*phi_a**2*phi_b*CreateBoson(b)*AnnihilateBoson(c)/(omega_b - omega_c) + 12*g4*phi_a**2*phi_b*AnnihilateBoson(b)*CreateBoson(c)/(-omega_b + omega_c) + 24*g4*phi_a**2*phi_b*CreateBoson(a)*AnnihilateBoson(a)*AnnihilateBoson(b)*CreateBoson(c)/(-omega_b + omega_c) + 12*g4*phi_a**2*phi_b*AnnihilateBoson(b)*AnnihilateBoson(c)/(-omega_b - omega_c) + 24*g4*phi_a**2*phi_b*CreateBoson(a)*AnnihilateBoson(a)*AnnihilateBoson(b)*AnnihilateBoson(c)/(-omega_b - omega_c) + 6*g4*phi_a**2*CreateBoson(a)**2*CreateBoson(c)**2/(2*omega_a + 2*omega_c) + 6*g4*phi_a**2*CreateBoson(a)**2*AnnihilateBoson(c)**2/(2*omega_a - 2*omega_c) + 6*g4*phi_a**2*AnnihilateBoson(a)**2*CreateBoson(c)**2/(-2*omega_a + 2*omega_c) + 6*g4*phi_a**2*AnnihilateBoson(a)**2*AnnihilateBoson(c)**2/(-2*omega_a - 2*omega_c) + 4*g4*phi_a*phi_b**3*CreateBoson(a)*CreateBoson(b)**3/(omega_a + 3*omega_b) + 12*g4*phi_a*phi_b**3*CreateBoson(a)*CreateBoson(b)/(omega_a + omega_b) + 12*g4*phi_a*phi_b**3*CreateBoson(a)*CreateBoson(b)**2*AnnihilateBoson(b)/(omega_a + omega_b) + 12*g4*phi_a*phi_b**3*CreateBoson(a)*AnnihilateBoson(b)/(omega_a - omega_b) + 12*g4*phi_a*phi_b**3*CreateBoson(a)*CreateBoson(b)*AnnihilateBoson(b)**2/(omega_a - omega_b) + 4*g4*phi_a*phi_b**3*CreateBoson(a)*AnnihilateBoson(b)**3/(omega_a - 3*omega_b) + 4*g4*phi_a*phi_b**3*AnnihilateBoson(a)*CreateBoson(b)**3/(-omega_a + 3*omega_b) + 12*g4*phi_a*phi_b**3*AnnihilateBoson(a)*CreateBoson(b)/(-omega_a + omega_b) + 12*g4*phi_a*phi_b**3*AnnihilateBoson(a)*CreateBoson(b)**2*AnnihilateBoson(b)/(-omega_a + omega_b) + 12*g4*phi_a*phi_b**3*AnnihilateBoson(a)*AnnihilateBoson(b)/(-omega_a - omega_b) + 12*g4*phi_a*phi_b**3*AnnihilateBoson(a)*CreateBoson(b)*AnnihilateBoson(b)**2/(-omega_a - omega_b) + 4*g4*phi_a*phi_b**3*AnnihilateBoson(a)*AnnihilateBoson(b)**3/(-omega_a - 3*omega_b) + 12*g4*phi_a*phi_b**2*CreateBoson(a)*CreateBoson(b)**2*CreateBoson(c)/(omega_a + 2*omega_b + omega_c) + 12*g4*phi_a*phi_b**2*CreateBoson(a)*CreateBoson(b)**2*AnnihilateBoson(c)/(omega_a + 2*omega_b - omega_c) + 12*g4*phi_a*phi_b**2*CreateBoson(a)*AnnihilateBoson(b)**2*CreateBoson(c)/(omega_a - 2*omega_b + omega_c) + 12*g4*phi_a*phi_b**2*CreateBoson(a)*AnnihilateBoson(b)**2*AnnihilateBoson(c)/(omega_a - 2*omega_b - omega_c) + 12*g4*phi_a*phi_b**2*AnnihilateBoson(a)*CreateBoson(b)**2*CreateBoson(c)/(-omega_a + 2*omega_b + omega_c) + 12*g4*phi_a*phi_b**2*AnnihilateBoson(a)*CreateBoson(b)**2*AnnihilateBoson(c)/(-omega_a + 2*omega_b - omega_c) + 12*g4*phi_a*phi_b**2*AnnihilateBoson(a)*AnnihilateBoson(b)**2*CreateBoson(c)/(-omega_a - 2*omega_b + omega_c) + 12*g4*phi_a*phi_b**2*AnnihilateBoson(a)*AnnihilateBoson(b)**2*AnnihilateBoson(c)/(-omega_a - 2*omega_b - omega_c) + 24*g4*phi_a*phi_b**2*CreateBoson(a)*CreateBoson(b)*AnnihilateBoson(b)*CreateBoson(c)/(omega_a + omega_c) + 12*g4*phi_a*phi_b**2*CreateBoson(a)*CreateBoson(c)/(omega_a + omega_c) + 12*g4*phi_a*phi_b**2*CreateBoson(a)*AnnihilateBoson(c)/(omega_a - omega_c) + 24*g4*phi_a*phi_b**2*CreateBoson(a)*CreateBoson(b)*AnnihilateBoson(b)*AnnihilateBoson(c)/(omega_a - omega_c) + 24*g4*phi_a*phi_b**2*AnnihilateBoson(a)*CreateBoson(b)*AnnihilateBoson(b)*CreateBoson(c)/(-omega_a + omega_c) + 12*g4*phi_a*phi_b**2*AnnihilateBoson(a)*CreateBoson(c)/(-omega_a + omega_c) + 12*g4*phi_a*phi_b**2*AnnihilateBoson(a)*AnnihilateBoson(c)/(-omega_a - omega_c) + 24*g4*phi_a*phi_b**2*AnnihilateBoson(a)*CreateBoson(b)*AnnihilateBoson(b)*AnnihilateBoson(c)/(-omega_a - omega_c) + 12*g4*phi_a*phi_b*CreateBoson(a)*CreateBoson(b)*CreateBoson(c)**2/(omega_a + omega_b + 2*omega_c) + 12*g4*phi_a*phi_b*CreateBoson(a)*CreateBoson(b)*AnnihilateBoson(c)**2/(omega_a + omega_b - 2*omega_c) + 12*g4*phi_a*phi_b*CreateBoson(a)*AnnihilateBoson(b)*CreateBoson(c)**2/(omega_a - omega_b + 2*omega_c) + 12*g4*phi_a*phi_b*CreateBoson(a)*AnnihilateBoson(b)*AnnihilateBoson(c)**2/(omega_a - omega_b - 2*omega_c) + 12*g4*phi_a*phi_b*AnnihilateBoson(a)*CreateBoson(b)*CreateBoson(c)**2/(-omega_a + omega_b + 2*omega_c) + 12*g4*phi_a*phi_b*AnnihilateBoson(a)*CreateBoson(b)*AnnihilateBoson(c)**2/(-omega_a + omega_b - 2*omega_c) + 12*g4*phi_a*phi_b*AnnihilateBoson(a)*AnnihilateBoson(b)*CreateBoson(c)**2/(-omega_a - omega_b + 2*omega_c) + 12*g4*phi_a*phi_b*AnnihilateBoson(a)*AnnihilateBoson(b)*AnnihilateBoson(c)**2/(-omega_a - omega_b - 2*omega_c) + 12*g4*phi_a*phi_b*CreateBoson(a)*CreateBoson(b)/(omega_a + omega_b) + 24*g4*phi_a*phi_b*CreateBoson(a)*CreateBoson(b)*CreateBoson(c)*AnnihilateBoson(c)/(omega_a + omega_b) + 12*g4*phi_a*phi_b*CreateBoson(a)*AnnihilateBoson(b)/(omega_a - omega_b) + 24*g4*phi_a*phi_b*CreateBoson(a)*AnnihilateBoson(b)*CreateBoson(c)*AnnihilateBoson(c)/(omega_a - omega_b) + 12*g4*phi_a*phi_b*AnnihilateBoson(a)*CreateBoson(b)/(-omega_a + omega_b) + 24*g4*phi_a*phi_b*AnnihilateBoson(a)*CreateBoson(b)*CreateBoson(c)*AnnihilateBoson(c)/(-omega_a + omega_b) + 12*g4*phi_a*phi_b*AnnihilateBoson(a)*AnnihilateBoson(b)/(-omega_a - omega_b) + 24*g4*phi_a*phi_b*AnnihilateBoson(a)*AnnihilateBoson(b)*CreateBoson(c)*AnnihilateBoson(c)/(-omega_a - omega_b) + 4*g4*phi_a*CreateBoson(a)*CreateBoson(c)**3/(omega_a + 3*omega_c) + 12*g4*phi_a*CreateBoson(a)*CreateBoson(c)/(omega_a + omega_c) + 12*g4*phi_a*CreateBoson(a)*CreateBoson(c)**2*AnnihilateBoson(c)/(omega_a + omega_c) + 12*g4*phi_a*CreateBoson(a)*AnnihilateBoson(c)/(omega_a - omega_c) + 12*g4*phi_a*CreateBoson(a)*CreateBoson(c)*AnnihilateBoson(c)**2/(omega_a - omega_c) + 4*g4*phi_a*CreateBoson(a)*AnnihilateBoson(c)**3/(omega_a - 3*omega_c) + 4*g4*phi_a*AnnihilateBoson(a)*CreateBoson(c)**3/(-omega_a + 3*omega_c) + 12*g4*phi_a*AnnihilateBoson(a)*CreateBoson(c)/(-omega_a + omega_c) + 12*g4*phi_a*AnnihilateBoson(a)*CreateBoson(c)**2*AnnihilateBoson(c)/(-omega_a + omega_c) + 12*g4*phi_a*AnnihilateBoson(a)*AnnihilateBoson(c)/(-omega_a - omega_c) + 12*g4*phi_a*AnnihilateBoson(a)*CreateBoson(c)*AnnihilateBoson(c)**2/(-omega_a - omega_c) + 4*g4*phi_a*AnnihilateBoson(a)*AnnihilateBoson(c)**3/(-omega_a - 3*omega_c) + 4*g4*phi_b**3*CreateBoson(b)**3*CreateBoson(c)/(3*omega_b + omega_c) + 4*g4*phi_b**3*CreateBoson(b)**3*AnnihilateBoson(c)/(3*omega_b - omega_c) + 12*g4*phi_b**3*CreateBoson(b)*CreateBoson(c)/(omega_b + omega_c) + 12*g4*phi_b**3*CreateBoson(b)**2*AnnihilateBoson(b)*CreateBoson(c)/(omega_b + omega_c) + 12*g4*phi_b**3*CreateBoson(b)*AnnihilateBoson(c)/(omega_b - omega_c) + 12*g4*phi_b**3*CreateBoson(b)**2*AnnihilateBoson(b)*AnnihilateBoson(c)/(omega_b - omega_c) + 12*g4*phi_b**3*AnnihilateBoson(b)*CreateBoson(c)/(-omega_b + omega_c) + 12*g4*phi_b**3*CreateBoson(b)*AnnihilateBoson(b)**2*CreateBoson(c)/(-omega_b + omega_c) + 12*g4*phi_b**3*AnnihilateBoson(b)*AnnihilateBoson(c)/(-omega_b - omega_c) + 12*g4*phi_b**3*CreateBoson(b)*AnnihilateBoson(b)**2*AnnihilateBoson(c)/(-omega_b - omega_c) + 4*g4*phi_b**3*AnnihilateBoson(b)**3*CreateBoson(c)/(-3*omega_b + omega_c) + 4*g4*phi_b**3*AnnihilateBoson(b)**3*AnnihilateBoson(c)/(-3*omega_b - omega_c) + 6*g4*phi_b**2*CreateBoson(b)**2*CreateBoson(c)**2/(2*omega_b + 2*omega_c) + 6*g4*phi_b**2*CreateBoson(b)**2*AnnihilateBoson(c)**2/(2*omega_b - 2*omega_c) + 6*g4*phi_b**2*AnnihilateBoson(b)**2*CreateBoson(c)**2/(-2*omega_b + 2*omega_c) + 6*g4*phi_b**2*AnnihilateBoson(b)**2*AnnihilateBoson(c)**2/(-2*omega_b - 2*omega_c) + 4*g4*phi_b*CreateBoson(b)*CreateBoson(c)**3/(omega_b + 3*omega_c) + 12*g4*phi_b*CreateBoson(b)*CreateBoson(c)/(omega_b + omega_c) + 12*g4*phi_b*CreateBoson(b)*CreateBoson(c)**2*AnnihilateBoson(c)/(omega_b + omega_c) + 12*g4*phi_b*CreateBoson(b)*AnnihilateBoson(c)/(omega_b - omega_c) + 12*g4*phi_b*CreateBoson(b)*CreateBoson(c)*AnnihilateBoson(c)**2/(omega_b - omega_c) + 4*g4*phi_b*CreateBoson(b)*AnnihilateBoson(c)**3/(omega_b - 3*omega_c) + 4*g4*phi_b*AnnihilateBoson(b)*CreateBoson(c)**3/(-omega_b + 3*omega_c) + 12*g4*phi_b*AnnihilateBoson(b)*CreateBoson(c)/(-omega_b + omega_c) + 12*g4*phi_b*AnnihilateBoson(b)*CreateBoson(c)**2*AnnihilateBoson(c)/(-omega_b + omega_c) + 12*g4*phi_b*AnnihilateBoson(b)*AnnihilateBoson(c)/(-omega_b - omega_c) + 12*g4*phi_b*AnnihilateBoson(b)*CreateBoson(c)*AnnihilateBoson(c)**2/(-omega_b - omega_c) + 4*g4*phi_b*AnnihilateBoson(b)*AnnihilateBoson(c)**3/(-omega_b - 3*omega_c) - 3*g4*phi_a**2*AnnihilateBoson(c)**2/omega_c - 6*g4*phi_a**2*CreateBoson(a)*AnnihilateBoson(a)*AnnihilateBoson(c)**2/omega_c + 6*g4*phi_a**2*CreateBoson(a)*AnnihilateBoson(a)*CreateBoson(c)**2/omega_c + 3*g4*phi_a**2*CreateBoson(c)**2/omega_c - 3*g4*phi_b**2*AnnihilateBoson(c)**2/omega_c - 6*g4*phi_b**2*CreateBoson(b)*AnnihilateBoson(b)*AnnihilateBoson(c)**2/omega_c + 6*g4*phi_b**2*CreateBoson(b)*AnnihilateBoson(b)*CreateBoson(c)**2/omega_c + 3*g4*phi_b**2*CreateBoson(c)**2/omega_c - 3*g4*AnnihilateBoson(c)**2/omega_c - g4*AnnihilateBoson(c)**4/(4*omega_c) - 2*g4*CreateBoson(c)*AnnihilateBoson(c)**3/omega_c + 3*g4*CreateBoson(c)**2/omega_c + 2*g4*CreateBoson(c)**3*AnnihilateBoson(c)/omega_c + g4*CreateBoson(c)**4/(4*omega_c) - 3*g4*phi_a**2*phi_b**2*AnnihilateBoson(b)**2/omega_b - 6*g4*phi_a**2*phi_b**2*CreateBoson(a)*AnnihilateBoson(a)*AnnihilateBoson(b)**2/omega_b + 6*g4*phi_a**2*phi_b**2*CreateBoson(a)*AnnihilateBoson(a)*CreateBoson(b)**2/omega_b + 3*g4*phi_a**2*phi_b**2*CreateBoson(b)**2/omega_b - 3*g4*phi_b**4*AnnihilateBoson(b)**2/omega_b - g4*phi_b**4*AnnihilateBoson(b)**4/(4*omega_b) - 2*g4*phi_b**4*CreateBoson(b)*AnnihilateBoson(b)**3/omega_b + 3*g4*phi_b**4*CreateBoson(b)**2/omega_b + 2*g4*phi_b**4*CreateBoson(b)**3*AnnihilateBoson(b)/omega_b + g4*phi_b**4*CreateBoson(b)**4/(4*omega_b) - 3*g4*phi_b**2*AnnihilateBoson(b)**2/omega_b - 6*g4*phi_b**2*AnnihilateBoson(b)**2*CreateBoson(c)*AnnihilateBoson(c)/omega_b + 3*g4*phi_b**2*CreateBoson(b)**2/omega_b + 6*g4*phi_b**2*CreateBoson(b)**2*CreateBoson(c)*AnnihilateBoson(c)/omega_b - 3*g4*phi_a**4*AnnihilateBoson(a)**2/omega_a - g4*phi_a**4*AnnihilateBoson(a)**4/(4*omega_a) - 2*g4*phi_a**4*CreateBoson(a)*AnnihilateBoson(a)**3/omega_a + 3*g4*phi_a**4*CreateBoson(a)**2/omega_a + 2*g4*phi_a**4*CreateBoson(a)**3*AnnihilateBoson(a)/omega_a + g4*phi_a**4*CreateBoson(a)**4/(4*omega_a) - 3*g4*phi_a**2*phi_b**2*AnnihilateBoson(a)**2/omega_a - 6*g4*phi_a**2*phi_b**2*AnnihilateBoson(a)**2*CreateBoson(b)*AnnihilateBoson(b)/omega_a + 3*g4*phi_a**2*phi_b**2*CreateBoson(a)**2/omega_a + 6*g4*phi_a**2*phi_b**2*CreateBoson(a)**2*CreateBoson(b)*AnnihilateBoson(b)/omega_a - 3*g4*phi_a**2*AnnihilateBoson(a)**2/omega_a - 6*g4*phi_a**2*AnnihilateBoson(a)**2*CreateBoson(c)*AnnihilateBoson(c)/omega_a + 3*g4*phi_a**2*CreateBoson(a)**2/omega_a + 6*g4*phi_a**2*CreateBoson(a)**2*CreateBoson(c)*AnnihilateBoson(c)/omega_a"
      ]
     },
     "execution_count": 13,
     "metadata": {},
     "output_type": "execute_result"
    }
   ],
   "source": [
    "s1"
   ]
  },
  {
   "cell_type": "code",
   "execution_count": 12,
   "id": "db049298-86f3-4db4-a574-8c6864c4d9be",
   "metadata": {
    "execution": {
     "iopub.execute_input": "2023-09-17T20:03:49.582405Z",
     "iopub.status.busy": "2023-09-17T20:03:49.577260Z",
     "iopub.status.idle": "2023-09-17T20:03:49.708529Z",
     "shell.execute_reply": "2023-09-17T20:03:49.707994Z",
     "shell.execute_reply.started": "2023-09-17T20:03:49.582085Z"
    },
    "tags": []
   },
   "outputs": [],
   "source": [
    "s_tot = s1 * kappa \n",
    "s_tot_1 = s1 * kappa"
   ]
  },
  {
   "cell_type": "code",
   "execution_count": 13,
   "id": "b7c909c3-5f63-4c26-a37e-65eaf2ce9833",
   "metadata": {
    "execution": {
     "iopub.execute_input": "2023-09-18T21:08:13.540738Z",
     "iopub.status.busy": "2023-09-18T21:08:13.540071Z",
     "iopub.status.idle": "2023-09-18T21:08:13.550599Z",
     "shell.execute_reply": "2023-09-18T21:08:13.549700Z",
     "shell.execute_reply.started": "2023-09-18T21:08:13.540691Z"
    }
   },
   "outputs": [
    {
     "data": {
      "text/plain": [
       "248"
      ]
     },
     "execution_count": 13,
     "metadata": {},
     "output_type": "execute_result"
    }
   ],
   "source": [
    "len(s1.args)"
   ]
  },
  {
   "cell_type": "code",
   "execution_count": 14,
   "id": "3a36f566-ab71-4291-8995-87f935dcade1",
   "metadata": {
    "execution": {
     "iopub.execute_input": "2023-09-18T21:08:20.213322Z",
     "iopub.status.busy": "2023-09-18T21:08:20.212730Z",
     "iopub.status.idle": "2023-09-18T21:08:20.225512Z",
     "shell.execute_reply": "2023-09-18T21:08:20.224691Z",
     "shell.execute_reply.started": "2023-09-18T21:08:20.213291Z"
    }
   },
   "outputs": [
    {
     "data": {
      "text/plain": [
       "317"
      ]
     },
     "execution_count": 14,
     "metadata": {},
     "output_type": "execute_result"
    }
   ],
   "source": [
    "len(v.args)"
   ]
  },
  {
   "cell_type": "code",
   "execution_count": 15,
   "id": "c53202b8-dafb-4b3e-a582-fc9de68300c9",
   "metadata": {
    "execution": {
     "iopub.execute_input": "2023-09-17T20:05:39.738298Z",
     "iopub.status.busy": "2023-09-17T20:05:39.737617Z",
     "iopub.status.idle": "2023-09-17T20:15:45.315768Z",
     "shell.execute_reply": "2023-09-17T20:15:45.315418Z",
     "shell.execute_reply.started": "2023-09-17T20:05:39.738254Z"
    },
    "tags": []
   },
   "outputs": [
    {
     "name": "stdout",
     "output_type": "stream",
     "text": [
      "x\n",
      "x\n",
      "x\n"
     ]
    }
   ],
   "source": [
    "h_tot = h0 + kappa*v \n",
    "h_eff_2 = 0\n",
    "\n",
    "temp_2 = m_normal(Commutator(s_tot_1, h_tot.coeff(kappa,1)*kappa**1).doit() )\n",
    "print('x')\n",
    "temp_1 = m_normal(Commutator(s_tot_1, h_tot.coeff(kappa,0)*kappa**0).doit() )\n",
    "print('x')\n",
    "h_eff_2 += temp_2\n",
    "\n",
    "temp_2 = m_normal(Commutator(s_tot_1, temp_1).doit())\n",
    "print('x')\n",
    "h_eff_2 += sp.Rational(1,2) * temp_2\n",
    "\n",
    "h_eff_2 = h_eff_2.expand()"
   ]
  },
  {
   "cell_type": "code",
   "execution_count": 16,
   "id": "f07ff33e-9eab-4157-a0cc-5236a4091686",
   "metadata": {
    "execution": {
     "iopub.execute_input": "2023-09-17T20:20:30.096566Z",
     "iopub.status.busy": "2023-09-17T20:20:30.095881Z",
     "iopub.status.idle": "2023-09-17T20:22:14.397641Z",
     "shell.execute_reply": "2023-09-17T20:22:14.397256Z",
     "shell.execute_reply.started": "2023-09-17T20:20:30.096511Z"
    },
    "tags": []
   },
   "outputs": [],
   "source": [
    "v2 = m_normal(h_eff_2.coeff(kappa,2))"
   ]
  },
  {
   "cell_type": "code",
   "execution_count": 17,
   "id": "fae0223d-e61b-463b-80c8-dfd47114936c",
   "metadata": {
    "execution": {
     "iopub.execute_input": "2023-09-17T20:23:52.377775Z",
     "iopub.status.busy": "2023-09-17T20:23:52.377286Z",
     "iopub.status.idle": "2023-09-17T20:24:35.343164Z",
     "shell.execute_reply": "2023-09-17T20:24:35.342834Z",
     "shell.execute_reply.started": "2023-09-17T20:23:52.377743Z"
    },
    "tags": []
   },
   "outputs": [],
   "source": [
    "temp = 0\n",
    "for term in v2.args:\n",
    "    if term.as_powers_dict()[ad] == term.as_powers_dict()[a] and term.as_powers_dict()[bd] == term.as_powers_dict()[b] and term.as_powers_dict()[cd] == term.as_powers_dict()[c]:\n",
    "        temp += term\n",
    "h2 = temp * 1"
   ]
  },
  {
   "cell_type": "code",
   "execution_count": 18,
   "id": "31bd6641-ac96-4428-84b0-65a8e18fd7e5",
   "metadata": {
    "execution": {
     "iopub.execute_input": "2023-09-17T20:24:37.664567Z",
     "iopub.status.busy": "2023-09-17T20:24:37.663838Z",
     "iopub.status.idle": "2023-09-17T20:24:37.699921Z",
     "shell.execute_reply": "2023-09-17T20:24:37.699627Z",
     "shell.execute_reply.started": "2023-09-17T20:24:37.664531Z"
    },
    "tags": []
   },
   "outputs": [],
   "source": [
    "temp = 0\n",
    "for term in v1.args:\n",
    "    if term.as_powers_dict()[ad] == term.as_powers_dict()[a] and term.as_powers_dict()[bd] == term.as_powers_dict()[b] and term.as_powers_dict()[cd] == term.as_powers_dict()[c]:\n",
    "        temp += term\n",
    "h1 = temp * 1"
   ]
  },
  {
   "cell_type": "code",
   "execution_count": 19,
   "id": "5b66bfa4-ef54-4d6a-924b-9dbc20c4c3a6",
   "metadata": {
    "execution": {
     "iopub.execute_input": "2023-09-18T16:07:49.874001Z",
     "iopub.status.busy": "2023-09-18T16:07:49.873469Z",
     "iopub.status.idle": "2023-09-18T16:07:49.888975Z",
     "shell.execute_reply": "2023-09-18T16:07:49.888280Z",
     "shell.execute_reply.started": "2023-09-18T16:07:49.873966Z"
    },
    "tags": []
   },
   "outputs": [
    {
     "data": {
      "text/latex": [
       "$\\displaystyle 24 g_{4} \\phi_{a}^{2} \\phi_{b}^{2}$"
      ],
      "text/plain": [
       "24*g4*phi_a**2*phi_b**2"
      ]
     },
     "execution_count": 19,
     "metadata": {},
     "output_type": "execute_result"
    }
   ],
   "source": [
    "h1.coeff(ad*a*bd*b)"
   ]
  },
  {
   "cell_type": "code",
   "execution_count": 20,
   "id": "29bbdda9-a139-4c8e-b6f1-0bb35f227068",
   "metadata": {
    "execution": {
     "iopub.execute_input": "2023-09-18T16:07:57.683856Z",
     "iopub.status.busy": "2023-09-18T16:07:57.682911Z",
     "iopub.status.idle": "2023-09-18T16:07:57.702308Z",
     "shell.execute_reply": "2023-09-18T16:07:57.701264Z",
     "shell.execute_reply.started": "2023-09-18T16:07:57.683800Z"
    }
   },
   "outputs": [
    {
     "data": {
      "text/latex": [
       "$\\displaystyle 6 g_{4} \\phi_{a}^{4}$"
      ],
      "text/plain": [
       "6*g4*phi_a**4"
      ]
     },
     "execution_count": 20,
     "metadata": {},
     "output_type": "execute_result"
    }
   ],
   "source": [
    "h1.coeff(ad**2*a**2)"
   ]
  },
  {
   "cell_type": "markdown",
   "id": "321dbc8f-d9c1-4535-94f2-05ed4188656c",
   "metadata": {},
   "source": [
    "### one operator only"
   ]
  },
  {
   "cell_type": "code",
   "execution_count": 33,
   "id": "b48bc499-eb5b-4c81-8eec-024da530b86b",
   "metadata": {
    "execution": {
     "iopub.execute_input": "2023-09-20T04:02:43.834786Z",
     "iopub.status.busy": "2023-09-20T04:02:43.834253Z",
     "iopub.status.idle": "2023-09-20T04:02:45.815912Z",
     "shell.execute_reply": "2023-09-20T04:02:45.815393Z",
     "shell.execute_reply.started": "2023-09-20T04:02:43.834726Z"
    }
   },
   "outputs": [],
   "source": [
    "ham_a = 0\n",
    "for term in h2.args:\n",
    "    if term.coeff(bd,0)!=0 and term.coeff(b,0)!=0 and term.coeff(cd,0)!=0 and term.coeff(c,0) != 0:\n",
    "        ham_a += term"
   ]
  },
  {
   "cell_type": "code",
   "execution_count": 34,
   "id": "8fbeb9fa-3e82-40c0-b278-075914b71035",
   "metadata": {
    "execution": {
     "iopub.execute_input": "2023-09-20T04:02:53.114808Z",
     "iopub.status.busy": "2023-09-20T04:02:53.114147Z",
     "iopub.status.idle": "2023-09-20T04:02:55.776437Z",
     "shell.execute_reply": "2023-09-20T04:02:55.776042Z",
     "shell.execute_reply.started": "2023-09-20T04:02:53.114761Z"
    }
   },
   "outputs": [],
   "source": [
    "ham_b = 0\n",
    "for term in h2.args:\n",
    "    if term.coeff(ad,0)!=0 and term.coeff(a,0)!=0 and term.coeff(cd,0)!=0 and term.coeff(c,0) != 0:\n",
    "        ham_b += term"
   ]
  },
  {
   "cell_type": "code",
   "execution_count": 35,
   "id": "b8da0734-f961-443c-92ae-01f46dc16d02",
   "metadata": {
    "execution": {
     "iopub.execute_input": "2023-09-20T04:05:31.694794Z",
     "iopub.status.busy": "2023-09-20T04:05:31.694420Z",
     "iopub.status.idle": "2023-09-20T04:05:42.536238Z",
     "shell.execute_reply": "2023-09-20T04:05:42.535915Z",
     "shell.execute_reply.started": "2023-09-20T04:05:31.694770Z"
    }
   },
   "outputs": [],
   "source": [
    "ham_ab = 0\n",
    "for term in h2.args:\n",
    "    if term.coeff(cd,0)!=0 and term.coeff(c,0) != 0:\n",
    "        ham_ab += term"
   ]
  },
  {
   "cell_type": "markdown",
   "id": "9385ea27-889f-4a80-8343-b97ce852334c",
   "metadata": {},
   "source": [
    "### cross Kerr"
   ]
  },
  {
   "cell_type": "code",
   "execution_count": 36,
   "id": "51743755-0959-46a8-bb41-b5315f573b62",
   "metadata": {
    "execution": {
     "iopub.execute_input": "2023-09-20T04:05:49.512797Z",
     "iopub.status.busy": "2023-09-20T04:05:49.512007Z",
     "iopub.status.idle": "2023-09-20T04:05:49.570399Z",
     "shell.execute_reply": "2023-09-20T04:05:49.570024Z",
     "shell.execute_reply.started": "2023-09-20T04:05:49.512750Z"
    }
   },
   "outputs": [],
   "source": [
    "temp = 0\n",
    "for term in ham_ab.args:\n",
    "    temp += term.coeff(ad*a*bd*b * g3**2 * phi_a**2 * phi_b**2)"
   ]
  },
  {
   "cell_type": "code",
   "execution_count": 37,
   "id": "6944440d-bd65-4034-a81c-89f50a59850c",
   "metadata": {
    "execution": {
     "iopub.execute_input": "2023-09-20T04:05:52.407912Z",
     "iopub.status.busy": "2023-09-20T04:05:52.407449Z",
     "iopub.status.idle": "2023-09-20T04:05:52.438764Z",
     "shell.execute_reply": "2023-09-20T04:05:52.438373Z",
     "shell.execute_reply.started": "2023-09-20T04:05:52.407879Z"
    }
   },
   "outputs": [
    {
     "data": {
      "text/latex": [
       "$\\displaystyle \\frac{36 \\omega_{a}}{- \\omega_{a}^{2} + 2 \\omega_{a} \\omega_{b} + 2 \\omega_{a} \\omega_{c} - \\omega_{b}^{2} - 2 \\omega_{b} \\omega_{c} - \\omega_{c}^{2}} - \\frac{36 \\omega_{a}}{- \\omega_{a}^{2} + 2 \\omega_{a} \\omega_{b} - 2 \\omega_{a} \\omega_{c} - \\omega_{b}^{2} + 2 \\omega_{b} \\omega_{c} - \\omega_{c}^{2}} + \\frac{36 \\omega_{a}}{- \\omega_{a}^{2} - 2 \\omega_{a} \\omega_{b} + 2 \\omega_{a} \\omega_{c} - \\omega_{b}^{2} + 2 \\omega_{b} \\omega_{c} - \\omega_{c}^{2}} - \\frac{36 \\omega_{a}}{- \\omega_{a}^{2} - 2 \\omega_{a} \\omega_{b} - 2 \\omega_{a} \\omega_{c} - \\omega_{b}^{2} - 2 \\omega_{b} \\omega_{c} - \\omega_{c}^{2}} - \\frac{36 \\omega_{b}}{- \\omega_{a}^{2} + 2 \\omega_{a} \\omega_{b} + 2 \\omega_{a} \\omega_{c} - \\omega_{b}^{2} - 2 \\omega_{b} \\omega_{c} - \\omega_{c}^{2}} + \\frac{36 \\omega_{b}}{- \\omega_{a}^{2} + 2 \\omega_{a} \\omega_{b} - 2 \\omega_{a} \\omega_{c} - \\omega_{b}^{2} + 2 \\omega_{b} \\omega_{c} - \\omega_{c}^{2}} + \\frac{36 \\omega_{b}}{- \\omega_{a}^{2} - 2 \\omega_{a} \\omega_{b} + 2 \\omega_{a} \\omega_{c} - \\omega_{b}^{2} + 2 \\omega_{b} \\omega_{c} - \\omega_{c}^{2}} - \\frac{36 \\omega_{b}}{- \\omega_{a}^{2} - 2 \\omega_{a} \\omega_{b} - 2 \\omega_{a} \\omega_{c} - \\omega_{b}^{2} - 2 \\omega_{b} \\omega_{c} - \\omega_{c}^{2}} - \\frac{36 \\omega_{c}}{- \\omega_{a}^{2} + 2 \\omega_{a} \\omega_{b} + 2 \\omega_{a} \\omega_{c} - \\omega_{b}^{2} - 2 \\omega_{b} \\omega_{c} - \\omega_{c}^{2}} - \\frac{36 \\omega_{c}}{- \\omega_{a}^{2} + 2 \\omega_{a} \\omega_{b} - 2 \\omega_{a} \\omega_{c} - \\omega_{b}^{2} + 2 \\omega_{b} \\omega_{c} - \\omega_{c}^{2}} - \\frac{36 \\omega_{c}}{- \\omega_{a}^{2} - 2 \\omega_{a} \\omega_{b} + 2 \\omega_{a} \\omega_{c} - \\omega_{b}^{2} + 2 \\omega_{b} \\omega_{c} - \\omega_{c}^{2}} - \\frac{36 \\omega_{c}}{- \\omega_{a}^{2} - 2 \\omega_{a} \\omega_{b} - 2 \\omega_{a} \\omega_{c} - \\omega_{b}^{2} - 2 \\omega_{b} \\omega_{c} - \\omega_{c}^{2}} - \\frac{36}{\\omega_{a} + \\omega_{b} + \\omega_{c}} + \\frac{36}{\\omega_{a} + \\omega_{b} - \\omega_{c}} - \\frac{36}{\\omega_{a} - \\omega_{b} + \\omega_{c}} + \\frac{36}{\\omega_{a} - \\omega_{b} - \\omega_{c}} - \\frac{36}{- \\omega_{a} + \\omega_{b} + \\omega_{c}} + \\frac{36}{- \\omega_{a} + \\omega_{b} - \\omega_{c}} - \\frac{36}{- \\omega_{a} - \\omega_{b} + \\omega_{c}} + \\frac{36}{- \\omega_{a} - \\omega_{b} - \\omega_{c}} - \\frac{72}{\\omega_{c}}$"
      ],
      "text/plain": [
       "36*omega_a/(-omega_a**2 + 2*omega_a*omega_b + 2*omega_a*omega_c - omega_b**2 - 2*omega_b*omega_c - omega_c**2) - 36*omega_a/(-omega_a**2 + 2*omega_a*omega_b - 2*omega_a*omega_c - omega_b**2 + 2*omega_b*omega_c - omega_c**2) + 36*omega_a/(-omega_a**2 - 2*omega_a*omega_b + 2*omega_a*omega_c - omega_b**2 + 2*omega_b*omega_c - omega_c**2) - 36*omega_a/(-omega_a**2 - 2*omega_a*omega_b - 2*omega_a*omega_c - omega_b**2 - 2*omega_b*omega_c - omega_c**2) - 36*omega_b/(-omega_a**2 + 2*omega_a*omega_b + 2*omega_a*omega_c - omega_b**2 - 2*omega_b*omega_c - omega_c**2) + 36*omega_b/(-omega_a**2 + 2*omega_a*omega_b - 2*omega_a*omega_c - omega_b**2 + 2*omega_b*omega_c - omega_c**2) + 36*omega_b/(-omega_a**2 - 2*omega_a*omega_b + 2*omega_a*omega_c - omega_b**2 + 2*omega_b*omega_c - omega_c**2) - 36*omega_b/(-omega_a**2 - 2*omega_a*omega_b - 2*omega_a*omega_c - omega_b**2 - 2*omega_b*omega_c - omega_c**2) - 36*omega_c/(-omega_a**2 + 2*omega_a*omega_b + 2*omega_a*omega_c - omega_b**2 - 2*omega_b*omega_c - omega_c**2) - 36*omega_c/(-omega_a**2 + 2*omega_a*omega_b - 2*omega_a*omega_c - omega_b**2 + 2*omega_b*omega_c - omega_c**2) - 36*omega_c/(-omega_a**2 - 2*omega_a*omega_b + 2*omega_a*omega_c - omega_b**2 + 2*omega_b*omega_c - omega_c**2) - 36*omega_c/(-omega_a**2 - 2*omega_a*omega_b - 2*omega_a*omega_c - omega_b**2 - 2*omega_b*omega_c - omega_c**2) - 36/(omega_a + omega_b + omega_c) + 36/(omega_a + omega_b - omega_c) - 36/(omega_a - omega_b + omega_c) + 36/(omega_a - omega_b - omega_c) - 36/(-omega_a + omega_b + omega_c) + 36/(-omega_a + omega_b - omega_c) - 36/(-omega_a - omega_b + omega_c) + 36/(-omega_a - omega_b - omega_c) - 72/omega_c"
      ]
     },
     "execution_count": 37,
     "metadata": {},
     "output_type": "execute_result"
    }
   ],
   "source": [
    "temp"
   ]
  },
  {
   "cell_type": "code",
   "execution_count": 26,
   "id": "25302e0f-7cae-4515-905c-9a5001cb5db2",
   "metadata": {
    "execution": {
     "iopub.execute_input": "2023-09-20T04:06:02.975512Z",
     "iopub.status.busy": "2023-09-20T04:06:02.974680Z",
     "iopub.status.idle": "2023-09-20T04:06:03.262500Z",
     "shell.execute_reply": "2023-09-20T04:06:03.262176Z",
     "shell.execute_reply.started": "2023-09-20T04:06:02.975472Z"
    }
   },
   "outputs": [
    {
     "data": {
      "text/latex": [
       "$\\displaystyle - \\frac{72 \\left(\\omega_{a}^{4} - 2 \\omega_{a}^{2} \\omega_{b}^{2} - 4 \\omega_{a}^{2} \\omega_{c}^{2} + \\omega_{b}^{4} - 4 \\omega_{b}^{2} \\omega_{c}^{2} + 3 \\omega_{c}^{4}\\right)}{\\omega_{c} \\left(\\omega_{a} - \\omega_{b} - \\omega_{c}\\right) \\left(\\omega_{a} - \\omega_{b} + \\omega_{c}\\right) \\left(\\omega_{a} + \\omega_{b} - \\omega_{c}\\right) \\left(\\omega_{a} + \\omega_{b} + \\omega_{c}\\right)}$"
      ],
      "text/plain": [
       "-72*(omega_a**4 - 2*omega_a**2*omega_b**2 - 4*omega_a**2*omega_c**2 + omega_b**4 - 4*omega_b**2*omega_c**2 + 3*omega_c**4)/(omega_c*(omega_a - omega_b - omega_c)*(omega_a - omega_b + omega_c)*(omega_a + omega_b - omega_c)*(omega_a + omega_b + omega_c))"
      ]
     },
     "execution_count": 26,
     "metadata": {},
     "output_type": "execute_result"
    }
   ],
   "source": [
    "sp.factor(sp.simplify(temp))"
   ]
  },
  {
   "cell_type": "code",
   "execution_count": 50,
   "id": "3e292cf9",
   "metadata": {},
   "outputs": [],
   "source": [
    "temp = 0\n",
    "for term in h2.args:\n",
    "    temp += term.coeff(ad*a*bd*b)"
   ]
  },
  {
   "cell_type": "code",
   "execution_count": 51,
   "id": "398436e9",
   "metadata": {},
   "outputs": [
    {
     "data": {
      "text/latex": [
       "$\\displaystyle - \\frac{72 g_{3}^{2} \\omega_{a} \\phi_{a}^{4} \\phi_{b}^{2}}{- 4 \\omega_{a}^{2} + 4 \\omega_{a} \\omega_{b} - \\omega_{b}^{2}} - \\frac{72 g_{3}^{2} \\omega_{a} \\phi_{a}^{4} \\phi_{b}^{2}}{- 4 \\omega_{a}^{2} - 4 \\omega_{a} \\omega_{b} - \\omega_{b}^{2}} + \\frac{36 g_{3}^{2} \\omega_{a} \\phi_{a}^{2} \\phi_{b}^{4}}{- \\omega_{a}^{2} + 4 \\omega_{a} \\omega_{b} - 4 \\omega_{b}^{2}} - \\frac{36 g_{3}^{2} \\omega_{a} \\phi_{a}^{2} \\phi_{b}^{4}}{- \\omega_{a}^{2} - 4 \\omega_{a} \\omega_{b} - 4 \\omega_{b}^{2}} + \\frac{36 g_{3}^{2} \\omega_{a} \\phi_{a}^{2} \\phi_{b}^{2}}{- \\omega_{a}^{2} + 2 \\omega_{a} \\omega_{b} + 2 \\omega_{a} \\omega_{c} - \\omega_{b}^{2} - 2 \\omega_{b} \\omega_{c} - \\omega_{c}^{2}} - \\frac{36 g_{3}^{2} \\omega_{a} \\phi_{a}^{2} \\phi_{b}^{2}}{- \\omega_{a}^{2} + 2 \\omega_{a} \\omega_{b} - 2 \\omega_{a} \\omega_{c} - \\omega_{b}^{2} + 2 \\omega_{b} \\omega_{c} - \\omega_{c}^{2}} + \\frac{36 g_{3}^{2} \\omega_{a} \\phi_{a}^{2} \\phi_{b}^{2}}{- \\omega_{a}^{2} - 2 \\omega_{a} \\omega_{b} + 2 \\omega_{a} \\omega_{c} - \\omega_{b}^{2} + 2 \\omega_{b} \\omega_{c} - \\omega_{c}^{2}} - \\frac{36 g_{3}^{2} \\omega_{a} \\phi_{a}^{2} \\phi_{b}^{2}}{- \\omega_{a}^{2} - 2 \\omega_{a} \\omega_{b} - 2 \\omega_{a} \\omega_{c} - \\omega_{b}^{2} - 2 \\omega_{b} \\omega_{c} - \\omega_{c}^{2}} + \\frac{36 g_{3}^{2} \\omega_{b} \\phi_{a}^{4} \\phi_{b}^{2}}{- 4 \\omega_{a}^{2} + 4 \\omega_{a} \\omega_{b} - \\omega_{b}^{2}} - \\frac{36 g_{3}^{2} \\omega_{b} \\phi_{a}^{4} \\phi_{b}^{2}}{- 4 \\omega_{a}^{2} - 4 \\omega_{a} \\omega_{b} - \\omega_{b}^{2}} - \\frac{72 g_{3}^{2} \\omega_{b} \\phi_{a}^{2} \\phi_{b}^{4}}{- \\omega_{a}^{2} + 4 \\omega_{a} \\omega_{b} - 4 \\omega_{b}^{2}} - \\frac{72 g_{3}^{2} \\omega_{b} \\phi_{a}^{2} \\phi_{b}^{4}}{- \\omega_{a}^{2} - 4 \\omega_{a} \\omega_{b} - 4 \\omega_{b}^{2}} - \\frac{36 g_{3}^{2} \\omega_{b} \\phi_{a}^{2} \\phi_{b}^{2}}{- \\omega_{a}^{2} + 2 \\omega_{a} \\omega_{b} + 2 \\omega_{a} \\omega_{c} - \\omega_{b}^{2} - 2 \\omega_{b} \\omega_{c} - \\omega_{c}^{2}} + \\frac{36 g_{3}^{2} \\omega_{b} \\phi_{a}^{2} \\phi_{b}^{2}}{- \\omega_{a}^{2} + 2 \\omega_{a} \\omega_{b} - 2 \\omega_{a} \\omega_{c} - \\omega_{b}^{2} + 2 \\omega_{b} \\omega_{c} - \\omega_{c}^{2}} + \\frac{36 g_{3}^{2} \\omega_{b} \\phi_{a}^{2} \\phi_{b}^{2}}{- \\omega_{a}^{2} - 2 \\omega_{a} \\omega_{b} + 2 \\omega_{a} \\omega_{c} - \\omega_{b}^{2} + 2 \\omega_{b} \\omega_{c} - \\omega_{c}^{2}} - \\frac{36 g_{3}^{2} \\omega_{b} \\phi_{a}^{2} \\phi_{b}^{2}}{- \\omega_{a}^{2} - 2 \\omega_{a} \\omega_{b} - 2 \\omega_{a} \\omega_{c} - \\omega_{b}^{2} - 2 \\omega_{b} \\omega_{c} - \\omega_{c}^{2}} - \\frac{36 g_{3}^{2} \\omega_{c} \\phi_{a}^{2} \\phi_{b}^{2}}{- \\omega_{a}^{2} + 2 \\omega_{a} \\omega_{b} + 2 \\omega_{a} \\omega_{c} - \\omega_{b}^{2} - 2 \\omega_{b} \\omega_{c} - \\omega_{c}^{2}} - \\frac{36 g_{3}^{2} \\omega_{c} \\phi_{a}^{2} \\phi_{b}^{2}}{- \\omega_{a}^{2} + 2 \\omega_{a} \\omega_{b} - 2 \\omega_{a} \\omega_{c} - \\omega_{b}^{2} + 2 \\omega_{b} \\omega_{c} - \\omega_{c}^{2}} - \\frac{36 g_{3}^{2} \\omega_{c} \\phi_{a}^{2} \\phi_{b}^{2}}{- \\omega_{a}^{2} - 2 \\omega_{a} \\omega_{b} + 2 \\omega_{a} \\omega_{c} - \\omega_{b}^{2} + 2 \\omega_{b} \\omega_{c} - \\omega_{c}^{2}} - \\frac{36 g_{3}^{2} \\omega_{c} \\phi_{a}^{2} \\phi_{b}^{2}}{- \\omega_{a}^{2} - 2 \\omega_{a} \\omega_{b} - 2 \\omega_{a} \\omega_{c} - \\omega_{b}^{2} - 2 \\omega_{b} \\omega_{c} - \\omega_{c}^{2}} - \\frac{36 g_{3}^{2} \\phi_{a}^{4} \\phi_{b}^{2}}{2 \\omega_{a} + \\omega_{b}} - \\frac{36 g_{3}^{2} \\phi_{a}^{4} \\phi_{b}^{2}}{2 \\omega_{a} - \\omega_{b}} + \\frac{36 g_{3}^{2} \\phi_{a}^{4} \\phi_{b}^{2}}{- 2 \\omega_{a} + \\omega_{b}} + \\frac{36 g_{3}^{2} \\phi_{a}^{4} \\phi_{b}^{2}}{- 2 \\omega_{a} - \\omega_{b}} - \\frac{36 g_{3}^{2} \\phi_{a}^{2} \\phi_{b}^{4}}{\\omega_{a} + 2 \\omega_{b}} + \\frac{36 g_{3}^{2} \\phi_{a}^{2} \\phi_{b}^{4}}{\\omega_{a} - 2 \\omega_{b}} - \\frac{36 g_{3}^{2} \\phi_{a}^{2} \\phi_{b}^{4}}{- \\omega_{a} + 2 \\omega_{b}} + \\frac{36 g_{3}^{2} \\phi_{a}^{2} \\phi_{b}^{4}}{- \\omega_{a} - 2 \\omega_{b}} - \\frac{36 g_{3}^{2} \\phi_{a}^{2} \\phi_{b}^{2}}{\\omega_{a} + \\omega_{b} + \\omega_{c}} + \\frac{36 g_{3}^{2} \\phi_{a}^{2} \\phi_{b}^{2}}{\\omega_{a} + \\omega_{b} - \\omega_{c}} - \\frac{36 g_{3}^{2} \\phi_{a}^{2} \\phi_{b}^{2}}{\\omega_{a} - \\omega_{b} + \\omega_{c}} + \\frac{36 g_{3}^{2} \\phi_{a}^{2} \\phi_{b}^{2}}{\\omega_{a} - \\omega_{b} - \\omega_{c}} - \\frac{36 g_{3}^{2} \\phi_{a}^{2} \\phi_{b}^{2}}{- \\omega_{a} + \\omega_{b} + \\omega_{c}} + \\frac{36 g_{3}^{2} \\phi_{a}^{2} \\phi_{b}^{2}}{- \\omega_{a} + \\omega_{b} - \\omega_{c}} - \\frac{36 g_{3}^{2} \\phi_{a}^{2} \\phi_{b}^{2}}{- \\omega_{a} - \\omega_{b} + \\omega_{c}} + \\frac{36 g_{3}^{2} \\phi_{a}^{2} \\phi_{b}^{2}}{- \\omega_{a} - \\omega_{b} - \\omega_{c}} - \\frac{72 g_{3}^{2} \\phi_{a}^{2} \\phi_{b}^{2}}{\\omega_{c}} - \\frac{72 g_{3}^{2} \\phi_{a}^{2} \\phi_{b}^{4}}{\\omega_{b}} - \\frac{72 g_{3}^{2} \\phi_{a}^{4} \\phi_{b}^{2}}{\\omega_{a}} - \\frac{864 g_{4}^{2} \\omega_{a} \\phi_{a}^{6} \\phi_{b}^{2}}{- \\omega_{a}^{2} + 2 \\omega_{a} \\omega_{b} - \\omega_{b}^{2}} - \\frac{864 g_{4}^{2} \\omega_{a} \\phi_{a}^{6} \\phi_{b}^{2}}{- \\omega_{a}^{2} - 2 \\omega_{a} \\omega_{b} - \\omega_{b}^{2}} - \\frac{864 g_{4}^{2} \\omega_{a} \\phi_{a}^{6} \\phi_{b}^{2}}{- 9 \\omega_{a}^{2} + 6 \\omega_{a} \\omega_{b} - \\omega_{b}^{2}} - \\frac{864 g_{4}^{2} \\omega_{a} \\phi_{a}^{6} \\phi_{b}^{2}}{- 9 \\omega_{a}^{2} - 6 \\omega_{a} \\omega_{b} - \\omega_{b}^{2}} - \\frac{2304 g_{4}^{2} \\omega_{a} \\phi_{a}^{4} \\phi_{b}^{4}}{- \\omega_{a}^{2} - 2 \\omega_{a} \\omega_{b} - \\omega_{b}^{2}} - \\frac{1152 g_{4}^{2} \\omega_{a} \\phi_{a}^{4} \\phi_{b}^{4}}{- 4 \\omega_{a}^{2} - 8 \\omega_{a} \\omega_{b} - 4 \\omega_{b}^{2}} - \\frac{1152 g_{4}^{2} \\omega_{a} \\phi_{a}^{4} \\phi_{b}^{2}}{- 4 \\omega_{a}^{2} + 4 \\omega_{a} \\omega_{b} + 4 \\omega_{a} \\omega_{c} - \\omega_{b}^{2} - 2 \\omega_{b} \\omega_{c} - \\omega_{c}^{2}} - \\frac{2304 g_{4}^{2} \\omega_{a} \\phi_{a}^{4} \\phi_{b}^{2}}{- 4 \\omega_{a}^{2} + 4 \\omega_{a} \\omega_{b} - 4 \\omega_{a} \\omega_{c} - \\omega_{b}^{2} + 2 \\omega_{b} \\omega_{c} - \\omega_{c}^{2}} - \\frac{1152 g_{4}^{2} \\omega_{a} \\phi_{a}^{4} \\phi_{b}^{2}}{- 4 \\omega_{a}^{2} - 4 \\omega_{a} \\omega_{b} + 4 \\omega_{a} \\omega_{c} - \\omega_{b}^{2} + 2 \\omega_{b} \\omega_{c} - \\omega_{c}^{2}} - \\frac{2304 g_{4}^{2} \\omega_{a} \\phi_{a}^{4} \\phi_{b}^{2}}{- 4 \\omega_{a}^{2} - 4 \\omega_{a} \\omega_{b} - 4 \\omega_{a} \\omega_{c} - \\omega_{b}^{2} - 2 \\omega_{b} \\omega_{c} - \\omega_{c}^{2}} - \\frac{576 g_{4}^{2} \\omega_{a} \\phi_{a}^{4} \\phi_{b}^{2}}{- \\omega_{a}^{2} + 2 \\omega_{a} \\omega_{c} - \\omega_{c}^{2}} - \\frac{2880 g_{4}^{2} \\omega_{a} \\phi_{a}^{4} \\phi_{b}^{2}}{- \\omega_{a}^{2} - 2 \\omega_{a} \\omega_{c} - \\omega_{c}^{2}} - \\frac{1728 g_{4}^{2} \\omega_{a} \\phi_{a}^{4} \\phi_{b}^{2}}{- \\omega_{a}^{2} + 2 \\omega_{a} \\omega_{b} - \\omega_{b}^{2}} - \\frac{1728 g_{4}^{2} \\omega_{a} \\phi_{a}^{4} \\phi_{b}^{2}}{- \\omega_{a}^{2} - 2 \\omega_{a} \\omega_{b} - \\omega_{b}^{2}} + \\frac{288 g_{4}^{2} \\omega_{a} \\phi_{a}^{2} \\phi_{b}^{6}}{- \\omega_{a}^{2} + 6 \\omega_{a} \\omega_{b} - 9 \\omega_{b}^{2}} + \\frac{864 g_{4}^{2} \\omega_{a} \\phi_{a}^{2} \\phi_{b}^{6}}{- \\omega_{a}^{2} + 2 \\omega_{a} \\omega_{b} - \\omega_{b}^{2}} - \\frac{864 g_{4}^{2} \\omega_{a} \\phi_{a}^{2} \\phi_{b}^{6}}{- \\omega_{a}^{2} - 2 \\omega_{a} \\omega_{b} - \\omega_{b}^{2}} - \\frac{288 g_{4}^{2} \\omega_{a} \\phi_{a}^{2} \\phi_{b}^{6}}{- \\omega_{a}^{2} - 6 \\omega_{a} \\omega_{b} - 9 \\omega_{b}^{2}} + \\frac{1152 g_{4}^{2} \\omega_{a} \\phi_{a}^{2} \\phi_{b}^{4}}{- \\omega_{a}^{2} + 4 \\omega_{a} \\omega_{b} + 2 \\omega_{a} \\omega_{c} - 4 \\omega_{b}^{2} - 4 \\omega_{b} \\omega_{c} - \\omega_{c}^{2}} + \\frac{576 g_{4}^{2} \\omega_{a} \\phi_{a}^{2} \\phi_{b}^{4}}{- \\omega_{a}^{2} + 4 \\omega_{a} \\omega_{b} - 2 \\omega_{a} \\omega_{c} - 4 \\omega_{b}^{2} + 4 \\omega_{b} \\omega_{c} - \\omega_{c}^{2}} - \\frac{576 g_{4}^{2} \\omega_{a} \\phi_{a}^{2} \\phi_{b}^{4}}{- \\omega_{a}^{2} - 4 \\omega_{a} \\omega_{b} + 2 \\omega_{a} \\omega_{c} - 4 \\omega_{b}^{2} + 4 \\omega_{b} \\omega_{c} - \\omega_{c}^{2}} - \\frac{1152 g_{4}^{2} \\omega_{a} \\phi_{a}^{2} \\phi_{b}^{4}}{- \\omega_{a}^{2} - 4 \\omega_{a} \\omega_{b} - 2 \\omega_{a} \\omega_{c} - 4 \\omega_{b}^{2} - 4 \\omega_{b} \\omega_{c} - \\omega_{c}^{2}} + \\frac{1152 g_{4}^{2} \\omega_{a} \\phi_{a}^{2} \\phi_{b}^{4}}{- \\omega_{a}^{2} + 2 \\omega_{a} \\omega_{c} - \\omega_{c}^{2}} - \\frac{1152 g_{4}^{2} \\omega_{a} \\phi_{a}^{2} \\phi_{b}^{4}}{- \\omega_{a}^{2} - 2 \\omega_{a} \\omega_{c} - \\omega_{c}^{2}} + \\frac{1728 g_{4}^{2} \\omega_{a} \\phi_{a}^{2} \\phi_{b}^{4}}{- \\omega_{a}^{2} + 2 \\omega_{a} \\omega_{b} - \\omega_{b}^{2}} - \\frac{1728 g_{4}^{2} \\omega_{a} \\phi_{a}^{2} \\phi_{b}^{4}}{- \\omega_{a}^{2} - 2 \\omega_{a} \\omega_{b} - \\omega_{b}^{2}} + \\frac{864 g_{4}^{2} \\omega_{a} \\phi_{a}^{2} \\phi_{b}^{2}}{- \\omega_{a}^{2} + 2 \\omega_{a} \\omega_{b} + 4 \\omega_{a} \\omega_{c} - \\omega_{b}^{2} - 4 \\omega_{b} \\omega_{c} - 4 \\omega_{c}^{2}} - \\frac{864 g_{4}^{2} \\omega_{a} \\phi_{a}^{2} \\phi_{b}^{2}}{- \\omega_{a}^{2} + 2 \\omega_{a} \\omega_{b} - 4 \\omega_{a} \\omega_{c} - \\omega_{b}^{2} + 4 \\omega_{b} \\omega_{c} - 4 \\omega_{c}^{2}} + \\frac{864 g_{4}^{2} \\omega_{a} \\phi_{a}^{2} \\phi_{b}^{2}}{- \\omega_{a}^{2} - 2 \\omega_{a} \\omega_{b} + 4 \\omega_{a} \\omega_{c} - \\omega_{b}^{2} + 4 \\omega_{b} \\omega_{c} - 4 \\omega_{c}^{2}} - \\frac{864 g_{4}^{2} \\omega_{a} \\phi_{a}^{2} \\phi_{b}^{2}}{- \\omega_{a}^{2} - 2 \\omega_{a} \\omega_{b} - 4 \\omega_{a} \\omega_{c} - \\omega_{b}^{2} - 4 \\omega_{b} \\omega_{c} - 4 \\omega_{c}^{2}} + \\frac{1728 g_{4}^{2} \\omega_{a} \\phi_{a}^{2} \\phi_{b}^{2}}{- \\omega_{a}^{2} + 2 \\omega_{a} \\omega_{c} - \\omega_{c}^{2}} - \\frac{1728 g_{4}^{2} \\omega_{a} \\phi_{a}^{2} \\phi_{b}^{2}}{- \\omega_{a}^{2} - 2 \\omega_{a} \\omega_{c} - \\omega_{c}^{2}} + \\frac{864 g_{4}^{2} \\omega_{b} \\phi_{a}^{6} \\phi_{b}^{2}}{- \\omega_{a}^{2} + 2 \\omega_{a} \\omega_{b} - \\omega_{b}^{2}} - \\frac{864 g_{4}^{2} \\omega_{b} \\phi_{a}^{6} \\phi_{b}^{2}}{- \\omega_{a}^{2} - 2 \\omega_{a} \\omega_{b} - \\omega_{b}^{2}} + \\frac{288 g_{4}^{2} \\omega_{b} \\phi_{a}^{6} \\phi_{b}^{2}}{- 9 \\omega_{a}^{2} + 6 \\omega_{a} \\omega_{b} - \\omega_{b}^{2}} - \\frac{288 g_{4}^{2} \\omega_{b} \\phi_{a}^{6} \\phi_{b}^{2}}{- 9 \\omega_{a}^{2} - 6 \\omega_{a} \\omega_{b} - \\omega_{b}^{2}} - \\frac{2304 g_{4}^{2} \\omega_{b} \\phi_{a}^{4} \\phi_{b}^{4}}{- \\omega_{a}^{2} - 2 \\omega_{a} \\omega_{b} - \\omega_{b}^{2}} - \\frac{1152 g_{4}^{2} \\omega_{b} \\phi_{a}^{4} \\phi_{b}^{4}}{- 4 \\omega_{a}^{2} - 8 \\omega_{a} \\omega_{b} - 4 \\omega_{b}^{2}} + \\frac{576 g_{4}^{2} \\omega_{b} \\phi_{a}^{4} \\phi_{b}^{2}}{- 4 \\omega_{a}^{2} + 4 \\omega_{a} \\omega_{b} + 4 \\omega_{a} \\omega_{c} - \\omega_{b}^{2} - 2 \\omega_{b} \\omega_{c} - \\omega_{c}^{2}} + \\frac{1152 g_{4}^{2} \\omega_{b} \\phi_{a}^{4} \\phi_{b}^{2}}{- 4 \\omega_{a}^{2} + 4 \\omega_{a} \\omega_{b} - 4 \\omega_{a} \\omega_{c} - \\omega_{b}^{2} + 2 \\omega_{b} \\omega_{c} - \\omega_{c}^{2}} - \\frac{576 g_{4}^{2} \\omega_{b} \\phi_{a}^{4} \\phi_{b}^{2}}{- 4 \\omega_{a}^{2} - 4 \\omega_{a} \\omega_{b} + 4 \\omega_{a} \\omega_{c} - \\omega_{b}^{2} + 2 \\omega_{b} \\omega_{c} - \\omega_{c}^{2}} - \\frac{1152 g_{4}^{2} \\omega_{b} \\phi_{a}^{4} \\phi_{b}^{2}}{- 4 \\omega_{a}^{2} - 4 \\omega_{a} \\omega_{b} - 4 \\omega_{a} \\omega_{c} - \\omega_{b}^{2} - 2 \\omega_{b} \\omega_{c} - \\omega_{c}^{2}} + \\frac{1152 g_{4}^{2} \\omega_{b} \\phi_{a}^{4} \\phi_{b}^{2}}{- \\omega_{b}^{2} + 2 \\omega_{b} \\omega_{c} - \\omega_{c}^{2}} - \\frac{1152 g_{4}^{2} \\omega_{b} \\phi_{a}^{4} \\phi_{b}^{2}}{- \\omega_{b}^{2} - 2 \\omega_{b} \\omega_{c} - \\omega_{c}^{2}} + \\frac{1728 g_{4}^{2} \\omega_{b} \\phi_{a}^{4} \\phi_{b}^{2}}{- \\omega_{a}^{2} + 2 \\omega_{a} \\omega_{b} - \\omega_{b}^{2}} - \\frac{1728 g_{4}^{2} \\omega_{b} \\phi_{a}^{4} \\phi_{b}^{2}}{- \\omega_{a}^{2} - 2 \\omega_{a} \\omega_{b} - \\omega_{b}^{2}} - \\frac{864 g_{4}^{2} \\omega_{b} \\phi_{a}^{2} \\phi_{b}^{6}}{- \\omega_{a}^{2} + 6 \\omega_{a} \\omega_{b} - 9 \\omega_{b}^{2}} - \\frac{864 g_{4}^{2} \\omega_{b} \\phi_{a}^{2} \\phi_{b}^{6}}{- \\omega_{a}^{2} + 2 \\omega_{a} \\omega_{b} - \\omega_{b}^{2}} - \\frac{864 g_{4}^{2} \\omega_{b} \\phi_{a}^{2} \\phi_{b}^{6}}{- \\omega_{a}^{2} - 2 \\omega_{a} \\omega_{b} - \\omega_{b}^{2}} - \\frac{864 g_{4}^{2} \\omega_{b} \\phi_{a}^{2} \\phi_{b}^{6}}{- \\omega_{a}^{2} - 6 \\omega_{a} \\omega_{b} - 9 \\omega_{b}^{2}} - \\frac{2304 g_{4}^{2} \\omega_{b} \\phi_{a}^{2} \\phi_{b}^{4}}{- \\omega_{a}^{2} + 4 \\omega_{a} \\omega_{b} + 2 \\omega_{a} \\omega_{c} - 4 \\omega_{b}^{2} - 4 \\omega_{b} \\omega_{c} - \\omega_{c}^{2}} - \\frac{1152 g_{4}^{2} \\omega_{b} \\phi_{a}^{2} \\phi_{b}^{4}}{- \\omega_{a}^{2} + 4 \\omega_{a} \\omega_{b} - 2 \\omega_{a} \\omega_{c} - 4 \\omega_{b}^{2} + 4 \\omega_{b} \\omega_{c} - \\omega_{c}^{2}} - \\frac{1152 g_{4}^{2} \\omega_{b} \\phi_{a}^{2} \\phi_{b}^{4}}{- \\omega_{a}^{2} - 4 \\omega_{a} \\omega_{b} + 2 \\omega_{a} \\omega_{c} - 4 \\omega_{b}^{2} + 4 \\omega_{b} \\omega_{c} - \\omega_{c}^{2}} - \\frac{2304 g_{4}^{2} \\omega_{b} \\phi_{a}^{2} \\phi_{b}^{4}}{- \\omega_{a}^{2} - 4 \\omega_{a} \\omega_{b} - 2 \\omega_{a} \\omega_{c} - 4 \\omega_{b}^{2} - 4 \\omega_{b} \\omega_{c} - \\omega_{c}^{2}} - \\frac{576 g_{4}^{2} \\omega_{b} \\phi_{a}^{2} \\phi_{b}^{4}}{- \\omega_{b}^{2} + 2 \\omega_{b} \\omega_{c} - \\omega_{c}^{2}} - \\frac{2880 g_{4}^{2} \\omega_{b} \\phi_{a}^{2} \\phi_{b}^{4}}{- \\omega_{b}^{2} - 2 \\omega_{b} \\omega_{c} - \\omega_{c}^{2}} - \\frac{1728 g_{4}^{2} \\omega_{b} \\phi_{a}^{2} \\phi_{b}^{4}}{- \\omega_{a}^{2} + 2 \\omega_{a} \\omega_{b} - \\omega_{b}^{2}} - \\frac{1728 g_{4}^{2} \\omega_{b} \\phi_{a}^{2} \\phi_{b}^{4}}{- \\omega_{a}^{2} - 2 \\omega_{a} \\omega_{b} - \\omega_{b}^{2}} - \\frac{864 g_{4}^{2} \\omega_{b} \\phi_{a}^{2} \\phi_{b}^{2}}{- \\omega_{a}^{2} + 2 \\omega_{a} \\omega_{b} + 4 \\omega_{a} \\omega_{c} - \\omega_{b}^{2} - 4 \\omega_{b} \\omega_{c} - 4 \\omega_{c}^{2}} + \\frac{864 g_{4}^{2} \\omega_{b} \\phi_{a}^{2} \\phi_{b}^{2}}{- \\omega_{a}^{2} + 2 \\omega_{a} \\omega_{b} - 4 \\omega_{a} \\omega_{c} - \\omega_{b}^{2} + 4 \\omega_{b} \\omega_{c} - 4 \\omega_{c}^{2}} + \\frac{864 g_{4}^{2} \\omega_{b} \\phi_{a}^{2} \\phi_{b}^{2}}{- \\omega_{a}^{2} - 2 \\omega_{a} \\omega_{b} + 4 \\omega_{a} \\omega_{c} - \\omega_{b}^{2} + 4 \\omega_{b} \\omega_{c} - 4 \\omega_{c}^{2}} - \\frac{864 g_{4}^{2} \\omega_{b} \\phi_{a}^{2} \\phi_{b}^{2}}{- \\omega_{a}^{2} - 2 \\omega_{a} \\omega_{b} - 4 \\omega_{a} \\omega_{c} - \\omega_{b}^{2} - 4 \\omega_{b} \\omega_{c} - 4 \\omega_{c}^{2}} + \\frac{1728 g_{4}^{2} \\omega_{b} \\phi_{a}^{2} \\phi_{b}^{2}}{- \\omega_{b}^{2} + 2 \\omega_{b} \\omega_{c} - \\omega_{c}^{2}} - \\frac{1728 g_{4}^{2} \\omega_{b} \\phi_{a}^{2} \\phi_{b}^{2}}{- \\omega_{b}^{2} - 2 \\omega_{b} \\omega_{c} - \\omega_{c}^{2}} + \\frac{576 g_{4}^{2} \\omega_{c} \\phi_{a}^{4} \\phi_{b}^{2}}{- 4 \\omega_{a}^{2} + 4 \\omega_{a} \\omega_{b} + 4 \\omega_{a} \\omega_{c} - \\omega_{b}^{2} - 2 \\omega_{b} \\omega_{c} - \\omega_{c}^{2}} - \\frac{1152 g_{4}^{2} \\omega_{c} \\phi_{a}^{4} \\phi_{b}^{2}}{- 4 \\omega_{a}^{2} + 4 \\omega_{a} \\omega_{b} - 4 \\omega_{a} \\omega_{c} - \\omega_{b}^{2} + 2 \\omega_{b} \\omega_{c} - \\omega_{c}^{2}} + \\frac{576 g_{4}^{2} \\omega_{c} \\phi_{a}^{4} \\phi_{b}^{2}}{- 4 \\omega_{a}^{2} - 4 \\omega_{a} \\omega_{b} + 4 \\omega_{a} \\omega_{c} - \\omega_{b}^{2} + 2 \\omega_{b} \\omega_{c} - \\omega_{c}^{2}} - \\frac{1152 g_{4}^{2} \\omega_{c} \\phi_{a}^{4} \\phi_{b}^{2}}{- 4 \\omega_{a}^{2} - 4 \\omega_{a} \\omega_{b} - 4 \\omega_{a} \\omega_{c} - \\omega_{b}^{2} - 2 \\omega_{b} \\omega_{c} - \\omega_{c}^{2}} - \\frac{1152 g_{4}^{2} \\omega_{c} \\phi_{a}^{4} \\phi_{b}^{2}}{- \\omega_{b}^{2} + 2 \\omega_{b} \\omega_{c} - \\omega_{c}^{2}} - \\frac{1152 g_{4}^{2} \\omega_{c} \\phi_{a}^{4} \\phi_{b}^{2}}{- \\omega_{b}^{2} - 2 \\omega_{b} \\omega_{c} - \\omega_{c}^{2}} + \\frac{576 g_{4}^{2} \\omega_{c} \\phi_{a}^{4} \\phi_{b}^{2}}{- \\omega_{a}^{2} + 2 \\omega_{a} \\omega_{c} - \\omega_{c}^{2}} - \\frac{2880 g_{4}^{2} \\omega_{c} \\phi_{a}^{4} \\phi_{b}^{2}}{- \\omega_{a}^{2} - 2 \\omega_{a} \\omega_{c} - \\omega_{c}^{2}} - \\frac{1152 g_{4}^{2} \\omega_{c} \\phi_{a}^{2} \\phi_{b}^{4}}{- \\omega_{a}^{2} + 4 \\omega_{a} \\omega_{b} + 2 \\omega_{a} \\omega_{c} - 4 \\omega_{b}^{2} - 4 \\omega_{b} \\omega_{c} - \\omega_{c}^{2}} + \\frac{576 g_{4}^{2} \\omega_{c} \\phi_{a}^{2} \\phi_{b}^{4}}{- \\omega_{a}^{2} + 4 \\omega_{a} \\omega_{b} - 2 \\omega_{a} \\omega_{c} - 4 \\omega_{b}^{2} + 4 \\omega_{b} \\omega_{c} - \\omega_{c}^{2}} + \\frac{576 g_{4}^{2} \\omega_{c} \\phi_{a}^{2} \\phi_{b}^{4}}{- \\omega_{a}^{2} - 4 \\omega_{a} \\omega_{b} + 2 \\omega_{a} \\omega_{c} - 4 \\omega_{b}^{2} + 4 \\omega_{b} \\omega_{c} - \\omega_{c}^{2}} - \\frac{1152 g_{4}^{2} \\omega_{c} \\phi_{a}^{2} \\phi_{b}^{4}}{- \\omega_{a}^{2} - 4 \\omega_{a} \\omega_{b} - 2 \\omega_{a} \\omega_{c} - 4 \\omega_{b}^{2} - 4 \\omega_{b} \\omega_{c} - \\omega_{c}^{2}} + \\frac{576 g_{4}^{2} \\omega_{c} \\phi_{a}^{2} \\phi_{b}^{4}}{- \\omega_{b}^{2} + 2 \\omega_{b} \\omega_{c} - \\omega_{c}^{2}} - \\frac{2880 g_{4}^{2} \\omega_{c} \\phi_{a}^{2} \\phi_{b}^{4}}{- \\omega_{b}^{2} - 2 \\omega_{b} \\omega_{c} - \\omega_{c}^{2}} - \\frac{1152 g_{4}^{2} \\omega_{c} \\phi_{a}^{2} \\phi_{b}^{4}}{- \\omega_{a}^{2} + 2 \\omega_{a} \\omega_{c} - \\omega_{c}^{2}} - \\frac{1152 g_{4}^{2} \\omega_{c} \\phi_{a}^{2} \\phi_{b}^{4}}{- \\omega_{a}^{2} - 2 \\omega_{a} \\omega_{c} - \\omega_{c}^{2}} - \\frac{1728 g_{4}^{2} \\omega_{c} \\phi_{a}^{2} \\phi_{b}^{2}}{- \\omega_{a}^{2} + 2 \\omega_{a} \\omega_{b} + 4 \\omega_{a} \\omega_{c} - \\omega_{b}^{2} - 4 \\omega_{b} \\omega_{c} - 4 \\omega_{c}^{2}} - \\frac{1728 g_{4}^{2} \\omega_{c} \\phi_{a}^{2} \\phi_{b}^{2}}{- \\omega_{a}^{2} + 2 \\omega_{a} \\omega_{b} - 4 \\omega_{a} \\omega_{c} - \\omega_{b}^{2} + 4 \\omega_{b} \\omega_{c} - 4 \\omega_{c}^{2}} - \\frac{1728 g_{4}^{2} \\omega_{c} \\phi_{a}^{2} \\phi_{b}^{2}}{- \\omega_{a}^{2} - 2 \\omega_{a} \\omega_{b} + 4 \\omega_{a} \\omega_{c} - \\omega_{b}^{2} + 4 \\omega_{b} \\omega_{c} - 4 \\omega_{c}^{2}} - \\frac{1728 g_{4}^{2} \\omega_{c} \\phi_{a}^{2} \\phi_{b}^{2}}{- \\omega_{a}^{2} - 2 \\omega_{a} \\omega_{b} - 4 \\omega_{a} \\omega_{c} - \\omega_{b}^{2} - 4 \\omega_{b} \\omega_{c} - 4 \\omega_{c}^{2}} - \\frac{1728 g_{4}^{2} \\omega_{c} \\phi_{a}^{2} \\phi_{b}^{2}}{- \\omega_{b}^{2} + 2 \\omega_{b} \\omega_{c} - \\omega_{c}^{2}} - \\frac{1728 g_{4}^{2} \\omega_{c} \\phi_{a}^{2} \\phi_{b}^{2}}{- \\omega_{b}^{2} - 2 \\omega_{b} \\omega_{c} - \\omega_{c}^{2}} - \\frac{1728 g_{4}^{2} \\omega_{c} \\phi_{a}^{2} \\phi_{b}^{2}}{- \\omega_{a}^{2} + 2 \\omega_{a} \\omega_{c} - \\omega_{c}^{2}} - \\frac{1728 g_{4}^{2} \\omega_{c} \\phi_{a}^{2} \\phi_{b}^{2}}{- \\omega_{a}^{2} - 2 \\omega_{a} \\omega_{c} - \\omega_{c}^{2}} - \\frac{288 g_{4}^{2} \\phi_{a}^{6} \\phi_{b}^{2}}{3 \\omega_{a} + \\omega_{b}} - \\frac{288 g_{4}^{2} \\phi_{a}^{6} \\phi_{b}^{2}}{3 \\omega_{a} - \\omega_{b}} - \\frac{864 g_{4}^{2} \\phi_{a}^{6} \\phi_{b}^{2}}{\\omega_{a} + \\omega_{b}} - \\frac{864 g_{4}^{2} \\phi_{a}^{6} \\phi_{b}^{2}}{\\omega_{a} - \\omega_{b}} + \\frac{864 g_{4}^{2} \\phi_{a}^{6} \\phi_{b}^{2}}{- \\omega_{a} + \\omega_{b}} + \\frac{864 g_{4}^{2} \\phi_{a}^{6} \\phi_{b}^{2}}{- \\omega_{a} - \\omega_{b}} + \\frac{288 g_{4}^{2} \\phi_{a}^{6} \\phi_{b}^{2}}{- 3 \\omega_{a} + \\omega_{b}} + \\frac{288 g_{4}^{2} \\phi_{a}^{6} \\phi_{b}^{2}}{- 3 \\omega_{a} - \\omega_{b}} - \\frac{576 g_{4}^{2} \\phi_{a}^{4} \\phi_{b}^{4}}{2 \\omega_{a} + 2 \\omega_{b}} - \\frac{2304 g_{4}^{2} \\phi_{a}^{4} \\phi_{b}^{4}}{\\omega_{a} + \\omega_{b}} + \\frac{2304 g_{4}^{2} \\phi_{a}^{4} \\phi_{b}^{4}}{- \\omega_{a} - \\omega_{b}} + \\frac{576 g_{4}^{2} \\phi_{a}^{4} \\phi_{b}^{4}}{- 2 \\omega_{a} - 2 \\omega_{b}} - \\frac{1152 g_{4}^{2} \\phi_{a}^{4} \\phi_{b}^{2}}{2 \\omega_{a} + \\omega_{b} + \\omega_{c}} - \\frac{576 g_{4}^{2} \\phi_{a}^{4} \\phi_{b}^{2}}{2 \\omega_{a} + \\omega_{b} - \\omega_{c}} - \\frac{1152 g_{4}^{2} \\phi_{a}^{4} \\phi_{b}^{2}}{2 \\omega_{a} - \\omega_{b} + \\omega_{c}} - \\frac{576 g_{4}^{2} \\phi_{a}^{4} \\phi_{b}^{2}}{2 \\omega_{a} - \\omega_{b} - \\omega_{c}} + \\frac{576 g_{4}^{2} \\phi_{a}^{4} \\phi_{b}^{2}}{- 2 \\omega_{a} + \\omega_{b} + \\omega_{c}} + \\frac{1152 g_{4}^{2} \\phi_{a}^{4} \\phi_{b}^{2}}{- 2 \\omega_{a} + \\omega_{b} - \\omega_{c}} + \\frac{576 g_{4}^{2} \\phi_{a}^{4} \\phi_{b}^{2}}{- 2 \\omega_{a} - \\omega_{b} + \\omega_{c}} + \\frac{1152 g_{4}^{2} \\phi_{a}^{4} \\phi_{b}^{2}}{- 2 \\omega_{a} - \\omega_{b} - \\omega_{c}} - \\frac{1152 g_{4}^{2} \\phi_{a}^{4} \\phi_{b}^{2}}{\\omega_{b} + \\omega_{c}} + \\frac{1152 g_{4}^{2} \\phi_{a}^{4} \\phi_{b}^{2}}{\\omega_{b} - \\omega_{c}} - \\frac{1152 g_{4}^{2} \\phi_{a}^{4} \\phi_{b}^{2}}{- \\omega_{b} + \\omega_{c}} + \\frac{1152 g_{4}^{2} \\phi_{a}^{4} \\phi_{b}^{2}}{- \\omega_{b} - \\omega_{c}} - \\frac{2880 g_{4}^{2} \\phi_{a}^{4} \\phi_{b}^{2}}{\\omega_{a} + \\omega_{c}} - \\frac{576 g_{4}^{2} \\phi_{a}^{4} \\phi_{b}^{2}}{\\omega_{a} - \\omega_{c}} - \\frac{1728 g_{4}^{2} \\phi_{a}^{4} \\phi_{b}^{2}}{\\omega_{a} + \\omega_{b}} - \\frac{1728 g_{4}^{2} \\phi_{a}^{4} \\phi_{b}^{2}}{\\omega_{a} - \\omega_{b}} + \\frac{576 g_{4}^{2} \\phi_{a}^{4} \\phi_{b}^{2}}{- \\omega_{a} + \\omega_{c}} + \\frac{2880 g_{4}^{2} \\phi_{a}^{4} \\phi_{b}^{2}}{- \\omega_{a} - \\omega_{c}} + \\frac{1728 g_{4}^{2} \\phi_{a}^{4} \\phi_{b}^{2}}{- \\omega_{a} + \\omega_{b}} + \\frac{1728 g_{4}^{2} \\phi_{a}^{4} \\phi_{b}^{2}}{- \\omega_{a} - \\omega_{b}} - \\frac{288 g_{4}^{2} \\phi_{a}^{2} \\phi_{b}^{6}}{\\omega_{a} + 3 \\omega_{b}} - \\frac{864 g_{4}^{2} \\phi_{a}^{2} \\phi_{b}^{6}}{\\omega_{a} + \\omega_{b}} + \\frac{864 g_{4}^{2} \\phi_{a}^{2} \\phi_{b}^{6}}{\\omega_{a} - \\omega_{b}} + \\frac{288 g_{4}^{2} \\phi_{a}^{2} \\phi_{b}^{6}}{\\omega_{a} - 3 \\omega_{b}} - \\frac{288 g_{4}^{2} \\phi_{a}^{2} \\phi_{b}^{6}}{- \\omega_{a} + 3 \\omega_{b}} - \\frac{864 g_{4}^{2} \\phi_{a}^{2} \\phi_{b}^{6}}{- \\omega_{a} + \\omega_{b}} + \\frac{864 g_{4}^{2} \\phi_{a}^{2} \\phi_{b}^{6}}{- \\omega_{a} - \\omega_{b}} + \\frac{288 g_{4}^{2} \\phi_{a}^{2} \\phi_{b}^{6}}{- \\omega_{a} - 3 \\omega_{b}} - \\frac{1152 g_{4}^{2} \\phi_{a}^{2} \\phi_{b}^{4}}{\\omega_{a} + 2 \\omega_{b} + \\omega_{c}} - \\frac{576 g_{4}^{2} \\phi_{a}^{2} \\phi_{b}^{4}}{\\omega_{a} + 2 \\omega_{b} - \\omega_{c}} + \\frac{576 g_{4}^{2} \\phi_{a}^{2} \\phi_{b}^{4}}{\\omega_{a} - 2 \\omega_{b} + \\omega_{c}} + \\frac{1152 g_{4}^{2} \\phi_{a}^{2} \\phi_{b}^{4}}{\\omega_{a} - 2 \\omega_{b} - \\omega_{c}} - \\frac{1152 g_{4}^{2} \\phi_{a}^{2} \\phi_{b}^{4}}{- \\omega_{a} + 2 \\omega_{b} + \\omega_{c}} - \\frac{576 g_{4}^{2} \\phi_{a}^{2} \\phi_{b}^{4}}{- \\omega_{a} + 2 \\omega_{b} - \\omega_{c}} + \\frac{576 g_{4}^{2} \\phi_{a}^{2} \\phi_{b}^{4}}{- \\omega_{a} - 2 \\omega_{b} + \\omega_{c}} + \\frac{1152 g_{4}^{2} \\phi_{a}^{2} \\phi_{b}^{4}}{- \\omega_{a} - 2 \\omega_{b} - \\omega_{c}} - \\frac{2880 g_{4}^{2} \\phi_{a}^{2} \\phi_{b}^{4}}{\\omega_{b} + \\omega_{c}} - \\frac{576 g_{4}^{2} \\phi_{a}^{2} \\phi_{b}^{4}}{\\omega_{b} - \\omega_{c}} + \\frac{576 g_{4}^{2} \\phi_{a}^{2} \\phi_{b}^{4}}{- \\omega_{b} + \\omega_{c}} + \\frac{2880 g_{4}^{2} \\phi_{a}^{2} \\phi_{b}^{4}}{- \\omega_{b} - \\omega_{c}} - \\frac{1152 g_{4}^{2} \\phi_{a}^{2} \\phi_{b}^{4}}{\\omega_{a} + \\omega_{c}} + \\frac{1152 g_{4}^{2} \\phi_{a}^{2} \\phi_{b}^{4}}{\\omega_{a} - \\omega_{c}} - \\frac{1728 g_{4}^{2} \\phi_{a}^{2} \\phi_{b}^{4}}{\\omega_{a} + \\omega_{b}} + \\frac{1728 g_{4}^{2} \\phi_{a}^{2} \\phi_{b}^{4}}{\\omega_{a} - \\omega_{b}} - \\frac{1152 g_{4}^{2} \\phi_{a}^{2} \\phi_{b}^{4}}{- \\omega_{a} + \\omega_{c}} + \\frac{1152 g_{4}^{2} \\phi_{a}^{2} \\phi_{b}^{4}}{- \\omega_{a} - \\omega_{c}} - \\frac{1728 g_{4}^{2} \\phi_{a}^{2} \\phi_{b}^{4}}{- \\omega_{a} + \\omega_{b}} + \\frac{1728 g_{4}^{2} \\phi_{a}^{2} \\phi_{b}^{4}}{- \\omega_{a} - \\omega_{b}} - \\frac{864 g_{4}^{2} \\phi_{a}^{2} \\phi_{b}^{2}}{\\omega_{a} + \\omega_{b} + 2 \\omega_{c}} + \\frac{864 g_{4}^{2} \\phi_{a}^{2} \\phi_{b}^{2}}{\\omega_{a} + \\omega_{b} - 2 \\omega_{c}} - \\frac{864 g_{4}^{2} \\phi_{a}^{2} \\phi_{b}^{2}}{\\omega_{a} - \\omega_{b} + 2 \\omega_{c}} + \\frac{864 g_{4}^{2} \\phi_{a}^{2} \\phi_{b}^{2}}{\\omega_{a} - \\omega_{b} - 2 \\omega_{c}} - \\frac{864 g_{4}^{2} \\phi_{a}^{2} \\phi_{b}^{2}}{- \\omega_{a} + \\omega_{b} + 2 \\omega_{c}} + \\frac{864 g_{4}^{2} \\phi_{a}^{2} \\phi_{b}^{2}}{- \\omega_{a} + \\omega_{b} - 2 \\omega_{c}} - \\frac{864 g_{4}^{2} \\phi_{a}^{2} \\phi_{b}^{2}}{- \\omega_{a} - \\omega_{b} + 2 \\omega_{c}} + \\frac{864 g_{4}^{2} \\phi_{a}^{2} \\phi_{b}^{2}}{- \\omega_{a} - \\omega_{b} - 2 \\omega_{c}} - \\frac{1728 g_{4}^{2} \\phi_{a}^{2} \\phi_{b}^{2}}{\\omega_{b} + \\omega_{c}} + \\frac{1728 g_{4}^{2} \\phi_{a}^{2} \\phi_{b}^{2}}{\\omega_{b} - \\omega_{c}} - \\frac{1728 g_{4}^{2} \\phi_{a}^{2} \\phi_{b}^{2}}{- \\omega_{b} + \\omega_{c}} + \\frac{1728 g_{4}^{2} \\phi_{a}^{2} \\phi_{b}^{2}}{- \\omega_{b} - \\omega_{c}} - \\frac{1728 g_{4}^{2} \\phi_{a}^{2} \\phi_{b}^{2}}{\\omega_{a} + \\omega_{c}} + \\frac{1728 g_{4}^{2} \\phi_{a}^{2} \\phi_{b}^{2}}{\\omega_{a} - \\omega_{c}} - \\frac{1728 g_{4}^{2} \\phi_{a}^{2} \\phi_{b}^{2}}{- \\omega_{a} + \\omega_{c}} + \\frac{1728 g_{4}^{2} \\phi_{a}^{2} \\phi_{b}^{2}}{- \\omega_{a} - \\omega_{c}} - \\frac{864 g_{4}^{2} \\phi_{a}^{2} \\phi_{b}^{2}}{\\omega_{c}} - \\frac{576 g_{4}^{2} \\phi_{a}^{4} \\phi_{b}^{4}}{\\omega_{b}} - \\frac{576 g_{4}^{2} \\phi_{a}^{2} \\phi_{b}^{6}}{\\omega_{b}} - \\frac{864 g_{4}^{2} \\phi_{a}^{2} \\phi_{b}^{4}}{\\omega_{b}} - \\frac{576 g_{4}^{2} \\phi_{a}^{6} \\phi_{b}^{2}}{\\omega_{a}} - \\frac{576 g_{4}^{2} \\phi_{a}^{4} \\phi_{b}^{4}}{\\omega_{a}} - \\frac{864 g_{4}^{2} \\phi_{a}^{4} \\phi_{b}^{2}}{\\omega_{a}}$"
      ],
      "text/plain": [
       "-72*g3**2*omega_a*phi_a**4*phi_b**2/(-4*omega_a**2 + 4*omega_a*omega_b - omega_b**2) - 72*g3**2*omega_a*phi_a**4*phi_b**2/(-4*omega_a**2 - 4*omega_a*omega_b - omega_b**2) + 36*g3**2*omega_a*phi_a**2*phi_b**4/(-omega_a**2 + 4*omega_a*omega_b - 4*omega_b**2) - 36*g3**2*omega_a*phi_a**2*phi_b**4/(-omega_a**2 - 4*omega_a*omega_b - 4*omega_b**2) + 36*g3**2*omega_a*phi_a**2*phi_b**2/(-omega_a**2 + 2*omega_a*omega_b + 2*omega_a*omega_c - omega_b**2 - 2*omega_b*omega_c - omega_c**2) - 36*g3**2*omega_a*phi_a**2*phi_b**2/(-omega_a**2 + 2*omega_a*omega_b - 2*omega_a*omega_c - omega_b**2 + 2*omega_b*omega_c - omega_c**2) + 36*g3**2*omega_a*phi_a**2*phi_b**2/(-omega_a**2 - 2*omega_a*omega_b + 2*omega_a*omega_c - omega_b**2 + 2*omega_b*omega_c - omega_c**2) - 36*g3**2*omega_a*phi_a**2*phi_b**2/(-omega_a**2 - 2*omega_a*omega_b - 2*omega_a*omega_c - omega_b**2 - 2*omega_b*omega_c - omega_c**2) + 36*g3**2*omega_b*phi_a**4*phi_b**2/(-4*omega_a**2 + 4*omega_a*omega_b - omega_b**2) - 36*g3**2*omega_b*phi_a**4*phi_b**2/(-4*omega_a**2 - 4*omega_a*omega_b - omega_b**2) - 72*g3**2*omega_b*phi_a**2*phi_b**4/(-omega_a**2 + 4*omega_a*omega_b - 4*omega_b**2) - 72*g3**2*omega_b*phi_a**2*phi_b**4/(-omega_a**2 - 4*omega_a*omega_b - 4*omega_b**2) - 36*g3**2*omega_b*phi_a**2*phi_b**2/(-omega_a**2 + 2*omega_a*omega_b + 2*omega_a*omega_c - omega_b**2 - 2*omega_b*omega_c - omega_c**2) + 36*g3**2*omega_b*phi_a**2*phi_b**2/(-omega_a**2 + 2*omega_a*omega_b - 2*omega_a*omega_c - omega_b**2 + 2*omega_b*omega_c - omega_c**2) + 36*g3**2*omega_b*phi_a**2*phi_b**2/(-omega_a**2 - 2*omega_a*omega_b + 2*omega_a*omega_c - omega_b**2 + 2*omega_b*omega_c - omega_c**2) - 36*g3**2*omega_b*phi_a**2*phi_b**2/(-omega_a**2 - 2*omega_a*omega_b - 2*omega_a*omega_c - omega_b**2 - 2*omega_b*omega_c - omega_c**2) - 36*g3**2*omega_c*phi_a**2*phi_b**2/(-omega_a**2 + 2*omega_a*omega_b + 2*omega_a*omega_c - omega_b**2 - 2*omega_b*omega_c - omega_c**2) - 36*g3**2*omega_c*phi_a**2*phi_b**2/(-omega_a**2 + 2*omega_a*omega_b - 2*omega_a*omega_c - omega_b**2 + 2*omega_b*omega_c - omega_c**2) - 36*g3**2*omega_c*phi_a**2*phi_b**2/(-omega_a**2 - 2*omega_a*omega_b + 2*omega_a*omega_c - omega_b**2 + 2*omega_b*omega_c - omega_c**2) - 36*g3**2*omega_c*phi_a**2*phi_b**2/(-omega_a**2 - 2*omega_a*omega_b - 2*omega_a*omega_c - omega_b**2 - 2*omega_b*omega_c - omega_c**2) - 36*g3**2*phi_a**4*phi_b**2/(2*omega_a + omega_b) - 36*g3**2*phi_a**4*phi_b**2/(2*omega_a - omega_b) + 36*g3**2*phi_a**4*phi_b**2/(-2*omega_a + omega_b) + 36*g3**2*phi_a**4*phi_b**2/(-2*omega_a - omega_b) - 36*g3**2*phi_a**2*phi_b**4/(omega_a + 2*omega_b) + 36*g3**2*phi_a**2*phi_b**4/(omega_a - 2*omega_b) - 36*g3**2*phi_a**2*phi_b**4/(-omega_a + 2*omega_b) + 36*g3**2*phi_a**2*phi_b**4/(-omega_a - 2*omega_b) - 36*g3**2*phi_a**2*phi_b**2/(omega_a + omega_b + omega_c) + 36*g3**2*phi_a**2*phi_b**2/(omega_a + omega_b - omega_c) - 36*g3**2*phi_a**2*phi_b**2/(omega_a - omega_b + omega_c) + 36*g3**2*phi_a**2*phi_b**2/(omega_a - omega_b - omega_c) - 36*g3**2*phi_a**2*phi_b**2/(-omega_a + omega_b + omega_c) + 36*g3**2*phi_a**2*phi_b**2/(-omega_a + omega_b - omega_c) - 36*g3**2*phi_a**2*phi_b**2/(-omega_a - omega_b + omega_c) + 36*g3**2*phi_a**2*phi_b**2/(-omega_a - omega_b - omega_c) - 72*g3**2*phi_a**2*phi_b**2/omega_c - 72*g3**2*phi_a**2*phi_b**4/omega_b - 72*g3**2*phi_a**4*phi_b**2/omega_a - 864*g4**2*omega_a*phi_a**6*phi_b**2/(-omega_a**2 + 2*omega_a*omega_b - omega_b**2) - 864*g4**2*omega_a*phi_a**6*phi_b**2/(-omega_a**2 - 2*omega_a*omega_b - omega_b**2) - 864*g4**2*omega_a*phi_a**6*phi_b**2/(-9*omega_a**2 + 6*omega_a*omega_b - omega_b**2) - 864*g4**2*omega_a*phi_a**6*phi_b**2/(-9*omega_a**2 - 6*omega_a*omega_b - omega_b**2) - 2304*g4**2*omega_a*phi_a**4*phi_b**4/(-omega_a**2 - 2*omega_a*omega_b - omega_b**2) - 1152*g4**2*omega_a*phi_a**4*phi_b**4/(-4*omega_a**2 - 8*omega_a*omega_b - 4*omega_b**2) - 1152*g4**2*omega_a*phi_a**4*phi_b**2/(-4*omega_a**2 + 4*omega_a*omega_b + 4*omega_a*omega_c - omega_b**2 - 2*omega_b*omega_c - omega_c**2) - 2304*g4**2*omega_a*phi_a**4*phi_b**2/(-4*omega_a**2 + 4*omega_a*omega_b - 4*omega_a*omega_c - omega_b**2 + 2*omega_b*omega_c - omega_c**2) - 1152*g4**2*omega_a*phi_a**4*phi_b**2/(-4*omega_a**2 - 4*omega_a*omega_b + 4*omega_a*omega_c - omega_b**2 + 2*omega_b*omega_c - omega_c**2) - 2304*g4**2*omega_a*phi_a**4*phi_b**2/(-4*omega_a**2 - 4*omega_a*omega_b - 4*omega_a*omega_c - omega_b**2 - 2*omega_b*omega_c - omega_c**2) - 576*g4**2*omega_a*phi_a**4*phi_b**2/(-omega_a**2 + 2*omega_a*omega_c - omega_c**2) - 2880*g4**2*omega_a*phi_a**4*phi_b**2/(-omega_a**2 - 2*omega_a*omega_c - omega_c**2) - 1728*g4**2*omega_a*phi_a**4*phi_b**2/(-omega_a**2 + 2*omega_a*omega_b - omega_b**2) - 1728*g4**2*omega_a*phi_a**4*phi_b**2/(-omega_a**2 - 2*omega_a*omega_b - omega_b**2) + 288*g4**2*omega_a*phi_a**2*phi_b**6/(-omega_a**2 + 6*omega_a*omega_b - 9*omega_b**2) + 864*g4**2*omega_a*phi_a**2*phi_b**6/(-omega_a**2 + 2*omega_a*omega_b - omega_b**2) - 864*g4**2*omega_a*phi_a**2*phi_b**6/(-omega_a**2 - 2*omega_a*omega_b - omega_b**2) - 288*g4**2*omega_a*phi_a**2*phi_b**6/(-omega_a**2 - 6*omega_a*omega_b - 9*omega_b**2) + 1152*g4**2*omega_a*phi_a**2*phi_b**4/(-omega_a**2 + 4*omega_a*omega_b + 2*omega_a*omega_c - 4*omega_b**2 - 4*omega_b*omega_c - omega_c**2) + 576*g4**2*omega_a*phi_a**2*phi_b**4/(-omega_a**2 + 4*omega_a*omega_b - 2*omega_a*omega_c - 4*omega_b**2 + 4*omega_b*omega_c - omega_c**2) - 576*g4**2*omega_a*phi_a**2*phi_b**4/(-omega_a**2 - 4*omega_a*omega_b + 2*omega_a*omega_c - 4*omega_b**2 + 4*omega_b*omega_c - omega_c**2) - 1152*g4**2*omega_a*phi_a**2*phi_b**4/(-omega_a**2 - 4*omega_a*omega_b - 2*omega_a*omega_c - 4*omega_b**2 - 4*omega_b*omega_c - omega_c**2) + 1152*g4**2*omega_a*phi_a**2*phi_b**4/(-omega_a**2 + 2*omega_a*omega_c - omega_c**2) - 1152*g4**2*omega_a*phi_a**2*phi_b**4/(-omega_a**2 - 2*omega_a*omega_c - omega_c**2) + 1728*g4**2*omega_a*phi_a**2*phi_b**4/(-omega_a**2 + 2*omega_a*omega_b - omega_b**2) - 1728*g4**2*omega_a*phi_a**2*phi_b**4/(-omega_a**2 - 2*omega_a*omega_b - omega_b**2) + 864*g4**2*omega_a*phi_a**2*phi_b**2/(-omega_a**2 + 2*omega_a*omega_b + 4*omega_a*omega_c - omega_b**2 - 4*omega_b*omega_c - 4*omega_c**2) - 864*g4**2*omega_a*phi_a**2*phi_b**2/(-omega_a**2 + 2*omega_a*omega_b - 4*omega_a*omega_c - omega_b**2 + 4*omega_b*omega_c - 4*omega_c**2) + 864*g4**2*omega_a*phi_a**2*phi_b**2/(-omega_a**2 - 2*omega_a*omega_b + 4*omega_a*omega_c - omega_b**2 + 4*omega_b*omega_c - 4*omega_c**2) - 864*g4**2*omega_a*phi_a**2*phi_b**2/(-omega_a**2 - 2*omega_a*omega_b - 4*omega_a*omega_c - omega_b**2 - 4*omega_b*omega_c - 4*omega_c**2) + 1728*g4**2*omega_a*phi_a**2*phi_b**2/(-omega_a**2 + 2*omega_a*omega_c - omega_c**2) - 1728*g4**2*omega_a*phi_a**2*phi_b**2/(-omega_a**2 - 2*omega_a*omega_c - omega_c**2) + 864*g4**2*omega_b*phi_a**6*phi_b**2/(-omega_a**2 + 2*omega_a*omega_b - omega_b**2) - 864*g4**2*omega_b*phi_a**6*phi_b**2/(-omega_a**2 - 2*omega_a*omega_b - omega_b**2) + 288*g4**2*omega_b*phi_a**6*phi_b**2/(-9*omega_a**2 + 6*omega_a*omega_b - omega_b**2) - 288*g4**2*omega_b*phi_a**6*phi_b**2/(-9*omega_a**2 - 6*omega_a*omega_b - omega_b**2) - 2304*g4**2*omega_b*phi_a**4*phi_b**4/(-omega_a**2 - 2*omega_a*omega_b - omega_b**2) - 1152*g4**2*omega_b*phi_a**4*phi_b**4/(-4*omega_a**2 - 8*omega_a*omega_b - 4*omega_b**2) + 576*g4**2*omega_b*phi_a**4*phi_b**2/(-4*omega_a**2 + 4*omega_a*omega_b + 4*omega_a*omega_c - omega_b**2 - 2*omega_b*omega_c - omega_c**2) + 1152*g4**2*omega_b*phi_a**4*phi_b**2/(-4*omega_a**2 + 4*omega_a*omega_b - 4*omega_a*omega_c - omega_b**2 + 2*omega_b*omega_c - omega_c**2) - 576*g4**2*omega_b*phi_a**4*phi_b**2/(-4*omega_a**2 - 4*omega_a*omega_b + 4*omega_a*omega_c - omega_b**2 + 2*omega_b*omega_c - omega_c**2) - 1152*g4**2*omega_b*phi_a**4*phi_b**2/(-4*omega_a**2 - 4*omega_a*omega_b - 4*omega_a*omega_c - omega_b**2 - 2*omega_b*omega_c - omega_c**2) + 1152*g4**2*omega_b*phi_a**4*phi_b**2/(-omega_b**2 + 2*omega_b*omega_c - omega_c**2) - 1152*g4**2*omega_b*phi_a**4*phi_b**2/(-omega_b**2 - 2*omega_b*omega_c - omega_c**2) + 1728*g4**2*omega_b*phi_a**4*phi_b**2/(-omega_a**2 + 2*omega_a*omega_b - omega_b**2) - 1728*g4**2*omega_b*phi_a**4*phi_b**2/(-omega_a**2 - 2*omega_a*omega_b - omega_b**2) - 864*g4**2*omega_b*phi_a**2*phi_b**6/(-omega_a**2 + 6*omega_a*omega_b - 9*omega_b**2) - 864*g4**2*omega_b*phi_a**2*phi_b**6/(-omega_a**2 + 2*omega_a*omega_b - omega_b**2) - 864*g4**2*omega_b*phi_a**2*phi_b**6/(-omega_a**2 - 2*omega_a*omega_b - omega_b**2) - 864*g4**2*omega_b*phi_a**2*phi_b**6/(-omega_a**2 - 6*omega_a*omega_b - 9*omega_b**2) - 2304*g4**2*omega_b*phi_a**2*phi_b**4/(-omega_a**2 + 4*omega_a*omega_b + 2*omega_a*omega_c - 4*omega_b**2 - 4*omega_b*omega_c - omega_c**2) - 1152*g4**2*omega_b*phi_a**2*phi_b**4/(-omega_a**2 + 4*omega_a*omega_b - 2*omega_a*omega_c - 4*omega_b**2 + 4*omega_b*omega_c - omega_c**2) - 1152*g4**2*omega_b*phi_a**2*phi_b**4/(-omega_a**2 - 4*omega_a*omega_b + 2*omega_a*omega_c - 4*omega_b**2 + 4*omega_b*omega_c - omega_c**2) - 2304*g4**2*omega_b*phi_a**2*phi_b**4/(-omega_a**2 - 4*omega_a*omega_b - 2*omega_a*omega_c - 4*omega_b**2 - 4*omega_b*omega_c - omega_c**2) - 576*g4**2*omega_b*phi_a**2*phi_b**4/(-omega_b**2 + 2*omega_b*omega_c - omega_c**2) - 2880*g4**2*omega_b*phi_a**2*phi_b**4/(-omega_b**2 - 2*omega_b*omega_c - omega_c**2) - 1728*g4**2*omega_b*phi_a**2*phi_b**4/(-omega_a**2 + 2*omega_a*omega_b - omega_b**2) - 1728*g4**2*omega_b*phi_a**2*phi_b**4/(-omega_a**2 - 2*omega_a*omega_b - omega_b**2) - 864*g4**2*omega_b*phi_a**2*phi_b**2/(-omega_a**2 + 2*omega_a*omega_b + 4*omega_a*omega_c - omega_b**2 - 4*omega_b*omega_c - 4*omega_c**2) + 864*g4**2*omega_b*phi_a**2*phi_b**2/(-omega_a**2 + 2*omega_a*omega_b - 4*omega_a*omega_c - omega_b**2 + 4*omega_b*omega_c - 4*omega_c**2) + 864*g4**2*omega_b*phi_a**2*phi_b**2/(-omega_a**2 - 2*omega_a*omega_b + 4*omega_a*omega_c - omega_b**2 + 4*omega_b*omega_c - 4*omega_c**2) - 864*g4**2*omega_b*phi_a**2*phi_b**2/(-omega_a**2 - 2*omega_a*omega_b - 4*omega_a*omega_c - omega_b**2 - 4*omega_b*omega_c - 4*omega_c**2) + 1728*g4**2*omega_b*phi_a**2*phi_b**2/(-omega_b**2 + 2*omega_b*omega_c - omega_c**2) - 1728*g4**2*omega_b*phi_a**2*phi_b**2/(-omega_b**2 - 2*omega_b*omega_c - omega_c**2) + 576*g4**2*omega_c*phi_a**4*phi_b**2/(-4*omega_a**2 + 4*omega_a*omega_b + 4*omega_a*omega_c - omega_b**2 - 2*omega_b*omega_c - omega_c**2) - 1152*g4**2*omega_c*phi_a**4*phi_b**2/(-4*omega_a**2 + 4*omega_a*omega_b - 4*omega_a*omega_c - omega_b**2 + 2*omega_b*omega_c - omega_c**2) + 576*g4**2*omega_c*phi_a**4*phi_b**2/(-4*omega_a**2 - 4*omega_a*omega_b + 4*omega_a*omega_c - omega_b**2 + 2*omega_b*omega_c - omega_c**2) - 1152*g4**2*omega_c*phi_a**4*phi_b**2/(-4*omega_a**2 - 4*omega_a*omega_b - 4*omega_a*omega_c - omega_b**2 - 2*omega_b*omega_c - omega_c**2) - 1152*g4**2*omega_c*phi_a**4*phi_b**2/(-omega_b**2 + 2*omega_b*omega_c - omega_c**2) - 1152*g4**2*omega_c*phi_a**4*phi_b**2/(-omega_b**2 - 2*omega_b*omega_c - omega_c**2) + 576*g4**2*omega_c*phi_a**4*phi_b**2/(-omega_a**2 + 2*omega_a*omega_c - omega_c**2) - 2880*g4**2*omega_c*phi_a**4*phi_b**2/(-omega_a**2 - 2*omega_a*omega_c - omega_c**2) - 1152*g4**2*omega_c*phi_a**2*phi_b**4/(-omega_a**2 + 4*omega_a*omega_b + 2*omega_a*omega_c - 4*omega_b**2 - 4*omega_b*omega_c - omega_c**2) + 576*g4**2*omega_c*phi_a**2*phi_b**4/(-omega_a**2 + 4*omega_a*omega_b - 2*omega_a*omega_c - 4*omega_b**2 + 4*omega_b*omega_c - omega_c**2) + 576*g4**2*omega_c*phi_a**2*phi_b**4/(-omega_a**2 - 4*omega_a*omega_b + 2*omega_a*omega_c - 4*omega_b**2 + 4*omega_b*omega_c - omega_c**2) - 1152*g4**2*omega_c*phi_a**2*phi_b**4/(-omega_a**2 - 4*omega_a*omega_b - 2*omega_a*omega_c - 4*omega_b**2 - 4*omega_b*omega_c - omega_c**2) + 576*g4**2*omega_c*phi_a**2*phi_b**4/(-omega_b**2 + 2*omega_b*omega_c - omega_c**2) - 2880*g4**2*omega_c*phi_a**2*phi_b**4/(-omega_b**2 - 2*omega_b*omega_c - omega_c**2) - 1152*g4**2*omega_c*phi_a**2*phi_b**4/(-omega_a**2 + 2*omega_a*omega_c - omega_c**2) - 1152*g4**2*omega_c*phi_a**2*phi_b**4/(-omega_a**2 - 2*omega_a*omega_c - omega_c**2) - 1728*g4**2*omega_c*phi_a**2*phi_b**2/(-omega_a**2 + 2*omega_a*omega_b + 4*omega_a*omega_c - omega_b**2 - 4*omega_b*omega_c - 4*omega_c**2) - 1728*g4**2*omega_c*phi_a**2*phi_b**2/(-omega_a**2 + 2*omega_a*omega_b - 4*omega_a*omega_c - omega_b**2 + 4*omega_b*omega_c - 4*omega_c**2) - 1728*g4**2*omega_c*phi_a**2*phi_b**2/(-omega_a**2 - 2*omega_a*omega_b + 4*omega_a*omega_c - omega_b**2 + 4*omega_b*omega_c - 4*omega_c**2) - 1728*g4**2*omega_c*phi_a**2*phi_b**2/(-omega_a**2 - 2*omega_a*omega_b - 4*omega_a*omega_c - omega_b**2 - 4*omega_b*omega_c - 4*omega_c**2) - 1728*g4**2*omega_c*phi_a**2*phi_b**2/(-omega_b**2 + 2*omega_b*omega_c - omega_c**2) - 1728*g4**2*omega_c*phi_a**2*phi_b**2/(-omega_b**2 - 2*omega_b*omega_c - omega_c**2) - 1728*g4**2*omega_c*phi_a**2*phi_b**2/(-omega_a**2 + 2*omega_a*omega_c - omega_c**2) - 1728*g4**2*omega_c*phi_a**2*phi_b**2/(-omega_a**2 - 2*omega_a*omega_c - omega_c**2) - 288*g4**2*phi_a**6*phi_b**2/(3*omega_a + omega_b) - 288*g4**2*phi_a**6*phi_b**2/(3*omega_a - omega_b) - 864*g4**2*phi_a**6*phi_b**2/(omega_a + omega_b) - 864*g4**2*phi_a**6*phi_b**2/(omega_a - omega_b) + 864*g4**2*phi_a**6*phi_b**2/(-omega_a + omega_b) + 864*g4**2*phi_a**6*phi_b**2/(-omega_a - omega_b) + 288*g4**2*phi_a**6*phi_b**2/(-3*omega_a + omega_b) + 288*g4**2*phi_a**6*phi_b**2/(-3*omega_a - omega_b) - 576*g4**2*phi_a**4*phi_b**4/(2*omega_a + 2*omega_b) - 2304*g4**2*phi_a**4*phi_b**4/(omega_a + omega_b) + 2304*g4**2*phi_a**4*phi_b**4/(-omega_a - omega_b) + 576*g4**2*phi_a**4*phi_b**4/(-2*omega_a - 2*omega_b) - 1152*g4**2*phi_a**4*phi_b**2/(2*omega_a + omega_b + omega_c) - 576*g4**2*phi_a**4*phi_b**2/(2*omega_a + omega_b - omega_c) - 1152*g4**2*phi_a**4*phi_b**2/(2*omega_a - omega_b + omega_c) - 576*g4**2*phi_a**4*phi_b**2/(2*omega_a - omega_b - omega_c) + 576*g4**2*phi_a**4*phi_b**2/(-2*omega_a + omega_b + omega_c) + 1152*g4**2*phi_a**4*phi_b**2/(-2*omega_a + omega_b - omega_c) + 576*g4**2*phi_a**4*phi_b**2/(-2*omega_a - omega_b + omega_c) + 1152*g4**2*phi_a**4*phi_b**2/(-2*omega_a - omega_b - omega_c) - 1152*g4**2*phi_a**4*phi_b**2/(omega_b + omega_c) + 1152*g4**2*phi_a**4*phi_b**2/(omega_b - omega_c) - 1152*g4**2*phi_a**4*phi_b**2/(-omega_b + omega_c) + 1152*g4**2*phi_a**4*phi_b**2/(-omega_b - omega_c) - 2880*g4**2*phi_a**4*phi_b**2/(omega_a + omega_c) - 576*g4**2*phi_a**4*phi_b**2/(omega_a - omega_c) - 1728*g4**2*phi_a**4*phi_b**2/(omega_a + omega_b) - 1728*g4**2*phi_a**4*phi_b**2/(omega_a - omega_b) + 576*g4**2*phi_a**4*phi_b**2/(-omega_a + omega_c) + 2880*g4**2*phi_a**4*phi_b**2/(-omega_a - omega_c) + 1728*g4**2*phi_a**4*phi_b**2/(-omega_a + omega_b) + 1728*g4**2*phi_a**4*phi_b**2/(-omega_a - omega_b) - 288*g4**2*phi_a**2*phi_b**6/(omega_a + 3*omega_b) - 864*g4**2*phi_a**2*phi_b**6/(omega_a + omega_b) + 864*g4**2*phi_a**2*phi_b**6/(omega_a - omega_b) + 288*g4**2*phi_a**2*phi_b**6/(omega_a - 3*omega_b) - 288*g4**2*phi_a**2*phi_b**6/(-omega_a + 3*omega_b) - 864*g4**2*phi_a**2*phi_b**6/(-omega_a + omega_b) + 864*g4**2*phi_a**2*phi_b**6/(-omega_a - omega_b) + 288*g4**2*phi_a**2*phi_b**6/(-omega_a - 3*omega_b) - 1152*g4**2*phi_a**2*phi_b**4/(omega_a + 2*omega_b + omega_c) - 576*g4**2*phi_a**2*phi_b**4/(omega_a + 2*omega_b - omega_c) + 576*g4**2*phi_a**2*phi_b**4/(omega_a - 2*omega_b + omega_c) + 1152*g4**2*phi_a**2*phi_b**4/(omega_a - 2*omega_b - omega_c) - 1152*g4**2*phi_a**2*phi_b**4/(-omega_a + 2*omega_b + omega_c) - 576*g4**2*phi_a**2*phi_b**4/(-omega_a + 2*omega_b - omega_c) + 576*g4**2*phi_a**2*phi_b**4/(-omega_a - 2*omega_b + omega_c) + 1152*g4**2*phi_a**2*phi_b**4/(-omega_a - 2*omega_b - omega_c) - 2880*g4**2*phi_a**2*phi_b**4/(omega_b + omega_c) - 576*g4**2*phi_a**2*phi_b**4/(omega_b - omega_c) + 576*g4**2*phi_a**2*phi_b**4/(-omega_b + omega_c) + 2880*g4**2*phi_a**2*phi_b**4/(-omega_b - omega_c) - 1152*g4**2*phi_a**2*phi_b**4/(omega_a + omega_c) + 1152*g4**2*phi_a**2*phi_b**4/(omega_a - omega_c) - 1728*g4**2*phi_a**2*phi_b**4/(omega_a + omega_b) + 1728*g4**2*phi_a**2*phi_b**4/(omega_a - omega_b) - 1152*g4**2*phi_a**2*phi_b**4/(-omega_a + omega_c) + 1152*g4**2*phi_a**2*phi_b**4/(-omega_a - omega_c) - 1728*g4**2*phi_a**2*phi_b**4/(-omega_a + omega_b) + 1728*g4**2*phi_a**2*phi_b**4/(-omega_a - omega_b) - 864*g4**2*phi_a**2*phi_b**2/(omega_a + omega_b + 2*omega_c) + 864*g4**2*phi_a**2*phi_b**2/(omega_a + omega_b - 2*omega_c) - 864*g4**2*phi_a**2*phi_b**2/(omega_a - omega_b + 2*omega_c) + 864*g4**2*phi_a**2*phi_b**2/(omega_a - omega_b - 2*omega_c) - 864*g4**2*phi_a**2*phi_b**2/(-omega_a + omega_b + 2*omega_c) + 864*g4**2*phi_a**2*phi_b**2/(-omega_a + omega_b - 2*omega_c) - 864*g4**2*phi_a**2*phi_b**2/(-omega_a - omega_b + 2*omega_c) + 864*g4**2*phi_a**2*phi_b**2/(-omega_a - omega_b - 2*omega_c) - 1728*g4**2*phi_a**2*phi_b**2/(omega_b + omega_c) + 1728*g4**2*phi_a**2*phi_b**2/(omega_b - omega_c) - 1728*g4**2*phi_a**2*phi_b**2/(-omega_b + omega_c) + 1728*g4**2*phi_a**2*phi_b**2/(-omega_b - omega_c) - 1728*g4**2*phi_a**2*phi_b**2/(omega_a + omega_c) + 1728*g4**2*phi_a**2*phi_b**2/(omega_a - omega_c) - 1728*g4**2*phi_a**2*phi_b**2/(-omega_a + omega_c) + 1728*g4**2*phi_a**2*phi_b**2/(-omega_a - omega_c) - 864*g4**2*phi_a**2*phi_b**2/omega_c - 576*g4**2*phi_a**4*phi_b**4/omega_b - 576*g4**2*phi_a**2*phi_b**6/omega_b - 864*g4**2*phi_a**2*phi_b**4/omega_b - 576*g4**2*phi_a**6*phi_b**2/omega_a - 576*g4**2*phi_a**4*phi_b**4/omega_a - 864*g4**2*phi_a**4*phi_b**2/omega_a"
      ]
     },
     "execution_count": 51,
     "metadata": {},
     "output_type": "execute_result"
    }
   ],
   "source": [
    "temp"
   ]
  },
  {
   "cell_type": "markdown",
   "id": "dc1e8be0-ae49-46a3-80d7-0062db92025e",
   "metadata": {},
   "source": [
    "### self Kerr"
   ]
  },
  {
   "cell_type": "code",
   "execution_count": 27,
   "id": "b2a7a437-18e3-461a-95e8-a9f3d9b07643",
   "metadata": {
    "execution": {
     "iopub.execute_input": "2023-09-20T04:03:04.166407Z",
     "iopub.status.busy": "2023-09-20T04:03:04.165729Z",
     "iopub.status.idle": "2023-09-20T04:03:04.198348Z",
     "shell.execute_reply": "2023-09-20T04:03:04.198024Z",
     "shell.execute_reply.started": "2023-09-20T04:03:04.166361Z"
    },
    "tags": []
   },
   "outputs": [],
   "source": [
    "temp = 0\n",
    "for term in ham_a.args:\n",
    "    temp += term.coeff(ad**2*a**2 * g3**2 * phi_a**4)"
   ]
  },
  {
   "cell_type": "code",
   "execution_count": 28,
   "id": "39783026-5396-4692-9507-2784ab7a86fb",
   "metadata": {
    "execution": {
     "iopub.execute_input": "2023-09-20T04:03:27.499248Z",
     "iopub.status.busy": "2023-09-20T04:03:27.498642Z",
     "iopub.status.idle": "2023-09-20T04:03:27.524132Z",
     "shell.execute_reply": "2023-09-20T04:03:27.523759Z",
     "shell.execute_reply.started": "2023-09-20T04:03:27.499214Z"
    },
    "tags": []
   },
   "outputs": [
    {
     "data": {
      "text/latex": [
       "$\\displaystyle \\frac{18 \\omega_{a} \\phi_{b}^{2}}{- 4 \\omega_{a}^{2} + 4 \\omega_{a} \\omega_{b} - \\omega_{b}^{2}} - \\frac{18 \\omega_{a} \\phi_{b}^{2}}{- 4 \\omega_{a}^{2} - 4 \\omega_{a} \\omega_{b} - \\omega_{b}^{2}} + \\frac{18 \\omega_{a}}{- 4 \\omega_{a}^{2} + 4 \\omega_{a} \\omega_{c} - \\omega_{c}^{2}} - \\frac{18 \\omega_{a}}{- 4 \\omega_{a}^{2} - 4 \\omega_{a} \\omega_{c} - \\omega_{c}^{2}} - \\frac{9 \\omega_{b} \\phi_{b}^{2}}{- 4 \\omega_{a}^{2} + 4 \\omega_{a} \\omega_{b} - \\omega_{b}^{2}} - \\frac{9 \\omega_{b} \\phi_{b}^{2}}{- 4 \\omega_{a}^{2} - 4 \\omega_{a} \\omega_{b} - \\omega_{b}^{2}} - \\frac{9 \\omega_{c}}{- 4 \\omega_{a}^{2} + 4 \\omega_{a} \\omega_{c} - \\omega_{c}^{2}} - \\frac{9 \\omega_{c}}{- 4 \\omega_{a}^{2} - 4 \\omega_{a} \\omega_{c} - \\omega_{c}^{2}} - \\frac{9 \\phi_{b}^{2}}{2 \\omega_{a} + \\omega_{b}} + \\frac{9 \\phi_{b}^{2}}{2 \\omega_{a} - \\omega_{b}} - \\frac{9 \\phi_{b}^{2}}{- 2 \\omega_{a} + \\omega_{b}} + \\frac{9 \\phi_{b}^{2}}{- 2 \\omega_{a} - \\omega_{b}} - \\frac{9}{2 \\omega_{a} + \\omega_{c}} + \\frac{9}{2 \\omega_{a} - \\omega_{c}} - \\frac{9}{- 2 \\omega_{a} + \\omega_{c}} + \\frac{9}{- 2 \\omega_{a} - \\omega_{c}} - \\frac{36}{\\omega_{c}} - \\frac{36 \\phi_{b}^{2}}{\\omega_{b}}$"
      ],
      "text/plain": [
       "18*omega_a*phi_b**2/(-4*omega_a**2 + 4*omega_a*omega_b - omega_b**2) - 18*omega_a*phi_b**2/(-4*omega_a**2 - 4*omega_a*omega_b - omega_b**2) + 18*omega_a/(-4*omega_a**2 + 4*omega_a*omega_c - omega_c**2) - 18*omega_a/(-4*omega_a**2 - 4*omega_a*omega_c - omega_c**2) - 9*omega_b*phi_b**2/(-4*omega_a**2 + 4*omega_a*omega_b - omega_b**2) - 9*omega_b*phi_b**2/(-4*omega_a**2 - 4*omega_a*omega_b - omega_b**2) - 9*omega_c/(-4*omega_a**2 + 4*omega_a*omega_c - omega_c**2) - 9*omega_c/(-4*omega_a**2 - 4*omega_a*omega_c - omega_c**2) - 9*phi_b**2/(2*omega_a + omega_b) + 9*phi_b**2/(2*omega_a - omega_b) - 9*phi_b**2/(-2*omega_a + omega_b) + 9*phi_b**2/(-2*omega_a - omega_b) - 9/(2*omega_a + omega_c) + 9/(2*omega_a - omega_c) - 9/(-2*omega_a + omega_c) + 9/(-2*omega_a - omega_c) - 36/omega_c - 36*phi_b**2/omega_b"
      ]
     },
     "execution_count": 28,
     "metadata": {},
     "output_type": "execute_result"
    }
   ],
   "source": [
    "temp"
   ]
  },
  {
   "cell_type": "code",
   "execution_count": 29,
   "id": "0a357cf4-0ee5-4e9e-b00c-0382cceb663c",
   "metadata": {
    "execution": {
     "iopub.execute_input": "2023-09-20T04:03:59.441419Z",
     "iopub.status.busy": "2023-09-20T04:03:59.440614Z",
     "iopub.status.idle": "2023-09-20T04:03:59.528922Z",
     "shell.execute_reply": "2023-09-20T04:03:59.528604Z",
     "shell.execute_reply.started": "2023-09-20T04:03:59.441376Z"
    }
   },
   "outputs": [],
   "source": [
    "temp = 0\n",
    "for term in ham_a.args:\n",
    "    temp += term.coeff(ad**2*a**2 * g4**2)"
   ]
  },
  {
   "cell_type": "code",
   "execution_count": 30,
   "id": "ddc325ad-aa43-4ae7-97da-342f8470139a",
   "metadata": {
    "execution": {
     "iopub.execute_input": "2023-09-20T04:04:03.455136Z",
     "iopub.status.busy": "2023-09-20T04:04:03.454647Z",
     "iopub.status.idle": "2023-09-20T04:04:03.527996Z",
     "shell.execute_reply": "2023-09-20T04:04:03.527624Z",
     "shell.execute_reply.started": "2023-09-20T04:04:03.455107Z"
    }
   },
   "outputs": [
    {
     "data": {
      "text/latex": [
       "$\\displaystyle \\frac{432 \\omega_{a} \\phi_{a}^{6} \\phi_{b}^{2}}{- \\omega_{a}^{2} + 2 \\omega_{a} \\omega_{b} - \\omega_{b}^{2}} - \\frac{864 \\omega_{a} \\phi_{a}^{6} \\phi_{b}^{2}}{- \\omega_{a}^{2} - 2 \\omega_{a} \\omega_{b} - \\omega_{b}^{2}} - \\frac{432 \\omega_{a} \\phi_{a}^{6} \\phi_{b}^{2}}{- 9 \\omega_{a}^{2} - 6 \\omega_{a} \\omega_{b} - \\omega_{b}^{2}} + \\frac{432 \\omega_{a} \\phi_{a}^{6}}{- \\omega_{a}^{2} + 2 \\omega_{a} \\omega_{c} - \\omega_{c}^{2}} - \\frac{864 \\omega_{a} \\phi_{a}^{6}}{- \\omega_{a}^{2} - 2 \\omega_{a} \\omega_{c} - \\omega_{c}^{2}} - \\frac{432 \\omega_{a} \\phi_{a}^{6}}{- 9 \\omega_{a}^{2} - 6 \\omega_{a} \\omega_{c} - \\omega_{c}^{2}} + \\frac{288 \\omega_{a} \\phi_{a}^{4} \\phi_{b}^{4}}{- \\omega_{a}^{2} + 2 \\omega_{a} \\omega_{b} - \\omega_{b}^{2}} - \\frac{288 \\omega_{a} \\phi_{a}^{4} \\phi_{b}^{4}}{- \\omega_{a}^{2} - 2 \\omega_{a} \\omega_{b} - \\omega_{b}^{2}} + \\frac{144 \\omega_{a} \\phi_{a}^{4} \\phi_{b}^{4}}{- 4 \\omega_{a}^{2} + 8 \\omega_{a} \\omega_{b} - 4 \\omega_{b}^{2}} - \\frac{144 \\omega_{a} \\phi_{a}^{4} \\phi_{b}^{4}}{- 4 \\omega_{a}^{2} - 8 \\omega_{a} \\omega_{b} - 4 \\omega_{b}^{2}} + \\frac{288 \\omega_{a} \\phi_{a}^{4} \\phi_{b}^{2}}{- 4 \\omega_{a}^{2} + 4 \\omega_{a} \\omega_{b} + 4 \\omega_{a} \\omega_{c} - \\omega_{b}^{2} - 2 \\omega_{b} \\omega_{c} - \\omega_{c}^{2}} - \\frac{288 \\omega_{a} \\phi_{a}^{4} \\phi_{b}^{2}}{- 4 \\omega_{a}^{2} - 4 \\omega_{a} \\omega_{b} - 4 \\omega_{a} \\omega_{c} - \\omega_{b}^{2} - 2 \\omega_{b} \\omega_{c} - \\omega_{c}^{2}} + \\frac{288 \\omega_{a} \\phi_{a}^{4} \\phi_{b}^{2}}{- \\omega_{a}^{2} + 2 \\omega_{a} \\omega_{c} - \\omega_{c}^{2}} - \\frac{288 \\omega_{a} \\phi_{a}^{4} \\phi_{b}^{2}}{- \\omega_{a}^{2} - 2 \\omega_{a} \\omega_{c} - \\omega_{c}^{2}} + \\frac{288 \\omega_{a} \\phi_{a}^{4} \\phi_{b}^{2}}{- \\omega_{a}^{2} + 2 \\omega_{a} \\omega_{b} - \\omega_{b}^{2}} - \\frac{288 \\omega_{a} \\phi_{a}^{4} \\phi_{b}^{2}}{- \\omega_{a}^{2} - 2 \\omega_{a} \\omega_{b} - \\omega_{b}^{2}} + \\frac{288 \\omega_{a} \\phi_{a}^{4}}{- \\omega_{a}^{2} + 2 \\omega_{a} \\omega_{c} - \\omega_{c}^{2}} - \\frac{288 \\omega_{a} \\phi_{a}^{4}}{- \\omega_{a}^{2} - 2 \\omega_{a} \\omega_{c} - \\omega_{c}^{2}} + \\frac{144 \\omega_{a} \\phi_{a}^{4}}{- 4 \\omega_{a}^{2} + 8 \\omega_{a} \\omega_{c} - 4 \\omega_{c}^{2}} - \\frac{144 \\omega_{a} \\phi_{a}^{4}}{- 4 \\omega_{a}^{2} - 8 \\omega_{a} \\omega_{c} - 4 \\omega_{c}^{2}} - \\frac{432 \\omega_{b} \\phi_{a}^{6} \\phi_{b}^{2}}{- \\omega_{a}^{2} + 2 \\omega_{a} \\omega_{b} - \\omega_{b}^{2}} - \\frac{864 \\omega_{b} \\phi_{a}^{6} \\phi_{b}^{2}}{- \\omega_{a}^{2} - 2 \\omega_{a} \\omega_{b} - \\omega_{b}^{2}} - \\frac{144 \\omega_{b} \\phi_{a}^{6} \\phi_{b}^{2}}{- 9 \\omega_{a}^{2} - 6 \\omega_{a} \\omega_{b} - \\omega_{b}^{2}} - \\frac{288 \\omega_{b} \\phi_{a}^{4} \\phi_{b}^{4}}{- \\omega_{a}^{2} + 2 \\omega_{a} \\omega_{b} - \\omega_{b}^{2}} - \\frac{288 \\omega_{b} \\phi_{a}^{4} \\phi_{b}^{4}}{- \\omega_{a}^{2} - 2 \\omega_{a} \\omega_{b} - \\omega_{b}^{2}} - \\frac{144 \\omega_{b} \\phi_{a}^{4} \\phi_{b}^{4}}{- 4 \\omega_{a}^{2} + 8 \\omega_{a} \\omega_{b} - 4 \\omega_{b}^{2}} - \\frac{144 \\omega_{b} \\phi_{a}^{4} \\phi_{b}^{4}}{- 4 \\omega_{a}^{2} - 8 \\omega_{a} \\omega_{b} - 4 \\omega_{b}^{2}} - \\frac{144 \\omega_{b} \\phi_{a}^{4} \\phi_{b}^{2}}{- 4 \\omega_{a}^{2} + 4 \\omega_{a} \\omega_{b} + 4 \\omega_{a} \\omega_{c} - \\omega_{b}^{2} - 2 \\omega_{b} \\omega_{c} - \\omega_{c}^{2}} - \\frac{144 \\omega_{b} \\phi_{a}^{4} \\phi_{b}^{2}}{- 4 \\omega_{a}^{2} - 4 \\omega_{a} \\omega_{b} - 4 \\omega_{a} \\omega_{c} - \\omega_{b}^{2} - 2 \\omega_{b} \\omega_{c} - \\omega_{c}^{2}} - \\frac{576 \\omega_{b} \\phi_{a}^{4} \\phi_{b}^{2}}{- \\omega_{b}^{2} - 2 \\omega_{b} \\omega_{c} - \\omega_{c}^{2}} - \\frac{288 \\omega_{b} \\phi_{a}^{4} \\phi_{b}^{2}}{- \\omega_{a}^{2} + 2 \\omega_{a} \\omega_{b} - \\omega_{b}^{2}} - \\frac{288 \\omega_{b} \\phi_{a}^{4} \\phi_{b}^{2}}{- \\omega_{a}^{2} - 2 \\omega_{a} \\omega_{b} - \\omega_{b}^{2}} - \\frac{432 \\omega_{c} \\phi_{a}^{6}}{- \\omega_{a}^{2} + 2 \\omega_{a} \\omega_{c} - \\omega_{c}^{2}} - \\frac{864 \\omega_{c} \\phi_{a}^{6}}{- \\omega_{a}^{2} - 2 \\omega_{a} \\omega_{c} - \\omega_{c}^{2}} - \\frac{144 \\omega_{c} \\phi_{a}^{6}}{- 9 \\omega_{a}^{2} - 6 \\omega_{a} \\omega_{c} - \\omega_{c}^{2}} - \\frac{144 \\omega_{c} \\phi_{a}^{4} \\phi_{b}^{2}}{- 4 \\omega_{a}^{2} + 4 \\omega_{a} \\omega_{b} + 4 \\omega_{a} \\omega_{c} - \\omega_{b}^{2} - 2 \\omega_{b} \\omega_{c} - \\omega_{c}^{2}} - \\frac{144 \\omega_{c} \\phi_{a}^{4} \\phi_{b}^{2}}{- 4 \\omega_{a}^{2} - 4 \\omega_{a} \\omega_{b} - 4 \\omega_{a} \\omega_{c} - \\omega_{b}^{2} - 2 \\omega_{b} \\omega_{c} - \\omega_{c}^{2}} - \\frac{576 \\omega_{c} \\phi_{a}^{4} \\phi_{b}^{2}}{- \\omega_{b}^{2} - 2 \\omega_{b} \\omega_{c} - \\omega_{c}^{2}} - \\frac{288 \\omega_{c} \\phi_{a}^{4} \\phi_{b}^{2}}{- \\omega_{a}^{2} + 2 \\omega_{a} \\omega_{c} - \\omega_{c}^{2}} - \\frac{288 \\omega_{c} \\phi_{a}^{4} \\phi_{b}^{2}}{- \\omega_{a}^{2} - 2 \\omega_{a} \\omega_{c} - \\omega_{c}^{2}} - \\frac{288 \\omega_{c} \\phi_{a}^{4}}{- \\omega_{a}^{2} + 2 \\omega_{a} \\omega_{c} - \\omega_{c}^{2}} - \\frac{288 \\omega_{c} \\phi_{a}^{4}}{- \\omega_{a}^{2} - 2 \\omega_{a} \\omega_{c} - \\omega_{c}^{2}} - \\frac{144 \\omega_{c} \\phi_{a}^{4}}{- 4 \\omega_{a}^{2} + 8 \\omega_{a} \\omega_{c} - 4 \\omega_{c}^{2}} - \\frac{144 \\omega_{c} \\phi_{a}^{4}}{- 4 \\omega_{a}^{2} - 8 \\omega_{a} \\omega_{c} - 4 \\omega_{c}^{2}} - \\frac{144 \\phi_{a}^{6} \\phi_{b}^{2}}{3 \\omega_{a} + \\omega_{b}} - \\frac{864 \\phi_{a}^{6} \\phi_{b}^{2}}{\\omega_{a} + \\omega_{b}} + \\frac{432 \\phi_{a}^{6} \\phi_{b}^{2}}{\\omega_{a} - \\omega_{b}} - \\frac{432 \\phi_{a}^{6} \\phi_{b}^{2}}{- \\omega_{a} + \\omega_{b}} + \\frac{864 \\phi_{a}^{6} \\phi_{b}^{2}}{- \\omega_{a} - \\omega_{b}} + \\frac{144 \\phi_{a}^{6} \\phi_{b}^{2}}{- 3 \\omega_{a} - \\omega_{b}} - \\frac{144 \\phi_{a}^{6}}{3 \\omega_{a} + \\omega_{c}} - \\frac{864 \\phi_{a}^{6}}{\\omega_{a} + \\omega_{c}} + \\frac{432 \\phi_{a}^{6}}{\\omega_{a} - \\omega_{c}} - \\frac{432 \\phi_{a}^{6}}{- \\omega_{a} + \\omega_{c}} + \\frac{864 \\phi_{a}^{6}}{- \\omega_{a} - \\omega_{c}} + \\frac{144 \\phi_{a}^{6}}{- 3 \\omega_{a} - \\omega_{c}} - \\frac{72 \\phi_{a}^{4} \\phi_{b}^{4}}{2 \\omega_{a} + 2 \\omega_{b}} + \\frac{72 \\phi_{a}^{4} \\phi_{b}^{4}}{2 \\omega_{a} - 2 \\omega_{b}} - \\frac{288 \\phi_{a}^{4} \\phi_{b}^{4}}{\\omega_{a} + \\omega_{b}} + \\frac{288 \\phi_{a}^{4} \\phi_{b}^{4}}{\\omega_{a} - \\omega_{b}} - \\frac{288 \\phi_{a}^{4} \\phi_{b}^{4}}{- \\omega_{a} + \\omega_{b}} + \\frac{288 \\phi_{a}^{4} \\phi_{b}^{4}}{- \\omega_{a} - \\omega_{b}} - \\frac{72 \\phi_{a}^{4} \\phi_{b}^{4}}{- 2 \\omega_{a} + 2 \\omega_{b}} + \\frac{72 \\phi_{a}^{4} \\phi_{b}^{4}}{- 2 \\omega_{a} - 2 \\omega_{b}} - \\frac{144 \\phi_{a}^{4} \\phi_{b}^{2}}{2 \\omega_{a} + \\omega_{b} + \\omega_{c}} + \\frac{144 \\phi_{a}^{4} \\phi_{b}^{2}}{2 \\omega_{a} - \\omega_{b} - \\omega_{c}} - \\frac{144 \\phi_{a}^{4} \\phi_{b}^{2}}{- 2 \\omega_{a} + \\omega_{b} + \\omega_{c}} + \\frac{144 \\phi_{a}^{4} \\phi_{b}^{2}}{- 2 \\omega_{a} - \\omega_{b} - \\omega_{c}} - \\frac{576 \\phi_{a}^{4} \\phi_{b}^{2}}{\\omega_{b} + \\omega_{c}} + \\frac{576 \\phi_{a}^{4} \\phi_{b}^{2}}{- \\omega_{b} - \\omega_{c}} - \\frac{288 \\phi_{a}^{4} \\phi_{b}^{2}}{\\omega_{a} + \\omega_{c}} + \\frac{288 \\phi_{a}^{4} \\phi_{b}^{2}}{\\omega_{a} - \\omega_{c}} - \\frac{288 \\phi_{a}^{4} \\phi_{b}^{2}}{\\omega_{a} + \\omega_{b}} + \\frac{288 \\phi_{a}^{4} \\phi_{b}^{2}}{\\omega_{a} - \\omega_{b}} - \\frac{288 \\phi_{a}^{4} \\phi_{b}^{2}}{- \\omega_{a} + \\omega_{c}} + \\frac{288 \\phi_{a}^{4} \\phi_{b}^{2}}{- \\omega_{a} - \\omega_{c}} - \\frac{288 \\phi_{a}^{4} \\phi_{b}^{2}}{- \\omega_{a} + \\omega_{b}} + \\frac{288 \\phi_{a}^{4} \\phi_{b}^{2}}{- \\omega_{a} - \\omega_{b}} - \\frac{72 \\phi_{a}^{4}}{2 \\omega_{a} + 2 \\omega_{c}} + \\frac{72 \\phi_{a}^{4}}{2 \\omega_{a} - 2 \\omega_{c}} - \\frac{288 \\phi_{a}^{4}}{\\omega_{a} + \\omega_{c}} + \\frac{288 \\phi_{a}^{4}}{\\omega_{a} - \\omega_{c}} - \\frac{288 \\phi_{a}^{4}}{- \\omega_{a} + \\omega_{c}} + \\frac{288 \\phi_{a}^{4}}{- \\omega_{a} - \\omega_{c}} - \\frac{72 \\phi_{a}^{4}}{- 2 \\omega_{a} + 2 \\omega_{c}} + \\frac{72 \\phi_{a}^{4}}{- 2 \\omega_{a} - 2 \\omega_{c}} - \\frac{144 \\phi_{a}^{4}}{\\omega_{c}} - \\frac{144 \\phi_{a}^{4} \\phi_{b}^{4}}{\\omega_{b}} - \\frac{306 \\phi_{a}^{8}}{\\omega_{a}} - \\frac{144 \\phi_{a}^{6} \\phi_{b}^{2}}{\\omega_{a}} - \\frac{144 \\phi_{a}^{6}}{\\omega_{a}}$"
      ],
      "text/plain": [
       "432*omega_a*phi_a**6*phi_b**2/(-omega_a**2 + 2*omega_a*omega_b - omega_b**2) - 864*omega_a*phi_a**6*phi_b**2/(-omega_a**2 - 2*omega_a*omega_b - omega_b**2) - 432*omega_a*phi_a**6*phi_b**2/(-9*omega_a**2 - 6*omega_a*omega_b - omega_b**2) + 432*omega_a*phi_a**6/(-omega_a**2 + 2*omega_a*omega_c - omega_c**2) - 864*omega_a*phi_a**6/(-omega_a**2 - 2*omega_a*omega_c - omega_c**2) - 432*omega_a*phi_a**6/(-9*omega_a**2 - 6*omega_a*omega_c - omega_c**2) + 288*omega_a*phi_a**4*phi_b**4/(-omega_a**2 + 2*omega_a*omega_b - omega_b**2) - 288*omega_a*phi_a**4*phi_b**4/(-omega_a**2 - 2*omega_a*omega_b - omega_b**2) + 144*omega_a*phi_a**4*phi_b**4/(-4*omega_a**2 + 8*omega_a*omega_b - 4*omega_b**2) - 144*omega_a*phi_a**4*phi_b**4/(-4*omega_a**2 - 8*omega_a*omega_b - 4*omega_b**2) + 288*omega_a*phi_a**4*phi_b**2/(-4*omega_a**2 + 4*omega_a*omega_b + 4*omega_a*omega_c - omega_b**2 - 2*omega_b*omega_c - omega_c**2) - 288*omega_a*phi_a**4*phi_b**2/(-4*omega_a**2 - 4*omega_a*omega_b - 4*omega_a*omega_c - omega_b**2 - 2*omega_b*omega_c - omega_c**2) + 288*omega_a*phi_a**4*phi_b**2/(-omega_a**2 + 2*omega_a*omega_c - omega_c**2) - 288*omega_a*phi_a**4*phi_b**2/(-omega_a**2 - 2*omega_a*omega_c - omega_c**2) + 288*omega_a*phi_a**4*phi_b**2/(-omega_a**2 + 2*omega_a*omega_b - omega_b**2) - 288*omega_a*phi_a**4*phi_b**2/(-omega_a**2 - 2*omega_a*omega_b - omega_b**2) + 288*omega_a*phi_a**4/(-omega_a**2 + 2*omega_a*omega_c - omega_c**2) - 288*omega_a*phi_a**4/(-omega_a**2 - 2*omega_a*omega_c - omega_c**2) + 144*omega_a*phi_a**4/(-4*omega_a**2 + 8*omega_a*omega_c - 4*omega_c**2) - 144*omega_a*phi_a**4/(-4*omega_a**2 - 8*omega_a*omega_c - 4*omega_c**2) - 432*omega_b*phi_a**6*phi_b**2/(-omega_a**2 + 2*omega_a*omega_b - omega_b**2) - 864*omega_b*phi_a**6*phi_b**2/(-omega_a**2 - 2*omega_a*omega_b - omega_b**2) - 144*omega_b*phi_a**6*phi_b**2/(-9*omega_a**2 - 6*omega_a*omega_b - omega_b**2) - 288*omega_b*phi_a**4*phi_b**4/(-omega_a**2 + 2*omega_a*omega_b - omega_b**2) - 288*omega_b*phi_a**4*phi_b**4/(-omega_a**2 - 2*omega_a*omega_b - omega_b**2) - 144*omega_b*phi_a**4*phi_b**4/(-4*omega_a**2 + 8*omega_a*omega_b - 4*omega_b**2) - 144*omega_b*phi_a**4*phi_b**4/(-4*omega_a**2 - 8*omega_a*omega_b - 4*omega_b**2) - 144*omega_b*phi_a**4*phi_b**2/(-4*omega_a**2 + 4*omega_a*omega_b + 4*omega_a*omega_c - omega_b**2 - 2*omega_b*omega_c - omega_c**2) - 144*omega_b*phi_a**4*phi_b**2/(-4*omega_a**2 - 4*omega_a*omega_b - 4*omega_a*omega_c - omega_b**2 - 2*omega_b*omega_c - omega_c**2) - 576*omega_b*phi_a**4*phi_b**2/(-omega_b**2 - 2*omega_b*omega_c - omega_c**2) - 288*omega_b*phi_a**4*phi_b**2/(-omega_a**2 + 2*omega_a*omega_b - omega_b**2) - 288*omega_b*phi_a**4*phi_b**2/(-omega_a**2 - 2*omega_a*omega_b - omega_b**2) - 432*omega_c*phi_a**6/(-omega_a**2 + 2*omega_a*omega_c - omega_c**2) - 864*omega_c*phi_a**6/(-omega_a**2 - 2*omega_a*omega_c - omega_c**2) - 144*omega_c*phi_a**6/(-9*omega_a**2 - 6*omega_a*omega_c - omega_c**2) - 144*omega_c*phi_a**4*phi_b**2/(-4*omega_a**2 + 4*omega_a*omega_b + 4*omega_a*omega_c - omega_b**2 - 2*omega_b*omega_c - omega_c**2) - 144*omega_c*phi_a**4*phi_b**2/(-4*omega_a**2 - 4*omega_a*omega_b - 4*omega_a*omega_c - omega_b**2 - 2*omega_b*omega_c - omega_c**2) - 576*omega_c*phi_a**4*phi_b**2/(-omega_b**2 - 2*omega_b*omega_c - omega_c**2) - 288*omega_c*phi_a**4*phi_b**2/(-omega_a**2 + 2*omega_a*omega_c - omega_c**2) - 288*omega_c*phi_a**4*phi_b**2/(-omega_a**2 - 2*omega_a*omega_c - omega_c**2) - 288*omega_c*phi_a**4/(-omega_a**2 + 2*omega_a*omega_c - omega_c**2) - 288*omega_c*phi_a**4/(-omega_a**2 - 2*omega_a*omega_c - omega_c**2) - 144*omega_c*phi_a**4/(-4*omega_a**2 + 8*omega_a*omega_c - 4*omega_c**2) - 144*omega_c*phi_a**4/(-4*omega_a**2 - 8*omega_a*omega_c - 4*omega_c**2) - 144*phi_a**6*phi_b**2/(3*omega_a + omega_b) - 864*phi_a**6*phi_b**2/(omega_a + omega_b) + 432*phi_a**6*phi_b**2/(omega_a - omega_b) - 432*phi_a**6*phi_b**2/(-omega_a + omega_b) + 864*phi_a**6*phi_b**2/(-omega_a - omega_b) + 144*phi_a**6*phi_b**2/(-3*omega_a - omega_b) - 144*phi_a**6/(3*omega_a + omega_c) - 864*phi_a**6/(omega_a + omega_c) + 432*phi_a**6/(omega_a - omega_c) - 432*phi_a**6/(-omega_a + omega_c) + 864*phi_a**6/(-omega_a - omega_c) + 144*phi_a**6/(-3*omega_a - omega_c) - 72*phi_a**4*phi_b**4/(2*omega_a + 2*omega_b) + 72*phi_a**4*phi_b**4/(2*omega_a - 2*omega_b) - 288*phi_a**4*phi_b**4/(omega_a + omega_b) + 288*phi_a**4*phi_b**4/(omega_a - omega_b) - 288*phi_a**4*phi_b**4/(-omega_a + omega_b) + 288*phi_a**4*phi_b**4/(-omega_a - omega_b) - 72*phi_a**4*phi_b**4/(-2*omega_a + 2*omega_b) + 72*phi_a**4*phi_b**4/(-2*omega_a - 2*omega_b) - 144*phi_a**4*phi_b**2/(2*omega_a + omega_b + omega_c) + 144*phi_a**4*phi_b**2/(2*omega_a - omega_b - omega_c) - 144*phi_a**4*phi_b**2/(-2*omega_a + omega_b + omega_c) + 144*phi_a**4*phi_b**2/(-2*omega_a - omega_b - omega_c) - 576*phi_a**4*phi_b**2/(omega_b + omega_c) + 576*phi_a**4*phi_b**2/(-omega_b - omega_c) - 288*phi_a**4*phi_b**2/(omega_a + omega_c) + 288*phi_a**4*phi_b**2/(omega_a - omega_c) - 288*phi_a**4*phi_b**2/(omega_a + omega_b) + 288*phi_a**4*phi_b**2/(omega_a - omega_b) - 288*phi_a**4*phi_b**2/(-omega_a + omega_c) + 288*phi_a**4*phi_b**2/(-omega_a - omega_c) - 288*phi_a**4*phi_b**2/(-omega_a + omega_b) + 288*phi_a**4*phi_b**2/(-omega_a - omega_b) - 72*phi_a**4/(2*omega_a + 2*omega_c) + 72*phi_a**4/(2*omega_a - 2*omega_c) - 288*phi_a**4/(omega_a + omega_c) + 288*phi_a**4/(omega_a - omega_c) - 288*phi_a**4/(-omega_a + omega_c) + 288*phi_a**4/(-omega_a - omega_c) - 72*phi_a**4/(-2*omega_a + 2*omega_c) + 72*phi_a**4/(-2*omega_a - 2*omega_c) - 144*phi_a**4/omega_c - 144*phi_a**4*phi_b**4/omega_b - 306*phi_a**8/omega_a - 144*phi_a**6*phi_b**2/omega_a - 144*phi_a**6/omega_a"
      ]
     },
     "execution_count": 30,
     "metadata": {},
     "output_type": "execute_result"
    }
   ],
   "source": [
    "temp"
   ]
  },
  {
   "cell_type": "code",
   "execution_count": null,
   "id": "db6eee6a",
   "metadata": {},
   "outputs": [],
   "source": []
  }
 ],
 "metadata": {
  "kernelspec": {
   "display_name": "fluxonium",
   "language": "python",
   "name": "python3"
  },
  "language_info": {
   "codemirror_mode": {
    "name": "ipython",
    "version": 3
   },
   "file_extension": ".py",
   "mimetype": "text/x-python",
   "name": "python",
   "nbconvert_exporter": "python",
   "pygments_lexer": "ipython3",
   "version": "3.11.8"
  }
 },
 "nbformat": 4,
 "nbformat_minor": 5
}
