{
 "cells": [
  {
   "cell_type": "code",
   "execution_count": 2,
   "id": "27ca754a-9d30-4a6d-8054-db633309ef22",
   "metadata": {
    "execution": {
     "iopub.execute_input": "2023-09-28T17:14:37.936090Z",
     "iopub.status.busy": "2023-09-28T17:14:37.935208Z",
     "iopub.status.idle": "2023-09-28T17:14:38.446588Z",
     "shell.execute_reply": "2023-09-28T17:14:38.446295Z",
     "shell.execute_reply.started": "2023-09-28T17:14:37.936022Z"
    },
    "tags": []
   },
   "outputs": [],
   "source": [
    "from sympy.physics.secondquant import *\n",
    "from sympy import symbols,I\n",
    "import sympy as sp\n",
    "from no import normal"
   ]
  },
  {
   "cell_type": "code",
   "execution_count": 3,
   "id": "bee929bb-cb95-42cf-8cfc-b637ef21834a",
   "metadata": {
    "execution": {
     "iopub.execute_input": "2023-09-28T17:14:38.447473Z",
     "iopub.status.busy": "2023-09-28T17:14:38.447338Z",
     "iopub.status.idle": "2023-09-28T17:14:38.449416Z",
     "shell.execute_reply": "2023-09-28T17:14:38.449124Z",
     "shell.execute_reply.started": "2023-09-28T17:14:38.447464Z"
    },
    "tags": []
   },
   "outputs": [],
   "source": [
    "ind_a = symbols('a')\n",
    "a = B(ind_a)\n",
    "ad = Bd(ind_a)"
   ]
  },
  {
   "cell_type": "code",
   "execution_count": 4,
   "id": "bd55f7a7-b1e1-4a35-94cb-263462a7bec0",
   "metadata": {
    "execution": {
     "iopub.execute_input": "2023-09-28T17:14:38.647253Z",
     "iopub.status.busy": "2023-09-28T17:14:38.646548Z",
     "iopub.status.idle": "2023-09-28T17:14:38.656755Z",
     "shell.execute_reply": "2023-09-28T17:14:38.655780Z",
     "shell.execute_reply.started": "2023-09-28T17:14:38.647225Z"
    },
    "tags": []
   },
   "outputs": [],
   "source": [
    "g3 = symbols('g3', real=True)\n",
    "g4 = symbols('g4', real=True)\n",
    "g5 = symbols('g5', real=True)\n",
    "g6 = symbols('g6', real=True)\n",
    "omega = symbols('omega', real=True)\n",
    "kappa = symbols('kappa', real=True)"
   ]
  },
  {
   "cell_type": "code",
   "execution_count": 5,
   "id": "86e082c8-2981-467e-abfc-fc96b02e9e6c",
   "metadata": {
    "execution": {
     "iopub.execute_input": "2023-09-28T17:14:39.970470Z",
     "iopub.status.busy": "2023-09-28T17:14:39.969845Z",
     "iopub.status.idle": "2023-09-28T17:14:39.988547Z",
     "shell.execute_reply": "2023-09-28T17:14:39.987509Z",
     "shell.execute_reply.started": "2023-09-28T17:14:39.970441Z"
    },
    "tags": []
   },
   "outputs": [],
   "source": [
    "h0 = omega * ad * a"
   ]
  },
  {
   "cell_type": "code",
   "execution_count": 6,
   "id": "cb9a2f02-ca22-4202-abce-288d7892ccba",
   "metadata": {
    "execution": {
     "iopub.execute_input": "2023-09-28T17:14:42.248711Z",
     "iopub.status.busy": "2023-09-28T17:14:42.247606Z",
     "iopub.status.idle": "2023-09-28T17:14:42.406087Z",
     "shell.execute_reply": "2023-09-28T17:14:42.405767Z",
     "shell.execute_reply.started": "2023-09-28T17:14:42.248660Z"
    },
    "tags": []
   },
   "outputs": [],
   "source": [
    "v = normal(g3 * (a+ad)**3 +g4*(a+ad)**4  )"
   ]
  },
  {
   "cell_type": "markdown",
   "id": "6d99629b-96b8-4139-bb1e-2af74528d302",
   "metadata": {},
   "source": [
    "### obtain $\\hat{H}_1$"
   ]
  },
  {
   "cell_type": "code",
   "execution_count": 7,
   "id": "1868fc98-9273-429a-a29d-fb50ee3c5f61",
   "metadata": {
    "execution": {
     "iopub.execute_input": "2023-09-17T19:55:23.212951Z",
     "iopub.status.busy": "2023-09-17T19:55:23.212761Z",
     "iopub.status.idle": "2023-09-17T19:55:23.399848Z",
     "shell.execute_reply": "2023-09-17T19:55:23.399469Z",
     "shell.execute_reply.started": "2023-09-17T19:55:23.212937Z"
    },
    "tags": []
   },
   "outputs": [],
   "source": [
    "v1 = sp.simplify(v).expand()"
   ]
  },
  {
   "cell_type": "code",
   "execution_count": 8,
   "id": "8e484b4f-c180-4f7d-86b4-82445d4ef982",
   "metadata": {
    "execution": {
     "iopub.execute_input": "2023-09-17T19:55:23.400782Z",
     "iopub.status.busy": "2023-09-17T19:55:23.400685Z",
     "iopub.status.idle": "2023-09-17T19:55:23.404137Z",
     "shell.execute_reply": "2023-09-17T19:55:23.403720Z",
     "shell.execute_reply.started": "2023-09-17T19:55:23.400772Z"
    },
    "tags": []
   },
   "outputs": [],
   "source": [
    "temp = 0\n",
    "for term in v1.args:\n",
    "    if term.as_powers_dict()[ad] == term.as_powers_dict()[a]:\n",
    "        temp += term\n",
    "h1 = temp * 1"
   ]
  },
  {
   "cell_type": "code",
   "execution_count": 9,
   "id": "341ba478",
   "metadata": {},
   "outputs": [
    {
     "data": {
      "text/latex": [
       "$\\displaystyle 3 g_{3} b_{a} + g_{3} b_{a}^{3} + 3 g_{3} {b^\\dagger_{a}} + 3 g_{3} {b^\\dagger_{a}} b_{a}^{2} + 3 g_{3} {b^\\dagger_{a}}^{2} b_{a} + g_{3} {b^\\dagger_{a}}^{3} + 3 g_{4} + 6 g_{4} b_{a}^{2} + g_{4} b_{a}^{4} + 12 g_{4} {b^\\dagger_{a}} b_{a} + 4 g_{4} {b^\\dagger_{a}} b_{a}^{3} + 6 g_{4} {b^\\dagger_{a}}^{2} + 6 g_{4} {b^\\dagger_{a}}^{2} b_{a}^{2} + 4 g_{4} {b^\\dagger_{a}}^{3} b_{a} + g_{4} {b^\\dagger_{a}}^{4}$"
      ],
      "text/plain": [
       "3*g3*AnnihilateBoson(a) + g3*AnnihilateBoson(a)**3 + 3*g3*CreateBoson(a) + 3*g3*CreateBoson(a)*AnnihilateBoson(a)**2 + 3*g3*CreateBoson(a)**2*AnnihilateBoson(a) + g3*CreateBoson(a)**3 + 3*g4 + 6*g4*AnnihilateBoson(a)**2 + g4*AnnihilateBoson(a)**4 + 12*g4*CreateBoson(a)*AnnihilateBoson(a) + 4*g4*CreateBoson(a)*AnnihilateBoson(a)**3 + 6*g4*CreateBoson(a)**2 + 6*g4*CreateBoson(a)**2*AnnihilateBoson(a)**2 + 4*g4*CreateBoson(a)**3*AnnihilateBoson(a) + g4*CreateBoson(a)**4"
      ]
     },
     "execution_count": 9,
     "metadata": {},
     "output_type": "execute_result"
    }
   ],
   "source": [
    "v1"
   ]
  },
  {
   "cell_type": "markdown",
   "id": "b9b1ca1b-47cc-4692-a118-305b06a20ba6",
   "metadata": {},
   "source": [
    "### obtain up to $\\hat{H}_2$"
   ]
  },
  {
   "cell_type": "code",
   "execution_count": 10,
   "id": "d6af1876-eee8-4634-af64-2741d34404ea",
   "metadata": {
    "execution": {
     "iopub.execute_input": "2023-09-17T20:16:46.932591Z",
     "iopub.status.busy": "2023-09-17T20:16:46.931859Z",
     "iopub.status.idle": "2023-09-17T20:16:46.994125Z",
     "shell.execute_reply": "2023-09-17T20:16:46.993832Z",
     "shell.execute_reply.started": "2023-09-17T20:16:46.932502Z"
    },
    "tags": []
   },
   "outputs": [],
   "source": [
    "temp = 0\n",
    "for term in (v1-h1).args:\n",
    "    if term.as_powers_dict()[ad]!= term.as_powers_dict()[a]:\n",
    "        temp += term / omega / (term.as_powers_dict()[ad] - term.as_powers_dict()[a])\n",
    "s1= normal(temp) * 1\n",
    "s_tot = s1 * kappa \n",
    "s_tot_1 = s1 * kappa"
   ]
  },
  {
   "cell_type": "code",
   "execution_count": 11,
   "id": "c53202b8-dafb-4b3e-a582-fc9de68300c9",
   "metadata": {
    "execution": {
     "iopub.execute_input": "2023-09-17T20:16:47.357698Z",
     "iopub.status.busy": "2023-09-17T20:16:47.357326Z",
     "iopub.status.idle": "2023-09-17T20:16:54.057584Z",
     "shell.execute_reply": "2023-09-17T20:16:54.057210Z",
     "shell.execute_reply.started": "2023-09-17T20:16:47.357675Z"
    },
    "tags": []
   },
   "outputs": [
    {
     "name": "stdout",
     "output_type": "stream",
     "text": [
      "x\n",
      "x\n"
     ]
    }
   ],
   "source": [
    "h_tot = h0 + kappa*v \n",
    "h_eff_2 = 0\n",
    "\n",
    "temp_2 = normal(Commutator(s_tot_1, h_tot.coeff(kappa,1)*kappa**1).doit() )\n",
    "temp_1 = normal(Commutator(s_tot_1, h_tot.coeff(kappa,0)*kappa**0).doit() )\n",
    "print('x')\n",
    "h_eff_2 += temp_2\n",
    "\n",
    "temp_2 = normal(Commutator(s_tot_1, temp_1).doit())\n",
    "print('x')\n",
    "h_eff_2 += sp.Rational(1,2) * temp_2\n",
    "\n",
    "h_eff_2 = h_eff_2.expand()"
   ]
  },
  {
   "cell_type": "code",
   "execution_count": 12,
   "id": "f07ff33e-9eab-4157-a0cc-5236a4091686",
   "metadata": {
    "execution": {
     "iopub.execute_input": "2023-09-17T20:19:12.591055Z",
     "iopub.status.busy": "2023-09-17T20:19:12.588514Z",
     "iopub.status.idle": "2023-09-17T20:19:12.637110Z",
     "shell.execute_reply": "2023-09-17T20:19:12.636588Z",
     "shell.execute_reply.started": "2023-09-17T20:19:12.591005Z"
    },
    "tags": []
   },
   "outputs": [],
   "source": [
    "v2 = normal(h_eff_2.coeff(kappa,2))"
   ]
  },
  {
   "cell_type": "code",
   "execution_count": 13,
   "id": "fae0223d-e61b-463b-80c8-dfd47114936c",
   "metadata": {
    "execution": {
     "iopub.execute_input": "2023-09-17T20:19:13.045387Z",
     "iopub.status.busy": "2023-09-17T20:19:13.044914Z",
     "iopub.status.idle": "2023-09-17T20:19:13.066542Z",
     "shell.execute_reply": "2023-09-17T20:19:13.066176Z",
     "shell.execute_reply.started": "2023-09-17T20:19:13.045340Z"
    },
    "tags": []
   },
   "outputs": [],
   "source": [
    "temp = 0\n",
    "for term in v2.args:\n",
    "    if term.as_powers_dict()[ad] == term.as_powers_dict()[a]:\n",
    "        temp += term\n",
    "h2 = temp * 1"
   ]
  },
  {
   "cell_type": "code",
   "execution_count": 14,
   "id": "31bd6641-ac96-4428-84b0-65a8e18fd7e5",
   "metadata": {
    "execution": {
     "iopub.execute_input": "2023-09-17T20:19:13.995876Z",
     "iopub.status.busy": "2023-09-17T20:19:13.995500Z",
     "iopub.status.idle": "2023-09-17T20:19:14.007650Z",
     "shell.execute_reply": "2023-09-17T20:19:14.006808Z",
     "shell.execute_reply.started": "2023-09-17T20:19:13.995853Z"
    },
    "tags": []
   },
   "outputs": [],
   "source": [
    "temp = 0\n",
    "for term in v1.args:\n",
    "    if term.as_powers_dict()[ad] == term.as_powers_dict()[a]:\n",
    "        temp += term\n",
    "h1 = temp * 1"
   ]
  },
  {
   "cell_type": "markdown",
   "id": "e7126274-af96-4bbd-be55-3e4b512e144a",
   "metadata": {},
   "source": [
    "### obtain up to $\\hat{H}_3$"
   ]
  },
  {
   "cell_type": "code",
   "execution_count": 15,
   "id": "e7f978ca-40eb-45c2-9e17-bdab9f9e980d",
   "metadata": {
    "execution": {
     "iopub.execute_input": "2023-09-17T19:55:59.733662Z",
     "iopub.status.busy": "2023-09-17T19:55:59.732998Z",
     "iopub.status.idle": "2023-09-17T19:56:00.156152Z",
     "shell.execute_reply": "2023-09-17T19:56:00.155829Z",
     "shell.execute_reply.started": "2023-09-17T19:55:59.733630Z"
    },
    "tags": []
   },
   "outputs": [],
   "source": [
    "temp = 0\n",
    "for term in (v2-h2).args:\n",
    "    if term.as_powers_dict()[ad] != term.as_powers_dict()[a]:\n",
    "        temp += term / omega / (term.as_powers_dict()[ad] - term.as_powers_dict()[a])\n",
    "s2 = normal(temp) * 1"
   ]
  },
  {
   "cell_type": "code",
   "execution_count": 16,
   "id": "cd920a62-d387-49e0-956e-bf4de49d3f68",
   "metadata": {
    "execution": {
     "iopub.execute_input": "2023-09-17T19:56:01.125061Z",
     "iopub.status.busy": "2023-09-17T19:56:01.124888Z",
     "iopub.status.idle": "2023-09-17T19:56:01.148983Z",
     "shell.execute_reply": "2023-09-17T19:56:01.148658Z",
     "shell.execute_reply.started": "2023-09-17T19:56:01.125047Z"
    },
    "tags": []
   },
   "outputs": [],
   "source": [
    "s_tot = s1 * kappa + s2 * kappa**2\n",
    "s_tot_1 = s1 * kappa\n",
    "s_tot_2 = s2 * kappa**2"
   ]
  },
  {
   "cell_type": "code",
   "execution_count": 17,
   "id": "a8626a1e-9ede-466a-8cea-3a8d89a35f8a",
   "metadata": {
    "execution": {
     "iopub.execute_input": "2023-09-17T19:56:04.801074Z",
     "iopub.status.busy": "2023-09-17T19:56:04.800916Z",
     "iopub.status.idle": "2023-09-17T19:57:53.927890Z",
     "shell.execute_reply": "2023-09-17T19:57:53.927554Z",
     "shell.execute_reply.started": "2023-09-17T19:56:04.801064Z"
    },
    "tags": []
   },
   "outputs": [
    {
     "name": "stdout",
     "output_type": "stream",
     "text": [
      "x\n",
      "x\n",
      "x\n"
     ]
    }
   ],
   "source": [
    "h_tot = h0 + kappa*v \n",
    "h_eff_3 = 0\n",
    "h_eff_2 = 0\n",
    "\n",
    "temp_3 = normal(Commutator(s_tot_2, h_tot.coeff(kappa,1)*kappa**1).doit() )\n",
    "temp_2 = normal(Commutator(s_tot_1, h_tot.coeff(kappa,1)*kappa**1).doit() + Commutator(s_tot_2, h_tot.coeff(kappa,0)*kappa**0).doit() )\n",
    "temp_1 = normal(Commutator(s_tot_1, h_tot.coeff(kappa,0)*kappa**0).doit() )\n",
    "print('x')\n",
    "h_eff_3 += temp_3\n",
    "h_eff_2 += temp_2\n",
    "\n",
    "temp_3 = normal(Commutator(s_tot_2, temp_1).doit() + Commutator(s_tot_1, temp_2).doit())\n",
    "temp_2 = normal(Commutator(s_tot_1, temp_1).doit())\n",
    "print('x')\n",
    "h_eff_3 += sp.Rational(1,2) * temp_3\n",
    "h_eff_2 += sp.Rational(1,2) * temp_2\n",
    "\n",
    "temp_3 = normal(Commutator(s_tot_1, temp_2).doit())\n",
    "print('x')\n",
    "h_eff_3 += sp.Rational(1,6) * temp_3\n",
    "\n",
    "h_eff_3 = h_eff_3.expand()\n",
    "h_eff_2 = h_eff_2.expand()"
   ]
  },
  {
   "cell_type": "code",
   "execution_count": 18,
   "id": "afa93e79-61e2-46b3-a341-7a522dc6a638",
   "metadata": {
    "execution": {
     "iopub.execute_input": "2023-09-17T19:57:58.603990Z",
     "iopub.status.busy": "2023-09-17T19:57:58.603761Z",
     "iopub.status.idle": "2023-09-17T19:57:59.442106Z",
     "shell.execute_reply": "2023-09-17T19:57:59.441798Z",
     "shell.execute_reply.started": "2023-09-17T19:57:58.603969Z"
    },
    "tags": []
   },
   "outputs": [],
   "source": [
    "v3 = normal(h_eff_3.coeff(kappa,3))\n",
    "v2 = normal(h_eff_2.coeff(kappa,2))"
   ]
  },
  {
   "cell_type": "code",
   "execution_count": 19,
   "id": "b2d96d74-466c-4d70-9326-b70f7ae10016",
   "metadata": {
    "execution": {
     "iopub.execute_input": "2023-09-17T19:58:05.924326Z",
     "iopub.status.busy": "2023-09-17T19:58:05.924080Z",
     "iopub.status.idle": "2023-09-17T19:58:05.939584Z",
     "shell.execute_reply": "2023-09-17T19:58:05.939182Z",
     "shell.execute_reply.started": "2023-09-17T19:58:05.924302Z"
    },
    "tags": []
   },
   "outputs": [],
   "source": [
    "temp = 0\n",
    "for term in v3.args:\n",
    "    if term.as_powers_dict()[ad] == term.as_powers_dict()[a]:\n",
    "        temp += term\n",
    "h3 = temp * 1\n",
    "\n",
    "temp = 0\n",
    "for term in v2.args:\n",
    "    if term.as_powers_dict()[ad] == term.as_powers_dict()[a]:\n",
    "        temp += term\n",
    "h2 = temp * 1\n",
    "\n",
    "temp = 0\n",
    "for term in v1.args:\n",
    "    if term.as_powers_dict()[ad] == term.as_powers_dict()[a]:\n",
    "        temp += term\n",
    "h1 = temp * 1"
   ]
  },
  {
   "cell_type": "code",
   "execution_count": 20,
   "id": "62f93e20-16f1-44e4-916c-38e285d667a7",
   "metadata": {
    "execution": {
     "iopub.execute_input": "2023-09-17T19:58:07.612227Z",
     "iopub.status.busy": "2023-09-17T19:58:07.612013Z",
     "iopub.status.idle": "2023-09-17T19:58:07.624350Z",
     "shell.execute_reply": "2023-09-17T19:58:07.623308Z",
     "shell.execute_reply.started": "2023-09-17T19:58:07.612206Z"
    },
    "tags": []
   },
   "outputs": [
    {
     "data": {
      "text/latex": [
       "$\\displaystyle - \\frac{60 g_{3}^{2}}{\\omega} - \\frac{288 g_{4}^{2}}{\\omega}$"
      ],
      "text/plain": [
       "-60*g3**2/omega - 288*g4**2/omega"
      ]
     },
     "execution_count": 20,
     "metadata": {},
     "output_type": "execute_result"
    }
   ],
   "source": [
    "h2.coeff(ad*a)"
   ]
  },
  {
   "cell_type": "code",
   "execution_count": 21,
   "id": "47c6e16a-4ca5-4749-aadb-dd804e6e5ed8",
   "metadata": {
    "execution": {
     "iopub.execute_input": "2023-09-17T19:58:08.869852Z",
     "iopub.status.busy": "2023-09-17T19:58:08.869670Z",
     "iopub.status.idle": "2023-09-17T19:58:08.876045Z",
     "shell.execute_reply": "2023-09-17T19:58:08.875579Z",
     "shell.execute_reply.started": "2023-09-17T19:58:08.869838Z"
    },
    "tags": []
   },
   "outputs": [
    {
     "data": {
      "text/latex": [
       "$\\displaystyle - \\frac{30 g_{3}^{2}}{\\omega} - \\frac{306 g_{4}^{2}}{\\omega}$"
      ],
      "text/plain": [
       "-30*g3**2/omega - 306*g4**2/omega"
      ]
     },
     "execution_count": 21,
     "metadata": {},
     "output_type": "execute_result"
    }
   ],
   "source": [
    "h2.coeff(ad**2*a**2)"
   ]
  },
  {
   "cell_type": "code",
   "execution_count": 22,
   "id": "b337bd02-f06d-42dd-aef4-b6bc73c0052d",
   "metadata": {
    "execution": {
     "iopub.execute_input": "2023-09-17T19:58:09.222719Z",
     "iopub.status.busy": "2023-09-17T19:58:09.222419Z",
     "iopub.status.idle": "2023-09-17T19:58:09.240663Z",
     "shell.execute_reply": "2023-09-17T19:58:09.239495Z",
     "shell.execute_reply.started": "2023-09-17T19:58:09.222706Z"
    },
    "tags": []
   },
   "outputs": [
    {
     "data": {
      "text/latex": [
       "$\\displaystyle \\frac{6768 g_{3}^{2} g_{4}}{\\omega^{2}} + \\frac{14328 g_{4}^{3}}{\\omega^{2}}$"
      ],
      "text/plain": [
       "6768*g3**2*g4/omega**2 + 14328*g4**3/omega**2"
      ]
     },
     "execution_count": 22,
     "metadata": {},
     "output_type": "execute_result"
    }
   ],
   "source": [
    "h3.coeff(ad*a)"
   ]
  },
  {
   "cell_type": "code",
   "execution_count": 23,
   "id": "fc803652-ac05-433f-a291-f12841cf2638",
   "metadata": {
    "execution": {
     "iopub.execute_input": "2023-09-17T19:58:09.551214Z",
     "iopub.status.busy": "2023-09-17T19:58:09.550621Z",
     "iopub.status.idle": "2023-09-17T19:58:09.567764Z",
     "shell.execute_reply": "2023-09-17T19:58:09.567288Z",
     "shell.execute_reply.started": "2023-09-17T19:58:09.551188Z"
    },
    "tags": []
   },
   "outputs": [
    {
     "data": {
      "text/latex": [
       "$\\displaystyle \\frac{8100 g_{3}^{2} g_{4}}{\\omega^{2}} - \\frac{30 g_{3}^{2}}{\\omega} + \\frac{25164 g_{4}^{3}}{\\omega^{2}} - \\frac{306 g_{4}^{2}}{\\omega} + 6 g_{4}$"
      ],
      "text/plain": [
       "8100*g3**2*g4/omega**2 - 30*g3**2/omega + 25164*g4**3/omega**2 - 306*g4**2/omega + 6*g4"
      ]
     },
     "execution_count": 23,
     "metadata": {},
     "output_type": "execute_result"
    }
   ],
   "source": [
    "(h1+h2+h3).coeff(ad**2*a**2)"
   ]
  },
  {
   "cell_type": "code",
   "execution_count": 24,
   "id": "7f78a9b0",
   "metadata": {},
   "outputs": [],
   "source": [
    "result = (h1+h2+h3).coeff(ad**2*a**2)"
   ]
  },
  {
   "cell_type": "code",
   "execution_count": 25,
   "id": "6080f725",
   "metadata": {},
   "outputs": [
    {
     "data": {
      "text/latex": [
       "$\\displaystyle - \\frac{3 g_{3} b_{a}}{\\omega} - \\frac{g_{3} b_{a}^{3}}{3 \\omega} + \\frac{3 g_{3} {b^\\dagger_{a}}}{\\omega} - \\frac{3 g_{3} {b^\\dagger_{a}} b_{a}^{2}}{\\omega} + \\frac{3 g_{3} {b^\\dagger_{a}}^{2} b_{a}}{\\omega} + \\frac{g_{3} {b^\\dagger_{a}}^{3}}{3 \\omega} - \\frac{3 g_{4} b_{a}^{2}}{\\omega} - \\frac{g_{4} b_{a}^{4}}{4 \\omega} - \\frac{2 g_{4} {b^\\dagger_{a}} b_{a}^{3}}{\\omega} + \\frac{3 g_{4} {b^\\dagger_{a}}^{2}}{\\omega} + \\frac{2 g_{4} {b^\\dagger_{a}}^{3} b_{a}}{\\omega} + \\frac{g_{4} {b^\\dagger_{a}}^{4}}{4 \\omega}$"
      ],
      "text/plain": [
       "-3*g3*AnnihilateBoson(a)/omega - g3*AnnihilateBoson(a)**3/(3*omega) + 3*g3*CreateBoson(a)/omega - 3*g3*CreateBoson(a)*AnnihilateBoson(a)**2/omega + 3*g3*CreateBoson(a)**2*AnnihilateBoson(a)/omega + g3*CreateBoson(a)**3/(3*omega) - 3*g4*AnnihilateBoson(a)**2/omega - g4*AnnihilateBoson(a)**4/(4*omega) - 2*g4*CreateBoson(a)*AnnihilateBoson(a)**3/omega + 3*g4*CreateBoson(a)**2/omega + 2*g4*CreateBoson(a)**3*AnnihilateBoson(a)/omega + g4*CreateBoson(a)**4/(4*omega)"
      ]
     },
     "execution_count": 25,
     "metadata": {},
     "output_type": "execute_result"
    }
   ],
   "source": [
    "s1"
   ]
  },
  {
   "cell_type": "code",
   "execution_count": 26,
   "id": "977836a4",
   "metadata": {},
   "outputs": [
    {
     "data": {
      "text/latex": [
       "$\\displaystyle \\frac{9 g_{3}^{2} b_{a}^{2}}{\\omega^{2}} - \\frac{3 g_{3}^{2} b_{a}^{4}}{4 \\omega^{2}} + \\frac{6 g_{3}^{2} {b^\\dagger_{a}} b_{a}^{3}}{\\omega^{2}} - \\frac{9 g_{3}^{2} {b^\\dagger_{a}}^{2}}{\\omega^{2}} - \\frac{6 g_{3}^{2} {b^\\dagger_{a}}^{3} b_{a}}{\\omega^{2}} + \\frac{3 g_{3}^{2} {b^\\dagger_{a}}^{4}}{4 \\omega^{2}} + \\frac{122 g_{3} g_{4} b_{a}}{\\omega^{2}} + \\frac{16 g_{3} g_{4} b_{a}^{3}}{\\omega^{2}} - \\frac{11 g_{3} g_{4} b_{a}^{5}}{10 \\omega^{2}} - \\frac{122 g_{3} g_{4} {b^\\dagger_{a}}}{\\omega^{2}} + \\frac{597 g_{3} g_{4} {b^\\dagger_{a}} b_{a}^{2}}{2 \\omega^{2}} + \\frac{8 g_{3} g_{4} {b^\\dagger_{a}} b_{a}^{4}}{\\omega^{2}} - \\frac{597 g_{3} g_{4} {b^\\dagger_{a}}^{2} b_{a}}{2 \\omega^{2}} + \\frac{199 g_{3} g_{4} {b^\\dagger_{a}}^{2} b_{a}^{3}}{2 \\omega^{2}} - \\frac{16 g_{3} g_{4} {b^\\dagger_{a}}^{3}}{\\omega^{2}} - \\frac{199 g_{3} g_{4} {b^\\dagger_{a}}^{3} b_{a}^{2}}{2 \\omega^{2}} - \\frac{8 g_{3} g_{4} {b^\\dagger_{a}}^{4} b_{a}}{\\omega^{2}} + \\frac{11 g_{3} g_{4} {b^\\dagger_{a}}^{5}}{10 \\omega^{2}} + \\frac{171 g_{4}^{2} b_{a}^{2}}{2 \\omega^{2}} + \\frac{15 g_{4}^{2} b_{a}^{4}}{2 \\omega^{2}} - \\frac{g_{4}^{2} b_{a}^{6}}{3 \\omega^{2}} + \\frac{132 g_{4}^{2} {b^\\dagger_{a}} b_{a}^{3}}{\\omega^{2}} + \\frac{3 g_{4}^{2} {b^\\dagger_{a}} b_{a}^{5}}{\\omega^{2}} - \\frac{171 g_{4}^{2} {b^\\dagger_{a}}^{2}}{2 \\omega^{2}} + \\frac{33 g_{4}^{2} {b^\\dagger_{a}}^{2} b_{a}^{4}}{\\omega^{2}} - \\frac{132 g_{4}^{2} {b^\\dagger_{a}}^{3} b_{a}}{\\omega^{2}} - \\frac{15 g_{4}^{2} {b^\\dagger_{a}}^{4}}{2 \\omega^{2}} - \\frac{33 g_{4}^{2} {b^\\dagger_{a}}^{4} b_{a}^{2}}{\\omega^{2}} - \\frac{3 g_{4}^{2} {b^\\dagger_{a}}^{5} b_{a}}{\\omega^{2}} + \\frac{g_{4}^{2} {b^\\dagger_{a}}^{6}}{3 \\omega^{2}}$"
      ],
      "text/plain": [
       "9*g3**2*AnnihilateBoson(a)**2/omega**2 - 3*g3**2*AnnihilateBoson(a)**4/(4*omega**2) + 6*g3**2*CreateBoson(a)*AnnihilateBoson(a)**3/omega**2 - 9*g3**2*CreateBoson(a)**2/omega**2 - 6*g3**2*CreateBoson(a)**3*AnnihilateBoson(a)/omega**2 + 3*g3**2*CreateBoson(a)**4/(4*omega**2) + 122*g3*g4*AnnihilateBoson(a)/omega**2 + 16*g3*g4*AnnihilateBoson(a)**3/omega**2 - 11*g3*g4*AnnihilateBoson(a)**5/(10*omega**2) - 122*g3*g4*CreateBoson(a)/omega**2 + 597*g3*g4*CreateBoson(a)*AnnihilateBoson(a)**2/(2*omega**2) + 8*g3*g4*CreateBoson(a)*AnnihilateBoson(a)**4/omega**2 - 597*g3*g4*CreateBoson(a)**2*AnnihilateBoson(a)/(2*omega**2) + 199*g3*g4*CreateBoson(a)**2*AnnihilateBoson(a)**3/(2*omega**2) - 16*g3*g4*CreateBoson(a)**3/omega**2 - 199*g3*g4*CreateBoson(a)**3*AnnihilateBoson(a)**2/(2*omega**2) - 8*g3*g4*CreateBoson(a)**4*AnnihilateBoson(a)/omega**2 + 11*g3*g4*CreateBoson(a)**5/(10*omega**2) + 171*g4**2*AnnihilateBoson(a)**2/(2*omega**2) + 15*g4**2*AnnihilateBoson(a)**4/(2*omega**2) - g4**2*AnnihilateBoson(a)**6/(3*omega**2) + 132*g4**2*CreateBoson(a)*AnnihilateBoson(a)**3/omega**2 + 3*g4**2*CreateBoson(a)*AnnihilateBoson(a)**5/omega**2 - 171*g4**2*CreateBoson(a)**2/(2*omega**2) + 33*g4**2*CreateBoson(a)**2*AnnihilateBoson(a)**4/omega**2 - 132*g4**2*CreateBoson(a)**3*AnnihilateBoson(a)/omega**2 - 15*g4**2*CreateBoson(a)**4/(2*omega**2) - 33*g4**2*CreateBoson(a)**4*AnnihilateBoson(a)**2/omega**2 - 3*g4**2*CreateBoson(a)**5*AnnihilateBoson(a)/omega**2 + g4**2*CreateBoson(a)**6/(3*omega**2)"
      ]
     },
     "execution_count": 26,
     "metadata": {},
     "output_type": "execute_result"
    }
   ],
   "source": [
    "s2"
   ]
  },
  {
   "cell_type": "code",
   "execution_count": 30,
   "id": "1f4e99a1",
   "metadata": {},
   "outputs": [],
   "source": [
    "s1c = normal(Commutator(s1, ((a+ad))).doit() )\n",
    "s2c = normal(Commutator(s2, ((a+ad))).doit() )+(sp.Rational(1,2) *normal(Commutator(s1, s1c).doit() )).expand()"
   ]
  },
  {
   "cell_type": "code",
   "execution_count": 32,
   "id": "d2fc045a",
   "metadata": {},
   "outputs": [
    {
     "data": {
      "text/latex": [
       "$\\displaystyle - \\frac{6 g_{3}}{\\omega} + \\frac{2 g_{3} b_{a}^{2}}{\\omega} - \\frac{12 g_{3} {b^\\dagger_{a}} b_{a}}{\\omega} + \\frac{2 g_{3} {b^\\dagger_{a}}^{2}}{\\omega} - \\frac{6 g_{4} b_{a}}{\\omega} + \\frac{g_{4} b_{a}^{3}}{\\omega} - \\frac{6 g_{4} {b^\\dagger_{a}}}{\\omega} - \\frac{6 g_{4} {b^\\dagger_{a}} b_{a}^{2}}{\\omega} - \\frac{6 g_{4} {b^\\dagger_{a}}^{2} b_{a}}{\\omega} + \\frac{g_{4} {b^\\dagger_{a}}^{3}}{\\omega} + b_{a} + {b^\\dagger_{a}}$"
      ],
      "text/plain": [
       "-6*g3/omega + 2*g3*AnnihilateBoson(a)**2/omega - 12*g3*CreateBoson(a)*AnnihilateBoson(a)/omega + 2*g3*CreateBoson(a)**2/omega - 6*g4*AnnihilateBoson(a)/omega + g4*AnnihilateBoson(a)**3/omega - 6*g4*CreateBoson(a)/omega - 6*g4*CreateBoson(a)*AnnihilateBoson(a)**2/omega - 6*g4*CreateBoson(a)**2*AnnihilateBoson(a)/omega + g4*CreateBoson(a)**3/omega + AnnihilateBoson(a) + CreateBoson(a)"
      ]
     },
     "execution_count": 32,
     "metadata": {},
     "output_type": "execute_result"
    }
   ],
   "source": [
    "s1c+a+ad"
   ]
  },
  {
   "cell_type": "code",
   "execution_count": 29,
   "id": "c828f04b",
   "metadata": {},
   "outputs": [
    {
     "data": {
      "text/latex": [
       "$\\displaystyle - \\frac{38 i g_{3}^{2} b_{a}}{\\omega^{2}} + \\frac{9 i g_{3}^{2} b_{a}^{3}}{\\omega^{2}} + \\frac{38 i g_{3}^{2} {b^\\dagger_{a}}}{\\omega^{2}} - \\frac{38 i g_{3}^{2} {b^\\dagger_{a}} b_{a}^{2}}{\\omega^{2}} + \\frac{38 i g_{3}^{2} {b^\\dagger_{a}}^{2} b_{a}}{\\omega^{2}} - \\frac{9 i g_{3}^{2} {b^\\dagger_{a}}^{3}}{\\omega^{2}} - \\frac{372 i g_{3} g_{4} b_{a}^{2}}{\\omega^{2}} + \\frac{16 i g_{3} g_{4} b_{a}^{4}}{\\omega^{2}} - \\frac{248 i g_{3} g_{4} {b^\\dagger_{a}} b_{a}^{3}}{\\omega^{2}} + \\frac{372 i g_{3} g_{4} {b^\\dagger_{a}}^{2}}{\\omega^{2}} + \\frac{248 i g_{3} g_{4} {b^\\dagger_{a}}^{3} b_{a}}{\\omega^{2}} - \\frac{16 i g_{3} g_{4} {b^\\dagger_{a}}^{4}}{\\omega^{2}} - \\frac{171 i g_{4}^{2} b_{a}}{\\omega^{2}} - \\frac{162 i g_{4}^{2} b_{a}^{3}}{\\omega^{2}} + \\frac{5 i g_{4}^{2} b_{a}^{5}}{\\omega^{2}} + \\frac{171 i g_{4}^{2} {b^\\dagger_{a}}}{\\omega^{2}} - \\frac{747 i g_{4}^{2} {b^\\dagger_{a}} b_{a}^{2}}{2 \\omega^{2}} - \\frac{81 i g_{4}^{2} {b^\\dagger_{a}} b_{a}^{4}}{\\omega^{2}} + \\frac{747 i g_{4}^{2} {b^\\dagger_{a}}^{2} b_{a}}{2 \\omega^{2}} - \\frac{249 i g_{4}^{2} {b^\\dagger_{a}}^{2} b_{a}^{3}}{2 \\omega^{2}} + \\frac{162 i g_{4}^{2} {b^\\dagger_{a}}^{3}}{\\omega^{2}} + \\frac{249 i g_{4}^{2} {b^\\dagger_{a}}^{3} b_{a}^{2}}{2 \\omega^{2}} + \\frac{81 i g_{4}^{2} {b^\\dagger_{a}}^{4} b_{a}}{\\omega^{2}} - \\frac{5 i g_{4}^{2} {b^\\dagger_{a}}^{5}}{\\omega^{2}}$"
      ],
      "text/plain": [
       "-38*I*g3**2*AnnihilateBoson(a)/omega**2 + 9*I*g3**2*AnnihilateBoson(a)**3/omega**2 + 38*I*g3**2*CreateBoson(a)/omega**2 - 38*I*g3**2*CreateBoson(a)*AnnihilateBoson(a)**2/omega**2 + 38*I*g3**2*CreateBoson(a)**2*AnnihilateBoson(a)/omega**2 - 9*I*g3**2*CreateBoson(a)**3/omega**2 - 372*I*g3*g4*AnnihilateBoson(a)**2/omega**2 + 16*I*g3*g4*AnnihilateBoson(a)**4/omega**2 - 248*I*g3*g4*CreateBoson(a)*AnnihilateBoson(a)**3/omega**2 + 372*I*g3*g4*CreateBoson(a)**2/omega**2 + 248*I*g3*g4*CreateBoson(a)**3*AnnihilateBoson(a)/omega**2 - 16*I*g3*g4*CreateBoson(a)**4/omega**2 - 171*I*g4**2*AnnihilateBoson(a)/omega**2 - 162*I*g4**2*AnnihilateBoson(a)**3/omega**2 + 5*I*g4**2*AnnihilateBoson(a)**5/omega**2 + 171*I*g4**2*CreateBoson(a)/omega**2 - 747*I*g4**2*CreateBoson(a)*AnnihilateBoson(a)**2/(2*omega**2) - 81*I*g4**2*CreateBoson(a)*AnnihilateBoson(a)**4/omega**2 + 747*I*g4**2*CreateBoson(a)**2*AnnihilateBoson(a)/(2*omega**2) - 249*I*g4**2*CreateBoson(a)**2*AnnihilateBoson(a)**3/(2*omega**2) + 162*I*g4**2*CreateBoson(a)**3/omega**2 + 249*I*g4**2*CreateBoson(a)**3*AnnihilateBoson(a)**2/(2*omega**2) + 81*I*g4**2*CreateBoson(a)**4*AnnihilateBoson(a)/omega**2 - 5*I*g4**2*CreateBoson(a)**5/omega**2"
      ]
     },
     "execution_count": 29,
     "metadata": {},
     "output_type": "execute_result"
    }
   ],
   "source": [
    "s2c"
   ]
  },
  {
   "cell_type": "code",
   "execution_count": 204,
   "id": "493458ed",
   "metadata": {},
   "outputs": [],
   "source": [
    "def remove_higher(expr):\n",
    "    terms_higher = [term for term in expr.args if (term.has(g4**2) or term.has(g3**2*g4) or term.has(g3**4) or term.has(g3*g4))]\n",
    "    return expr - sum(terms_higher)\n"
   ]
  },
  {
   "cell_type": "code",
   "execution_count": 205,
   "id": "cb7387ca",
   "metadata": {},
   "outputs": [
    {
     "data": {
      "text/latex": [
       "$\\displaystyle \\frac{4 i g_{3} b_{a}^{2}}{\\omega} - \\frac{4 i g_{3} {b^\\dagger_{a}}^{2}}{\\omega} + \\frac{6 i g_{4} b_{a}}{\\omega} + \\frac{3 i g_{4} b_{a}^{3}}{\\omega} - \\frac{6 i g_{4} {b^\\dagger_{a}}}{\\omega} + \\frac{6 i g_{4} {b^\\dagger_{a}} b_{a}^{2}}{\\omega} - \\frac{6 i g_{4} {b^\\dagger_{a}}^{2} b_{a}}{\\omega} - \\frac{3 i g_{4} {b^\\dagger_{a}}^{3}}{\\omega} + i \\left(b_{a} - {b^\\dagger_{a}}\\right)$"
      ],
      "text/plain": [
       "4*I*g3*AnnihilateBoson(a)**2/omega - 4*I*g3*CreateBoson(a)**2/omega + 6*I*g4*AnnihilateBoson(a)/omega + 3*I*g4*AnnihilateBoson(a)**3/omega - 6*I*g4*CreateBoson(a)/omega + 6*I*g4*CreateBoson(a)*AnnihilateBoson(a)**2/omega - 6*I*g4*CreateBoson(a)**2*AnnihilateBoson(a)/omega - 3*I*g4*CreateBoson(a)**3/omega + I*(AnnihilateBoson(a) - CreateBoson(a))"
      ]
     },
     "execution_count": 205,
     "metadata": {},
     "output_type": "execute_result"
    }
   ],
   "source": [
    "I*(a-ad)+s1c"
   ]
  },
  {
   "cell_type": "code",
   "execution_count": 206,
   "id": "cd24daeb",
   "metadata": {},
   "outputs": [],
   "source": [
    "def replace_scalars_with_valued_matrices(expr, matrix_values):\n",
    "        \"\"\"\n",
    "        Replace scalar symbols and scalar operations in a SymPy scalar expression with valued matrices.\n",
    "\n",
    "        Args:\n",
    "        expr (sympy.Expr): The input scalar expression.\n",
    "        matrix_values (dict): A dictionary mapping scalar symbols to valued matrices.\n",
    "\n",
    "        Returns:\n",
    "        sympy.Expr: The modified expression with valued matrices.\n",
    "        \"\"\"\n",
    "\n",
    "        def map_operations(node):\n",
    "            if (isinstance(node, AnnihilateBoson) or isinstance(node, CreateBoson) )and node in matrix_values:\n",
    "                return matrix_values[node]\n",
    "            elif isinstance(node, sp.Add):\n",
    "                return sp.Add(*[map_operations(arg) for arg in node.args])\n",
    "            elif isinstance(node, sp.Mul):\n",
    "                return sp.Mul(*[map_operations(arg) for arg in node.args])\n",
    "            elif isinstance(node, sp.Pow):\n",
    "                base, exponent = map_operations(node.base), map_operations(node.exp)\n",
    "                return base**exponent\n",
    "            else:\n",
    "                return node\n",
    "\n",
    "        return map_operations(expr)"
   ]
  },
  {
   "cell_type": "code",
   "execution_count": 207,
   "id": "a7cca49b",
   "metadata": {},
   "outputs": [],
   "source": [
    "# Initialize the annihilation (lowering) and creation (raising) matrices with zeros\n",
    "from sympy import symbols, sqrt\n",
    "n=20\n",
    "s = sp.zeros(n)\n",
    "s_dagger = sp.zeros(n)\n",
    "\n",
    "# Fill the matrices using sympy functions\n",
    "for i in range(n-1):\n",
    "    s[i, i+1] = sqrt(i+1)\n",
    "    s_dagger[i+1, i] = sqrt(i+1)\n",
    "matrix_values = {a: s, ad: s_dagger}\n",
    "g_matrix = replace_scalars_with_valued_matrices(I*(a-ad)+s1c+remove_higher(s2c), matrix_values)"
   ]
  },
  {
   "cell_type": "code",
   "execution_count": 208,
   "id": "3b5c0da4",
   "metadata": {},
   "outputs": [
    {
     "data": {
      "text/latex": [
       "$\\displaystyle \\left[\\begin{array}{cccccccccccccccccccc}0 & 0 & 0 & 0 & 0 & 0 & 0 & 0 & 0 & 0 & 0 & 0 & 0 & 0 & 0 & 0 & 0 & 0 & 0 & 0\\\\0 & 0 & 0 & 0 & 0 & 0 & 0 & 0 & 0 & 0 & 0 & 0 & 0 & 0 & 0 & 0 & 0 & 0 & 0 & 0\\\\0 & \\sqrt{2} & 0 & 0 & 0 & 0 & 0 & 0 & 0 & 0 & 0 & 0 & 0 & 0 & 0 & 0 & 0 & 0 & 0 & 0\\\\0 & 0 & 2 \\sqrt{3} & 0 & 0 & 0 & 0 & 0 & 0 & 0 & 0 & 0 & 0 & 0 & 0 & 0 & 0 & 0 & 0 & 0\\\\0 & 0 & 0 & 6 & 0 & 0 & 0 & 0 & 0 & 0 & 0 & 0 & 0 & 0 & 0 & 0 & 0 & 0 & 0 & 0\\\\0 & 0 & 0 & 0 & 4 \\sqrt{5} & 0 & 0 & 0 & 0 & 0 & 0 & 0 & 0 & 0 & 0 & 0 & 0 & 0 & 0 & 0\\\\0 & 0 & 0 & 0 & 0 & 5 \\sqrt{6} & 0 & 0 & 0 & 0 & 0 & 0 & 0 & 0 & 0 & 0 & 0 & 0 & 0 & 0\\\\0 & 0 & 0 & 0 & 0 & 0 & 6 \\sqrt{7} & 0 & 0 & 0 & 0 & 0 & 0 & 0 & 0 & 0 & 0 & 0 & 0 & 0\\\\0 & 0 & 0 & 0 & 0 & 0 & 0 & 14 \\sqrt{2} & 0 & 0 & 0 & 0 & 0 & 0 & 0 & 0 & 0 & 0 & 0 & 0\\\\0 & 0 & 0 & 0 & 0 & 0 & 0 & 0 & 24 & 0 & 0 & 0 & 0 & 0 & 0 & 0 & 0 & 0 & 0 & 0\\\\0 & 0 & 0 & 0 & 0 & 0 & 0 & 0 & 0 & 9 \\sqrt{10} & 0 & 0 & 0 & 0 & 0 & 0 & 0 & 0 & 0 & 0\\\\0 & 0 & 0 & 0 & 0 & 0 & 0 & 0 & 0 & 0 & 10 \\sqrt{11} & 0 & 0 & 0 & 0 & 0 & 0 & 0 & 0 & 0\\\\0 & 0 & 0 & 0 & 0 & 0 & 0 & 0 & 0 & 0 & 0 & 22 \\sqrt{3} & 0 & 0 & 0 & 0 & 0 & 0 & 0 & 0\\\\0 & 0 & 0 & 0 & 0 & 0 & 0 & 0 & 0 & 0 & 0 & 0 & 12 \\sqrt{13} & 0 & 0 & 0 & 0 & 0 & 0 & 0\\\\0 & 0 & 0 & 0 & 0 & 0 & 0 & 0 & 0 & 0 & 0 & 0 & 0 & 13 \\sqrt{14} & 0 & 0 & 0 & 0 & 0 & 0\\\\0 & 0 & 0 & 0 & 0 & 0 & 0 & 0 & 0 & 0 & 0 & 0 & 0 & 0 & 14 \\sqrt{15} & 0 & 0 & 0 & 0 & 0\\\\0 & 0 & 0 & 0 & 0 & 0 & 0 & 0 & 0 & 0 & 0 & 0 & 0 & 0 & 0 & 60 & 0 & 0 & 0 & 0\\\\0 & 0 & 0 & 0 & 0 & 0 & 0 & 0 & 0 & 0 & 0 & 0 & 0 & 0 & 0 & 0 & 16 \\sqrt{17} & 0 & 0 & 0\\\\0 & 0 & 0 & 0 & 0 & 0 & 0 & 0 & 0 & 0 & 0 & 0 & 0 & 0 & 0 & 0 & 0 & 51 \\sqrt{2} & 0 & 0\\\\0 & 0 & 0 & 0 & 0 & 0 & 0 & 0 & 0 & 0 & 0 & 0 & 0 & 0 & 0 & 0 & 0 & 0 & 18 \\sqrt{19} & 0\\end{array}\\right]$"
      ],
      "text/plain": [
       "Matrix([\n",
       "[0,       0,         0, 0,         0,         0,         0,          0,  0,          0,           0,          0,           0,           0,           0,  0,           0,          0,           0, 0],\n",
       "[0,       0,         0, 0,         0,         0,         0,          0,  0,          0,           0,          0,           0,           0,           0,  0,           0,          0,           0, 0],\n",
       "[0, sqrt(2),         0, 0,         0,         0,         0,          0,  0,          0,           0,          0,           0,           0,           0,  0,           0,          0,           0, 0],\n",
       "[0,       0, 2*sqrt(3), 0,         0,         0,         0,          0,  0,          0,           0,          0,           0,           0,           0,  0,           0,          0,           0, 0],\n",
       "[0,       0,         0, 6,         0,         0,         0,          0,  0,          0,           0,          0,           0,           0,           0,  0,           0,          0,           0, 0],\n",
       "[0,       0,         0, 0, 4*sqrt(5),         0,         0,          0,  0,          0,           0,          0,           0,           0,           0,  0,           0,          0,           0, 0],\n",
       "[0,       0,         0, 0,         0, 5*sqrt(6),         0,          0,  0,          0,           0,          0,           0,           0,           0,  0,           0,          0,           0, 0],\n",
       "[0,       0,         0, 0,         0,         0, 6*sqrt(7),          0,  0,          0,           0,          0,           0,           0,           0,  0,           0,          0,           0, 0],\n",
       "[0,       0,         0, 0,         0,         0,         0, 14*sqrt(2),  0,          0,           0,          0,           0,           0,           0,  0,           0,          0,           0, 0],\n",
       "[0,       0,         0, 0,         0,         0,         0,          0, 24,          0,           0,          0,           0,           0,           0,  0,           0,          0,           0, 0],\n",
       "[0,       0,         0, 0,         0,         0,         0,          0,  0, 9*sqrt(10),           0,          0,           0,           0,           0,  0,           0,          0,           0, 0],\n",
       "[0,       0,         0, 0,         0,         0,         0,          0,  0,          0, 10*sqrt(11),          0,           0,           0,           0,  0,           0,          0,           0, 0],\n",
       "[0,       0,         0, 0,         0,         0,         0,          0,  0,          0,           0, 22*sqrt(3),           0,           0,           0,  0,           0,          0,           0, 0],\n",
       "[0,       0,         0, 0,         0,         0,         0,          0,  0,          0,           0,          0, 12*sqrt(13),           0,           0,  0,           0,          0,           0, 0],\n",
       "[0,       0,         0, 0,         0,         0,         0,          0,  0,          0,           0,          0,           0, 13*sqrt(14),           0,  0,           0,          0,           0, 0],\n",
       "[0,       0,         0, 0,         0,         0,         0,          0,  0,          0,           0,          0,           0,           0, 14*sqrt(15),  0,           0,          0,           0, 0],\n",
       "[0,       0,         0, 0,         0,         0,         0,          0,  0,          0,           0,          0,           0,           0,           0, 60,           0,          0,           0, 0],\n",
       "[0,       0,         0, 0,         0,         0,         0,          0,  0,          0,           0,          0,           0,           0,           0,  0, 16*sqrt(17),          0,           0, 0],\n",
       "[0,       0,         0, 0,         0,         0,         0,          0,  0,          0,           0,          0,           0,           0,           0,  0,           0, 51*sqrt(2),           0, 0],\n",
       "[0,       0,         0, 0,         0,         0,         0,          0,  0,          0,           0,          0,           0,           0,           0,  0,           0,          0, 18*sqrt(19), 0]])"
      ]
     },
     "execution_count": 208,
     "metadata": {},
     "output_type": "execute_result"
    }
   ],
   "source": [
    "s_dagger@s_dagger@s"
   ]
  },
  {
   "cell_type": "code",
   "execution_count": 209,
   "id": "93a441f5",
   "metadata": {},
   "outputs": [],
   "source": [
    "from sympy import symbols, Matrix\n",
    "# Define the symbols\n",
    "omega, alpha, omega_1, omega_2,omegap = symbols('omega alpha omega_1 omega_2 omega_p', real=True)\n",
    "\n",
    "# Define the epsilon_i values\n",
    "epsilon = [i * omegap + i*(i-1) * alpha / 2 for i in range(n)]\n",
    "\n",
    "# Initialize the delta_1 matrix with zeros\n",
    "delta_1 = Matrix.zeros(n, n)\n",
    "\n",
    "# Fill the matrix according to the given formula and specific epsilon_i values\n",
    "for i in range(n):\n",
    "    for j in range(n):\n",
    "        if i != j:\n",
    "            delta_1[i, j] = 1 / (epsilon[i] - epsilon[j] - omega_1)\n",
    "            \n",
    "delta_2 = Matrix.zeros(n, n)\n",
    "\n",
    "# Fill the matrix according to the given formula and specific epsilon_i values for omega_2\n",
    "for i in range(n):\n",
    "    for j in range(n):\n",
    "        if i != j:\n",
    "            delta_2[i, j] = 1 / (epsilon[i] - epsilon[j] - omega_2)\n"
   ]
  },
  {
   "cell_type": "code",
   "execution_count": 210,
   "id": "213dd77d",
   "metadata": {},
   "outputs": [
    {
     "data": {
      "text/latex": [
       "$\\displaystyle \\frac{4 i g_{3} b_{a}^{2}}{\\omega} - \\frac{4 i g_{3} {b^\\dagger_{a}}^{2}}{\\omega} + \\frac{6 i g_{4} b_{a}}{\\omega} + \\frac{3 i g_{4} b_{a}^{3}}{\\omega} - \\frac{6 i g_{4} {b^\\dagger_{a}}}{\\omega} + \\frac{6 i g_{4} {b^\\dagger_{a}} b_{a}^{2}}{\\omega} - \\frac{6 i g_{4} {b^\\dagger_{a}}^{2} b_{a}}{\\omega} - \\frac{3 i g_{4} {b^\\dagger_{a}}^{3}}{\\omega}$"
      ],
      "text/plain": [
       "4*I*g3*AnnihilateBoson(a)**2/omega - 4*I*g3*CreateBoson(a)**2/omega + 6*I*g4*AnnihilateBoson(a)/omega + 3*I*g4*AnnihilateBoson(a)**3/omega - 6*I*g4*CreateBoson(a)/omega + 6*I*g4*CreateBoson(a)*AnnihilateBoson(a)**2/omega - 6*I*g4*CreateBoson(a)**2*AnnihilateBoson(a)/omega - 3*I*g4*CreateBoson(a)**3/omega"
      ]
     },
     "execution_count": 210,
     "metadata": {},
     "output_type": "execute_result"
    }
   ],
   "source": [
    "s1c"
   ]
  },
  {
   "cell_type": "code",
   "execution_count": 211,
   "id": "1e1fb5dc",
   "metadata": {},
   "outputs": [],
   "source": [
    "chim1 = Matrix.zeros(n, n)\n",
    "chim2 = Matrix.zeros(n, n)\n",
    "for i in range(n):\n",
    "    for j in range(n):\n",
    "        if delta_1[i, j] != 0:\n",
    "            element = g_matrix[i, j]\n",
    "            if sp.im(element) != 0 and sp.re(element) == 0:  # Pure imaginary\n",
    "                magnitude = sp.im(element)\n",
    "                chim1[i, j] = (magnitude**2 * delta_1[i, j])\n",
    "                chim2[i, j] = (magnitude**2 * delta_2[i, j])\n",
    "            else:  # Real or complex\n",
    "                chim1[i, j] = (element**2 * delta_1[i, j])\n",
    "                chim2[i, j] = (element**2 * delta_2[i, j])\n",
    "        else:\n",
    "            chim1[i, j] = 0\n",
    "            chim2[i, j] = 0"
   ]
  },
  {
   "cell_type": "code",
   "execution_count": 212,
   "id": "f7f775b8",
   "metadata": {},
   "outputs": [],
   "source": [
    "chi0 = sum(chim1[0, i] for i in range(n))-sum(chim1[i, 0] for i in range(n))"
   ]
  },
  {
   "cell_type": "code",
   "execution_count": 213,
   "id": "d2f65c3e",
   "metadata": {},
   "outputs": [],
   "source": [
    "chi0 = remove_higher((chi0.expand()))"
   ]
  },
  {
   "cell_type": "code",
   "execution_count": 214,
   "id": "44ae3b0a",
   "metadata": {},
   "outputs": [
    {
     "data": {
      "text/latex": [
       "$\\displaystyle - \\frac{32 g_{3}^{2}}{\\alpha \\omega^{2} - \\omega^{2} \\omega_{1} + 2 \\omega^{2} \\omega_{p}} + \\frac{32 g_{3}^{2}}{- \\alpha \\omega^{2} - \\omega^{2} \\omega_{1} - 2 \\omega^{2} \\omega_{p}} + \\frac{76 g_{3}^{2}}{- \\omega^{2} \\omega_{1} + \\omega^{2} \\omega_{p}} - \\frac{76 g_{3}^{2}}{- \\omega^{2} \\omega_{1} - \\omega^{2} \\omega_{p}} - \\frac{12 g_{4}}{- \\omega \\omega_{1} + \\omega \\omega_{p}} + \\frac{12 g_{4}}{- \\omega \\omega_{1} - \\omega \\omega_{p}} - \\frac{1}{- \\omega_{1} + \\omega_{p}} + \\frac{1}{- \\omega_{1} - \\omega_{p}}$"
      ],
      "text/plain": [
       "-32*g3**2/(alpha*omega**2 - omega**2*omega_1 + 2*omega**2*omega_p) + 32*g3**2/(-alpha*omega**2 - omega**2*omega_1 - 2*omega**2*omega_p) + 76*g3**2/(-omega**2*omega_1 + omega**2*omega_p) - 76*g3**2/(-omega**2*omega_1 - omega**2*omega_p) - 12*g4/(-omega*omega_1 + omega*omega_p) + 12*g4/(-omega*omega_1 - omega*omega_p) - 1/(-omega_1 + omega_p) + 1/(-omega_1 - omega_p)"
      ]
     },
     "execution_count": 214,
     "metadata": {},
     "output_type": "execute_result"
    }
   ],
   "source": [
    "chi0"
   ]
  },
  {
   "cell_type": "code",
   "execution_count": 215,
   "id": "1aa00d02",
   "metadata": {},
   "outputs": [],
   "source": [
    "correction = 12*(g4-5*g3**2/omega)"
   ]
  },
  {
   "cell_type": "code",
   "execution_count": 216,
   "id": "100a114d",
   "metadata": {},
   "outputs": [],
   "source": [
    "omega_c = (chi0.subs(omegap,correction+omega)).subs(alpha,correction)"
   ]
  },
  {
   "cell_type": "code",
   "execution_count": 217,
   "id": "cbd7381b",
   "metadata": {},
   "outputs": [],
   "source": [
    "E = omega_c\n",
    "x = symbols('x', real=True)\n",
    "y= symbols('y', real=True)\n",
    "E=E.subs(g3**2,x*omega**2)\n",
    "E=E.subs(g4,y*omega)\n",
    "from sympy import symbols, diff\n",
    "f_0 = E.subs({x: 0, y: 0})\n",
    "df_dx = diff(E, x).subs({x: 0, y: 0}) * (x - 0)\n",
    "df_dy = diff(E, y).subs({x: 0, y: 0}) * (y - 0)\n",
    "\n",
    "taylor_first_order = f_0 + df_dx + df_dy\n",
    "\n",
    "omega_c = taylor_first_order.expand().subs(y,g4/omega).subs(x,g3**2/omega**2)"
   ]
  },
  {
   "cell_type": "code",
   "execution_count": 218,
   "id": "86f0d527",
   "metadata": {},
   "outputs": [
    {
     "data": {
      "text/latex": [
       "$\\displaystyle - \\frac{60 g_{3}^{2}}{\\omega \\left(\\omega^{2} + 2 \\omega \\omega_{1} + \\omega_{1}^{2}\\right)} - \\frac{60 g_{3}^{2}}{\\omega \\left(\\omega^{2} - 2 \\omega \\omega_{1} + \\omega_{1}^{2}\\right)} - \\frac{32 g_{3}^{2}}{\\omega^{2} \\cdot \\left(2 \\omega + \\omega_{1}\\right)} - \\frac{32 g_{3}^{2}}{\\omega^{2} \\cdot \\left(2 \\omega - \\omega_{1}\\right)} + \\frac{76 g_{3}^{2}}{\\omega^{2} \\left(\\omega + \\omega_{1}\\right)} + \\frac{76 g_{3}^{2}}{\\omega^{2} \\left(\\omega - \\omega_{1}\\right)} + \\frac{12 g_{4}}{\\omega^{2} + 2 \\omega \\omega_{1} + \\omega_{1}^{2}} + \\frac{12 g_{4}}{\\omega^{2} - 2 \\omega \\omega_{1} + \\omega_{1}^{2}} - \\frac{12 g_{4}}{\\omega \\left(\\omega + \\omega_{1}\\right)} - \\frac{12 g_{4}}{\\omega \\left(\\omega - \\omega_{1}\\right)} - \\frac{1}{\\omega + \\omega_{1}} - \\frac{1}{\\omega - \\omega_{1}}$"
      ],
      "text/plain": [
       "-60*g3**2/(omega*(omega**2 + 2*omega*omega_1 + omega_1**2)) - 60*g3**2/(omega*(omega**2 - 2*omega*omega_1 + omega_1**2)) - 32*g3**2/(omega**2*(2*omega + omega_1)) - 32*g3**2/(omega**2*(2*omega - omega_1)) + 76*g3**2/(omega**2*(omega + omega_1)) + 76*g3**2/(omega**2*(omega - omega_1)) + 12*g4/(omega**2 + 2*omega*omega_1 + omega_1**2) + 12*g4/(omega**2 - 2*omega*omega_1 + omega_1**2) - 12*g4/(omega*(omega + omega_1)) - 12*g4/(omega*(omega - omega_1)) - 1/(omega + omega_1) - 1/(omega - omega_1)"
      ]
     },
     "execution_count": 218,
     "metadata": {},
     "output_type": "execute_result"
    }
   ],
   "source": [
    "temp = 0\n",
    "for term in omega_c.args:\n",
    "    temp += term.simplify()\n",
    "temp\n"
   ]
  },
  {
   "cell_type": "code",
   "execution_count": 219,
   "id": "b81dc4d0",
   "metadata": {},
   "outputs": [
    {
     "name": "stdout",
     "output_type": "stream",
     "text": [
      "/home/yunwei/SNAIL/symbolic\n"
     ]
    }
   ],
   "source": [
    "%pwd\n",
    "current_directory = %pwd\n",
    "print(current_directory)\n",
    "\n",
    "from qutip import qsave\n",
    "qsave([temp],'/home/yunwei/SNAIL/charge-coupling/Ben/ec')"
   ]
  },
  {
   "cell_type": "code",
   "execution_count": 220,
   "id": "8667162a",
   "metadata": {
    "scrolled": false
   },
   "outputs": [
    {
     "data": {
      "text/latex": [
       "$\\displaystyle \\left[\\begin{array}{cccccccccccccccccccc}0 & \\frac{\\left(- \\frac{38 g_{3}^{2}}{\\omega^{2}} + \\frac{6 g_{4}}{\\omega} + 1\\right)^{2}}{- \\omega_{1} - \\omega_{p}} & \\frac{32 g_{3}^{2}}{\\omega^{2} \\left(- \\alpha - \\omega_{1} - 2 \\omega_{p}\\right)} & \\frac{\\left(\\frac{9 \\sqrt{6} g_{3}^{2}}{\\omega^{2}} + \\frac{3 \\sqrt{6} g_{4}}{\\omega}\\right)^{2}}{- 3 \\alpha - \\omega_{1} - 3 \\omega_{p}} & 0 & 0 & 0 & 0 & 0 & 0 & 0 & 0 & 0 & 0 & 0 & 0 & 0 & 0 & 0 & 0\\\\\\frac{\\left(\\frac{38 g_{3}^{2}}{\\omega^{2}} - \\frac{6 g_{4}}{\\omega} - 1\\right)^{2}}{- \\omega_{1} + \\omega_{p}} & 0 & \\frac{\\left(- \\frac{76 \\sqrt{2} g_{3}^{2}}{\\omega^{2}} + \\frac{12 \\sqrt{2} g_{4}}{\\omega} + \\sqrt{2}\\right)^{2}}{- \\alpha - \\omega_{1} - \\omega_{p}} & \\frac{96 g_{3}^{2}}{\\omega^{2} \\left(- 3 \\alpha - \\omega_{1} - 2 \\omega_{p}\\right)} & \\frac{\\left(\\frac{18 \\sqrt{6} g_{3}^{2}}{\\omega^{2}} + \\frac{6 \\sqrt{6} g_{4}}{\\omega}\\right)^{2}}{- 6 \\alpha - \\omega_{1} - 3 \\omega_{p}} & 0 & 0 & 0 & 0 & 0 & 0 & 0 & 0 & 0 & 0 & 0 & 0 & 0 & 0 & 0\\\\\\frac{32 g_{3}^{2}}{\\omega^{2} \\left(\\alpha - \\omega_{1} + 2 \\omega_{p}\\right)} & \\frac{\\left(\\frac{76 \\sqrt{2} g_{3}^{2}}{\\omega^{2}} - \\frac{12 \\sqrt{2} g_{4}}{\\omega} - \\sqrt{2}\\right)^{2}}{\\alpha - \\omega_{1} + \\omega_{p}} & 0 & \\frac{\\left(- \\frac{114 \\sqrt{3} g_{3}^{2}}{\\omega^{2}} + \\frac{18 \\sqrt{3} g_{4}}{\\omega} + \\sqrt{3}\\right)^{2}}{- 2 \\alpha - \\omega_{1} - \\omega_{p}} & \\frac{192 g_{3}^{2}}{\\omega^{2} \\left(- 5 \\alpha - \\omega_{1} - 2 \\omega_{p}\\right)} & \\frac{\\left(\\frac{18 \\sqrt{15} g_{3}^{2}}{\\omega^{2}} + \\frac{6 \\sqrt{15} g_{4}}{\\omega}\\right)^{2}}{- 9 \\alpha - \\omega_{1} - 3 \\omega_{p}} & 0 & 0 & 0 & 0 & 0 & 0 & 0 & 0 & 0 & 0 & 0 & 0 & 0 & 0\\\\\\frac{\\left(- \\frac{9 \\sqrt{6} g_{3}^{2}}{\\omega^{2}} - \\frac{3 \\sqrt{6} g_{4}}{\\omega}\\right)^{2}}{3 \\alpha - \\omega_{1} + 3 \\omega_{p}} & \\frac{96 g_{3}^{2}}{\\omega^{2} \\cdot \\left(3 \\alpha - \\omega_{1} + 2 \\omega_{p}\\right)} & \\frac{\\left(\\frac{114 \\sqrt{3} g_{3}^{2}}{\\omega^{2}} - \\frac{18 \\sqrt{3} g_{4}}{\\omega} - \\sqrt{3}\\right)^{2}}{2 \\alpha - \\omega_{1} + \\omega_{p}} & 0 & \\frac{\\left(- \\frac{304 g_{3}^{2}}{\\omega^{2}} + \\frac{48 g_{4}}{\\omega} + 2\\right)^{2}}{- 3 \\alpha - \\omega_{1} - \\omega_{p}} & \\frac{320 g_{3}^{2}}{\\omega^{2} \\left(- 7 \\alpha - \\omega_{1} - 2 \\omega_{p}\\right)} & \\frac{\\left(\\frac{18 \\sqrt{30} g_{3}^{2}}{\\omega^{2}} + \\frac{6 \\sqrt{30} g_{4}}{\\omega}\\right)^{2}}{- 12 \\alpha - \\omega_{1} - 3 \\omega_{p}} & 0 & 0 & 0 & 0 & 0 & 0 & 0 & 0 & 0 & 0 & 0 & 0 & 0\\\\0 & \\frac{\\left(- \\frac{18 \\sqrt{6} g_{3}^{2}}{\\omega^{2}} - \\frac{6 \\sqrt{6} g_{4}}{\\omega}\\right)^{2}}{6 \\alpha - \\omega_{1} + 3 \\omega_{p}} & \\frac{192 g_{3}^{2}}{\\omega^{2} \\cdot \\left(5 \\alpha - \\omega_{1} + 2 \\omega_{p}\\right)} & \\frac{\\left(\\frac{304 g_{3}^{2}}{\\omega^{2}} - \\frac{48 g_{4}}{\\omega} - 2\\right)^{2}}{3 \\alpha - \\omega_{1} + \\omega_{p}} & 0 & \\frac{\\left(- \\frac{190 \\sqrt{5} g_{3}^{2}}{\\omega^{2}} + \\frac{30 \\sqrt{5} g_{4}}{\\omega} + \\sqrt{5}\\right)^{2}}{- 4 \\alpha - \\omega_{1} - \\omega_{p}} & \\frac{480 g_{3}^{2}}{\\omega^{2} \\left(- 9 \\alpha - \\omega_{1} - 2 \\omega_{p}\\right)} & \\frac{\\left(\\frac{9 \\sqrt{210} g_{3}^{2}}{\\omega^{2}} + \\frac{3 \\sqrt{210} g_{4}}{\\omega}\\right)^{2}}{- 15 \\alpha - \\omega_{1} - 3 \\omega_{p}} & 0 & 0 & 0 & 0 & 0 & 0 & 0 & 0 & 0 & 0 & 0 & 0\\\\0 & 0 & \\frac{\\left(- \\frac{18 \\sqrt{15} g_{3}^{2}}{\\omega^{2}} - \\frac{6 \\sqrt{15} g_{4}}{\\omega}\\right)^{2}}{9 \\alpha - \\omega_{1} + 3 \\omega_{p}} & \\frac{320 g_{3}^{2}}{\\omega^{2} \\cdot \\left(7 \\alpha - \\omega_{1} + 2 \\omega_{p}\\right)} & \\frac{\\left(\\frac{190 \\sqrt{5} g_{3}^{2}}{\\omega^{2}} - \\frac{30 \\sqrt{5} g_{4}}{\\omega} - \\sqrt{5}\\right)^{2}}{4 \\alpha - \\omega_{1} + \\omega_{p}} & 0 & \\frac{\\left(- \\frac{228 \\sqrt{6} g_{3}^{2}}{\\omega^{2}} + \\frac{36 \\sqrt{6} g_{4}}{\\omega} + \\sqrt{6}\\right)^{2}}{- 5 \\alpha - \\omega_{1} - \\omega_{p}} & \\frac{672 g_{3}^{2}}{\\omega^{2} \\left(- 11 \\alpha - \\omega_{1} - 2 \\omega_{p}\\right)} & \\frac{\\left(\\frac{36 \\sqrt{21} g_{3}^{2}}{\\omega^{2}} + \\frac{12 \\sqrt{21} g_{4}}{\\omega}\\right)^{2}}{- 18 \\alpha - \\omega_{1} - 3 \\omega_{p}} & 0 & 0 & 0 & 0 & 0 & 0 & 0 & 0 & 0 & 0 & 0\\\\0 & 0 & 0 & \\frac{\\left(- \\frac{18 \\sqrt{30} g_{3}^{2}}{\\omega^{2}} - \\frac{6 \\sqrt{30} g_{4}}{\\omega}\\right)^{2}}{12 \\alpha - \\omega_{1} + 3 \\omega_{p}} & \\frac{480 g_{3}^{2}}{\\omega^{2} \\cdot \\left(9 \\alpha - \\omega_{1} + 2 \\omega_{p}\\right)} & \\frac{\\left(\\frac{228 \\sqrt{6} g_{3}^{2}}{\\omega^{2}} - \\frac{36 \\sqrt{6} g_{4}}{\\omega} - \\sqrt{6}\\right)^{2}}{5 \\alpha - \\omega_{1} + \\omega_{p}} & 0 & \\frac{\\left(- \\frac{266 \\sqrt{7} g_{3}^{2}}{\\omega^{2}} + \\frac{42 \\sqrt{7} g_{4}}{\\omega} + \\sqrt{7}\\right)^{2}}{- 6 \\alpha - \\omega_{1} - \\omega_{p}} & \\frac{896 g_{3}^{2}}{\\omega^{2} \\left(- 13 \\alpha - \\omega_{1} - 2 \\omega_{p}\\right)} & \\frac{\\left(\\frac{54 \\sqrt{14} g_{3}^{2}}{\\omega^{2}} + \\frac{18 \\sqrt{14} g_{4}}{\\omega}\\right)^{2}}{- 21 \\alpha - \\omega_{1} - 3 \\omega_{p}} & 0 & 0 & 0 & 0 & 0 & 0 & 0 & 0 & 0 & 0\\\\0 & 0 & 0 & 0 & \\frac{\\left(- \\frac{9 \\sqrt{210} g_{3}^{2}}{\\omega^{2}} - \\frac{3 \\sqrt{210} g_{4}}{\\omega}\\right)^{2}}{15 \\alpha - \\omega_{1} + 3 \\omega_{p}} & \\frac{672 g_{3}^{2}}{\\omega^{2} \\cdot \\left(11 \\alpha - \\omega_{1} + 2 \\omega_{p}\\right)} & \\frac{\\left(\\frac{266 \\sqrt{7} g_{3}^{2}}{\\omega^{2}} - \\frac{42 \\sqrt{7} g_{4}}{\\omega} - \\sqrt{7}\\right)^{2}}{6 \\alpha - \\omega_{1} + \\omega_{p}} & 0 & \\frac{\\left(- \\frac{608 \\sqrt{2} g_{3}^{2}}{\\omega^{2}} + \\frac{96 \\sqrt{2} g_{4}}{\\omega} + 2 \\sqrt{2}\\right)^{2}}{- 7 \\alpha - \\omega_{1} - \\omega_{p}} & \\frac{1152 g_{3}^{2}}{\\omega^{2} \\left(- 15 \\alpha - \\omega_{1} - 2 \\omega_{p}\\right)} & \\frac{\\left(\\frac{108 \\sqrt{5} g_{3}^{2}}{\\omega^{2}} + \\frac{36 \\sqrt{5} g_{4}}{\\omega}\\right)^{2}}{- 24 \\alpha - \\omega_{1} - 3 \\omega_{p}} & 0 & 0 & 0 & 0 & 0 & 0 & 0 & 0 & 0\\\\0 & 0 & 0 & 0 & 0 & \\frac{\\left(- \\frac{36 \\sqrt{21} g_{3}^{2}}{\\omega^{2}} - \\frac{12 \\sqrt{21} g_{4}}{\\omega}\\right)^{2}}{18 \\alpha - \\omega_{1} + 3 \\omega_{p}} & \\frac{896 g_{3}^{2}}{\\omega^{2} \\cdot \\left(13 \\alpha - \\omega_{1} + 2 \\omega_{p}\\right)} & \\frac{\\left(\\frac{608 \\sqrt{2} g_{3}^{2}}{\\omega^{2}} - \\frac{96 \\sqrt{2} g_{4}}{\\omega} - 2 \\sqrt{2}\\right)^{2}}{7 \\alpha - \\omega_{1} + \\omega_{p}} & 0 & \\frac{\\left(- \\frac{1026 g_{3}^{2}}{\\omega^{2}} + \\frac{162 g_{4}}{\\omega} + 3\\right)^{2}}{- 8 \\alpha - \\omega_{1} - \\omega_{p}} & \\frac{1440 g_{3}^{2}}{\\omega^{2} \\left(- 17 \\alpha - \\omega_{1} - 2 \\omega_{p}\\right)} & \\frac{\\left(\\frac{27 \\sqrt{110} g_{3}^{2}}{\\omega^{2}} + \\frac{9 \\sqrt{110} g_{4}}{\\omega}\\right)^{2}}{- 27 \\alpha - \\omega_{1} - 3 \\omega_{p}} & 0 & 0 & 0 & 0 & 0 & 0 & 0 & 0\\\\0 & 0 & 0 & 0 & 0 & 0 & \\frac{\\left(- \\frac{54 \\sqrt{14} g_{3}^{2}}{\\omega^{2}} - \\frac{18 \\sqrt{14} g_{4}}{\\omega}\\right)^{2}}{21 \\alpha - \\omega_{1} + 3 \\omega_{p}} & \\frac{1152 g_{3}^{2}}{\\omega^{2} \\cdot \\left(15 \\alpha - \\omega_{1} + 2 \\omega_{p}\\right)} & \\frac{\\left(\\frac{1026 g_{3}^{2}}{\\omega^{2}} - \\frac{162 g_{4}}{\\omega} - 3\\right)^{2}}{8 \\alpha - \\omega_{1} + \\omega_{p}} & 0 & \\frac{\\left(- \\frac{380 \\sqrt{10} g_{3}^{2}}{\\omega^{2}} + \\frac{60 \\sqrt{10} g_{4}}{\\omega} + \\sqrt{10}\\right)^{2}}{- 9 \\alpha - \\omega_{1} - \\omega_{p}} & \\frac{1760 g_{3}^{2}}{\\omega^{2} \\left(- 19 \\alpha - \\omega_{1} - 2 \\omega_{p}\\right)} & \\frac{\\left(\\frac{18 \\sqrt{330} g_{3}^{2}}{\\omega^{2}} + \\frac{6 \\sqrt{330} g_{4}}{\\omega}\\right)^{2}}{- 30 \\alpha - \\omega_{1} - 3 \\omega_{p}} & 0 & 0 & 0 & 0 & 0 & 0 & 0\\\\0 & 0 & 0 & 0 & 0 & 0 & 0 & \\frac{\\left(- \\frac{108 \\sqrt{5} g_{3}^{2}}{\\omega^{2}} - \\frac{36 \\sqrt{5} g_{4}}{\\omega}\\right)^{2}}{24 \\alpha - \\omega_{1} + 3 \\omega_{p}} & \\frac{1440 g_{3}^{2}}{\\omega^{2} \\cdot \\left(17 \\alpha - \\omega_{1} + 2 \\omega_{p}\\right)} & \\frac{\\left(\\frac{380 \\sqrt{10} g_{3}^{2}}{\\omega^{2}} - \\frac{60 \\sqrt{10} g_{4}}{\\omega} - \\sqrt{10}\\right)^{2}}{9 \\alpha - \\omega_{1} + \\omega_{p}} & 0 & \\frac{\\left(- \\frac{418 \\sqrt{11} g_{3}^{2}}{\\omega^{2}} + \\frac{66 \\sqrt{11} g_{4}}{\\omega} + \\sqrt{11}\\right)^{2}}{- 10 \\alpha - \\omega_{1} - \\omega_{p}} & \\frac{2112 g_{3}^{2}}{\\omega^{2} \\left(- 21 \\alpha - \\omega_{1} - 2 \\omega_{p}\\right)} & \\frac{\\left(\\frac{18 \\sqrt{429} g_{3}^{2}}{\\omega^{2}} + \\frac{6 \\sqrt{429} g_{4}}{\\omega}\\right)^{2}}{- 33 \\alpha - \\omega_{1} - 3 \\omega_{p}} & 0 & 0 & 0 & 0 & 0 & 0\\\\0 & 0 & 0 & 0 & 0 & 0 & 0 & 0 & \\frac{\\left(- \\frac{27 \\sqrt{110} g_{3}^{2}}{\\omega^{2}} - \\frac{9 \\sqrt{110} g_{4}}{\\omega}\\right)^{2}}{27 \\alpha - \\omega_{1} + 3 \\omega_{p}} & \\frac{1760 g_{3}^{2}}{\\omega^{2} \\cdot \\left(19 \\alpha - \\omega_{1} + 2 \\omega_{p}\\right)} & \\frac{\\left(\\frac{418 \\sqrt{11} g_{3}^{2}}{\\omega^{2}} - \\frac{66 \\sqrt{11} g_{4}}{\\omega} - \\sqrt{11}\\right)^{2}}{10 \\alpha - \\omega_{1} + \\omega_{p}} & 0 & \\frac{\\left(- \\frac{912 \\sqrt{3} g_{3}^{2}}{\\omega^{2}} + \\frac{144 \\sqrt{3} g_{4}}{\\omega} + 2 \\sqrt{3}\\right)^{2}}{- 11 \\alpha - \\omega_{1} - \\omega_{p}} & \\frac{2496 g_{3}^{2}}{\\omega^{2} \\left(- 23 \\alpha - \\omega_{1} - 2 \\omega_{p}\\right)} & \\frac{\\left(\\frac{18 \\sqrt{546} g_{3}^{2}}{\\omega^{2}} + \\frac{6 \\sqrt{546} g_{4}}{\\omega}\\right)^{2}}{- 36 \\alpha - \\omega_{1} - 3 \\omega_{p}} & 0 & 0 & 0 & 0 & 0\\\\0 & 0 & 0 & 0 & 0 & 0 & 0 & 0 & 0 & \\frac{\\left(- \\frac{18 \\sqrt{330} g_{3}^{2}}{\\omega^{2}} - \\frac{6 \\sqrt{330} g_{4}}{\\omega}\\right)^{2}}{30 \\alpha - \\omega_{1} + 3 \\omega_{p}} & \\frac{2112 g_{3}^{2}}{\\omega^{2} \\cdot \\left(21 \\alpha - \\omega_{1} + 2 \\omega_{p}\\right)} & \\frac{\\left(\\frac{912 \\sqrt{3} g_{3}^{2}}{\\omega^{2}} - \\frac{144 \\sqrt{3} g_{4}}{\\omega} - 2 \\sqrt{3}\\right)^{2}}{11 \\alpha - \\omega_{1} + \\omega_{p}} & 0 & \\frac{\\left(- \\frac{494 \\sqrt{13} g_{3}^{2}}{\\omega^{2}} + \\frac{78 \\sqrt{13} g_{4}}{\\omega} + \\sqrt{13}\\right)^{2}}{- 12 \\alpha - \\omega_{1} - \\omega_{p}} & \\frac{2912 g_{3}^{2}}{\\omega^{2} \\left(- 25 \\alpha - \\omega_{1} - 2 \\omega_{p}\\right)} & \\frac{\\left(\\frac{9 \\sqrt{2730} g_{3}^{2}}{\\omega^{2}} + \\frac{3 \\sqrt{2730} g_{4}}{\\omega}\\right)^{2}}{- 39 \\alpha - \\omega_{1} - 3 \\omega_{p}} & 0 & 0 & 0 & 0\\\\0 & 0 & 0 & 0 & 0 & 0 & 0 & 0 & 0 & 0 & \\frac{\\left(- \\frac{18 \\sqrt{429} g_{3}^{2}}{\\omega^{2}} - \\frac{6 \\sqrt{429} g_{4}}{\\omega}\\right)^{2}}{33 \\alpha - \\omega_{1} + 3 \\omega_{p}} & \\frac{2496 g_{3}^{2}}{\\omega^{2} \\cdot \\left(23 \\alpha - \\omega_{1} + 2 \\omega_{p}\\right)} & \\frac{\\left(\\frac{494 \\sqrt{13} g_{3}^{2}}{\\omega^{2}} - \\frac{78 \\sqrt{13} g_{4}}{\\omega} - \\sqrt{13}\\right)^{2}}{12 \\alpha - \\omega_{1} + \\omega_{p}} & 0 & \\frac{\\left(- \\frac{532 \\sqrt{14} g_{3}^{2}}{\\omega^{2}} + \\frac{84 \\sqrt{14} g_{4}}{\\omega} + \\sqrt{14}\\right)^{2}}{- 13 \\alpha - \\omega_{1} - \\omega_{p}} & \\frac{3360 g_{3}^{2}}{\\omega^{2} \\left(- 27 \\alpha - \\omega_{1} - 2 \\omega_{p}\\right)} & \\frac{\\left(\\frac{36 \\sqrt{210} g_{3}^{2}}{\\omega^{2}} + \\frac{12 \\sqrt{210} g_{4}}{\\omega}\\right)^{2}}{- 42 \\alpha - \\omega_{1} - 3 \\omega_{p}} & 0 & 0 & 0\\\\0 & 0 & 0 & 0 & 0 & 0 & 0 & 0 & 0 & 0 & 0 & \\frac{\\left(- \\frac{18 \\sqrt{546} g_{3}^{2}}{\\omega^{2}} - \\frac{6 \\sqrt{546} g_{4}}{\\omega}\\right)^{2}}{36 \\alpha - \\omega_{1} + 3 \\omega_{p}} & \\frac{2912 g_{3}^{2}}{\\omega^{2} \\cdot \\left(25 \\alpha - \\omega_{1} + 2 \\omega_{p}\\right)} & \\frac{\\left(\\frac{532 \\sqrt{14} g_{3}^{2}}{\\omega^{2}} - \\frac{84 \\sqrt{14} g_{4}}{\\omega} - \\sqrt{14}\\right)^{2}}{13 \\alpha - \\omega_{1} + \\omega_{p}} & 0 & \\frac{\\left(- \\frac{570 \\sqrt{15} g_{3}^{2}}{\\omega^{2}} + \\frac{90 \\sqrt{15} g_{4}}{\\omega} + \\sqrt{15}\\right)^{2}}{- 14 \\alpha - \\omega_{1} - \\omega_{p}} & \\frac{3840 g_{3}^{2}}{\\omega^{2} \\left(- 29 \\alpha - \\omega_{1} - 2 \\omega_{p}\\right)} & \\frac{\\left(\\frac{36 \\sqrt{255} g_{3}^{2}}{\\omega^{2}} + \\frac{12 \\sqrt{255} g_{4}}{\\omega}\\right)^{2}}{- 45 \\alpha - \\omega_{1} - 3 \\omega_{p}} & 0 & 0\\\\0 & 0 & 0 & 0 & 0 & 0 & 0 & 0 & 0 & 0 & 0 & 0 & \\frac{\\left(- \\frac{9 \\sqrt{2730} g_{3}^{2}}{\\omega^{2}} - \\frac{3 \\sqrt{2730} g_{4}}{\\omega}\\right)^{2}}{39 \\alpha - \\omega_{1} + 3 \\omega_{p}} & \\frac{3360 g_{3}^{2}}{\\omega^{2} \\cdot \\left(27 \\alpha - \\omega_{1} + 2 \\omega_{p}\\right)} & \\frac{\\left(\\frac{570 \\sqrt{15} g_{3}^{2}}{\\omega^{2}} - \\frac{90 \\sqrt{15} g_{4}}{\\omega} - \\sqrt{15}\\right)^{2}}{14 \\alpha - \\omega_{1} + \\omega_{p}} & 0 & \\frac{\\left(- \\frac{2432 g_{3}^{2}}{\\omega^{2}} + \\frac{384 g_{4}}{\\omega} + 4\\right)^{2}}{- 15 \\alpha - \\omega_{1} - \\omega_{p}} & \\frac{4352 g_{3}^{2}}{\\omega^{2} \\left(- 31 \\alpha - \\omega_{1} - 2 \\omega_{p}\\right)} & \\frac{\\left(\\frac{108 \\sqrt{34} g_{3}^{2}}{\\omega^{2}} + \\frac{36 \\sqrt{34} g_{4}}{\\omega}\\right)^{2}}{- 48 \\alpha - \\omega_{1} - 3 \\omega_{p}} & 0\\\\0 & 0 & 0 & 0 & 0 & 0 & 0 & 0 & 0 & 0 & 0 & 0 & 0 & \\frac{\\left(- \\frac{36 \\sqrt{210} g_{3}^{2}}{\\omega^{2}} - \\frac{12 \\sqrt{210} g_{4}}{\\omega}\\right)^{2}}{42 \\alpha - \\omega_{1} + 3 \\omega_{p}} & \\frac{3840 g_{3}^{2}}{\\omega^{2} \\cdot \\left(29 \\alpha - \\omega_{1} + 2 \\omega_{p}\\right)} & \\frac{\\left(\\frac{2432 g_{3}^{2}}{\\omega^{2}} - \\frac{384 g_{4}}{\\omega} - 4\\right)^{2}}{15 \\alpha - \\omega_{1} + \\omega_{p}} & 0 & \\frac{\\left(- \\frac{646 \\sqrt{17} g_{3}^{2}}{\\omega^{2}} + \\frac{102 \\sqrt{17} g_{4}}{\\omega} + \\sqrt{17}\\right)^{2}}{- 16 \\alpha - \\omega_{1} - \\omega_{p}} & \\frac{4896 g_{3}^{2}}{\\omega^{2} \\left(- 33 \\alpha - \\omega_{1} - 2 \\omega_{p}\\right)} & \\frac{\\left(\\frac{27 \\sqrt{646} g_{3}^{2}}{\\omega^{2}} + \\frac{9 \\sqrt{646} g_{4}}{\\omega}\\right)^{2}}{- 51 \\alpha - \\omega_{1} - 3 \\omega_{p}}\\\\0 & 0 & 0 & 0 & 0 & 0 & 0 & 0 & 0 & 0 & 0 & 0 & 0 & 0 & \\frac{\\left(- \\frac{36 \\sqrt{255} g_{3}^{2}}{\\omega^{2}} - \\frac{12 \\sqrt{255} g_{4}}{\\omega}\\right)^{2}}{45 \\alpha - \\omega_{1} + 3 \\omega_{p}} & \\frac{4352 g_{3}^{2}}{\\omega^{2} \\cdot \\left(31 \\alpha - \\omega_{1} + 2 \\omega_{p}\\right)} & \\frac{\\left(\\frac{646 \\sqrt{17} g_{3}^{2}}{\\omega^{2}} - \\frac{102 \\sqrt{17} g_{4}}{\\omega} - \\sqrt{17}\\right)^{2}}{16 \\alpha - \\omega_{1} + \\omega_{p}} & 0 & \\frac{\\left(- \\frac{2052 \\sqrt{2} g_{3}^{2}}{\\omega^{2}} + \\frac{324 \\sqrt{2} g_{4}}{\\omega} + 3 \\sqrt{2}\\right)^{2}}{- 17 \\alpha - \\omega_{1} - \\omega_{p}} & \\frac{5472 g_{3}^{2}}{\\omega^{2} \\left(- 35 \\alpha - \\omega_{1} - 2 \\omega_{p}\\right)}\\\\0 & 0 & 0 & 0 & 0 & 0 & 0 & 0 & 0 & 0 & 0 & 0 & 0 & 0 & 0 & \\frac{\\left(- \\frac{108 \\sqrt{34} g_{3}^{2}}{\\omega^{2}} - \\frac{36 \\sqrt{34} g_{4}}{\\omega}\\right)^{2}}{48 \\alpha - \\omega_{1} + 3 \\omega_{p}} & \\frac{4896 g_{3}^{2}}{\\omega^{2} \\cdot \\left(33 \\alpha - \\omega_{1} + 2 \\omega_{p}\\right)} & \\frac{\\left(\\frac{2052 \\sqrt{2} g_{3}^{2}}{\\omega^{2}} - \\frac{324 \\sqrt{2} g_{4}}{\\omega} - 3 \\sqrt{2}\\right)^{2}}{17 \\alpha - \\omega_{1} + \\omega_{p}} & 0 & \\frac{\\left(- \\frac{722 \\sqrt{19} g_{3}^{2}}{\\omega^{2}} + \\frac{114 \\sqrt{19} g_{4}}{\\omega} + \\sqrt{19}\\right)^{2}}{- 18 \\alpha - \\omega_{1} - \\omega_{p}}\\\\0 & 0 & 0 & 0 & 0 & 0 & 0 & 0 & 0 & 0 & 0 & 0 & 0 & 0 & 0 & 0 & \\frac{\\left(- \\frac{27 \\sqrt{646} g_{3}^{2}}{\\omega^{2}} - \\frac{9 \\sqrt{646} g_{4}}{\\omega}\\right)^{2}}{51 \\alpha - \\omega_{1} + 3 \\omega_{p}} & \\frac{5472 g_{3}^{2}}{\\omega^{2} \\cdot \\left(35 \\alpha - \\omega_{1} + 2 \\omega_{p}\\right)} & \\frac{\\left(\\frac{722 \\sqrt{19} g_{3}^{2}}{\\omega^{2}} - \\frac{114 \\sqrt{19} g_{4}}{\\omega} - \\sqrt{19}\\right)^{2}}{18 \\alpha - \\omega_{1} + \\omega_{p}} & 0\\end{array}\\right]$"
      ],
      "text/plain": [
       "Matrix([\n",
       "[                                                                                  0,                              (-38*g3**2/omega**2 + 6*g4/omega + 1)**2/(-omega_1 - omega_p),                                            32*g3**2/(omega**2*(-alpha - omega_1 - 2*omega_p)),             (9*sqrt(6)*g3**2/omega**2 + 3*sqrt(6)*g4/omega)**2/(-3*alpha - omega_1 - 3*omega_p),                                                                                             0,                                                                                               0,                                                                                               0,                                                                                               0,                                                                                                 0,                                                                                                0,                                                                                                  0,                                                                                                   0,                                                                                                   0,                                                                                                   0,                                                                                                   0,                                                                                                   0,                                                                                                  0,                                                                                                    0,                                                                                                    0,                                                                                                    0],\n",
       "[                       (38*g3**2/omega**2 - 6*g4/omega - 1)**2/(-omega_1 + omega_p),                                                                                          0,  (-76*sqrt(2)*g3**2/omega**2 + 12*sqrt(2)*g4/omega + sqrt(2))**2/(-alpha - omega_1 - omega_p),                                            96*g3**2/(omega**2*(-3*alpha - omega_1 - 2*omega_p)),          (18*sqrt(6)*g3**2/omega**2 + 6*sqrt(6)*g4/omega)**2/(-6*alpha - omega_1 - 3*omega_p),                                                                                               0,                                                                                               0,                                                                                               0,                                                                                                 0,                                                                                                0,                                                                                                  0,                                                                                                   0,                                                                                                   0,                                                                                                   0,                                                                                                   0,                                                                                                   0,                                                                                                  0,                                                                                                    0,                                                                                                    0,                                                                                                    0],\n",
       "[                                  32*g3**2/(omega**2*(alpha - omega_1 + 2*omega_p)), (76*sqrt(2)*g3**2/omega**2 - 12*sqrt(2)*g4/omega - sqrt(2))**2/(alpha - omega_1 + omega_p),                                                                                             0, (-114*sqrt(3)*g3**2/omega**2 + 18*sqrt(3)*g4/omega + sqrt(3))**2/(-2*alpha - omega_1 - omega_p),                                         192*g3**2/(omega**2*(-5*alpha - omega_1 - 2*omega_p)),          (18*sqrt(15)*g3**2/omega**2 + 6*sqrt(15)*g4/omega)**2/(-9*alpha - omega_1 - 3*omega_p),                                                                                               0,                                                                                               0,                                                                                                 0,                                                                                                0,                                                                                                  0,                                                                                                   0,                                                                                                   0,                                                                                                   0,                                                                                                   0,                                                                                                   0,                                                                                                  0,                                                                                                    0,                                                                                                    0,                                                                                                    0],\n",
       "[(-9*sqrt(6)*g3**2/omega**2 - 3*sqrt(6)*g4/omega)**2/(3*alpha - omega_1 + 3*omega_p),                                        96*g3**2/(omega**2*(3*alpha - omega_1 + 2*omega_p)), (114*sqrt(3)*g3**2/omega**2 - 18*sqrt(3)*g4/omega - sqrt(3))**2/(2*alpha - omega_1 + omega_p),                                                                                               0,                     (-304*g3**2/omega**2 + 48*g4/omega + 2)**2/(-3*alpha - omega_1 - omega_p),                                           320*g3**2/(omega**2*(-7*alpha - omega_1 - 2*omega_p)),         (18*sqrt(30)*g3**2/omega**2 + 6*sqrt(30)*g4/omega)**2/(-12*alpha - omega_1 - 3*omega_p),                                                                                               0,                                                                                                 0,                                                                                                0,                                                                                                  0,                                                                                                   0,                                                                                                   0,                                                                                                   0,                                                                                                   0,                                                                                                   0,                                                                                                  0,                                                                                                    0,                                                                                                    0,                                                                                                    0],\n",
       "[                                                                                  0,       (-18*sqrt(6)*g3**2/omega**2 - 6*sqrt(6)*g4/omega)**2/(6*alpha - omega_1 + 3*omega_p),                                          192*g3**2/(omega**2*(5*alpha - omega_1 + 2*omega_p)),                         (304*g3**2/omega**2 - 48*g4/omega - 2)**2/(3*alpha - omega_1 + omega_p),                                                                                             0, (-190*sqrt(5)*g3**2/omega**2 + 30*sqrt(5)*g4/omega + sqrt(5))**2/(-4*alpha - omega_1 - omega_p),                                           480*g3**2/(omega**2*(-9*alpha - omega_1 - 2*omega_p)),        (9*sqrt(210)*g3**2/omega**2 + 3*sqrt(210)*g4/omega)**2/(-15*alpha - omega_1 - 3*omega_p),                                                                                                 0,                                                                                                0,                                                                                                  0,                                                                                                   0,                                                                                                   0,                                                                                                   0,                                                                                                   0,                                                                                                   0,                                                                                                  0,                                                                                                    0,                                                                                                    0,                                                                                                    0],\n",
       "[                                                                                  0,                                                                                          0,        (-18*sqrt(15)*g3**2/omega**2 - 6*sqrt(15)*g4/omega)**2/(9*alpha - omega_1 + 3*omega_p),                                            320*g3**2/(omega**2*(7*alpha - omega_1 + 2*omega_p)), (190*sqrt(5)*g3**2/omega**2 - 30*sqrt(5)*g4/omega - sqrt(5))**2/(4*alpha - omega_1 + omega_p),                                                                                               0, (-228*sqrt(6)*g3**2/omega**2 + 36*sqrt(6)*g4/omega + sqrt(6))**2/(-5*alpha - omega_1 - omega_p),                                          672*g3**2/(omega**2*(-11*alpha - omega_1 - 2*omega_p)),          (36*sqrt(21)*g3**2/omega**2 + 12*sqrt(21)*g4/omega)**2/(-18*alpha - omega_1 - 3*omega_p),                                                                                                0,                                                                                                  0,                                                                                                   0,                                                                                                   0,                                                                                                   0,                                                                                                   0,                                                                                                   0,                                                                                                  0,                                                                                                    0,                                                                                                    0,                                                                                                    0],\n",
       "[                                                                                  0,                                                                                          0,                                                                                             0,         (-18*sqrt(30)*g3**2/omega**2 - 6*sqrt(30)*g4/omega)**2/(12*alpha - omega_1 + 3*omega_p),                                          480*g3**2/(omega**2*(9*alpha - omega_1 + 2*omega_p)),   (228*sqrt(6)*g3**2/omega**2 - 36*sqrt(6)*g4/omega - sqrt(6))**2/(5*alpha - omega_1 + omega_p),                                                                                               0, (-266*sqrt(7)*g3**2/omega**2 + 42*sqrt(7)*g4/omega + sqrt(7))**2/(-6*alpha - omega_1 - omega_p),                                            896*g3**2/(omega**2*(-13*alpha - omega_1 - 2*omega_p)),         (54*sqrt(14)*g3**2/omega**2 + 18*sqrt(14)*g4/omega)**2/(-21*alpha - omega_1 - 3*omega_p),                                                                                                  0,                                                                                                   0,                                                                                                   0,                                                                                                   0,                                                                                                   0,                                                                                                   0,                                                                                                  0,                                                                                                    0,                                                                                                    0,                                                                                                    0],\n",
       "[                                                                                  0,                                                                                          0,                                                                                             0,                                                                                               0,      (-9*sqrt(210)*g3**2/omega**2 - 3*sqrt(210)*g4/omega)**2/(15*alpha - omega_1 + 3*omega_p),                                           672*g3**2/(omega**2*(11*alpha - omega_1 + 2*omega_p)),   (266*sqrt(7)*g3**2/omega**2 - 42*sqrt(7)*g4/omega - sqrt(7))**2/(6*alpha - omega_1 + omega_p),                                                                                               0, (-608*sqrt(2)*g3**2/omega**2 + 96*sqrt(2)*g4/omega + 2*sqrt(2))**2/(-7*alpha - omega_1 - omega_p),                                          1152*g3**2/(omega**2*(-15*alpha - omega_1 - 2*omega_p)),            (108*sqrt(5)*g3**2/omega**2 + 36*sqrt(5)*g4/omega)**2/(-24*alpha - omega_1 - 3*omega_p),                                                                                                   0,                                                                                                   0,                                                                                                   0,                                                                                                   0,                                                                                                   0,                                                                                                  0,                                                                                                    0,                                                                                                    0,                                                                                                    0],\n",
       "[                                                                                  0,                                                                                          0,                                                                                             0,                                                                                               0,                                                                                             0,        (-36*sqrt(21)*g3**2/omega**2 - 12*sqrt(21)*g4/omega)**2/(18*alpha - omega_1 + 3*omega_p),                                           896*g3**2/(omega**2*(13*alpha - omega_1 + 2*omega_p)), (608*sqrt(2)*g3**2/omega**2 - 96*sqrt(2)*g4/omega - 2*sqrt(2))**2/(7*alpha - omega_1 + omega_p),                                                                                                 0,                      (-1026*g3**2/omega**2 + 162*g4/omega + 3)**2/(-8*alpha - omega_1 - omega_p),                                            1440*g3**2/(omega**2*(-17*alpha - omega_1 - 2*omega_p)),           (27*sqrt(110)*g3**2/omega**2 + 9*sqrt(110)*g4/omega)**2/(-27*alpha - omega_1 - 3*omega_p),                                                                                                   0,                                                                                                   0,                                                                                                   0,                                                                                                   0,                                                                                                  0,                                                                                                    0,                                                                                                    0,                                                                                                    0],\n",
       "[                                                                                  0,                                                                                          0,                                                                                             0,                                                                                               0,                                                                                             0,                                                                                               0,        (-54*sqrt(14)*g3**2/omega**2 - 18*sqrt(14)*g4/omega)**2/(21*alpha - omega_1 + 3*omega_p),                                          1152*g3**2/(omega**2*(15*alpha - omega_1 + 2*omega_p)),                         (1026*g3**2/omega**2 - 162*g4/omega - 3)**2/(8*alpha - omega_1 + omega_p),                                                                                                0, (-380*sqrt(10)*g3**2/omega**2 + 60*sqrt(10)*g4/omega + sqrt(10))**2/(-9*alpha - omega_1 - omega_p),                                             1760*g3**2/(omega**2*(-19*alpha - omega_1 - 2*omega_p)),           (18*sqrt(330)*g3**2/omega**2 + 6*sqrt(330)*g4/omega)**2/(-30*alpha - omega_1 - 3*omega_p),                                                                                                   0,                                                                                                   0,                                                                                                   0,                                                                                                  0,                                                                                                    0,                                                                                                    0,                                                                                                    0],\n",
       "[                                                                                  0,                                                                                          0,                                                                                             0,                                                                                               0,                                                                                             0,                                                                                               0,                                                                                               0,         (-108*sqrt(5)*g3**2/omega**2 - 36*sqrt(5)*g4/omega)**2/(24*alpha - omega_1 + 3*omega_p),                                            1440*g3**2/(omega**2*(17*alpha - omega_1 + 2*omega_p)), (380*sqrt(10)*g3**2/omega**2 - 60*sqrt(10)*g4/omega - sqrt(10))**2/(9*alpha - omega_1 + omega_p),                                                                                                  0, (-418*sqrt(11)*g3**2/omega**2 + 66*sqrt(11)*g4/omega + sqrt(11))**2/(-10*alpha - omega_1 - omega_p),                                             2112*g3**2/(omega**2*(-21*alpha - omega_1 - 2*omega_p)),           (18*sqrt(429)*g3**2/omega**2 + 6*sqrt(429)*g4/omega)**2/(-33*alpha - omega_1 - 3*omega_p),                                                                                                   0,                                                                                                   0,                                                                                                  0,                                                                                                    0,                                                                                                    0,                                                                                                    0],\n",
       "[                                                                                  0,                                                                                          0,                                                                                             0,                                                                                               0,                                                                                             0,                                                                                               0,                                                                                               0,                                                                                               0,         (-27*sqrt(110)*g3**2/omega**2 - 9*sqrt(110)*g4/omega)**2/(27*alpha - omega_1 + 3*omega_p),                                           1760*g3**2/(omega**2*(19*alpha - omega_1 + 2*omega_p)),  (418*sqrt(11)*g3**2/omega**2 - 66*sqrt(11)*g4/omega - sqrt(11))**2/(10*alpha - omega_1 + omega_p),                                                                                                   0, (-912*sqrt(3)*g3**2/omega**2 + 144*sqrt(3)*g4/omega + 2*sqrt(3))**2/(-11*alpha - omega_1 - omega_p),                                             2496*g3**2/(omega**2*(-23*alpha - omega_1 - 2*omega_p)),           (18*sqrt(546)*g3**2/omega**2 + 6*sqrt(546)*g4/omega)**2/(-36*alpha - omega_1 - 3*omega_p),                                                                                                   0,                                                                                                  0,                                                                                                    0,                                                                                                    0,                                                                                                    0],\n",
       "[                                                                                  0,                                                                                          0,                                                                                             0,                                                                                               0,                                                                                             0,                                                                                               0,                                                                                               0,                                                                                               0,                                                                                                 0,        (-18*sqrt(330)*g3**2/omega**2 - 6*sqrt(330)*g4/omega)**2/(30*alpha - omega_1 + 3*omega_p),                                             2112*g3**2/(omega**2*(21*alpha - omega_1 + 2*omega_p)),   (912*sqrt(3)*g3**2/omega**2 - 144*sqrt(3)*g4/omega - 2*sqrt(3))**2/(11*alpha - omega_1 + omega_p),                                                                                                   0, (-494*sqrt(13)*g3**2/omega**2 + 78*sqrt(13)*g4/omega + sqrt(13))**2/(-12*alpha - omega_1 - omega_p),                                             2912*g3**2/(omega**2*(-25*alpha - omega_1 - 2*omega_p)),          (9*sqrt(2730)*g3**2/omega**2 + 3*sqrt(2730)*g4/omega)**2/(-39*alpha - omega_1 - 3*omega_p),                                                                                                  0,                                                                                                    0,                                                                                                    0,                                                                                                    0],\n",
       "[                                                                                  0,                                                                                          0,                                                                                             0,                                                                                               0,                                                                                             0,                                                                                               0,                                                                                               0,                                                                                               0,                                                                                                 0,                                                                                                0,          (-18*sqrt(429)*g3**2/omega**2 - 6*sqrt(429)*g4/omega)**2/(33*alpha - omega_1 + 3*omega_p),                                              2496*g3**2/(omega**2*(23*alpha - omega_1 + 2*omega_p)),   (494*sqrt(13)*g3**2/omega**2 - 78*sqrt(13)*g4/omega - sqrt(13))**2/(12*alpha - omega_1 + omega_p),                                                                                                   0, (-532*sqrt(14)*g3**2/omega**2 + 84*sqrt(14)*g4/omega + sqrt(14))**2/(-13*alpha - omega_1 - omega_p),                                             3360*g3**2/(omega**2*(-27*alpha - omega_1 - 2*omega_p)),         (36*sqrt(210)*g3**2/omega**2 + 12*sqrt(210)*g4/omega)**2/(-42*alpha - omega_1 - 3*omega_p),                                                                                                    0,                                                                                                    0,                                                                                                    0],\n",
       "[                                                                                  0,                                                                                          0,                                                                                             0,                                                                                               0,                                                                                             0,                                                                                               0,                                                                                               0,                                                                                               0,                                                                                                 0,                                                                                                0,                                                                                                  0,           (-18*sqrt(546)*g3**2/omega**2 - 6*sqrt(546)*g4/omega)**2/(36*alpha - omega_1 + 3*omega_p),                                              2912*g3**2/(omega**2*(25*alpha - omega_1 + 2*omega_p)),   (532*sqrt(14)*g3**2/omega**2 - 84*sqrt(14)*g4/omega - sqrt(14))**2/(13*alpha - omega_1 + omega_p),                                                                                                   0, (-570*sqrt(15)*g3**2/omega**2 + 90*sqrt(15)*g4/omega + sqrt(15))**2/(-14*alpha - omega_1 - omega_p),                                            3840*g3**2/(omega**2*(-29*alpha - omega_1 - 2*omega_p)),           (36*sqrt(255)*g3**2/omega**2 + 12*sqrt(255)*g4/omega)**2/(-45*alpha - omega_1 - 3*omega_p),                                                                                                    0,                                                                                                    0],\n",
       "[                                                                                  0,                                                                                          0,                                                                                             0,                                                                                               0,                                                                                             0,                                                                                               0,                                                                                               0,                                                                                               0,                                                                                                 0,                                                                                                0,                                                                                                  0,                                                                                                   0,          (-9*sqrt(2730)*g3**2/omega**2 - 3*sqrt(2730)*g4/omega)**2/(39*alpha - omega_1 + 3*omega_p),                                              3360*g3**2/(omega**2*(27*alpha - omega_1 + 2*omega_p)),   (570*sqrt(15)*g3**2/omega**2 - 90*sqrt(15)*g4/omega - sqrt(15))**2/(14*alpha - omega_1 + omega_p),                                                                                                   0,                       (-2432*g3**2/omega**2 + 384*g4/omega + 4)**2/(-15*alpha - omega_1 - omega_p),                                              4352*g3**2/(omega**2*(-31*alpha - omega_1 - 2*omega_p)),            (108*sqrt(34)*g3**2/omega**2 + 36*sqrt(34)*g4/omega)**2/(-48*alpha - omega_1 - 3*omega_p),                                                                                                    0],\n",
       "[                                                                                  0,                                                                                          0,                                                                                             0,                                                                                               0,                                                                                             0,                                                                                               0,                                                                                               0,                                                                                               0,                                                                                                 0,                                                                                                0,                                                                                                  0,                                                                                                   0,                                                                                                   0,          (-36*sqrt(210)*g3**2/omega**2 - 12*sqrt(210)*g4/omega)**2/(42*alpha - omega_1 + 3*omega_p),                                              3840*g3**2/(omega**2*(29*alpha - omega_1 + 2*omega_p)),                          (2432*g3**2/omega**2 - 384*g4/omega - 4)**2/(15*alpha - omega_1 + omega_p),                                                                                                  0, (-646*sqrt(17)*g3**2/omega**2 + 102*sqrt(17)*g4/omega + sqrt(17))**2/(-16*alpha - omega_1 - omega_p),                                              4896*g3**2/(omega**2*(-33*alpha - omega_1 - 2*omega_p)),            (27*sqrt(646)*g3**2/omega**2 + 9*sqrt(646)*g4/omega)**2/(-51*alpha - omega_1 - 3*omega_p)],\n",
       "[                                                                                  0,                                                                                          0,                                                                                             0,                                                                                               0,                                                                                             0,                                                                                               0,                                                                                               0,                                                                                               0,                                                                                                 0,                                                                                                0,                                                                                                  0,                                                                                                   0,                                                                                                   0,                                                                                                   0,          (-36*sqrt(255)*g3**2/omega**2 - 12*sqrt(255)*g4/omega)**2/(45*alpha - omega_1 + 3*omega_p),                                              4352*g3**2/(omega**2*(31*alpha - omega_1 + 2*omega_p)), (646*sqrt(17)*g3**2/omega**2 - 102*sqrt(17)*g4/omega - sqrt(17))**2/(16*alpha - omega_1 + omega_p),                                                                                                    0, (-2052*sqrt(2)*g3**2/omega**2 + 324*sqrt(2)*g4/omega + 3*sqrt(2))**2/(-17*alpha - omega_1 - omega_p),                                              5472*g3**2/(omega**2*(-35*alpha - omega_1 - 2*omega_p))],\n",
       "[                                                                                  0,                                                                                          0,                                                                                             0,                                                                                               0,                                                                                             0,                                                                                               0,                                                                                               0,                                                                                               0,                                                                                                 0,                                                                                                0,                                                                                                  0,                                                                                                   0,                                                                                                   0,                                                                                                   0,                                                                                                   0,           (-108*sqrt(34)*g3**2/omega**2 - 36*sqrt(34)*g4/omega)**2/(48*alpha - omega_1 + 3*omega_p),                                             4896*g3**2/(omega**2*(33*alpha - omega_1 + 2*omega_p)),   (2052*sqrt(2)*g3**2/omega**2 - 324*sqrt(2)*g4/omega - 3*sqrt(2))**2/(17*alpha - omega_1 + omega_p),                                                                                                    0, (-722*sqrt(19)*g3**2/omega**2 + 114*sqrt(19)*g4/omega + sqrt(19))**2/(-18*alpha - omega_1 - omega_p)],\n",
       "[                                                                                  0,                                                                                          0,                                                                                             0,                                                                                               0,                                                                                             0,                                                                                               0,                                                                                               0,                                                                                               0,                                                                                                 0,                                                                                                0,                                                                                                  0,                                                                                                   0,                                                                                                   0,                                                                                                   0,                                                                                                   0,                                                                                                   0,          (-27*sqrt(646)*g3**2/omega**2 - 9*sqrt(646)*g4/omega)**2/(51*alpha - omega_1 + 3*omega_p),                                               5472*g3**2/(omega**2*(35*alpha - omega_1 + 2*omega_p)),   (722*sqrt(19)*g3**2/omega**2 - 114*sqrt(19)*g4/omega - sqrt(19))**2/(18*alpha - omega_1 + omega_p),                                                                                                    0]])"
      ]
     },
     "execution_count": 220,
     "metadata": {},
     "output_type": "execute_result"
    }
   ],
   "source": [
    "chim1"
   ]
  },
  {
   "cell_type": "code",
   "execution_count": 221,
   "id": "b376fe93",
   "metadata": {},
   "outputs": [],
   "source": [
    "disp = sum(chim1[1, i] for i in range(0,n))-sum(chim1[i, 1] for i in range(0,n))- (sum(chim1[0, i] for i in range(0,n))-sum(chim1[i, 0] for i in range(0,n)))"
   ]
  },
  {
   "cell_type": "code",
   "execution_count": 222,
   "id": "4ca2b8b7",
   "metadata": {},
   "outputs": [
    {
     "data": {
      "text/latex": [
       "$\\displaystyle - \\frac{96 g_{3}^{2}}{\\omega^{2} \\cdot \\left(3 \\alpha - \\omega_{1} + 2 \\omega_{p}\\right)} + \\frac{32 g_{3}^{2}}{\\omega^{2} \\left(\\alpha - \\omega_{1} + 2 \\omega_{p}\\right)} - \\frac{32 g_{3}^{2}}{\\omega^{2} \\left(- \\alpha - \\omega_{1} - 2 \\omega_{p}\\right)} + \\frac{96 g_{3}^{2}}{\\omega^{2} \\left(- 3 \\alpha - \\omega_{1} - 2 \\omega_{p}\\right)} - \\frac{\\left(- \\frac{18 \\sqrt{6} g_{3}^{2}}{\\omega^{2}} - \\frac{6 \\sqrt{6} g_{4}}{\\omega}\\right)^{2}}{6 \\alpha - \\omega_{1} + 3 \\omega_{p}} + \\frac{\\left(- \\frac{9 \\sqrt{6} g_{3}^{2}}{\\omega^{2}} - \\frac{3 \\sqrt{6} g_{4}}{\\omega}\\right)^{2}}{3 \\alpha - \\omega_{1} + 3 \\omega_{p}} - \\frac{\\left(\\frac{9 \\sqrt{6} g_{3}^{2}}{\\omega^{2}} + \\frac{3 \\sqrt{6} g_{4}}{\\omega}\\right)^{2}}{- 3 \\alpha - \\omega_{1} - 3 \\omega_{p}} + \\frac{\\left(\\frac{18 \\sqrt{6} g_{3}^{2}}{\\omega^{2}} + \\frac{6 \\sqrt{6} g_{4}}{\\omega}\\right)^{2}}{- 6 \\alpha - \\omega_{1} - 3 \\omega_{p}} - \\frac{\\left(\\frac{76 \\sqrt{2} g_{3}^{2}}{\\omega^{2}} - \\frac{12 \\sqrt{2} g_{4}}{\\omega} - \\sqrt{2}\\right)^{2}}{\\alpha - \\omega_{1} + \\omega_{p}} + \\frac{\\left(- \\frac{76 \\sqrt{2} g_{3}^{2}}{\\omega^{2}} + \\frac{12 \\sqrt{2} g_{4}}{\\omega} + \\sqrt{2}\\right)^{2}}{- \\alpha - \\omega_{1} - \\omega_{p}} + \\frac{2 \\left(\\frac{38 g_{3}^{2}}{\\omega^{2}} - \\frac{6 g_{4}}{\\omega} - 1\\right)^{2}}{- \\omega_{1} + \\omega_{p}} - \\frac{2 \\left(- \\frac{38 g_{3}^{2}}{\\omega^{2}} + \\frac{6 g_{4}}{\\omega} + 1\\right)^{2}}{- \\omega_{1} - \\omega_{p}}$"
      ],
      "text/plain": [
       "-96*g3**2/(omega**2*(3*alpha - omega_1 + 2*omega_p)) + 32*g3**2/(omega**2*(alpha - omega_1 + 2*omega_p)) - 32*g3**2/(omega**2*(-alpha - omega_1 - 2*omega_p)) + 96*g3**2/(omega**2*(-3*alpha - omega_1 - 2*omega_p)) - (-18*sqrt(6)*g3**2/omega**2 - 6*sqrt(6)*g4/omega)**2/(6*alpha - omega_1 + 3*omega_p) + (-9*sqrt(6)*g3**2/omega**2 - 3*sqrt(6)*g4/omega)**2/(3*alpha - omega_1 + 3*omega_p) - (9*sqrt(6)*g3**2/omega**2 + 3*sqrt(6)*g4/omega)**2/(-3*alpha - omega_1 - 3*omega_p) + (18*sqrt(6)*g3**2/omega**2 + 6*sqrt(6)*g4/omega)**2/(-6*alpha - omega_1 - 3*omega_p) - (76*sqrt(2)*g3**2/omega**2 - 12*sqrt(2)*g4/omega - sqrt(2))**2/(alpha - omega_1 + omega_p) + (-76*sqrt(2)*g3**2/omega**2 + 12*sqrt(2)*g4/omega + sqrt(2))**2/(-alpha - omega_1 - omega_p) + 2*(38*g3**2/omega**2 - 6*g4/omega - 1)**2/(-omega_1 + omega_p) - 2*(-38*g3**2/omega**2 + 6*g4/omega + 1)**2/(-omega_1 - omega_p)"
      ]
     },
     "execution_count": 222,
     "metadata": {},
     "output_type": "execute_result"
    }
   ],
   "source": [
    "disp"
   ]
  },
  {
   "cell_type": "code",
   "execution_count": 223,
   "id": "e4e64829",
   "metadata": {},
   "outputs": [],
   "source": [
    "disp = remove_higher((disp.expand()))"
   ]
  },
  {
   "cell_type": "code",
   "execution_count": 224,
   "id": "e8c7d180",
   "metadata": {},
   "outputs": [],
   "source": [
    "disp = (disp.subs(omegap,correction+omega)).subs(alpha,correction)"
   ]
  },
  {
   "cell_type": "code",
   "execution_count": 225,
   "id": "710031e5",
   "metadata": {},
   "outputs": [],
   "source": [
    "E =disp\n",
    "x = symbols('x', real=True)\n",
    "y= symbols('y', real=True)\n",
    "E=E.subs(g3**2,x*omega**2)\n",
    "E=E.subs(g4,y*omega)\n",
    "from sympy import symbols, diff\n",
    "f_0 = E.subs({x: 0, y: 0})\n",
    "df_dx = diff(E, x).subs({x: 0, y: 0}) * (x - 0)\n",
    "df_dy = diff(E, y).subs({x: 0, y: 0}) * (y - 0)\n",
    "\n",
    "taylor_first_order = f_0 + df_dx + df_dy\n",
    "\n",
    "disp = taylor_first_order.expand().subs(y,g4/omega).subs(x,g3**2/omega**2)"
   ]
  },
  {
   "cell_type": "code",
   "execution_count": 226,
   "id": "e2455deb",
   "metadata": {},
   "outputs": [
    {
     "data": {
      "text/latex": [
       "$\\displaystyle - \\frac{64 g_{3}^{2}}{2 \\omega^{3} - \\omega^{2} \\omega_{1}} + \\frac{152 g_{3}^{2}}{\\omega^{3} - \\omega^{2} \\omega_{1}} - \\frac{152 g_{3}^{2}}{- \\omega^{3} - \\omega^{2} \\omega_{1}} + \\frac{64 g_{3}^{2}}{- 2 \\omega^{3} - \\omega^{2} \\omega_{1}} - \\frac{120 g_{3}^{2}}{\\omega \\left(\\omega^{2} + 2 \\omega \\omega_{1} + \\omega_{1}^{2}\\right)} - \\frac{120 g_{3}^{2}}{\\omega \\left(\\omega^{2} - 2 \\omega \\omega_{1} + \\omega_{1}^{2}\\right)} + \\frac{24 g_{4}}{\\omega^{2} + 2 \\omega \\omega_{1} + \\omega_{1}^{2}} + \\frac{24 g_{4}}{\\omega^{2} - 2 \\omega \\omega_{1} + \\omega_{1}^{2}} - \\frac{24 g_{4}}{\\omega^{2} - \\omega \\omega_{1}} + \\frac{24 g_{4}}{- \\omega^{2} - \\omega \\omega_{1}}$"
      ],
      "text/plain": [
       "-64*g3**2/(2*omega**3 - omega**2*omega_1) + 152*g3**2/(omega**3 - omega**2*omega_1) - 152*g3**2/(-omega**3 - omega**2*omega_1) + 64*g3**2/(-2*omega**3 - omega**2*omega_1) - 120*g3**2/(omega*(omega**2 + 2*omega*omega_1 + omega_1**2)) - 120*g3**2/(omega*(omega**2 - 2*omega*omega_1 + omega_1**2)) + 24*g4/(omega**2 + 2*omega*omega_1 + omega_1**2) + 24*g4/(omega**2 - 2*omega*omega_1 + omega_1**2) - 24*g4/(omega**2 - omega*omega_1) + 24*g4/(-omega**2 - omega*omega_1)"
      ]
     },
     "execution_count": 226,
     "metadata": {},
     "output_type": "execute_result"
    }
   ],
   "source": [
    "disp"
   ]
  },
  {
   "cell_type": "code",
   "execution_count": 227,
   "id": "25a49088",
   "metadata": {},
   "outputs": [
    {
     "data": {
      "text/latex": [
       "$\\displaystyle - \\frac{120 g_{3}^{2}}{\\omega \\left(\\omega^{2} + 2 \\omega \\omega_{1} + \\omega_{1}^{2}\\right)} - \\frac{120 g_{3}^{2}}{\\omega \\left(\\omega^{2} - 2 \\omega \\omega_{1} + \\omega_{1}^{2}\\right)} - \\frac{64 g_{3}^{2}}{\\omega^{2} \\cdot \\left(2 \\omega + \\omega_{1}\\right)} - \\frac{64 g_{3}^{2}}{\\omega^{2} \\cdot \\left(2 \\omega - \\omega_{1}\\right)} + \\frac{152 g_{3}^{2}}{\\omega^{2} \\left(\\omega + \\omega_{1}\\right)} + \\frac{152 g_{3}^{2}}{\\omega^{2} \\left(\\omega - \\omega_{1}\\right)} + \\frac{24 g_{4}}{\\omega^{2} + 2 \\omega \\omega_{1} + \\omega_{1}^{2}} + \\frac{24 g_{4}}{\\omega^{2} - 2 \\omega \\omega_{1} + \\omega_{1}^{2}} - \\frac{24 g_{4}}{\\omega \\left(\\omega + \\omega_{1}\\right)} - \\frac{24 g_{4}}{\\omega \\left(\\omega - \\omega_{1}\\right)}$"
      ],
      "text/plain": [
       "-120*g3**2/(omega*(omega**2 + 2*omega*omega_1 + omega_1**2)) - 120*g3**2/(omega*(omega**2 - 2*omega*omega_1 + omega_1**2)) - 64*g3**2/(omega**2*(2*omega + omega_1)) - 64*g3**2/(omega**2*(2*omega - omega_1)) + 152*g3**2/(omega**2*(omega + omega_1)) + 152*g3**2/(omega**2*(omega - omega_1)) + 24*g4/(omega**2 + 2*omega*omega_1 + omega_1**2) + 24*g4/(omega**2 - 2*omega*omega_1 + omega_1**2) - 24*g4/(omega*(omega + omega_1)) - 24*g4/(omega*(omega - omega_1))"
      ]
     },
     "execution_count": 227,
     "metadata": {},
     "output_type": "execute_result"
    }
   ],
   "source": [
    "temp = 0\n",
    "for term in disp.args:\n",
    "    temp += term.simplify()\n",
    "temp"
   ]
  },
  {
   "cell_type": "code",
   "execution_count": 228,
   "id": "f9eef172",
   "metadata": {},
   "outputs": [
    {
     "name": "stdout",
     "output_type": "stream",
     "text": [
      "/home/yunwei/SNAIL/symbolic\n"
     ]
    }
   ],
   "source": [
    "%pwd\n",
    "current_directory = %pwd\n",
    "print(current_directory)\n",
    "\n",
    "from qutip import qsave\n",
    "qsave([temp],'/home/yunwei/SNAIL/charge-coupling/Ben/ds')"
   ]
  },
  {
   "cell_type": "code",
   "execution_count": null,
   "id": "c30827bc",
   "metadata": {},
   "outputs": [],
   "source": []
  },
  {
   "cell_type": "code",
   "execution_count": null,
   "id": "96e6920a",
   "metadata": {},
   "outputs": [],
   "source": []
  },
  {
   "cell_type": "code",
   "execution_count": null,
   "id": "ff19b6a9",
   "metadata": {},
   "outputs": [],
   "source": []
  },
  {
   "cell_type": "code",
   "execution_count": null,
   "id": "fc8cf959",
   "metadata": {},
   "outputs": [],
   "source": []
  },
  {
   "cell_type": "code",
   "execution_count": null,
   "id": "c5f8855e",
   "metadata": {},
   "outputs": [],
   "source": []
  },
  {
   "cell_type": "code",
   "execution_count": null,
   "id": "635ec7ca",
   "metadata": {},
   "outputs": [],
   "source": []
  }
 ],
 "metadata": {
  "kernelspec": {
   "display_name": "base",
   "language": "python",
   "name": "python3"
  },
  "language_info": {
   "codemirror_mode": {
    "name": "ipython",
    "version": 3
   },
   "file_extension": ".py",
   "mimetype": "text/x-python",
   "name": "python",
   "nbconvert_exporter": "python",
   "pygments_lexer": "ipython3",
   "version": "3.8.18"
  }
 },
 "nbformat": 4,
 "nbformat_minor": 5
}
