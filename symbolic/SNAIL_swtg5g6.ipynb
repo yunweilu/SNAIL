{
 "cells": [
  {
   "cell_type": "code",
   "execution_count": 48,
   "id": "228bda19",
   "metadata": {},
   "outputs": [],
   "source": [
    "from sympy.physics.secondquant import *\n",
    "from sympy import symbols\n",
    "import sympy as sp\n",
    "from no import normal"
   ]
  },
  {
   "cell_type": "markdown",
   "id": "a1da53c2",
   "metadata": {},
   "source": [
    "# Only SNAIL"
   ]
  },
  {
   "cell_type": "code",
   "execution_count": 49,
   "id": "755b862f",
   "metadata": {},
   "outputs": [],
   "source": [
    "ind_a = symbols('s')\n",
    "a = B(ind_a)\n",
    "ad = Bd(ind_a)"
   ]
  },
  {
   "cell_type": "code",
   "execution_count": 50,
   "id": "9c67cf52",
   "metadata": {},
   "outputs": [],
   "source": [
    "g3 = symbols('g3', real=True)\n",
    "g4 = symbols('g4', real=True)\n",
    "g5 = symbols('g5', real=True)\n",
    "g6 = symbols('g6', real=True)\n",
    "omega_a = symbols('omega_s', real=True)\n",
    "kappa = symbols('kappa', real=True)"
   ]
  },
  {
   "cell_type": "code",
   "execution_count": 51,
   "id": "28604d84",
   "metadata": {},
   "outputs": [],
   "source": [
    "h0 = omega_a * ad * a"
   ]
  },
  {
   "cell_type": "code",
   "execution_count": 52,
   "id": "af0814f8",
   "metadata": {},
   "outputs": [],
   "source": [
    "v = normal(g3 * (a+ad)**3 +g4*(a+ad)**4 +g5*(a+ad)**4 ++g6*(a+ad)**4 )"
   ]
  },
  {
   "cell_type": "code",
   "execution_count": 53,
   "id": "32cb4694",
   "metadata": {},
   "outputs": [],
   "source": [
    "v1 = sp.simplify(v)"
   ]
  },
  {
   "cell_type": "code",
   "execution_count": 54,
   "id": "84f41567",
   "metadata": {},
   "outputs": [],
   "source": [
    "temp = 0\n",
    "for term in v1.args:\n",
    "    if term.as_powers_dict()[ad] == term.as_powers_dict()[a]:\n",
    "        temp += term\n",
    "h1 = temp * 1"
   ]
  },
  {
   "cell_type": "markdown",
   "id": "68b6fe0a",
   "metadata": {},
   "source": [
    "# first order energy correction $H^{(1)}$"
   ]
  },
  {
   "cell_type": "code",
   "execution_count": 55,
   "id": "75d9c6ba",
   "metadata": {},
   "outputs": [
    {
     "data": {
      "text/latex": [
       "$\\displaystyle 3 g_{4} + 12 g_{4} {b^\\dagger_{s}} b_{s} + 6 g_{4} {b^\\dagger_{s}}^{2} b_{s}^{2} + 3 g_{5} + 12 g_{5} {b^\\dagger_{s}} b_{s} + 6 g_{5} {b^\\dagger_{s}}^{2} b_{s}^{2} + 3 g_{6} + 12 g_{6} {b^\\dagger_{s}} b_{s} + 6 g_{6} {b^\\dagger_{s}}^{2} b_{s}^{2}$"
      ],
      "text/plain": [
       "3*g4 + 12*g4*CreateBoson(s)*AnnihilateBoson(s) + 6*g4*CreateBoson(s)**2*AnnihilateBoson(s)**2 + 3*g5 + 12*g5*CreateBoson(s)*AnnihilateBoson(s) + 6*g5*CreateBoson(s)**2*AnnihilateBoson(s)**2 + 3*g6 + 12*g6*CreateBoson(s)*AnnihilateBoson(s) + 6*g6*CreateBoson(s)**2*AnnihilateBoson(s)**2"
      ]
     },
     "execution_count": 55,
     "metadata": {},
     "output_type": "execute_result"
    }
   ],
   "source": [
    "h1"
   ]
  },
  {
   "cell_type": "markdown",
   "id": "b92b1463",
   "metadata": {},
   "source": [
    "# first order generator $S^{(1)}$"
   ]
  },
  {
   "cell_type": "code",
   "execution_count": 56,
   "id": "105a9020",
   "metadata": {},
   "outputs": [],
   "source": [
    "temp = 0\n",
    "for term in (v1-h1).args:\n",
    "    if term.as_powers_dict()[ad]!= term.as_powers_dict()[a]:\n",
    "        temp += term / omega_a / (term.as_powers_dict()[ad] - term.as_powers_dict()[a])\n",
    "s1= normal(temp) * 1\n",
    "s_tot = s1\n",
    "s_tot_1 = s1"
   ]
  },
  {
   "cell_type": "code",
   "execution_count": 57,
   "id": "ccf7d064",
   "metadata": {},
   "outputs": [
    {
     "data": {
      "text/latex": [
       "$\\displaystyle - \\frac{3 g_{3} b_{s}}{\\omega_{s}} - \\frac{g_{3} b_{s}^{3}}{3 \\omega_{s}} + \\frac{3 g_{3} {b^\\dagger_{s}}}{\\omega_{s}} - \\frac{3 g_{3} {b^\\dagger_{s}} b_{s}^{2}}{\\omega_{s}} + \\frac{3 g_{3} {b^\\dagger_{s}}^{2} b_{s}}{\\omega_{s}} + \\frac{g_{3} {b^\\dagger_{s}}^{3}}{3 \\omega_{s}} - \\frac{3 g_{4} b_{s}^{2}}{\\omega_{s}} - \\frac{g_{4} b_{s}^{4}}{4 \\omega_{s}} - \\frac{2 g_{4} {b^\\dagger_{s}} b_{s}^{3}}{\\omega_{s}} + \\frac{3 g_{4} {b^\\dagger_{s}}^{2}}{\\omega_{s}} + \\frac{2 g_{4} {b^\\dagger_{s}}^{3} b_{s}}{\\omega_{s}} + \\frac{g_{4} {b^\\dagger_{s}}^{4}}{4 \\omega_{s}} - \\frac{3 g_{5} b_{s}^{2}}{\\omega_{s}} - \\frac{g_{5} b_{s}^{4}}{4 \\omega_{s}} - \\frac{2 g_{5} {b^\\dagger_{s}} b_{s}^{3}}{\\omega_{s}} + \\frac{3 g_{5} {b^\\dagger_{s}}^{2}}{\\omega_{s}} + \\frac{2 g_{5} {b^\\dagger_{s}}^{3} b_{s}}{\\omega_{s}} + \\frac{g_{5} {b^\\dagger_{s}}^{4}}{4 \\omega_{s}} - \\frac{3 g_{6} b_{s}^{2}}{\\omega_{s}} - \\frac{g_{6} b_{s}^{4}}{4 \\omega_{s}} - \\frac{2 g_{6} {b^\\dagger_{s}} b_{s}^{3}}{\\omega_{s}} + \\frac{3 g_{6} {b^\\dagger_{s}}^{2}}{\\omega_{s}} + \\frac{2 g_{6} {b^\\dagger_{s}}^{3} b_{s}}{\\omega_{s}} + \\frac{g_{6} {b^\\dagger_{s}}^{4}}{4 \\omega_{s}}$"
      ],
      "text/plain": [
       "-3*g3*AnnihilateBoson(s)/omega_s - g3*AnnihilateBoson(s)**3/(3*omega_s) + 3*g3*CreateBoson(s)/omega_s - 3*g3*CreateBoson(s)*AnnihilateBoson(s)**2/omega_s + 3*g3*CreateBoson(s)**2*AnnihilateBoson(s)/omega_s + g3*CreateBoson(s)**3/(3*omega_s) - 3*g4*AnnihilateBoson(s)**2/omega_s - g4*AnnihilateBoson(s)**4/(4*omega_s) - 2*g4*CreateBoson(s)*AnnihilateBoson(s)**3/omega_s + 3*g4*CreateBoson(s)**2/omega_s + 2*g4*CreateBoson(s)**3*AnnihilateBoson(s)/omega_s + g4*CreateBoson(s)**4/(4*omega_s) - 3*g5*AnnihilateBoson(s)**2/omega_s - g5*AnnihilateBoson(s)**4/(4*omega_s) - 2*g5*CreateBoson(s)*AnnihilateBoson(s)**3/omega_s + 3*g5*CreateBoson(s)**2/omega_s + 2*g5*CreateBoson(s)**3*AnnihilateBoson(s)/omega_s + g5*CreateBoson(s)**4/(4*omega_s) - 3*g6*AnnihilateBoson(s)**2/omega_s - g6*AnnihilateBoson(s)**4/(4*omega_s) - 2*g6*CreateBoson(s)*AnnihilateBoson(s)**3/omega_s + 3*g6*CreateBoson(s)**2/omega_s + 2*g6*CreateBoson(s)**3*AnnihilateBoson(s)/omega_s + g6*CreateBoson(s)**4/(4*omega_s)"
      ]
     },
     "execution_count": 57,
     "metadata": {},
     "output_type": "execute_result"
    }
   ],
   "source": [
    "s1"
   ]
  },
  {
   "cell_type": "markdown",
   "id": "c99cbaae",
   "metadata": {},
   "source": [
    "# Second order energy correction $H^{(2)}$"
   ]
  },
  {
   "cell_type": "code",
   "execution_count": 58,
   "id": "53b542e9",
   "metadata": {},
   "outputs": [],
   "source": [
    "temp = 0\n",
    "for term in (v1-h1).args:\n",
    "    if term.as_powers_dict()[ad]!= term.as_powers_dict()[a]:\n",
    "        temp += term / omega_a / (term.as_powers_dict()[ad] - term.as_powers_dict()[a])\n",
    "s1= normal(temp) * 1\n",
    "s_tot = s1 * kappa \n",
    "s_tot_1 = s1 * kappa"
   ]
  },
  {
   "cell_type": "code",
   "execution_count": 59,
   "id": "2fa9c03e",
   "metadata": {},
   "outputs": [
    {
     "name": "stdout",
     "output_type": "stream",
     "text": [
      "x\n",
      "x\n"
     ]
    }
   ],
   "source": [
    "h_tot = h0 + kappa*v \n",
    "h_eff_2 = 0\n",
    "\n",
    "temp_2 = normal(Commutator(s_tot_1, h_tot.coeff(kappa,1)*kappa**1).doit() )\n",
    "temp_1 = normal(Commutator(s_tot_1, h_tot.coeff(kappa,0)*kappa**0).doit() )\n",
    "print('x')\n",
    "h_eff_2 += temp_2\n",
    "\n",
    "temp_2 = normal(Commutator(s_tot_1, temp_1).doit())\n",
    "print('x')\n",
    "h_eff_2 += sp.Rational(1,2) * temp_2\n",
    "\n",
    "h_eff_2 = h_eff_2.expand()"
   ]
  },
  {
   "cell_type": "code",
   "execution_count": 60,
   "id": "bf9e51b4",
   "metadata": {},
   "outputs": [],
   "source": [
    "v2 = normal(h_eff_2.coeff(kappa,2))"
   ]
  },
  {
   "cell_type": "code",
   "execution_count": 61,
   "id": "eb7d9e64",
   "metadata": {},
   "outputs": [
    {
     "data": {
      "text/latex": [
       "$\\displaystyle - \\frac{11 g_{3}^{2}}{\\omega_{s}} - \\frac{18 g_{3}^{2} b_{s}^{2}}{\\omega_{s}} + \\frac{3 g_{3}^{2} b_{s}^{4}}{\\omega_{s}} - \\frac{60 g_{3}^{2} {b^\\dagger_{s}} b_{s}}{\\omega_{s}} - \\frac{12 g_{3}^{2} {b^\\dagger_{s}} b_{s}^{3}}{\\omega_{s}} - \\frac{18 g_{3}^{2} {b^\\dagger_{s}}^{2}}{\\omega_{s}} - \\frac{30 g_{3}^{2} {b^\\dagger_{s}}^{2} b_{s}^{2}}{\\omega_{s}} - \\frac{12 g_{3}^{2} {b^\\dagger_{s}}^{3} b_{s}}{\\omega_{s}} + \\frac{3 g_{3}^{2} {b^\\dagger_{s}}^{4}}{\\omega_{s}} - \\frac{122 g_{3} g_{4} b_{s}}{\\omega_{s}} - \\frac{48 g_{3} g_{4} b_{s}^{3}}{\\omega_{s}} + \\frac{11 g_{3} g_{4} b_{s}^{5}}{2 \\omega_{s}} - \\frac{122 g_{3} g_{4} {b^\\dagger_{s}}}{\\omega_{s}} - \\frac{597 g_{3} g_{4} {b^\\dagger_{s}} b_{s}^{2}}{2 \\omega_{s}} - \\frac{24 g_{3} g_{4} {b^\\dagger_{s}} b_{s}^{4}}{\\omega_{s}} - \\frac{597 g_{3} g_{4} {b^\\dagger_{s}}^{2} b_{s}}{2 \\omega_{s}} - \\frac{199 g_{3} g_{4} {b^\\dagger_{s}}^{2} b_{s}^{3}}{2 \\omega_{s}} - \\frac{48 g_{3} g_{4} {b^\\dagger_{s}}^{3}}{\\omega_{s}} - \\frac{199 g_{3} g_{4} {b^\\dagger_{s}}^{3} b_{s}^{2}}{2 \\omega_{s}} - \\frac{24 g_{3} g_{4} {b^\\dagger_{s}}^{4} b_{s}}{\\omega_{s}} + \\frac{11 g_{3} g_{4} {b^\\dagger_{s}}^{5}}{2 \\omega_{s}} - \\frac{122 g_{3} g_{5} b_{s}}{\\omega_{s}} - \\frac{48 g_{3} g_{5} b_{s}^{3}}{\\omega_{s}} + \\frac{11 g_{3} g_{5} b_{s}^{5}}{2 \\omega_{s}} - \\frac{122 g_{3} g_{5} {b^\\dagger_{s}}}{\\omega_{s}} - \\frac{597 g_{3} g_{5} {b^\\dagger_{s}} b_{s}^{2}}{2 \\omega_{s}} - \\frac{24 g_{3} g_{5} {b^\\dagger_{s}} b_{s}^{4}}{\\omega_{s}} - \\frac{597 g_{3} g_{5} {b^\\dagger_{s}}^{2} b_{s}}{2 \\omega_{s}} - \\frac{199 g_{3} g_{5} {b^\\dagger_{s}}^{2} b_{s}^{3}}{2 \\omega_{s}} - \\frac{48 g_{3} g_{5} {b^\\dagger_{s}}^{3}}{\\omega_{s}} - \\frac{199 g_{3} g_{5} {b^\\dagger_{s}}^{3} b_{s}^{2}}{2 \\omega_{s}} - \\frac{24 g_{3} g_{5} {b^\\dagger_{s}}^{4} b_{s}}{\\omega_{s}} + \\frac{11 g_{3} g_{5} {b^\\dagger_{s}}^{5}}{2 \\omega_{s}} - \\frac{122 g_{3} g_{6} b_{s}}{\\omega_{s}} - \\frac{48 g_{3} g_{6} b_{s}^{3}}{\\omega_{s}} + \\frac{11 g_{3} g_{6} b_{s}^{5}}{2 \\omega_{s}} - \\frac{122 g_{3} g_{6} {b^\\dagger_{s}}}{\\omega_{s}} - \\frac{597 g_{3} g_{6} {b^\\dagger_{s}} b_{s}^{2}}{2 \\omega_{s}} - \\frac{24 g_{3} g_{6} {b^\\dagger_{s}} b_{s}^{4}}{\\omega_{s}} - \\frac{597 g_{3} g_{6} {b^\\dagger_{s}}^{2} b_{s}}{2 \\omega_{s}} - \\frac{199 g_{3} g_{6} {b^\\dagger_{s}}^{2} b_{s}^{3}}{2 \\omega_{s}} - \\frac{48 g_{3} g_{6} {b^\\dagger_{s}}^{3}}{\\omega_{s}} - \\frac{199 g_{3} g_{6} {b^\\dagger_{s}}^{3} b_{s}^{2}}{2 \\omega_{s}} - \\frac{24 g_{3} g_{6} {b^\\dagger_{s}}^{4} b_{s}}{\\omega_{s}} + \\frac{11 g_{3} g_{6} {b^\\dagger_{s}}^{5}}{2 \\omega_{s}} - \\frac{42 g_{4}^{2}}{\\omega_{s}} - \\frac{171 g_{4}^{2} b_{s}^{2}}{\\omega_{s}} - \\frac{30 g_{4}^{2} b_{s}^{4}}{\\omega_{s}} + \\frac{2 g_{4}^{2} b_{s}^{6}}{\\omega_{s}} - \\frac{288 g_{4}^{2} {b^\\dagger_{s}} b_{s}}{\\omega_{s}} - \\frac{264 g_{4}^{2} {b^\\dagger_{s}} b_{s}^{3}}{\\omega_{s}} - \\frac{12 g_{4}^{2} {b^\\dagger_{s}} b_{s}^{5}}{\\omega_{s}} - \\frac{171 g_{4}^{2} {b^\\dagger_{s}}^{2}}{\\omega_{s}} - \\frac{306 g_{4}^{2} {b^\\dagger_{s}}^{2} b_{s}^{2}}{\\omega_{s}} - \\frac{66 g_{4}^{2} {b^\\dagger_{s}}^{2} b_{s}^{4}}{\\omega_{s}} - \\frac{264 g_{4}^{2} {b^\\dagger_{s}}^{3} b_{s}}{\\omega_{s}} - \\frac{68 g_{4}^{2} {b^\\dagger_{s}}^{3} b_{s}^{3}}{\\omega_{s}} - \\frac{30 g_{4}^{2} {b^\\dagger_{s}}^{4}}{\\omega_{s}} - \\frac{66 g_{4}^{2} {b^\\dagger_{s}}^{4} b_{s}^{2}}{\\omega_{s}} - \\frac{12 g_{4}^{2} {b^\\dagger_{s}}^{5} b_{s}}{\\omega_{s}} + \\frac{2 g_{4}^{2} {b^\\dagger_{s}}^{6}}{\\omega_{s}} - \\frac{84 g_{4} g_{5}}{\\omega_{s}} - \\frac{342 g_{4} g_{5} b_{s}^{2}}{\\omega_{s}} - \\frac{60 g_{4} g_{5} b_{s}^{4}}{\\omega_{s}} + \\frac{4 g_{4} g_{5} b_{s}^{6}}{\\omega_{s}} - \\frac{576 g_{4} g_{5} {b^\\dagger_{s}} b_{s}}{\\omega_{s}} - \\frac{528 g_{4} g_{5} {b^\\dagger_{s}} b_{s}^{3}}{\\omega_{s}} - \\frac{24 g_{4} g_{5} {b^\\dagger_{s}} b_{s}^{5}}{\\omega_{s}} - \\frac{342 g_{4} g_{5} {b^\\dagger_{s}}^{2}}{\\omega_{s}} - \\frac{612 g_{4} g_{5} {b^\\dagger_{s}}^{2} b_{s}^{2}}{\\omega_{s}} - \\frac{132 g_{4} g_{5} {b^\\dagger_{s}}^{2} b_{s}^{4}}{\\omega_{s}} - \\frac{528 g_{4} g_{5} {b^\\dagger_{s}}^{3} b_{s}}{\\omega_{s}} - \\frac{136 g_{4} g_{5} {b^\\dagger_{s}}^{3} b_{s}^{3}}{\\omega_{s}} - \\frac{60 g_{4} g_{5} {b^\\dagger_{s}}^{4}}{\\omega_{s}} - \\frac{132 g_{4} g_{5} {b^\\dagger_{s}}^{4} b_{s}^{2}}{\\omega_{s}} - \\frac{24 g_{4} g_{5} {b^\\dagger_{s}}^{5} b_{s}}{\\omega_{s}} + \\frac{4 g_{4} g_{5} {b^\\dagger_{s}}^{6}}{\\omega_{s}} - \\frac{84 g_{4} g_{6}}{\\omega_{s}} - \\frac{342 g_{4} g_{6} b_{s}^{2}}{\\omega_{s}} - \\frac{60 g_{4} g_{6} b_{s}^{4}}{\\omega_{s}} + \\frac{4 g_{4} g_{6} b_{s}^{6}}{\\omega_{s}} - \\frac{576 g_{4} g_{6} {b^\\dagger_{s}} b_{s}}{\\omega_{s}} - \\frac{528 g_{4} g_{6} {b^\\dagger_{s}} b_{s}^{3}}{\\omega_{s}} - \\frac{24 g_{4} g_{6} {b^\\dagger_{s}} b_{s}^{5}}{\\omega_{s}} - \\frac{342 g_{4} g_{6} {b^\\dagger_{s}}^{2}}{\\omega_{s}} - \\frac{612 g_{4} g_{6} {b^\\dagger_{s}}^{2} b_{s}^{2}}{\\omega_{s}} - \\frac{132 g_{4} g_{6} {b^\\dagger_{s}}^{2} b_{s}^{4}}{\\omega_{s}} - \\frac{528 g_{4} g_{6} {b^\\dagger_{s}}^{3} b_{s}}{\\omega_{s}} - \\frac{136 g_{4} g_{6} {b^\\dagger_{s}}^{3} b_{s}^{3}}{\\omega_{s}} - \\frac{60 g_{4} g_{6} {b^\\dagger_{s}}^{4}}{\\omega_{s}} - \\frac{132 g_{4} g_{6} {b^\\dagger_{s}}^{4} b_{s}^{2}}{\\omega_{s}} - \\frac{24 g_{4} g_{6} {b^\\dagger_{s}}^{5} b_{s}}{\\omega_{s}} + \\frac{4 g_{4} g_{6} {b^\\dagger_{s}}^{6}}{\\omega_{s}} - \\frac{42 g_{5}^{2}}{\\omega_{s}} - \\frac{171 g_{5}^{2} b_{s}^{2}}{\\omega_{s}} - \\frac{30 g_{5}^{2} b_{s}^{4}}{\\omega_{s}} + \\frac{2 g_{5}^{2} b_{s}^{6}}{\\omega_{s}} - \\frac{288 g_{5}^{2} {b^\\dagger_{s}} b_{s}}{\\omega_{s}} - \\frac{264 g_{5}^{2} {b^\\dagger_{s}} b_{s}^{3}}{\\omega_{s}} - \\frac{12 g_{5}^{2} {b^\\dagger_{s}} b_{s}^{5}}{\\omega_{s}} - \\frac{171 g_{5}^{2} {b^\\dagger_{s}}^{2}}{\\omega_{s}} - \\frac{306 g_{5}^{2} {b^\\dagger_{s}}^{2} b_{s}^{2}}{\\omega_{s}} - \\frac{66 g_{5}^{2} {b^\\dagger_{s}}^{2} b_{s}^{4}}{\\omega_{s}} - \\frac{264 g_{5}^{2} {b^\\dagger_{s}}^{3} b_{s}}{\\omega_{s}} - \\frac{68 g_{5}^{2} {b^\\dagger_{s}}^{3} b_{s}^{3}}{\\omega_{s}} - \\frac{30 g_{5}^{2} {b^\\dagger_{s}}^{4}}{\\omega_{s}} - \\frac{66 g_{5}^{2} {b^\\dagger_{s}}^{4} b_{s}^{2}}{\\omega_{s}} - \\frac{12 g_{5}^{2} {b^\\dagger_{s}}^{5} b_{s}}{\\omega_{s}} + \\frac{2 g_{5}^{2} {b^\\dagger_{s}}^{6}}{\\omega_{s}} - \\frac{84 g_{5} g_{6}}{\\omega_{s}} - \\frac{342 g_{5} g_{6} b_{s}^{2}}{\\omega_{s}} - \\frac{60 g_{5} g_{6} b_{s}^{4}}{\\omega_{s}} + \\frac{4 g_{5} g_{6} b_{s}^{6}}{\\omega_{s}} - \\frac{576 g_{5} g_{6} {b^\\dagger_{s}} b_{s}}{\\omega_{s}} - \\frac{528 g_{5} g_{6} {b^\\dagger_{s}} b_{s}^{3}}{\\omega_{s}} - \\frac{24 g_{5} g_{6} {b^\\dagger_{s}} b_{s}^{5}}{\\omega_{s}} - \\frac{342 g_{5} g_{6} {b^\\dagger_{s}}^{2}}{\\omega_{s}} - \\frac{612 g_{5} g_{6} {b^\\dagger_{s}}^{2} b_{s}^{2}}{\\omega_{s}} - \\frac{132 g_{5} g_{6} {b^\\dagger_{s}}^{2} b_{s}^{4}}{\\omega_{s}} - \\frac{528 g_{5} g_{6} {b^\\dagger_{s}}^{3} b_{s}}{\\omega_{s}} - \\frac{136 g_{5} g_{6} {b^\\dagger_{s}}^{3} b_{s}^{3}}{\\omega_{s}} - \\frac{60 g_{5} g_{6} {b^\\dagger_{s}}^{4}}{\\omega_{s}} - \\frac{132 g_{5} g_{6} {b^\\dagger_{s}}^{4} b_{s}^{2}}{\\omega_{s}} - \\frac{24 g_{5} g_{6} {b^\\dagger_{s}}^{5} b_{s}}{\\omega_{s}} + \\frac{4 g_{5} g_{6} {b^\\dagger_{s}}^{6}}{\\omega_{s}} - \\frac{42 g_{6}^{2}}{\\omega_{s}} - \\frac{171 g_{6}^{2} b_{s}^{2}}{\\omega_{s}} - \\frac{30 g_{6}^{2} b_{s}^{4}}{\\omega_{s}} + \\frac{2 g_{6}^{2} b_{s}^{6}}{\\omega_{s}} - \\frac{288 g_{6}^{2} {b^\\dagger_{s}} b_{s}}{\\omega_{s}} - \\frac{264 g_{6}^{2} {b^\\dagger_{s}} b_{s}^{3}}{\\omega_{s}} - \\frac{12 g_{6}^{2} {b^\\dagger_{s}} b_{s}^{5}}{\\omega_{s}} - \\frac{171 g_{6}^{2} {b^\\dagger_{s}}^{2}}{\\omega_{s}} - \\frac{306 g_{6}^{2} {b^\\dagger_{s}}^{2} b_{s}^{2}}{\\omega_{s}} - \\frac{66 g_{6}^{2} {b^\\dagger_{s}}^{2} b_{s}^{4}}{\\omega_{s}} - \\frac{264 g_{6}^{2} {b^\\dagger_{s}}^{3} b_{s}}{\\omega_{s}} - \\frac{68 g_{6}^{2} {b^\\dagger_{s}}^{3} b_{s}^{3}}{\\omega_{s}} - \\frac{30 g_{6}^{2} {b^\\dagger_{s}}^{4}}{\\omega_{s}} - \\frac{66 g_{6}^{2} {b^\\dagger_{s}}^{4} b_{s}^{2}}{\\omega_{s}} - \\frac{12 g_{6}^{2} {b^\\dagger_{s}}^{5} b_{s}}{\\omega_{s}} + \\frac{2 g_{6}^{2} {b^\\dagger_{s}}^{6}}{\\omega_{s}}$"
      ],
      "text/plain": [
       "-11*g3**2/omega_s - 18*g3**2*AnnihilateBoson(s)**2/omega_s + 3*g3**2*AnnihilateBoson(s)**4/omega_s - 60*g3**2*CreateBoson(s)*AnnihilateBoson(s)/omega_s - 12*g3**2*CreateBoson(s)*AnnihilateBoson(s)**3/omega_s - 18*g3**2*CreateBoson(s)**2/omega_s - 30*g3**2*CreateBoson(s)**2*AnnihilateBoson(s)**2/omega_s - 12*g3**2*CreateBoson(s)**3*AnnihilateBoson(s)/omega_s + 3*g3**2*CreateBoson(s)**4/omega_s - 122*g3*g4*AnnihilateBoson(s)/omega_s - 48*g3*g4*AnnihilateBoson(s)**3/omega_s + 11*g3*g4*AnnihilateBoson(s)**5/(2*omega_s) - 122*g3*g4*CreateBoson(s)/omega_s - 597*g3*g4*CreateBoson(s)*AnnihilateBoson(s)**2/(2*omega_s) - 24*g3*g4*CreateBoson(s)*AnnihilateBoson(s)**4/omega_s - 597*g3*g4*CreateBoson(s)**2*AnnihilateBoson(s)/(2*omega_s) - 199*g3*g4*CreateBoson(s)**2*AnnihilateBoson(s)**3/(2*omega_s) - 48*g3*g4*CreateBoson(s)**3/omega_s - 199*g3*g4*CreateBoson(s)**3*AnnihilateBoson(s)**2/(2*omega_s) - 24*g3*g4*CreateBoson(s)**4*AnnihilateBoson(s)/omega_s + 11*g3*g4*CreateBoson(s)**5/(2*omega_s) - 122*g3*g5*AnnihilateBoson(s)/omega_s - 48*g3*g5*AnnihilateBoson(s)**3/omega_s + 11*g3*g5*AnnihilateBoson(s)**5/(2*omega_s) - 122*g3*g5*CreateBoson(s)/omega_s - 597*g3*g5*CreateBoson(s)*AnnihilateBoson(s)**2/(2*omega_s) - 24*g3*g5*CreateBoson(s)*AnnihilateBoson(s)**4/omega_s - 597*g3*g5*CreateBoson(s)**2*AnnihilateBoson(s)/(2*omega_s) - 199*g3*g5*CreateBoson(s)**2*AnnihilateBoson(s)**3/(2*omega_s) - 48*g3*g5*CreateBoson(s)**3/omega_s - 199*g3*g5*CreateBoson(s)**3*AnnihilateBoson(s)**2/(2*omega_s) - 24*g3*g5*CreateBoson(s)**4*AnnihilateBoson(s)/omega_s + 11*g3*g5*CreateBoson(s)**5/(2*omega_s) - 122*g3*g6*AnnihilateBoson(s)/omega_s - 48*g3*g6*AnnihilateBoson(s)**3/omega_s + 11*g3*g6*AnnihilateBoson(s)**5/(2*omega_s) - 122*g3*g6*CreateBoson(s)/omega_s - 597*g3*g6*CreateBoson(s)*AnnihilateBoson(s)**2/(2*omega_s) - 24*g3*g6*CreateBoson(s)*AnnihilateBoson(s)**4/omega_s - 597*g3*g6*CreateBoson(s)**2*AnnihilateBoson(s)/(2*omega_s) - 199*g3*g6*CreateBoson(s)**2*AnnihilateBoson(s)**3/(2*omega_s) - 48*g3*g6*CreateBoson(s)**3/omega_s - 199*g3*g6*CreateBoson(s)**3*AnnihilateBoson(s)**2/(2*omega_s) - 24*g3*g6*CreateBoson(s)**4*AnnihilateBoson(s)/omega_s + 11*g3*g6*CreateBoson(s)**5/(2*omega_s) - 42*g4**2/omega_s - 171*g4**2*AnnihilateBoson(s)**2/omega_s - 30*g4**2*AnnihilateBoson(s)**4/omega_s + 2*g4**2*AnnihilateBoson(s)**6/omega_s - 288*g4**2*CreateBoson(s)*AnnihilateBoson(s)/omega_s - 264*g4**2*CreateBoson(s)*AnnihilateBoson(s)**3/omega_s - 12*g4**2*CreateBoson(s)*AnnihilateBoson(s)**5/omega_s - 171*g4**2*CreateBoson(s)**2/omega_s - 306*g4**2*CreateBoson(s)**2*AnnihilateBoson(s)**2/omega_s - 66*g4**2*CreateBoson(s)**2*AnnihilateBoson(s)**4/omega_s - 264*g4**2*CreateBoson(s)**3*AnnihilateBoson(s)/omega_s - 68*g4**2*CreateBoson(s)**3*AnnihilateBoson(s)**3/omega_s - 30*g4**2*CreateBoson(s)**4/omega_s - 66*g4**2*CreateBoson(s)**4*AnnihilateBoson(s)**2/omega_s - 12*g4**2*CreateBoson(s)**5*AnnihilateBoson(s)/omega_s + 2*g4**2*CreateBoson(s)**6/omega_s - 84*g4*g5/omega_s - 342*g4*g5*AnnihilateBoson(s)**2/omega_s - 60*g4*g5*AnnihilateBoson(s)**4/omega_s + 4*g4*g5*AnnihilateBoson(s)**6/omega_s - 576*g4*g5*CreateBoson(s)*AnnihilateBoson(s)/omega_s - 528*g4*g5*CreateBoson(s)*AnnihilateBoson(s)**3/omega_s - 24*g4*g5*CreateBoson(s)*AnnihilateBoson(s)**5/omega_s - 342*g4*g5*CreateBoson(s)**2/omega_s - 612*g4*g5*CreateBoson(s)**2*AnnihilateBoson(s)**2/omega_s - 132*g4*g5*CreateBoson(s)**2*AnnihilateBoson(s)**4/omega_s - 528*g4*g5*CreateBoson(s)**3*AnnihilateBoson(s)/omega_s - 136*g4*g5*CreateBoson(s)**3*AnnihilateBoson(s)**3/omega_s - 60*g4*g5*CreateBoson(s)**4/omega_s - 132*g4*g5*CreateBoson(s)**4*AnnihilateBoson(s)**2/omega_s - 24*g4*g5*CreateBoson(s)**5*AnnihilateBoson(s)/omega_s + 4*g4*g5*CreateBoson(s)**6/omega_s - 84*g4*g6/omega_s - 342*g4*g6*AnnihilateBoson(s)**2/omega_s - 60*g4*g6*AnnihilateBoson(s)**4/omega_s + 4*g4*g6*AnnihilateBoson(s)**6/omega_s - 576*g4*g6*CreateBoson(s)*AnnihilateBoson(s)/omega_s - 528*g4*g6*CreateBoson(s)*AnnihilateBoson(s)**3/omega_s - 24*g4*g6*CreateBoson(s)*AnnihilateBoson(s)**5/omega_s - 342*g4*g6*CreateBoson(s)**2/omega_s - 612*g4*g6*CreateBoson(s)**2*AnnihilateBoson(s)**2/omega_s - 132*g4*g6*CreateBoson(s)**2*AnnihilateBoson(s)**4/omega_s - 528*g4*g6*CreateBoson(s)**3*AnnihilateBoson(s)/omega_s - 136*g4*g6*CreateBoson(s)**3*AnnihilateBoson(s)**3/omega_s - 60*g4*g6*CreateBoson(s)**4/omega_s - 132*g4*g6*CreateBoson(s)**4*AnnihilateBoson(s)**2/omega_s - 24*g4*g6*CreateBoson(s)**5*AnnihilateBoson(s)/omega_s + 4*g4*g6*CreateBoson(s)**6/omega_s - 42*g5**2/omega_s - 171*g5**2*AnnihilateBoson(s)**2/omega_s - 30*g5**2*AnnihilateBoson(s)**4/omega_s + 2*g5**2*AnnihilateBoson(s)**6/omega_s - 288*g5**2*CreateBoson(s)*AnnihilateBoson(s)/omega_s - 264*g5**2*CreateBoson(s)*AnnihilateBoson(s)**3/omega_s - 12*g5**2*CreateBoson(s)*AnnihilateBoson(s)**5/omega_s - 171*g5**2*CreateBoson(s)**2/omega_s - 306*g5**2*CreateBoson(s)**2*AnnihilateBoson(s)**2/omega_s - 66*g5**2*CreateBoson(s)**2*AnnihilateBoson(s)**4/omega_s - 264*g5**2*CreateBoson(s)**3*AnnihilateBoson(s)/omega_s - 68*g5**2*CreateBoson(s)**3*AnnihilateBoson(s)**3/omega_s - 30*g5**2*CreateBoson(s)**4/omega_s - 66*g5**2*CreateBoson(s)**4*AnnihilateBoson(s)**2/omega_s - 12*g5**2*CreateBoson(s)**5*AnnihilateBoson(s)/omega_s + 2*g5**2*CreateBoson(s)**6/omega_s - 84*g5*g6/omega_s - 342*g5*g6*AnnihilateBoson(s)**2/omega_s - 60*g5*g6*AnnihilateBoson(s)**4/omega_s + 4*g5*g6*AnnihilateBoson(s)**6/omega_s - 576*g5*g6*CreateBoson(s)*AnnihilateBoson(s)/omega_s - 528*g5*g6*CreateBoson(s)*AnnihilateBoson(s)**3/omega_s - 24*g5*g6*CreateBoson(s)*AnnihilateBoson(s)**5/omega_s - 342*g5*g6*CreateBoson(s)**2/omega_s - 612*g5*g6*CreateBoson(s)**2*AnnihilateBoson(s)**2/omega_s - 132*g5*g6*CreateBoson(s)**2*AnnihilateBoson(s)**4/omega_s - 528*g5*g6*CreateBoson(s)**3*AnnihilateBoson(s)/omega_s - 136*g5*g6*CreateBoson(s)**3*AnnihilateBoson(s)**3/omega_s - 60*g5*g6*CreateBoson(s)**4/omega_s - 132*g5*g6*CreateBoson(s)**4*AnnihilateBoson(s)**2/omega_s - 24*g5*g6*CreateBoson(s)**5*AnnihilateBoson(s)/omega_s + 4*g5*g6*CreateBoson(s)**6/omega_s - 42*g6**2/omega_s - 171*g6**2*AnnihilateBoson(s)**2/omega_s - 30*g6**2*AnnihilateBoson(s)**4/omega_s + 2*g6**2*AnnihilateBoson(s)**6/omega_s - 288*g6**2*CreateBoson(s)*AnnihilateBoson(s)/omega_s - 264*g6**2*CreateBoson(s)*AnnihilateBoson(s)**3/omega_s - 12*g6**2*CreateBoson(s)*AnnihilateBoson(s)**5/omega_s - 171*g6**2*CreateBoson(s)**2/omega_s - 306*g6**2*CreateBoson(s)**2*AnnihilateBoson(s)**2/omega_s - 66*g6**2*CreateBoson(s)**2*AnnihilateBoson(s)**4/omega_s - 264*g6**2*CreateBoson(s)**3*AnnihilateBoson(s)/omega_s - 68*g6**2*CreateBoson(s)**3*AnnihilateBoson(s)**3/omega_s - 30*g6**2*CreateBoson(s)**4/omega_s - 66*g6**2*CreateBoson(s)**4*AnnihilateBoson(s)**2/omega_s - 12*g6**2*CreateBoson(s)**5*AnnihilateBoson(s)/omega_s + 2*g6**2*CreateBoson(s)**6/omega_s"
      ]
     },
     "execution_count": 61,
     "metadata": {},
     "output_type": "execute_result"
    }
   ],
   "source": [
    "v2"
   ]
  },
  {
   "cell_type": "code",
   "execution_count": 62,
   "id": "a3dbf601",
   "metadata": {},
   "outputs": [
    {
     "data": {
      "text/latex": [
       "$\\displaystyle - \\frac{30 g_{3}^{2}}{\\omega_{s}} - \\frac{306 g_{4}^{2}}{\\omega_{s}} - \\frac{612 g_{4} g_{5}}{\\omega_{s}} - \\frac{612 g_{4} g_{6}}{\\omega_{s}} - \\frac{306 g_{5}^{2}}{\\omega_{s}} - \\frac{612 g_{5} g_{6}}{\\omega_{s}} - \\frac{306 g_{6}^{2}}{\\omega_{s}}$"
      ],
      "text/plain": [
       "-30*g3**2/omega_s - 306*g4**2/omega_s - 612*g4*g5/omega_s - 612*g4*g6/omega_s - 306*g5**2/omega_s - 612*g5*g6/omega_s - 306*g6**2/omega_s"
      ]
     },
     "execution_count": 62,
     "metadata": {},
     "output_type": "execute_result"
    }
   ],
   "source": [
    "temp = 0\n",
    "for term in v2.args:\n",
    "    if term.as_powers_dict()[ad] == term.as_powers_dict()[a]:\n",
    "        temp += term\n",
    "h2 = temp * 1\n",
    "h2.coeff(ad*a)\n",
    "h2.coeff(ad**2*a**2)"
   ]
  },
  {
   "cell_type": "code",
   "execution_count": 63,
   "id": "c8402b3b",
   "metadata": {},
   "outputs": [
    {
     "data": {
      "text/latex": [
       "$\\displaystyle - \\frac{60 g_{3}^{2}}{\\omega_{s}} - \\frac{288 g_{4}^{2}}{\\omega_{s}} - \\frac{576 g_{4} g_{5}}{\\omega_{s}} - \\frac{576 g_{4} g_{6}}{\\omega_{s}} + 12 g_{4} - \\frac{288 g_{5}^{2}}{\\omega_{s}} - \\frac{576 g_{5} g_{6}}{\\omega_{s}} + 12 g_{5} - \\frac{288 g_{6}^{2}}{\\omega_{s}} + 12 g_{6}$"
      ],
      "text/plain": [
       "-60*g3**2/omega_s - 288*g4**2/omega_s - 576*g4*g5/omega_s - 576*g4*g6/omega_s + 12*g4 - 288*g5**2/omega_s - 576*g5*g6/omega_s + 12*g5 - 288*g6**2/omega_s + 12*g6"
      ]
     },
     "execution_count": 63,
     "metadata": {},
     "output_type": "execute_result"
    }
   ],
   "source": [
    "h1.coeff(ad*a)+h2.coeff(ad*a)"
   ]
  },
  {
   "cell_type": "code",
   "execution_count": 64,
   "id": "0302dcf7",
   "metadata": {},
   "outputs": [
    {
     "data": {
      "text/latex": [
       "$\\displaystyle - \\frac{30 g_{3}^{2}}{\\omega_{s}} - \\frac{306 g_{4}^{2}}{\\omega_{s}} - \\frac{612 g_{4} g_{5}}{\\omega_{s}} - \\frac{612 g_{4} g_{6}}{\\omega_{s}} + 6 g_{4} - \\frac{306 g_{5}^{2}}{\\omega_{s}} - \\frac{612 g_{5} g_{6}}{\\omega_{s}} + 6 g_{5} - \\frac{306 g_{6}^{2}}{\\omega_{s}} + 6 g_{6}$"
      ],
      "text/plain": [
       "-30*g3**2/omega_s - 306*g4**2/omega_s - 612*g4*g5/omega_s - 612*g4*g6/omega_s + 6*g4 - 306*g5**2/omega_s - 612*g5*g6/omega_s + 6*g5 - 306*g6**2/omega_s + 6*g6"
      ]
     },
     "execution_count": 64,
     "metadata": {},
     "output_type": "execute_result"
    }
   ],
   "source": [
    "h1.coeff(ad**2*a**2)+h2.coeff(ad**2*a**2)"
   ]
  },
  {
   "cell_type": "code",
   "execution_count": 65,
   "id": "8444b978",
   "metadata": {},
   "outputs": [],
   "source": [
    "temp = 0\n",
    "for term in (v2-h2).args:\n",
    "    if term.as_powers_dict()[ad] != term.as_powers_dict()[a]:\n",
    "        temp += term / omega_a / (term.as_powers_dict()[ad] - term.as_powers_dict()[a])\n",
    "s2 = normal(temp) * 1"
   ]
  },
  {
   "cell_type": "code",
   "execution_count": 66,
   "id": "7daf906b",
   "metadata": {},
   "outputs": [
    {
     "data": {
      "text/latex": [
       "$\\displaystyle - \\frac{60 g_{3}^{2}}{\\omega_{s}} - \\frac{288 g_{4}^{2}}{\\omega_{s}} - \\frac{576 g_{4} g_{5}}{\\omega_{s}} - \\frac{576 g_{4} g_{6}}{\\omega_{s}} - \\frac{288 g_{5}^{2}}{\\omega_{s}} - \\frac{576 g_{5} g_{6}}{\\omega_{s}} - \\frac{288 g_{6}^{2}}{\\omega_{s}}$"
      ],
      "text/plain": [
       "-60*g3**2/omega_s - 288*g4**2/omega_s - 576*g4*g5/omega_s - 576*g4*g6/omega_s - 288*g5**2/omega_s - 576*g5*g6/omega_s - 288*g6**2/omega_s"
      ]
     },
     "execution_count": 66,
     "metadata": {},
     "output_type": "execute_result"
    }
   ],
   "source": [
    "h2.coeff(ad*a)"
   ]
  },
  {
   "cell_type": "code",
   "execution_count": 67,
   "id": "f4fd9abf",
   "metadata": {},
   "outputs": [],
   "source": [
    "omega_sp=h1.coeff(ad*a)+h2.coeff(ad*a)+omega_a\n",
    "anh = h1.coeff(ad**2*a**2)+h2.coeff(ad**2*a**2)"
   ]
  },
  {
   "cell_type": "code",
   "execution_count": 68,
   "id": "3aa1c7fe",
   "metadata": {},
   "outputs": [],
   "source": [
    "omega_sp = -60*g3**2/omega_a+12*g4+12*g5+12*g6+omega_a"
   ]
  },
  {
   "cell_type": "code",
   "execution_count": 69,
   "id": "f8ddb3ec",
   "metadata": {},
   "outputs": [],
   "source": [
    "anh = omega_sp/2-omega_a/2"
   ]
  },
  {
   "cell_type": "code",
   "execution_count": 70,
   "id": "ef80335a",
   "metadata": {},
   "outputs": [
    {
     "data": {
      "text/latex": [
       "$\\displaystyle - \\frac{30 g_{3}^{2}}{\\omega_{s}} + 6 g_{4} + 6 g_{5} + 6 g_{6}$"
      ],
      "text/plain": [
       "-30*g3**2/omega_s + 6*g4 + 6*g5 + 6*g6"
      ]
     },
     "execution_count": 70,
     "metadata": {},
     "output_type": "execute_result"
    }
   ],
   "source": [
    "anh "
   ]
  },
  {
   "cell_type": "code",
   "execution_count": 119,
   "id": "0c4e1dc8",
   "metadata": {},
   "outputs": [],
   "source": [
    "Ej = symbols('E_j')\n",
    "Ec = symbols('E_c')\n",
    "c2 = symbols('c_2')\n",
    "c3 = symbols('c_3')\n",
    "c4 = symbols('c_4')\n",
    "c5 = symbols('c_5')\n",
    "c6 = symbols('c_6')\n",
    "def gn(num):\n",
    "    phi_zpf = (2*Ec/(c2*Ej))**(sp.Rational(1,4))\n",
    "    return phi_zpf**num/sp.factorial(num)*Ej"
   ]
  },
  {
   "cell_type": "code",
   "execution_count": 123,
   "id": "6d258bff",
   "metadata": {},
   "outputs": [
    {
     "data": {
      "text/latex": [
       "$\\displaystyle \\frac{\\sqrt{2} E_{c} c_{4}}{48 c_{2} \\sqrt{E_{c} E_{j} c_{2}}} + \\frac{2^{\\frac{3}{4}} E_{j} c_{5} \\left(\\frac{E_{c}}{E_{j} c_{2}}\\right)^{\\frac{5}{4}}}{240 \\sqrt{E_{c} E_{j} c_{2}}} + \\frac{E_{j} c_{6} \\left(\\frac{E_{c}}{E_{j} c_{2}}\\right)^{\\frac{3}{2}}}{720 \\sqrt{E_{c} E_{j} c_{2}}} - \\frac{5 \\sqrt{2} E_{j} c_{3}^{2} \\left(\\frac{E_{c}}{E_{j} c_{2}}\\right)^{\\frac{3}{2}}}{144 E_{c} c_{2}}$"
      ],
      "text/plain": [
       "sqrt(2)*E_c*c_4/(48*c_2*sqrt(E_c*E_j*c_2)) + 2**(3/4)*E_j*c_5*(E_c/(E_j*c_2))**(5/4)/(240*sqrt(E_c*E_j*c_2)) + E_j*c_6*(E_c/(E_j*c_2))**(3/2)/(720*sqrt(E_c*E_j*c_2)) - 5*sqrt(2)*E_j*c_3**2*(E_c/(E_j*c_2))**(3/2)/(144*E_c*c_2)"
      ]
     },
     "execution_count": 123,
     "metadata": {},
     "output_type": "execute_result"
    }
   ],
   "source": [
    "(anh/omega_a/6).subs([(omega_a,sp.sqrt(8*Ec*Ej*c2)),(g3,(c3*gn(3))),(g4,c4*gn(4)),(g5,c5*gn(5)),(g6,c6*gn(6))]).expand()"
   ]
  },
  {
   "cell_type": "code",
   "execution_count": 164,
   "id": "0d2a354d",
   "metadata": {},
   "outputs": [
    {
     "data": {
      "text/latex": [
       "$\\displaystyle \\frac{2^{\\frac{3}{4}} E_{j} c_{5} \\left(\\frac{E_{c}}{E_{j} c_{2}}\\right)^{\\frac{5}{4}}}{240 \\sqrt{E_{c} E_{j} c_{2}}}$"
      ],
      "text/plain": [
       "2**(3/4)*E_j*c_5*(E_c/(E_j*c_2))**(5/4)/(240*sqrt(E_c*E_j*c_2))"
      ]
     },
     "execution_count": 164,
     "metadata": {},
     "output_type": "execute_result"
    }
   ],
   "source": [
    "(g5/omega_a).subs([(omega_a,sp.sqrt(8*Ec*Ej*c2)),(g3,(c3*gn(3)).simplify()),(g4,c4*gn(4)),(g5,c5*gn(5)),(g6,c6*gn(6))]).simplify()"
   ]
  },
  {
   "cell_type": "code",
   "execution_count": null,
   "id": "bb13ce98",
   "metadata": {},
   "outputs": [],
   "source": []
  },
  {
   "cell_type": "code",
   "execution_count": 46,
   "id": "9aa6f1b8",
   "metadata": {},
   "outputs": [],
   "source": [
    "omega_a =sp.sqrt(8*Ec*Ej*c2)"
   ]
  },
  {
   "cell_type": "code",
   "execution_count": 124,
   "id": "6de3747f",
   "metadata": {},
   "outputs": [],
   "source": [
    "s1c = normal(Commutator(s1, a+ad).doit() )\n",
    "s2c = normal(Commutator(s2, a+ad).doit() )+(sp.Rational(1,2) *normal(Commutator(s1, s1c).doit() )).expand()"
   ]
  },
  {
   "cell_type": "markdown",
   "id": "b227f56f",
   "metadata": {},
   "source": [
    "# Composite system"
   ]
  },
  {
   "cell_type": "code",
   "execution_count": 128,
   "id": "a4c3931e",
   "metadata": {},
   "outputs": [],
   "source": [
    "ind_b = symbols('c')\n",
    "b = B(ind_b)\n",
    "bd = Bd(ind_b)\n",
    "omega_b = symbols('omega_c', real=True)\n",
    "def _m_normal(expr):\n",
    "    if not expr.is_Mul:\n",
    "        return expr\n",
    "    else:\n",
    "        c_part = []\n",
    "        string = []\n",
    "        for factor in expr.args:\n",
    "            if factor.is_commutative:\n",
    "                c_part.append(factor)\n",
    "            else:\n",
    "                string.append(factor)\n",
    "                \n",
    "        expr_a = 1\n",
    "        expr_b = 1\n",
    "        expr_c = 1\n",
    "        \n",
    "        for factor in string:\n",
    "            if factor.is_Pow:\n",
    "                if factor.args[0].args[0] == ind_a:\n",
    "                    expr_a *= factor\n",
    "                elif factor.args[0].args[0] == ind_b:\n",
    "                    expr_b *= factor\n",
    "                else:\n",
    "                    expr_c *= factor\n",
    "            else:\n",
    "                if factor.args[0] == ind_a:\n",
    "                    expr_a *= factor\n",
    "                elif factor.args[0] == ind_b:\n",
    "                    expr_b *= factor\n",
    "                else:\n",
    "                    expr_c *= factor\n",
    "                    \n",
    "        if expr_a != 1:\n",
    "            expr_a = normal(expr_a)\n",
    "        if expr_b != 1:\n",
    "            expr_b = normal(expr_b)\n",
    "        if expr_c != 1:\n",
    "            expr_c = normal(expr_c)\n",
    "    \n",
    "        return sp.Mul(*c_part) * expr_a * expr_b * expr_c    \n",
    "\n",
    "def m_normal(expr):\n",
    "    expr = expr.expand()\n",
    "    if isinstance(expr, sp.Add):\n",
    "        return sp.Add(*[_m_normal(term) for term in expr.args])\n",
    "    else:\n",
    "        return _m_normal(expr)"
   ]
  },
  {
   "cell_type": "code",
   "execution_count": 131,
   "id": "a3611cef",
   "metadata": {},
   "outputs": [
    {
     "data": {
      "text/latex": [
       "$\\displaystyle \\omega_{c} {b^\\dagger_{c}} b_{c} + \\left(- \\frac{60 g_{3}^{2}}{\\omega_{s}} + 12 g_{4} + 12 g_{5} + 12 g_{6} + \\omega_{s}\\right) {b^\\dagger_{s}} b_{s}$"
      ],
      "text/plain": [
       "omega_c*CreateBoson(c)*AnnihilateBoson(c) + (-60*g3**2/omega_s + 12*g4 + 12*g5 + 12*g6 + omega_s)*CreateBoson(s)*AnnihilateBoson(s)"
      ]
     },
     "execution_count": 131,
     "metadata": {},
     "output_type": "execute_result"
    }
   ],
   "source": [
    "h0"
   ]
  },
  {
   "cell_type": "code",
   "execution_count": 130,
   "id": "15c2e2ee",
   "metadata": {},
   "outputs": [],
   "source": [
    "h0 = omega_sp * ad * a+ omega_b*bd*b"
   ]
  },
  {
   "cell_type": "code",
   "execution_count": 132,
   "id": "7577642e",
   "metadata": {},
   "outputs": [],
   "source": [
    "v = (a+ad+s1c+s2c)*(b+bd)"
   ]
  },
  {
   "cell_type": "code",
   "execution_count": 133,
   "id": "52e568b5",
   "metadata": {},
   "outputs": [],
   "source": [
    "v = m_normal(v)"
   ]
  },
  {
   "cell_type": "markdown",
   "id": "8481cf64",
   "metadata": {},
   "source": [
    "# first order energy correction $H^{(1)}$, expected to be 0"
   ]
  },
  {
   "cell_type": "code",
   "execution_count": 134,
   "id": "9dedef96",
   "metadata": {},
   "outputs": [],
   "source": [
    "v1 = v"
   ]
  },
  {
   "cell_type": "code",
   "execution_count": 135,
   "id": "a36c664a",
   "metadata": {},
   "outputs": [],
   "source": [
    "temp = 0\n",
    "for term in v1.args:\n",
    "    if term.as_powers_dict()[ad] == term.as_powers_dict()[a] and term.as_powers_dict()[bd] == term.as_powers_dict()[b]:\n",
    "        temp += term\n",
    "h1 = temp * 1"
   ]
  },
  {
   "cell_type": "code",
   "execution_count": 136,
   "id": "5d3b3ced",
   "metadata": {},
   "outputs": [
    {
     "data": {
      "text/plain": [
       "0"
      ]
     },
     "execution_count": 136,
     "metadata": {},
     "output_type": "execute_result"
    }
   ],
   "source": [
    "h1"
   ]
  },
  {
   "cell_type": "code",
   "execution_count": 137,
   "id": "f54effa8",
   "metadata": {},
   "outputs": [],
   "source": [
    "temp = 0\n",
    "for term in (v1-h1).args:\n",
    "    if (term.as_powers_dict()[ad] != term.as_powers_dict()[a] or \n",
    "        term.as_powers_dict()[bd] != term.as_powers_dict()[b]  ):\n",
    "        \n",
    "        temp += term / (omega_sp * (term.as_powers_dict()[ad] - term.as_powers_dict()[a]) +\n",
    "                        omega_b * (term.as_powers_dict()[bd] - term.as_powers_dict()[b])  )\n",
    "s1 = temp * 1"
   ]
  },
  {
   "cell_type": "markdown",
   "id": "79c036d5",
   "metadata": {},
   "source": [
    "# first order generator $S^{(1)}$"
   ]
  },
  {
   "cell_type": "code",
   "execution_count": 138,
   "id": "8c57099b",
   "metadata": {},
   "outputs": [],
   "source": [
    "#"
   ]
  },
  {
   "cell_type": "markdown",
   "id": "56e4c381",
   "metadata": {},
   "source": [
    "# Second order energy correction $H^{(2)}$"
   ]
  },
  {
   "cell_type": "code",
   "execution_count": 139,
   "id": "41eaa8b2",
   "metadata": {},
   "outputs": [],
   "source": [
    "v2 = sp.Rational(1,2)*m_normal(Commutator(s1,v1).doit() )"
   ]
  },
  {
   "cell_type": "code",
   "execution_count": 140,
   "id": "df16ecc1",
   "metadata": {
    "scrolled": true
   },
   "outputs": [],
   "source": [
    "v2 = v2.expand()"
   ]
  },
  {
   "cell_type": "code",
   "execution_count": 141,
   "id": "a908fd8c",
   "metadata": {},
   "outputs": [],
   "source": [
    "temp = 0\n",
    "for term in v2.args:\n",
    "    if term.as_powers_dict()[ad] == term.as_powers_dict()[a] and term.as_powers_dict()[bd] == term.as_powers_dict()[b] and term.as_powers_dict()[b]==1 and term.as_powers_dict()[a]==0:\n",
    "        temp += term.simplify()\n",
    "h2 = temp * 1"
   ]
  },
  {
   "cell_type": "code",
   "execution_count": 157,
   "id": "3d87091a",
   "metadata": {
    "scrolled": false
   },
   "outputs": [],
   "source": [
    "E = 0\n",
    "for term in h2.args:\n",
    "    E += term.simplify()"
   ]
  },
  {
   "cell_type": "code",
   "execution_count": 160,
   "id": "13a95dfa",
   "metadata": {},
   "outputs": [
    {
     "data": {
      "text/latex": [
       "$\\displaystyle \\frac{\\omega_{s} {b^\\dagger_{c}} b_{c}}{\\omega_{c} \\omega_{s} - \\omega_{s}^{2}} + \\frac{\\omega_{s} {b^\\dagger_{c}} b_{c}}{- \\omega_{c} \\omega_{s} - \\omega_{s}^{2}} + w \\left(\\frac{12 \\omega_{s}^{3} {b^\\dagger_{c}} b_{c}}{\\left(\\omega_{c} \\omega_{s} - \\omega_{s}^{2}\\right)^{2}} + \\frac{12 \\omega_{s}^{3} {b^\\dagger_{c}} b_{c}}{\\left(- \\omega_{c} \\omega_{s} - \\omega_{s}^{2}\\right)^{2}} + \\frac{12 \\omega_{s} {b^\\dagger_{c}} b_{c}}{\\omega_{c} \\omega_{s} + \\omega_{s}^{2}} + \\frac{12 \\omega_{s} {b^\\dagger_{c}} b_{c}}{- \\omega_{c} \\omega_{s} + \\omega_{s}^{2}}\\right) + x \\left(- \\frac{60 \\omega_{s}^{3} {b^\\dagger_{c}} b_{c}}{\\left(\\omega_{c} \\omega_{s} - \\omega_{s}^{2}\\right)^{2}} - \\frac{60 \\omega_{s}^{3} {b^\\dagger_{c}} b_{c}}{\\left(- \\omega_{c} \\omega_{s} - \\omega_{s}^{2}\\right)^{2}} + \\frac{44 \\omega_{s} {b^\\dagger_{c}} b_{c}}{\\omega_{c} \\omega_{s} - \\omega_{s}^{2}} + \\frac{8 \\omega_{s} {b^\\dagger_{c}} b_{c}}{\\omega_{c} \\omega_{s} - 2 \\omega_{s}^{2}} + \\frac{44 \\omega_{s} {b^\\dagger_{c}} b_{c}}{- \\omega_{c} \\omega_{s} - \\omega_{s}^{2}} + \\frac{8 \\omega_{s} {b^\\dagger_{c}} b_{c}}{- \\omega_{c} \\omega_{s} - 2 \\omega_{s}^{2}}\\right) + y \\left(\\frac{12 \\omega_{s}^{3} {b^\\dagger_{c}} b_{c}}{\\left(\\omega_{c} \\omega_{s} - \\omega_{s}^{2}\\right)^{2}} + \\frac{12 \\omega_{s}^{3} {b^\\dagger_{c}} b_{c}}{\\left(- \\omega_{c} \\omega_{s} - \\omega_{s}^{2}\\right)^{2}} + \\frac{12 \\omega_{s} {b^\\dagger_{c}} b_{c}}{\\omega_{c} \\omega_{s} + \\omega_{s}^{2}} + \\frac{12 \\omega_{s} {b^\\dagger_{c}} b_{c}}{- \\omega_{c} \\omega_{s} + \\omega_{s}^{2}}\\right) + z \\left(\\frac{12 \\omega_{s}^{3} {b^\\dagger_{c}} b_{c}}{\\left(\\omega_{c} \\omega_{s} - \\omega_{s}^{2}\\right)^{2}} + \\frac{12 \\omega_{s}^{3} {b^\\dagger_{c}} b_{c}}{\\left(- \\omega_{c} \\omega_{s} - \\omega_{s}^{2}\\right)^{2}} + \\frac{12 \\omega_{s} {b^\\dagger_{c}} b_{c}}{\\omega_{c} \\omega_{s} + \\omega_{s}^{2}} + \\frac{12 \\omega_{s} {b^\\dagger_{c}} b_{c}}{- \\omega_{c} \\omega_{s} + \\omega_{s}^{2}}\\right)$"
      ],
      "text/plain": [
       "omega_s*CreateBoson(c)*AnnihilateBoson(c)/(omega_c*omega_s - omega_s**2) + omega_s*CreateBoson(c)*AnnihilateBoson(c)/(-omega_c*omega_s - omega_s**2) + w*(12*omega_s**3*CreateBoson(c)*AnnihilateBoson(c)/(omega_c*omega_s - omega_s**2)**2 + 12*omega_s**3*CreateBoson(c)*AnnihilateBoson(c)/(-omega_c*omega_s - omega_s**2)**2 + 12*omega_s*CreateBoson(c)*AnnihilateBoson(c)/(omega_c*omega_s + omega_s**2) + 12*omega_s*CreateBoson(c)*AnnihilateBoson(c)/(-omega_c*omega_s + omega_s**2)) + x*(-60*omega_s**3*CreateBoson(c)*AnnihilateBoson(c)/(omega_c*omega_s - omega_s**2)**2 - 60*omega_s**3*CreateBoson(c)*AnnihilateBoson(c)/(-omega_c*omega_s - omega_s**2)**2 + 44*omega_s*CreateBoson(c)*AnnihilateBoson(c)/(omega_c*omega_s - omega_s**2) + 8*omega_s*CreateBoson(c)*AnnihilateBoson(c)/(omega_c*omega_s - 2*omega_s**2) + 44*omega_s*CreateBoson(c)*AnnihilateBoson(c)/(-omega_c*omega_s - omega_s**2) + 8*omega_s*CreateBoson(c)*AnnihilateBoson(c)/(-omega_c*omega_s - 2*omega_s**2)) + y*(12*omega_s**3*CreateBoson(c)*AnnihilateBoson(c)/(omega_c*omega_s - omega_s**2)**2 + 12*omega_s**3*CreateBoson(c)*AnnihilateBoson(c)/(-omega_c*omega_s - omega_s**2)**2 + 12*omega_s*CreateBoson(c)*AnnihilateBoson(c)/(omega_c*omega_s + omega_s**2) + 12*omega_s*CreateBoson(c)*AnnihilateBoson(c)/(-omega_c*omega_s + omega_s**2)) + z*(12*omega_s**3*CreateBoson(c)*AnnihilateBoson(c)/(omega_c*omega_s - omega_s**2)**2 + 12*omega_s**3*CreateBoson(c)*AnnihilateBoson(c)/(-omega_c*omega_s - omega_s**2)**2 + 12*omega_s*CreateBoson(c)*AnnihilateBoson(c)/(omega_c*omega_s + omega_s**2) + 12*omega_s*CreateBoson(c)*AnnihilateBoson(c)/(-omega_c*omega_s + omega_s**2))"
      ]
     },
     "execution_count": 160,
     "metadata": {},
     "output_type": "execute_result"
    }
   ],
   "source": [
    "x = symbols('x', real=True)\n",
    "y= symbols('y', real=True)\n",
    "z= symbols('z', real=True)\n",
    "w= symbols('w', real=True)\n",
    "E=E.subs(g3**2,x*omega_a**2)\n",
    "E=E.subs(g4,y*omega_a)\n",
    "E=E.subs(g5,z*omega_a)\n",
    "E=E.subs(g6,w*omega_a)\n",
    "from sympy import symbols, diff\n",
    "f_0 = E.subs({x: 0, y: 0,z:0,w:0})\n",
    "df_dx = diff(E, x).subs({x: 0, y: 0,z:0,w:0}) * (x - 0)\n",
    "df_dy = diff(E, y).subs({x: 0, y: 0,z:0,w:0}) * (y - 0)\n",
    "df_dz = diff(E, z).subs({x: 0, y: 0,z:0,w:0}) * (z - 0)\n",
    "df_dw = diff(E, w).subs({x: 0, y: 0,z:0,w:0}) * (w - 0)\n",
    "taylor_first_order = f_0 + df_dx + df_dy+df_dz+df_dw\n",
    "\n",
    "taylor_first_order"
   ]
  },
  {
   "cell_type": "code",
   "execution_count": 161,
   "id": "e7615a9a",
   "metadata": {},
   "outputs": [
    {
     "data": {
      "text/latex": [
       "$\\displaystyle w \\left(\\frac{12 \\omega_{s}^{3} {b^\\dagger_{c}} b_{c}}{\\left(\\omega_{c} \\omega_{s} - \\omega_{s}^{2}\\right)^{2}} + \\frac{12 \\omega_{s}^{3} {b^\\dagger_{c}} b_{c}}{\\left(- \\omega_{c} \\omega_{s} - \\omega_{s}^{2}\\right)^{2}} + \\frac{12 \\omega_{s} {b^\\dagger_{c}} b_{c}}{\\omega_{c} \\omega_{s} + \\omega_{s}^{2}} + \\frac{12 \\omega_{s} {b^\\dagger_{c}} b_{c}}{- \\omega_{c} \\omega_{s} + \\omega_{s}^{2}}\\right)$"
      ],
      "text/plain": [
       "w*(12*omega_s**3*CreateBoson(c)*AnnihilateBoson(c)/(omega_c*omega_s - omega_s**2)**2 + 12*omega_s**3*CreateBoson(c)*AnnihilateBoson(c)/(-omega_c*omega_s - omega_s**2)**2 + 12*omega_s*CreateBoson(c)*AnnihilateBoson(c)/(omega_c*omega_s + omega_s**2) + 12*omega_s*CreateBoson(c)*AnnihilateBoson(c)/(-omega_c*omega_s + omega_s**2))"
      ]
     },
     "execution_count": 161,
     "metadata": {},
     "output_type": "execute_result"
    }
   ],
   "source": [
    "df_dw"
   ]
  },
  {
   "cell_type": "code",
   "execution_count": 149,
   "id": "aa0c67b1",
   "metadata": {},
   "outputs": [],
   "source": [
    "comp = df_dx.args[1]"
   ]
  },
  {
   "cell_type": "code",
   "execution_count": 176,
   "id": "9c09864c",
   "metadata": {},
   "outputs": [
    {
     "data": {
      "text/latex": [
       "$\\displaystyle - \\frac{16 \\omega_{s} \\left(2 \\omega_{c}^{2} {b^\\dagger_{c}} b_{c} + 13 \\omega_{s}^{2} {b^\\dagger_{c}} b_{c}\\right)}{\\omega_{c}^{4} - 2 \\omega_{c}^{2} \\omega_{s}^{2} + \\omega_{s}^{4}}$"
      ],
      "text/plain": [
       "-16*omega_s*(2*omega_c**2*CreateBoson(c)*AnnihilateBoson(c) + 13*omega_s**2*CreateBoson(c)*AnnihilateBoson(c))/(omega_c**4 - 2*omega_c**2*omega_s**2 + omega_s**4)"
      ]
     },
     "execution_count": 176,
     "metadata": {},
     "output_type": "execute_result"
    }
   ],
   "source": [
    "(comp.args[0]+comp.args[1].simplify()+comp.args[4].simplify()+comp.args[5].simplify()).simplify()"
   ]
  },
  {
   "cell_type": "code",
   "execution_count": 170,
   "id": "adb2b69e",
   "metadata": {},
   "outputs": [
    {
     "data": {
      "text/latex": [
       "$\\displaystyle \\frac{88 \\omega_{s} {b^\\dagger_{c}} b_{c}}{\\omega_{c}^{2} - \\omega_{s}^{2}}$"
      ],
      "text/plain": [
       "88*omega_s*CreateBoson(c)*AnnihilateBoson(c)/(omega_c**2 - omega_s**2)"
      ]
     },
     "execution_count": 170,
     "metadata": {},
     "output_type": "execute_result"
    }
   ],
   "source": [
    "(comp.args[4].simplify()+comp.args[5].simplify()).expand().simplify()"
   ]
  },
  {
   "cell_type": "code",
   "execution_count": 171,
   "id": "f6fa364e",
   "metadata": {},
   "outputs": [
    {
     "data": {
      "text/latex": [
       "$\\displaystyle \\frac{32 \\omega_{s} {b^\\dagger_{c}} b_{c}}{\\omega_{c}^{2} - 4 \\omega_{s}^{2}}$"
      ],
      "text/plain": [
       "32*omega_s*CreateBoson(c)*AnnihilateBoson(c)/(omega_c**2 - 4*omega_s**2)"
      ]
     },
     "execution_count": 171,
     "metadata": {},
     "output_type": "execute_result"
    }
   ],
   "source": [
    "(comp.args[2].simplify()+comp.args[3].simplify()).expand().simplify()"
   ]
  },
  {
   "cell_type": "code",
   "execution_count": 157,
   "id": "0f707a25",
   "metadata": {},
   "outputs": [
    {
     "data": {
      "text/latex": [
       "$\\displaystyle - \\frac{44 {b^\\dagger_{c}} b_{c}}{\\omega_{c} + \\omega_{s}}$"
      ],
      "text/plain": [
       "-44*CreateBoson(c)*AnnihilateBoson(c)/(omega_c + omega_s)"
      ]
     },
     "execution_count": 157,
     "metadata": {},
     "output_type": "execute_result"
    }
   ],
   "source": [
    "comp.args[5].simplify()"
   ]
  },
  {
   "cell_type": "code",
   "execution_count": 147,
   "id": "0d68e554",
   "metadata": {},
   "outputs": [
    {
     "data": {
      "text/latex": [
       "$\\displaystyle - \\frac{60 \\omega_{s}^{3} {b^\\dagger_{c}} b_{c}}{\\left(- \\omega_{c} \\omega_{s} - \\omega_{s}^{2}\\right)^{2}}$"
      ],
      "text/plain": [
       "-60*omega_s**3*CreateBoson(c)*AnnihilateBoson(c)/(-omega_c*omega_s - omega_s**2)**2"
      ]
     },
     "execution_count": 147,
     "metadata": {},
     "output_type": "execute_result"
    }
   ],
   "source": [
    "df_dx.args[1].args[1]"
   ]
  },
  {
   "cell_type": "code",
   "execution_count": 141,
   "id": "509d5d69",
   "metadata": {},
   "outputs": [
    {
     "data": {
      "text/latex": [
       "$\\displaystyle \\frac{48 \\omega_{s}^{3} y {b^\\dagger_{c}} b_{c}}{\\omega_{c}^{4} - 2 \\omega_{c}^{2} \\omega_{s}^{2} + \\omega_{s}^{4}}$"
      ],
      "text/plain": [
       "48*omega_s**3*y*CreateBoson(c)*AnnihilateBoson(c)/(omega_c**4 - 2*omega_c**2*omega_s**2 + omega_s**4)"
      ]
     },
     "execution_count": 141,
     "metadata": {},
     "output_type": "execute_result"
    }
   ],
   "source": [
    "taylor_first_order.args[1].simplify()"
   ]
  },
  {
   "cell_type": "code",
   "execution_count": null,
   "id": "88d90f3e",
   "metadata": {},
   "outputs": [],
   "source": []
  }
 ],
 "metadata": {
  "kernelspec": {
   "display_name": "Python 3 (ipykernel)",
   "language": "python",
   "name": "python3"
  },
  "language_info": {
   "codemirror_mode": {
    "name": "ipython",
    "version": 3
   },
   "file_extension": ".py",
   "mimetype": "text/x-python",
   "name": "python",
   "nbconvert_exporter": "python",
   "pygments_lexer": "ipython3",
   "version": "3.8.3"
  }
 },
 "nbformat": 4,
 "nbformat_minor": 5
}
