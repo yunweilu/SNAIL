{
 "cells": [
  {
   "cell_type": "code",
   "execution_count": 1,
   "id": "228bda19",
   "metadata": {},
   "outputs": [],
   "source": [
    "from sympy.physics.secondquant import *\n",
    "from sympy import symbols,I\n",
    "import sympy as sp\n",
    "from no import normal"
   ]
  },
  {
   "cell_type": "markdown",
   "id": "a1da53c2",
   "metadata": {},
   "source": [
    "# Only SNAIL"
   ]
  },
  {
   "cell_type": "code",
   "execution_count": 2,
   "id": "755b862f",
   "metadata": {},
   "outputs": [],
   "source": [
    "ind_a = symbols('s')\n",
    "a = B(ind_a)\n",
    "ad = Bd(ind_a)"
   ]
  },
  {
   "cell_type": "code",
   "execution_count": 3,
   "id": "9c67cf52",
   "metadata": {},
   "outputs": [],
   "source": [
    "g3 = symbols('g3', real=True)\n",
    "g4 = symbols('g4', real=True)\n",
    "g5 = symbols('g5', real=True)\n",
    "g6 = symbols('g6', real=True)\n",
    "omega_a = symbols('omega_s', real=True)\n",
    "kappa = symbols('kappa', real=True)"
   ]
  },
  {
   "cell_type": "code",
   "execution_count": 4,
   "id": "28604d84",
   "metadata": {},
   "outputs": [],
   "source": [
    "h0 = omega_a * ad * a"
   ]
  },
  {
   "cell_type": "code",
   "execution_count": 5,
   "id": "af0814f8",
   "metadata": {},
   "outputs": [],
   "source": [
    "v = normal(g3 * (a+ad)**3 +g4*(a+ad)**4 )"
   ]
  },
  {
   "cell_type": "code",
   "execution_count": 6,
   "id": "32cb4694",
   "metadata": {},
   "outputs": [],
   "source": [
    "v1 = sp.simplify(v)"
   ]
  },
  {
   "cell_type": "code",
   "execution_count": 7,
   "id": "84f41567",
   "metadata": {},
   "outputs": [],
   "source": [
    "temp = 0\n",
    "for term in v1.args:\n",
    "    if term.as_powers_dict()[ad] == term.as_powers_dict()[a]:\n",
    "        temp += term\n",
    "h1 = temp * 1"
   ]
  },
  {
   "cell_type": "markdown",
   "id": "68b6fe0a",
   "metadata": {},
   "source": [
    "# first order energy correction $H^{(1)}$"
   ]
  },
  {
   "cell_type": "code",
   "execution_count": 8,
   "id": "75d9c6ba",
   "metadata": {},
   "outputs": [
    {
     "data": {
      "text/latex": [
       "$\\displaystyle 3 g_{4} + 12 g_{4} {b^\\dagger_{s}} b_{s} + 6 g_{4} {b^\\dagger_{s}}^{2} b_{s}^{2}$"
      ],
      "text/plain": [
       "3*g4 + 12*g4*CreateBoson(s)*AnnihilateBoson(s) + 6*g4*CreateBoson(s)**2*AnnihilateBoson(s)**2"
      ]
     },
     "execution_count": 8,
     "metadata": {},
     "output_type": "execute_result"
    }
   ],
   "source": [
    "h1"
   ]
  },
  {
   "cell_type": "markdown",
   "id": "b92b1463",
   "metadata": {},
   "source": [
    "# first order generator $S^{(1)}$"
   ]
  },
  {
   "cell_type": "code",
   "execution_count": 9,
   "id": "105a9020",
   "metadata": {},
   "outputs": [],
   "source": [
    "temp = 0\n",
    "for term in (v1-h1).args:\n",
    "    if term.as_powers_dict()[ad]!= term.as_powers_dict()[a]:\n",
    "        temp += term / omega_a / (term.as_powers_dict()[ad] - term.as_powers_dict()[a])\n",
    "s1= normal(temp) * 1\n",
    "s_tot = s1\n",
    "s_tot_1 = s1"
   ]
  },
  {
   "cell_type": "code",
   "execution_count": 10,
   "id": "f9313f36",
   "metadata": {},
   "outputs": [
    {
     "data": {
      "text/latex": [
       "$\\displaystyle 3 g_{3} b_{s} + g_{3} b_{s}^{3} + 3 g_{3} {b^\\dagger_{s}} + 3 g_{3} {b^\\dagger_{s}} b_{s}^{2} + 3 g_{3} {b^\\dagger_{s}}^{2} b_{s} + g_{3} {b^\\dagger_{s}}^{3} + 6 g_{4} b_{s}^{2} + g_{4} b_{s}^{4} + 4 g_{4} {b^\\dagger_{s}} b_{s}^{3} + 6 g_{4} {b^\\dagger_{s}}^{2} + 4 g_{4} {b^\\dagger_{s}}^{3} b_{s} + g_{4} {b^\\dagger_{s}}^{4}$"
      ],
      "text/plain": [
       "3*g3*AnnihilateBoson(s) + g3*AnnihilateBoson(s)**3 + 3*g3*CreateBoson(s) + 3*g3*CreateBoson(s)*AnnihilateBoson(s)**2 + 3*g3*CreateBoson(s)**2*AnnihilateBoson(s) + g3*CreateBoson(s)**3 + 6*g4*AnnihilateBoson(s)**2 + g4*AnnihilateBoson(s)**4 + 4*g4*CreateBoson(s)*AnnihilateBoson(s)**3 + 6*g4*CreateBoson(s)**2 + 4*g4*CreateBoson(s)**3*AnnihilateBoson(s) + g4*CreateBoson(s)**4"
      ]
     },
     "execution_count": 10,
     "metadata": {},
     "output_type": "execute_result"
    }
   ],
   "source": [
    "v1-h1"
   ]
  },
  {
   "cell_type": "code",
   "execution_count": 11,
   "id": "ccf7d064",
   "metadata": {},
   "outputs": [
    {
     "data": {
      "text/latex": [
       "$\\displaystyle - \\frac{3 g_{3} b_{s}}{\\omega_{s}} - \\frac{g_{3} b_{s}^{3}}{3 \\omega_{s}} + \\frac{3 g_{3} {b^\\dagger_{s}}}{\\omega_{s}} - \\frac{3 g_{3} {b^\\dagger_{s}} b_{s}^{2}}{\\omega_{s}} + \\frac{3 g_{3} {b^\\dagger_{s}}^{2} b_{s}}{\\omega_{s}} + \\frac{g_{3} {b^\\dagger_{s}}^{3}}{3 \\omega_{s}} - \\frac{3 g_{4} b_{s}^{2}}{\\omega_{s}} - \\frac{g_{4} b_{s}^{4}}{4 \\omega_{s}} - \\frac{2 g_{4} {b^\\dagger_{s}} b_{s}^{3}}{\\omega_{s}} + \\frac{3 g_{4} {b^\\dagger_{s}}^{2}}{\\omega_{s}} + \\frac{2 g_{4} {b^\\dagger_{s}}^{3} b_{s}}{\\omega_{s}} + \\frac{g_{4} {b^\\dagger_{s}}^{4}}{4 \\omega_{s}}$"
      ],
      "text/plain": [
       "-3*g3*AnnihilateBoson(s)/omega_s - g3*AnnihilateBoson(s)**3/(3*omega_s) + 3*g3*CreateBoson(s)/omega_s - 3*g3*CreateBoson(s)*AnnihilateBoson(s)**2/omega_s + 3*g3*CreateBoson(s)**2*AnnihilateBoson(s)/omega_s + g3*CreateBoson(s)**3/(3*omega_s) - 3*g4*AnnihilateBoson(s)**2/omega_s - g4*AnnihilateBoson(s)**4/(4*omega_s) - 2*g4*CreateBoson(s)*AnnihilateBoson(s)**3/omega_s + 3*g4*CreateBoson(s)**2/omega_s + 2*g4*CreateBoson(s)**3*AnnihilateBoson(s)/omega_s + g4*CreateBoson(s)**4/(4*omega_s)"
      ]
     },
     "execution_count": 11,
     "metadata": {},
     "output_type": "execute_result"
    }
   ],
   "source": [
    "s1"
   ]
  },
  {
   "cell_type": "markdown",
   "id": "c99cbaae",
   "metadata": {},
   "source": [
    "# Second order energy correction $H^{(2)}$"
   ]
  },
  {
   "cell_type": "code",
   "execution_count": 12,
   "id": "53b542e9",
   "metadata": {},
   "outputs": [],
   "source": [
    "temp = 0\n",
    "for term in (v1-h1).args:\n",
    "    if term.as_powers_dict()[ad]!= term.as_powers_dict()[a]:\n",
    "        temp += term / omega_a / (term.as_powers_dict()[ad] - term.as_powers_dict()[a])\n",
    "s1= normal(temp) * 1\n",
    "s_tot = s1 * kappa \n",
    "s_tot_1 = s1 * kappa"
   ]
  },
  {
   "cell_type": "code",
   "execution_count": 13,
   "id": "2fa9c03e",
   "metadata": {},
   "outputs": [
    {
     "name": "stdout",
     "output_type": "stream",
     "text": [
      "x\n",
      "x\n"
     ]
    }
   ],
   "source": [
    "h_tot = h0 + kappa*v \n",
    "h_eff_2 = 0\n",
    "\n",
    "temp_2 = normal(Commutator(s_tot_1, h_tot.coeff(kappa,1)*kappa**1).doit() )\n",
    "temp_1 = normal(Commutator(s_tot_1, h_tot.coeff(kappa,0)*kappa**0).doit() )\n",
    "print('x')\n",
    "h_eff_2 += temp_2\n",
    "\n",
    "temp_2 = normal(Commutator(s_tot_1, temp_1).doit())\n",
    "print('x')\n",
    "h_eff_2 += sp.Rational(1,2) * temp_2\n",
    "\n",
    "h_eff_2 = h_eff_2.expand()"
   ]
  },
  {
   "cell_type": "code",
   "execution_count": 14,
   "id": "bf9e51b4",
   "metadata": {},
   "outputs": [],
   "source": [
    "v2 = normal(h_eff_2.coeff(kappa,2))"
   ]
  },
  {
   "cell_type": "code",
   "execution_count": 15,
   "id": "eb7d9e64",
   "metadata": {},
   "outputs": [
    {
     "data": {
      "text/latex": [
       "$\\displaystyle - \\frac{11 g_{3}^{2}}{\\omega_{s}} - \\frac{18 g_{3}^{2} b_{s}^{2}}{\\omega_{s}} + \\frac{3 g_{3}^{2} b_{s}^{4}}{\\omega_{s}} - \\frac{60 g_{3}^{2} {b^\\dagger_{s}} b_{s}}{\\omega_{s}} - \\frac{12 g_{3}^{2} {b^\\dagger_{s}} b_{s}^{3}}{\\omega_{s}} - \\frac{18 g_{3}^{2} {b^\\dagger_{s}}^{2}}{\\omega_{s}} - \\frac{30 g_{3}^{2} {b^\\dagger_{s}}^{2} b_{s}^{2}}{\\omega_{s}} - \\frac{12 g_{3}^{2} {b^\\dagger_{s}}^{3} b_{s}}{\\omega_{s}} + \\frac{3 g_{3}^{2} {b^\\dagger_{s}}^{4}}{\\omega_{s}} - \\frac{122 g_{3} g_{4} b_{s}}{\\omega_{s}} - \\frac{48 g_{3} g_{4} b_{s}^{3}}{\\omega_{s}} + \\frac{11 g_{3} g_{4} b_{s}^{5}}{2 \\omega_{s}} - \\frac{122 g_{3} g_{4} {b^\\dagger_{s}}}{\\omega_{s}} - \\frac{597 g_{3} g_{4} {b^\\dagger_{s}} b_{s}^{2}}{2 \\omega_{s}} - \\frac{24 g_{3} g_{4} {b^\\dagger_{s}} b_{s}^{4}}{\\omega_{s}} - \\frac{597 g_{3} g_{4} {b^\\dagger_{s}}^{2} b_{s}}{2 \\omega_{s}} - \\frac{199 g_{3} g_{4} {b^\\dagger_{s}}^{2} b_{s}^{3}}{2 \\omega_{s}} - \\frac{48 g_{3} g_{4} {b^\\dagger_{s}}^{3}}{\\omega_{s}} - \\frac{199 g_{3} g_{4} {b^\\dagger_{s}}^{3} b_{s}^{2}}{2 \\omega_{s}} - \\frac{24 g_{3} g_{4} {b^\\dagger_{s}}^{4} b_{s}}{\\omega_{s}} + \\frac{11 g_{3} g_{4} {b^\\dagger_{s}}^{5}}{2 \\omega_{s}} - \\frac{42 g_{4}^{2}}{\\omega_{s}} - \\frac{171 g_{4}^{2} b_{s}^{2}}{\\omega_{s}} - \\frac{30 g_{4}^{2} b_{s}^{4}}{\\omega_{s}} + \\frac{2 g_{4}^{2} b_{s}^{6}}{\\omega_{s}} - \\frac{288 g_{4}^{2} {b^\\dagger_{s}} b_{s}}{\\omega_{s}} - \\frac{264 g_{4}^{2} {b^\\dagger_{s}} b_{s}^{3}}{\\omega_{s}} - \\frac{12 g_{4}^{2} {b^\\dagger_{s}} b_{s}^{5}}{\\omega_{s}} - \\frac{171 g_{4}^{2} {b^\\dagger_{s}}^{2}}{\\omega_{s}} - \\frac{306 g_{4}^{2} {b^\\dagger_{s}}^{2} b_{s}^{2}}{\\omega_{s}} - \\frac{66 g_{4}^{2} {b^\\dagger_{s}}^{2} b_{s}^{4}}{\\omega_{s}} - \\frac{264 g_{4}^{2} {b^\\dagger_{s}}^{3} b_{s}}{\\omega_{s}} - \\frac{68 g_{4}^{2} {b^\\dagger_{s}}^{3} b_{s}^{3}}{\\omega_{s}} - \\frac{30 g_{4}^{2} {b^\\dagger_{s}}^{4}}{\\omega_{s}} - \\frac{66 g_{4}^{2} {b^\\dagger_{s}}^{4} b_{s}^{2}}{\\omega_{s}} - \\frac{12 g_{4}^{2} {b^\\dagger_{s}}^{5} b_{s}}{\\omega_{s}} + \\frac{2 g_{4}^{2} {b^\\dagger_{s}}^{6}}{\\omega_{s}}$"
      ],
      "text/plain": [
       "-11*g3**2/omega_s - 18*g3**2*AnnihilateBoson(s)**2/omega_s + 3*g3**2*AnnihilateBoson(s)**4/omega_s - 60*g3**2*CreateBoson(s)*AnnihilateBoson(s)/omega_s - 12*g3**2*CreateBoson(s)*AnnihilateBoson(s)**3/omega_s - 18*g3**2*CreateBoson(s)**2/omega_s - 30*g3**2*CreateBoson(s)**2*AnnihilateBoson(s)**2/omega_s - 12*g3**2*CreateBoson(s)**3*AnnihilateBoson(s)/omega_s + 3*g3**2*CreateBoson(s)**4/omega_s - 122*g3*g4*AnnihilateBoson(s)/omega_s - 48*g3*g4*AnnihilateBoson(s)**3/omega_s + 11*g3*g4*AnnihilateBoson(s)**5/(2*omega_s) - 122*g3*g4*CreateBoson(s)/omega_s - 597*g3*g4*CreateBoson(s)*AnnihilateBoson(s)**2/(2*omega_s) - 24*g3*g4*CreateBoson(s)*AnnihilateBoson(s)**4/omega_s - 597*g3*g4*CreateBoson(s)**2*AnnihilateBoson(s)/(2*omega_s) - 199*g3*g4*CreateBoson(s)**2*AnnihilateBoson(s)**3/(2*omega_s) - 48*g3*g4*CreateBoson(s)**3/omega_s - 199*g3*g4*CreateBoson(s)**3*AnnihilateBoson(s)**2/(2*omega_s) - 24*g3*g4*CreateBoson(s)**4*AnnihilateBoson(s)/omega_s + 11*g3*g4*CreateBoson(s)**5/(2*omega_s) - 42*g4**2/omega_s - 171*g4**2*AnnihilateBoson(s)**2/omega_s - 30*g4**2*AnnihilateBoson(s)**4/omega_s + 2*g4**2*AnnihilateBoson(s)**6/omega_s - 288*g4**2*CreateBoson(s)*AnnihilateBoson(s)/omega_s - 264*g4**2*CreateBoson(s)*AnnihilateBoson(s)**3/omega_s - 12*g4**2*CreateBoson(s)*AnnihilateBoson(s)**5/omega_s - 171*g4**2*CreateBoson(s)**2/omega_s - 306*g4**2*CreateBoson(s)**2*AnnihilateBoson(s)**2/omega_s - 66*g4**2*CreateBoson(s)**2*AnnihilateBoson(s)**4/omega_s - 264*g4**2*CreateBoson(s)**3*AnnihilateBoson(s)/omega_s - 68*g4**2*CreateBoson(s)**3*AnnihilateBoson(s)**3/omega_s - 30*g4**2*CreateBoson(s)**4/omega_s - 66*g4**2*CreateBoson(s)**4*AnnihilateBoson(s)**2/omega_s - 12*g4**2*CreateBoson(s)**5*AnnihilateBoson(s)/omega_s + 2*g4**2*CreateBoson(s)**6/omega_s"
      ]
     },
     "execution_count": 15,
     "metadata": {},
     "output_type": "execute_result"
    }
   ],
   "source": [
    "v2"
   ]
  },
  {
   "cell_type": "code",
   "execution_count": 16,
   "id": "a3dbf601",
   "metadata": {},
   "outputs": [
    {
     "data": {
      "text/latex": [
       "$\\displaystyle - \\frac{30 g_{3}^{2}}{\\omega_{s}} - \\frac{306 g_{4}^{2}}{\\omega_{s}}$"
      ],
      "text/plain": [
       "-30*g3**2/omega_s - 306*g4**2/omega_s"
      ]
     },
     "execution_count": 16,
     "metadata": {},
     "output_type": "execute_result"
    }
   ],
   "source": [
    "temp = 0\n",
    "for term in v2.args:\n",
    "    if term.as_powers_dict()[ad] == term.as_powers_dict()[a]:\n",
    "        temp += term\n",
    "h2 = temp * 1\n",
    "h2.coeff(ad*a)\n",
    "h2.coeff(ad**2*a**2)"
   ]
  },
  {
   "cell_type": "code",
   "execution_count": 17,
   "id": "8444b978",
   "metadata": {},
   "outputs": [],
   "source": [
    "temp = 0\n",
    "for term in (v2-h2).args:\n",
    "    if term.as_powers_dict()[ad] != term.as_powers_dict()[a]:\n",
    "        temp += term / omega_a / (term.as_powers_dict()[ad] - term.as_powers_dict()[a])\n",
    "s2 = normal(temp) * 1"
   ]
  },
  {
   "cell_type": "code",
   "execution_count": 18,
   "id": "7daf906b",
   "metadata": {},
   "outputs": [
    {
     "data": {
      "text/latex": [
       "$\\displaystyle - \\frac{60 g_{3}^{2}}{\\omega_{s}} - \\frac{288 g_{4}^{2}}{\\omega_{s}}$"
      ],
      "text/plain": [
       "-60*g3**2/omega_s - 288*g4**2/omega_s"
      ]
     },
     "execution_count": 18,
     "metadata": {},
     "output_type": "execute_result"
    }
   ],
   "source": [
    "h2.coeff(ad*a)"
   ]
  },
  {
   "cell_type": "code",
   "execution_count": 19,
   "id": "f4fd9abf",
   "metadata": {},
   "outputs": [],
   "source": [
    "omega_sp=h1.coeff(ad*a)+h2.coeff(ad*a)+omega_a\n",
    "anh = h1.coeff(ad**2*a**2)+h2.coeff(ad**2*a**2)"
   ]
  },
  {
   "cell_type": "code",
   "execution_count": 20,
   "id": "3aa1c7fe",
   "metadata": {},
   "outputs": [
    {
     "data": {
      "text/latex": [
       "$\\displaystyle - \\frac{60 g_{3}^{2}}{\\omega_{s}} - \\frac{288 g_{4}^{2}}{\\omega_{s}} + 12 g_{4} + \\omega_{s}$"
      ],
      "text/plain": [
       "-60*g3**2/omega_s - 288*g4**2/omega_s + 12*g4 + omega_s"
      ]
     },
     "execution_count": 20,
     "metadata": {},
     "output_type": "execute_result"
    }
   ],
   "source": [
    "omega_sp"
   ]
  },
  {
   "cell_type": "code",
   "execution_count": 21,
   "id": "3f6c8c56",
   "metadata": {},
   "outputs": [],
   "source": [
    "s1c = normal(Commutator(s1, ((a+ad))).doit() )\n",
    "s2c = normal(Commutator(s2, ((a+ad))).doit() )+(sp.Rational(1,2) *normal(Commutator(s1, s1c).doit() )).expand()"
   ]
  },
  {
   "cell_type": "code",
   "execution_count": 32,
   "id": "5d0c5e93",
   "metadata": {},
   "outputs": [
    {
     "data": {
      "text/latex": [
       "$\\displaystyle - \\frac{6 g_{4} b_{s}}{\\omega_{s}} - \\frac{6 g_{4} {b^\\dagger_{s}}}{\\omega_{s}}$"
      ],
      "text/plain": [
       "-6*g4*AnnihilateBoson(s)/omega_s - 6*g4*CreateBoson(s)/omega_s"
      ]
     },
     "execution_count": 32,
     "metadata": {},
     "output_type": "execute_result"
    }
   ],
   "source": [
    "s1c.args[3]+s1c.args[4]"
   ]
  },
  {
   "cell_type": "code",
   "execution_count": 23,
   "id": "6c78b392",
   "metadata": {},
   "outputs": [
    {
     "data": {
      "text/latex": [
       "$\\displaystyle - \\frac{6 g_{3}}{\\omega_{s}} + \\frac{2 g_{3} b_{s}^{2}}{\\omega_{s}} - \\frac{12 g_{3} {b^\\dagger_{s}} b_{s}}{\\omega_{s}} + \\frac{2 g_{3} {b^\\dagger_{s}}^{2}}{\\omega_{s}} - \\frac{6 g_{4} b_{s}}{\\omega_{s}} + \\frac{g_{4} b_{s}^{3}}{\\omega_{s}} - \\frac{6 g_{4} {b^\\dagger_{s}}}{\\omega_{s}} - \\frac{6 g_{4} {b^\\dagger_{s}} b_{s}^{2}}{\\omega_{s}} - \\frac{6 g_{4} {b^\\dagger_{s}}^{2} b_{s}}{\\omega_{s}} + \\frac{g_{4} {b^\\dagger_{s}}^{3}}{\\omega_{s}}$"
      ],
      "text/plain": [
       "-6*g3/omega_s + 2*g3*AnnihilateBoson(s)**2/omega_s - 12*g3*CreateBoson(s)*AnnihilateBoson(s)/omega_s + 2*g3*CreateBoson(s)**2/omega_s - 6*g4*AnnihilateBoson(s)/omega_s + g4*AnnihilateBoson(s)**3/omega_s - 6*g4*CreateBoson(s)/omega_s - 6*g4*CreateBoson(s)*AnnihilateBoson(s)**2/omega_s - 6*g4*CreateBoson(s)**2*AnnihilateBoson(s)/omega_s + g4*CreateBoson(s)**3/omega_s"
      ]
     },
     "execution_count": 23,
     "metadata": {},
     "output_type": "execute_result"
    }
   ],
   "source": [
    "normal(Commutator(s1, ((a+ad))).doit() )"
   ]
  },
  {
   "cell_type": "markdown",
   "id": "b227f56f",
   "metadata": {},
   "source": [
    "# Composite system"
   ]
  },
  {
   "cell_type": "code",
   "execution_count": 24,
   "id": "a4c3931e",
   "metadata": {},
   "outputs": [],
   "source": [
    "ind_b = symbols('c')\n",
    "b = B(ind_b)\n",
    "bd = Bd(ind_b)\n",
    "omega_b = symbols('omega_c', real=True)\n",
    "def _m_normal(expr):\n",
    "    if not expr.is_Mul:\n",
    "        return expr\n",
    "    else:\n",
    "        c_part = []\n",
    "        string = []\n",
    "        for factor in expr.args:\n",
    "            if factor.is_commutative:\n",
    "                c_part.append(factor)\n",
    "            else:\n",
    "                string.append(factor)\n",
    "                \n",
    "        expr_a = 1\n",
    "        expr_b = 1\n",
    "        expr_c = 1\n",
    "        \n",
    "        for factor in string:\n",
    "            if factor.is_Pow:\n",
    "                if factor.args[0].args[0] == ind_a:\n",
    "                    expr_a *= factor\n",
    "                elif factor.args[0].args[0] == ind_b:\n",
    "                    expr_b *= factor\n",
    "                else:\n",
    "                    expr_c *= factor\n",
    "            else:\n",
    "                if factor.args[0] == ind_a:\n",
    "                    expr_a *= factor\n",
    "                elif factor.args[0] == ind_b:\n",
    "                    expr_b *= factor\n",
    "                else:\n",
    "                    expr_c *= factor\n",
    "                    \n",
    "        if expr_a != 1:\n",
    "            expr_a = normal(expr_a)\n",
    "        if expr_b != 1:\n",
    "            expr_b = normal(expr_b)\n",
    "        if expr_c != 1:\n",
    "            expr_c = normal(expr_c)\n",
    "    \n",
    "        return sp.Mul(*c_part) * expr_a * expr_b * expr_c    \n",
    "\n",
    "def m_normal(expr):\n",
    "    expr = expr.expand()\n",
    "    if isinstance(expr, sp.Add):\n",
    "        return sp.Add(*[_m_normal(term) for term in expr.args])\n",
    "    else:\n",
    "        return _m_normal(expr)"
   ]
  },
  {
   "cell_type": "code",
   "execution_count": 25,
   "id": "a3611cef",
   "metadata": {},
   "outputs": [
    {
     "data": {
      "text/latex": [
       "$\\displaystyle \\omega_{s} {b^\\dagger_{s}} b_{s}$"
      ],
      "text/plain": [
       "omega_s*CreateBoson(s)*AnnihilateBoson(s)"
      ]
     },
     "execution_count": 25,
     "metadata": {},
     "output_type": "execute_result"
    }
   ],
   "source": [
    "h0"
   ]
  },
  {
   "cell_type": "code",
   "execution_count": 26,
   "id": "15c2e2ee",
   "metadata": {},
   "outputs": [],
   "source": [
    "h0 = omega_sp * ad * a+ omega_b*bd*b"
   ]
  },
  {
   "cell_type": "code",
   "execution_count": 27,
   "id": "7577642e",
   "metadata": {},
   "outputs": [],
   "source": [
    "v = ((a+ad)+s1c)*(b+bd)"
   ]
  },
  {
   "cell_type": "code",
   "execution_count": 28,
   "id": "52e568b5",
   "metadata": {},
   "outputs": [],
   "source": [
    "v = m_normal(v)"
   ]
  },
  {
   "cell_type": "markdown",
   "id": "8481cf64",
   "metadata": {},
   "source": [
    "# first order energy correction $H^{(1)}$, expected to be 0"
   ]
  },
  {
   "cell_type": "code",
   "execution_count": 29,
   "id": "9dedef96",
   "metadata": {},
   "outputs": [],
   "source": [
    "v1 = v"
   ]
  },
  {
   "cell_type": "code",
   "execution_count": 30,
   "id": "a36c664a",
   "metadata": {},
   "outputs": [],
   "source": [
    "temp = 0\n",
    "for term in v1.args:\n",
    "    if term.as_powers_dict()[ad] == term.as_powers_dict()[a] and term.as_powers_dict()[bd] == term.as_powers_dict()[b]:\n",
    "        temp += term\n",
    "h1 = temp * 1"
   ]
  },
  {
   "cell_type": "code",
   "execution_count": 31,
   "id": "5d3b3ced",
   "metadata": {},
   "outputs": [
    {
     "data": {
      "text/plain": [
       "0"
      ]
     },
     "execution_count": 31,
     "metadata": {},
     "output_type": "execute_result"
    }
   ],
   "source": [
    "h1"
   ]
  },
  {
   "cell_type": "code",
   "execution_count": 32,
   "id": "f54effa8",
   "metadata": {},
   "outputs": [],
   "source": [
    "temp = 0\n",
    "for term in (v1-h1).args:\n",
    "    if (term.as_powers_dict()[ad] != term.as_powers_dict()[a] or \n",
    "        term.as_powers_dict()[bd] != term.as_powers_dict()[b]  ):\n",
    "        \n",
    "        temp += term / (omega_sp * (term.as_powers_dict()[ad] - term.as_powers_dict()[a]) +\n",
    "                        omega_b * (term.as_powers_dict()[bd] - term.as_powers_dict()[b])  )\n",
    "s1 = temp * 1"
   ]
  },
  {
   "cell_type": "markdown",
   "id": "79c036d5",
   "metadata": {},
   "source": [
    "# first order generator $S^{(1)}$"
   ]
  },
  {
   "cell_type": "code",
   "execution_count": 33,
   "id": "8c57099b",
   "metadata": {},
   "outputs": [
    {
     "data": {
      "text/latex": [
       "$\\displaystyle \\frac{2 g_{3} b_{s}^{2} {b^\\dagger_{c}}}{\\omega_{s} \\left(\\frac{120 g_{3}^{2}}{\\omega_{s}} + \\frac{576 g_{4}^{2}}{\\omega_{s}} - 24 g_{4} + \\omega_{c} - 2 \\omega_{s}\\right)} + \\frac{2 g_{3} b_{s}^{2} b_{c}}{\\omega_{s} \\left(\\frac{120 g_{3}^{2}}{\\omega_{s}} + \\frac{576 g_{4}^{2}}{\\omega_{s}} - 24 g_{4} - \\omega_{c} - 2 \\omega_{s}\\right)} + \\frac{2 g_{3} {b^\\dagger_{s}}^{2} {b^\\dagger_{c}}}{\\omega_{s} \\left(- \\frac{120 g_{3}^{2}}{\\omega_{s}} - \\frac{576 g_{4}^{2}}{\\omega_{s}} + 24 g_{4} + \\omega_{c} + 2 \\omega_{s}\\right)} + \\frac{2 g_{3} {b^\\dagger_{s}}^{2} b_{c}}{\\omega_{s} \\left(- \\frac{120 g_{3}^{2}}{\\omega_{s}} - \\frac{576 g_{4}^{2}}{\\omega_{s}} + 24 g_{4} - \\omega_{c} + 2 \\omega_{s}\\right)} + \\frac{6 g_{3} b_{c}}{\\omega_{c} \\omega_{s}} - \\frac{6 g_{3} {b^\\dagger_{c}}}{\\omega_{c} \\omega_{s}} + \\frac{12 g_{3} {b^\\dagger_{s}} b_{s} b_{c}}{\\omega_{c} \\omega_{s}} - \\frac{12 g_{3} {b^\\dagger_{s}} b_{s} {b^\\dagger_{c}}}{\\omega_{c} \\omega_{s}} + \\frac{g_{4} b_{s}^{3} {b^\\dagger_{c}}}{\\omega_{s} \\left(\\frac{180 g_{3}^{2}}{\\omega_{s}} + \\frac{864 g_{4}^{2}}{\\omega_{s}} - 36 g_{4} + \\omega_{c} - 3 \\omega_{s}\\right)} + \\frac{g_{4} b_{s}^{3} b_{c}}{\\omega_{s} \\left(\\frac{180 g_{3}^{2}}{\\omega_{s}} + \\frac{864 g_{4}^{2}}{\\omega_{s}} - 36 g_{4} - \\omega_{c} - 3 \\omega_{s}\\right)} - \\frac{6 g_{4} b_{s} {b^\\dagger_{c}}}{\\omega_{s} \\left(\\frac{60 g_{3}^{2}}{\\omega_{s}} + \\frac{288 g_{4}^{2}}{\\omega_{s}} - 12 g_{4} + \\omega_{c} - \\omega_{s}\\right)} - \\frac{6 g_{4} {b^\\dagger_{s}} b_{s}^{2} {b^\\dagger_{c}}}{\\omega_{s} \\left(\\frac{60 g_{3}^{2}}{\\omega_{s}} + \\frac{288 g_{4}^{2}}{\\omega_{s}} - 12 g_{4} + \\omega_{c} - \\omega_{s}\\right)} - \\frac{6 g_{4} b_{s} b_{c}}{\\omega_{s} \\left(\\frac{60 g_{3}^{2}}{\\omega_{s}} + \\frac{288 g_{4}^{2}}{\\omega_{s}} - 12 g_{4} - \\omega_{c} - \\omega_{s}\\right)} - \\frac{6 g_{4} {b^\\dagger_{s}} b_{s}^{2} b_{c}}{\\omega_{s} \\left(\\frac{60 g_{3}^{2}}{\\omega_{s}} + \\frac{288 g_{4}^{2}}{\\omega_{s}} - 12 g_{4} - \\omega_{c} - \\omega_{s}\\right)} - \\frac{6 g_{4} {b^\\dagger_{s}} {b^\\dagger_{c}}}{\\omega_{s} \\left(- \\frac{60 g_{3}^{2}}{\\omega_{s}} - \\frac{288 g_{4}^{2}}{\\omega_{s}} + 12 g_{4} + \\omega_{c} + \\omega_{s}\\right)} - \\frac{6 g_{4} {b^\\dagger_{s}}^{2} b_{s} {b^\\dagger_{c}}}{\\omega_{s} \\left(- \\frac{60 g_{3}^{2}}{\\omega_{s}} - \\frac{288 g_{4}^{2}}{\\omega_{s}} + 12 g_{4} + \\omega_{c} + \\omega_{s}\\right)} - \\frac{6 g_{4} {b^\\dagger_{s}} b_{c}}{\\omega_{s} \\left(- \\frac{60 g_{3}^{2}}{\\omega_{s}} - \\frac{288 g_{4}^{2}}{\\omega_{s}} + 12 g_{4} - \\omega_{c} + \\omega_{s}\\right)} - \\frac{6 g_{4} {b^\\dagger_{s}}^{2} b_{s} b_{c}}{\\omega_{s} \\left(- \\frac{60 g_{3}^{2}}{\\omega_{s}} - \\frac{288 g_{4}^{2}}{\\omega_{s}} + 12 g_{4} - \\omega_{c} + \\omega_{s}\\right)} + \\frac{g_{4} {b^\\dagger_{s}}^{3} {b^\\dagger_{c}}}{\\omega_{s} \\left(- \\frac{180 g_{3}^{2}}{\\omega_{s}} - \\frac{864 g_{4}^{2}}{\\omega_{s}} + 36 g_{4} + \\omega_{c} + 3 \\omega_{s}\\right)} + \\frac{g_{4} {b^\\dagger_{s}}^{3} b_{c}}{\\omega_{s} \\left(- \\frac{180 g_{3}^{2}}{\\omega_{s}} - \\frac{864 g_{4}^{2}}{\\omega_{s}} + 36 g_{4} - \\omega_{c} + 3 \\omega_{s}\\right)} + \\frac{b_{s} {b^\\dagger_{c}}}{\\frac{60 g_{3}^{2}}{\\omega_{s}} + \\frac{288 g_{4}^{2}}{\\omega_{s}} - 12 g_{4} + \\omega_{c} - \\omega_{s}} + \\frac{b_{s} b_{c}}{\\frac{60 g_{3}^{2}}{\\omega_{s}} + \\frac{288 g_{4}^{2}}{\\omega_{s}} - 12 g_{4} - \\omega_{c} - \\omega_{s}} + \\frac{{b^\\dagger_{s}} {b^\\dagger_{c}}}{- \\frac{60 g_{3}^{2}}{\\omega_{s}} - \\frac{288 g_{4}^{2}}{\\omega_{s}} + 12 g_{4} + \\omega_{c} + \\omega_{s}} + \\frac{{b^\\dagger_{s}} b_{c}}{- \\frac{60 g_{3}^{2}}{\\omega_{s}} - \\frac{288 g_{4}^{2}}{\\omega_{s}} + 12 g_{4} - \\omega_{c} + \\omega_{s}}$"
      ],
      "text/plain": [
       "2*g3*AnnihilateBoson(s)**2*CreateBoson(c)/(omega_s*(120*g3**2/omega_s + 576*g4**2/omega_s - 24*g4 + omega_c - 2*omega_s)) + 2*g3*AnnihilateBoson(s)**2*AnnihilateBoson(c)/(omega_s*(120*g3**2/omega_s + 576*g4**2/omega_s - 24*g4 - omega_c - 2*omega_s)) + 2*g3*CreateBoson(s)**2*CreateBoson(c)/(omega_s*(-120*g3**2/omega_s - 576*g4**2/omega_s + 24*g4 + omega_c + 2*omega_s)) + 2*g3*CreateBoson(s)**2*AnnihilateBoson(c)/(omega_s*(-120*g3**2/omega_s - 576*g4**2/omega_s + 24*g4 - omega_c + 2*omega_s)) + 6*g3*AnnihilateBoson(c)/(omega_c*omega_s) - 6*g3*CreateBoson(c)/(omega_c*omega_s) + 12*g3*CreateBoson(s)*AnnihilateBoson(s)*AnnihilateBoson(c)/(omega_c*omega_s) - 12*g3*CreateBoson(s)*AnnihilateBoson(s)*CreateBoson(c)/(omega_c*omega_s) + g4*AnnihilateBoson(s)**3*CreateBoson(c)/(omega_s*(180*g3**2/omega_s + 864*g4**2/omega_s - 36*g4 + omega_c - 3*omega_s)) + g4*AnnihilateBoson(s)**3*AnnihilateBoson(c)/(omega_s*(180*g3**2/omega_s + 864*g4**2/omega_s - 36*g4 - omega_c - 3*omega_s)) - 6*g4*AnnihilateBoson(s)*CreateBoson(c)/(omega_s*(60*g3**2/omega_s + 288*g4**2/omega_s - 12*g4 + omega_c - omega_s)) - 6*g4*CreateBoson(s)*AnnihilateBoson(s)**2*CreateBoson(c)/(omega_s*(60*g3**2/omega_s + 288*g4**2/omega_s - 12*g4 + omega_c - omega_s)) - 6*g4*AnnihilateBoson(s)*AnnihilateBoson(c)/(omega_s*(60*g3**2/omega_s + 288*g4**2/omega_s - 12*g4 - omega_c - omega_s)) - 6*g4*CreateBoson(s)*AnnihilateBoson(s)**2*AnnihilateBoson(c)/(omega_s*(60*g3**2/omega_s + 288*g4**2/omega_s - 12*g4 - omega_c - omega_s)) - 6*g4*CreateBoson(s)*CreateBoson(c)/(omega_s*(-60*g3**2/omega_s - 288*g4**2/omega_s + 12*g4 + omega_c + omega_s)) - 6*g4*CreateBoson(s)**2*AnnihilateBoson(s)*CreateBoson(c)/(omega_s*(-60*g3**2/omega_s - 288*g4**2/omega_s + 12*g4 + omega_c + omega_s)) - 6*g4*CreateBoson(s)*AnnihilateBoson(c)/(omega_s*(-60*g3**2/omega_s - 288*g4**2/omega_s + 12*g4 - omega_c + omega_s)) - 6*g4*CreateBoson(s)**2*AnnihilateBoson(s)*AnnihilateBoson(c)/(omega_s*(-60*g3**2/omega_s - 288*g4**2/omega_s + 12*g4 - omega_c + omega_s)) + g4*CreateBoson(s)**3*CreateBoson(c)/(omega_s*(-180*g3**2/omega_s - 864*g4**2/omega_s + 36*g4 + omega_c + 3*omega_s)) + g4*CreateBoson(s)**3*AnnihilateBoson(c)/(omega_s*(-180*g3**2/omega_s - 864*g4**2/omega_s + 36*g4 - omega_c + 3*omega_s)) + AnnihilateBoson(s)*CreateBoson(c)/(60*g3**2/omega_s + 288*g4**2/omega_s - 12*g4 + omega_c - omega_s) + AnnihilateBoson(s)*AnnihilateBoson(c)/(60*g3**2/omega_s + 288*g4**2/omega_s - 12*g4 - omega_c - omega_s) + CreateBoson(s)*CreateBoson(c)/(-60*g3**2/omega_s - 288*g4**2/omega_s + 12*g4 + omega_c + omega_s) + CreateBoson(s)*AnnihilateBoson(c)/(-60*g3**2/omega_s - 288*g4**2/omega_s + 12*g4 - omega_c + omega_s)"
      ]
     },
     "execution_count": 33,
     "metadata": {},
     "output_type": "execute_result"
    }
   ],
   "source": [
    "s1"
   ]
  },
  {
   "cell_type": "markdown",
   "id": "56e4c381",
   "metadata": {},
   "source": [
    "# Second order energy correction $H^{(2)}$"
   ]
  },
  {
   "cell_type": "code",
   "execution_count": 40,
   "id": "41eaa8b2",
   "metadata": {},
   "outputs": [],
   "source": [
    "v2 = sp.Rational(1,2)*m_normal(Commutator(s1,v1).doit() )"
   ]
  },
  {
   "cell_type": "code",
   "execution_count": 41,
   "id": "df16ecc1",
   "metadata": {
    "scrolled": true
   },
   "outputs": [],
   "source": [
    "v2 = v2.expand()"
   ]
  },
  {
   "cell_type": "code",
   "execution_count": 49,
   "id": "b6775b2b",
   "metadata": {},
   "outputs": [
    {
     "data": {
      "text/latex": [
       "$\\displaystyle - \\frac{6 g_{3} b_{c}}{\\omega_{s}} + \\frac{2 g_{3} b_{s}^{2} b_{c}}{\\omega_{s}} + \\frac{2 g_{3} b_{s}^{2} {b^\\dagger_{c}}}{\\omega_{s}} - \\frac{6 g_{3} {b^\\dagger_{c}}}{\\omega_{s}} - \\frac{12 g_{3} {b^\\dagger_{s}} b_{s} b_{c}}{\\omega_{s}} - \\frac{12 g_{3} {b^\\dagger_{s}} b_{s} {b^\\dagger_{c}}}{\\omega_{s}} + \\frac{2 g_{3} {b^\\dagger_{s}}^{2} b_{c}}{\\omega_{s}} + \\frac{2 g_{3} {b^\\dagger_{s}}^{2} {b^\\dagger_{c}}}{\\omega_{s}} - \\frac{6 g_{4} b_{s} b_{c}}{\\omega_{s}} - \\frac{6 g_{4} b_{s} {b^\\dagger_{c}}}{\\omega_{s}} + \\frac{g_{4} b_{s}^{3} b_{c}}{\\omega_{s}} + \\frac{g_{4} b_{s}^{3} {b^\\dagger_{c}}}{\\omega_{s}} - \\frac{6 g_{4} {b^\\dagger_{s}} b_{c}}{\\omega_{s}} - \\frac{6 g_{4} {b^\\dagger_{s}} b_{s}^{2} b_{c}}{\\omega_{s}} - \\frac{6 g_{4} {b^\\dagger_{s}} b_{s}^{2} {b^\\dagger_{c}}}{\\omega_{s}} - \\frac{6 g_{4} {b^\\dagger_{s}} {b^\\dagger_{c}}}{\\omega_{s}} - \\frac{6 g_{4} {b^\\dagger_{s}}^{2} b_{s} b_{c}}{\\omega_{s}} - \\frac{6 g_{4} {b^\\dagger_{s}}^{2} b_{s} {b^\\dagger_{c}}}{\\omega_{s}} + \\frac{g_{4} {b^\\dagger_{s}}^{3} b_{c}}{\\omega_{s}} + \\frac{g_{4} {b^\\dagger_{s}}^{3} {b^\\dagger_{c}}}{\\omega_{s}} + b_{s} b_{c} + b_{s} {b^\\dagger_{c}} + {b^\\dagger_{s}} b_{c} + {b^\\dagger_{s}} {b^\\dagger_{c}}$"
      ],
      "text/plain": [
       "-6*g3*AnnihilateBoson(c)/omega_s + 2*g3*AnnihilateBoson(s)**2*AnnihilateBoson(c)/omega_s + 2*g3*AnnihilateBoson(s)**2*CreateBoson(c)/omega_s - 6*g3*CreateBoson(c)/omega_s - 12*g3*CreateBoson(s)*AnnihilateBoson(s)*AnnihilateBoson(c)/omega_s - 12*g3*CreateBoson(s)*AnnihilateBoson(s)*CreateBoson(c)/omega_s + 2*g3*CreateBoson(s)**2*AnnihilateBoson(c)/omega_s + 2*g3*CreateBoson(s)**2*CreateBoson(c)/omega_s - 6*g4*AnnihilateBoson(s)*AnnihilateBoson(c)/omega_s - 6*g4*AnnihilateBoson(s)*CreateBoson(c)/omega_s + g4*AnnihilateBoson(s)**3*AnnihilateBoson(c)/omega_s + g4*AnnihilateBoson(s)**3*CreateBoson(c)/omega_s - 6*g4*CreateBoson(s)*AnnihilateBoson(c)/omega_s - 6*g4*CreateBoson(s)*AnnihilateBoson(s)**2*AnnihilateBoson(c)/omega_s - 6*g4*CreateBoson(s)*AnnihilateBoson(s)**2*CreateBoson(c)/omega_s - 6*g4*CreateBoson(s)*CreateBoson(c)/omega_s - 6*g4*CreateBoson(s)**2*AnnihilateBoson(s)*AnnihilateBoson(c)/omega_s - 6*g4*CreateBoson(s)**2*AnnihilateBoson(s)*CreateBoson(c)/omega_s + g4*CreateBoson(s)**3*AnnihilateBoson(c)/omega_s + g4*CreateBoson(s)**3*CreateBoson(c)/omega_s + AnnihilateBoson(s)*AnnihilateBoson(c) + AnnihilateBoson(s)*CreateBoson(c) + CreateBoson(s)*AnnihilateBoson(c) + CreateBoson(s)*CreateBoson(c)"
      ]
     },
     "execution_count": 49,
     "metadata": {},
     "output_type": "execute_result"
    }
   ],
   "source": [
    "v1"
   ]
  },
  {
   "cell_type": "code",
   "execution_count": 42,
   "id": "a908fd8c",
   "metadata": {},
   "outputs": [],
   "source": [
    "temp = 0\n",
    "for term in v2.args:\n",
    "    if term.as_powers_dict()[ad] == term.as_powers_dict()[a] and term.as_powers_dict()[bd] == term.as_powers_dict()[b] and term.as_powers_dict()[b]==1 and term.as_powers_dict()[a]==0:\n",
    "        temp += term.simplify()\n",
    "h2 = temp * 1"
   ]
  },
  {
   "cell_type": "code",
   "execution_count": 43,
   "id": "3d87091a",
   "metadata": {
    "scrolled": false
   },
   "outputs": [],
   "source": [
    "E=h2"
   ]
  },
  {
   "cell_type": "code",
   "execution_count": 44,
   "id": "4b92b878",
   "metadata": {},
   "outputs": [
    {
     "data": {
      "text/latex": [
       "$\\displaystyle \\frac{8 g_{3}^{2} {b^\\dagger_{c}} b_{c}}{\\omega_{s} \\left(120 g_{3}^{2} + 576 g_{4}^{2} - 24 g_{4} \\omega_{s} + \\omega_{c} \\omega_{s} - 2 \\omega_{s}^{2}\\right)} + \\frac{8 g_{3}^{2} {b^\\dagger_{c}} b_{c}}{\\omega_{s} \\left(120 g_{3}^{2} + 576 g_{4}^{2} - 24 g_{4} \\omega_{s} - \\omega_{c} \\omega_{s} - 2 \\omega_{s}^{2}\\right)} + \\frac{6 g_{4}^{2} {b^\\dagger_{c}} b_{c}}{\\omega_{s} \\left(180 g_{3}^{2} + 864 g_{4}^{2} - 36 g_{4} \\omega_{s} + \\omega_{c} \\omega_{s} - 3 \\omega_{s}^{2}\\right)} + \\frac{6 g_{4}^{2} {b^\\dagger_{c}} b_{c}}{\\omega_{s} \\left(180 g_{3}^{2} + 864 g_{4}^{2} - 36 g_{4} \\omega_{s} - \\omega_{c} \\omega_{s} - 3 \\omega_{s}^{2}\\right)} + \\frac{36 g_{4}^{2} {b^\\dagger_{c}} b_{c}}{\\omega_{s} \\left(60 g_{3}^{2} + 288 g_{4}^{2} - 12 g_{4} \\omega_{s} + \\omega_{c} \\omega_{s} - \\omega_{s}^{2}\\right)} + \\frac{36 g_{4}^{2} {b^\\dagger_{c}} b_{c}}{\\omega_{s} \\left(60 g_{3}^{2} + 288 g_{4}^{2} - 12 g_{4} \\omega_{s} - \\omega_{c} \\omega_{s} - \\omega_{s}^{2}\\right)} - \\frac{12 g_{4} {b^\\dagger_{c}} b_{c}}{60 g_{3}^{2} + 288 g_{4}^{2} - 12 g_{4} \\omega_{s} + \\omega_{c} \\omega_{s} - \\omega_{s}^{2}} + \\frac{12 g_{4} {b^\\dagger_{c}} b_{c}}{- 60 g_{3}^{2} - 288 g_{4}^{2} + 12 g_{4} \\omega_{s} + \\omega_{c} \\omega_{s} + \\omega_{s}^{2}} + \\frac{\\omega_{s} {b^\\dagger_{c}} b_{c}}{60 g_{3}^{2} + 288 g_{4}^{2} - 12 g_{4} \\omega_{s} - \\omega_{c} \\omega_{s} - \\omega_{s}^{2}} + \\frac{\\omega_{s} {b^\\dagger_{c}} b_{c}}{60 g_{3}^{2} + 288 g_{4}^{2} + \\omega_{s} \\left(- 12 g_{4} + \\omega_{c} - \\omega_{s}\\right)}$"
      ],
      "text/plain": [
       "8*g3**2*CreateBoson(c)*AnnihilateBoson(c)/(omega_s*(120*g3**2 + 576*g4**2 - 24*g4*omega_s + omega_c*omega_s - 2*omega_s**2)) + 8*g3**2*CreateBoson(c)*AnnihilateBoson(c)/(omega_s*(120*g3**2 + 576*g4**2 - 24*g4*omega_s - omega_c*omega_s - 2*omega_s**2)) + 6*g4**2*CreateBoson(c)*AnnihilateBoson(c)/(omega_s*(180*g3**2 + 864*g4**2 - 36*g4*omega_s + omega_c*omega_s - 3*omega_s**2)) + 6*g4**2*CreateBoson(c)*AnnihilateBoson(c)/(omega_s*(180*g3**2 + 864*g4**2 - 36*g4*omega_s - omega_c*omega_s - 3*omega_s**2)) + 36*g4**2*CreateBoson(c)*AnnihilateBoson(c)/(omega_s*(60*g3**2 + 288*g4**2 - 12*g4*omega_s + omega_c*omega_s - omega_s**2)) + 36*g4**2*CreateBoson(c)*AnnihilateBoson(c)/(omega_s*(60*g3**2 + 288*g4**2 - 12*g4*omega_s - omega_c*omega_s - omega_s**2)) - 12*g4*CreateBoson(c)*AnnihilateBoson(c)/(60*g3**2 + 288*g4**2 - 12*g4*omega_s + omega_c*omega_s - omega_s**2) + 12*g4*CreateBoson(c)*AnnihilateBoson(c)/(-60*g3**2 - 288*g4**2 + 12*g4*omega_s + omega_c*omega_s + omega_s**2) + omega_s*CreateBoson(c)*AnnihilateBoson(c)/(60*g3**2 + 288*g4**2 - 12*g4*omega_s - omega_c*omega_s - omega_s**2) + omega_s*CreateBoson(c)*AnnihilateBoson(c)/(60*g3**2 + 288*g4**2 + omega_s*(-12*g4 + omega_c - omega_s))"
      ]
     },
     "execution_count": 44,
     "metadata": {},
     "output_type": "execute_result"
    }
   ],
   "source": [
    "h2"
   ]
  },
  {
   "cell_type": "code",
   "execution_count": 45,
   "id": "f7d9b947",
   "metadata": {},
   "outputs": [
    {
     "data": {
      "text/latex": [
       "$\\displaystyle - \\frac{6 g_{3} b_{c}}{\\omega_{s}} + \\frac{2 g_{3} b_{s}^{2} b_{c}}{\\omega_{s}} + \\frac{2 g_{3} b_{s}^{2} {b^\\dagger_{c}}}{\\omega_{s}} - \\frac{6 g_{3} {b^\\dagger_{c}}}{\\omega_{s}} - \\frac{12 g_{3} {b^\\dagger_{s}} b_{s} b_{c}}{\\omega_{s}} - \\frac{12 g_{3} {b^\\dagger_{s}} b_{s} {b^\\dagger_{c}}}{\\omega_{s}} + \\frac{2 g_{3} {b^\\dagger_{s}}^{2} b_{c}}{\\omega_{s}} + \\frac{2 g_{3} {b^\\dagger_{s}}^{2} {b^\\dagger_{c}}}{\\omega_{s}} - \\frac{6 g_{4} b_{s} b_{c}}{\\omega_{s}} - \\frac{6 g_{4} b_{s} {b^\\dagger_{c}}}{\\omega_{s}} + \\frac{g_{4} b_{s}^{3} b_{c}}{\\omega_{s}} + \\frac{g_{4} b_{s}^{3} {b^\\dagger_{c}}}{\\omega_{s}} - \\frac{6 g_{4} {b^\\dagger_{s}} b_{c}}{\\omega_{s}} - \\frac{6 g_{4} {b^\\dagger_{s}} b_{s}^{2} b_{c}}{\\omega_{s}} - \\frac{6 g_{4} {b^\\dagger_{s}} b_{s}^{2} {b^\\dagger_{c}}}{\\omega_{s}} - \\frac{6 g_{4} {b^\\dagger_{s}} {b^\\dagger_{c}}}{\\omega_{s}} - \\frac{6 g_{4} {b^\\dagger_{s}}^{2} b_{s} b_{c}}{\\omega_{s}} - \\frac{6 g_{4} {b^\\dagger_{s}}^{2} b_{s} {b^\\dagger_{c}}}{\\omega_{s}} + \\frac{g_{4} {b^\\dagger_{s}}^{3} b_{c}}{\\omega_{s}} + \\frac{g_{4} {b^\\dagger_{s}}^{3} {b^\\dagger_{c}}}{\\omega_{s}} + b_{s} b_{c} + b_{s} {b^\\dagger_{c}} + {b^\\dagger_{s}} b_{c} + {b^\\dagger_{s}} {b^\\dagger_{c}}$"
      ],
      "text/plain": [
       "-6*g3*AnnihilateBoson(c)/omega_s + 2*g3*AnnihilateBoson(s)**2*AnnihilateBoson(c)/omega_s + 2*g3*AnnihilateBoson(s)**2*CreateBoson(c)/omega_s - 6*g3*CreateBoson(c)/omega_s - 12*g3*CreateBoson(s)*AnnihilateBoson(s)*AnnihilateBoson(c)/omega_s - 12*g3*CreateBoson(s)*AnnihilateBoson(s)*CreateBoson(c)/omega_s + 2*g3*CreateBoson(s)**2*AnnihilateBoson(c)/omega_s + 2*g3*CreateBoson(s)**2*CreateBoson(c)/omega_s - 6*g4*AnnihilateBoson(s)*AnnihilateBoson(c)/omega_s - 6*g4*AnnihilateBoson(s)*CreateBoson(c)/omega_s + g4*AnnihilateBoson(s)**3*AnnihilateBoson(c)/omega_s + g4*AnnihilateBoson(s)**3*CreateBoson(c)/omega_s - 6*g4*CreateBoson(s)*AnnihilateBoson(c)/omega_s - 6*g4*CreateBoson(s)*AnnihilateBoson(s)**2*AnnihilateBoson(c)/omega_s - 6*g4*CreateBoson(s)*AnnihilateBoson(s)**2*CreateBoson(c)/omega_s - 6*g4*CreateBoson(s)*CreateBoson(c)/omega_s - 6*g4*CreateBoson(s)**2*AnnihilateBoson(s)*AnnihilateBoson(c)/omega_s - 6*g4*CreateBoson(s)**2*AnnihilateBoson(s)*CreateBoson(c)/omega_s + g4*CreateBoson(s)**3*AnnihilateBoson(c)/omega_s + g4*CreateBoson(s)**3*CreateBoson(c)/omega_s + AnnihilateBoson(s)*AnnihilateBoson(c) + AnnihilateBoson(s)*CreateBoson(c) + CreateBoson(s)*AnnihilateBoson(c) + CreateBoson(s)*CreateBoson(c)"
      ]
     },
     "execution_count": 45,
     "metadata": {},
     "output_type": "execute_result"
    }
   ],
   "source": [
    "v1"
   ]
  },
  {
   "cell_type": "code",
   "execution_count": 46,
   "id": "13a95dfa",
   "metadata": {},
   "outputs": [
    {
     "data": {
      "text/latex": [
       "$\\displaystyle \\frac{\\omega_{s} {b^\\dagger_{c}} b_{c}}{- \\omega_{c} \\omega_{s} - \\omega_{s}^{2}} + x \\left(- \\frac{60 \\omega_{s}^{3} {b^\\dagger_{c}} b_{c}}{\\left(- \\omega_{c} \\omega_{s} - \\omega_{s}^{2}\\right)^{2}} + \\frac{8 \\omega_{s} {b^\\dagger_{c}} b_{c}}{\\omega_{c} \\omega_{s} - 2 \\omega_{s}^{2}} + \\frac{8 \\omega_{s} {b^\\dagger_{c}} b_{c}}{- \\omega_{c} \\omega_{s} - 2 \\omega_{s}^{2}} - \\frac{60 \\omega_{s} {b^\\dagger_{c}} b_{c}}{\\left(\\omega_{c} - \\omega_{s}\\right)^{2}}\\right) + y \\left(\\frac{12 \\omega_{s}^{3} {b^\\dagger_{c}} b_{c}}{\\left(- \\omega_{c} \\omega_{s} - \\omega_{s}^{2}\\right)^{2}} + \\frac{12 \\omega_{s} {b^\\dagger_{c}} b_{c}}{\\omega_{c} \\omega_{s} + \\omega_{s}^{2}} - \\frac{12 \\omega_{s} {b^\\dagger_{c}} b_{c}}{\\omega_{c} \\omega_{s} - \\omega_{s}^{2}} + \\frac{12 \\omega_{s} {b^\\dagger_{c}} b_{c}}{\\left(\\omega_{c} - \\omega_{s}\\right)^{2}}\\right) + \\frac{{b^\\dagger_{c}} b_{c}}{\\omega_{c} - \\omega_{s}}$"
      ],
      "text/plain": [
       "omega_s*CreateBoson(c)*AnnihilateBoson(c)/(-omega_c*omega_s - omega_s**2) + x*(-60*omega_s**3*CreateBoson(c)*AnnihilateBoson(c)/(-omega_c*omega_s - omega_s**2)**2 + 8*omega_s*CreateBoson(c)*AnnihilateBoson(c)/(omega_c*omega_s - 2*omega_s**2) + 8*omega_s*CreateBoson(c)*AnnihilateBoson(c)/(-omega_c*omega_s - 2*omega_s**2) - 60*omega_s*CreateBoson(c)*AnnihilateBoson(c)/(omega_c - omega_s)**2) + y*(12*omega_s**3*CreateBoson(c)*AnnihilateBoson(c)/(-omega_c*omega_s - omega_s**2)**2 + 12*omega_s*CreateBoson(c)*AnnihilateBoson(c)/(omega_c*omega_s + omega_s**2) - 12*omega_s*CreateBoson(c)*AnnihilateBoson(c)/(omega_c*omega_s - omega_s**2) + 12*omega_s*CreateBoson(c)*AnnihilateBoson(c)/(omega_c - omega_s)**2) + CreateBoson(c)*AnnihilateBoson(c)/(omega_c - omega_s)"
      ]
     },
     "execution_count": 46,
     "metadata": {},
     "output_type": "execute_result"
    }
   ],
   "source": [
    "x = symbols('x', real=True)\n",
    "y= symbols('y', real=True)\n",
    "E=E.subs(g3**2,x*omega_a**2)\n",
    "E=E.subs(g4,y*omega_a)\n",
    "from sympy import symbols, diff\n",
    "f_0 = E.subs({x: 0, y: 0})\n",
    "df_dx = diff(E, x).subs({x: 0, y: 0}) * (x - 0)\n",
    "df_dy = diff(E, y).subs({x: 0, y: 0}) * (y - 0)\n",
    "\n",
    "taylor_first_order = f_0 + df_dx + df_dy\n",
    "\n",
    "taylor_first_order"
   ]
  },
  {
   "cell_type": "code",
   "execution_count": 47,
   "id": "aa0c67b1",
   "metadata": {},
   "outputs": [],
   "source": [
    "comp = df_dx.args[1]"
   ]
  },
  {
   "cell_type": "code",
   "execution_count": 48,
   "id": "9c09864c",
   "metadata": {},
   "outputs": [
    {
     "ename": "IndexError",
     "evalue": "tuple index out of range",
     "output_type": "error",
     "traceback": [
      "\u001b[0;31m---------------------------------------------------------------------------\u001b[0m",
      "\u001b[0;31mIndexError\u001b[0m                                Traceback (most recent call last)",
      "Input \u001b[0;32mIn [48]\u001b[0m, in \u001b[0;36m<module>\u001b[0;34m\u001b[0m\n\u001b[0;32m----> 1\u001b[0m (comp\u001b[38;5;241m.\u001b[39margs[\u001b[38;5;241m0\u001b[39m]\u001b[38;5;241m+\u001b[39mcomp\u001b[38;5;241m.\u001b[39margs[\u001b[38;5;241m1\u001b[39m]\u001b[38;5;241m.\u001b[39msimplify()\u001b[38;5;241m+\u001b[39mcomp\u001b[38;5;241m.\u001b[39margs[\u001b[38;5;241m2\u001b[39m]\u001b[38;5;241m.\u001b[39msimplify()\u001b[38;5;241m+\u001b[39m\u001b[43mcomp\u001b[49m\u001b[38;5;241;43m.\u001b[39;49m\u001b[43margs\u001b[49m\u001b[43m[\u001b[49m\u001b[38;5;241;43m5\u001b[39;49m\u001b[43m]\u001b[49m\u001b[38;5;241m.\u001b[39msimplify())\u001b[38;5;241m.\u001b[39msimplify()\n",
      "\u001b[0;31mIndexError\u001b[0m: tuple index out of range"
     ]
    }
   ],
   "source": [
    "(comp.args[0]+comp.args[1].simplify()+comp.args[2].simplify()+comp.args[5].simplify()).simplify()"
   ]
  },
  {
   "cell_type": "code",
   "execution_count": 42,
   "id": "adb2b69e",
   "metadata": {},
   "outputs": [
    {
     "data": {
      "text/latex": [
       "$\\displaystyle \\frac{88 \\omega_{s} {b^\\dagger_{c}} b_{c}}{\\omega_{c}^{2} - \\omega_{s}^{2}}$"
      ],
      "text/plain": [
       "88*omega_s*CreateBoson(c)*AnnihilateBoson(c)/(omega_c**2 - omega_s**2)"
      ]
     },
     "execution_count": 42,
     "metadata": {},
     "output_type": "execute_result"
    }
   ],
   "source": [
    "(comp.args[4].simplify()+comp.args[5].simplify()).expand().simplify()"
   ]
  },
  {
   "cell_type": "code",
   "execution_count": 43,
   "id": "f6fa364e",
   "metadata": {},
   "outputs": [
    {
     "data": {
      "text/latex": [
       "$\\displaystyle \\frac{32 \\omega_{s} {b^\\dagger_{c}} b_{c}}{\\omega_{c}^{2} - 4 \\omega_{s}^{2}}$"
      ],
      "text/plain": [
       "32*omega_s*CreateBoson(c)*AnnihilateBoson(c)/(omega_c**2 - 4*omega_s**2)"
      ]
     },
     "execution_count": 43,
     "metadata": {},
     "output_type": "execute_result"
    }
   ],
   "source": [
    "(comp.args[2].simplify()+comp.args[3].simplify()).expand().simplify()"
   ]
  },
  {
   "cell_type": "code",
   "execution_count": 44,
   "id": "0f707a25",
   "metadata": {},
   "outputs": [
    {
     "data": {
      "text/latex": [
       "$\\displaystyle - \\frac{44 {b^\\dagger_{c}} b_{c}}{\\omega_{c} + \\omega_{s}}$"
      ],
      "text/plain": [
       "-44*CreateBoson(c)*AnnihilateBoson(c)/(omega_c + omega_s)"
      ]
     },
     "execution_count": 44,
     "metadata": {},
     "output_type": "execute_result"
    }
   ],
   "source": [
    "comp.args[5].simplify()"
   ]
  },
  {
   "cell_type": "code",
   "execution_count": 45,
   "id": "0d68e554",
   "metadata": {},
   "outputs": [
    {
     "data": {
      "text/latex": [
       "$\\displaystyle - \\frac{60 \\omega_{s}^{3} {b^\\dagger_{c}} b_{c}}{\\left(- \\omega_{c} \\omega_{s} - \\omega_{s}^{2}\\right)^{2}}$"
      ],
      "text/plain": [
       "-60*omega_s**3*CreateBoson(c)*AnnihilateBoson(c)/(-omega_c*omega_s - omega_s**2)**2"
      ]
     },
     "execution_count": 45,
     "metadata": {},
     "output_type": "execute_result"
    }
   ],
   "source": [
    "df_dx.args[1].args[1]"
   ]
  },
  {
   "cell_type": "code",
   "execution_count": 46,
   "id": "509d5d69",
   "metadata": {},
   "outputs": [
    {
     "data": {
      "text/latex": [
       "$\\displaystyle \\frac{48 \\omega_{s}^{3} y {b^\\dagger_{c}} b_{c}}{\\omega_{c}^{4} - 2 \\omega_{c}^{2} \\omega_{s}^{2} + \\omega_{s}^{4}}$"
      ],
      "text/plain": [
       "48*omega_s**3*y*CreateBoson(c)*AnnihilateBoson(c)/(omega_c**4 - 2*omega_c**2*omega_s**2 + omega_s**4)"
      ]
     },
     "execution_count": 46,
     "metadata": {},
     "output_type": "execute_result"
    }
   ],
   "source": [
    "taylor_first_order.args[1].simplify()"
   ]
  }
 ],
 "metadata": {
  "kernelspec": {
   "display_name": "Python 3 (ipykernel)",
   "language": "python",
   "name": "python3"
  },
  "language_info": {
   "codemirror_mode": {
    "name": "ipython",
    "version": 3
   },
   "file_extension": ".py",
   "mimetype": "text/x-python",
   "name": "python",
   "nbconvert_exporter": "python",
   "pygments_lexer": "ipython3",
   "version": "3.8.3"
  }
 },
 "nbformat": 4,
 "nbformat_minor": 5
}
