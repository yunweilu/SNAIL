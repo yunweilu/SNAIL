{
 "cells": [
  {
   "cell_type": "code",
   "execution_count": 1,
   "id": "ba005462",
   "metadata": {},
   "outputs": [],
   "source": [
    "from sympy.physics.secondquant import *\n",
    "from sympy import symbols,I\n",
    "import sympy as sp\n",
    "from no import normal\n",
    "from sympy import exp\n",
    "ind_a = symbols('s')\n",
    "a = B(ind_a)\n",
    "ad = Bd(ind_a)\n",
    "\n",
    "omega_a = symbols('omega_s', real=True)\n",
    "kappa = symbols('kappa', real=True)"
   ]
  },
  {
   "cell_type": "code",
   "execution_count": 2,
   "id": "7b25cc4e",
   "metadata": {},
   "outputs": [],
   "source": [
    "ind_b = symbols('c')\n",
    "b = B(ind_b)\n",
    "bd = Bd(ind_b)\n",
    "omega_b = symbols('omega_c', real=True)\n",
    "g = symbols('g', real=True)"
   ]
  },
  {
   "cell_type": "code",
   "execution_count": 50,
   "id": "9e1556aa",
   "metadata": {},
   "outputs": [],
   "source": [
    "h0 = omega_a * ad * a+ omega_b*bd*b\n",
    "v = g*((ad+a)*(b+bd))"
   ]
  },
  {
   "cell_type": "code",
   "execution_count": 51,
   "id": "94f713e5",
   "metadata": {},
   "outputs": [],
   "source": [
    "def _m_normal(expr):\n",
    "    if not expr.is_Mul:\n",
    "        return expr\n",
    "    else:\n",
    "        c_part = []\n",
    "        string = []\n",
    "        for factor in expr.args:\n",
    "            if factor.is_commutative:\n",
    "                c_part.append(factor)\n",
    "            else:\n",
    "                string.append(factor)\n",
    "                \n",
    "        expr_a = 1\n",
    "        expr_b = 1\n",
    "        expr_c = 1\n",
    "        \n",
    "        for factor in string:\n",
    "            if factor.is_Pow:\n",
    "                if factor.args[0].args[0] == ind_a:\n",
    "                    expr_a *= factor\n",
    "                elif factor.args[0].args[0] == ind_b:\n",
    "                    expr_b *= factor\n",
    "                else:\n",
    "                    expr_c *= factor\n",
    "            else:\n",
    "                if factor.args[0] == ind_a:\n",
    "                    expr_a *= factor\n",
    "                elif factor.args[0] == ind_b:\n",
    "                    expr_b *= factor\n",
    "                else:\n",
    "                    expr_c *= factor\n",
    "                    \n",
    "        if expr_a != 1:\n",
    "            expr_a = normal(expr_a)\n",
    "        if expr_b != 1:\n",
    "            expr_b = normal(expr_b)\n",
    "        if expr_c != 1:\n",
    "            expr_c = normal(expr_c)\n",
    "    \n",
    "        return sp.Mul(*c_part) * expr_a * expr_b * expr_c    \n",
    "\n",
    "def m_normal(expr):\n",
    "    expr = expr.expand()\n",
    "    if isinstance(expr, sp.Add):\n",
    "        return sp.Add(*[_m_normal(term) for term in expr.args])\n",
    "    else:\n",
    "        return _m_normal(expr)"
   ]
  },
  {
   "cell_type": "code",
   "execution_count": 52,
   "id": "6e44e3a5",
   "metadata": {},
   "outputs": [],
   "source": [
    "v = m_normal(v)"
   ]
  },
  {
   "cell_type": "code",
   "execution_count": 53,
   "id": "6c61ae31",
   "metadata": {},
   "outputs": [],
   "source": [
    "v1 = v"
   ]
  },
  {
   "cell_type": "code",
   "execution_count": 54,
   "id": "db01e401",
   "metadata": {},
   "outputs": [],
   "source": [
    "temp = 0\n",
    "for term in v1.args:\n",
    "    if term.as_powers_dict()[ad] == term.as_powers_dict()[a] and term.as_powers_dict()[bd] == term.as_powers_dict()[b]:\n",
    "        temp += term\n",
    "h1 = temp * 1"
   ]
  },
  {
   "cell_type": "code",
   "execution_count": 55,
   "id": "d211c0df",
   "metadata": {},
   "outputs": [],
   "source": [
    "temp = 0\n",
    "for term in (v1-h1).args:\n",
    "    if (term.as_powers_dict()[ad] != term.as_powers_dict()[a] or \n",
    "        term.as_powers_dict()[bd] != term.as_powers_dict()[b]  ):\n",
    "        \n",
    "        temp += term / (omega_a * (term.as_powers_dict()[ad] - term.as_powers_dict()[a]) +\n",
    "                        omega_b * (term.as_powers_dict()[bd] - term.as_powers_dict()[b])  )\n",
    "s1 = temp * 1"
   ]
  },
  {
   "cell_type": "code",
   "execution_count": 56,
   "id": "fe68a315",
   "metadata": {},
   "outputs": [],
   "source": [
    "v2 = sp.Rational(1,2)*m_normal(Commutator(s1,v1).doit() )"
   ]
  },
  {
   "cell_type": "code",
   "execution_count": 57,
   "id": "58e9a4c8",
   "metadata": {},
   "outputs": [],
   "source": [
    "v2 = v2.expand()"
   ]
  },
  {
   "cell_type": "code",
   "execution_count": 58,
   "id": "b28af2ba",
   "metadata": {},
   "outputs": [
    {
     "data": {
      "text/latex": [
       "$\\displaystyle - \\frac{g^{2}}{2 \\omega_{c} + 2 \\omega_{s}} - \\frac{g^{2} {b^\\dagger_{c}} b_{c}}{2 \\omega_{c} + 2 \\omega_{s}} - \\frac{g^{2} {b^\\dagger_{c}}^{2}}{2 \\omega_{c} + 2 \\omega_{s}} - \\frac{g^{2} {b^\\dagger_{s}} b_{s}}{2 \\omega_{c} + 2 \\omega_{s}} - \\frac{g^{2} {b^\\dagger_{s}}^{2}}{2 \\omega_{c} + 2 \\omega_{s}} - \\frac{g^{2} b_{s}^{2}}{2 \\omega_{c} - 2 \\omega_{s}} + \\frac{g^{2} {b^\\dagger_{c}} b_{c}}{2 \\omega_{c} - 2 \\omega_{s}} + \\frac{g^{2} {b^\\dagger_{c}}^{2}}{2 \\omega_{c} - 2 \\omega_{s}} - \\frac{g^{2} {b^\\dagger_{s}} b_{s}}{2 \\omega_{c} - 2 \\omega_{s}} - \\frac{g^{2} b_{c}^{2}}{- 2 \\omega_{c} + 2 \\omega_{s}} - \\frac{g^{2} {b^\\dagger_{c}} b_{c}}{- 2 \\omega_{c} + 2 \\omega_{s}} + \\frac{g^{2} {b^\\dagger_{s}} b_{s}}{- 2 \\omega_{c} + 2 \\omega_{s}} + \\frac{g^{2} {b^\\dagger_{s}}^{2}}{- 2 \\omega_{c} + 2 \\omega_{s}} + \\frac{g^{2}}{- 2 \\omega_{c} - 2 \\omega_{s}} + \\frac{g^{2} b_{c}^{2}}{- 2 \\omega_{c} - 2 \\omega_{s}} + \\frac{g^{2} b_{s}^{2}}{- 2 \\omega_{c} - 2 \\omega_{s}} + \\frac{g^{2} {b^\\dagger_{c}} b_{c}}{- 2 \\omega_{c} - 2 \\omega_{s}} + \\frac{g^{2} {b^\\dagger_{s}} b_{s}}{- 2 \\omega_{c} - 2 \\omega_{s}}$"
      ],
      "text/plain": [
       "-g**2/(2*omega_c + 2*omega_s) - g**2*CreateBoson(c)*AnnihilateBoson(c)/(2*omega_c + 2*omega_s) - g**2*CreateBoson(c)**2/(2*omega_c + 2*omega_s) - g**2*CreateBoson(s)*AnnihilateBoson(s)/(2*omega_c + 2*omega_s) - g**2*CreateBoson(s)**2/(2*omega_c + 2*omega_s) - g**2*AnnihilateBoson(s)**2/(2*omega_c - 2*omega_s) + g**2*CreateBoson(c)*AnnihilateBoson(c)/(2*omega_c - 2*omega_s) + g**2*CreateBoson(c)**2/(2*omega_c - 2*omega_s) - g**2*CreateBoson(s)*AnnihilateBoson(s)/(2*omega_c - 2*omega_s) - g**2*AnnihilateBoson(c)**2/(-2*omega_c + 2*omega_s) - g**2*CreateBoson(c)*AnnihilateBoson(c)/(-2*omega_c + 2*omega_s) + g**2*CreateBoson(s)*AnnihilateBoson(s)/(-2*omega_c + 2*omega_s) + g**2*CreateBoson(s)**2/(-2*omega_c + 2*omega_s) + g**2/(-2*omega_c - 2*omega_s) + g**2*AnnihilateBoson(c)**2/(-2*omega_c - 2*omega_s) + g**2*AnnihilateBoson(s)**2/(-2*omega_c - 2*omega_s) + g**2*CreateBoson(c)*AnnihilateBoson(c)/(-2*omega_c - 2*omega_s) + g**2*CreateBoson(s)*AnnihilateBoson(s)/(-2*omega_c - 2*omega_s)"
      ]
     },
     "execution_count": 58,
     "metadata": {},
     "output_type": "execute_result"
    }
   ],
   "source": [
    "v2"
   ]
  },
  {
   "cell_type": "code",
   "execution_count": 59,
   "id": "ae178f78",
   "metadata": {},
   "outputs": [],
   "source": [
    "temp = 0\n",
    "for term in v2.args:\n",
    "    if term.as_powers_dict()[ad] == term.as_powers_dict()[a] and term.as_powers_dict()[bd] == term.as_powers_dict()[b] and term.as_powers_dict()[b]==1 and term.as_powers_dict()[a]==0:\n",
    "        temp += term.simplify()\n",
    "h2 = temp * 1"
   ]
  },
  {
   "cell_type": "code",
   "execution_count": 60,
   "id": "388ef13e",
   "metadata": {},
   "outputs": [],
   "source": [
    "temp = 0\n",
    "for term in (v2-h2).args:\n",
    "    if (term.as_powers_dict()[ad] != term.as_powers_dict()[a] or \n",
    "        term.as_powers_dict()[bd] != term.as_powers_dict()[b]  ):\n",
    "        \n",
    "        temp += term / (omega_a * (term.as_powers_dict()[ad] - term.as_powers_dict()[a]) +\n",
    "                        omega_b * (term.as_powers_dict()[bd] - term.as_powers_dict()[b])  )\n",
    "s2 = 0"
   ]
  },
  {
   "cell_type": "code",
   "execution_count": 61,
   "id": "5355af42",
   "metadata": {},
   "outputs": [],
   "source": [
    "s2 = 0"
   ]
  },
  {
   "cell_type": "code",
   "execution_count": 62,
   "id": "6a3edc2a",
   "metadata": {},
   "outputs": [],
   "source": [
    "s_tot = s1 * kappa + s2 * kappa**2\n",
    "s_tot_1 = s1 * kappa\n",
    "s_tot_2 = s2 * kappa**2"
   ]
  },
  {
   "cell_type": "code",
   "execution_count": 63,
   "id": "94192ac1",
   "metadata": {
    "scrolled": true
   },
   "outputs": [
    {
     "data": {
      "text/plain": [
       "0"
      ]
     },
     "execution_count": 63,
     "metadata": {},
     "output_type": "execute_result"
    }
   ],
   "source": [
    "s2"
   ]
  },
  {
   "cell_type": "code",
   "execution_count": 64,
   "id": "ced8b469",
   "metadata": {},
   "outputs": [
    {
     "name": "stdout",
     "output_type": "stream",
     "text": [
      "x\n",
      "x\n",
      "x\n"
     ]
    }
   ],
   "source": [
    "h_tot = h0 + kappa*v \n",
    "h_eff_3 = 0\n",
    "h_eff_2 = 0\n",
    "\n",
    "temp_3 = m_normal(Commutator(s_tot_2, h_tot.coeff(kappa,1)*kappa**1).doit() )\n",
    "temp_2 = m_normal(Commutator(s_tot_1, h_tot.coeff(kappa,1)*kappa**1).doit() + Commutator(s_tot_2, h_tot.coeff(kappa,0)*kappa**0).doit() )\n",
    "temp_1 = m_normal(Commutator(s_tot_1, h_tot.coeff(kappa,0)*kappa**0).doit() )\n",
    "print('x')\n",
    "h_eff_3 += temp_3\n",
    "h_eff_2 += temp_2\n",
    "\n",
    "temp_3 = m_normal(Commutator(s_tot_2, temp_1).doit() + Commutator(s_tot_1, temp_2).doit())\n",
    "temp_2 = m_normal(Commutator(s_tot_1, temp_1).doit())\n",
    "print('x')\n",
    "h_eff_3 += sp.Rational(1,2) * temp_3\n",
    "h_eff_2 += sp.Rational(1,2) * temp_2\n",
    "temp_3 = m_normal(Commutator(s_tot_1, temp_2).doit())\n",
    "print('x')\n",
    "h_eff_3 += sp.Rational(1,6) * temp_3\n",
    "\n",
    "h_eff_3 = h_eff_3.expand()\n",
    "h_eff_2 = h_eff_2.expand()"
   ]
  },
  {
   "cell_type": "code",
   "execution_count": 65,
   "id": "7549188b",
   "metadata": {},
   "outputs": [],
   "source": [
    "v3 = m_normal(h_eff_3.coeff(kappa,3))\n",
    "v2 = m_normal(h_eff_2.coeff(kappa,2))"
   ]
  },
  {
   "cell_type": "code",
   "execution_count": 66,
   "id": "cbefae00",
   "metadata": {},
   "outputs": [],
   "source": [
    "temp = 0\n",
    "for term in v3.args:\n",
    "    if term.as_powers_dict()[ad] == term.as_powers_dict()[a] and term.as_powers_dict()[bd] == term.as_powers_dict()[b] and term.as_powers_dict()[b]==1 and term.as_powers_dict()[a]==0:\n",
    "        temp += term.simplify()\n",
    "h3 = temp * 1\n",
    "\n",
    "temp = 0\n",
    "for term in v2.args:\n",
    "    if term.as_powers_dict()[ad] == term.as_powers_dict()[a] and term.as_powers_dict()[bd] == term.as_powers_dict()[b] and term.as_powers_dict()[b]==1 and term.as_powers_dict()[a]==0:\n",
    "        temp += term.simplify()\n",
    "h2 = temp * 1\n",
    "\n",
    "temp = 0\n",
    "for term in v1.args:\n",
    "    if term.as_powers_dict()[ad] == term.as_powers_dict()[a] and term.as_powers_dict()[bd] == term.as_powers_dict()[b] and term.as_powers_dict()[b]==1 and term.as_powers_dict()[a]==0:\n",
    "        temp += term.simplify()\n",
    "h1 = temp * 1"
   ]
  },
  {
   "cell_type": "code",
   "execution_count": 67,
   "id": "6096d934",
   "metadata": {},
   "outputs": [
    {
     "data": {
      "text/latex": [
       "$\\displaystyle \\frac{2 g^{2} \\omega_{s}}{\\omega_{c}^{2} - \\omega_{s}^{2}}$"
      ],
      "text/plain": [
       "2*g**2*omega_s/(omega_c**2 - omega_s**2)"
      ]
     },
     "execution_count": 67,
     "metadata": {},
     "output_type": "execute_result"
    }
   ],
   "source": [
    "v2.coeff(bd*b).simplify()"
   ]
  },
  {
   "cell_type": "code",
   "execution_count": 68,
   "id": "bf6f2965",
   "metadata": {},
   "outputs": [],
   "source": [
    "temp = 0\n",
    "for term in (v3-h3).args:\n",
    "    if (term.as_powers_dict()[ad] != term.as_powers_dict()[a] or \n",
    "        term.as_powers_dict()[bd] != term.as_powers_dict()[b]  ):\n",
    "        \n",
    "        temp += term / (omega_a * (term.as_powers_dict()[ad] - term.as_powers_dict()[a]) +\n",
    "                        omega_b * (term.as_powers_dict()[bd] - term.as_powers_dict()[b])  )\n",
    "s3 = m_normal(temp) * 1"
   ]
  },
  {
   "cell_type": "code",
   "execution_count": 69,
   "id": "0ddf771c",
   "metadata": {},
   "outputs": [],
   "source": [
    "s_tot = s1 * kappa + s2 * kappa**2 + s3 * kappa**3\n",
    "s_tot_1 = s1 * kappa\n",
    "s_tot_2 = s2 * kappa**2\n",
    "s_tot_3 = s3 * kappa**3"
   ]
  },
  {
   "cell_type": "code",
   "execution_count": 70,
   "id": "fe1494ba",
   "metadata": {},
   "outputs": [
    {
     "name": "stdout",
     "output_type": "stream",
     "text": [
      "x\n",
      "x\n",
      "x\n",
      "x\n"
     ]
    }
   ],
   "source": [
    "h_tot = h0 + kappa*v \n",
    "h_eff_4 = 0\n",
    "h_eff_3 = 0\n",
    "h_eff_2 = 0\n",
    "\n",
    "temp_4 = m_normal(Commutator(s_tot_3, h_tot.coeff(kappa,1)*kappa**1).doit() )\n",
    "temp_3 = m_normal(Commutator(s_tot_2, h_tot.coeff(kappa,1)*kappa**1).doit() + Commutator(s_tot_3, h_tot.coeff(kappa,0)*kappa**0).doit() )\n",
    "temp_2 = m_normal(Commutator(s_tot_1, h_tot.coeff(kappa,1)*kappa**1).doit() + Commutator(s_tot_2, h_tot.coeff(kappa,0)*kappa**0).doit() )\n",
    "temp_1 = m_normal(Commutator(s_tot_1, h_tot.coeff(kappa,0)*kappa**0).doit() )\n",
    "print('x')\n",
    "h_eff_4 += temp_4\n",
    "h_eff_3 += temp_3\n",
    "h_eff_2 += temp_2\n",
    "\n",
    "temp_4 = m_normal(Commutator(s_tot_3, temp_1).doit() + Commutator(s_tot_2, temp_2).doit() + Commutator(s_tot_1, temp_3).doit())\n",
    "temp_3 = m_normal(Commutator(s_tot_2, temp_1).doit() + Commutator(s_tot_1, temp_2).doit())\n",
    "temp_2 = m_normal(Commutator(s_tot_1, temp_1).doit())\n",
    "print('x')\n",
    "h_eff_4 += sp.Rational(1,2) * temp_4\n",
    "h_eff_3 += sp.Rational(1,2) * temp_3\n",
    "h_eff_2 += sp.Rational(1,2) * temp_2\n",
    "\n",
    "temp_4 = m_normal(Commutator(s_tot_2, temp_2).doit() + Commutator(s_tot_1, temp_3).doit())\n",
    "temp_3 = m_normal(Commutator(s_tot_1, temp_2).doit())\n",
    "print('x')\n",
    "h_eff_4 += sp.Rational(1,6) * temp_4\n",
    "h_eff_3 += sp.Rational(1,6) * temp_3\n",
    "\n",
    "temp_4 = m_normal(Commutator(s_tot_1, temp_3).doit())\n",
    "print('x')\n",
    "h_eff_4 += sp.Rational(1,24) * temp_4\n",
    "\n",
    "\n",
    "h_eff_4 = h_eff_4.expand()\n",
    "h_eff_3 = h_eff_3.expand()\n",
    "h_eff_2 = h_eff_2.expand()"
   ]
  },
  {
   "cell_type": "code",
   "execution_count": 71,
   "id": "8212b365",
   "metadata": {},
   "outputs": [],
   "source": [
    "v4 = m_normal(h_eff_4.coeff(kappa,4))\n",
    "v3 = m_normal(h_eff_3.coeff(kappa,3))\n",
    "v2 = m_normal(h_eff_2.coeff(kappa,2))"
   ]
  },
  {
   "cell_type": "code",
   "execution_count": 72,
   "id": "4d0797a8",
   "metadata": {},
   "outputs": [],
   "source": [
    "temp = 0\n",
    "for term in v4.args:\n",
    "    if term.as_powers_dict()[ad] == term.as_powers_dict()[a] and term.as_powers_dict()[bd] == term.as_powers_dict()[b] and term.as_powers_dict()[b]==1 and term.as_powers_dict()[a]==0:\n",
    "        temp += term\n",
    "h4 = temp * 1"
   ]
  },
  {
   "cell_type": "code",
   "execution_count": 73,
   "id": "e4f98ba5",
   "metadata": {},
   "outputs": [
    {
     "data": {
      "text/latex": [
       "$\\displaystyle - \\frac{8 g^{4} \\omega_{c} \\omega_{s}^{2}}{\\omega_{c}^{6} - 3 \\omega_{c}^{4} \\omega_{s}^{2} + 3 \\omega_{c}^{2} \\omega_{s}^{4} - \\omega_{s}^{6}}$"
      ],
      "text/plain": [
       "-8*g**4*omega_c*omega_s**2/(omega_c**6 - 3*omega_c**4*omega_s**2 + 3*omega_c**2*omega_s**4 - omega_s**6)"
      ]
     },
     "execution_count": 73,
     "metadata": {},
     "output_type": "execute_result"
    }
   ],
   "source": [
    "v4.coeff(bd*b).simplify()"
   ]
  },
  {
   "cell_type": "code",
   "execution_count": 77,
   "id": "78510819",
   "metadata": {},
   "outputs": [
    {
     "data": {
      "text/latex": [
       "$\\displaystyle - \\frac{8 g^{4} \\omega_{c} \\omega_{s}^{2}}{\\omega_{c}^{6} - 3 \\omega_{c}^{4} \\omega_{s}^{2} + 3 \\omega_{c}^{2} \\omega_{s}^{4} - \\omega_{s}^{6}}$"
      ],
      "text/plain": [
       "-8*g**4*omega_c*omega_s**2/(omega_c**6 - 3*omega_c**4*omega_s**2 + 3*omega_c**2*omega_s**4 - omega_s**6)"
      ]
     },
     "execution_count": 77,
     "metadata": {},
     "output_type": "execute_result"
    }
   ],
   "source": [
    "m_normal(h_eff_4.coeff(kappa,4)).coeff(bd*b).simplify()"
   ]
  },
  {
   "cell_type": "code",
   "execution_count": null,
   "id": "acd561cd",
   "metadata": {},
   "outputs": [],
   "source": [
    "8*g_int**4*omega_c*omega_s**2/(omega_c**6-3*omega_c**4*omega_s**2+3*omega_c**2*omega_s**4-omega_s**6)"
   ]
  }
 ],
 "metadata": {
  "kernelspec": {
   "display_name": "Python 3 (ipykernel)",
   "language": "python",
   "name": "python3"
  },
  "language_info": {
   "codemirror_mode": {
    "name": "ipython",
    "version": 3
   },
   "file_extension": ".py",
   "mimetype": "text/x-python",
   "name": "python",
   "nbconvert_exporter": "python",
   "pygments_lexer": "ipython3",
   "version": "3.8.3"
  }
 },
 "nbformat": 4,
 "nbformat_minor": 5
}
