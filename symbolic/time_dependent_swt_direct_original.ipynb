{
 "cells": [
  {
   "cell_type": "code",
   "execution_count": 1,
   "id": "27ca754a-9d30-4a6d-8054-db633309ef22",
   "metadata": {
    "execution": {
     "iopub.execute_input": "2023-09-18T17:34:06.006542Z",
     "iopub.status.busy": "2023-09-18T17:34:06.006428Z",
     "iopub.status.idle": "2023-09-18T17:34:06.268675Z",
     "shell.execute_reply": "2023-09-18T17:34:06.268393Z",
     "shell.execute_reply.started": "2023-09-18T17:34:06.006524Z"
    },
    "tags": []
   },
   "outputs": [],
   "source": [
    "from sympy.physics.secondquant import *\n",
    "from sympy import symbols, I\n",
    "import sympy as sp\n",
    "from no import normal\n",
    "from sympy import exp"
   ]
  },
  {
   "cell_type": "code",
   "execution_count": 2,
   "id": "bee929bb-cb95-42cf-8cfc-b637ef21834a",
   "metadata": {
    "execution": {
     "iopub.execute_input": "2023-09-18T17:34:06.269930Z",
     "iopub.status.busy": "2023-09-18T17:34:06.269812Z",
     "iopub.status.idle": "2023-09-18T17:34:06.272079Z",
     "shell.execute_reply": "2023-09-18T17:34:06.271760Z",
     "shell.execute_reply.started": "2023-09-18T17:34:06.269921Z"
    },
    "tags": []
   },
   "outputs": [],
   "source": [
    "ind_a = symbols('a')\n",
    "a = B(ind_a)\n",
    "ad = Bd(ind_a)"
   ]
  },
  {
   "cell_type": "code",
   "execution_count": 3,
   "id": "bd55f7a7-b1e1-4a35-94cb-263462a7bec0",
   "metadata": {
    "execution": {
     "iopub.execute_input": "2023-09-18T17:34:06.272565Z",
     "iopub.status.busy": "2023-09-18T17:34:06.272476Z",
     "iopub.status.idle": "2023-09-18T17:34:06.274933Z",
     "shell.execute_reply": "2023-09-18T17:34:06.274637Z",
     "shell.execute_reply.started": "2023-09-18T17:34:06.272557Z"
    },
    "tags": []
   },
   "outputs": [],
   "source": [
    "g4 = symbols('g4', real=True)\n",
    "w_t = symbols('w_t', real=True)\n",
    "t = symbols('t', real=True)\n",
    "eta = symbols('eta', real=False)\n",
    "kappa = symbols('kappa', real=True)"
   ]
  },
  {
   "cell_type": "code",
   "execution_count": 4,
   "id": "86e082c8-2981-467e-abfc-fc96b02e9e6c",
   "metadata": {
    "execution": {
     "iopub.execute_input": "2023-09-18T17:34:06.275557Z",
     "iopub.status.busy": "2023-09-18T17:34:06.275445Z",
     "iopub.status.idle": "2023-09-18T17:34:06.277925Z",
     "shell.execute_reply": "2023-09-18T17:34:06.277625Z",
     "shell.execute_reply.started": "2023-09-18T17:34:06.275548Z"
    },
    "tags": []
   },
   "outputs": [],
   "source": [
    "h0 = 5*w_t * ad * a"
   ]
  },
  {
   "cell_type": "code",
   "execution_count": 5,
   "id": "cb9a2f02-ca22-4202-abce-288d7892ccba",
   "metadata": {
    "execution": {
     "iopub.execute_input": "2023-09-18T17:34:11.691132Z",
     "iopub.status.busy": "2023-09-18T17:34:11.690451Z",
     "iopub.status.idle": "2023-09-18T17:34:11.798487Z",
     "shell.execute_reply": "2023-09-18T17:34:11.798172Z",
     "shell.execute_reply.started": "2023-09-18T17:34:11.691086Z"
    },
    "tags": []
   },
   "outputs": [],
   "source": [
    "v = normal( g4 * (a + ad + eta*exp(-I*6*w_t*t) + eta.conjugate()*exp(I*6*w_t*t))**4  )"
   ]
  },
  {
   "cell_type": "markdown",
   "id": "6d99629b-96b8-4139-bb1e-2af74528d302",
   "metadata": {},
   "source": [
    "### obtain $\\hat{H}_1$"
   ]
  },
  {
   "cell_type": "code",
   "execution_count": 6,
   "id": "1868fc98-9273-429a-a29d-fb50ee3c5f61",
   "metadata": {
    "execution": {
     "iopub.execute_input": "2023-09-18T17:34:13.078193Z",
     "iopub.status.busy": "2023-09-18T17:34:13.077237Z",
     "iopub.status.idle": "2023-09-18T17:34:13.089826Z",
     "shell.execute_reply": "2023-09-18T17:34:13.088794Z",
     "shell.execute_reply.started": "2023-09-18T17:34:13.078139Z"
    },
    "tags": []
   },
   "outputs": [],
   "source": [
    "v1 = v*1"
   ]
  },
  {
   "cell_type": "code",
   "execution_count": 7,
   "id": "8e484b4f-c180-4f7d-86b4-82445d4ef982",
   "metadata": {
    "execution": {
     "iopub.execute_input": "2023-09-18T17:34:13.647035Z",
     "iopub.status.busy": "2023-09-18T17:34:13.646612Z",
     "iopub.status.idle": "2023-09-18T17:34:13.657224Z",
     "shell.execute_reply": "2023-09-18T17:34:13.656744Z",
     "shell.execute_reply.started": "2023-09-18T17:34:13.646982Z"
    },
    "tags": []
   },
   "outputs": [],
   "source": [
    "temp = 0\n",
    "for term in v1.args:\n",
    "    if term.as_powers_dict()[ad] == term.as_powers_dict()[a]:\n",
    "        temp += term\n",
    "h1 = temp * 1"
   ]
  },
  {
   "cell_type": "code",
   "execution_count": 8,
   "id": "e2221933-1754-46e0-a0be-88ebccc92a60",
   "metadata": {
    "execution": {
     "iopub.execute_input": "2023-09-18T17:34:14.073718Z",
     "iopub.status.busy": "2023-09-18T17:34:14.073340Z",
     "iopub.status.idle": "2023-09-18T17:34:14.102715Z",
     "shell.execute_reply": "2023-09-18T17:34:14.102338Z",
     "shell.execute_reply.started": "2023-09-18T17:34:14.073695Z"
    },
    "tags": []
   },
   "outputs": [
    {
     "data": {
      "text/latex": [
       "$\\displaystyle \\eta^{4} g_{4} e^{- 24 i t w_{t}} + 4 \\eta^{3} g_{4} e^{- 12 i t w_{t}} \\overline{\\eta} + 6 \\eta^{2} g_{4} \\overline{\\eta}^{2} + 6 \\eta^{2} g_{4} e^{- 12 i t w_{t}} + 12 \\eta^{2} g_{4} e^{- 12 i t w_{t}} {b^\\dagger_{a}} b_{a} + 4 \\eta g_{4} e^{12 i t w_{t}} \\overline{\\eta}^{3} + 12 \\eta g_{4} \\overline{\\eta} + 24 \\eta g_{4} \\overline{\\eta} {b^\\dagger_{a}} b_{a} + g_{4} e^{24 i t w_{t}} \\overline{\\eta}^{4} + 6 g_{4} e^{12 i t w_{t}} \\overline{\\eta}^{2} + 12 g_{4} e^{12 i t w_{t}} \\overline{\\eta}^{2} {b^\\dagger_{a}} b_{a} + 3 g_{4} + 12 g_{4} {b^\\dagger_{a}} b_{a} + 6 g_{4} {b^\\dagger_{a}}^{2} b_{a}^{2}$"
      ],
      "text/plain": [
       "eta**4*g4*exp(-24*I*t*w_t) + 4*eta**3*g4*exp(-12*I*t*w_t)*conjugate(eta) + 6*eta**2*g4*conjugate(eta)**2 + 6*eta**2*g4*exp(-12*I*t*w_t) + 12*eta**2*g4*exp(-12*I*t*w_t)*CreateBoson(a)*AnnihilateBoson(a) + 4*eta*g4*exp(12*I*t*w_t)*conjugate(eta)**3 + 12*eta*g4*conjugate(eta) + 24*eta*g4*conjugate(eta)*CreateBoson(a)*AnnihilateBoson(a) + g4*exp(24*I*t*w_t)*conjugate(eta)**4 + 6*g4*exp(12*I*t*w_t)*conjugate(eta)**2 + 12*g4*exp(12*I*t*w_t)*conjugate(eta)**2*CreateBoson(a)*AnnihilateBoson(a) + 3*g4 + 12*g4*CreateBoson(a)*AnnihilateBoson(a) + 6*g4*CreateBoson(a)**2*AnnihilateBoson(a)**2"
      ]
     },
     "execution_count": 8,
     "metadata": {},
     "output_type": "execute_result"
    }
   ],
   "source": [
    "h1"
   ]
  },
  {
   "cell_type": "code",
   "execution_count": 9,
   "id": "4cab389b-ba66-43bf-b7d5-0201ac095b67",
   "metadata": {
    "execution": {
     "iopub.execute_input": "2023-09-18T17:34:16.096880Z",
     "iopub.status.busy": "2023-09-18T17:34:16.096447Z",
     "iopub.status.idle": "2023-09-18T17:34:16.108426Z",
     "shell.execute_reply": "2023-09-18T17:34:16.107277Z",
     "shell.execute_reply.started": "2023-09-18T17:34:16.096856Z"
    },
    "tags": []
   },
   "outputs": [],
   "source": [
    "temp = 0\n",
    "for term in h1.args:\n",
    "    if term.as_powers_dict()[eta] == term.as_powers_dict()[eta.conjugate()]:\n",
    "        temp += term\n",
    "h1_ti = temp * 1"
   ]
  },
  {
   "cell_type": "code",
   "execution_count": 10,
   "id": "143fca87-8842-426f-b519-1458ac8972f6",
   "metadata": {
    "execution": {
     "iopub.execute_input": "2023-09-18T17:34:16.423589Z",
     "iopub.status.busy": "2023-09-18T17:34:16.423201Z",
     "iopub.status.idle": "2023-09-18T17:34:16.438828Z",
     "shell.execute_reply": "2023-09-18T17:34:16.437563Z",
     "shell.execute_reply.started": "2023-09-18T17:34:16.423562Z"
    },
    "tags": []
   },
   "outputs": [
    {
     "data": {
      "text/latex": [
       "$\\displaystyle 6 \\eta^{2} g_{4} \\overline{\\eta}^{2} + 12 \\eta g_{4} \\overline{\\eta} + 24 \\eta g_{4} \\overline{\\eta} {b^\\dagger_{a}} b_{a} + 3 g_{4} + 12 g_{4} {b^\\dagger_{a}} b_{a} + 6 g_{4} {b^\\dagger_{a}}^{2} b_{a}^{2}$"
      ],
      "text/plain": [
       "6*eta**2*g4*conjugate(eta)**2 + 12*eta*g4*conjugate(eta) + 24*eta*g4*conjugate(eta)*CreateBoson(a)*AnnihilateBoson(a) + 3*g4 + 12*g4*CreateBoson(a)*AnnihilateBoson(a) + 6*g4*CreateBoson(a)**2*AnnihilateBoson(a)**2"
      ]
     },
     "execution_count": 10,
     "metadata": {},
     "output_type": "execute_result"
    }
   ],
   "source": [
    "h1_ti"
   ]
  },
  {
   "cell_type": "markdown",
   "id": "b9b1ca1b-47cc-4692-a118-305b06a20ba6",
   "metadata": {},
   "source": [
    "### obtain up to $\\hat{H}_2$"
   ]
  },
  {
   "cell_type": "code",
   "execution_count": 88,
   "id": "d6af1876-eee8-4634-af64-2741d34404ea",
   "metadata": {
    "execution": {
     "iopub.execute_input": "2023-09-19T02:35:24.056727Z",
     "iopub.status.busy": "2023-09-19T02:35:24.056543Z",
     "iopub.status.idle": "2023-09-19T02:35:24.126701Z",
     "shell.execute_reply": "2023-09-19T02:35:24.126344Z",
     "shell.execute_reply.started": "2023-09-19T02:35:24.056714Z"
    },
    "tags": []
   },
   "outputs": [],
   "source": [
    "temp = 0\n",
    "for term in (v1-h1).args:\n",
    "    if (term.as_powers_dict()[ad] != term.as_powers_dict()[a] or \n",
    "        term.as_powers_dict()[eta] != term.as_powers_dict()[eta.conjugate()]):\n",
    "        \n",
    "        temp += term / (5*w_t * (term.as_powers_dict()[ad] - term.as_powers_dict()[a]) + \n",
    "                        6*w_t * (term.as_powers_dict()[eta.conjugate()] - term.as_powers_dict()[eta]) )\n",
    "s1= normal(temp) * 1"
   ]
  },
  {
   "cell_type": "code",
   "execution_count": 89,
   "id": "db049298-86f3-4db4-a574-8c6864c4d9be",
   "metadata": {
    "execution": {
     "iopub.execute_input": "2023-09-19T02:35:25.224969Z",
     "iopub.status.busy": "2023-09-19T02:35:25.224767Z",
     "iopub.status.idle": "2023-09-19T02:35:25.227989Z",
     "shell.execute_reply": "2023-09-19T02:35:25.227563Z",
     "shell.execute_reply.started": "2023-09-19T02:35:25.224955Z"
    },
    "tags": []
   },
   "outputs": [],
   "source": [
    "s_tot_1 = s1 * kappa\n",
    "sd_tot_1 = sp.diff(s_tot_1, t)"
   ]
  },
  {
   "cell_type": "code",
   "execution_count": 90,
   "id": "c53202b8-dafb-4b3e-a582-fc9de68300c9",
   "metadata": {
    "execution": {
     "iopub.execute_input": "2023-09-19T02:35:26.114106Z",
     "iopub.status.busy": "2023-09-19T02:35:26.113936Z",
     "iopub.status.idle": "2023-09-19T02:35:32.107914Z",
     "shell.execute_reply": "2023-09-19T02:35:32.107557Z",
     "shell.execute_reply.started": "2023-09-19T02:35:26.114094Z"
    },
    "tags": []
   },
   "outputs": [
    {
     "name": "stdout",
     "output_type": "stream",
     "text": [
      "x\n",
      "x\n"
     ]
    }
   ],
   "source": [
    "# time-independent part \n",
    "h_tot = h0 + kappa*v \n",
    "h_eff_2_ti = 0\n",
    "\n",
    "temp_2 = normal(Commutator(s_tot_1, h_tot.coeff(kappa,1)*kappa**1).doit() )\n",
    "temp_1 = normal(Commutator(s_tot_1, h_tot.coeff(kappa,0)*kappa**0).doit() )\n",
    "print('x')\n",
    "h_eff_2_ti += temp_2\n",
    "\n",
    "temp_2 = normal(sp.Rational(1,2) * Commutator(s_tot_1, temp_1).doit())\n",
    "print('x')\n",
    "h_eff_2_ti += temp_2"
   ]
  },
  {
   "cell_type": "code",
   "execution_count": 91,
   "id": "25990443-3a0d-4cae-8718-782de690fbb3",
   "metadata": {
    "execution": {
     "iopub.execute_input": "2023-09-19T02:35:35.818288Z",
     "iopub.status.busy": "2023-09-19T02:35:35.818102Z",
     "iopub.status.idle": "2023-09-19T02:35:37.922893Z",
     "shell.execute_reply": "2023-09-19T02:35:37.922566Z",
     "shell.execute_reply.started": "2023-09-19T02:35:35.818274Z"
    },
    "tags": []
   },
   "outputs": [
    {
     "name": "stdout",
     "output_type": "stream",
     "text": [
      "x\n"
     ]
    }
   ],
   "source": [
    "# time-dependent part \n",
    "h_eff_2_td = 0\n",
    "\n",
    "temp_2 = normal(I*sp.Rational(1,2) * Commutator(s_tot_1, sd_tot_1).doit() )\n",
    "print('x')\n",
    "h_eff_2_td +=  temp_2"
   ]
  },
  {
   "cell_type": "code",
   "execution_count": 92,
   "id": "16315ec4-51cf-4a44-a881-31f8911ef7f4",
   "metadata": {
    "execution": {
     "iopub.execute_input": "2023-09-19T02:35:38.493632Z",
     "iopub.status.busy": "2023-09-19T02:35:38.493438Z",
     "iopub.status.idle": "2023-09-19T02:35:38.499239Z",
     "shell.execute_reply": "2023-09-19T02:35:38.498871Z",
     "shell.execute_reply.started": "2023-09-19T02:35:38.493618Z"
    },
    "tags": []
   },
   "outputs": [],
   "source": [
    "h_eff_2 = h_eff_2_ti + h_eff_2_td"
   ]
  },
  {
   "cell_type": "code",
   "execution_count": 93,
   "id": "f07ff33e-9eab-4157-a0cc-5236a4091686",
   "metadata": {
    "execution": {
     "iopub.execute_input": "2023-09-19T02:35:38.956077Z",
     "iopub.status.busy": "2023-09-19T02:35:38.955892Z",
     "iopub.status.idle": "2023-09-19T02:35:39.213031Z",
     "shell.execute_reply": "2023-09-19T02:35:39.212731Z",
     "shell.execute_reply.started": "2023-09-19T02:35:38.956064Z"
    },
    "tags": []
   },
   "outputs": [],
   "source": [
    "v2 = normal(h_eff_2.coeff(kappa,2))"
   ]
  },
  {
   "cell_type": "code",
   "execution_count": 94,
   "id": "fae0223d-e61b-463b-80c8-dfd47114936c",
   "metadata": {
    "execution": {
     "iopub.execute_input": "2023-09-19T02:35:39.703241Z",
     "iopub.status.busy": "2023-09-19T02:35:39.703065Z",
     "iopub.status.idle": "2023-09-19T02:35:39.718826Z",
     "shell.execute_reply": "2023-09-19T02:35:39.718513Z",
     "shell.execute_reply.started": "2023-09-19T02:35:39.703227Z"
    },
    "tags": []
   },
   "outputs": [],
   "source": [
    "temp = 0\n",
    "for term in v2.args:\n",
    "    if term.as_powers_dict()[ad] == term.as_powers_dict()[a]:\n",
    "        temp += term\n",
    "h2 = temp * 1\n",
    "\n",
    "temp = 0\n",
    "for term in h2.args:\n",
    "    if term.as_powers_dict()[eta] == term.as_powers_dict()[eta.conjugate()]:\n",
    "        temp += term\n",
    "h2_ti = temp * 1"
   ]
  },
  {
   "cell_type": "code",
   "execution_count": 95,
   "id": "36c45eba-43ca-48e2-b837-59af952996a6",
   "metadata": {
    "execution": {
     "iopub.execute_input": "2023-09-19T02:35:42.338648Z",
     "iopub.status.busy": "2023-09-19T02:35:42.338457Z",
     "iopub.status.idle": "2023-09-19T02:35:42.432558Z",
     "shell.execute_reply": "2023-09-19T02:35:42.432107Z",
     "shell.execute_reply.started": "2023-09-19T02:35:42.338634Z"
    },
    "tags": []
   },
   "outputs": [
    {
     "data": {
      "text/latex": [
       "$\\displaystyle \\frac{432320 \\eta^{3} g_{4}^{2} \\overline{\\eta}^{3}}{3289 w_{t}} + \\frac{14616 \\eta^{2} g_{4}^{2} \\overline{\\eta}^{2}}{55 w_{t}} + \\frac{29232 \\eta^{2} g_{4}^{2} \\overline{\\eta}^{2} {b^\\dagger_{a}} b_{a}}{55 w_{t}} + \\frac{100336 \\eta g_{4}^{2} \\overline{\\eta}}{1155 w_{t}} + \\frac{240448 \\eta g_{4}^{2} \\overline{\\eta} {b^\\dagger_{a}} b_{a}}{385 w_{t}} + \\frac{120224 \\eta g_{4}^{2} \\overline{\\eta} {b^\\dagger_{a}}^{2} b_{a}^{2}}{385 w_{t}} - \\frac{42 g_{4}^{2}}{5 w_{t}} - \\frac{288 g_{4}^{2} {b^\\dagger_{a}} b_{a}}{5 w_{t}} - \\frac{306 g_{4}^{2} {b^\\dagger_{a}}^{2} b_{a}^{2}}{5 w_{t}} - \\frac{68 g_{4}^{2} {b^\\dagger_{a}}^{3} b_{a}^{3}}{5 w_{t}}$"
      ],
      "text/plain": [
       "432320*eta**3*g4**2*conjugate(eta)**3/(3289*w_t) + 14616*eta**2*g4**2*conjugate(eta)**2/(55*w_t) + 29232*eta**2*g4**2*conjugate(eta)**2*CreateBoson(a)*AnnihilateBoson(a)/(55*w_t) + 100336*eta*g4**2*conjugate(eta)/(1155*w_t) + 240448*eta*g4**2*conjugate(eta)*CreateBoson(a)*AnnihilateBoson(a)/(385*w_t) + 120224*eta*g4**2*conjugate(eta)*CreateBoson(a)**2*AnnihilateBoson(a)**2/(385*w_t) - 42*g4**2/(5*w_t) - 288*g4**2*CreateBoson(a)*AnnihilateBoson(a)/(5*w_t) - 306*g4**2*CreateBoson(a)**2*AnnihilateBoson(a)**2/(5*w_t) - 68*g4**2*CreateBoson(a)**3*AnnihilateBoson(a)**3/(5*w_t)"
      ]
     },
     "execution_count": 95,
     "metadata": {},
     "output_type": "execute_result"
    }
   ],
   "source": [
    "sp.simplify(h2_ti).expand()"
   ]
  },
  {
   "cell_type": "code",
   "execution_count": 96,
   "id": "acb087d9-9e0b-4947-8c87-721ee1541292",
   "metadata": {
    "execution": {
     "iopub.execute_input": "2023-09-19T02:35:43.395884Z",
     "iopub.status.busy": "2023-09-19T02:35:43.395695Z",
     "iopub.status.idle": "2023-09-19T02:35:43.414967Z",
     "shell.execute_reply": "2023-09-19T02:35:43.414545Z",
     "shell.execute_reply.started": "2023-09-19T02:35:43.395870Z"
    },
    "tags": []
   },
   "outputs": [
    {
     "data": {
      "text/latex": [
       "$\\displaystyle \\frac{120224 \\eta g_{4}^{2} \\overline{\\eta}}{385 w_{t}} - \\frac{306 g_{4}^{2}}{5 w_{t}}$"
      ],
      "text/plain": [
       "120224*eta*g4**2*conjugate(eta)/(385*w_t) - 306*g4**2/(5*w_t)"
      ]
     },
     "execution_count": 96,
     "metadata": {},
     "output_type": "execute_result"
    }
   ],
   "source": [
    "sp.simplify(h2_ti.coeff(ad**2*a**2)).expand()"
   ]
  },
  {
   "cell_type": "code",
   "execution_count": 97,
   "id": "fdf86cbc-0b4f-4ff4-8afe-2faa9f036bfb",
   "metadata": {
    "execution": {
     "iopub.execute_input": "2023-09-19T02:35:44.306511Z",
     "iopub.status.busy": "2023-09-19T02:35:44.306331Z",
     "iopub.status.idle": "2023-09-19T02:35:44.330861Z",
     "shell.execute_reply": "2023-09-19T02:35:44.330544Z",
     "shell.execute_reply.started": "2023-09-19T02:35:44.306498Z"
    },
    "tags": []
   },
   "outputs": [
    {
     "data": {
      "text/latex": [
       "$\\displaystyle \\frac{29232 \\eta^{2} g_{4}^{2} \\overline{\\eta}^{2}}{55 w_{t}} + \\frac{240448 \\eta g_{4}^{2} \\overline{\\eta}}{385 w_{t}} - \\frac{288 g_{4}^{2}}{5 w_{t}}$"
      ],
      "text/plain": [
       "29232*eta**2*g4**2*conjugate(eta)**2/(55*w_t) + 240448*eta*g4**2*conjugate(eta)/(385*w_t) - 288*g4**2/(5*w_t)"
      ]
     },
     "execution_count": 97,
     "metadata": {},
     "output_type": "execute_result"
    }
   ],
   "source": [
    "sp.simplify(h2_ti.coeff(ad**1*a**1)).expand()"
   ]
  },
  {
   "cell_type": "markdown",
   "id": "f6cba063",
   "metadata": {},
   "source": [
    "### obtain up to $\\hat{H}_3$"
   ]
  },
  {
   "cell_type": "code",
   "execution_count": 98,
   "id": "e7f978ca-40eb-45c2-9e17-bdab9f9e980d",
   "metadata": {
    "execution": {
     "iopub.execute_input": "2023-09-19T02:35:54.636599Z",
     "iopub.status.busy": "2023-09-19T02:35:54.636276Z",
     "iopub.status.idle": "2023-09-19T02:35:54.946853Z",
     "shell.execute_reply": "2023-09-19T02:35:54.946488Z",
     "shell.execute_reply.started": "2023-09-19T02:35:54.636584Z"
    },
    "tags": []
   },
   "outputs": [],
   "source": [
    "temp = 0\n",
    "for term in (v2-h2).args:\n",
    "    if (term.as_powers_dict()[ad] != term.as_powers_dict()[a] or \n",
    "        term.as_powers_dict()[eta] != term.as_powers_dict()[eta.conjugate()]):\n",
    "        \n",
    "        temp += term / (5*w_t * (term.as_powers_dict()[ad] - term.as_powers_dict()[a]) + \n",
    "                        6*w_t * (term.as_powers_dict()[eta.conjugate()] - term.as_powers_dict()[eta]) )\n",
    "s2= normal(temp) * 1"
   ]
  },
  {
   "cell_type": "code",
   "execution_count": 99,
   "id": "cd920a62-d387-49e0-956e-bf4de49d3f68",
   "metadata": {
    "execution": {
     "iopub.execute_input": "2023-09-19T02:35:54.947649Z",
     "iopub.status.busy": "2023-09-19T02:35:54.947538Z",
     "iopub.status.idle": "2023-09-19T02:35:55.203086Z",
     "shell.execute_reply": "2023-09-19T02:35:55.202686Z",
     "shell.execute_reply.started": "2023-09-19T02:35:54.947640Z"
    },
    "tags": []
   },
   "outputs": [],
   "source": [
    "s_tot_1 = s1 * kappa\n",
    "s_tot_2 = s2 * kappa**2\n",
    "sd_tot_1 = sp.diff(s_tot_1, t)\n",
    "sd_tot_2 = sp.diff(s_tot_2, t)"
   ]
  },
  {
   "cell_type": "code",
   "execution_count": 101,
   "id": "a8626a1e-9ede-466a-8cea-3a8d89a35f8a",
   "metadata": {
    "execution": {
     "iopub.execute_input": "2023-09-19T02:37:33.061187Z",
     "iopub.status.busy": "2023-09-19T02:37:33.061012Z",
     "iopub.status.idle": "2023-09-19T02:38:22.327975Z",
     "shell.execute_reply": "2023-09-19T02:38:22.327669Z",
     "shell.execute_reply.started": "2023-09-19T02:37:33.061174Z"
    },
    "tags": []
   },
   "outputs": [
    {
     "name": "stdout",
     "output_type": "stream",
     "text": [
      "x\n",
      "x\n",
      "x\n"
     ]
    }
   ],
   "source": [
    "# time-independent part \n",
    "h_tot = h0 + kappa*v \n",
    "h_eff_3_ti = 0\n",
    "h_eff_2_ti = 0\n",
    "\n",
    "temp_3 = normal(Commutator(s_tot_2, h_tot.coeff(kappa,1)*kappa**1).doit() )\n",
    "temp_2 = normal(Commutator(s_tot_1, h_tot.coeff(kappa,1)*kappa**1).doit() + Commutator(s_tot_2, h_tot.coeff(kappa,0)*kappa**0).doit() )\n",
    "temp_1 = normal(Commutator(s_tot_1, h_tot.coeff(kappa,0)*kappa**0).doit() )\n",
    "print('x')\n",
    "h_eff_3_ti += temp_3\n",
    "h_eff_2_ti += temp_2\n",
    "\n",
    "temp_3 = normal(sp.Rational(1,2)*Commutator(s_tot_2, temp_1).doit() + sp.Rational(1,2)*Commutator(s_tot_1, temp_2).doit())\n",
    "temp_2 = normal(sp.Rational(1,2)*Commutator(s_tot_1, temp_1).doit())\n",
    "print('x')\n",
    "h_eff_3_ti += temp_3\n",
    "h_eff_2_ti += temp_2\n",
    "\n",
    "temp_3 = normal(sp.Rational(1,3)*Commutator(s_tot_1, temp_2).doit())\n",
    "print('x')\n",
    "h_eff_3_ti += temp_3\n",
    "\n",
    "# h_eff_3_ti = h_eff_3_ti.expand()\n",
    "# h_eff_2_ti = h_eff_2_ti.expand()"
   ]
  },
  {
   "cell_type": "code",
   "execution_count": 110,
   "id": "1c164432-c575-42d4-9b7f-adbaa0c65e5b",
   "metadata": {
    "execution": {
     "iopub.execute_input": "2023-09-19T02:42:45.919875Z",
     "iopub.status.busy": "2023-09-19T02:42:45.919705Z",
     "iopub.status.idle": "2023-09-19T02:43:11.807764Z",
     "shell.execute_reply": "2023-09-19T02:43:11.807480Z",
     "shell.execute_reply.started": "2023-09-19T02:42:45.919862Z"
    },
    "tags": []
   },
   "outputs": [
    {
     "name": "stdout",
     "output_type": "stream",
     "text": [
      "x\n"
     ]
    }
   ],
   "source": [
    "# time-dependent part \n",
    "h_eff_3_td = 0\n",
    "h_eff_2_td = 0\n",
    "\n",
    "temp_3 = normal(I*sp.Rational(1,2)*Commutator(s_tot_1, sd_tot_2).doit() + \n",
    "                I*sp.Rational(1,2)*Commutator(s_tot_2, sd_tot_1).doit() )\n",
    "temp_2 = normal(I*sp.Rational(1,2)*Commutator(s_tot_1, sd_tot_1).doit())\n",
    "print('x')                \n",
    "h_eff_3_td += temp_3\n",
    "h_eff_2_td += temp_2\n",
    "\n",
    "temp_3 = normal(sp.Rational(1,3)*Commutator(s_tot_1, temp_2).doit())\n",
    "h_eff_3_td += temp_3\n",
    "\n",
    "# h_eff_3_td = (I * h_eff_3_td).expand()\n",
    "# h_eff_2_td = (I * h_eff_2_td).expand()"
   ]
  },
  {
   "cell_type": "code",
   "execution_count": 111,
   "id": "ffbe1410-98cb-44e8-a29b-ecc8abb69ce2",
   "metadata": {
    "execution": {
     "iopub.execute_input": "2023-09-19T02:43:12.761090Z",
     "iopub.status.busy": "2023-09-19T02:43:12.760907Z",
     "iopub.status.idle": "2023-09-19T02:43:12.777916Z",
     "shell.execute_reply": "2023-09-19T02:43:12.777381Z",
     "shell.execute_reply.started": "2023-09-19T02:43:12.761077Z"
    },
    "tags": []
   },
   "outputs": [],
   "source": [
    "h_eff_2 = h_eff_2_ti + h_eff_2_td\n",
    "h_eff_3 = h_eff_3_ti + h_eff_3_td"
   ]
  },
  {
   "cell_type": "code",
   "execution_count": 112,
   "id": "afa93e79-61e2-46b3-a341-7a522dc6a638",
   "metadata": {
    "execution": {
     "iopub.execute_input": "2023-09-19T02:43:13.141690Z",
     "iopub.status.busy": "2023-09-19T02:43:13.141512Z",
     "iopub.status.idle": "2023-09-19T02:43:14.254612Z",
     "shell.execute_reply": "2023-09-19T02:43:14.254235Z",
     "shell.execute_reply.started": "2023-09-19T02:43:13.141676Z"
    },
    "tags": []
   },
   "outputs": [],
   "source": [
    "v3 = normal(h_eff_3.coeff(kappa,3))\n",
    "v2 = normal(h_eff_2.coeff(kappa,2))"
   ]
  },
  {
   "cell_type": "code",
   "execution_count": 113,
   "id": "b2d96d74-466c-4d70-9326-b70f7ae10016",
   "metadata": {
    "execution": {
     "iopub.execute_input": "2023-09-19T02:43:14.255464Z",
     "iopub.status.busy": "2023-09-19T02:43:14.255377Z",
     "iopub.status.idle": "2023-09-19T02:43:14.297984Z",
     "shell.execute_reply": "2023-09-19T02:43:14.297511Z",
     "shell.execute_reply.started": "2023-09-19T02:43:14.255455Z"
    },
    "tags": []
   },
   "outputs": [],
   "source": [
    "temp = 0\n",
    "for term in v3.args:\n",
    "    if term.as_powers_dict()[ad] == term.as_powers_dict()[a]:\n",
    "        temp += term\n",
    "h3 = temp * 1\n",
    "\n",
    "temp = 0\n",
    "for term in v2.args:\n",
    "    if term.as_powers_dict()[ad] == term.as_powers_dict()[a]:\n",
    "        temp += term\n",
    "h2 = temp * 1\n",
    "\n",
    "temp = 0\n",
    "for term in v1.args:\n",
    "    if term.as_powers_dict()[ad] == term.as_powers_dict()[a]:\n",
    "        temp += term\n",
    "h1 = temp * 1"
   ]
  },
  {
   "cell_type": "code",
   "execution_count": 114,
   "id": "6ae0591d-b9e5-4517-b6c1-b8e19ce0f03a",
   "metadata": {
    "execution": {
     "iopub.execute_input": "2023-09-19T02:43:14.298709Z",
     "iopub.status.busy": "2023-09-19T02:43:14.298607Z",
     "iopub.status.idle": "2023-09-19T02:43:14.306297Z",
     "shell.execute_reply": "2023-09-19T02:43:14.305872Z",
     "shell.execute_reply.started": "2023-09-19T02:43:14.298700Z"
    },
    "tags": []
   },
   "outputs": [],
   "source": [
    "temp = 0\n",
    "for term in h3.args:\n",
    "    if term.as_powers_dict()[eta] == term.as_powers_dict()[eta.conjugate()]:\n",
    "        temp += term\n",
    "h3_ti = temp * 1\n",
    "\n",
    "temp = 0\n",
    "for term in h2.args:\n",
    "    if term.as_powers_dict()[eta] == term.as_powers_dict()[eta.conjugate()]:\n",
    "        temp += term\n",
    "h2_ti = temp * 1\n",
    "\n",
    "temp = 0\n",
    "for term in h1.args:\n",
    "    if term.as_powers_dict()[eta] == term.as_powers_dict()[eta.conjugate()]:\n",
    "        temp += term\n",
    "h1_ti = temp * 1"
   ]
  },
  {
   "cell_type": "code",
   "execution_count": 115,
   "id": "32e7064f-2b0b-4cb1-be27-0fb1de21657b",
   "metadata": {
    "execution": {
     "iopub.execute_input": "2023-09-19T02:43:15.110505Z",
     "iopub.status.busy": "2023-09-19T02:43:15.110323Z",
     "iopub.status.idle": "2023-09-19T02:43:15.265675Z",
     "shell.execute_reply": "2023-09-19T02:43:15.265387Z",
     "shell.execute_reply.started": "2023-09-19T02:43:15.110491Z"
    },
    "tags": []
   },
   "outputs": [
    {
     "data": {
      "text/latex": [
       "$\\displaystyle \\frac{46729017600 \\eta^{4} g_{4}^{3} \\overline{\\eta}^{4}}{10817521 w_{t}^{2}} + \\frac{2952106435776 \\eta^{3} g_{4}^{3} \\overline{\\eta}^{3}}{270438025 w_{t}^{2}} + \\frac{5904212871552 \\eta^{3} g_{4}^{3} \\overline{\\eta}^{3} {b^\\dagger_{a}} b_{a}}{270438025 w_{t}^{2}} + \\frac{3144953344 \\eta^{2} g_{4}^{3} \\overline{\\eta}^{2}}{444675 w_{t}^{2}} + \\frac{6411937792 \\eta^{2} g_{4}^{3} \\overline{\\eta}^{2} {b^\\dagger_{a}} b_{a}}{148225 w_{t}^{2}} + \\frac{3205968896 \\eta^{2} g_{4}^{3} \\overline{\\eta}^{2} {b^\\dagger_{a}}^{2} b_{a}^{2}}{148225 w_{t}^{2}} + \\frac{83104976 \\eta g_{4}^{3} \\overline{\\eta}}{88935 w_{t}^{2}} + \\frac{1228651264 \\eta g_{4}^{3} \\overline{\\eta} {b^\\dagger_{a}} b_{a}}{88935 w_{t}^{2}} + \\frac{531220656 \\eta g_{4}^{3} \\overline{\\eta} {b^\\dagger_{a}}^{2} b_{a}^{2}}{29645 w_{t}^{2}} + \\frac{354147104 \\eta g_{4}^{3} \\overline{\\eta} {b^\\dagger_{a}}^{3} b_{a}^{3}}{88935 w_{t}^{2}} + \\frac{1332 g_{4}^{3}}{25 w_{t}^{2}} + \\frac{14328 g_{4}^{3} {b^\\dagger_{a}} b_{a}}{25 w_{t}^{2}} + \\frac{25164 g_{4}^{3} {b^\\dagger_{a}}^{2} b_{a}^{2}}{25 w_{t}^{2}} + \\frac{480 g_{4}^{3} {b^\\dagger_{a}}^{3} b_{a}^{3}}{w_{t}^{2}} + \\frac{60 g_{4}^{3} {b^\\dagger_{a}}^{4} b_{a}^{4}}{w_{t}^{2}}$"
      ],
      "text/plain": [
       "46729017600*eta**4*g4**3*conjugate(eta)**4/(10817521*w_t**2) + 2952106435776*eta**3*g4**3*conjugate(eta)**3/(270438025*w_t**2) + 5904212871552*eta**3*g4**3*conjugate(eta)**3*CreateBoson(a)*AnnihilateBoson(a)/(270438025*w_t**2) + 3144953344*eta**2*g4**3*conjugate(eta)**2/(444675*w_t**2) + 6411937792*eta**2*g4**3*conjugate(eta)**2*CreateBoson(a)*AnnihilateBoson(a)/(148225*w_t**2) + 3205968896*eta**2*g4**3*conjugate(eta)**2*CreateBoson(a)**2*AnnihilateBoson(a)**2/(148225*w_t**2) + 83104976*eta*g4**3*conjugate(eta)/(88935*w_t**2) + 1228651264*eta*g4**3*conjugate(eta)*CreateBoson(a)*AnnihilateBoson(a)/(88935*w_t**2) + 531220656*eta*g4**3*conjugate(eta)*CreateBoson(a)**2*AnnihilateBoson(a)**2/(29645*w_t**2) + 354147104*eta*g4**3*conjugate(eta)*CreateBoson(a)**3*AnnihilateBoson(a)**3/(88935*w_t**2) + 1332*g4**3/(25*w_t**2) + 14328*g4**3*CreateBoson(a)*AnnihilateBoson(a)/(25*w_t**2) + 25164*g4**3*CreateBoson(a)**2*AnnihilateBoson(a)**2/(25*w_t**2) + 480*g4**3*CreateBoson(a)**3*AnnihilateBoson(a)**3/w_t**2 + 60*g4**3*CreateBoson(a)**4*AnnihilateBoson(a)**4/w_t**2"
      ]
     },
     "execution_count": 115,
     "metadata": {},
     "output_type": "execute_result"
    }
   ],
   "source": [
    "sp.simplify(h3_ti).expand()"
   ]
  },
  {
   "cell_type": "code",
   "execution_count": 116,
   "id": "eccb1f83-2c76-4152-8f46-f71f62c71a3b",
   "metadata": {
    "execution": {
     "iopub.execute_input": "2023-09-19T02:43:32.892565Z",
     "iopub.status.busy": "2023-09-19T02:43:32.892395Z",
     "iopub.status.idle": "2023-09-19T02:43:32.912362Z",
     "shell.execute_reply": "2023-09-19T02:43:32.911893Z",
     "shell.execute_reply.started": "2023-09-19T02:43:32.892554Z"
    },
    "tags": []
   },
   "outputs": [
    {
     "data": {
      "text/latex": [
       "$\\displaystyle \\frac{354147104 \\eta g_{4}^{3} \\overline{\\eta}}{88935 w_{t}^{2}} + \\frac{480 g_{4}^{3}}{w_{t}^{2}}$"
      ],
      "text/plain": [
       "354147104*eta*g4**3*conjugate(eta)/(88935*w_t**2) + 480*g4**3/w_t**2"
      ]
     },
     "execution_count": 116,
     "metadata": {},
     "output_type": "execute_result"
    }
   ],
   "source": [
    "sp.simplify(h3_ti.coeff(ad**3*a**3)).expand()"
   ]
  },
  {
   "cell_type": "code",
   "execution_count": 117,
   "id": "d8e5758d-44cc-4137-8b02-2f010d3c1948",
   "metadata": {
    "execution": {
     "iopub.execute_input": "2023-09-19T02:43:33.756392Z",
     "iopub.status.busy": "2023-09-19T02:43:33.756236Z",
     "iopub.status.idle": "2023-09-19T02:43:33.780718Z",
     "shell.execute_reply": "2023-09-19T02:43:33.780238Z",
     "shell.execute_reply.started": "2023-09-19T02:43:33.756383Z"
    },
    "tags": []
   },
   "outputs": [
    {
     "data": {
      "text/latex": [
       "$\\displaystyle \\frac{3205968896 \\eta^{2} g_{4}^{3} \\overline{\\eta}^{2}}{148225 w_{t}^{2}} + \\frac{531220656 \\eta g_{4}^{3} \\overline{\\eta}}{29645 w_{t}^{2}} + \\frac{25164 g_{4}^{3}}{25 w_{t}^{2}}$"
      ],
      "text/plain": [
       "3205968896*eta**2*g4**3*conjugate(eta)**2/(148225*w_t**2) + 531220656*eta*g4**3*conjugate(eta)/(29645*w_t**2) + 25164*g4**3/(25*w_t**2)"
      ]
     },
     "execution_count": 117,
     "metadata": {},
     "output_type": "execute_result"
    }
   ],
   "source": [
    "sp.simplify(h3_ti.coeff(ad**2*a**2)).expand()"
   ]
  },
  {
   "cell_type": "code",
   "execution_count": 118,
   "id": "d06b2591-dcbd-45af-bf58-ef5ce0c73a6a",
   "metadata": {
    "execution": {
     "iopub.execute_input": "2023-09-19T02:43:34.515700Z",
     "iopub.status.busy": "2023-09-19T02:43:34.515520Z",
     "iopub.status.idle": "2023-09-19T02:43:34.546291Z",
     "shell.execute_reply": "2023-09-19T02:43:34.545788Z",
     "shell.execute_reply.started": "2023-09-19T02:43:34.515687Z"
    },
    "tags": []
   },
   "outputs": [
    {
     "data": {
      "text/latex": [
       "$\\displaystyle \\frac{5904212871552 \\eta^{3} g_{4}^{3} \\overline{\\eta}^{3}}{270438025 w_{t}^{2}} + \\frac{6411937792 \\eta^{2} g_{4}^{3} \\overline{\\eta}^{2}}{148225 w_{t}^{2}} + \\frac{1228651264 \\eta g_{4}^{3} \\overline{\\eta}}{88935 w_{t}^{2}} + \\frac{14328 g_{4}^{3}}{25 w_{t}^{2}}$"
      ],
      "text/plain": [
       "5904212871552*eta**3*g4**3*conjugate(eta)**3/(270438025*w_t**2) + 6411937792*eta**2*g4**3*conjugate(eta)**2/(148225*w_t**2) + 1228651264*eta*g4**3*conjugate(eta)/(88935*w_t**2) + 14328*g4**3/(25*w_t**2)"
      ]
     },
     "execution_count": 118,
     "metadata": {},
     "output_type": "execute_result"
    }
   ],
   "source": [
    "sp.simplify(h3_ti.coeff(ad**1*a**1)).expand()"
   ]
  },
  {
   "cell_type": "code",
   "execution_count": 119,
   "id": "e93c382e-cca1-4dd3-a74b-17228200e17d",
   "metadata": {
    "execution": {
     "iopub.execute_input": "2023-09-19T02:43:35.214715Z",
     "iopub.status.busy": "2023-09-19T02:43:35.214515Z",
     "iopub.status.idle": "2023-09-19T02:43:35.234828Z",
     "shell.execute_reply": "2023-09-19T02:43:35.234443Z",
     "shell.execute_reply.started": "2023-09-19T02:43:35.214700Z"
    },
    "tags": []
   },
   "outputs": [
    {
     "data": {
      "text/latex": [
       "$\\displaystyle \\frac{21832.0366433382 \\eta^{3} g_{4}^{3} \\overline{\\eta}^{3}}{w_{t}^{2}} + \\frac{43258.1399359082 \\eta^{2} g_{4}^{3} \\overline{\\eta}^{2}}{w_{t}^{2}} + \\frac{13815.1601056952 \\eta g_{4}^{3} \\overline{\\eta}}{w_{t}^{2}} + \\frac{573.12 g_{4}^{3}}{w_{t}^{2}}$"
      ],
      "text/plain": [
       "21832.0366433382*eta**3*g4**3*conjugate(eta)**3/w_t**2 + 43258.1399359082*eta**2*g4**3*conjugate(eta)**2/w_t**2 + 13815.1601056952*eta*g4**3*conjugate(eta)/w_t**2 + 573.12*g4**3/w_t**2"
      ]
     },
     "execution_count": 119,
     "metadata": {},
     "output_type": "execute_result"
    }
   ],
   "source": [
    "sp.simplify(h3_ti.coeff(ad**1*a**1)).expand().evalf()"
   ]
  },
  {
   "cell_type": "markdown",
   "id": "cd8b927b-157f-46b6-91c9-43603e89b6fc",
   "metadata": {},
   "source": [
    "### obtain up to $\\hat{H}_4$"
   ]
  },
  {
   "cell_type": "code",
   "execution_count": 45,
   "id": "8a59eaae-4461-4f09-b3d4-0be4219e35ac",
   "metadata": {
    "execution": {
     "iopub.execute_input": "2023-09-18T17:51:53.959628Z",
     "iopub.status.busy": "2023-09-18T17:51:53.958957Z",
     "iopub.status.idle": "2023-09-18T17:51:55.314140Z",
     "shell.execute_reply": "2023-09-18T17:51:55.313761Z",
     "shell.execute_reply.started": "2023-09-18T17:51:53.959583Z"
    },
    "tags": []
   },
   "outputs": [],
   "source": [
    "temp = 0\n",
    "for term in (v3-h3).args:\n",
    "    if (term.as_powers_dict()[ad] != term.as_powers_dict()[a] or \n",
    "        term.as_powers_dict()[eta] != term.as_powers_dict()[eta.conjugate()]):\n",
    "        \n",
    "        temp += term / (5*w_t * (term.as_powers_dict()[ad] - term.as_powers_dict()[a]) + \n",
    "                        6*w_t * (term.as_powers_dict()[eta.conjugate()] - term.as_powers_dict()[eta]) )\n",
    "s3= normal(temp) * 1"
   ]
  },
  {
   "cell_type": "code",
   "execution_count": 46,
   "id": "2f573bd3-c797-43b9-953a-8d2a1329baa9",
   "metadata": {
    "execution": {
     "iopub.execute_input": "2023-09-18T17:52:16.351329Z",
     "iopub.status.busy": "2023-09-18T17:52:16.350702Z",
     "iopub.status.idle": "2023-09-18T17:52:16.919964Z",
     "shell.execute_reply": "2023-09-18T17:52:16.919637Z",
     "shell.execute_reply.started": "2023-09-18T17:52:16.351296Z"
    },
    "tags": []
   },
   "outputs": [],
   "source": [
    "s_tot_1 = s1 * kappa\n",
    "s_tot_2 = s2 * kappa**2\n",
    "s_tot_3 = s3 * kappa**3\n",
    "sd_tot_1 = sp.diff(s_tot_1, t)\n",
    "sd_tot_2 = sp.diff(s_tot_2, t)\n",
    "sd_tot_3 = sp.diff(s_tot_3, t)"
   ]
  },
  {
   "cell_type": "code",
   "execution_count": 47,
   "id": "18300dba-ec51-48ea-94f2-18c139b73e96",
   "metadata": {
    "execution": {
     "iopub.execute_input": "2023-09-18T17:53:08.129708Z",
     "iopub.status.busy": "2023-09-18T17:53:08.129170Z",
     "iopub.status.idle": "2023-09-18T17:56:58.979642Z",
     "shell.execute_reply": "2023-09-18T17:56:58.979353Z",
     "shell.execute_reply.started": "2023-09-18T17:53:08.129675Z"
    },
    "tags": []
   },
   "outputs": [
    {
     "name": "stdout",
     "output_type": "stream",
     "text": [
      "x\n",
      "x\n",
      "x\n",
      "x\n"
     ]
    }
   ],
   "source": [
    "# time-independent part \n",
    "h_tot = h0 + kappa*v \n",
    "h_eff_4_ti = 0\n",
    "h_eff_3_ti = 0\n",
    "h_eff_2_ti = 0\n",
    "\n",
    "temp_4 = normal(Commutator(s_tot_3, h_tot.coeff(kappa,1)*kappa**1).doit() )\n",
    "temp_3 = normal(Commutator(s_tot_2, h_tot.coeff(kappa,1)*kappa**1).doit() + Commutator(s_tot_3, h_tot.coeff(kappa,0)*kappa**0).doit() )\n",
    "temp_2 = normal(Commutator(s_tot_1, h_tot.coeff(kappa,1)*kappa**1).doit() + Commutator(s_tot_2, h_tot.coeff(kappa,0)*kappa**0).doit() )\n",
    "temp_1 = normal(Commutator(s_tot_1, h_tot.coeff(kappa,0)*kappa**0).doit() )\n",
    "print('x')\n",
    "h_eff_4_ti += temp_4\n",
    "h_eff_3_ti += temp_3\n",
    "h_eff_2_ti += temp_2\n",
    "\n",
    "temp_4 = normal(Commutator(s_tot_3, temp_1).doit() + Commutator(s_tot_2, temp_2).doit() + Commutator(s_tot_1, temp_3).doit())\n",
    "temp_3 = normal(Commutator(s_tot_2, temp_1).doit() + Commutator(s_tot_1, temp_2).doit())\n",
    "temp_2 = normal(Commutator(s_tot_1, temp_1).doit())\n",
    "print('x')\n",
    "h_eff_4_ti += sp.Rational(1,2) * temp_4\n",
    "h_eff_3_ti += sp.Rational(1,2) * temp_3\n",
    "h_eff_2_ti += sp.Rational(1,2) * temp_2\n",
    "\n",
    "temp_4 = normal(Commutator(s_tot_2, temp_2).doit() + Commutator(s_tot_1, temp_3).doit())\n",
    "temp_3 = normal(Commutator(s_tot_1, temp_2).doit())\n",
    "print('x')\n",
    "h_eff_4_ti += sp.Rational(1,6) * temp_4\n",
    "h_eff_3_ti += sp.Rational(1,6) * temp_3\n",
    "\n",
    "temp_4 = normal(Commutator(s_tot_1, temp_3).doit())\n",
    "print('x')\n",
    "h_eff_4_ti += sp.Rational(1,24) * temp_4\n",
    "\n",
    "\n",
    "h_eff_4_ti = h_eff_4_ti.expand()\n",
    "h_eff_3_ti = h_eff_3_ti.expand()\n",
    "h_eff_2_ti = h_eff_2_ti.expand()"
   ]
  },
  {
   "cell_type": "code",
   "execution_count": 55,
   "id": "437625ba-e54c-45f8-ab8e-15cdccb11a24",
   "metadata": {
    "execution": {
     "iopub.execute_input": "2023-09-18T18:02:00.956653Z",
     "iopub.status.busy": "2023-09-18T18:02:00.955999Z",
     "iopub.status.idle": "2023-09-18T18:04:26.331773Z",
     "shell.execute_reply": "2023-09-18T18:04:26.331449Z",
     "shell.execute_reply.started": "2023-09-18T18:02:00.956607Z"
    },
    "tags": []
   },
   "outputs": [
    {
     "name": "stdout",
     "output_type": "stream",
     "text": [
      "x\n",
      "x\n",
      "x\n"
     ]
    }
   ],
   "source": [
    "# time-dependent part \n",
    "h_eff_4_td = 0\n",
    "h_eff_3_td = 0\n",
    "h_eff_2_td = 0\n",
    "\n",
    "temp_4 = normal(Commutator(s_tot_1, sd_tot_3).doit() + \n",
    "                Commutator(s_tot_2, sd_tot_2).doit() +\n",
    "                Commutator(s_tot_3, sd_tot_1).doit())\n",
    "temp_3 = normal(Commutator(s_tot_1, sd_tot_2).doit() + \n",
    "                Commutator(s_tot_2, sd_tot_1).doit() )\n",
    "temp_2 = normal(Commutator(s_tot_1, sd_tot_1).doit())\n",
    "print('x')                \n",
    "h_eff_4_td += sp.Rational(1,2) * temp_4\n",
    "h_eff_3_td += sp.Rational(1,2) * temp_3\n",
    "h_eff_2_td += sp.Rational(1,2) * temp_2\n",
    "\n",
    "temp_4 = normal(Commutator(s_tot_1, temp_3).doit() + \n",
    "                Commutator(s_tot_2, temp_2).doit() )\n",
    "temp_3 = normal(Commutator(s_tot_1, temp_2).doit())\n",
    "print('x')             \n",
    "h_eff_4_td += sp.Rational(1,6) * temp_4\n",
    "h_eff_3_td += sp.Rational(1,6) * temp_3\n",
    "\n",
    "temp_4 = normal(Commutator(s_tot_1, temp_3).doit())\n",
    "print('x')             \n",
    "h_eff_4_td += sp.Rational(1,24) * temp_4\n",
    "\n",
    "h_eff_4_td = (I * h_eff_4_td).expand()\n",
    "h_eff_3_td = (I * h_eff_3_td).expand()\n",
    "h_eff_2_td = (I * h_eff_2_td).expand()"
   ]
  },
  {
   "cell_type": "code",
   "execution_count": 56,
   "id": "c7c381cc-b093-4ff7-b728-9ea567504c52",
   "metadata": {
    "execution": {
     "iopub.execute_input": "2023-09-18T18:05:18.282968Z",
     "iopub.status.busy": "2023-09-18T18:05:18.282529Z",
     "iopub.status.idle": "2023-09-18T18:05:18.346810Z",
     "shell.execute_reply": "2023-09-18T18:05:18.346313Z",
     "shell.execute_reply.started": "2023-09-18T18:05:18.282940Z"
    },
    "tags": []
   },
   "outputs": [],
   "source": [
    "h_eff_2 = h_eff_2_ti + h_eff_2_td\n",
    "h_eff_3 = h_eff_3_ti + h_eff_3_td\n",
    "h_eff_4 = h_eff_4_ti + h_eff_4_td"
   ]
  },
  {
   "cell_type": "code",
   "execution_count": 57,
   "id": "9d5bb407-9505-4cb1-a2aa-4e49cf64e5cc",
   "metadata": {
    "execution": {
     "iopub.execute_input": "2023-09-18T18:05:18.570722Z",
     "iopub.status.busy": "2023-09-18T18:05:18.569945Z",
     "iopub.status.idle": "2023-09-18T18:05:21.523417Z",
     "shell.execute_reply": "2023-09-18T18:05:21.522966Z",
     "shell.execute_reply.started": "2023-09-18T18:05:18.570686Z"
    },
    "tags": []
   },
   "outputs": [],
   "source": [
    "v4 = normal(h_eff_4.coeff(kappa,4))\n",
    "v3 = normal(h_eff_3.coeff(kappa,3))\n",
    "v2 = normal(h_eff_2.coeff(kappa,2))"
   ]
  },
  {
   "cell_type": "code",
   "execution_count": 58,
   "id": "43258b49-6cf6-4886-ad95-b178b363a6f9",
   "metadata": {
    "execution": {
     "iopub.execute_input": "2023-09-18T18:05:22.637980Z",
     "iopub.status.busy": "2023-09-18T18:05:22.635902Z",
     "iopub.status.idle": "2023-09-18T18:05:22.762674Z",
     "shell.execute_reply": "2023-09-18T18:05:22.762333Z",
     "shell.execute_reply.started": "2023-09-18T18:05:22.637931Z"
    },
    "tags": []
   },
   "outputs": [],
   "source": [
    "temp = 0\n",
    "for term in v4.args:\n",
    "    if term.as_powers_dict()[ad] == term.as_powers_dict()[a]:\n",
    "        temp += term\n",
    "h4 = temp * 1\n",
    "\n",
    "temp = 0\n",
    "for term in v3.args:\n",
    "    if term.as_powers_dict()[ad] == term.as_powers_dict()[a]:\n",
    "        temp += term\n",
    "h3 = temp * 1\n",
    "\n",
    "temp = 0\n",
    "for term in v2.args:\n",
    "    if term.as_powers_dict()[ad] == term.as_powers_dict()[a]:\n",
    "        temp += term\n",
    "h2 = temp * 1\n",
    "\n",
    "temp = 0\n",
    "for term in v1.args:\n",
    "    if term.as_powers_dict()[ad] == term.as_powers_dict()[a]:\n",
    "        temp += term\n",
    "h1 = temp * 1"
   ]
  },
  {
   "cell_type": "code",
   "execution_count": 59,
   "id": "c8951f82-e583-4f05-9a51-1cd02a2294b8",
   "metadata": {
    "execution": {
     "iopub.execute_input": "2023-09-18T18:05:24.495299Z",
     "iopub.status.busy": "2023-09-18T18:05:24.494197Z",
     "iopub.status.idle": "2023-09-18T18:05:24.525682Z",
     "shell.execute_reply": "2023-09-18T18:05:24.525263Z",
     "shell.execute_reply.started": "2023-09-18T18:05:24.495258Z"
    },
    "tags": []
   },
   "outputs": [],
   "source": [
    "temp = 0\n",
    "for term in h4.args:\n",
    "    if term.as_powers_dict()[eta] == term.as_powers_dict()[eta.conjugate()]:\n",
    "        temp += term\n",
    "h4_ti = temp * 1\n",
    "\n",
    "temp = 0\n",
    "for term in h3.args:\n",
    "    if term.as_powers_dict()[eta] == term.as_powers_dict()[eta.conjugate()]:\n",
    "        temp += term\n",
    "h3_ti = temp * 1\n",
    "\n",
    "temp = 0\n",
    "for term in h2.args:\n",
    "    if term.as_powers_dict()[eta] == term.as_powers_dict()[eta.conjugate()]:\n",
    "        temp += term\n",
    "h2_ti = temp * 1\n",
    "\n",
    "temp = 0\n",
    "for term in h1.args:\n",
    "    if term.as_powers_dict()[eta] == term.as_powers_dict()[eta.conjugate()]:\n",
    "        temp += term\n",
    "h1_ti = temp * 1"
   ]
  },
  {
   "cell_type": "code",
   "execution_count": 60,
   "id": "6583cc55-1c76-4784-8bfe-c4df4729788a",
   "metadata": {
    "execution": {
     "iopub.execute_input": "2023-09-18T18:05:25.252337Z",
     "iopub.status.busy": "2023-09-18T18:05:25.251953Z",
     "iopub.status.idle": "2023-09-18T18:05:25.304470Z",
     "shell.execute_reply": "2023-09-18T18:05:25.304035Z",
     "shell.execute_reply.started": "2023-09-18T18:05:25.252313Z"
    },
    "tags": []
   },
   "outputs": [
    {
     "data": {
      "text/latex": [
       "$\\displaystyle \\frac{1517276.64381966 \\eta^{3} g_{4}^{4} \\overline{\\eta}^{3}}{w_{t}^{3}} + \\frac{2723568.19874419 \\eta^{2} g_{4}^{4} \\overline{\\eta}^{2}}{w_{t}^{3}} + \\frac{655973.706331872 \\eta g_{4}^{4} \\overline{\\eta}}{w_{t}^{3}} - \\frac{20529.36 g_{4}^{4}}{w_{t}^{3}}$"
      ],
      "text/plain": [
       "1517276.64381966*eta**3*g4**4*conjugate(eta)**3/w_t**3 + 2723568.19874419*eta**2*g4**4*conjugate(eta)**2/w_t**3 + 655973.706331872*eta*g4**4*conjugate(eta)/w_t**3 - 20529.36*g4**4/w_t**3"
      ]
     },
     "execution_count": 60,
     "metadata": {},
     "output_type": "execute_result"
    }
   ],
   "source": [
    "sp.simplify(h4_ti.coeff(ad**2*a**2)).expand().evalf()"
   ]
  },
  {
   "cell_type": "markdown",
   "id": "ed5486f7-55cd-4064-970b-6e6b245ab9fb",
   "metadata": {},
   "source": [
    "### summary"
   ]
  },
  {
   "cell_type": "code",
   "execution_count": 62,
   "id": "ecd71b83-9e35-4622-8ca2-ef118099d2e2",
   "metadata": {
    "execution": {
     "iopub.execute_input": "2023-09-18T18:06:03.041937Z",
     "iopub.status.busy": "2023-09-18T18:06:03.041271Z",
     "iopub.status.idle": "2023-09-18T18:06:03.073059Z",
     "shell.execute_reply": "2023-09-18T18:06:03.072733Z",
     "shell.execute_reply.started": "2023-09-18T18:06:03.041892Z"
    },
    "tags": []
   },
   "outputs": [
    {
     "data": {
      "text/latex": [
       "$\\displaystyle \\frac{1079393.90942745 \\eta^{4} g_{4}^{4} \\overline{\\eta}^{4}}{w_{t}^{3}} + \\frac{3034553.28763932 \\eta^{3} g_{4}^{4} \\overline{\\eta}^{3}}{w_{t}^{3}} + \\frac{21832.0366433382 \\eta^{3} g_{4}^{3} \\overline{\\eta}^{3}}{w_{t}^{2}} + \\frac{2101485.2313553 \\eta^{2} g_{4}^{4} \\overline{\\eta}^{2}}{w_{t}^{3}} + \\frac{43258.1399359082 \\eta^{2} g_{4}^{3} \\overline{\\eta}^{2}}{w_{t}^{2}} + \\frac{531.490909090909 \\eta^{2} g_{4}^{2} \\overline{\\eta}^{2}}{w_{t}} + \\frac{246852.286098873 \\eta g_{4}^{4} \\overline{\\eta}}{w_{t}^{3}} + \\frac{13815.1601056952 \\eta g_{4}^{3} \\overline{\\eta}}{w_{t}^{2}} + \\frac{624.54025974026 \\eta g_{4}^{2} \\overline{\\eta}}{w_{t}} + 24.0 \\eta g_{4} \\overline{\\eta} - \\frac{7833.6 g_{4}^{4}}{w_{t}^{3}} + \\frac{573.12 g_{4}^{3}}{w_{t}^{2}} - \\frac{57.6 g_{4}^{2}}{w_{t}} + 12.0 g_{4}$"
      ],
      "text/plain": [
       "1079393.90942745*eta**4*g4**4*conjugate(eta)**4/w_t**3 + 3034553.28763932*eta**3*g4**4*conjugate(eta)**3/w_t**3 + 21832.0366433382*eta**3*g4**3*conjugate(eta)**3/w_t**2 + 2101485.2313553*eta**2*g4**4*conjugate(eta)**2/w_t**3 + 43258.1399359082*eta**2*g4**3*conjugate(eta)**2/w_t**2 + 531.490909090909*eta**2*g4**2*conjugate(eta)**2/w_t + 246852.286098873*eta*g4**4*conjugate(eta)/w_t**3 + 13815.1601056952*eta*g4**3*conjugate(eta)/w_t**2 + 624.54025974026*eta*g4**2*conjugate(eta)/w_t + 24.0*eta*g4*conjugate(eta) - 7833.6*g4**4/w_t**3 + 573.12*g4**3/w_t**2 - 57.6*g4**2/w_t + 12.0*g4"
      ]
     },
     "execution_count": 62,
     "metadata": {},
     "output_type": "execute_result"
    }
   ],
   "source": [
    "(h1_ti+h2_ti+h3_ti+h4_ti).coeff(ad*a).evalf()"
   ]
  },
  {
   "cell_type": "code",
   "execution_count": 63,
   "id": "ad9aa4dd-6b1d-4475-a5df-6887b9cf2b7b",
   "metadata": {
    "execution": {
     "iopub.execute_input": "2023-09-18T18:06:20.994827Z",
     "iopub.status.busy": "2023-09-18T18:06:20.994156Z",
     "iopub.status.idle": "2023-09-18T18:06:21.018574Z",
     "shell.execute_reply": "2023-09-18T18:06:21.018250Z",
     "shell.execute_reply.started": "2023-09-18T18:06:20.994781Z"
    },
    "tags": []
   },
   "outputs": [
    {
     "data": {
      "text/latex": [
       "$\\displaystyle \\frac{1517276.64381966 \\eta^{3} g_{4}^{4} \\overline{\\eta}^{3}}{w_{t}^{3}} + \\frac{2723568.19874419 \\eta^{2} g_{4}^{4} \\overline{\\eta}^{2}}{w_{t}^{3}} + \\frac{21629.0699679541 \\eta^{2} g_{4}^{3} \\overline{\\eta}^{2}}{w_{t}^{2}} + \\frac{655973.706331872 \\eta g_{4}^{4} \\overline{\\eta}}{w_{t}^{3}} + \\frac{17919.4014504976 \\eta g_{4}^{3} \\overline{\\eta}}{w_{t}^{2}} + \\frac{312.27012987013 \\eta g_{4}^{2} \\overline{\\eta}}{w_{t}} - \\frac{20529.36 g_{4}^{4}}{w_{t}^{3}} + \\frac{1006.56 g_{4}^{3}}{w_{t}^{2}} - \\frac{61.2 g_{4}^{2}}{w_{t}} + 6.0 g_{4}$"
      ],
      "text/plain": [
       "1517276.64381966*eta**3*g4**4*conjugate(eta)**3/w_t**3 + 2723568.19874419*eta**2*g4**4*conjugate(eta)**2/w_t**3 + 21629.0699679541*eta**2*g4**3*conjugate(eta)**2/w_t**2 + 655973.706331872*eta*g4**4*conjugate(eta)/w_t**3 + 17919.4014504976*eta*g4**3*conjugate(eta)/w_t**2 + 312.27012987013*eta*g4**2*conjugate(eta)/w_t - 20529.36*g4**4/w_t**3 + 1006.56*g4**3/w_t**2 - 61.2*g4**2/w_t + 6.0*g4"
      ]
     },
     "execution_count": 63,
     "metadata": {},
     "output_type": "execute_result"
    }
   ],
   "source": [
    "(h1_ti+h2_ti+h3_ti+h4_ti).coeff(ad**2*a**2).evalf()"
   ]
  },
  {
   "cell_type": "code",
   "execution_count": 7,
   "id": "2a89caf7-55a2-44aa-b377-a90b24940db9",
   "metadata": {},
   "outputs": [
    {
     "data": {
      "text/plain": [
       "0.0699854212223765"
      ]
     },
     "execution_count": 7,
     "metadata": {},
     "output_type": "execute_result"
    }
   ],
   "source": [
    "pow((3./2),0.5)*0.08/(3.5-6*0.35)"
   ]
  },
  {
   "cell_type": "code",
   "execution_count": 48,
   "id": "dbfbf949",
   "metadata": {},
   "outputs": [
    {
     "data": {
      "text/plain": [
       "0.35000000000000003"
      ]
     },
     "execution_count": 48,
     "metadata": {},
     "output_type": "execute_result"
    }
   ],
   "source": [
    "2.7/(2.*(1+2*1))-0.08/(2*0.1*pow(2.*(1+2*0.5),1))"
   ]
  },
  {
   "cell_type": "code",
   "execution_count": 44,
   "id": "181b2373",
   "metadata": {},
   "outputs": [
    {
     "data": {
      "text/plain": [
       "0.32659863237109044"
      ]
     },
     "execution_count": 44,
     "metadata": {},
     "output_type": "execute_result"
    }
   ],
   "source": [
    "0.8/(pow(2.*(1+2*1),0.5))"
   ]
  },
  {
   "cell_type": "code",
   "execution_count": 49,
   "id": "e3ab8dcd",
   "metadata": {},
   "outputs": [
    {
     "data": {
      "text/plain": [
       "35.86552478134111"
      ]
     },
     "execution_count": 49,
     "metadata": {},
     "output_type": "execute_result"
    }
   ],
   "source": [
    "pow(2.7,4)/(pow(0.35000000000000003,3)*32.*0.27*(1+2*0.5)**2)"
   ]
  },
  {
   "cell_type": "code",
   "execution_count": null,
   "id": "0e4911a5",
   "metadata": {},
   "outputs": [],
   "source": []
  }
 ],
 "metadata": {
  "kernelspec": {
   "display_name": "Python 3 (ipykernel)",
   "language": "python",
   "name": "python3"
  },
  "language_info": {
   "codemirror_mode": {
    "name": "ipython",
    "version": 3
   },
   "file_extension": ".py",
   "mimetype": "text/x-python",
   "name": "python",
   "nbconvert_exporter": "python",
   "pygments_lexer": "ipython3",
   "version": "3.8.3"
  }
 },
 "nbformat": 4,
 "nbformat_minor": 5
}
