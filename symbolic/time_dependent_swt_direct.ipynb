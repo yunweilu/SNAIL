{
 "cells": [
  {
   "cell_type": "code",
   "execution_count": 1,
   "id": "27ca754a-9d30-4a6d-8054-db633309ef22",
   "metadata": {
    "execution": {
     "iopub.execute_input": "2023-09-18T17:34:06.006542Z",
     "iopub.status.busy": "2023-09-18T17:34:06.006428Z",
     "iopub.status.idle": "2023-09-18T17:34:06.268675Z",
     "shell.execute_reply": "2023-09-18T17:34:06.268393Z",
     "shell.execute_reply.started": "2023-09-18T17:34:06.006524Z"
    },
    "tags": []
   },
   "outputs": [],
   "source": [
    "from sympy.physics.secondquant import *\n",
    "from sympy import symbols, I\n",
    "import sympy as sp\n",
    "from no import normal\n",
    "from sympy import exp\n",
    "from sympy import symbols, diff"
   ]
  },
  {
   "cell_type": "code",
   "execution_count": 2,
   "id": "bee929bb-cb95-42cf-8cfc-b637ef21834a",
   "metadata": {
    "execution": {
     "iopub.execute_input": "2023-09-18T17:34:06.269930Z",
     "iopub.status.busy": "2023-09-18T17:34:06.269812Z",
     "iopub.status.idle": "2023-09-18T17:34:06.272079Z",
     "shell.execute_reply": "2023-09-18T17:34:06.271760Z",
     "shell.execute_reply.started": "2023-09-18T17:34:06.269921Z"
    },
    "tags": []
   },
   "outputs": [],
   "source": [
    "ind_a = symbols('s')\n",
    "a = B(ind_a)\n",
    "ad = Bd(ind_a)"
   ]
  },
  {
   "cell_type": "code",
   "execution_count": 3,
   "id": "bd55f7a7-b1e1-4a35-94cb-263462a7bec0",
   "metadata": {
    "execution": {
     "iopub.execute_input": "2023-09-18T17:34:06.272565Z",
     "iopub.status.busy": "2023-09-18T17:34:06.272476Z",
     "iopub.status.idle": "2023-09-18T17:34:06.274933Z",
     "shell.execute_reply": "2023-09-18T17:34:06.274637Z",
     "shell.execute_reply.started": "2023-09-18T17:34:06.272557Z"
    },
    "tags": []
   },
   "outputs": [],
   "source": [
    "g4 = symbols('g4', real=True)\n",
    "g3 = symbols('g3', real=True)\n",
    "w_t = symbols('w_t', real=True)\n",
    "omega_a = symbols('w_s', real=True)\n",
    "omega_d = symbols('w_d', real=True)\n",
    "t = symbols('t', real=True)\n",
    "eta = symbols('eta', real=False)\n",
    "kappa = symbols('kappa', real=True)"
   ]
  },
  {
   "cell_type": "code",
   "execution_count": 4,
   "id": "86e082c8-2981-467e-abfc-fc96b02e9e6c",
   "metadata": {
    "execution": {
     "iopub.execute_input": "2023-09-18T17:34:06.275557Z",
     "iopub.status.busy": "2023-09-18T17:34:06.275445Z",
     "iopub.status.idle": "2023-09-18T17:34:06.277925Z",
     "shell.execute_reply": "2023-09-18T17:34:06.277625Z",
     "shell.execute_reply.started": "2023-09-18T17:34:06.275548Z"
    },
    "tags": []
   },
   "outputs": [],
   "source": [
    "h0 =omega_a * ad * a"
   ]
  },
  {
   "cell_type": "code",
   "execution_count": 5,
   "id": "cb9a2f02-ca22-4202-abce-288d7892ccba",
   "metadata": {
    "execution": {
     "iopub.execute_input": "2023-09-18T17:34:11.691132Z",
     "iopub.status.busy": "2023-09-18T17:34:11.690451Z",
     "iopub.status.idle": "2023-09-18T17:34:11.798487Z",
     "shell.execute_reply": "2023-09-18T17:34:11.798172Z",
     "shell.execute_reply.started": "2023-09-18T17:34:11.691086Z"
    },
    "tags": []
   },
   "outputs": [],
   "source": [
    "v = normal(g3*(a + ad + eta*exp(-I*omega_d*t) + eta.conjugate()*exp(I*omega_d*t))**3 +g4 * (a + ad + eta*exp(-I*omega_d*t) + eta.conjugate()*exp(I*omega_d*t))**4  )"
   ]
  },
  {
   "cell_type": "markdown",
   "id": "6d99629b-96b8-4139-bb1e-2af74528d302",
   "metadata": {},
   "source": [
    "### obtain $\\hat{H}_1$"
   ]
  },
  {
   "cell_type": "code",
   "execution_count": 6,
   "id": "1868fc98-9273-429a-a29d-fb50ee3c5f61",
   "metadata": {
    "execution": {
     "iopub.execute_input": "2023-09-18T17:34:13.078193Z",
     "iopub.status.busy": "2023-09-18T17:34:13.077237Z",
     "iopub.status.idle": "2023-09-18T17:34:13.089826Z",
     "shell.execute_reply": "2023-09-18T17:34:13.088794Z",
     "shell.execute_reply.started": "2023-09-18T17:34:13.078139Z"
    },
    "tags": []
   },
   "outputs": [],
   "source": [
    "v1 = v*1"
   ]
  },
  {
   "cell_type": "code",
   "execution_count": 7,
   "id": "8e484b4f-c180-4f7d-86b4-82445d4ef982",
   "metadata": {
    "execution": {
     "iopub.execute_input": "2023-09-18T17:34:13.647035Z",
     "iopub.status.busy": "2023-09-18T17:34:13.646612Z",
     "iopub.status.idle": "2023-09-18T17:34:13.657224Z",
     "shell.execute_reply": "2023-09-18T17:34:13.656744Z",
     "shell.execute_reply.started": "2023-09-18T17:34:13.646982Z"
    },
    "tags": []
   },
   "outputs": [],
   "source": [
    "temp = 0\n",
    "for term in v1.args:\n",
    "    if term.as_powers_dict()[ad] == term.as_powers_dict()[a]:\n",
    "        temp += term\n",
    "h1 = temp * 1"
   ]
  },
  {
   "cell_type": "code",
   "execution_count": 8,
   "id": "4cab389b-ba66-43bf-b7d5-0201ac095b67",
   "metadata": {
    "execution": {
     "iopub.execute_input": "2023-09-18T17:34:16.096880Z",
     "iopub.status.busy": "2023-09-18T17:34:16.096447Z",
     "iopub.status.idle": "2023-09-18T17:34:16.108426Z",
     "shell.execute_reply": "2023-09-18T17:34:16.107277Z",
     "shell.execute_reply.started": "2023-09-18T17:34:16.096856Z"
    },
    "tags": []
   },
   "outputs": [],
   "source": [
    "temp = 0\n",
    "for term in h1.args:\n",
    "    if term.as_powers_dict()[eta] == term.as_powers_dict()[eta.conjugate()]:\n",
    "        temp += term\n",
    "h1_ti = temp * 1"
   ]
  },
  {
   "cell_type": "code",
   "execution_count": 9,
   "id": "29c1f241",
   "metadata": {},
   "outputs": [
    {
     "data": {
      "text/latex": [
       "$\\displaystyle 6 \\eta^{2} g_{4} \\overline{\\eta}^{2} + 12 \\eta g_{4} \\overline{\\eta} + 24 \\eta g_{4} \\overline{\\eta} {b^\\dagger_{s}} b_{s} + 3 g_{4} + 12 g_{4} {b^\\dagger_{s}} b_{s} + 6 g_{4} {b^\\dagger_{s}}^{2} b_{s}^{2}$"
      ],
      "text/plain": [
       "6*eta**2*g4*conjugate(eta)**2 + 12*eta*g4*conjugate(eta) + 24*eta*g4*conjugate(eta)*CreateBoson(s)*AnnihilateBoson(s) + 3*g4 + 12*g4*CreateBoson(s)*AnnihilateBoson(s) + 6*g4*CreateBoson(s)**2*AnnihilateBoson(s)**2"
      ]
     },
     "execution_count": 9,
     "metadata": {},
     "output_type": "execute_result"
    }
   ],
   "source": [
    "h1_ti"
   ]
  },
  {
   "cell_type": "markdown",
   "id": "9fc64c95",
   "metadata": {},
   "source": [
    "### obtain up to $\\hat{H}_2$"
   ]
  },
  {
   "cell_type": "code",
   "execution_count": 10,
   "id": "af0c31ef",
   "metadata": {},
   "outputs": [],
   "source": [
    "temp = 0\n",
    "for term in (v1-h1).args:\n",
    "    if (term.as_powers_dict()[ad] != term.as_powers_dict()[a] or \n",
    "        term.as_powers_dict()[eta] != term.as_powers_dict()[eta.conjugate()]):\n",
    "        \n",
    "        temp += term / (omega_a * (term.as_powers_dict()[ad] - term.as_powers_dict()[a]) + \n",
    "                        omega_d * (term.as_powers_dict()[eta.conjugate()] - term.as_powers_dict()[eta]) )\n",
    "s1= normal(temp) * 1"
   ]
  },
  {
   "cell_type": "code",
   "execution_count": 11,
   "id": "abe5a2b2",
   "metadata": {},
   "outputs": [],
   "source": [
    "# s_tot_1 = s1 * kappa\n",
    "# sd_tot_1 = sp.diff(s_tot_1, t)"
   ]
  },
  {
   "cell_type": "code",
   "execution_count": 12,
   "id": "e7fc39f5",
   "metadata": {},
   "outputs": [],
   "source": [
    "# # time-independent part \n",
    "# h_tot = h0 + kappa*v \n",
    "# h_eff_2_ti = 0\n",
    "\n",
    "# temp_2 = normal(Commutator(s_tot_1, h_tot.coeff(kappa,1)*kappa**1).doit() )\n",
    "# temp_1 = normal(Commutator(s_tot_1, h_tot.coeff(kappa,0)*kappa**0).doit() )\n",
    "# print('x')\n",
    "# h_eff_2_ti += temp_2\n",
    "\n",
    "# temp_2 = normal(sp.Rational(1,2) * Commutator(s_tot_1, temp_1).doit())\n",
    "# print('x')\n",
    "# h_eff_2_ti += temp_2"
   ]
  },
  {
   "cell_type": "code",
   "execution_count": 13,
   "id": "ee9fb181",
   "metadata": {},
   "outputs": [],
   "source": [
    "# # time-dependent part \n",
    "# h_eff_2_td = 0\n",
    "\n",
    "# temp_2 = normal(I*sp.Rational(1,2) * Commutator(s_tot_1, sd_tot_1).doit() )\n",
    "# print('x')\n",
    "# h_eff_2_td +=  temp_2"
   ]
  },
  {
   "cell_type": "code",
   "execution_count": 14,
   "id": "1c5876ed",
   "metadata": {},
   "outputs": [],
   "source": [
    "# h_eff_2 = h_eff_2_ti + h_eff_2_td\n",
    "# v2 = normal(h_eff_2.coeff(kappa,2))\n",
    "# temp = 0\n",
    "# for term in v2.args:\n",
    "#     if term.as_powers_dict()[ad] == term.as_powers_dict()[a]:\n",
    "#         temp += term\n",
    "# h2 = temp * 1\n",
    "# temp = 0\n",
    "# for term in h2.args:\n",
    "#     if term.as_powers_dict()[eta] == term.as_powers_dict()[eta.conjugate()]:\n",
    "#         temp += term.simplify()\n",
    "# h2_ti = temp * 1"
   ]
  },
  {
   "cell_type": "code",
   "execution_count": 15,
   "id": "233c1880",
   "metadata": {},
   "outputs": [],
   "source": [
    "# temp = 0\n",
    "# for term in (v2-h2).args:\n",
    "#     if (term.as_powers_dict()[ad] != term.as_powers_dict()[a] or \n",
    "#         term.as_powers_dict()[eta] != term.as_powers_dict()[eta.conjugate()]):\n",
    "        \n",
    "#         temp += term / (omega_a * (term.as_powers_dict()[ad] - term.as_powers_dict()[a]) + \n",
    "#                         omega_d * (term.as_powers_dict()[eta.conjugate()] - term.as_powers_dict()[eta]) )\n",
    "# s2= normal(temp) * 1"
   ]
  },
  {
   "cell_type": "code",
   "execution_count": 16,
   "id": "18c3abab",
   "metadata": {},
   "outputs": [],
   "source": [
    "def expansion(expr):\n",
    "    x =symbols('x', real=True)\n",
    "    y= symbols('y', real=True)\n",
    "    expr=expr.subs(g3**2,x*omega_a**2)\n",
    "    expr=expr.subs(g4,y*omega_a)\n",
    "    f_0 = expr.subs({x: 0, y: 0})\n",
    "    df_dx = diff(expr, x).subs({x: 0, y: 0}) * (x - 0)\n",
    "    df_dy = diff(expr, y).subs({x: 0, y: 0}) * (y - 0)\n",
    "    taylor_first_order = f_0 + df_dx + df_dy\n",
    "    return taylor_first_order.expand()"
   ]
  },
  {
   "cell_type": "code",
   "execution_count": 17,
   "id": "143fca87-8842-426f-b519-1458ac8972f6",
   "metadata": {
    "execution": {
     "iopub.execute_input": "2023-09-18T17:34:16.423589Z",
     "iopub.status.busy": "2023-09-18T17:34:16.423201Z",
     "iopub.status.idle": "2023-09-18T17:34:16.438828Z",
     "shell.execute_reply": "2023-09-18T17:34:16.437563Z",
     "shell.execute_reply.started": "2023-09-18T17:34:16.423562Z"
    },
    "tags": []
   },
   "outputs": [],
   "source": [
    "omega_sp = omega_a+h1_ti.coeff(ad*a)"
   ]
  },
  {
   "cell_type": "markdown",
   "id": "b9b1ca1b-47cc-4692-a118-305b06a20ba6",
   "metadata": {},
   "source": [
    "### obtain up to $\\hat{H}_2$ for composite system"
   ]
  },
  {
   "cell_type": "code",
   "execution_count": 18,
   "id": "462c5c54",
   "metadata": {},
   "outputs": [],
   "source": [
    "s1c = sp.expand(normal(Commutator(s1, a+ad).doit() ))"
   ]
  },
  {
   "cell_type": "code",
   "execution_count": 19,
   "id": "cfa15315",
   "metadata": {},
   "outputs": [],
   "source": [
    "ind_b = symbols('c')\n",
    "b = B(ind_b)\n",
    "bd = Bd(ind_b)\n",
    "omega_b = symbols('omega_c', real=True)\n",
    "def _m_normal(expr):\n",
    "    if not expr.is_Mul:\n",
    "        return expr\n",
    "    else:\n",
    "        c_part = []\n",
    "        string = []\n",
    "        for factor in expr.args:\n",
    "            if factor.is_commutative:\n",
    "                c_part.append(factor)\n",
    "            else:\n",
    "                string.append(factor)\n",
    "                \n",
    "        expr_a = 1\n",
    "        expr_b = 1\n",
    "        expr_c = 1\n",
    "        \n",
    "        for factor in string:\n",
    "            if factor.is_Pow:\n",
    "                if factor.args[0].args[0] == ind_a:\n",
    "                    expr_a *= factor\n",
    "                elif factor.args[0].args[0] == ind_b:\n",
    "                    expr_b *= factor\n",
    "                else:\n",
    "                    expr_c *= factor\n",
    "            else:\n",
    "                if factor.args[0] == ind_a:\n",
    "                    expr_a *= factor\n",
    "                elif factor.args[0] == ind_b:\n",
    "                    expr_b *= factor\n",
    "                else:\n",
    "                    expr_c *= factor\n",
    "                    \n",
    "        if expr_a != 1:\n",
    "            expr_a = normal(expr_a)\n",
    "        if expr_b != 1:\n",
    "            expr_b = normal(expr_b)\n",
    "        if expr_c != 1:\n",
    "            expr_c = normal(expr_c)\n",
    "    \n",
    "        return sp.Mul(*c_part) * expr_a * expr_b * expr_c    \n",
    "\n",
    "def m_normal(expr):\n",
    "    expr = expr.expand()\n",
    "    if isinstance(expr, sp.Add):\n",
    "        return sp.Add(*[_m_normal(term) for term in expr.args])\n",
    "    else:\n",
    "        return _m_normal(expr)"
   ]
  },
  {
   "cell_type": "code",
   "execution_count": 20,
   "id": "ba450734",
   "metadata": {},
   "outputs": [],
   "source": [
    "h0 = omega_sp * ad * a+ omega_b*bd*b\n",
    "v = (a+ad+s1c)*(b+bd)"
   ]
  },
  {
   "cell_type": "code",
   "execution_count": 21,
   "id": "246f166a",
   "metadata": {},
   "outputs": [],
   "source": [
    "v = m_normal(v)"
   ]
  },
  {
   "cell_type": "code",
   "execution_count": 22,
   "id": "137b46ef",
   "metadata": {},
   "outputs": [],
   "source": [
    "v1 = v\n",
    "temp = 0\n",
    "for term in v1.args:\n",
    "    if term.as_powers_dict()[ad] == term.as_powers_dict()[a] and term.as_powers_dict()[bd] == term.as_powers_dict()[b]:\n",
    "        temp += term\n",
    "h1 = temp * 1\n",
    "temp = 0\n",
    "for term in (v1-h1).args:\n",
    "    if (term.as_powers_dict()[ad] != term.as_powers_dict()[a] or \n",
    "        term.as_powers_dict()[bd] != term.as_powers_dict()[b]  ):\n",
    "        \n",
    "        temp += term / (omega_sp * (term.as_powers_dict()[ad] - term.as_powers_dict()[a]) +\n",
    "                        omega_b * (term.as_powers_dict()[bd] - term.as_powers_dict()[b])  )\n",
    "s1 = temp * 1"
   ]
  },
  {
   "cell_type": "code",
   "execution_count": 23,
   "id": "38f5d40c",
   "metadata": {},
   "outputs": [],
   "source": [
    "v2 = (sp.Rational(1,2)*m_normal(Commutator(s1,v1).doit())).expand()"
   ]
  },
  {
   "cell_type": "code",
   "execution_count": 24,
   "id": "110e13dc",
   "metadata": {},
   "outputs": [],
   "source": [
    "sd1 = sp.diff(s1, t)\n",
    "v22=m_normal((I*sp.Rational(1,2) * Commutator(sd1, s1).doit()) ).expand()"
   ]
  },
  {
   "cell_type": "code",
   "execution_count": 25,
   "id": "5f482f84",
   "metadata": {},
   "outputs": [],
   "source": [
    "temp = 0\n",
    "for term in v2.args:\n",
    "    if term.as_powers_dict()[ad] == term.as_powers_dict()[a] and term.as_powers_dict()[bd] == term.as_powers_dict()[b] and term.as_powers_dict()[b]==1 and term.as_powers_dict()[a]==0:\n",
    "        temp += term.simplify()\n",
    "h2 = temp * 1\n",
    "\n",
    "temp = 0\n",
    "for term in h2.args:\n",
    "    if term.as_powers_dict()[eta] == term.as_powers_dict()[eta.conjugate()]:\n",
    "        temp += term.simplify()\n",
    "h2_ti = temp * 1\n"
   ]
  },
  {
   "cell_type": "code",
   "execution_count": 26,
   "id": "429e905e",
   "metadata": {},
   "outputs": [],
   "source": [
    "temp = 0\n",
    "for term in v22.args:\n",
    "    if term.as_powers_dict()[ad] == term.as_powers_dict()[a] and term.as_powers_dict()[bd] == term.as_powers_dict()[b] and term.as_powers_dict()[b]==1 and term.as_powers_dict()[a]==0:\n",
    "        temp += term.simplify()\n",
    "h2 = temp * 1\n",
    "\n",
    "temp = 0\n",
    "for term in h2.args:\n",
    "    if term.as_powers_dict()[eta] == term.as_powers_dict()[eta.conjugate()]:\n",
    "        temp += term.simplify()\n",
    "h2_td = temp * 1"
   ]
  },
  {
   "cell_type": "code",
   "execution_count": 27,
   "id": "4e2720dd",
   "metadata": {},
   "outputs": [],
   "source": [
    "h2_ti = h2_td+h2_ti"
   ]
  },
  {
   "cell_type": "code",
   "execution_count": 28,
   "id": "00cb8adc",
   "metadata": {},
   "outputs": [],
   "source": [
    "x = symbols('x', real=True)\n",
    "y= symbols('y', real=True)\n",
    "h2=h2_ti.subs(g3**2,x*omega_a**2)\n",
    "h2=h2.subs(g4,y*omega_a)\n",
    "from sympy import symbols, diff\n",
    "f_0 = h2.subs({x: 0, y: 0})\n",
    "df_dx = diff(h2, x).subs({x: 0, y: 0}) * (x - 0)\n",
    "df_dy = diff(h2, y).subs({x: 0, y: 0}) * (y - 0)\n",
    "\n",
    "taylor_first_order = f_0 + df_dx + df_dy\n",
    "\n",
    "    "
   ]
  },
  {
   "cell_type": "code",
   "execution_count": 33,
   "id": "9a009ee3",
   "metadata": {},
   "outputs": [
    {
     "data": {
      "text/latex": [
       "$\\displaystyle x \\left(- \\frac{18 \\eta w_{d}^{2} w_{s}^{2} \\overline{\\eta} {b^\\dagger_{c}} b_{c}}{\\omega_{c}^{2} w_{d}^{3} + 6 \\omega_{c}^{2} w_{d}^{2} w_{s} + 12 \\omega_{c}^{2} w_{d} w_{s}^{2} + 8 \\omega_{c}^{2} w_{s}^{3} + 2 \\omega_{c} w_{d}^{3} w_{s} + 12 \\omega_{c} w_{d}^{2} w_{s}^{2} + 24 \\omega_{c} w_{d} w_{s}^{3} + 16 \\omega_{c} w_{s}^{4} + w_{d}^{3} w_{s}^{2} + 6 w_{d}^{2} w_{s}^{3} + 12 w_{d} w_{s}^{4} + 8 w_{s}^{5}} - \\frac{18 \\eta w_{d}^{2} w_{s}^{2} \\overline{\\eta} {b^\\dagger_{c}} b_{c}}{\\omega_{c}^{2} w_{d}^{3} + 6 \\omega_{c}^{2} w_{d}^{2} w_{s} + 12 \\omega_{c}^{2} w_{d} w_{s}^{2} + 8 \\omega_{c}^{2} w_{s}^{3} - 2 \\omega_{c} w_{d}^{3} w_{s} - 12 \\omega_{c} w_{d}^{2} w_{s}^{2} - 24 \\omega_{c} w_{d} w_{s}^{3} - 16 \\omega_{c} w_{s}^{4} + w_{d}^{3} w_{s}^{2} + 6 w_{d}^{2} w_{s}^{3} + 12 w_{d} w_{s}^{4} + 8 w_{s}^{5}} + \\frac{18 \\eta w_{d}^{2} w_{s}^{2} \\overline{\\eta} {b^\\dagger_{c}} b_{c}}{\\omega_{c}^{2} w_{d}^{3} - 6 \\omega_{c}^{2} w_{d}^{2} w_{s} + 12 \\omega_{c}^{2} w_{d} w_{s}^{2} - 8 \\omega_{c}^{2} w_{s}^{3} + 2 \\omega_{c} w_{d}^{3} w_{s} - 12 \\omega_{c} w_{d}^{2} w_{s}^{2} + 24 \\omega_{c} w_{d} w_{s}^{3} - 16 \\omega_{c} w_{s}^{4} + w_{d}^{3} w_{s}^{2} - 6 w_{d}^{2} w_{s}^{3} + 12 w_{d} w_{s}^{4} - 8 w_{s}^{5}} + \\frac{18 \\eta w_{d}^{2} w_{s}^{2} \\overline{\\eta} {b^\\dagger_{c}} b_{c}}{\\omega_{c}^{2} w_{d}^{3} - 6 \\omega_{c}^{2} w_{d}^{2} w_{s} + 12 \\omega_{c}^{2} w_{d} w_{s}^{2} - 8 \\omega_{c}^{2} w_{s}^{3} - 2 \\omega_{c} w_{d}^{3} w_{s} + 12 \\omega_{c} w_{d}^{2} w_{s}^{2} - 24 \\omega_{c} w_{d} w_{s}^{3} + 16 \\omega_{c} w_{s}^{4} + w_{d}^{3} w_{s}^{2} - 6 w_{d}^{2} w_{s}^{3} + 12 w_{d} w_{s}^{4} - 8 w_{s}^{5}} - \\frac{36 \\eta w_{d} w_{s}^{3} \\overline{\\eta} {b^\\dagger_{c}} b_{c}}{\\omega_{c}^{2} w_{d}^{3} + 6 \\omega_{c}^{2} w_{d}^{2} w_{s} + 12 \\omega_{c}^{2} w_{d} w_{s}^{2} + 8 \\omega_{c}^{2} w_{s}^{3} + 2 \\omega_{c} w_{d}^{3} w_{s} + 12 \\omega_{c} w_{d}^{2} w_{s}^{2} + 24 \\omega_{c} w_{d} w_{s}^{3} + 16 \\omega_{c} w_{s}^{4} + w_{d}^{3} w_{s}^{2} + 6 w_{d}^{2} w_{s}^{3} + 12 w_{d} w_{s}^{4} + 8 w_{s}^{5}} - \\frac{36 \\eta w_{d} w_{s}^{3} \\overline{\\eta} {b^\\dagger_{c}} b_{c}}{\\omega_{c}^{2} w_{d}^{3} + 6 \\omega_{c}^{2} w_{d}^{2} w_{s} + 12 \\omega_{c}^{2} w_{d} w_{s}^{2} + 8 \\omega_{c}^{2} w_{s}^{3} - 2 \\omega_{c} w_{d}^{3} w_{s} - 12 \\omega_{c} w_{d}^{2} w_{s}^{2} - 24 \\omega_{c} w_{d} w_{s}^{3} - 16 \\omega_{c} w_{s}^{4} + w_{d}^{3} w_{s}^{2} + 6 w_{d}^{2} w_{s}^{3} + 12 w_{d} w_{s}^{4} + 8 w_{s}^{5}} - \\frac{36 \\eta w_{d} w_{s}^{3} \\overline{\\eta} {b^\\dagger_{c}} b_{c}}{\\omega_{c}^{2} w_{d}^{3} - 6 \\omega_{c}^{2} w_{d}^{2} w_{s} + 12 \\omega_{c}^{2} w_{d} w_{s}^{2} - 8 \\omega_{c}^{2} w_{s}^{3} + 2 \\omega_{c} w_{d}^{3} w_{s} - 12 \\omega_{c} w_{d}^{2} w_{s}^{2} + 24 \\omega_{c} w_{d} w_{s}^{3} - 16 \\omega_{c} w_{s}^{4} + w_{d}^{3} w_{s}^{2} - 6 w_{d}^{2} w_{s}^{3} + 12 w_{d} w_{s}^{4} - 8 w_{s}^{5}} - \\frac{36 \\eta w_{d} w_{s}^{3} \\overline{\\eta} {b^\\dagger_{c}} b_{c}}{\\omega_{c}^{2} w_{d}^{3} - 6 \\omega_{c}^{2} w_{d}^{2} w_{s} + 12 \\omega_{c}^{2} w_{d} w_{s}^{2} - 8 \\omega_{c}^{2} w_{s}^{3} - 2 \\omega_{c} w_{d}^{3} w_{s} + 12 \\omega_{c} w_{d}^{2} w_{s}^{2} - 24 \\omega_{c} w_{d} w_{s}^{3} + 16 \\omega_{c} w_{s}^{4} + w_{d}^{3} w_{s}^{2} - 6 w_{d}^{2} w_{s}^{3} + 12 w_{d} w_{s}^{4} - 8 w_{s}^{5}} - \\frac{18 \\eta w_{d} w_{s}^{2} \\overline{\\eta} {b^\\dagger_{c}} b_{c}}{\\omega_{c}^{2} w_{d}^{2} + 4 \\omega_{c}^{2} w_{d} w_{s} + 4 \\omega_{c}^{2} w_{s}^{2} + 2 \\omega_{c} w_{d}^{2} w_{s} + 8 \\omega_{c} w_{d} w_{s}^{2} + 8 \\omega_{c} w_{s}^{3} + w_{d}^{2} w_{s}^{2} + 4 w_{d} w_{s}^{3} + 4 w_{s}^{4}} - \\frac{18 \\eta w_{d} w_{s}^{2} \\overline{\\eta} {b^\\dagger_{c}} b_{c}}{\\omega_{c}^{2} w_{d}^{2} + 4 \\omega_{c}^{2} w_{d} w_{s} + 4 \\omega_{c}^{2} w_{s}^{2} - 2 \\omega_{c} w_{d}^{2} w_{s} - 8 \\omega_{c} w_{d} w_{s}^{2} - 8 \\omega_{c} w_{s}^{3} + w_{d}^{2} w_{s}^{2} + 4 w_{d} w_{s}^{3} + 4 w_{s}^{4}} + \\frac{18 \\eta w_{d} w_{s}^{2} \\overline{\\eta} {b^\\dagger_{c}} b_{c}}{\\omega_{c}^{2} w_{d}^{2} - 4 \\omega_{c}^{2} w_{d} w_{s} + 4 \\omega_{c}^{2} w_{s}^{2} + 2 \\omega_{c} w_{d}^{2} w_{s} - 8 \\omega_{c} w_{d} w_{s}^{2} + 8 \\omega_{c} w_{s}^{3} + w_{d}^{2} w_{s}^{2} - 4 w_{d} w_{s}^{3} + 4 w_{s}^{4}} + \\frac{18 \\eta w_{d} w_{s}^{2} \\overline{\\eta} {b^\\dagger_{c}} b_{c}}{\\omega_{c}^{2} w_{d}^{2} - 4 \\omega_{c}^{2} w_{d} w_{s} + 4 \\omega_{c}^{2} w_{s}^{2} - 2 \\omega_{c} w_{d}^{2} w_{s} + 8 \\omega_{c} w_{d} w_{s}^{2} - 8 \\omega_{c} w_{s}^{3} + w_{d}^{2} w_{s}^{2} - 4 w_{d} w_{s}^{3} + 4 w_{s}^{4}} - \\frac{36 \\eta w_{s}^{2} \\overline{\\eta} {b^\\dagger_{c}} b_{c}}{\\omega_{c} w_{d}^{2} + 4 \\omega_{c} w_{d} w_{s} + 4 \\omega_{c} w_{s}^{2} + w_{d}^{2} w_{s} + 4 w_{d} w_{s}^{2} + 4 w_{s}^{3}} - \\frac{36 \\eta w_{s}^{2} \\overline{\\eta} {b^\\dagger_{c}} b_{c}}{\\omega_{c} w_{d}^{2} - 4 \\omega_{c} w_{d} w_{s} + 4 \\omega_{c} w_{s}^{2} + w_{d}^{2} w_{s} - 4 w_{d} w_{s}^{2} + 4 w_{s}^{3}} - \\frac{36 \\eta w_{s}^{2} \\overline{\\eta} {b^\\dagger_{c}} b_{c}}{- \\omega_{c} w_{d}^{2} + 4 \\omega_{c} w_{d} w_{s} - 4 \\omega_{c} w_{s}^{2} + w_{d}^{2} w_{s} - 4 w_{d} w_{s}^{2} + 4 w_{s}^{3}} - \\frac{36 \\eta w_{s}^{2} \\overline{\\eta} {b^\\dagger_{c}} b_{c}}{- \\omega_{c} w_{d}^{2} - 4 \\omega_{c} w_{d} w_{s} - 4 \\omega_{c} w_{s}^{2} + w_{d}^{2} w_{s} + 4 w_{d} w_{s}^{2} + 4 w_{s}^{3}} - \\frac{8 {b^\\dagger_{c}} b_{c}}{\\omega_{c} + 2 w_{s}} - \\frac{8 {b^\\dagger_{c}} b_{c}}{- \\omega_{c} + 2 w_{s}}\\right)$"
      ],
      "text/plain": [
       "x*(-18*eta*w_d**2*w_s**2*conjugate(eta)*CreateBoson(c)*AnnihilateBoson(c)/(omega_c**2*w_d**3 + 6*omega_c**2*w_d**2*w_s + 12*omega_c**2*w_d*w_s**2 + 8*omega_c**2*w_s**3 + 2*omega_c*w_d**3*w_s + 12*omega_c*w_d**2*w_s**2 + 24*omega_c*w_d*w_s**3 + 16*omega_c*w_s**4 + w_d**3*w_s**2 + 6*w_d**2*w_s**3 + 12*w_d*w_s**4 + 8*w_s**5) - 18*eta*w_d**2*w_s**2*conjugate(eta)*CreateBoson(c)*AnnihilateBoson(c)/(omega_c**2*w_d**3 + 6*omega_c**2*w_d**2*w_s + 12*omega_c**2*w_d*w_s**2 + 8*omega_c**2*w_s**3 - 2*omega_c*w_d**3*w_s - 12*omega_c*w_d**2*w_s**2 - 24*omega_c*w_d*w_s**3 - 16*omega_c*w_s**4 + w_d**3*w_s**2 + 6*w_d**2*w_s**3 + 12*w_d*w_s**4 + 8*w_s**5) + 18*eta*w_d**2*w_s**2*conjugate(eta)*CreateBoson(c)*AnnihilateBoson(c)/(omega_c**2*w_d**3 - 6*omega_c**2*w_d**2*w_s + 12*omega_c**2*w_d*w_s**2 - 8*omega_c**2*w_s**3 + 2*omega_c*w_d**3*w_s - 12*omega_c*w_d**2*w_s**2 + 24*omega_c*w_d*w_s**3 - 16*omega_c*w_s**4 + w_d**3*w_s**2 - 6*w_d**2*w_s**3 + 12*w_d*w_s**4 - 8*w_s**5) + 18*eta*w_d**2*w_s**2*conjugate(eta)*CreateBoson(c)*AnnihilateBoson(c)/(omega_c**2*w_d**3 - 6*omega_c**2*w_d**2*w_s + 12*omega_c**2*w_d*w_s**2 - 8*omega_c**2*w_s**3 - 2*omega_c*w_d**3*w_s + 12*omega_c*w_d**2*w_s**2 - 24*omega_c*w_d*w_s**3 + 16*omega_c*w_s**4 + w_d**3*w_s**2 - 6*w_d**2*w_s**3 + 12*w_d*w_s**4 - 8*w_s**5) - 36*eta*w_d*w_s**3*conjugate(eta)*CreateBoson(c)*AnnihilateBoson(c)/(omega_c**2*w_d**3 + 6*omega_c**2*w_d**2*w_s + 12*omega_c**2*w_d*w_s**2 + 8*omega_c**2*w_s**3 + 2*omega_c*w_d**3*w_s + 12*omega_c*w_d**2*w_s**2 + 24*omega_c*w_d*w_s**3 + 16*omega_c*w_s**4 + w_d**3*w_s**2 + 6*w_d**2*w_s**3 + 12*w_d*w_s**4 + 8*w_s**5) - 36*eta*w_d*w_s**3*conjugate(eta)*CreateBoson(c)*AnnihilateBoson(c)/(omega_c**2*w_d**3 + 6*omega_c**2*w_d**2*w_s + 12*omega_c**2*w_d*w_s**2 + 8*omega_c**2*w_s**3 - 2*omega_c*w_d**3*w_s - 12*omega_c*w_d**2*w_s**2 - 24*omega_c*w_d*w_s**3 - 16*omega_c*w_s**4 + w_d**3*w_s**2 + 6*w_d**2*w_s**3 + 12*w_d*w_s**4 + 8*w_s**5) - 36*eta*w_d*w_s**3*conjugate(eta)*CreateBoson(c)*AnnihilateBoson(c)/(omega_c**2*w_d**3 - 6*omega_c**2*w_d**2*w_s + 12*omega_c**2*w_d*w_s**2 - 8*omega_c**2*w_s**3 + 2*omega_c*w_d**3*w_s - 12*omega_c*w_d**2*w_s**2 + 24*omega_c*w_d*w_s**3 - 16*omega_c*w_s**4 + w_d**3*w_s**2 - 6*w_d**2*w_s**3 + 12*w_d*w_s**4 - 8*w_s**5) - 36*eta*w_d*w_s**3*conjugate(eta)*CreateBoson(c)*AnnihilateBoson(c)/(omega_c**2*w_d**3 - 6*omega_c**2*w_d**2*w_s + 12*omega_c**2*w_d*w_s**2 - 8*omega_c**2*w_s**3 - 2*omega_c*w_d**3*w_s + 12*omega_c*w_d**2*w_s**2 - 24*omega_c*w_d*w_s**3 + 16*omega_c*w_s**4 + w_d**3*w_s**2 - 6*w_d**2*w_s**3 + 12*w_d*w_s**4 - 8*w_s**5) - 18*eta*w_d*w_s**2*conjugate(eta)*CreateBoson(c)*AnnihilateBoson(c)/(omega_c**2*w_d**2 + 4*omega_c**2*w_d*w_s + 4*omega_c**2*w_s**2 + 2*omega_c*w_d**2*w_s + 8*omega_c*w_d*w_s**2 + 8*omega_c*w_s**3 + w_d**2*w_s**2 + 4*w_d*w_s**3 + 4*w_s**4) - 18*eta*w_d*w_s**2*conjugate(eta)*CreateBoson(c)*AnnihilateBoson(c)/(omega_c**2*w_d**2 + 4*omega_c**2*w_d*w_s + 4*omega_c**2*w_s**2 - 2*omega_c*w_d**2*w_s - 8*omega_c*w_d*w_s**2 - 8*omega_c*w_s**3 + w_d**2*w_s**2 + 4*w_d*w_s**3 + 4*w_s**4) + 18*eta*w_d*w_s**2*conjugate(eta)*CreateBoson(c)*AnnihilateBoson(c)/(omega_c**2*w_d**2 - 4*omega_c**2*w_d*w_s + 4*omega_c**2*w_s**2 + 2*omega_c*w_d**2*w_s - 8*omega_c*w_d*w_s**2 + 8*omega_c*w_s**3 + w_d**2*w_s**2 - 4*w_d*w_s**3 + 4*w_s**4) + 18*eta*w_d*w_s**2*conjugate(eta)*CreateBoson(c)*AnnihilateBoson(c)/(omega_c**2*w_d**2 - 4*omega_c**2*w_d*w_s + 4*omega_c**2*w_s**2 - 2*omega_c*w_d**2*w_s + 8*omega_c*w_d*w_s**2 - 8*omega_c*w_s**3 + w_d**2*w_s**2 - 4*w_d*w_s**3 + 4*w_s**4) - 36*eta*w_s**2*conjugate(eta)*CreateBoson(c)*AnnihilateBoson(c)/(omega_c*w_d**2 + 4*omega_c*w_d*w_s + 4*omega_c*w_s**2 + w_d**2*w_s + 4*w_d*w_s**2 + 4*w_s**3) - 36*eta*w_s**2*conjugate(eta)*CreateBoson(c)*AnnihilateBoson(c)/(omega_c*w_d**2 - 4*omega_c*w_d*w_s + 4*omega_c*w_s**2 + w_d**2*w_s - 4*w_d*w_s**2 + 4*w_s**3) - 36*eta*w_s**2*conjugate(eta)*CreateBoson(c)*AnnihilateBoson(c)/(-omega_c*w_d**2 + 4*omega_c*w_d*w_s - 4*omega_c*w_s**2 + w_d**2*w_s - 4*w_d*w_s**2 + 4*w_s**3) - 36*eta*w_s**2*conjugate(eta)*CreateBoson(c)*AnnihilateBoson(c)/(-omega_c*w_d**2 - 4*omega_c*w_d*w_s - 4*omega_c*w_s**2 + w_d**2*w_s + 4*w_d*w_s**2 + 4*w_s**3) - 8*CreateBoson(c)*AnnihilateBoson(c)/(omega_c + 2*w_s) - 8*CreateBoson(c)*AnnihilateBoson(c)/(-omega_c + 2*w_s))"
      ]
     },
     "execution_count": 33,
     "metadata": {},
     "output_type": "execute_result"
    }
   ],
   "source": [
    "taylor_first_order.args[0]"
   ]
  },
  {
   "cell_type": "code",
   "execution_count": 30,
   "id": "81d4cb3c",
   "metadata": {},
   "outputs": [],
   "source": [
    "xx = taylor_first_order.args[0].subs(eta,1).subs(omega_d,6*omega_a).expand()\n",
    "term = 0.\n",
    "for each in xx.args:\n",
    "    term += (each).simplify()"
   ]
  },
  {
   "cell_type": "code",
   "execution_count": 31,
   "id": "749511e8",
   "metadata": {},
   "outputs": [
    {
     "data": {
      "text/latex": [
       "$\\displaystyle - \\frac{54 w_{s} x {b^\\dagger_{c}} b_{c}}{16 \\omega_{c}^{2} + 32 \\omega_{c} w_{s} + 16 w_{s}^{2}} - \\frac{54 w_{s} x {b^\\dagger_{c}} b_{c}}{16 \\omega_{c}^{2} - 32 \\omega_{c} w_{s} + 16 w_{s}^{2}} + \\frac{27 w_{s} x {b^\\dagger_{c}} b_{c}}{2 \\left(\\omega_{c}^{2} + 2 \\omega_{c} w_{s} + w_{s}^{2}\\right)} + \\frac{27 w_{s} x {b^\\dagger_{c}} b_{c}}{2 \\left(\\omega_{c}^{2} - 2 \\omega_{c} w_{s} + w_{s}^{2}\\right)} - \\frac{9 x {b^\\dagger_{c}} b_{c}}{16 \\omega_{c} + 16 w_{s}} - \\frac{9 x {b^\\dagger_{c}} b_{c}}{4 \\omega_{c} + 4 w_{s}} - \\frac{8 x {b^\\dagger_{c}} b_{c}}{\\omega_{c} + 2 w_{s}} + \\frac{45 x {b^\\dagger_{c}} b_{c}}{16 \\left(\\omega_{c} - w_{s}\\right)} + \\frac{8 x {b^\\dagger_{c}} b_{c}}{\\omega_{c} - 2 w_{s}}$"
      ],
      "text/plain": [
       "-54*w_s*x*CreateBoson(c)*AnnihilateBoson(c)/(16*omega_c**2 + 32*omega_c*w_s + 16*w_s**2) - 54*w_s*x*CreateBoson(c)*AnnihilateBoson(c)/(16*omega_c**2 - 32*omega_c*w_s + 16*w_s**2) + 27*w_s*x*CreateBoson(c)*AnnihilateBoson(c)/(2*(omega_c**2 + 2*omega_c*w_s + w_s**2)) + 27*w_s*x*CreateBoson(c)*AnnihilateBoson(c)/(2*(omega_c**2 - 2*omega_c*w_s + w_s**2)) - 9*x*CreateBoson(c)*AnnihilateBoson(c)/(16*omega_c + 16*w_s) - 9*x*CreateBoson(c)*AnnihilateBoson(c)/(4*omega_c + 4*w_s) - 8*x*CreateBoson(c)*AnnihilateBoson(c)/(omega_c + 2*w_s) + 45*x*CreateBoson(c)*AnnihilateBoson(c)/(16*(omega_c - w_s)) + 8*x*CreateBoson(c)*AnnihilateBoson(c)/(omega_c - 2*w_s)"
      ]
     },
     "execution_count": 31,
     "metadata": {},
     "output_type": "execute_result"
    }
   ],
   "source": [
    "term"
   ]
  },
  {
   "cell_type": "code",
   "execution_count": 32,
   "id": "37fb3f16",
   "metadata": {},
   "outputs": [
    {
     "data": {
      "text/latex": [
       "$\\displaystyle \\frac{75.6450000000001 x {b^\\dagger_{c}} b_{c}}{w_{s}}$"
      ],
      "text/plain": [
       "75.6450000000001*x*CreateBoson(c)*AnnihilateBoson(c)/w_s"
      ]
     },
     "execution_count": 32,
     "metadata": {},
     "output_type": "execute_result"
    }
   ],
   "source": [
    "term.simplify().subs(omega_b,2/3*omega_a)"
   ]
  },
  {
   "cell_type": "code",
   "execution_count": null,
   "id": "0cbc2d0d",
   "metadata": {},
   "outputs": [],
   "source": []
  }
 ],
 "metadata": {
  "kernelspec": {
   "display_name": "Python 3 (ipykernel)",
   "language": "python",
   "name": "python3"
  },
  "language_info": {
   "codemirror_mode": {
    "name": "ipython",
    "version": 3
   },
   "file_extension": ".py",
   "mimetype": "text/x-python",
   "name": "python",
   "nbconvert_exporter": "python",
   "pygments_lexer": "ipython3",
   "version": "3.8.3"
  }
 },
 "nbformat": 4,
 "nbformat_minor": 5
}
