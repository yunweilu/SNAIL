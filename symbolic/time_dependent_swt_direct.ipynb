{
 "cells": [
  {
   "cell_type": "code",
   "execution_count": 15,
   "id": "27ca754a-9d30-4a6d-8054-db633309ef22",
   "metadata": {
    "execution": {
     "iopub.execute_input": "2023-09-18T17:34:06.006542Z",
     "iopub.status.busy": "2023-09-18T17:34:06.006428Z",
     "iopub.status.idle": "2023-09-18T17:34:06.268675Z",
     "shell.execute_reply": "2023-09-18T17:34:06.268393Z",
     "shell.execute_reply.started": "2023-09-18T17:34:06.006524Z"
    },
    "tags": []
   },
   "outputs": [],
   "source": [
    "from sympy.physics.secondquant import *\n",
    "from sympy import symbols, I\n",
    "import sympy as sp\n",
    "from no import normal\n",
    "from sympy import exp\n",
    "from sympy import symbols, diff\n",
    "from sympy.core.numbers import Zero"
   ]
  },
  {
   "cell_type": "code",
   "execution_count": 3,
   "id": "d710316e",
   "metadata": {},
   "outputs": [
    {
     "ename": "NameError",
     "evalue": "name 'ind_a' is not defined",
     "output_type": "error",
     "traceback": [
      "\u001b[0;31m---------------------------------------------------------------------------\u001b[0m",
      "\u001b[0;31mNameError\u001b[0m                                 Traceback (most recent call last)",
      "Input \u001b[0;32mIn [3]\u001b[0m, in \u001b[0;36m<module>\u001b[0;34m\u001b[0m\n\u001b[0;32m----> 1\u001b[0m a \u001b[38;5;241m=\u001b[39m B(\u001b[43mind_a\u001b[49m)\n\u001b[1;32m      2\u001b[0m ad \u001b[38;5;241m=\u001b[39m Bd(ind_a)\n\u001b[1;32m      3\u001b[0m \u001b[38;5;28;01mdef\u001b[39;00m \u001b[38;5;21mget_ti\u001b[39m(expr):\n",
      "\u001b[0;31mNameError\u001b[0m: name 'ind_a' is not defined"
     ]
    }
   ],
   "source": [
    "a = B(ind_a)\n",
    "ad = Bd(ind_a)\n",
    "def get_ti(expr):\n",
    "    return sum([term for term in expr.args if not term.has(t)])\n",
    "def remove_constant(expr):\n",
    "    terms_without_B_Bd = [term for term in expr.args if not (term.has(a) or term.has(ad))]\n",
    "    return expr - sum(terms_without_B_Bd)"
   ]
  },
  {
   "cell_type": "code",
   "execution_count": null,
   "id": "bee929bb-cb95-42cf-8cfc-b637ef21834a",
   "metadata": {
    "execution": {
     "iopub.execute_input": "2023-09-18T17:34:06.269930Z",
     "iopub.status.busy": "2023-09-18T17:34:06.269812Z",
     "iopub.status.idle": "2023-09-18T17:34:06.272079Z",
     "shell.execute_reply": "2023-09-18T17:34:06.271760Z",
     "shell.execute_reply.started": "2023-09-18T17:34:06.269921Z"
    },
    "tags": []
   },
   "outputs": [],
   "source": [
    "ind_a = symbols('s')\n"
   ]
  },
  {
   "cell_type": "code",
   "execution_count": null,
   "id": "bd55f7a7-b1e1-4a35-94cb-263462a7bec0",
   "metadata": {
    "execution": {
     "iopub.execute_input": "2023-09-18T17:34:06.272565Z",
     "iopub.status.busy": "2023-09-18T17:34:06.272476Z",
     "iopub.status.idle": "2023-09-18T17:34:06.274933Z",
     "shell.execute_reply": "2023-09-18T17:34:06.274637Z",
     "shell.execute_reply.started": "2023-09-18T17:34:06.272557Z"
    },
    "tags": []
   },
   "outputs": [],
   "source": [
    "g4 = symbols('g4', real=True)\n",
    "g3 = symbols('g3', real=True)\n",
    "w_t = symbols('w_t', real=True)\n",
    "omega_a = symbols('w_s', real=True)\n",
    "delta = symbols('delta', real=True)\n",
    "omega_d = omega_a\n",
    "t = symbols('t', real=True)\n",
    "eta = symbols('eta', real=False)\n",
    "kappa = symbols('kappa', real=True)"
   ]
  },
  {
   "cell_type": "code",
   "execution_count": null,
   "id": "86e082c8-2981-467e-abfc-fc96b02e9e6c",
   "metadata": {
    "execution": {
     "iopub.execute_input": "2023-09-18T17:34:06.275557Z",
     "iopub.status.busy": "2023-09-18T17:34:06.275445Z",
     "iopub.status.idle": "2023-09-18T17:34:06.277925Z",
     "shell.execute_reply": "2023-09-18T17:34:06.277625Z",
     "shell.execute_reply.started": "2023-09-18T17:34:06.275548Z"
    },
    "tags": []
   },
   "outputs": [],
   "source": [
    "h0 =omega_a * ad * a"
   ]
  },
  {
   "cell_type": "code",
   "execution_count": null,
   "id": "8df65c02",
   "metadata": {},
   "outputs": [],
   "source": [
    "at = a*exp(-I*omega_d*t)\n",
    "adt = ad*exp(I*omega_d*t)"
   ]
  },
  {
   "cell_type": "code",
   "execution_count": null,
   "id": "cb9a2f02-ca22-4202-abce-288d7892ccba",
   "metadata": {
    "execution": {
     "iopub.execute_input": "2023-09-18T17:34:11.691132Z",
     "iopub.status.busy": "2023-09-18T17:34:11.690451Z",
     "iopub.status.idle": "2023-09-18T17:34:11.798487Z",
     "shell.execute_reply": "2023-09-18T17:34:11.798172Z",
     "shell.execute_reply.started": "2023-09-18T17:34:11.691086Z"
    },
    "tags": []
   },
   "outputs": [],
   "source": [
    "v = normal(g3*(at + adt)**3 \n",
    "           +g4* (at + adt )**4  )"
   ]
  },
  {
   "cell_type": "code",
   "execution_count": null,
   "id": "b5567db0",
   "metadata": {},
   "outputs": [],
   "source": [
    "v"
   ]
  },
  {
   "cell_type": "code",
   "execution_count": null,
   "id": "62609486",
   "metadata": {},
   "outputs": [],
   "source": [
    "v = remove_constant(v)"
   ]
  },
  {
   "cell_type": "code",
   "execution_count": null,
   "id": "29bb758e",
   "metadata": {},
   "outputs": [],
   "source": [
    "v_ti = get_ti(v)"
   ]
  },
  {
   "cell_type": "code",
   "execution_count": null,
   "id": "f9225935",
   "metadata": {},
   "outputs": [],
   "source": [
    "v_ti"
   ]
  },
  {
   "cell_type": "markdown",
   "id": "8ba99c9d",
   "metadata": {},
   "source": [
    "### obtain $\\hat{H}_1$"
   ]
  },
  {
   "cell_type": "code",
   "execution_count": null,
   "id": "1868fc98-9273-429a-a29d-fb50ee3c5f61",
   "metadata": {
    "execution": {
     "iopub.execute_input": "2023-09-18T17:34:13.078193Z",
     "iopub.status.busy": "2023-09-18T17:34:13.077237Z",
     "iopub.status.idle": "2023-09-18T17:34:13.089826Z",
     "shell.execute_reply": "2023-09-18T17:34:13.088794Z",
     "shell.execute_reply.started": "2023-09-18T17:34:13.078139Z"
    },
    "tags": []
   },
   "outputs": [],
   "source": [
    "v1 = v*1"
   ]
  },
  {
   "cell_type": "code",
   "execution_count": null,
   "id": "8e484b4f-c180-4f7d-86b4-82445d4ef982",
   "metadata": {
    "execution": {
     "iopub.execute_input": "2023-09-18T17:34:13.647035Z",
     "iopub.status.busy": "2023-09-18T17:34:13.646612Z",
     "iopub.status.idle": "2023-09-18T17:34:13.657224Z",
     "shell.execute_reply": "2023-09-18T17:34:13.656744Z",
     "shell.execute_reply.started": "2023-09-18T17:34:13.646982Z"
    },
    "tags": []
   },
   "outputs": [],
   "source": [
    "temp = 0\n",
    "for term in v1.args:\n",
    "    if term.as_powers_dict()[ad] == term.as_powers_dict()[a]:\n",
    "        temp += term\n",
    "h1 = temp * 1"
   ]
  },
  {
   "cell_type": "code",
   "execution_count": null,
   "id": "4cab389b-ba66-43bf-b7d5-0201ac095b67",
   "metadata": {
    "execution": {
     "iopub.execute_input": "2023-09-18T17:34:16.096880Z",
     "iopub.status.busy": "2023-09-18T17:34:16.096447Z",
     "iopub.status.idle": "2023-09-18T17:34:16.108426Z",
     "shell.execute_reply": "2023-09-18T17:34:16.107277Z",
     "shell.execute_reply.started": "2023-09-18T17:34:16.096856Z"
    },
    "tags": []
   },
   "outputs": [],
   "source": [
    "h1_ti = get_ti(h1)"
   ]
  },
  {
   "cell_type": "code",
   "execution_count": null,
   "id": "29c1f241",
   "metadata": {},
   "outputs": [],
   "source": [
    "h1_ti"
   ]
  },
  {
   "cell_type": "markdown",
   "id": "6d247b18",
   "metadata": {},
   "source": [
    "### obtain up to $\\hat{H}_2$"
   ]
  },
  {
   "cell_type": "code",
   "execution_count": null,
   "id": "af0c31ef",
   "metadata": {},
   "outputs": [],
   "source": [
    "temp = 0\n",
    "for term in (v1-h1).args:\n",
    "    if (term.as_powers_dict()[ad] != term.as_powers_dict()[a] or \n",
    "        term.as_powers_dict()[eta] != term.as_powers_dict()[eta.conjugate()]):\n",
    "        if type((omega_d/2 * (term.as_powers_dict()[ad] - term.as_powers_dict()[a]) + \n",
    "                        omega_d * (term.as_powers_dict()[eta.conjugate()] - term.as_powers_dict()[eta]) )) == Zero:\n",
    "            temp = temp\n",
    "        else:\n",
    "            temp += (term / (omega_d/2 * (term.as_powers_dict()[ad] - term.as_powers_dict()[a]) + \n",
    "                        omega_d * (term.as_powers_dict()[eta.conjugate()] - term.as_powers_dict()[eta]) )).simplify()\n",
    "s1= normal(temp) * 1"
   ]
  },
  {
   "cell_type": "code",
   "execution_count": null,
   "id": "c8062bd4",
   "metadata": {},
   "outputs": [],
   "source": [
    "s1"
   ]
  },
  {
   "cell_type": "code",
   "execution_count": null,
   "id": "abe5a2b2",
   "metadata": {},
   "outputs": [],
   "source": [
    "s_tot_1 = s1 * kappa\n",
    "sd_tot_1 = sp.diff(s_tot_1, t)"
   ]
  },
  {
   "cell_type": "code",
   "execution_count": null,
   "id": "e7fc39f5",
   "metadata": {},
   "outputs": [],
   "source": [
    "# time-independent part \n",
    "h_tot = h0 + kappa*v \n",
    "h_eff_2_ti = 0\n",
    "\n",
    "temp_2 = normal(Commutator(s_tot_1, h_tot.coeff(kappa,1)*kappa**1).doit() )\n",
    "temp_1 = normal(Commutator(s_tot_1, h_tot.coeff(kappa,0)*kappa**0).doit() )\n",
    "print('x')\n",
    "h_eff_2_ti += temp_2\n",
    "\n",
    "temp_2 = normal(sp.Rational(1,2) * Commutator(s_tot_1, temp_1).doit())\n",
    "print('x')\n",
    "h_eff_2_ti += temp_2"
   ]
  },
  {
   "cell_type": "code",
   "execution_count": null,
   "id": "ee9fb181",
   "metadata": {},
   "outputs": [],
   "source": [
    "# time-dependent part \n",
    "h_eff_2_td = 0\n",
    "\n",
    "temp_2 = normal(I*sp.Rational(1,2) * Commutator(s_tot_1, sd_tot_1).doit() )\n",
    "print('x')\n",
    "h_eff_2_td +=  temp_2"
   ]
  },
  {
   "cell_type": "code",
   "execution_count": null,
   "id": "1c5876ed",
   "metadata": {},
   "outputs": [],
   "source": [
    "h_eff_2 = h_eff_2_ti + h_eff_2_td\n",
    "v2 = normal(h_eff_2.coeff(kappa,2))\n",
    "temp = 0\n",
    "for term in v2.args:\n",
    "    if term.as_powers_dict()[ad] == term.as_powers_dict()[a]:\n",
    "        temp += term\n",
    "h2 = temp * 1\n",
    "temp = 0\n",
    "for term in h2.args:\n",
    "    if term.as_powers_dict()[eta] == term.as_powers_dict()[eta.conjugate()]:\n",
    "        temp += term.simplify()\n",
    "h2_ti = temp * 1"
   ]
  },
  {
   "cell_type": "code",
   "execution_count": null,
   "id": "4322382f",
   "metadata": {},
   "outputs": [],
   "source": [
    "h2_ti = remove_constant(h2_ti)"
   ]
  },
  {
   "cell_type": "code",
   "execution_count": null,
   "id": "d654e10b",
   "metadata": {},
   "outputs": [],
   "source": [
    "h2_ti"
   ]
  },
  {
   "cell_type": "code",
   "execution_count": null,
   "id": "11debba0",
   "metadata": {},
   "outputs": [],
   "source": [
    "def remove_higher(expr):\n",
    "    terms_higher = [term for term in expr.args if (term.has(g4**2) or term.has(g3*g4))]\n",
    "    return expr - sum(terms_higher)"
   ]
  },
  {
   "cell_type": "code",
   "execution_count": null,
   "id": "3a070bf5",
   "metadata": {},
   "outputs": [],
   "source": [
    "h2_ti = remove_higher(h2_ti)"
   ]
  },
  {
   "cell_type": "code",
   "execution_count": null,
   "id": "233c1880",
   "metadata": {},
   "outputs": [],
   "source": [
    "temp = 0\n",
    "tempp = 0\n",
    "for term in (v2-h2).args:\n",
    "    if (term.as_powers_dict()[ad] != term.as_powers_dict()[a] or \n",
    "        term.as_powers_dict()[eta] != term.as_powers_dict()[eta.conjugate()]):\n",
    "        if type((omega_d/2 * (term.as_powers_dict()[ad] - term.as_powers_dict()[a]) + \n",
    "                        omega_d * (term.as_powers_dict()[eta.conjugate()] - term.as_powers_dict()[eta]) )) == Zero:\n",
    "            tempp += term\n",
    "        else:\n",
    "            temp += (term / (omega_d/2 * (term.as_powers_dict()[ad] - term.as_powers_dict()[a]) + \n",
    "                        omega_d * (term.as_powers_dict()[eta.conjugate()] - term.as_powers_dict()[eta]) )).simplify()\n",
    "sq2 = normal(tempp) * 1\n",
    "s2= normal(temp) * 1"
   ]
  },
  {
   "cell_type": "code",
   "execution_count": null,
   "id": "18c3abab",
   "metadata": {},
   "outputs": [],
   "source": [
    "def expansion(expr):\n",
    "    x =symbols('x', real=True)\n",
    "    y= symbols('y', real=True)\n",
    "    expr=expr.subs(g3**2,x*omega_a**2)\n",
    "    expr=expr.subs(g4,y*omega_a)\n",
    "    f_0 = expr.subs({x: 0, y: 0})\n",
    "    df_dx = diff(expr, x).subs({x: 0, y: 0}) * (x - 0)\n",
    "    df_dy = diff(expr, y).subs({x: 0, y: 0}) * (y - 0)\n",
    "    taylor_first_order = f_0 + df_dx + df_dy\n",
    "    return taylor_first_order.expand()"
   ]
  },
  {
   "cell_type": "code",
   "execution_count": null,
   "id": "143fca87-8842-426f-b519-1458ac8972f6",
   "metadata": {
    "execution": {
     "iopub.execute_input": "2023-09-18T17:34:16.423589Z",
     "iopub.status.busy": "2023-09-18T17:34:16.423201Z",
     "iopub.status.idle": "2023-09-18T17:34:16.438828Z",
     "shell.execute_reply": "2023-09-18T17:34:16.437563Z",
     "shell.execute_reply.started": "2023-09-18T17:34:16.423562Z"
    },
    "tags": []
   },
   "outputs": [],
   "source": [
    "omega_sp = omega_a+h1_ti.coeff(ad*a)+h2_ti.coeff(ad*a)"
   ]
  },
  {
   "cell_type": "code",
   "execution_count": null,
   "id": "025969f4",
   "metadata": {},
   "outputs": [],
   "source": [
    "h2_ti.coeff(ad*a)"
   ]
  },
  {
   "cell_type": "markdown",
   "id": "b9b1ca1b-47cc-4692-a118-305b06a20ba6",
   "metadata": {},
   "source": [
    "### obtain up to $\\hat{H}_2$ for composite system"
   ]
  },
  {
   "cell_type": "code",
   "execution_count": 1009,
   "id": "cfa15315",
   "metadata": {},
   "outputs": [],
   "source": [
    "ind_b = symbols('c')\n",
    "b = B(ind_b)\n",
    "bd = Bd(ind_b)\n",
    "omega_b = symbols('omega_c', real=True)\n",
    "def _m_normal(expr):\n",
    "    if not expr.is_Mul:\n",
    "        return expr\n",
    "    else:\n",
    "        c_part = []\n",
    "        string = []\n",
    "        for factor in expr.args:\n",
    "            if factor.is_commutative:\n",
    "                c_part.append(factor)\n",
    "            else:\n",
    "                string.append(factor)\n",
    "                \n",
    "        expr_a = 1\n",
    "        expr_b = 1\n",
    "        expr_c = 1\n",
    "        \n",
    "        for factor in string:\n",
    "            if factor.is_Pow:\n",
    "                if factor.args[0].args[0] == ind_a:\n",
    "                    expr_a *= factor\n",
    "                elif factor.args[0].args[0] == ind_b:\n",
    "                    expr_b *= factor\n",
    "                else:\n",
    "                    expr_c *= factor\n",
    "            else:\n",
    "                if factor.args[0] == ind_a:\n",
    "                    expr_a *= factor\n",
    "                elif factor.args[0] == ind_b:\n",
    "                    expr_b *= factor\n",
    "                else:\n",
    "                    expr_c *= factor\n",
    "                    \n",
    "        if expr_a != 1:\n",
    "            expr_a = normal(expr_a)\n",
    "        if expr_b != 1:\n",
    "            expr_b = normal(expr_b)\n",
    "        if expr_c != 1:\n",
    "            expr_c = normal(expr_c)\n",
    "    \n",
    "        return sp.Mul(*c_part) * expr_a * expr_b * expr_c    \n",
    "\n",
    "def m_normal(expr):\n",
    "    expr = expr.expand()\n",
    "    if isinstance(expr, sp.Add):\n",
    "        return sp.Add(*[_m_normal(term) for term in expr.args])\n",
    "    else:\n",
    "        return _m_normal(expr)"
   ]
  },
  {
   "cell_type": "code",
   "execution_count": 2,
   "id": "ba450734",
   "metadata": {},
   "outputs": [
    {
     "ename": "NameError",
     "evalue": "name 'omega_sp' is not defined",
     "output_type": "error",
     "traceback": [
      "\u001b[0;31m---------------------------------------------------------------------------\u001b[0m",
      "\u001b[0;31mNameError\u001b[0m                                 Traceback (most recent call last)",
      "Input \u001b[0;32mIn [2]\u001b[0m, in \u001b[0;36m<module>\u001b[0;34m\u001b[0m\n\u001b[0;32m----> 1\u001b[0m h0 \u001b[38;5;241m=\u001b[39m \u001b[43momega_sp\u001b[49m \u001b[38;5;241m*\u001b[39m ad \u001b[38;5;241m*\u001b[39m a\u001b[38;5;241m+\u001b[39m omega_b\u001b[38;5;241m*\u001b[39mbd\u001b[38;5;241m*\u001b[39mb \n\u001b[1;32m      2\u001b[0m v \u001b[38;5;241m=\u001b[39m \u001b[38;5;241m-\u001b[39mI\u001b[38;5;241m*\u001b[39m(a\u001b[38;5;241m*\u001b[39mbd\u001b[38;5;241m-\u001b[39mad\u001b[38;5;241m*\u001b[39mb)\n\u001b[1;32m      3\u001b[0m s1c \u001b[38;5;241m=\u001b[39m sp\u001b[38;5;241m.\u001b[39mexpand(m_normal(Commutator(s1, v)\u001b[38;5;241m.\u001b[39mdoit() ))\n",
      "\u001b[0;31mNameError\u001b[0m: name 'omega_sp' is not defined"
     ]
    }
   ],
   "source": [
    "\n",
    "h0 = omega_sp * ad * a+ omega_b*bd*b \n",
    "v = -I*(a*bd-ad*b)\n",
    "s1c = sp.expand(m_normal(Commutator(s1, v).doit() ))\n",
    "s2c = sp.expand(m_normal(Commutator(s2, v).doit() )\n",
    "               +(sp.Rational(1,2) *m_normal(Commutator(s1, s1c).doit() )))\n",
    "v = v+s1c+s2c"
   ]
  },
  {
   "cell_type": "code",
   "execution_count": 1012,
   "id": "246f166a",
   "metadata": {},
   "outputs": [],
   "source": [
    "v = m_normal(v)"
   ]
  },
  {
   "cell_type": "code",
   "execution_count": 1013,
   "id": "499bfc9a",
   "metadata": {},
   "outputs": [
    {
     "data": {
      "text/latex": [
       "$\\displaystyle \\eta g_{3} {b^\\dagger_{s}}^{2} + g_{3} \\overline{\\eta} b_{s}^{2} + \\omega_{c} {b^\\dagger_{c}} b_{c} + \\left(\\frac{297 \\eta g_{3}^{2} \\overline{\\eta}}{w_{s}} + 24 \\eta g_{4} \\overline{\\eta} + \\frac{240 g_{3}^{2}}{w_{s}} + 12 g_{4} + w_{s}\\right) {b^\\dagger_{s}} b_{s}$"
      ],
      "text/plain": [
       "eta*g3*CreateBoson(s)**2 + g3*conjugate(eta)*AnnihilateBoson(s)**2 + omega_c*CreateBoson(c)*AnnihilateBoson(c) + (297*eta*g3**2*conjugate(eta)/w_s + 24*eta*g4*conjugate(eta) + 240*g3**2/w_s + 12*g4 + w_s)*CreateBoson(s)*AnnihilateBoson(s)"
      ]
     },
     "execution_count": 1013,
     "metadata": {},
     "output_type": "execute_result"
    }
   ],
   "source": [
    "h0"
   ]
  },
  {
   "cell_type": "code",
   "execution_count": 1014,
   "id": "137b46ef",
   "metadata": {},
   "outputs": [],
   "source": [
    "v1 = v\n",
    "temp = 0\n",
    "for term in v1.args:\n",
    "    if term.as_powers_dict()[ad] == term.as_powers_dict()[a] and term.as_powers_dict()[bd] == term.as_powers_dict()[b]:\n",
    "        temp += term\n",
    "h1 = temp * 1\n",
    "temp = 0\n",
    "for term in (v1-h1).args:\n",
    "    if (term.as_powers_dict()[ad] != term.as_powers_dict()[a] or \n",
    "        term.as_powers_dict()[bd] != term.as_powers_dict()[b]  ):\n",
    "        \n",
    "        temp += term / (omega_sp * (term.as_powers_dict()[ad] - term.as_powers_dict()[a]) +\n",
    "                        omega_b * (term.as_powers_dict()[bd] - term.as_powers_dict()[b])  )\n",
    "s1 = temp * 1"
   ]
  },
  {
   "cell_type": "code",
   "execution_count": 1015,
   "id": "38f5d40c",
   "metadata": {},
   "outputs": [
    {
     "ename": "KeyboardInterrupt",
     "evalue": "",
     "output_type": "error",
     "traceback": [
      "\u001b[0;31m---------------------------------------------------------------------------\u001b[0m",
      "\u001b[0;31mKeyboardInterrupt\u001b[0m                         Traceback (most recent call last)",
      "Input \u001b[0;32mIn [1015]\u001b[0m, in \u001b[0;36m<module>\u001b[0;34m\u001b[0m\n\u001b[0;32m----> 1\u001b[0m v2 \u001b[38;5;241m=\u001b[39m (sp\u001b[38;5;241m.\u001b[39mRational(\u001b[38;5;241m1\u001b[39m,\u001b[38;5;241m2\u001b[39m)\u001b[38;5;241m*\u001b[39mm_normal(\u001b[43mCommutator\u001b[49m\u001b[43m(\u001b[49m\u001b[43ms1\u001b[49m\u001b[43m,\u001b[49m\u001b[43mv1\u001b[49m\u001b[43m)\u001b[49m\u001b[38;5;241;43m.\u001b[39;49m\u001b[43mdoit\u001b[49m\u001b[43m(\u001b[49m\u001b[43m)\u001b[49m))\u001b[38;5;241m.\u001b[39mexpand()\n",
      "File \u001b[0;32m~/miniconda3/lib/python3.8/site-packages/sympy/core/operations.py:455\u001b[0m, in \u001b[0;36mAssocOp.doit\u001b[0;34m(self, **hints)\u001b[0m\n\u001b[1;32m    453\u001b[0m \u001b[38;5;28;01mdef\u001b[39;00m \u001b[38;5;21mdoit\u001b[39m(\u001b[38;5;28mself\u001b[39m, \u001b[38;5;241m*\u001b[39m\u001b[38;5;241m*\u001b[39mhints):\n\u001b[1;32m    454\u001b[0m     \u001b[38;5;28;01mif\u001b[39;00m hints\u001b[38;5;241m.\u001b[39mget(\u001b[38;5;124m'\u001b[39m\u001b[38;5;124mdeep\u001b[39m\u001b[38;5;124m'\u001b[39m, \u001b[38;5;28;01mTrue\u001b[39;00m):\n\u001b[0;32m--> 455\u001b[0m         terms \u001b[38;5;241m=\u001b[39m [term\u001b[38;5;241m.\u001b[39mdoit(\u001b[38;5;241m*\u001b[39m\u001b[38;5;241m*\u001b[39mhints) \u001b[38;5;28;01mfor\u001b[39;00m term \u001b[38;5;129;01min\u001b[39;00m \u001b[38;5;28mself\u001b[39m\u001b[38;5;241m.\u001b[39margs]\n\u001b[1;32m    456\u001b[0m     \u001b[38;5;28;01melse\u001b[39;00m:\n\u001b[1;32m    457\u001b[0m         terms \u001b[38;5;241m=\u001b[39m \u001b[38;5;28mself\u001b[39m\u001b[38;5;241m.\u001b[39margs\n",
      "File \u001b[0;32m~/miniconda3/lib/python3.8/site-packages/sympy/core/operations.py:455\u001b[0m, in \u001b[0;36m<listcomp>\u001b[0;34m(.0)\u001b[0m\n\u001b[1;32m    453\u001b[0m \u001b[38;5;28;01mdef\u001b[39;00m \u001b[38;5;21mdoit\u001b[39m(\u001b[38;5;28mself\u001b[39m, \u001b[38;5;241m*\u001b[39m\u001b[38;5;241m*\u001b[39mhints):\n\u001b[1;32m    454\u001b[0m     \u001b[38;5;28;01mif\u001b[39;00m hints\u001b[38;5;241m.\u001b[39mget(\u001b[38;5;124m'\u001b[39m\u001b[38;5;124mdeep\u001b[39m\u001b[38;5;124m'\u001b[39m, \u001b[38;5;28;01mTrue\u001b[39;00m):\n\u001b[0;32m--> 455\u001b[0m         terms \u001b[38;5;241m=\u001b[39m [\u001b[43mterm\u001b[49m\u001b[38;5;241;43m.\u001b[39;49m\u001b[43mdoit\u001b[49m\u001b[43m(\u001b[49m\u001b[38;5;241;43m*\u001b[39;49m\u001b[38;5;241;43m*\u001b[39;49m\u001b[43mhints\u001b[49m\u001b[43m)\u001b[49m \u001b[38;5;28;01mfor\u001b[39;00m term \u001b[38;5;129;01min\u001b[39;00m \u001b[38;5;28mself\u001b[39m\u001b[38;5;241m.\u001b[39margs]\n\u001b[1;32m    456\u001b[0m     \u001b[38;5;28;01melse\u001b[39;00m:\n\u001b[1;32m    457\u001b[0m         terms \u001b[38;5;241m=\u001b[39m \u001b[38;5;28mself\u001b[39m\u001b[38;5;241m.\u001b[39margs\n",
      "File \u001b[0;32m~/miniconda3/lib/python3.8/site-packages/sympy/core/operations.py:458\u001b[0m, in \u001b[0;36mAssocOp.doit\u001b[0;34m(self, **hints)\u001b[0m\n\u001b[1;32m    456\u001b[0m \u001b[38;5;28;01melse\u001b[39;00m:\n\u001b[1;32m    457\u001b[0m     terms \u001b[38;5;241m=\u001b[39m \u001b[38;5;28mself\u001b[39m\u001b[38;5;241m.\u001b[39margs\n\u001b[0;32m--> 458\u001b[0m \u001b[38;5;28;01mreturn\u001b[39;00m \u001b[38;5;28;43mself\u001b[39;49m\u001b[38;5;241;43m.\u001b[39;49m\u001b[43mfunc\u001b[49m\u001b[43m(\u001b[49m\u001b[38;5;241;43m*\u001b[39;49m\u001b[43mterms\u001b[49m\u001b[43m,\u001b[49m\u001b[43m \u001b[49m\u001b[43mevaluate\u001b[49m\u001b[38;5;241;43m=\u001b[39;49m\u001b[38;5;28;43;01mTrue\u001b[39;49;00m\u001b[43m)\u001b[49m\n",
      "File \u001b[0;32m~/miniconda3/lib/python3.8/site-packages/sympy/core/cache.py:70\u001b[0m, in \u001b[0;36m__cacheit.<locals>.func_wrapper.<locals>.wrapper\u001b[0;34m(*args, **kwargs)\u001b[0m\n\u001b[1;32m     67\u001b[0m \u001b[38;5;129m@wraps\u001b[39m(func)\n\u001b[1;32m     68\u001b[0m \u001b[38;5;28;01mdef\u001b[39;00m \u001b[38;5;21mwrapper\u001b[39m(\u001b[38;5;241m*\u001b[39margs, \u001b[38;5;241m*\u001b[39m\u001b[38;5;241m*\u001b[39mkwargs):\n\u001b[1;32m     69\u001b[0m     \u001b[38;5;28;01mtry\u001b[39;00m:\n\u001b[0;32m---> 70\u001b[0m         retval \u001b[38;5;241m=\u001b[39m \u001b[43mcfunc\u001b[49m\u001b[43m(\u001b[49m\u001b[38;5;241;43m*\u001b[39;49m\u001b[43margs\u001b[49m\u001b[43m,\u001b[49m\u001b[43m \u001b[49m\u001b[38;5;241;43m*\u001b[39;49m\u001b[38;5;241;43m*\u001b[39;49m\u001b[43mkwargs\u001b[49m\u001b[43m)\u001b[49m\n\u001b[1;32m     71\u001b[0m     \u001b[38;5;28;01mexcept\u001b[39;00m \u001b[38;5;167;01mTypeError\u001b[39;00m \u001b[38;5;28;01mas\u001b[39;00m e:\n\u001b[1;32m     72\u001b[0m         \u001b[38;5;28;01mif\u001b[39;00m \u001b[38;5;129;01mnot\u001b[39;00m e\u001b[38;5;241m.\u001b[39margs \u001b[38;5;129;01mor\u001b[39;00m \u001b[38;5;129;01mnot\u001b[39;00m e\u001b[38;5;241m.\u001b[39margs[\u001b[38;5;241m0\u001b[39m]\u001b[38;5;241m.\u001b[39mstartswith(\u001b[38;5;124m'\u001b[39m\u001b[38;5;124munhashable type:\u001b[39m\u001b[38;5;124m'\u001b[39m):\n",
      "File \u001b[0;32m~/miniconda3/lib/python3.8/site-packages/sympy/core/operations.py:98\u001b[0m, in \u001b[0;36mAssocOp.__new__\u001b[0;34m(cls, evaluate, _sympify, *args)\u001b[0m\n\u001b[1;32m     95\u001b[0m \u001b[38;5;28;01mif\u001b[39;00m \u001b[38;5;28mlen\u001b[39m(args) \u001b[38;5;241m==\u001b[39m \u001b[38;5;241m1\u001b[39m:\n\u001b[1;32m     96\u001b[0m     \u001b[38;5;28;01mreturn\u001b[39;00m args[\u001b[38;5;241m0\u001b[39m]\n\u001b[0;32m---> 98\u001b[0m c_part, nc_part, order_symbols \u001b[38;5;241m=\u001b[39m \u001b[38;5;28;43mcls\u001b[39;49m\u001b[38;5;241;43m.\u001b[39;49m\u001b[43mflatten\u001b[49m\u001b[43m(\u001b[49m\u001b[43margs\u001b[49m\u001b[43m)\u001b[49m\n\u001b[1;32m     99\u001b[0m is_commutative \u001b[38;5;241m=\u001b[39m \u001b[38;5;129;01mnot\u001b[39;00m nc_part\n\u001b[1;32m    100\u001b[0m obj \u001b[38;5;241m=\u001b[39m \u001b[38;5;28mcls\u001b[39m\u001b[38;5;241m.\u001b[39m_from_args(c_part \u001b[38;5;241m+\u001b[39m nc_part, is_commutative)\n",
      "File \u001b[0;32m~/miniconda3/lib/python3.8/site-packages/sympy/core/mul.py:533\u001b[0m, in \u001b[0;36mMul.flatten\u001b[0;34m(cls, seq)\u001b[0m\n\u001b[1;32m    531\u001b[0m         bi \u001b[38;5;241m=\u001b[39m b\n\u001b[1;32m    532\u001b[0m         b, e \u001b[38;5;241m=\u001b[39m p\u001b[38;5;241m.\u001b[39mas_base_exp()\n\u001b[0;32m--> 533\u001b[0m         \u001b[38;5;28;01mif\u001b[39;00m \u001b[43mb\u001b[49m\u001b[43m \u001b[49m\u001b[38;5;241;43m!=\u001b[39;49m\u001b[43m \u001b[49m\u001b[43mbi\u001b[49m:\n\u001b[1;32m    534\u001b[0m             changed \u001b[38;5;241m=\u001b[39m \u001b[38;5;28;01mTrue\u001b[39;00m\n\u001b[1;32m    535\u001b[0m c_part\u001b[38;5;241m.\u001b[39mappend(p)\n",
      "File \u001b[0;32m~/miniconda3/lib/python3.8/site-packages/sympy/core/basic.py:401\u001b[0m, in \u001b[0;36mBasic.__ne__\u001b[0;34m(self, other)\u001b[0m\n\u001b[1;32m    392\u001b[0m \u001b[38;5;28;01mdef\u001b[39;00m \u001b[38;5;21m__ne__\u001b[39m(\u001b[38;5;28mself\u001b[39m, other):\n\u001b[1;32m    393\u001b[0m     \u001b[38;5;124;03m\"\"\"``a != b``  -> Compare two symbolic trees and see whether they are different\u001b[39;00m\n\u001b[1;32m    394\u001b[0m \n\u001b[1;32m    395\u001b[0m \u001b[38;5;124;03m    this is the same as:\u001b[39;00m\n\u001b[0;32m   (...)\u001b[0m\n\u001b[1;32m    399\u001b[0m \u001b[38;5;124;03m    but faster\u001b[39;00m\n\u001b[1;32m    400\u001b[0m \u001b[38;5;124;03m    \"\"\"\u001b[39;00m\n\u001b[0;32m--> 401\u001b[0m     \u001b[38;5;28;01mreturn\u001b[39;00m \u001b[38;5;129;01mnot\u001b[39;00m \u001b[38;5;28;43mself\u001b[39;49m\u001b[43m \u001b[49m\u001b[38;5;241;43m==\u001b[39;49m\u001b[43m \u001b[49m\u001b[43mother\u001b[49m\n",
      "\u001b[0;31mKeyboardInterrupt\u001b[0m: "
     ]
    }
   ],
   "source": [
    "v2 = (sp.Rational(1,2)*m_normal(Commutator(s1,v1).doit())).expand()"
   ]
  },
  {
   "cell_type": "code",
   "execution_count": null,
   "id": "110e13dc",
   "metadata": {},
   "outputs": [],
   "source": [
    "sd1 = sp.diff(s1, t)\n",
    "v22=m_normal((I*sp.Rational(1,2) * Commutator(sd1, s1).doit()) ).expand()"
   ]
  },
  {
   "cell_type": "code",
   "execution_count": null,
   "id": "5f482f84",
   "metadata": {},
   "outputs": [],
   "source": [
    "temp = 0\n",
    "for term in v2.args:\n",
    "    if term.as_powers_dict()[ad] == term.as_powers_dict()[a] and term.as_powers_dict()[bd] == term.as_powers_dict()[b] and term.as_powers_dict()[b]==1 and term.as_powers_dict()[a]==0:\n",
    "        temp += term.simplify()\n",
    "h2 = temp * 1\n",
    "\n",
    "temp = 0\n",
    "for term in h2.args:\n",
    "    if term.as_powers_dict()[eta] == term.as_powers_dict()[eta.conjugate()]:\n",
    "        temp += term.simplify()\n",
    "h2_ti = temp * 1\n"
   ]
  },
  {
   "cell_type": "code",
   "execution_count": null,
   "id": "42a5da4c",
   "metadata": {},
   "outputs": [],
   "source": [
    "h2"
   ]
  },
  {
   "cell_type": "code",
   "execution_count": null,
   "id": "429e905e",
   "metadata": {},
   "outputs": [],
   "source": [
    "temp = 0\n",
    "for term in v22.args:\n",
    "    if term.as_powers_dict()[ad] == term.as_powers_dict()[a] and term.as_powers_dict()[bd] == term.as_powers_dict()[b] and term.as_powers_dict()[b]==1 and term.as_powers_dict()[a]==0:\n",
    "        temp += term.simplify()\n",
    "h2 = temp * 1\n",
    "\n",
    "temp = 0\n",
    "for term in h2.args:\n",
    "    if term.as_powers_dict()[eta] == term.as_powers_dict()[eta.conjugate()]:\n",
    "        temp += term.simplify()\n",
    "h2_td = temp * 1"
   ]
  },
  {
   "cell_type": "code",
   "execution_count": null,
   "id": "4e2720dd",
   "metadata": {},
   "outputs": [],
   "source": [
    "h2_ti = h2_td+h2_ti"
   ]
  },
  {
   "cell_type": "code",
   "execution_count": null,
   "id": "00cb8adc",
   "metadata": {},
   "outputs": [],
   "source": [
    "x = symbols('x', real=True)\n",
    "y= symbols('y', real=True)\n",
    "h2=h2_ti.subs(g3**2,x*omega_a**2)\n",
    "h2=h2.subs(g4,y*omega_a)\n",
    "from sympy import symbols, diff\n",
    "f_0 = h2.subs({x: 0, y: 0})\n",
    "df_dx = diff(h2, x).subs({x: 0, y: 0}) * (x - 0)\n",
    "df_dy = diff(h2, y).subs({x: 0, y: 0}) * (y - 0)\n",
    "\n",
    "taylor_first_order = f_0 + df_dx + df_dy\n",
    "\n",
    "    "
   ]
  },
  {
   "cell_type": "code",
   "execution_count": null,
   "id": "9a009ee3",
   "metadata": {},
   "outputs": [],
   "source": [
    "taylor_first_order"
   ]
  },
  {
   "cell_type": "code",
   "execution_count": null,
   "id": "0cbc2d0d",
   "metadata": {},
   "outputs": [],
   "source": [
    "result = taylor_first_order.expand().coeff(bd*b).subs(y,g4/omega_a).subs(x,g3**2/omega_a**2)"
   ]
  },
  {
   "cell_type": "code",
   "execution_count": null,
   "id": "bf41c5c8",
   "metadata": {},
   "outputs": [],
   "source": [
    "temp = 0\n",
    "for term in result.args:\n",
    "    temp+= term.simplify()"
   ]
  },
  {
   "cell_type": "code",
   "execution_count": null,
   "id": "2a75eef2",
   "metadata": {},
   "outputs": [],
   "source": [
    "import qutip as qt\n",
    "qt.qsave(result, '../charge-coupling/ect')"
   ]
  },
  {
   "cell_type": "code",
   "execution_count": 16,
   "id": "15ea45b5",
   "metadata": {},
   "outputs": [],
   "source": [
    "from sympy import symbols, Matrix, sqrt\n",
    "\n",
    "# Define the size of the matrix\n",
    "N = 5  # Example size, can be changed to any other value\n",
    "\n",
    "# Create a matrix with 1, sqrt(2), ... sqrt(n) in the first lower off-diagonal\n",
    "matrix_elements = [[sqrt(i+1) if j == i+1 else 0 for j in range(N)] for i in range(N)]\n",
    "matrix = Matrix(matrix_elements)\n",
    "\n",
    "a = matrix\n",
    "ad = matrix.T"
   ]
  },
  {
   "cell_type": "code",
   "execution_count": 5,
   "id": "2522898f",
   "metadata": {},
   "outputs": [
    {
     "data": {
      "text/latex": [
       "$\\displaystyle \\left[\\begin{matrix}\\frac{\\eta}{\\delta} & 0 & 0 & 0 & 0\\\\0 & \\frac{\\eta}{K + \\delta} & 0 & 0 & 0\\\\0 & 0 & \\frac{\\eta}{2 K + \\delta} & 0 & 0\\\\0 & 0 & 0 & \\frac{\\eta}{3 K + \\delta} & 0\\\\0 & 0 & 0 & 0 & \\frac{\\eta}{4 K + \\delta}\\end{matrix}\\right]$"
      ],
      "text/plain": [
       "Matrix([\n",
       "[eta/delta,               0,                 0,                 0,                 0],\n",
       "[        0, eta/(K + delta),                 0,                 0,                 0],\n",
       "[        0,               0, eta/(2*K + delta),                 0,                 0],\n",
       "[        0,               0,                 0, eta/(3*K + delta),                 0],\n",
       "[        0,               0,                 0,                 0, eta/(4*K + delta)]])"
      ]
     },
     "execution_count": 5,
     "metadata": {},
     "output_type": "execute_result"
    }
   ],
   "source": [
    "from sympy import symbols, Matrix\n",
    "\n",
    "# Define symbolic variables\n",
    "eta, delta, K = symbols('eta delta K',real = True)\n",
    "\n",
    "\n",
    "# Create the diagonal matrix with elements -eta/(delta + n*K)\n",
    "diagonal_elements = [eta/(delta + (n)*K) for n in range(N)]\n",
    "diagonal_matrix = Matrix.diag(*diagonal_elements)\n",
    "\n",
    "diagonal_matrix"
   ]
  },
  {
   "cell_type": "code",
   "execution_count": 6,
   "id": "c3511d47",
   "metadata": {},
   "outputs": [],
   "source": [
    "S = I*sp.eye(N)- I*(ad*diagonal_matrix+diagonal_matrix*a )"
   ]
  },
  {
   "cell_type": "code",
   "execution_count": 14,
   "id": "b8e03ca1",
   "metadata": {},
   "outputs": [
    {
     "data": {
      "text/latex": [
       "$\\displaystyle \\left[\\begin{matrix}0 & 0 & 0 & 0 & 0\\\\0 & 0 & 0 & 0 & 0\\\\\\sqrt{2} & 0 & 0 & 0 & 0\\\\0 & \\sqrt{6} & 0 & 0 & 0\\\\0 & 0 & 2 \\sqrt{3} & 0 & 0\\end{matrix}\\right]$"
      ],
      "text/plain": [
       "Matrix([\n",
       "[      0,       0,         0, 0, 0],\n",
       "[      0,       0,         0, 0, 0],\n",
       "[sqrt(2),       0,         0, 0, 0],\n",
       "[      0, sqrt(6),         0, 0, 0],\n",
       "[      0,       0, 2*sqrt(3), 0, 0]])"
      ]
     },
     "execution_count": 14,
     "metadata": {},
     "output_type": "execute_result"
    }
   ],
   "source": [
    "ad**2"
   ]
  },
  {
   "cell_type": "code",
   "execution_count": 8,
   "id": "2d39f643",
   "metadata": {},
   "outputs": [
    {
     "data": {
      "text/latex": [
       "$\\displaystyle \\left[\\begin{matrix}- \\frac{\\eta^{2}}{\\delta} & \\frac{2 \\eta^{3}}{K \\delta + \\delta^{2}} + \\frac{\\eta^{3}}{\\delta^{2}} & - \\frac{\\sqrt{2} \\eta^{2}}{\\delta} & \\frac{\\sqrt{6} \\eta^{3}}{2 K \\delta + \\delta^{2}} & 0\\\\\\frac{2 \\eta^{3}}{K \\delta + \\delta^{2}} + \\frac{\\eta^{3}}{\\delta^{2}} & \\frac{2 K \\eta^{2}}{K^{2} + 2 K \\delta + \\delta^{2}} + \\frac{4 \\delta \\eta^{2}}{K^{2} + 2 K \\delta + \\delta^{2}} + \\delta - \\frac{4 \\eta^{2}}{K + \\delta} - \\frac{2 \\eta^{2}}{\\delta} & - \\frac{\\sqrt{2} K \\eta}{K + \\delta} - \\frac{3 \\sqrt{2} \\delta \\eta}{K + \\delta} + \\frac{3 \\sqrt{2} \\eta^{3}}{2 K^{2} + 3 K \\delta + \\delta^{2}} + \\frac{2 \\sqrt{2} \\eta^{3}}{K^{2} + 2 K \\delta + \\delta^{2}} + \\frac{\\sqrt{2} \\eta^{3}}{K \\delta + \\delta^{2}} + \\sqrt{2} \\eta & \\frac{\\sqrt{6} K \\eta^{2}}{2 K^{2} + 3 K \\delta + \\delta^{2}} + \\frac{2 \\sqrt{6} \\delta \\eta^{2}}{2 K^{2} + 3 K \\delta + \\delta^{2}} - \\frac{\\sqrt{6} \\eta^{2}}{2 K + \\delta} - \\frac{\\sqrt{6} \\eta^{2}}{K + \\delta} & \\frac{2 \\sqrt{6} \\eta^{3}}{3 K^{2} + 4 K \\delta + \\delta^{2}}\\\\- \\frac{\\sqrt{2} \\eta^{2}}{\\delta} & - \\frac{\\sqrt{2} K \\eta}{K + \\delta} - \\frac{3 \\sqrt{2} \\delta \\eta}{K + \\delta} + \\frac{3 \\sqrt{2} \\eta^{3}}{2 K^{2} + 3 K \\delta + \\delta^{2}} + \\frac{2 \\sqrt{2} \\eta^{3}}{K^{2} + 2 K \\delta + \\delta^{2}} + \\frac{\\sqrt{2} \\eta^{3}}{K \\delta + \\delta^{2}} + \\sqrt{2} \\eta & \\frac{9 K \\eta^{2}}{4 K^{2} + 4 K \\delta + \\delta^{2}} + K + \\frac{9 \\delta \\eta^{2}}{4 K^{2} + 4 K \\delta + \\delta^{2}} + \\frac{2 \\delta \\eta^{2}}{K^{2} + 2 K \\delta + \\delta^{2}} + 2 \\delta - \\frac{6 \\eta^{2}}{2 K + \\delta} - \\frac{4 \\eta^{2}}{K + \\delta} & - \\frac{4 \\sqrt{3} K \\eta}{2 K + \\delta} - \\frac{5 \\sqrt{3} \\delta \\eta}{2 K + \\delta} + \\frac{4 \\sqrt{3} \\eta^{3}}{6 K^{2} + 5 K \\delta + \\delta^{2}} + \\frac{3 \\sqrt{3} \\eta^{3}}{4 K^{2} + 4 K \\delta + \\delta^{2}} + \\frac{2 \\sqrt{3} \\eta^{3}}{2 K^{2} + 3 K \\delta + \\delta^{2}} + \\sqrt{3} \\eta & \\frac{6 \\sqrt{3} K \\eta^{2}}{6 K^{2} + 5 K \\delta + \\delta^{2}} + \\frac{6 \\sqrt{3} \\delta \\eta^{2}}{6 K^{2} + 5 K \\delta + \\delta^{2}} - \\frac{2 \\sqrt{3} \\eta^{2}}{3 K + \\delta} - \\frac{2 \\sqrt{3} \\eta^{2}}{2 K + \\delta}\\\\\\frac{\\sqrt{6} \\eta^{3}}{2 K \\delta + \\delta^{2}} & \\frac{\\sqrt{6} K \\eta^{2}}{2 K^{2} + 3 K \\delta + \\delta^{2}} + \\frac{2 \\sqrt{6} \\delta \\eta^{2}}{2 K^{2} + 3 K \\delta + \\delta^{2}} - \\frac{\\sqrt{6} \\eta^{2}}{2 K + \\delta} - \\frac{\\sqrt{6} \\eta^{2}}{K + \\delta} & - \\frac{4 \\sqrt{3} K \\eta}{2 K + \\delta} - \\frac{5 \\sqrt{3} \\delta \\eta}{2 K + \\delta} + \\frac{4 \\sqrt{3} \\eta^{3}}{6 K^{2} + 5 K \\delta + \\delta^{2}} + \\frac{3 \\sqrt{3} \\eta^{3}}{4 K^{2} + 4 K \\delta + \\delta^{2}} + \\frac{2 \\sqrt{3} \\eta^{3}}{2 K^{2} + 3 K \\delta + \\delta^{2}} + \\sqrt{3} \\eta & \\frac{24 K \\eta^{2}}{9 K^{2} + 6 K \\delta + \\delta^{2}} + \\frac{3 K \\eta^{2}}{4 K^{2} + 4 K \\delta + \\delta^{2}} + 3 K + \\frac{16 \\delta \\eta^{2}}{9 K^{2} + 6 K \\delta + \\delta^{2}} + \\frac{6 \\delta \\eta^{2}}{4 K^{2} + 4 K \\delta + \\delta^{2}} + 3 \\delta - \\frac{8 \\eta^{2}}{3 K + \\delta} - \\frac{6 \\eta^{2}}{2 K + \\delta} & - \\frac{18 K \\eta}{3 K + \\delta} - \\frac{14 \\delta \\eta}{3 K + \\delta} + \\frac{8 \\eta^{3}}{9 K^{2} + 6 K \\delta + \\delta^{2}} + \\frac{6 \\eta^{3}}{6 K^{2} + 5 K \\delta + \\delta^{2}} + 2 \\eta\\\\0 & \\frac{2 \\sqrt{6} \\eta^{3}}{3 K^{2} + 4 K \\delta + \\delta^{2}} & \\frac{6 \\sqrt{3} K \\eta^{2}}{6 K^{2} + 5 K \\delta + \\delta^{2}} + \\frac{6 \\sqrt{3} \\delta \\eta^{2}}{6 K^{2} + 5 K \\delta + \\delta^{2}} - \\frac{2 \\sqrt{3} \\eta^{2}}{3 K + \\delta} - \\frac{2 \\sqrt{3} \\eta^{2}}{2 K + \\delta} & - \\frac{18 K \\eta}{3 K + \\delta} - \\frac{14 \\delta \\eta}{3 K + \\delta} + \\frac{8 \\eta^{3}}{9 K^{2} + 6 K \\delta + \\delta^{2}} + \\frac{6 \\eta^{3}}{6 K^{2} + 5 K \\delta + \\delta^{2}} + 2 \\eta & \\frac{12 K \\eta^{2}}{9 K^{2} + 6 K \\delta + \\delta^{2}} + 6 K + \\frac{12 \\delta \\eta^{2}}{9 K^{2} + 6 K \\delta + \\delta^{2}} + 4 \\delta - \\frac{8 \\eta^{2}}{3 K + \\delta}\\end{matrix}\\right]$"
      ],
      "text/plain": [
       "Matrix([\n",
       "[                                  -eta**2/delta,                                                                                                                                                                      2*eta**3/(K*delta + delta**2) + eta**3/delta**2,                                                                                                                                                                                                                     -sqrt(2)*eta**2/delta,                                                                                                                                                                                                                         sqrt(6)*eta**3/(2*K*delta + delta**2),                                                                                                                                                                             0],\n",
       "[2*eta**3/(K*delta + delta**2) + eta**3/delta**2,                                                                              2*K*eta**2/(K**2 + 2*K*delta + delta**2) + 4*delta*eta**2/(K**2 + 2*K*delta + delta**2) + delta - 4*eta**2/(K + delta) - 2*eta**2/delta,                      -sqrt(2)*K*eta/(K + delta) - 3*sqrt(2)*delta*eta/(K + delta) + 3*sqrt(2)*eta**3/(2*K**2 + 3*K*delta + delta**2) + 2*sqrt(2)*eta**3/(K**2 + 2*K*delta + delta**2) + sqrt(2)*eta**3/(K*delta + delta**2) + sqrt(2)*eta,                                                                                         sqrt(6)*K*eta**2/(2*K**2 + 3*K*delta + delta**2) + 2*sqrt(6)*delta*eta**2/(2*K**2 + 3*K*delta + delta**2) - sqrt(6)*eta**2/(2*K + delta) - sqrt(6)*eta**2/(K + delta),                                                                                                                              2*sqrt(6)*eta**3/(3*K**2 + 4*K*delta + delta**2)],\n",
       "[                          -sqrt(2)*eta**2/delta, -sqrt(2)*K*eta/(K + delta) - 3*sqrt(2)*delta*eta/(K + delta) + 3*sqrt(2)*eta**3/(2*K**2 + 3*K*delta + delta**2) + 2*sqrt(2)*eta**3/(K**2 + 2*K*delta + delta**2) + sqrt(2)*eta**3/(K*delta + delta**2) + sqrt(2)*eta,                                  9*K*eta**2/(4*K**2 + 4*K*delta + delta**2) + K + 9*delta*eta**2/(4*K**2 + 4*K*delta + delta**2) + 2*delta*eta**2/(K**2 + 2*K*delta + delta**2) + 2*delta - 6*eta**2/(2*K + delta) - 4*eta**2/(K + delta),                     -4*sqrt(3)*K*eta/(2*K + delta) - 5*sqrt(3)*delta*eta/(2*K + delta) + 4*sqrt(3)*eta**3/(6*K**2 + 5*K*delta + delta**2) + 3*sqrt(3)*eta**3/(4*K**2 + 4*K*delta + delta**2) + 2*sqrt(3)*eta**3/(2*K**2 + 3*K*delta + delta**2) + sqrt(3)*eta, 6*sqrt(3)*K*eta**2/(6*K**2 + 5*K*delta + delta**2) + 6*sqrt(3)*delta*eta**2/(6*K**2 + 5*K*delta + delta**2) - 2*sqrt(3)*eta**2/(3*K + delta) - 2*sqrt(3)*eta**2/(2*K + delta)],\n",
       "[          sqrt(6)*eta**3/(2*K*delta + delta**2),                                                sqrt(6)*K*eta**2/(2*K**2 + 3*K*delta + delta**2) + 2*sqrt(6)*delta*eta**2/(2*K**2 + 3*K*delta + delta**2) - sqrt(6)*eta**2/(2*K + delta) - sqrt(6)*eta**2/(K + delta), -4*sqrt(3)*K*eta/(2*K + delta) - 5*sqrt(3)*delta*eta/(2*K + delta) + 4*sqrt(3)*eta**3/(6*K**2 + 5*K*delta + delta**2) + 3*sqrt(3)*eta**3/(4*K**2 + 4*K*delta + delta**2) + 2*sqrt(3)*eta**3/(2*K**2 + 3*K*delta + delta**2) + sqrt(3)*eta, 24*K*eta**2/(9*K**2 + 6*K*delta + delta**2) + 3*K*eta**2/(4*K**2 + 4*K*delta + delta**2) + 3*K + 16*delta*eta**2/(9*K**2 + 6*K*delta + delta**2) + 6*delta*eta**2/(4*K**2 + 4*K*delta + delta**2) + 3*delta - 8*eta**2/(3*K + delta) - 6*eta**2/(2*K + delta),                            -18*K*eta/(3*K + delta) - 14*delta*eta/(3*K + delta) + 8*eta**3/(9*K**2 + 6*K*delta + delta**2) + 6*eta**3/(6*K**2 + 5*K*delta + delta**2) + 2*eta],\n",
       "[                                              0,                                                                                                                                                                     2*sqrt(6)*eta**3/(3*K**2 + 4*K*delta + delta**2),                                                             6*sqrt(3)*K*eta**2/(6*K**2 + 5*K*delta + delta**2) + 6*sqrt(3)*delta*eta**2/(6*K**2 + 5*K*delta + delta**2) - 2*sqrt(3)*eta**2/(3*K + delta) - 2*sqrt(3)*eta**2/(2*K + delta),                                                                                                            -18*K*eta/(3*K + delta) - 14*delta*eta/(3*K + delta) + 8*eta**3/(9*K**2 + 6*K*delta + delta**2) + 6*eta**3/(6*K**2 + 5*K*delta + delta**2) + 2*eta,                                        12*K*eta**2/(9*K**2 + 6*K*delta + delta**2) + 6*K + 12*delta*eta**2/(9*K**2 + 6*K*delta + delta**2) + 4*delta - 8*eta**2/(3*K + delta)]])"
      ]
     },
     "execution_count": 8,
     "metadata": {},
     "output_type": "execute_result"
    }
   ],
   "source": [
    "(S.conjugate().transpose()*(delta*ad*a+K/2*ad*ad*a*a+eta*(a+ad))*S).expand()"
   ]
  },
  {
   "cell_type": "code",
   "execution_count": 10,
   "id": "020b8394",
   "metadata": {},
   "outputs": [
    {
     "data": {
      "text/latex": [
       "$\\displaystyle \\left[\\begin{matrix}0 & - \\frac{\\eta}{\\delta} & 0 & 0 & 0\\\\- \\frac{\\eta}{\\delta} & 0 & - \\frac{\\sqrt{2} \\eta}{K + \\delta} & 0 & 0\\\\0 & - \\frac{\\sqrt{2} \\eta}{K + \\delta} & 0 & - \\frac{\\sqrt{3} \\eta}{2 K + \\delta} & 0\\\\0 & 0 & - \\frac{\\sqrt{3} \\eta}{2 K + \\delta} & 0 & - \\frac{2 \\eta}{3 K + \\delta}\\\\0 & 0 & 0 & - \\frac{2 \\eta}{3 K + \\delta} & 0\\end{matrix}\\right]$"
      ],
      "text/plain": [
       "Matrix([\n",
       "[         0,               -eta/delta,                          0,                          0,                    0],\n",
       "[-eta/delta,                        0,   -sqrt(2)*eta/(K + delta),                          0,                    0],\n",
       "[         0, -sqrt(2)*eta/(K + delta),                          0, -sqrt(3)*eta/(2*K + delta),                    0],\n",
       "[         0,                        0, -sqrt(3)*eta/(2*K + delta),                          0, -2*eta/(3*K + delta)],\n",
       "[         0,                        0,                          0,       -2*eta/(3*K + delta),                    0]])"
      ]
     },
     "execution_count": 10,
     "metadata": {},
     "output_type": "execute_result"
    }
   ],
   "source": [
    "ad*a*A-A*ad*a"
   ]
  },
  {
   "cell_type": "code",
   "execution_count": 11,
   "id": "eaaa3278",
   "metadata": {},
   "outputs": [
    {
     "data": {
      "text/latex": [
       "$\\displaystyle \\left[\\begin{matrix}0 & \\frac{\\eta}{\\delta} & 0 & 0 & 0\\\\- \\frac{\\eta}{\\delta} & 0 & \\frac{\\sqrt{2} \\eta}{K + \\delta} & 0 & 0\\\\0 & - \\frac{\\sqrt{2} \\eta}{K + \\delta} & 0 & \\frac{\\sqrt{3} \\eta}{2 K + \\delta} & 0\\\\0 & 0 & - \\frac{\\sqrt{3} \\eta}{2 K + \\delta} & 0 & \\frac{2 \\eta}{3 K + \\delta}\\\\0 & 0 & 0 & - \\frac{2 \\eta}{3 K + \\delta} & 0\\end{matrix}\\right]$"
      ],
      "text/plain": [
       "Matrix([\n",
       "[         0,                eta/delta,                          0,                         0,                   0],\n",
       "[-eta/delta,                        0,    sqrt(2)*eta/(K + delta),                         0,                   0],\n",
       "[         0, -sqrt(2)*eta/(K + delta),                          0, sqrt(3)*eta/(2*K + delta),                   0],\n",
       "[         0,                        0, -sqrt(3)*eta/(2*K + delta),                         0, 2*eta/(3*K + delta)],\n",
       "[         0,                        0,                          0,      -2*eta/(3*K + delta),                   0]])"
      ]
     },
     "execution_count": 11,
     "metadata": {},
     "output_type": "execute_result"
    }
   ],
   "source": [
    "A"
   ]
  },
  {
   "cell_type": "code",
   "execution_count": 12,
   "id": "6dea799c",
   "metadata": {},
   "outputs": [
    {
     "data": {
      "text/latex": [
       "$\\displaystyle \\left[\\begin{matrix}- \\frac{i \\eta^{2}}{2 \\delta^{2}} & 0 & \\frac{\\sqrt{2} i \\eta^{2}}{2 \\delta \\left(K + \\delta\\right)} & 0 & 0\\\\0 & - \\frac{i \\eta^{2}}{\\left(K + \\delta\\right)^{2}} + \\frac{i \\eta^{2}}{2 \\delta^{2}} & 0 & \\frac{\\sqrt{6} i \\eta^{2}}{2 \\left(K + \\delta\\right) \\left(2 K + \\delta\\right)} & 0\\\\- \\frac{\\sqrt{2} i \\eta^{2}}{2 \\delta \\left(K + \\delta\\right)} & 0 & - \\frac{3 i \\eta^{2}}{2 \\left(2 K + \\delta\\right)^{2}} + \\frac{i \\eta^{2}}{\\left(K + \\delta\\right)^{2}} & 0 & \\frac{\\sqrt{3} i \\eta^{2}}{\\left(2 K + \\delta\\right) \\left(3 K + \\delta\\right)}\\\\0 & - \\frac{\\sqrt{6} i \\eta^{2}}{2 \\left(K + \\delta\\right) \\left(2 K + \\delta\\right)} & 0 & - \\frac{2 i \\eta^{2}}{\\left(3 K + \\delta\\right)^{2}} + \\frac{3 i \\eta^{2}}{2 \\left(2 K + \\delta\\right)^{2}} & 0\\\\0 & 0 & - \\frac{\\sqrt{3} i \\eta^{2}}{\\left(2 K + \\delta\\right) \\left(3 K + \\delta\\right)} & 0 & \\frac{2 i \\eta^{2}}{\\left(3 K + \\delta\\right)^{2}}\\end{matrix}\\right]$"
      ],
      "text/plain": [
       "Matrix([\n",
       "[                 -I*eta**2/(2*delta**2),                                                0,                     sqrt(2)*I*eta**2/(2*delta*(K + delta)),                                                              0,                                              0],\n",
       "[                                      0, -I*eta**2/(K + delta)**2 + I*eta**2/(2*delta**2),                                                          0,                 sqrt(6)*I*eta**2/(2*(K + delta)*(2*K + delta)),                                              0],\n",
       "[-sqrt(2)*I*eta**2/(2*delta*(K + delta)),                                                0, -3*I*eta**2/(2*(2*K + delta)**2) + I*eta**2/(K + delta)**2,                                                              0, sqrt(3)*I*eta**2/((2*K + delta)*(3*K + delta))],\n",
       "[                                      0,  -sqrt(6)*I*eta**2/(2*(K + delta)*(2*K + delta)),                                                          0, -2*I*eta**2/(3*K + delta)**2 + 3*I*eta**2/(2*(2*K + delta)**2),                                              0],\n",
       "[                                      0,                                                0,            -sqrt(3)*I*eta**2/((2*K + delta)*(3*K + delta)),                                                              0,                    2*I*eta**2/(3*K + delta)**2]])"
      ]
     },
     "execution_count": 12,
     "metadata": {},
     "output_type": "execute_result"
    }
   ],
   "source": [
    "B"
   ]
  },
  {
   "cell_type": "code",
   "execution_count": 1046,
   "id": "1b037dc9",
   "metadata": {},
   "outputs": [
    {
     "data": {
      "text/plain": [
       "array([[-2.        ,  0.        ,  0.        ,  0.        ,  0.        ],\n",
       "       [ 0.        ,  1.33333333,  0.        ,  0.        ,  0.        ],\n",
       "       [ 0.        ,  0.        ,  0.4       ,  0.        ,  0.        ],\n",
       "       [ 0.        ,  0.        ,  0.        ,  0.22857143,  0.        ],\n",
       "       [ 0.        ,  0.        ,  0.        ,  0.        ,  0.15873016]])"
      ]
     },
     "execution_count": 1046,
     "metadata": {},
     "output_type": "execute_result"
    }
   ],
   "source": [
    "import numpy as np\n",
    "\n",
    "# Define symbolic variables\n",
    "eta=1\n",
    "delta=1\n",
    "K=2\n",
    "\n",
    "# Define the size of the matrix\n",
    "N = 5  # Example size, can be changed to any other value\n",
    "\n",
    "# Create the diagonal matrix with specified elements\n",
    "diagonal_elements = [(n + 1) * eta * (1/(delta + (n - 1) * K) - 1/(delta + n * K)) for n in range(N)]\n",
    "diagonal_matrix = np.diag(diagonal_elements)\n",
    "\n",
    "diagonal_matrix\n"
   ]
  },
  {
   "cell_type": "code",
   "execution_count": null,
   "id": "fff4bbd1",
   "metadata": {},
   "outputs": [],
   "source": []
  }
 ],
 "metadata": {
  "kernelspec": {
   "display_name": "Python 3 (ipykernel)",
   "language": "python",
   "name": "python3"
  },
  "language_info": {
   "codemirror_mode": {
    "name": "ipython",
    "version": 3
   },
   "file_extension": ".py",
   "mimetype": "text/x-python",
   "name": "python",
   "nbconvert_exporter": "python",
   "pygments_lexer": "ipython3",
   "version": "3.8.3"
  }
 },
 "nbformat": 4,
 "nbformat_minor": 5
}
