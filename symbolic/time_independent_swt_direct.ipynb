{
 "cells": [
  {
   "cell_type": "code",
   "execution_count": 45,
   "id": "27ca754a-9d30-4a6d-8054-db633309ef22",
   "metadata": {
    "execution": {
     "iopub.execute_input": "2023-09-28T17:14:37.936090Z",
     "iopub.status.busy": "2023-09-28T17:14:37.935208Z",
     "iopub.status.idle": "2023-09-28T17:14:38.446588Z",
     "shell.execute_reply": "2023-09-28T17:14:38.446295Z",
     "shell.execute_reply.started": "2023-09-28T17:14:37.936022Z"
    },
    "tags": []
   },
   "outputs": [],
   "source": [
    "from sympy.physics.secondquant import *\n",
    "from sympy import symbols\n",
    "import sympy as sp\n",
    "from no import normal"
   ]
  },
  {
   "cell_type": "code",
   "execution_count": 46,
   "id": "bee929bb-cb95-42cf-8cfc-b637ef21834a",
   "metadata": {
    "execution": {
     "iopub.execute_input": "2023-09-28T17:14:38.447473Z",
     "iopub.status.busy": "2023-09-28T17:14:38.447338Z",
     "iopub.status.idle": "2023-09-28T17:14:38.449416Z",
     "shell.execute_reply": "2023-09-28T17:14:38.449124Z",
     "shell.execute_reply.started": "2023-09-28T17:14:38.447464Z"
    },
    "tags": []
   },
   "outputs": [],
   "source": [
    "ind_a = symbols('a')\n",
    "a = B(ind_a)\n",
    "ad = Bd(ind_a)"
   ]
  },
  {
   "cell_type": "code",
   "execution_count": 47,
   "id": "bd55f7a7-b1e1-4a35-94cb-263462a7bec0",
   "metadata": {
    "execution": {
     "iopub.execute_input": "2023-09-28T17:14:38.647253Z",
     "iopub.status.busy": "2023-09-28T17:14:38.646548Z",
     "iopub.status.idle": "2023-09-28T17:14:38.656755Z",
     "shell.execute_reply": "2023-09-28T17:14:38.655780Z",
     "shell.execute_reply.started": "2023-09-28T17:14:38.647225Z"
    },
    "tags": []
   },
   "outputs": [],
   "source": [
    "g3 = symbols('g3', real=True)\n",
    "g4 = symbols('g4', real=True)\n",
    "g5 = symbols('g5', real=True)\n",
    "g6 = symbols('g6', real=True)\n",
    "omega = symbols('omega', real=True)\n",
    "kappa = symbols('kappa', real=True)"
   ]
  },
  {
   "cell_type": "code",
   "execution_count": 48,
   "id": "86e082c8-2981-467e-abfc-fc96b02e9e6c",
   "metadata": {
    "execution": {
     "iopub.execute_input": "2023-09-28T17:14:39.970470Z",
     "iopub.status.busy": "2023-09-28T17:14:39.969845Z",
     "iopub.status.idle": "2023-09-28T17:14:39.988547Z",
     "shell.execute_reply": "2023-09-28T17:14:39.987509Z",
     "shell.execute_reply.started": "2023-09-28T17:14:39.970441Z"
    },
    "tags": []
   },
   "outputs": [],
   "source": [
    "h0 = omega * ad * a"
   ]
  },
  {
   "cell_type": "code",
   "execution_count": 49,
   "id": "cb9a2f02-ca22-4202-abce-288d7892ccba",
   "metadata": {
    "execution": {
     "iopub.execute_input": "2023-09-28T17:14:42.248711Z",
     "iopub.status.busy": "2023-09-28T17:14:42.247606Z",
     "iopub.status.idle": "2023-09-28T17:14:42.406087Z",
     "shell.execute_reply": "2023-09-28T17:14:42.405767Z",
     "shell.execute_reply.started": "2023-09-28T17:14:42.248660Z"
    },
    "tags": []
   },
   "outputs": [],
   "source": [
    "v = normal(g3 * (a+ad)**3 +g4*(a+ad)**4 +g5*(a+ad)**5 +g6*(a+ad)**6  )"
   ]
  },
  {
   "cell_type": "markdown",
   "id": "6d99629b-96b8-4139-bb1e-2af74528d302",
   "metadata": {},
   "source": [
    "### obtain $\\hat{H}_1$"
   ]
  },
  {
   "cell_type": "code",
   "execution_count": 50,
   "id": "1868fc98-9273-429a-a29d-fb50ee3c5f61",
   "metadata": {
    "execution": {
     "iopub.execute_input": "2023-09-17T19:55:23.212951Z",
     "iopub.status.busy": "2023-09-17T19:55:23.212761Z",
     "iopub.status.idle": "2023-09-17T19:55:23.399848Z",
     "shell.execute_reply": "2023-09-17T19:55:23.399469Z",
     "shell.execute_reply.started": "2023-09-17T19:55:23.212937Z"
    },
    "tags": []
   },
   "outputs": [],
   "source": [
    "v1 = sp.simplify(v)"
   ]
  },
  {
   "cell_type": "code",
   "execution_count": 51,
   "id": "8e484b4f-c180-4f7d-86b4-82445d4ef982",
   "metadata": {
    "execution": {
     "iopub.execute_input": "2023-09-17T19:55:23.400782Z",
     "iopub.status.busy": "2023-09-17T19:55:23.400685Z",
     "iopub.status.idle": "2023-09-17T19:55:23.404137Z",
     "shell.execute_reply": "2023-09-17T19:55:23.403720Z",
     "shell.execute_reply.started": "2023-09-17T19:55:23.400772Z"
    },
    "tags": []
   },
   "outputs": [],
   "source": [
    "temp = 0\n",
    "for term in v1.args:\n",
    "    if term.as_powers_dict()[ad] == term.as_powers_dict()[a]:\n",
    "        temp += term\n",
    "h1 = temp * 1"
   ]
  },
  {
   "cell_type": "code",
   "execution_count": 52,
   "id": "341ba478",
   "metadata": {},
   "outputs": [
    {
     "data": {
      "text/latex": [
       "$\\displaystyle 3 g_{4} + 12 g_{4} {b^\\dagger_{a}} b_{a} + 6 g_{4} {b^\\dagger_{a}}^{2} b_{a}^{2} + 15 g_{6} + 90 g_{6} {b^\\dagger_{a}} b_{a} + 90 g_{6} {b^\\dagger_{a}}^{2} b_{a}^{2} + 20 g_{6} {b^\\dagger_{a}}^{3} b_{a}^{3}$"
      ],
      "text/plain": [
       "3*g4 + 12*g4*CreateBoson(a)*AnnihilateBoson(a) + 6*g4*CreateBoson(a)**2*AnnihilateBoson(a)**2 + 15*g6 + 90*g6*CreateBoson(a)*AnnihilateBoson(a) + 90*g6*CreateBoson(a)**2*AnnihilateBoson(a)**2 + 20*g6*CreateBoson(a)**3*AnnihilateBoson(a)**3"
      ]
     },
     "execution_count": 52,
     "metadata": {},
     "output_type": "execute_result"
    }
   ],
   "source": [
    "h1"
   ]
  },
  {
   "cell_type": "markdown",
   "id": "b9b1ca1b-47cc-4692-a118-305b06a20ba6",
   "metadata": {},
   "source": [
    "### obtain up to $\\hat{H}_2$"
   ]
  },
  {
   "cell_type": "code",
   "execution_count": 11,
   "id": "d6af1876-eee8-4634-af64-2741d34404ea",
   "metadata": {
    "execution": {
     "iopub.execute_input": "2023-09-17T20:16:46.932591Z",
     "iopub.status.busy": "2023-09-17T20:16:46.931859Z",
     "iopub.status.idle": "2023-09-17T20:16:46.994125Z",
     "shell.execute_reply": "2023-09-17T20:16:46.993832Z",
     "shell.execute_reply.started": "2023-09-17T20:16:46.932502Z"
    },
    "tags": []
   },
   "outputs": [],
   "source": [
    "temp = 0\n",
    "for term in (v1-h1).args:\n",
    "    if term.as_powers_dict()[ad]!= term.as_powers_dict()[a]:\n",
    "        temp += term / omega / (term.as_powers_dict()[ad] - term.as_powers_dict()[a])\n",
    "s1= normal(temp) * 1\n",
    "s_tot = s1 * kappa \n",
    "s_tot_1 = s1 * kappa"
   ]
  },
  {
   "cell_type": "code",
   "execution_count": 14,
   "id": "c53202b8-dafb-4b3e-a582-fc9de68300c9",
   "metadata": {
    "execution": {
     "iopub.execute_input": "2023-09-17T20:16:47.357698Z",
     "iopub.status.busy": "2023-09-17T20:16:47.357326Z",
     "iopub.status.idle": "2023-09-17T20:16:54.057584Z",
     "shell.execute_reply": "2023-09-17T20:16:54.057210Z",
     "shell.execute_reply.started": "2023-09-17T20:16:47.357675Z"
    },
    "tags": []
   },
   "outputs": [
    {
     "name": "stdout",
     "output_type": "stream",
     "text": [
      "x\n",
      "x\n"
     ]
    }
   ],
   "source": [
    "h_tot = h0 + kappa*v \n",
    "h_eff_2 = 0\n",
    "\n",
    "temp_2 = normal(Commutator(s_tot_1, h_tot.coeff(kappa,1)*kappa**1).doit() )\n",
    "temp_1 = normal(Commutator(s_tot_1, h_tot.coeff(kappa,0)*kappa**0).doit() )\n",
    "print('x')\n",
    "h_eff_2 += temp_2\n",
    "\n",
    "temp_2 = normal(Commutator(s_tot_1, temp_1).doit())\n",
    "print('x')\n",
    "h_eff_2 += sp.Rational(1,2) * temp_2\n",
    "\n",
    "h_eff_2 = h_eff_2.expand()"
   ]
  },
  {
   "cell_type": "code",
   "execution_count": 16,
   "id": "f07ff33e-9eab-4157-a0cc-5236a4091686",
   "metadata": {
    "execution": {
     "iopub.execute_input": "2023-09-17T20:19:12.591055Z",
     "iopub.status.busy": "2023-09-17T20:19:12.588514Z",
     "iopub.status.idle": "2023-09-17T20:19:12.637110Z",
     "shell.execute_reply": "2023-09-17T20:19:12.636588Z",
     "shell.execute_reply.started": "2023-09-17T20:19:12.591005Z"
    },
    "tags": []
   },
   "outputs": [],
   "source": [
    "v2 = normal(h_eff_2.coeff(kappa,2))"
   ]
  },
  {
   "cell_type": "code",
   "execution_count": 18,
   "id": "fae0223d-e61b-463b-80c8-dfd47114936c",
   "metadata": {
    "execution": {
     "iopub.execute_input": "2023-09-17T20:19:13.045387Z",
     "iopub.status.busy": "2023-09-17T20:19:13.044914Z",
     "iopub.status.idle": "2023-09-17T20:19:13.066542Z",
     "shell.execute_reply": "2023-09-17T20:19:13.066176Z",
     "shell.execute_reply.started": "2023-09-17T20:19:13.045340Z"
    },
    "tags": []
   },
   "outputs": [],
   "source": [
    "temp = 0\n",
    "for term in v2.args:\n",
    "    if term.as_powers_dict()[ad] == term.as_powers_dict()[a]:\n",
    "        temp += term\n",
    "h2 = temp * 1"
   ]
  },
  {
   "cell_type": "code",
   "execution_count": 19,
   "id": "31bd6641-ac96-4428-84b0-65a8e18fd7e5",
   "metadata": {
    "execution": {
     "iopub.execute_input": "2023-09-17T20:19:13.995876Z",
     "iopub.status.busy": "2023-09-17T20:19:13.995500Z",
     "iopub.status.idle": "2023-09-17T20:19:14.007650Z",
     "shell.execute_reply": "2023-09-17T20:19:14.006808Z",
     "shell.execute_reply.started": "2023-09-17T20:19:13.995853Z"
    },
    "tags": []
   },
   "outputs": [],
   "source": [
    "temp = 0\n",
    "for term in v1.args:\n",
    "    if term.as_powers_dict()[ad] == term.as_powers_dict()[a]:\n",
    "        temp += term\n",
    "h1 = temp * 1"
   ]
  },
  {
   "cell_type": "code",
   "execution_count": 20,
   "id": "36c45eba-43ca-48e2-b837-59af952996a6",
   "metadata": {
    "execution": {
     "iopub.execute_input": "2023-09-17T20:19:14.645293Z",
     "iopub.status.busy": "2023-09-17T20:19:14.644875Z",
     "iopub.status.idle": "2023-09-17T20:19:14.667824Z",
     "shell.execute_reply": "2023-09-17T20:19:14.667379Z",
     "shell.execute_reply.started": "2023-09-17T20:19:14.645269Z"
    },
    "tags": []
   },
   "outputs": [
    {
     "data": {
      "text/latex": [
       "$\\displaystyle - \\frac{11 g_{3}^{2}}{\\omega} - \\frac{60 g_{3}^{2} {b^\\dagger_{a}} b_{a}}{\\omega} - \\frac{30 g_{3}^{2} {b^\\dagger_{a}}^{2} b_{a}^{2}}{\\omega} - \\frac{130 g_{3} g_{5}}{\\omega} - \\frac{1100 g_{3} g_{5} {b^\\dagger_{a}} b_{a}}{\\omega} - \\frac{1260 g_{3} g_{5} {b^\\dagger_{a}}^{2} b_{a}^{2}}{\\omega} - \\frac{280 g_{3} g_{5} {b^\\dagger_{a}}^{3} b_{a}^{3}}{\\omega} - \\frac{42 g_{4}^{2}}{\\omega} - \\frac{288 g_{4}^{2} {b^\\dagger_{a}} b_{a}}{\\omega} - \\frac{306 g_{4}^{2} {b^\\dagger_{a}}^{2} b_{a}^{2}}{\\omega} - \\frac{68 g_{4}^{2} {b^\\dagger_{a}}^{3} b_{a}^{3}}{\\omega} - \\frac{720 g_{4} g_{6}}{\\omega} - \\frac{6840 g_{4} g_{6} {b^\\dagger_{a}} b_{a}}{\\omega} - \\frac{11340 g_{4} g_{6} {b^\\dagger_{a}}^{2} b_{a}^{2}}{\\omega} - \\frac{5280 g_{4} g_{6} {b^\\dagger_{a}}^{3} b_{a}^{3}}{\\omega} - \\frac{660 g_{4} g_{6} {b^\\dagger_{a}}^{4} b_{a}^{4}}{\\omega} - \\frac{449 g_{5}^{2}}{\\omega} - \\frac{5320 g_{5}^{2} {b^\\dagger_{a}} b_{a}}{\\omega} - \\frac{10220 g_{5}^{2} {b^\\dagger_{a}}^{2} b_{a}^{2}}{\\omega} - \\frac{5040 g_{5}^{2} {b^\\dagger_{a}}^{3} b_{a}^{3}}{\\omega} - \\frac{630 g_{5}^{2} {b^\\dagger_{a}}^{4} b_{a}^{4}}{\\omega} - \\frac{3495 g_{6}^{2}}{\\omega} - \\frac{43650 g_{6}^{2} {b^\\dagger_{a}} b_{a}}{\\omega} - \\frac{102150 g_{6}^{2} {b^\\dagger_{a}}^{2} b_{a}^{2}}{\\omega} - \\frac{75100 g_{6}^{2} {b^\\dagger_{a}}^{3} b_{a}^{3}}{\\omega} - \\frac{19650 g_{6}^{2} {b^\\dagger_{a}}^{4} b_{a}^{4}}{\\omega} - \\frac{1572 g_{6}^{2} {b^\\dagger_{a}}^{5} b_{a}^{5}}{\\omega}$"
      ],
      "text/plain": [
       "-11*g3**2/omega - 60*g3**2*CreateBoson(a)*AnnihilateBoson(a)/omega - 30*g3**2*CreateBoson(a)**2*AnnihilateBoson(a)**2/omega - 130*g3*g5/omega - 1100*g3*g5*CreateBoson(a)*AnnihilateBoson(a)/omega - 1260*g3*g5*CreateBoson(a)**2*AnnihilateBoson(a)**2/omega - 280*g3*g5*CreateBoson(a)**3*AnnihilateBoson(a)**3/omega - 42*g4**2/omega - 288*g4**2*CreateBoson(a)*AnnihilateBoson(a)/omega - 306*g4**2*CreateBoson(a)**2*AnnihilateBoson(a)**2/omega - 68*g4**2*CreateBoson(a)**3*AnnihilateBoson(a)**3/omega - 720*g4*g6/omega - 6840*g4*g6*CreateBoson(a)*AnnihilateBoson(a)/omega - 11340*g4*g6*CreateBoson(a)**2*AnnihilateBoson(a)**2/omega - 5280*g4*g6*CreateBoson(a)**3*AnnihilateBoson(a)**3/omega - 660*g4*g6*CreateBoson(a)**4*AnnihilateBoson(a)**4/omega - 449*g5**2/omega - 5320*g5**2*CreateBoson(a)*AnnihilateBoson(a)/omega - 10220*g5**2*CreateBoson(a)**2*AnnihilateBoson(a)**2/omega - 5040*g5**2*CreateBoson(a)**3*AnnihilateBoson(a)**3/omega - 630*g5**2*CreateBoson(a)**4*AnnihilateBoson(a)**4/omega - 3495*g6**2/omega - 43650*g6**2*CreateBoson(a)*AnnihilateBoson(a)/omega - 102150*g6**2*CreateBoson(a)**2*AnnihilateBoson(a)**2/omega - 75100*g6**2*CreateBoson(a)**3*AnnihilateBoson(a)**3/omega - 19650*g6**2*CreateBoson(a)**4*AnnihilateBoson(a)**4/omega - 1572*g6**2*CreateBoson(a)**5*AnnihilateBoson(a)**5/omega"
      ]
     },
     "execution_count": 20,
     "metadata": {},
     "output_type": "execute_result"
    }
   ],
   "source": [
    "h2"
   ]
  },
  {
   "cell_type": "code",
   "execution_count": 22,
   "id": "13214954",
   "metadata": {},
   "outputs": [
    {
     "data": {
      "text/latex": [
       "$\\displaystyle - \\frac{30 g_{3}^{2}}{\\omega} - \\frac{1260 g_{3} g_{5}}{\\omega} - \\frac{306 g_{4}^{2}}{\\omega} - \\frac{11340 g_{4} g_{6}}{\\omega} - \\frac{10220 g_{5}^{2}}{\\omega} - \\frac{102150 g_{6}^{2}}{\\omega}$"
      ],
      "text/plain": [
       "-30*g3**2/omega - 1260*g3*g5/omega - 306*g4**2/omega - 11340*g4*g6/omega - 10220*g5**2/omega - 102150*g6**2/omega"
      ]
     },
     "execution_count": 22,
     "metadata": {},
     "output_type": "execute_result"
    }
   ],
   "source": [
    "h1.coeff(ad*a)\n",
    "h1.coeff(ad**2*a**2)\n",
    "h2.coeff(ad*a)\n",
    "h2.coeff(ad**2*a**2)"
   ]
  },
  {
   "cell_type": "markdown",
   "id": "e7126274-af96-4bbd-be55-3e4b512e144a",
   "metadata": {},
   "source": [
    "### obtain up to $\\hat{H}_3$"
   ]
  },
  {
   "cell_type": "code",
   "execution_count": 23,
   "id": "e7f978ca-40eb-45c2-9e17-bdab9f9e980d",
   "metadata": {
    "execution": {
     "iopub.execute_input": "2023-09-17T19:55:59.733662Z",
     "iopub.status.busy": "2023-09-17T19:55:59.732998Z",
     "iopub.status.idle": "2023-09-17T19:56:00.156152Z",
     "shell.execute_reply": "2023-09-17T19:56:00.155829Z",
     "shell.execute_reply.started": "2023-09-17T19:55:59.733630Z"
    },
    "tags": []
   },
   "outputs": [],
   "source": [
    "temp = 0\n",
    "for term in (v2-h2).args:\n",
    "    if term.as_powers_dict()[ad] != term.as_powers_dict()[a]:\n",
    "        temp += term / omega / (term.as_powers_dict()[ad] - term.as_powers_dict()[a])\n",
    "s2 = normal(temp) * 1"
   ]
  },
  {
   "cell_type": "code",
   "execution_count": 25,
   "id": "cd920a62-d387-49e0-956e-bf4de49d3f68",
   "metadata": {
    "execution": {
     "iopub.execute_input": "2023-09-17T19:56:01.125061Z",
     "iopub.status.busy": "2023-09-17T19:56:01.124888Z",
     "iopub.status.idle": "2023-09-17T19:56:01.148983Z",
     "shell.execute_reply": "2023-09-17T19:56:01.148658Z",
     "shell.execute_reply.started": "2023-09-17T19:56:01.125047Z"
    },
    "tags": []
   },
   "outputs": [],
   "source": [
    "s_tot = s1 * kappa + s2 * kappa**2\n",
    "s_tot_1 = s1 * kappa\n",
    "s_tot_2 = s2 * kappa**2"
   ]
  },
  {
   "cell_type": "code",
   "execution_count": 26,
   "id": "a8626a1e-9ede-466a-8cea-3a8d89a35f8a",
   "metadata": {
    "execution": {
     "iopub.execute_input": "2023-09-17T19:56:04.801074Z",
     "iopub.status.busy": "2023-09-17T19:56:04.800916Z",
     "iopub.status.idle": "2023-09-17T19:57:53.927890Z",
     "shell.execute_reply": "2023-09-17T19:57:53.927554Z",
     "shell.execute_reply.started": "2023-09-17T19:56:04.801064Z"
    },
    "tags": []
   },
   "outputs": [
    {
     "name": "stdout",
     "output_type": "stream",
     "text": [
      "x\n",
      "x\n",
      "x\n"
     ]
    }
   ],
   "source": [
    "h_tot = h0 + kappa*v \n",
    "h_eff_3 = 0\n",
    "h_eff_2 = 0\n",
    "\n",
    "temp_3 = normal(Commutator(s_tot_2, h_tot.coeff(kappa,1)*kappa**1).doit() )\n",
    "temp_2 = normal(Commutator(s_tot_1, h_tot.coeff(kappa,1)*kappa**1).doit() + Commutator(s_tot_2, h_tot.coeff(kappa,0)*kappa**0).doit() )\n",
    "temp_1 = normal(Commutator(s_tot_1, h_tot.coeff(kappa,0)*kappa**0).doit() )\n",
    "print('x')\n",
    "h_eff_3 += temp_3\n",
    "h_eff_2 += temp_2\n",
    "\n",
    "temp_3 = normal(Commutator(s_tot_2, temp_1).doit() + Commutator(s_tot_1, temp_2).doit())\n",
    "temp_2 = normal(Commutator(s_tot_1, temp_1).doit())\n",
    "print('x')\n",
    "h_eff_3 += sp.Rational(1,2) * temp_3\n",
    "h_eff_2 += sp.Rational(1,2) * temp_2\n",
    "\n",
    "temp_3 = normal(Commutator(s_tot_1, temp_2).doit())\n",
    "print('x')\n",
    "h_eff_3 += sp.Rational(1,6) * temp_3\n",
    "\n",
    "h_eff_3 = h_eff_3.expand()\n",
    "h_eff_2 = h_eff_2.expand()"
   ]
  },
  {
   "cell_type": "code",
   "execution_count": 27,
   "id": "afa93e79-61e2-46b3-a341-7a522dc6a638",
   "metadata": {
    "execution": {
     "iopub.execute_input": "2023-09-17T19:57:58.603990Z",
     "iopub.status.busy": "2023-09-17T19:57:58.603761Z",
     "iopub.status.idle": "2023-09-17T19:57:59.442106Z",
     "shell.execute_reply": "2023-09-17T19:57:59.441798Z",
     "shell.execute_reply.started": "2023-09-17T19:57:58.603969Z"
    },
    "tags": []
   },
   "outputs": [],
   "source": [
    "v3 = normal(h_eff_3.coeff(kappa,3))\n",
    "v2 = normal(h_eff_2.coeff(kappa,2))"
   ]
  },
  {
   "cell_type": "code",
   "execution_count": 28,
   "id": "b2d96d74-466c-4d70-9326-b70f7ae10016",
   "metadata": {
    "execution": {
     "iopub.execute_input": "2023-09-17T19:58:05.924326Z",
     "iopub.status.busy": "2023-09-17T19:58:05.924080Z",
     "iopub.status.idle": "2023-09-17T19:58:05.939584Z",
     "shell.execute_reply": "2023-09-17T19:58:05.939182Z",
     "shell.execute_reply.started": "2023-09-17T19:58:05.924302Z"
    },
    "tags": []
   },
   "outputs": [],
   "source": [
    "temp = 0\n",
    "for term in v3.args:\n",
    "    if term.as_powers_dict()[ad] == term.as_powers_dict()[a]:\n",
    "        temp += term\n",
    "h3 = temp * 1\n",
    "\n",
    "temp = 0\n",
    "for term in v2.args:\n",
    "    if term.as_powers_dict()[ad] == term.as_powers_dict()[a]:\n",
    "        temp += term\n",
    "h2 = temp * 1\n",
    "\n",
    "temp = 0\n",
    "for term in v1.args:\n",
    "    if term.as_powers_dict()[ad] == term.as_powers_dict()[a]:\n",
    "        temp += term\n",
    "h1 = temp * 1"
   ]
  },
  {
   "cell_type": "code",
   "execution_count": 29,
   "id": "62f93e20-16f1-44e4-916c-38e285d667a7",
   "metadata": {
    "execution": {
     "iopub.execute_input": "2023-09-17T19:58:07.612227Z",
     "iopub.status.busy": "2023-09-17T19:58:07.612013Z",
     "iopub.status.idle": "2023-09-17T19:58:07.624350Z",
     "shell.execute_reply": "2023-09-17T19:58:07.623308Z",
     "shell.execute_reply.started": "2023-09-17T19:58:07.612206Z"
    },
    "tags": []
   },
   "outputs": [
    {
     "data": {
      "text/latex": [
       "$\\displaystyle - \\frac{60 g_{3}^{2}}{\\omega} - \\frac{1100 g_{3} g_{5}}{\\omega} - \\frac{288 g_{4}^{2}}{\\omega} - \\frac{6840 g_{4} g_{6}}{\\omega} - \\frac{5320 g_{5}^{2}}{\\omega} - \\frac{43650 g_{6}^{2}}{\\omega}$"
      ],
      "text/plain": [
       "-60*g3**2/omega - 1100*g3*g5/omega - 288*g4**2/omega - 6840*g4*g6/omega - 5320*g5**2/omega - 43650*g6**2/omega"
      ]
     },
     "execution_count": 29,
     "metadata": {},
     "output_type": "execute_result"
    }
   ],
   "source": [
    "h2.coeff(ad*a)"
   ]
  },
  {
   "cell_type": "code",
   "execution_count": 30,
   "id": "47c6e16a-4ca5-4749-aadb-dd804e6e5ed8",
   "metadata": {
    "execution": {
     "iopub.execute_input": "2023-09-17T19:58:08.869852Z",
     "iopub.status.busy": "2023-09-17T19:58:08.869670Z",
     "iopub.status.idle": "2023-09-17T19:58:08.876045Z",
     "shell.execute_reply": "2023-09-17T19:58:08.875579Z",
     "shell.execute_reply.started": "2023-09-17T19:58:08.869838Z"
    },
    "tags": []
   },
   "outputs": [
    {
     "data": {
      "text/latex": [
       "$\\displaystyle - \\frac{30 g_{3}^{2}}{\\omega} - \\frac{1260 g_{3} g_{5}}{\\omega} - \\frac{306 g_{4}^{2}}{\\omega} - \\frac{11340 g_{4} g_{6}}{\\omega} - \\frac{10220 g_{5}^{2}}{\\omega} - \\frac{102150 g_{6}^{2}}{\\omega}$"
      ],
      "text/plain": [
       "-30*g3**2/omega - 1260*g3*g5/omega - 306*g4**2/omega - 11340*g4*g6/omega - 10220*g5**2/omega - 102150*g6**2/omega"
      ]
     },
     "execution_count": 30,
     "metadata": {},
     "output_type": "execute_result"
    }
   ],
   "source": [
    "h2.coeff(ad**2*a**2)"
   ]
  },
  {
   "cell_type": "code",
   "execution_count": 31,
   "id": "b337bd02-f06d-42dd-aef4-b6bc73c0052d",
   "metadata": {
    "execution": {
     "iopub.execute_input": "2023-09-17T19:58:09.222719Z",
     "iopub.status.busy": "2023-09-17T19:58:09.222419Z",
     "iopub.status.idle": "2023-09-17T19:58:09.240663Z",
     "shell.execute_reply": "2023-09-17T19:58:09.239495Z",
     "shell.execute_reply.started": "2023-09-17T19:58:09.222706Z"
    },
    "tags": []
   },
   "outputs": [
    {
     "data": {
      "text/latex": [
       "$\\displaystyle \\frac{6768 g_{3}^{2} g_{4}}{\\omega^{2}} + \\frac{88440 g_{3}^{2} g_{6}}{\\omega^{2}} + \\frac{155280 g_{3} g_{4} g_{5}}{\\omega^{2}} + \\frac{2132296 g_{3} g_{5} g_{6}}{\\omega^{2}} + \\frac{14328 g_{4}^{3}}{\\omega^{2}} + \\frac{632160 g_{4}^{2} g_{6}}{\\omega^{2}} + \\frac{926928 g_{4} g_{5}^{2}}{\\omega^{2}} + \\frac{9777960 g_{4} g_{6}^{2}}{\\omega^{2}} + \\frac{13478240 g_{5}^{2} g_{6}}{\\omega^{2}} + \\frac{53154900 g_{6}^{3}}{\\omega^{2}}$"
      ],
      "text/plain": [
       "6768*g3**2*g4/omega**2 + 88440*g3**2*g6/omega**2 + 155280*g3*g4*g5/omega**2 + 2132296*g3*g5*g6/omega**2 + 14328*g4**3/omega**2 + 632160*g4**2*g6/omega**2 + 926928*g4*g5**2/omega**2 + 9777960*g4*g6**2/omega**2 + 13478240*g5**2*g6/omega**2 + 53154900*g6**3/omega**2"
      ]
     },
     "execution_count": 31,
     "metadata": {},
     "output_type": "execute_result"
    }
   ],
   "source": [
    "h3.coeff(ad*a)"
   ]
  },
  {
   "cell_type": "code",
   "execution_count": 43,
   "id": "fc803652-ac05-433f-a291-f12841cf2638",
   "metadata": {
    "execution": {
     "iopub.execute_input": "2023-09-17T19:58:09.551214Z",
     "iopub.status.busy": "2023-09-17T19:58:09.550621Z",
     "iopub.status.idle": "2023-09-17T19:58:09.567764Z",
     "shell.execute_reply": "2023-09-17T19:58:09.567288Z",
     "shell.execute_reply.started": "2023-09-17T19:58:09.551188Z"
    },
    "tags": []
   },
   "outputs": [
    {
     "data": {
      "text/latex": [
       "$\\displaystyle \\frac{8100 g_{3}^{2} g_{4}}{\\omega^{2}} + \\frac{174540 g_{3}^{2} g_{6}}{\\omega^{2}} - \\frac{30 g_{3}^{2}}{\\omega} + \\frac{309480 g_{3} g_{4} g_{5}}{\\omega^{2}} + \\frac{6153480 g_{3} g_{5} g_{6}}{\\omega^{2}} - \\frac{1260 g_{3} g_{5}}{\\omega} + \\frac{25164 g_{4}^{3}}{\\omega^{2}} + \\frac{1564560 g_{4}^{2} g_{6}}{\\omega^{2}} - \\frac{306 g_{4}^{2}}{\\omega} + \\frac{2714040 g_{4} g_{5}^{2}}{\\omega^{2}} + \\frac{32148900 g_{4} g_{6}^{2}}{\\omega^{2}} - \\frac{11340 g_{4} g_{6}}{\\omega} + 6 g_{4} + \\frac{52888720 g_{5}^{2} g_{6}}{\\omega^{2}} - \\frac{10220 g_{5}^{2}}{\\omega} + \\frac{222536700 g_{6}^{3}}{\\omega^{2}} - \\frac{102150 g_{6}^{2}}{\\omega} + 90 g_{6}$"
      ],
      "text/plain": [
       "8100*g3**2*g4/omega**2 + 174540*g3**2*g6/omega**2 - 30*g3**2/omega + 309480*g3*g4*g5/omega**2 + 6153480*g3*g5*g6/omega**2 - 1260*g3*g5/omega + 25164*g4**3/omega**2 + 1564560*g4**2*g6/omega**2 - 306*g4**2/omega + 2714040*g4*g5**2/omega**2 + 32148900*g4*g6**2/omega**2 - 11340*g4*g6/omega + 6*g4 + 52888720*g5**2*g6/omega**2 - 10220*g5**2/omega + 222536700*g6**3/omega**2 - 102150*g6**2/omega + 90*g6"
      ]
     },
     "execution_count": 43,
     "metadata": {},
     "output_type": "execute_result"
    }
   ],
   "source": [
    "(h1+h2+h3).coeff(ad**2*a**2)"
   ]
  },
  {
   "cell_type": "code",
   "execution_count": 44,
   "id": "7f78a9b0",
   "metadata": {},
   "outputs": [],
   "source": [
    "result = (h1+h2+h3).coeff(ad**2*a**2)"
   ]
  },
  {
   "cell_type": "code",
   "execution_count": 42,
   "id": "8cacc2df",
   "metadata": {},
   "outputs": [],
   "source": [
    "import qutip as qt\n",
    "qt.qsave(result, '../charge-coupling/anh')"
   ]
  },
  {
   "cell_type": "code",
   "execution_count": 33,
   "id": "02b1f152-83d1-4796-bee5-77c3f87f39e3",
   "metadata": {
    "execution": {
     "iopub.execute_input": "2023-09-17T19:58:10.121079Z",
     "iopub.status.busy": "2023-09-17T19:58:10.120857Z",
     "iopub.status.idle": "2023-09-17T19:58:10.129109Z",
     "shell.execute_reply": "2023-09-17T19:58:10.128761Z",
     "shell.execute_reply.started": "2023-09-17T19:58:10.121055Z"
    },
    "tags": []
   },
   "outputs": [
    {
     "data": {
      "text/latex": [
       "$\\displaystyle \\frac{1800 g_{3}^{2} g_{4}}{\\omega^{2}} + \\frac{86880 g_{3}^{2} g_{6}}{\\omega^{2}} + \\frac{154560 g_{3} g_{4} g_{5}}{\\omega^{2}} + \\frac{5052240 g_{3} g_{5} g_{6}}{\\omega^{2}} + \\frac{12000 g_{4}^{3}}{\\omega^{2}} + \\frac{1182080 g_{4}^{2} g_{6}}{\\omega^{2}} + \\frac{2249520 g_{4} g_{5}^{2}}{\\omega^{2}} + \\frac{34341600 g_{4} g_{6}^{2}}{\\omega^{2}} + \\frac{63425600 g_{5}^{2} g_{6}}{\\omega^{2}} + \\frac{315475000 g_{6}^{3}}{\\omega^{2}}$"
      ],
      "text/plain": [
       "1800*g3**2*g4/omega**2 + 86880*g3**2*g6/omega**2 + 154560*g3*g4*g5/omega**2 + 5052240*g3*g5*g6/omega**2 + 12000*g4**3/omega**2 + 1182080*g4**2*g6/omega**2 + 2249520*g4*g5**2/omega**2 + 34341600*g4*g6**2/omega**2 + 63425600*g5**2*g6/omega**2 + 315475000*g6**3/omega**2"
      ]
     },
     "execution_count": 33,
     "metadata": {},
     "output_type": "execute_result"
    }
   ],
   "source": [
    "h3.coeff(ad**3*a**3)"
   ]
  },
  {
   "cell_type": "markdown",
   "id": "cd8b927b-157f-46b6-91c9-43603e89b6fc",
   "metadata": {},
   "source": [
    "### obtain up to $\\hat{H}_4$"
   ]
  },
  {
   "cell_type": "code",
   "execution_count": 82,
   "id": "8a59eaae-4461-4f09-b3d4-0be4219e35ac",
   "metadata": {
    "execution": {
     "iopub.execute_input": "2023-09-17T18:45:37.612296Z",
     "iopub.status.busy": "2023-09-17T18:45:37.611834Z",
     "iopub.status.idle": "2023-09-17T18:45:40.825939Z",
     "shell.execute_reply": "2023-09-17T18:45:40.825642Z",
     "shell.execute_reply.started": "2023-09-17T18:45:37.612264Z"
    },
    "tags": []
   },
   "outputs": [],
   "source": [
    "temp = 0\n",
    "for term in (v3-h3).args:\n",
    "    if term.as_powers_dict()[ad] != term.as_powers_dict()[a]:\n",
    "        temp += term / omega / (term.as_powers_dict()[ad] - term.as_powers_dict()[a])\n",
    "s3 = normal(temp) * 1"
   ]
  },
  {
   "cell_type": "code",
   "execution_count": 83,
   "id": "2f573bd3-c797-43b9-953a-8d2a1329baa9",
   "metadata": {
    "execution": {
     "iopub.execute_input": "2023-09-17T18:45:40.826819Z",
     "iopub.status.busy": "2023-09-17T18:45:40.826724Z",
     "iopub.status.idle": "2023-09-17T18:45:40.895153Z",
     "shell.execute_reply": "2023-09-17T18:45:40.894775Z",
     "shell.execute_reply.started": "2023-09-17T18:45:40.826811Z"
    },
    "tags": []
   },
   "outputs": [],
   "source": [
    "s_tot = s1 * kappa + s2 * kappa**2 + s3 * kappa**3\n",
    "s_tot_1 = s1 * kappa\n",
    "s_tot_2 = s2 * kappa**2\n",
    "s_tot_3 = s3 * kappa**3"
   ]
  },
  {
   "cell_type": "code",
   "execution_count": 84,
   "id": "18300dba-ec51-48ea-94f2-18c139b73e96",
   "metadata": {
    "execution": {
     "iopub.execute_input": "2023-09-17T18:53:46.183978Z",
     "iopub.status.busy": "2023-09-17T18:53:46.183799Z",
     "iopub.status.idle": "2023-09-17T19:06:50.551465Z",
     "shell.execute_reply": "2023-09-17T19:06:50.551143Z",
     "shell.execute_reply.started": "2023-09-17T18:53:46.183968Z"
    }
   },
   "outputs": [
    {
     "name": "stdout",
     "output_type": "stream",
     "text": [
      "x\n",
      "x\n",
      "x\n",
      "x\n"
     ]
    }
   ],
   "source": [
    "h_tot = h0 + kappa*v \n",
    "h_eff_4 = 0\n",
    "h_eff_3 = 0\n",
    "h_eff_2 = 0\n",
    "\n",
    "temp_4 = normal(Commutator(s_tot_3, h_tot.coeff(kappa,1)*kappa**1).doit() )\n",
    "temp_3 = normal(Commutator(s_tot_2, h_tot.coeff(kappa,1)*kappa**1).doit() + Commutator(s_tot_3, h_tot.coeff(kappa,0)*kappa**0).doit() )\n",
    "temp_2 = normal(Commutator(s_tot_1, h_tot.coeff(kappa,1)*kappa**1).doit() + Commutator(s_tot_2, h_tot.coeff(kappa,0)*kappa**0).doit() )\n",
    "temp_1 = normal(Commutator(s_tot_1, h_tot.coeff(kappa,0)*kappa**0).doit() )\n",
    "print('x')\n",
    "h_eff_4 += temp_4\n",
    "h_eff_3 += temp_3\n",
    "h_eff_2 += temp_2\n",
    "\n",
    "temp_4 = normal(Commutator(s_tot_3, temp_1).doit() + Commutator(s_tot_2, temp_2).doit() + Commutator(s_tot_1, temp_3).doit())\n",
    "temp_3 = normal(Commutator(s_tot_2, temp_1).doit() + Commutator(s_tot_1, temp_2).doit())\n",
    "temp_2 = normal(Commutator(s_tot_1, temp_1).doit())\n",
    "print('x')\n",
    "h_eff_4 += sp.Rational(1,2) * temp_4\n",
    "h_eff_3 += sp.Rational(1,2) * temp_3\n",
    "h_eff_2 += sp.Rational(1,2) * temp_2\n",
    "\n",
    "temp_4 = normal(Commutator(s_tot_2, temp_2).doit() + Commutator(s_tot_1, temp_3).doit())\n",
    "temp_3 = normal(Commutator(s_tot_1, temp_2).doit())\n",
    "print('x')\n",
    "h_eff_4 += sp.Rational(1,6) * temp_4\n",
    "h_eff_3 += sp.Rational(1,6) * temp_3\n",
    "\n",
    "temp_4 = normal(Commutator(s_tot_1, temp_3).doit())\n",
    "print('x')\n",
    "h_eff_4 += sp.Rational(1,24) * temp_4\n",
    "\n",
    "\n",
    "h_eff_4 = h_eff_4.expand()\n",
    "h_eff_3 = h_eff_3.expand()\n",
    "h_eff_2 = h_eff_2.expand()"
   ]
  },
  {
   "cell_type": "code",
   "execution_count": 85,
   "id": "9d5bb407-9505-4cb1-a2aa-4e49cf64e5cc",
   "metadata": {
    "execution": {
     "iopub.execute_input": "2023-09-17T19:07:20.568305Z",
     "iopub.status.busy": "2023-09-17T19:07:20.568130Z",
     "iopub.status.idle": "2023-09-17T19:07:23.150676Z",
     "shell.execute_reply": "2023-09-17T19:07:23.150326Z",
     "shell.execute_reply.started": "2023-09-17T19:07:20.568293Z"
    },
    "tags": []
   },
   "outputs": [],
   "source": [
    "v4 = normal(h_eff_4.coeff(kappa,4))\n",
    "v3 = normal(h_eff_3.coeff(kappa,3))\n",
    "v2 = normal(h_eff_2.coeff(kappa,2))"
   ]
  },
  {
   "cell_type": "code",
   "execution_count": 86,
   "id": "43258b49-6cf6-4886-ad95-b178b363a6f9",
   "metadata": {
    "execution": {
     "iopub.execute_input": "2023-09-17T19:07:46.316878Z",
     "iopub.status.busy": "2023-09-17T19:07:46.316697Z",
     "iopub.status.idle": "2023-09-17T19:07:46.475821Z",
     "shell.execute_reply": "2023-09-17T19:07:46.475459Z",
     "shell.execute_reply.started": "2023-09-17T19:07:46.316865Z"
    },
    "tags": []
   },
   "outputs": [],
   "source": [
    "temp = 0\n",
    "for term in v4.args:\n",
    "    if term.as_powers_dict()[ad] == term.as_powers_dict()[a]:\n",
    "        temp += term\n",
    "h4 = temp * 1\n",
    "\n",
    "temp = 0\n",
    "for term in v3.args:\n",
    "    if term.as_powers_dict()[ad] == term.as_powers_dict()[a]:\n",
    "        temp += term\n",
    "h3 = temp * 1\n",
    "\n",
    "temp = 0\n",
    "for term in v2.args:\n",
    "    if term.as_powers_dict()[ad] == term.as_powers_dict()[a]:\n",
    "        temp += term\n",
    "h2 = temp * 1\n",
    "\n",
    "temp = 0\n",
    "for term in v1.args:\n",
    "    if term.as_powers_dict()[ad] == term.as_powers_dict()[a]:\n",
    "        temp += term\n",
    "h1 = temp * 1"
   ]
  },
  {
   "cell_type": "code",
   "execution_count": 87,
   "id": "eb84b46b-3175-42ff-a035-06f84eb1d34c",
   "metadata": {
    "execution": {
     "iopub.execute_input": "2023-09-17T19:10:45.278460Z",
     "iopub.status.busy": "2023-09-17T19:10:45.278282Z",
     "iopub.status.idle": "2023-09-17T19:10:45.293557Z",
     "shell.execute_reply": "2023-09-17T19:10:45.293035Z",
     "shell.execute_reply.started": "2023-09-17T19:10:45.278446Z"
    }
   },
   "outputs": [
    {
     "data": {
      "text/latex": [
       "$\\displaystyle - \\frac{10320 g_{3}^{4}}{\\omega^{3}} - \\frac{746952 g_{3}^{2} g_{4}^{2}}{\\omega^{3}} - \\frac{979200 g_{4}^{4}}{\\omega^{3}}$"
      ],
      "text/plain": [
       "-10320*g3**4/omega**3 - 746952*g3**2*g4**2/omega**3 - 979200*g4**4/omega**3"
      ]
     },
     "execution_count": 87,
     "metadata": {},
     "output_type": "execute_result"
    }
   ],
   "source": [
    "h4.coeff(ad*a)"
   ]
  },
  {
   "cell_type": "code",
   "execution_count": 88,
   "id": "4ed9c55a-b3e7-446a-bab3-e4a6aa722e78",
   "metadata": {
    "execution": {
     "iopub.execute_input": "2023-09-17T19:10:54.024341Z",
     "iopub.status.busy": "2023-09-17T19:10:54.024168Z",
     "iopub.status.idle": "2023-09-17T19:10:54.038956Z",
     "shell.execute_reply": "2023-09-17T19:10:54.038584Z",
     "shell.execute_reply.started": "2023-09-17T19:10:54.024328Z"
    }
   },
   "outputs": [
    {
     "data": {
      "text/latex": [
       "$\\displaystyle - \\frac{12690 g_{3}^{4}}{\\omega^{3}} - \\frac{1570836 g_{3}^{2} g_{4}^{2}}{\\omega^{3}} - \\frac{2566170 g_{4}^{4}}{\\omega^{3}}$"
      ],
      "text/plain": [
       "-12690*g3**4/omega**3 - 1570836*g3**2*g4**2/omega**3 - 2566170*g4**4/omega**3"
      ]
     },
     "execution_count": 88,
     "metadata": {},
     "output_type": "execute_result"
    }
   ],
   "source": [
    "h4.coeff(ad**2*a**2)"
   ]
  },
  {
   "cell_type": "code",
   "execution_count": 89,
   "id": "1eb346f3-efef-40ac-b646-3425a54ca815",
   "metadata": {
    "execution": {
     "iopub.execute_input": "2023-09-17T19:11:09.731256Z",
     "iopub.status.busy": "2023-09-17T19:11:09.731074Z",
     "iopub.status.idle": "2023-09-17T19:11:09.744736Z",
     "shell.execute_reply": "2023-09-17T19:11:09.744304Z",
     "shell.execute_reply.started": "2023-09-17T19:11:09.731243Z"
    }
   },
   "outputs": [
    {
     "data": {
      "text/latex": [
       "$\\displaystyle - \\frac{2820 g_{3}^{4}}{\\omega^{3}} - \\frac{798240 g_{3}^{2} g_{4}^{2}}{\\omega^{3}} - \\frac{1995460 g_{4}^{4}}{\\omega^{3}}$"
      ],
      "text/plain": [
       "-2820*g3**4/omega**3 - 798240*g3**2*g4**2/omega**3 - 1995460*g4**4/omega**3"
      ]
     },
     "execution_count": 89,
     "metadata": {},
     "output_type": "execute_result"
    }
   ],
   "source": [
    "h4.coeff(ad**3*a**3)"
   ]
  },
  {
   "cell_type": "markdown",
   "id": "ed5486f7-55cd-4064-970b-6e6b245ab9fb",
   "metadata": {},
   "source": [
    "### summary"
   ]
  },
  {
   "cell_type": "code",
   "execution_count": 90,
   "id": "ecd71b83-9e35-4622-8ca2-ef118099d2e2",
   "metadata": {
    "execution": {
     "iopub.execute_input": "2023-09-17T19:11:17.747536Z",
     "iopub.status.busy": "2023-09-17T19:11:17.747365Z",
     "iopub.status.idle": "2023-09-17T19:11:17.802574Z",
     "shell.execute_reply": "2023-09-17T19:11:17.802099Z",
     "shell.execute_reply.started": "2023-09-17T19:11:17.747523Z"
    },
    "tags": []
   },
   "outputs": [
    {
     "data": {
      "text/latex": [
       "$\\displaystyle - \\frac{10320 g_{3}^{4}}{\\omega^{3}} - \\frac{746952 g_{3}^{2} g_{4}^{2}}{\\omega^{3}} + \\frac{6768 g_{3}^{2} g_{4}}{\\omega^{2}} - \\frac{60 g_{3}^{2}}{\\omega} - \\frac{979200 g_{4}^{4}}{\\omega^{3}} + \\frac{14328 g_{4}^{3}}{\\omega^{2}} - \\frac{288 g_{4}^{2}}{\\omega} + 12 g_{4}$"
      ],
      "text/plain": [
       "-10320*g3**4/omega**3 - 746952*g3**2*g4**2/omega**3 + 6768*g3**2*g4/omega**2 - 60*g3**2/omega - 979200*g4**4/omega**3 + 14328*g4**3/omega**2 - 288*g4**2/omega + 12*g4"
      ]
     },
     "execution_count": 90,
     "metadata": {},
     "output_type": "execute_result"
    }
   ],
   "source": [
    "(h1+h2+h3+h4).coeff(ad*a)"
   ]
  },
  {
   "cell_type": "code",
   "execution_count": 91,
   "id": "ad9aa4dd-6b1d-4475-a5df-6887b9cf2b7b",
   "metadata": {
    "execution": {
     "iopub.execute_input": "2023-09-17T19:11:18.825408Z",
     "iopub.status.busy": "2023-09-17T19:11:18.825237Z",
     "iopub.status.idle": "2023-09-17T19:11:18.846525Z",
     "shell.execute_reply": "2023-09-17T19:11:18.846197Z",
     "shell.execute_reply.started": "2023-09-17T19:11:18.825394Z"
    },
    "tags": []
   },
   "outputs": [],
   "source": [
    "anh = (h1+h2+h3+h4).coeff(ad**2*a**2)"
   ]
  },
  {
   "cell_type": "code",
   "execution_count": 93,
   "id": "c9876da2",
   "metadata": {},
   "outputs": [
    {
     "data": {
      "text/latex": [
       "$\\displaystyle - \\frac{12690 g_{3}^{4}}{\\omega^{3}} - \\frac{1570836 g_{3}^{2} g_{4}^{2}}{\\omega^{3}} + \\frac{8100 g_{3}^{2} g_{4}}{\\omega^{2}} - \\frac{30 g_{3}^{2}}{\\omega} - \\frac{2566170 g_{4}^{4}}{\\omega^{3}} + \\frac{25164 g_{4}^{3}}{\\omega^{2}} - \\frac{306 g_{4}^{2}}{\\omega} + 6 g_{4}$"
      ],
      "text/plain": [
       "-12690*g3**4/omega**3 - 1570836*g3**2*g4**2/omega**3 + 8100*g3**2*g4/omega**2 - 30*g3**2/omega - 2566170*g4**4/omega**3 + 25164*g4**3/omega**2 - 306*g4**2/omega + 6*g4"
      ]
     },
     "execution_count": 93,
     "metadata": {},
     "output_type": "execute_result"
    }
   ],
   "source": [
    "anh"
   ]
  },
  {
   "cell_type": "code",
   "execution_count": 94,
   "id": "b5c2f217",
   "metadata": {},
   "outputs": [],
   "source": [
    "from qutip import qsave\n",
    "qsave([anh],'anh')"
   ]
  },
  {
   "cell_type": "code",
   "execution_count": 46,
   "id": "16b82ba9-bbf0-47fa-ba87-deefc972425d",
   "metadata": {
    "execution": {
     "iopub.execute_input": "2023-09-17T19:11:19.597134Z",
     "iopub.status.busy": "2023-09-17T19:11:19.596948Z",
     "iopub.status.idle": "2023-09-17T19:11:19.616028Z",
     "shell.execute_reply": "2023-09-17T19:11:19.615659Z",
     "shell.execute_reply.started": "2023-09-17T19:11:19.597121Z"
    },
    "tags": []
   },
   "outputs": [
    {
     "data": {
      "text/latex": [
       "$\\displaystyle - \\frac{2820 g_{3}^{4}}{\\omega^{3}} - \\frac{798240 g_{3}^{2} g_{4}^{2}}{\\omega^{3}} - \\frac{1596480 g_{3}^{2} g_{4} g_{5}}{\\omega^{3}} + \\frac{1800 g_{3}^{2} g_{4}}{\\omega^{2}} - \\frac{798240 g_{3}^{2} g_{5}^{2}}{\\omega^{3}} + \\frac{1800 g_{3}^{2} g_{5}}{\\omega^{2}} - \\frac{1995460 g_{4}^{4}}{\\omega^{3}} - \\frac{7981840 g_{4}^{3} g_{5}}{\\omega^{3}} + \\frac{12000 g_{4}^{3}}{\\omega^{2}} - \\frac{11972760 g_{4}^{2} g_{5}^{2}}{\\omega^{3}} + \\frac{36000 g_{4}^{2} g_{5}}{\\omega^{2}} - \\frac{68 g_{4}^{2}}{\\omega} - \\frac{7981840 g_{4} g_{5}^{3}}{\\omega^{3}} + \\frac{36000 g_{4} g_{5}^{2}}{\\omega^{2}} - \\frac{136 g_{4} g_{5}}{\\omega} - \\frac{1995460 g_{5}^{4}}{\\omega^{3}} + \\frac{12000 g_{5}^{3}}{\\omega^{2}} - \\frac{68 g_{5}^{2}}{\\omega}$"
      ],
      "text/plain": [
       "-2820*g3**4/omega**3 - 798240*g3**2*g4**2/omega**3 - 1596480*g3**2*g4*g5/omega**3 + 1800*g3**2*g4/omega**2 - 798240*g3**2*g5**2/omega**3 + 1800*g3**2*g5/omega**2 - 1995460*g4**4/omega**3 - 7981840*g4**3*g5/omega**3 + 12000*g4**3/omega**2 - 11972760*g4**2*g5**2/omega**3 + 36000*g4**2*g5/omega**2 - 68*g4**2/omega - 7981840*g4*g5**3/omega**3 + 36000*g4*g5**2/omega**2 - 136*g4*g5/omega - 1995460*g5**4/omega**3 + 12000*g5**3/omega**2 - 68*g5**2/omega"
      ]
     },
     "execution_count": 46,
     "metadata": {},
     "output_type": "execute_result"
    }
   ],
   "source": [
    "(h1+h2+h3+h4).coeff(ad**3*a**3)"
   ]
  }
 ],
 "metadata": {
  "kernelspec": {
   "display_name": "Python 3 (ipykernel)",
   "language": "python",
   "name": "python3"
  },
  "language_info": {
   "codemirror_mode": {
    "name": "ipython",
    "version": 3
   },
   "file_extension": ".py",
   "mimetype": "text/x-python",
   "name": "python",
   "nbconvert_exporter": "python",
   "pygments_lexer": "ipython3",
   "version": "3.9.7"
  }
 },
 "nbformat": 4,
 "nbformat_minor": 5
}
