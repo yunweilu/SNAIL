{
 "cells": [
  {
   "cell_type": "code",
   "execution_count": 1,
   "id": "64a90e73",
   "metadata": {},
   "outputs": [],
   "source": [
    "from sympy.physics.secondquant import *\n",
    "from sympy import symbols,I\n",
    "import sympy as sp\n",
    "from no import normal\n",
    "from sympy import exp"
   ]
  },
  {
   "cell_type": "code",
   "execution_count": 2,
   "id": "bd919b61",
   "metadata": {},
   "outputs": [],
   "source": [
    "ind_a = symbols('s')\n",
    "a = B(ind_a)\n",
    "ad = Bd(ind_a)"
   ]
  },
  {
   "cell_type": "code",
   "execution_count": 3,
   "id": "d45209ac",
   "metadata": {},
   "outputs": [],
   "source": [
    "g3 = symbols('g3', real=True)\n",
    "g4 = symbols('g4', real=True)\n",
    "g5 = symbols('g5', real=True)\n",
    "g6 = symbols('g6', real=True)\n",
    "omega_a = symbols('omega_s', real=True)\n",
    "kappa = symbols('kappa', real=True)"
   ]
  },
  {
   "cell_type": "code",
   "execution_count": 4,
   "id": "19c9eb4b",
   "metadata": {},
   "outputs": [],
   "source": [
    "h0 = omega_a * ad * a"
   ]
  },
  {
   "cell_type": "code",
   "execution_count": 5,
   "id": "ace59926",
   "metadata": {},
   "outputs": [],
   "source": [
    "v = normal(g3 * (a+ad)**3 +g4*(a+ad)**4 )"
   ]
  },
  {
   "cell_type": "code",
   "execution_count": 6,
   "id": "afcc72ba",
   "metadata": {},
   "outputs": [],
   "source": [
    "v1 = sp.simplify(v)"
   ]
  },
  {
   "cell_type": "code",
   "execution_count": 13,
   "id": "c750aefc",
   "metadata": {},
   "outputs": [],
   "source": [
    "temp = 0\n",
    "for term in v1.args:\n",
    "    if term.as_powers_dict()[ad] == term.as_powers_dict()[a]:\n",
    "        temp += term\n",
    "h1 = temp * 1\n",
    "omega_sp = omega_a+h1.coeff(ad*a)"
   ]
  },
  {
   "cell_type": "code",
   "execution_count": 14,
   "id": "ba91e9e0",
   "metadata": {},
   "outputs": [],
   "source": [
    "temp = 0\n",
    "for term in (v1-h1).args:\n",
    "    if term.as_powers_dict()[ad]!= term.as_powers_dict()[a]:\n",
    "        temp += term / omega_a / (term.as_powers_dict()[ad] - term.as_powers_dict()[a])\n",
    "s1= normal(temp) * 1\n",
    "s_tot = s1\n",
    "s_tot_1 = s1"
   ]
  },
  {
   "cell_type": "code",
   "execution_count": 15,
   "id": "9bdaa3d2",
   "metadata": {},
   "outputs": [],
   "source": [
    "s1c = sp.expand(normal(Commutator(s1, a+ad).doit() ))"
   ]
  },
  {
   "cell_type": "code",
   "execution_count": 16,
   "id": "335b4326",
   "metadata": {},
   "outputs": [],
   "source": [
    "ind_b = symbols('c')\n",
    "b = B(ind_b)\n",
    "bd = Bd(ind_b)\n",
    "omega_b = symbols('omega_c', real=True)\n",
    "def _m_normal(expr):\n",
    "    if not expr.is_Mul:\n",
    "        return expr\n",
    "    else:\n",
    "        c_part = []\n",
    "        string = []\n",
    "        for factor in expr.args:\n",
    "            if factor.is_commutative:\n",
    "                c_part.append(factor)\n",
    "            else:\n",
    "                string.append(factor)\n",
    "                \n",
    "        expr_a = 1\n",
    "        expr_b = 1\n",
    "        expr_c = 1\n",
    "        \n",
    "        for factor in string:\n",
    "            if factor.is_Pow:\n",
    "                if factor.args[0].args[0] == ind_a:\n",
    "                    expr_a *= factor\n",
    "                elif factor.args[0].args[0] == ind_b:\n",
    "                    expr_b *= factor\n",
    "                else:\n",
    "                    expr_c *= factor\n",
    "            else:\n",
    "                if factor.args[0] == ind_a:\n",
    "                    expr_a *= factor\n",
    "                elif factor.args[0] == ind_b:\n",
    "                    expr_b *= factor\n",
    "                else:\n",
    "                    expr_c *= factor\n",
    "                    \n",
    "        if expr_a != 1:\n",
    "            expr_a = normal(expr_a)\n",
    "        if expr_b != 1:\n",
    "            expr_b = normal(expr_b)\n",
    "        if expr_c != 1:\n",
    "            expr_c = normal(expr_c)\n",
    "    \n",
    "        return sp.Mul(*c_part) * expr_a * expr_b * expr_c    \n",
    "\n",
    "def m_normal(expr):\n",
    "    expr = expr.expand()\n",
    "    if isinstance(expr, sp.Add):\n",
    "        return sp.Add(*[_m_normal(term) for term in expr.args])\n",
    "    else:\n",
    "        return _m_normal(expr)"
   ]
  },
  {
   "cell_type": "code",
   "execution_count": 18,
   "id": "8696a14f",
   "metadata": {},
   "outputs": [],
   "source": [
    "t = symbols('t', real=True)\n",
    "eta = symbols('eta', real=False)\n",
    "h0 = omega_sp * ad * a+ omega_b*bd*b\n",
    "omega_d = symbols('w_d', real=True)\n",
    "v = (a+ad+s1c)*(b+bd + eta*exp(-2*I*omega_d*t)+eta.conjugate()*exp(2*I*omega_d*t))"
   ]
  },
  {
   "cell_type": "code",
   "execution_count": 20,
   "id": "54243201",
   "metadata": {},
   "outputs": [],
   "source": [
    "v = m_normal(v)"
   ]
  },
  {
   "cell_type": "code",
   "execution_count": 21,
   "id": "94ad72dd",
   "metadata": {},
   "outputs": [
    {
     "data": {
      "text/latex": [
       "$\\displaystyle - \\frac{6 \\eta g_{3} e^{- 2 i t w_{d}}}{\\omega_{s}} + \\frac{2 \\eta g_{3} e^{- 2 i t w_{d}} b_{s}^{2}}{\\omega_{s}} - \\frac{12 \\eta g_{3} e^{- 2 i t w_{d}} {b^\\dagger_{s}} b_{s}}{\\omega_{s}} + \\frac{2 \\eta g_{3} e^{- 2 i t w_{d}} {b^\\dagger_{s}}^{2}}{\\omega_{s}} - \\frac{6 \\eta g_{4} e^{- 2 i t w_{d}} b_{s}}{\\omega_{s}} + \\frac{\\eta g_{4} e^{- 2 i t w_{d}} b_{s}^{3}}{\\omega_{s}} - \\frac{6 \\eta g_{4} e^{- 2 i t w_{d}} {b^\\dagger_{s}}}{\\omega_{s}} - \\frac{6 \\eta g_{4} e^{- 2 i t w_{d}} {b^\\dagger_{s}} b_{s}^{2}}{\\omega_{s}} - \\frac{6 \\eta g_{4} e^{- 2 i t w_{d}} {b^\\dagger_{s}}^{2} b_{s}}{\\omega_{s}} + \\frac{\\eta g_{4} e^{- 2 i t w_{d}} {b^\\dagger_{s}}^{3}}{\\omega_{s}} + \\eta e^{- 2 i t w_{d}} b_{s} + \\eta e^{- 2 i t w_{d}} {b^\\dagger_{s}} - \\frac{6 g_{3} e^{2 i t w_{d}} \\overline{\\eta}}{\\omega_{s}} + \\frac{2 g_{3} e^{2 i t w_{d}} \\overline{\\eta} b_{s}^{2}}{\\omega_{s}} - \\frac{12 g_{3} e^{2 i t w_{d}} \\overline{\\eta} {b^\\dagger_{s}} b_{s}}{\\omega_{s}} + \\frac{2 g_{3} e^{2 i t w_{d}} \\overline{\\eta} {b^\\dagger_{s}}^{2}}{\\omega_{s}} - \\frac{6 g_{3} b_{c}}{\\omega_{s}} + \\frac{2 g_{3} b_{s}^{2} b_{c}}{\\omega_{s}} + \\frac{2 g_{3} b_{s}^{2} {b^\\dagger_{c}}}{\\omega_{s}} - \\frac{6 g_{3} {b^\\dagger_{c}}}{\\omega_{s}} - \\frac{12 g_{3} {b^\\dagger_{s}} b_{s} b_{c}}{\\omega_{s}} - \\frac{12 g_{3} {b^\\dagger_{s}} b_{s} {b^\\dagger_{c}}}{\\omega_{s}} + \\frac{2 g_{3} {b^\\dagger_{s}}^{2} b_{c}}{\\omega_{s}} + \\frac{2 g_{3} {b^\\dagger_{s}}^{2} {b^\\dagger_{c}}}{\\omega_{s}} - \\frac{6 g_{4} e^{2 i t w_{d}} \\overline{\\eta} b_{s}}{\\omega_{s}} + \\frac{g_{4} e^{2 i t w_{d}} \\overline{\\eta} b_{s}^{3}}{\\omega_{s}} - \\frac{6 g_{4} e^{2 i t w_{d}} \\overline{\\eta} {b^\\dagger_{s}}}{\\omega_{s}} - \\frac{6 g_{4} e^{2 i t w_{d}} \\overline{\\eta} {b^\\dagger_{s}} b_{s}^{2}}{\\omega_{s}} - \\frac{6 g_{4} e^{2 i t w_{d}} \\overline{\\eta} {b^\\dagger_{s}}^{2} b_{s}}{\\omega_{s}} + \\frac{g_{4} e^{2 i t w_{d}} \\overline{\\eta} {b^\\dagger_{s}}^{3}}{\\omega_{s}} - \\frac{6 g_{4} b_{s} b_{c}}{\\omega_{s}} - \\frac{6 g_{4} b_{s} {b^\\dagger_{c}}}{\\omega_{s}} + \\frac{g_{4} b_{s}^{3} b_{c}}{\\omega_{s}} + \\frac{g_{4} b_{s}^{3} {b^\\dagger_{c}}}{\\omega_{s}} - \\frac{6 g_{4} {b^\\dagger_{s}} b_{c}}{\\omega_{s}} - \\frac{6 g_{4} {b^\\dagger_{s}} b_{s}^{2} b_{c}}{\\omega_{s}} - \\frac{6 g_{4} {b^\\dagger_{s}} b_{s}^{2} {b^\\dagger_{c}}}{\\omega_{s}} - \\frac{6 g_{4} {b^\\dagger_{s}} {b^\\dagger_{c}}}{\\omega_{s}} - \\frac{6 g_{4} {b^\\dagger_{s}}^{2} b_{s} b_{c}}{\\omega_{s}} - \\frac{6 g_{4} {b^\\dagger_{s}}^{2} b_{s} {b^\\dagger_{c}}}{\\omega_{s}} + \\frac{g_{4} {b^\\dagger_{s}}^{3} b_{c}}{\\omega_{s}} + \\frac{g_{4} {b^\\dagger_{s}}^{3} {b^\\dagger_{c}}}{\\omega_{s}} + e^{2 i t w_{d}} \\overline{\\eta} b_{s} + e^{2 i t w_{d}} \\overline{\\eta} {b^\\dagger_{s}} + b_{s} b_{c} + b_{s} {b^\\dagger_{c}} + {b^\\dagger_{s}} b_{c} + {b^\\dagger_{s}} {b^\\dagger_{c}}$"
      ],
      "text/plain": [
       "-6*eta*g3*exp(-2*I*t*w_d)/omega_s + 2*eta*g3*exp(-2*I*t*w_d)*AnnihilateBoson(s)**2/omega_s - 12*eta*g3*exp(-2*I*t*w_d)*CreateBoson(s)*AnnihilateBoson(s)/omega_s + 2*eta*g3*exp(-2*I*t*w_d)*CreateBoson(s)**2/omega_s - 6*eta*g4*exp(-2*I*t*w_d)*AnnihilateBoson(s)/omega_s + eta*g4*exp(-2*I*t*w_d)*AnnihilateBoson(s)**3/omega_s - 6*eta*g4*exp(-2*I*t*w_d)*CreateBoson(s)/omega_s - 6*eta*g4*exp(-2*I*t*w_d)*CreateBoson(s)*AnnihilateBoson(s)**2/omega_s - 6*eta*g4*exp(-2*I*t*w_d)*CreateBoson(s)**2*AnnihilateBoson(s)/omega_s + eta*g4*exp(-2*I*t*w_d)*CreateBoson(s)**3/omega_s + eta*exp(-2*I*t*w_d)*AnnihilateBoson(s) + eta*exp(-2*I*t*w_d)*CreateBoson(s) - 6*g3*exp(2*I*t*w_d)*conjugate(eta)/omega_s + 2*g3*exp(2*I*t*w_d)*conjugate(eta)*AnnihilateBoson(s)**2/omega_s - 12*g3*exp(2*I*t*w_d)*conjugate(eta)*CreateBoson(s)*AnnihilateBoson(s)/omega_s + 2*g3*exp(2*I*t*w_d)*conjugate(eta)*CreateBoson(s)**2/omega_s - 6*g3*AnnihilateBoson(c)/omega_s + 2*g3*AnnihilateBoson(s)**2*AnnihilateBoson(c)/omega_s + 2*g3*AnnihilateBoson(s)**2*CreateBoson(c)/omega_s - 6*g3*CreateBoson(c)/omega_s - 12*g3*CreateBoson(s)*AnnihilateBoson(s)*AnnihilateBoson(c)/omega_s - 12*g3*CreateBoson(s)*AnnihilateBoson(s)*CreateBoson(c)/omega_s + 2*g3*CreateBoson(s)**2*AnnihilateBoson(c)/omega_s + 2*g3*CreateBoson(s)**2*CreateBoson(c)/omega_s - 6*g4*exp(2*I*t*w_d)*conjugate(eta)*AnnihilateBoson(s)/omega_s + g4*exp(2*I*t*w_d)*conjugate(eta)*AnnihilateBoson(s)**3/omega_s - 6*g4*exp(2*I*t*w_d)*conjugate(eta)*CreateBoson(s)/omega_s - 6*g4*exp(2*I*t*w_d)*conjugate(eta)*CreateBoson(s)*AnnihilateBoson(s)**2/omega_s - 6*g4*exp(2*I*t*w_d)*conjugate(eta)*CreateBoson(s)**2*AnnihilateBoson(s)/omega_s + g4*exp(2*I*t*w_d)*conjugate(eta)*CreateBoson(s)**3/omega_s - 6*g4*AnnihilateBoson(s)*AnnihilateBoson(c)/omega_s - 6*g4*AnnihilateBoson(s)*CreateBoson(c)/omega_s + g4*AnnihilateBoson(s)**3*AnnihilateBoson(c)/omega_s + g4*AnnihilateBoson(s)**3*CreateBoson(c)/omega_s - 6*g4*CreateBoson(s)*AnnihilateBoson(c)/omega_s - 6*g4*CreateBoson(s)*AnnihilateBoson(s)**2*AnnihilateBoson(c)/omega_s - 6*g4*CreateBoson(s)*AnnihilateBoson(s)**2*CreateBoson(c)/omega_s - 6*g4*CreateBoson(s)*CreateBoson(c)/omega_s - 6*g4*CreateBoson(s)**2*AnnihilateBoson(s)*AnnihilateBoson(c)/omega_s - 6*g4*CreateBoson(s)**2*AnnihilateBoson(s)*CreateBoson(c)/omega_s + g4*CreateBoson(s)**3*AnnihilateBoson(c)/omega_s + g4*CreateBoson(s)**3*CreateBoson(c)/omega_s + exp(2*I*t*w_d)*conjugate(eta)*AnnihilateBoson(s) + exp(2*I*t*w_d)*conjugate(eta)*CreateBoson(s) + AnnihilateBoson(s)*AnnihilateBoson(c) + AnnihilateBoson(s)*CreateBoson(c) + CreateBoson(s)*AnnihilateBoson(c) + CreateBoson(s)*CreateBoson(c)"
      ]
     },
     "execution_count": 21,
     "metadata": {},
     "output_type": "execute_result"
    }
   ],
   "source": [
    "v"
   ]
  },
  {
   "cell_type": "code",
   "execution_count": null,
   "id": "9e4b1abd",
   "metadata": {},
   "outputs": [],
   "source": []
  }
 ],
 "metadata": {
  "kernelspec": {
   "display_name": "Python 3 (ipykernel)",
   "language": "python",
   "name": "python3"
  },
  "language_info": {
   "codemirror_mode": {
    "name": "ipython",
    "version": 3
   },
   "file_extension": ".py",
   "mimetype": "text/x-python",
   "name": "python",
   "nbconvert_exporter": "python",
   "pygments_lexer": "ipython3",
   "version": "3.8.3"
  }
 },
 "nbformat": 4,
 "nbformat_minor": 5
}
