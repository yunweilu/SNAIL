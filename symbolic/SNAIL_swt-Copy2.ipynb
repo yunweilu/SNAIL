{
 "cells": [
  {
   "cell_type": "code",
   "execution_count": 1,
   "id": "228bda19",
   "metadata": {},
   "outputs": [],
   "source": [
    "from sympy.physics.secondquant import *\n",
    "from sympy import symbols,I\n",
    "import sympy as sp\n",
    "from no import normal\n",
    "from sympy import exp\n",
    "from qutip import qsave"
   ]
  },
  {
   "cell_type": "markdown",
   "id": "a1da53c2",
   "metadata": {},
   "source": [
    "# Only SNAIL"
   ]
  },
  {
   "cell_type": "code",
   "execution_count": 2,
   "id": "755b862f",
   "metadata": {},
   "outputs": [],
   "source": [
    "ind_a = symbols('s')\n",
    "a = B(ind_a)\n",
    "ad = Bd(ind_a)"
   ]
  },
  {
   "cell_type": "code",
   "execution_count": 3,
   "id": "9c67cf52",
   "metadata": {},
   "outputs": [],
   "source": [
    "g3 = symbols('g3', real=True)\n",
    "g4 = symbols('g4', real=True)\n",
    "g5 = symbols('g5', real=True)\n",
    "g6 = symbols('g6', real=True)\n",
    "omega_a = symbols('omega_s', real=True)\n",
    "omega_d = symbols('omega_d', real=True)\n",
    "kappa = symbols('kappa', real=True)\n",
    "delta = symbols('delta', real=True)\n",
    "K = symbols('K', real=True)\n",
    "t = symbols('t', real=True)\n",
    "eta= symbols('eta', real=True)\n",
    "alpha = symbols('alpha', real=False)\n",
    "def remove_constant(expr):\n",
    "    terms_without_B_Bd = [term for term in expr.args if not (term.has(a) or term.has(ad))]\n",
    "    return expr - sum(terms_without_B_Bd)\n",
    "def remove_b(expr):\n",
    "    terms_without_B_Bd = [term for term in expr.args if not (term.has(a) or term.has(ad))]\n",
    "    return expr - sum(terms_without_B_Bd)"
   ]
  },
  {
   "cell_type": "code",
   "execution_count": 4,
   "id": "b13ab8f1",
   "metadata": {},
   "outputs": [],
   "source": [
    "h0 = delta*ad*a+K/2*ad**2*a**2\n",
    "v = -eta*I*(a-ad)\n",
    "v = v.expand()"
   ]
  },
  {
   "cell_type": "code",
   "execution_count": 5,
   "id": "e5869aed",
   "metadata": {},
   "outputs": [
    {
     "data": {
      "text/latex": [
       "$\\displaystyle \\frac{K {b^\\dagger_{s}}^{2} b_{s}^{2}}{2} + \\delta {b^\\dagger_{s}} b_{s}$"
      ],
      "text/plain": [
       "K*CreateBoson(s)**2*AnnihilateBoson(s)**2/2 + delta*CreateBoson(s)*AnnihilateBoson(s)"
      ]
     },
     "execution_count": 5,
     "metadata": {},
     "output_type": "execute_result"
    }
   ],
   "source": [
    "h0"
   ]
  },
  {
   "cell_type": "code",
   "execution_count": 6,
   "id": "fab5a63e",
   "metadata": {},
   "outputs": [
    {
     "data": {
      "text/latex": [
       "$\\displaystyle - i \\eta b_{s} + i \\eta {b^\\dagger_{s}}$"
      ],
      "text/plain": [
       "-I*eta*AnnihilateBoson(s) + I*eta*CreateBoson(s)"
      ]
     },
     "execution_count": 6,
     "metadata": {},
     "output_type": "execute_result"
    }
   ],
   "source": [
    "v"
   ]
  },
  {
   "cell_type": "code",
   "execution_count": 7,
   "id": "84f41567",
   "metadata": {},
   "outputs": [],
   "source": [
    "v1 = v\n",
    "temp = 0\n",
    "for term in v1.args:\n",
    "    if term.as_powers_dict()[ad] == term.as_powers_dict()[a]:\n",
    "        temp += term\n",
    "h1 = temp * 1"
   ]
  },
  {
   "cell_type": "markdown",
   "id": "68b6fe0a",
   "metadata": {},
   "source": [
    "# first order energy correction $H^{(1)}$"
   ]
  },
  {
   "cell_type": "markdown",
   "id": "b92b1463",
   "metadata": {},
   "source": [
    "# first order generator $S^{(1)}$"
   ]
  },
  {
   "cell_type": "code",
   "execution_count": 29,
   "id": "105a9020",
   "metadata": {},
   "outputs": [],
   "source": [
    "\n",
    "temp = 0\n",
    "for term in (v1-h1).args:\n",
    "    if term.as_powers_dict()[ad]!= term.as_powers_dict()[a]:\n",
    "        temp += term /(h0.coeff(ad*a)+2*h0.coeff(ad**2*a**2)) / (term.as_powers_dict()[ad] - term.as_powers_dict()[a])\n",
    "s1= normal(temp) * 1\n",
    "s_tot = s1\n",
    "s_tot_1 = s1"
   ]
  },
  {
   "cell_type": "code",
   "execution_count": 30,
   "id": "c2ad5f1d",
   "metadata": {},
   "outputs": [
    {
     "data": {
      "text/latex": [
       "$\\displaystyle \\frac{i \\eta b_{s}}{K + \\delta} + \\frac{i \\eta {b^\\dagger_{s}}}{K + \\delta}$"
      ],
      "text/plain": [
       "I*eta*AnnihilateBoson(s)/(K + delta) + I*eta*CreateBoson(s)/(K + delta)"
      ]
     },
     "execution_count": 30,
     "metadata": {},
     "output_type": "execute_result"
    }
   ],
   "source": [
    "s1"
   ]
  },
  {
   "cell_type": "markdown",
   "id": "c99cbaae",
   "metadata": {},
   "source": [
    "# Second order energy correction $H^{(2)}$"
   ]
  },
  {
   "cell_type": "code",
   "execution_count": 33,
   "id": "53b542e9",
   "metadata": {},
   "outputs": [],
   "source": [
    "temp = 0\n",
    "for term in (v1-h1).args:\n",
    "    if term.as_powers_dict()[ad]!= term.as_powers_dict()[a]:\n",
    "        temp += term / (h0.coeff(ad*a)+2*h0.coeff(ad**2*a**2)) / (term.as_powers_dict()[ad] - term.as_powers_dict()[a])\n",
    "s1= normal(temp) * 1\n",
    "s_tot = s1 * kappa \n",
    "s_tot_1 = s1 * kappa"
   ]
  },
  {
   "cell_type": "code",
   "execution_count": 43,
   "id": "d2ccdfda",
   "metadata": {},
   "outputs": [],
   "source": [
    "temp_2 = normal(Commutator(s_tot_1, h_tot.coeff(kappa,1)*kappa**1).doit() )"
   ]
  },
  {
   "cell_type": "code",
   "execution_count": 44,
   "id": "5f8acdeb",
   "metadata": {},
   "outputs": [
    {
     "data": {
      "text/latex": [
       "$\\displaystyle - \\frac{2 \\eta^{2} \\kappa^{2}}{K + \\delta}$"
      ],
      "text/plain": [
       "-2*eta**2*kappa**2/(K + delta)"
      ]
     },
     "execution_count": 44,
     "metadata": {},
     "output_type": "execute_result"
    }
   ],
   "source": [
    "temp_2"
   ]
  },
  {
   "cell_type": "code",
   "execution_count": 45,
   "id": "78715cda",
   "metadata": {},
   "outputs": [],
   "source": [
    "temp_1 = normal(Commutator(s_tot_1, h_tot.coeff(kappa,0)*kappa**0).doit() )"
   ]
  },
  {
   "cell_type": "code",
   "execution_count": 46,
   "id": "8e4e52c2",
   "metadata": {},
   "outputs": [
    {
     "data": {
      "text/latex": [
       "$\\displaystyle \\frac{2 i K \\eta \\kappa {b^\\dagger_{s}} b_{s}^{2}}{2 K + 2 \\delta} - \\frac{2 i K \\eta \\kappa {b^\\dagger_{s}}^{2} b_{s}}{2 K + 2 \\delta} + \\frac{i \\delta \\eta \\kappa b_{s}}{K + \\delta} - \\frac{i \\delta \\eta \\kappa {b^\\dagger_{s}}}{K + \\delta}$"
      ],
      "text/plain": [
       "2*I*K*eta*kappa*CreateBoson(s)*AnnihilateBoson(s)**2/(2*K + 2*delta) - 2*I*K*eta*kappa*CreateBoson(s)**2*AnnihilateBoson(s)/(2*K + 2*delta) + I*delta*eta*kappa*AnnihilateBoson(s)/(K + delta) - I*delta*eta*kappa*CreateBoson(s)/(K + delta)"
      ]
     },
     "execution_count": 46,
     "metadata": {},
     "output_type": "execute_result"
    }
   ],
   "source": [
    "temp_1"
   ]
  },
  {
   "cell_type": "code",
   "execution_count": 48,
   "id": "744f43c3",
   "metadata": {},
   "outputs": [
    {
     "data": {
      "text/latex": [
       "$\\displaystyle \\kappa \\left(\\frac{i \\eta b_{s}}{K + \\delta} + \\frac{i \\eta {b^\\dagger_{s}}}{K + \\delta}\\right)$"
      ],
      "text/plain": [
       "kappa*(I*eta*AnnihilateBoson(s)/(K + delta) + I*eta*CreateBoson(s)/(K + delta))"
      ]
     },
     "execution_count": 48,
     "metadata": {},
     "output_type": "execute_result"
    }
   ],
   "source": [
    "s_tot_1"
   ]
  },
  {
   "cell_type": "code",
   "execution_count": 47,
   "id": "a12617aa",
   "metadata": {},
   "outputs": [
    {
     "data": {
      "text/latex": [
       "$\\displaystyle - \\frac{2 K \\eta^{2} \\kappa^{2} b_{s}^{2}}{2 K^{2} + 4 K \\delta + 2 \\delta^{2}} + \\frac{8 K \\eta^{2} \\kappa^{2} {b^\\dagger_{s}} b_{s}}{2 K^{2} + 4 K \\delta + 2 \\delta^{2}} - \\frac{2 K \\eta^{2} \\kappa^{2} {b^\\dagger_{s}}^{2}}{2 K^{2} + 4 K \\delta + 2 \\delta^{2}} + \\frac{2 \\delta \\eta^{2} \\kappa^{2}}{K^{2} + 2 K \\delta + \\delta^{2}}$"
      ],
      "text/plain": [
       "-2*K*eta**2*kappa**2*AnnihilateBoson(s)**2/(2*K**2 + 4*K*delta + 2*delta**2) + 8*K*eta**2*kappa**2*CreateBoson(s)*AnnihilateBoson(s)/(2*K**2 + 4*K*delta + 2*delta**2) - 2*K*eta**2*kappa**2*CreateBoson(s)**2/(2*K**2 + 4*K*delta + 2*delta**2) + 2*delta*eta**2*kappa**2/(K**2 + 2*K*delta + delta**2)"
      ]
     },
     "execution_count": 47,
     "metadata": {},
     "output_type": "execute_result"
    }
   ],
   "source": [
    "normal(Commutator(s_tot_1, temp_1).doit())"
   ]
  },
  {
   "cell_type": "code",
   "execution_count": 34,
   "id": "2fa9c03e",
   "metadata": {},
   "outputs": [
    {
     "name": "stdout",
     "output_type": "stream",
     "text": [
      "x\n",
      "x\n"
     ]
    }
   ],
   "source": [
    "h_tot = h0 + kappa*v \n",
    "h_eff_2 = 0\n",
    "\n",
    "temp_2 = normal(Commutator(s_tot_1, h_tot.coeff(kappa,1)*kappa**1).doit() )\n",
    "temp_1 = normal(Commutator(s_tot_1, h_tot.coeff(kappa,0)*kappa**0).doit() )\n",
    "print('x')\n",
    "h_eff_2 += temp_2\n",
    "\n",
    "temp_2 = normal(Commutator(s_tot_1, temp_1).doit())\n",
    "print('x')\n",
    "h_eff_2 += sp.Rational(1,2) * temp_2\n",
    "\n",
    "h_eff_2 = h_eff_2.expand()"
   ]
  },
  {
   "cell_type": "code",
   "execution_count": 35,
   "id": "f9e6c078",
   "metadata": {},
   "outputs": [
    {
     "data": {
      "text/latex": [
       "$\\displaystyle \\frac{i \\eta b_{s}}{K + \\delta} + \\frac{i \\eta {b^\\dagger_{s}}}{K + \\delta}$"
      ],
      "text/plain": [
       "I*eta*AnnihilateBoson(s)/(K + delta) + I*eta*CreateBoson(s)/(K + delta)"
      ]
     },
     "execution_count": 35,
     "metadata": {},
     "output_type": "execute_result"
    }
   ],
   "source": [
    "s1"
   ]
  },
  {
   "cell_type": "code",
   "execution_count": 36,
   "id": "bf9e51b4",
   "metadata": {},
   "outputs": [],
   "source": [
    "v2 = normal(h_eff_2.coeff(kappa,2))"
   ]
  },
  {
   "cell_type": "code",
   "execution_count": 41,
   "id": "928469f7",
   "metadata": {},
   "outputs": [
    {
     "data": {
      "text/latex": [
       "$\\displaystyle - \\frac{2 K \\eta^{2} \\kappa^{2} b_{s}^{2}}{2 K^{2} + 4 K \\delta + 2 \\delta^{2}} + \\frac{8 K \\eta^{2} \\kappa^{2} {b^\\dagger_{s}} b_{s}}{2 K^{2} + 4 K \\delta + 2 \\delta^{2}} - \\frac{2 K \\eta^{2} \\kappa^{2} {b^\\dagger_{s}}^{2}}{2 K^{2} + 4 K \\delta + 2 \\delta^{2}} + \\frac{2 \\delta \\eta^{2} \\kappa^{2}}{K^{2} + 2 K \\delta + \\delta^{2}}$"
      ],
      "text/plain": [
       "-2*K*eta**2*kappa**2*AnnihilateBoson(s)**2/(2*K**2 + 4*K*delta + 2*delta**2) + 8*K*eta**2*kappa**2*CreateBoson(s)*AnnihilateBoson(s)/(2*K**2 + 4*K*delta + 2*delta**2) - 2*K*eta**2*kappa**2*CreateBoson(s)**2/(2*K**2 + 4*K*delta + 2*delta**2) + 2*delta*eta**2*kappa**2/(K**2 + 2*K*delta + delta**2)"
      ]
     },
     "execution_count": 41,
     "metadata": {},
     "output_type": "execute_result"
    }
   ],
   "source": [
    "temp_2"
   ]
  },
  {
   "cell_type": "code",
   "execution_count": 38,
   "id": "a3dbf601",
   "metadata": {},
   "outputs": [
    {
     "data": {
      "text/latex": [
       "$\\displaystyle \\frac{4 K \\eta^{2}}{2 K^{2} + 4 K \\delta + 2 \\delta^{2}}$"
      ],
      "text/plain": [
       "4*K*eta**2/(2*K**2 + 4*K*delta + 2*delta**2)"
      ]
     },
     "execution_count": 38,
     "metadata": {},
     "output_type": "execute_result"
    }
   ],
   "source": [
    "temp = 0\n",
    "for term in v2.args:\n",
    "    if term.as_powers_dict()[ad] == term.as_powers_dict()[a]:\n",
    "        temp += term\n",
    "h2 = temp * 1\n",
    "h2.coeff(ad*a)\n"
   ]
  },
  {
   "cell_type": "code",
   "execution_count": 405,
   "id": "8444b978",
   "metadata": {},
   "outputs": [],
   "source": [
    "temp = 0\n",
    "for term in (v2-h2).args:\n",
    "    if term.as_powers_dict()[ad] != term.as_powers_dict()[a]:\n",
    "        temp += term / delta / (term.as_powers_dict()[ad] - term.as_powers_dict()[a])\n",
    "s2 = normal(temp) * 1"
   ]
  },
  {
   "cell_type": "code",
   "execution_count": 346,
   "id": "abb78d39",
   "metadata": {},
   "outputs": [],
   "source": [
    "s_tot = s1 * kappa + s2 * kappa**2\n",
    "s_tot_1 = s1 * kappa\n",
    "s_tot_2 = s2 * kappa**2"
   ]
  },
  {
   "cell_type": "markdown",
   "id": "b227f56f",
   "metadata": {},
   "source": [
    "# Composite system"
   ]
  },
  {
   "cell_type": "code",
   "execution_count": 170,
   "id": "a4c3931e",
   "metadata": {},
   "outputs": [],
   "source": [
    "ind_b = symbols('c')\n",
    "b = B(ind_b)\n",
    "bd = Bd(ind_b)\n",
    "omega_b = symbols('omega_c', real=True)\n",
    "def _m_normal(expr):\n",
    "    if not expr.is_Mul:\n",
    "        return expr\n",
    "    else:\n",
    "        c_part = []\n",
    "        string = []\n",
    "        for factor in expr.args:\n",
    "            if factor.is_commutative:\n",
    "                c_part.append(factor)\n",
    "            else:\n",
    "                string.append(factor)\n",
    "                \n",
    "        expr_a = 1\n",
    "        expr_b = 1\n",
    "        expr_c = 1\n",
    "        \n",
    "        for factor in string:\n",
    "            if factor.is_Pow:\n",
    "                if factor.args[0].args[0] == ind_a:\n",
    "                    expr_a *= factor\n",
    "                elif factor.args[0].args[0] == ind_b:\n",
    "                    expr_b *= factor\n",
    "                else:\n",
    "                    expr_c *= factor\n",
    "            else:\n",
    "                if factor.args[0] == ind_a:\n",
    "                    expr_a *= factor\n",
    "                elif factor.args[0] == ind_b:\n",
    "                    expr_b *= factor\n",
    "                else:\n",
    "                    expr_c *= factor\n",
    "                    \n",
    "        if expr_a != 1:\n",
    "            expr_a = normal(expr_a)\n",
    "        if expr_b != 1:\n",
    "            expr_b = normal(expr_b)\n",
    "        if expr_c != 1:\n",
    "            expr_c = normal(expr_c)\n",
    "    \n",
    "        return sp.Mul(*c_part) * expr_a * expr_b * expr_c    \n",
    "\n",
    "def m_normal(expr):\n",
    "    expr = expr.expand()\n",
    "    if isinstance(expr, sp.Add):\n",
    "        return sp.Add(*[_m_normal(term) for term in expr.args])\n",
    "    else:\n",
    "        return _m_normal(expr)"
   ]
  },
  {
   "cell_type": "code",
   "execution_count": 171,
   "id": "a3611cef",
   "metadata": {},
   "outputs": [
    {
     "data": {
      "text/latex": [
       "$\\displaystyle \\omega_{s} {b^\\dagger_{s}} b_{s}$"
      ],
      "text/plain": [
       "omega_s*CreateBoson(s)*AnnihilateBoson(s)"
      ]
     },
     "execution_count": 171,
     "metadata": {},
     "output_type": "execute_result"
    }
   ],
   "source": [
    "h0"
   ]
  },
  {
   "cell_type": "code",
   "execution_count": 172,
   "id": "15c2e2ee",
   "metadata": {},
   "outputs": [],
   "source": [
    "h0 = omega_sp * ad * a+ omega_b*bd*b"
   ]
  },
  {
   "cell_type": "code",
   "execution_count": 182,
   "id": "7577642e",
   "metadata": {},
   "outputs": [],
   "source": [
    "v = (I*(a-ad)+s1c+s2c)*(b+bd)\n",
    "def remove_higher(expr):\n",
    "    terms_higher = [term for term in expr.args if (term.has(g4**2) or term.has(g3*g4))]\n",
    "    return expr - sum(terms_higher)\n"
   ]
  },
  {
   "cell_type": "code",
   "execution_count": 183,
   "id": "52e568b5",
   "metadata": {},
   "outputs": [],
   "source": [
    "v = m_normal(v)"
   ]
  },
  {
   "cell_type": "code",
   "execution_count": 184,
   "id": "bc553093",
   "metadata": {},
   "outputs": [],
   "source": [
    "v = remove_higher(v)"
   ]
  },
  {
   "cell_type": "code",
   "execution_count": 228,
   "id": "c75ae2cb",
   "metadata": {},
   "outputs": [
    {
     "data": {
      "text/latex": [
       "$\\displaystyle - \\frac{38 i g_{3}^{2} b_{s} b_{c}}{\\omega_{s}^{2}} - \\frac{38 i g_{3}^{2} b_{s} {b^\\dagger_{c}}}{\\omega_{s}^{2}} + \\frac{9 i g_{3}^{2} b_{s}^{3} b_{c}}{\\omega_{s}^{2}} + \\frac{9 i g_{3}^{2} b_{s}^{3} {b^\\dagger_{c}}}{\\omega_{s}^{2}} + \\frac{38 i g_{3}^{2} {b^\\dagger_{s}} b_{c}}{\\omega_{s}^{2}} - \\frac{38 i g_{3}^{2} {b^\\dagger_{s}} b_{s}^{2} b_{c}}{\\omega_{s}^{2}} - \\frac{38 i g_{3}^{2} {b^\\dagger_{s}} b_{s}^{2} {b^\\dagger_{c}}}{\\omega_{s}^{2}} + \\frac{38 i g_{3}^{2} {b^\\dagger_{s}} {b^\\dagger_{c}}}{\\omega_{s}^{2}} + \\frac{38 i g_{3}^{2} {b^\\dagger_{s}}^{2} b_{s} b_{c}}{\\omega_{s}^{2}} + \\frac{38 i g_{3}^{2} {b^\\dagger_{s}}^{2} b_{s} {b^\\dagger_{c}}}{\\omega_{s}^{2}} - \\frac{9 i g_{3}^{2} {b^\\dagger_{s}}^{3} b_{c}}{\\omega_{s}^{2}} - \\frac{9 i g_{3}^{2} {b^\\dagger_{s}}^{3} {b^\\dagger_{c}}}{\\omega_{s}^{2}} + \\frac{4 i g_{3} b_{s}^{2} b_{c}}{\\omega_{s}} + \\frac{4 i g_{3} b_{s}^{2} {b^\\dagger_{c}}}{\\omega_{s}} - \\frac{4 i g_{3} {b^\\dagger_{s}}^{2} b_{c}}{\\omega_{s}} - \\frac{4 i g_{3} {b^\\dagger_{s}}^{2} {b^\\dagger_{c}}}{\\omega_{s}} + \\frac{6 i g_{4} b_{s} b_{c}}{\\omega_{s}} + \\frac{6 i g_{4} b_{s} {b^\\dagger_{c}}}{\\omega_{s}} + \\frac{3 i g_{4} b_{s}^{3} b_{c}}{\\omega_{s}} + \\frac{3 i g_{4} b_{s}^{3} {b^\\dagger_{c}}}{\\omega_{s}} - \\frac{6 i g_{4} {b^\\dagger_{s}} b_{c}}{\\omega_{s}} + \\frac{6 i g_{4} {b^\\dagger_{s}} b_{s}^{2} b_{c}}{\\omega_{s}} + \\frac{6 i g_{4} {b^\\dagger_{s}} b_{s}^{2} {b^\\dagger_{c}}}{\\omega_{s}} - \\frac{6 i g_{4} {b^\\dagger_{s}} {b^\\dagger_{c}}}{\\omega_{s}} - \\frac{6 i g_{4} {b^\\dagger_{s}}^{2} b_{s} b_{c}}{\\omega_{s}} - \\frac{6 i g_{4} {b^\\dagger_{s}}^{2} b_{s} {b^\\dagger_{c}}}{\\omega_{s}} - \\frac{3 i g_{4} {b^\\dagger_{s}}^{3} b_{c}}{\\omega_{s}} - \\frac{3 i g_{4} {b^\\dagger_{s}}^{3} {b^\\dagger_{c}}}{\\omega_{s}} + i b_{s} b_{c} + i b_{s} {b^\\dagger_{c}} - i {b^\\dagger_{s}} b_{c} - i {b^\\dagger_{s}} {b^\\dagger_{c}}$"
      ],
      "text/plain": [
       "-38*I*g3**2*AnnihilateBoson(s)*AnnihilateBoson(c)/omega_s**2 - 38*I*g3**2*AnnihilateBoson(s)*CreateBoson(c)/omega_s**2 + 9*I*g3**2*AnnihilateBoson(s)**3*AnnihilateBoson(c)/omega_s**2 + 9*I*g3**2*AnnihilateBoson(s)**3*CreateBoson(c)/omega_s**2 + 38*I*g3**2*CreateBoson(s)*AnnihilateBoson(c)/omega_s**2 - 38*I*g3**2*CreateBoson(s)*AnnihilateBoson(s)**2*AnnihilateBoson(c)/omega_s**2 - 38*I*g3**2*CreateBoson(s)*AnnihilateBoson(s)**2*CreateBoson(c)/omega_s**2 + 38*I*g3**2*CreateBoson(s)*CreateBoson(c)/omega_s**2 + 38*I*g3**2*CreateBoson(s)**2*AnnihilateBoson(s)*AnnihilateBoson(c)/omega_s**2 + 38*I*g3**2*CreateBoson(s)**2*AnnihilateBoson(s)*CreateBoson(c)/omega_s**2 - 9*I*g3**2*CreateBoson(s)**3*AnnihilateBoson(c)/omega_s**2 - 9*I*g3**2*CreateBoson(s)**3*CreateBoson(c)/omega_s**2 + 4*I*g3*AnnihilateBoson(s)**2*AnnihilateBoson(c)/omega_s + 4*I*g3*AnnihilateBoson(s)**2*CreateBoson(c)/omega_s - 4*I*g3*CreateBoson(s)**2*AnnihilateBoson(c)/omega_s - 4*I*g3*CreateBoson(s)**2*CreateBoson(c)/omega_s + 6*I*g4*AnnihilateBoson(s)*AnnihilateBoson(c)/omega_s + 6*I*g4*AnnihilateBoson(s)*CreateBoson(c)/omega_s + 3*I*g4*AnnihilateBoson(s)**3*AnnihilateBoson(c)/omega_s + 3*I*g4*AnnihilateBoson(s)**3*CreateBoson(c)/omega_s - 6*I*g4*CreateBoson(s)*AnnihilateBoson(c)/omega_s + 6*I*g4*CreateBoson(s)*AnnihilateBoson(s)**2*AnnihilateBoson(c)/omega_s + 6*I*g4*CreateBoson(s)*AnnihilateBoson(s)**2*CreateBoson(c)/omega_s - 6*I*g4*CreateBoson(s)*CreateBoson(c)/omega_s - 6*I*g4*CreateBoson(s)**2*AnnihilateBoson(s)*AnnihilateBoson(c)/omega_s - 6*I*g4*CreateBoson(s)**2*AnnihilateBoson(s)*CreateBoson(c)/omega_s - 3*I*g4*CreateBoson(s)**3*AnnihilateBoson(c)/omega_s - 3*I*g4*CreateBoson(s)**3*CreateBoson(c)/omega_s + I*AnnihilateBoson(s)*AnnihilateBoson(c) + I*AnnihilateBoson(s)*CreateBoson(c) - I*CreateBoson(s)*AnnihilateBoson(c) - I*CreateBoson(s)*CreateBoson(c)"
      ]
     },
     "execution_count": 228,
     "metadata": {},
     "output_type": "execute_result"
    }
   ],
   "source": [
    "v"
   ]
  },
  {
   "cell_type": "markdown",
   "id": "8481cf64",
   "metadata": {},
   "source": [
    "# first order energy correction $H^{(1)}$, expected to be 0"
   ]
  },
  {
   "cell_type": "code",
   "execution_count": 186,
   "id": "9dedef96",
   "metadata": {},
   "outputs": [],
   "source": [
    "v1 = v"
   ]
  },
  {
   "cell_type": "code",
   "execution_count": 187,
   "id": "a36c664a",
   "metadata": {},
   "outputs": [],
   "source": [
    "temp = 0\n",
    "for term in v1.args:\n",
    "    if term.as_powers_dict()[ad] == term.as_powers_dict()[a] and term.as_powers_dict()[bd] == term.as_powers_dict()[b]:\n",
    "        temp += term\n",
    "h1 = temp * 1"
   ]
  },
  {
   "cell_type": "code",
   "execution_count": 188,
   "id": "5d3b3ced",
   "metadata": {},
   "outputs": [
    {
     "data": {
      "text/plain": [
       "0"
      ]
     },
     "execution_count": 188,
     "metadata": {},
     "output_type": "execute_result"
    }
   ],
   "source": [
    "h1"
   ]
  },
  {
   "cell_type": "code",
   "execution_count": 190,
   "id": "f54effa8",
   "metadata": {},
   "outputs": [],
   "source": [
    "temp = 0\n",
    "for term in (v1-h1).args:\n",
    "    if (term.as_powers_dict()[ad] != term.as_powers_dict()[a] or \n",
    "        term.as_powers_dict()[bd] != term.as_powers_dict()[b]  ):\n",
    "        \n",
    "        temp += term / (omega_sp * (term.as_powers_dict()[ad] - term.as_powers_dict()[a]) +\n",
    "                        omega_b * (term.as_powers_dict()[bd] - term.as_powers_dict()[b])  )\n",
    "s1 = temp * 1"
   ]
  },
  {
   "cell_type": "markdown",
   "id": "79c036d5",
   "metadata": {},
   "source": [
    "# first order generator $S^{(1)}$"
   ]
  },
  {
   "cell_type": "code",
   "execution_count": 192,
   "id": "8c57099b",
   "metadata": {},
   "outputs": [
    {
     "data": {
      "text/latex": [
       "$\\displaystyle \\frac{9 i g_{3}^{2} b_{s}^{3} {b^\\dagger_{c}}}{\\omega_{s}^{2} \\cdot \\left(\\frac{180 g_{3}^{2}}{\\omega_{s}} + \\frac{864 g_{4}^{2}}{\\omega_{s}} - 36 g_{4} + \\omega_{c} - 3 \\omega_{s}\\right)} + \\frac{9 i g_{3}^{2} b_{s}^{3} b_{c}}{\\omega_{s}^{2} \\cdot \\left(\\frac{180 g_{3}^{2}}{\\omega_{s}} + \\frac{864 g_{4}^{2}}{\\omega_{s}} - 36 g_{4} - \\omega_{c} - 3 \\omega_{s}\\right)} - \\frac{38 i g_{3}^{2} b_{s} {b^\\dagger_{c}}}{\\omega_{s}^{2} \\cdot \\left(\\frac{60 g_{3}^{2}}{\\omega_{s}} + \\frac{288 g_{4}^{2}}{\\omega_{s}} - 12 g_{4} + \\omega_{c} - \\omega_{s}\\right)} - \\frac{38 i g_{3}^{2} {b^\\dagger_{s}} b_{s}^{2} {b^\\dagger_{c}}}{\\omega_{s}^{2} \\cdot \\left(\\frac{60 g_{3}^{2}}{\\omega_{s}} + \\frac{288 g_{4}^{2}}{\\omega_{s}} - 12 g_{4} + \\omega_{c} - \\omega_{s}\\right)} - \\frac{38 i g_{3}^{2} b_{s} b_{c}}{\\omega_{s}^{2} \\cdot \\left(\\frac{60 g_{3}^{2}}{\\omega_{s}} + \\frac{288 g_{4}^{2}}{\\omega_{s}} - 12 g_{4} - \\omega_{c} - \\omega_{s}\\right)} - \\frac{38 i g_{3}^{2} {b^\\dagger_{s}} b_{s}^{2} b_{c}}{\\omega_{s}^{2} \\cdot \\left(\\frac{60 g_{3}^{2}}{\\omega_{s}} + \\frac{288 g_{4}^{2}}{\\omega_{s}} - 12 g_{4} - \\omega_{c} - \\omega_{s}\\right)} + \\frac{38 i g_{3}^{2} {b^\\dagger_{s}} {b^\\dagger_{c}}}{\\omega_{s}^{2} \\left(- \\frac{60 g_{3}^{2}}{\\omega_{s}} - \\frac{288 g_{4}^{2}}{\\omega_{s}} + 12 g_{4} + \\omega_{c} + \\omega_{s}\\right)} + \\frac{38 i g_{3}^{2} {b^\\dagger_{s}}^{2} b_{s} {b^\\dagger_{c}}}{\\omega_{s}^{2} \\left(- \\frac{60 g_{3}^{2}}{\\omega_{s}} - \\frac{288 g_{4}^{2}}{\\omega_{s}} + 12 g_{4} + \\omega_{c} + \\omega_{s}\\right)} + \\frac{38 i g_{3}^{2} {b^\\dagger_{s}} b_{c}}{\\omega_{s}^{2} \\left(- \\frac{60 g_{3}^{2}}{\\omega_{s}} - \\frac{288 g_{4}^{2}}{\\omega_{s}} + 12 g_{4} - \\omega_{c} + \\omega_{s}\\right)} + \\frac{38 i g_{3}^{2} {b^\\dagger_{s}}^{2} b_{s} b_{c}}{\\omega_{s}^{2} \\left(- \\frac{60 g_{3}^{2}}{\\omega_{s}} - \\frac{288 g_{4}^{2}}{\\omega_{s}} + 12 g_{4} - \\omega_{c} + \\omega_{s}\\right)} - \\frac{9 i g_{3}^{2} {b^\\dagger_{s}}^{3} {b^\\dagger_{c}}}{\\omega_{s}^{2} \\left(- \\frac{180 g_{3}^{2}}{\\omega_{s}} - \\frac{864 g_{4}^{2}}{\\omega_{s}} + 36 g_{4} + \\omega_{c} + 3 \\omega_{s}\\right)} - \\frac{9 i g_{3}^{2} {b^\\dagger_{s}}^{3} b_{c}}{\\omega_{s}^{2} \\left(- \\frac{180 g_{3}^{2}}{\\omega_{s}} - \\frac{864 g_{4}^{2}}{\\omega_{s}} + 36 g_{4} - \\omega_{c} + 3 \\omega_{s}\\right)} + \\frac{4 i g_{3} b_{s}^{2} {b^\\dagger_{c}}}{\\omega_{s} \\left(\\frac{120 g_{3}^{2}}{\\omega_{s}} + \\frac{576 g_{4}^{2}}{\\omega_{s}} - 24 g_{4} + \\omega_{c} - 2 \\omega_{s}\\right)} + \\frac{4 i g_{3} b_{s}^{2} b_{c}}{\\omega_{s} \\left(\\frac{120 g_{3}^{2}}{\\omega_{s}} + \\frac{576 g_{4}^{2}}{\\omega_{s}} - 24 g_{4} - \\omega_{c} - 2 \\omega_{s}\\right)} - \\frac{4 i g_{3} {b^\\dagger_{s}}^{2} {b^\\dagger_{c}}}{\\omega_{s} \\left(- \\frac{120 g_{3}^{2}}{\\omega_{s}} - \\frac{576 g_{4}^{2}}{\\omega_{s}} + 24 g_{4} + \\omega_{c} + 2 \\omega_{s}\\right)} - \\frac{4 i g_{3} {b^\\dagger_{s}}^{2} b_{c}}{\\omega_{s} \\left(- \\frac{120 g_{3}^{2}}{\\omega_{s}} - \\frac{576 g_{4}^{2}}{\\omega_{s}} + 24 g_{4} - \\omega_{c} + 2 \\omega_{s}\\right)} + \\frac{3 i g_{4} b_{s}^{3} {b^\\dagger_{c}}}{\\omega_{s} \\left(\\frac{180 g_{3}^{2}}{\\omega_{s}} + \\frac{864 g_{4}^{2}}{\\omega_{s}} - 36 g_{4} + \\omega_{c} - 3 \\omega_{s}\\right)} + \\frac{3 i g_{4} b_{s}^{3} b_{c}}{\\omega_{s} \\left(\\frac{180 g_{3}^{2}}{\\omega_{s}} + \\frac{864 g_{4}^{2}}{\\omega_{s}} - 36 g_{4} - \\omega_{c} - 3 \\omega_{s}\\right)} + \\frac{6 i g_{4} b_{s} {b^\\dagger_{c}}}{\\omega_{s} \\left(\\frac{60 g_{3}^{2}}{\\omega_{s}} + \\frac{288 g_{4}^{2}}{\\omega_{s}} - 12 g_{4} + \\omega_{c} - \\omega_{s}\\right)} + \\frac{6 i g_{4} {b^\\dagger_{s}} b_{s}^{2} {b^\\dagger_{c}}}{\\omega_{s} \\left(\\frac{60 g_{3}^{2}}{\\omega_{s}} + \\frac{288 g_{4}^{2}}{\\omega_{s}} - 12 g_{4} + \\omega_{c} - \\omega_{s}\\right)} + \\frac{6 i g_{4} b_{s} b_{c}}{\\omega_{s} \\left(\\frac{60 g_{3}^{2}}{\\omega_{s}} + \\frac{288 g_{4}^{2}}{\\omega_{s}} - 12 g_{4} - \\omega_{c} - \\omega_{s}\\right)} + \\frac{6 i g_{4} {b^\\dagger_{s}} b_{s}^{2} b_{c}}{\\omega_{s} \\left(\\frac{60 g_{3}^{2}}{\\omega_{s}} + \\frac{288 g_{4}^{2}}{\\omega_{s}} - 12 g_{4} - \\omega_{c} - \\omega_{s}\\right)} - \\frac{6 i g_{4} {b^\\dagger_{s}} {b^\\dagger_{c}}}{\\omega_{s} \\left(- \\frac{60 g_{3}^{2}}{\\omega_{s}} - \\frac{288 g_{4}^{2}}{\\omega_{s}} + 12 g_{4} + \\omega_{c} + \\omega_{s}\\right)} - \\frac{6 i g_{4} {b^\\dagger_{s}}^{2} b_{s} {b^\\dagger_{c}}}{\\omega_{s} \\left(- \\frac{60 g_{3}^{2}}{\\omega_{s}} - \\frac{288 g_{4}^{2}}{\\omega_{s}} + 12 g_{4} + \\omega_{c} + \\omega_{s}\\right)} - \\frac{6 i g_{4} {b^\\dagger_{s}} b_{c}}{\\omega_{s} \\left(- \\frac{60 g_{3}^{2}}{\\omega_{s}} - \\frac{288 g_{4}^{2}}{\\omega_{s}} + 12 g_{4} - \\omega_{c} + \\omega_{s}\\right)} - \\frac{6 i g_{4} {b^\\dagger_{s}}^{2} b_{s} b_{c}}{\\omega_{s} \\left(- \\frac{60 g_{3}^{2}}{\\omega_{s}} - \\frac{288 g_{4}^{2}}{\\omega_{s}} + 12 g_{4} - \\omega_{c} + \\omega_{s}\\right)} - \\frac{3 i g_{4} {b^\\dagger_{s}}^{3} {b^\\dagger_{c}}}{\\omega_{s} \\left(- \\frac{180 g_{3}^{2}}{\\omega_{s}} - \\frac{864 g_{4}^{2}}{\\omega_{s}} + 36 g_{4} + \\omega_{c} + 3 \\omega_{s}\\right)} - \\frac{3 i g_{4} {b^\\dagger_{s}}^{3} b_{c}}{\\omega_{s} \\left(- \\frac{180 g_{3}^{2}}{\\omega_{s}} - \\frac{864 g_{4}^{2}}{\\omega_{s}} + 36 g_{4} - \\omega_{c} + 3 \\omega_{s}\\right)} + \\frac{i b_{s} {b^\\dagger_{c}}}{\\frac{60 g_{3}^{2}}{\\omega_{s}} + \\frac{288 g_{4}^{2}}{\\omega_{s}} - 12 g_{4} + \\omega_{c} - \\omega_{s}} + \\frac{i b_{s} b_{c}}{\\frac{60 g_{3}^{2}}{\\omega_{s}} + \\frac{288 g_{4}^{2}}{\\omega_{s}} - 12 g_{4} - \\omega_{c} - \\omega_{s}} - \\frac{i {b^\\dagger_{s}} {b^\\dagger_{c}}}{- \\frac{60 g_{3}^{2}}{\\omega_{s}} - \\frac{288 g_{4}^{2}}{\\omega_{s}} + 12 g_{4} + \\omega_{c} + \\omega_{s}} - \\frac{i {b^\\dagger_{s}} b_{c}}{- \\frac{60 g_{3}^{2}}{\\omega_{s}} - \\frac{288 g_{4}^{2}}{\\omega_{s}} + 12 g_{4} - \\omega_{c} + \\omega_{s}}$"
      ],
      "text/plain": [
       "9*I*g3**2*AnnihilateBoson(s)**3*CreateBoson(c)/(omega_s**2*(180*g3**2/omega_s + 864*g4**2/omega_s - 36*g4 + omega_c - 3*omega_s)) + 9*I*g3**2*AnnihilateBoson(s)**3*AnnihilateBoson(c)/(omega_s**2*(180*g3**2/omega_s + 864*g4**2/omega_s - 36*g4 - omega_c - 3*omega_s)) - 38*I*g3**2*AnnihilateBoson(s)*CreateBoson(c)/(omega_s**2*(60*g3**2/omega_s + 288*g4**2/omega_s - 12*g4 + omega_c - omega_s)) - 38*I*g3**2*CreateBoson(s)*AnnihilateBoson(s)**2*CreateBoson(c)/(omega_s**2*(60*g3**2/omega_s + 288*g4**2/omega_s - 12*g4 + omega_c - omega_s)) - 38*I*g3**2*AnnihilateBoson(s)*AnnihilateBoson(c)/(omega_s**2*(60*g3**2/omega_s + 288*g4**2/omega_s - 12*g4 - omega_c - omega_s)) - 38*I*g3**2*CreateBoson(s)*AnnihilateBoson(s)**2*AnnihilateBoson(c)/(omega_s**2*(60*g3**2/omega_s + 288*g4**2/omega_s - 12*g4 - omega_c - omega_s)) + 38*I*g3**2*CreateBoson(s)*CreateBoson(c)/(omega_s**2*(-60*g3**2/omega_s - 288*g4**2/omega_s + 12*g4 + omega_c + omega_s)) + 38*I*g3**2*CreateBoson(s)**2*AnnihilateBoson(s)*CreateBoson(c)/(omega_s**2*(-60*g3**2/omega_s - 288*g4**2/omega_s + 12*g4 + omega_c + omega_s)) + 38*I*g3**2*CreateBoson(s)*AnnihilateBoson(c)/(omega_s**2*(-60*g3**2/omega_s - 288*g4**2/omega_s + 12*g4 - omega_c + omega_s)) + 38*I*g3**2*CreateBoson(s)**2*AnnihilateBoson(s)*AnnihilateBoson(c)/(omega_s**2*(-60*g3**2/omega_s - 288*g4**2/omega_s + 12*g4 - omega_c + omega_s)) - 9*I*g3**2*CreateBoson(s)**3*CreateBoson(c)/(omega_s**2*(-180*g3**2/omega_s - 864*g4**2/omega_s + 36*g4 + omega_c + 3*omega_s)) - 9*I*g3**2*CreateBoson(s)**3*AnnihilateBoson(c)/(omega_s**2*(-180*g3**2/omega_s - 864*g4**2/omega_s + 36*g4 - omega_c + 3*omega_s)) + 4*I*g3*AnnihilateBoson(s)**2*CreateBoson(c)/(omega_s*(120*g3**2/omega_s + 576*g4**2/omega_s - 24*g4 + omega_c - 2*omega_s)) + 4*I*g3*AnnihilateBoson(s)**2*AnnihilateBoson(c)/(omega_s*(120*g3**2/omega_s + 576*g4**2/omega_s - 24*g4 - omega_c - 2*omega_s)) - 4*I*g3*CreateBoson(s)**2*CreateBoson(c)/(omega_s*(-120*g3**2/omega_s - 576*g4**2/omega_s + 24*g4 + omega_c + 2*omega_s)) - 4*I*g3*CreateBoson(s)**2*AnnihilateBoson(c)/(omega_s*(-120*g3**2/omega_s - 576*g4**2/omega_s + 24*g4 - omega_c + 2*omega_s)) + 3*I*g4*AnnihilateBoson(s)**3*CreateBoson(c)/(omega_s*(180*g3**2/omega_s + 864*g4**2/omega_s - 36*g4 + omega_c - 3*omega_s)) + 3*I*g4*AnnihilateBoson(s)**3*AnnihilateBoson(c)/(omega_s*(180*g3**2/omega_s + 864*g4**2/omega_s - 36*g4 - omega_c - 3*omega_s)) + 6*I*g4*AnnihilateBoson(s)*CreateBoson(c)/(omega_s*(60*g3**2/omega_s + 288*g4**2/omega_s - 12*g4 + omega_c - omega_s)) + 6*I*g4*CreateBoson(s)*AnnihilateBoson(s)**2*CreateBoson(c)/(omega_s*(60*g3**2/omega_s + 288*g4**2/omega_s - 12*g4 + omega_c - omega_s)) + 6*I*g4*AnnihilateBoson(s)*AnnihilateBoson(c)/(omega_s*(60*g3**2/omega_s + 288*g4**2/omega_s - 12*g4 - omega_c - omega_s)) + 6*I*g4*CreateBoson(s)*AnnihilateBoson(s)**2*AnnihilateBoson(c)/(omega_s*(60*g3**2/omega_s + 288*g4**2/omega_s - 12*g4 - omega_c - omega_s)) - 6*I*g4*CreateBoson(s)*CreateBoson(c)/(omega_s*(-60*g3**2/omega_s - 288*g4**2/omega_s + 12*g4 + omega_c + omega_s)) - 6*I*g4*CreateBoson(s)**2*AnnihilateBoson(s)*CreateBoson(c)/(omega_s*(-60*g3**2/omega_s - 288*g4**2/omega_s + 12*g4 + omega_c + omega_s)) - 6*I*g4*CreateBoson(s)*AnnihilateBoson(c)/(omega_s*(-60*g3**2/omega_s - 288*g4**2/omega_s + 12*g4 - omega_c + omega_s)) - 6*I*g4*CreateBoson(s)**2*AnnihilateBoson(s)*AnnihilateBoson(c)/(omega_s*(-60*g3**2/omega_s - 288*g4**2/omega_s + 12*g4 - omega_c + omega_s)) - 3*I*g4*CreateBoson(s)**3*CreateBoson(c)/(omega_s*(-180*g3**2/omega_s - 864*g4**2/omega_s + 36*g4 + omega_c + 3*omega_s)) - 3*I*g4*CreateBoson(s)**3*AnnihilateBoson(c)/(omega_s*(-180*g3**2/omega_s - 864*g4**2/omega_s + 36*g4 - omega_c + 3*omega_s)) + I*AnnihilateBoson(s)*CreateBoson(c)/(60*g3**2/omega_s + 288*g4**2/omega_s - 12*g4 + omega_c - omega_s) + I*AnnihilateBoson(s)*AnnihilateBoson(c)/(60*g3**2/omega_s + 288*g4**2/omega_s - 12*g4 - omega_c - omega_s) - I*CreateBoson(s)*CreateBoson(c)/(-60*g3**2/omega_s - 288*g4**2/omega_s + 12*g4 + omega_c + omega_s) - I*CreateBoson(s)*AnnihilateBoson(c)/(-60*g3**2/omega_s - 288*g4**2/omega_s + 12*g4 - omega_c + omega_s)"
      ]
     },
     "execution_count": 192,
     "metadata": {},
     "output_type": "execute_result"
    }
   ],
   "source": [
    "s1"
   ]
  },
  {
   "cell_type": "markdown",
   "id": "577267aa",
   "metadata": {},
   "source": [
    "Second order energy correction $H^{(2)}$"
   ]
  },
  {
   "cell_type": "code",
   "execution_count": 193,
   "id": "41eaa8b2",
   "metadata": {},
   "outputs": [],
   "source": [
    "v2 = sp.Rational(1,2)*m_normal(Commutator(s1,v1).doit() )"
   ]
  },
  {
   "cell_type": "code",
   "execution_count": 194,
   "id": "df16ecc1",
   "metadata": {
    "scrolled": true
   },
   "outputs": [],
   "source": [
    "v2 = v2.expand()"
   ]
  },
  {
   "cell_type": "code",
   "execution_count": 195,
   "id": "a908fd8c",
   "metadata": {},
   "outputs": [],
   "source": [
    "temp = 0\n",
    "for term in v2.args:\n",
    "    if term.as_powers_dict()[ad] == term.as_powers_dict()[a] and term.as_powers_dict()[bd] == term.as_powers_dict()[b] and term.as_powers_dict()[b]==1 and term.as_powers_dict()[a]==0:\n",
    "        temp += term.simplify()\n",
    "h2 = temp * 1"
   ]
  },
  {
   "cell_type": "code",
   "execution_count": 196,
   "id": "26251ded",
   "metadata": {},
   "outputs": [
    {
     "data": {
      "text/latex": [
       "$\\displaystyle - \\frac{38 i g_{3}^{2} b_{s} b_{c}}{\\omega_{s}^{2}} - \\frac{38 i g_{3}^{2} b_{s} {b^\\dagger_{c}}}{\\omega_{s}^{2}} + \\frac{9 i g_{3}^{2} b_{s}^{3} b_{c}}{\\omega_{s}^{2}} + \\frac{9 i g_{3}^{2} b_{s}^{3} {b^\\dagger_{c}}}{\\omega_{s}^{2}} + \\frac{38 i g_{3}^{2} {b^\\dagger_{s}} b_{c}}{\\omega_{s}^{2}} - \\frac{38 i g_{3}^{2} {b^\\dagger_{s}} b_{s}^{2} b_{c}}{\\omega_{s}^{2}} - \\frac{38 i g_{3}^{2} {b^\\dagger_{s}} b_{s}^{2} {b^\\dagger_{c}}}{\\omega_{s}^{2}} + \\frac{38 i g_{3}^{2} {b^\\dagger_{s}} {b^\\dagger_{c}}}{\\omega_{s}^{2}} + \\frac{38 i g_{3}^{2} {b^\\dagger_{s}}^{2} b_{s} b_{c}}{\\omega_{s}^{2}} + \\frac{38 i g_{3}^{2} {b^\\dagger_{s}}^{2} b_{s} {b^\\dagger_{c}}}{\\omega_{s}^{2}} - \\frac{9 i g_{3}^{2} {b^\\dagger_{s}}^{3} b_{c}}{\\omega_{s}^{2}} - \\frac{9 i g_{3}^{2} {b^\\dagger_{s}}^{3} {b^\\dagger_{c}}}{\\omega_{s}^{2}} + \\frac{4 i g_{3} b_{s}^{2} b_{c}}{\\omega_{s}} + \\frac{4 i g_{3} b_{s}^{2} {b^\\dagger_{c}}}{\\omega_{s}} - \\frac{4 i g_{3} {b^\\dagger_{s}}^{2} b_{c}}{\\omega_{s}} - \\frac{4 i g_{3} {b^\\dagger_{s}}^{2} {b^\\dagger_{c}}}{\\omega_{s}} + \\frac{6 i g_{4} b_{s} b_{c}}{\\omega_{s}} + \\frac{6 i g_{4} b_{s} {b^\\dagger_{c}}}{\\omega_{s}} + \\frac{3 i g_{4} b_{s}^{3} b_{c}}{\\omega_{s}} + \\frac{3 i g_{4} b_{s}^{3} {b^\\dagger_{c}}}{\\omega_{s}} - \\frac{6 i g_{4} {b^\\dagger_{s}} b_{c}}{\\omega_{s}} + \\frac{6 i g_{4} {b^\\dagger_{s}} b_{s}^{2} b_{c}}{\\omega_{s}} + \\frac{6 i g_{4} {b^\\dagger_{s}} b_{s}^{2} {b^\\dagger_{c}}}{\\omega_{s}} - \\frac{6 i g_{4} {b^\\dagger_{s}} {b^\\dagger_{c}}}{\\omega_{s}} - \\frac{6 i g_{4} {b^\\dagger_{s}}^{2} b_{s} b_{c}}{\\omega_{s}} - \\frac{6 i g_{4} {b^\\dagger_{s}}^{2} b_{s} {b^\\dagger_{c}}}{\\omega_{s}} - \\frac{3 i g_{4} {b^\\dagger_{s}}^{3} b_{c}}{\\omega_{s}} - \\frac{3 i g_{4} {b^\\dagger_{s}}^{3} {b^\\dagger_{c}}}{\\omega_{s}} + i b_{s} b_{c} + i b_{s} {b^\\dagger_{c}} - i {b^\\dagger_{s}} b_{c} - i {b^\\dagger_{s}} {b^\\dagger_{c}}$"
      ],
      "text/plain": [
       "-38*I*g3**2*AnnihilateBoson(s)*AnnihilateBoson(c)/omega_s**2 - 38*I*g3**2*AnnihilateBoson(s)*CreateBoson(c)/omega_s**2 + 9*I*g3**2*AnnihilateBoson(s)**3*AnnihilateBoson(c)/omega_s**2 + 9*I*g3**2*AnnihilateBoson(s)**3*CreateBoson(c)/omega_s**2 + 38*I*g3**2*CreateBoson(s)*AnnihilateBoson(c)/omega_s**2 - 38*I*g3**2*CreateBoson(s)*AnnihilateBoson(s)**2*AnnihilateBoson(c)/omega_s**2 - 38*I*g3**2*CreateBoson(s)*AnnihilateBoson(s)**2*CreateBoson(c)/omega_s**2 + 38*I*g3**2*CreateBoson(s)*CreateBoson(c)/omega_s**2 + 38*I*g3**2*CreateBoson(s)**2*AnnihilateBoson(s)*AnnihilateBoson(c)/omega_s**2 + 38*I*g3**2*CreateBoson(s)**2*AnnihilateBoson(s)*CreateBoson(c)/omega_s**2 - 9*I*g3**2*CreateBoson(s)**3*AnnihilateBoson(c)/omega_s**2 - 9*I*g3**2*CreateBoson(s)**3*CreateBoson(c)/omega_s**2 + 4*I*g3*AnnihilateBoson(s)**2*AnnihilateBoson(c)/omega_s + 4*I*g3*AnnihilateBoson(s)**2*CreateBoson(c)/omega_s - 4*I*g3*CreateBoson(s)**2*AnnihilateBoson(c)/omega_s - 4*I*g3*CreateBoson(s)**2*CreateBoson(c)/omega_s + 6*I*g4*AnnihilateBoson(s)*AnnihilateBoson(c)/omega_s + 6*I*g4*AnnihilateBoson(s)*CreateBoson(c)/omega_s + 3*I*g4*AnnihilateBoson(s)**3*AnnihilateBoson(c)/omega_s + 3*I*g4*AnnihilateBoson(s)**3*CreateBoson(c)/omega_s - 6*I*g4*CreateBoson(s)*AnnihilateBoson(c)/omega_s + 6*I*g4*CreateBoson(s)*AnnihilateBoson(s)**2*AnnihilateBoson(c)/omega_s + 6*I*g4*CreateBoson(s)*AnnihilateBoson(s)**2*CreateBoson(c)/omega_s - 6*I*g4*CreateBoson(s)*CreateBoson(c)/omega_s - 6*I*g4*CreateBoson(s)**2*AnnihilateBoson(s)*AnnihilateBoson(c)/omega_s - 6*I*g4*CreateBoson(s)**2*AnnihilateBoson(s)*CreateBoson(c)/omega_s - 3*I*g4*CreateBoson(s)**3*AnnihilateBoson(c)/omega_s - 3*I*g4*CreateBoson(s)**3*CreateBoson(c)/omega_s + I*AnnihilateBoson(s)*AnnihilateBoson(c) + I*AnnihilateBoson(s)*CreateBoson(c) - I*CreateBoson(s)*AnnihilateBoson(c) - I*CreateBoson(s)*CreateBoson(c)"
      ]
     },
     "execution_count": 196,
     "metadata": {},
     "output_type": "execute_result"
    }
   ],
   "source": [
    "v1"
   ]
  },
  {
   "cell_type": "code",
   "execution_count": 197,
   "id": "3d87091a",
   "metadata": {
    "scrolled": false
   },
   "outputs": [],
   "source": [
    "E=h2"
   ]
  },
  {
   "cell_type": "code",
   "execution_count": 198,
   "id": "4b92b878",
   "metadata": {},
   "outputs": [
    {
     "data": {
      "text/latex": [
       "$\\displaystyle \\frac{486 g_{3}^{4} {b^\\dagger_{c}} b_{c}}{\\omega_{s}^{3} \\cdot \\left(180 g_{3}^{2} + 864 g_{4}^{2} - 36 g_{4} \\omega_{s} + \\omega_{c} \\omega_{s} - 3 \\omega_{s}^{2}\\right)} + \\frac{486 g_{3}^{4} {b^\\dagger_{c}} b_{c}}{\\omega_{s}^{3} \\cdot \\left(180 g_{3}^{2} + 864 g_{4}^{2} - 36 g_{4} \\omega_{s} - \\omega_{c} \\omega_{s} - 3 \\omega_{s}^{2}\\right)} + \\frac{1444 g_{3}^{4} {b^\\dagger_{c}} b_{c}}{\\omega_{s}^{3} \\cdot \\left(60 g_{3}^{2} + 288 g_{4}^{2} - 12 g_{4} \\omega_{s} + \\omega_{c} \\omega_{s} - \\omega_{s}^{2}\\right)} + \\frac{1444 g_{3}^{4} {b^\\dagger_{c}} b_{c}}{\\omega_{s}^{3} \\cdot \\left(60 g_{3}^{2} + 288 g_{4}^{2} - 12 g_{4} \\omega_{s} - \\omega_{c} \\omega_{s} - \\omega_{s}^{2}\\right)} + \\frac{324 g_{3}^{2} g_{4} {b^\\dagger_{c}} b_{c}}{\\omega_{s}^{2} \\cdot \\left(180 g_{3}^{2} + 864 g_{4}^{2} - 36 g_{4} \\omega_{s} + \\omega_{c} \\omega_{s} - 3 \\omega_{s}^{2}\\right)} + \\frac{324 g_{3}^{2} g_{4} {b^\\dagger_{c}} b_{c}}{\\omega_{s}^{2} \\cdot \\left(180 g_{3}^{2} + 864 g_{4}^{2} - 36 g_{4} \\omega_{s} - \\omega_{c} \\omega_{s} - 3 \\omega_{s}^{2}\\right)} - \\frac{456 g_{3}^{2} g_{4} {b^\\dagger_{c}} b_{c}}{\\omega_{s}^{2} \\cdot \\left(60 g_{3}^{2} + 288 g_{4}^{2} - 12 g_{4} \\omega_{s} + \\omega_{c} \\omega_{s} - \\omega_{s}^{2}\\right)} + \\frac{456 g_{3}^{2} g_{4} {b^\\dagger_{c}} b_{c}}{\\omega_{s}^{2} \\left(- 60 g_{3}^{2} - 288 g_{4}^{2} + 12 g_{4} \\omega_{s} + \\omega_{c} \\omega_{s} + \\omega_{s}^{2}\\right)} + \\frac{32 g_{3}^{2} {b^\\dagger_{c}} b_{c}}{\\omega_{s} \\left(120 g_{3}^{2} + 576 g_{4}^{2} - 24 g_{4} \\omega_{s} + \\omega_{c} \\omega_{s} - 2 \\omega_{s}^{2}\\right)} + \\frac{32 g_{3}^{2} {b^\\dagger_{c}} b_{c}}{\\omega_{s} \\left(120 g_{3}^{2} + 576 g_{4}^{2} - 24 g_{4} \\omega_{s} - \\omega_{c} \\omega_{s} - 2 \\omega_{s}^{2}\\right)} - \\frac{76 g_{3}^{2} {b^\\dagger_{c}} b_{c}}{\\omega_{s} \\left(60 g_{3}^{2} + 288 g_{4}^{2} - 12 g_{4} \\omega_{s} + \\omega_{c} \\omega_{s} - \\omega_{s}^{2}\\right)} + \\frac{76 g_{3}^{2} {b^\\dagger_{c}} b_{c}}{\\omega_{s} \\left(- 60 g_{3}^{2} - 288 g_{4}^{2} + 12 g_{4} \\omega_{s} + \\omega_{c} \\omega_{s} + \\omega_{s}^{2}\\right)} + \\frac{54 g_{4}^{2} {b^\\dagger_{c}} b_{c}}{\\omega_{s} \\left(180 g_{3}^{2} + 864 g_{4}^{2} - 36 g_{4} \\omega_{s} + \\omega_{c} \\omega_{s} - 3 \\omega_{s}^{2}\\right)} + \\frac{54 g_{4}^{2} {b^\\dagger_{c}} b_{c}}{\\omega_{s} \\left(180 g_{3}^{2} + 864 g_{4}^{2} - 36 g_{4} \\omega_{s} - \\omega_{c} \\omega_{s} - 3 \\omega_{s}^{2}\\right)} + \\frac{36 g_{4}^{2} {b^\\dagger_{c}} b_{c}}{\\omega_{s} \\left(60 g_{3}^{2} + 288 g_{4}^{2} - 12 g_{4} \\omega_{s} + \\omega_{c} \\omega_{s} - \\omega_{s}^{2}\\right)} + \\frac{36 g_{4}^{2} {b^\\dagger_{c}} b_{c}}{\\omega_{s} \\left(60 g_{3}^{2} + 288 g_{4}^{2} - 12 g_{4} \\omega_{s} - \\omega_{c} \\omega_{s} - \\omega_{s}^{2}\\right)} + \\frac{12 g_{4} {b^\\dagger_{c}} b_{c}}{60 g_{3}^{2} + 288 g_{4}^{2} - 12 g_{4} \\omega_{s} + \\omega_{c} \\omega_{s} - \\omega_{s}^{2}} + \\frac{12 g_{4} {b^\\dagger_{c}} b_{c}}{60 g_{3}^{2} + 288 g_{4}^{2} - 12 g_{4} \\omega_{s} - \\omega_{c} \\omega_{s} - \\omega_{s}^{2}} + \\frac{\\omega_{s} {b^\\dagger_{c}} b_{c}}{60 g_{3}^{2} + 288 g_{4}^{2} - 12 g_{4} \\omega_{s} - \\omega_{c} \\omega_{s} - \\omega_{s}^{2}} + \\frac{\\omega_{s} {b^\\dagger_{c}} b_{c}}{60 g_{3}^{2} + 288 g_{4}^{2} + \\omega_{s} \\left(- 12 g_{4} + \\omega_{c} - \\omega_{s}\\right)}$"
      ],
      "text/plain": [
       "486*g3**4*CreateBoson(c)*AnnihilateBoson(c)/(omega_s**3*(180*g3**2 + 864*g4**2 - 36*g4*omega_s + omega_c*omega_s - 3*omega_s**2)) + 486*g3**4*CreateBoson(c)*AnnihilateBoson(c)/(omega_s**3*(180*g3**2 + 864*g4**2 - 36*g4*omega_s - omega_c*omega_s - 3*omega_s**2)) + 1444*g3**4*CreateBoson(c)*AnnihilateBoson(c)/(omega_s**3*(60*g3**2 + 288*g4**2 - 12*g4*omega_s + omega_c*omega_s - omega_s**2)) + 1444*g3**4*CreateBoson(c)*AnnihilateBoson(c)/(omega_s**3*(60*g3**2 + 288*g4**2 - 12*g4*omega_s - omega_c*omega_s - omega_s**2)) + 324*g3**2*g4*CreateBoson(c)*AnnihilateBoson(c)/(omega_s**2*(180*g3**2 + 864*g4**2 - 36*g4*omega_s + omega_c*omega_s - 3*omega_s**2)) + 324*g3**2*g4*CreateBoson(c)*AnnihilateBoson(c)/(omega_s**2*(180*g3**2 + 864*g4**2 - 36*g4*omega_s - omega_c*omega_s - 3*omega_s**2)) - 456*g3**2*g4*CreateBoson(c)*AnnihilateBoson(c)/(omega_s**2*(60*g3**2 + 288*g4**2 - 12*g4*omega_s + omega_c*omega_s - omega_s**2)) + 456*g3**2*g4*CreateBoson(c)*AnnihilateBoson(c)/(omega_s**2*(-60*g3**2 - 288*g4**2 + 12*g4*omega_s + omega_c*omega_s + omega_s**2)) + 32*g3**2*CreateBoson(c)*AnnihilateBoson(c)/(omega_s*(120*g3**2 + 576*g4**2 - 24*g4*omega_s + omega_c*omega_s - 2*omega_s**2)) + 32*g3**2*CreateBoson(c)*AnnihilateBoson(c)/(omega_s*(120*g3**2 + 576*g4**2 - 24*g4*omega_s - omega_c*omega_s - 2*omega_s**2)) - 76*g3**2*CreateBoson(c)*AnnihilateBoson(c)/(omega_s*(60*g3**2 + 288*g4**2 - 12*g4*omega_s + omega_c*omega_s - omega_s**2)) + 76*g3**2*CreateBoson(c)*AnnihilateBoson(c)/(omega_s*(-60*g3**2 - 288*g4**2 + 12*g4*omega_s + omega_c*omega_s + omega_s**2)) + 54*g4**2*CreateBoson(c)*AnnihilateBoson(c)/(omega_s*(180*g3**2 + 864*g4**2 - 36*g4*omega_s + omega_c*omega_s - 3*omega_s**2)) + 54*g4**2*CreateBoson(c)*AnnihilateBoson(c)/(omega_s*(180*g3**2 + 864*g4**2 - 36*g4*omega_s - omega_c*omega_s - 3*omega_s**2)) + 36*g4**2*CreateBoson(c)*AnnihilateBoson(c)/(omega_s*(60*g3**2 + 288*g4**2 - 12*g4*omega_s + omega_c*omega_s - omega_s**2)) + 36*g4**2*CreateBoson(c)*AnnihilateBoson(c)/(omega_s*(60*g3**2 + 288*g4**2 - 12*g4*omega_s - omega_c*omega_s - omega_s**2)) + 12*g4*CreateBoson(c)*AnnihilateBoson(c)/(60*g3**2 + 288*g4**2 - 12*g4*omega_s + omega_c*omega_s - omega_s**2) + 12*g4*CreateBoson(c)*AnnihilateBoson(c)/(60*g3**2 + 288*g4**2 - 12*g4*omega_s - omega_c*omega_s - omega_s**2) + omega_s*CreateBoson(c)*AnnihilateBoson(c)/(60*g3**2 + 288*g4**2 - 12*g4*omega_s - omega_c*omega_s - omega_s**2) + omega_s*CreateBoson(c)*AnnihilateBoson(c)/(60*g3**2 + 288*g4**2 + omega_s*(-12*g4 + omega_c - omega_s))"
      ]
     },
     "execution_count": 198,
     "metadata": {},
     "output_type": "execute_result"
    }
   ],
   "source": [
    "h2"
   ]
  },
  {
   "cell_type": "code",
   "execution_count": 145,
   "id": "a8afeb19",
   "metadata": {},
   "outputs": [
    {
     "data": {
      "text/latex": [
       "$\\displaystyle \\frac{\\omega_{s} {b^\\dagger_{c}} b_{c}}{- \\omega_{c} \\omega_{s} - \\omega_{s}^{2}} + x \\left(- \\frac{60 \\omega_{s}^{3} {b^\\dagger_{c}} b_{c}}{\\left(- \\omega_{c} \\omega_{s} - \\omega_{s}^{2}\\right)^{2}} + \\frac{76 \\omega_{s} {b^\\dagger_{c}} b_{c}}{\\omega_{c} \\omega_{s} + \\omega_{s}^{2}} - \\frac{76 \\omega_{s} {b^\\dagger_{c}} b_{c}}{\\omega_{c} \\omega_{s} - \\omega_{s}^{2}} + \\frac{32 \\omega_{s} {b^\\dagger_{c}} b_{c}}{\\omega_{c} \\omega_{s} - 2 \\omega_{s}^{2}} + \\frac{32 \\omega_{s} {b^\\dagger_{c}} b_{c}}{- \\omega_{c} \\omega_{s} - 2 \\omega_{s}^{2}} - \\frac{60 \\omega_{s} {b^\\dagger_{c}} b_{c}}{\\left(\\omega_{c} - \\omega_{s}\\right)^{2}}\\right) + y \\left(\\frac{12 \\omega_{s}^{3} {b^\\dagger_{c}} b_{c}}{\\left(- \\omega_{c} \\omega_{s} - \\omega_{s}^{2}\\right)^{2}} + \\frac{12 \\omega_{s} {b^\\dagger_{c}} b_{c}}{\\omega_{c} \\omega_{s} - \\omega_{s}^{2}} + \\frac{12 \\omega_{s} {b^\\dagger_{c}} b_{c}}{- \\omega_{c} \\omega_{s} - \\omega_{s}^{2}} + \\frac{12 \\omega_{s} {b^\\dagger_{c}} b_{c}}{\\left(\\omega_{c} - \\omega_{s}\\right)^{2}}\\right) + \\frac{{b^\\dagger_{c}} b_{c}}{\\omega_{c} - \\omega_{s}}$"
      ],
      "text/plain": [
       "omega_s*CreateBoson(c)*AnnihilateBoson(c)/(-omega_c*omega_s - omega_s**2) + x*(-60*omega_s**3*CreateBoson(c)*AnnihilateBoson(c)/(-omega_c*omega_s - omega_s**2)**2 + 76*omega_s*CreateBoson(c)*AnnihilateBoson(c)/(omega_c*omega_s + omega_s**2) - 76*omega_s*CreateBoson(c)*AnnihilateBoson(c)/(omega_c*omega_s - omega_s**2) + 32*omega_s*CreateBoson(c)*AnnihilateBoson(c)/(omega_c*omega_s - 2*omega_s**2) + 32*omega_s*CreateBoson(c)*AnnihilateBoson(c)/(-omega_c*omega_s - 2*omega_s**2) - 60*omega_s*CreateBoson(c)*AnnihilateBoson(c)/(omega_c - omega_s)**2) + y*(12*omega_s**3*CreateBoson(c)*AnnihilateBoson(c)/(-omega_c*omega_s - omega_s**2)**2 + 12*omega_s*CreateBoson(c)*AnnihilateBoson(c)/(omega_c*omega_s - omega_s**2) + 12*omega_s*CreateBoson(c)*AnnihilateBoson(c)/(-omega_c*omega_s - omega_s**2) + 12*omega_s*CreateBoson(c)*AnnihilateBoson(c)/(omega_c - omega_s)**2) + CreateBoson(c)*AnnihilateBoson(c)/(omega_c - omega_s)"
      ]
     },
     "execution_count": 145,
     "metadata": {},
     "output_type": "execute_result"
    }
   ],
   "source": [
    "x = symbols('x', real=True)\n",
    "y= symbols('y', real=True)\n",
    "E=E.subs(g3**2,x*omega_a**2)\n",
    "E=E.subs(g4,y*omega_a)\n",
    "from sympy import symbols, diff\n",
    "f_0 = E.subs({x: 0, y: 0})\n",
    "df_dx = diff(E, x).subs({x: 0, y: 0}) * (x - 0)\n",
    "df_dy = diff(E, y).subs({x: 0, y: 0}) * (y - 0)\n",
    "\n",
    "taylor_first_order = f_0 + df_dx + df_dy\n",
    "\n",
    "taylor_first_order"
   ]
  },
  {
   "cell_type": "code",
   "execution_count": 199,
   "id": "13a95dfa",
   "metadata": {},
   "outputs": [
    {
     "data": {
      "text/latex": [
       "$\\displaystyle \\frac{\\omega_{s} {b^\\dagger_{c}} b_{c}}{- \\omega_{c} \\omega_{s} - \\omega_{s}^{2}} + x \\left(- \\frac{60 \\omega_{s}^{3} {b^\\dagger_{c}} b_{c}}{\\left(- \\omega_{c} \\omega_{s} - \\omega_{s}^{2}\\right)^{2}} + \\frac{76 \\omega_{s} {b^\\dagger_{c}} b_{c}}{\\omega_{c} \\omega_{s} + \\omega_{s}^{2}} - \\frac{76 \\omega_{s} {b^\\dagger_{c}} b_{c}}{\\omega_{c} \\omega_{s} - \\omega_{s}^{2}} + \\frac{32 \\omega_{s} {b^\\dagger_{c}} b_{c}}{\\omega_{c} \\omega_{s} - 2 \\omega_{s}^{2}} + \\frac{32 \\omega_{s} {b^\\dagger_{c}} b_{c}}{- \\omega_{c} \\omega_{s} - 2 \\omega_{s}^{2}} - \\frac{60 \\omega_{s} {b^\\dagger_{c}} b_{c}}{\\left(\\omega_{c} - \\omega_{s}\\right)^{2}}\\right) + y \\left(\\frac{12 \\omega_{s}^{3} {b^\\dagger_{c}} b_{c}}{\\left(- \\omega_{c} \\omega_{s} - \\omega_{s}^{2}\\right)^{2}} + \\frac{12 \\omega_{s} {b^\\dagger_{c}} b_{c}}{\\omega_{c} \\omega_{s} - \\omega_{s}^{2}} + \\frac{12 \\omega_{s} {b^\\dagger_{c}} b_{c}}{- \\omega_{c} \\omega_{s} - \\omega_{s}^{2}} + \\frac{12 \\omega_{s} {b^\\dagger_{c}} b_{c}}{\\left(\\omega_{c} - \\omega_{s}\\right)^{2}}\\right) + \\frac{{b^\\dagger_{c}} b_{c}}{\\omega_{c} - \\omega_{s}}$"
      ],
      "text/plain": [
       "omega_s*CreateBoson(c)*AnnihilateBoson(c)/(-omega_c*omega_s - omega_s**2) + x*(-60*omega_s**3*CreateBoson(c)*AnnihilateBoson(c)/(-omega_c*omega_s - omega_s**2)**2 + 76*omega_s*CreateBoson(c)*AnnihilateBoson(c)/(omega_c*omega_s + omega_s**2) - 76*omega_s*CreateBoson(c)*AnnihilateBoson(c)/(omega_c*omega_s - omega_s**2) + 32*omega_s*CreateBoson(c)*AnnihilateBoson(c)/(omega_c*omega_s - 2*omega_s**2) + 32*omega_s*CreateBoson(c)*AnnihilateBoson(c)/(-omega_c*omega_s - 2*omega_s**2) - 60*omega_s*CreateBoson(c)*AnnihilateBoson(c)/(omega_c - omega_s)**2) + y*(12*omega_s**3*CreateBoson(c)*AnnihilateBoson(c)/(-omega_c*omega_s - omega_s**2)**2 + 12*omega_s*CreateBoson(c)*AnnihilateBoson(c)/(omega_c*omega_s - omega_s**2) + 12*omega_s*CreateBoson(c)*AnnihilateBoson(c)/(-omega_c*omega_s - omega_s**2) + 12*omega_s*CreateBoson(c)*AnnihilateBoson(c)/(omega_c - omega_s)**2) + CreateBoson(c)*AnnihilateBoson(c)/(omega_c - omega_s)"
      ]
     },
     "execution_count": 199,
     "metadata": {},
     "output_type": "execute_result"
    }
   ],
   "source": [
    "x = symbols('x', real=True)\n",
    "y= symbols('y', real=True)\n",
    "E=E.subs(g3**2,x*omega_a**2)\n",
    "E=E.subs(g4,y*omega_a)\n",
    "from sympy import symbols, diff\n",
    "f_0 = E.subs({x: 0, y: 0})\n",
    "df_dx = diff(E, x).subs({x: 0, y: 0}) * (x - 0)\n",
    "df_dy = diff(E, y).subs({x: 0, y: 0}) * (y - 0)\n",
    "\n",
    "taylor_first_order = f_0 + df_dx + df_dy\n",
    "\n",
    "taylor_first_order"
   ]
  },
  {
   "cell_type": "code",
   "execution_count": 202,
   "id": "8c7e1fa2",
   "metadata": {},
   "outputs": [],
   "source": [
    "result = taylor_first_order.expand().coeff(bd*b).subs(y,g4/omega_a).subs(x,g3**2/omega_a**2)"
   ]
  },
  {
   "cell_type": "code",
   "execution_count": 225,
   "id": "d8b24cc5",
   "metadata": {},
   "outputs": [
    {
     "data": {
      "text/latex": [
       "$\\displaystyle - \\frac{60 g_{3}^{2} \\omega_{s}}{\\omega_{c}^{2} \\omega_{s}^{2} + 2 \\omega_{c} \\omega_{s}^{3} + \\omega_{s}^{4}} - \\frac{60 g_{3}^{2}}{\\omega_{s} \\left(\\omega_{c}^{2} - 2 \\omega_{c} \\omega_{s} + \\omega_{s}^{2}\\right)} + \\frac{76 g_{3}^{2}}{\\omega_{s} \\left(\\omega_{c} \\omega_{s} + \\omega_{s}^{2}\\right)} - \\frac{76 g_{3}^{2}}{\\omega_{s} \\left(\\omega_{c} \\omega_{s} - \\omega_{s}^{2}\\right)} + \\frac{32 g_{3}^{2}}{\\omega_{s} \\left(\\omega_{c} \\omega_{s} - 2 \\omega_{s}^{2}\\right)} + \\frac{32 g_{3}^{2}}{\\omega_{s} \\left(- \\omega_{c} \\omega_{s} - 2 \\omega_{s}^{2}\\right)} + \\frac{12 g_{4} \\omega_{s}^{2}}{\\omega_{c}^{2} \\omega_{s}^{2} + 2 \\omega_{c} \\omega_{s}^{3} + \\omega_{s}^{4}} + \\frac{12 g_{4}}{\\omega_{c}^{2} - 2 \\omega_{c} \\omega_{s} + \\omega_{s}^{2}} + \\frac{12 g_{4}}{\\omega_{c} \\omega_{s} - \\omega_{s}^{2}} + \\frac{12 g_{4}}{- \\omega_{c} \\omega_{s} - \\omega_{s}^{2}} + \\frac{\\omega_{s}}{- \\omega_{c} \\omega_{s} - \\omega_{s}^{2}} + \\frac{1}{\\omega_{c} - \\omega_{s}}$"
      ],
      "text/plain": [
       "-60*g3**2*omega_s/(omega_c**2*omega_s**2 + 2*omega_c*omega_s**3 + omega_s**4) - 60*g3**2/(omega_s*(omega_c**2 - 2*omega_c*omega_s + omega_s**2)) + 76*g3**2/(omega_s*(omega_c*omega_s + omega_s**2)) - 76*g3**2/(omega_s*(omega_c*omega_s - omega_s**2)) + 32*g3**2/(omega_s*(omega_c*omega_s - 2*omega_s**2)) + 32*g3**2/(omega_s*(-omega_c*omega_s - 2*omega_s**2)) + 12*g4*omega_s**2/(omega_c**2*omega_s**2 + 2*omega_c*omega_s**3 + omega_s**4) + 12*g4/(omega_c**2 - 2*omega_c*omega_s + omega_s**2) + 12*g4/(omega_c*omega_s - omega_s**2) + 12*g4/(-omega_c*omega_s - omega_s**2) + omega_s/(-omega_c*omega_s - omega_s**2) + 1/(omega_c - omega_s)"
      ]
     },
     "execution_count": 225,
     "metadata": {},
     "output_type": "execute_result"
    }
   ],
   "source": [
    "result"
   ]
  },
  {
   "cell_type": "code",
   "execution_count": 227,
   "id": "9d2dc15c",
   "metadata": {},
   "outputs": [],
   "source": [
    "import qutip as qt\n",
    "qt.qsave(result, '../charge-coupling/ec')"
   ]
  },
  {
   "cell_type": "code",
   "execution_count": null,
   "id": "ad4bdd45",
   "metadata": {},
   "outputs": [],
   "source": []
  }
 ],
 "metadata": {
  "kernelspec": {
   "display_name": "Python 3 (ipykernel)",
   "language": "python",
   "name": "python3"
  },
  "language_info": {
   "codemirror_mode": {
    "name": "ipython",
    "version": 3
   },
   "file_extension": ".py",
   "mimetype": "text/x-python",
   "name": "python",
   "nbconvert_exporter": "python",
   "pygments_lexer": "ipython3",
   "version": "3.8.3"
  }
 },
 "nbformat": 4,
 "nbformat_minor": 5
}
