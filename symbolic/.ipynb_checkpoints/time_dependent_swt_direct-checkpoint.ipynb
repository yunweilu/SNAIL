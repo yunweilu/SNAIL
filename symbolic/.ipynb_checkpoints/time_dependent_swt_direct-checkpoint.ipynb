{
 "cells": [
  {
   "cell_type": "code",
   "execution_count": 1,
   "id": "27ca754a-9d30-4a6d-8054-db633309ef22",
   "metadata": {
    "execution": {
     "iopub.execute_input": "2023-09-18T17:34:06.006542Z",
     "iopub.status.busy": "2023-09-18T17:34:06.006428Z",
     "iopub.status.idle": "2023-09-18T17:34:06.268675Z",
     "shell.execute_reply": "2023-09-18T17:34:06.268393Z",
     "shell.execute_reply.started": "2023-09-18T17:34:06.006524Z"
    },
    "tags": []
   },
   "outputs": [],
   "source": [
    "from sympy.physics.secondquant import *\n",
    "from sympy import symbols, I\n",
    "import sympy as sp\n",
    "from no import normal\n",
    "from sympy import exp"
   ]
  },
  {
   "cell_type": "code",
   "execution_count": 2,
   "id": "bee929bb-cb95-42cf-8cfc-b637ef21834a",
   "metadata": {
    "execution": {
     "iopub.execute_input": "2023-09-18T17:34:06.269930Z",
     "iopub.status.busy": "2023-09-18T17:34:06.269812Z",
     "iopub.status.idle": "2023-09-18T17:34:06.272079Z",
     "shell.execute_reply": "2023-09-18T17:34:06.271760Z",
     "shell.execute_reply.started": "2023-09-18T17:34:06.269921Z"
    },
    "tags": []
   },
   "outputs": [],
   "source": [
    "ind_a = symbols('a')\n",
    "a = B(ind_a)\n",
    "ad = Bd(ind_a)"
   ]
  },
  {
   "cell_type": "code",
   "execution_count": 3,
   "id": "bd55f7a7-b1e1-4a35-94cb-263462a7bec0",
   "metadata": {
    "execution": {
     "iopub.execute_input": "2023-09-18T17:34:06.272565Z",
     "iopub.status.busy": "2023-09-18T17:34:06.272476Z",
     "iopub.status.idle": "2023-09-18T17:34:06.274933Z",
     "shell.execute_reply": "2023-09-18T17:34:06.274637Z",
     "shell.execute_reply.started": "2023-09-18T17:34:06.272557Z"
    },
    "tags": []
   },
   "outputs": [],
   "source": [
    "g4 = symbols('g4', real=True)\n",
    "g3 = symbols('g3', real=True)\n",
    "w_t = symbols('w_t', real=True)\n",
    "omega_a = symbols('w_s', real=True)\n",
    "omega_d = symbols('w_d', real=True)\n",
    "t = symbols('t', real=True)\n",
    "eta = symbols('eta', real=False)\n",
    "kappa = symbols('kappa', real=True)"
   ]
  },
  {
   "cell_type": "code",
   "execution_count": 4,
   "id": "86e082c8-2981-467e-abfc-fc96b02e9e6c",
   "metadata": {
    "execution": {
     "iopub.execute_input": "2023-09-18T17:34:06.275557Z",
     "iopub.status.busy": "2023-09-18T17:34:06.275445Z",
     "iopub.status.idle": "2023-09-18T17:34:06.277925Z",
     "shell.execute_reply": "2023-09-18T17:34:06.277625Z",
     "shell.execute_reply.started": "2023-09-18T17:34:06.275548Z"
    },
    "tags": []
   },
   "outputs": [],
   "source": [
    "h0 =omega_a * ad * a"
   ]
  },
  {
   "cell_type": "code",
   "execution_count": 5,
   "id": "cb9a2f02-ca22-4202-abce-288d7892ccba",
   "metadata": {
    "execution": {
     "iopub.execute_input": "2023-09-18T17:34:11.691132Z",
     "iopub.status.busy": "2023-09-18T17:34:11.690451Z",
     "iopub.status.idle": "2023-09-18T17:34:11.798487Z",
     "shell.execute_reply": "2023-09-18T17:34:11.798172Z",
     "shell.execute_reply.started": "2023-09-18T17:34:11.691086Z"
    },
    "tags": []
   },
   "outputs": [],
   "source": [
    "v = normal(g3*(a + ad + eta*exp(-I*omega_d*t) + eta.conjugate()*exp(I*omega_d*t))**3 +g4 * (a + ad + eta*exp(-I*omega_d*t) + eta.conjugate()*exp(I*omega_d*t))**4  )"
   ]
  },
  {
   "cell_type": "markdown",
   "id": "6d99629b-96b8-4139-bb1e-2af74528d302",
   "metadata": {},
   "source": [
    "### obtain $\\hat{H}_1$"
   ]
  },
  {
   "cell_type": "code",
   "execution_count": 6,
   "id": "1868fc98-9273-429a-a29d-fb50ee3c5f61",
   "metadata": {
    "execution": {
     "iopub.execute_input": "2023-09-18T17:34:13.078193Z",
     "iopub.status.busy": "2023-09-18T17:34:13.077237Z",
     "iopub.status.idle": "2023-09-18T17:34:13.089826Z",
     "shell.execute_reply": "2023-09-18T17:34:13.088794Z",
     "shell.execute_reply.started": "2023-09-18T17:34:13.078139Z"
    },
    "tags": []
   },
   "outputs": [],
   "source": [
    "v1 = v*1"
   ]
  },
  {
   "cell_type": "code",
   "execution_count": 7,
   "id": "8e484b4f-c180-4f7d-86b4-82445d4ef982",
   "metadata": {
    "execution": {
     "iopub.execute_input": "2023-09-18T17:34:13.647035Z",
     "iopub.status.busy": "2023-09-18T17:34:13.646612Z",
     "iopub.status.idle": "2023-09-18T17:34:13.657224Z",
     "shell.execute_reply": "2023-09-18T17:34:13.656744Z",
     "shell.execute_reply.started": "2023-09-18T17:34:13.646982Z"
    },
    "tags": []
   },
   "outputs": [],
   "source": [
    "temp = 0\n",
    "for term in v1.args:\n",
    "    if term.as_powers_dict()[ad] == term.as_powers_dict()[a]:\n",
    "        temp += term\n",
    "h1 = temp * 1"
   ]
  },
  {
   "cell_type": "code",
   "execution_count": 8,
   "id": "e2221933-1754-46e0-a0be-88ebccc92a60",
   "metadata": {
    "execution": {
     "iopub.execute_input": "2023-09-18T17:34:14.073718Z",
     "iopub.status.busy": "2023-09-18T17:34:14.073340Z",
     "iopub.status.idle": "2023-09-18T17:34:14.102715Z",
     "shell.execute_reply": "2023-09-18T17:34:14.102338Z",
     "shell.execute_reply.started": "2023-09-18T17:34:14.073695Z"
    },
    "tags": []
   },
   "outputs": [
    {
     "data": {
      "text/latex": [
       "$\\displaystyle \\eta^{4} g_{4} e^{- 4 i t w_{d}} + \\eta^{3} g_{3} e^{- 3 i t w_{d}} + 4 \\eta^{3} g_{4} e^{- 2 i t w_{d}} \\overline{\\eta} + 3 \\eta^{2} g_{3} e^{- i t w_{d}} \\overline{\\eta} + 6 \\eta^{2} g_{4} \\overline{\\eta}^{2} + 6 \\eta^{2} g_{4} e^{- 2 i t w_{d}} + 12 \\eta^{2} g_{4} e^{- 2 i t w_{d}} {b^\\dagger_{a}} b_{a} + 3 \\eta g_{3} e^{i t w_{d}} \\overline{\\eta}^{2} + 3 \\eta g_{3} e^{- i t w_{d}} + 6 \\eta g_{3} e^{- i t w_{d}} {b^\\dagger_{a}} b_{a} + 4 \\eta g_{4} e^{2 i t w_{d}} \\overline{\\eta}^{3} + 12 \\eta g_{4} \\overline{\\eta} + 24 \\eta g_{4} \\overline{\\eta} {b^\\dagger_{a}} b_{a} + g_{3} e^{3 i t w_{d}} \\overline{\\eta}^{3} + 3 g_{3} e^{i t w_{d}} \\overline{\\eta} + 6 g_{3} e^{i t w_{d}} \\overline{\\eta} {b^\\dagger_{a}} b_{a} + g_{4} e^{4 i t w_{d}} \\overline{\\eta}^{4} + 6 g_{4} e^{2 i t w_{d}} \\overline{\\eta}^{2} + 12 g_{4} e^{2 i t w_{d}} \\overline{\\eta}^{2} {b^\\dagger_{a}} b_{a} + 3 g_{4} + 12 g_{4} {b^\\dagger_{a}} b_{a} + 6 g_{4} {b^\\dagger_{a}}^{2} b_{a}^{2}$"
      ],
      "text/plain": [
       "eta**4*g4*exp(-4*I*t*w_d) + eta**3*g3*exp(-3*I*t*w_d) + 4*eta**3*g4*exp(-2*I*t*w_d)*conjugate(eta) + 3*eta**2*g3*exp(-I*t*w_d)*conjugate(eta) + 6*eta**2*g4*conjugate(eta)**2 + 6*eta**2*g4*exp(-2*I*t*w_d) + 12*eta**2*g4*exp(-2*I*t*w_d)*CreateBoson(a)*AnnihilateBoson(a) + 3*eta*g3*exp(I*t*w_d)*conjugate(eta)**2 + 3*eta*g3*exp(-I*t*w_d) + 6*eta*g3*exp(-I*t*w_d)*CreateBoson(a)*AnnihilateBoson(a) + 4*eta*g4*exp(2*I*t*w_d)*conjugate(eta)**3 + 12*eta*g4*conjugate(eta) + 24*eta*g4*conjugate(eta)*CreateBoson(a)*AnnihilateBoson(a) + g3*exp(3*I*t*w_d)*conjugate(eta)**3 + 3*g3*exp(I*t*w_d)*conjugate(eta) + 6*g3*exp(I*t*w_d)*conjugate(eta)*CreateBoson(a)*AnnihilateBoson(a) + g4*exp(4*I*t*w_d)*conjugate(eta)**4 + 6*g4*exp(2*I*t*w_d)*conjugate(eta)**2 + 12*g4*exp(2*I*t*w_d)*conjugate(eta)**2*CreateBoson(a)*AnnihilateBoson(a) + 3*g4 + 12*g4*CreateBoson(a)*AnnihilateBoson(a) + 6*g4*CreateBoson(a)**2*AnnihilateBoson(a)**2"
      ]
     },
     "execution_count": 8,
     "metadata": {},
     "output_type": "execute_result"
    }
   ],
   "source": [
    "h1"
   ]
  },
  {
   "cell_type": "code",
   "execution_count": 9,
   "id": "4cab389b-ba66-43bf-b7d5-0201ac095b67",
   "metadata": {
    "execution": {
     "iopub.execute_input": "2023-09-18T17:34:16.096880Z",
     "iopub.status.busy": "2023-09-18T17:34:16.096447Z",
     "iopub.status.idle": "2023-09-18T17:34:16.108426Z",
     "shell.execute_reply": "2023-09-18T17:34:16.107277Z",
     "shell.execute_reply.started": "2023-09-18T17:34:16.096856Z"
    },
    "tags": []
   },
   "outputs": [],
   "source": [
    "temp = 0\n",
    "for term in h1.args:\n",
    "    if term.as_powers_dict()[eta] == term.as_powers_dict()[eta.conjugate()]:\n",
    "        temp += term\n",
    "h1_ti = temp * 1"
   ]
  },
  {
   "cell_type": "code",
   "execution_count": 10,
   "id": "143fca87-8842-426f-b519-1458ac8972f6",
   "metadata": {
    "execution": {
     "iopub.execute_input": "2023-09-18T17:34:16.423589Z",
     "iopub.status.busy": "2023-09-18T17:34:16.423201Z",
     "iopub.status.idle": "2023-09-18T17:34:16.438828Z",
     "shell.execute_reply": "2023-09-18T17:34:16.437563Z",
     "shell.execute_reply.started": "2023-09-18T17:34:16.423562Z"
    },
    "tags": []
   },
   "outputs": [
    {
     "data": {
      "text/latex": [
       "$\\displaystyle 6 \\eta^{2} g_{4} \\overline{\\eta}^{2} + 12 \\eta g_{4} \\overline{\\eta} + 24 \\eta g_{4} \\overline{\\eta} {b^\\dagger_{a}} b_{a} + 3 g_{4} + 12 g_{4} {b^\\dagger_{a}} b_{a} + 6 g_{4} {b^\\dagger_{a}}^{2} b_{a}^{2}$"
      ],
      "text/plain": [
       "6*eta**2*g4*conjugate(eta)**2 + 12*eta*g4*conjugate(eta) + 24*eta*g4*conjugate(eta)*CreateBoson(a)*AnnihilateBoson(a) + 3*g4 + 12*g4*CreateBoson(a)*AnnihilateBoson(a) + 6*g4*CreateBoson(a)**2*AnnihilateBoson(a)**2"
      ]
     },
     "execution_count": 10,
     "metadata": {},
     "output_type": "execute_result"
    }
   ],
   "source": [
    "h1_ti"
   ]
  },
  {
   "cell_type": "markdown",
   "id": "b9b1ca1b-47cc-4692-a118-305b06a20ba6",
   "metadata": {},
   "source": [
    "### obtain up to $\\hat{H}_2$"
   ]
  },
  {
   "cell_type": "code",
   "execution_count": 11,
   "id": "d6af1876-eee8-4634-af64-2741d34404ea",
   "metadata": {
    "execution": {
     "iopub.execute_input": "2023-09-19T02:35:24.056727Z",
     "iopub.status.busy": "2023-09-19T02:35:24.056543Z",
     "iopub.status.idle": "2023-09-19T02:35:24.126701Z",
     "shell.execute_reply": "2023-09-19T02:35:24.126344Z",
     "shell.execute_reply.started": "2023-09-19T02:35:24.056714Z"
    },
    "tags": []
   },
   "outputs": [],
   "source": [
    "temp = 0\n",
    "for term in (v1-h1).args:\n",
    "    if (term.as_powers_dict()[ad] != term.as_powers_dict()[a] or \n",
    "        term.as_powers_dict()[eta] != term.as_powers_dict()[eta.conjugate()]):\n",
    "        \n",
    "        temp += term / (omega_a * (term.as_powers_dict()[ad] - term.as_powers_dict()[a]) + \n",
    "                        omega_d* (term.as_powers_dict()[eta.conjugate()] - term.as_powers_dict()[eta]) )\n",
    "s1= normal(temp) * 1"
   ]
  },
  {
   "cell_type": "code",
   "execution_count": 12,
   "id": "db049298-86f3-4db4-a574-8c6864c4d9be",
   "metadata": {
    "execution": {
     "iopub.execute_input": "2023-09-19T02:35:25.224969Z",
     "iopub.status.busy": "2023-09-19T02:35:25.224767Z",
     "iopub.status.idle": "2023-09-19T02:35:25.227989Z",
     "shell.execute_reply": "2023-09-19T02:35:25.227563Z",
     "shell.execute_reply.started": "2023-09-19T02:35:25.224955Z"
    },
    "tags": []
   },
   "outputs": [],
   "source": [
    "s_tot_1 = s1\n",
    "sd_tot_1 = sp.diff(s_tot_1, t)"
   ]
  },
  {
   "cell_type": "code",
   "execution_count": 13,
   "id": "462c5c54",
   "metadata": {},
   "outputs": [],
   "source": [
    "omega_sp=h1.coeff(ad*a)\n",
    "s1c = normal(Commutator(s1, a+ad).doit() )"
   ]
  },
  {
   "cell_type": "code",
   "execution_count": 14,
   "id": "cfa15315",
   "metadata": {},
   "outputs": [],
   "source": [
    "ind_b = symbols('c')\n",
    "b = B(ind_b)\n",
    "bd = Bd(ind_b)\n",
    "omega_b = symbols('omega_c', real=True)\n",
    "def _m_normal(expr):\n",
    "    if not expr.is_Mul:\n",
    "        return expr\n",
    "    else:\n",
    "        c_part = []\n",
    "        string = []\n",
    "        for factor in expr.args:\n",
    "            if factor.is_commutative:\n",
    "                c_part.append(factor)\n",
    "            else:\n",
    "                string.append(factor)\n",
    "                \n",
    "        expr_a = 1\n",
    "        expr_b = 1\n",
    "        expr_c = 1\n",
    "        \n",
    "        for factor in string:\n",
    "            if factor.is_Pow:\n",
    "                if factor.args[0].args[0] == ind_a:\n",
    "                    expr_a *= factor\n",
    "                elif factor.args[0].args[0] == ind_b:\n",
    "                    expr_b *= factor\n",
    "                else:\n",
    "                    expr_c *= factor\n",
    "            else:\n",
    "                if factor.args[0] == ind_a:\n",
    "                    expr_a *= factor\n",
    "                elif factor.args[0] == ind_b:\n",
    "                    expr_b *= factor\n",
    "                else:\n",
    "                    expr_c *= factor\n",
    "                    \n",
    "        if expr_a != 1:\n",
    "            expr_a = normal(expr_a)\n",
    "        if expr_b != 1:\n",
    "            expr_b = normal(expr_b)\n",
    "        if expr_c != 1:\n",
    "            expr_c = normal(expr_c)\n",
    "    \n",
    "        return sp.Mul(*c_part) * expr_a * expr_b * expr_c    \n",
    "\n",
    "def m_normal(expr):\n",
    "    expr = expr.expand()\n",
    "    if isinstance(expr, sp.Add):\n",
    "        return sp.Add(*[_m_normal(term) for term in expr.args])\n",
    "    else:\n",
    "        return _m_normal(expr)"
   ]
  },
  {
   "cell_type": "code",
   "execution_count": 15,
   "id": "ba450734",
   "metadata": {},
   "outputs": [],
   "source": [
    "h0 = omega_sp * ad * a+ omega_b*bd*b\n",
    "v = (a+ad+s1c)*(b+bd)"
   ]
  },
  {
   "cell_type": "code",
   "execution_count": 16,
   "id": "246f166a",
   "metadata": {},
   "outputs": [],
   "source": [
    "v = m_normal(v)"
   ]
  },
  {
   "cell_type": "code",
   "execution_count": 21,
   "id": "137b46ef",
   "metadata": {},
   "outputs": [],
   "source": [
    "v1 = v\n",
    "temp = 0\n",
    "for term in v1.args:\n",
    "    if term.as_powers_dict()[ad] == term.as_powers_dict()[a] and term.as_powers_dict()[bd] == term.as_powers_dict()[b]:\n",
    "        temp += term\n",
    "h1 = temp * 1\n",
    "temp = 0\n",
    "for term in (v1-h1).args:\n",
    "    if (term.as_powers_dict()[ad] != term.as_powers_dict()[a] or \n",
    "        term.as_powers_dict()[bd] != term.as_powers_dict()[b]  ):\n",
    "        \n",
    "        temp += term / (omega_a * (term.as_powers_dict()[ad] - term.as_powers_dict()[a]) +\n",
    "                        omega_b * (term.as_powers_dict()[bd] - term.as_powers_dict()[b])  )\n",
    "s1 = temp * 1"
   ]
  },
  {
   "cell_type": "code",
   "execution_count": null,
   "id": "77baa285",
   "metadata": {},
   "outputs": [],
   "source": []
  },
  {
   "cell_type": "code",
   "execution_count": 55,
   "id": "38f5d40c",
   "metadata": {},
   "outputs": [
    {
     "ename": "TypeError",
     "evalue": "'tuple' object does not support item assignment",
     "output_type": "error",
     "traceback": [
      "\u001b[0;31m---------------------------------------------------------------------------\u001b[0m",
      "\u001b[0;31mTypeError\u001b[0m                                 Traceback (most recent call last)",
      "Input \u001b[0;32mIn [55]\u001b[0m, in \u001b[0;36m<module>\u001b[0;34m\u001b[0m\n\u001b[1;32m      1\u001b[0m v2 \u001b[38;5;241m=\u001b[39m m_normal(Commutator(s1,v1)\u001b[38;5;241m.\u001b[39mdoit() )\n\u001b[1;32m      2\u001b[0m \u001b[38;5;28;01mfor\u001b[39;00m i \u001b[38;5;129;01min\u001b[39;00m \u001b[38;5;28mrange\u001b[39m(\u001b[38;5;28mlen\u001b[39m(v2\u001b[38;5;241m.\u001b[39margs)):\n\u001b[0;32m----> 3\u001b[0m     v2\u001b[38;5;241m.\u001b[39margs[i] \u001b[38;5;241m=\u001b[39m sp\u001b[38;5;241m.\u001b[39mRational(\u001b[38;5;241m1\u001b[39m,\u001b[38;5;241m2\u001b[39m)\u001b[38;5;241m*\u001b[39mv2\u001b[38;5;241m.\u001b[39margs[i]\n",
      "\u001b[0;31mTypeError\u001b[0m: 'tuple' object does not support item assignment"
     ]
    }
   ],
   "source": [
    "v2 = m_normal(Commutator(s1,v1).doit() )"
   ]
  },
  {
   "cell_type": "code",
   "execution_count": 60,
   "id": "2de3179b",
   "metadata": {},
   "outputs": [
    {
     "ename": "KeyboardInterrupt",
     "evalue": "",
     "output_type": "error",
     "traceback": [
      "\u001b[0;31m---------------------------------------------------------------------------\u001b[0m",
      "\u001b[0;31mKeyboardInterrupt\u001b[0m                         Traceback (most recent call last)",
      "Input \u001b[0;32mIn [60]\u001b[0m, in \u001b[0;36m<module>\u001b[0;34m\u001b[0m\n\u001b[1;32m      1\u001b[0m temp \u001b[38;5;241m=\u001b[39m \u001b[38;5;241m0\u001b[39m\n\u001b[1;32m      2\u001b[0m \u001b[38;5;28;01mfor\u001b[39;00m i \u001b[38;5;129;01min\u001b[39;00m \u001b[38;5;28mrange\u001b[39m(\u001b[38;5;28mlen\u001b[39m(v2\u001b[38;5;241m.\u001b[39margs)):\n\u001b[0;32m----> 3\u001b[0m     temp\u001b[38;5;241m+\u001b[39m\u001b[38;5;241m=\u001b[39m sp\u001b[38;5;241m.\u001b[39mRational(\u001b[38;5;241m1\u001b[39m,\u001b[38;5;241m2\u001b[39m)\u001b[38;5;241m*\u001b[39mv2\u001b[38;5;241m.\u001b[39margs[i]\n",
      "File \u001b[0;32m~/miniconda3/lib/python3.8/site-packages/sympy/core/decorators.py:236\u001b[0m, in \u001b[0;36m_SympifyWrapper.make_wrapped.<locals>._func\u001b[0;34m(self, other)\u001b[0m\n\u001b[1;32m    234\u001b[0m \u001b[38;5;28;01mif\u001b[39;00m \u001b[38;5;129;01mnot\u001b[39;00m \u001b[38;5;28misinstance\u001b[39m(other, expectedcls):\n\u001b[1;32m    235\u001b[0m     \u001b[38;5;28;01mreturn\u001b[39;00m retval\n\u001b[0;32m--> 236\u001b[0m \u001b[38;5;28;01mreturn\u001b[39;00m \u001b[43mfunc\u001b[49m\u001b[43m(\u001b[49m\u001b[38;5;28;43mself\u001b[39;49m\u001b[43m,\u001b[49m\u001b[43m \u001b[49m\u001b[43mother\u001b[49m\u001b[43m)\u001b[49m\n",
      "File \u001b[0;32m~/miniconda3/lib/python3.8/site-packages/sympy/core/decorators.py:106\u001b[0m, in \u001b[0;36mcall_highest_priority.<locals>.priority_decorator.<locals>.binary_op_wrapper\u001b[0;34m(self, other)\u001b[0m\n\u001b[1;32m    104\u001b[0m         \u001b[38;5;28;01mif\u001b[39;00m f \u001b[38;5;129;01mis\u001b[39;00m \u001b[38;5;129;01mnot\u001b[39;00m \u001b[38;5;28;01mNone\u001b[39;00m:\n\u001b[1;32m    105\u001b[0m             \u001b[38;5;28;01mreturn\u001b[39;00m f(\u001b[38;5;28mself\u001b[39m)\n\u001b[0;32m--> 106\u001b[0m \u001b[38;5;28;01mreturn\u001b[39;00m \u001b[43mfunc\u001b[49m\u001b[43m(\u001b[49m\u001b[38;5;28;43mself\u001b[39;49m\u001b[43m,\u001b[49m\u001b[43m \u001b[49m\u001b[43mother\u001b[49m\u001b[43m)\u001b[49m\n",
      "File \u001b[0;32m~/miniconda3/lib/python3.8/site-packages/sympy/core/expr.py:198\u001b[0m, in \u001b[0;36mExpr.__add__\u001b[0;34m(self, other)\u001b[0m\n\u001b[1;32m    195\u001b[0m \u001b[38;5;129m@sympify_return\u001b[39m([(\u001b[38;5;124m'\u001b[39m\u001b[38;5;124mother\u001b[39m\u001b[38;5;124m'\u001b[39m, \u001b[38;5;124m'\u001b[39m\u001b[38;5;124mExpr\u001b[39m\u001b[38;5;124m'\u001b[39m)], \u001b[38;5;28mNotImplemented\u001b[39m)\n\u001b[1;32m    196\u001b[0m \u001b[38;5;129m@call_highest_priority\u001b[39m(\u001b[38;5;124m'\u001b[39m\u001b[38;5;124m__radd__\u001b[39m\u001b[38;5;124m'\u001b[39m)\n\u001b[1;32m    197\u001b[0m \u001b[38;5;28;01mdef\u001b[39;00m \u001b[38;5;21m__add__\u001b[39m(\u001b[38;5;28mself\u001b[39m, other):\n\u001b[0;32m--> 198\u001b[0m     \u001b[38;5;28;01mreturn\u001b[39;00m \u001b[43mAdd\u001b[49m\u001b[43m(\u001b[49m\u001b[38;5;28;43mself\u001b[39;49m\u001b[43m,\u001b[49m\u001b[43m \u001b[49m\u001b[43mother\u001b[49m\u001b[43m)\u001b[49m\n",
      "File \u001b[0;32m~/miniconda3/lib/python3.8/site-packages/sympy/core/cache.py:70\u001b[0m, in \u001b[0;36m__cacheit.<locals>.func_wrapper.<locals>.wrapper\u001b[0;34m(*args, **kwargs)\u001b[0m\n\u001b[1;32m     67\u001b[0m \u001b[38;5;129m@wraps\u001b[39m(func)\n\u001b[1;32m     68\u001b[0m \u001b[38;5;28;01mdef\u001b[39;00m \u001b[38;5;21mwrapper\u001b[39m(\u001b[38;5;241m*\u001b[39margs, \u001b[38;5;241m*\u001b[39m\u001b[38;5;241m*\u001b[39mkwargs):\n\u001b[1;32m     69\u001b[0m     \u001b[38;5;28;01mtry\u001b[39;00m:\n\u001b[0;32m---> 70\u001b[0m         retval \u001b[38;5;241m=\u001b[39m \u001b[43mcfunc\u001b[49m\u001b[43m(\u001b[49m\u001b[38;5;241;43m*\u001b[39;49m\u001b[43margs\u001b[49m\u001b[43m,\u001b[49m\u001b[43m \u001b[49m\u001b[38;5;241;43m*\u001b[39;49m\u001b[38;5;241;43m*\u001b[39;49m\u001b[43mkwargs\u001b[49m\u001b[43m)\u001b[49m\n\u001b[1;32m     71\u001b[0m     \u001b[38;5;28;01mexcept\u001b[39;00m \u001b[38;5;167;01mTypeError\u001b[39;00m \u001b[38;5;28;01mas\u001b[39;00m e:\n\u001b[1;32m     72\u001b[0m         \u001b[38;5;28;01mif\u001b[39;00m \u001b[38;5;129;01mnot\u001b[39;00m e\u001b[38;5;241m.\u001b[39margs \u001b[38;5;129;01mor\u001b[39;00m \u001b[38;5;129;01mnot\u001b[39;00m e\u001b[38;5;241m.\u001b[39margs[\u001b[38;5;241m0\u001b[39m]\u001b[38;5;241m.\u001b[39mstartswith(\u001b[38;5;124m'\u001b[39m\u001b[38;5;124munhashable type:\u001b[39m\u001b[38;5;124m'\u001b[39m):\n",
      "File \u001b[0;32m~/miniconda3/lib/python3.8/site-packages/sympy/core/operations.py:98\u001b[0m, in \u001b[0;36mAssocOp.__new__\u001b[0;34m(cls, evaluate, _sympify, *args)\u001b[0m\n\u001b[1;32m     95\u001b[0m \u001b[38;5;28;01mif\u001b[39;00m \u001b[38;5;28mlen\u001b[39m(args) \u001b[38;5;241m==\u001b[39m \u001b[38;5;241m1\u001b[39m:\n\u001b[1;32m     96\u001b[0m     \u001b[38;5;28;01mreturn\u001b[39;00m args[\u001b[38;5;241m0\u001b[39m]\n\u001b[0;32m---> 98\u001b[0m c_part, nc_part, order_symbols \u001b[38;5;241m=\u001b[39m \u001b[38;5;28;43mcls\u001b[39;49m\u001b[38;5;241;43m.\u001b[39;49m\u001b[43mflatten\u001b[49m\u001b[43m(\u001b[49m\u001b[43margs\u001b[49m\u001b[43m)\u001b[49m\n\u001b[1;32m     99\u001b[0m is_commutative \u001b[38;5;241m=\u001b[39m \u001b[38;5;129;01mnot\u001b[39;00m nc_part\n\u001b[1;32m    100\u001b[0m obj \u001b[38;5;241m=\u001b[39m \u001b[38;5;28mcls\u001b[39m\u001b[38;5;241m.\u001b[39m_from_args(c_part \u001b[38;5;241m+\u001b[39m nc_part, is_commutative)\n",
      "File \u001b[0;32m~/miniconda3/lib/python3.8/site-packages/sympy/core/add.py:284\u001b[0m, in \u001b[0;36mAdd.flatten\u001b[0;34m(cls, seq)\u001b[0m\n\u001b[1;32m    282\u001b[0m \u001b[38;5;66;03m# Mul([...])\u001b[39;00m\n\u001b[1;32m    283\u001b[0m \u001b[38;5;28;01melif\u001b[39;00m o\u001b[38;5;241m.\u001b[39mis_Mul:\n\u001b[0;32m--> 284\u001b[0m     c, s \u001b[38;5;241m=\u001b[39m \u001b[43mo\u001b[49m\u001b[38;5;241;43m.\u001b[39;49m\u001b[43mas_coeff_Mul\u001b[49m\u001b[43m(\u001b[49m\u001b[43m)\u001b[49m\n\u001b[1;32m    286\u001b[0m \u001b[38;5;66;03m# check for unevaluated Pow, e.g. 2**3 or 2**(-1/2)\u001b[39;00m\n\u001b[1;32m    287\u001b[0m \u001b[38;5;28;01melif\u001b[39;00m o\u001b[38;5;241m.\u001b[39mis_Pow:\n",
      "File \u001b[0;32m~/miniconda3/lib/python3.8/site-packages/sympy/core/mul.py:837\u001b[0m, in \u001b[0;36mMul.as_coeff_Mul\u001b[0;34m(self, rational)\u001b[0m\n\u001b[1;32m    835\u001b[0m         \u001b[38;5;28;01mreturn\u001b[39;00m coeff, args[\u001b[38;5;241m0\u001b[39m]\n\u001b[1;32m    836\u001b[0m     \u001b[38;5;28;01melse\u001b[39;00m:\n\u001b[0;32m--> 837\u001b[0m         \u001b[38;5;28;01mreturn\u001b[39;00m coeff, \u001b[38;5;28;43mself\u001b[39;49m\u001b[38;5;241;43m.\u001b[39;49m\u001b[43m_new_rawargs\u001b[49m\u001b[43m(\u001b[49m\u001b[38;5;241;43m*\u001b[39;49m\u001b[43margs\u001b[49m\u001b[43m)\u001b[49m\n\u001b[1;32m    838\u001b[0m \u001b[38;5;28;01melif\u001b[39;00m coeff\u001b[38;5;241m.\u001b[39mis_extended_negative:\n\u001b[1;32m    839\u001b[0m     \u001b[38;5;28;01mreturn\u001b[39;00m S\u001b[38;5;241m.\u001b[39mNegativeOne, \u001b[38;5;28mself\u001b[39m\u001b[38;5;241m.\u001b[39m_new_rawargs(\u001b[38;5;241m*\u001b[39m((\u001b[38;5;241m-\u001b[39mcoeff,) \u001b[38;5;241m+\u001b[39m args))\n",
      "File \u001b[0;32m~/miniconda3/lib/python3.8/site-packages/sympy/core/operations.py:172\u001b[0m, in \u001b[0;36mAssocOp._new_rawargs\u001b[0;34m(self, reeval, *args, **kwargs)\u001b[0m\n\u001b[1;32m    170\u001b[0m \u001b[38;5;28;01melse\u001b[39;00m:\n\u001b[1;32m    171\u001b[0m     is_commutative \u001b[38;5;241m=\u001b[39m \u001b[38;5;28mself\u001b[39m\u001b[38;5;241m.\u001b[39mis_commutative\n\u001b[0;32m--> 172\u001b[0m \u001b[38;5;28;01mreturn\u001b[39;00m \u001b[38;5;28;43mself\u001b[39;49m\u001b[38;5;241;43m.\u001b[39;49m\u001b[43m_from_args\u001b[49m\u001b[43m(\u001b[49m\u001b[43margs\u001b[49m\u001b[43m,\u001b[49m\u001b[43m \u001b[49m\u001b[43mis_commutative\u001b[49m\u001b[43m)\u001b[49m\n",
      "File \u001b[0;32m~/miniconda3/lib/python3.8/site-packages/sympy/core/operations.py:121\u001b[0m, in \u001b[0;36mAssocOp._from_args\u001b[0;34m(cls, args, is_commutative)\u001b[0m\n\u001b[1;32m    119\u001b[0m obj \u001b[38;5;241m=\u001b[39m \u001b[38;5;28msuper\u001b[39m()\u001b[38;5;241m.\u001b[39m\u001b[38;5;21m__new__\u001b[39m(\u001b[38;5;28mcls\u001b[39m, \u001b[38;5;241m*\u001b[39margs)\n\u001b[1;32m    120\u001b[0m \u001b[38;5;28;01mif\u001b[39;00m is_commutative \u001b[38;5;129;01mis\u001b[39;00m \u001b[38;5;28;01mNone\u001b[39;00m:\n\u001b[0;32m--> 121\u001b[0m     is_commutative \u001b[38;5;241m=\u001b[39m fuzzy_and(a\u001b[38;5;241m.\u001b[39mis_commutative \u001b[38;5;28;01mfor\u001b[39;00m a \u001b[38;5;129;01min\u001b[39;00m args)\n\u001b[1;32m    122\u001b[0m obj\u001b[38;5;241m.\u001b[39mis_commutative \u001b[38;5;241m=\u001b[39m is_commutative\n\u001b[1;32m    123\u001b[0m \u001b[38;5;28;01mreturn\u001b[39;00m obj\n",
      "\u001b[0;31mKeyboardInterrupt\u001b[0m: "
     ]
    }
   ],
   "source": [
    "temp = 0\n",
    "for i in range(len(v2.args)):\n",
    "    temp+= sp.Rational(1,2)*v2.args[i]"
   ]
  },
  {
   "cell_type": "code",
   "execution_count": null,
   "id": "d75519ae",
   "metadata": {},
   "outputs": [],
   "source": []
  },
  {
   "cell_type": "code",
   "execution_count": 49,
   "id": "8d30aa9f",
   "metadata": {},
   "outputs": [],
   "source": [
    "sd1 = sp.diff(s1, t)\n",
    "b=m_normal(I*sp.Rational(1,2) * Commutator(sd1, s1).doit() )"
   ]
  },
  {
   "cell_type": "code",
   "execution_count": 45,
   "id": "1c22d21f",
   "metadata": {},
   "outputs": [],
   "source": [
    "v2 += b"
   ]
  },
  {
   "cell_type": "code",
   "execution_count": 48,
   "id": "07e587f1",
   "metadata": {},
   "outputs": [
    {
     "ename": "KeyboardInterrupt",
     "evalue": "",
     "output_type": "error",
     "traceback": [
      "\u001b[0;31m---------------------------------------------------------------------------\u001b[0m",
      "\u001b[0;31mKeyboardInterrupt\u001b[0m                         Traceback (most recent call last)",
      "Input \u001b[0;32mIn [48]\u001b[0m, in \u001b[0;36m<module>\u001b[0;34m\u001b[0m\n\u001b[0;32m----> 1\u001b[0m v2\u001b[38;5;241m.\u001b[39margs[\u001b[38;5;241m0\u001b[39m]\n",
      "File \u001b[0;32m~/miniconda3/lib/python3.8/site-packages/IPython/core/displayhook.py:262\u001b[0m, in \u001b[0;36mDisplayHook.__call__\u001b[0;34m(self, result)\u001b[0m\n\u001b[1;32m    260\u001b[0m \u001b[38;5;28mself\u001b[39m\u001b[38;5;241m.\u001b[39mstart_displayhook()\n\u001b[1;32m    261\u001b[0m \u001b[38;5;28mself\u001b[39m\u001b[38;5;241m.\u001b[39mwrite_output_prompt()\n\u001b[0;32m--> 262\u001b[0m format_dict, md_dict \u001b[38;5;241m=\u001b[39m \u001b[38;5;28;43mself\u001b[39;49m\u001b[38;5;241;43m.\u001b[39;49m\u001b[43mcompute_format_data\u001b[49m\u001b[43m(\u001b[49m\u001b[43mresult\u001b[49m\u001b[43m)\u001b[49m\n\u001b[1;32m    263\u001b[0m \u001b[38;5;28mself\u001b[39m\u001b[38;5;241m.\u001b[39mupdate_user_ns(result)\n\u001b[1;32m    264\u001b[0m \u001b[38;5;28mself\u001b[39m\u001b[38;5;241m.\u001b[39mfill_exec_result(result)\n",
      "File \u001b[0;32m~/miniconda3/lib/python3.8/site-packages/IPython/core/displayhook.py:151\u001b[0m, in \u001b[0;36mDisplayHook.compute_format_data\u001b[0;34m(self, result)\u001b[0m\n\u001b[1;32m    121\u001b[0m \u001b[38;5;28;01mdef\u001b[39;00m \u001b[38;5;21mcompute_format_data\u001b[39m(\u001b[38;5;28mself\u001b[39m, result):\n\u001b[1;32m    122\u001b[0m     \u001b[38;5;124;03m\"\"\"Compute format data of the object to be displayed.\u001b[39;00m\n\u001b[1;32m    123\u001b[0m \n\u001b[1;32m    124\u001b[0m \u001b[38;5;124;03m    The format data is a generalization of the :func:`repr` of an object.\u001b[39;00m\n\u001b[0;32m   (...)\u001b[0m\n\u001b[1;32m    149\u001b[0m \n\u001b[1;32m    150\u001b[0m \u001b[38;5;124;03m    \"\"\"\u001b[39;00m\n\u001b[0;32m--> 151\u001b[0m     \u001b[38;5;28;01mreturn\u001b[39;00m \u001b[38;5;28;43mself\u001b[39;49m\u001b[38;5;241;43m.\u001b[39;49m\u001b[43mshell\u001b[49m\u001b[38;5;241;43m.\u001b[39;49m\u001b[43mdisplay_formatter\u001b[49m\u001b[38;5;241;43m.\u001b[39;49m\u001b[43mformat\u001b[49m\u001b[43m(\u001b[49m\u001b[43mresult\u001b[49m\u001b[43m)\u001b[49m\n",
      "File \u001b[0;32m~/miniconda3/lib/python3.8/site-packages/IPython/core/formatters.py:178\u001b[0m, in \u001b[0;36mDisplayFormatter.format\u001b[0;34m(self, obj, include, exclude)\u001b[0m\n\u001b[1;32m    176\u001b[0m md \u001b[38;5;241m=\u001b[39m \u001b[38;5;28;01mNone\u001b[39;00m\n\u001b[1;32m    177\u001b[0m \u001b[38;5;28;01mtry\u001b[39;00m:\n\u001b[0;32m--> 178\u001b[0m     data \u001b[38;5;241m=\u001b[39m \u001b[43mformatter\u001b[49m\u001b[43m(\u001b[49m\u001b[43mobj\u001b[49m\u001b[43m)\u001b[49m\n\u001b[1;32m    179\u001b[0m \u001b[38;5;28;01mexcept\u001b[39;00m:\n\u001b[1;32m    180\u001b[0m     \u001b[38;5;66;03m# FIXME: log the exception\u001b[39;00m\n\u001b[1;32m    181\u001b[0m     \u001b[38;5;28;01mraise\u001b[39;00m\n",
      "File \u001b[0;32m~/miniconda3/lib/python3.8/site-packages/decorator.py:232\u001b[0m, in \u001b[0;36mdecorate.<locals>.fun\u001b[0;34m(*args, **kw)\u001b[0m\n\u001b[1;32m    230\u001b[0m \u001b[38;5;28;01mif\u001b[39;00m \u001b[38;5;129;01mnot\u001b[39;00m kwsyntax:\n\u001b[1;32m    231\u001b[0m     args, kw \u001b[38;5;241m=\u001b[39m fix(args, kw, sig)\n\u001b[0;32m--> 232\u001b[0m \u001b[38;5;28;01mreturn\u001b[39;00m \u001b[43mcaller\u001b[49m\u001b[43m(\u001b[49m\u001b[43mfunc\u001b[49m\u001b[43m,\u001b[49m\u001b[43m \u001b[49m\u001b[38;5;241;43m*\u001b[39;49m\u001b[43m(\u001b[49m\u001b[43mextras\u001b[49m\u001b[43m \u001b[49m\u001b[38;5;241;43m+\u001b[39;49m\u001b[43m \u001b[49m\u001b[43margs\u001b[49m\u001b[43m)\u001b[49m\u001b[43m,\u001b[49m\u001b[43m \u001b[49m\u001b[38;5;241;43m*\u001b[39;49m\u001b[38;5;241;43m*\u001b[39;49m\u001b[43mkw\u001b[49m\u001b[43m)\u001b[49m\n",
      "File \u001b[0;32m~/miniconda3/lib/python3.8/site-packages/IPython/core/formatters.py:222\u001b[0m, in \u001b[0;36mcatch_format_error\u001b[0;34m(method, self, *args, **kwargs)\u001b[0m\n\u001b[1;32m    220\u001b[0m \u001b[38;5;124;03m\"\"\"show traceback on failed format call\"\"\"\u001b[39;00m\n\u001b[1;32m    221\u001b[0m \u001b[38;5;28;01mtry\u001b[39;00m:\n\u001b[0;32m--> 222\u001b[0m     r \u001b[38;5;241m=\u001b[39m \u001b[43mmethod\u001b[49m\u001b[43m(\u001b[49m\u001b[38;5;28;43mself\u001b[39;49m\u001b[43m,\u001b[49m\u001b[43m \u001b[49m\u001b[38;5;241;43m*\u001b[39;49m\u001b[43margs\u001b[49m\u001b[43m,\u001b[49m\u001b[43m \u001b[49m\u001b[38;5;241;43m*\u001b[39;49m\u001b[38;5;241;43m*\u001b[39;49m\u001b[43mkwargs\u001b[49m\u001b[43m)\u001b[49m\n\u001b[1;32m    223\u001b[0m \u001b[38;5;28;01mexcept\u001b[39;00m \u001b[38;5;167;01mNotImplementedError\u001b[39;00m:\n\u001b[1;32m    224\u001b[0m     \u001b[38;5;66;03m# don't warn on NotImplementedErrors\u001b[39;00m\n\u001b[1;32m    225\u001b[0m     \u001b[38;5;28;01mreturn\u001b[39;00m \u001b[38;5;28mself\u001b[39m\u001b[38;5;241m.\u001b[39m_check_return(\u001b[38;5;28;01mNone\u001b[39;00m, args[\u001b[38;5;241m0\u001b[39m])\n",
      "File \u001b[0;32m~/miniconda3/lib/python3.8/site-packages/IPython/core/formatters.py:707\u001b[0m, in \u001b[0;36mPlainTextFormatter.__call__\u001b[0;34m(self, obj)\u001b[0m\n\u001b[1;32m    700\u001b[0m stream \u001b[38;5;241m=\u001b[39m StringIO()\n\u001b[1;32m    701\u001b[0m printer \u001b[38;5;241m=\u001b[39m pretty\u001b[38;5;241m.\u001b[39mRepresentationPrinter(stream, \u001b[38;5;28mself\u001b[39m\u001b[38;5;241m.\u001b[39mverbose,\n\u001b[1;32m    702\u001b[0m     \u001b[38;5;28mself\u001b[39m\u001b[38;5;241m.\u001b[39mmax_width, \u001b[38;5;28mself\u001b[39m\u001b[38;5;241m.\u001b[39mnewline,\n\u001b[1;32m    703\u001b[0m     max_seq_length\u001b[38;5;241m=\u001b[39m\u001b[38;5;28mself\u001b[39m\u001b[38;5;241m.\u001b[39mmax_seq_length,\n\u001b[1;32m    704\u001b[0m     singleton_pprinters\u001b[38;5;241m=\u001b[39m\u001b[38;5;28mself\u001b[39m\u001b[38;5;241m.\u001b[39msingleton_printers,\n\u001b[1;32m    705\u001b[0m     type_pprinters\u001b[38;5;241m=\u001b[39m\u001b[38;5;28mself\u001b[39m\u001b[38;5;241m.\u001b[39mtype_printers,\n\u001b[1;32m    706\u001b[0m     deferred_pprinters\u001b[38;5;241m=\u001b[39m\u001b[38;5;28mself\u001b[39m\u001b[38;5;241m.\u001b[39mdeferred_printers)\n\u001b[0;32m--> 707\u001b[0m \u001b[43mprinter\u001b[49m\u001b[38;5;241;43m.\u001b[39;49m\u001b[43mpretty\u001b[49m\u001b[43m(\u001b[49m\u001b[43mobj\u001b[49m\u001b[43m)\u001b[49m\n\u001b[1;32m    708\u001b[0m printer\u001b[38;5;241m.\u001b[39mflush()\n\u001b[1;32m    709\u001b[0m \u001b[38;5;28;01mreturn\u001b[39;00m stream\u001b[38;5;241m.\u001b[39mgetvalue()\n",
      "File \u001b[0;32m~/miniconda3/lib/python3.8/site-packages/IPython/lib/pretty.py:410\u001b[0m, in \u001b[0;36mRepresentationPrinter.pretty\u001b[0;34m(self, obj)\u001b[0m\n\u001b[1;32m    407\u001b[0m                         \u001b[38;5;28;01mreturn\u001b[39;00m meth(obj, \u001b[38;5;28mself\u001b[39m, cycle)\n\u001b[1;32m    408\u001b[0m                 \u001b[38;5;28;01mif\u001b[39;00m \u001b[38;5;28mcls\u001b[39m \u001b[38;5;129;01mis\u001b[39;00m \u001b[38;5;129;01mnot\u001b[39;00m \u001b[38;5;28mobject\u001b[39m \\\n\u001b[1;32m    409\u001b[0m                         \u001b[38;5;129;01mand\u001b[39;00m callable(\u001b[38;5;28mcls\u001b[39m\u001b[38;5;241m.\u001b[39m\u001b[38;5;18m__dict__\u001b[39m\u001b[38;5;241m.\u001b[39mget(\u001b[38;5;124m'\u001b[39m\u001b[38;5;124m__repr__\u001b[39m\u001b[38;5;124m'\u001b[39m)):\n\u001b[0;32m--> 410\u001b[0m                     \u001b[38;5;28;01mreturn\u001b[39;00m \u001b[43m_repr_pprint\u001b[49m\u001b[43m(\u001b[49m\u001b[43mobj\u001b[49m\u001b[43m,\u001b[49m\u001b[43m \u001b[49m\u001b[38;5;28;43mself\u001b[39;49m\u001b[43m,\u001b[49m\u001b[43m \u001b[49m\u001b[43mcycle\u001b[49m\u001b[43m)\u001b[49m\n\u001b[1;32m    412\u001b[0m     \u001b[38;5;28;01mreturn\u001b[39;00m _default_pprint(obj, \u001b[38;5;28mself\u001b[39m, cycle)\n\u001b[1;32m    413\u001b[0m \u001b[38;5;28;01mfinally\u001b[39;00m:\n",
      "File \u001b[0;32m~/miniconda3/lib/python3.8/site-packages/IPython/lib/pretty.py:778\u001b[0m, in \u001b[0;36m_repr_pprint\u001b[0;34m(obj, p, cycle)\u001b[0m\n\u001b[1;32m    776\u001b[0m \u001b[38;5;124;03m\"\"\"A pprint that just redirects to the normal repr function.\"\"\"\u001b[39;00m\n\u001b[1;32m    777\u001b[0m \u001b[38;5;66;03m# Find newlines and replace them with p.break_()\u001b[39;00m\n\u001b[0;32m--> 778\u001b[0m output \u001b[38;5;241m=\u001b[39m \u001b[38;5;28;43mrepr\u001b[39;49m\u001b[43m(\u001b[49m\u001b[43mobj\u001b[49m\u001b[43m)\u001b[49m\n\u001b[1;32m    779\u001b[0m lines \u001b[38;5;241m=\u001b[39m output\u001b[38;5;241m.\u001b[39msplitlines()\n\u001b[1;32m    780\u001b[0m \u001b[38;5;28;01mwith\u001b[39;00m p\u001b[38;5;241m.\u001b[39mgroup():\n",
      "File \u001b[0;32m~/miniconda3/lib/python3.8/site-packages/sympy/core/_print_helpers.py:29\u001b[0m, in \u001b[0;36mPrintable.__str__\u001b[0;34m(self)\u001b[0m\n\u001b[1;32m     27\u001b[0m \u001b[38;5;28;01mdef\u001b[39;00m \u001b[38;5;21m__str__\u001b[39m(\u001b[38;5;28mself\u001b[39m):\n\u001b[1;32m     28\u001b[0m     \u001b[38;5;28;01mfrom\u001b[39;00m \u001b[38;5;21;01msympy\u001b[39;00m\u001b[38;5;21;01m.\u001b[39;00m\u001b[38;5;21;01mprinting\u001b[39;00m\u001b[38;5;21;01m.\u001b[39;00m\u001b[38;5;21;01mstr\u001b[39;00m \u001b[38;5;28;01mimport\u001b[39;00m sstr\n\u001b[0;32m---> 29\u001b[0m     \u001b[38;5;28;01mreturn\u001b[39;00m \u001b[43msstr\u001b[49m\u001b[43m(\u001b[49m\u001b[38;5;28;43mself\u001b[39;49m\u001b[43m,\u001b[49m\u001b[43m \u001b[49m\u001b[43morder\u001b[49m\u001b[38;5;241;43m=\u001b[39;49m\u001b[38;5;28;43;01mNone\u001b[39;49;00m\u001b[43m)\u001b[49m\n",
      "File \u001b[0;32m~/miniconda3/lib/python3.8/site-packages/sympy/printing/printer.py:372\u001b[0m, in \u001b[0;36m_PrintFunction.__call__\u001b[0;34m(self, *args, **kwargs)\u001b[0m\n\u001b[1;32m    371\u001b[0m \u001b[38;5;28;01mdef\u001b[39;00m \u001b[38;5;21m__call__\u001b[39m(\u001b[38;5;28mself\u001b[39m, \u001b[38;5;241m*\u001b[39margs, \u001b[38;5;241m*\u001b[39m\u001b[38;5;241m*\u001b[39mkwargs):\n\u001b[0;32m--> 372\u001b[0m     \u001b[38;5;28;01mreturn\u001b[39;00m \u001b[38;5;28;43mself\u001b[39;49m\u001b[38;5;241;43m.\u001b[39;49m\u001b[43m__wrapped__\u001b[49m\u001b[43m(\u001b[49m\u001b[38;5;241;43m*\u001b[39;49m\u001b[43margs\u001b[49m\u001b[43m,\u001b[49m\u001b[43m \u001b[49m\u001b[38;5;241;43m*\u001b[39;49m\u001b[38;5;241;43m*\u001b[39;49m\u001b[43mkwargs\u001b[49m\u001b[43m)\u001b[49m\n",
      "File \u001b[0;32m~/miniconda3/lib/python3.8/site-packages/sympy/printing/str.py:1000\u001b[0m, in \u001b[0;36msstr\u001b[0;34m(expr, **settings)\u001b[0m\n\u001b[1;32m    984\u001b[0m \u001b[38;5;124;03m\"\"\"Returns the expression as a string.\u001b[39;00m\n\u001b[1;32m    985\u001b[0m \n\u001b[1;32m    986\u001b[0m \u001b[38;5;124;03mFor large expressions where speed is a concern, use the setting\u001b[39;00m\n\u001b[0;32m   (...)\u001b[0m\n\u001b[1;32m    996\u001b[0m \u001b[38;5;124;03m'Eq(a + b, 0)'\u001b[39;00m\n\u001b[1;32m    997\u001b[0m \u001b[38;5;124;03m\"\"\"\u001b[39;00m\n\u001b[1;32m    999\u001b[0m p \u001b[38;5;241m=\u001b[39m StrPrinter(settings)\n\u001b[0;32m-> 1000\u001b[0m s \u001b[38;5;241m=\u001b[39m \u001b[43mp\u001b[49m\u001b[38;5;241;43m.\u001b[39;49m\u001b[43mdoprint\u001b[49m\u001b[43m(\u001b[49m\u001b[43mexpr\u001b[49m\u001b[43m)\u001b[49m\n\u001b[1;32m   1002\u001b[0m \u001b[38;5;28;01mreturn\u001b[39;00m s\n",
      "File \u001b[0;32m~/miniconda3/lib/python3.8/site-packages/sympy/printing/printer.py:292\u001b[0m, in \u001b[0;36mPrinter.doprint\u001b[0;34m(self, expr)\u001b[0m\n\u001b[1;32m    290\u001b[0m \u001b[38;5;28;01mdef\u001b[39;00m \u001b[38;5;21mdoprint\u001b[39m(\u001b[38;5;28mself\u001b[39m, expr):\n\u001b[1;32m    291\u001b[0m     \u001b[38;5;124;03m\"\"\"Returns printer's representation for expr (as a string)\"\"\"\u001b[39;00m\n\u001b[0;32m--> 292\u001b[0m     \u001b[38;5;28;01mreturn\u001b[39;00m \u001b[38;5;28mself\u001b[39m\u001b[38;5;241m.\u001b[39m_str(\u001b[38;5;28;43mself\u001b[39;49m\u001b[38;5;241;43m.\u001b[39;49m\u001b[43m_print\u001b[49m\u001b[43m(\u001b[49m\u001b[43mexpr\u001b[49m\u001b[43m)\u001b[49m)\n",
      "File \u001b[0;32m~/miniconda3/lib/python3.8/site-packages/sympy/printing/printer.py:331\u001b[0m, in \u001b[0;36mPrinter._print\u001b[0;34m(self, expr, **kwargs)\u001b[0m\n\u001b[1;32m    329\u001b[0m     printmethod \u001b[38;5;241m=\u001b[39m \u001b[38;5;28mgetattr\u001b[39m(\u001b[38;5;28mself\u001b[39m, printmethodname, \u001b[38;5;28;01mNone\u001b[39;00m)\n\u001b[1;32m    330\u001b[0m     \u001b[38;5;28;01mif\u001b[39;00m printmethod \u001b[38;5;129;01mis\u001b[39;00m \u001b[38;5;129;01mnot\u001b[39;00m \u001b[38;5;28;01mNone\u001b[39;00m:\n\u001b[0;32m--> 331\u001b[0m         \u001b[38;5;28;01mreturn\u001b[39;00m \u001b[43mprintmethod\u001b[49m\u001b[43m(\u001b[49m\u001b[43mexpr\u001b[49m\u001b[43m,\u001b[49m\u001b[43m \u001b[49m\u001b[38;5;241;43m*\u001b[39;49m\u001b[38;5;241;43m*\u001b[39;49m\u001b[43mkwargs\u001b[49m\u001b[43m)\u001b[49m\n\u001b[1;32m    332\u001b[0m \u001b[38;5;66;03m# Unknown object, fall back to the emptyPrinter.\u001b[39;00m\n\u001b[1;32m    333\u001b[0m \u001b[38;5;28;01mreturn\u001b[39;00m \u001b[38;5;28mself\u001b[39m\u001b[38;5;241m.\u001b[39memptyPrinter(expr)\n",
      "File \u001b[0;32m~/miniconda3/lib/python3.8/site-packages/sympy/printing/str.py:366\u001b[0m, in \u001b[0;36mStrPrinter._print_Mul\u001b[0;34m(self, expr)\u001b[0m\n\u001b[1;32m    362\u001b[0m         a\u001b[38;5;241m.\u001b[39mappend(item)\n\u001b[1;32m    364\u001b[0m a \u001b[38;5;241m=\u001b[39m a \u001b[38;5;129;01mor\u001b[39;00m [S\u001b[38;5;241m.\u001b[39mOne]\n\u001b[0;32m--> 366\u001b[0m a_str \u001b[38;5;241m=\u001b[39m [\u001b[38;5;28mself\u001b[39m\u001b[38;5;241m.\u001b[39mparenthesize(x, prec, strict\u001b[38;5;241m=\u001b[39m\u001b[38;5;28;01mFalse\u001b[39;00m) \u001b[38;5;28;01mfor\u001b[39;00m x \u001b[38;5;129;01min\u001b[39;00m a]\n\u001b[1;32m    367\u001b[0m b_str \u001b[38;5;241m=\u001b[39m [\u001b[38;5;28mself\u001b[39m\u001b[38;5;241m.\u001b[39mparenthesize(x, prec, strict\u001b[38;5;241m=\u001b[39m\u001b[38;5;28;01mFalse\u001b[39;00m) \u001b[38;5;28;01mfor\u001b[39;00m x \u001b[38;5;129;01min\u001b[39;00m b]\n\u001b[1;32m    369\u001b[0m \u001b[38;5;66;03m# To parenthesize Pow with exp = -1 and having more than one Symbol\u001b[39;00m\n",
      "File \u001b[0;32m~/miniconda3/lib/python3.8/site-packages/sympy/printing/str.py:366\u001b[0m, in \u001b[0;36m<listcomp>\u001b[0;34m(.0)\u001b[0m\n\u001b[1;32m    362\u001b[0m         a\u001b[38;5;241m.\u001b[39mappend(item)\n\u001b[1;32m    364\u001b[0m a \u001b[38;5;241m=\u001b[39m a \u001b[38;5;129;01mor\u001b[39;00m [S\u001b[38;5;241m.\u001b[39mOne]\n\u001b[0;32m--> 366\u001b[0m a_str \u001b[38;5;241m=\u001b[39m [\u001b[38;5;28;43mself\u001b[39;49m\u001b[38;5;241;43m.\u001b[39;49m\u001b[43mparenthesize\u001b[49m\u001b[43m(\u001b[49m\u001b[43mx\u001b[49m\u001b[43m,\u001b[49m\u001b[43m \u001b[49m\u001b[43mprec\u001b[49m\u001b[43m,\u001b[49m\u001b[43m \u001b[49m\u001b[43mstrict\u001b[49m\u001b[38;5;241;43m=\u001b[39;49m\u001b[38;5;28;43;01mFalse\u001b[39;49;00m\u001b[43m)\u001b[49m \u001b[38;5;28;01mfor\u001b[39;00m x \u001b[38;5;129;01min\u001b[39;00m a]\n\u001b[1;32m    367\u001b[0m b_str \u001b[38;5;241m=\u001b[39m [\u001b[38;5;28mself\u001b[39m\u001b[38;5;241m.\u001b[39mparenthesize(x, prec, strict\u001b[38;5;241m=\u001b[39m\u001b[38;5;28;01mFalse\u001b[39;00m) \u001b[38;5;28;01mfor\u001b[39;00m x \u001b[38;5;129;01min\u001b[39;00m b]\n\u001b[1;32m    369\u001b[0m \u001b[38;5;66;03m# To parenthesize Pow with exp = -1 and having more than one Symbol\u001b[39;00m\n",
      "File \u001b[0;32m~/miniconda3/lib/python3.8/site-packages/sympy/printing/str.py:35\u001b[0m, in \u001b[0;36mStrPrinter.parenthesize\u001b[0;34m(self, item, level, strict)\u001b[0m\n\u001b[1;32m     33\u001b[0m \u001b[38;5;28;01mdef\u001b[39;00m \u001b[38;5;21mparenthesize\u001b[39m(\u001b[38;5;28mself\u001b[39m, item, level, strict\u001b[38;5;241m=\u001b[39m\u001b[38;5;28;01mFalse\u001b[39;00m):\n\u001b[1;32m     34\u001b[0m     \u001b[38;5;28;01mif\u001b[39;00m (precedence(item) \u001b[38;5;241m<\u001b[39m level) \u001b[38;5;129;01mor\u001b[39;00m ((\u001b[38;5;129;01mnot\u001b[39;00m strict) \u001b[38;5;129;01mand\u001b[39;00m precedence(item) \u001b[38;5;241m<\u001b[39m\u001b[38;5;241m=\u001b[39m level):\n\u001b[0;32m---> 35\u001b[0m         \u001b[38;5;28;01mreturn\u001b[39;00m \u001b[38;5;124m\"\u001b[39m\u001b[38;5;124m(\u001b[39m\u001b[38;5;132;01m%s\u001b[39;00m\u001b[38;5;124m)\u001b[39m\u001b[38;5;124m\"\u001b[39m \u001b[38;5;241m%\u001b[39m \u001b[38;5;28;43mself\u001b[39;49m\u001b[38;5;241;43m.\u001b[39;49m\u001b[43m_print\u001b[49m\u001b[43m(\u001b[49m\u001b[43mitem\u001b[49m\u001b[43m)\u001b[49m\n\u001b[1;32m     36\u001b[0m     \u001b[38;5;28;01melse\u001b[39;00m:\n\u001b[1;32m     37\u001b[0m         \u001b[38;5;28;01mreturn\u001b[39;00m \u001b[38;5;28mself\u001b[39m\u001b[38;5;241m.\u001b[39m_print(item)\n",
      "File \u001b[0;32m~/miniconda3/lib/python3.8/site-packages/sympy/printing/printer.py:331\u001b[0m, in \u001b[0;36mPrinter._print\u001b[0;34m(self, expr, **kwargs)\u001b[0m\n\u001b[1;32m    329\u001b[0m     printmethod \u001b[38;5;241m=\u001b[39m \u001b[38;5;28mgetattr\u001b[39m(\u001b[38;5;28mself\u001b[39m, printmethodname, \u001b[38;5;28;01mNone\u001b[39;00m)\n\u001b[1;32m    330\u001b[0m     \u001b[38;5;28;01mif\u001b[39;00m printmethod \u001b[38;5;129;01mis\u001b[39;00m \u001b[38;5;129;01mnot\u001b[39;00m \u001b[38;5;28;01mNone\u001b[39;00m:\n\u001b[0;32m--> 331\u001b[0m         \u001b[38;5;28;01mreturn\u001b[39;00m \u001b[43mprintmethod\u001b[49m\u001b[43m(\u001b[49m\u001b[43mexpr\u001b[49m\u001b[43m,\u001b[49m\u001b[43m \u001b[49m\u001b[38;5;241;43m*\u001b[39;49m\u001b[38;5;241;43m*\u001b[39;49m\u001b[43mkwargs\u001b[49m\u001b[43m)\u001b[49m\n\u001b[1;32m    332\u001b[0m \u001b[38;5;66;03m# Unknown object, fall back to the emptyPrinter.\u001b[39;00m\n\u001b[1;32m    333\u001b[0m \u001b[38;5;28;01mreturn\u001b[39;00m \u001b[38;5;28mself\u001b[39m\u001b[38;5;241m.\u001b[39memptyPrinter(expr)\n",
      "File \u001b[0;32m~/miniconda3/lib/python3.8/site-packages/sympy/printing/str.py:56\u001b[0m, in \u001b[0;36mStrPrinter._print_Add\u001b[0;34m(self, expr, order)\u001b[0m\n\u001b[1;32m     54\u001b[0m l \u001b[38;5;241m=\u001b[39m []\n\u001b[1;32m     55\u001b[0m \u001b[38;5;28;01mfor\u001b[39;00m term \u001b[38;5;129;01min\u001b[39;00m terms:\n\u001b[0;32m---> 56\u001b[0m     t \u001b[38;5;241m=\u001b[39m \u001b[38;5;28;43mself\u001b[39;49m\u001b[38;5;241;43m.\u001b[39;49m\u001b[43m_print\u001b[49m\u001b[43m(\u001b[49m\u001b[43mterm\u001b[49m\u001b[43m)\u001b[49m\n\u001b[1;32m     57\u001b[0m     \u001b[38;5;28;01mif\u001b[39;00m t\u001b[38;5;241m.\u001b[39mstartswith(\u001b[38;5;124m'\u001b[39m\u001b[38;5;124m-\u001b[39m\u001b[38;5;124m'\u001b[39m):\n\u001b[1;32m     58\u001b[0m         sign \u001b[38;5;241m=\u001b[39m \u001b[38;5;124m\"\u001b[39m\u001b[38;5;124m-\u001b[39m\u001b[38;5;124m\"\u001b[39m\n",
      "File \u001b[0;32m~/miniconda3/lib/python3.8/site-packages/sympy/printing/printer.py:331\u001b[0m, in \u001b[0;36mPrinter._print\u001b[0;34m(self, expr, **kwargs)\u001b[0m\n\u001b[1;32m    329\u001b[0m     printmethod \u001b[38;5;241m=\u001b[39m \u001b[38;5;28mgetattr\u001b[39m(\u001b[38;5;28mself\u001b[39m, printmethodname, \u001b[38;5;28;01mNone\u001b[39;00m)\n\u001b[1;32m    330\u001b[0m     \u001b[38;5;28;01mif\u001b[39;00m printmethod \u001b[38;5;129;01mis\u001b[39;00m \u001b[38;5;129;01mnot\u001b[39;00m \u001b[38;5;28;01mNone\u001b[39;00m:\n\u001b[0;32m--> 331\u001b[0m         \u001b[38;5;28;01mreturn\u001b[39;00m \u001b[43mprintmethod\u001b[49m\u001b[43m(\u001b[49m\u001b[43mexpr\u001b[49m\u001b[43m,\u001b[49m\u001b[43m \u001b[49m\u001b[38;5;241;43m*\u001b[39;49m\u001b[38;5;241;43m*\u001b[39;49m\u001b[43mkwargs\u001b[49m\u001b[43m)\u001b[49m\n\u001b[1;32m    332\u001b[0m \u001b[38;5;66;03m# Unknown object, fall back to the emptyPrinter.\u001b[39;00m\n\u001b[1;32m    333\u001b[0m \u001b[38;5;28;01mreturn\u001b[39;00m \u001b[38;5;28mself\u001b[39m\u001b[38;5;241m.\u001b[39memptyPrinter(expr)\n",
      "File \u001b[0;32m~/miniconda3/lib/python3.8/site-packages/sympy/printing/str.py:366\u001b[0m, in \u001b[0;36mStrPrinter._print_Mul\u001b[0;34m(self, expr)\u001b[0m\n\u001b[1;32m    362\u001b[0m         a\u001b[38;5;241m.\u001b[39mappend(item)\n\u001b[1;32m    364\u001b[0m a \u001b[38;5;241m=\u001b[39m a \u001b[38;5;129;01mor\u001b[39;00m [S\u001b[38;5;241m.\u001b[39mOne]\n\u001b[0;32m--> 366\u001b[0m a_str \u001b[38;5;241m=\u001b[39m [\u001b[38;5;28mself\u001b[39m\u001b[38;5;241m.\u001b[39mparenthesize(x, prec, strict\u001b[38;5;241m=\u001b[39m\u001b[38;5;28;01mFalse\u001b[39;00m) \u001b[38;5;28;01mfor\u001b[39;00m x \u001b[38;5;129;01min\u001b[39;00m a]\n\u001b[1;32m    367\u001b[0m b_str \u001b[38;5;241m=\u001b[39m [\u001b[38;5;28mself\u001b[39m\u001b[38;5;241m.\u001b[39mparenthesize(x, prec, strict\u001b[38;5;241m=\u001b[39m\u001b[38;5;28;01mFalse\u001b[39;00m) \u001b[38;5;28;01mfor\u001b[39;00m x \u001b[38;5;129;01min\u001b[39;00m b]\n\u001b[1;32m    369\u001b[0m \u001b[38;5;66;03m# To parenthesize Pow with exp = -1 and having more than one Symbol\u001b[39;00m\n",
      "File \u001b[0;32m~/miniconda3/lib/python3.8/site-packages/sympy/printing/str.py:366\u001b[0m, in \u001b[0;36m<listcomp>\u001b[0;34m(.0)\u001b[0m\n\u001b[1;32m    362\u001b[0m         a\u001b[38;5;241m.\u001b[39mappend(item)\n\u001b[1;32m    364\u001b[0m a \u001b[38;5;241m=\u001b[39m a \u001b[38;5;129;01mor\u001b[39;00m [S\u001b[38;5;241m.\u001b[39mOne]\n\u001b[0;32m--> 366\u001b[0m a_str \u001b[38;5;241m=\u001b[39m [\u001b[38;5;28;43mself\u001b[39;49m\u001b[38;5;241;43m.\u001b[39;49m\u001b[43mparenthesize\u001b[49m\u001b[43m(\u001b[49m\u001b[43mx\u001b[49m\u001b[43m,\u001b[49m\u001b[43m \u001b[49m\u001b[43mprec\u001b[49m\u001b[43m,\u001b[49m\u001b[43m \u001b[49m\u001b[43mstrict\u001b[49m\u001b[38;5;241;43m=\u001b[39;49m\u001b[38;5;28;43;01mFalse\u001b[39;49;00m\u001b[43m)\u001b[49m \u001b[38;5;28;01mfor\u001b[39;00m x \u001b[38;5;129;01min\u001b[39;00m a]\n\u001b[1;32m    367\u001b[0m b_str \u001b[38;5;241m=\u001b[39m [\u001b[38;5;28mself\u001b[39m\u001b[38;5;241m.\u001b[39mparenthesize(x, prec, strict\u001b[38;5;241m=\u001b[39m\u001b[38;5;28;01mFalse\u001b[39;00m) \u001b[38;5;28;01mfor\u001b[39;00m x \u001b[38;5;129;01min\u001b[39;00m b]\n\u001b[1;32m    369\u001b[0m \u001b[38;5;66;03m# To parenthesize Pow with exp = -1 and having more than one Symbol\u001b[39;00m\n",
      "File \u001b[0;32m~/miniconda3/lib/python3.8/site-packages/sympy/printing/str.py:37\u001b[0m, in \u001b[0;36mStrPrinter.parenthesize\u001b[0;34m(self, item, level, strict)\u001b[0m\n\u001b[1;32m     35\u001b[0m     \u001b[38;5;28;01mreturn\u001b[39;00m \u001b[38;5;124m\"\u001b[39m\u001b[38;5;124m(\u001b[39m\u001b[38;5;132;01m%s\u001b[39;00m\u001b[38;5;124m)\u001b[39m\u001b[38;5;124m\"\u001b[39m \u001b[38;5;241m%\u001b[39m \u001b[38;5;28mself\u001b[39m\u001b[38;5;241m.\u001b[39m_print(item)\n\u001b[1;32m     36\u001b[0m \u001b[38;5;28;01melse\u001b[39;00m:\n\u001b[0;32m---> 37\u001b[0m     \u001b[38;5;28;01mreturn\u001b[39;00m \u001b[38;5;28;43mself\u001b[39;49m\u001b[38;5;241;43m.\u001b[39;49m\u001b[43m_print\u001b[49m\u001b[43m(\u001b[49m\u001b[43mitem\u001b[49m\u001b[43m)\u001b[49m\n",
      "File \u001b[0;32m~/miniconda3/lib/python3.8/site-packages/sympy/printing/printer.py:331\u001b[0m, in \u001b[0;36mPrinter._print\u001b[0;34m(self, expr, **kwargs)\u001b[0m\n\u001b[1;32m    329\u001b[0m     printmethod \u001b[38;5;241m=\u001b[39m \u001b[38;5;28mgetattr\u001b[39m(\u001b[38;5;28mself\u001b[39m, printmethodname, \u001b[38;5;28;01mNone\u001b[39;00m)\n\u001b[1;32m    330\u001b[0m     \u001b[38;5;28;01mif\u001b[39;00m printmethod \u001b[38;5;129;01mis\u001b[39;00m \u001b[38;5;129;01mnot\u001b[39;00m \u001b[38;5;28;01mNone\u001b[39;00m:\n\u001b[0;32m--> 331\u001b[0m         \u001b[38;5;28;01mreturn\u001b[39;00m \u001b[43mprintmethod\u001b[49m\u001b[43m(\u001b[49m\u001b[43mexpr\u001b[49m\u001b[43m,\u001b[49m\u001b[43m \u001b[49m\u001b[38;5;241;43m*\u001b[39;49m\u001b[38;5;241;43m*\u001b[39;49m\u001b[43mkwargs\u001b[49m\u001b[43m)\u001b[49m\n\u001b[1;32m    332\u001b[0m \u001b[38;5;66;03m# Unknown object, fall back to the emptyPrinter.\u001b[39;00m\n\u001b[1;32m    333\u001b[0m \u001b[38;5;28;01mreturn\u001b[39;00m \u001b[38;5;28mself\u001b[39m\u001b[38;5;241m.\u001b[39memptyPrinter(expr)\n",
      "File \u001b[0;32m~/miniconda3/lib/python3.8/site-packages/sympy/printing/str.py:160\u001b[0m, in \u001b[0;36mStrPrinter._print_Function\u001b[0;34m(self, expr)\u001b[0m\n\u001b[1;32m    159\u001b[0m \u001b[38;5;28;01mdef\u001b[39;00m \u001b[38;5;21m_print_Function\u001b[39m(\u001b[38;5;28mself\u001b[39m, expr):\n\u001b[0;32m--> 160\u001b[0m     \u001b[38;5;28;01mreturn\u001b[39;00m expr\u001b[38;5;241m.\u001b[39mfunc\u001b[38;5;241m.\u001b[39m\u001b[38;5;18m__name__\u001b[39m \u001b[38;5;241m+\u001b[39m \u001b[38;5;124m\"\u001b[39m\u001b[38;5;124m(\u001b[39m\u001b[38;5;132;01m%s\u001b[39;00m\u001b[38;5;124m)\u001b[39m\u001b[38;5;124m\"\u001b[39m \u001b[38;5;241m%\u001b[39m \u001b[38;5;28;43mself\u001b[39;49m\u001b[38;5;241;43m.\u001b[39;49m\u001b[43mstringify\u001b[49m\u001b[43m(\u001b[49m\u001b[43mexpr\u001b[49m\u001b[38;5;241;43m.\u001b[39;49m\u001b[43margs\u001b[49m\u001b[43m,\u001b[49m\u001b[43m \u001b[49m\u001b[38;5;124;43m\"\u001b[39;49m\u001b[38;5;124;43m, \u001b[39;49m\u001b[38;5;124;43m\"\u001b[39;49m\u001b[43m)\u001b[49m\n",
      "File \u001b[0;32m~/miniconda3/lib/python3.8/site-packages/sympy/printing/str.py:40\u001b[0m, in \u001b[0;36mStrPrinter.stringify\u001b[0;34m(self, args, sep, level)\u001b[0m\n\u001b[1;32m     39\u001b[0m \u001b[38;5;28;01mdef\u001b[39;00m \u001b[38;5;21mstringify\u001b[39m(\u001b[38;5;28mself\u001b[39m, args, sep, level\u001b[38;5;241m=\u001b[39m\u001b[38;5;241m0\u001b[39m):\n\u001b[0;32m---> 40\u001b[0m     \u001b[38;5;28;01mreturn\u001b[39;00m sep\u001b[38;5;241m.\u001b[39mjoin([\u001b[38;5;28mself\u001b[39m\u001b[38;5;241m.\u001b[39mparenthesize(item, level) \u001b[38;5;28;01mfor\u001b[39;00m item \u001b[38;5;129;01min\u001b[39;00m args])\n",
      "File \u001b[0;32m~/miniconda3/lib/python3.8/site-packages/sympy/printing/str.py:40\u001b[0m, in \u001b[0;36m<listcomp>\u001b[0;34m(.0)\u001b[0m\n\u001b[1;32m     39\u001b[0m \u001b[38;5;28;01mdef\u001b[39;00m \u001b[38;5;21mstringify\u001b[39m(\u001b[38;5;28mself\u001b[39m, args, sep, level\u001b[38;5;241m=\u001b[39m\u001b[38;5;241m0\u001b[39m):\n\u001b[0;32m---> 40\u001b[0m     \u001b[38;5;28;01mreturn\u001b[39;00m sep\u001b[38;5;241m.\u001b[39mjoin([\u001b[38;5;28;43mself\u001b[39;49m\u001b[38;5;241;43m.\u001b[39;49m\u001b[43mparenthesize\u001b[49m\u001b[43m(\u001b[49m\u001b[43mitem\u001b[49m\u001b[43m,\u001b[49m\u001b[43m \u001b[49m\u001b[43mlevel\u001b[49m\u001b[43m)\u001b[49m \u001b[38;5;28;01mfor\u001b[39;00m item \u001b[38;5;129;01min\u001b[39;00m args])\n",
      "File \u001b[0;32m~/miniconda3/lib/python3.8/site-packages/sympy/printing/str.py:37\u001b[0m, in \u001b[0;36mStrPrinter.parenthesize\u001b[0;34m(self, item, level, strict)\u001b[0m\n\u001b[1;32m     35\u001b[0m     \u001b[38;5;28;01mreturn\u001b[39;00m \u001b[38;5;124m\"\u001b[39m\u001b[38;5;124m(\u001b[39m\u001b[38;5;132;01m%s\u001b[39;00m\u001b[38;5;124m)\u001b[39m\u001b[38;5;124m\"\u001b[39m \u001b[38;5;241m%\u001b[39m \u001b[38;5;28mself\u001b[39m\u001b[38;5;241m.\u001b[39m_print(item)\n\u001b[1;32m     36\u001b[0m \u001b[38;5;28;01melse\u001b[39;00m:\n\u001b[0;32m---> 37\u001b[0m     \u001b[38;5;28;01mreturn\u001b[39;00m \u001b[38;5;28;43mself\u001b[39;49m\u001b[38;5;241;43m.\u001b[39;49m\u001b[43m_print\u001b[49m\u001b[43m(\u001b[49m\u001b[43mitem\u001b[49m\u001b[43m)\u001b[49m\n",
      "File \u001b[0;32m~/miniconda3/lib/python3.8/site-packages/sympy/printing/printer.py:331\u001b[0m, in \u001b[0;36mPrinter._print\u001b[0;34m(self, expr, **kwargs)\u001b[0m\n\u001b[1;32m    329\u001b[0m     printmethod \u001b[38;5;241m=\u001b[39m \u001b[38;5;28mgetattr\u001b[39m(\u001b[38;5;28mself\u001b[39m, printmethodname, \u001b[38;5;28;01mNone\u001b[39;00m)\n\u001b[1;32m    330\u001b[0m     \u001b[38;5;28;01mif\u001b[39;00m printmethod \u001b[38;5;129;01mis\u001b[39;00m \u001b[38;5;129;01mnot\u001b[39;00m \u001b[38;5;28;01mNone\u001b[39;00m:\n\u001b[0;32m--> 331\u001b[0m         \u001b[38;5;28;01mreturn\u001b[39;00m \u001b[43mprintmethod\u001b[49m\u001b[43m(\u001b[49m\u001b[43mexpr\u001b[49m\u001b[43m,\u001b[49m\u001b[43m \u001b[49m\u001b[38;5;241;43m*\u001b[39;49m\u001b[38;5;241;43m*\u001b[39;49m\u001b[43mkwargs\u001b[49m\u001b[43m)\u001b[49m\n\u001b[1;32m    332\u001b[0m \u001b[38;5;66;03m# Unknown object, fall back to the emptyPrinter.\u001b[39;00m\n\u001b[1;32m    333\u001b[0m \u001b[38;5;28;01mreturn\u001b[39;00m \u001b[38;5;28mself\u001b[39m\u001b[38;5;241m.\u001b[39memptyPrinter(expr)\n",
      "File \u001b[0;32m~/miniconda3/lib/python3.8/site-packages/sympy/printing/str.py:327\u001b[0m, in \u001b[0;36mStrPrinter._print_Mul\u001b[0;34m(self, expr)\u001b[0m\n\u001b[1;32m    324\u001b[0m pow_paren \u001b[38;5;241m=\u001b[39m []  \u001b[38;5;66;03m# Will collect all pow with more than one base element and exp = -1\u001b[39;00m\n\u001b[1;32m    326\u001b[0m \u001b[38;5;28;01mif\u001b[39;00m \u001b[38;5;28mself\u001b[39m\u001b[38;5;241m.\u001b[39morder \u001b[38;5;129;01mnot\u001b[39;00m \u001b[38;5;129;01min\u001b[39;00m (\u001b[38;5;124m'\u001b[39m\u001b[38;5;124mold\u001b[39m\u001b[38;5;124m'\u001b[39m, \u001b[38;5;124m'\u001b[39m\u001b[38;5;124mnone\u001b[39m\u001b[38;5;124m'\u001b[39m):\n\u001b[0;32m--> 327\u001b[0m     args \u001b[38;5;241m=\u001b[39m \u001b[43mexpr\u001b[49m\u001b[38;5;241;43m.\u001b[39;49m\u001b[43mas_ordered_factors\u001b[49m\u001b[43m(\u001b[49m\u001b[43m)\u001b[49m\n\u001b[1;32m    328\u001b[0m \u001b[38;5;28;01melse\u001b[39;00m:\n\u001b[1;32m    329\u001b[0m     \u001b[38;5;66;03m# use make_args in case expr was something like -x -> x\u001b[39;00m\n\u001b[1;32m    330\u001b[0m     args \u001b[38;5;241m=\u001b[39m Mul\u001b[38;5;241m.\u001b[39mmake_args(expr)\n",
      "File \u001b[0;32m~/miniconda3/lib/python3.8/site-packages/sympy/core/mul.py:2024\u001b[0m, in \u001b[0;36mMul.as_ordered_factors\u001b[0;34m(self, order)\u001b[0m\n\u001b[1;32m   2011\u001b[0m \u001b[38;5;124;03m\"\"\"Transform an expression into an ordered list of factors.\u001b[39;00m\n\u001b[1;32m   2012\u001b[0m \n\u001b[1;32m   2013\u001b[0m \u001b[38;5;124;03mExamples\u001b[39;00m\n\u001b[0;32m   (...)\u001b[0m\n\u001b[1;32m   2021\u001b[0m \n\u001b[1;32m   2022\u001b[0m \u001b[38;5;124;03m\"\"\"\u001b[39;00m\n\u001b[1;32m   2023\u001b[0m cpart, ncpart \u001b[38;5;241m=\u001b[39m \u001b[38;5;28mself\u001b[39m\u001b[38;5;241m.\u001b[39margs_cnc()\n\u001b[0;32m-> 2024\u001b[0m \u001b[43mcpart\u001b[49m\u001b[38;5;241;43m.\u001b[39;49m\u001b[43msort\u001b[49m\u001b[43m(\u001b[49m\u001b[43mkey\u001b[49m\u001b[38;5;241;43m=\u001b[39;49m\u001b[38;5;28;43;01mlambda\u001b[39;49;00m\u001b[43m \u001b[49m\u001b[43mexpr\u001b[49m\u001b[43m:\u001b[49m\u001b[43m \u001b[49m\u001b[43mexpr\u001b[49m\u001b[38;5;241;43m.\u001b[39;49m\u001b[43msort_key\u001b[49m\u001b[43m(\u001b[49m\u001b[43morder\u001b[49m\u001b[38;5;241;43m=\u001b[39;49m\u001b[43morder\u001b[49m\u001b[43m)\u001b[49m\u001b[43m)\u001b[49m\n\u001b[1;32m   2025\u001b[0m \u001b[38;5;28;01mreturn\u001b[39;00m cpart \u001b[38;5;241m+\u001b[39m ncpart\n",
      "File \u001b[0;32m~/miniconda3/lib/python3.8/site-packages/sympy/core/mul.py:2024\u001b[0m, in \u001b[0;36mMul.as_ordered_factors.<locals>.<lambda>\u001b[0;34m(expr)\u001b[0m\n\u001b[1;32m   2011\u001b[0m \u001b[38;5;124;03m\"\"\"Transform an expression into an ordered list of factors.\u001b[39;00m\n\u001b[1;32m   2012\u001b[0m \n\u001b[1;32m   2013\u001b[0m \u001b[38;5;124;03mExamples\u001b[39;00m\n\u001b[0;32m   (...)\u001b[0m\n\u001b[1;32m   2021\u001b[0m \n\u001b[1;32m   2022\u001b[0m \u001b[38;5;124;03m\"\"\"\u001b[39;00m\n\u001b[1;32m   2023\u001b[0m cpart, ncpart \u001b[38;5;241m=\u001b[39m \u001b[38;5;28mself\u001b[39m\u001b[38;5;241m.\u001b[39margs_cnc()\n\u001b[0;32m-> 2024\u001b[0m cpart\u001b[38;5;241m.\u001b[39msort(key\u001b[38;5;241m=\u001b[39m\u001b[38;5;28;01mlambda\u001b[39;00m expr: \u001b[43mexpr\u001b[49m\u001b[38;5;241;43m.\u001b[39;49m\u001b[43msort_key\u001b[49m\u001b[43m(\u001b[49m\u001b[43morder\u001b[49m\u001b[38;5;241;43m=\u001b[39;49m\u001b[43morder\u001b[49m\u001b[43m)\u001b[49m)\n\u001b[1;32m   2025\u001b[0m \u001b[38;5;28;01mreturn\u001b[39;00m cpart \u001b[38;5;241m+\u001b[39m ncpart\n",
      "File \u001b[0;32m~/miniconda3/lib/python3.8/site-packages/sympy/core/cache.py:70\u001b[0m, in \u001b[0;36m__cacheit.<locals>.func_wrapper.<locals>.wrapper\u001b[0;34m(*args, **kwargs)\u001b[0m\n\u001b[1;32m     67\u001b[0m \u001b[38;5;129m@wraps\u001b[39m(func)\n\u001b[1;32m     68\u001b[0m \u001b[38;5;28;01mdef\u001b[39;00m \u001b[38;5;21mwrapper\u001b[39m(\u001b[38;5;241m*\u001b[39margs, \u001b[38;5;241m*\u001b[39m\u001b[38;5;241m*\u001b[39mkwargs):\n\u001b[1;32m     69\u001b[0m     \u001b[38;5;28;01mtry\u001b[39;00m:\n\u001b[0;32m---> 70\u001b[0m         retval \u001b[38;5;241m=\u001b[39m \u001b[43mcfunc\u001b[49m\u001b[43m(\u001b[49m\u001b[38;5;241;43m*\u001b[39;49m\u001b[43margs\u001b[49m\u001b[43m,\u001b[49m\u001b[43m \u001b[49m\u001b[38;5;241;43m*\u001b[39;49m\u001b[38;5;241;43m*\u001b[39;49m\u001b[43mkwargs\u001b[49m\u001b[43m)\u001b[49m\n\u001b[1;32m     71\u001b[0m     \u001b[38;5;28;01mexcept\u001b[39;00m \u001b[38;5;167;01mTypeError\u001b[39;00m \u001b[38;5;28;01mas\u001b[39;00m e:\n\u001b[1;32m     72\u001b[0m         \u001b[38;5;28;01mif\u001b[39;00m \u001b[38;5;129;01mnot\u001b[39;00m e\u001b[38;5;241m.\u001b[39margs \u001b[38;5;129;01mor\u001b[39;00m \u001b[38;5;129;01mnot\u001b[39;00m e\u001b[38;5;241m.\u001b[39margs[\u001b[38;5;241m0\u001b[39m]\u001b[38;5;241m.\u001b[39mstartswith(\u001b[38;5;124m'\u001b[39m\u001b[38;5;124munhashable type:\u001b[39m\u001b[38;5;124m'\u001b[39m):\n",
      "File \u001b[0;32m~/miniconda3/lib/python3.8/site-packages/sympy/core/numbers.py:2284\u001b[0m, in \u001b[0;36mInteger.__hash__\u001b[0;34m(self)\u001b[0m\n\u001b[1;32m   2281\u001b[0m         \u001b[38;5;28;01mreturn\u001b[39;00m _sympify(\u001b[38;5;28mself\u001b[39m\u001b[38;5;241m.\u001b[39mp \u001b[38;5;241m<\u001b[39m\u001b[38;5;241m=\u001b[39m other\u001b[38;5;241m.\u001b[39mp)\n\u001b[1;32m   2282\u001b[0m     \u001b[38;5;28;01mreturn\u001b[39;00m Rational\u001b[38;5;241m.\u001b[39m\u001b[38;5;21m__le__\u001b[39m(\u001b[38;5;28mself\u001b[39m, other)\n\u001b[0;32m-> 2284\u001b[0m \u001b[38;5;28;01mdef\u001b[39;00m \u001b[38;5;21m__hash__\u001b[39m(\u001b[38;5;28mself\u001b[39m):\n\u001b[1;32m   2285\u001b[0m     \u001b[38;5;28;01mreturn\u001b[39;00m \u001b[38;5;28mhash\u001b[39m(\u001b[38;5;28mself\u001b[39m\u001b[38;5;241m.\u001b[39mp)\n\u001b[1;32m   2287\u001b[0m \u001b[38;5;28;01mdef\u001b[39;00m \u001b[38;5;21m__index__\u001b[39m(\u001b[38;5;28mself\u001b[39m):\n",
      "\u001b[0;31mKeyboardInterrupt\u001b[0m: "
     ]
    }
   ],
   "source": [
    "v2.args[0]"
   ]
  },
  {
   "cell_type": "code",
   "execution_count": 47,
   "id": "5f482f84",
   "metadata": {},
   "outputs": [
    {
     "ename": "KeyboardInterrupt",
     "evalue": "",
     "output_type": "error",
     "traceback": [
      "\u001b[0;31m---------------------------------------------------------------------------\u001b[0m",
      "\u001b[0;31mKeyboardInterrupt\u001b[0m                         Traceback (most recent call last)",
      "Input \u001b[0;32mIn [47]\u001b[0m, in \u001b[0;36m<module>\u001b[0;34m\u001b[0m\n\u001b[1;32m      3\u001b[0m     term \u001b[38;5;241m=\u001b[39m v2\u001b[38;5;241m.\u001b[39margs[i]\n\u001b[1;32m      4\u001b[0m     \u001b[38;5;28;01mif\u001b[39;00m term\u001b[38;5;241m.\u001b[39mas_powers_dict()[ad] \u001b[38;5;241m==\u001b[39m term\u001b[38;5;241m.\u001b[39mas_powers_dict()[a] \u001b[38;5;129;01mand\u001b[39;00m term\u001b[38;5;241m.\u001b[39mas_powers_dict()[bd] \u001b[38;5;241m==\u001b[39m term\u001b[38;5;241m.\u001b[39mas_powers_dict()[b]:\n\u001b[0;32m----> 5\u001b[0m         temp \u001b[38;5;241m+\u001b[39m\u001b[38;5;241m=\u001b[39m term\n\u001b[1;32m      6\u001b[0m h2 \u001b[38;5;241m=\u001b[39m temp \u001b[38;5;241m*\u001b[39m \u001b[38;5;241m1\u001b[39m\n\u001b[1;32m      8\u001b[0m temp \u001b[38;5;241m=\u001b[39m \u001b[38;5;241m0\u001b[39m\n",
      "File \u001b[0;32m~/miniconda3/lib/python3.8/site-packages/sympy/core/decorators.py:236\u001b[0m, in \u001b[0;36m_SympifyWrapper.make_wrapped.<locals>._func\u001b[0;34m(self, other)\u001b[0m\n\u001b[1;32m    234\u001b[0m \u001b[38;5;28;01mif\u001b[39;00m \u001b[38;5;129;01mnot\u001b[39;00m \u001b[38;5;28misinstance\u001b[39m(other, expectedcls):\n\u001b[1;32m    235\u001b[0m     \u001b[38;5;28;01mreturn\u001b[39;00m retval\n\u001b[0;32m--> 236\u001b[0m \u001b[38;5;28;01mreturn\u001b[39;00m \u001b[43mfunc\u001b[49m\u001b[43m(\u001b[49m\u001b[38;5;28;43mself\u001b[39;49m\u001b[43m,\u001b[49m\u001b[43m \u001b[49m\u001b[43mother\u001b[49m\u001b[43m)\u001b[49m\n",
      "File \u001b[0;32m~/miniconda3/lib/python3.8/site-packages/sympy/core/decorators.py:106\u001b[0m, in \u001b[0;36mcall_highest_priority.<locals>.priority_decorator.<locals>.binary_op_wrapper\u001b[0;34m(self, other)\u001b[0m\n\u001b[1;32m    104\u001b[0m         \u001b[38;5;28;01mif\u001b[39;00m f \u001b[38;5;129;01mis\u001b[39;00m \u001b[38;5;129;01mnot\u001b[39;00m \u001b[38;5;28;01mNone\u001b[39;00m:\n\u001b[1;32m    105\u001b[0m             \u001b[38;5;28;01mreturn\u001b[39;00m f(\u001b[38;5;28mself\u001b[39m)\n\u001b[0;32m--> 106\u001b[0m \u001b[38;5;28;01mreturn\u001b[39;00m \u001b[43mfunc\u001b[49m\u001b[43m(\u001b[49m\u001b[38;5;28;43mself\u001b[39;49m\u001b[43m,\u001b[49m\u001b[43m \u001b[49m\u001b[43mother\u001b[49m\u001b[43m)\u001b[49m\n",
      "File \u001b[0;32m~/miniconda3/lib/python3.8/site-packages/sympy/core/expr.py:198\u001b[0m, in \u001b[0;36mExpr.__add__\u001b[0;34m(self, other)\u001b[0m\n\u001b[1;32m    195\u001b[0m \u001b[38;5;129m@sympify_return\u001b[39m([(\u001b[38;5;124m'\u001b[39m\u001b[38;5;124mother\u001b[39m\u001b[38;5;124m'\u001b[39m, \u001b[38;5;124m'\u001b[39m\u001b[38;5;124mExpr\u001b[39m\u001b[38;5;124m'\u001b[39m)], \u001b[38;5;28mNotImplemented\u001b[39m)\n\u001b[1;32m    196\u001b[0m \u001b[38;5;129m@call_highest_priority\u001b[39m(\u001b[38;5;124m'\u001b[39m\u001b[38;5;124m__radd__\u001b[39m\u001b[38;5;124m'\u001b[39m)\n\u001b[1;32m    197\u001b[0m \u001b[38;5;28;01mdef\u001b[39;00m \u001b[38;5;21m__add__\u001b[39m(\u001b[38;5;28mself\u001b[39m, other):\n\u001b[0;32m--> 198\u001b[0m     \u001b[38;5;28;01mreturn\u001b[39;00m \u001b[43mAdd\u001b[49m\u001b[43m(\u001b[49m\u001b[38;5;28;43mself\u001b[39;49m\u001b[43m,\u001b[49m\u001b[43m \u001b[49m\u001b[43mother\u001b[49m\u001b[43m)\u001b[49m\n",
      "File \u001b[0;32m~/miniconda3/lib/python3.8/site-packages/sympy/core/cache.py:70\u001b[0m, in \u001b[0;36m__cacheit.<locals>.func_wrapper.<locals>.wrapper\u001b[0;34m(*args, **kwargs)\u001b[0m\n\u001b[1;32m     67\u001b[0m \u001b[38;5;129m@wraps\u001b[39m(func)\n\u001b[1;32m     68\u001b[0m \u001b[38;5;28;01mdef\u001b[39;00m \u001b[38;5;21mwrapper\u001b[39m(\u001b[38;5;241m*\u001b[39margs, \u001b[38;5;241m*\u001b[39m\u001b[38;5;241m*\u001b[39mkwargs):\n\u001b[1;32m     69\u001b[0m     \u001b[38;5;28;01mtry\u001b[39;00m:\n\u001b[0;32m---> 70\u001b[0m         retval \u001b[38;5;241m=\u001b[39m \u001b[43mcfunc\u001b[49m\u001b[43m(\u001b[49m\u001b[38;5;241;43m*\u001b[39;49m\u001b[43margs\u001b[49m\u001b[43m,\u001b[49m\u001b[43m \u001b[49m\u001b[38;5;241;43m*\u001b[39;49m\u001b[38;5;241;43m*\u001b[39;49m\u001b[43mkwargs\u001b[49m\u001b[43m)\u001b[49m\n\u001b[1;32m     71\u001b[0m     \u001b[38;5;28;01mexcept\u001b[39;00m \u001b[38;5;167;01mTypeError\u001b[39;00m \u001b[38;5;28;01mas\u001b[39;00m e:\n\u001b[1;32m     72\u001b[0m         \u001b[38;5;28;01mif\u001b[39;00m \u001b[38;5;129;01mnot\u001b[39;00m e\u001b[38;5;241m.\u001b[39margs \u001b[38;5;129;01mor\u001b[39;00m \u001b[38;5;129;01mnot\u001b[39;00m e\u001b[38;5;241m.\u001b[39margs[\u001b[38;5;241m0\u001b[39m]\u001b[38;5;241m.\u001b[39mstartswith(\u001b[38;5;124m'\u001b[39m\u001b[38;5;124munhashable type:\u001b[39m\u001b[38;5;124m'\u001b[39m):\n",
      "File \u001b[0;32m~/miniconda3/lib/python3.8/site-packages/sympy/core/operations.py:98\u001b[0m, in \u001b[0;36mAssocOp.__new__\u001b[0;34m(cls, evaluate, _sympify, *args)\u001b[0m\n\u001b[1;32m     95\u001b[0m \u001b[38;5;28;01mif\u001b[39;00m \u001b[38;5;28mlen\u001b[39m(args) \u001b[38;5;241m==\u001b[39m \u001b[38;5;241m1\u001b[39m:\n\u001b[1;32m     96\u001b[0m     \u001b[38;5;28;01mreturn\u001b[39;00m args[\u001b[38;5;241m0\u001b[39m]\n\u001b[0;32m---> 98\u001b[0m c_part, nc_part, order_symbols \u001b[38;5;241m=\u001b[39m \u001b[38;5;28;43mcls\u001b[39;49m\u001b[38;5;241;43m.\u001b[39;49m\u001b[43mflatten\u001b[49m\u001b[43m(\u001b[49m\u001b[43margs\u001b[49m\u001b[43m)\u001b[49m\n\u001b[1;32m     99\u001b[0m is_commutative \u001b[38;5;241m=\u001b[39m \u001b[38;5;129;01mnot\u001b[39;00m nc_part\n\u001b[1;32m    100\u001b[0m obj \u001b[38;5;241m=\u001b[39m \u001b[38;5;28mcls\u001b[39m\u001b[38;5;241m.\u001b[39m_from_args(c_part \u001b[38;5;241m+\u001b[39m nc_part, is_commutative)\n",
      "File \u001b[0;32m~/miniconda3/lib/python3.8/site-packages/sympy/core/add.py:381\u001b[0m, in \u001b[0;36mAdd.flatten\u001b[0;34m(cls, seq)\u001b[0m\n\u001b[1;32m    378\u001b[0m             \u001b[38;5;28;01mbreak\u001b[39;00m\n\u001b[1;32m    380\u001b[0m \u001b[38;5;66;03m# order args canonically\u001b[39;00m\n\u001b[0;32m--> 381\u001b[0m \u001b[43m_addsort\u001b[49m\u001b[43m(\u001b[49m\u001b[43mnewseq\u001b[49m\u001b[43m)\u001b[49m\n\u001b[1;32m    383\u001b[0m \u001b[38;5;66;03m# current code expects coeff to be first\u001b[39;00m\n\u001b[1;32m    384\u001b[0m \u001b[38;5;28;01mif\u001b[39;00m coeff \u001b[38;5;129;01mis\u001b[39;00m \u001b[38;5;129;01mnot\u001b[39;00m S\u001b[38;5;241m.\u001b[39mZero:\n",
      "File \u001b[0;32m~/miniconda3/lib/python3.8/site-packages/sympy/core/add.py:38\u001b[0m, in \u001b[0;36m_addsort\u001b[0;34m(args)\u001b[0m\n\u001b[1;32m     36\u001b[0m \u001b[38;5;28;01mdef\u001b[39;00m \u001b[38;5;21m_addsort\u001b[39m(args):\n\u001b[1;32m     37\u001b[0m     \u001b[38;5;66;03m# in-place sorting of args\u001b[39;00m\n\u001b[0;32m---> 38\u001b[0m     \u001b[43margs\u001b[49m\u001b[38;5;241;43m.\u001b[39;49m\u001b[43msort\u001b[49m\u001b[43m(\u001b[49m\u001b[43mkey\u001b[49m\u001b[38;5;241;43m=\u001b[39;49m\u001b[43m_args_sortkey\u001b[49m\u001b[43m)\u001b[49m\n",
      "File \u001b[0;32m~/miniconda3/lib/python3.8/site-packages/sympy/core/basic.py:243\u001b[0m, in \u001b[0;36mBasic.compare\u001b[0;34m(self, other)\u001b[0m\n\u001b[1;32m    241\u001b[0m r \u001b[38;5;241m=\u001b[39m Basic(\u001b[38;5;241m*\u001b[39mr) \u001b[38;5;28;01mif\u001b[39;00m \u001b[38;5;28misinstance\u001b[39m(r, \u001b[38;5;28mfrozenset\u001b[39m) \u001b[38;5;28;01melse\u001b[39;00m r\n\u001b[1;32m    242\u001b[0m \u001b[38;5;28;01mif\u001b[39;00m \u001b[38;5;28misinstance\u001b[39m(l, Basic):\n\u001b[0;32m--> 243\u001b[0m     c \u001b[38;5;241m=\u001b[39m \u001b[43ml\u001b[49m\u001b[38;5;241;43m.\u001b[39;49m\u001b[43mcompare\u001b[49m\u001b[43m(\u001b[49m\u001b[43mr\u001b[49m\u001b[43m)\u001b[49m\n\u001b[1;32m    244\u001b[0m \u001b[38;5;28;01melse\u001b[39;00m:\n\u001b[1;32m    245\u001b[0m     c \u001b[38;5;241m=\u001b[39m (l \u001b[38;5;241m>\u001b[39m r) \u001b[38;5;241m-\u001b[39m (l \u001b[38;5;241m<\u001b[39m r)\n",
      "File \u001b[0;32m~/miniconda3/lib/python3.8/site-packages/sympy/core/basic.py:243\u001b[0m, in \u001b[0;36mBasic.compare\u001b[0;34m(self, other)\u001b[0m\n\u001b[1;32m    241\u001b[0m r \u001b[38;5;241m=\u001b[39m Basic(\u001b[38;5;241m*\u001b[39mr) \u001b[38;5;28;01mif\u001b[39;00m \u001b[38;5;28misinstance\u001b[39m(r, \u001b[38;5;28mfrozenset\u001b[39m) \u001b[38;5;28;01melse\u001b[39;00m r\n\u001b[1;32m    242\u001b[0m \u001b[38;5;28;01mif\u001b[39;00m \u001b[38;5;28misinstance\u001b[39m(l, Basic):\n\u001b[0;32m--> 243\u001b[0m     c \u001b[38;5;241m=\u001b[39m \u001b[43ml\u001b[49m\u001b[38;5;241;43m.\u001b[39;49m\u001b[43mcompare\u001b[49m\u001b[43m(\u001b[49m\u001b[43mr\u001b[49m\u001b[43m)\u001b[49m\n\u001b[1;32m    244\u001b[0m \u001b[38;5;28;01melse\u001b[39;00m:\n\u001b[1;32m    245\u001b[0m     c \u001b[38;5;241m=\u001b[39m (l \u001b[38;5;241m>\u001b[39m r) \u001b[38;5;241m-\u001b[39m (l \u001b[38;5;241m<\u001b[39m r)\n",
      "File \u001b[0;32m~/miniconda3/lib/python3.8/site-packages/sympy/core/basic.py:243\u001b[0m, in \u001b[0;36mBasic.compare\u001b[0;34m(self, other)\u001b[0m\n\u001b[1;32m    241\u001b[0m r \u001b[38;5;241m=\u001b[39m Basic(\u001b[38;5;241m*\u001b[39mr) \u001b[38;5;28;01mif\u001b[39;00m \u001b[38;5;28misinstance\u001b[39m(r, \u001b[38;5;28mfrozenset\u001b[39m) \u001b[38;5;28;01melse\u001b[39;00m r\n\u001b[1;32m    242\u001b[0m \u001b[38;5;28;01mif\u001b[39;00m \u001b[38;5;28misinstance\u001b[39m(l, Basic):\n\u001b[0;32m--> 243\u001b[0m     c \u001b[38;5;241m=\u001b[39m \u001b[43ml\u001b[49m\u001b[38;5;241;43m.\u001b[39;49m\u001b[43mcompare\u001b[49m\u001b[43m(\u001b[49m\u001b[43mr\u001b[49m\u001b[43m)\u001b[49m\n\u001b[1;32m    244\u001b[0m \u001b[38;5;28;01melse\u001b[39;00m:\n\u001b[1;32m    245\u001b[0m     c \u001b[38;5;241m=\u001b[39m (l \u001b[38;5;241m>\u001b[39m r) \u001b[38;5;241m-\u001b[39m (l \u001b[38;5;241m<\u001b[39m r)\n",
      "File \u001b[0;32m~/miniconda3/lib/python3.8/site-packages/sympy/core/basic.py:230\u001b[0m, in \u001b[0;36mBasic.compare\u001b[0;34m(self, other)\u001b[0m\n\u001b[1;32m    228\u001b[0m n1 \u001b[38;5;241m=\u001b[39m \u001b[38;5;28mself\u001b[39m\u001b[38;5;241m.\u001b[39m\u001b[38;5;18m__class__\u001b[39m\n\u001b[1;32m    229\u001b[0m n2 \u001b[38;5;241m=\u001b[39m other\u001b[38;5;241m.\u001b[39m\u001b[38;5;18m__class__\u001b[39m\n\u001b[0;32m--> 230\u001b[0m c \u001b[38;5;241m=\u001b[39m (\u001b[43mn1\u001b[49m\u001b[43m \u001b[49m\u001b[38;5;241;43m>\u001b[39;49m\u001b[43m \u001b[49m\u001b[43mn2\u001b[49m) \u001b[38;5;241m-\u001b[39m (n1 \u001b[38;5;241m<\u001b[39m n2)\n\u001b[1;32m    231\u001b[0m \u001b[38;5;28;01mif\u001b[39;00m c:\n\u001b[1;32m    232\u001b[0m     \u001b[38;5;28;01mreturn\u001b[39;00m c\n",
      "File \u001b[0;32m~/miniconda3/lib/python3.8/site-packages/sympy/core/core.py:102\u001b[0m, in \u001b[0;36mBasicMeta.__gt__\u001b[0;34m(cls, other)\u001b[0m\n\u001b[1;32m    101\u001b[0m \u001b[38;5;28;01mdef\u001b[39;00m \u001b[38;5;21m__gt__\u001b[39m(\u001b[38;5;28mcls\u001b[39m, other):\n\u001b[0;32m--> 102\u001b[0m     \u001b[38;5;28;01mif\u001b[39;00m \u001b[38;5;28;43mcls\u001b[39;49m\u001b[38;5;241;43m.\u001b[39;49m\u001b[43m__cmp__\u001b[49m\u001b[43m(\u001b[49m\u001b[43mother\u001b[49m\u001b[43m)\u001b[49m \u001b[38;5;241m==\u001b[39m \u001b[38;5;241m1\u001b[39m:\n\u001b[1;32m    103\u001b[0m         \u001b[38;5;28;01mreturn\u001b[39;00m \u001b[38;5;28;01mTrue\u001b[39;00m\n\u001b[1;32m    104\u001b[0m     \u001b[38;5;28;01mreturn\u001b[39;00m \u001b[38;5;28;01mFalse\u001b[39;00m\n",
      "File \u001b[0;32m~/miniconda3/lib/python3.8/site-packages/sympy/core/core.py:73\u001b[0m, in \u001b[0;36mBasicMeta.__cmp__\u001b[0;34m(cls, other)\u001b[0m\n\u001b[1;32m     70\u001b[0m     all_classes\u001b[38;5;241m.\u001b[39madd(\u001b[38;5;28mcls\u001b[39m)\n\u001b[1;32m     71\u001b[0m     \u001b[38;5;28mcls\u001b[39m\u001b[38;5;241m.\u001b[39m__sympy__ \u001b[38;5;241m=\u001b[39m \u001b[38;5;28mproperty\u001b[39m(\u001b[38;5;28;01mlambda\u001b[39;00m \u001b[38;5;28mself\u001b[39m: \u001b[38;5;28;01mTrue\u001b[39;00m)\n\u001b[0;32m---> 73\u001b[0m \u001b[38;5;28;01mdef\u001b[39;00m \u001b[38;5;21m__cmp__\u001b[39m(\u001b[38;5;28mcls\u001b[39m, other):\n\u001b[1;32m     74\u001b[0m     \u001b[38;5;66;03m# If the other object is not a Basic subclass, then we are not equal to\u001b[39;00m\n\u001b[1;32m     75\u001b[0m     \u001b[38;5;66;03m# it.\u001b[39;00m\n\u001b[1;32m     76\u001b[0m     \u001b[38;5;28;01mif\u001b[39;00m \u001b[38;5;129;01mnot\u001b[39;00m \u001b[38;5;28misinstance\u001b[39m(other, BasicMeta):\n\u001b[1;32m     77\u001b[0m         \u001b[38;5;28;01mreturn\u001b[39;00m \u001b[38;5;241m-\u001b[39m\u001b[38;5;241m1\u001b[39m\n",
      "\u001b[0;31mKeyboardInterrupt\u001b[0m: "
     ]
    }
   ],
   "source": [
    "temp = 0\n",
    "for i in range(len(v2.args)):\n",
    "    term = v2.args[i]\n",
    "    if term.as_powers_dict()[ad] == term.as_powers_dict()[a] and term.as_powers_dict()[bd] == term.as_powers_dict()[b]:\n",
    "        temp += term\n",
    "h2 = temp * 1\n",
    "\n",
    "temp = 0\n",
    "for term in h2.args:\n",
    "    if term.as_powers_dict()[eta] == term.as_powers_dict()[eta.conjugate()]:\n",
    "        temp += term.simplify()\n",
    "h2_ti = temp * 1\n",
    "# temp = 0\n",
    "# for i in range(len(h2_ti.args)):\n",
    "#     print(i)\n",
    "#     if i==0:\n",
    "#         continue\n",
    "#     else:\n",
    "#         temp += h2_ti.args[i].simplify()\n",
    "# h2_ti = temp * 1"
   ]
  },
  {
   "cell_type": "code",
   "execution_count": 34,
   "id": "f0769ac6",
   "metadata": {},
   "outputs": [
    {
     "data": {
      "text/latex": [
       "$\\displaystyle \\frac{72 \\eta^{3} g_{4}^{2} w_{d}^{2} \\overline{\\eta}^{3}}{27 w_{d}^{3} + 27 w_{d}^{2} w_{s} + 9 w_{d} w_{s}^{2} + w_{s}^{3}} - \\frac{72 \\eta^{3} g_{4}^{2} w_{d}^{2} \\overline{\\eta}^{3}}{27 w_{d}^{3} - 27 w_{d}^{2} w_{s} + 9 w_{d} w_{s}^{2} - w_{s}^{3}} + \\frac{72 \\eta^{3} g_{4}^{2} w_{d}^{2} \\overline{\\eta}^{3}}{w_{d}^{3} + 3 w_{d}^{2} w_{s} + 3 w_{d} w_{s}^{2} + w_{s}^{3}} - \\frac{72 \\eta^{3} g_{4}^{2} w_{d}^{2} \\overline{\\eta}^{3}}{w_{d}^{3} - 3 w_{d}^{2} w_{s} + 3 w_{d} w_{s}^{2} - w_{s}^{3}} + \\frac{24 \\eta^{3} g_{4}^{2} w_{d} w_{s} \\overline{\\eta}^{3}}{27 w_{d}^{3} + 27 w_{d}^{2} w_{s} + 9 w_{d} w_{s}^{2} + w_{s}^{3}} + \\frac{24 \\eta^{3} g_{4}^{2} w_{d} w_{s} \\overline{\\eta}^{3}}{27 w_{d}^{3} - 27 w_{d}^{2} w_{s} + 9 w_{d} w_{s}^{2} - w_{s}^{3}} + \\frac{72 \\eta^{3} g_{4}^{2} w_{d} w_{s} \\overline{\\eta}^{3}}{w_{d}^{3} + 3 w_{d}^{2} w_{s} + 3 w_{d} w_{s}^{2} + w_{s}^{3}} + \\frac{72 \\eta^{3} g_{4}^{2} w_{d} w_{s} \\overline{\\eta}^{3}}{w_{d}^{3} - 3 w_{d}^{2} w_{s} + 3 w_{d} w_{s}^{2} - w_{s}^{3}} + \\frac{24 \\eta^{3} g_{4}^{2} w_{d} \\overline{\\eta}^{3}}{9 w_{d}^{2} + 6 w_{d} w_{s} + w_{s}^{2}} - \\frac{24 \\eta^{3} g_{4}^{2} w_{d} \\overline{\\eta}^{3}}{9 w_{d}^{2} - 6 w_{d} w_{s} + w_{s}^{2}} + \\frac{72 \\eta^{3} g_{4}^{2} w_{d} \\overline{\\eta}^{3}}{w_{d}^{2} + 2 w_{d} w_{s} + w_{s}^{2}} - \\frac{72 \\eta^{3} g_{4}^{2} w_{d} \\overline{\\eta}^{3}}{w_{d}^{2} - 2 w_{d} w_{s} + w_{s}^{2}} + \\frac{18 \\eta^{2} g_{3}^{2} w_{d}^{2} \\overline{\\eta}^{2}}{8 w_{d}^{3} + 12 w_{d}^{2} w_{s} + 6 w_{d} w_{s}^{2} + w_{s}^{3}} - \\frac{18 \\eta^{2} g_{3}^{2} w_{d}^{2} \\overline{\\eta}^{2}}{8 w_{d}^{3} - 12 w_{d}^{2} w_{s} + 6 w_{d} w_{s}^{2} - w_{s}^{3}} + \\frac{9 \\eta^{2} g_{3}^{2} w_{d} w_{s} \\overline{\\eta}^{2}}{8 w_{d}^{3} + 12 w_{d}^{2} w_{s} + 6 w_{d} w_{s}^{2} + w_{s}^{3}} + \\frac{9 \\eta^{2} g_{3}^{2} w_{d} w_{s} \\overline{\\eta}^{2}}{8 w_{d}^{3} - 12 w_{d}^{2} w_{s} + 6 w_{d} w_{s}^{2} - w_{s}^{3}} + \\frac{9 \\eta^{2} g_{3}^{2} w_{d} \\overline{\\eta}^{2}}{4 w_{d}^{2} + 4 w_{d} w_{s} + w_{s}^{2}} - \\frac{9 \\eta^{2} g_{3}^{2} w_{d} \\overline{\\eta}^{2}}{4 w_{d}^{2} - 4 w_{d} w_{s} + w_{s}^{2}} + \\frac{162 \\eta^{2} g_{4}^{2} w_{d}^{2} \\overline{\\eta}^{2}}{w_{d}^{3} + 3 w_{d}^{2} w_{s} + 3 w_{d} w_{s}^{2} + w_{s}^{3}} + \\frac{324 \\eta^{2} g_{4}^{2} w_{d}^{2} \\overline{\\eta}^{2} {b^\\dagger_{a}} b_{a}}{w_{d}^{3} + 3 w_{d}^{2} w_{s} + 3 w_{d} w_{s}^{2} + w_{s}^{3}} - \\frac{162 \\eta^{2} g_{4}^{2} w_{d}^{2} \\overline{\\eta}^{2}}{w_{d}^{3} - 3 w_{d}^{2} w_{s} + 3 w_{d} w_{s}^{2} - w_{s}^{3}} - \\frac{324 \\eta^{2} g_{4}^{2} w_{d}^{2} \\overline{\\eta}^{2} {b^\\dagger_{a}} b_{a}}{w_{d}^{3} - 3 w_{d}^{2} w_{s} + 3 w_{d} w_{s}^{2} - w_{s}^{3}} + \\frac{162 \\eta^{2} g_{4}^{2} w_{d} w_{s} \\overline{\\eta}^{2}}{w_{d}^{3} + 3 w_{d}^{2} w_{s} + 3 w_{d} w_{s}^{2} + w_{s}^{3}} + \\frac{324 \\eta^{2} g_{4}^{2} w_{d} w_{s} \\overline{\\eta}^{2} {b^\\dagger_{a}} b_{a}}{w_{d}^{3} + 3 w_{d}^{2} w_{s} + 3 w_{d} w_{s}^{2} + w_{s}^{3}} + \\frac{162 \\eta^{2} g_{4}^{2} w_{d} w_{s} \\overline{\\eta}^{2}}{w_{d}^{3} - 3 w_{d}^{2} w_{s} + 3 w_{d} w_{s}^{2} - w_{s}^{3}} + \\frac{324 \\eta^{2} g_{4}^{2} w_{d} w_{s} \\overline{\\eta}^{2} {b^\\dagger_{a}} b_{a}}{w_{d}^{3} - 3 w_{d}^{2} w_{s} + 3 w_{d} w_{s}^{2} - w_{s}^{3}} + \\frac{162 \\eta^{2} g_{4}^{2} w_{d} \\overline{\\eta}^{2}}{w_{d}^{2} + 2 w_{d} w_{s} + w_{s}^{2}} + \\frac{324 \\eta^{2} g_{4}^{2} w_{d} \\overline{\\eta}^{2} {b^\\dagger_{a}} b_{a}}{w_{d}^{2} + 2 w_{d} w_{s} + w_{s}^{2}} - \\frac{162 \\eta^{2} g_{4}^{2} w_{d} \\overline{\\eta}^{2}}{w_{d}^{2} - 2 w_{d} w_{s} + w_{s}^{2}} - \\frac{324 \\eta^{2} g_{4}^{2} w_{d} \\overline{\\eta}^{2} {b^\\dagger_{a}} b_{a}}{w_{d}^{2} - 2 w_{d} w_{s} + w_{s}^{2}} + \\frac{9 \\eta g_{3}^{2} w_{d}^{2} \\overline{\\eta}}{w_{d}^{3} + 6 w_{d}^{2} w_{s} + 12 w_{d} w_{s}^{2} + 8 w_{s}^{3}} + \\frac{18 \\eta g_{3}^{2} w_{d}^{2} \\overline{\\eta} {b^\\dagger_{a}} b_{a}}{w_{d}^{3} + 6 w_{d}^{2} w_{s} + 12 w_{d} w_{s}^{2} + 8 w_{s}^{3}} - \\frac{9 \\eta g_{3}^{2} w_{d}^{2} \\overline{\\eta}}{w_{d}^{3} - 6 w_{d}^{2} w_{s} + 12 w_{d} w_{s}^{2} - 8 w_{s}^{3}} - \\frac{18 \\eta g_{3}^{2} w_{d}^{2} \\overline{\\eta} {b^\\dagger_{a}} b_{a}}{w_{d}^{3} - 6 w_{d}^{2} w_{s} + 12 w_{d} w_{s}^{2} - 8 w_{s}^{3}} + \\frac{18 \\eta g_{3}^{2} w_{d} w_{s} \\overline{\\eta}}{w_{d}^{3} + 6 w_{d}^{2} w_{s} + 12 w_{d} w_{s}^{2} + 8 w_{s}^{3}} + \\frac{36 \\eta g_{3}^{2} w_{d} w_{s} \\overline{\\eta} {b^\\dagger_{a}} b_{a}}{w_{d}^{3} + 6 w_{d}^{2} w_{s} + 12 w_{d} w_{s}^{2} + 8 w_{s}^{3}} + \\frac{18 \\eta g_{3}^{2} w_{d} w_{s} \\overline{\\eta}}{w_{d}^{3} - 6 w_{d}^{2} w_{s} + 12 w_{d} w_{s}^{2} - 8 w_{s}^{3}} + \\frac{36 \\eta g_{3}^{2} w_{d} w_{s} \\overline{\\eta} {b^\\dagger_{a}} b_{a}}{w_{d}^{3} - 6 w_{d}^{2} w_{s} + 12 w_{d} w_{s}^{2} - 8 w_{s}^{3}} + \\frac{9 \\eta g_{3}^{2} w_{d} \\overline{\\eta}}{w_{d}^{2} + 4 w_{d} w_{s} + 4 w_{s}^{2}} + \\frac{18 \\eta g_{3}^{2} w_{d} \\overline{\\eta} {b^\\dagger_{a}} b_{a}}{w_{d}^{2} + 4 w_{d} w_{s} + 4 w_{s}^{2}} - \\frac{9 \\eta g_{3}^{2} w_{d} \\overline{\\eta}}{w_{d}^{2} - 4 w_{d} w_{s} + 4 w_{s}^{2}} - \\frac{18 \\eta g_{3}^{2} w_{d} \\overline{\\eta} {b^\\dagger_{a}} b_{a}}{w_{d}^{2} - 4 w_{d} w_{s} + 4 w_{s}^{2}} + \\frac{48 \\eta g_{4}^{2} w_{d}^{2} \\overline{\\eta}}{w_{d}^{3} + 9 w_{d}^{2} w_{s} + 27 w_{d} w_{s}^{2} + 27 w_{s}^{3}} + \\frac{144 \\eta g_{4}^{2} w_{d}^{2} \\overline{\\eta} {b^\\dagger_{a}} b_{a}}{w_{d}^{3} + 9 w_{d}^{2} w_{s} + 27 w_{d} w_{s}^{2} + 27 w_{s}^{3}} + \\frac{72 \\eta g_{4}^{2} w_{d}^{2} \\overline{\\eta} {b^\\dagger_{a}}^{2} b_{a}^{2}}{w_{d}^{3} + 9 w_{d}^{2} w_{s} + 27 w_{d} w_{s}^{2} + 27 w_{s}^{3}} + \\frac{72 \\eta g_{4}^{2} w_{d}^{2} \\overline{\\eta}}{w_{d}^{3} + 3 w_{d}^{2} w_{s} + 3 w_{d} w_{s}^{2} + w_{s}^{3}} + \\frac{432 \\eta g_{4}^{2} w_{d}^{2} \\overline{\\eta} {b^\\dagger_{a}} b_{a}}{w_{d}^{3} + 3 w_{d}^{2} w_{s} + 3 w_{d} w_{s}^{2} + w_{s}^{3}} + \\frac{216 \\eta g_{4}^{2} w_{d}^{2} \\overline{\\eta} {b^\\dagger_{a}}^{2} b_{a}^{2}}{w_{d}^{3} + 3 w_{d}^{2} w_{s} + 3 w_{d} w_{s}^{2} + w_{s}^{3}} - \\frac{72 \\eta g_{4}^{2} w_{d}^{2} \\overline{\\eta}}{w_{d}^{3} - 3 w_{d}^{2} w_{s} + 3 w_{d} w_{s}^{2} - w_{s}^{3}} - \\frac{432 \\eta g_{4}^{2} w_{d}^{2} \\overline{\\eta} {b^\\dagger_{a}} b_{a}}{w_{d}^{3} - 3 w_{d}^{2} w_{s} + 3 w_{d} w_{s}^{2} - w_{s}^{3}} - \\frac{216 \\eta g_{4}^{2} w_{d}^{2} \\overline{\\eta} {b^\\dagger_{a}}^{2} b_{a}^{2}}{w_{d}^{3} - 3 w_{d}^{2} w_{s} + 3 w_{d} w_{s}^{2} - w_{s}^{3}} - \\frac{48 \\eta g_{4}^{2} w_{d}^{2} \\overline{\\eta}}{w_{d}^{3} - 9 w_{d}^{2} w_{s} + 27 w_{d} w_{s}^{2} - 27 w_{s}^{3}} - \\frac{144 \\eta g_{4}^{2} w_{d}^{2} \\overline{\\eta} {b^\\dagger_{a}} b_{a}}{w_{d}^{3} - 9 w_{d}^{2} w_{s} + 27 w_{d} w_{s}^{2} - 27 w_{s}^{3}} - \\frac{72 \\eta g_{4}^{2} w_{d}^{2} \\overline{\\eta} {b^\\dagger_{a}}^{2} b_{a}^{2}}{w_{d}^{3} - 9 w_{d}^{2} w_{s} + 27 w_{d} w_{s}^{2} - 27 w_{s}^{3}} + \\frac{144 \\eta g_{4}^{2} w_{d} w_{s} \\overline{\\eta}}{w_{d}^{3} + 9 w_{d}^{2} w_{s} + 27 w_{d} w_{s}^{2} + 27 w_{s}^{3}} + \\frac{432 \\eta g_{4}^{2} w_{d} w_{s} \\overline{\\eta} {b^\\dagger_{a}} b_{a}}{w_{d}^{3} + 9 w_{d}^{2} w_{s} + 27 w_{d} w_{s}^{2} + 27 w_{s}^{3}} + \\frac{216 \\eta g_{4}^{2} w_{d} w_{s} \\overline{\\eta} {b^\\dagger_{a}}^{2} b_{a}^{2}}{w_{d}^{3} + 9 w_{d}^{2} w_{s} + 27 w_{d} w_{s}^{2} + 27 w_{s}^{3}} + \\frac{72 \\eta g_{4}^{2} w_{d} w_{s} \\overline{\\eta}}{w_{d}^{3} + 3 w_{d}^{2} w_{s} + 3 w_{d} w_{s}^{2} + w_{s}^{3}} + \\frac{432 \\eta g_{4}^{2} w_{d} w_{s} \\overline{\\eta} {b^\\dagger_{a}} b_{a}}{w_{d}^{3} + 3 w_{d}^{2} w_{s} + 3 w_{d} w_{s}^{2} + w_{s}^{3}} + \\frac{216 \\eta g_{4}^{2} w_{d} w_{s} \\overline{\\eta} {b^\\dagger_{a}}^{2} b_{a}^{2}}{w_{d}^{3} + 3 w_{d}^{2} w_{s} + 3 w_{d} w_{s}^{2} + w_{s}^{3}} + \\frac{72 \\eta g_{4}^{2} w_{d} w_{s} \\overline{\\eta}}{w_{d}^{3} - 3 w_{d}^{2} w_{s} + 3 w_{d} w_{s}^{2} - w_{s}^{3}} + \\frac{432 \\eta g_{4}^{2} w_{d} w_{s} \\overline{\\eta} {b^\\dagger_{a}} b_{a}}{w_{d}^{3} - 3 w_{d}^{2} w_{s} + 3 w_{d} w_{s}^{2} - w_{s}^{3}} + \\frac{216 \\eta g_{4}^{2} w_{d} w_{s} \\overline{\\eta} {b^\\dagger_{a}}^{2} b_{a}^{2}}{w_{d}^{3} - 3 w_{d}^{2} w_{s} + 3 w_{d} w_{s}^{2} - w_{s}^{3}} + \\frac{144 \\eta g_{4}^{2} w_{d} w_{s} \\overline{\\eta}}{w_{d}^{3} - 9 w_{d}^{2} w_{s} + 27 w_{d} w_{s}^{2} - 27 w_{s}^{3}} + \\frac{432 \\eta g_{4}^{2} w_{d} w_{s} \\overline{\\eta} {b^\\dagger_{a}} b_{a}}{w_{d}^{3} - 9 w_{d}^{2} w_{s} + 27 w_{d} w_{s}^{2} - 27 w_{s}^{3}} + \\frac{216 \\eta g_{4}^{2} w_{d} w_{s} \\overline{\\eta} {b^\\dagger_{a}}^{2} b_{a}^{2}}{w_{d}^{3} - 9 w_{d}^{2} w_{s} + 27 w_{d} w_{s}^{2} - 27 w_{s}^{3}} + \\frac{48 \\eta g_{4}^{2} w_{d} \\overline{\\eta}}{w_{d}^{2} + 6 w_{d} w_{s} + 9 w_{s}^{2}} + \\frac{144 \\eta g_{4}^{2} w_{d} \\overline{\\eta} {b^\\dagger_{a}} b_{a}}{w_{d}^{2} + 6 w_{d} w_{s} + 9 w_{s}^{2}} + \\frac{72 \\eta g_{4}^{2} w_{d} \\overline{\\eta} {b^\\dagger_{a}}^{2} b_{a}^{2}}{w_{d}^{2} + 6 w_{d} w_{s} + 9 w_{s}^{2}} + \\frac{72 \\eta g_{4}^{2} w_{d} \\overline{\\eta}}{w_{d}^{2} + 2 w_{d} w_{s} + w_{s}^{2}} + \\frac{432 \\eta g_{4}^{2} w_{d} \\overline{\\eta} {b^\\dagger_{a}} b_{a}}{w_{d}^{2} + 2 w_{d} w_{s} + w_{s}^{2}} + \\frac{216 \\eta g_{4}^{2} w_{d} \\overline{\\eta} {b^\\dagger_{a}}^{2} b_{a}^{2}}{w_{d}^{2} + 2 w_{d} w_{s} + w_{s}^{2}} - \\frac{72 \\eta g_{4}^{2} w_{d} \\overline{\\eta}}{w_{d}^{2} - 2 w_{d} w_{s} + w_{s}^{2}} - \\frac{432 \\eta g_{4}^{2} w_{d} \\overline{\\eta} {b^\\dagger_{a}} b_{a}}{w_{d}^{2} - 2 w_{d} w_{s} + w_{s}^{2}} - \\frac{216 \\eta g_{4}^{2} w_{d} \\overline{\\eta} {b^\\dagger_{a}}^{2} b_{a}^{2}}{w_{d}^{2} - 2 w_{d} w_{s} + w_{s}^{2}} - \\frac{48 \\eta g_{4}^{2} w_{d} \\overline{\\eta}}{w_{d}^{2} - 6 w_{d} w_{s} + 9 w_{s}^{2}} - \\frac{144 \\eta g_{4}^{2} w_{d} \\overline{\\eta} {b^\\dagger_{a}} b_{a}}{w_{d}^{2} - 6 w_{d} w_{s} + 9 w_{s}^{2}} - \\frac{72 \\eta g_{4}^{2} w_{d} \\overline{\\eta} {b^\\dagger_{a}}^{2} b_{a}^{2}}{w_{d}^{2} - 6 w_{d} w_{s} + 9 w_{s}^{2}}$"
      ],
      "text/plain": [
       "72*eta**3*g4**2*w_d**2*conjugate(eta)**3/(27*w_d**3 + 27*w_d**2*w_s + 9*w_d*w_s**2 + w_s**3) - 72*eta**3*g4**2*w_d**2*conjugate(eta)**3/(27*w_d**3 - 27*w_d**2*w_s + 9*w_d*w_s**2 - w_s**3) + 72*eta**3*g4**2*w_d**2*conjugate(eta)**3/(w_d**3 + 3*w_d**2*w_s + 3*w_d*w_s**2 + w_s**3) - 72*eta**3*g4**2*w_d**2*conjugate(eta)**3/(w_d**3 - 3*w_d**2*w_s + 3*w_d*w_s**2 - w_s**3) + 24*eta**3*g4**2*w_d*w_s*conjugate(eta)**3/(27*w_d**3 + 27*w_d**2*w_s + 9*w_d*w_s**2 + w_s**3) + 24*eta**3*g4**2*w_d*w_s*conjugate(eta)**3/(27*w_d**3 - 27*w_d**2*w_s + 9*w_d*w_s**2 - w_s**3) + 72*eta**3*g4**2*w_d*w_s*conjugate(eta)**3/(w_d**3 + 3*w_d**2*w_s + 3*w_d*w_s**2 + w_s**3) + 72*eta**3*g4**2*w_d*w_s*conjugate(eta)**3/(w_d**3 - 3*w_d**2*w_s + 3*w_d*w_s**2 - w_s**3) + 24*eta**3*g4**2*w_d*conjugate(eta)**3/(9*w_d**2 + 6*w_d*w_s + w_s**2) - 24*eta**3*g4**2*w_d*conjugate(eta)**3/(9*w_d**2 - 6*w_d*w_s + w_s**2) + 72*eta**3*g4**2*w_d*conjugate(eta)**3/(w_d**2 + 2*w_d*w_s + w_s**2) - 72*eta**3*g4**2*w_d*conjugate(eta)**3/(w_d**2 - 2*w_d*w_s + w_s**2) + 18*eta**2*g3**2*w_d**2*conjugate(eta)**2/(8*w_d**3 + 12*w_d**2*w_s + 6*w_d*w_s**2 + w_s**3) - 18*eta**2*g3**2*w_d**2*conjugate(eta)**2/(8*w_d**3 - 12*w_d**2*w_s + 6*w_d*w_s**2 - w_s**3) + 9*eta**2*g3**2*w_d*w_s*conjugate(eta)**2/(8*w_d**3 + 12*w_d**2*w_s + 6*w_d*w_s**2 + w_s**3) + 9*eta**2*g3**2*w_d*w_s*conjugate(eta)**2/(8*w_d**3 - 12*w_d**2*w_s + 6*w_d*w_s**2 - w_s**3) + 9*eta**2*g3**2*w_d*conjugate(eta)**2/(4*w_d**2 + 4*w_d*w_s + w_s**2) - 9*eta**2*g3**2*w_d*conjugate(eta)**2/(4*w_d**2 - 4*w_d*w_s + w_s**2) + 162*eta**2*g4**2*w_d**2*conjugate(eta)**2/(w_d**3 + 3*w_d**2*w_s + 3*w_d*w_s**2 + w_s**3) + 324*eta**2*g4**2*w_d**2*conjugate(eta)**2*CreateBoson(a)*AnnihilateBoson(a)/(w_d**3 + 3*w_d**2*w_s + 3*w_d*w_s**2 + w_s**3) - 162*eta**2*g4**2*w_d**2*conjugate(eta)**2/(w_d**3 - 3*w_d**2*w_s + 3*w_d*w_s**2 - w_s**3) - 324*eta**2*g4**2*w_d**2*conjugate(eta)**2*CreateBoson(a)*AnnihilateBoson(a)/(w_d**3 - 3*w_d**2*w_s + 3*w_d*w_s**2 - w_s**3) + 162*eta**2*g4**2*w_d*w_s*conjugate(eta)**2/(w_d**3 + 3*w_d**2*w_s + 3*w_d*w_s**2 + w_s**3) + 324*eta**2*g4**2*w_d*w_s*conjugate(eta)**2*CreateBoson(a)*AnnihilateBoson(a)/(w_d**3 + 3*w_d**2*w_s + 3*w_d*w_s**2 + w_s**3) + 162*eta**2*g4**2*w_d*w_s*conjugate(eta)**2/(w_d**3 - 3*w_d**2*w_s + 3*w_d*w_s**2 - w_s**3) + 324*eta**2*g4**2*w_d*w_s*conjugate(eta)**2*CreateBoson(a)*AnnihilateBoson(a)/(w_d**3 - 3*w_d**2*w_s + 3*w_d*w_s**2 - w_s**3) + 162*eta**2*g4**2*w_d*conjugate(eta)**2/(w_d**2 + 2*w_d*w_s + w_s**2) + 324*eta**2*g4**2*w_d*conjugate(eta)**2*CreateBoson(a)*AnnihilateBoson(a)/(w_d**2 + 2*w_d*w_s + w_s**2) - 162*eta**2*g4**2*w_d*conjugate(eta)**2/(w_d**2 - 2*w_d*w_s + w_s**2) - 324*eta**2*g4**2*w_d*conjugate(eta)**2*CreateBoson(a)*AnnihilateBoson(a)/(w_d**2 - 2*w_d*w_s + w_s**2) + 9*eta*g3**2*w_d**2*conjugate(eta)/(w_d**3 + 6*w_d**2*w_s + 12*w_d*w_s**2 + 8*w_s**3) + 18*eta*g3**2*w_d**2*conjugate(eta)*CreateBoson(a)*AnnihilateBoson(a)/(w_d**3 + 6*w_d**2*w_s + 12*w_d*w_s**2 + 8*w_s**3) - 9*eta*g3**2*w_d**2*conjugate(eta)/(w_d**3 - 6*w_d**2*w_s + 12*w_d*w_s**2 - 8*w_s**3) - 18*eta*g3**2*w_d**2*conjugate(eta)*CreateBoson(a)*AnnihilateBoson(a)/(w_d**3 - 6*w_d**2*w_s + 12*w_d*w_s**2 - 8*w_s**3) + 18*eta*g3**2*w_d*w_s*conjugate(eta)/(w_d**3 + 6*w_d**2*w_s + 12*w_d*w_s**2 + 8*w_s**3) + 36*eta*g3**2*w_d*w_s*conjugate(eta)*CreateBoson(a)*AnnihilateBoson(a)/(w_d**3 + 6*w_d**2*w_s + 12*w_d*w_s**2 + 8*w_s**3) + 18*eta*g3**2*w_d*w_s*conjugate(eta)/(w_d**3 - 6*w_d**2*w_s + 12*w_d*w_s**2 - 8*w_s**3) + 36*eta*g3**2*w_d*w_s*conjugate(eta)*CreateBoson(a)*AnnihilateBoson(a)/(w_d**3 - 6*w_d**2*w_s + 12*w_d*w_s**2 - 8*w_s**3) + 9*eta*g3**2*w_d*conjugate(eta)/(w_d**2 + 4*w_d*w_s + 4*w_s**2) + 18*eta*g3**2*w_d*conjugate(eta)*CreateBoson(a)*AnnihilateBoson(a)/(w_d**2 + 4*w_d*w_s + 4*w_s**2) - 9*eta*g3**2*w_d*conjugate(eta)/(w_d**2 - 4*w_d*w_s + 4*w_s**2) - 18*eta*g3**2*w_d*conjugate(eta)*CreateBoson(a)*AnnihilateBoson(a)/(w_d**2 - 4*w_d*w_s + 4*w_s**2) + 48*eta*g4**2*w_d**2*conjugate(eta)/(w_d**3 + 9*w_d**2*w_s + 27*w_d*w_s**2 + 27*w_s**3) + 144*eta*g4**2*w_d**2*conjugate(eta)*CreateBoson(a)*AnnihilateBoson(a)/(w_d**3 + 9*w_d**2*w_s + 27*w_d*w_s**2 + 27*w_s**3) + 72*eta*g4**2*w_d**2*conjugate(eta)*CreateBoson(a)**2*AnnihilateBoson(a)**2/(w_d**3 + 9*w_d**2*w_s + 27*w_d*w_s**2 + 27*w_s**3) + 72*eta*g4**2*w_d**2*conjugate(eta)/(w_d**3 + 3*w_d**2*w_s + 3*w_d*w_s**2 + w_s**3) + 432*eta*g4**2*w_d**2*conjugate(eta)*CreateBoson(a)*AnnihilateBoson(a)/(w_d**3 + 3*w_d**2*w_s + 3*w_d*w_s**2 + w_s**3) + 216*eta*g4**2*w_d**2*conjugate(eta)*CreateBoson(a)**2*AnnihilateBoson(a)**2/(w_d**3 + 3*w_d**2*w_s + 3*w_d*w_s**2 + w_s**3) - 72*eta*g4**2*w_d**2*conjugate(eta)/(w_d**3 - 3*w_d**2*w_s + 3*w_d*w_s**2 - w_s**3) - 432*eta*g4**2*w_d**2*conjugate(eta)*CreateBoson(a)*AnnihilateBoson(a)/(w_d**3 - 3*w_d**2*w_s + 3*w_d*w_s**2 - w_s**3) - 216*eta*g4**2*w_d**2*conjugate(eta)*CreateBoson(a)**2*AnnihilateBoson(a)**2/(w_d**3 - 3*w_d**2*w_s + 3*w_d*w_s**2 - w_s**3) - 48*eta*g4**2*w_d**2*conjugate(eta)/(w_d**3 - 9*w_d**2*w_s + 27*w_d*w_s**2 - 27*w_s**3) - 144*eta*g4**2*w_d**2*conjugate(eta)*CreateBoson(a)*AnnihilateBoson(a)/(w_d**3 - 9*w_d**2*w_s + 27*w_d*w_s**2 - 27*w_s**3) - 72*eta*g4**2*w_d**2*conjugate(eta)*CreateBoson(a)**2*AnnihilateBoson(a)**2/(w_d**3 - 9*w_d**2*w_s + 27*w_d*w_s**2 - 27*w_s**3) + 144*eta*g4**2*w_d*w_s*conjugate(eta)/(w_d**3 + 9*w_d**2*w_s + 27*w_d*w_s**2 + 27*w_s**3) + 432*eta*g4**2*w_d*w_s*conjugate(eta)*CreateBoson(a)*AnnihilateBoson(a)/(w_d**3 + 9*w_d**2*w_s + 27*w_d*w_s**2 + 27*w_s**3) + 216*eta*g4**2*w_d*w_s*conjugate(eta)*CreateBoson(a)**2*AnnihilateBoson(a)**2/(w_d**3 + 9*w_d**2*w_s + 27*w_d*w_s**2 + 27*w_s**3) + 72*eta*g4**2*w_d*w_s*conjugate(eta)/(w_d**3 + 3*w_d**2*w_s + 3*w_d*w_s**2 + w_s**3) + 432*eta*g4**2*w_d*w_s*conjugate(eta)*CreateBoson(a)*AnnihilateBoson(a)/(w_d**3 + 3*w_d**2*w_s + 3*w_d*w_s**2 + w_s**3) + 216*eta*g4**2*w_d*w_s*conjugate(eta)*CreateBoson(a)**2*AnnihilateBoson(a)**2/(w_d**3 + 3*w_d**2*w_s + 3*w_d*w_s**2 + w_s**3) + 72*eta*g4**2*w_d*w_s*conjugate(eta)/(w_d**3 - 3*w_d**2*w_s + 3*w_d*w_s**2 - w_s**3) + 432*eta*g4**2*w_d*w_s*conjugate(eta)*CreateBoson(a)*AnnihilateBoson(a)/(w_d**3 - 3*w_d**2*w_s + 3*w_d*w_s**2 - w_s**3) + 216*eta*g4**2*w_d*w_s*conjugate(eta)*CreateBoson(a)**2*AnnihilateBoson(a)**2/(w_d**3 - 3*w_d**2*w_s + 3*w_d*w_s**2 - w_s**3) + 144*eta*g4**2*w_d*w_s*conjugate(eta)/(w_d**3 - 9*w_d**2*w_s + 27*w_d*w_s**2 - 27*w_s**3) + 432*eta*g4**2*w_d*w_s*conjugate(eta)*CreateBoson(a)*AnnihilateBoson(a)/(w_d**3 - 9*w_d**2*w_s + 27*w_d*w_s**2 - 27*w_s**3) + 216*eta*g4**2*w_d*w_s*conjugate(eta)*CreateBoson(a)**2*AnnihilateBoson(a)**2/(w_d**3 - 9*w_d**2*w_s + 27*w_d*w_s**2 - 27*w_s**3) + 48*eta*g4**2*w_d*conjugate(eta)/(w_d**2 + 6*w_d*w_s + 9*w_s**2) + 144*eta*g4**2*w_d*conjugate(eta)*CreateBoson(a)*AnnihilateBoson(a)/(w_d**2 + 6*w_d*w_s + 9*w_s**2) + 72*eta*g4**2*w_d*conjugate(eta)*CreateBoson(a)**2*AnnihilateBoson(a)**2/(w_d**2 + 6*w_d*w_s + 9*w_s**2) + 72*eta*g4**2*w_d*conjugate(eta)/(w_d**2 + 2*w_d*w_s + w_s**2) + 432*eta*g4**2*w_d*conjugate(eta)*CreateBoson(a)*AnnihilateBoson(a)/(w_d**2 + 2*w_d*w_s + w_s**2) + 216*eta*g4**2*w_d*conjugate(eta)*CreateBoson(a)**2*AnnihilateBoson(a)**2/(w_d**2 + 2*w_d*w_s + w_s**2) - 72*eta*g4**2*w_d*conjugate(eta)/(w_d**2 - 2*w_d*w_s + w_s**2) - 432*eta*g4**2*w_d*conjugate(eta)*CreateBoson(a)*AnnihilateBoson(a)/(w_d**2 - 2*w_d*w_s + w_s**2) - 216*eta*g4**2*w_d*conjugate(eta)*CreateBoson(a)**2*AnnihilateBoson(a)**2/(w_d**2 - 2*w_d*w_s + w_s**2) - 48*eta*g4**2*w_d*conjugate(eta)/(w_d**2 - 6*w_d*w_s + 9*w_s**2) - 144*eta*g4**2*w_d*conjugate(eta)*CreateBoson(a)*AnnihilateBoson(a)/(w_d**2 - 6*w_d*w_s + 9*w_s**2) - 72*eta*g4**2*w_d*conjugate(eta)*CreateBoson(a)**2*AnnihilateBoson(a)**2/(w_d**2 - 6*w_d*w_s + 9*w_s**2)"
      ]
     },
     "execution_count": 34,
     "metadata": {},
     "output_type": "execute_result"
    }
   ],
   "source": [
    "h2_ti"
   ]
  },
  {
   "cell_type": "code",
   "execution_count": 35,
   "id": "f6e4d642",
   "metadata": {},
   "outputs": [
    {
     "data": {
      "text/plain": [
       "78"
      ]
     },
     "execution_count": 35,
     "metadata": {},
     "output_type": "execute_result"
    }
   ],
   "source": [
    "len(h2_ti.args)"
   ]
  },
  {
   "cell_type": "code",
   "execution_count": 59,
   "id": "00cb8adc",
   "metadata": {},
   "outputs": [
    {
     "ename": "KeyboardInterrupt",
     "evalue": "",
     "output_type": "error",
     "traceback": [
      "\u001b[0;31m---------------------------------------------------------------------------\u001b[0m",
      "\u001b[0;31mKeyError\u001b[0m                                  Traceback (most recent call last)",
      "File \u001b[0;32m~/miniconda3/lib/python3.8/site-packages/sympy/core/assumptions.py:479\u001b[0m, in \u001b[0;36mmake_property.<locals>.getit\u001b[0;34m(self)\u001b[0m\n\u001b[1;32m    478\u001b[0m \u001b[38;5;28;01mtry\u001b[39;00m:\n\u001b[0;32m--> 479\u001b[0m     \u001b[38;5;28;01mreturn\u001b[39;00m \u001b[38;5;28;43mself\u001b[39;49m\u001b[38;5;241;43m.\u001b[39;49m\u001b[43m_assumptions\u001b[49m\u001b[43m[\u001b[49m\u001b[43mfact\u001b[49m\u001b[43m]\u001b[49m\n\u001b[1;32m    480\u001b[0m \u001b[38;5;28;01mexcept\u001b[39;00m \u001b[38;5;167;01mKeyError\u001b[39;00m:\n",
      "\u001b[0;31mKeyError\u001b[0m: 'nonnegative'",
      "\nDuring handling of the above exception, another exception occurred:\n",
      "\u001b[0;31mKeyError\u001b[0m                                  Traceback (most recent call last)",
      "File \u001b[0;32m~/miniconda3/lib/python3.8/site-packages/sympy/core/assumptions.py:479\u001b[0m, in \u001b[0;36mmake_property.<locals>.getit\u001b[0;34m(self)\u001b[0m\n\u001b[1;32m    478\u001b[0m \u001b[38;5;28;01mtry\u001b[39;00m:\n\u001b[0;32m--> 479\u001b[0m     \u001b[38;5;28;01mreturn\u001b[39;00m \u001b[38;5;28;43mself\u001b[39;49m\u001b[38;5;241;43m.\u001b[39;49m\u001b[43m_assumptions\u001b[49m\u001b[43m[\u001b[49m\u001b[43mfact\u001b[49m\u001b[43m]\u001b[49m\n\u001b[1;32m    480\u001b[0m \u001b[38;5;28;01mexcept\u001b[39;00m \u001b[38;5;167;01mKeyError\u001b[39;00m:\n",
      "\u001b[0;31mKeyError\u001b[0m: 'zero'",
      "\nDuring handling of the above exception, another exception occurred:\n",
      "\u001b[0;31mKeyError\u001b[0m                                  Traceback (most recent call last)",
      "File \u001b[0;32m~/miniconda3/lib/python3.8/site-packages/sympy/core/assumptions.py:479\u001b[0m, in \u001b[0;36mmake_property.<locals>.getit\u001b[0;34m(self)\u001b[0m\n\u001b[1;32m    478\u001b[0m \u001b[38;5;28;01mtry\u001b[39;00m:\n\u001b[0;32m--> 479\u001b[0m     \u001b[38;5;28;01mreturn\u001b[39;00m \u001b[38;5;28;43mself\u001b[39;49m\u001b[38;5;241;43m.\u001b[39;49m\u001b[43m_assumptions\u001b[49m\u001b[43m[\u001b[49m\u001b[43mfact\u001b[49m\u001b[43m]\u001b[49m\n\u001b[1;32m    480\u001b[0m \u001b[38;5;28;01mexcept\u001b[39;00m \u001b[38;5;167;01mKeyError\u001b[39;00m:\n",
      "\u001b[0;31mKeyError\u001b[0m: 'zero'",
      "\nDuring handling of the above exception, another exception occurred:\n",
      "\u001b[0;31mKeyError\u001b[0m                                  Traceback (most recent call last)",
      "File \u001b[0;32m~/miniconda3/lib/python3.8/site-packages/sympy/core/assumptions.py:479\u001b[0m, in \u001b[0;36mmake_property.<locals>.getit\u001b[0;34m(self)\u001b[0m\n\u001b[1;32m    478\u001b[0m \u001b[38;5;28;01mtry\u001b[39;00m:\n\u001b[0;32m--> 479\u001b[0m     \u001b[38;5;28;01mreturn\u001b[39;00m \u001b[38;5;28;43mself\u001b[39;49m\u001b[38;5;241;43m.\u001b[39;49m\u001b[43m_assumptions\u001b[49m\u001b[43m[\u001b[49m\u001b[43mfact\u001b[49m\u001b[43m]\u001b[49m\n\u001b[1;32m    480\u001b[0m \u001b[38;5;28;01mexcept\u001b[39;00m \u001b[38;5;167;01mKeyError\u001b[39;00m:\n",
      "\u001b[0;31mKeyError\u001b[0m: 'extended_nonnegative'",
      "\nDuring handling of the above exception, another exception occurred:\n",
      "\u001b[0;31mKeyboardInterrupt\u001b[0m                         Traceback (most recent call last)",
      "Input \u001b[0;32mIn [59]\u001b[0m, in \u001b[0;36m<module>\u001b[0;34m\u001b[0m\n\u001b[1;32m      1\u001b[0m x \u001b[38;5;241m=\u001b[39m symbols(\u001b[38;5;124m'\u001b[39m\u001b[38;5;124mx\u001b[39m\u001b[38;5;124m'\u001b[39m, real\u001b[38;5;241m=\u001b[39m\u001b[38;5;28;01mTrue\u001b[39;00m)\n\u001b[1;32m      2\u001b[0m y\u001b[38;5;241m=\u001b[39m symbols(\u001b[38;5;124m'\u001b[39m\u001b[38;5;124my\u001b[39m\u001b[38;5;124m'\u001b[39m, real\u001b[38;5;241m=\u001b[39m\u001b[38;5;28;01mTrue\u001b[39;00m)\n\u001b[0;32m----> 3\u001b[0m h2\u001b[38;5;241m=\u001b[39m\u001b[43mh2_ti\u001b[49m\u001b[38;5;241;43m.\u001b[39;49m\u001b[43msubs\u001b[49m\u001b[43m(\u001b[49m\u001b[43mg3\u001b[49m\u001b[38;5;241;43m*\u001b[39;49m\u001b[38;5;241;43m*\u001b[39;49m\u001b[38;5;241;43m2\u001b[39;49m\u001b[38;5;241;43m/\u001b[39;49m\u001b[43momega_a\u001b[49m\u001b[38;5;241;43m*\u001b[39;49m\u001b[38;5;241;43m*\u001b[39;49m\u001b[38;5;241;43m2\u001b[39;49m\u001b[43m,\u001b[49m\u001b[43mx\u001b[49m\u001b[43m)\u001b[49m\n\u001b[1;32m      4\u001b[0m h2\u001b[38;5;241m=\u001b[39mh2\u001b[38;5;241m.\u001b[39msubs(g4\u001b[38;5;241m/\u001b[39momega_a,y)\n\u001b[1;32m      5\u001b[0m \u001b[38;5;28;01mfrom\u001b[39;00m \u001b[38;5;21;01msympy\u001b[39;00m \u001b[38;5;28;01mimport\u001b[39;00m symbols, diff\n",
      "File \u001b[0;32m~/miniconda3/lib/python3.8/site-packages/sympy/core/basic.py:997\u001b[0m, in \u001b[0;36mBasic.subs\u001b[0;34m(self, *args, **kwargs)\u001b[0m\n\u001b[1;32m    995\u001b[0m rv \u001b[38;5;241m=\u001b[39m \u001b[38;5;28mself\u001b[39m\n\u001b[1;32m    996\u001b[0m \u001b[38;5;28;01mfor\u001b[39;00m old, new \u001b[38;5;129;01min\u001b[39;00m sequence:\n\u001b[0;32m--> 997\u001b[0m     rv \u001b[38;5;241m=\u001b[39m \u001b[43mrv\u001b[49m\u001b[38;5;241;43m.\u001b[39;49m\u001b[43m_subs\u001b[49m\u001b[43m(\u001b[49m\u001b[43mold\u001b[49m\u001b[43m,\u001b[49m\u001b[43m \u001b[49m\u001b[43mnew\u001b[49m\u001b[43m,\u001b[49m\u001b[43m \u001b[49m\u001b[38;5;241;43m*\u001b[39;49m\u001b[38;5;241;43m*\u001b[39;49m\u001b[43mkwargs\u001b[49m\u001b[43m)\u001b[49m\n\u001b[1;32m    998\u001b[0m     \u001b[38;5;28;01mif\u001b[39;00m \u001b[38;5;129;01mnot\u001b[39;00m \u001b[38;5;28misinstance\u001b[39m(rv, Basic):\n\u001b[1;32m    999\u001b[0m         \u001b[38;5;28;01mbreak\u001b[39;00m\n",
      "File \u001b[0;32m~/miniconda3/lib/python3.8/site-packages/sympy/core/cache.py:70\u001b[0m, in \u001b[0;36m__cacheit.<locals>.func_wrapper.<locals>.wrapper\u001b[0;34m(*args, **kwargs)\u001b[0m\n\u001b[1;32m     67\u001b[0m \u001b[38;5;129m@wraps\u001b[39m(func)\n\u001b[1;32m     68\u001b[0m \u001b[38;5;28;01mdef\u001b[39;00m \u001b[38;5;21mwrapper\u001b[39m(\u001b[38;5;241m*\u001b[39margs, \u001b[38;5;241m*\u001b[39m\u001b[38;5;241m*\u001b[39mkwargs):\n\u001b[1;32m     69\u001b[0m     \u001b[38;5;28;01mtry\u001b[39;00m:\n\u001b[0;32m---> 70\u001b[0m         retval \u001b[38;5;241m=\u001b[39m \u001b[43mcfunc\u001b[49m\u001b[43m(\u001b[49m\u001b[38;5;241;43m*\u001b[39;49m\u001b[43margs\u001b[49m\u001b[43m,\u001b[49m\u001b[43m \u001b[49m\u001b[38;5;241;43m*\u001b[39;49m\u001b[38;5;241;43m*\u001b[39;49m\u001b[43mkwargs\u001b[49m\u001b[43m)\u001b[49m\n\u001b[1;32m     71\u001b[0m     \u001b[38;5;28;01mexcept\u001b[39;00m \u001b[38;5;167;01mTypeError\u001b[39;00m \u001b[38;5;28;01mas\u001b[39;00m e:\n\u001b[1;32m     72\u001b[0m         \u001b[38;5;28;01mif\u001b[39;00m \u001b[38;5;129;01mnot\u001b[39;00m e\u001b[38;5;241m.\u001b[39margs \u001b[38;5;129;01mor\u001b[39;00m \u001b[38;5;129;01mnot\u001b[39;00m e\u001b[38;5;241m.\u001b[39margs[\u001b[38;5;241m0\u001b[39m]\u001b[38;5;241m.\u001b[39mstartswith(\u001b[38;5;124m'\u001b[39m\u001b[38;5;124munhashable type:\u001b[39m\u001b[38;5;124m'\u001b[39m):\n",
      "File \u001b[0;32m~/miniconda3/lib/python3.8/site-packages/sympy/core/basic.py:1111\u001b[0m, in \u001b[0;36mBasic._subs\u001b[0;34m(self, old, new, **hints)\u001b[0m\n\u001b[1;32m   1109\u001b[0m rv \u001b[38;5;241m=\u001b[39m \u001b[38;5;28mself\u001b[39m\u001b[38;5;241m.\u001b[39m_eval_subs(old, new)\n\u001b[1;32m   1110\u001b[0m \u001b[38;5;28;01mif\u001b[39;00m rv \u001b[38;5;129;01mis\u001b[39;00m \u001b[38;5;28;01mNone\u001b[39;00m:\n\u001b[0;32m-> 1111\u001b[0m     rv \u001b[38;5;241m=\u001b[39m \u001b[43mfallback\u001b[49m\u001b[43m(\u001b[49m\u001b[38;5;28;43mself\u001b[39;49m\u001b[43m,\u001b[49m\u001b[43m \u001b[49m\u001b[43mold\u001b[49m\u001b[43m,\u001b[49m\u001b[43m \u001b[49m\u001b[43mnew\u001b[49m\u001b[43m)\u001b[49m\n\u001b[1;32m   1112\u001b[0m \u001b[38;5;28;01mreturn\u001b[39;00m rv\n",
      "File \u001b[0;32m~/miniconda3/lib/python3.8/site-packages/sympy/core/basic.py:1083\u001b[0m, in \u001b[0;36mBasic._subs.<locals>.fallback\u001b[0;34m(self, old, new)\u001b[0m\n\u001b[1;32m   1081\u001b[0m \u001b[38;5;28;01mif\u001b[39;00m \u001b[38;5;129;01mnot\u001b[39;00m \u001b[38;5;28mhasattr\u001b[39m(arg, \u001b[38;5;124m'\u001b[39m\u001b[38;5;124m_eval_subs\u001b[39m\u001b[38;5;124m'\u001b[39m):\n\u001b[1;32m   1082\u001b[0m     \u001b[38;5;28;01mcontinue\u001b[39;00m\n\u001b[0;32m-> 1083\u001b[0m arg \u001b[38;5;241m=\u001b[39m \u001b[43marg\u001b[49m\u001b[38;5;241;43m.\u001b[39;49m\u001b[43m_subs\u001b[49m\u001b[43m(\u001b[49m\u001b[43mold\u001b[49m\u001b[43m,\u001b[49m\u001b[43m \u001b[49m\u001b[43mnew\u001b[49m\u001b[43m,\u001b[49m\u001b[43m \u001b[49m\u001b[38;5;241;43m*\u001b[39;49m\u001b[38;5;241;43m*\u001b[39;49m\u001b[43mhints\u001b[49m\u001b[43m)\u001b[49m\n\u001b[1;32m   1084\u001b[0m \u001b[38;5;28;01mif\u001b[39;00m \u001b[38;5;129;01mnot\u001b[39;00m _aresame(arg, args[i]):\n\u001b[1;32m   1085\u001b[0m     hit \u001b[38;5;241m=\u001b[39m \u001b[38;5;28;01mTrue\u001b[39;00m\n",
      "File \u001b[0;32m~/miniconda3/lib/python3.8/site-packages/sympy/core/cache.py:70\u001b[0m, in \u001b[0;36m__cacheit.<locals>.func_wrapper.<locals>.wrapper\u001b[0;34m(*args, **kwargs)\u001b[0m\n\u001b[1;32m     67\u001b[0m \u001b[38;5;129m@wraps\u001b[39m(func)\n\u001b[1;32m     68\u001b[0m \u001b[38;5;28;01mdef\u001b[39;00m \u001b[38;5;21mwrapper\u001b[39m(\u001b[38;5;241m*\u001b[39margs, \u001b[38;5;241m*\u001b[39m\u001b[38;5;241m*\u001b[39mkwargs):\n\u001b[1;32m     69\u001b[0m     \u001b[38;5;28;01mtry\u001b[39;00m:\n\u001b[0;32m---> 70\u001b[0m         retval \u001b[38;5;241m=\u001b[39m \u001b[43mcfunc\u001b[49m\u001b[43m(\u001b[49m\u001b[38;5;241;43m*\u001b[39;49m\u001b[43margs\u001b[49m\u001b[43m,\u001b[49m\u001b[43m \u001b[49m\u001b[38;5;241;43m*\u001b[39;49m\u001b[38;5;241;43m*\u001b[39;49m\u001b[43mkwargs\u001b[49m\u001b[43m)\u001b[49m\n\u001b[1;32m     71\u001b[0m     \u001b[38;5;28;01mexcept\u001b[39;00m \u001b[38;5;167;01mTypeError\u001b[39;00m \u001b[38;5;28;01mas\u001b[39;00m e:\n\u001b[1;32m     72\u001b[0m         \u001b[38;5;28;01mif\u001b[39;00m \u001b[38;5;129;01mnot\u001b[39;00m e\u001b[38;5;241m.\u001b[39margs \u001b[38;5;129;01mor\u001b[39;00m \u001b[38;5;129;01mnot\u001b[39;00m e\u001b[38;5;241m.\u001b[39margs[\u001b[38;5;241m0\u001b[39m]\u001b[38;5;241m.\u001b[39mstartswith(\u001b[38;5;124m'\u001b[39m\u001b[38;5;124munhashable type:\u001b[39m\u001b[38;5;124m'\u001b[39m):\n",
      "File \u001b[0;32m~/miniconda3/lib/python3.8/site-packages/sympy/core/basic.py:1109\u001b[0m, in \u001b[0;36mBasic._subs\u001b[0;34m(self, old, new, **hints)\u001b[0m\n\u001b[1;32m   1106\u001b[0m \u001b[38;5;28;01mif\u001b[39;00m _aresame(\u001b[38;5;28mself\u001b[39m, old):\n\u001b[1;32m   1107\u001b[0m     \u001b[38;5;28;01mreturn\u001b[39;00m new\n\u001b[0;32m-> 1109\u001b[0m rv \u001b[38;5;241m=\u001b[39m \u001b[38;5;28;43mself\u001b[39;49m\u001b[38;5;241;43m.\u001b[39;49m\u001b[43m_eval_subs\u001b[49m\u001b[43m(\u001b[49m\u001b[43mold\u001b[49m\u001b[43m,\u001b[49m\u001b[43m \u001b[49m\u001b[43mnew\u001b[49m\u001b[43m)\u001b[49m\n\u001b[1;32m   1110\u001b[0m \u001b[38;5;28;01mif\u001b[39;00m rv \u001b[38;5;129;01mis\u001b[39;00m \u001b[38;5;28;01mNone\u001b[39;00m:\n\u001b[1;32m   1111\u001b[0m     rv \u001b[38;5;241m=\u001b[39m fallback(\u001b[38;5;28mself\u001b[39m, old, new)\n",
      "File \u001b[0;32m~/miniconda3/lib/python3.8/site-packages/sympy/core/mul.py:1691\u001b[0m, in \u001b[0;36mMul._eval_subs\u001b[0;34m(self, old, new)\u001b[0m\n\u001b[1;32m   1689\u001b[0m self2 \u001b[38;5;241m=\u001b[39m \u001b[38;5;28mself\u001b[39m\n\u001b[1;32m   1690\u001b[0m \u001b[38;5;28;01mif\u001b[39;00m d \u001b[38;5;129;01mis\u001b[39;00m \u001b[38;5;129;01mnot\u001b[39;00m S\u001b[38;5;241m.\u001b[39mOne:\n\u001b[0;32m-> 1691\u001b[0m     self2 \u001b[38;5;241m=\u001b[39m \u001b[43mn\u001b[49m\u001b[38;5;241;43m.\u001b[39;49m\u001b[43m_subs\u001b[49m\u001b[43m(\u001b[49m\u001b[43mold\u001b[49m\u001b[43m,\u001b[49m\u001b[43m \u001b[49m\u001b[43mnew\u001b[49m\u001b[43m)\u001b[49m\u001b[38;5;241m/\u001b[39md\u001b[38;5;241m.\u001b[39m_subs(old, new)\n\u001b[1;32m   1692\u001b[0m     \u001b[38;5;28;01mif\u001b[39;00m \u001b[38;5;129;01mnot\u001b[39;00m self2\u001b[38;5;241m.\u001b[39mis_Mul:\n\u001b[1;32m   1693\u001b[0m         \u001b[38;5;28;01mreturn\u001b[39;00m self2\u001b[38;5;241m.\u001b[39m_subs(old, new)\n",
      "File \u001b[0;32m~/miniconda3/lib/python3.8/site-packages/sympy/core/cache.py:70\u001b[0m, in \u001b[0;36m__cacheit.<locals>.func_wrapper.<locals>.wrapper\u001b[0;34m(*args, **kwargs)\u001b[0m\n\u001b[1;32m     67\u001b[0m \u001b[38;5;129m@wraps\u001b[39m(func)\n\u001b[1;32m     68\u001b[0m \u001b[38;5;28;01mdef\u001b[39;00m \u001b[38;5;21mwrapper\u001b[39m(\u001b[38;5;241m*\u001b[39margs, \u001b[38;5;241m*\u001b[39m\u001b[38;5;241m*\u001b[39mkwargs):\n\u001b[1;32m     69\u001b[0m     \u001b[38;5;28;01mtry\u001b[39;00m:\n\u001b[0;32m---> 70\u001b[0m         retval \u001b[38;5;241m=\u001b[39m \u001b[43mcfunc\u001b[49m\u001b[43m(\u001b[49m\u001b[38;5;241;43m*\u001b[39;49m\u001b[43margs\u001b[49m\u001b[43m,\u001b[49m\u001b[43m \u001b[49m\u001b[38;5;241;43m*\u001b[39;49m\u001b[38;5;241;43m*\u001b[39;49m\u001b[43mkwargs\u001b[49m\u001b[43m)\u001b[49m\n\u001b[1;32m     71\u001b[0m     \u001b[38;5;28;01mexcept\u001b[39;00m \u001b[38;5;167;01mTypeError\u001b[39;00m \u001b[38;5;28;01mas\u001b[39;00m e:\n\u001b[1;32m     72\u001b[0m         \u001b[38;5;28;01mif\u001b[39;00m \u001b[38;5;129;01mnot\u001b[39;00m e\u001b[38;5;241m.\u001b[39margs \u001b[38;5;129;01mor\u001b[39;00m \u001b[38;5;129;01mnot\u001b[39;00m e\u001b[38;5;241m.\u001b[39margs[\u001b[38;5;241m0\u001b[39m]\u001b[38;5;241m.\u001b[39mstartswith(\u001b[38;5;124m'\u001b[39m\u001b[38;5;124munhashable type:\u001b[39m\u001b[38;5;124m'\u001b[39m):\n",
      "File \u001b[0;32m~/miniconda3/lib/python3.8/site-packages/sympy/core/basic.py:1111\u001b[0m, in \u001b[0;36mBasic._subs\u001b[0;34m(self, old, new, **hints)\u001b[0m\n\u001b[1;32m   1109\u001b[0m rv \u001b[38;5;241m=\u001b[39m \u001b[38;5;28mself\u001b[39m\u001b[38;5;241m.\u001b[39m_eval_subs(old, new)\n\u001b[1;32m   1110\u001b[0m \u001b[38;5;28;01mif\u001b[39;00m rv \u001b[38;5;129;01mis\u001b[39;00m \u001b[38;5;28;01mNone\u001b[39;00m:\n\u001b[0;32m-> 1111\u001b[0m     rv \u001b[38;5;241m=\u001b[39m \u001b[43mfallback\u001b[49m\u001b[43m(\u001b[49m\u001b[38;5;28;43mself\u001b[39;49m\u001b[43m,\u001b[49m\u001b[43m \u001b[49m\u001b[43mold\u001b[49m\u001b[43m,\u001b[49m\u001b[43m \u001b[49m\u001b[43mnew\u001b[49m\u001b[43m)\u001b[49m\n\u001b[1;32m   1112\u001b[0m \u001b[38;5;28;01mreturn\u001b[39;00m rv\n",
      "File \u001b[0;32m~/miniconda3/lib/python3.8/site-packages/sympy/core/basic.py:1083\u001b[0m, in \u001b[0;36mBasic._subs.<locals>.fallback\u001b[0;34m(self, old, new)\u001b[0m\n\u001b[1;32m   1081\u001b[0m \u001b[38;5;28;01mif\u001b[39;00m \u001b[38;5;129;01mnot\u001b[39;00m \u001b[38;5;28mhasattr\u001b[39m(arg, \u001b[38;5;124m'\u001b[39m\u001b[38;5;124m_eval_subs\u001b[39m\u001b[38;5;124m'\u001b[39m):\n\u001b[1;32m   1082\u001b[0m     \u001b[38;5;28;01mcontinue\u001b[39;00m\n\u001b[0;32m-> 1083\u001b[0m arg \u001b[38;5;241m=\u001b[39m \u001b[43marg\u001b[49m\u001b[38;5;241;43m.\u001b[39;49m\u001b[43m_subs\u001b[49m\u001b[43m(\u001b[49m\u001b[43mold\u001b[49m\u001b[43m,\u001b[49m\u001b[43m \u001b[49m\u001b[43mnew\u001b[49m\u001b[43m,\u001b[49m\u001b[43m \u001b[49m\u001b[38;5;241;43m*\u001b[39;49m\u001b[38;5;241;43m*\u001b[39;49m\u001b[43mhints\u001b[49m\u001b[43m)\u001b[49m\n\u001b[1;32m   1084\u001b[0m \u001b[38;5;28;01mif\u001b[39;00m \u001b[38;5;129;01mnot\u001b[39;00m _aresame(arg, args[i]):\n\u001b[1;32m   1085\u001b[0m     hit \u001b[38;5;241m=\u001b[39m \u001b[38;5;28;01mTrue\u001b[39;00m\n",
      "File \u001b[0;32m~/miniconda3/lib/python3.8/site-packages/sympy/core/cache.py:70\u001b[0m, in \u001b[0;36m__cacheit.<locals>.func_wrapper.<locals>.wrapper\u001b[0;34m(*args, **kwargs)\u001b[0m\n\u001b[1;32m     67\u001b[0m \u001b[38;5;129m@wraps\u001b[39m(func)\n\u001b[1;32m     68\u001b[0m \u001b[38;5;28;01mdef\u001b[39;00m \u001b[38;5;21mwrapper\u001b[39m(\u001b[38;5;241m*\u001b[39margs, \u001b[38;5;241m*\u001b[39m\u001b[38;5;241m*\u001b[39mkwargs):\n\u001b[1;32m     69\u001b[0m     \u001b[38;5;28;01mtry\u001b[39;00m:\n\u001b[0;32m---> 70\u001b[0m         retval \u001b[38;5;241m=\u001b[39m \u001b[43mcfunc\u001b[49m\u001b[43m(\u001b[49m\u001b[38;5;241;43m*\u001b[39;49m\u001b[43margs\u001b[49m\u001b[43m,\u001b[49m\u001b[43m \u001b[49m\u001b[38;5;241;43m*\u001b[39;49m\u001b[38;5;241;43m*\u001b[39;49m\u001b[43mkwargs\u001b[49m\u001b[43m)\u001b[49m\n\u001b[1;32m     71\u001b[0m     \u001b[38;5;28;01mexcept\u001b[39;00m \u001b[38;5;167;01mTypeError\u001b[39;00m \u001b[38;5;28;01mas\u001b[39;00m e:\n\u001b[1;32m     72\u001b[0m         \u001b[38;5;28;01mif\u001b[39;00m \u001b[38;5;129;01mnot\u001b[39;00m e\u001b[38;5;241m.\u001b[39margs \u001b[38;5;129;01mor\u001b[39;00m \u001b[38;5;129;01mnot\u001b[39;00m e\u001b[38;5;241m.\u001b[39margs[\u001b[38;5;241m0\u001b[39m]\u001b[38;5;241m.\u001b[39mstartswith(\u001b[38;5;124m'\u001b[39m\u001b[38;5;124munhashable type:\u001b[39m\u001b[38;5;124m'\u001b[39m):\n",
      "File \u001b[0;32m~/miniconda3/lib/python3.8/site-packages/sympy/core/basic.py:1109\u001b[0m, in \u001b[0;36mBasic._subs\u001b[0;34m(self, old, new, **hints)\u001b[0m\n\u001b[1;32m   1106\u001b[0m \u001b[38;5;28;01mif\u001b[39;00m _aresame(\u001b[38;5;28mself\u001b[39m, old):\n\u001b[1;32m   1107\u001b[0m     \u001b[38;5;28;01mreturn\u001b[39;00m new\n\u001b[0;32m-> 1109\u001b[0m rv \u001b[38;5;241m=\u001b[39m \u001b[38;5;28;43mself\u001b[39;49m\u001b[38;5;241;43m.\u001b[39;49m\u001b[43m_eval_subs\u001b[49m\u001b[43m(\u001b[49m\u001b[43mold\u001b[49m\u001b[43m,\u001b[49m\u001b[43m \u001b[49m\u001b[43mnew\u001b[49m\u001b[43m)\u001b[49m\n\u001b[1;32m   1110\u001b[0m \u001b[38;5;28;01mif\u001b[39;00m rv \u001b[38;5;129;01mis\u001b[39;00m \u001b[38;5;28;01mNone\u001b[39;00m:\n\u001b[1;32m   1111\u001b[0m     rv \u001b[38;5;241m=\u001b[39m fallback(\u001b[38;5;28mself\u001b[39m, old, new)\n",
      "File \u001b[0;32m~/miniconda3/lib/python3.8/site-packages/sympy/core/mul.py:1716\u001b[0m, in \u001b[0;36mMul._eval_subs\u001b[0;34m(self, old, new)\u001b[0m\n\u001b[1;32m   1712\u001b[0m     \u001b[38;5;28;01mreturn\u001b[39;00m rv\n\u001b[1;32m   1714\u001b[0m \u001b[38;5;66;03m# break self and old into factors\u001b[39;00m\n\u001b[0;32m-> 1716\u001b[0m (c, nc) \u001b[38;5;241m=\u001b[39m \u001b[43mbreakup\u001b[49m\u001b[43m(\u001b[49m\u001b[43mself2\u001b[49m\u001b[43m)\u001b[49m\n\u001b[1;32m   1717\u001b[0m (old_c, old_nc) \u001b[38;5;241m=\u001b[39m breakup(old)\n\u001b[1;32m   1719\u001b[0m \u001b[38;5;66;03m# update the coefficients if we had an extraction\u001b[39;00m\n\u001b[1;32m   1720\u001b[0m \u001b[38;5;66;03m# e.g. if co_self were 2*(3/35*x)**2 and co_old = 3/5\u001b[39;00m\n\u001b[1;32m   1721\u001b[0m \u001b[38;5;66;03m# then co_self in c is replaced by (3/5)**2 and co_residual\u001b[39;00m\n\u001b[1;32m   1722\u001b[0m \u001b[38;5;66;03m# is 2*(1/7)**2\u001b[39;00m\n",
      "File \u001b[0;32m~/miniconda3/lib/python3.8/site-packages/sympy/core/mul.py:1654\u001b[0m, in \u001b[0;36mMul._eval_subs.<locals>.breakup\u001b[0;34m(eq)\u001b[0m\n\u001b[1;32m   1652\u001b[0m (c, nc) \u001b[38;5;241m=\u001b[39m (defaultdict(\u001b[38;5;28mint\u001b[39m), \u001b[38;5;28mlist\u001b[39m())\n\u001b[1;32m   1653\u001b[0m \u001b[38;5;28;01mfor\u001b[39;00m a \u001b[38;5;129;01min\u001b[39;00m Mul\u001b[38;5;241m.\u001b[39mmake_args(eq):\n\u001b[0;32m-> 1654\u001b[0m     a \u001b[38;5;241m=\u001b[39m \u001b[43mpowdenest\u001b[49m\u001b[43m(\u001b[49m\u001b[43ma\u001b[49m\u001b[43m)\u001b[49m\n\u001b[1;32m   1655\u001b[0m     (b, e) \u001b[38;5;241m=\u001b[39m base_exp(a)\n\u001b[1;32m   1656\u001b[0m     \u001b[38;5;28;01mif\u001b[39;00m e \u001b[38;5;129;01mis\u001b[39;00m \u001b[38;5;129;01mnot\u001b[39;00m S\u001b[38;5;241m.\u001b[39mOne:\n",
      "File \u001b[0;32m~/miniconda3/lib/python3.8/site-packages/sympy/simplify/powsimp.py:606\u001b[0m, in \u001b[0;36mpowdenest\u001b[0;34m(eq, force, polar)\u001b[0m\n\u001b[1;32m    603\u001b[0m     eq, rep \u001b[38;5;241m=\u001b[39m polarify(eq)\n\u001b[1;32m    604\u001b[0m     \u001b[38;5;28;01mreturn\u001b[39;00m unpolarify(powdenest(unpolarify(eq, exponents_only\u001b[38;5;241m=\u001b[39m\u001b[38;5;28;01mTrue\u001b[39;00m)), rep)\n\u001b[0;32m--> 606\u001b[0m new \u001b[38;5;241m=\u001b[39m \u001b[43mpowsimp\u001b[49m\u001b[43m(\u001b[49m\u001b[43meq\u001b[49m\u001b[43m)\u001b[49m\n\u001b[1;32m    607\u001b[0m \u001b[38;5;28;01mreturn\u001b[39;00m new\u001b[38;5;241m.\u001b[39mxreplace(Transform(\n\u001b[1;32m    608\u001b[0m     _denest_pow, \u001b[38;5;28mfilter\u001b[39m\u001b[38;5;241m=\u001b[39m\u001b[38;5;28;01mlambda\u001b[39;00m m: m\u001b[38;5;241m.\u001b[39mis_Pow \u001b[38;5;129;01mor\u001b[39;00m \u001b[38;5;28misinstance\u001b[39m(m, exp)))\n",
      "File \u001b[0;32m~/miniconda3/lib/python3.8/site-packages/sympy/simplify/powsimp.py:120\u001b[0m, in \u001b[0;36mpowsimp\u001b[0;34m(expr, deep, combine, force, measure)\u001b[0m\n\u001b[1;32m    117\u001b[0m     expr \u001b[38;5;241m=\u001b[39m expr\u001b[38;5;241m.\u001b[39mfunc(\u001b[38;5;241m*\u001b[39m[recurse(w) \u001b[38;5;28;01mfor\u001b[39;00m w \u001b[38;5;129;01min\u001b[39;00m expr\u001b[38;5;241m.\u001b[39margs])\n\u001b[1;32m    119\u001b[0m \u001b[38;5;28;01mif\u001b[39;00m expr\u001b[38;5;241m.\u001b[39mis_Pow:\n\u001b[0;32m--> 120\u001b[0m     \u001b[38;5;28;01mreturn\u001b[39;00m \u001b[43mrecurse\u001b[49m\u001b[43m(\u001b[49m\u001b[43mexpr\u001b[49m\u001b[38;5;241;43m*\u001b[39;49m\u001b[43m_y\u001b[49m\u001b[43m,\u001b[49m\u001b[43m \u001b[49m\u001b[43mdeep\u001b[49m\u001b[38;5;241;43m=\u001b[39;49m\u001b[38;5;28;43;01mFalse\u001b[39;49;00m\u001b[43m)\u001b[49m\u001b[38;5;241m/\u001b[39m_y\n\u001b[1;32m    122\u001b[0m \u001b[38;5;28;01mif\u001b[39;00m \u001b[38;5;129;01mnot\u001b[39;00m expr\u001b[38;5;241m.\u001b[39mis_Mul:\n\u001b[1;32m    123\u001b[0m     \u001b[38;5;28;01mreturn\u001b[39;00m expr\n",
      "File \u001b[0;32m~/miniconda3/lib/python3.8/site-packages/sympy/simplify/powsimp.py:108\u001b[0m, in \u001b[0;36mpowsimp.<locals>.recurse\u001b[0;34m(arg, **kwargs)\u001b[0m\n\u001b[1;32m    106\u001b[0m _force \u001b[38;5;241m=\u001b[39m kwargs\u001b[38;5;241m.\u001b[39mget(\u001b[38;5;124m'\u001b[39m\u001b[38;5;124mforce\u001b[39m\u001b[38;5;124m'\u001b[39m, force)\n\u001b[1;32m    107\u001b[0m _measure \u001b[38;5;241m=\u001b[39m kwargs\u001b[38;5;241m.\u001b[39mget(\u001b[38;5;124m'\u001b[39m\u001b[38;5;124mmeasure\u001b[39m\u001b[38;5;124m'\u001b[39m, measure)\n\u001b[0;32m--> 108\u001b[0m \u001b[38;5;28;01mreturn\u001b[39;00m \u001b[43mpowsimp\u001b[49m\u001b[43m(\u001b[49m\u001b[43marg\u001b[49m\u001b[43m,\u001b[49m\u001b[43m \u001b[49m\u001b[43m_deep\u001b[49m\u001b[43m,\u001b[49m\u001b[43m \u001b[49m\u001b[43m_combine\u001b[49m\u001b[43m,\u001b[49m\u001b[43m \u001b[49m\u001b[43m_force\u001b[49m\u001b[43m,\u001b[49m\u001b[43m \u001b[49m\u001b[43m_measure\u001b[49m\u001b[43m)\u001b[49m\n",
      "File \u001b[0;32m~/miniconda3/lib/python3.8/site-packages/sympy/simplify/powsimp.py:374\u001b[0m, in \u001b[0;36mpowsimp\u001b[0;34m(expr, deep, combine, force, measure)\u001b[0m\n\u001b[1;32m    371\u001b[0m         \u001b[38;5;28;01mreturn\u001b[39;00m expr\u001b[38;5;241m.\u001b[39mfunc(newexpr, expr\u001b[38;5;241m.\u001b[39mfunc(\u001b[38;5;241m*\u001b[39mnc_part))\n\u001b[1;32m    372\u001b[0m     \u001b[38;5;28;01melse\u001b[39;00m:\n\u001b[1;32m    373\u001b[0m         \u001b[38;5;28;01mreturn\u001b[39;00m recurse(expr\u001b[38;5;241m.\u001b[39mfunc(\u001b[38;5;241m*\u001b[39mnc_part), combine\u001b[38;5;241m=\u001b[39m\u001b[38;5;124m'\u001b[39m\u001b[38;5;124mbase\u001b[39m\u001b[38;5;124m'\u001b[39m) \u001b[38;5;241m*\u001b[39m \\\n\u001b[0;32m--> 374\u001b[0m             \u001b[43mrecurse\u001b[49m\u001b[43m(\u001b[49m\u001b[43mnewexpr\u001b[49m\u001b[43m,\u001b[49m\u001b[43m \u001b[49m\u001b[43mcombine\u001b[49m\u001b[38;5;241;43m=\u001b[39;49m\u001b[38;5;124;43m'\u001b[39;49m\u001b[38;5;124;43mbase\u001b[39;49m\u001b[38;5;124;43m'\u001b[39;49m\u001b[43m)\u001b[49m\n\u001b[1;32m    376\u001b[0m \u001b[38;5;28;01melif\u001b[39;00m combine \u001b[38;5;241m==\u001b[39m \u001b[38;5;124m'\u001b[39m\u001b[38;5;124mbase\u001b[39m\u001b[38;5;124m'\u001b[39m:\n\u001b[1;32m    377\u001b[0m \n\u001b[1;32m    378\u001b[0m     \u001b[38;5;66;03m# Build c_powers and nc_part.  These must both be lists not\u001b[39;00m\n\u001b[1;32m    379\u001b[0m     \u001b[38;5;66;03m# dicts because exp's are not combined.\u001b[39;00m\n\u001b[1;32m    380\u001b[0m     c_powers \u001b[38;5;241m=\u001b[39m []\n",
      "File \u001b[0;32m~/miniconda3/lib/python3.8/site-packages/sympy/simplify/powsimp.py:108\u001b[0m, in \u001b[0;36mpowsimp.<locals>.recurse\u001b[0;34m(arg, **kwargs)\u001b[0m\n\u001b[1;32m    106\u001b[0m _force \u001b[38;5;241m=\u001b[39m kwargs\u001b[38;5;241m.\u001b[39mget(\u001b[38;5;124m'\u001b[39m\u001b[38;5;124mforce\u001b[39m\u001b[38;5;124m'\u001b[39m, force)\n\u001b[1;32m    107\u001b[0m _measure \u001b[38;5;241m=\u001b[39m kwargs\u001b[38;5;241m.\u001b[39mget(\u001b[38;5;124m'\u001b[39m\u001b[38;5;124mmeasure\u001b[39m\u001b[38;5;124m'\u001b[39m, measure)\n\u001b[0;32m--> 108\u001b[0m \u001b[38;5;28;01mreturn\u001b[39;00m \u001b[43mpowsimp\u001b[49m\u001b[43m(\u001b[49m\u001b[43marg\u001b[49m\u001b[43m,\u001b[49m\u001b[43m \u001b[49m\u001b[43m_deep\u001b[49m\u001b[43m,\u001b[49m\u001b[43m \u001b[49m\u001b[43m_combine\u001b[49m\u001b[43m,\u001b[49m\u001b[43m \u001b[49m\u001b[43m_force\u001b[49m\u001b[43m,\u001b[49m\u001b[43m \u001b[49m\u001b[43m_measure\u001b[49m\u001b[43m)\u001b[49m\n",
      "File \u001b[0;32m~/miniconda3/lib/python3.8/site-packages/sympy/simplify/powsimp.py:392\u001b[0m, in \u001b[0;36mpowsimp\u001b[0;34m(expr, deep, combine, force, measure)\u001b[0m\n\u001b[1;32m    390\u001b[0m \u001b[38;5;28;01mfor\u001b[39;00m i \u001b[38;5;129;01min\u001b[39;00m \u001b[38;5;28mrange\u001b[39m(\u001b[38;5;28mlen\u001b[39m(c_powers)):\n\u001b[1;32m    391\u001b[0m     b, e \u001b[38;5;241m=\u001b[39m c_powers[i]\n\u001b[0;32m--> 392\u001b[0m     \u001b[38;5;28;01mif\u001b[39;00m \u001b[38;5;129;01mnot\u001b[39;00m (\u001b[38;5;28;43mall\u001b[39;49m\u001b[43m(\u001b[49m\u001b[43mx\u001b[49m\u001b[38;5;241;43m.\u001b[39;49m\u001b[43mis_nonnegative\u001b[49m\u001b[43m \u001b[49m\u001b[38;5;28;43;01mfor\u001b[39;49;00m\u001b[43m \u001b[49m\u001b[43mx\u001b[49m\u001b[43m \u001b[49m\u001b[38;5;129;43;01min\u001b[39;49;00m\u001b[43m \u001b[49m\u001b[43mb\u001b[49m\u001b[38;5;241;43m.\u001b[39;49m\u001b[43mas_numer_denom\u001b[49m\u001b[43m(\u001b[49m\u001b[43m)\u001b[49m\u001b[43m)\u001b[49m \u001b[38;5;129;01mor\u001b[39;00m e\u001b[38;5;241m.\u001b[39mis_integer \u001b[38;5;129;01mor\u001b[39;00m force \u001b[38;5;129;01mor\u001b[39;00m b\u001b[38;5;241m.\u001b[39mis_polar):\n\u001b[1;32m    393\u001b[0m         \u001b[38;5;28;01mcontinue\u001b[39;00m\n\u001b[1;32m    394\u001b[0m     exp_c, exp_t \u001b[38;5;241m=\u001b[39m e\u001b[38;5;241m.\u001b[39mas_coeff_Mul(rational\u001b[38;5;241m=\u001b[39m\u001b[38;5;28;01mTrue\u001b[39;00m)\n",
      "File \u001b[0;32m~/miniconda3/lib/python3.8/site-packages/sympy/simplify/powsimp.py:392\u001b[0m, in \u001b[0;36m<genexpr>\u001b[0;34m(.0)\u001b[0m\n\u001b[1;32m    390\u001b[0m \u001b[38;5;28;01mfor\u001b[39;00m i \u001b[38;5;129;01min\u001b[39;00m \u001b[38;5;28mrange\u001b[39m(\u001b[38;5;28mlen\u001b[39m(c_powers)):\n\u001b[1;32m    391\u001b[0m     b, e \u001b[38;5;241m=\u001b[39m c_powers[i]\n\u001b[0;32m--> 392\u001b[0m     \u001b[38;5;28;01mif\u001b[39;00m \u001b[38;5;129;01mnot\u001b[39;00m (\u001b[38;5;28mall\u001b[39m(\u001b[43mx\u001b[49m\u001b[38;5;241;43m.\u001b[39;49m\u001b[43mis_nonnegative\u001b[49m \u001b[38;5;28;01mfor\u001b[39;00m x \u001b[38;5;129;01min\u001b[39;00m b\u001b[38;5;241m.\u001b[39mas_numer_denom()) \u001b[38;5;129;01mor\u001b[39;00m e\u001b[38;5;241m.\u001b[39mis_integer \u001b[38;5;129;01mor\u001b[39;00m force \u001b[38;5;129;01mor\u001b[39;00m b\u001b[38;5;241m.\u001b[39mis_polar):\n\u001b[1;32m    393\u001b[0m         \u001b[38;5;28;01mcontinue\u001b[39;00m\n\u001b[1;32m    394\u001b[0m     exp_c, exp_t \u001b[38;5;241m=\u001b[39m e\u001b[38;5;241m.\u001b[39mas_coeff_Mul(rational\u001b[38;5;241m=\u001b[39m\u001b[38;5;28;01mTrue\u001b[39;00m)\n",
      "File \u001b[0;32m~/miniconda3/lib/python3.8/site-packages/sympy/core/assumptions.py:483\u001b[0m, in \u001b[0;36mmake_property.<locals>.getit\u001b[0;34m(self)\u001b[0m\n\u001b[1;32m    481\u001b[0m \u001b[38;5;28;01mif\u001b[39;00m \u001b[38;5;28mself\u001b[39m\u001b[38;5;241m.\u001b[39m_assumptions \u001b[38;5;129;01mis\u001b[39;00m \u001b[38;5;28mself\u001b[39m\u001b[38;5;241m.\u001b[39mdefault_assumptions:\n\u001b[1;32m    482\u001b[0m     \u001b[38;5;28mself\u001b[39m\u001b[38;5;241m.\u001b[39m_assumptions \u001b[38;5;241m=\u001b[39m \u001b[38;5;28mself\u001b[39m\u001b[38;5;241m.\u001b[39mdefault_assumptions\u001b[38;5;241m.\u001b[39mcopy()\n\u001b[0;32m--> 483\u001b[0m \u001b[38;5;28;01mreturn\u001b[39;00m \u001b[43m_ask\u001b[49m\u001b[43m(\u001b[49m\u001b[43mfact\u001b[49m\u001b[43m,\u001b[49m\u001b[43m \u001b[49m\u001b[38;5;28;43mself\u001b[39;49m\u001b[43m)\u001b[49m\n",
      "File \u001b[0;32m~/miniconda3/lib/python3.8/site-packages/sympy/core/assumptions.py:539\u001b[0m, in \u001b[0;36m_ask\u001b[0;34m(fact, obj)\u001b[0m\n\u001b[1;32m    537\u001b[0m handler_i \u001b[38;5;241m=\u001b[39m handler_map\u001b[38;5;241m.\u001b[39mget(fact_i)\n\u001b[1;32m    538\u001b[0m \u001b[38;5;28;01mif\u001b[39;00m handler_i \u001b[38;5;129;01mis\u001b[39;00m \u001b[38;5;129;01mnot\u001b[39;00m \u001b[38;5;28;01mNone\u001b[39;00m:\n\u001b[0;32m--> 539\u001b[0m     fact_i_value \u001b[38;5;241m=\u001b[39m \u001b[43mhandler_i\u001b[49m\u001b[43m(\u001b[49m\u001b[43mobj\u001b[49m\u001b[43m)\u001b[49m\n\u001b[1;32m    541\u001b[0m \u001b[38;5;66;03m# If we get a new value for fact_i then we should update our knowledge\u001b[39;00m\n\u001b[1;32m    542\u001b[0m \u001b[38;5;66;03m# of fact_i as well as any related facts that can be inferred using the\u001b[39;00m\n\u001b[1;32m    543\u001b[0m \u001b[38;5;66;03m# inference rules connecting the fact_i and any other fact values that\u001b[39;00m\n\u001b[1;32m    544\u001b[0m \u001b[38;5;66;03m# are already known.\u001b[39;00m\n\u001b[1;32m    545\u001b[0m \u001b[38;5;28;01mif\u001b[39;00m fact_i_value \u001b[38;5;129;01mis\u001b[39;00m \u001b[38;5;129;01mnot\u001b[39;00m \u001b[38;5;28;01mNone\u001b[39;00m:\n",
      "File \u001b[0;32m~/miniconda3/lib/python3.8/site-packages/sympy/core/mul.py:1460\u001b[0m, in \u001b[0;36mMul._eval_is_imaginary\u001b[0;34m(self)\u001b[0m\n\u001b[1;32m   1459\u001b[0m \u001b[38;5;28;01mdef\u001b[39;00m \u001b[38;5;21m_eval_is_imaginary\u001b[39m(\u001b[38;5;28mself\u001b[39m):\n\u001b[0;32m-> 1460\u001b[0m     \u001b[38;5;28;01mif\u001b[39;00m \u001b[38;5;28;43mall\u001b[39;49m\u001b[43m(\u001b[49m\u001b[43ma\u001b[49m\u001b[38;5;241;43m.\u001b[39;49m\u001b[43mis_zero\u001b[49m\u001b[43m \u001b[49m\u001b[38;5;129;43;01mis\u001b[39;49;00m\u001b[43m \u001b[49m\u001b[38;5;28;43;01mFalse\u001b[39;49;00m\u001b[43m \u001b[49m\u001b[38;5;129;43;01mand\u001b[39;49;00m\u001b[43m \u001b[49m\u001b[43ma\u001b[49m\u001b[38;5;241;43m.\u001b[39;49m\u001b[43mis_finite\u001b[49m\u001b[43m \u001b[49m\u001b[38;5;28;43;01mfor\u001b[39;49;00m\u001b[43m \u001b[49m\u001b[43ma\u001b[49m\u001b[43m \u001b[49m\u001b[38;5;129;43;01min\u001b[39;49;00m\u001b[43m \u001b[49m\u001b[38;5;28;43mself\u001b[39;49m\u001b[38;5;241;43m.\u001b[39;49m\u001b[43margs\u001b[49m\u001b[43m)\u001b[49m:\n\u001b[1;32m   1461\u001b[0m         \u001b[38;5;28;01mreturn\u001b[39;00m \u001b[38;5;28mself\u001b[39m\u001b[38;5;241m.\u001b[39m_eval_real_imag(\u001b[38;5;28;01mFalse\u001b[39;00m)\n",
      "File \u001b[0;32m~/miniconda3/lib/python3.8/site-packages/sympy/core/mul.py:1460\u001b[0m, in \u001b[0;36m<genexpr>\u001b[0;34m(.0)\u001b[0m\n\u001b[1;32m   1459\u001b[0m \u001b[38;5;28;01mdef\u001b[39;00m \u001b[38;5;21m_eval_is_imaginary\u001b[39m(\u001b[38;5;28mself\u001b[39m):\n\u001b[0;32m-> 1460\u001b[0m     \u001b[38;5;28;01mif\u001b[39;00m \u001b[38;5;28mall\u001b[39m(\u001b[43ma\u001b[49m\u001b[38;5;241;43m.\u001b[39;49m\u001b[43mis_zero\u001b[49m \u001b[38;5;129;01mis\u001b[39;00m \u001b[38;5;28;01mFalse\u001b[39;00m \u001b[38;5;129;01mand\u001b[39;00m a\u001b[38;5;241m.\u001b[39mis_finite \u001b[38;5;28;01mfor\u001b[39;00m a \u001b[38;5;129;01min\u001b[39;00m \u001b[38;5;28mself\u001b[39m\u001b[38;5;241m.\u001b[39margs):\n\u001b[1;32m   1461\u001b[0m         \u001b[38;5;28;01mreturn\u001b[39;00m \u001b[38;5;28mself\u001b[39m\u001b[38;5;241m.\u001b[39m_eval_real_imag(\u001b[38;5;28;01mFalse\u001b[39;00m)\n",
      "File \u001b[0;32m~/miniconda3/lib/python3.8/site-packages/sympy/core/assumptions.py:483\u001b[0m, in \u001b[0;36mmake_property.<locals>.getit\u001b[0;34m(self)\u001b[0m\n\u001b[1;32m    481\u001b[0m \u001b[38;5;28;01mif\u001b[39;00m \u001b[38;5;28mself\u001b[39m\u001b[38;5;241m.\u001b[39m_assumptions \u001b[38;5;129;01mis\u001b[39;00m \u001b[38;5;28mself\u001b[39m\u001b[38;5;241m.\u001b[39mdefault_assumptions:\n\u001b[1;32m    482\u001b[0m     \u001b[38;5;28mself\u001b[39m\u001b[38;5;241m.\u001b[39m_assumptions \u001b[38;5;241m=\u001b[39m \u001b[38;5;28mself\u001b[39m\u001b[38;5;241m.\u001b[39mdefault_assumptions\u001b[38;5;241m.\u001b[39mcopy()\n\u001b[0;32m--> 483\u001b[0m \u001b[38;5;28;01mreturn\u001b[39;00m \u001b[43m_ask\u001b[49m\u001b[43m(\u001b[49m\u001b[43mfact\u001b[49m\u001b[43m,\u001b[49m\u001b[43m \u001b[49m\u001b[38;5;28;43mself\u001b[39;49m\u001b[43m)\u001b[49m\n",
      "File \u001b[0;32m~/miniconda3/lib/python3.8/site-packages/sympy/core/assumptions.py:539\u001b[0m, in \u001b[0;36m_ask\u001b[0;34m(fact, obj)\u001b[0m\n\u001b[1;32m    537\u001b[0m handler_i \u001b[38;5;241m=\u001b[39m handler_map\u001b[38;5;241m.\u001b[39mget(fact_i)\n\u001b[1;32m    538\u001b[0m \u001b[38;5;28;01mif\u001b[39;00m handler_i \u001b[38;5;129;01mis\u001b[39;00m \u001b[38;5;129;01mnot\u001b[39;00m \u001b[38;5;28;01mNone\u001b[39;00m:\n\u001b[0;32m--> 539\u001b[0m     fact_i_value \u001b[38;5;241m=\u001b[39m \u001b[43mhandler_i\u001b[49m\u001b[43m(\u001b[49m\u001b[43mobj\u001b[49m\u001b[43m)\u001b[49m\n\u001b[1;32m    541\u001b[0m \u001b[38;5;66;03m# If we get a new value for fact_i then we should update our knowledge\u001b[39;00m\n\u001b[1;32m    542\u001b[0m \u001b[38;5;66;03m# of fact_i as well as any related facts that can be inferred using the\u001b[39;00m\n\u001b[1;32m    543\u001b[0m \u001b[38;5;66;03m# inference rules connecting the fact_i and any other fact values that\u001b[39;00m\n\u001b[1;32m    544\u001b[0m \u001b[38;5;66;03m# are already known.\u001b[39;00m\n\u001b[1;32m    545\u001b[0m \u001b[38;5;28;01mif\u001b[39;00m fact_i_value \u001b[38;5;129;01mis\u001b[39;00m \u001b[38;5;129;01mnot\u001b[39;00m \u001b[38;5;28;01mNone\u001b[39;00m:\n",
      "File \u001b[0;32m~/miniconda3/lib/python3.8/site-packages/sympy/core/add.py:767\u001b[0m, in \u001b[0;36mAdd._eval_is_extended_positive\u001b[0;34m(self)\u001b[0m\n\u001b[1;32m    765\u001b[0m pos \u001b[38;5;241m=\u001b[39m nonneg \u001b[38;5;241m=\u001b[39m nonpos \u001b[38;5;241m=\u001b[39m unknown_sign \u001b[38;5;241m=\u001b[39m \u001b[38;5;28;01mFalse\u001b[39;00m\n\u001b[1;32m    766\u001b[0m saw_INF \u001b[38;5;241m=\u001b[39m \u001b[38;5;28mset\u001b[39m()\n\u001b[0;32m--> 767\u001b[0m args \u001b[38;5;241m=\u001b[39m [a \u001b[38;5;28;01mfor\u001b[39;00m a \u001b[38;5;129;01min\u001b[39;00m \u001b[38;5;28mself\u001b[39m\u001b[38;5;241m.\u001b[39margs \u001b[38;5;28;01mif\u001b[39;00m \u001b[38;5;129;01mnot\u001b[39;00m a\u001b[38;5;241m.\u001b[39mis_zero]\n\u001b[1;32m    768\u001b[0m \u001b[38;5;28;01mif\u001b[39;00m \u001b[38;5;129;01mnot\u001b[39;00m args:\n\u001b[1;32m    769\u001b[0m     \u001b[38;5;28;01mreturn\u001b[39;00m \u001b[38;5;28;01mFalse\u001b[39;00m\n",
      "File \u001b[0;32m~/miniconda3/lib/python3.8/site-packages/sympy/core/add.py:767\u001b[0m, in \u001b[0;36m<listcomp>\u001b[0;34m(.0)\u001b[0m\n\u001b[1;32m    765\u001b[0m pos \u001b[38;5;241m=\u001b[39m nonneg \u001b[38;5;241m=\u001b[39m nonpos \u001b[38;5;241m=\u001b[39m unknown_sign \u001b[38;5;241m=\u001b[39m \u001b[38;5;28;01mFalse\u001b[39;00m\n\u001b[1;32m    766\u001b[0m saw_INF \u001b[38;5;241m=\u001b[39m \u001b[38;5;28mset\u001b[39m()\n\u001b[0;32m--> 767\u001b[0m args \u001b[38;5;241m=\u001b[39m [a \u001b[38;5;28;01mfor\u001b[39;00m a \u001b[38;5;129;01min\u001b[39;00m \u001b[38;5;28mself\u001b[39m\u001b[38;5;241m.\u001b[39margs \u001b[38;5;28;01mif\u001b[39;00m \u001b[38;5;129;01mnot\u001b[39;00m \u001b[43ma\u001b[49m\u001b[38;5;241;43m.\u001b[39;49m\u001b[43mis_zero\u001b[49m]\n\u001b[1;32m    768\u001b[0m \u001b[38;5;28;01mif\u001b[39;00m \u001b[38;5;129;01mnot\u001b[39;00m args:\n\u001b[1;32m    769\u001b[0m     \u001b[38;5;28;01mreturn\u001b[39;00m \u001b[38;5;28;01mFalse\u001b[39;00m\n",
      "File \u001b[0;32m~/miniconda3/lib/python3.8/site-packages/sympy/core/assumptions.py:483\u001b[0m, in \u001b[0;36mmake_property.<locals>.getit\u001b[0;34m(self)\u001b[0m\n\u001b[1;32m    481\u001b[0m \u001b[38;5;28;01mif\u001b[39;00m \u001b[38;5;28mself\u001b[39m\u001b[38;5;241m.\u001b[39m_assumptions \u001b[38;5;129;01mis\u001b[39;00m \u001b[38;5;28mself\u001b[39m\u001b[38;5;241m.\u001b[39mdefault_assumptions:\n\u001b[1;32m    482\u001b[0m     \u001b[38;5;28mself\u001b[39m\u001b[38;5;241m.\u001b[39m_assumptions \u001b[38;5;241m=\u001b[39m \u001b[38;5;28mself\u001b[39m\u001b[38;5;241m.\u001b[39mdefault_assumptions\u001b[38;5;241m.\u001b[39mcopy()\n\u001b[0;32m--> 483\u001b[0m \u001b[38;5;28;01mreturn\u001b[39;00m \u001b[43m_ask\u001b[49m\u001b[43m(\u001b[49m\u001b[43mfact\u001b[49m\u001b[43m,\u001b[49m\u001b[43m \u001b[49m\u001b[38;5;28;43mself\u001b[39;49m\u001b[43m)\u001b[49m\n",
      "File \u001b[0;32m~/miniconda3/lib/python3.8/site-packages/sympy/core/assumptions.py:539\u001b[0m, in \u001b[0;36m_ask\u001b[0;34m(fact, obj)\u001b[0m\n\u001b[1;32m    537\u001b[0m handler_i \u001b[38;5;241m=\u001b[39m handler_map\u001b[38;5;241m.\u001b[39mget(fact_i)\n\u001b[1;32m    538\u001b[0m \u001b[38;5;28;01mif\u001b[39;00m handler_i \u001b[38;5;129;01mis\u001b[39;00m \u001b[38;5;129;01mnot\u001b[39;00m \u001b[38;5;28;01mNone\u001b[39;00m:\n\u001b[0;32m--> 539\u001b[0m     fact_i_value \u001b[38;5;241m=\u001b[39m \u001b[43mhandler_i\u001b[49m\u001b[43m(\u001b[49m\u001b[43mobj\u001b[49m\u001b[43m)\u001b[49m\n\u001b[1;32m    541\u001b[0m \u001b[38;5;66;03m# If we get a new value for fact_i then we should update our knowledge\u001b[39;00m\n\u001b[1;32m    542\u001b[0m \u001b[38;5;66;03m# of fact_i as well as any related facts that can be inferred using the\u001b[39;00m\n\u001b[1;32m    543\u001b[0m \u001b[38;5;66;03m# inference rules connecting the fact_i and any other fact values that\u001b[39;00m\n\u001b[1;32m    544\u001b[0m \u001b[38;5;66;03m# are already known.\u001b[39;00m\n\u001b[1;32m    545\u001b[0m \u001b[38;5;28;01mif\u001b[39;00m fact_i_value \u001b[38;5;129;01mis\u001b[39;00m \u001b[38;5;129;01mnot\u001b[39;00m \u001b[38;5;28;01mNone\u001b[39;00m:\n",
      "File \u001b[0;32m~/miniconda3/lib/python3.8/site-packages/sympy/core/mul.py:1557\u001b[0m, in \u001b[0;36mMul._eval_is_extended_negative\u001b[0;34m(self)\u001b[0m\n\u001b[1;32m   1556\u001b[0m \u001b[38;5;28;01mdef\u001b[39;00m \u001b[38;5;21m_eval_is_extended_negative\u001b[39m(\u001b[38;5;28mself\u001b[39m):\n\u001b[0;32m-> 1557\u001b[0m     \u001b[38;5;28;01mreturn\u001b[39;00m \u001b[38;5;28;43mself\u001b[39;49m\u001b[38;5;241;43m.\u001b[39;49m\u001b[43m_eval_pos_neg\u001b[49m\u001b[43m(\u001b[49m\u001b[38;5;241;43m-\u001b[39;49m\u001b[38;5;241;43m1\u001b[39;49m\u001b[43m)\u001b[49m\n",
      "File \u001b[0;32m~/miniconda3/lib/python3.8/site-packages/sympy/core/mul.py:1535\u001b[0m, in \u001b[0;36mMul._eval_pos_neg\u001b[0;34m(self, sign)\u001b[0m\n\u001b[1;32m   1533\u001b[0m     sign \u001b[38;5;241m=\u001b[39m \u001b[38;5;241m-\u001b[39msign\n\u001b[1;32m   1534\u001b[0m     saw_NON \u001b[38;5;241m=\u001b[39m \u001b[38;5;28;01mTrue\u001b[39;00m\n\u001b[0;32m-> 1535\u001b[0m \u001b[38;5;28;01melif\u001b[39;00m \u001b[43mt\u001b[49m\u001b[38;5;241;43m.\u001b[39;49m\u001b[43mis_extended_nonnegative\u001b[49m:\n\u001b[1;32m   1536\u001b[0m     saw_NON \u001b[38;5;241m=\u001b[39m \u001b[38;5;28;01mTrue\u001b[39;00m\n\u001b[1;32m   1537\u001b[0m \u001b[38;5;66;03m# FIXME: is_positive/is_negative is False doesn't take account of\u001b[39;00m\n\u001b[1;32m   1538\u001b[0m \u001b[38;5;66;03m# Symbol('x', infinite=True, extended_real=True) which has\u001b[39;00m\n\u001b[1;32m   1539\u001b[0m \u001b[38;5;66;03m# e.g. is_positive is False but has uncertain sign.\u001b[39;00m\n",
      "File \u001b[0;32m~/miniconda3/lib/python3.8/site-packages/sympy/core/assumptions.py:483\u001b[0m, in \u001b[0;36mmake_property.<locals>.getit\u001b[0;34m(self)\u001b[0m\n\u001b[1;32m    481\u001b[0m \u001b[38;5;28;01mif\u001b[39;00m \u001b[38;5;28mself\u001b[39m\u001b[38;5;241m.\u001b[39m_assumptions \u001b[38;5;129;01mis\u001b[39;00m \u001b[38;5;28mself\u001b[39m\u001b[38;5;241m.\u001b[39mdefault_assumptions:\n\u001b[1;32m    482\u001b[0m     \u001b[38;5;28mself\u001b[39m\u001b[38;5;241m.\u001b[39m_assumptions \u001b[38;5;241m=\u001b[39m \u001b[38;5;28mself\u001b[39m\u001b[38;5;241m.\u001b[39mdefault_assumptions\u001b[38;5;241m.\u001b[39mcopy()\n\u001b[0;32m--> 483\u001b[0m \u001b[38;5;28;01mreturn\u001b[39;00m \u001b[43m_ask\u001b[49m\u001b[43m(\u001b[49m\u001b[43mfact\u001b[49m\u001b[43m,\u001b[49m\u001b[43m \u001b[49m\u001b[38;5;28;43mself\u001b[39;49m\u001b[43m)\u001b[49m\n",
      "File \u001b[0;32m~/miniconda3/lib/python3.8/site-packages/sympy/core/assumptions.py:567\u001b[0m, in \u001b[0;36m_ask\u001b[0;34m(fact, obj)\u001b[0m\n\u001b[1;32m    559\u001b[0m \u001b[38;5;66;03m# Extend the queue with other facts that might determine fact_i. Here\u001b[39;00m\n\u001b[1;32m    560\u001b[0m \u001b[38;5;66;03m# we randomise the order of the facts that are checked. This should not\u001b[39;00m\n\u001b[1;32m    561\u001b[0m \u001b[38;5;66;03m# lead to any non-determinism if all handlers are logically consistent\u001b[39;00m\n\u001b[0;32m   (...)\u001b[0m\n\u001b[1;32m    564\u001b[0m \u001b[38;5;66;03m# call to shuffle. These are pushed to the back of the queue meaning\u001b[39;00m\n\u001b[1;32m    565\u001b[0m \u001b[38;5;66;03m# that the inference graph is traversed in breadth-first order.\u001b[39;00m\n\u001b[1;32m    566\u001b[0m new_facts_to_check \u001b[38;5;241m=\u001b[39m \u001b[38;5;28mlist\u001b[39m(_assume_rules\u001b[38;5;241m.\u001b[39mprereq[fact_i] \u001b[38;5;241m-\u001b[39m facts_queued)\n\u001b[0;32m--> 567\u001b[0m \u001b[43mshuffle\u001b[49m\u001b[43m(\u001b[49m\u001b[43mnew_facts_to_check\u001b[49m\u001b[43m)\u001b[49m\n\u001b[1;32m    568\u001b[0m facts_to_check\u001b[38;5;241m.\u001b[39mextend(new_facts_to_check)\n\u001b[1;32m    569\u001b[0m facts_queued\u001b[38;5;241m.\u001b[39mupdate(new_facts_to_check)\n",
      "File \u001b[0;32m~/miniconda3/lib/python3.8/random.py:304\u001b[0m, in \u001b[0;36mRandom.shuffle\u001b[0;34m(self, x, random)\u001b[0m\n\u001b[1;32m    302\u001b[0m \u001b[38;5;28;01mif\u001b[39;00m random \u001b[38;5;129;01mis\u001b[39;00m \u001b[38;5;28;01mNone\u001b[39;00m:\n\u001b[1;32m    303\u001b[0m     randbelow \u001b[38;5;241m=\u001b[39m \u001b[38;5;28mself\u001b[39m\u001b[38;5;241m.\u001b[39m_randbelow\n\u001b[0;32m--> 304\u001b[0m     \u001b[38;5;28;01mfor\u001b[39;00m i \u001b[38;5;129;01min\u001b[39;00m \u001b[38;5;28;43mreversed\u001b[39;49m\u001b[43m(\u001b[49m\u001b[38;5;28;43mrange\u001b[39;49m\u001b[43m(\u001b[49m\u001b[38;5;241;43m1\u001b[39;49m\u001b[43m,\u001b[49m\u001b[43m \u001b[49m\u001b[38;5;28;43mlen\u001b[39;49m\u001b[43m(\u001b[49m\u001b[43mx\u001b[49m\u001b[43m)\u001b[49m\u001b[43m)\u001b[49m\u001b[43m)\u001b[49m:\n\u001b[1;32m    305\u001b[0m         \u001b[38;5;66;03m# pick an element in x[:i+1] with which to exchange x[i]\u001b[39;00m\n\u001b[1;32m    306\u001b[0m         j \u001b[38;5;241m=\u001b[39m randbelow(i\u001b[38;5;241m+\u001b[39m\u001b[38;5;241m1\u001b[39m)\n\u001b[1;32m    307\u001b[0m         x[i], x[j] \u001b[38;5;241m=\u001b[39m x[j], x[i]\n",
      "\u001b[0;31mKeyboardInterrupt\u001b[0m: "
     ]
    }
   ],
   "source": [
    "x = symbols('x', real=True)\n",
    "y= symbols('y', real=True)\n",
    "h2=h2_ti.subs(g3**2/omega_a**2,x)\n",
    "h2=h2.subs(g4/omega_a,y)\n",
    "from sympy import symbols, diff\n",
    "f_0 = E.subs({x: 0, y: 0})\n",
    "df_dx = diff(E, x).subs({x: 0, y: 0}) * (x - 0)\n",
    "df_dy = diff(E, y).subs({x: 0, y: 0}) * (y - 0)\n",
    "\n",
    "taylor_first_order = f_0 + df_dx + df_dy\n",
    "\n",
    "taylor_first_order\n",
    "    "
   ]
  },
  {
   "cell_type": "code",
   "execution_count": 14,
   "id": "c53202b8-dafb-4b3e-a582-fc9de68300c9",
   "metadata": {
    "execution": {
     "iopub.execute_input": "2023-09-19T02:35:26.114106Z",
     "iopub.status.busy": "2023-09-19T02:35:26.113936Z",
     "iopub.status.idle": "2023-09-19T02:35:32.107914Z",
     "shell.execute_reply": "2023-09-19T02:35:32.107557Z",
     "shell.execute_reply.started": "2023-09-19T02:35:26.114094Z"
    },
    "tags": []
   },
   "outputs": [
    {
     "name": "stdout",
     "output_type": "stream",
     "text": [
      "x\n",
      "x\n"
     ]
    }
   ],
   "source": [
    "# time-independent part \n",
    "h_tot = h0 + kappa*v \n",
    "h_eff_2_ti = 0\n",
    "\n",
    "temp_2 = normal(Commutator(s_tot_1, h_tot.coeff(kappa,1)*kappa**1).doit() )\n",
    "temp_1 = normal(Commutator(s_tot_1, h_tot.coeff(kappa,0)*kappa**0).doit() )\n",
    "print('x')\n",
    "h_eff_2_ti += temp_2\n",
    "\n",
    "temp_2 = normal(sp.Rational(1,2) * Commutator(s_tot_1, temp_1).doit())\n",
    "print('x')\n",
    "h_eff_2_ti += temp_2"
   ]
  },
  {
   "cell_type": "code",
   "execution_count": 15,
   "id": "25990443-3a0d-4cae-8718-782de690fbb3",
   "metadata": {
    "execution": {
     "iopub.execute_input": "2023-09-19T02:35:35.818288Z",
     "iopub.status.busy": "2023-09-19T02:35:35.818102Z",
     "iopub.status.idle": "2023-09-19T02:35:37.922893Z",
     "shell.execute_reply": "2023-09-19T02:35:37.922566Z",
     "shell.execute_reply.started": "2023-09-19T02:35:35.818274Z"
    },
    "tags": []
   },
   "outputs": [
    {
     "name": "stdout",
     "output_type": "stream",
     "text": [
      "x\n"
     ]
    }
   ],
   "source": [
    "# time-dependent part \n",
    "h_eff_2_td = 0\n",
    "\n",
    "temp_2 = normal(I*sp.Rational(1,2) * Commutator(s_tot_1, sd_tot_1).doit() )\n",
    "print('x')\n",
    "h_eff_2_td +=  temp_2"
   ]
  },
  {
   "cell_type": "code",
   "execution_count": 16,
   "id": "16315ec4-51cf-4a44-a881-31f8911ef7f4",
   "metadata": {
    "execution": {
     "iopub.execute_input": "2023-09-19T02:35:38.493632Z",
     "iopub.status.busy": "2023-09-19T02:35:38.493438Z",
     "iopub.status.idle": "2023-09-19T02:35:38.499239Z",
     "shell.execute_reply": "2023-09-19T02:35:38.498871Z",
     "shell.execute_reply.started": "2023-09-19T02:35:38.493618Z"
    },
    "tags": []
   },
   "outputs": [],
   "source": [
    "h_eff_2 = h_eff_2_ti + h_eff_2_td"
   ]
  },
  {
   "cell_type": "code",
   "execution_count": 17,
   "id": "f07ff33e-9eab-4157-a0cc-5236a4091686",
   "metadata": {
    "execution": {
     "iopub.execute_input": "2023-09-19T02:35:38.956077Z",
     "iopub.status.busy": "2023-09-19T02:35:38.955892Z",
     "iopub.status.idle": "2023-09-19T02:35:39.213031Z",
     "shell.execute_reply": "2023-09-19T02:35:39.212731Z",
     "shell.execute_reply.started": "2023-09-19T02:35:38.956064Z"
    },
    "tags": []
   },
   "outputs": [],
   "source": [
    "v2 = normal(h_eff_2.coeff(kappa,2))"
   ]
  },
  {
   "cell_type": "code",
   "execution_count": 18,
   "id": "fae0223d-e61b-463b-80c8-dfd47114936c",
   "metadata": {
    "execution": {
     "iopub.execute_input": "2023-09-19T02:35:39.703241Z",
     "iopub.status.busy": "2023-09-19T02:35:39.703065Z",
     "iopub.status.idle": "2023-09-19T02:35:39.718826Z",
     "shell.execute_reply": "2023-09-19T02:35:39.718513Z",
     "shell.execute_reply.started": "2023-09-19T02:35:39.703227Z"
    },
    "tags": []
   },
   "outputs": [],
   "source": [
    "temp = 0\n",
    "for term in v2.args:\n",
    "    if term.as_powers_dict()[ad] == term.as_powers_dict()[a]:\n",
    "        temp += term.simplify()\n",
    "h2 = temp * 1\n",
    "\n",
    "temp = 0\n",
    "for term in h2.args:\n",
    "    if term.as_powers_dict()[eta] == term.as_powers_dict()[eta.conjugate()]:\n",
    "        temp += term.simplify()\n",
    "h2_ti = temp * 1"
   ]
  },
  {
   "cell_type": "code",
   "execution_count": 21,
   "id": "acb087d9-9e0b-4947-8c87-721ee1541292",
   "metadata": {
    "execution": {
     "iopub.execute_input": "2023-09-19T02:35:43.395884Z",
     "iopub.status.busy": "2023-09-19T02:35:43.395695Z",
     "iopub.status.idle": "2023-09-19T02:35:43.414967Z",
     "shell.execute_reply": "2023-09-19T02:35:43.414545Z",
     "shell.execute_reply.started": "2023-09-19T02:35:43.395870Z"
    },
    "tags": []
   },
   "outputs": [],
   "source": [
    "anh=(h2_ti.coeff(ad**2*a**2))"
   ]
  },
  {
   "cell_type": "code",
   "execution_count": 22,
   "id": "a28d6f59",
   "metadata": {},
   "outputs": [
    {
     "data": {
      "text/latex": [
       "$\\displaystyle \\frac{216 \\eta g_{4}^{2} w_{c} w_{d} \\overline{\\eta}}{27 w_{c}^{3} + 27 w_{c}^{2} w_{d} + 9 w_{c} w_{d}^{2} + w_{d}^{3}} - \\frac{216 \\eta g_{4}^{2} w_{c} w_{d} \\overline{\\eta}}{27 w_{c}^{3} - 27 w_{c}^{2} w_{d} + 9 w_{c} w_{d}^{2} - w_{d}^{3}} + \\frac{216 \\eta g_{4}^{2} w_{c} w_{d} \\overline{\\eta}}{w_{c}^{3} + 3 w_{c}^{2} w_{d} + 3 w_{c} w_{d}^{2} + w_{d}^{3}} - \\frac{216 \\eta g_{4}^{2} w_{c} w_{d} \\overline{\\eta}}{w_{c}^{3} - 3 w_{c}^{2} w_{d} + 3 w_{c} w_{d}^{2} - w_{d}^{3}} + \\frac{432 \\eta g_{4}^{2} w_{c} \\overline{\\eta}}{9 w_{c}^{2} + 6 w_{c} w_{d} + w_{d}^{2}} + \\frac{432 \\eta g_{4}^{2} w_{c} \\overline{\\eta}}{9 w_{c}^{2} - 6 w_{c} w_{d} + w_{d}^{2}} + \\frac{432 \\eta g_{4}^{2} w_{c} \\overline{\\eta}}{w_{c}^{2} + 2 w_{c} w_{d} + w_{d}^{2}} + \\frac{432 \\eta g_{4}^{2} w_{c} \\overline{\\eta}}{w_{c}^{2} - 2 w_{c} w_{d} + w_{d}^{2}} + \\frac{72 \\eta g_{4}^{2} w_{d}^{2} \\overline{\\eta}}{27 w_{c}^{3} + 27 w_{c}^{2} w_{d} + 9 w_{c} w_{d}^{2} + w_{d}^{3}} + \\frac{72 \\eta g_{4}^{2} w_{d}^{2} \\overline{\\eta}}{27 w_{c}^{3} - 27 w_{c}^{2} w_{d} + 9 w_{c} w_{d}^{2} - w_{d}^{3}} + \\frac{216 \\eta g_{4}^{2} w_{d}^{2} \\overline{\\eta}}{w_{c}^{3} + 3 w_{c}^{2} w_{d} + 3 w_{c} w_{d}^{2} + w_{d}^{3}} + \\frac{216 \\eta g_{4}^{2} w_{d}^{2} \\overline{\\eta}}{w_{c}^{3} - 3 w_{c}^{2} w_{d} + 3 w_{c} w_{d}^{2} - w_{d}^{3}} + \\frac{72 \\eta g_{4}^{2} w_{d} \\overline{\\eta}}{9 w_{c}^{2} + 6 w_{c} w_{d} + w_{d}^{2}} - \\frac{72 \\eta g_{4}^{2} w_{d} \\overline{\\eta}}{9 w_{c}^{2} - 6 w_{c} w_{d} + w_{d}^{2}} + \\frac{216 \\eta g_{4}^{2} w_{d} \\overline{\\eta}}{w_{c}^{2} + 2 w_{c} w_{d} + w_{d}^{2}} - \\frac{216 \\eta g_{4}^{2} w_{d} \\overline{\\eta}}{w_{c}^{2} - 2 w_{c} w_{d} + w_{d}^{2}} - \\frac{288 \\eta g_{4}^{2} \\overline{\\eta}}{3 w_{c} + w_{d}} - \\frac{288 \\eta g_{4}^{2} \\overline{\\eta}}{3 w_{c} - w_{d}} - \\frac{864 \\eta g_{4}^{2} \\overline{\\eta}}{w_{c} + w_{d}} - \\frac{864 \\eta g_{4}^{2} \\overline{\\eta}}{w_{c} - w_{d}} - \\frac{288 \\eta g_{4}^{2} \\overline{\\eta}}{w_{c}} - \\frac{30 g_{3}^{2}}{w_{c}} - \\frac{306 g_{4}^{2}}{w_{c}}$"
      ],
      "text/plain": [
       "216*eta*g4**2*w_c*w_d*conjugate(eta)/(27*w_c**3 + 27*w_c**2*w_d + 9*w_c*w_d**2 + w_d**3) - 216*eta*g4**2*w_c*w_d*conjugate(eta)/(27*w_c**3 - 27*w_c**2*w_d + 9*w_c*w_d**2 - w_d**3) + 216*eta*g4**2*w_c*w_d*conjugate(eta)/(w_c**3 + 3*w_c**2*w_d + 3*w_c*w_d**2 + w_d**3) - 216*eta*g4**2*w_c*w_d*conjugate(eta)/(w_c**3 - 3*w_c**2*w_d + 3*w_c*w_d**2 - w_d**3) + 432*eta*g4**2*w_c*conjugate(eta)/(9*w_c**2 + 6*w_c*w_d + w_d**2) + 432*eta*g4**2*w_c*conjugate(eta)/(9*w_c**2 - 6*w_c*w_d + w_d**2) + 432*eta*g4**2*w_c*conjugate(eta)/(w_c**2 + 2*w_c*w_d + w_d**2) + 432*eta*g4**2*w_c*conjugate(eta)/(w_c**2 - 2*w_c*w_d + w_d**2) + 72*eta*g4**2*w_d**2*conjugate(eta)/(27*w_c**3 + 27*w_c**2*w_d + 9*w_c*w_d**2 + w_d**3) + 72*eta*g4**2*w_d**2*conjugate(eta)/(27*w_c**3 - 27*w_c**2*w_d + 9*w_c*w_d**2 - w_d**3) + 216*eta*g4**2*w_d**2*conjugate(eta)/(w_c**3 + 3*w_c**2*w_d + 3*w_c*w_d**2 + w_d**3) + 216*eta*g4**2*w_d**2*conjugate(eta)/(w_c**3 - 3*w_c**2*w_d + 3*w_c*w_d**2 - w_d**3) + 72*eta*g4**2*w_d*conjugate(eta)/(9*w_c**2 + 6*w_c*w_d + w_d**2) - 72*eta*g4**2*w_d*conjugate(eta)/(9*w_c**2 - 6*w_c*w_d + w_d**2) + 216*eta*g4**2*w_d*conjugate(eta)/(w_c**2 + 2*w_c*w_d + w_d**2) - 216*eta*g4**2*w_d*conjugate(eta)/(w_c**2 - 2*w_c*w_d + w_d**2) - 288*eta*g4**2*conjugate(eta)/(3*w_c + w_d) - 288*eta*g4**2*conjugate(eta)/(3*w_c - w_d) - 864*eta*g4**2*conjugate(eta)/(w_c + w_d) - 864*eta*g4**2*conjugate(eta)/(w_c - w_d) - 288*eta*g4**2*conjugate(eta)/w_c - 30*g3**2/w_c - 306*g4**2/w_c"
      ]
     },
     "execution_count": 22,
     "metadata": {},
     "output_type": "execute_result"
    }
   ],
   "source": [
    "anh"
   ]
  },
  {
   "cell_type": "code",
   "execution_count": 23,
   "id": "fdf86cbc-0b4f-4ff4-8afe-2faa9f036bfb",
   "metadata": {
    "execution": {
     "iopub.execute_input": "2023-09-19T02:35:44.306511Z",
     "iopub.status.busy": "2023-09-19T02:35:44.306331Z",
     "iopub.status.idle": "2023-09-19T02:35:44.330861Z",
     "shell.execute_reply": "2023-09-19T02:35:44.330544Z",
     "shell.execute_reply.started": "2023-09-19T02:35:44.306498Z"
    },
    "tags": []
   },
   "outputs": [],
   "source": [
    "E=h2_ti.coeff(ad**1*a**1)"
   ]
  },
  {
   "cell_type": "code",
   "execution_count": 24,
   "id": "5ae9c98d",
   "metadata": {},
   "outputs": [
    {
     "data": {
      "text/latex": [
       "$\\displaystyle \\frac{324 \\eta^{2} g_{4}^{2} w_{c} w_{d} \\overline{\\eta}^{2}}{w_{c}^{3} + 3 w_{c}^{2} w_{d} + 3 w_{c} w_{d}^{2} + w_{d}^{3}} - \\frac{324 \\eta^{2} g_{4}^{2} w_{c} w_{d} \\overline{\\eta}^{2}}{w_{c}^{3} - 3 w_{c}^{2} w_{d} + 3 w_{c} w_{d}^{2} - w_{d}^{3}} + \\frac{648 \\eta^{2} g_{4}^{2} w_{c} \\overline{\\eta}^{2}}{w_{c}^{2} + 2 w_{c} w_{d} + w_{d}^{2}} + \\frac{648 \\eta^{2} g_{4}^{2} w_{c} \\overline{\\eta}^{2}}{w_{c}^{2} - 2 w_{c} w_{d} + w_{d}^{2}} + \\frac{324 \\eta^{2} g_{4}^{2} w_{d}^{2} \\overline{\\eta}^{2}}{w_{c}^{3} + 3 w_{c}^{2} w_{d} + 3 w_{c} w_{d}^{2} + w_{d}^{3}} + \\frac{324 \\eta^{2} g_{4}^{2} w_{d}^{2} \\overline{\\eta}^{2}}{w_{c}^{3} - 3 w_{c}^{2} w_{d} + 3 w_{c} w_{d}^{2} - w_{d}^{3}} + \\frac{324 \\eta^{2} g_{4}^{2} w_{d} \\overline{\\eta}^{2}}{w_{c}^{2} + 2 w_{c} w_{d} + w_{d}^{2}} - \\frac{324 \\eta^{2} g_{4}^{2} w_{d} \\overline{\\eta}^{2}}{w_{c}^{2} - 2 w_{c} w_{d} + w_{d}^{2}} - \\frac{1296 \\eta^{2} g_{4}^{2} \\overline{\\eta}^{2}}{w_{c} + w_{d}} - \\frac{1296 \\eta^{2} g_{4}^{2} \\overline{\\eta}^{2}}{w_{c} - w_{d}} - \\frac{288 \\eta^{2} g_{4}^{2} \\overline{\\eta}^{2}}{w_{c}} + \\frac{36 \\eta g_{3}^{2} w_{c} w_{d} \\overline{\\eta}}{8 w_{c}^{3} + 12 w_{c}^{2} w_{d} + 6 w_{c} w_{d}^{2} + w_{d}^{3}} - \\frac{36 \\eta g_{3}^{2} w_{c} w_{d} \\overline{\\eta}}{8 w_{c}^{3} - 12 w_{c}^{2} w_{d} + 6 w_{c} w_{d}^{2} - w_{d}^{3}} + \\frac{72 \\eta g_{3}^{2} w_{c} \\overline{\\eta}}{4 w_{c}^{2} + 4 w_{c} w_{d} + w_{d}^{2}} + \\frac{72 \\eta g_{3}^{2} w_{c} \\overline{\\eta}}{4 w_{c}^{2} - 4 w_{c} w_{d} + w_{d}^{2}} + \\frac{18 \\eta g_{3}^{2} w_{d}^{2} \\overline{\\eta}}{8 w_{c}^{3} + 12 w_{c}^{2} w_{d} + 6 w_{c} w_{d}^{2} + w_{d}^{3}} + \\frac{18 \\eta g_{3}^{2} w_{d}^{2} \\overline{\\eta}}{8 w_{c}^{3} - 12 w_{c}^{2} w_{d} + 6 w_{c} w_{d}^{2} - w_{d}^{3}} + \\frac{18 \\eta g_{3}^{2} w_{d} \\overline{\\eta}}{4 w_{c}^{2} + 4 w_{c} w_{d} + w_{d}^{2}} - \\frac{18 \\eta g_{3}^{2} w_{d} \\overline{\\eta}}{4 w_{c}^{2} - 4 w_{c} w_{d} + w_{d}^{2}} - \\frac{72 \\eta g_{3}^{2} \\overline{\\eta}}{2 w_{c} + w_{d}} - \\frac{72 \\eta g_{3}^{2} \\overline{\\eta}}{2 w_{c} - w_{d}} - \\frac{72 \\eta g_{3}^{2} \\overline{\\eta}}{w_{c}} + \\frac{432 \\eta g_{4}^{2} w_{c} w_{d} \\overline{\\eta}}{27 w_{c}^{3} + 27 w_{c}^{2} w_{d} + 9 w_{c} w_{d}^{2} + w_{d}^{3}} - \\frac{432 \\eta g_{4}^{2} w_{c} w_{d} \\overline{\\eta}}{27 w_{c}^{3} - 27 w_{c}^{2} w_{d} + 9 w_{c} w_{d}^{2} - w_{d}^{3}} + \\frac{432 \\eta g_{4}^{2} w_{c} w_{d} \\overline{\\eta}}{w_{c}^{3} + 3 w_{c}^{2} w_{d} + 3 w_{c} w_{d}^{2} + w_{d}^{3}} - \\frac{432 \\eta g_{4}^{2} w_{c} w_{d} \\overline{\\eta}}{w_{c}^{3} - 3 w_{c}^{2} w_{d} + 3 w_{c} w_{d}^{2} - w_{d}^{3}} + \\frac{864 \\eta g_{4}^{2} w_{c} \\overline{\\eta}}{9 w_{c}^{2} + 6 w_{c} w_{d} + w_{d}^{2}} + \\frac{864 \\eta g_{4}^{2} w_{c} \\overline{\\eta}}{9 w_{c}^{2} - 6 w_{c} w_{d} + w_{d}^{2}} + \\frac{864 \\eta g_{4}^{2} w_{c} \\overline{\\eta}}{w_{c}^{2} + 2 w_{c} w_{d} + w_{d}^{2}} + \\frac{864 \\eta g_{4}^{2} w_{c} \\overline{\\eta}}{w_{c}^{2} - 2 w_{c} w_{d} + w_{d}^{2}} + \\frac{144 \\eta g_{4}^{2} w_{d}^{2} \\overline{\\eta}}{27 w_{c}^{3} + 27 w_{c}^{2} w_{d} + 9 w_{c} w_{d}^{2} + w_{d}^{3}} + \\frac{144 \\eta g_{4}^{2} w_{d}^{2} \\overline{\\eta}}{27 w_{c}^{3} - 27 w_{c}^{2} w_{d} + 9 w_{c} w_{d}^{2} - w_{d}^{3}} + \\frac{432 \\eta g_{4}^{2} w_{d}^{2} \\overline{\\eta}}{w_{c}^{3} + 3 w_{c}^{2} w_{d} + 3 w_{c} w_{d}^{2} + w_{d}^{3}} + \\frac{432 \\eta g_{4}^{2} w_{d}^{2} \\overline{\\eta}}{w_{c}^{3} - 3 w_{c}^{2} w_{d} + 3 w_{c} w_{d}^{2} - w_{d}^{3}} + \\frac{144 \\eta g_{4}^{2} w_{d} \\overline{\\eta}}{9 w_{c}^{2} + 6 w_{c} w_{d} + w_{d}^{2}} - \\frac{144 \\eta g_{4}^{2} w_{d} \\overline{\\eta}}{9 w_{c}^{2} - 6 w_{c} w_{d} + w_{d}^{2}} + \\frac{432 \\eta g_{4}^{2} w_{d} \\overline{\\eta}}{w_{c}^{2} + 2 w_{c} w_{d} + w_{d}^{2}} - \\frac{432 \\eta g_{4}^{2} w_{d} \\overline{\\eta}}{w_{c}^{2} - 2 w_{c} w_{d} + w_{d}^{2}} - \\frac{576 \\eta g_{4}^{2} \\overline{\\eta}}{3 w_{c} + w_{d}} - \\frac{576 \\eta g_{4}^{2} \\overline{\\eta}}{3 w_{c} - w_{d}} - \\frac{1728 \\eta g_{4}^{2} \\overline{\\eta}}{w_{c} + w_{d}} - \\frac{1728 \\eta g_{4}^{2} \\overline{\\eta}}{w_{c} - w_{d}} - \\frac{576 \\eta g_{4}^{2} \\overline{\\eta}}{w_{c}} - \\frac{60 g_{3}^{2}}{w_{c}} - \\frac{288 g_{4}^{2}}{w_{c}}$"
      ],
      "text/plain": [
       "324*eta**2*g4**2*w_c*w_d*conjugate(eta)**2/(w_c**3 + 3*w_c**2*w_d + 3*w_c*w_d**2 + w_d**3) - 324*eta**2*g4**2*w_c*w_d*conjugate(eta)**2/(w_c**3 - 3*w_c**2*w_d + 3*w_c*w_d**2 - w_d**3) + 648*eta**2*g4**2*w_c*conjugate(eta)**2/(w_c**2 + 2*w_c*w_d + w_d**2) + 648*eta**2*g4**2*w_c*conjugate(eta)**2/(w_c**2 - 2*w_c*w_d + w_d**2) + 324*eta**2*g4**2*w_d**2*conjugate(eta)**2/(w_c**3 + 3*w_c**2*w_d + 3*w_c*w_d**2 + w_d**3) + 324*eta**2*g4**2*w_d**2*conjugate(eta)**2/(w_c**3 - 3*w_c**2*w_d + 3*w_c*w_d**2 - w_d**3) + 324*eta**2*g4**2*w_d*conjugate(eta)**2/(w_c**2 + 2*w_c*w_d + w_d**2) - 324*eta**2*g4**2*w_d*conjugate(eta)**2/(w_c**2 - 2*w_c*w_d + w_d**2) - 1296*eta**2*g4**2*conjugate(eta)**2/(w_c + w_d) - 1296*eta**2*g4**2*conjugate(eta)**2/(w_c - w_d) - 288*eta**2*g4**2*conjugate(eta)**2/w_c + 36*eta*g3**2*w_c*w_d*conjugate(eta)/(8*w_c**3 + 12*w_c**2*w_d + 6*w_c*w_d**2 + w_d**3) - 36*eta*g3**2*w_c*w_d*conjugate(eta)/(8*w_c**3 - 12*w_c**2*w_d + 6*w_c*w_d**2 - w_d**3) + 72*eta*g3**2*w_c*conjugate(eta)/(4*w_c**2 + 4*w_c*w_d + w_d**2) + 72*eta*g3**2*w_c*conjugate(eta)/(4*w_c**2 - 4*w_c*w_d + w_d**2) + 18*eta*g3**2*w_d**2*conjugate(eta)/(8*w_c**3 + 12*w_c**2*w_d + 6*w_c*w_d**2 + w_d**3) + 18*eta*g3**2*w_d**2*conjugate(eta)/(8*w_c**3 - 12*w_c**2*w_d + 6*w_c*w_d**2 - w_d**3) + 18*eta*g3**2*w_d*conjugate(eta)/(4*w_c**2 + 4*w_c*w_d + w_d**2) - 18*eta*g3**2*w_d*conjugate(eta)/(4*w_c**2 - 4*w_c*w_d + w_d**2) - 72*eta*g3**2*conjugate(eta)/(2*w_c + w_d) - 72*eta*g3**2*conjugate(eta)/(2*w_c - w_d) - 72*eta*g3**2*conjugate(eta)/w_c + 432*eta*g4**2*w_c*w_d*conjugate(eta)/(27*w_c**3 + 27*w_c**2*w_d + 9*w_c*w_d**2 + w_d**3) - 432*eta*g4**2*w_c*w_d*conjugate(eta)/(27*w_c**3 - 27*w_c**2*w_d + 9*w_c*w_d**2 - w_d**3) + 432*eta*g4**2*w_c*w_d*conjugate(eta)/(w_c**3 + 3*w_c**2*w_d + 3*w_c*w_d**2 + w_d**3) - 432*eta*g4**2*w_c*w_d*conjugate(eta)/(w_c**3 - 3*w_c**2*w_d + 3*w_c*w_d**2 - w_d**3) + 864*eta*g4**2*w_c*conjugate(eta)/(9*w_c**2 + 6*w_c*w_d + w_d**2) + 864*eta*g4**2*w_c*conjugate(eta)/(9*w_c**2 - 6*w_c*w_d + w_d**2) + 864*eta*g4**2*w_c*conjugate(eta)/(w_c**2 + 2*w_c*w_d + w_d**2) + 864*eta*g4**2*w_c*conjugate(eta)/(w_c**2 - 2*w_c*w_d + w_d**2) + 144*eta*g4**2*w_d**2*conjugate(eta)/(27*w_c**3 + 27*w_c**2*w_d + 9*w_c*w_d**2 + w_d**3) + 144*eta*g4**2*w_d**2*conjugate(eta)/(27*w_c**3 - 27*w_c**2*w_d + 9*w_c*w_d**2 - w_d**3) + 432*eta*g4**2*w_d**2*conjugate(eta)/(w_c**3 + 3*w_c**2*w_d + 3*w_c*w_d**2 + w_d**3) + 432*eta*g4**2*w_d**2*conjugate(eta)/(w_c**3 - 3*w_c**2*w_d + 3*w_c*w_d**2 - w_d**3) + 144*eta*g4**2*w_d*conjugate(eta)/(9*w_c**2 + 6*w_c*w_d + w_d**2) - 144*eta*g4**2*w_d*conjugate(eta)/(9*w_c**2 - 6*w_c*w_d + w_d**2) + 432*eta*g4**2*w_d*conjugate(eta)/(w_c**2 + 2*w_c*w_d + w_d**2) - 432*eta*g4**2*w_d*conjugate(eta)/(w_c**2 - 2*w_c*w_d + w_d**2) - 576*eta*g4**2*conjugate(eta)/(3*w_c + w_d) - 576*eta*g4**2*conjugate(eta)/(3*w_c - w_d) - 1728*eta*g4**2*conjugate(eta)/(w_c + w_d) - 1728*eta*g4**2*conjugate(eta)/(w_c - w_d) - 576*eta*g4**2*conjugate(eta)/w_c - 60*g3**2/w_c - 288*g4**2/w_c"
      ]
     },
     "execution_count": 24,
     "metadata": {},
     "output_type": "execute_result"
    }
   ],
   "source": [
    "E"
   ]
  },
  {
   "cell_type": "code",
   "execution_count": 25,
   "id": "a360ad9b",
   "metadata": {},
   "outputs": [
    {
     "data": {
      "text/latex": [
       "$\\displaystyle - \\frac{101.377990430622 g_{3}^{2}}{w_{c}} - \\frac{6567.80355994744 g_{4}^{2}}{w_{c}}$"
      ],
      "text/plain": [
       "-101.377990430622*g3**2/w_c - 6567.80355994744*g4**2/w_c"
      ]
     },
     "execution_count": 25,
     "metadata": {},
     "output_type": "execute_result"
    }
   ],
   "source": [
    "E.subs(eta,1).subs(omega_d,2.95*omega_a)"
   ]
  }
 ],
 "metadata": {
  "kernelspec": {
   "display_name": "Python 3 (ipykernel)",
   "language": "python",
   "name": "python3"
  },
  "language_info": {
   "codemirror_mode": {
    "name": "ipython",
    "version": 3
   },
   "file_extension": ".py",
   "mimetype": "text/x-python",
   "name": "python",
   "nbconvert_exporter": "python",
   "pygments_lexer": "ipython3",
   "version": "3.8.3"
  }
 },
 "nbformat": 4,
 "nbformat_minor": 5
}
