{
 "cells": [
  {
   "cell_type": "code",
   "execution_count": 551,
   "id": "27ca754a-9d30-4a6d-8054-db633309ef22",
   "metadata": {
    "execution": {
     "iopub.execute_input": "2023-09-18T17:34:06.006542Z",
     "iopub.status.busy": "2023-09-18T17:34:06.006428Z",
     "iopub.status.idle": "2023-09-18T17:34:06.268675Z",
     "shell.execute_reply": "2023-09-18T17:34:06.268393Z",
     "shell.execute_reply.started": "2023-09-18T17:34:06.006524Z"
    },
    "tags": []
   },
   "outputs": [],
   "source": [
    "from sympy.physics.secondquant import *\n",
    "from sympy import symbols, I\n",
    "import sympy as sp\n",
    "from no import normal\n",
    "from sympy import exp\n",
    "from sympy import symbols, diff\n",
    "from sympy.core.numbers import Zero"
   ]
  },
  {
   "cell_type": "code",
   "execution_count": 552,
   "id": "c2430950",
   "metadata": {},
   "outputs": [],
   "source": [
    "a = B(ind_a)\n",
    "ad = Bd(ind_a)\n",
    "def get_ti(expr):\n",
    "    return sum([term for term in expr.args if not term.has(t)])\n",
    "def remove_constant(expr):\n",
    "    terms_without_B_Bd = [term for term in expr.args if not (term.has(a) or term.has(ad))]\n",
    "    return expr - sum(terms_without_B_Bd)"
   ]
  },
  {
   "cell_type": "code",
   "execution_count": 553,
   "id": "ae35cffe",
   "metadata": {},
   "outputs": [
    {
     "data": {
      "text/latex": [
       "$\\displaystyle b_{s}$"
      ],
      "text/plain": [
       "AnnihilateBoson(s)"
      ]
     },
     "execution_count": 553,
     "metadata": {},
     "output_type": "execute_result"
    }
   ],
   "source": [
    "a"
   ]
  },
  {
   "cell_type": "code",
   "execution_count": 554,
   "id": "bee929bb-cb95-42cf-8cfc-b637ef21834a",
   "metadata": {
    "execution": {
     "iopub.execute_input": "2023-09-18T17:34:06.269930Z",
     "iopub.status.busy": "2023-09-18T17:34:06.269812Z",
     "iopub.status.idle": "2023-09-18T17:34:06.272079Z",
     "shell.execute_reply": "2023-09-18T17:34:06.271760Z",
     "shell.execute_reply.started": "2023-09-18T17:34:06.269921Z"
    },
    "tags": []
   },
   "outputs": [],
   "source": [
    "ind_a = symbols('s')\n"
   ]
  },
  {
   "cell_type": "code",
   "execution_count": 555,
   "id": "bd55f7a7-b1e1-4a35-94cb-263462a7bec0",
   "metadata": {
    "execution": {
     "iopub.execute_input": "2023-09-18T17:34:06.272565Z",
     "iopub.status.busy": "2023-09-18T17:34:06.272476Z",
     "iopub.status.idle": "2023-09-18T17:34:06.274933Z",
     "shell.execute_reply": "2023-09-18T17:34:06.274637Z",
     "shell.execute_reply.started": "2023-09-18T17:34:06.272557Z"
    },
    "tags": []
   },
   "outputs": [],
   "source": [
    "g4 = symbols('g4', real=True)\n",
    "g3 = symbols('g3', real=True)\n",
    "w_t = symbols('w_t', real=True)\n",
    "omega_a = symbols('w_s', real=True)\n",
    "delta = symbols('delta', real=True)\n",
    "omega_d = 2*omega_a+delta\n",
    "t = symbols('t', real=True)\n",
    "eta = symbols('eta', real=False)\n",
    "kappa = symbols('kappa', real=True)"
   ]
  },
  {
   "cell_type": "code",
   "execution_count": 556,
   "id": "86e082c8-2981-467e-abfc-fc96b02e9e6c",
   "metadata": {
    "execution": {
     "iopub.execute_input": "2023-09-18T17:34:06.275557Z",
     "iopub.status.busy": "2023-09-18T17:34:06.275445Z",
     "iopub.status.idle": "2023-09-18T17:34:06.277925Z",
     "shell.execute_reply": "2023-09-18T17:34:06.277625Z",
     "shell.execute_reply.started": "2023-09-18T17:34:06.275548Z"
    },
    "tags": []
   },
   "outputs": [],
   "source": [
    "h0 =omega_a * ad * a"
   ]
  },
  {
   "cell_type": "code",
   "execution_count": 557,
   "id": "8df65c02",
   "metadata": {},
   "outputs": [],
   "source": [
    "at = a\n",
    "adt = ad"
   ]
  },
  {
   "cell_type": "code",
   "execution_count": 558,
   "id": "cb9a2f02-ca22-4202-abce-288d7892ccba",
   "metadata": {
    "execution": {
     "iopub.execute_input": "2023-09-18T17:34:11.691132Z",
     "iopub.status.busy": "2023-09-18T17:34:11.690451Z",
     "iopub.status.idle": "2023-09-18T17:34:11.798487Z",
     "shell.execute_reply": "2023-09-18T17:34:11.798172Z",
     "shell.execute_reply.started": "2023-09-18T17:34:11.691086Z"
    },
    "tags": []
   },
   "outputs": [],
   "source": [
    "v = normal(g3/3*(at + adt + eta*exp(-I*omega_d*t)+ eta.conjugate()*exp(I*omega_d*t))**3 \n",
    "           +g4 /4* (at + adt + eta*exp(-I*omega_d*t) + eta.conjugate()*exp(I*omega_d*t))**4  )"
   ]
  },
  {
   "cell_type": "code",
   "execution_count": 559,
   "id": "c19d4694",
   "metadata": {},
   "outputs": [],
   "source": [
    "v = remove_constant(v)"
   ]
  },
  {
   "cell_type": "code",
   "execution_count": 560,
   "id": "7cf85959",
   "metadata": {},
   "outputs": [],
   "source": [
    "v_ti = get_ti(v)"
   ]
  },
  {
   "cell_type": "code",
   "execution_count": 561,
   "id": "f9225935",
   "metadata": {},
   "outputs": [
    {
     "data": {
      "text/latex": [
       "$\\displaystyle 2 \\eta g_{3} \\overline{\\eta} b_{s} + 2 \\eta g_{3} \\overline{\\eta} {b^\\dagger_{s}} + 3 \\eta g_{4} \\overline{\\eta} b_{s}^{2} + 6 \\eta g_{4} \\overline{\\eta} {b^\\dagger_{s}} b_{s} + 3 \\eta g_{4} \\overline{\\eta} {b^\\dagger_{s}}^{2} + g_{3} b_{s} + \\frac{g_{3} b_{s}^{3}}{3} + g_{3} {b^\\dagger_{s}} + g_{3} {b^\\dagger_{s}} b_{s}^{2} + g_{3} {b^\\dagger_{s}}^{2} b_{s} + \\frac{g_{3} {b^\\dagger_{s}}^{3}}{3} + \\frac{3 g_{4} b_{s}^{2}}{2} + \\frac{g_{4} b_{s}^{4}}{4} + 3 g_{4} {b^\\dagger_{s}} b_{s} + g_{4} {b^\\dagger_{s}} b_{s}^{3} + \\frac{3 g_{4} {b^\\dagger_{s}}^{2}}{2} + \\frac{3 g_{4} {b^\\dagger_{s}}^{2} b_{s}^{2}}{2} + g_{4} {b^\\dagger_{s}}^{3} b_{s} + \\frac{g_{4} {b^\\dagger_{s}}^{4}}{4}$"
      ],
      "text/plain": [
       "2*eta*g3*conjugate(eta)*AnnihilateBoson(s) + 2*eta*g3*conjugate(eta)*CreateBoson(s) + 3*eta*g4*conjugate(eta)*AnnihilateBoson(s)**2 + 6*eta*g4*conjugate(eta)*CreateBoson(s)*AnnihilateBoson(s) + 3*eta*g4*conjugate(eta)*CreateBoson(s)**2 + g3*AnnihilateBoson(s) + g3*AnnihilateBoson(s)**3/3 + g3*CreateBoson(s) + g3*CreateBoson(s)*AnnihilateBoson(s)**2 + g3*CreateBoson(s)**2*AnnihilateBoson(s) + g3*CreateBoson(s)**3/3 + 3*g4*AnnihilateBoson(s)**2/2 + g4*AnnihilateBoson(s)**4/4 + 3*g4*CreateBoson(s)*AnnihilateBoson(s) + g4*CreateBoson(s)*AnnihilateBoson(s)**3 + 3*g4*CreateBoson(s)**2/2 + 3*g4*CreateBoson(s)**2*AnnihilateBoson(s)**2/2 + g4*CreateBoson(s)**3*AnnihilateBoson(s) + g4*CreateBoson(s)**4/4"
      ]
     },
     "execution_count": 561,
     "metadata": {},
     "output_type": "execute_result"
    }
   ],
   "source": [
    "v_ti"
   ]
  },
  {
   "cell_type": "markdown",
   "id": "6d99629b-96b8-4139-bb1e-2af74528d302",
   "metadata": {},
   "source": [
    "### obtain $\\hat{H}_1$"
   ]
  },
  {
   "cell_type": "code",
   "execution_count": 562,
   "id": "1868fc98-9273-429a-a29d-fb50ee3c5f61",
   "metadata": {
    "execution": {
     "iopub.execute_input": "2023-09-18T17:34:13.078193Z",
     "iopub.status.busy": "2023-09-18T17:34:13.077237Z",
     "iopub.status.idle": "2023-09-18T17:34:13.089826Z",
     "shell.execute_reply": "2023-09-18T17:34:13.088794Z",
     "shell.execute_reply.started": "2023-09-18T17:34:13.078139Z"
    },
    "tags": []
   },
   "outputs": [],
   "source": [
    "v1 = v*1"
   ]
  },
  {
   "cell_type": "code",
   "execution_count": 563,
   "id": "8e484b4f-c180-4f7d-86b4-82445d4ef982",
   "metadata": {
    "execution": {
     "iopub.execute_input": "2023-09-18T17:34:13.647035Z",
     "iopub.status.busy": "2023-09-18T17:34:13.646612Z",
     "iopub.status.idle": "2023-09-18T17:34:13.657224Z",
     "shell.execute_reply": "2023-09-18T17:34:13.656744Z",
     "shell.execute_reply.started": "2023-09-18T17:34:13.646982Z"
    },
    "tags": []
   },
   "outputs": [],
   "source": [
    "temp = 0\n",
    "for term in v1.args:\n",
    "    if term.as_powers_dict()[ad] == term.as_powers_dict()[a]:\n",
    "        temp += term\n",
    "h1 = temp * 1"
   ]
  },
  {
   "cell_type": "code",
   "execution_count": 564,
   "id": "4cab389b-ba66-43bf-b7d5-0201ac095b67",
   "metadata": {
    "execution": {
     "iopub.execute_input": "2023-09-18T17:34:16.096880Z",
     "iopub.status.busy": "2023-09-18T17:34:16.096447Z",
     "iopub.status.idle": "2023-09-18T17:34:16.108426Z",
     "shell.execute_reply": "2023-09-18T17:34:16.107277Z",
     "shell.execute_reply.started": "2023-09-18T17:34:16.096856Z"
    },
    "tags": []
   },
   "outputs": [],
   "source": [
    "\n",
    "h1_ti = get_ti(h1)"
   ]
  },
  {
   "cell_type": "code",
   "execution_count": 565,
   "id": "29c1f241",
   "metadata": {},
   "outputs": [
    {
     "data": {
      "text/latex": [
       "$\\displaystyle 6 \\eta g_{4} \\overline{\\eta} {b^\\dagger_{s}} b_{s} + 3 g_{4} {b^\\dagger_{s}} b_{s} + \\frac{3 g_{4} {b^\\dagger_{s}}^{2} b_{s}^{2}}{2}$"
      ],
      "text/plain": [
       "6*eta*g4*conjugate(eta)*CreateBoson(s)*AnnihilateBoson(s) + 3*g4*CreateBoson(s)*AnnihilateBoson(s) + 3*g4*CreateBoson(s)**2*AnnihilateBoson(s)**2/2"
      ]
     },
     "execution_count": 565,
     "metadata": {},
     "output_type": "execute_result"
    }
   ],
   "source": [
    "h1_ti"
   ]
  },
  {
   "cell_type": "markdown",
   "id": "9fc64c95",
   "metadata": {},
   "source": [
    "### obtain up to $\\hat{H}_2$"
   ]
  },
  {
   "cell_type": "code",
   "execution_count": 566,
   "id": "a185bc70",
   "metadata": {},
   "outputs": [
    {
     "data": {
      "text/latex": [
       "$\\displaystyle \\eta^{3} g_{4} e^{- 3 i \\delta t} e^{- 6 i t w_{s}} b_{s} + \\eta^{3} g_{4} e^{- 3 i \\delta t} e^{- 6 i t w_{s}} {b^\\dagger_{s}} + \\eta^{2} g_{3} e^{- 2 i \\delta t} e^{- 4 i t w_{s}} b_{s} + \\eta^{2} g_{3} e^{- 2 i \\delta t} e^{- 4 i t w_{s}} {b^\\dagger_{s}} + 3 \\eta^{2} g_{4} e^{- i \\delta t} e^{- 2 i t w_{s}} \\overline{\\eta} b_{s} + 3 \\eta^{2} g_{4} e^{- i \\delta t} e^{- 2 i t w_{s}} \\overline{\\eta} {b^\\dagger_{s}} + \\frac{3 \\eta^{2} g_{4} e^{- 2 i \\delta t} e^{- 4 i t w_{s}} b_{s}^{2}}{2} + \\frac{3 \\eta^{2} g_{4} e^{- 2 i \\delta t} e^{- 4 i t w_{s}} {b^\\dagger_{s}}^{2}}{2} + 2 \\eta g_{3} \\overline{\\eta} b_{s} + 2 \\eta g_{3} \\overline{\\eta} {b^\\dagger_{s}} + \\eta g_{3} e^{- i \\delta t} e^{- 2 i t w_{s}} b_{s}^{2} + \\eta g_{3} e^{- i \\delta t} e^{- 2 i t w_{s}} {b^\\dagger_{s}}^{2} + 3 \\eta g_{4} e^{i \\delta t} e^{2 i t w_{s}} \\overline{\\eta}^{2} b_{s} + 3 \\eta g_{4} e^{i \\delta t} e^{2 i t w_{s}} \\overline{\\eta}^{2} {b^\\dagger_{s}} + 3 \\eta g_{4} \\overline{\\eta} b_{s}^{2} + 3 \\eta g_{4} \\overline{\\eta} {b^\\dagger_{s}}^{2} + 3 \\eta g_{4} e^{- i \\delta t} e^{- 2 i t w_{s}} b_{s} + \\eta g_{4} e^{- i \\delta t} e^{- 2 i t w_{s}} b_{s}^{3} + 3 \\eta g_{4} e^{- i \\delta t} e^{- 2 i t w_{s}} {b^\\dagger_{s}} + 3 \\eta g_{4} e^{- i \\delta t} e^{- 2 i t w_{s}} {b^\\dagger_{s}} b_{s}^{2} + 3 \\eta g_{4} e^{- i \\delta t} e^{- 2 i t w_{s}} {b^\\dagger_{s}}^{2} b_{s} + \\eta g_{4} e^{- i \\delta t} e^{- 2 i t w_{s}} {b^\\dagger_{s}}^{3} + g_{3} e^{2 i \\delta t} e^{4 i t w_{s}} \\overline{\\eta}^{2} b_{s} + g_{3} e^{2 i \\delta t} e^{4 i t w_{s}} \\overline{\\eta}^{2} {b^\\dagger_{s}} + g_{3} e^{i \\delta t} e^{2 i t w_{s}} \\overline{\\eta} b_{s}^{2} + g_{3} e^{i \\delta t} e^{2 i t w_{s}} \\overline{\\eta} {b^\\dagger_{s}}^{2} + g_{3} b_{s} + \\frac{g_{3} b_{s}^{3}}{3} + g_{3} {b^\\dagger_{s}} + g_{3} {b^\\dagger_{s}} b_{s}^{2} + g_{3} {b^\\dagger_{s}}^{2} b_{s} + \\frac{g_{3} {b^\\dagger_{s}}^{3}}{3} + g_{4} e^{3 i \\delta t} e^{6 i t w_{s}} \\overline{\\eta}^{3} b_{s} + g_{4} e^{3 i \\delta t} e^{6 i t w_{s}} \\overline{\\eta}^{3} {b^\\dagger_{s}} + \\frac{3 g_{4} e^{2 i \\delta t} e^{4 i t w_{s}} \\overline{\\eta}^{2} b_{s}^{2}}{2} + \\frac{3 g_{4} e^{2 i \\delta t} e^{4 i t w_{s}} \\overline{\\eta}^{2} {b^\\dagger_{s}}^{2}}{2} + 3 g_{4} e^{i \\delta t} e^{2 i t w_{s}} \\overline{\\eta} b_{s} + g_{4} e^{i \\delta t} e^{2 i t w_{s}} \\overline{\\eta} b_{s}^{3} + 3 g_{4} e^{i \\delta t} e^{2 i t w_{s}} \\overline{\\eta} {b^\\dagger_{s}} + 3 g_{4} e^{i \\delta t} e^{2 i t w_{s}} \\overline{\\eta} {b^\\dagger_{s}} b_{s}^{2} + 3 g_{4} e^{i \\delta t} e^{2 i t w_{s}} \\overline{\\eta} {b^\\dagger_{s}}^{2} b_{s} + g_{4} e^{i \\delta t} e^{2 i t w_{s}} \\overline{\\eta} {b^\\dagger_{s}}^{3} + \\frac{3 g_{4} b_{s}^{2}}{2} + \\frac{g_{4} b_{s}^{4}}{4} + g_{4} {b^\\dagger_{s}} b_{s}^{3} + \\frac{3 g_{4} {b^\\dagger_{s}}^{2}}{2} + g_{4} {b^\\dagger_{s}}^{3} b_{s} + \\frac{g_{4} {b^\\dagger_{s}}^{4}}{4}$"
      ],
      "text/plain": [
       "eta**3*g4*exp(-3*I*delta*t)*exp(-6*I*t*w_s)*AnnihilateBoson(s) + eta**3*g4*exp(-3*I*delta*t)*exp(-6*I*t*w_s)*CreateBoson(s) + eta**2*g3*exp(-2*I*delta*t)*exp(-4*I*t*w_s)*AnnihilateBoson(s) + eta**2*g3*exp(-2*I*delta*t)*exp(-4*I*t*w_s)*CreateBoson(s) + 3*eta**2*g4*exp(-I*delta*t)*exp(-2*I*t*w_s)*conjugate(eta)*AnnihilateBoson(s) + 3*eta**2*g4*exp(-I*delta*t)*exp(-2*I*t*w_s)*conjugate(eta)*CreateBoson(s) + 3*eta**2*g4*exp(-2*I*delta*t)*exp(-4*I*t*w_s)*AnnihilateBoson(s)**2/2 + 3*eta**2*g4*exp(-2*I*delta*t)*exp(-4*I*t*w_s)*CreateBoson(s)**2/2 + 2*eta*g3*conjugate(eta)*AnnihilateBoson(s) + 2*eta*g3*conjugate(eta)*CreateBoson(s) + eta*g3*exp(-I*delta*t)*exp(-2*I*t*w_s)*AnnihilateBoson(s)**2 + eta*g3*exp(-I*delta*t)*exp(-2*I*t*w_s)*CreateBoson(s)**2 + 3*eta*g4*exp(I*delta*t)*exp(2*I*t*w_s)*conjugate(eta)**2*AnnihilateBoson(s) + 3*eta*g4*exp(I*delta*t)*exp(2*I*t*w_s)*conjugate(eta)**2*CreateBoson(s) + 3*eta*g4*conjugate(eta)*AnnihilateBoson(s)**2 + 3*eta*g4*conjugate(eta)*CreateBoson(s)**2 + 3*eta*g4*exp(-I*delta*t)*exp(-2*I*t*w_s)*AnnihilateBoson(s) + eta*g4*exp(-I*delta*t)*exp(-2*I*t*w_s)*AnnihilateBoson(s)**3 + 3*eta*g4*exp(-I*delta*t)*exp(-2*I*t*w_s)*CreateBoson(s) + 3*eta*g4*exp(-I*delta*t)*exp(-2*I*t*w_s)*CreateBoson(s)*AnnihilateBoson(s)**2 + 3*eta*g4*exp(-I*delta*t)*exp(-2*I*t*w_s)*CreateBoson(s)**2*AnnihilateBoson(s) + eta*g4*exp(-I*delta*t)*exp(-2*I*t*w_s)*CreateBoson(s)**3 + g3*exp(2*I*delta*t)*exp(4*I*t*w_s)*conjugate(eta)**2*AnnihilateBoson(s) + g3*exp(2*I*delta*t)*exp(4*I*t*w_s)*conjugate(eta)**2*CreateBoson(s) + g3*exp(I*delta*t)*exp(2*I*t*w_s)*conjugate(eta)*AnnihilateBoson(s)**2 + g3*exp(I*delta*t)*exp(2*I*t*w_s)*conjugate(eta)*CreateBoson(s)**2 + g3*AnnihilateBoson(s) + g3*AnnihilateBoson(s)**3/3 + g3*CreateBoson(s) + g3*CreateBoson(s)*AnnihilateBoson(s)**2 + g3*CreateBoson(s)**2*AnnihilateBoson(s) + g3*CreateBoson(s)**3/3 + g4*exp(3*I*delta*t)*exp(6*I*t*w_s)*conjugate(eta)**3*AnnihilateBoson(s) + g4*exp(3*I*delta*t)*exp(6*I*t*w_s)*conjugate(eta)**3*CreateBoson(s) + 3*g4*exp(2*I*delta*t)*exp(4*I*t*w_s)*conjugate(eta)**2*AnnihilateBoson(s)**2/2 + 3*g4*exp(2*I*delta*t)*exp(4*I*t*w_s)*conjugate(eta)**2*CreateBoson(s)**2/2 + 3*g4*exp(I*delta*t)*exp(2*I*t*w_s)*conjugate(eta)*AnnihilateBoson(s) + g4*exp(I*delta*t)*exp(2*I*t*w_s)*conjugate(eta)*AnnihilateBoson(s)**3 + 3*g4*exp(I*delta*t)*exp(2*I*t*w_s)*conjugate(eta)*CreateBoson(s) + 3*g4*exp(I*delta*t)*exp(2*I*t*w_s)*conjugate(eta)*CreateBoson(s)*AnnihilateBoson(s)**2 + 3*g4*exp(I*delta*t)*exp(2*I*t*w_s)*conjugate(eta)*CreateBoson(s)**2*AnnihilateBoson(s) + g4*exp(I*delta*t)*exp(2*I*t*w_s)*conjugate(eta)*CreateBoson(s)**3 + 3*g4*AnnihilateBoson(s)**2/2 + g4*AnnihilateBoson(s)**4/4 + g4*CreateBoson(s)*AnnihilateBoson(s)**3 + 3*g4*CreateBoson(s)**2/2 + g4*CreateBoson(s)**3*AnnihilateBoson(s) + g4*CreateBoson(s)**4/4"
      ]
     },
     "execution_count": 566,
     "metadata": {},
     "output_type": "execute_result"
    }
   ],
   "source": [
    "(v1-h1)"
   ]
  },
  {
   "cell_type": "code",
   "execution_count": 567,
   "id": "af0c31ef",
   "metadata": {},
   "outputs": [],
   "source": [
    "temp = 0\n",
    "for term in (v1-h1).args:\n",
    "    if (term.as_powers_dict()[ad] != term.as_powers_dict()[a] or \n",
    "        term.as_powers_dict()[eta] != term.as_powers_dict()[eta.conjugate()]):\n",
    "        if type((omega_d/2 * (term.as_powers_dict()[ad] - term.as_powers_dict()[a]) + \n",
    "                        omega_d * (term.as_powers_dict()[eta.conjugate()] - term.as_powers_dict()[eta]) )) == Zero:\n",
    "            temp = temp\n",
    "        else:\n",
    "            temp += (term / (omega_d/2 * (term.as_powers_dict()[ad] - term.as_powers_dict()[a]) + \n",
    "                        omega_d * (term.as_powers_dict()[eta.conjugate()] - term.as_powers_dict()[eta]) )).simplify()\n",
    "s1= normal(temp) * 1"
   ]
  },
  {
   "cell_type": "code",
   "execution_count": 568,
   "id": "4829a43d",
   "metadata": {},
   "outputs": [],
   "source": [
    "s1 = s1.subs(delta,0)"
   ]
  },
  {
   "cell_type": "code",
   "execution_count": null,
   "id": "41ec9b0a",
   "metadata": {},
   "outputs": [],
   "source": []
  },
  {
   "cell_type": "code",
   "execution_count": 541,
   "id": "abe5a2b2",
   "metadata": {},
   "outputs": [],
   "source": [
    "s_tot_1 = s1 * kappa\n",
    "sd_tot_1 = sp.diff(s_tot_1, t)"
   ]
  },
  {
   "cell_type": "code",
   "execution_count": 542,
   "id": "e7fc39f5",
   "metadata": {},
   "outputs": [
    {
     "name": "stdout",
     "output_type": "stream",
     "text": [
      "x\n",
      "x\n"
     ]
    }
   ],
   "source": [
    "# time-independent part \n",
    "h_tot = h0 + kappa*v \n",
    "h_eff_2_ti = 0\n",
    "\n",
    "temp_2 = normal(Commutator(s_tot_1, h_tot.coeff(kappa,1)*kappa**1).doit() )\n",
    "temp_1 = normal(Commutator(s_tot_1, h_tot.coeff(kappa,0)*kappa**0).doit() )\n",
    "print('x')\n",
    "h_eff_2_ti += temp_2\n",
    "\n",
    "temp_2 = normal(sp.Rational(1,2) * Commutator(s_tot_1, temp_1).doit())\n",
    "print('x')\n",
    "h_eff_2_ti += temp_2"
   ]
  },
  {
   "cell_type": "code",
   "execution_count": 543,
   "id": "ee9fb181",
   "metadata": {},
   "outputs": [
    {
     "name": "stdout",
     "output_type": "stream",
     "text": [
      "x\n"
     ]
    }
   ],
   "source": [
    "# time-dependent part \n",
    "h_eff_2_td = 0\n",
    "\n",
    "temp_2 = normal(I*sp.Rational(1,2) * Commutator(s_tot_1, sd_tot_1).doit() )\n",
    "print('x')\n",
    "h_eff_2_td +=  temp_2"
   ]
  },
  {
   "cell_type": "code",
   "execution_count": 544,
   "id": "1c5876ed",
   "metadata": {},
   "outputs": [],
   "source": [
    "h_eff_2 = h_eff_2_ti + h_eff_2_td\n",
    "v2 = normal(h_eff_2.coeff(kappa,2))\n",
    "temp = 0\n",
    "for term in v2.args:\n",
    "    if term.as_powers_dict()[ad] == term.as_powers_dict()[a]:\n",
    "        temp += term\n",
    "h2 = temp * 1\n",
    "temp = 0\n",
    "for term in h2.args:\n",
    "    if term.as_powers_dict()[eta] == term.as_powers_dict()[eta.conjugate()]:\n",
    "        temp += term.simplify()\n",
    "h2_ti = temp * 1"
   ]
  },
  {
   "cell_type": "code",
   "execution_count": 548,
   "id": "cd2a54fd",
   "metadata": {},
   "outputs": [],
   "source": [
    "h2_ti = remove_constant(h2_ti)"
   ]
  },
  {
   "cell_type": "code",
   "execution_count": 549,
   "id": "188115c5",
   "metadata": {},
   "outputs": [
    {
     "data": {
      "text/latex": [
       "$\\displaystyle \\frac{9 \\eta^{2} g_{4}^{2} \\overline{\\eta}^{2} {b^\\dagger_{s}} b_{s}}{w_{s}} - \\frac{9 \\eta g_{3}^{2} \\overline{\\eta} {b^\\dagger_{s}} b_{s}}{w_{s}} - \\frac{108 \\eta g_{4}^{2} \\overline{\\eta} {b^\\dagger_{s}} b_{s}}{5 w_{s}} - \\frac{54 \\eta g_{4}^{2} \\overline{\\eta} {b^\\dagger_{s}}^{2} b_{s}^{2}}{5 w_{s}} - \\frac{20 g_{3}^{2} {b^\\dagger_{s}} b_{s}}{3 w_{s}} - \\frac{10 g_{3}^{2} {b^\\dagger_{s}}^{2} b_{s}^{2}}{3 w_{s}} - \\frac{18 g_{4}^{2} {b^\\dagger_{s}} b_{s}}{w_{s}} - \\frac{153 g_{4}^{2} {b^\\dagger_{s}}^{2} b_{s}^{2}}{8 w_{s}} - \\frac{17 g_{4}^{2} {b^\\dagger_{s}}^{3} b_{s}^{3}}{4 w_{s}}$"
      ],
      "text/plain": [
       "9*eta**2*g4**2*conjugate(eta)**2*CreateBoson(s)*AnnihilateBoson(s)/w_s - 9*eta*g3**2*conjugate(eta)*CreateBoson(s)*AnnihilateBoson(s)/w_s - 108*eta*g4**2*conjugate(eta)*CreateBoson(s)*AnnihilateBoson(s)/(5*w_s) - 54*eta*g4**2*conjugate(eta)*CreateBoson(s)**2*AnnihilateBoson(s)**2/(5*w_s) - 20*g3**2*CreateBoson(s)*AnnihilateBoson(s)/(3*w_s) - 10*g3**2*CreateBoson(s)**2*AnnihilateBoson(s)**2/(3*w_s) - 18*g4**2*CreateBoson(s)*AnnihilateBoson(s)/w_s - 153*g4**2*CreateBoson(s)**2*AnnihilateBoson(s)**2/(8*w_s) - 17*g4**2*CreateBoson(s)**3*AnnihilateBoson(s)**3/(4*w_s)"
      ]
     },
     "execution_count": 549,
     "metadata": {},
     "output_type": "execute_result"
    }
   ],
   "source": [
    "h2_ti.subs(delta,0)"
   ]
  },
  {
   "cell_type": "code",
   "execution_count": 360,
   "id": "233c1880",
   "metadata": {},
   "outputs": [],
   "source": [
    "# temp = 0\n",
    "# for term in (v2-h2).args:\n",
    "#     if (term.as_powers_dict()[ad] != term.as_powers_dict()[a] or \n",
    "#         term.as_powers_dict()[eta] != term.as_powers_dict()[eta.conjugate()]):\n",
    "        \n",
    "#         temp += term / (omega_a * (term.as_powers_dict()[ad] - term.as_powers_dict()[a]) + \n",
    "#                         omega_d * (term.as_powers_dict()[eta.conjugate()] - term.as_powers_dict()[eta]) )\n",
    "# s2= normal(temp) * 1"
   ]
  },
  {
   "cell_type": "code",
   "execution_count": 23,
   "id": "18c3abab",
   "metadata": {},
   "outputs": [],
   "source": [
    "def expansion(expr):\n",
    "    x =symbols('x', real=True)\n",
    "    y= symbols('y', real=True)\n",
    "    expr=expr.subs(g3**2,x*omega_a**2)\n",
    "    expr=expr.subs(g4,y*omega_a)\n",
    "    f_0 = expr.subs({x: 0, y: 0})\n",
    "    df_dx = diff(expr, x).subs({x: 0, y: 0}) * (x - 0)\n",
    "    df_dy = diff(expr, y).subs({x: 0, y: 0}) * (y - 0)\n",
    "    taylor_first_order = f_0 + df_dx + df_dy\n",
    "    return taylor_first_order.expand()"
   ]
  },
  {
   "cell_type": "code",
   "execution_count": 24,
   "id": "143fca87-8842-426f-b519-1458ac8972f6",
   "metadata": {
    "execution": {
     "iopub.execute_input": "2023-09-18T17:34:16.423589Z",
     "iopub.status.busy": "2023-09-18T17:34:16.423201Z",
     "iopub.status.idle": "2023-09-18T17:34:16.438828Z",
     "shell.execute_reply": "2023-09-18T17:34:16.437563Z",
     "shell.execute_reply.started": "2023-09-18T17:34:16.423562Z"
    },
    "tags": []
   },
   "outputs": [],
   "source": [
    "omega_sp = omega_a+h1_ti.coeff(ad*a)"
   ]
  },
  {
   "cell_type": "markdown",
   "id": "b9b1ca1b-47cc-4692-a118-305b06a20ba6",
   "metadata": {},
   "source": [
    "### obtain up to $\\hat{H}_2$ for composite system"
   ]
  },
  {
   "cell_type": "code",
   "execution_count": 25,
   "id": "462c5c54",
   "metadata": {},
   "outputs": [],
   "source": [
    "s1c = sp.expand(normal(Commutator(s1, a+ad).doit() ))"
   ]
  },
  {
   "cell_type": "code",
   "execution_count": 26,
   "id": "cfa15315",
   "metadata": {},
   "outputs": [],
   "source": [
    "ind_b = symbols('c')\n",
    "b = B(ind_b)\n",
    "bd = Bd(ind_b)\n",
    "omega_b = symbols('omega_c', real=True)\n",
    "def _m_normal(expr):\n",
    "    if not expr.is_Mul:\n",
    "        return expr\n",
    "    else:\n",
    "        c_part = []\n",
    "        string = []\n",
    "        for factor in expr.args:\n",
    "            if factor.is_commutative:\n",
    "                c_part.append(factor)\n",
    "            else:\n",
    "                string.append(factor)\n",
    "                \n",
    "        expr_a = 1\n",
    "        expr_b = 1\n",
    "        expr_c = 1\n",
    "        \n",
    "        for factor in string:\n",
    "            if factor.is_Pow:\n",
    "                if factor.args[0].args[0] == ind_a:\n",
    "                    expr_a *= factor\n",
    "                elif factor.args[0].args[0] == ind_b:\n",
    "                    expr_b *= factor\n",
    "                else:\n",
    "                    expr_c *= factor\n",
    "            else:\n",
    "                if factor.args[0] == ind_a:\n",
    "                    expr_a *= factor\n",
    "                elif factor.args[0] == ind_b:\n",
    "                    expr_b *= factor\n",
    "                else:\n",
    "                    expr_c *= factor\n",
    "                    \n",
    "        if expr_a != 1:\n",
    "            expr_a = normal(expr_a)\n",
    "        if expr_b != 1:\n",
    "            expr_b = normal(expr_b)\n",
    "        if expr_c != 1:\n",
    "            expr_c = normal(expr_c)\n",
    "    \n",
    "        return sp.Mul(*c_part) * expr_a * expr_b * expr_c    \n",
    "\n",
    "def m_normal(expr):\n",
    "    expr = expr.expand()\n",
    "    if isinstance(expr, sp.Add):\n",
    "        return sp.Add(*[_m_normal(term) for term in expr.args])\n",
    "    else:\n",
    "        return _m_normal(expr)"
   ]
  },
  {
   "cell_type": "code",
   "execution_count": 27,
   "id": "ba450734",
   "metadata": {},
   "outputs": [],
   "source": [
    "h0 = omega_sp * ad * a+ omega_b*bd*b\n",
    "v = (a+ad+s1c)*(b+bd)"
   ]
  },
  {
   "cell_type": "code",
   "execution_count": 28,
   "id": "246f166a",
   "metadata": {},
   "outputs": [],
   "source": [
    "v = m_normal(v)"
   ]
  },
  {
   "cell_type": "code",
   "execution_count": 29,
   "id": "137b46ef",
   "metadata": {},
   "outputs": [],
   "source": [
    "v1 = v\n",
    "temp = 0\n",
    "for term in v1.args:\n",
    "    if term.as_powers_dict()[ad] == term.as_powers_dict()[a] and term.as_powers_dict()[bd] == term.as_powers_dict()[b]:\n",
    "        temp += term\n",
    "h1 = temp * 1\n",
    "temp = 0\n",
    "for term in (v1-h1).args:\n",
    "    if (term.as_powers_dict()[ad] != term.as_powers_dict()[a] or \n",
    "        term.as_powers_dict()[bd] != term.as_powers_dict()[b]  ):\n",
    "        \n",
    "        temp += term / (omega_sp * (term.as_powers_dict()[ad] - term.as_powers_dict()[a]) +\n",
    "                        omega_b * (term.as_powers_dict()[bd] - term.as_powers_dict()[b])  )\n",
    "s1 = temp * 1"
   ]
  },
  {
   "cell_type": "code",
   "execution_count": 30,
   "id": "38f5d40c",
   "metadata": {},
   "outputs": [
    {
     "ename": "KeyboardInterrupt",
     "evalue": "",
     "output_type": "error",
     "traceback": [
      "\u001b[0;31m---------------------------------------------------------------------------\u001b[0m",
      "\u001b[0;31mKeyboardInterrupt\u001b[0m                         Traceback (most recent call last)",
      "Input \u001b[0;32mIn [30]\u001b[0m, in \u001b[0;36m<module>\u001b[0;34m\u001b[0m\n\u001b[0;32m----> 1\u001b[0m v2 \u001b[38;5;241m=\u001b[39m (sp\u001b[38;5;241m.\u001b[39mRational(\u001b[38;5;241m1\u001b[39m,\u001b[38;5;241m2\u001b[39m)\u001b[38;5;241m*\u001b[39m\u001b[43mm_normal\u001b[49m\u001b[43m(\u001b[49m\u001b[43mCommutator\u001b[49m\u001b[43m(\u001b[49m\u001b[43ms1\u001b[49m\u001b[43m,\u001b[49m\u001b[43mv1\u001b[49m\u001b[43m)\u001b[49m\u001b[38;5;241;43m.\u001b[39;49m\u001b[43mdoit\u001b[49m\u001b[43m(\u001b[49m\u001b[43m)\u001b[49m\u001b[43m)\u001b[49m)\u001b[38;5;241m.\u001b[39mexpand()\n",
      "Input \u001b[0;32mIn [26]\u001b[0m, in \u001b[0;36mm_normal\u001b[0;34m(expr)\u001b[0m\n\u001b[1;32m     46\u001b[0m \u001b[38;5;28;01mdef\u001b[39;00m \u001b[38;5;21mm_normal\u001b[39m(expr):\n\u001b[0;32m---> 47\u001b[0m     expr \u001b[38;5;241m=\u001b[39m \u001b[43mexpr\u001b[49m\u001b[38;5;241;43m.\u001b[39;49m\u001b[43mexpand\u001b[49m\u001b[43m(\u001b[49m\u001b[43m)\u001b[49m\n\u001b[1;32m     48\u001b[0m     \u001b[38;5;28;01mif\u001b[39;00m \u001b[38;5;28misinstance\u001b[39m(expr, sp\u001b[38;5;241m.\u001b[39mAdd):\n\u001b[1;32m     49\u001b[0m         \u001b[38;5;28;01mreturn\u001b[39;00m sp\u001b[38;5;241m.\u001b[39mAdd(\u001b[38;5;241m*\u001b[39m[_m_normal(term) \u001b[38;5;28;01mfor\u001b[39;00m term \u001b[38;5;129;01min\u001b[39;00m expr\u001b[38;5;241m.\u001b[39margs])\n",
      "File \u001b[0;32m~/miniconda3/lib/python3.8/site-packages/sympy/core/cache.py:70\u001b[0m, in \u001b[0;36m__cacheit.<locals>.func_wrapper.<locals>.wrapper\u001b[0;34m(*args, **kwargs)\u001b[0m\n\u001b[1;32m     67\u001b[0m \u001b[38;5;129m@wraps\u001b[39m(func)\n\u001b[1;32m     68\u001b[0m \u001b[38;5;28;01mdef\u001b[39;00m \u001b[38;5;21mwrapper\u001b[39m(\u001b[38;5;241m*\u001b[39margs, \u001b[38;5;241m*\u001b[39m\u001b[38;5;241m*\u001b[39mkwargs):\n\u001b[1;32m     69\u001b[0m     \u001b[38;5;28;01mtry\u001b[39;00m:\n\u001b[0;32m---> 70\u001b[0m         retval \u001b[38;5;241m=\u001b[39m \u001b[43mcfunc\u001b[49m\u001b[43m(\u001b[49m\u001b[38;5;241;43m*\u001b[39;49m\u001b[43margs\u001b[49m\u001b[43m,\u001b[49m\u001b[43m \u001b[49m\u001b[38;5;241;43m*\u001b[39;49m\u001b[38;5;241;43m*\u001b[39;49m\u001b[43mkwargs\u001b[49m\u001b[43m)\u001b[49m\n\u001b[1;32m     71\u001b[0m     \u001b[38;5;28;01mexcept\u001b[39;00m \u001b[38;5;167;01mTypeError\u001b[39;00m \u001b[38;5;28;01mas\u001b[39;00m e:\n\u001b[1;32m     72\u001b[0m         \u001b[38;5;28;01mif\u001b[39;00m \u001b[38;5;129;01mnot\u001b[39;00m e\u001b[38;5;241m.\u001b[39margs \u001b[38;5;129;01mor\u001b[39;00m \u001b[38;5;129;01mnot\u001b[39;00m e\u001b[38;5;241m.\u001b[39margs[\u001b[38;5;241m0\u001b[39m]\u001b[38;5;241m.\u001b[39mstartswith(\u001b[38;5;124m'\u001b[39m\u001b[38;5;124munhashable type:\u001b[39m\u001b[38;5;124m'\u001b[39m):\n",
      "File \u001b[0;32m~/miniconda3/lib/python3.8/site-packages/sympy/core/expr.py:3651\u001b[0m, in \u001b[0;36mExpr.expand\u001b[0;34m(self, deep, modulus, power_base, power_exp, mul, log, multinomial, basic, **hints)\u001b[0m\n\u001b[1;32m   3649\u001b[0m     \u001b[38;5;28;01mif\u001b[39;00m use_hint:\n\u001b[1;32m   3650\u001b[0m         hint \u001b[38;5;241m=\u001b[39m \u001b[38;5;124m'\u001b[39m\u001b[38;5;124m_eval_expand_\u001b[39m\u001b[38;5;124m'\u001b[39m \u001b[38;5;241m+\u001b[39m hint\n\u001b[0;32m-> 3651\u001b[0m         expr, hit \u001b[38;5;241m=\u001b[39m \u001b[43mExpr\u001b[49m\u001b[38;5;241;43m.\u001b[39;49m\u001b[43m_expand_hint\u001b[49m\u001b[43m(\u001b[49m\u001b[43mexpr\u001b[49m\u001b[43m,\u001b[49m\u001b[43m \u001b[49m\u001b[43mhint\u001b[49m\u001b[43m,\u001b[49m\u001b[43m \u001b[49m\u001b[43mdeep\u001b[49m\u001b[38;5;241;43m=\u001b[39;49m\u001b[43mdeep\u001b[49m\u001b[43m,\u001b[49m\u001b[43m \u001b[49m\u001b[38;5;241;43m*\u001b[39;49m\u001b[38;5;241;43m*\u001b[39;49m\u001b[43mhints\u001b[49m\u001b[43m)\u001b[49m\n\u001b[1;32m   3653\u001b[0m \u001b[38;5;28;01mwhile\u001b[39;00m \u001b[38;5;28;01mTrue\u001b[39;00m:\n\u001b[1;32m   3654\u001b[0m     was \u001b[38;5;241m=\u001b[39m expr\n",
      "File \u001b[0;32m~/miniconda3/lib/python3.8/site-packages/sympy/core/expr.py:3584\u001b[0m, in \u001b[0;36mExpr._expand_hint\u001b[0;34m(expr, hint, deep, **hints)\u001b[0m\n\u001b[1;32m   3582\u001b[0m sargs \u001b[38;5;241m=\u001b[39m []\n\u001b[1;32m   3583\u001b[0m \u001b[38;5;28;01mfor\u001b[39;00m arg \u001b[38;5;129;01min\u001b[39;00m expr\u001b[38;5;241m.\u001b[39margs:\n\u001b[0;32m-> 3584\u001b[0m     arg, arghit \u001b[38;5;241m=\u001b[39m \u001b[43mExpr\u001b[49m\u001b[38;5;241;43m.\u001b[39;49m\u001b[43m_expand_hint\u001b[49m\u001b[43m(\u001b[49m\u001b[43marg\u001b[49m\u001b[43m,\u001b[49m\u001b[43m \u001b[49m\u001b[43mhint\u001b[49m\u001b[43m,\u001b[49m\u001b[43m \u001b[49m\u001b[38;5;241;43m*\u001b[39;49m\u001b[38;5;241;43m*\u001b[39;49m\u001b[43mhints\u001b[49m\u001b[43m)\u001b[49m\n\u001b[1;32m   3585\u001b[0m     hit \u001b[38;5;241m|\u001b[39m\u001b[38;5;241m=\u001b[39m arghit\n\u001b[1;32m   3586\u001b[0m     sargs\u001b[38;5;241m.\u001b[39mappend(arg)\n",
      "File \u001b[0;32m~/miniconda3/lib/python3.8/site-packages/sympy/core/expr.py:3592\u001b[0m, in \u001b[0;36mExpr._expand_hint\u001b[0;34m(expr, hint, deep, **hints)\u001b[0m\n\u001b[1;32m   3589\u001b[0m         expr \u001b[38;5;241m=\u001b[39m expr\u001b[38;5;241m.\u001b[39mfunc(\u001b[38;5;241m*\u001b[39msargs)\n\u001b[1;32m   3591\u001b[0m \u001b[38;5;28;01mif\u001b[39;00m \u001b[38;5;28mhasattr\u001b[39m(expr, hint):\n\u001b[0;32m-> 3592\u001b[0m     newexpr \u001b[38;5;241m=\u001b[39m \u001b[38;5;28;43mgetattr\u001b[39;49m\u001b[43m(\u001b[49m\u001b[43mexpr\u001b[49m\u001b[43m,\u001b[49m\u001b[43m \u001b[49m\u001b[43mhint\u001b[49m\u001b[43m)\u001b[49m\u001b[43m(\u001b[49m\u001b[38;5;241;43m*\u001b[39;49m\u001b[38;5;241;43m*\u001b[39;49m\u001b[43mhints\u001b[49m\u001b[43m)\u001b[49m\n\u001b[1;32m   3593\u001b[0m     \u001b[38;5;28;01mif\u001b[39;00m newexpr \u001b[38;5;241m!=\u001b[39m expr:\n\u001b[1;32m   3594\u001b[0m         \u001b[38;5;28;01mreturn\u001b[39;00m (newexpr, \u001b[38;5;28;01mTrue\u001b[39;00m)\n",
      "File \u001b[0;32m~/miniconda3/lib/python3.8/site-packages/sympy/core/mul.py:950\u001b[0m, in \u001b[0;36mMul._eval_expand_mul\u001b[0;34m(self, **hints)\u001b[0m\n\u001b[1;32m    948\u001b[0m args \u001b[38;5;241m=\u001b[39m []\n\u001b[1;32m    949\u001b[0m \u001b[38;5;28;01mfor\u001b[39;00m term \u001b[38;5;129;01min\u001b[39;00m terms:\n\u001b[0;32m--> 950\u001b[0m     t \u001b[38;5;241m=\u001b[39m \u001b[38;5;28;43mself\u001b[39;49m\u001b[38;5;241;43m.\u001b[39;49m\u001b[43mfunc\u001b[49m\u001b[43m(\u001b[49m\u001b[43mplain\u001b[49m\u001b[43m,\u001b[49m\u001b[43m \u001b[49m\u001b[43mterm\u001b[49m\u001b[43m)\u001b[49m\n\u001b[1;32m    951\u001b[0m     \u001b[38;5;28;01mif\u001b[39;00m t\u001b[38;5;241m.\u001b[39mis_Mul \u001b[38;5;129;01mand\u001b[39;00m \u001b[38;5;28many\u001b[39m(a\u001b[38;5;241m.\u001b[39mis_Add \u001b[38;5;28;01mfor\u001b[39;00m a \u001b[38;5;129;01min\u001b[39;00m t\u001b[38;5;241m.\u001b[39margs) \u001b[38;5;129;01mand\u001b[39;00m deep:\n\u001b[1;32m    952\u001b[0m         t \u001b[38;5;241m=\u001b[39m t\u001b[38;5;241m.\u001b[39m_eval_expand_mul()\n",
      "File \u001b[0;32m~/miniconda3/lib/python3.8/site-packages/sympy/core/cache.py:70\u001b[0m, in \u001b[0;36m__cacheit.<locals>.func_wrapper.<locals>.wrapper\u001b[0;34m(*args, **kwargs)\u001b[0m\n\u001b[1;32m     67\u001b[0m \u001b[38;5;129m@wraps\u001b[39m(func)\n\u001b[1;32m     68\u001b[0m \u001b[38;5;28;01mdef\u001b[39;00m \u001b[38;5;21mwrapper\u001b[39m(\u001b[38;5;241m*\u001b[39margs, \u001b[38;5;241m*\u001b[39m\u001b[38;5;241m*\u001b[39mkwargs):\n\u001b[1;32m     69\u001b[0m     \u001b[38;5;28;01mtry\u001b[39;00m:\n\u001b[0;32m---> 70\u001b[0m         retval \u001b[38;5;241m=\u001b[39m \u001b[43mcfunc\u001b[49m\u001b[43m(\u001b[49m\u001b[38;5;241;43m*\u001b[39;49m\u001b[43margs\u001b[49m\u001b[43m,\u001b[49m\u001b[43m \u001b[49m\u001b[38;5;241;43m*\u001b[39;49m\u001b[38;5;241;43m*\u001b[39;49m\u001b[43mkwargs\u001b[49m\u001b[43m)\u001b[49m\n\u001b[1;32m     71\u001b[0m     \u001b[38;5;28;01mexcept\u001b[39;00m \u001b[38;5;167;01mTypeError\u001b[39;00m \u001b[38;5;28;01mas\u001b[39;00m e:\n\u001b[1;32m     72\u001b[0m         \u001b[38;5;28;01mif\u001b[39;00m \u001b[38;5;129;01mnot\u001b[39;00m e\u001b[38;5;241m.\u001b[39margs \u001b[38;5;129;01mor\u001b[39;00m \u001b[38;5;129;01mnot\u001b[39;00m e\u001b[38;5;241m.\u001b[39margs[\u001b[38;5;241m0\u001b[39m]\u001b[38;5;241m.\u001b[39mstartswith(\u001b[38;5;124m'\u001b[39m\u001b[38;5;124munhashable type:\u001b[39m\u001b[38;5;124m'\u001b[39m):\n",
      "File \u001b[0;32m~/miniconda3/lib/python3.8/site-packages/sympy/core/operations.py:101\u001b[0m, in \u001b[0;36mAssocOp.__new__\u001b[0;34m(cls, evaluate, _sympify, *args)\u001b[0m\n\u001b[1;32m     99\u001b[0m is_commutative \u001b[38;5;241m=\u001b[39m \u001b[38;5;129;01mnot\u001b[39;00m nc_part\n\u001b[1;32m    100\u001b[0m obj \u001b[38;5;241m=\u001b[39m \u001b[38;5;28mcls\u001b[39m\u001b[38;5;241m.\u001b[39m_from_args(c_part \u001b[38;5;241m+\u001b[39m nc_part, is_commutative)\n\u001b[0;32m--> 101\u001b[0m obj \u001b[38;5;241m=\u001b[39m \u001b[38;5;28;43mcls\u001b[39;49m\u001b[38;5;241;43m.\u001b[39;49m\u001b[43m_exec_constructor_postprocessors\u001b[49m\u001b[43m(\u001b[49m\u001b[43mobj\u001b[49m\u001b[43m)\u001b[49m\n\u001b[1;32m    103\u001b[0m \u001b[38;5;28;01mif\u001b[39;00m order_symbols \u001b[38;5;129;01mis\u001b[39;00m \u001b[38;5;129;01mnot\u001b[39;00m \u001b[38;5;28;01mNone\u001b[39;00m:\n\u001b[1;32m    104\u001b[0m     \u001b[38;5;28;01mfrom\u001b[39;00m \u001b[38;5;21;01msympy\u001b[39;00m\u001b[38;5;21;01m.\u001b[39;00m\u001b[38;5;21;01mseries\u001b[39;00m\u001b[38;5;21;01m.\u001b[39;00m\u001b[38;5;21;01morder\u001b[39;00m \u001b[38;5;28;01mimport\u001b[39;00m Order\n",
      "\u001b[0;31mKeyboardInterrupt\u001b[0m: "
     ]
    }
   ],
   "source": [
    "v2 = (sp.Rational(1,2)*m_normal(Commutator(s1,v1).doit())).expand()"
   ]
  },
  {
   "cell_type": "code",
   "execution_count": null,
   "id": "110e13dc",
   "metadata": {},
   "outputs": [],
   "source": [
    "sd1 = sp.diff(s1, t)\n",
    "v22=m_normal((I*sp.Rational(1,2) * Commutator(sd1, s1).doit()) ).expand()"
   ]
  },
  {
   "cell_type": "code",
   "execution_count": 25,
   "id": "5f482f84",
   "metadata": {},
   "outputs": [],
   "source": [
    "temp = 0\n",
    "for term in v2.args:\n",
    "    if term.as_powers_dict()[ad] == term.as_powers_dict()[a] and term.as_powers_dict()[bd] == term.as_powers_dict()[b] and term.as_powers_dict()[b]==1 and term.as_powers_dict()[a]==0:\n",
    "        temp += term.simplify()\n",
    "h2 = temp * 1\n",
    "\n",
    "temp = 0\n",
    "for term in h2.args:\n",
    "    if term.as_powers_dict()[eta] == term.as_powers_dict()[eta.conjugate()]:\n",
    "        temp += term.simplify()\n",
    "h2_ti = temp * 1\n"
   ]
  },
  {
   "cell_type": "code",
   "execution_count": 26,
   "id": "429e905e",
   "metadata": {},
   "outputs": [],
   "source": [
    "temp = 0\n",
    "for term in v22.args:\n",
    "    if term.as_powers_dict()[ad] == term.as_powers_dict()[a] and term.as_powers_dict()[bd] == term.as_powers_dict()[b] and term.as_powers_dict()[b]==1 and term.as_powers_dict()[a]==0:\n",
    "        temp += term.simplify()\n",
    "h2 = temp * 1\n",
    "\n",
    "temp = 0\n",
    "for term in h2.args:\n",
    "    if term.as_powers_dict()[eta] == term.as_powers_dict()[eta.conjugate()]:\n",
    "        temp += term.simplify()\n",
    "h2_td = temp * 1"
   ]
  },
  {
   "cell_type": "code",
   "execution_count": 27,
   "id": "4e2720dd",
   "metadata": {},
   "outputs": [],
   "source": [
    "h2_ti = h2_td+h2_ti"
   ]
  },
  {
   "cell_type": "code",
   "execution_count": 28,
   "id": "00cb8adc",
   "metadata": {},
   "outputs": [],
   "source": [
    "x = symbols('x', real=True)\n",
    "y= symbols('y', real=True)\n",
    "h2=h2_ti.subs(g3**2,x*omega_a**2)\n",
    "h2=h2.subs(g4,y*omega_a)\n",
    "from sympy import symbols, diff\n",
    "f_0 = h2.subs({x: 0, y: 0})\n",
    "df_dx = diff(h2, x).subs({x: 0, y: 0}) * (x - 0)\n",
    "df_dy = diff(h2, y).subs({x: 0, y: 0}) * (y - 0)\n",
    "\n",
    "taylor_first_order = f_0 + df_dx + df_dy\n",
    "\n",
    "    "
   ]
  },
  {
   "cell_type": "code",
   "execution_count": 33,
   "id": "9a009ee3",
   "metadata": {},
   "outputs": [
    {
     "data": {
      "text/latex": [
       "$\\displaystyle x \\left(- \\frac{18 \\eta w_{d}^{2} w_{s}^{2} \\overline{\\eta} {b^\\dagger_{c}} b_{c}}{\\omega_{c}^{2} w_{d}^{3} + 6 \\omega_{c}^{2} w_{d}^{2} w_{s} + 12 \\omega_{c}^{2} w_{d} w_{s}^{2} + 8 \\omega_{c}^{2} w_{s}^{3} + 2 \\omega_{c} w_{d}^{3} w_{s} + 12 \\omega_{c} w_{d}^{2} w_{s}^{2} + 24 \\omega_{c} w_{d} w_{s}^{3} + 16 \\omega_{c} w_{s}^{4} + w_{d}^{3} w_{s}^{2} + 6 w_{d}^{2} w_{s}^{3} + 12 w_{d} w_{s}^{4} + 8 w_{s}^{5}} - \\frac{18 \\eta w_{d}^{2} w_{s}^{2} \\overline{\\eta} {b^\\dagger_{c}} b_{c}}{\\omega_{c}^{2} w_{d}^{3} + 6 \\omega_{c}^{2} w_{d}^{2} w_{s} + 12 \\omega_{c}^{2} w_{d} w_{s}^{2} + 8 \\omega_{c}^{2} w_{s}^{3} - 2 \\omega_{c} w_{d}^{3} w_{s} - 12 \\omega_{c} w_{d}^{2} w_{s}^{2} - 24 \\omega_{c} w_{d} w_{s}^{3} - 16 \\omega_{c} w_{s}^{4} + w_{d}^{3} w_{s}^{2} + 6 w_{d}^{2} w_{s}^{3} + 12 w_{d} w_{s}^{4} + 8 w_{s}^{5}} + \\frac{18 \\eta w_{d}^{2} w_{s}^{2} \\overline{\\eta} {b^\\dagger_{c}} b_{c}}{\\omega_{c}^{2} w_{d}^{3} - 6 \\omega_{c}^{2} w_{d}^{2} w_{s} + 12 \\omega_{c}^{2} w_{d} w_{s}^{2} - 8 \\omega_{c}^{2} w_{s}^{3} + 2 \\omega_{c} w_{d}^{3} w_{s} - 12 \\omega_{c} w_{d}^{2} w_{s}^{2} + 24 \\omega_{c} w_{d} w_{s}^{3} - 16 \\omega_{c} w_{s}^{4} + w_{d}^{3} w_{s}^{2} - 6 w_{d}^{2} w_{s}^{3} + 12 w_{d} w_{s}^{4} - 8 w_{s}^{5}} + \\frac{18 \\eta w_{d}^{2} w_{s}^{2} \\overline{\\eta} {b^\\dagger_{c}} b_{c}}{\\omega_{c}^{2} w_{d}^{3} - 6 \\omega_{c}^{2} w_{d}^{2} w_{s} + 12 \\omega_{c}^{2} w_{d} w_{s}^{2} - 8 \\omega_{c}^{2} w_{s}^{3} - 2 \\omega_{c} w_{d}^{3} w_{s} + 12 \\omega_{c} w_{d}^{2} w_{s}^{2} - 24 \\omega_{c} w_{d} w_{s}^{3} + 16 \\omega_{c} w_{s}^{4} + w_{d}^{3} w_{s}^{2} - 6 w_{d}^{2} w_{s}^{3} + 12 w_{d} w_{s}^{4} - 8 w_{s}^{5}} - \\frac{36 \\eta w_{d} w_{s}^{3} \\overline{\\eta} {b^\\dagger_{c}} b_{c}}{\\omega_{c}^{2} w_{d}^{3} + 6 \\omega_{c}^{2} w_{d}^{2} w_{s} + 12 \\omega_{c}^{2} w_{d} w_{s}^{2} + 8 \\omega_{c}^{2} w_{s}^{3} + 2 \\omega_{c} w_{d}^{3} w_{s} + 12 \\omega_{c} w_{d}^{2} w_{s}^{2} + 24 \\omega_{c} w_{d} w_{s}^{3} + 16 \\omega_{c} w_{s}^{4} + w_{d}^{3} w_{s}^{2} + 6 w_{d}^{2} w_{s}^{3} + 12 w_{d} w_{s}^{4} + 8 w_{s}^{5}} - \\frac{36 \\eta w_{d} w_{s}^{3} \\overline{\\eta} {b^\\dagger_{c}} b_{c}}{\\omega_{c}^{2} w_{d}^{3} + 6 \\omega_{c}^{2} w_{d}^{2} w_{s} + 12 \\omega_{c}^{2} w_{d} w_{s}^{2} + 8 \\omega_{c}^{2} w_{s}^{3} - 2 \\omega_{c} w_{d}^{3} w_{s} - 12 \\omega_{c} w_{d}^{2} w_{s}^{2} - 24 \\omega_{c} w_{d} w_{s}^{3} - 16 \\omega_{c} w_{s}^{4} + w_{d}^{3} w_{s}^{2} + 6 w_{d}^{2} w_{s}^{3} + 12 w_{d} w_{s}^{4} + 8 w_{s}^{5}} - \\frac{36 \\eta w_{d} w_{s}^{3} \\overline{\\eta} {b^\\dagger_{c}} b_{c}}{\\omega_{c}^{2} w_{d}^{3} - 6 \\omega_{c}^{2} w_{d}^{2} w_{s} + 12 \\omega_{c}^{2} w_{d} w_{s}^{2} - 8 \\omega_{c}^{2} w_{s}^{3} + 2 \\omega_{c} w_{d}^{3} w_{s} - 12 \\omega_{c} w_{d}^{2} w_{s}^{2} + 24 \\omega_{c} w_{d} w_{s}^{3} - 16 \\omega_{c} w_{s}^{4} + w_{d}^{3} w_{s}^{2} - 6 w_{d}^{2} w_{s}^{3} + 12 w_{d} w_{s}^{4} - 8 w_{s}^{5}} - \\frac{36 \\eta w_{d} w_{s}^{3} \\overline{\\eta} {b^\\dagger_{c}} b_{c}}{\\omega_{c}^{2} w_{d}^{3} - 6 \\omega_{c}^{2} w_{d}^{2} w_{s} + 12 \\omega_{c}^{2} w_{d} w_{s}^{2} - 8 \\omega_{c}^{2} w_{s}^{3} - 2 \\omega_{c} w_{d}^{3} w_{s} + 12 \\omega_{c} w_{d}^{2} w_{s}^{2} - 24 \\omega_{c} w_{d} w_{s}^{3} + 16 \\omega_{c} w_{s}^{4} + w_{d}^{3} w_{s}^{2} - 6 w_{d}^{2} w_{s}^{3} + 12 w_{d} w_{s}^{4} - 8 w_{s}^{5}} - \\frac{18 \\eta w_{d} w_{s}^{2} \\overline{\\eta} {b^\\dagger_{c}} b_{c}}{\\omega_{c}^{2} w_{d}^{2} + 4 \\omega_{c}^{2} w_{d} w_{s} + 4 \\omega_{c}^{2} w_{s}^{2} + 2 \\omega_{c} w_{d}^{2} w_{s} + 8 \\omega_{c} w_{d} w_{s}^{2} + 8 \\omega_{c} w_{s}^{3} + w_{d}^{2} w_{s}^{2} + 4 w_{d} w_{s}^{3} + 4 w_{s}^{4}} - \\frac{18 \\eta w_{d} w_{s}^{2} \\overline{\\eta} {b^\\dagger_{c}} b_{c}}{\\omega_{c}^{2} w_{d}^{2} + 4 \\omega_{c}^{2} w_{d} w_{s} + 4 \\omega_{c}^{2} w_{s}^{2} - 2 \\omega_{c} w_{d}^{2} w_{s} - 8 \\omega_{c} w_{d} w_{s}^{2} - 8 \\omega_{c} w_{s}^{3} + w_{d}^{2} w_{s}^{2} + 4 w_{d} w_{s}^{3} + 4 w_{s}^{4}} + \\frac{18 \\eta w_{d} w_{s}^{2} \\overline{\\eta} {b^\\dagger_{c}} b_{c}}{\\omega_{c}^{2} w_{d}^{2} - 4 \\omega_{c}^{2} w_{d} w_{s} + 4 \\omega_{c}^{2} w_{s}^{2} + 2 \\omega_{c} w_{d}^{2} w_{s} - 8 \\omega_{c} w_{d} w_{s}^{2} + 8 \\omega_{c} w_{s}^{3} + w_{d}^{2} w_{s}^{2} - 4 w_{d} w_{s}^{3} + 4 w_{s}^{4}} + \\frac{18 \\eta w_{d} w_{s}^{2} \\overline{\\eta} {b^\\dagger_{c}} b_{c}}{\\omega_{c}^{2} w_{d}^{2} - 4 \\omega_{c}^{2} w_{d} w_{s} + 4 \\omega_{c}^{2} w_{s}^{2} - 2 \\omega_{c} w_{d}^{2} w_{s} + 8 \\omega_{c} w_{d} w_{s}^{2} - 8 \\omega_{c} w_{s}^{3} + w_{d}^{2} w_{s}^{2} - 4 w_{d} w_{s}^{3} + 4 w_{s}^{4}} - \\frac{36 \\eta w_{s}^{2} \\overline{\\eta} {b^\\dagger_{c}} b_{c}}{\\omega_{c} w_{d}^{2} + 4 \\omega_{c} w_{d} w_{s} + 4 \\omega_{c} w_{s}^{2} + w_{d}^{2} w_{s} + 4 w_{d} w_{s}^{2} + 4 w_{s}^{3}} - \\frac{36 \\eta w_{s}^{2} \\overline{\\eta} {b^\\dagger_{c}} b_{c}}{\\omega_{c} w_{d}^{2} - 4 \\omega_{c} w_{d} w_{s} + 4 \\omega_{c} w_{s}^{2} + w_{d}^{2} w_{s} - 4 w_{d} w_{s}^{2} + 4 w_{s}^{3}} - \\frac{36 \\eta w_{s}^{2} \\overline{\\eta} {b^\\dagger_{c}} b_{c}}{- \\omega_{c} w_{d}^{2} + 4 \\omega_{c} w_{d} w_{s} - 4 \\omega_{c} w_{s}^{2} + w_{d}^{2} w_{s} - 4 w_{d} w_{s}^{2} + 4 w_{s}^{3}} - \\frac{36 \\eta w_{s}^{2} \\overline{\\eta} {b^\\dagger_{c}} b_{c}}{- \\omega_{c} w_{d}^{2} - 4 \\omega_{c} w_{d} w_{s} - 4 \\omega_{c} w_{s}^{2} + w_{d}^{2} w_{s} + 4 w_{d} w_{s}^{2} + 4 w_{s}^{3}} - \\frac{8 {b^\\dagger_{c}} b_{c}}{\\omega_{c} + 2 w_{s}} - \\frac{8 {b^\\dagger_{c}} b_{c}}{- \\omega_{c} + 2 w_{s}}\\right)$"
      ],
      "text/plain": [
       "x*(-18*eta*w_d**2*w_s**2*conjugate(eta)*CreateBoson(c)*AnnihilateBoson(c)/(omega_c**2*w_d**3 + 6*omega_c**2*w_d**2*w_s + 12*omega_c**2*w_d*w_s**2 + 8*omega_c**2*w_s**3 + 2*omega_c*w_d**3*w_s + 12*omega_c*w_d**2*w_s**2 + 24*omega_c*w_d*w_s**3 + 16*omega_c*w_s**4 + w_d**3*w_s**2 + 6*w_d**2*w_s**3 + 12*w_d*w_s**4 + 8*w_s**5) - 18*eta*w_d**2*w_s**2*conjugate(eta)*CreateBoson(c)*AnnihilateBoson(c)/(omega_c**2*w_d**3 + 6*omega_c**2*w_d**2*w_s + 12*omega_c**2*w_d*w_s**2 + 8*omega_c**2*w_s**3 - 2*omega_c*w_d**3*w_s - 12*omega_c*w_d**2*w_s**2 - 24*omega_c*w_d*w_s**3 - 16*omega_c*w_s**4 + w_d**3*w_s**2 + 6*w_d**2*w_s**3 + 12*w_d*w_s**4 + 8*w_s**5) + 18*eta*w_d**2*w_s**2*conjugate(eta)*CreateBoson(c)*AnnihilateBoson(c)/(omega_c**2*w_d**3 - 6*omega_c**2*w_d**2*w_s + 12*omega_c**2*w_d*w_s**2 - 8*omega_c**2*w_s**3 + 2*omega_c*w_d**3*w_s - 12*omega_c*w_d**2*w_s**2 + 24*omega_c*w_d*w_s**3 - 16*omega_c*w_s**4 + w_d**3*w_s**2 - 6*w_d**2*w_s**3 + 12*w_d*w_s**4 - 8*w_s**5) + 18*eta*w_d**2*w_s**2*conjugate(eta)*CreateBoson(c)*AnnihilateBoson(c)/(omega_c**2*w_d**3 - 6*omega_c**2*w_d**2*w_s + 12*omega_c**2*w_d*w_s**2 - 8*omega_c**2*w_s**3 - 2*omega_c*w_d**3*w_s + 12*omega_c*w_d**2*w_s**2 - 24*omega_c*w_d*w_s**3 + 16*omega_c*w_s**4 + w_d**3*w_s**2 - 6*w_d**2*w_s**3 + 12*w_d*w_s**4 - 8*w_s**5) - 36*eta*w_d*w_s**3*conjugate(eta)*CreateBoson(c)*AnnihilateBoson(c)/(omega_c**2*w_d**3 + 6*omega_c**2*w_d**2*w_s + 12*omega_c**2*w_d*w_s**2 + 8*omega_c**2*w_s**3 + 2*omega_c*w_d**3*w_s + 12*omega_c*w_d**2*w_s**2 + 24*omega_c*w_d*w_s**3 + 16*omega_c*w_s**4 + w_d**3*w_s**2 + 6*w_d**2*w_s**3 + 12*w_d*w_s**4 + 8*w_s**5) - 36*eta*w_d*w_s**3*conjugate(eta)*CreateBoson(c)*AnnihilateBoson(c)/(omega_c**2*w_d**3 + 6*omega_c**2*w_d**2*w_s + 12*omega_c**2*w_d*w_s**2 + 8*omega_c**2*w_s**3 - 2*omega_c*w_d**3*w_s - 12*omega_c*w_d**2*w_s**2 - 24*omega_c*w_d*w_s**3 - 16*omega_c*w_s**4 + w_d**3*w_s**2 + 6*w_d**2*w_s**3 + 12*w_d*w_s**4 + 8*w_s**5) - 36*eta*w_d*w_s**3*conjugate(eta)*CreateBoson(c)*AnnihilateBoson(c)/(omega_c**2*w_d**3 - 6*omega_c**2*w_d**2*w_s + 12*omega_c**2*w_d*w_s**2 - 8*omega_c**2*w_s**3 + 2*omega_c*w_d**3*w_s - 12*omega_c*w_d**2*w_s**2 + 24*omega_c*w_d*w_s**3 - 16*omega_c*w_s**4 + w_d**3*w_s**2 - 6*w_d**2*w_s**3 + 12*w_d*w_s**4 - 8*w_s**5) - 36*eta*w_d*w_s**3*conjugate(eta)*CreateBoson(c)*AnnihilateBoson(c)/(omega_c**2*w_d**3 - 6*omega_c**2*w_d**2*w_s + 12*omega_c**2*w_d*w_s**2 - 8*omega_c**2*w_s**3 - 2*omega_c*w_d**3*w_s + 12*omega_c*w_d**2*w_s**2 - 24*omega_c*w_d*w_s**3 + 16*omega_c*w_s**4 + w_d**3*w_s**2 - 6*w_d**2*w_s**3 + 12*w_d*w_s**4 - 8*w_s**5) - 18*eta*w_d*w_s**2*conjugate(eta)*CreateBoson(c)*AnnihilateBoson(c)/(omega_c**2*w_d**2 + 4*omega_c**2*w_d*w_s + 4*omega_c**2*w_s**2 + 2*omega_c*w_d**2*w_s + 8*omega_c*w_d*w_s**2 + 8*omega_c*w_s**3 + w_d**2*w_s**2 + 4*w_d*w_s**3 + 4*w_s**4) - 18*eta*w_d*w_s**2*conjugate(eta)*CreateBoson(c)*AnnihilateBoson(c)/(omega_c**2*w_d**2 + 4*omega_c**2*w_d*w_s + 4*omega_c**2*w_s**2 - 2*omega_c*w_d**2*w_s - 8*omega_c*w_d*w_s**2 - 8*omega_c*w_s**3 + w_d**2*w_s**2 + 4*w_d*w_s**3 + 4*w_s**4) + 18*eta*w_d*w_s**2*conjugate(eta)*CreateBoson(c)*AnnihilateBoson(c)/(omega_c**2*w_d**2 - 4*omega_c**2*w_d*w_s + 4*omega_c**2*w_s**2 + 2*omega_c*w_d**2*w_s - 8*omega_c*w_d*w_s**2 + 8*omega_c*w_s**3 + w_d**2*w_s**2 - 4*w_d*w_s**3 + 4*w_s**4) + 18*eta*w_d*w_s**2*conjugate(eta)*CreateBoson(c)*AnnihilateBoson(c)/(omega_c**2*w_d**2 - 4*omega_c**2*w_d*w_s + 4*omega_c**2*w_s**2 - 2*omega_c*w_d**2*w_s + 8*omega_c*w_d*w_s**2 - 8*omega_c*w_s**3 + w_d**2*w_s**2 - 4*w_d*w_s**3 + 4*w_s**4) - 36*eta*w_s**2*conjugate(eta)*CreateBoson(c)*AnnihilateBoson(c)/(omega_c*w_d**2 + 4*omega_c*w_d*w_s + 4*omega_c*w_s**2 + w_d**2*w_s + 4*w_d*w_s**2 + 4*w_s**3) - 36*eta*w_s**2*conjugate(eta)*CreateBoson(c)*AnnihilateBoson(c)/(omega_c*w_d**2 - 4*omega_c*w_d*w_s + 4*omega_c*w_s**2 + w_d**2*w_s - 4*w_d*w_s**2 + 4*w_s**3) - 36*eta*w_s**2*conjugate(eta)*CreateBoson(c)*AnnihilateBoson(c)/(-omega_c*w_d**2 + 4*omega_c*w_d*w_s - 4*omega_c*w_s**2 + w_d**2*w_s - 4*w_d*w_s**2 + 4*w_s**3) - 36*eta*w_s**2*conjugate(eta)*CreateBoson(c)*AnnihilateBoson(c)/(-omega_c*w_d**2 - 4*omega_c*w_d*w_s - 4*omega_c*w_s**2 + w_d**2*w_s + 4*w_d*w_s**2 + 4*w_s**3) - 8*CreateBoson(c)*AnnihilateBoson(c)/(omega_c + 2*w_s) - 8*CreateBoson(c)*AnnihilateBoson(c)/(-omega_c + 2*w_s))"
      ]
     },
     "execution_count": 33,
     "metadata": {},
     "output_type": "execute_result"
    }
   ],
   "source": [
    "taylor_first_order.args[0]"
   ]
  },
  {
   "cell_type": "code",
   "execution_count": 30,
   "id": "81d4cb3c",
   "metadata": {},
   "outputs": [],
   "source": [
    "xx = taylor_first_order.args[0].subs(eta,1).subs(omega_d,6*omega_a).expand()\n",
    "term = 0.\n",
    "for each in xx.args:\n",
    "    term += (each).simplify()"
   ]
  },
  {
   "cell_type": "code",
   "execution_count": 31,
   "id": "749511e8",
   "metadata": {},
   "outputs": [
    {
     "data": {
      "text/latex": [
       "$\\displaystyle - \\frac{54 w_{s} x {b^\\dagger_{c}} b_{c}}{16 \\omega_{c}^{2} + 32 \\omega_{c} w_{s} + 16 w_{s}^{2}} - \\frac{54 w_{s} x {b^\\dagger_{c}} b_{c}}{16 \\omega_{c}^{2} - 32 \\omega_{c} w_{s} + 16 w_{s}^{2}} + \\frac{27 w_{s} x {b^\\dagger_{c}} b_{c}}{2 \\left(\\omega_{c}^{2} + 2 \\omega_{c} w_{s} + w_{s}^{2}\\right)} + \\frac{27 w_{s} x {b^\\dagger_{c}} b_{c}}{2 \\left(\\omega_{c}^{2} - 2 \\omega_{c} w_{s} + w_{s}^{2}\\right)} - \\frac{9 x {b^\\dagger_{c}} b_{c}}{16 \\omega_{c} + 16 w_{s}} - \\frac{9 x {b^\\dagger_{c}} b_{c}}{4 \\omega_{c} + 4 w_{s}} - \\frac{8 x {b^\\dagger_{c}} b_{c}}{\\omega_{c} + 2 w_{s}} + \\frac{45 x {b^\\dagger_{c}} b_{c}}{16 \\left(\\omega_{c} - w_{s}\\right)} + \\frac{8 x {b^\\dagger_{c}} b_{c}}{\\omega_{c} - 2 w_{s}}$"
      ],
      "text/plain": [
       "-54*w_s*x*CreateBoson(c)*AnnihilateBoson(c)/(16*omega_c**2 + 32*omega_c*w_s + 16*w_s**2) - 54*w_s*x*CreateBoson(c)*AnnihilateBoson(c)/(16*omega_c**2 - 32*omega_c*w_s + 16*w_s**2) + 27*w_s*x*CreateBoson(c)*AnnihilateBoson(c)/(2*(omega_c**2 + 2*omega_c*w_s + w_s**2)) + 27*w_s*x*CreateBoson(c)*AnnihilateBoson(c)/(2*(omega_c**2 - 2*omega_c*w_s + w_s**2)) - 9*x*CreateBoson(c)*AnnihilateBoson(c)/(16*omega_c + 16*w_s) - 9*x*CreateBoson(c)*AnnihilateBoson(c)/(4*omega_c + 4*w_s) - 8*x*CreateBoson(c)*AnnihilateBoson(c)/(omega_c + 2*w_s) + 45*x*CreateBoson(c)*AnnihilateBoson(c)/(16*(omega_c - w_s)) + 8*x*CreateBoson(c)*AnnihilateBoson(c)/(omega_c - 2*w_s)"
      ]
     },
     "execution_count": 31,
     "metadata": {},
     "output_type": "execute_result"
    }
   ],
   "source": [
    "term"
   ]
  },
  {
   "cell_type": "code",
   "execution_count": 32,
   "id": "37fb3f16",
   "metadata": {},
   "outputs": [
    {
     "data": {
      "text/latex": [
       "$\\displaystyle \\frac{75.6450000000001 x {b^\\dagger_{c}} b_{c}}{w_{s}}$"
      ],
      "text/plain": [
       "75.6450000000001*x*CreateBoson(c)*AnnihilateBoson(c)/w_s"
      ]
     },
     "execution_count": 32,
     "metadata": {},
     "output_type": "execute_result"
    }
   ],
   "source": [
    "term.simplify().subs(omega_b,2/3*omega_a)"
   ]
  },
  {
   "cell_type": "code",
   "execution_count": null,
   "id": "0cbc2d0d",
   "metadata": {},
   "outputs": [],
   "source": []
  }
 ],
 "metadata": {
  "kernelspec": {
   "display_name": "Python 3 (ipykernel)",
   "language": "python",
   "name": "python3"
  },
  "language_info": {
   "codemirror_mode": {
    "name": "ipython",
    "version": 3
   },
   "file_extension": ".py",
   "mimetype": "text/x-python",
   "name": "python",
   "nbconvert_exporter": "python",
   "pygments_lexer": "ipython3",
   "version": "3.8.3"
  }
 },
 "nbformat": 4,
 "nbformat_minor": 5
}
