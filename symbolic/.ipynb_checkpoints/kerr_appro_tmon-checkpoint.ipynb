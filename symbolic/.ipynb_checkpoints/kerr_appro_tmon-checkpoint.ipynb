{
 "cells": [
  {
   "cell_type": "code",
   "execution_count": 119,
   "id": "27ca754a-9d30-4a6d-8054-db633309ef22",
   "metadata": {
    "execution": {
     "iopub.execute_input": "2023-09-28T17:14:37.936090Z",
     "iopub.status.busy": "2023-09-28T17:14:37.935208Z",
     "iopub.status.idle": "2023-09-28T17:14:38.446588Z",
     "shell.execute_reply": "2023-09-28T17:14:38.446295Z",
     "shell.execute_reply.started": "2023-09-28T17:14:37.936022Z"
    },
    "tags": []
   },
   "outputs": [],
   "source": [
    "from sympy.physics.secondquant import *\n",
    "from sympy import symbols,I\n",
    "import sympy as sp\n",
    "from no import normal"
   ]
  },
  {
   "cell_type": "code",
   "execution_count": 120,
   "id": "bee929bb-cb95-42cf-8cfc-b637ef21834a",
   "metadata": {
    "execution": {
     "iopub.execute_input": "2023-09-28T17:14:38.447473Z",
     "iopub.status.busy": "2023-09-28T17:14:38.447338Z",
     "iopub.status.idle": "2023-09-28T17:14:38.449416Z",
     "shell.execute_reply": "2023-09-28T17:14:38.449124Z",
     "shell.execute_reply.started": "2023-09-28T17:14:38.447464Z"
    },
    "tags": []
   },
   "outputs": [],
   "source": [
    "ind_a = symbols('a')\n",
    "a = B(ind_a)\n",
    "ad = Bd(ind_a)"
   ]
  },
  {
   "cell_type": "code",
   "execution_count": 121,
   "id": "bd55f7a7-b1e1-4a35-94cb-263462a7bec0",
   "metadata": {
    "execution": {
     "iopub.execute_input": "2023-09-28T17:14:38.647253Z",
     "iopub.status.busy": "2023-09-28T17:14:38.646548Z",
     "iopub.status.idle": "2023-09-28T17:14:38.656755Z",
     "shell.execute_reply": "2023-09-28T17:14:38.655780Z",
     "shell.execute_reply.started": "2023-09-28T17:14:38.647225Z"
    },
    "tags": []
   },
   "outputs": [],
   "source": [
    "g3 = symbols('g3', real=True)\n",
    "g4 = symbols('g4', real=True)\n",
    "g5 = symbols('g5', real=True)\n",
    "g6 = symbols('g6', real=True)\n",
    "omega = symbols('omega', real=True)\n",
    "kappa = symbols('kappa', real=True)"
   ]
  },
  {
   "cell_type": "code",
   "execution_count": 63,
   "id": "493458ed",
   "metadata": {},
   "outputs": [],
   "source": [
    "def remove_higher(expr):\n",
    "    terms_higher = [term for term in expr.args if (term.has(g4**2) or term.has(g3**2*g4) or term.has(g3**4))]\n",
    "    return expr - sum(terms_higher)\n"
   ]
  },
  {
   "cell_type": "code",
   "execution_count": 64,
   "id": "cd24daeb",
   "metadata": {},
   "outputs": [],
   "source": [
    "def replace_scalars_with_valued_matrices(expr, matrix_values):\n",
    "        \"\"\"\n",
    "        Replace scalar symbols and scalar operations in a SymPy scalar expression with valued matrices.\n",
    "\n",
    "        Args:\n",
    "        expr (sympy.Expr): The input scalar expression.\n",
    "        matrix_values (dict): A dictionary mapping scalar symbols to valued matrices.\n",
    "\n",
    "        Returns:\n",
    "        sympy.Expr: The modified expression with valued matrices.\n",
    "        \"\"\"\n",
    "\n",
    "        def map_operations(node):\n",
    "            if (isinstance(node, AnnihilateBoson) or isinstance(node, CreateBoson) )and node in matrix_values:\n",
    "                return matrix_values[node]\n",
    "            elif isinstance(node, sp.Add):\n",
    "                return sp.Add(*[map_operations(arg) for arg in node.args])\n",
    "            elif isinstance(node, sp.Mul):\n",
    "                return sp.Mul(*[map_operations(arg) for arg in node.args])\n",
    "            elif isinstance(node, sp.Pow):\n",
    "                base, exponent = map_operations(node.base), map_operations(node.exp)\n",
    "                return base**exponent\n",
    "            else:\n",
    "                return node\n",
    "\n",
    "        return map_operations(expr)"
   ]
  },
  {
   "cell_type": "code",
   "execution_count": 69,
   "id": "a7cca49b",
   "metadata": {},
   "outputs": [],
   "source": [
    "# Initialize the annihilation (lowering) and creation (raising) matrices with zeros\n",
    "from sympy import symbols, sqrt\n",
    "n=10\n",
    "s = sp.zeros(n)\n",
    "s_dagger = sp.zeros(n)\n",
    "\n",
    "# Fill the matrices using sympy functions\n",
    "for i in range(n-1):\n",
    "    s[i, i+1] = sqrt(i+1)\n",
    "    s_dagger[i+1, i] = sqrt(i+1)\n",
    "matrix_values = {a: s, ad: s_dagger}\n",
    "g_matrix = replace_scalars_with_valued_matrices((a+ad), matrix_values)\n",
    "# Extract the upper triangular part of the matrix\n",
    "upper_tri = g_matrix.upper_triangular()\n",
    "\n",
    "# Extract the lower triangular part of the matrix\n",
    "lower_tri = g_matrix.lower_triangular()\n"
   ]
  },
  {
   "cell_type": "code",
   "execution_count": 70,
   "id": "93a441f5",
   "metadata": {},
   "outputs": [],
   "source": [
    "from sympy import symbols, Matrix\n",
    "# Define the symbols\n",
    "omega, alpha, omega_1, omega_2,omegap = symbols('omega alpha omega_1 omega_2 omega_p', real=True)\n",
    "\n",
    "# Define the epsilon_i values\n",
    "epsilon = [i * omegap + i*(i-1) * alpha / 2 for i in range(n)]\n",
    "\n",
    "# Initialize the delta_1 matrix with zeros\n",
    "delta_1 = Matrix.zeros(n, n)\n",
    "\n",
    "# Fill the matrix according to the given formula and specific epsilon_i values\n",
    "for i in range(n):\n",
    "    for j in range(n):\n",
    "        if i != j:\n",
    "            delta_1[i, j] = 1 / (epsilon[i] - epsilon[j] - omega_1)\n",
    "            \n",
    "delta_2 = Matrix.zeros(n, n)\n",
    "\n",
    "# Fill the matrix according to the given formula and specific epsilon_i values for omega_2\n",
    "for i in range(n):\n",
    "    for j in range(n):\n",
    "        if i != j:\n",
    "            delta_2[i, j] = 1 / (epsilon[i] - epsilon[j] - omega_2)\n"
   ]
  },
  {
   "cell_type": "code",
   "execution_count": 71,
   "id": "1e1fb5dc",
   "metadata": {},
   "outputs": [],
   "source": [
    "chim1 = Matrix.zeros(n, n)\n",
    "chim2 = Matrix.zeros(n, n)\n",
    "for i in range(n):\n",
    "    for j in range(n):\n",
    "        if delta_1[i, j] != 0:\n",
    "            element = g_matrix[i, j]\n",
    "            if sp.im(element) != 0 and sp.re(element) == 0:  # Pure imaginary\n",
    "                magnitude = sp.im(element)\n",
    "                chim1[i, j] = (magnitude**2 * delta_1[i, j])\n",
    "                chim2[i, j] = (magnitude**2 * delta_2[i, j])\n",
    "            else:  # Real or complex\n",
    "                chim1[i, j] = (element**2 * delta_1[i, j])\n",
    "                chim2[i, j] = (element**2 * delta_2[i, j])\n",
    "        else:\n",
    "            chim1[i, j] = 0\n",
    "            chim2[i, j] = 0"
   ]
  },
  {
   "cell_type": "code",
   "execution_count": 72,
   "id": "f7f775b8",
   "metadata": {},
   "outputs": [],
   "source": [
    "chi0 = sum(chim1[0, j] for j in range(n))-sum(chim1[i, 0] for i in range(n))"
   ]
  },
  {
   "cell_type": "code",
   "execution_count": 73,
   "id": "d2f65c3e",
   "metadata": {},
   "outputs": [],
   "source": [
    "chi0 = remove_higher((chi0.expand()))"
   ]
  },
  {
   "cell_type": "code",
   "execution_count": 74,
   "id": "44ae3b0a",
   "metadata": {},
   "outputs": [
    {
     "data": {
      "text/latex": [
       "$\\displaystyle - \\frac{1}{- \\omega_{1} + \\omega_{p}} + \\frac{1}{- \\omega_{1} - \\omega_{p}}$"
      ],
      "text/plain": [
       "-1/(-omega_1 + omega_p) + 1/(-omega_1 - omega_p)"
      ]
     },
     "execution_count": 74,
     "metadata": {},
     "output_type": "execute_result"
    }
   ],
   "source": [
    "chi0"
   ]
  },
  {
   "cell_type": "code",
   "execution_count": 75,
   "id": "b376fe93",
   "metadata": {},
   "outputs": [],
   "source": [
    "disp = sum(chim1[1, j] for j in range(0,n))-sum(chim1[i, 1] for i in range(0,n))- (sum(chim1[0, j] for j in range(n))-sum(chim1[i, 0] for i in range(n)))"
   ]
  },
  {
   "cell_type": "code",
   "execution_count": 76,
   "id": "4ca2b8b7",
   "metadata": {},
   "outputs": [
    {
     "data": {
      "text/latex": [
       "$\\displaystyle - \\frac{2}{\\alpha + \\omega_{1} + \\omega_{p}} - \\frac{2}{\\alpha - \\omega_{1} + \\omega_{p}} + \\frac{2}{\\omega_{1} + \\omega_{p}} - \\frac{2}{\\omega_{1} - \\omega_{p}}$"
      ],
      "text/plain": [
       "-2/(alpha + omega_1 + omega_p) - 2/(alpha - omega_1 + omega_p) + 2/(omega_1 + omega_p) - 2/(omega_1 - omega_p)"
      ]
     },
     "execution_count": 76,
     "metadata": {},
     "output_type": "execute_result"
    }
   ],
   "source": [
    "(disp.expand()).simplify()"
   ]
  },
  {
   "cell_type": "code",
   "execution_count": 77,
   "id": "e4e64829",
   "metadata": {},
   "outputs": [],
   "source": [
    "disp = remove_higher((disp.expand()))"
   ]
  },
  {
   "cell_type": "code",
   "execution_count": 78,
   "id": "e8c7d180",
   "metadata": {},
   "outputs": [],
   "source": [
    "disp = disp.subs(alpha,g4)"
   ]
  },
  {
   "cell_type": "code",
   "execution_count": 79,
   "id": "710031e5",
   "metadata": {},
   "outputs": [],
   "source": [
    "E =disp\n",
    "x = symbols('x', real=True)\n",
    "y= symbols('y', real=True)\n",
    "E=E.subs(g3**2,x*omega**2)\n",
    "E=E.subs(g4,y*omega)\n",
    "from sympy import symbols, diff\n",
    "f_0 = E.subs({x: 0, y: 0})\n",
    "df_dx = diff(E, x).subs({x: 0, y: 0}) * (x - 0)\n",
    "df_dy = diff(E, y).subs({x: 0, y: 0}) * (y - 0)\n",
    "\n",
    "taylor_first_order = f_0 + df_dx + df_dy\n",
    "\n",
    "disp = taylor_first_order.expand().subs(y,g4/omega).subs(x,g3**2/omega**2)"
   ]
  },
  {
   "cell_type": "code",
   "execution_count": 80,
   "id": "25a49088",
   "metadata": {},
   "outputs": [
    {
     "data": {
      "text/latex": [
       "$\\displaystyle \\frac{2 g_{4}}{\\omega_{1}^{2} + 2 \\omega_{1} \\omega_{p} + \\omega_{p}^{2}} + \\frac{2 g_{4}}{\\omega_{1}^{2} - 2 \\omega_{1} \\omega_{p} + \\omega_{p}^{2}}$"
      ],
      "text/plain": [
       "2*g4/(omega_1**2 + 2*omega_1*omega_p + omega_p**2) + 2*g4/(omega_1**2 - 2*omega_1*omega_p + omega_p**2)"
      ]
     },
     "execution_count": 80,
     "metadata": {},
     "output_type": "execute_result"
    }
   ],
   "source": [
    "temp = 0\n",
    "for term in disp.args:\n",
    "    temp += term.simplify()\n",
    "temp"
   ]
  },
  {
   "cell_type": "code",
   "execution_count": 81,
   "id": "058d2d67",
   "metadata": {},
   "outputs": [
    {
     "data": {
      "text/latex": [
       "$\\displaystyle \\frac{2 g_{4}}{\\omega_{1}^{2} + 2 \\omega_{1} \\omega_{p} + \\omega_{p}^{2}} + \\frac{2 g_{4}}{\\omega_{1}^{2} - 2 \\omega_{1} \\omega_{p} + \\omega_{p}^{2}}$"
      ],
      "text/plain": [
       "2*g4/(omega_1**2 + 2*omega_1*omega_p + omega_p**2) + 2*g4/(omega_1**2 - 2*omega_1*omega_p + omega_p**2)"
      ]
     },
     "execution_count": 81,
     "metadata": {},
     "output_type": "execute_result"
    }
   ],
   "source": [
    "disp"
   ]
  },
  {
   "cell_type": "code",
   "execution_count": 82,
   "id": "8f42f76b",
   "metadata": {},
   "outputs": [],
   "source": [
    "def enegy_sec(N,l):\n",
    "    return N*(sum(result_matrix[l, j] for j in range(n))-sum(result_matrix[i, l] for i in range(n))) +sum(result_matrix[l, j] for j in range(n))"
   ]
  },
  {
   "cell_type": "code",
   "execution_count": 83,
   "id": "8ffe0434",
   "metadata": {},
   "outputs": [],
   "source": [
    "temp1 = Matrix.zeros(n, n)\n",
    "temp2 = Matrix.zeros(n, n)\n",
    "for i in range(n):\n",
    "    for j in range(n):\n",
    "        if delta_1[i, j] != 0:\n",
    "            element = g_matrix[i, j]\n",
    "            if sp.im(element) != 0 and sp.re(element) == 0:  # Pure imaginary\n",
    "                magnitude = sp.im(element)\n",
    "            else:  # Real or complex\n",
    "                magnitude = element\n",
    "            temp1[i, j] = magnitude**2 * ((delta_1[i, j]**(2)))\n",
    "            temp2[i, j] = magnitude**2 * ((delta_2[i, j]**(2)))\n",
    "        else:\n",
    "            temp1[i, j] = 0\n",
    "            temp2[i, j] = 0\n",
    "def enegy_four(n1,n2,l):\n",
    "    \n",
    "    first_term = -(n1*(sum(temp1[l, j] for j in range(0,n))-sum(temp1[i, l] for i in range(0,n)))+sum(temp1[l, j] for j in range(n))\n",
    "                 +n2*(sum(temp2[l, j] for j in range(0,n))-sum(temp2[i, l] for i in range(0,n)))+sum(temp2[l, j] for j in range(n)))\n",
    "    second_term = (n1*(sum(chim1[l, j] for j in range(n))-sum(chim1[i, l] for i in range(n))) +sum(chim1[l, j] for j in range(n))\n",
    "                  +n2*(sum(chim2[l, j] for j in range(n))-sum(chim2[i, l] for i in range(n))) +sum(chim2[l, j] for j in range(n)))\n",
    "    return first_term*second_term"
   ]
  },
  {
   "cell_type": "code",
   "execution_count": 84,
   "id": "5728866e",
   "metadata": {},
   "outputs": [
    {
     "data": {
      "text/latex": [
       "$\\displaystyle \\left[\\begin{matrix}0 & \\frac{1}{\\left(- \\omega_{1} - \\omega_{p}\\right)^{2}} & 0 & 0 & 0 & 0 & 0 & 0 & 0 & 0\\\\\\frac{1}{\\left(- \\omega_{1} + \\omega_{p}\\right)^{2}} & 0 & \\frac{2}{\\left(- \\alpha - \\omega_{1} - \\omega_{p}\\right)^{2}} & 0 & 0 & 0 & 0 & 0 & 0 & 0\\\\0 & \\frac{2}{\\left(\\alpha - \\omega_{1} + \\omega_{p}\\right)^{2}} & 0 & \\frac{3}{\\left(- 2 \\alpha - \\omega_{1} - \\omega_{p}\\right)^{2}} & 0 & 0 & 0 & 0 & 0 & 0\\\\0 & 0 & \\frac{3}{\\left(2 \\alpha - \\omega_{1} + \\omega_{p}\\right)^{2}} & 0 & \\frac{4}{\\left(- 3 \\alpha - \\omega_{1} - \\omega_{p}\\right)^{2}} & 0 & 0 & 0 & 0 & 0\\\\0 & 0 & 0 & \\frac{4}{\\left(3 \\alpha - \\omega_{1} + \\omega_{p}\\right)^{2}} & 0 & \\frac{5}{\\left(- 4 \\alpha - \\omega_{1} - \\omega_{p}\\right)^{2}} & 0 & 0 & 0 & 0\\\\0 & 0 & 0 & 0 & \\frac{5}{\\left(4 \\alpha - \\omega_{1} + \\omega_{p}\\right)^{2}} & 0 & \\frac{6}{\\left(- 5 \\alpha - \\omega_{1} - \\omega_{p}\\right)^{2}} & 0 & 0 & 0\\\\0 & 0 & 0 & 0 & 0 & \\frac{6}{\\left(5 \\alpha - \\omega_{1} + \\omega_{p}\\right)^{2}} & 0 & \\frac{7}{\\left(- 6 \\alpha - \\omega_{1} - \\omega_{p}\\right)^{2}} & 0 & 0\\\\0 & 0 & 0 & 0 & 0 & 0 & \\frac{7}{\\left(6 \\alpha - \\omega_{1} + \\omega_{p}\\right)^{2}} & 0 & \\frac{8}{\\left(- 7 \\alpha - \\omega_{1} - \\omega_{p}\\right)^{2}} & 0\\\\0 & 0 & 0 & 0 & 0 & 0 & 0 & \\frac{8}{\\left(7 \\alpha - \\omega_{1} + \\omega_{p}\\right)^{2}} & 0 & \\frac{9}{\\left(- 8 \\alpha - \\omega_{1} - \\omega_{p}\\right)^{2}}\\\\0 & 0 & 0 & 0 & 0 & 0 & 0 & 0 & \\frac{9}{\\left(8 \\alpha - \\omega_{1} + \\omega_{p}\\right)^{2}} & 0\\end{matrix}\\right]$"
      ],
      "text/plain": [
       "Matrix([\n",
       "[                         0,       (-omega_1 - omega_p)**(-2),                                  0,                                   0,                                   0,                                   0,                                   0,                                   0,                                   0,                                   0],\n",
       "[(-omega_1 + omega_p)**(-2),                                0,  2/(-alpha - omega_1 - omega_p)**2,                                   0,                                   0,                                   0,                                   0,                                   0,                                   0,                                   0],\n",
       "[                         0, 2/(alpha - omega_1 + omega_p)**2,                                  0, 3/(-2*alpha - omega_1 - omega_p)**2,                                   0,                                   0,                                   0,                                   0,                                   0,                                   0],\n",
       "[                         0,                                0, 3/(2*alpha - omega_1 + omega_p)**2,                                   0, 4/(-3*alpha - omega_1 - omega_p)**2,                                   0,                                   0,                                   0,                                   0,                                   0],\n",
       "[                         0,                                0,                                  0,  4/(3*alpha - omega_1 + omega_p)**2,                                   0, 5/(-4*alpha - omega_1 - omega_p)**2,                                   0,                                   0,                                   0,                                   0],\n",
       "[                         0,                                0,                                  0,                                   0,  5/(4*alpha - omega_1 + omega_p)**2,                                   0, 6/(-5*alpha - omega_1 - omega_p)**2,                                   0,                                   0,                                   0],\n",
       "[                         0,                                0,                                  0,                                   0,                                   0,  6/(5*alpha - omega_1 + omega_p)**2,                                   0, 7/(-6*alpha - omega_1 - omega_p)**2,                                   0,                                   0],\n",
       "[                         0,                                0,                                  0,                                   0,                                   0,                                   0,  7/(6*alpha - omega_1 + omega_p)**2,                                   0, 8/(-7*alpha - omega_1 - omega_p)**2,                                   0],\n",
       "[                         0,                                0,                                  0,                                   0,                                   0,                                   0,                                   0,  8/(7*alpha - omega_1 + omega_p)**2,                                   0, 9/(-8*alpha - omega_1 - omega_p)**2],\n",
       "[                         0,                                0,                                  0,                                   0,                                   0,                                   0,                                   0,                                   0,  9/(8*alpha - omega_1 + omega_p)**2,                                   0]])"
      ]
     },
     "execution_count": 84,
     "metadata": {},
     "output_type": "execute_result"
    }
   ],
   "source": [
    "temp1"
   ]
  },
  {
   "cell_type": "code",
   "execution_count": 85,
   "id": "cf5188f2",
   "metadata": {},
   "outputs": [
    {
     "data": {
      "text/latex": [
       "$\\displaystyle \\left(- \\frac{1}{\\left(- \\omega_{2} - \\omega_{p}\\right)^{2}} - \\frac{1}{\\left(- \\omega_{1} - \\omega_{p}\\right)^{2}}\\right) \\left(\\frac{1}{- \\omega_{2} - \\omega_{p}} + \\frac{1}{- \\omega_{1} - \\omega_{p}}\\right)$"
      ],
      "text/plain": [
       "(-1/(-omega_2 - omega_p)**2 - 1/(-omega_1 - omega_p)**2)*(1/(-omega_2 - omega_p) + 1/(-omega_1 - omega_p))"
      ]
     },
     "execution_count": 85,
     "metadata": {},
     "output_type": "execute_result"
    }
   ],
   "source": [
    "enegy_four(0,0,0)"
   ]
  },
  {
   "cell_type": "code",
   "execution_count": 86,
   "id": "ed0e3ca9",
   "metadata": {},
   "outputs": [
    {
     "data": {
      "text/latex": [
       "$\\displaystyle - \\frac{2}{- \\omega_{1}^{3} + 3 \\omega_{1}^{2} \\omega_{p} - 3 \\omega_{1} \\omega_{p}^{2} + \\omega_{p}^{3}} + \\frac{2}{- \\omega_{1}^{3} + \\omega_{1}^{2} \\omega_{p} + \\omega_{1} \\omega_{p}^{2} - \\omega_{p}^{3}} + \\frac{2}{- \\omega_{1}^{3} - \\omega_{1}^{2} \\omega_{p} + \\omega_{1} \\omega_{p}^{2} + \\omega_{p}^{3}} - \\frac{2}{- \\omega_{1}^{3} - 3 \\omega_{1}^{2} \\omega_{p} - 3 \\omega_{1} \\omega_{p}^{2} - \\omega_{p}^{3}}$"
      ],
      "text/plain": [
       "-2/(-omega_1**3 + 3*omega_1**2*omega_p - 3*omega_1*omega_p**2 + omega_p**3) + 2/(-omega_1**3 + omega_1**2*omega_p + omega_1*omega_p**2 - omega_p**3) + 2/(-omega_1**3 - omega_1**2*omega_p + omega_1*omega_p**2 + omega_p**3) - 2/(-omega_1**3 - 3*omega_1**2*omega_p - 3*omega_1*omega_p**2 - omega_p**3)"
      ]
     },
     "execution_count": 86,
     "metadata": {},
     "output_type": "execute_result"
    }
   ],
   "source": [
    "((enegy_four(2,0,0)-enegy_four(1,0,0))-(enegy_four(1,0,0)-enegy_four(0,0,0))).expand()"
   ]
  },
  {
   "cell_type": "code",
   "execution_count": 87,
   "id": "98022081",
   "metadata": {},
   "outputs": [
    {
     "data": {
      "text/latex": [
       "$\\displaystyle \\frac{2}{- \\omega_{1}^{2} \\omega_{2} - \\omega_{1}^{2} \\omega_{p} + 2 \\omega_{1} \\omega_{2} \\omega_{p} + 2 \\omega_{1} \\omega_{p}^{2} - \\omega_{2} \\omega_{p}^{2} - \\omega_{p}^{3}} - \\frac{3}{- \\omega_{1}^{2} \\omega_{2} - \\omega_{1}^{2} \\omega_{p} - 2 \\omega_{1} \\omega_{2} \\omega_{p} - 2 \\omega_{1} \\omega_{p}^{2} - \\omega_{2} \\omega_{p}^{2} - \\omega_{p}^{3}} + \\frac{2}{- \\omega_{1} \\omega_{2}^{2} - 2 \\omega_{1} \\omega_{2} \\omega_{p} - \\omega_{1} \\omega_{p}^{2} + \\omega_{2}^{2} \\omega_{p} + 2 \\omega_{2} \\omega_{p}^{2} + \\omega_{p}^{3}} - \\frac{3}{- \\omega_{1} \\omega_{2}^{2} - 2 \\omega_{1} \\omega_{2} \\omega_{p} - \\omega_{1} \\omega_{p}^{2} - \\omega_{2}^{2} \\omega_{p} - 2 \\omega_{2} \\omega_{p}^{2} - \\omega_{p}^{3}} - \\frac{1}{- \\omega_{2}^{3} - 3 \\omega_{2}^{2} \\omega_{p} - 3 \\omega_{2} \\omega_{p}^{2} - \\omega_{p}^{3}} - \\frac{4}{- \\omega_{1}^{3} + 3 \\omega_{1}^{2} \\omega_{p} - 3 \\omega_{1} \\omega_{p}^{2} + \\omega_{p}^{3}} + \\frac{6}{- \\omega_{1}^{3} + \\omega_{1}^{2} \\omega_{p} + \\omega_{1} \\omega_{p}^{2} - \\omega_{p}^{3}} + \\frac{6}{- \\omega_{1}^{3} - \\omega_{1}^{2} \\omega_{p} + \\omega_{1} \\omega_{p}^{2} + \\omega_{p}^{3}} - \\frac{9}{- \\omega_{1}^{3} - 3 \\omega_{1}^{2} \\omega_{p} - 3 \\omega_{1} \\omega_{p}^{2} - \\omega_{p}^{3}}$"
      ],
      "text/plain": [
       "2/(-omega_1**2*omega_2 - omega_1**2*omega_p + 2*omega_1*omega_2*omega_p + 2*omega_1*omega_p**2 - omega_2*omega_p**2 - omega_p**3) - 3/(-omega_1**2*omega_2 - omega_1**2*omega_p - 2*omega_1*omega_2*omega_p - 2*omega_1*omega_p**2 - omega_2*omega_p**2 - omega_p**3) + 2/(-omega_1*omega_2**2 - 2*omega_1*omega_2*omega_p - omega_1*omega_p**2 + omega_2**2*omega_p + 2*omega_2*omega_p**2 + omega_p**3) - 3/(-omega_1*omega_2**2 - 2*omega_1*omega_2*omega_p - omega_1*omega_p**2 - omega_2**2*omega_p - 2*omega_2*omega_p**2 - omega_p**3) - 1/(-omega_2**3 - 3*omega_2**2*omega_p - 3*omega_2*omega_p**2 - omega_p**3) - 4/(-omega_1**3 + 3*omega_1**2*omega_p - 3*omega_1*omega_p**2 + omega_p**3) + 6/(-omega_1**3 + omega_1**2*omega_p + omega_1*omega_p**2 - omega_p**3) + 6/(-omega_1**3 - omega_1**2*omega_p + omega_1*omega_p**2 + omega_p**3) - 9/(-omega_1**3 - 3*omega_1**2*omega_p - 3*omega_1*omega_p**2 - omega_p**3)"
      ]
     },
     "execution_count": 87,
     "metadata": {},
     "output_type": "execute_result"
    }
   ],
   "source": [
    "enegy_four(2,0,0).expand()"
   ]
  },
  {
   "cell_type": "code",
   "execution_count": null,
   "id": "52048004",
   "metadata": {},
   "outputs": [],
   "source": []
  },
  {
   "cell_type": "code",
   "execution_count": null,
   "id": "fd7aacd3",
   "metadata": {},
   "outputs": [],
   "source": []
  },
  {
   "cell_type": "code",
   "execution_count": 88,
   "id": "339ae5cd",
   "metadata": {},
   "outputs": [],
   "source": [
    "ind_a = symbols('s')\n",
    "a = B(ind_a)\n",
    "ad = Bd(ind_a)\n",
    "g3 = symbols('g3', real=True)\n",
    "g4 = symbols('g4', real=True)\n",
    "g5 = symbols('g5', real=True)\n",
    "g6 = symbols('g6', real=True)\n",
    "omega_a = symbols('omega_s', real=True)\n",
    "kappa = symbols('kappa', real=True)\n",
    "h0 = omega_a * ad * a\n",
    "v = normal(g3 * (a+ad)**3 +g4*(a+ad)**4 )\n",
    "temp = 0\n",
    "v1 = v\n",
    "for term in v1.args:\n",
    "    if term.as_powers_dict()[ad] == term.as_powers_dict()[a]:\n",
    "        temp += term\n",
    "h1 = temp * 1"
   ]
  },
  {
   "cell_type": "code",
   "execution_count": 89,
   "id": "4b5855ad",
   "metadata": {},
   "outputs": [],
   "source": [
    "ind_b = symbols('c')\n",
    "b = B(ind_b)\n",
    "bd = Bd(ind_b)\n",
    "omega_b = symbols('omega_c', real=True)\n",
    "def _m_normal(expr):\n",
    "    if not expr.is_Mul:\n",
    "        return expr\n",
    "    else:\n",
    "        c_part = []\n",
    "        string = []\n",
    "        for factor in expr.args:\n",
    "            if factor.is_commutative:\n",
    "                c_part.append(factor)\n",
    "            else:\n",
    "                string.append(factor)\n",
    "                \n",
    "        expr_a = 1\n",
    "        expr_b = 1\n",
    "        expr_c = 1\n",
    "        \n",
    "        for factor in string:\n",
    "            if factor.is_Pow:\n",
    "                if factor.args[0].args[0] == ind_a:\n",
    "                    expr_a *= factor\n",
    "                elif factor.args[0].args[0] == ind_b:\n",
    "                    expr_b *= factor\n",
    "                else:\n",
    "                    expr_c *= factor\n",
    "            else:\n",
    "                if factor.args[0] == ind_a:\n",
    "                    expr_a *= factor\n",
    "                elif factor.args[0] == ind_b:\n",
    "                    expr_b *= factor\n",
    "                else:\n",
    "                    expr_c *= factor\n",
    "                    \n",
    "        if expr_a != 1:\n",
    "            expr_a = normal(expr_a)\n",
    "        if expr_b != 1:\n",
    "            expr_b = normal(expr_b)\n",
    "        if expr_c != 1:\n",
    "            expr_c = normal(expr_c)\n",
    "    \n",
    "        return sp.Mul(*c_part) * expr_a * expr_b * expr_c    \n",
    "\n",
    "def m_normal(expr):\n",
    "    expr = expr.expand()\n",
    "    if isinstance(expr, sp.Add):\n",
    "        return sp.Add(*[_m_normal(term) for term in expr.args])\n",
    "    else:\n",
    "        return _m_normal(expr)"
   ]
  },
  {
   "cell_type": "code",
   "execution_count": 90,
   "id": "e38b7762",
   "metadata": {},
   "outputs": [],
   "source": [
    "from sympy.physics.quantum import TensorProduct\n",
    "nb=5\n",
    "b = sp.zeros(nb)\n",
    "b_dagger = sp.zeros(nb)\n",
    "for i in range(nb-1):\n",
    "    b[i, i+1] = sqrt(i+1)\n",
    "    b_dagger[i+1, i] = sqrt(i+1)\n",
    "V = TensorProduct(Matrix(g_matrix),Matrix( b+b_dagger))\n",
    "# V = TensorProduct(Matrix(upper_tri),Matrix( b_dagger))+TensorProduct(Matrix(lower_tri),Matrix( b))\n",
    "ENN = [\n",
    "    i * omegap - i*(i-1) * alpha / 2 + j * omega_b\n",
    "    for i in range(n)\n",
    "    for j in range(nb)\n",
    "]"
   ]
  },
  {
   "cell_type": "code",
   "execution_count": 91,
   "id": "98b69bb4",
   "metadata": {},
   "outputs": [],
   "source": [
    "\n",
    "import sympy as sp\n",
    "\n",
    "\n",
    "# Matrix elements of V in the eigenbasis of H0\n",
    "V_ij = V\n",
    "\n",
    "# Compute the fourth order energy correction for the ground state |0>\n",
    "\n",
    "def energy_sec(N):\n",
    "    E2_N = 0  # Initialize the fourth order correction\n",
    "    EN = ENN[N]\n",
    "    dim = n*nb\n",
    "    for m in range(dim):\n",
    "        if m != N:\n",
    "            VNm = V_ij[N, m]\n",
    "            if sp.im(VNm) != 0 and sp.re(VNm) == 0:  # Pure imaginary\n",
    "                VNm = sp.im(VNm)\n",
    "            E2_N = E2_N + (VNm**2/(EN - ENN[m])) \n",
    "    return E2_N\n",
    "\n",
    "def energy_four(N):\n",
    "    E4_N = 0  # Initialize the fourth order correction\n",
    "    EN = ENN[N]\n",
    "    dim = n*nb\n",
    "    for m in range(dim):\n",
    "        if m != N and V_ij[N, m] !=0 :\n",
    "            for p in range(dim):\n",
    "                if p != N and V_ij[m, p]!=0 :\n",
    "                    for l in range(dim):\n",
    "                        if l != N and V_ij[p, l]!=0 and V_ij[l, N]!=0:\n",
    "                            # Contribution from the main term\n",
    "                            E4_N += ((V_ij[N, m] * V_ij[m, p] * V_ij[p, l] * V_ij[l, N] /\n",
    "                                     ((EN - ENN[m]) * (EN - ENN[p]) * (EN - ENN[l]))))\n",
    "\n",
    "    for m in range(dim):\n",
    "        if m != N:\n",
    "            for p in range(dim):\n",
    "                if p != N:\n",
    "                    VNm = V_ij[N, m]\n",
    "                    VNp = V_ij[N, p]\n",
    "                    if VNm == 0 or VNp ==0:\n",
    "                        continue\n",
    "                    if sp.im(VNm) != 0 and sp.re(VNm) == 0:  # Pure imaginary\n",
    "                        VNm = sp.im(VNm)\n",
    "                    if sp.im(VNp) != 0 and sp.re(VNp) == 0:  # Pure imaginary    \n",
    "                        VNp = sp.im(VNp)\n",
    "                    E4_N = E4_N - ((VNm**2/(EN - ENN[m])**2) * (VNp**2/(EN - ENN[p])))\n",
    "    return E4_N\n"
   ]
  },
  {
   "cell_type": "code",
   "execution_count": 92,
   "id": "7ee45eed",
   "metadata": {},
   "outputs": [],
   "source": [
    "disp = energy_sec(5)-energy_sec(1)-energy_sec(4)+energy_sec(0)"
   ]
  },
  {
   "cell_type": "code",
   "execution_count": 93,
   "id": "5abe4e6b",
   "metadata": {},
   "outputs": [
    {
     "data": {
      "text/latex": [
       "$\\displaystyle - \\frac{2}{- \\alpha + \\omega_{c} + \\omega_{p}} + \\frac{1}{\\omega_{c} + \\omega_{p}} - \\frac{6}{\\omega_{c} - \\omega_{p}}$"
      ],
      "text/plain": [
       "-2/(-alpha + omega_c + omega_p) + 1/(omega_c + omega_p) - 6/(omega_c - omega_p)"
      ]
     },
     "execution_count": 93,
     "metadata": {},
     "output_type": "execute_result"
    }
   ],
   "source": [
    "disp.simplify()"
   ]
  },
  {
   "cell_type": "code",
   "execution_count": 94,
   "id": "a8693bb9",
   "metadata": {},
   "outputs": [
    {
     "data": {
      "text/latex": [
       "$\\displaystyle 0$"
      ],
      "text/plain": [
       "0"
      ]
     },
     "execution_count": 94,
     "metadata": {},
     "output_type": "execute_result"
    }
   ],
   "source": [
    "ENN[0]"
   ]
  },
  {
   "cell_type": "code",
   "execution_count": 95,
   "id": "28f65105",
   "metadata": {},
   "outputs": [
    {
     "data": {
      "text/latex": [
       "$\\displaystyle \\frac{4}{\\left(- \\omega_{c} - \\omega_{p}\\right)^{2} \\left(\\alpha - 2 \\omega_{c} - 2 \\omega_{p}\\right)} - \\frac{1}{\\left(- \\omega_{c} - \\omega_{p}\\right)^{3}} + \\frac{2}{\\left(\\alpha - 2 \\omega_{p}\\right) \\left(- \\omega_{c} - \\omega_{p}\\right)^{2}} - \\frac{1}{\\omega_{c} \\left(- \\omega_{c} - \\omega_{p}\\right)^{2}}$"
      ],
      "text/plain": [
       "4/((-omega_c - omega_p)**2*(alpha - 2*omega_c - 2*omega_p)) - 1/(-omega_c - omega_p)**3 + 2/((alpha - 2*omega_p)*(-omega_c - omega_p)**2) - 1/(omega_c*(-omega_c - omega_p)**2)"
      ]
     },
     "execution_count": 95,
     "metadata": {},
     "output_type": "execute_result"
    }
   ],
   "source": [
    "energy_four(0)"
   ]
  },
  {
   "cell_type": "code",
   "execution_count": 96,
   "id": "23b82a67",
   "metadata": {},
   "outputs": [
    {
     "data": {
      "text/latex": [
       "$\\displaystyle - \\frac{1}{\\left(\\omega_{c} - \\omega_{p}\\right)^{3}} - \\frac{2}{\\left(- \\omega_{c} - \\omega_{p}\\right) \\left(\\omega_{c} - \\omega_{p}\\right)^{2}} + \\frac{12}{\\left(- \\omega_{c} - \\omega_{p}\\right)^{2} \\left(\\alpha - 2 \\omega_{c} - 2 \\omega_{p}\\right)} - \\frac{2}{\\left(- \\omega_{c} - \\omega_{p}\\right)^{2} \\left(\\omega_{c} - \\omega_{p}\\right)} - \\frac{4}{\\left(- \\omega_{c} - \\omega_{p}\\right)^{3}} + \\frac{2}{\\left(\\alpha - 2 \\omega_{p}\\right) \\left(\\omega_{c} - \\omega_{p}\\right)^{2}} + \\frac{8}{\\left(\\alpha - 2 \\omega_{p}\\right) \\left(- \\omega_{c} - \\omega_{p}\\right) \\left(\\omega_{c} - \\omega_{p}\\right)} + \\frac{8}{\\left(\\alpha - 2 \\omega_{p}\\right) \\left(- \\omega_{c} - \\omega_{p}\\right)^{2}} - \\frac{3}{\\omega_{c} \\left(- \\omega_{c} - \\omega_{p}\\right)^{2}}$"
      ],
      "text/plain": [
       "-1/(omega_c - omega_p)**3 - 2/((-omega_c - omega_p)*(omega_c - omega_p)**2) + 12/((-omega_c - omega_p)**2*(alpha - 2*omega_c - 2*omega_p)) - 2/((-omega_c - omega_p)**2*(omega_c - omega_p)) - 4/(-omega_c - omega_p)**3 + 2/((alpha - 2*omega_p)*(omega_c - omega_p)**2) + 8/((alpha - 2*omega_p)*(-omega_c - omega_p)*(omega_c - omega_p)) + 8/((alpha - 2*omega_p)*(-omega_c - omega_p)**2) - 3/(omega_c*(-omega_c - omega_p)**2)"
      ]
     },
     "execution_count": 96,
     "metadata": {},
     "output_type": "execute_result"
    }
   ],
   "source": [
    "energy_four(1)"
   ]
  },
  {
   "cell_type": "code",
   "execution_count": 97,
   "id": "8020dcdf",
   "metadata": {},
   "outputs": [
    {
     "data": {
      "text/latex": [
       "$\\displaystyle \\frac{4}{\\left(\\omega_{c} - \\omega_{p}\\right)^{2} \\left(\\alpha + 2 \\omega_{c} - 2 \\omega_{p}\\right)} - \\frac{4}{\\left(\\omega_{c} - \\omega_{p}\\right)^{3}} - \\frac{6}{\\left(- \\omega_{c} - \\omega_{p}\\right) \\left(\\omega_{c} - \\omega_{p}\\right)^{2}} + \\frac{24}{\\left(- \\omega_{c} - \\omega_{p}\\right)^{2} \\left(\\alpha - 2 \\omega_{c} - 2 \\omega_{p}\\right)} - \\frac{6}{\\left(- \\omega_{c} - \\omega_{p}\\right)^{2} \\left(\\omega_{c} - \\omega_{p}\\right)} - \\frac{9}{\\left(- \\omega_{c} - \\omega_{p}\\right)^{3}} + \\frac{8}{\\left(\\alpha - 2 \\omega_{p}\\right) \\left(\\omega_{c} - \\omega_{p}\\right)^{2}} + \\frac{24}{\\left(\\alpha - 2 \\omega_{p}\\right) \\left(- \\omega_{c} - \\omega_{p}\\right) \\left(\\omega_{c} - \\omega_{p}\\right)} + \\frac{18}{\\left(\\alpha - 2 \\omega_{p}\\right) \\left(- \\omega_{c} - \\omega_{p}\\right)^{2}} + \\frac{1}{\\omega_{c} \\left(\\omega_{c} - \\omega_{p}\\right)^{2}} - \\frac{6}{\\omega_{c} \\left(- \\omega_{c} - \\omega_{p}\\right)^{2}}$"
      ],
      "text/plain": [
       "4/((omega_c - omega_p)**2*(alpha + 2*omega_c - 2*omega_p)) - 4/(omega_c - omega_p)**3 - 6/((-omega_c - omega_p)*(omega_c - omega_p)**2) + 24/((-omega_c - omega_p)**2*(alpha - 2*omega_c - 2*omega_p)) - 6/((-omega_c - omega_p)**2*(omega_c - omega_p)) - 9/(-omega_c - omega_p)**3 + 8/((alpha - 2*omega_p)*(omega_c - omega_p)**2) + 24/((alpha - 2*omega_p)*(-omega_c - omega_p)*(omega_c - omega_p)) + 18/((alpha - 2*omega_p)*(-omega_c - omega_p)**2) + 1/(omega_c*(omega_c - omega_p)**2) - 6/(omega_c*(-omega_c - omega_p)**2)"
      ]
     },
     "execution_count": 97,
     "metadata": {},
     "output_type": "execute_result"
    }
   ],
   "source": [
    "energy_four(2)"
   ]
  },
  {
   "cell_type": "code",
   "execution_count": 98,
   "id": "9722b5da",
   "metadata": {},
   "outputs": [],
   "source": [
    "kerr = energy_four(2) - 2*energy_four(1) + energy_four(0)"
   ]
  },
  {
   "cell_type": "code",
   "execution_count": 103,
   "id": "5f2dd1c2",
   "metadata": {},
   "outputs": [
    {
     "data": {
      "text/latex": [
       "$\\displaystyle 0$"
      ],
      "text/plain": [
       "0"
      ]
     },
     "execution_count": 103,
     "metadata": {},
     "output_type": "execute_result"
    }
   ],
   "source": [
    "kerr.subs(alpha,0).expand().simplify()"
   ]
  },
  {
   "cell_type": "code",
   "execution_count": 104,
   "id": "ea245a8c",
   "metadata": {},
   "outputs": [],
   "source": [
    "E =kerr\n",
    "x = symbols('x', real=True)\n",
    "y= symbols('y', real=True)\n",
    "E=E.subs(g3**2,x*omega**2)\n",
    "E=E.subs(alpha,y*omegap)\n",
    "from sympy import symbols, diff\n",
    "f_0 = E.subs({x: 0, y: 0})\n",
    "df_dx = diff(E, x).subs({x: 0, y: 0}) * (x - 0)\n",
    "df_dy = diff(E, y).subs({x: 0, y: 0}) * (y - 0)\n",
    "\n",
    "taylor_first_order = f_0 + df_dx + df_dy\n",
    "\n",
    "kerr = taylor_first_order.expand().subs(y,alpha/omegap).subs(x,g3**2/omega**2)"
   ]
  },
  {
   "cell_type": "code",
   "execution_count": 105,
   "id": "07d292d8",
   "metadata": {},
   "outputs": [
    {
     "data": {
      "text/latex": [
       "$\\displaystyle - \\frac{\\alpha}{\\omega_{c}^{4} + 4 \\omega_{c}^{3} \\omega_{p} + 6 \\omega_{c}^{2} \\omega_{p}^{2} + 4 \\omega_{c} \\omega_{p}^{3} + \\omega_{p}^{4}} - \\frac{\\alpha}{\\omega_{c}^{4} - 4 \\omega_{c}^{3} \\omega_{p} + 6 \\omega_{c}^{2} \\omega_{p}^{2} - 4 \\omega_{c} \\omega_{p}^{3} + \\omega_{p}^{4}} - \\frac{\\alpha}{\\omega_{p}^{2} \\left(\\omega_{c}^{2} + 2 \\omega_{c} \\omega_{p} + \\omega_{p}^{2}\\right)} - \\frac{\\alpha}{\\omega_{p}^{2} \\left(\\omega_{c}^{2} - 2 \\omega_{c} \\omega_{p} + \\omega_{p}^{2}\\right)} + \\frac{2 \\alpha}{\\omega_{p}^{2} \\left(\\omega_{c}^{2} - \\omega_{p}^{2}\\right)} - \\frac{2}{\\omega_{c}^{3} + \\omega_{c}^{2} \\omega_{p} - \\omega_{c} \\omega_{p}^{2} - \\omega_{p}^{3}} + \\frac{2}{\\omega_{c}^{3} - \\omega_{c}^{2} \\omega_{p} - \\omega_{c} \\omega_{p}^{2} + \\omega_{p}^{3}} - \\frac{2}{\\omega_{p} \\left(\\omega_{c}^{2} + 2 \\omega_{c} \\omega_{p} + \\omega_{p}^{2}\\right)} - \\frac{2}{\\omega_{p} \\left(\\omega_{c}^{2} - 2 \\omega_{c} \\omega_{p} + \\omega_{p}^{2}\\right)} + \\frac{4}{\\omega_{p} \\left(\\omega_{c}^{2} - \\omega_{p}^{2}\\right)} - \\frac{1}{\\omega_{c} \\left(\\omega_{c}^{2} + 2 \\omega_{c} \\omega_{p} + \\omega_{p}^{2}\\right)} + \\frac{1}{\\omega_{c} \\left(\\omega_{c}^{2} - 2 \\omega_{c} \\omega_{p} + \\omega_{p}^{2}\\right)}$"
      ],
      "text/plain": [
       "-alpha/(omega_c**4 + 4*omega_c**3*omega_p + 6*omega_c**2*omega_p**2 + 4*omega_c*omega_p**3 + omega_p**4) - alpha/(omega_c**4 - 4*omega_c**3*omega_p + 6*omega_c**2*omega_p**2 - 4*omega_c*omega_p**3 + omega_p**4) - alpha/(omega_p**2*(omega_c**2 + 2*omega_c*omega_p + omega_p**2)) - alpha/(omega_p**2*(omega_c**2 - 2*omega_c*omega_p + omega_p**2)) + 2*alpha/(omega_p**2*(omega_c**2 - omega_p**2)) - 2/(omega_c**3 + omega_c**2*omega_p - omega_c*omega_p**2 - omega_p**3) + 2/(omega_c**3 - omega_c**2*omega_p - omega_c*omega_p**2 + omega_p**3) - 2/(omega_p*(omega_c**2 + 2*omega_c*omega_p + omega_p**2)) - 2/(omega_p*(omega_c**2 - 2*omega_c*omega_p + omega_p**2)) + 4/(omega_p*(omega_c**2 - omega_p**2)) - 1/(omega_c*(omega_c**2 + 2*omega_c*omega_p + omega_p**2)) + 1/(omega_c*(omega_c**2 - 2*omega_c*omega_p + omega_p**2))"
      ]
     },
     "execution_count": 105,
     "metadata": {},
     "output_type": "execute_result"
    }
   ],
   "source": [
    "temp = 0\n",
    "for term in kerr.args:\n",
    "    temp += term.simplify()\n",
    "temp"
   ]
  },
  {
   "cell_type": "code",
   "execution_count": 106,
   "id": "40107f36",
   "metadata": {},
   "outputs": [
    {
     "data": {
      "text/latex": [
       "$\\displaystyle \\omega_{p}$"
      ],
      "text/plain": [
       "omega_p"
      ]
     },
     "execution_count": 106,
     "metadata": {},
     "output_type": "execute_result"
    }
   ],
   "source": [
    "omegap"
   ]
  },
  {
   "cell_type": "code",
   "execution_count": 107,
   "id": "84a7dcf4",
   "metadata": {},
   "outputs": [],
   "source": [
    "from sympy.physics.quantum import TensorProduct\n",
    "from sympy import eye\n",
    "nb1=4\n",
    "nb2=4\n",
    "omega_b1 = symbols('omega_c1', real=True)\n",
    "omega_b2 = symbols('omega_c2', real=True)\n",
    "b = sp.zeros(nb1)\n",
    "b_dagger = sp.zeros(nb1)\n",
    "for i in range(nb1-1):\n",
    "    b[i, i+1] = sqrt(i+1)\n",
    "    b_dagger[i+1, i] = sqrt(i+1)\n",
    "v1 = TensorProduct(Matrix(g_matrix),Matrix( b+b_dagger))\n",
    "# v1 = TensorProduct(Matrix(upper_tri),Matrix( b_dagger))+TensorProduct(Matrix(lower_tri),Matrix(b))\n",
    "v1 = TensorProduct(v1,eye(nb1))\n",
    "\n",
    "# v2up = TensorProduct(Matrix(upper_tri),eye(nb1))\n",
    "# v2lo = TensorProduct(Matrix(lower_tri),eye(nb1))\n",
    "# v2 = TensorProduct(v2up,Matrix( b_dagger))+TensorProduct(v2lo,Matrix( b))\n",
    "v2 = TensorProduct(Matrix(g_matrix),eye(nb1))\n",
    "v2 = TensorProduct(v2,Matrix( b+b_dagger))\n",
    "V=v1+v2\n",
    "# V = TensorProduct(Matrix(upper_tri),Matrix( b_dagger))+TensorProduct(Matrix(lower_tri),Matrix( b))\n",
    "ENN = [\n",
    "    i * omegap - i*(i-1) * alpha / 2 + j * omega_b1+l * omega_b2\n",
    "    for i in range(n)\n",
    "    for j in range(nb1)\n",
    "    for l in range(nb2)\n",
    "]"
   ]
  },
  {
   "cell_type": "code",
   "execution_count": 108,
   "id": "818c1e0a",
   "metadata": {},
   "outputs": [
    {
     "data": {
      "text/plain": [
       "100"
      ]
     },
     "execution_count": 108,
     "metadata": {},
     "output_type": "execute_result"
    }
   ],
   "source": [
    "len(upper_tri)"
   ]
  },
  {
   "cell_type": "code",
   "execution_count": 109,
   "id": "f314a538",
   "metadata": {},
   "outputs": [
    {
     "data": {
      "text/plain": [
       "25600"
      ]
     },
     "execution_count": 109,
     "metadata": {},
     "output_type": "execute_result"
    }
   ],
   "source": [
    "len(v2)"
   ]
  },
  {
   "cell_type": "code",
   "execution_count": 110,
   "id": "aafa5783",
   "metadata": {},
   "outputs": [],
   "source": [
    "def energy_four(N):\n",
    "    V_ij = V\n",
    "    E4_N = 0  # Initialize the fourth order correction\n",
    "    EN = ENN[N]\n",
    "    dim = n*nb1*nb2\n",
    "    for m in range(dim):\n",
    "        if m != N and V_ij[N, m] !=0 :\n",
    "            for p in range(dim):\n",
    "                if p != N and V_ij[m, p]!=0 :\n",
    "                    for l in range(dim):\n",
    "                        if l != N and V_ij[p, l]!=0 and V_ij[l, N]!=0:\n",
    "                            # Contribution from the main term\n",
    "                            E4_N += (((V_ij[N, m] * V_ij[m, p] * V_ij[p, l] * V_ij[l, N] /\n",
    "                                     ((EN - ENN[m]) * (EN - ENN[p]) * (EN - ENN[l]))))).simplify()\n",
    "\n",
    "    for m in range(dim):\n",
    "        if m != N:\n",
    "            for p in range(dim):\n",
    "                if p != N:\n",
    "                    VNm = V_ij[N, m]\n",
    "                    VNp = V_ij[N, p]\n",
    "                    if VNm == 0 or VNp ==0:\n",
    "                        continue\n",
    "                    if sp.im(VNm) != 0 and sp.re(VNm) == 0:  # Pure imaginary\n",
    "                        VNm = sp.im(VNm)\n",
    "                    if sp.im(VNp) != 0 and sp.re(VNp) == 0:  # Pure imaginary    \n",
    "                        VNp = sp.im(VNp)\n",
    "                    E4_N = E4_N - ((VNm**2/(EN - ENN[m])**2) * (VNp**2/(EN - ENN[p]))).simplify()\n",
    "    return E4_N"
   ]
  },
  {
   "cell_type": "code",
   "execution_count": 111,
   "id": "bbc45009",
   "metadata": {},
   "outputs": [
    {
     "data": {
      "text/latex": [
       "$\\displaystyle \\omega_{c1} + \\omega_{c2}$"
      ],
      "text/plain": [
       "omega_c1 + omega_c2"
      ]
     },
     "execution_count": 111,
     "metadata": {},
     "output_type": "execute_result"
    }
   ],
   "source": [
    "ENN[nb1+1]"
   ]
  },
  {
   "cell_type": "code",
   "execution_count": 112,
   "id": "01e607c1",
   "metadata": {},
   "outputs": [
    {
     "data": {
      "text/latex": [
       "$\\displaystyle \\omega_{c2}$"
      ],
      "text/plain": [
       "omega_c2"
      ]
     },
     "execution_count": 112,
     "metadata": {},
     "output_type": "execute_result"
    }
   ],
   "source": [
    "ENN[1]"
   ]
  },
  {
   "cell_type": "code",
   "execution_count": 113,
   "id": "8f3fff0d",
   "metadata": {},
   "outputs": [],
   "source": [
    "ck = energy_four(nb1+1) - energy_four(nb1) - energy_four(1) + energy_four(0)"
   ]
  },
  {
   "cell_type": "code",
   "execution_count": 118,
   "id": "b1d14e9e",
   "metadata": {},
   "outputs": [
    {
     "data": {
      "text/latex": [
       "$\\displaystyle \\frac{2}{\\left(\\omega_{c2} + \\omega_{p}\\right)^{2} \\left(\\alpha + \\omega_{c1} - \\omega_{c2} - 2 \\omega_{p}\\right)} - \\frac{2}{\\left(\\omega_{c2} + \\omega_{p}\\right)^{2} \\left(- \\alpha + \\omega_{c1} + \\omega_{c2} + 2 \\omega_{p}\\right)} + \\frac{2}{\\left(\\omega_{c2} - \\omega_{p}\\right)^{2} \\left(\\alpha + \\omega_{c1} + \\omega_{c2} - 2 \\omega_{p}\\right)} + \\frac{2}{\\left(\\omega_{c2} - \\omega_{p}\\right)^{2} \\left(\\alpha - \\omega_{c1} + \\omega_{c2} - 2 \\omega_{p}\\right)} - \\frac{4}{\\left(\\omega_{c1} + \\omega_{p}\\right) \\left(\\omega_{c2} + \\omega_{p}\\right) \\left(- \\alpha + \\omega_{c1} + \\omega_{c2} + 2 \\omega_{p}\\right)} + \\frac{1}{\\left(\\omega_{c1} + \\omega_{p}\\right) \\left(\\omega_{c2} + \\omega_{p}\\right)^{2}} - \\frac{4}{\\left(\\omega_{c1} + \\omega_{p}\\right) \\left(\\omega_{c2} - \\omega_{p}\\right) \\left(\\alpha - \\omega_{c1} + \\omega_{c2} - 2 \\omega_{p}\\right)} + \\frac{1}{\\left(\\omega_{c1} + \\omega_{p}\\right) \\left(\\omega_{c2} - \\omega_{p}\\right)^{2}} + \\frac{2}{\\left(\\omega_{c1} + \\omega_{p}\\right)^{2} \\left(\\alpha - \\omega_{c1} + \\omega_{c2} - 2 \\omega_{p}\\right)} - \\frac{2}{\\left(\\omega_{c1} + \\omega_{p}\\right)^{2} \\left(- \\alpha + \\omega_{c1} + \\omega_{c2} + 2 \\omega_{p}\\right)} + \\frac{1}{\\left(\\omega_{c1} + \\omega_{p}\\right)^{2} \\left(\\omega_{c2} + \\omega_{p}\\right)} - \\frac{1}{\\left(\\omega_{c1} + \\omega_{p}\\right)^{2} \\left(\\omega_{c2} - \\omega_{p}\\right)} - \\frac{4}{\\left(\\omega_{c1} - \\omega_{p}\\right) \\left(\\omega_{c2} + \\omega_{p}\\right) \\left(\\alpha + \\omega_{c1} - \\omega_{c2} - 2 \\omega_{p}\\right)} - \\frac{1}{\\left(\\omega_{c1} - \\omega_{p}\\right) \\left(\\omega_{c2} + \\omega_{p}\\right)^{2}} + \\frac{4}{\\left(\\omega_{c1} - \\omega_{p}\\right) \\left(\\omega_{c2} - \\omega_{p}\\right) \\left(\\alpha + \\omega_{c1} + \\omega_{c2} - 2 \\omega_{p}\\right)} - \\frac{1}{\\left(\\omega_{c1} - \\omega_{p}\\right) \\left(\\omega_{c2} - \\omega_{p}\\right)^{2}} + \\frac{2}{\\left(\\omega_{c1} - \\omega_{p}\\right)^{2} \\left(\\alpha + \\omega_{c1} + \\omega_{c2} - 2 \\omega_{p}\\right)} + \\frac{2}{\\left(\\omega_{c1} - \\omega_{p}\\right)^{2} \\left(\\alpha + \\omega_{c1} - \\omega_{c2} - 2 \\omega_{p}\\right)} + \\frac{1}{\\left(\\omega_{c1} - \\omega_{p}\\right)^{2} \\left(\\omega_{c2} + \\omega_{p}\\right)} - \\frac{1}{\\left(\\omega_{c1} - \\omega_{p}\\right)^{2} \\left(\\omega_{c2} - \\omega_{p}\\right)} - \\frac{1}{\\left(\\omega_{c1} + \\omega_{c2}\\right) \\left(\\omega_{c2} + \\omega_{p}\\right)^{2}} + \\frac{1}{\\left(\\omega_{c1} + \\omega_{c2}\\right) \\left(\\omega_{c2} - \\omega_{p}\\right)^{2}} - \\frac{2}{\\left(\\omega_{c1} + \\omega_{c2}\\right) \\left(\\omega_{c1} + \\omega_{p}\\right) \\left(\\omega_{c2} + \\omega_{p}\\right)} - \\frac{1}{\\left(\\omega_{c1} + \\omega_{c2}\\right) \\left(\\omega_{c1} + \\omega_{p}\\right)^{2}} + \\frac{2}{\\left(\\omega_{c1} + \\omega_{c2}\\right) \\left(\\omega_{c1} - \\omega_{p}\\right) \\left(\\omega_{c2} - \\omega_{p}\\right)} + \\frac{1}{\\left(\\omega_{c1} + \\omega_{c2}\\right) \\left(\\omega_{c1} - \\omega_{p}\\right)^{2}} + \\frac{1}{\\left(\\omega_{c1} - \\omega_{c2}\\right) \\left(\\omega_{c2} + \\omega_{p}\\right)^{2}} - \\frac{1}{\\left(\\omega_{c1} - \\omega_{c2}\\right) \\left(\\omega_{c2} - \\omega_{p}\\right)^{2}} + \\frac{2}{\\left(\\omega_{c1} - \\omega_{c2}\\right) \\left(\\omega_{c1} + \\omega_{p}\\right) \\left(\\omega_{c2} - \\omega_{p}\\right)} - \\frac{1}{\\left(\\omega_{c1} - \\omega_{c2}\\right) \\left(\\omega_{c1} + \\omega_{p}\\right)^{2}} - \\frac{2}{\\left(\\omega_{c1} - \\omega_{c2}\\right) \\left(\\omega_{c1} - \\omega_{p}\\right) \\left(\\omega_{c2} + \\omega_{p}\\right)} + \\frac{1}{\\left(\\omega_{c1} - \\omega_{c2}\\right) \\left(\\omega_{c1} - \\omega_{p}\\right)^{2}} + \\frac{4}{\\left(\\alpha - 2 \\omega_{p}\\right) \\left(\\omega_{c1} + \\omega_{p}\\right) \\left(\\omega_{c2} + \\omega_{p}\\right)} - \\frac{4}{\\left(\\alpha - 2 \\omega_{p}\\right) \\left(\\omega_{c1} + \\omega_{p}\\right) \\left(\\omega_{c2} - \\omega_{p}\\right)} - \\frac{4}{\\left(\\alpha - 2 \\omega_{p}\\right) \\left(\\omega_{c1} - \\omega_{p}\\right) \\left(\\omega_{c2} + \\omega_{p}\\right)} + \\frac{4}{\\left(\\alpha - 2 \\omega_{p}\\right) \\left(\\omega_{c1} - \\omega_{p}\\right) \\left(\\omega_{c2} - \\omega_{p}\\right)}$"
      ],
      "text/plain": [
       "2/((omega_c2 + omega_p)**2*(alpha + omega_c1 - omega_c2 - 2*omega_p)) - 2/((omega_c2 + omega_p)**2*(-alpha + omega_c1 + omega_c2 + 2*omega_p)) + 2/((omega_c2 - omega_p)**2*(alpha + omega_c1 + omega_c2 - 2*omega_p)) + 2/((omega_c2 - omega_p)**2*(alpha - omega_c1 + omega_c2 - 2*omega_p)) - 4/((omega_c1 + omega_p)*(omega_c2 + omega_p)*(-alpha + omega_c1 + omega_c2 + 2*omega_p)) + 1/((omega_c1 + omega_p)*(omega_c2 + omega_p)**2) - 4/((omega_c1 + omega_p)*(omega_c2 - omega_p)*(alpha - omega_c1 + omega_c2 - 2*omega_p)) + 1/((omega_c1 + omega_p)*(omega_c2 - omega_p)**2) + 2/((omega_c1 + omega_p)**2*(alpha - omega_c1 + omega_c2 - 2*omega_p)) - 2/((omega_c1 + omega_p)**2*(-alpha + omega_c1 + omega_c2 + 2*omega_p)) + 1/((omega_c1 + omega_p)**2*(omega_c2 + omega_p)) - 1/((omega_c1 + omega_p)**2*(omega_c2 - omega_p)) - 4/((omega_c1 - omega_p)*(omega_c2 + omega_p)*(alpha + omega_c1 - omega_c2 - 2*omega_p)) - 1/((omega_c1 - omega_p)*(omega_c2 + omega_p)**2) + 4/((omega_c1 - omega_p)*(omega_c2 - omega_p)*(alpha + omega_c1 + omega_c2 - 2*omega_p)) - 1/((omega_c1 - omega_p)*(omega_c2 - omega_p)**2) + 2/((omega_c1 - omega_p)**2*(alpha + omega_c1 + omega_c2 - 2*omega_p)) + 2/((omega_c1 - omega_p)**2*(alpha + omega_c1 - omega_c2 - 2*omega_p)) + 1/((omega_c1 - omega_p)**2*(omega_c2 + omega_p)) - 1/((omega_c1 - omega_p)**2*(omega_c2 - omega_p)) - 1/((omega_c1 + omega_c2)*(omega_c2 + omega_p)**2) + 1/((omega_c1 + omega_c2)*(omega_c2 - omega_p)**2) - 2/((omega_c1 + omega_c2)*(omega_c1 + omega_p)*(omega_c2 + omega_p)) - 1/((omega_c1 + omega_c2)*(omega_c1 + omega_p)**2) + 2/((omega_c1 + omega_c2)*(omega_c1 - omega_p)*(omega_c2 - omega_p)) + 1/((omega_c1 + omega_c2)*(omega_c1 - omega_p)**2) + 1/((omega_c1 - omega_c2)*(omega_c2 + omega_p)**2) - 1/((omega_c1 - omega_c2)*(omega_c2 - omega_p)**2) + 2/((omega_c1 - omega_c2)*(omega_c1 + omega_p)*(omega_c2 - omega_p)) - 1/((omega_c1 - omega_c2)*(omega_c1 + omega_p)**2) - 2/((omega_c1 - omega_c2)*(omega_c1 - omega_p)*(omega_c2 + omega_p)) + 1/((omega_c1 - omega_c2)*(omega_c1 - omega_p)**2) + 4/((alpha - 2*omega_p)*(omega_c1 + omega_p)*(omega_c2 + omega_p)) - 4/((alpha - 2*omega_p)*(omega_c1 + omega_p)*(omega_c2 - omega_p)) - 4/((alpha - 2*omega_p)*(omega_c1 - omega_p)*(omega_c2 + omega_p)) + 4/((alpha - 2*omega_p)*(omega_c1 - omega_p)*(omega_c2 - omega_p))"
      ]
     },
     "execution_count": 118,
     "metadata": {},
     "output_type": "execute_result"
    }
   ],
   "source": [
    "ck"
   ]
  },
  {
   "cell_type": "code",
   "execution_count": 114,
   "id": "d0b74ca2",
   "metadata": {},
   "outputs": [
    {
     "ename": "KeyboardInterrupt",
     "evalue": "",
     "output_type": "error",
     "traceback": [
      "\u001b[0;31m---------------------------------------------------------------------------\u001b[0m",
      "\u001b[0;31mKeyboardInterrupt\u001b[0m                         Traceback (most recent call last)",
      "\u001b[0;32m/tmp/ipykernel_3389255/3510393865.py\u001b[0m in \u001b[0;36m<module>\u001b[0;34m\u001b[0m\n\u001b[0;32m----> 1\u001b[0;31m \u001b[0mE\u001b[0m \u001b[0;34m=\u001b[0m\u001b[0mck\u001b[0m\u001b[0;34m.\u001b[0m\u001b[0mexpand\u001b[0m\u001b[0;34m(\u001b[0m\u001b[0;34m)\u001b[0m\u001b[0;34m.\u001b[0m\u001b[0msimplify\u001b[0m\u001b[0;34m(\u001b[0m\u001b[0;34m)\u001b[0m\u001b[0;34m\u001b[0m\u001b[0;34m\u001b[0m\u001b[0m\n\u001b[0m\u001b[1;32m      2\u001b[0m \u001b[0mx\u001b[0m \u001b[0;34m=\u001b[0m \u001b[0msymbols\u001b[0m\u001b[0;34m(\u001b[0m\u001b[0;34m'x'\u001b[0m\u001b[0;34m,\u001b[0m \u001b[0mreal\u001b[0m\u001b[0;34m=\u001b[0m\u001b[0;32mTrue\u001b[0m\u001b[0;34m)\u001b[0m\u001b[0;34m\u001b[0m\u001b[0;34m\u001b[0m\u001b[0m\n\u001b[1;32m      3\u001b[0m \u001b[0my\u001b[0m\u001b[0;34m=\u001b[0m \u001b[0msymbols\u001b[0m\u001b[0;34m(\u001b[0m\u001b[0;34m'y'\u001b[0m\u001b[0;34m,\u001b[0m \u001b[0mreal\u001b[0m\u001b[0;34m=\u001b[0m\u001b[0;32mTrue\u001b[0m\u001b[0;34m)\u001b[0m\u001b[0;34m\u001b[0m\u001b[0;34m\u001b[0m\u001b[0m\n\u001b[1;32m      4\u001b[0m \u001b[0mE\u001b[0m\u001b[0;34m=\u001b[0m\u001b[0mE\u001b[0m\u001b[0;34m.\u001b[0m\u001b[0msubs\u001b[0m\u001b[0;34m(\u001b[0m\u001b[0mg3\u001b[0m\u001b[0;34m**\u001b[0m\u001b[0;36m2\u001b[0m\u001b[0;34m,\u001b[0m\u001b[0mx\u001b[0m\u001b[0;34m*\u001b[0m\u001b[0momega\u001b[0m\u001b[0;34m**\u001b[0m\u001b[0;36m2\u001b[0m\u001b[0;34m)\u001b[0m\u001b[0;34m\u001b[0m\u001b[0;34m\u001b[0m\u001b[0m\n\u001b[1;32m      5\u001b[0m \u001b[0mE\u001b[0m\u001b[0;34m=\u001b[0m\u001b[0mE\u001b[0m\u001b[0;34m.\u001b[0m\u001b[0msubs\u001b[0m\u001b[0;34m(\u001b[0m\u001b[0malpha\u001b[0m\u001b[0;34m,\u001b[0m\u001b[0my\u001b[0m\u001b[0;34m*\u001b[0m\u001b[0momegap\u001b[0m\u001b[0;34m)\u001b[0m\u001b[0;34m\u001b[0m\u001b[0;34m\u001b[0m\u001b[0m\n",
      "\u001b[0;32m/opt/anaconda3/envs/yunwei/lib/python3.9/site-packages/sympy/core/basic.py\u001b[0m in \u001b[0;36msimplify\u001b[0;34m(self, **kwargs)\u001b[0m\n\u001b[1;32m   1765\u001b[0m         \u001b[0;34m\"\"\"See the simplify function in sympy.simplify\"\"\"\u001b[0m\u001b[0;34m\u001b[0m\u001b[0;34m\u001b[0m\u001b[0m\n\u001b[1;32m   1766\u001b[0m         \u001b[0;32mfrom\u001b[0m \u001b[0msympy\u001b[0m\u001b[0;34m.\u001b[0m\u001b[0msimplify\u001b[0m\u001b[0;34m.\u001b[0m\u001b[0msimplify\u001b[0m \u001b[0;32mimport\u001b[0m \u001b[0msimplify\u001b[0m\u001b[0;34m\u001b[0m\u001b[0;34m\u001b[0m\u001b[0m\n\u001b[0;32m-> 1767\u001b[0;31m         \u001b[0;32mreturn\u001b[0m \u001b[0msimplify\u001b[0m\u001b[0;34m(\u001b[0m\u001b[0mself\u001b[0m\u001b[0;34m,\u001b[0m \u001b[0;34m**\u001b[0m\u001b[0mkwargs\u001b[0m\u001b[0;34m)\u001b[0m\u001b[0;34m\u001b[0m\u001b[0;34m\u001b[0m\u001b[0m\n\u001b[0m\u001b[1;32m   1768\u001b[0m \u001b[0;34m\u001b[0m\u001b[0m\n\u001b[1;32m   1769\u001b[0m     \u001b[0;32mdef\u001b[0m \u001b[0mrefine\u001b[0m\u001b[0;34m(\u001b[0m\u001b[0mself\u001b[0m\u001b[0;34m,\u001b[0m \u001b[0massumption\u001b[0m\u001b[0;34m=\u001b[0m\u001b[0;32mTrue\u001b[0m\u001b[0;34m)\u001b[0m\u001b[0;34m:\u001b[0m\u001b[0;34m\u001b[0m\u001b[0;34m\u001b[0m\u001b[0m\n",
      "\u001b[0;32m/opt/anaconda3/envs/yunwei/lib/python3.9/site-packages/sympy/simplify/simplify.py\u001b[0m in \u001b[0;36msimplify\u001b[0;34m(expr, ratio, measure, rational, inverse, doit, **kwargs)\u001b[0m\n\u001b[1;32m    642\u001b[0m     \u001b[0mexpr\u001b[0m \u001b[0;34m=\u001b[0m \u001b[0m_bottom_up\u001b[0m\u001b[0;34m(\u001b[0m\u001b[0mexpr\u001b[0m\u001b[0;34m,\u001b[0m \u001b[0;32mlambda\u001b[0m \u001b[0mw\u001b[0m\u001b[0;34m:\u001b[0m \u001b[0mgetattr\u001b[0m\u001b[0;34m(\u001b[0m\u001b[0mw\u001b[0m\u001b[0;34m,\u001b[0m \u001b[0;34m'normal'\u001b[0m\u001b[0;34m,\u001b[0m \u001b[0;32mlambda\u001b[0m\u001b[0;34m:\u001b[0m \u001b[0mw\u001b[0m\u001b[0;34m)\u001b[0m\u001b[0;34m(\u001b[0m\u001b[0;34m)\u001b[0m\u001b[0;34m)\u001b[0m\u001b[0;34m\u001b[0m\u001b[0;34m\u001b[0m\u001b[0m\n\u001b[1;32m    643\u001b[0m     \u001b[0mexpr\u001b[0m \u001b[0;34m=\u001b[0m \u001b[0mMul\u001b[0m\u001b[0;34m(\u001b[0m\u001b[0;34m*\u001b[0m\u001b[0mpowsimp\u001b[0m\u001b[0;34m(\u001b[0m\u001b[0mexpr\u001b[0m\u001b[0;34m)\u001b[0m\u001b[0;34m.\u001b[0m\u001b[0mas_content_primitive\u001b[0m\u001b[0;34m(\u001b[0m\u001b[0;34m)\u001b[0m\u001b[0;34m)\u001b[0m\u001b[0;34m\u001b[0m\u001b[0;34m\u001b[0m\u001b[0m\n\u001b[0;32m--> 644\u001b[0;31m     \u001b[0m_e\u001b[0m \u001b[0;34m=\u001b[0m \u001b[0mcancel\u001b[0m\u001b[0;34m(\u001b[0m\u001b[0mexpr\u001b[0m\u001b[0;34m)\u001b[0m\u001b[0;34m\u001b[0m\u001b[0;34m\u001b[0m\u001b[0m\n\u001b[0m\u001b[1;32m    645\u001b[0m     \u001b[0mexpr1\u001b[0m \u001b[0;34m=\u001b[0m \u001b[0mshorter\u001b[0m\u001b[0;34m(\u001b[0m\u001b[0m_e\u001b[0m\u001b[0;34m,\u001b[0m \u001b[0m_mexpand\u001b[0m\u001b[0;34m(\u001b[0m\u001b[0m_e\u001b[0m\u001b[0;34m)\u001b[0m\u001b[0;34m.\u001b[0m\u001b[0mcancel\u001b[0m\u001b[0;34m(\u001b[0m\u001b[0;34m)\u001b[0m\u001b[0;34m)\u001b[0m  \u001b[0;31m# issue 6829\u001b[0m\u001b[0;34m\u001b[0m\u001b[0;34m\u001b[0m\u001b[0m\n\u001b[1;32m    646\u001b[0m     \u001b[0mexpr2\u001b[0m \u001b[0;34m=\u001b[0m \u001b[0mshorter\u001b[0m\u001b[0;34m(\u001b[0m\u001b[0mtogether\u001b[0m\u001b[0;34m(\u001b[0m\u001b[0mexpr\u001b[0m\u001b[0;34m,\u001b[0m \u001b[0mdeep\u001b[0m\u001b[0;34m=\u001b[0m\u001b[0;32mTrue\u001b[0m\u001b[0;34m)\u001b[0m\u001b[0;34m,\u001b[0m \u001b[0mtogether\u001b[0m\u001b[0;34m(\u001b[0m\u001b[0mexpr1\u001b[0m\u001b[0;34m,\u001b[0m \u001b[0mdeep\u001b[0m\u001b[0;34m=\u001b[0m\u001b[0;32mTrue\u001b[0m\u001b[0;34m)\u001b[0m\u001b[0;34m)\u001b[0m\u001b[0;34m\u001b[0m\u001b[0;34m\u001b[0m\u001b[0m\n",
      "\u001b[0;32m/opt/anaconda3/envs/yunwei/lib/python3.9/site-packages/sympy/polys/polytools.py\u001b[0m in \u001b[0;36mcancel\u001b[0;34m(f, _signsimp, *gens, **args)\u001b[0m\n\u001b[1;32m   6764\u001b[0m         \u001b[0;32mif\u001b[0m \u001b[0mf\u001b[0m\u001b[0;34m.\u001b[0m\u001b[0mhas\u001b[0m\u001b[0;34m(\u001b[0m\u001b[0mPiecewise\u001b[0m\u001b[0;34m)\u001b[0m\u001b[0;34m:\u001b[0m\u001b[0;34m\u001b[0m\u001b[0;34m\u001b[0m\u001b[0m\n\u001b[1;32m   6765\u001b[0m             \u001b[0;32mraise\u001b[0m \u001b[0mPolynomialError\u001b[0m\u001b[0;34m(\u001b[0m\u001b[0;34m)\u001b[0m\u001b[0;34m\u001b[0m\u001b[0;34m\u001b[0m\u001b[0m\n\u001b[0;32m-> 6766\u001b[0;31m         \u001b[0mR\u001b[0m\u001b[0;34m,\u001b[0m \u001b[0;34m(\u001b[0m\u001b[0mF\u001b[0m\u001b[0;34m,\u001b[0m \u001b[0mG\u001b[0m\u001b[0;34m)\u001b[0m \u001b[0;34m=\u001b[0m \u001b[0msring\u001b[0m\u001b[0;34m(\u001b[0m\u001b[0;34m(\u001b[0m\u001b[0mp\u001b[0m\u001b[0;34m,\u001b[0m \u001b[0mq\u001b[0m\u001b[0;34m)\u001b[0m\u001b[0;34m,\u001b[0m \u001b[0;34m*\u001b[0m\u001b[0mgens\u001b[0m\u001b[0;34m,\u001b[0m \u001b[0;34m**\u001b[0m\u001b[0margs\u001b[0m\u001b[0;34m)\u001b[0m\u001b[0;34m\u001b[0m\u001b[0;34m\u001b[0m\u001b[0m\n\u001b[0m\u001b[1;32m   6767\u001b[0m         \u001b[0;32mif\u001b[0m \u001b[0;32mnot\u001b[0m \u001b[0mR\u001b[0m\u001b[0;34m.\u001b[0m\u001b[0mngens\u001b[0m\u001b[0;34m:\u001b[0m\u001b[0;34m\u001b[0m\u001b[0;34m\u001b[0m\u001b[0m\n\u001b[1;32m   6768\u001b[0m             \u001b[0;32mif\u001b[0m \u001b[0;32mnot\u001b[0m \u001b[0misinstance\u001b[0m\u001b[0;34m(\u001b[0m\u001b[0mf\u001b[0m\u001b[0;34m,\u001b[0m \u001b[0;34m(\u001b[0m\u001b[0mtuple\u001b[0m\u001b[0;34m,\u001b[0m \u001b[0mTuple\u001b[0m\u001b[0;34m)\u001b[0m\u001b[0;34m)\u001b[0m\u001b[0;34m:\u001b[0m\u001b[0;34m\u001b[0m\u001b[0;34m\u001b[0m\u001b[0m\n",
      "\u001b[0;32m/opt/anaconda3/envs/yunwei/lib/python3.9/site-packages/sympy/polys/rings.py\u001b[0m in \u001b[0;36msring\u001b[0;34m(exprs, *symbols, **options)\u001b[0m\n\u001b[1;32m    161\u001b[0m \u001b[0;34m\u001b[0m\u001b[0m\n\u001b[1;32m    162\u001b[0m     \u001b[0;31m# TODO: rewrite this so that it doesn't use expand() (see poly()).\u001b[0m\u001b[0;34m\u001b[0m\u001b[0;34m\u001b[0m\u001b[0m\n\u001b[0;32m--> 163\u001b[0;31m     \u001b[0mreps\u001b[0m\u001b[0;34m,\u001b[0m \u001b[0mopt\u001b[0m \u001b[0;34m=\u001b[0m \u001b[0m_parallel_dict_from_expr\u001b[0m\u001b[0;34m(\u001b[0m\u001b[0mexprs\u001b[0m\u001b[0;34m,\u001b[0m \u001b[0mopt\u001b[0m\u001b[0;34m)\u001b[0m\u001b[0;34m\u001b[0m\u001b[0;34m\u001b[0m\u001b[0m\n\u001b[0m\u001b[1;32m    164\u001b[0m \u001b[0;34m\u001b[0m\u001b[0m\n\u001b[1;32m    165\u001b[0m     \u001b[0;32mif\u001b[0m \u001b[0mopt\u001b[0m\u001b[0;34m.\u001b[0m\u001b[0mdomain\u001b[0m \u001b[0;32mis\u001b[0m \u001b[0;32mNone\u001b[0m\u001b[0;34m:\u001b[0m\u001b[0;34m\u001b[0m\u001b[0;34m\u001b[0m\u001b[0m\n",
      "\u001b[0;32m/opt/anaconda3/envs/yunwei/lib/python3.9/site-packages/sympy/polys/polyutils.py\u001b[0m in \u001b[0;36m_parallel_dict_from_expr\u001b[0;34m(exprs, opt)\u001b[0m\n\u001b[1;32m    324\u001b[0m     \u001b[0;34m\"\"\"Transform expressions into a multinomial form. \"\"\"\u001b[0m\u001b[0;34m\u001b[0m\u001b[0;34m\u001b[0m\u001b[0m\n\u001b[1;32m    325\u001b[0m     \u001b[0;32mif\u001b[0m \u001b[0mopt\u001b[0m\u001b[0;34m.\u001b[0m\u001b[0mexpand\u001b[0m \u001b[0;32mis\u001b[0m \u001b[0;32mnot\u001b[0m \u001b[0;32mFalse\u001b[0m\u001b[0;34m:\u001b[0m\u001b[0;34m\u001b[0m\u001b[0;34m\u001b[0m\u001b[0m\n\u001b[0;32m--> 326\u001b[0;31m         \u001b[0mexprs\u001b[0m \u001b[0;34m=\u001b[0m \u001b[0;34m[\u001b[0m \u001b[0mexpr\u001b[0m\u001b[0;34m.\u001b[0m\u001b[0mexpand\u001b[0m\u001b[0;34m(\u001b[0m\u001b[0;34m)\u001b[0m \u001b[0;32mfor\u001b[0m \u001b[0mexpr\u001b[0m \u001b[0;32min\u001b[0m \u001b[0mexprs\u001b[0m \u001b[0;34m]\u001b[0m\u001b[0;34m\u001b[0m\u001b[0;34m\u001b[0m\u001b[0m\n\u001b[0m\u001b[1;32m    327\u001b[0m \u001b[0;34m\u001b[0m\u001b[0m\n\u001b[1;32m    328\u001b[0m     \u001b[0;32mif\u001b[0m \u001b[0many\u001b[0m\u001b[0;34m(\u001b[0m\u001b[0mexpr\u001b[0m\u001b[0;34m.\u001b[0m\u001b[0mis_commutative\u001b[0m \u001b[0;32mis\u001b[0m \u001b[0;32mFalse\u001b[0m \u001b[0;32mfor\u001b[0m \u001b[0mexpr\u001b[0m \u001b[0;32min\u001b[0m \u001b[0mexprs\u001b[0m\u001b[0;34m)\u001b[0m\u001b[0;34m:\u001b[0m\u001b[0;34m\u001b[0m\u001b[0;34m\u001b[0m\u001b[0m\n",
      "\u001b[0;32m/opt/anaconda3/envs/yunwei/lib/python3.9/site-packages/sympy/polys/polyutils.py\u001b[0m in \u001b[0;36m<listcomp>\u001b[0;34m(.0)\u001b[0m\n\u001b[1;32m    324\u001b[0m     \u001b[0;34m\"\"\"Transform expressions into a multinomial form. \"\"\"\u001b[0m\u001b[0;34m\u001b[0m\u001b[0;34m\u001b[0m\u001b[0m\n\u001b[1;32m    325\u001b[0m     \u001b[0;32mif\u001b[0m \u001b[0mopt\u001b[0m\u001b[0;34m.\u001b[0m\u001b[0mexpand\u001b[0m \u001b[0;32mis\u001b[0m \u001b[0;32mnot\u001b[0m \u001b[0;32mFalse\u001b[0m\u001b[0;34m:\u001b[0m\u001b[0;34m\u001b[0m\u001b[0;34m\u001b[0m\u001b[0m\n\u001b[0;32m--> 326\u001b[0;31m         \u001b[0mexprs\u001b[0m \u001b[0;34m=\u001b[0m \u001b[0;34m[\u001b[0m \u001b[0mexpr\u001b[0m\u001b[0;34m.\u001b[0m\u001b[0mexpand\u001b[0m\u001b[0;34m(\u001b[0m\u001b[0;34m)\u001b[0m \u001b[0;32mfor\u001b[0m \u001b[0mexpr\u001b[0m \u001b[0;32min\u001b[0m \u001b[0mexprs\u001b[0m \u001b[0;34m]\u001b[0m\u001b[0;34m\u001b[0m\u001b[0;34m\u001b[0m\u001b[0m\n\u001b[0m\u001b[1;32m    327\u001b[0m \u001b[0;34m\u001b[0m\u001b[0m\n\u001b[1;32m    328\u001b[0m     \u001b[0;32mif\u001b[0m \u001b[0many\u001b[0m\u001b[0;34m(\u001b[0m\u001b[0mexpr\u001b[0m\u001b[0;34m.\u001b[0m\u001b[0mis_commutative\u001b[0m \u001b[0;32mis\u001b[0m \u001b[0;32mFalse\u001b[0m \u001b[0;32mfor\u001b[0m \u001b[0mexpr\u001b[0m \u001b[0;32min\u001b[0m \u001b[0mexprs\u001b[0m\u001b[0;34m)\u001b[0m\u001b[0;34m:\u001b[0m\u001b[0;34m\u001b[0m\u001b[0;34m\u001b[0m\u001b[0m\n",
      "\u001b[0;32m/opt/anaconda3/envs/yunwei/lib/python3.9/site-packages/sympy/core/cache.py\u001b[0m in \u001b[0;36mwrapper\u001b[0;34m(*args, **kwargs)\u001b[0m\n\u001b[1;32m     68\u001b[0m         \u001b[0;32mdef\u001b[0m \u001b[0mwrapper\u001b[0m\u001b[0;34m(\u001b[0m\u001b[0;34m*\u001b[0m\u001b[0margs\u001b[0m\u001b[0;34m,\u001b[0m \u001b[0;34m**\u001b[0m\u001b[0mkwargs\u001b[0m\u001b[0;34m)\u001b[0m\u001b[0;34m:\u001b[0m\u001b[0;34m\u001b[0m\u001b[0;34m\u001b[0m\u001b[0m\n\u001b[1;32m     69\u001b[0m             \u001b[0;32mtry\u001b[0m\u001b[0;34m:\u001b[0m\u001b[0;34m\u001b[0m\u001b[0;34m\u001b[0m\u001b[0m\n\u001b[0;32m---> 70\u001b[0;31m                 \u001b[0mretval\u001b[0m \u001b[0;34m=\u001b[0m \u001b[0mcfunc\u001b[0m\u001b[0;34m(\u001b[0m\u001b[0;34m*\u001b[0m\u001b[0margs\u001b[0m\u001b[0;34m,\u001b[0m \u001b[0;34m**\u001b[0m\u001b[0mkwargs\u001b[0m\u001b[0;34m)\u001b[0m\u001b[0;34m\u001b[0m\u001b[0;34m\u001b[0m\u001b[0m\n\u001b[0m\u001b[1;32m     71\u001b[0m             \u001b[0;32mexcept\u001b[0m \u001b[0mTypeError\u001b[0m \u001b[0;32mas\u001b[0m \u001b[0me\u001b[0m\u001b[0;34m:\u001b[0m\u001b[0;34m\u001b[0m\u001b[0;34m\u001b[0m\u001b[0m\n\u001b[1;32m     72\u001b[0m                 \u001b[0;32mif\u001b[0m \u001b[0;32mnot\u001b[0m \u001b[0me\u001b[0m\u001b[0;34m.\u001b[0m\u001b[0margs\u001b[0m \u001b[0;32mor\u001b[0m \u001b[0;32mnot\u001b[0m \u001b[0me\u001b[0m\u001b[0;34m.\u001b[0m\u001b[0margs\u001b[0m\u001b[0;34m[\u001b[0m\u001b[0;36m0\u001b[0m\u001b[0;34m]\u001b[0m\u001b[0;34m.\u001b[0m\u001b[0mstartswith\u001b[0m\u001b[0;34m(\u001b[0m\u001b[0;34m'unhashable type:'\u001b[0m\u001b[0;34m)\u001b[0m\u001b[0;34m:\u001b[0m\u001b[0;34m\u001b[0m\u001b[0;34m\u001b[0m\u001b[0m\n",
      "\u001b[0;32m/opt/anaconda3/envs/yunwei/lib/python3.9/site-packages/sympy/core/expr.py\u001b[0m in \u001b[0;36mexpand\u001b[0;34m(self, deep, modulus, power_base, power_exp, mul, log, multinomial, basic, **hints)\u001b[0m\n\u001b[1;32m   3649\u001b[0m             \u001b[0;32mif\u001b[0m \u001b[0muse_hint\u001b[0m\u001b[0;34m:\u001b[0m\u001b[0;34m\u001b[0m\u001b[0;34m\u001b[0m\u001b[0m\n\u001b[1;32m   3650\u001b[0m                 \u001b[0mhint\u001b[0m \u001b[0;34m=\u001b[0m \u001b[0;34m'_eval_expand_'\u001b[0m \u001b[0;34m+\u001b[0m \u001b[0mhint\u001b[0m\u001b[0;34m\u001b[0m\u001b[0;34m\u001b[0m\u001b[0m\n\u001b[0;32m-> 3651\u001b[0;31m                 \u001b[0mexpr\u001b[0m\u001b[0;34m,\u001b[0m \u001b[0mhit\u001b[0m \u001b[0;34m=\u001b[0m \u001b[0mExpr\u001b[0m\u001b[0;34m.\u001b[0m\u001b[0m_expand_hint\u001b[0m\u001b[0;34m(\u001b[0m\u001b[0mexpr\u001b[0m\u001b[0;34m,\u001b[0m \u001b[0mhint\u001b[0m\u001b[0;34m,\u001b[0m \u001b[0mdeep\u001b[0m\u001b[0;34m=\u001b[0m\u001b[0mdeep\u001b[0m\u001b[0;34m,\u001b[0m \u001b[0;34m**\u001b[0m\u001b[0mhints\u001b[0m\u001b[0;34m)\u001b[0m\u001b[0;34m\u001b[0m\u001b[0;34m\u001b[0m\u001b[0m\n\u001b[0m\u001b[1;32m   3652\u001b[0m \u001b[0;34m\u001b[0m\u001b[0m\n\u001b[1;32m   3653\u001b[0m         \u001b[0;32mwhile\u001b[0m \u001b[0;32mTrue\u001b[0m\u001b[0;34m:\u001b[0m\u001b[0;34m\u001b[0m\u001b[0;34m\u001b[0m\u001b[0m\n",
      "\u001b[0;32m/opt/anaconda3/envs/yunwei/lib/python3.9/site-packages/sympy/core/expr.py\u001b[0m in \u001b[0;36m_expand_hint\u001b[0;34m(expr, hint, deep, **hints)\u001b[0m\n\u001b[1;32m   3582\u001b[0m             \u001b[0msargs\u001b[0m \u001b[0;34m=\u001b[0m \u001b[0;34m[\u001b[0m\u001b[0;34m]\u001b[0m\u001b[0;34m\u001b[0m\u001b[0;34m\u001b[0m\u001b[0m\n\u001b[1;32m   3583\u001b[0m             \u001b[0;32mfor\u001b[0m \u001b[0marg\u001b[0m \u001b[0;32min\u001b[0m \u001b[0mexpr\u001b[0m\u001b[0;34m.\u001b[0m\u001b[0margs\u001b[0m\u001b[0;34m:\u001b[0m\u001b[0;34m\u001b[0m\u001b[0;34m\u001b[0m\u001b[0m\n\u001b[0;32m-> 3584\u001b[0;31m                 \u001b[0marg\u001b[0m\u001b[0;34m,\u001b[0m \u001b[0marghit\u001b[0m \u001b[0;34m=\u001b[0m \u001b[0mExpr\u001b[0m\u001b[0;34m.\u001b[0m\u001b[0m_expand_hint\u001b[0m\u001b[0;34m(\u001b[0m\u001b[0marg\u001b[0m\u001b[0;34m,\u001b[0m \u001b[0mhint\u001b[0m\u001b[0;34m,\u001b[0m \u001b[0;34m**\u001b[0m\u001b[0mhints\u001b[0m\u001b[0;34m)\u001b[0m\u001b[0;34m\u001b[0m\u001b[0;34m\u001b[0m\u001b[0m\n\u001b[0m\u001b[1;32m   3585\u001b[0m                 \u001b[0mhit\u001b[0m \u001b[0;34m|=\u001b[0m \u001b[0marghit\u001b[0m\u001b[0;34m\u001b[0m\u001b[0;34m\u001b[0m\u001b[0m\n\u001b[1;32m   3586\u001b[0m                 \u001b[0msargs\u001b[0m\u001b[0;34m.\u001b[0m\u001b[0mappend\u001b[0m\u001b[0;34m(\u001b[0m\u001b[0marg\u001b[0m\u001b[0;34m)\u001b[0m\u001b[0;34m\u001b[0m\u001b[0;34m\u001b[0m\u001b[0m\n",
      "\u001b[0;32m/opt/anaconda3/envs/yunwei/lib/python3.9/site-packages/sympy/core/expr.py\u001b[0m in \u001b[0;36m_expand_hint\u001b[0;34m(expr, hint, deep, **hints)\u001b[0m\n\u001b[1;32m   3590\u001b[0m \u001b[0;34m\u001b[0m\u001b[0m\n\u001b[1;32m   3591\u001b[0m         \u001b[0;32mif\u001b[0m \u001b[0mhasattr\u001b[0m\u001b[0;34m(\u001b[0m\u001b[0mexpr\u001b[0m\u001b[0;34m,\u001b[0m \u001b[0mhint\u001b[0m\u001b[0;34m)\u001b[0m\u001b[0;34m:\u001b[0m\u001b[0;34m\u001b[0m\u001b[0;34m\u001b[0m\u001b[0m\n\u001b[0;32m-> 3592\u001b[0;31m             \u001b[0mnewexpr\u001b[0m \u001b[0;34m=\u001b[0m \u001b[0mgetattr\u001b[0m\u001b[0;34m(\u001b[0m\u001b[0mexpr\u001b[0m\u001b[0;34m,\u001b[0m \u001b[0mhint\u001b[0m\u001b[0;34m)\u001b[0m\u001b[0;34m(\u001b[0m\u001b[0;34m**\u001b[0m\u001b[0mhints\u001b[0m\u001b[0;34m)\u001b[0m\u001b[0;34m\u001b[0m\u001b[0;34m\u001b[0m\u001b[0m\n\u001b[0m\u001b[1;32m   3593\u001b[0m             \u001b[0;32mif\u001b[0m \u001b[0mnewexpr\u001b[0m \u001b[0;34m!=\u001b[0m \u001b[0mexpr\u001b[0m\u001b[0;34m:\u001b[0m\u001b[0;34m\u001b[0m\u001b[0;34m\u001b[0m\u001b[0m\n\u001b[1;32m   3594\u001b[0m                 \u001b[0;32mreturn\u001b[0m \u001b[0;34m(\u001b[0m\u001b[0mnewexpr\u001b[0m\u001b[0;34m,\u001b[0m \u001b[0;32mTrue\u001b[0m\u001b[0;34m)\u001b[0m\u001b[0;34m\u001b[0m\u001b[0;34m\u001b[0m\u001b[0m\n",
      "\u001b[0;32m/opt/anaconda3/envs/yunwei/lib/python3.9/site-packages/sympy/core/mul.py\u001b[0m in \u001b[0;36m_eval_expand_mul\u001b[0;34m(self, **hints)\u001b[0m\n\u001b[1;32m    945\u001b[0m             \u001b[0;32mif\u001b[0m \u001b[0msums\u001b[0m\u001b[0;34m:\u001b[0m\u001b[0;34m\u001b[0m\u001b[0;34m\u001b[0m\u001b[0m\n\u001b[1;32m    946\u001b[0m                 \u001b[0mdeep\u001b[0m \u001b[0;34m=\u001b[0m \u001b[0mhints\u001b[0m\u001b[0;34m.\u001b[0m\u001b[0mget\u001b[0m\u001b[0;34m(\u001b[0m\u001b[0;34m\"deep\"\u001b[0m\u001b[0;34m,\u001b[0m \u001b[0;32mFalse\u001b[0m\u001b[0;34m)\u001b[0m\u001b[0;34m\u001b[0m\u001b[0;34m\u001b[0m\u001b[0m\n\u001b[0;32m--> 947\u001b[0;31m                 \u001b[0mterms\u001b[0m \u001b[0;34m=\u001b[0m \u001b[0mself\u001b[0m\u001b[0;34m.\u001b[0m\u001b[0mfunc\u001b[0m\u001b[0;34m.\u001b[0m\u001b[0m_expandsums\u001b[0m\u001b[0;34m(\u001b[0m\u001b[0msums\u001b[0m\u001b[0;34m)\u001b[0m\u001b[0;34m\u001b[0m\u001b[0;34m\u001b[0m\u001b[0m\n\u001b[0m\u001b[1;32m    948\u001b[0m                 \u001b[0margs\u001b[0m \u001b[0;34m=\u001b[0m \u001b[0;34m[\u001b[0m\u001b[0;34m]\u001b[0m\u001b[0;34m\u001b[0m\u001b[0;34m\u001b[0m\u001b[0m\n\u001b[1;32m    949\u001b[0m                 \u001b[0;32mfor\u001b[0m \u001b[0mterm\u001b[0m \u001b[0;32min\u001b[0m \u001b[0mterms\u001b[0m\u001b[0;34m:\u001b[0m\u001b[0;34m\u001b[0m\u001b[0;34m\u001b[0m\u001b[0m\n",
      "\u001b[0;32m/opt/anaconda3/envs/yunwei/lib/python3.9/site-packages/sympy/core/mul.py\u001b[0m in \u001b[0;36m_expandsums\u001b[0;34m(sums)\u001b[0m\n\u001b[1;32m    907\u001b[0m             \u001b[0;32mreturn\u001b[0m \u001b[0msums\u001b[0m\u001b[0;34m[\u001b[0m\u001b[0;36m0\u001b[0m\u001b[0;34m]\u001b[0m\u001b[0;34m.\u001b[0m\u001b[0margs\u001b[0m\u001b[0;34m\u001b[0m\u001b[0;34m\u001b[0m\u001b[0m\n\u001b[1;32m    908\u001b[0m         \u001b[0mterms\u001b[0m \u001b[0;34m=\u001b[0m \u001b[0;34m[\u001b[0m\u001b[0;34m]\u001b[0m\u001b[0;34m\u001b[0m\u001b[0;34m\u001b[0m\u001b[0m\n\u001b[0;32m--> 909\u001b[0;31m         \u001b[0mleft\u001b[0m \u001b[0;34m=\u001b[0m \u001b[0mMul\u001b[0m\u001b[0;34m.\u001b[0m\u001b[0m_expandsums\u001b[0m\u001b[0;34m(\u001b[0m\u001b[0msums\u001b[0m\u001b[0;34m[\u001b[0m\u001b[0;34m:\u001b[0m\u001b[0mL\u001b[0m\u001b[0;34m//\u001b[0m\u001b[0;36m2\u001b[0m\u001b[0;34m]\u001b[0m\u001b[0;34m)\u001b[0m\u001b[0;34m\u001b[0m\u001b[0;34m\u001b[0m\u001b[0m\n\u001b[0m\u001b[1;32m    910\u001b[0m         \u001b[0mright\u001b[0m \u001b[0;34m=\u001b[0m \u001b[0mMul\u001b[0m\u001b[0;34m.\u001b[0m\u001b[0m_expandsums\u001b[0m\u001b[0;34m(\u001b[0m\u001b[0msums\u001b[0m\u001b[0;34m[\u001b[0m\u001b[0mL\u001b[0m\u001b[0;34m//\u001b[0m\u001b[0;36m2\u001b[0m\u001b[0;34m:\u001b[0m\u001b[0;34m]\u001b[0m\u001b[0;34m)\u001b[0m\u001b[0;34m\u001b[0m\u001b[0;34m\u001b[0m\u001b[0m\n\u001b[1;32m    911\u001b[0m \u001b[0;34m\u001b[0m\u001b[0m\n",
      "\u001b[0;32m/opt/anaconda3/envs/yunwei/lib/python3.9/site-packages/sympy/core/mul.py\u001b[0m in \u001b[0;36m_expandsums\u001b[0;34m(sums)\u001b[0m\n\u001b[1;32m    910\u001b[0m         \u001b[0mright\u001b[0m \u001b[0;34m=\u001b[0m \u001b[0mMul\u001b[0m\u001b[0;34m.\u001b[0m\u001b[0m_expandsums\u001b[0m\u001b[0;34m(\u001b[0m\u001b[0msums\u001b[0m\u001b[0;34m[\u001b[0m\u001b[0mL\u001b[0m\u001b[0;34m//\u001b[0m\u001b[0;36m2\u001b[0m\u001b[0;34m:\u001b[0m\u001b[0;34m]\u001b[0m\u001b[0;34m)\u001b[0m\u001b[0;34m\u001b[0m\u001b[0;34m\u001b[0m\u001b[0m\n\u001b[1;32m    911\u001b[0m \u001b[0;34m\u001b[0m\u001b[0m\n\u001b[0;32m--> 912\u001b[0;31m         \u001b[0mterms\u001b[0m \u001b[0;34m=\u001b[0m \u001b[0;34m[\u001b[0m\u001b[0mMul\u001b[0m\u001b[0;34m(\u001b[0m\u001b[0ma\u001b[0m\u001b[0;34m,\u001b[0m \u001b[0mb\u001b[0m\u001b[0;34m)\u001b[0m \u001b[0;32mfor\u001b[0m \u001b[0ma\u001b[0m \u001b[0;32min\u001b[0m \u001b[0mleft\u001b[0m \u001b[0;32mfor\u001b[0m \u001b[0mb\u001b[0m \u001b[0;32min\u001b[0m \u001b[0mright\u001b[0m\u001b[0;34m]\u001b[0m\u001b[0;34m\u001b[0m\u001b[0;34m\u001b[0m\u001b[0m\n\u001b[0m\u001b[1;32m    913\u001b[0m         \u001b[0madded\u001b[0m \u001b[0;34m=\u001b[0m \u001b[0mAdd\u001b[0m\u001b[0;34m(\u001b[0m\u001b[0;34m*\u001b[0m\u001b[0mterms\u001b[0m\u001b[0;34m)\u001b[0m\u001b[0;34m\u001b[0m\u001b[0;34m\u001b[0m\u001b[0m\n\u001b[1;32m    914\u001b[0m         \u001b[0;32mreturn\u001b[0m \u001b[0mAdd\u001b[0m\u001b[0;34m.\u001b[0m\u001b[0mmake_args\u001b[0m\u001b[0;34m(\u001b[0m\u001b[0madded\u001b[0m\u001b[0;34m)\u001b[0m  \u001b[0;31m# it may have collapsed down to one term\u001b[0m\u001b[0;34m\u001b[0m\u001b[0;34m\u001b[0m\u001b[0m\n",
      "\u001b[0;32m/opt/anaconda3/envs/yunwei/lib/python3.9/site-packages/sympy/core/mul.py\u001b[0m in \u001b[0;36m<listcomp>\u001b[0;34m(.0)\u001b[0m\n\u001b[1;32m    910\u001b[0m         \u001b[0mright\u001b[0m \u001b[0;34m=\u001b[0m \u001b[0mMul\u001b[0m\u001b[0;34m.\u001b[0m\u001b[0m_expandsums\u001b[0m\u001b[0;34m(\u001b[0m\u001b[0msums\u001b[0m\u001b[0;34m[\u001b[0m\u001b[0mL\u001b[0m\u001b[0;34m//\u001b[0m\u001b[0;36m2\u001b[0m\u001b[0;34m:\u001b[0m\u001b[0;34m]\u001b[0m\u001b[0;34m)\u001b[0m\u001b[0;34m\u001b[0m\u001b[0;34m\u001b[0m\u001b[0m\n\u001b[1;32m    911\u001b[0m \u001b[0;34m\u001b[0m\u001b[0m\n\u001b[0;32m--> 912\u001b[0;31m         \u001b[0mterms\u001b[0m \u001b[0;34m=\u001b[0m \u001b[0;34m[\u001b[0m\u001b[0mMul\u001b[0m\u001b[0;34m(\u001b[0m\u001b[0ma\u001b[0m\u001b[0;34m,\u001b[0m \u001b[0mb\u001b[0m\u001b[0;34m)\u001b[0m \u001b[0;32mfor\u001b[0m \u001b[0ma\u001b[0m \u001b[0;32min\u001b[0m \u001b[0mleft\u001b[0m \u001b[0;32mfor\u001b[0m \u001b[0mb\u001b[0m \u001b[0;32min\u001b[0m \u001b[0mright\u001b[0m\u001b[0;34m]\u001b[0m\u001b[0;34m\u001b[0m\u001b[0;34m\u001b[0m\u001b[0m\n\u001b[0m\u001b[1;32m    913\u001b[0m         \u001b[0madded\u001b[0m \u001b[0;34m=\u001b[0m \u001b[0mAdd\u001b[0m\u001b[0;34m(\u001b[0m\u001b[0;34m*\u001b[0m\u001b[0mterms\u001b[0m\u001b[0;34m)\u001b[0m\u001b[0;34m\u001b[0m\u001b[0;34m\u001b[0m\u001b[0m\n\u001b[1;32m    914\u001b[0m         \u001b[0;32mreturn\u001b[0m \u001b[0mAdd\u001b[0m\u001b[0;34m.\u001b[0m\u001b[0mmake_args\u001b[0m\u001b[0;34m(\u001b[0m\u001b[0madded\u001b[0m\u001b[0;34m)\u001b[0m  \u001b[0;31m# it may have collapsed down to one term\u001b[0m\u001b[0;34m\u001b[0m\u001b[0;34m\u001b[0m\u001b[0m\n",
      "\u001b[0;32m/opt/anaconda3/envs/yunwei/lib/python3.9/site-packages/sympy/core/cache.py\u001b[0m in \u001b[0;36mwrapper\u001b[0;34m(*args, **kwargs)\u001b[0m\n\u001b[1;32m     68\u001b[0m         \u001b[0;32mdef\u001b[0m \u001b[0mwrapper\u001b[0m\u001b[0;34m(\u001b[0m\u001b[0;34m*\u001b[0m\u001b[0margs\u001b[0m\u001b[0;34m,\u001b[0m \u001b[0;34m**\u001b[0m\u001b[0mkwargs\u001b[0m\u001b[0;34m)\u001b[0m\u001b[0;34m:\u001b[0m\u001b[0;34m\u001b[0m\u001b[0;34m\u001b[0m\u001b[0m\n\u001b[1;32m     69\u001b[0m             \u001b[0;32mtry\u001b[0m\u001b[0;34m:\u001b[0m\u001b[0;34m\u001b[0m\u001b[0;34m\u001b[0m\u001b[0m\n\u001b[0;32m---> 70\u001b[0;31m                 \u001b[0mretval\u001b[0m \u001b[0;34m=\u001b[0m \u001b[0mcfunc\u001b[0m\u001b[0;34m(\u001b[0m\u001b[0;34m*\u001b[0m\u001b[0margs\u001b[0m\u001b[0;34m,\u001b[0m \u001b[0;34m**\u001b[0m\u001b[0mkwargs\u001b[0m\u001b[0;34m)\u001b[0m\u001b[0;34m\u001b[0m\u001b[0;34m\u001b[0m\u001b[0m\n\u001b[0m\u001b[1;32m     71\u001b[0m             \u001b[0;32mexcept\u001b[0m \u001b[0mTypeError\u001b[0m \u001b[0;32mas\u001b[0m \u001b[0me\u001b[0m\u001b[0;34m:\u001b[0m\u001b[0;34m\u001b[0m\u001b[0;34m\u001b[0m\u001b[0m\n\u001b[1;32m     72\u001b[0m                 \u001b[0;32mif\u001b[0m \u001b[0;32mnot\u001b[0m \u001b[0me\u001b[0m\u001b[0;34m.\u001b[0m\u001b[0margs\u001b[0m \u001b[0;32mor\u001b[0m \u001b[0;32mnot\u001b[0m \u001b[0me\u001b[0m\u001b[0;34m.\u001b[0m\u001b[0margs\u001b[0m\u001b[0;34m[\u001b[0m\u001b[0;36m0\u001b[0m\u001b[0;34m]\u001b[0m\u001b[0;34m.\u001b[0m\u001b[0mstartswith\u001b[0m\u001b[0;34m(\u001b[0m\u001b[0;34m'unhashable type:'\u001b[0m\u001b[0;34m)\u001b[0m\u001b[0;34m:\u001b[0m\u001b[0;34m\u001b[0m\u001b[0;34m\u001b[0m\u001b[0m\n",
      "\u001b[0;32m/opt/anaconda3/envs/yunwei/lib/python3.9/site-packages/sympy/core/operations.py\u001b[0m in \u001b[0;36m__new__\u001b[0;34m(cls, evaluate, _sympify, *args)\u001b[0m\n\u001b[1;32m     96\u001b[0m             \u001b[0;32mreturn\u001b[0m \u001b[0margs\u001b[0m\u001b[0;34m[\u001b[0m\u001b[0;36m0\u001b[0m\u001b[0;34m]\u001b[0m\u001b[0;34m\u001b[0m\u001b[0;34m\u001b[0m\u001b[0m\n\u001b[1;32m     97\u001b[0m \u001b[0;34m\u001b[0m\u001b[0m\n\u001b[0;32m---> 98\u001b[0;31m         \u001b[0mc_part\u001b[0m\u001b[0;34m,\u001b[0m \u001b[0mnc_part\u001b[0m\u001b[0;34m,\u001b[0m \u001b[0morder_symbols\u001b[0m \u001b[0;34m=\u001b[0m \u001b[0mcls\u001b[0m\u001b[0;34m.\u001b[0m\u001b[0mflatten\u001b[0m\u001b[0;34m(\u001b[0m\u001b[0margs\u001b[0m\u001b[0;34m)\u001b[0m\u001b[0;34m\u001b[0m\u001b[0;34m\u001b[0m\u001b[0m\n\u001b[0m\u001b[1;32m     99\u001b[0m         \u001b[0mis_commutative\u001b[0m \u001b[0;34m=\u001b[0m \u001b[0;32mnot\u001b[0m \u001b[0mnc_part\u001b[0m\u001b[0;34m\u001b[0m\u001b[0;34m\u001b[0m\u001b[0m\n\u001b[1;32m    100\u001b[0m         \u001b[0mobj\u001b[0m \u001b[0;34m=\u001b[0m \u001b[0mcls\u001b[0m\u001b[0;34m.\u001b[0m\u001b[0m_from_args\u001b[0m\u001b[0;34m(\u001b[0m\u001b[0mc_part\u001b[0m \u001b[0;34m+\u001b[0m \u001b[0mnc_part\u001b[0m\u001b[0;34m,\u001b[0m \u001b[0mis_commutative\u001b[0m\u001b[0;34m)\u001b[0m\u001b[0;34m\u001b[0m\u001b[0;34m\u001b[0m\u001b[0m\n",
      "\u001b[0;32m/opt/anaconda3/envs/yunwei/lib/python3.9/site-packages/sympy/core/mul.py\u001b[0m in \u001b[0;36mflatten\u001b[0;34m(cls, seq)\u001b[0m\n\u001b[1;32m    654\u001b[0m \u001b[0;34m\u001b[0m\u001b[0m\n\u001b[1;32m    655\u001b[0m         \u001b[0;31m# oo, -oo\u001b[0m\u001b[0;34m\u001b[0m\u001b[0;34m\u001b[0m\u001b[0m\n\u001b[0;32m--> 656\u001b[0;31m         \u001b[0;32mif\u001b[0m \u001b[0mcoeff\u001b[0m \u001b[0;32min\u001b[0m \u001b[0;34m(\u001b[0m\u001b[0mS\u001b[0m\u001b[0;34m.\u001b[0m\u001b[0mInfinity\u001b[0m\u001b[0;34m,\u001b[0m \u001b[0mS\u001b[0m\u001b[0;34m.\u001b[0m\u001b[0mNegativeInfinity\u001b[0m\u001b[0;34m)\u001b[0m\u001b[0;34m:\u001b[0m\u001b[0;34m\u001b[0m\u001b[0;34m\u001b[0m\u001b[0m\n\u001b[0m\u001b[1;32m    657\u001b[0m             \u001b[0;32mdef\u001b[0m \u001b[0m_handle_for_oo\u001b[0m\u001b[0;34m(\u001b[0m\u001b[0mc_part\u001b[0m\u001b[0;34m,\u001b[0m \u001b[0mcoeff_sign\u001b[0m\u001b[0;34m)\u001b[0m\u001b[0;34m:\u001b[0m\u001b[0;34m\u001b[0m\u001b[0;34m\u001b[0m\u001b[0m\n\u001b[1;32m    658\u001b[0m                 \u001b[0mnew_c_part\u001b[0m \u001b[0;34m=\u001b[0m \u001b[0;34m[\u001b[0m\u001b[0;34m]\u001b[0m\u001b[0;34m\u001b[0m\u001b[0;34m\u001b[0m\u001b[0m\n",
      "\u001b[0;32m/opt/anaconda3/envs/yunwei/lib/python3.9/site-packages/sympy/core/numbers.py\u001b[0m in \u001b[0;36m__eq__\u001b[0;34m(self, other)\u001b[0m\n\u001b[1;32m   3582\u001b[0m \u001b[0;34m\u001b[0m\u001b[0m\n\u001b[1;32m   3583\u001b[0m     \u001b[0;32mdef\u001b[0m \u001b[0m__eq__\u001b[0m\u001b[0;34m(\u001b[0m\u001b[0mself\u001b[0m\u001b[0;34m,\u001b[0m \u001b[0mother\u001b[0m\u001b[0;34m)\u001b[0m\u001b[0;34m:\u001b[0m\u001b[0;34m\u001b[0m\u001b[0;34m\u001b[0m\u001b[0m\n\u001b[0;32m-> 3584\u001b[0;31m         \u001b[0;32mreturn\u001b[0m \u001b[0mother\u001b[0m \u001b[0;32mis\u001b[0m \u001b[0mS\u001b[0m\u001b[0;34m.\u001b[0m\u001b[0mNegativeInfinity\u001b[0m \u001b[0;32mor\u001b[0m \u001b[0mother\u001b[0m \u001b[0;34m==\u001b[0m \u001b[0mfloat\u001b[0m\u001b[0;34m(\u001b[0m\u001b[0;34m'-inf'\u001b[0m\u001b[0;34m)\u001b[0m\u001b[0;34m\u001b[0m\u001b[0;34m\u001b[0m\u001b[0m\n\u001b[0m\u001b[1;32m   3585\u001b[0m \u001b[0;34m\u001b[0m\u001b[0m\n\u001b[1;32m   3586\u001b[0m     \u001b[0;32mdef\u001b[0m \u001b[0m__ne__\u001b[0m\u001b[0;34m(\u001b[0m\u001b[0mself\u001b[0m\u001b[0;34m,\u001b[0m \u001b[0mother\u001b[0m\u001b[0;34m)\u001b[0m\u001b[0;34m:\u001b[0m\u001b[0;34m\u001b[0m\u001b[0;34m\u001b[0m\u001b[0m\n",
      "\u001b[0;32m/opt/anaconda3/envs/yunwei/lib/python3.9/site-packages/sympy/core/numbers.py\u001b[0m in \u001b[0;36m__eq__\u001b[0;34m(self, other)\u001b[0m\n\u001b[1;32m   2241\u001b[0m         \u001b[0;32melif\u001b[0m \u001b[0misinstance\u001b[0m\u001b[0;34m(\u001b[0m\u001b[0mother\u001b[0m\u001b[0;34m,\u001b[0m \u001b[0mInteger\u001b[0m\u001b[0;34m)\u001b[0m\u001b[0;34m:\u001b[0m\u001b[0;34m\u001b[0m\u001b[0;34m\u001b[0m\u001b[0m\n\u001b[1;32m   2242\u001b[0m             \u001b[0;32mreturn\u001b[0m \u001b[0;34m(\u001b[0m\u001b[0mself\u001b[0m\u001b[0;34m.\u001b[0m\u001b[0mp\u001b[0m \u001b[0;34m==\u001b[0m \u001b[0mother\u001b[0m\u001b[0;34m.\u001b[0m\u001b[0mp\u001b[0m\u001b[0;34m)\u001b[0m\u001b[0;34m\u001b[0m\u001b[0;34m\u001b[0m\u001b[0m\n\u001b[0;32m-> 2243\u001b[0;31m         \u001b[0;32mreturn\u001b[0m \u001b[0mRational\u001b[0m\u001b[0;34m.\u001b[0m\u001b[0m__eq__\u001b[0m\u001b[0;34m(\u001b[0m\u001b[0mself\u001b[0m\u001b[0;34m,\u001b[0m \u001b[0mother\u001b[0m\u001b[0;34m)\u001b[0m\u001b[0;34m\u001b[0m\u001b[0;34m\u001b[0m\u001b[0m\n\u001b[0m\u001b[1;32m   2244\u001b[0m \u001b[0;34m\u001b[0m\u001b[0m\n\u001b[1;32m   2245\u001b[0m     \u001b[0;32mdef\u001b[0m \u001b[0m__ne__\u001b[0m\u001b[0;34m(\u001b[0m\u001b[0mself\u001b[0m\u001b[0;34m,\u001b[0m \u001b[0mother\u001b[0m\u001b[0;34m)\u001b[0m\u001b[0;34m:\u001b[0m\u001b[0;34m\u001b[0m\u001b[0;34m\u001b[0m\u001b[0m\n",
      "\u001b[0;32m/opt/anaconda3/envs/yunwei/lib/python3.9/site-packages/sympy/core/numbers.py\u001b[0m in \u001b[0;36m__eq__\u001b[0;34m(self, other)\u001b[0m\n\u001b[1;32m   1867\u001b[0m     \u001b[0;32mdef\u001b[0m \u001b[0m__eq__\u001b[0m\u001b[0;34m(\u001b[0m\u001b[0mself\u001b[0m\u001b[0;34m,\u001b[0m \u001b[0mother\u001b[0m\u001b[0;34m)\u001b[0m\u001b[0;34m:\u001b[0m\u001b[0;34m\u001b[0m\u001b[0;34m\u001b[0m\u001b[0m\n\u001b[1;32m   1868\u001b[0m         \u001b[0;32mtry\u001b[0m\u001b[0;34m:\u001b[0m\u001b[0;34m\u001b[0m\u001b[0;34m\u001b[0m\u001b[0m\n\u001b[0;32m-> 1869\u001b[0;31m             \u001b[0mother\u001b[0m \u001b[0;34m=\u001b[0m \u001b[0m_sympify\u001b[0m\u001b[0;34m(\u001b[0m\u001b[0mother\u001b[0m\u001b[0;34m)\u001b[0m\u001b[0;34m\u001b[0m\u001b[0;34m\u001b[0m\u001b[0m\n\u001b[0m\u001b[1;32m   1870\u001b[0m         \u001b[0;32mexcept\u001b[0m \u001b[0mSympifyError\u001b[0m\u001b[0;34m:\u001b[0m\u001b[0;34m\u001b[0m\u001b[0;34m\u001b[0m\u001b[0m\n\u001b[1;32m   1871\u001b[0m             \u001b[0;32mreturn\u001b[0m \u001b[0mNotImplemented\u001b[0m\u001b[0;34m\u001b[0m\u001b[0;34m\u001b[0m\u001b[0m\n",
      "\u001b[0;32m/opt/anaconda3/envs/yunwei/lib/python3.9/site-packages/sympy/core/sympify.py\u001b[0m in \u001b[0;36m_sympify\u001b[0;34m(a)\u001b[0m\n\u001b[1;32m    527\u001b[0m \u001b[0;34m\u001b[0m\u001b[0m\n\u001b[1;32m    528\u001b[0m     \"\"\"\n\u001b[0;32m--> 529\u001b[0;31m     \u001b[0;32mreturn\u001b[0m \u001b[0msympify\u001b[0m\u001b[0;34m(\u001b[0m\u001b[0ma\u001b[0m\u001b[0;34m,\u001b[0m \u001b[0mstrict\u001b[0m\u001b[0;34m=\u001b[0m\u001b[0;32mTrue\u001b[0m\u001b[0;34m)\u001b[0m\u001b[0;34m\u001b[0m\u001b[0;34m\u001b[0m\u001b[0m\n\u001b[0m\u001b[1;32m    530\u001b[0m \u001b[0;34m\u001b[0m\u001b[0m\n\u001b[1;32m    531\u001b[0m \u001b[0;34m\u001b[0m\u001b[0m\n",
      "\u001b[0;32m/opt/anaconda3/envs/yunwei/lib/python3.9/site-packages/sympy/core/sympify.py\u001b[0m in \u001b[0;36msympify\u001b[0;34m(a, locals, convert_xor, strict, rational, evaluate)\u001b[0m\n\u001b[1;32m    382\u001b[0m             \u001b[0mconv\u001b[0m \u001b[0;34m=\u001b[0m \u001b[0m_sympy_converter\u001b[0m\u001b[0;34m.\u001b[0m\u001b[0mget\u001b[0m\u001b[0;34m(\u001b[0m\u001b[0msuperclass\u001b[0m\u001b[0;34m)\u001b[0m\u001b[0;34m\u001b[0m\u001b[0;34m\u001b[0m\u001b[0m\n\u001b[1;32m    383\u001b[0m         \u001b[0;32mif\u001b[0m \u001b[0mconv\u001b[0m \u001b[0;32mis\u001b[0m \u001b[0;32mnot\u001b[0m \u001b[0;32mNone\u001b[0m\u001b[0;34m:\u001b[0m\u001b[0;34m\u001b[0m\u001b[0;34m\u001b[0m\u001b[0m\n\u001b[0;32m--> 384\u001b[0;31m             \u001b[0;32mreturn\u001b[0m \u001b[0mconv\u001b[0m\u001b[0;34m(\u001b[0m\u001b[0ma\u001b[0m\u001b[0;34m)\u001b[0m\u001b[0;34m\u001b[0m\u001b[0;34m\u001b[0m\u001b[0m\n\u001b[0m\u001b[1;32m    385\u001b[0m \u001b[0;34m\u001b[0m\u001b[0m\n\u001b[1;32m    386\u001b[0m     \u001b[0;32mif\u001b[0m \u001b[0mcls\u001b[0m \u001b[0;32mis\u001b[0m \u001b[0mtype\u001b[0m\u001b[0;34m(\u001b[0m\u001b[0;32mNone\u001b[0m\u001b[0;34m)\u001b[0m\u001b[0;34m:\u001b[0m\u001b[0;34m\u001b[0m\u001b[0;34m\u001b[0m\u001b[0m\n",
      "\u001b[0;32m/opt/anaconda3/envs/yunwei/lib/python3.9/site-packages/sympy/core/numbers.py\u001b[0m in \u001b[0;36m__new__\u001b[0;34m(cls, num, dps, precision)\u001b[0m\n\u001b[1;32m   1048\u001b[0m             \u001b[0;32melif\u001b[0m \u001b[0mnum\u001b[0m \u001b[0;34m==\u001b[0m \u001b[0;34m'-inf'\u001b[0m\u001b[0;34m:\u001b[0m\u001b[0;34m\u001b[0m\u001b[0;34m\u001b[0m\u001b[0m\n\u001b[1;32m   1049\u001b[0m                 \u001b[0;32mreturn\u001b[0m \u001b[0mS\u001b[0m\u001b[0;34m.\u001b[0m\u001b[0mNegativeInfinity\u001b[0m\u001b[0;34m\u001b[0m\u001b[0;34m\u001b[0m\u001b[0m\n\u001b[0;32m-> 1050\u001b[0;31m         \u001b[0;32melif\u001b[0m \u001b[0misinstance\u001b[0m\u001b[0;34m(\u001b[0m\u001b[0mnum\u001b[0m\u001b[0;34m,\u001b[0m \u001b[0mfloat\u001b[0m\u001b[0;34m)\u001b[0m \u001b[0;32mand\u001b[0m \u001b[0mnum\u001b[0m \u001b[0;34m==\u001b[0m \u001b[0;36m0\u001b[0m\u001b[0;34m:\u001b[0m\u001b[0;34m\u001b[0m\u001b[0;34m\u001b[0m\u001b[0m\n\u001b[0m\u001b[1;32m   1051\u001b[0m             \u001b[0mnum\u001b[0m \u001b[0;34m=\u001b[0m \u001b[0;34m'0'\u001b[0m\u001b[0;34m\u001b[0m\u001b[0;34m\u001b[0m\u001b[0m\n\u001b[1;32m   1052\u001b[0m         \u001b[0;32melif\u001b[0m \u001b[0misinstance\u001b[0m\u001b[0;34m(\u001b[0m\u001b[0mnum\u001b[0m\u001b[0;34m,\u001b[0m \u001b[0mfloat\u001b[0m\u001b[0;34m)\u001b[0m \u001b[0;32mand\u001b[0m \u001b[0mnum\u001b[0m \u001b[0;34m==\u001b[0m \u001b[0mfloat\u001b[0m\u001b[0;34m(\u001b[0m\u001b[0;34m'inf'\u001b[0m\u001b[0;34m)\u001b[0m\u001b[0;34m:\u001b[0m\u001b[0;34m\u001b[0m\u001b[0;34m\u001b[0m\u001b[0m\n",
      "\u001b[0;31mKeyboardInterrupt\u001b[0m: "
     ]
    }
   ],
   "source": [
    "E =ck.expand().simplify()\n",
    "x = symbols('x', real=True)\n",
    "y= symbols('y', real=True)\n",
    "E=E.subs(g3**2,x*omega**2)\n",
    "E=E.subs(alpha,y*omegap)\n",
    "from sympy import symbols, diff\n",
    "f_0 = E.subs({x: 0, y: 0})\n",
    "df_dx = diff(E, x).subs({x: 0, y: 0}) * (x - 0)\n",
    "df_dy = diff(E, y).subs({x: 0, y: 0}) * (y - 0)\n",
    "\n",
    "taylor_first_order = f_0 + df_dx + df_dy\n",
    "\n",
    "kerr = taylor_first_order.expand().subs(y,alpha/omegap).subs(x,g3**2/omega**2)"
   ]
  },
  {
   "cell_type": "code",
   "execution_count": null,
   "id": "d23150bd",
   "metadata": {},
   "outputs": [],
   "source": [
    "kerr.simplify().simplify()"
   ]
  },
  {
   "cell_type": "code",
   "execution_count": null,
   "id": "465e0fb4",
   "metadata": {},
   "outputs": [],
   "source": [
    "energy_four(nb1+1)"
   ]
  }
 ],
 "metadata": {
  "kernelspec": {
   "display_name": "Python 3 (ipykernel)",
   "language": "python",
   "name": "python3"
  },
  "language_info": {
   "codemirror_mode": {
    "name": "ipython",
    "version": 3
   },
   "file_extension": ".py",
   "mimetype": "text/x-python",
   "name": "python",
   "nbconvert_exporter": "python",
   "pygments_lexer": "ipython3",
   "version": "3.9.7"
  }
 },
 "nbformat": 4,
 "nbformat_minor": 5
}
