{
 "cells": [
  {
   "cell_type": "code",
   "execution_count": 499,
   "id": "27ca754a-9d30-4a6d-8054-db633309ef22",
   "metadata": {
    "execution": {
     "iopub.execute_input": "2023-09-28T17:14:37.936090Z",
     "iopub.status.busy": "2023-09-28T17:14:37.935208Z",
     "iopub.status.idle": "2023-09-28T17:14:38.446588Z",
     "shell.execute_reply": "2023-09-28T17:14:38.446295Z",
     "shell.execute_reply.started": "2023-09-28T17:14:37.936022Z"
    },
    "tags": []
   },
   "outputs": [],
   "source": [
    "from sympy.physics.secondquant import *\n",
    "from sympy import symbols,I\n",
    "import sympy as sp\n",
    "from no import normal"
   ]
  },
  {
   "cell_type": "code",
   "execution_count": 500,
   "id": "bee929bb-cb95-42cf-8cfc-b637ef21834a",
   "metadata": {
    "execution": {
     "iopub.execute_input": "2023-09-28T17:14:38.447473Z",
     "iopub.status.busy": "2023-09-28T17:14:38.447338Z",
     "iopub.status.idle": "2023-09-28T17:14:38.449416Z",
     "shell.execute_reply": "2023-09-28T17:14:38.449124Z",
     "shell.execute_reply.started": "2023-09-28T17:14:38.447464Z"
    },
    "tags": []
   },
   "outputs": [],
   "source": [
    "ind_a = symbols('a')\n",
    "a = B(ind_a)\n",
    "ad = Bd(ind_a)"
   ]
  },
  {
   "cell_type": "code",
   "execution_count": 501,
   "id": "bd55f7a7-b1e1-4a35-94cb-263462a7bec0",
   "metadata": {
    "execution": {
     "iopub.execute_input": "2023-09-28T17:14:38.647253Z",
     "iopub.status.busy": "2023-09-28T17:14:38.646548Z",
     "iopub.status.idle": "2023-09-28T17:14:38.656755Z",
     "shell.execute_reply": "2023-09-28T17:14:38.655780Z",
     "shell.execute_reply.started": "2023-09-28T17:14:38.647225Z"
    },
    "tags": []
   },
   "outputs": [],
   "source": [
    "g3 = symbols('g3', real=True)\n",
    "g4 = symbols('g4', real=True)\n",
    "g5 = symbols('g5', real=True)\n",
    "g6 = symbols('g6', real=True)\n",
    "omega = symbols('omega', real=True)\n",
    "kappa = symbols('kappa', real=True)\n",
    "v = normal(g3 * (a+ad)**3 +g4*(a+ad)**4  )\n",
    "h0 = omega * ad * a"
   ]
  },
  {
   "cell_type": "code",
   "execution_count": 502,
   "id": "94dc5462",
   "metadata": {},
   "outputs": [
    {
     "data": {
      "text/latex": [
       "$\\displaystyle 3 g_{3} b_{a} + g_{3} b_{a}^{3} + 3 g_{3} {b^\\dagger_{a}} + 3 g_{3} {b^\\dagger_{a}} b_{a}^{2} + 3 g_{3} {b^\\dagger_{a}}^{2} b_{a} + g_{3} {b^\\dagger_{a}}^{3} + 3 g_{4} + 6 g_{4} b_{a}^{2} + g_{4} b_{a}^{4} + 12 g_{4} {b^\\dagger_{a}} b_{a} + 4 g_{4} {b^\\dagger_{a}} b_{a}^{3} + 6 g_{4} {b^\\dagger_{a}}^{2} + 6 g_{4} {b^\\dagger_{a}}^{2} b_{a}^{2} + 4 g_{4} {b^\\dagger_{a}}^{3} b_{a} + g_{4} {b^\\dagger_{a}}^{4}$"
      ],
      "text/plain": [
       "3*g3*AnnihilateBoson(a) + g3*AnnihilateBoson(a)**3 + 3*g3*CreateBoson(a) + 3*g3*CreateBoson(a)*AnnihilateBoson(a)**2 + 3*g3*CreateBoson(a)**2*AnnihilateBoson(a) + g3*CreateBoson(a)**3 + 3*g4 + 6*g4*AnnihilateBoson(a)**2 + g4*AnnihilateBoson(a)**4 + 12*g4*CreateBoson(a)*AnnihilateBoson(a) + 4*g4*CreateBoson(a)*AnnihilateBoson(a)**3 + 6*g4*CreateBoson(a)**2 + 6*g4*CreateBoson(a)**2*AnnihilateBoson(a)**2 + 4*g4*CreateBoson(a)**3*AnnihilateBoson(a) + g4*CreateBoson(a)**4"
      ]
     },
     "execution_count": 502,
     "metadata": {},
     "output_type": "execute_result"
    }
   ],
   "source": [
    "v"
   ]
  },
  {
   "cell_type": "code",
   "execution_count": 503,
   "id": "c44784d2",
   "metadata": {},
   "outputs": [],
   "source": [
    "v1 = sp.simplify(v).expand()\n",
    "temp = 0\n",
    "for term in v1.args:\n",
    "    if term.as_powers_dict()[ad] == term.as_powers_dict()[a]:\n",
    "        temp += term\n",
    "h1 = temp * 1\n",
    "temp = 0\n",
    "for term in (v1-h1).args:\n",
    "    if term.as_powers_dict()[ad]!= term.as_powers_dict()[a]:\n",
    "        temp += term / omega / (term.as_powers_dict()[ad] - term.as_powers_dict()[a])\n",
    "s1= normal(temp) * 1\n",
    "s_tot = s1 * kappa \n",
    "s_tot_1 = s1 * kappa"
   ]
  },
  {
   "cell_type": "code",
   "execution_count": 504,
   "id": "06d546c2",
   "metadata": {},
   "outputs": [
    {
     "name": "stdout",
     "output_type": "stream",
     "text": [
      "x\n",
      "x\n"
     ]
    }
   ],
   "source": [
    "h_tot = h0 + kappa*v \n",
    "h_eff_2 = 0\n",
    "\n",
    "temp_2 = normal(Commutator(s_tot_1, h_tot.coeff(kappa,1)*kappa**1).doit() )\n",
    "temp_1 = normal(Commutator(s_tot_1, h_tot.coeff(kappa,0)*kappa**0).doit() )\n",
    "print('x')\n",
    "h_eff_2 += temp_2\n",
    "\n",
    "temp_2 = normal(Commutator(s_tot_1, temp_1).doit())\n",
    "print('x')\n",
    "h_eff_2 += sp.Rational(1,2) * temp_2\n",
    "\n",
    "h_eff_2 = h_eff_2.expand()\n",
    "v2 = normal(h_eff_2.coeff(kappa,2))\n",
    "temp = 0\n",
    "for term in v2.args:\n",
    "    if term.as_powers_dict()[ad] == term.as_powers_dict()[a]:\n",
    "        temp += term\n",
    "h2 = temp * 1\n",
    "temp = 0\n",
    "for term in v1.args:\n",
    "    if term.as_powers_dict()[ad] == term.as_powers_dict()[a]:\n",
    "        temp += term\n",
    "h1 = temp * 1\n",
    "temp = 0\n",
    "for term in (v2-h2).args:\n",
    "    if term.as_powers_dict()[ad] != term.as_powers_dict()[a]:\n",
    "        temp += term / omega / (term.as_powers_dict()[ad] - term.as_powers_dict()[a])\n",
    "s2 = normal(temp) * 1\n"
   ]
  },
  {
   "cell_type": "code",
   "execution_count": 505,
   "id": "f0c057bd",
   "metadata": {},
   "outputs": [],
   "source": [
    "s1c = normal(Commutator(s1, (I*(a-ad))).doit() )\n",
    "s2c = normal(Commutator(s2, (I*(a-ad))).doit() )+(sp.Rational(1,2) *normal(Commutator(s1, s1c).doit() )).expand()"
   ]
  },
  {
   "cell_type": "code",
   "execution_count": 506,
   "id": "20341906",
   "metadata": {},
   "outputs": [
    {
     "data": {
      "text/latex": [
       "$\\displaystyle - \\frac{3 g_{3} b_{a}}{\\omega} - \\frac{g_{3} b_{a}^{3}}{3 \\omega} + \\frac{3 g_{3} {b^\\dagger_{a}}}{\\omega} - \\frac{3 g_{3} {b^\\dagger_{a}} b_{a}^{2}}{\\omega} + \\frac{3 g_{3} {b^\\dagger_{a}}^{2} b_{a}}{\\omega} + \\frac{g_{3} {b^\\dagger_{a}}^{3}}{3 \\omega} - \\frac{3 g_{4} b_{a}^{2}}{\\omega} - \\frac{g_{4} b_{a}^{4}}{4 \\omega} - \\frac{2 g_{4} {b^\\dagger_{a}} b_{a}^{3}}{\\omega} + \\frac{3 g_{4} {b^\\dagger_{a}}^{2}}{\\omega} + \\frac{2 g_{4} {b^\\dagger_{a}}^{3} b_{a}}{\\omega} + \\frac{g_{4} {b^\\dagger_{a}}^{4}}{4 \\omega}$"
      ],
      "text/plain": [
       "-3*g3*AnnihilateBoson(a)/omega - g3*AnnihilateBoson(a)**3/(3*omega) + 3*g3*CreateBoson(a)/omega - 3*g3*CreateBoson(a)*AnnihilateBoson(a)**2/omega + 3*g3*CreateBoson(a)**2*AnnihilateBoson(a)/omega + g3*CreateBoson(a)**3/(3*omega) - 3*g4*AnnihilateBoson(a)**2/omega - g4*AnnihilateBoson(a)**4/(4*omega) - 2*g4*CreateBoson(a)*AnnihilateBoson(a)**3/omega + 3*g4*CreateBoson(a)**2/omega + 2*g4*CreateBoson(a)**3*AnnihilateBoson(a)/omega + g4*CreateBoson(a)**4/(4*omega)"
      ]
     },
     "execution_count": 506,
     "metadata": {},
     "output_type": "execute_result"
    }
   ],
   "source": [
    "s1"
   ]
  },
  {
   "cell_type": "code",
   "execution_count": 507,
   "id": "7ca1df1e",
   "metadata": {},
   "outputs": [
    {
     "data": {
      "text/latex": [
       "$\\displaystyle \\frac{4 i g_{3} b_{a}^{2}}{\\omega} - \\frac{4 i g_{3} {b^\\dagger_{a}}^{2}}{\\omega} + \\frac{6 i g_{4} b_{a}}{\\omega} + \\frac{3 i g_{4} b_{a}^{3}}{\\omega} - \\frac{6 i g_{4} {b^\\dagger_{a}}}{\\omega} + \\frac{6 i g_{4} {b^\\dagger_{a}} b_{a}^{2}}{\\omega} - \\frac{6 i g_{4} {b^\\dagger_{a}}^{2} b_{a}}{\\omega} - \\frac{3 i g_{4} {b^\\dagger_{a}}^{3}}{\\omega}$"
      ],
      "text/plain": [
       "4*I*g3*AnnihilateBoson(a)**2/omega - 4*I*g3*CreateBoson(a)**2/omega + 6*I*g4*AnnihilateBoson(a)/omega + 3*I*g4*AnnihilateBoson(a)**3/omega - 6*I*g4*CreateBoson(a)/omega + 6*I*g4*CreateBoson(a)*AnnihilateBoson(a)**2/omega - 6*I*g4*CreateBoson(a)**2*AnnihilateBoson(a)/omega - 3*I*g4*CreateBoson(a)**3/omega"
      ]
     },
     "execution_count": 507,
     "metadata": {},
     "output_type": "execute_result"
    }
   ],
   "source": [
    "s1c"
   ]
  },
  {
   "cell_type": "code",
   "execution_count": 508,
   "id": "ebca573f",
   "metadata": {},
   "outputs": [
    {
     "data": {
      "text/latex": [
       "$\\displaystyle - \\frac{38 i g_{3}^{2} b_{a}}{\\omega^{2}} + \\frac{9 i g_{3}^{2} b_{a}^{3}}{\\omega^{2}} + \\frac{38 i g_{3}^{2} {b^\\dagger_{a}}}{\\omega^{2}} - \\frac{38 i g_{3}^{2} {b^\\dagger_{a}} b_{a}^{2}}{\\omega^{2}} + \\frac{38 i g_{3}^{2} {b^\\dagger_{a}}^{2} b_{a}}{\\omega^{2}} - \\frac{9 i g_{3}^{2} {b^\\dagger_{a}}^{3}}{\\omega^{2}} - \\frac{372 i g_{3} g_{4} b_{a}^{2}}{\\omega^{2}} + \\frac{16 i g_{3} g_{4} b_{a}^{4}}{\\omega^{2}} - \\frac{248 i g_{3} g_{4} {b^\\dagger_{a}} b_{a}^{3}}{\\omega^{2}} + \\frac{372 i g_{3} g_{4} {b^\\dagger_{a}}^{2}}{\\omega^{2}} + \\frac{248 i g_{3} g_{4} {b^\\dagger_{a}}^{3} b_{a}}{\\omega^{2}} - \\frac{16 i g_{3} g_{4} {b^\\dagger_{a}}^{4}}{\\omega^{2}} - \\frac{171 i g_{4}^{2} b_{a}}{\\omega^{2}} - \\frac{162 i g_{4}^{2} b_{a}^{3}}{\\omega^{2}} + \\frac{5 i g_{4}^{2} b_{a}^{5}}{\\omega^{2}} + \\frac{171 i g_{4}^{2} {b^\\dagger_{a}}}{\\omega^{2}} - \\frac{747 i g_{4}^{2} {b^\\dagger_{a}} b_{a}^{2}}{2 \\omega^{2}} - \\frac{81 i g_{4}^{2} {b^\\dagger_{a}} b_{a}^{4}}{\\omega^{2}} + \\frac{747 i g_{4}^{2} {b^\\dagger_{a}}^{2} b_{a}}{2 \\omega^{2}} - \\frac{249 i g_{4}^{2} {b^\\dagger_{a}}^{2} b_{a}^{3}}{2 \\omega^{2}} + \\frac{162 i g_{4}^{2} {b^\\dagger_{a}}^{3}}{\\omega^{2}} + \\frac{249 i g_{4}^{2} {b^\\dagger_{a}}^{3} b_{a}^{2}}{2 \\omega^{2}} + \\frac{81 i g_{4}^{2} {b^\\dagger_{a}}^{4} b_{a}}{\\omega^{2}} - \\frac{5 i g_{4}^{2} {b^\\dagger_{a}}^{5}}{\\omega^{2}}$"
      ],
      "text/plain": [
       "-38*I*g3**2*AnnihilateBoson(a)/omega**2 + 9*I*g3**2*AnnihilateBoson(a)**3/omega**2 + 38*I*g3**2*CreateBoson(a)/omega**2 - 38*I*g3**2*CreateBoson(a)*AnnihilateBoson(a)**2/omega**2 + 38*I*g3**2*CreateBoson(a)**2*AnnihilateBoson(a)/omega**2 - 9*I*g3**2*CreateBoson(a)**3/omega**2 - 372*I*g3*g4*AnnihilateBoson(a)**2/omega**2 + 16*I*g3*g4*AnnihilateBoson(a)**4/omega**2 - 248*I*g3*g4*CreateBoson(a)*AnnihilateBoson(a)**3/omega**2 + 372*I*g3*g4*CreateBoson(a)**2/omega**2 + 248*I*g3*g4*CreateBoson(a)**3*AnnihilateBoson(a)/omega**2 - 16*I*g3*g4*CreateBoson(a)**4/omega**2 - 171*I*g4**2*AnnihilateBoson(a)/omega**2 - 162*I*g4**2*AnnihilateBoson(a)**3/omega**2 + 5*I*g4**2*AnnihilateBoson(a)**5/omega**2 + 171*I*g4**2*CreateBoson(a)/omega**2 - 747*I*g4**2*CreateBoson(a)*AnnihilateBoson(a)**2/(2*omega**2) - 81*I*g4**2*CreateBoson(a)*AnnihilateBoson(a)**4/omega**2 + 747*I*g4**2*CreateBoson(a)**2*AnnihilateBoson(a)/(2*omega**2) - 249*I*g4**2*CreateBoson(a)**2*AnnihilateBoson(a)**3/(2*omega**2) + 162*I*g4**2*CreateBoson(a)**3/omega**2 + 249*I*g4**2*CreateBoson(a)**3*AnnihilateBoson(a)**2/(2*omega**2) + 81*I*g4**2*CreateBoson(a)**4*AnnihilateBoson(a)/omega**2 - 5*I*g4**2*CreateBoson(a)**5/omega**2"
      ]
     },
     "execution_count": 508,
     "metadata": {},
     "output_type": "execute_result"
    }
   ],
   "source": [
    "s2c"
   ]
  },
  {
   "cell_type": "code",
   "execution_count": 509,
   "id": "493458ed",
   "metadata": {},
   "outputs": [],
   "source": [
    "def remove_higher(expr):\n",
    "    terms_higher = [\n",
    "        term for term in expr.args if (term.has(g4**2) or term.has(g3**2*g4) or term.has(g3**4) or term.has(g3*g4))]\n",
    "    return expr - sum(terms_higher)\n"
   ]
  },
  {
   "cell_type": "code",
   "execution_count": 510,
   "id": "cd24daeb",
   "metadata": {},
   "outputs": [],
   "source": [
    "def replace_scalars_with_valued_matrices(expr, matrix_values):\n",
    "        \"\"\"\n",
    "        Replace scalar symbols and scalar operations in a SymPy scalar expression with valued matrices.\n",
    "\n",
    "        Args:\n",
    "        expr (sympy.Expr): The input scalar expression.\n",
    "        matrix_values (dict): A dictionary mapping scalar symbols to valued matrices.\n",
    "\n",
    "        Returns:\n",
    "        sympy.Expr: The modified expression with valued matrices.\n",
    "        \"\"\"\n",
    "\n",
    "        def map_operations(node):\n",
    "            if (isinstance(node, AnnihilateBoson) or isinstance(node, CreateBoson) )and node in matrix_values:\n",
    "                return matrix_values[node]\n",
    "            elif isinstance(node, sp.Add):\n",
    "                return sp.Add(*[map_operations(arg) for arg in node.args])\n",
    "            elif isinstance(node, sp.Mul):\n",
    "                return sp.Mul(*[map_operations(arg) for arg in node.args])\n",
    "            elif isinstance(node, sp.Pow):\n",
    "                base, exponent = map_operations(node.base), map_operations(node.exp)\n",
    "                return base**exponent\n",
    "            else:\n",
    "                return node\n",
    "\n",
    "        return map_operations(expr)"
   ]
  },
  {
   "cell_type": "code",
   "execution_count": 511,
   "id": "a7cca49b",
   "metadata": {},
   "outputs": [],
   "source": [
    "# Initialize the annihilation (lowering) and creation (raising) matrices with zeros\n",
    "from sympy import symbols, sqrt\n",
    "n=15\n",
    "s = sp.zeros(n)\n",
    "s_dagger = sp.zeros(n)\n",
    "\n",
    "# Fill the matrices using sympy functions\n",
    "for i in range(n-1):\n",
    "    s[i, i+1] = sqrt(i+1)\n",
    "    s_dagger[i+1, i] = sqrt(i+1)\n",
    "matrix_values = {a: s, ad: s_dagger}\n",
    "g_matrix = replace_scalars_with_valued_matrices(I*(a-ad)+s1c+remove_higher(s2c), matrix_values)\n",
    "# Extract the upper triangular part of the matrix\n",
    "upper_tri = g_matrix.upper_triangular()\n",
    "\n",
    "# Extract the lower triangular part of the matrix\n",
    "lower_tri = g_matrix.lower_triangular()\n"
   ]
  },
  {
   "cell_type": "code",
   "execution_count": 512,
   "id": "19708cdf",
   "metadata": {},
   "outputs": [
    {
     "data": {
      "text/latex": [
       "$\\displaystyle \\left[\\begin{array}{ccccccccccccccc}0 & - \\frac{38 i g_{3}^{2}}{\\omega^{2}} + \\frac{6 i g_{4}}{\\omega} + i & \\frac{4 \\sqrt{2} i g_{3}}{\\omega} & \\frac{9 \\sqrt{6} i g_{3}^{2}}{\\omega^{2}} + \\frac{3 \\sqrt{6} i g_{4}}{\\omega} & 0 & 0 & 0 & 0 & 0 & 0 & 0 & 0 & 0 & 0 & 0\\\\\\frac{38 i g_{3}^{2}}{\\omega^{2}} - \\frac{6 i g_{4}}{\\omega} - i & 0 & - \\frac{76 \\sqrt{2} i g_{3}^{2}}{\\omega^{2}} + \\frac{12 \\sqrt{2} i g_{4}}{\\omega} + \\sqrt{2} i & \\frac{4 \\sqrt{6} i g_{3}}{\\omega} & \\frac{18 \\sqrt{6} i g_{3}^{2}}{\\omega^{2}} + \\frac{6 \\sqrt{6} i g_{4}}{\\omega} & 0 & 0 & 0 & 0 & 0 & 0 & 0 & 0 & 0 & 0\\\\- \\frac{4 \\sqrt{2} i g_{3}}{\\omega} & \\frac{76 \\sqrt{2} i g_{3}^{2}}{\\omega^{2}} - \\frac{12 \\sqrt{2} i g_{4}}{\\omega} - \\sqrt{2} i & 0 & - \\frac{114 \\sqrt{3} i g_{3}^{2}}{\\omega^{2}} + \\frac{18 \\sqrt{3} i g_{4}}{\\omega} + \\sqrt{3} i & \\frac{8 \\sqrt{3} i g_{3}}{\\omega} & \\frac{18 \\sqrt{15} i g_{3}^{2}}{\\omega^{2}} + \\frac{6 \\sqrt{15} i g_{4}}{\\omega} & 0 & 0 & 0 & 0 & 0 & 0 & 0 & 0 & 0\\\\- \\frac{9 \\sqrt{6} i g_{3}^{2}}{\\omega^{2}} - \\frac{3 \\sqrt{6} i g_{4}}{\\omega} & - \\frac{4 \\sqrt{6} i g_{3}}{\\omega} & \\frac{114 \\sqrt{3} i g_{3}^{2}}{\\omega^{2}} - \\frac{18 \\sqrt{3} i g_{4}}{\\omega} - \\sqrt{3} i & 0 & - \\frac{304 i g_{3}^{2}}{\\omega^{2}} + \\frac{48 i g_{4}}{\\omega} + 2 i & \\frac{8 \\sqrt{5} i g_{3}}{\\omega} & \\frac{18 \\sqrt{30} i g_{3}^{2}}{\\omega^{2}} + \\frac{6 \\sqrt{30} i g_{4}}{\\omega} & 0 & 0 & 0 & 0 & 0 & 0 & 0 & 0\\\\0 & - \\frac{18 \\sqrt{6} i g_{3}^{2}}{\\omega^{2}} - \\frac{6 \\sqrt{6} i g_{4}}{\\omega} & - \\frac{8 \\sqrt{3} i g_{3}}{\\omega} & \\frac{304 i g_{3}^{2}}{\\omega^{2}} - \\frac{48 i g_{4}}{\\omega} - 2 i & 0 & - \\frac{190 \\sqrt{5} i g_{3}^{2}}{\\omega^{2}} + \\frac{30 \\sqrt{5} i g_{4}}{\\omega} + \\sqrt{5} i & \\frac{4 \\sqrt{30} i g_{3}}{\\omega} & \\frac{9 \\sqrt{210} i g_{3}^{2}}{\\omega^{2}} + \\frac{3 \\sqrt{210} i g_{4}}{\\omega} & 0 & 0 & 0 & 0 & 0 & 0 & 0\\\\0 & 0 & - \\frac{18 \\sqrt{15} i g_{3}^{2}}{\\omega^{2}} - \\frac{6 \\sqrt{15} i g_{4}}{\\omega} & - \\frac{8 \\sqrt{5} i g_{3}}{\\omega} & \\frac{190 \\sqrt{5} i g_{3}^{2}}{\\omega^{2}} - \\frac{30 \\sqrt{5} i g_{4}}{\\omega} - \\sqrt{5} i & 0 & - \\frac{228 \\sqrt{6} i g_{3}^{2}}{\\omega^{2}} + \\frac{36 \\sqrt{6} i g_{4}}{\\omega} + \\sqrt{6} i & \\frac{4 \\sqrt{42} i g_{3}}{\\omega} & \\frac{36 \\sqrt{21} i g_{3}^{2}}{\\omega^{2}} + \\frac{12 \\sqrt{21} i g_{4}}{\\omega} & 0 & 0 & 0 & 0 & 0 & 0\\\\0 & 0 & 0 & - \\frac{18 \\sqrt{30} i g_{3}^{2}}{\\omega^{2}} - \\frac{6 \\sqrt{30} i g_{4}}{\\omega} & - \\frac{4 \\sqrt{30} i g_{3}}{\\omega} & \\frac{228 \\sqrt{6} i g_{3}^{2}}{\\omega^{2}} - \\frac{36 \\sqrt{6} i g_{4}}{\\omega} - \\sqrt{6} i & 0 & - \\frac{266 \\sqrt{7} i g_{3}^{2}}{\\omega^{2}} + \\frac{42 \\sqrt{7} i g_{4}}{\\omega} + \\sqrt{7} i & \\frac{8 \\sqrt{14} i g_{3}}{\\omega} & \\frac{54 \\sqrt{14} i g_{3}^{2}}{\\omega^{2}} + \\frac{18 \\sqrt{14} i g_{4}}{\\omega} & 0 & 0 & 0 & 0 & 0\\\\0 & 0 & 0 & 0 & - \\frac{9 \\sqrt{210} i g_{3}^{2}}{\\omega^{2}} - \\frac{3 \\sqrt{210} i g_{4}}{\\omega} & - \\frac{4 \\sqrt{42} i g_{3}}{\\omega} & \\frac{266 \\sqrt{7} i g_{3}^{2}}{\\omega^{2}} - \\frac{42 \\sqrt{7} i g_{4}}{\\omega} - \\sqrt{7} i & 0 & - \\frac{608 \\sqrt{2} i g_{3}^{2}}{\\omega^{2}} + \\frac{96 \\sqrt{2} i g_{4}}{\\omega} + 2 \\sqrt{2} i & \\frac{24 \\sqrt{2} i g_{3}}{\\omega} & \\frac{108 \\sqrt{5} i g_{3}^{2}}{\\omega^{2}} + \\frac{36 \\sqrt{5} i g_{4}}{\\omega} & 0 & 0 & 0 & 0\\\\0 & 0 & 0 & 0 & 0 & - \\frac{36 \\sqrt{21} i g_{3}^{2}}{\\omega^{2}} - \\frac{12 \\sqrt{21} i g_{4}}{\\omega} & - \\frac{8 \\sqrt{14} i g_{3}}{\\omega} & \\frac{608 \\sqrt{2} i g_{3}^{2}}{\\omega^{2}} - \\frac{96 \\sqrt{2} i g_{4}}{\\omega} - 2 \\sqrt{2} i & 0 & - \\frac{1026 i g_{3}^{2}}{\\omega^{2}} + \\frac{162 i g_{4}}{\\omega} + 3 i & \\frac{12 \\sqrt{10} i g_{3}}{\\omega} & \\frac{27 \\sqrt{110} i g_{3}^{2}}{\\omega^{2}} + \\frac{9 \\sqrt{110} i g_{4}}{\\omega} & 0 & 0 & 0\\\\0 & 0 & 0 & 0 & 0 & 0 & - \\frac{54 \\sqrt{14} i g_{3}^{2}}{\\omega^{2}} - \\frac{18 \\sqrt{14} i g_{4}}{\\omega} & - \\frac{24 \\sqrt{2} i g_{3}}{\\omega} & \\frac{1026 i g_{3}^{2}}{\\omega^{2}} - \\frac{162 i g_{4}}{\\omega} - 3 i & 0 & - \\frac{380 \\sqrt{10} i g_{3}^{2}}{\\omega^{2}} + \\frac{60 \\sqrt{10} i g_{4}}{\\omega} + \\sqrt{10} i & \\frac{4 \\sqrt{110} i g_{3}}{\\omega} & \\frac{18 \\sqrt{330} i g_{3}^{2}}{\\omega^{2}} + \\frac{6 \\sqrt{330} i g_{4}}{\\omega} & 0 & 0\\\\0 & 0 & 0 & 0 & 0 & 0 & 0 & - \\frac{108 \\sqrt{5} i g_{3}^{2}}{\\omega^{2}} - \\frac{36 \\sqrt{5} i g_{4}}{\\omega} & - \\frac{12 \\sqrt{10} i g_{3}}{\\omega} & \\frac{380 \\sqrt{10} i g_{3}^{2}}{\\omega^{2}} - \\frac{60 \\sqrt{10} i g_{4}}{\\omega} - \\sqrt{10} i & 0 & - \\frac{418 \\sqrt{11} i g_{3}^{2}}{\\omega^{2}} + \\frac{66 \\sqrt{11} i g_{4}}{\\omega} + \\sqrt{11} i & \\frac{8 \\sqrt{33} i g_{3}}{\\omega} & \\frac{18 \\sqrt{429} i g_{3}^{2}}{\\omega^{2}} + \\frac{6 \\sqrt{429} i g_{4}}{\\omega} & 0\\\\0 & 0 & 0 & 0 & 0 & 0 & 0 & 0 & - \\frac{27 \\sqrt{110} i g_{3}^{2}}{\\omega^{2}} - \\frac{9 \\sqrt{110} i g_{4}}{\\omega} & - \\frac{4 \\sqrt{110} i g_{3}}{\\omega} & \\frac{418 \\sqrt{11} i g_{3}^{2}}{\\omega^{2}} - \\frac{66 \\sqrt{11} i g_{4}}{\\omega} - \\sqrt{11} i & 0 & - \\frac{912 \\sqrt{3} i g_{3}^{2}}{\\omega^{2}} + \\frac{144 \\sqrt{3} i g_{4}}{\\omega} + 2 \\sqrt{3} i & \\frac{8 \\sqrt{39} i g_{3}}{\\omega} & \\frac{18 \\sqrt{546} i g_{3}^{2}}{\\omega^{2}} + \\frac{6 \\sqrt{546} i g_{4}}{\\omega}\\\\0 & 0 & 0 & 0 & 0 & 0 & 0 & 0 & 0 & - \\frac{18 \\sqrt{330} i g_{3}^{2}}{\\omega^{2}} - \\frac{6 \\sqrt{330} i g_{4}}{\\omega} & - \\frac{8 \\sqrt{33} i g_{3}}{\\omega} & \\frac{912 \\sqrt{3} i g_{3}^{2}}{\\omega^{2}} - \\frac{144 \\sqrt{3} i g_{4}}{\\omega} - 2 \\sqrt{3} i & 0 & - \\frac{494 \\sqrt{13} i g_{3}^{2}}{\\omega^{2}} + \\frac{78 \\sqrt{13} i g_{4}}{\\omega} + \\sqrt{13} i & \\frac{4 \\sqrt{182} i g_{3}}{\\omega}\\\\0 & 0 & 0 & 0 & 0 & 0 & 0 & 0 & 0 & 0 & - \\frac{18 \\sqrt{429} i g_{3}^{2}}{\\omega^{2}} - \\frac{6 \\sqrt{429} i g_{4}}{\\omega} & - \\frac{8 \\sqrt{39} i g_{3}}{\\omega} & \\frac{494 \\sqrt{13} i g_{3}^{2}}{\\omega^{2}} - \\frac{78 \\sqrt{13} i g_{4}}{\\omega} - \\sqrt{13} i & 0 & - \\frac{532 \\sqrt{14} i g_{3}^{2}}{\\omega^{2}} + \\frac{84 \\sqrt{14} i g_{4}}{\\omega} + \\sqrt{14} i\\\\0 & 0 & 0 & 0 & 0 & 0 & 0 & 0 & 0 & 0 & 0 & - \\frac{18 \\sqrt{546} i g_{3}^{2}}{\\omega^{2}} - \\frac{6 \\sqrt{546} i g_{4}}{\\omega} & - \\frac{4 \\sqrt{182} i g_{3}}{\\omega} & \\frac{532 \\sqrt{14} i g_{3}^{2}}{\\omega^{2}} - \\frac{84 \\sqrt{14} i g_{4}}{\\omega} - \\sqrt{14} i & 0\\end{array}\\right]$"
      ],
      "text/plain": [
       "Matrix([\n",
       "[                                                 0,                         -38*I*g3**2/omega**2 + 6*I*g4/omega + I,                                             4*sqrt(2)*I*g3/omega,                 9*sqrt(6)*I*g3**2/omega**2 + 3*sqrt(6)*I*g4/omega,                                                                0,                                                                 0,                                                                 0,                                                                  0,                                                                   0,                                                                   0,                                                                    0,                                                                    0,                                                                    0,                                                                    0,                                                                    0],\n",
       "[            38*I*g3**2/omega**2 - 6*I*g4/omega - I,                                                               0, -76*sqrt(2)*I*g3**2/omega**2 + 12*sqrt(2)*I*g4/omega + sqrt(2)*I,                                              4*sqrt(6)*I*g3/omega,               18*sqrt(6)*I*g3**2/omega**2 + 6*sqrt(6)*I*g4/omega,                                                                 0,                                                                 0,                                                                  0,                                                                   0,                                                                   0,                                                                    0,                                                                    0,                                                                    0,                                                                    0,                                                                    0],\n",
       "[                             -4*sqrt(2)*I*g3/omega, 76*sqrt(2)*I*g3**2/omega**2 - 12*sqrt(2)*I*g4/omega - sqrt(2)*I,                                                                0, -114*sqrt(3)*I*g3**2/omega**2 + 18*sqrt(3)*I*g4/omega + sqrt(3)*I,                                             8*sqrt(3)*I*g3/omega,              18*sqrt(15)*I*g3**2/omega**2 + 6*sqrt(15)*I*g4/omega,                                                                 0,                                                                  0,                                                                   0,                                                                   0,                                                                    0,                                                                    0,                                                                    0,                                                                    0,                                                                    0],\n",
       "[-9*sqrt(6)*I*g3**2/omega**2 - 3*sqrt(6)*I*g4/omega,                                           -4*sqrt(6)*I*g3/omega, 114*sqrt(3)*I*g3**2/omega**2 - 18*sqrt(3)*I*g4/omega - sqrt(3)*I,                                                                 0,                      -304*I*g3**2/omega**2 + 48*I*g4/omega + 2*I,                                              8*sqrt(5)*I*g3/omega,              18*sqrt(30)*I*g3**2/omega**2 + 6*sqrt(30)*I*g4/omega,                                                                  0,                                                                   0,                                                                   0,                                                                    0,                                                                    0,                                                                    0,                                                                    0,                                                                    0],\n",
       "[                                                 0,             -18*sqrt(6)*I*g3**2/omega**2 - 6*sqrt(6)*I*g4/omega,                                            -8*sqrt(3)*I*g3/omega,                        304*I*g3**2/omega**2 - 48*I*g4/omega - 2*I,                                                                0, -190*sqrt(5)*I*g3**2/omega**2 + 30*sqrt(5)*I*g4/omega + sqrt(5)*I,                                             4*sqrt(30)*I*g3/omega,              9*sqrt(210)*I*g3**2/omega**2 + 3*sqrt(210)*I*g4/omega,                                                                   0,                                                                   0,                                                                    0,                                                                    0,                                                                    0,                                                                    0,                                                                    0],\n",
       "[                                                 0,                                                               0,            -18*sqrt(15)*I*g3**2/omega**2 - 6*sqrt(15)*I*g4/omega,                                             -8*sqrt(5)*I*g3/omega, 190*sqrt(5)*I*g3**2/omega**2 - 30*sqrt(5)*I*g4/omega - sqrt(5)*I,                                                                 0, -228*sqrt(6)*I*g3**2/omega**2 + 36*sqrt(6)*I*g4/omega + sqrt(6)*I,                                              4*sqrt(42)*I*g3/omega,               36*sqrt(21)*I*g3**2/omega**2 + 12*sqrt(21)*I*g4/omega,                                                                   0,                                                                    0,                                                                    0,                                                                    0,                                                                    0,                                                                    0],\n",
       "[                                                 0,                                                               0,                                                                0,             -18*sqrt(30)*I*g3**2/omega**2 - 6*sqrt(30)*I*g4/omega,                                           -4*sqrt(30)*I*g3/omega,  228*sqrt(6)*I*g3**2/omega**2 - 36*sqrt(6)*I*g4/omega - sqrt(6)*I,                                                                 0,  -266*sqrt(7)*I*g3**2/omega**2 + 42*sqrt(7)*I*g4/omega + sqrt(7)*I,                                               8*sqrt(14)*I*g3/omega,               54*sqrt(14)*I*g3**2/omega**2 + 18*sqrt(14)*I*g4/omega,                                                                    0,                                                                    0,                                                                    0,                                                                    0,                                                                    0],\n",
       "[                                                 0,                                                               0,                                                                0,                                                                 0,           -9*sqrt(210)*I*g3**2/omega**2 - 3*sqrt(210)*I*g4/omega,                                            -4*sqrt(42)*I*g3/omega,  266*sqrt(7)*I*g3**2/omega**2 - 42*sqrt(7)*I*g4/omega - sqrt(7)*I,                                                                  0, -608*sqrt(2)*I*g3**2/omega**2 + 96*sqrt(2)*I*g4/omega + 2*sqrt(2)*I,                                               24*sqrt(2)*I*g3/omega,                 108*sqrt(5)*I*g3**2/omega**2 + 36*sqrt(5)*I*g4/omega,                                                                    0,                                                                    0,                                                                    0,                                                                    0],\n",
       "[                                                 0,                                                               0,                                                                0,                                                                 0,                                                                0,            -36*sqrt(21)*I*g3**2/omega**2 - 12*sqrt(21)*I*g4/omega,                                            -8*sqrt(14)*I*g3/omega, 608*sqrt(2)*I*g3**2/omega**2 - 96*sqrt(2)*I*g4/omega - 2*sqrt(2)*I,                                                                   0,                       -1026*I*g3**2/omega**2 + 162*I*g4/omega + 3*I,                                               12*sqrt(10)*I*g3/omega,               27*sqrt(110)*I*g3**2/omega**2 + 9*sqrt(110)*I*g4/omega,                                                                    0,                                                                    0,                                                                    0],\n",
       "[                                                 0,                                                               0,                                                                0,                                                                 0,                                                                0,                                                                 0,            -54*sqrt(14)*I*g3**2/omega**2 - 18*sqrt(14)*I*g4/omega,                                             -24*sqrt(2)*I*g3/omega,                        1026*I*g3**2/omega**2 - 162*I*g4/omega - 3*I,                                                                   0, -380*sqrt(10)*I*g3**2/omega**2 + 60*sqrt(10)*I*g4/omega + sqrt(10)*I,                                               4*sqrt(110)*I*g3/omega,               18*sqrt(330)*I*g3**2/omega**2 + 6*sqrt(330)*I*g4/omega,                                                                    0,                                                                    0],\n",
       "[                                                 0,                                                               0,                                                                0,                                                                 0,                                                                0,                                                                 0,                                                                 0,              -108*sqrt(5)*I*g3**2/omega**2 - 36*sqrt(5)*I*g4/omega,                                             -12*sqrt(10)*I*g3/omega, 380*sqrt(10)*I*g3**2/omega**2 - 60*sqrt(10)*I*g4/omega - sqrt(10)*I,                                                                    0, -418*sqrt(11)*I*g3**2/omega**2 + 66*sqrt(11)*I*g4/omega + sqrt(11)*I,                                                8*sqrt(33)*I*g3/omega,               18*sqrt(429)*I*g3**2/omega**2 + 6*sqrt(429)*I*g4/omega,                                                                    0],\n",
       "[                                                 0,                                                               0,                                                                0,                                                                 0,                                                                0,                                                                 0,                                                                 0,                                                                  0,             -27*sqrt(110)*I*g3**2/omega**2 - 9*sqrt(110)*I*g4/omega,                                             -4*sqrt(110)*I*g3/omega,  418*sqrt(11)*I*g3**2/omega**2 - 66*sqrt(11)*I*g4/omega - sqrt(11)*I,                                                                    0, -912*sqrt(3)*I*g3**2/omega**2 + 144*sqrt(3)*I*g4/omega + 2*sqrt(3)*I,                                                8*sqrt(39)*I*g3/omega,               18*sqrt(546)*I*g3**2/omega**2 + 6*sqrt(546)*I*g4/omega],\n",
       "[                                                 0,                                                               0,                                                                0,                                                                 0,                                                                0,                                                                 0,                                                                 0,                                                                  0,                                                                   0,             -18*sqrt(330)*I*g3**2/omega**2 - 6*sqrt(330)*I*g4/omega,                                               -8*sqrt(33)*I*g3/omega,  912*sqrt(3)*I*g3**2/omega**2 - 144*sqrt(3)*I*g4/omega - 2*sqrt(3)*I,                                                                    0, -494*sqrt(13)*I*g3**2/omega**2 + 78*sqrt(13)*I*g4/omega + sqrt(13)*I,                                               4*sqrt(182)*I*g3/omega],\n",
       "[                                                 0,                                                               0,                                                                0,                                                                 0,                                                                0,                                                                 0,                                                                 0,                                                                  0,                                                                   0,                                                                   0,              -18*sqrt(429)*I*g3**2/omega**2 - 6*sqrt(429)*I*g4/omega,                                               -8*sqrt(39)*I*g3/omega,  494*sqrt(13)*I*g3**2/omega**2 - 78*sqrt(13)*I*g4/omega - sqrt(13)*I,                                                                    0, -532*sqrt(14)*I*g3**2/omega**2 + 84*sqrt(14)*I*g4/omega + sqrt(14)*I],\n",
       "[                                                 0,                                                               0,                                                                0,                                                                 0,                                                                0,                                                                 0,                                                                 0,                                                                  0,                                                                   0,                                                                   0,                                                                    0,              -18*sqrt(546)*I*g3**2/omega**2 - 6*sqrt(546)*I*g4/omega,                                              -4*sqrt(182)*I*g3/omega,  532*sqrt(14)*I*g3**2/omega**2 - 84*sqrt(14)*I*g4/omega - sqrt(14)*I,                                                                    0]])"
      ]
     },
     "execution_count": 512,
     "metadata": {},
     "output_type": "execute_result"
    }
   ],
   "source": [
    "g_matrix"
   ]
  },
  {
   "cell_type": "code",
   "execution_count": 513,
   "id": "93a441f5",
   "metadata": {},
   "outputs": [],
   "source": [
    "from sympy import symbols, Matrix\n",
    "# Define the symbols\n",
    "omega, alpha, omega_1, omega_2,omegap = symbols('omega alpha omega_1 omega_2 omega_p', real=True)\n",
    "\n",
    "# Define the epsilon_i values\n",
    "epsilon = [i * omegap + i*(i-1) * alpha / 2 for i in range(n)]\n",
    "\n",
    "# Initialize the delta_1 matrix with zeros\n",
    "delta_1 = Matrix.zeros(n, n)\n",
    "\n",
    "# Fill the matrix according to the given formula and specific epsilon_i values\n",
    "for i in range(n):\n",
    "    for j in range(n):\n",
    "        if i != j:\n",
    "            delta_1[i, j] = 1 / (epsilon[i] - epsilon[j] - omega_1)\n",
    "            \n",
    "delta_2 = Matrix.zeros(n, n)\n",
    "\n",
    "# Fill the matrix according to the given formula and specific epsilon_i values for omega_2\n",
    "for i in range(n):\n",
    "    for j in range(n):\n",
    "        if i != j:\n",
    "            delta_2[i, j] = 1 / (epsilon[i] - epsilon[j] - omega_2)\n"
   ]
  },
  {
   "cell_type": "code",
   "execution_count": 514,
   "id": "1e1fb5dc",
   "metadata": {},
   "outputs": [],
   "source": [
    "chim1 = Matrix.zeros(n, n)\n",
    "chim2 = Matrix.zeros(n, n)\n",
    "for i in range(n):\n",
    "    for j in range(n):\n",
    "        if delta_1[i, j] != 0:\n",
    "            element = g_matrix[i, j]\n",
    "            if sp.im(element) != 0 and sp.re(element) == 0:  # Pure imaginary\n",
    "                magnitude = sp.im(element)\n",
    "                chim1[i, j] = (magnitude**2 * delta_1[i, j])\n",
    "                chim2[i, j] = (magnitude**2 * delta_2[i, j])\n",
    "            else:  # Real or complex\n",
    "                chim1[i, j] = (element**2 * delta_1[i, j])\n",
    "                chim2[i, j] = (element**2 * delta_2[i, j])\n",
    "        else:\n",
    "            chim1[i, j] = 0\n",
    "            chim2[i, j] = 0"
   ]
  },
  {
   "cell_type": "code",
   "execution_count": 515,
   "id": "f7f775b8",
   "metadata": {},
   "outputs": [],
   "source": [
    "chi0 = sum(chim1[0, j] for j in range(n))-sum(chim1[i, 0] for i in range(n))"
   ]
  },
  {
   "cell_type": "code",
   "execution_count": 516,
   "id": "d2f65c3e",
   "metadata": {},
   "outputs": [],
   "source": [
    "chi0 = remove_higher((chi0.expand()))"
   ]
  },
  {
   "cell_type": "code",
   "execution_count": 517,
   "id": "44ae3b0a",
   "metadata": {},
   "outputs": [
    {
     "data": {
      "text/latex": [
       "$\\displaystyle - \\frac{32 g_{3}^{2}}{\\alpha \\omega^{2} - \\omega^{2} \\omega_{1} + 2 \\omega^{2} \\omega_{p}} + \\frac{32 g_{3}^{2}}{- \\alpha \\omega^{2} - \\omega^{2} \\omega_{1} - 2 \\omega^{2} \\omega_{p}} + \\frac{76 g_{3}^{2}}{- \\omega^{2} \\omega_{1} + \\omega^{2} \\omega_{p}} - \\frac{76 g_{3}^{2}}{- \\omega^{2} \\omega_{1} - \\omega^{2} \\omega_{p}} - \\frac{12 g_{4}}{- \\omega \\omega_{1} + \\omega \\omega_{p}} + \\frac{12 g_{4}}{- \\omega \\omega_{1} - \\omega \\omega_{p}} - \\frac{1}{- \\omega_{1} + \\omega_{p}} + \\frac{1}{- \\omega_{1} - \\omega_{p}}$"
      ],
      "text/plain": [
       "-32*g3**2/(alpha*omega**2 - omega**2*omega_1 + 2*omega**2*omega_p) + 32*g3**2/(-alpha*omega**2 - omega**2*omega_1 - 2*omega**2*omega_p) + 76*g3**2/(-omega**2*omega_1 + omega**2*omega_p) - 76*g3**2/(-omega**2*omega_1 - omega**2*omega_p) - 12*g4/(-omega*omega_1 + omega*omega_p) + 12*g4/(-omega*omega_1 - omega*omega_p) - 1/(-omega_1 + omega_p) + 1/(-omega_1 - omega_p)"
      ]
     },
     "execution_count": 517,
     "metadata": {},
     "output_type": "execute_result"
    }
   ],
   "source": [
    "chi0"
   ]
  },
  {
   "cell_type": "code",
   "execution_count": 518,
   "id": "b376fe93",
   "metadata": {},
   "outputs": [],
   "source": [
    "disp = sum(chim1[1, j] for j in range(0,n))-sum(chim1[i, 1] for i in range(0,n))- (sum(chim1[0, j] for j in range(n))-sum(chim1[i, 0] for i in range(n)))"
   ]
  },
  {
   "cell_type": "code",
   "execution_count": 519,
   "id": "e681709b",
   "metadata": {},
   "outputs": [],
   "source": [
    "disp = remove_higher((disp.expand()))"
   ]
  },
  {
   "cell_type": "code",
   "execution_count": 520,
   "id": "460c6e29",
   "metadata": {},
   "outputs": [
    {
     "data": {
      "text/latex": [
       "$\\displaystyle - \\frac{96 g_{3}^{2}}{3 \\alpha \\omega^{2} - \\omega^{2} \\omega_{1} + 2 \\omega^{2} \\omega_{p}} + \\frac{32 g_{3}^{2}}{\\alpha \\omega^{2} - \\omega^{2} \\omega_{1} + 2 \\omega^{2} \\omega_{p}} + \\frac{304 g_{3}^{2}}{\\alpha \\omega^{2} - \\omega^{2} \\omega_{1} + \\omega^{2} \\omega_{p}} - \\frac{304 g_{3}^{2}}{- \\alpha \\omega^{2} - \\omega^{2} \\omega_{1} - \\omega^{2} \\omega_{p}} - \\frac{32 g_{3}^{2}}{- \\alpha \\omega^{2} - \\omega^{2} \\omega_{1} - 2 \\omega^{2} \\omega_{p}} + \\frac{96 g_{3}^{2}}{- 3 \\alpha \\omega^{2} - \\omega^{2} \\omega_{1} - 2 \\omega^{2} \\omega_{p}} - \\frac{152 g_{3}^{2}}{- \\omega^{2} \\omega_{1} + \\omega^{2} \\omega_{p}} + \\frac{152 g_{3}^{2}}{- \\omega^{2} \\omega_{1} - \\omega^{2} \\omega_{p}} - \\frac{48 g_{4}}{\\alpha \\omega - \\omega \\omega_{1} + \\omega \\omega_{p}} + \\frac{48 g_{4}}{- \\alpha \\omega - \\omega \\omega_{1} - \\omega \\omega_{p}} + \\frac{24 g_{4}}{- \\omega \\omega_{1} + \\omega \\omega_{p}} - \\frac{24 g_{4}}{- \\omega \\omega_{1} - \\omega \\omega_{p}} - \\frac{2}{\\alpha - \\omega_{1} + \\omega_{p}} + \\frac{2}{- \\alpha - \\omega_{1} - \\omega_{p}} + \\frac{2}{- \\omega_{1} + \\omega_{p}} - \\frac{2}{- \\omega_{1} - \\omega_{p}}$"
      ],
      "text/plain": [
       "-96*g3**2/(3*alpha*omega**2 - omega**2*omega_1 + 2*omega**2*omega_p) + 32*g3**2/(alpha*omega**2 - omega**2*omega_1 + 2*omega**2*omega_p) + 304*g3**2/(alpha*omega**2 - omega**2*omega_1 + omega**2*omega_p) - 304*g3**2/(-alpha*omega**2 - omega**2*omega_1 - omega**2*omega_p) - 32*g3**2/(-alpha*omega**2 - omega**2*omega_1 - 2*omega**2*omega_p) + 96*g3**2/(-3*alpha*omega**2 - omega**2*omega_1 - 2*omega**2*omega_p) - 152*g3**2/(-omega**2*omega_1 + omega**2*omega_p) + 152*g3**2/(-omega**2*omega_1 - omega**2*omega_p) - 48*g4/(alpha*omega - omega*omega_1 + omega*omega_p) + 48*g4/(-alpha*omega - omega*omega_1 - omega*omega_p) + 24*g4/(-omega*omega_1 + omega*omega_p) - 24*g4/(-omega*omega_1 - omega*omega_p) - 2/(alpha - omega_1 + omega_p) + 2/(-alpha - omega_1 - omega_p) + 2/(-omega_1 + omega_p) - 2/(-omega_1 - omega_p)"
      ]
     },
     "execution_count": 520,
     "metadata": {},
     "output_type": "execute_result"
    }
   ],
   "source": [
    "disp"
   ]
  },
  {
   "cell_type": "code",
   "execution_count": 521,
   "id": "4ca2b8b7",
   "metadata": {},
   "outputs": [
    {
     "data": {
      "text/latex": [
       "$\\displaystyle - \\frac{96 g_{3}^{2}}{3 \\alpha \\omega^{2} + \\omega^{2} \\omega_{1} + 2 \\omega^{2} \\omega_{p}} - \\frac{96 g_{3}^{2}}{3 \\alpha \\omega^{2} - \\omega^{2} \\omega_{1} + 2 \\omega^{2} \\omega_{p}} + \\frac{32 g_{3}^{2}}{\\alpha \\omega^{2} + \\omega^{2} \\omega_{1} + 2 \\omega^{2} \\omega_{p}} + \\frac{304 g_{3}^{2}}{\\alpha \\omega^{2} + \\omega^{2} \\omega_{1} + \\omega^{2} \\omega_{p}} + \\frac{32 g_{3}^{2}}{\\alpha \\omega^{2} - \\omega^{2} \\omega_{1} + 2 \\omega^{2} \\omega_{p}} + \\frac{304 g_{3}^{2}}{\\alpha \\omega^{2} - \\omega^{2} \\omega_{1} + \\omega^{2} \\omega_{p}} - \\frac{152 g_{3}^{2}}{\\omega^{2} \\omega_{1} + \\omega^{2} \\omega_{p}} + \\frac{152 g_{3}^{2}}{\\omega^{2} \\omega_{1} - \\omega^{2} \\omega_{p}} - \\frac{48 g_{4}}{\\alpha \\omega + \\omega \\omega_{1} + \\omega \\omega_{p}} - \\frac{48 g_{4}}{\\alpha \\omega - \\omega \\omega_{1} + \\omega \\omega_{p}} + \\frac{24 g_{4}}{\\omega \\omega_{1} + \\omega \\omega_{p}} - \\frac{24 g_{4}}{\\omega \\omega_{1} - \\omega \\omega_{p}} - \\frac{2}{\\alpha + \\omega_{1} + \\omega_{p}} - \\frac{2}{\\alpha - \\omega_{1} + \\omega_{p}} + \\frac{2}{\\omega_{1} + \\omega_{p}} - \\frac{2}{\\omega_{1} - \\omega_{p}}$"
      ],
      "text/plain": [
       "-96*g3**2/(3*alpha*omega**2 + omega**2*omega_1 + 2*omega**2*omega_p) - 96*g3**2/(3*alpha*omega**2 - omega**2*omega_1 + 2*omega**2*omega_p) + 32*g3**2/(alpha*omega**2 + omega**2*omega_1 + 2*omega**2*omega_p) + 304*g3**2/(alpha*omega**2 + omega**2*omega_1 + omega**2*omega_p) + 32*g3**2/(alpha*omega**2 - omega**2*omega_1 + 2*omega**2*omega_p) + 304*g3**2/(alpha*omega**2 - omega**2*omega_1 + omega**2*omega_p) - 152*g3**2/(omega**2*omega_1 + omega**2*omega_p) + 152*g3**2/(omega**2*omega_1 - omega**2*omega_p) - 48*g4/(alpha*omega + omega*omega_1 + omega*omega_p) - 48*g4/(alpha*omega - omega*omega_1 + omega*omega_p) + 24*g4/(omega*omega_1 + omega*omega_p) - 24*g4/(omega*omega_1 - omega*omega_p) - 2/(alpha + omega_1 + omega_p) - 2/(alpha - omega_1 + omega_p) + 2/(omega_1 + omega_p) - 2/(omega_1 - omega_p)"
      ]
     },
     "execution_count": 521,
     "metadata": {},
     "output_type": "execute_result"
    }
   ],
   "source": [
    "disp.simplify()"
   ]
  },
  {
   "cell_type": "code",
   "execution_count": 522,
   "id": "e4e64829",
   "metadata": {},
   "outputs": [],
   "source": [
    "correction = 12*(g4-5*g3**2/omega)"
   ]
  },
  {
   "cell_type": "code",
   "execution_count": 523,
   "id": "e8c7d180",
   "metadata": {},
   "outputs": [],
   "source": [
    "disp = (disp.subs(omegap,correction+omega)).subs(alpha,correction)"
   ]
  },
  {
   "cell_type": "code",
   "execution_count": 524,
   "id": "710031e5",
   "metadata": {},
   "outputs": [],
   "source": [
    "E =disp\n",
    "x = symbols('x', real=True)\n",
    "y= symbols('y', real=True)\n",
    "E=E.subs(g3**2,x*omega**2)\n",
    "E=E.subs(g4,y*omega)\n",
    "from sympy import symbols, diff\n",
    "f_0 = E.subs({x: 0, y: 0})\n",
    "df_dx = diff(E, x).subs({x: 0, y: 0}) * (x - 0)\n",
    "df_dy = diff(E, y).subs({x: 0, y: 0}) * (y - 0)\n",
    "\n",
    "taylor_first_order = f_0 + df_dx + df_dy\n",
    "\n",
    "disp = taylor_first_order.expand().subs(y,g4/omega).subs(x,g3**2/omega**2)"
   ]
  },
  {
   "cell_type": "code",
   "execution_count": 525,
   "id": "25a49088",
   "metadata": {},
   "outputs": [
    {
     "data": {
      "text/latex": [
       "$\\displaystyle - \\frac{120 g_{3}^{2}}{\\omega \\left(\\omega^{2} + 2 \\omega \\omega_{1} + \\omega_{1}^{2}\\right)} - \\frac{120 g_{3}^{2}}{\\omega \\left(\\omega^{2} - 2 \\omega \\omega_{1} + \\omega_{1}^{2}\\right)} - \\frac{64 g_{3}^{2}}{\\omega^{2} \\cdot \\left(2 \\omega + \\omega_{1}\\right)} - \\frac{64 g_{3}^{2}}{\\omega^{2} \\cdot \\left(2 \\omega - \\omega_{1}\\right)} + \\frac{152 g_{3}^{2}}{\\omega^{2} \\left(\\omega + \\omega_{1}\\right)} + \\frac{152 g_{3}^{2}}{\\omega^{2} \\left(\\omega - \\omega_{1}\\right)} + \\frac{24 g_{4}}{\\omega^{2} + 2 \\omega \\omega_{1} + \\omega_{1}^{2}} + \\frac{24 g_{4}}{\\omega^{2} - 2 \\omega \\omega_{1} + \\omega_{1}^{2}} - \\frac{24 g_{4}}{\\omega \\left(\\omega + \\omega_{1}\\right)} - \\frac{24 g_{4}}{\\omega \\left(\\omega - \\omega_{1}\\right)}$"
      ],
      "text/plain": [
       "-120*g3**2/(omega*(omega**2 + 2*omega*omega_1 + omega_1**2)) - 120*g3**2/(omega*(omega**2 - 2*omega*omega_1 + omega_1**2)) - 64*g3**2/(omega**2*(2*omega + omega_1)) - 64*g3**2/(omega**2*(2*omega - omega_1)) + 152*g3**2/(omega**2*(omega + omega_1)) + 152*g3**2/(omega**2*(omega - omega_1)) + 24*g4/(omega**2 + 2*omega*omega_1 + omega_1**2) + 24*g4/(omega**2 - 2*omega*omega_1 + omega_1**2) - 24*g4/(omega*(omega + omega_1)) - 24*g4/(omega*(omega - omega_1))"
      ]
     },
     "execution_count": 525,
     "metadata": {},
     "output_type": "execute_result"
    }
   ],
   "source": [
    "temp = 0\n",
    "for term in disp.args:\n",
    "    temp += term.simplify()\n",
    "temp"
   ]
  },
  {
   "cell_type": "code",
   "execution_count": 526,
   "id": "4b5855ad",
   "metadata": {},
   "outputs": [],
   "source": [
    "ind_b = symbols('c')\n",
    "b = B(ind_b)\n",
    "bd = Bd(ind_b)\n",
    "omega_b = symbols('omega_1', real=True)\n",
    "def _m_normal(expr):\n",
    "    if not expr.is_Mul:\n",
    "        return expr\n",
    "    else:\n",
    "        c_part = []\n",
    "        string = []\n",
    "        for factor in expr.args:\n",
    "            if factor.is_commutative:\n",
    "                c_part.append(factor)\n",
    "            else:\n",
    "                string.append(factor)\n",
    "                \n",
    "        expr_a = 1\n",
    "        expr_b = 1\n",
    "        expr_c = 1\n",
    "        \n",
    "        for factor in string:\n",
    "            if factor.is_Pow:\n",
    "                if factor.args[0].args[0] == ind_a:\n",
    "                    expr_a *= factor\n",
    "                elif factor.args[0].args[0] == ind_b:\n",
    "                    expr_b *= factor\n",
    "                else:\n",
    "                    expr_c *= factor\n",
    "            else:\n",
    "                if factor.args[0] == ind_a:\n",
    "                    expr_a *= factor\n",
    "                elif factor.args[0] == ind_b:\n",
    "                    expr_b *= factor\n",
    "                else:\n",
    "                    expr_c *= factor\n",
    "                    \n",
    "        if expr_a != 1:\n",
    "            expr_a = normal(expr_a)\n",
    "        if expr_b != 1:\n",
    "            expr_b = normal(expr_b)\n",
    "        if expr_c != 1:\n",
    "            expr_c = normal(expr_c)\n",
    "    \n",
    "        return sp.Mul(*c_part) * expr_a * expr_b * expr_c    \n",
    "\n",
    "def m_normal(expr):\n",
    "    expr = expr.expand()\n",
    "    if isinstance(expr, sp.Add):\n",
    "        return sp.Add(*[_m_normal(term) for term in expr.args])\n",
    "    else:\n",
    "        return _m_normal(expr)"
   ]
  },
  {
   "cell_type": "code",
   "execution_count": 527,
   "id": "e38b7762",
   "metadata": {},
   "outputs": [],
   "source": [
    "from sympy.physics.quantum import TensorProduct\n",
    "nb=5\n",
    "b = sp.zeros(nb)\n",
    "b_dagger = sp.zeros(nb)\n",
    "for i in range(nb-1):\n",
    "    b[i, i+1] = sqrt(i+1)\n",
    "    b_dagger[i+1, i] = sqrt(i+1)\n",
    "# V = TensorProduct(Matrix(g_matrix),Matrix( b+b_dagger))\n",
    "V = TensorProduct(Matrix(upper_tri),Matrix( b_dagger))+TensorProduct(Matrix(lower_tri),Matrix( b))\n",
    "ENN = [\n",
    "    i * omegap - i*(i-1) * alpha / 2 + j * omega_b\n",
    "    for i in range(n)\n",
    "    for j in range(nb)\n",
    "]"
   ]
  },
  {
   "cell_type": "code",
   "execution_count": 528,
   "id": "98b69bb4",
   "metadata": {},
   "outputs": [],
   "source": [
    "\n",
    "import sympy as sp\n",
    "\n",
    "\n",
    "# Matrix elements of V in the eigenbasis of H0\n",
    "V_ij = V\n",
    "\n",
    "# Compute the fourth order energy correction for the ground state |0>\n",
    "\n",
    "def energy_sec(N):\n",
    "    E2_N = 0  # Initialize the fourth order correction\n",
    "    EN = ENN[N]\n",
    "    dim = n*nb\n",
    "    for m in range(dim):\n",
    "        if m != N:\n",
    "            VNm = V_ij[N, m]\n",
    "            if sp.im(VNm) != 0 and sp.re(VNm) == 0:  # Pure imaginary\n",
    "                VNm = sp.im(VNm)\n",
    "            E2_N = E2_N + (VNm**2/(EN - ENN[m])) \n",
    "    return E2_N\n",
    "\n",
    "def energy_four(N):\n",
    "    E4_N = 0  # Initialize the fourth order correction\n",
    "    EN = ENN[N]\n",
    "    dim = n*nb\n",
    "    for m in range(dim):\n",
    "        if m != N and V_ij[N, m] !=0 :\n",
    "            for p in range(dim):\n",
    "                if p != N and V_ij[m, p]!=0 :\n",
    "                    for l in range(dim):\n",
    "                        if l != N and V_ij[p, l]!=0 and V_ij[l, N]!=0:\n",
    "                            # Contribution from the main term\n",
    "                            E4_N += ((V_ij[N, m] * V_ij[m, p] * V_ij[p, l] * V_ij[l, N] /\n",
    "                                     ((EN - ENN[m]) * (EN - ENN[p]) * (EN - ENN[l]))))\n",
    "\n",
    "    for m in range(dim):\n",
    "        if m != N:\n",
    "            for p in range(dim):\n",
    "                if p != N:\n",
    "                    VNm = V_ij[N, m]\n",
    "                    VNp = V_ij[N, p]\n",
    "                    if VNm == 0 or VNp ==0:\n",
    "                        continue\n",
    "                    if sp.im(VNm) != 0 and sp.re(VNm) == 0:  # Pure imaginary\n",
    "                        VNm = sp.im(VNm)\n",
    "                    if sp.im(VNp) != 0 and sp.re(VNp) == 0:  # Pure imaginary    \n",
    "                        VNp = sp.im(VNp)\n",
    "                    E4_N = E4_N - ((VNm**2/(EN - ENN[m])**2) * (VNp**2/(EN - ENN[p])))\n",
    "    return E4_N\n"
   ]
  },
  {
   "cell_type": "code",
   "execution_count": 560,
   "id": "d9e40ac1",
   "metadata": {},
   "outputs": [],
   "source": [
    "ec = energy_sec(1)\n",
    "ec = (ec.subs(omegap,correction+omega)).subs(alpha,correction)\n",
    "E =ec\n",
    "x = symbols('x', real=True)\n",
    "y= symbols('y', real=True)\n",
    "E=E.subs(g3**2,x*omega**2)\n",
    "E=E.subs(g4,y*omega)\n",
    "from sympy import symbols, diff\n",
    "f_0 = E.subs({x: 0, y: 0})\n",
    "df_dx = diff(E, x).subs({x: 0, y: 0}) * (x - 0)\n",
    "df_dy = diff(E, y).subs({x: 0, y: 0}) * (y - 0)\n",
    "\n",
    "taylor_first_order = f_0 + df_dx + df_dy\n",
    "\n",
    "ec = taylor_first_order.expand().subs(y,g4/omega).subs(x,g3**2/omega**2)"
   ]
  },
  {
   "cell_type": "code",
   "execution_count": 562,
   "id": "220dd16d",
   "metadata": {},
   "outputs": [
    {
     "data": {
      "text/latex": [
       "$\\displaystyle - \\frac{60 g_{3}^{2}}{\\omega \\left(\\omega^{2} - 2 \\omega \\omega_{1} + \\omega_{1}^{2}\\right)} - \\frac{32 g_{3}^{2}}{\\omega^{2} \\cdot \\left(2 \\omega - \\omega_{1}\\right)} + \\frac{76 g_{3}^{2}}{\\omega^{2} \\left(\\omega - \\omega_{1}\\right)} + \\frac{12 g_{4}}{\\omega^{2} - 2 \\omega \\omega_{1} + \\omega_{1}^{2}} - \\frac{12 g_{4}}{\\omega \\left(\\omega - \\omega_{1}\\right)} - \\frac{1}{\\omega - \\omega_{1}}$"
      ],
      "text/plain": [
       "-60*g3**2/(omega*(omega**2 - 2*omega*omega_1 + omega_1**2)) - 32*g3**2/(omega**2*(2*omega - omega_1)) + 76*g3**2/(omega**2*(omega - omega_1)) + 12*g4/(omega**2 - 2*omega*omega_1 + omega_1**2) - 12*g4/(omega*(omega - omega_1)) - 1/(omega - omega_1)"
      ]
     },
     "execution_count": 562,
     "metadata": {},
     "output_type": "execute_result"
    }
   ],
   "source": [
    "temp = 0\n",
    "for term in ec.args:\n",
    "    temp += term.simplify()\n",
    "temp"
   ]
  },
  {
   "cell_type": "code",
   "execution_count": 548,
   "id": "27808936",
   "metadata": {},
   "outputs": [],
   "source": [
    "disp = energy_sec(nb+1) - energy_sec(nb) - energy_sec(1)"
   ]
  },
  {
   "cell_type": "code",
   "execution_count": 549,
   "id": "5a0ec16f",
   "metadata": {},
   "outputs": [],
   "source": [
    "disp = (disp.subs(omegap,correction+omega)).subs(alpha,correction)"
   ]
  },
  {
   "cell_type": "code",
   "execution_count": 550,
   "id": "b3d66821",
   "metadata": {},
   "outputs": [],
   "source": [
    "E =disp\n",
    "x = symbols('x', real=True)\n",
    "y= symbols('y', real=True)\n",
    "E=E.subs(g3**2,x*omega**2)\n",
    "E=E.subs(g4,y*omega)\n",
    "from sympy import symbols, diff\n",
    "f_0 = E.subs({x: 0, y: 0})\n",
    "df_dx = diff(E, x).subs({x: 0, y: 0}) * (x - 0)\n",
    "df_dy = diff(E, y).subs({x: 0, y: 0}) * (y - 0)\n",
    "\n",
    "taylor_first_order = f_0 + df_dx + df_dy\n",
    "\n",
    "disp = taylor_first_order.expand().subs(y,g4/omega).subs(x,g3**2/omega**2)"
   ]
  },
  {
   "cell_type": "code",
   "execution_count": 558,
   "id": "86eba6d5",
   "metadata": {},
   "outputs": [
    {
     "data": {
      "text/latex": [
       "$\\displaystyle \\frac{120 g_{3}^{2}}{\\omega \\left(\\omega^{2} - 2 \\omega \\omega_{1} + \\omega_{1}^{2}\\right)} - \\frac{64 g_{3}^{2}}{\\omega^{2} \\cdot \\left(2 \\omega - \\omega_{1}\\right)} + \\frac{152 g_{3}^{2}}{\\omega^{2} \\left(\\omega - \\omega_{1}\\right)} - \\frac{24 g_{4}}{\\omega^{2} - 2 \\omega \\omega_{1} + \\omega_{1}^{2}} - \\frac{24 g_{4}}{\\omega \\left(\\omega - \\omega_{1}\\right)}$"
      ],
      "text/plain": [
       "120*g3**2/(omega*(omega**2 - 2*omega*omega_1 + omega_1**2)) - 64*g3**2/(omega**2*(2*omega - omega_1)) + 152*g3**2/(omega**2*(omega - omega_1)) - 24*g4/(omega**2 - 2*omega*omega_1 + omega_1**2) - 24*g4/(omega*(omega - omega_1))"
      ]
     },
     "execution_count": 558,
     "metadata": {},
     "output_type": "execute_result"
    }
   ],
   "source": [
    "temp = 0\n",
    "for term in disp.args:\n",
    "    temp += term.simplify()\n",
    "temp"
   ]
  },
  {
   "cell_type": "code",
   "execution_count": 529,
   "id": "9722b5da",
   "metadata": {},
   "outputs": [],
   "source": [
    "kerr = energy_four(2) - 2*energy_four(1) + energy_four(0)"
   ]
  },
  {
   "cell_type": "code",
   "execution_count": 530,
   "id": "8fd39cad",
   "metadata": {},
   "outputs": [],
   "source": [
    "kerr = (kerr.subs(omegap,correction+omega)).subs(alpha,correction)"
   ]
  },
  {
   "cell_type": "code",
   "execution_count": 531,
   "id": "51a61bb0",
   "metadata": {},
   "outputs": [],
   "source": [
    "kerr = remove_higher(kerr)"
   ]
  },
  {
   "cell_type": "code",
   "execution_count": 481,
   "id": "d7fca04d",
   "metadata": {
    "scrolled": true
   },
   "outputs": [],
   "source": [
    "terms = kerr.as_ordered_terms()\n",
    "\n",
    "# Process each term\n",
    "new_terms = []\n",
    "for term in terms:\n",
    "    # Check if the term is a rational expression\n",
    "    if term.is_rational_function():\n",
    "        # Extract the numerator and the denominator\n",
    "        num, denom = term.as_numer_denom()\n",
    "        # Expand the numerator\n",
    "        expanded_num = sp.expand(num)\n",
    "        # Recombine with the original denominator\n",
    "        new_term = expanded_num / denom\n",
    "        new_terms.append(new_term)\n",
    "    else:\n",
    "        # If not a rational function, just keep the term as is\n",
    "        new_terms.append(term)\n",
    "\n",
    "# Sum the processed terms to form the new 'kerr' expression\n",
    "new_kerr = sum(new_terms)\n"
   ]
  },
  {
   "cell_type": "code",
   "execution_count": 482,
   "id": "e1eda5ac",
   "metadata": {},
   "outputs": [],
   "source": [
    "kerr = new_kerr"
   ]
  },
  {
   "cell_type": "code",
   "execution_count": 483,
   "id": "ea245a8c",
   "metadata": {},
   "outputs": [],
   "source": [
    "E =kerr\n",
    "x = symbols('x', real=True)\n",
    "y= symbols('y', real=True)\n",
    "E=E.subs(g3**2,x*omega**2)\n",
    "E=E.subs(g4,y*omega)\n",
    "from sympy import symbols, diff\n",
    "f_0 = E.subs({x: 0, y: 0})\n",
    "df_dx = diff(E, x).subs({x: 0, y: 0}) * (x - 0)\n",
    "df_dy = diff(E, y).subs({x: 0, y: 0}) * (y - 0)\n",
    "\n",
    "taylor_first_order = 0 + df_dx + df_dy\n",
    "\n",
    "kerr = taylor_first_order.expand().subs(y,g4/omega).subs(x,g3**2/omega**2)"
   ]
  },
  {
   "cell_type": "code",
   "execution_count": 484,
   "id": "fbcbab1b",
   "metadata": {},
   "outputs": [],
   "source": [
    "terms = kerr.as_ordered_terms()\n",
    "\n",
    "# Process each term\n",
    "new_terms = []\n",
    "for term in terms:\n",
    "    # Check if the term is a rational expression\n",
    "    if term.is_rational_function():\n",
    "        # Extract the numerator and the denominator\n",
    "        num, denom = term.as_numer_denom()\n",
    "        # Simplify the denominator\n",
    "        simplified_denom = sp.factor(denom)\n",
    "        # Recombine with the original numerator\n",
    "        new_term = num / simplified_denom\n",
    "        new_terms.append(new_term)\n",
    "    else:\n",
    "        # If not a rational function, just keep the term as is\n",
    "        new_terms.append(term)\n",
    "\n",
    "# Sum the processed terms to form the new 'kerr' expression\n",
    "new_kerr = sum(new_terms)"
   ]
  },
  {
   "cell_type": "code",
   "execution_count": 485,
   "id": "c12850d6",
   "metadata": {},
   "outputs": [
    {
     "data": {
      "text/latex": [
       "$\\displaystyle \\frac{60 g_{3}^{2}}{\\omega \\left(\\omega - \\omega_{1}\\right)^{4}} - \\frac{192 g_{3}^{2}}{\\omega^{2} \\left(2 \\omega - \\omega_{1}\\right)^{2} \\cdot \\left(3 \\omega - 2 \\omega_{1}\\right)} - \\frac{384 g_{3}^{2}}{\\omega^{2} \\left(\\omega - \\omega_{1}\\right) \\left(2 \\omega - \\omega_{1}\\right) \\left(3 \\omega - 2 \\omega_{1}\\right)} + \\frac{64 g_{3}^{2}}{\\omega^{2} \\left(\\omega - \\omega_{1}\\right) \\left(2 \\omega - \\omega_{1}\\right)^{2}} - \\frac{192 g_{3}^{2}}{\\omega^{2} \\left(\\omega - \\omega_{1}\\right)^{2} \\cdot \\left(3 \\omega - 2 \\omega_{1}\\right)} + \\frac{64 g_{3}^{2}}{\\omega^{2} \\left(\\omega - \\omega_{1}\\right)^{2} \\cdot \\left(2 \\omega - \\omega_{1}\\right)} + \\frac{152 g_{3}^{2}}{\\omega^{2} \\left(\\omega - \\omega_{1}\\right)^{3}} - \\frac{128 g_{3}^{2}}{\\omega^{3} \\left(2 \\omega - \\omega_{1}\\right)^{2}} - \\frac{12 g_{4}}{\\left(\\omega - \\omega_{1}\\right)^{4}} - \\frac{24 g_{4}}{\\omega \\left(\\omega - \\omega_{1}\\right)^{3}}$"
      ],
      "text/plain": [
       "60*g3**2/(omega*(omega - omega_1)**4) - 192*g3**2/(omega**2*(2*omega - omega_1)**2*(3*omega - 2*omega_1)) - 384*g3**2/(omega**2*(omega - omega_1)*(2*omega - omega_1)*(3*omega - 2*omega_1)) + 64*g3**2/(omega**2*(omega - omega_1)*(2*omega - omega_1)**2) - 192*g3**2/(omega**2*(omega - omega_1)**2*(3*omega - 2*omega_1)) + 64*g3**2/(omega**2*(omega - omega_1)**2*(2*omega - omega_1)) + 152*g3**2/(omega**2*(omega - omega_1)**3) - 128*g3**2/(omega**3*(2*omega - omega_1)**2) - 12*g4/(omega - omega_1)**4 - 24*g4/(omega*(omega - omega_1)**3)"
      ]
     },
     "execution_count": 485,
     "metadata": {},
     "output_type": "execute_result"
    }
   ],
   "source": [
    "new_kerr"
   ]
  },
  {
   "cell_type": "code",
   "execution_count": 488,
   "id": "84a7dcf4",
   "metadata": {},
   "outputs": [],
   "source": [
    "from sympy.physics.quantum import TensorProduct\n",
    "from sympy import eye\n",
    "nb1=4\n",
    "nb2=4\n",
    "omega_b1 = symbols('omega_c1', real=True)\n",
    "omega_b2 = symbols('omega_c2', real=True)\n",
    "b = sp.zeros(nb1)\n",
    "b_dagger = sp.zeros(nb1)\n",
    "for i in range(nb1-1):\n",
    "    b[i, i+1] = sqrt(i+1)\n",
    "    b_dagger[i+1, i] = sqrt(i+1)\n",
    "    \n",
    "v1 = TensorProduct(Matrix(upper_tri),Matrix( b_dagger))+TensorProduct(Matrix(lower_tri),Matrix(b))\n",
    "v1 = TensorProduct(v1,eye(nb1))\n",
    "v2up = TensorProduct(Matrix(upper_tri),eye(nb1))\n",
    "v2lo = TensorProduct(Matrix(lower_tri),eye(nb1))\n",
    "v2 = TensorProduct(v2up,Matrix( b_dagger))+TensorProduct(v2lo,Matrix( b))\n",
    "\n",
    "\n",
    "# v1 = TensorProduct(Matrix(g_matrix),Matrix( b+b_dagger))\n",
    "# v2 = TensorProduct(Matrix(g_matrix),eye(nb1))\n",
    "# v2 = TensorProduct(v2,Matrix( b+b_dagger))\n",
    "V=v1+v2\n",
    "ENN = [\n",
    "    i * omegap - i*(i-1) * alpha / 2 + j * omega_b1+l * omega_b2\n",
    "    for i in range(n)\n",
    "    for j in range(nb1)\n",
    "    for l in range(nb2)\n",
    "]"
   ]
  },
  {
   "cell_type": "code",
   "execution_count": 489,
   "id": "aafa5783",
   "metadata": {},
   "outputs": [],
   "source": [
    "def energy_four(N):\n",
    "    V_ij = V\n",
    "    E4_N = 0  # Initialize the fourth order correction\n",
    "    EN = ENN[N]\n",
    "    dim = n*nb1*nb2\n",
    "    for m in range(dim):\n",
    "        if m != N and V_ij[N, m] !=0 :\n",
    "            for p in range(dim):\n",
    "                if p != N and V_ij[m, p]!=0 :\n",
    "                    for l in range(dim):\n",
    "                        if l != N and V_ij[p, l]!=0 and V_ij[l, N]!=0:\n",
    "                            # Contribution from the main term\n",
    "                            E4_N += (((V_ij[N, m] * V_ij[m, p] * V_ij[p, l] * V_ij[l, N] /\n",
    "                                     ((EN - ENN[m]) * (EN - ENN[p]) * (EN - ENN[l]))))).simplify()\n",
    "\n",
    "    for m in range(dim):\n",
    "        if m != N:\n",
    "            for p in range(dim):\n",
    "                if p != N:\n",
    "                    VNm = V_ij[N, m]\n",
    "                    VNp = V_ij[N, p]\n",
    "                    if VNm == 0 or VNp ==0:\n",
    "                        continue\n",
    "                    if sp.im(VNm) != 0 and sp.re(VNm) == 0:  # Pure imaginary\n",
    "                        VNm = sp.im(VNm)\n",
    "                    if sp.im(VNp) != 0 and sp.re(VNp) == 0:  # Pure imaginary    \n",
    "                        VNp = sp.im(VNp)\n",
    "                    E4_N = E4_N - ((VNm**2/(EN - ENN[m])**2) * (VNp**2/(EN - ENN[p]))).simplify()\n",
    "    return E4_N"
   ]
  },
  {
   "cell_type": "code",
   "execution_count": 490,
   "id": "8f3fff0d",
   "metadata": {},
   "outputs": [],
   "source": [
    "ck = energy_four(nb1+1) - energy_four(nb1) - energy_four(1) + energy_four(0)"
   ]
  },
  {
   "cell_type": "code",
   "execution_count": 491,
   "id": "eb0e1ee8",
   "metadata": {},
   "outputs": [],
   "source": [
    "ck = (ck.subs(omegap,correction+omega)).subs(alpha,correction)"
   ]
  },
  {
   "cell_type": "code",
   "execution_count": 492,
   "id": "3185df48",
   "metadata": {},
   "outputs": [],
   "source": [
    "terms = ck.as_ordered_terms()\n",
    "\n",
    "# Process each term\n",
    "new_terms = []\n",
    "for term in terms:\n",
    "    # Check if the term is a rational expression\n",
    "    if term.is_rational_function():\n",
    "        # Extract the numerator and the denominator\n",
    "        num, denom = term.as_numer_denom()\n",
    "        # Simplify the denominator\n",
    "        simplified_denom = sp.factor(denom)\n",
    "        # Recombine with the original numerator\n",
    "        new_term = num / simplified_denom\n",
    "        new_terms.append(new_term)\n",
    "    else:\n",
    "        # If not a rational function, just keep the term as is\n",
    "        new_terms.append(term)\n",
    "\n",
    "# Sum the processed terms to form the new 'kerr' expression\n",
    "ck = sum(new_terms)"
   ]
  },
  {
   "cell_type": "code",
   "execution_count": 493,
   "id": "d0b74ca2",
   "metadata": {},
   "outputs": [],
   "source": [
    "E =ck\n",
    "x = symbols('x', real=True)\n",
    "y= symbols('y', real=True)\n",
    "E=E.subs(g3**2,x*omega**2)\n",
    "E=E.subs(g4,y*omega)\n",
    "from sympy import symbols, diff\n",
    "f_0 = E.subs({x: 0, y: 0})\n",
    "df_dx = diff(E, x).subs({x: 0, y: 0}) * (x - 0)\n",
    "df_dy = diff(E, y).subs({x: 0, y: 0}) * (y - 0)\n",
    "\n",
    "taylor_first_order = 0 + df_dx + df_dy\n",
    "\n",
    "ck = taylor_first_order.expand().subs(y,g4/omega).subs(x,g3**2/omega**2)"
   ]
  },
  {
   "cell_type": "code",
   "execution_count": 496,
   "id": "465e0fb4",
   "metadata": {},
   "outputs": [],
   "source": [
    "terms = ck.as_ordered_terms()\n",
    "\n",
    "# Process each term\n",
    "new_terms = []\n",
    "for term in terms:\n",
    "    # Check if the term is a rational expression\n",
    "    if term.is_rational_function():\n",
    "        # Extract the numerator and the denominator\n",
    "        num, denom = term.as_numer_denom()\n",
    "        # Simplify the denominator\n",
    "        simplified_denom = sp.factor(denom)\n",
    "        # Recombine with the original numerator\n",
    "        new_term = num / simplified_denom\n",
    "        new_terms.append(new_term)\n",
    "    else:\n",
    "        # If not a rational function, just keep the term as is\n",
    "        new_terms.append(term)\n",
    "\n",
    "# Sum the processed terms to form the new 'kerr' expression\n",
    "new_ck = sum(new_terms)"
   ]
  },
  {
   "cell_type": "code",
   "execution_count": 498,
   "id": "ab5c6040",
   "metadata": {},
   "outputs": [
    {
     "data": {
      "text/latex": [
       "$\\displaystyle - \\frac{120 g_{3}^{2}}{\\omega \\left(\\omega - \\omega_{c2}\\right)^{2} \\left(2 \\omega - \\omega_{c1} - \\omega_{c2}\\right)^{2}} - \\frac{240 g_{3}^{2}}{\\omega \\left(\\omega - \\omega_{c2}\\right)^{3} \\cdot \\left(2 \\omega - \\omega_{c1} - \\omega_{c2}\\right)} - \\frac{120 g_{3}^{2}}{\\omega \\left(\\omega - \\omega_{c2}\\right)^{3} \\left(\\omega_{c1} - \\omega_{c2}\\right)} - \\frac{240 g_{3}^{2}}{\\omega \\left(\\omega - \\omega_{c1}\\right) \\left(\\omega - \\omega_{c2}\\right) \\left(2 \\omega - \\omega_{c1} - \\omega_{c2}\\right)^{2}} - \\frac{240 g_{3}^{2}}{\\omega \\left(\\omega - \\omega_{c1}\\right) \\left(\\omega - \\omega_{c2}\\right)^{2} \\cdot \\left(2 \\omega - \\omega_{c1} - \\omega_{c2}\\right)} + \\frac{120 g_{3}^{2}}{\\omega \\left(\\omega - \\omega_{c1}\\right) \\left(\\omega - \\omega_{c2}\\right)^{3}} - \\frac{120 g_{3}^{2}}{\\omega \\left(\\omega - \\omega_{c1}\\right)^{2} \\left(2 \\omega - \\omega_{c1} - \\omega_{c2}\\right)^{2}} - \\frac{240 g_{3}^{2}}{\\omega \\left(\\omega - \\omega_{c1}\\right)^{2} \\left(\\omega - \\omega_{c2}\\right) \\left(2 \\omega - \\omega_{c1} - \\omega_{c2}\\right)} + \\frac{120 g_{3}^{2}}{\\omega \\left(\\omega - \\omega_{c1}\\right)^{2} \\left(\\omega - \\omega_{c2}\\right)^{2}} - \\frac{240 g_{3}^{2}}{\\omega \\left(\\omega - \\omega_{c1}\\right)^{3} \\cdot \\left(2 \\omega - \\omega_{c1} - \\omega_{c2}\\right)} + \\frac{120 g_{3}^{2}}{\\omega \\left(\\omega - \\omega_{c1}\\right)^{3} \\left(\\omega_{c1} - \\omega_{c2}\\right)} + \\frac{120 g_{3}^{2}}{\\omega \\left(\\omega - \\omega_{c1}\\right)^{3} \\left(\\omega - \\omega_{c2}\\right)} - \\frac{96 g_{3}^{2}}{\\omega^{2} \\left(2 \\omega - \\omega_{c2}\\right)^{2} \\cdot \\left(3 \\omega - \\omega_{c1} - \\omega_{c2}\\right)} - \\frac{64 g_{3}^{2}}{\\omega^{2} \\left(2 \\omega - \\omega_{c2}\\right)^{2} \\left(\\omega + \\omega_{c1} - \\omega_{c2}\\right)} - \\frac{192 g_{3}^{2}}{\\omega^{2} \\cdot \\left(2 \\omega - \\omega_{c1}\\right) \\left(2 \\omega - \\omega_{c2}\\right) \\left(3 \\omega - \\omega_{c1} - \\omega_{c2}\\right)} - \\frac{96 g_{3}^{2}}{\\omega^{2} \\left(2 \\omega - \\omega_{c1}\\right)^{2} \\cdot \\left(3 \\omega - \\omega_{c1} - \\omega_{c2}\\right)} - \\frac{64 g_{3}^{2}}{\\omega^{2} \\left(2 \\omega - \\omega_{c1}\\right)^{2} \\left(\\omega - \\omega_{c1} + \\omega_{c2}\\right)} - \\frac{192 g_{3}^{2}}{\\omega^{2} \\left(\\omega - \\omega_{c2}\\right) \\left(2 \\omega - \\omega_{c2}\\right) \\left(3 \\omega - \\omega_{c1} - \\omega_{c2}\\right)} - \\frac{64 g_{3}^{2}}{\\omega^{2} \\left(\\omega - \\omega_{c2}\\right) \\left(2 \\omega - \\omega_{c2}\\right) \\left(\\omega_{c1} - \\omega_{c2}\\right)} - \\frac{192 g_{3}^{2}}{\\omega^{2} \\left(\\omega - \\omega_{c2}\\right) \\left(2 \\omega - \\omega_{c1}\\right) \\left(3 \\omega - \\omega_{c1} - \\omega_{c2}\\right)} + \\frac{32 g_{3}^{2}}{\\omega^{2} \\left(\\omega - \\omega_{c2}\\right) \\left(2 \\omega - \\omega_{c1}\\right)^{2}} - \\frac{96 g_{3}^{2}}{\\omega^{2} \\left(\\omega - \\omega_{c2}\\right)^{2} \\cdot \\left(3 \\omega - \\omega_{c1} - \\omega_{c2}\\right)} + \\frac{456 g_{3}^{2}}{\\omega^{2} \\left(\\omega - \\omega_{c2}\\right)^{2} \\cdot \\left(2 \\omega - \\omega_{c1} - \\omega_{c2}\\right)} + \\frac{152 g_{3}^{2}}{\\omega^{2} \\left(\\omega - \\omega_{c2}\\right)^{2} \\left(\\omega_{c1} - \\omega_{c2}\\right)} + \\frac{32 g_{3}^{2}}{\\omega^{2} \\left(\\omega - \\omega_{c2}\\right)^{2} \\cdot \\left(2 \\omega - \\omega_{c1}\\right)} - \\frac{192 g_{3}^{2}}{\\omega^{2} \\left(\\omega - \\omega_{c1}\\right) \\left(2 \\omega - \\omega_{c2}\\right) \\left(3 \\omega - \\omega_{c1} - \\omega_{c2}\\right)} + \\frac{32 g_{3}^{2}}{\\omega^{2} \\left(\\omega - \\omega_{c1}\\right) \\left(2 \\omega - \\omega_{c2}\\right)^{2}} - \\frac{192 g_{3}^{2}}{\\omega^{2} \\left(\\omega - \\omega_{c1}\\right) \\left(2 \\omega - \\omega_{c1}\\right) \\left(3 \\omega - \\omega_{c1} - \\omega_{c2}\\right)} + \\frac{64 g_{3}^{2}}{\\omega^{2} \\left(\\omega - \\omega_{c1}\\right) \\left(2 \\omega - \\omega_{c1}\\right) \\left(\\omega_{c1} - \\omega_{c2}\\right)} - \\frac{192 g_{3}^{2}}{\\omega^{2} \\left(\\omega - \\omega_{c1}\\right) \\left(\\omega - \\omega_{c2}\\right) \\left(3 \\omega - \\omega_{c1} - \\omega_{c2}\\right)} + \\frac{912 g_{3}^{2}}{\\omega^{2} \\left(\\omega - \\omega_{c1}\\right) \\left(\\omega - \\omega_{c2}\\right) \\left(2 \\omega - \\omega_{c1} - \\omega_{c2}\\right)} - \\frac{152 g_{3}^{2}}{\\omega^{2} \\left(\\omega - \\omega_{c1}\\right) \\left(\\omega - \\omega_{c2}\\right)^{2}} - \\frac{96 g_{3}^{2}}{\\omega^{2} \\left(\\omega - \\omega_{c1}\\right)^{2} \\cdot \\left(3 \\omega - \\omega_{c1} - \\omega_{c2}\\right)} + \\frac{456 g_{3}^{2}}{\\omega^{2} \\left(\\omega - \\omega_{c1}\\right)^{2} \\cdot \\left(2 \\omega - \\omega_{c1} - \\omega_{c2}\\right)} - \\frac{152 g_{3}^{2}}{\\omega^{2} \\left(\\omega - \\omega_{c1}\\right)^{2} \\left(\\omega_{c1} - \\omega_{c2}\\right)} + \\frac{32 g_{3}^{2}}{\\omega^{2} \\left(\\omega - \\omega_{c1}\\right)^{2} \\cdot \\left(2 \\omega - \\omega_{c2}\\right)} - \\frac{152 g_{3}^{2}}{\\omega^{2} \\left(\\omega - \\omega_{c1}\\right)^{2} \\left(\\omega - \\omega_{c2}\\right)} - \\frac{128 g_{3}^{2}}{\\omega^{3} \\cdot \\left(2 \\omega - \\omega_{c1}\\right) \\left(2 \\omega - \\omega_{c2}\\right)} + \\frac{24 g_{4}}{\\left(\\omega - \\omega_{c2}\\right)^{2} \\left(2 \\omega - \\omega_{c1} - \\omega_{c2}\\right)^{2}} + \\frac{48 g_{4}}{\\left(\\omega - \\omega_{c2}\\right)^{3} \\cdot \\left(2 \\omega - \\omega_{c1} - \\omega_{c2}\\right)} + \\frac{24 g_{4}}{\\left(\\omega - \\omega_{c2}\\right)^{3} \\left(\\omega_{c1} - \\omega_{c2}\\right)} + \\frac{48 g_{4}}{\\left(\\omega - \\omega_{c1}\\right) \\left(\\omega - \\omega_{c2}\\right) \\left(2 \\omega - \\omega_{c1} - \\omega_{c2}\\right)^{2}} + \\frac{48 g_{4}}{\\left(\\omega - \\omega_{c1}\\right) \\left(\\omega - \\omega_{c2}\\right)^{2} \\cdot \\left(2 \\omega - \\omega_{c1} - \\omega_{c2}\\right)} - \\frac{24 g_{4}}{\\left(\\omega - \\omega_{c1}\\right) \\left(\\omega - \\omega_{c2}\\right)^{3}} + \\frac{24 g_{4}}{\\left(\\omega - \\omega_{c1}\\right)^{2} \\left(2 \\omega - \\omega_{c1} - \\omega_{c2}\\right)^{2}} + \\frac{48 g_{4}}{\\left(\\omega - \\omega_{c1}\\right)^{2} \\left(\\omega - \\omega_{c2}\\right) \\left(2 \\omega - \\omega_{c1} - \\omega_{c2}\\right)} - \\frac{24 g_{4}}{\\left(\\omega - \\omega_{c1}\\right)^{2} \\left(\\omega - \\omega_{c2}\\right)^{2}} + \\frac{48 g_{4}}{\\left(\\omega - \\omega_{c1}\\right)^{3} \\cdot \\left(2 \\omega - \\omega_{c1} - \\omega_{c2}\\right)} - \\frac{24 g_{4}}{\\left(\\omega - \\omega_{c1}\\right)^{3} \\left(\\omega_{c1} - \\omega_{c2}\\right)} - \\frac{24 g_{4}}{\\left(\\omega - \\omega_{c1}\\right)^{3} \\left(\\omega - \\omega_{c2}\\right)} - \\frac{72 g_{4}}{\\omega \\left(\\omega - \\omega_{c2}\\right)^{2} \\cdot \\left(2 \\omega - \\omega_{c1} - \\omega_{c2}\\right)} - \\frac{24 g_{4}}{\\omega \\left(\\omega - \\omega_{c2}\\right)^{2} \\left(\\omega_{c1} - \\omega_{c2}\\right)} - \\frac{144 g_{4}}{\\omega \\left(\\omega - \\omega_{c1}\\right) \\left(\\omega - \\omega_{c2}\\right) \\left(2 \\omega - \\omega_{c1} - \\omega_{c2}\\right)} + \\frac{24 g_{4}}{\\omega \\left(\\omega - \\omega_{c1}\\right) \\left(\\omega - \\omega_{c2}\\right)^{2}} - \\frac{72 g_{4}}{\\omega \\left(\\omega - \\omega_{c1}\\right)^{2} \\cdot \\left(2 \\omega - \\omega_{c1} - \\omega_{c2}\\right)} + \\frac{24 g_{4}}{\\omega \\left(\\omega - \\omega_{c1}\\right)^{2} \\left(\\omega_{c1} - \\omega_{c2}\\right)} + \\frac{24 g_{4}}{\\omega \\left(\\omega - \\omega_{c1}\\right)^{2} \\left(\\omega - \\omega_{c2}\\right)}$"
      ],
      "text/plain": [
       "-120*g3**2/(omega*(omega - omega_c2)**2*(2*omega - omega_c1 - omega_c2)**2) - 240*g3**2/(omega*(omega - omega_c2)**3*(2*omega - omega_c1 - omega_c2)) - 120*g3**2/(omega*(omega - omega_c2)**3*(omega_c1 - omega_c2)) - 240*g3**2/(omega*(omega - omega_c1)*(omega - omega_c2)*(2*omega - omega_c1 - omega_c2)**2) - 240*g3**2/(omega*(omega - omega_c1)*(omega - omega_c2)**2*(2*omega - omega_c1 - omega_c2)) + 120*g3**2/(omega*(omega - omega_c1)*(omega - omega_c2)**3) - 120*g3**2/(omega*(omega - omega_c1)**2*(2*omega - omega_c1 - omega_c2)**2) - 240*g3**2/(omega*(omega - omega_c1)**2*(omega - omega_c2)*(2*omega - omega_c1 - omega_c2)) + 120*g3**2/(omega*(omega - omega_c1)**2*(omega - omega_c2)**2) - 240*g3**2/(omega*(omega - omega_c1)**3*(2*omega - omega_c1 - omega_c2)) + 120*g3**2/(omega*(omega - omega_c1)**3*(omega_c1 - omega_c2)) + 120*g3**2/(omega*(omega - omega_c1)**3*(omega - omega_c2)) - 96*g3**2/(omega**2*(2*omega - omega_c2)**2*(3*omega - omega_c1 - omega_c2)) - 64*g3**2/(omega**2*(2*omega - omega_c2)**2*(omega + omega_c1 - omega_c2)) - 192*g3**2/(omega**2*(2*omega - omega_c1)*(2*omega - omega_c2)*(3*omega - omega_c1 - omega_c2)) - 96*g3**2/(omega**2*(2*omega - omega_c1)**2*(3*omega - omega_c1 - omega_c2)) - 64*g3**2/(omega**2*(2*omega - omega_c1)**2*(omega - omega_c1 + omega_c2)) - 192*g3**2/(omega**2*(omega - omega_c2)*(2*omega - omega_c2)*(3*omega - omega_c1 - omega_c2)) - 64*g3**2/(omega**2*(omega - omega_c2)*(2*omega - omega_c2)*(omega_c1 - omega_c2)) - 192*g3**2/(omega**2*(omega - omega_c2)*(2*omega - omega_c1)*(3*omega - omega_c1 - omega_c2)) + 32*g3**2/(omega**2*(omega - omega_c2)*(2*omega - omega_c1)**2) - 96*g3**2/(omega**2*(omega - omega_c2)**2*(3*omega - omega_c1 - omega_c2)) + 456*g3**2/(omega**2*(omega - omega_c2)**2*(2*omega - omega_c1 - omega_c2)) + 152*g3**2/(omega**2*(omega - omega_c2)**2*(omega_c1 - omega_c2)) + 32*g3**2/(omega**2*(omega - omega_c2)**2*(2*omega - omega_c1)) - 192*g3**2/(omega**2*(omega - omega_c1)*(2*omega - omega_c2)*(3*omega - omega_c1 - omega_c2)) + 32*g3**2/(omega**2*(omega - omega_c1)*(2*omega - omega_c2)**2) - 192*g3**2/(omega**2*(omega - omega_c1)*(2*omega - omega_c1)*(3*omega - omega_c1 - omega_c2)) + 64*g3**2/(omega**2*(omega - omega_c1)*(2*omega - omega_c1)*(omega_c1 - omega_c2)) - 192*g3**2/(omega**2*(omega - omega_c1)*(omega - omega_c2)*(3*omega - omega_c1 - omega_c2)) + 912*g3**2/(omega**2*(omega - omega_c1)*(omega - omega_c2)*(2*omega - omega_c1 - omega_c2)) - 152*g3**2/(omega**2*(omega - omega_c1)*(omega - omega_c2)**2) - 96*g3**2/(omega**2*(omega - omega_c1)**2*(3*omega - omega_c1 - omega_c2)) + 456*g3**2/(omega**2*(omega - omega_c1)**2*(2*omega - omega_c1 - omega_c2)) - 152*g3**2/(omega**2*(omega - omega_c1)**2*(omega_c1 - omega_c2)) + 32*g3**2/(omega**2*(omega - omega_c1)**2*(2*omega - omega_c2)) - 152*g3**2/(omega**2*(omega - omega_c1)**2*(omega - omega_c2)) - 128*g3**2/(omega**3*(2*omega - omega_c1)*(2*omega - omega_c2)) + 24*g4/((omega - omega_c2)**2*(2*omega - omega_c1 - omega_c2)**2) + 48*g4/((omega - omega_c2)**3*(2*omega - omega_c1 - omega_c2)) + 24*g4/((omega - omega_c2)**3*(omega_c1 - omega_c2)) + 48*g4/((omega - omega_c1)*(omega - omega_c2)*(2*omega - omega_c1 - omega_c2)**2) + 48*g4/((omega - omega_c1)*(omega - omega_c2)**2*(2*omega - omega_c1 - omega_c2)) - 24*g4/((omega - omega_c1)*(omega - omega_c2)**3) + 24*g4/((omega - omega_c1)**2*(2*omega - omega_c1 - omega_c2)**2) + 48*g4/((omega - omega_c1)**2*(omega - omega_c2)*(2*omega - omega_c1 - omega_c2)) - 24*g4/((omega - omega_c1)**2*(omega - omega_c2)**2) + 48*g4/((omega - omega_c1)**3*(2*omega - omega_c1 - omega_c2)) - 24*g4/((omega - omega_c1)**3*(omega_c1 - omega_c2)) - 24*g4/((omega - omega_c1)**3*(omega - omega_c2)) - 72*g4/(omega*(omega - omega_c2)**2*(2*omega - omega_c1 - omega_c2)) - 24*g4/(omega*(omega - omega_c2)**2*(omega_c1 - omega_c2)) - 144*g4/(omega*(omega - omega_c1)*(omega - omega_c2)*(2*omega - omega_c1 - omega_c2)) + 24*g4/(omega*(omega - omega_c1)*(omega - omega_c2)**2) - 72*g4/(omega*(omega - omega_c1)**2*(2*omega - omega_c1 - omega_c2)) + 24*g4/(omega*(omega - omega_c1)**2*(omega_c1 - omega_c2)) + 24*g4/(omega*(omega - omega_c1)**2*(omega - omega_c2))"
      ]
     },
     "execution_count": 498,
     "metadata": {},
     "output_type": "execute_result"
    }
   ],
   "source": [
    "new_ck"
   ]
  },
  {
   "cell_type": "code",
   "execution_count": null,
   "id": "6fa54d9c",
   "metadata": {},
   "outputs": [],
   "source": []
  }
 ],
 "metadata": {
  "kernelspec": {
   "display_name": "Python 3 (ipykernel)",
   "language": "python",
   "name": "python3"
  },
  "language_info": {
   "codemirror_mode": {
    "name": "ipython",
    "version": 3
   },
   "file_extension": ".py",
   "mimetype": "text/x-python",
   "name": "python",
   "nbconvert_exporter": "python",
   "pygments_lexer": "ipython3",
   "version": "3.9.7"
  }
 },
 "nbformat": 4,
 "nbformat_minor": 5
}
