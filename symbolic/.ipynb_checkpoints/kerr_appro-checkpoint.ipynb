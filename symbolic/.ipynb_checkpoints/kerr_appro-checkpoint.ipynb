{
 "cells": [
  {
   "cell_type": "code",
   "execution_count": 1,
   "id": "27ca754a-9d30-4a6d-8054-db633309ef22",
   "metadata": {
    "execution": {
     "iopub.execute_input": "2023-09-28T17:14:37.936090Z",
     "iopub.status.busy": "2023-09-28T17:14:37.935208Z",
     "iopub.status.idle": "2023-09-28T17:14:38.446588Z",
     "shell.execute_reply": "2023-09-28T17:14:38.446295Z",
     "shell.execute_reply.started": "2023-09-28T17:14:37.936022Z"
    },
    "tags": []
   },
   "outputs": [],
   "source": [
    "from sympy.physics.secondquant import *\n",
    "from sympy import symbols,I\n",
    "import sympy as sp\n",
    "from no import normal"
   ]
  },
  {
   "cell_type": "code",
   "execution_count": 2,
   "id": "bee929bb-cb95-42cf-8cfc-b637ef21834a",
   "metadata": {
    "execution": {
     "iopub.execute_input": "2023-09-28T17:14:38.447473Z",
     "iopub.status.busy": "2023-09-28T17:14:38.447338Z",
     "iopub.status.idle": "2023-09-28T17:14:38.449416Z",
     "shell.execute_reply": "2023-09-28T17:14:38.449124Z",
     "shell.execute_reply.started": "2023-09-28T17:14:38.447464Z"
    },
    "tags": []
   },
   "outputs": [],
   "source": [
    "ind_a = symbols('a')\n",
    "a = B(ind_a)\n",
    "ad = Bd(ind_a)"
   ]
  },
  {
   "cell_type": "code",
   "execution_count": 3,
   "id": "bd55f7a7-b1e1-4a35-94cb-263462a7bec0",
   "metadata": {
    "execution": {
     "iopub.execute_input": "2023-09-28T17:14:38.647253Z",
     "iopub.status.busy": "2023-09-28T17:14:38.646548Z",
     "iopub.status.idle": "2023-09-28T17:14:38.656755Z",
     "shell.execute_reply": "2023-09-28T17:14:38.655780Z",
     "shell.execute_reply.started": "2023-09-28T17:14:38.647225Z"
    },
    "tags": []
   },
   "outputs": [],
   "source": [
    "g3 = symbols('g3', real=True)\n",
    "g4 = symbols('g4', real=True)\n",
    "g5 = symbols('g5', real=True)\n",
    "g6 = symbols('g6', real=True)\n",
    "omega = symbols('omega', real=True)\n",
    "kappa = symbols('kappa', real=True)"
   ]
  },
  {
   "cell_type": "code",
   "execution_count": 4,
   "id": "86e082c8-2981-467e-abfc-fc96b02e9e6c",
   "metadata": {
    "execution": {
     "iopub.execute_input": "2023-09-28T17:14:39.970470Z",
     "iopub.status.busy": "2023-09-28T17:14:39.969845Z",
     "iopub.status.idle": "2023-09-28T17:14:39.988547Z",
     "shell.execute_reply": "2023-09-28T17:14:39.987509Z",
     "shell.execute_reply.started": "2023-09-28T17:14:39.970441Z"
    },
    "tags": []
   },
   "outputs": [],
   "source": [
    "h0 = omega * ad * a"
   ]
  },
  {
   "cell_type": "code",
   "execution_count": 5,
   "id": "cb9a2f02-ca22-4202-abce-288d7892ccba",
   "metadata": {
    "execution": {
     "iopub.execute_input": "2023-09-28T17:14:42.248711Z",
     "iopub.status.busy": "2023-09-28T17:14:42.247606Z",
     "iopub.status.idle": "2023-09-28T17:14:42.406087Z",
     "shell.execute_reply": "2023-09-28T17:14:42.405767Z",
     "shell.execute_reply.started": "2023-09-28T17:14:42.248660Z"
    },
    "tags": []
   },
   "outputs": [],
   "source": [
    "v = normal(g3 * (a+ad)**3 +g4*(a+ad)**4  )"
   ]
  },
  {
   "cell_type": "markdown",
   "id": "6d99629b-96b8-4139-bb1e-2af74528d302",
   "metadata": {},
   "source": [
    "### obtain $\\hat{H}_1$"
   ]
  },
  {
   "cell_type": "code",
   "execution_count": 6,
   "id": "1868fc98-9273-429a-a29d-fb50ee3c5f61",
   "metadata": {
    "execution": {
     "iopub.execute_input": "2023-09-17T19:55:23.212951Z",
     "iopub.status.busy": "2023-09-17T19:55:23.212761Z",
     "iopub.status.idle": "2023-09-17T19:55:23.399848Z",
     "shell.execute_reply": "2023-09-17T19:55:23.399469Z",
     "shell.execute_reply.started": "2023-09-17T19:55:23.212937Z"
    },
    "tags": []
   },
   "outputs": [],
   "source": [
    "v1 = sp.simplify(v)"
   ]
  },
  {
   "cell_type": "code",
   "execution_count": 7,
   "id": "8e484b4f-c180-4f7d-86b4-82445d4ef982",
   "metadata": {
    "execution": {
     "iopub.execute_input": "2023-09-17T19:55:23.400782Z",
     "iopub.status.busy": "2023-09-17T19:55:23.400685Z",
     "iopub.status.idle": "2023-09-17T19:55:23.404137Z",
     "shell.execute_reply": "2023-09-17T19:55:23.403720Z",
     "shell.execute_reply.started": "2023-09-17T19:55:23.400772Z"
    },
    "tags": []
   },
   "outputs": [],
   "source": [
    "temp = 0\n",
    "for term in v1.args:\n",
    "    if term.as_powers_dict()[ad] == term.as_powers_dict()[a]:\n",
    "        temp += term\n",
    "h1 = temp * 1"
   ]
  },
  {
   "cell_type": "code",
   "execution_count": 8,
   "id": "341ba478",
   "metadata": {},
   "outputs": [
    {
     "data": {
      "text/latex": [
       "$\\displaystyle 3 g_{4} + 12 g_{4} {b^\\dagger_{a}} b_{a} + 6 g_{4} {b^\\dagger_{a}}^{2} b_{a}^{2}$"
      ],
      "text/plain": [
       "3*g4 + 12*g4*CreateBoson(a)*AnnihilateBoson(a) + 6*g4*CreateBoson(a)**2*AnnihilateBoson(a)**2"
      ]
     },
     "execution_count": 8,
     "metadata": {},
     "output_type": "execute_result"
    }
   ],
   "source": [
    "h1"
   ]
  },
  {
   "cell_type": "markdown",
   "id": "b9b1ca1b-47cc-4692-a118-305b06a20ba6",
   "metadata": {},
   "source": [
    "### obtain up to $\\hat{H}_2$"
   ]
  },
  {
   "cell_type": "code",
   "execution_count": 9,
   "id": "d6af1876-eee8-4634-af64-2741d34404ea",
   "metadata": {
    "execution": {
     "iopub.execute_input": "2023-09-17T20:16:46.932591Z",
     "iopub.status.busy": "2023-09-17T20:16:46.931859Z",
     "iopub.status.idle": "2023-09-17T20:16:46.994125Z",
     "shell.execute_reply": "2023-09-17T20:16:46.993832Z",
     "shell.execute_reply.started": "2023-09-17T20:16:46.932502Z"
    },
    "tags": []
   },
   "outputs": [],
   "source": [
    "temp = 0\n",
    "for term in (v1-h1).args:\n",
    "    if term.as_powers_dict()[ad]!= term.as_powers_dict()[a]:\n",
    "        temp += term / omega / (term.as_powers_dict()[ad] - term.as_powers_dict()[a])\n",
    "s1= normal(temp) * 1\n",
    "s_tot = s1 * kappa \n",
    "s_tot_1 = s1 * kappa"
   ]
  },
  {
   "cell_type": "code",
   "execution_count": 10,
   "id": "c53202b8-dafb-4b3e-a582-fc9de68300c9",
   "metadata": {
    "execution": {
     "iopub.execute_input": "2023-09-17T20:16:47.357698Z",
     "iopub.status.busy": "2023-09-17T20:16:47.357326Z",
     "iopub.status.idle": "2023-09-17T20:16:54.057584Z",
     "shell.execute_reply": "2023-09-17T20:16:54.057210Z",
     "shell.execute_reply.started": "2023-09-17T20:16:47.357675Z"
    },
    "tags": []
   },
   "outputs": [
    {
     "name": "stdout",
     "output_type": "stream",
     "text": [
      "x\n",
      "x\n"
     ]
    }
   ],
   "source": [
    "h_tot = h0 + kappa*v \n",
    "h_eff_2 = 0\n",
    "\n",
    "temp_2 = normal(Commutator(s_tot_1, h_tot.coeff(kappa,1)*kappa**1).doit() )\n",
    "temp_1 = normal(Commutator(s_tot_1, h_tot.coeff(kappa,0)*kappa**0).doit() )\n",
    "print('x')\n",
    "h_eff_2 += temp_2\n",
    "\n",
    "temp_2 = normal(Commutator(s_tot_1, temp_1).doit())\n",
    "print('x')\n",
    "h_eff_2 += sp.Rational(1,2) * temp_2\n",
    "\n",
    "h_eff_2 = h_eff_2.expand()"
   ]
  },
  {
   "cell_type": "code",
   "execution_count": 11,
   "id": "f07ff33e-9eab-4157-a0cc-5236a4091686",
   "metadata": {
    "execution": {
     "iopub.execute_input": "2023-09-17T20:19:12.591055Z",
     "iopub.status.busy": "2023-09-17T20:19:12.588514Z",
     "iopub.status.idle": "2023-09-17T20:19:12.637110Z",
     "shell.execute_reply": "2023-09-17T20:19:12.636588Z",
     "shell.execute_reply.started": "2023-09-17T20:19:12.591005Z"
    },
    "tags": []
   },
   "outputs": [],
   "source": [
    "v2 = normal(h_eff_2.coeff(kappa,2))"
   ]
  },
  {
   "cell_type": "code",
   "execution_count": 12,
   "id": "fae0223d-e61b-463b-80c8-dfd47114936c",
   "metadata": {
    "execution": {
     "iopub.execute_input": "2023-09-17T20:19:13.045387Z",
     "iopub.status.busy": "2023-09-17T20:19:13.044914Z",
     "iopub.status.idle": "2023-09-17T20:19:13.066542Z",
     "shell.execute_reply": "2023-09-17T20:19:13.066176Z",
     "shell.execute_reply.started": "2023-09-17T20:19:13.045340Z"
    },
    "tags": []
   },
   "outputs": [],
   "source": [
    "temp = 0\n",
    "for term in v2.args:\n",
    "    if term.as_powers_dict()[ad] == term.as_powers_dict()[a]:\n",
    "        temp += term\n",
    "h2 = temp * 1"
   ]
  },
  {
   "cell_type": "code",
   "execution_count": 13,
   "id": "31bd6641-ac96-4428-84b0-65a8e18fd7e5",
   "metadata": {
    "execution": {
     "iopub.execute_input": "2023-09-17T20:19:13.995876Z",
     "iopub.status.busy": "2023-09-17T20:19:13.995500Z",
     "iopub.status.idle": "2023-09-17T20:19:14.007650Z",
     "shell.execute_reply": "2023-09-17T20:19:14.006808Z",
     "shell.execute_reply.started": "2023-09-17T20:19:13.995853Z"
    },
    "tags": []
   },
   "outputs": [],
   "source": [
    "temp = 0\n",
    "for term in v1.args:\n",
    "    if term.as_powers_dict()[ad] == term.as_powers_dict()[a]:\n",
    "        temp += term\n",
    "h1 = temp * 1"
   ]
  },
  {
   "cell_type": "markdown",
   "id": "e7126274-af96-4bbd-be55-3e4b512e144a",
   "metadata": {},
   "source": [
    "### obtain up to $\\hat{H}_3$"
   ]
  },
  {
   "cell_type": "code",
   "execution_count": 14,
   "id": "e7f978ca-40eb-45c2-9e17-bdab9f9e980d",
   "metadata": {
    "execution": {
     "iopub.execute_input": "2023-09-17T19:55:59.733662Z",
     "iopub.status.busy": "2023-09-17T19:55:59.732998Z",
     "iopub.status.idle": "2023-09-17T19:56:00.156152Z",
     "shell.execute_reply": "2023-09-17T19:56:00.155829Z",
     "shell.execute_reply.started": "2023-09-17T19:55:59.733630Z"
    },
    "tags": []
   },
   "outputs": [],
   "source": [
    "temp = 0\n",
    "for term in (v2-h2).args:\n",
    "    if term.as_powers_dict()[ad] != term.as_powers_dict()[a]:\n",
    "        temp += term / omega / (term.as_powers_dict()[ad] - term.as_powers_dict()[a])\n",
    "s2 = normal(temp) * 1"
   ]
  },
  {
   "cell_type": "code",
   "execution_count": 15,
   "id": "cd920a62-d387-49e0-956e-bf4de49d3f68",
   "metadata": {
    "execution": {
     "iopub.execute_input": "2023-09-17T19:56:01.125061Z",
     "iopub.status.busy": "2023-09-17T19:56:01.124888Z",
     "iopub.status.idle": "2023-09-17T19:56:01.148983Z",
     "shell.execute_reply": "2023-09-17T19:56:01.148658Z",
     "shell.execute_reply.started": "2023-09-17T19:56:01.125047Z"
    },
    "tags": []
   },
   "outputs": [],
   "source": [
    "s_tot = s1 * kappa + s2 * kappa**2\n",
    "s_tot_1 = s1 * kappa\n",
    "s_tot_2 = s2 * kappa**2"
   ]
  },
  {
   "cell_type": "code",
   "execution_count": null,
   "id": "a8626a1e-9ede-466a-8cea-3a8d89a35f8a",
   "metadata": {
    "execution": {
     "iopub.execute_input": "2023-09-17T19:56:04.801074Z",
     "iopub.status.busy": "2023-09-17T19:56:04.800916Z",
     "iopub.status.idle": "2023-09-17T19:57:53.927890Z",
     "shell.execute_reply": "2023-09-17T19:57:53.927554Z",
     "shell.execute_reply.started": "2023-09-17T19:56:04.801064Z"
    },
    "tags": []
   },
   "outputs": [],
   "source": [
    "h_tot = h0 + kappa*v \n",
    "h_eff_3 = 0\n",
    "h_eff_2 = 0\n",
    "\n",
    "temp_3 = normal(Commutator(s_tot_2, h_tot.coeff(kappa,1)*kappa**1).doit() )\n",
    "temp_2 = normal(Commutator(s_tot_1, h_tot.coeff(kappa,1)*kappa**1).doit() + Commutator(s_tot_2, h_tot.coeff(kappa,0)*kappa**0).doit() )\n",
    "temp_1 = normal(Commutator(s_tot_1, h_tot.coeff(kappa,0)*kappa**0).doit() )\n",
    "print('x')\n",
    "h_eff_3 += temp_3\n",
    "h_eff_2 += temp_2\n",
    "\n",
    "temp_3 = normal(Commutator(s_tot_2, temp_1).doit() + Commutator(s_tot_1, temp_2).doit())\n",
    "temp_2 = normal(Commutator(s_tot_1, temp_1).doit())\n",
    "print('x')\n",
    "h_eff_3 += sp.Rational(1,2) * temp_3\n",
    "h_eff_2 += sp.Rational(1,2) * temp_2\n",
    "\n",
    "temp_3 = normal(Commutator(s_tot_1, temp_2).doit())\n",
    "print('x')\n",
    "h_eff_3 += sp.Rational(1,6) * temp_3\n",
    "\n",
    "h_eff_3 = h_eff_3.expand()\n",
    "h_eff_2 = h_eff_2.expand()"
   ]
  },
  {
   "cell_type": "code",
   "execution_count": null,
   "id": "afa93e79-61e2-46b3-a341-7a522dc6a638",
   "metadata": {
    "execution": {
     "iopub.execute_input": "2023-09-17T19:57:58.603990Z",
     "iopub.status.busy": "2023-09-17T19:57:58.603761Z",
     "iopub.status.idle": "2023-09-17T19:57:59.442106Z",
     "shell.execute_reply": "2023-09-17T19:57:59.441798Z",
     "shell.execute_reply.started": "2023-09-17T19:57:58.603969Z"
    },
    "tags": []
   },
   "outputs": [],
   "source": [
    "v3 = normal(h_eff_3.coeff(kappa,3))\n",
    "v2 = normal(h_eff_2.coeff(kappa,2))"
   ]
  },
  {
   "cell_type": "code",
   "execution_count": null,
   "id": "b2d96d74-466c-4d70-9326-b70f7ae10016",
   "metadata": {
    "execution": {
     "iopub.execute_input": "2023-09-17T19:58:05.924326Z",
     "iopub.status.busy": "2023-09-17T19:58:05.924080Z",
     "iopub.status.idle": "2023-09-17T19:58:05.939584Z",
     "shell.execute_reply": "2023-09-17T19:58:05.939182Z",
     "shell.execute_reply.started": "2023-09-17T19:58:05.924302Z"
    },
    "tags": []
   },
   "outputs": [],
   "source": [
    "temp = 0\n",
    "for term in v3.args:\n",
    "    if term.as_powers_dict()[ad] == term.as_powers_dict()[a]:\n",
    "        temp += term\n",
    "h3 = temp * 1\n",
    "\n",
    "temp = 0\n",
    "for term in v2.args:\n",
    "    if term.as_powers_dict()[ad] == term.as_powers_dict()[a]:\n",
    "        temp += term\n",
    "h2 = temp * 1\n",
    "\n",
    "temp = 0\n",
    "for term in v1.args:\n",
    "    if term.as_powers_dict()[ad] == term.as_powers_dict()[a]:\n",
    "        temp += term\n",
    "h1 = temp * 1"
   ]
  },
  {
   "cell_type": "code",
   "execution_count": null,
   "id": "62f93e20-16f1-44e4-916c-38e285d667a7",
   "metadata": {
    "execution": {
     "iopub.execute_input": "2023-09-17T19:58:07.612227Z",
     "iopub.status.busy": "2023-09-17T19:58:07.612013Z",
     "iopub.status.idle": "2023-09-17T19:58:07.624350Z",
     "shell.execute_reply": "2023-09-17T19:58:07.623308Z",
     "shell.execute_reply.started": "2023-09-17T19:58:07.612206Z"
    },
    "tags": []
   },
   "outputs": [],
   "source": [
    "h2.coeff(ad*a)"
   ]
  },
  {
   "cell_type": "code",
   "execution_count": null,
   "id": "47c6e16a-4ca5-4749-aadb-dd804e6e5ed8",
   "metadata": {
    "execution": {
     "iopub.execute_input": "2023-09-17T19:58:08.869852Z",
     "iopub.status.busy": "2023-09-17T19:58:08.869670Z",
     "iopub.status.idle": "2023-09-17T19:58:08.876045Z",
     "shell.execute_reply": "2023-09-17T19:58:08.875579Z",
     "shell.execute_reply.started": "2023-09-17T19:58:08.869838Z"
    },
    "tags": []
   },
   "outputs": [],
   "source": [
    "h2.coeff(ad**2*a**2)"
   ]
  },
  {
   "cell_type": "code",
   "execution_count": null,
   "id": "b337bd02-f06d-42dd-aef4-b6bc73c0052d",
   "metadata": {
    "execution": {
     "iopub.execute_input": "2023-09-17T19:58:09.222719Z",
     "iopub.status.busy": "2023-09-17T19:58:09.222419Z",
     "iopub.status.idle": "2023-09-17T19:58:09.240663Z",
     "shell.execute_reply": "2023-09-17T19:58:09.239495Z",
     "shell.execute_reply.started": "2023-09-17T19:58:09.222706Z"
    },
    "tags": []
   },
   "outputs": [],
   "source": [
    "h3.coeff(ad*a)"
   ]
  },
  {
   "cell_type": "code",
   "execution_count": null,
   "id": "fc803652-ac05-433f-a291-f12841cf2638",
   "metadata": {
    "execution": {
     "iopub.execute_input": "2023-09-17T19:58:09.551214Z",
     "iopub.status.busy": "2023-09-17T19:58:09.550621Z",
     "iopub.status.idle": "2023-09-17T19:58:09.567764Z",
     "shell.execute_reply": "2023-09-17T19:58:09.567288Z",
     "shell.execute_reply.started": "2023-09-17T19:58:09.551188Z"
    },
    "tags": []
   },
   "outputs": [],
   "source": [
    "(h1+h2+h3).coeff(ad**2*a**2)"
   ]
  },
  {
   "cell_type": "code",
   "execution_count": null,
   "id": "7f78a9b0",
   "metadata": {},
   "outputs": [],
   "source": [
    "result = (h1+h2+h3).coeff(ad**2*a**2)"
   ]
  },
  {
   "cell_type": "code",
   "execution_count": null,
   "id": "6080f725",
   "metadata": {},
   "outputs": [],
   "source": [
    "s1"
   ]
  },
  {
   "cell_type": "code",
   "execution_count": null,
   "id": "977836a4",
   "metadata": {},
   "outputs": [],
   "source": [
    "s2"
   ]
  },
  {
   "cell_type": "code",
   "execution_count": null,
   "id": "1f4e99a1",
   "metadata": {},
   "outputs": [],
   "source": [
    "s1c = normal(Commutator(s1, (I*(a-ad))).doit() )\n",
    "s2c = normal(Commutator(s2, (I*(a-ad))).doit() )+(sp.Rational(1,2) *normal(Commutator(s1, s1c).doit() )).expand()"
   ]
  },
  {
   "cell_type": "code",
   "execution_count": null,
   "id": "d2fc045a",
   "metadata": {},
   "outputs": [],
   "source": [
    "s1c"
   ]
  },
  {
   "cell_type": "code",
   "execution_count": null,
   "id": "c828f04b",
   "metadata": {},
   "outputs": [],
   "source": [
    "s2c"
   ]
  },
  {
   "cell_type": "code",
   "execution_count": null,
   "id": "493458ed",
   "metadata": {},
   "outputs": [],
   "source": [
    "def remove_higher(expr):\n",
    "    terms_higher = [term for term in expr.args if (term.has(g4**2) or term.has(g3**2*g4) or term.has(g3**4))]\n",
    "    return expr - sum(terms_higher)\n"
   ]
  },
  {
   "cell_type": "code",
   "execution_count": null,
   "id": "cb7387ca",
   "metadata": {},
   "outputs": [],
   "source": [
    "I*(a-ad)+s1c"
   ]
  },
  {
   "cell_type": "code",
   "execution_count": null,
   "id": "cd24daeb",
   "metadata": {},
   "outputs": [],
   "source": [
    "def replace_scalars_with_valued_matrices(expr, matrix_values):\n",
    "        \"\"\"\n",
    "        Replace scalar symbols and scalar operations in a SymPy scalar expression with valued matrices.\n",
    "\n",
    "        Args:\n",
    "        expr (sympy.Expr): The input scalar expression.\n",
    "        matrix_values (dict): A dictionary mapping scalar symbols to valued matrices.\n",
    "\n",
    "        Returns:\n",
    "        sympy.Expr: The modified expression with valued matrices.\n",
    "        \"\"\"\n",
    "\n",
    "        def map_operations(node):\n",
    "            if (isinstance(node, AnnihilateBoson) or isinstance(node, CreateBoson) )and node in matrix_values:\n",
    "                return matrix_values[node]\n",
    "            elif isinstance(node, sp.Add):\n",
    "                return sp.Add(*[map_operations(arg) for arg in node.args])\n",
    "            elif isinstance(node, sp.Mul):\n",
    "                return sp.Mul(*[map_operations(arg) for arg in node.args])\n",
    "            elif isinstance(node, sp.Pow):\n",
    "                base, exponent = map_operations(node.base), map_operations(node.exp)\n",
    "                return base**exponent\n",
    "            else:\n",
    "                return node\n",
    "\n",
    "        return map_operations(expr)"
   ]
  },
  {
   "cell_type": "code",
   "execution_count": null,
   "id": "a7cca49b",
   "metadata": {},
   "outputs": [],
   "source": [
    "# Initialize the annihilation (lowering) and creation (raising) matrices with zeros\n",
    "from sympy import symbols, sqrt\n",
    "n=20\n",
    "s = sp.zeros(n)\n",
    "s_dagger = sp.zeros(n)\n",
    "\n",
    "# Fill the matrices using sympy functions\n",
    "for i in range(n-1):\n",
    "    s[i, i+1] = sqrt(i+1)\n",
    "    s_dagger[i+1, i] = sqrt(i+1)\n",
    "matrix_values = {a: s, ad: s_dagger}\n",
    "g_matrix = replace_scalars_with_valued_matrices(I*(a-ad)+s1c+remove_higher(s2c), matrix_values)"
   ]
  },
  {
   "cell_type": "code",
   "execution_count": null,
   "id": "93a441f5",
   "metadata": {},
   "outputs": [],
   "source": [
    "from sympy import symbols, Matrix\n",
    "# Define the symbols\n",
    "omega, alpha, omega_1, omega_2,omegap = symbols('omega alpha omega_1 omega_2 omega_p', real=True)\n",
    "\n",
    "# Define the epsilon_i values\n",
    "epsilon = [i * omegap + i*(i-1) * alpha / 2 for i in range(n)]\n",
    "\n",
    "# Initialize the delta_1 matrix with zeros\n",
    "delta_1 = Matrix.zeros(n, n)\n",
    "\n",
    "# Fill the matrix according to the given formula and specific epsilon_i values\n",
    "for i in range(n):\n",
    "    for j in range(n):\n",
    "        if i != j:\n",
    "            delta_1[i, j] = 1 / (epsilon[i] - epsilon[j] - omega_1)\n",
    "            \n",
    "delta_2 = Matrix.zeros(n, n)\n",
    "\n",
    "# Fill the matrix according to the given formula and specific epsilon_i values for omega_2\n",
    "for i in range(n):\n",
    "    for j in range(n):\n",
    "        if i != j:\n",
    "            delta_2[i, j] = 1 / (epsilon[i] - epsilon[j] - omega_2)\n"
   ]
  },
  {
   "cell_type": "code",
   "execution_count": null,
   "id": "1e1fb5dc",
   "metadata": {},
   "outputs": [],
   "source": [
    "chim1 = Matrix.zeros(n, n)\n",
    "chim2 = Matrix.zeros(n, n)\n",
    "for i in range(n):\n",
    "    for j in range(n):\n",
    "        if delta_1[i, j] != 0:\n",
    "            element = g_matrix[i, j]\n",
    "            if sp.im(element) != 0 and sp.re(element) == 0:  # Pure imaginary\n",
    "                magnitude = sp.im(element)\n",
    "                chim1[i, j] = (magnitude**2 * delta_1[i, j])\n",
    "                chim2[i, j] = (magnitude**2 * delta_2[i, j])\n",
    "            else:  # Real or complex\n",
    "                chim1[i, j] = (element**2 * delta_1[i, j])\n",
    "                chim2[i, j] = (element**2 * delta_2[i, j])\n",
    "        else:\n",
    "            chim1[i, j] = 0\n",
    "            chim2[i, j] = 0"
   ]
  },
  {
   "cell_type": "code",
   "execution_count": null,
   "id": "f7f775b8",
   "metadata": {},
   "outputs": [],
   "source": [
    "chi0 = sum(chim1[0, j] for j in range(n))-sum(chim1[i, 0] for i in range(n))"
   ]
  },
  {
   "cell_type": "code",
   "execution_count": null,
   "id": "d2f65c3e",
   "metadata": {},
   "outputs": [],
   "source": [
    "chi0 = remove_higher((chi0.expand()))"
   ]
  },
  {
   "cell_type": "code",
   "execution_count": null,
   "id": "44ae3b0a",
   "metadata": {},
   "outputs": [],
   "source": [
    "chi0"
   ]
  },
  {
   "cell_type": "code",
   "execution_count": null,
   "id": "1aa00d02",
   "metadata": {},
   "outputs": [],
   "source": [
    "correction = 12*(g4-5*g3**2/omega)"
   ]
  },
  {
   "cell_type": "code",
   "execution_count": null,
   "id": "100a114d",
   "metadata": {},
   "outputs": [],
   "source": [
    "omega_c = (chi0.subs(omegap,correction+omega)).subs(alpha,correction)"
   ]
  },
  {
   "cell_type": "code",
   "execution_count": null,
   "id": "cbd7381b",
   "metadata": {},
   "outputs": [],
   "source": [
    "E = omega_c\n",
    "x = symbols('x', real=True)\n",
    "y= symbols('y', real=True)\n",
    "E=E.subs(g3**2,x*omega**2)\n",
    "E=E.subs(g4,y*omega)\n",
    "from sympy import symbols, diff\n",
    "f_0 = E.subs({x: 0, y: 0})\n",
    "df_dx = diff(E, x).subs({x: 0, y: 0}) * (x - 0)\n",
    "df_dy = diff(E, y).subs({x: 0, y: 0}) * (y - 0)\n",
    "\n",
    "taylor_first_order = f_0 + df_dx + df_dy\n",
    "\n",
    "omega_c = taylor_first_order.expand().subs(y,g4/omega).subs(x,g3**2/omega**2)"
   ]
  },
  {
   "cell_type": "code",
   "execution_count": null,
   "id": "86f0d527",
   "metadata": {},
   "outputs": [],
   "source": [
    "temp = 0\n",
    "for term in omega_c.args:\n",
    "    temp += term.simplify()\n",
    "temp"
   ]
  },
  {
   "cell_type": "code",
   "execution_count": null,
   "id": "b376fe93",
   "metadata": {},
   "outputs": [],
   "source": [
    "disp = sum(chim1[1, j] for j in range(0,n))-sum(chim1[i, 1] for i in range(0,n))- (sum(chim1[0, j] for j in range(n))-sum(chim1[i, 0] for i in range(n)))"
   ]
  },
  {
   "cell_type": "code",
   "execution_count": null,
   "id": "e4e64829",
   "metadata": {},
   "outputs": [],
   "source": [
    "disp = remove_higher((disp.expand()))"
   ]
  },
  {
   "cell_type": "code",
   "execution_count": null,
   "id": "e8c7d180",
   "metadata": {},
   "outputs": [],
   "source": [
    "disp = (disp.subs(omegap,correction+omega)).subs(alpha,correction)"
   ]
  },
  {
   "cell_type": "code",
   "execution_count": null,
   "id": "710031e5",
   "metadata": {},
   "outputs": [],
   "source": [
    "E =disp\n",
    "x = symbols('x', real=True)\n",
    "y= symbols('y', real=True)\n",
    "E=E.subs(g3**2,x*omega**2)\n",
    "E=E.subs(g4,y*omega)\n",
    "from sympy import symbols, diff\n",
    "f_0 = E.subs({x: 0, y: 0})\n",
    "df_dx = diff(E, x).subs({x: 0, y: 0}) * (x - 0)\n",
    "df_dy = diff(E, y).subs({x: 0, y: 0}) * (y - 0)\n",
    "\n",
    "taylor_first_order = f_0 + df_dx + df_dy\n",
    "\n",
    "disp = taylor_first_order.expand().subs(y,g4/omega).subs(x,g3**2/omega**2)"
   ]
  },
  {
   "cell_type": "code",
   "execution_count": null,
   "id": "25a49088",
   "metadata": {},
   "outputs": [],
   "source": [
    "temp = 0\n",
    "for term in disp.args:\n",
    "    temp += term.simplify()\n",
    "temp"
   ]
  },
  {
   "cell_type": "code",
   "execution_count": null,
   "id": "058d2d67",
   "metadata": {},
   "outputs": [],
   "source": [
    "disp"
   ]
  },
  {
   "cell_type": "code",
   "execution_count": null,
   "id": "8f42f76b",
   "metadata": {},
   "outputs": [],
   "source": [
    "def enegy_sec(N,l):\n",
    "    return N*(sum(result_matrix[l, j] for j in range(n))-sum(result_matrix[i, l] for i in range(n))) +sum(result_matrix[l, j] for j in range(n))"
   ]
  },
  {
   "cell_type": "code",
   "execution_count": null,
   "id": "8ffe0434",
   "metadata": {},
   "outputs": [],
   "source": [
    "\n",
    "def enegy_sec(n1,n2,l):\n",
    "    temp1 = Matrix.zeros(n, n)\n",
    "    temp2 = Matrix.zeros(n, n)\n",
    "    for i in range(n):\n",
    "        for j in range(n):\n",
    "            if delta_1[i, j] != 0:\n",
    "                element = g_matrix[i, j]\n",
    "                if sp.im(element) != 0 and sp.re(element) == 0:  # Pure imaginary\n",
    "                    magnitude = sp.im(element)\n",
    "                else:  # Real or complex\n",
    "                    magnitude =element\n",
    "                temp1[i, j] = (magnitude**2 * delta_1[i, j])\n",
    "                temp2[i, j] = (magnitude**2 * delta_2[i, j])\n",
    "            else:\n",
    "                chim1[i, j] = 0\n",
    "                chim2[i, j] = 0"
   ]
  },
  {
   "cell_type": "code",
   "execution_count": null,
   "id": "cf5188f2",
   "metadata": {},
   "outputs": [],
   "source": []
  }
 ],
 "metadata": {
  "kernelspec": {
   "display_name": "Python 3 (ipykernel)",
   "language": "python",
   "name": "python3"
  },
  "language_info": {
   "codemirror_mode": {
    "name": "ipython",
    "version": 3
   },
   "file_extension": ".py",
   "mimetype": "text/x-python",
   "name": "python",
   "nbconvert_exporter": "python",
   "pygments_lexer": "ipython3",
   "version": "3.8.18"
  }
 },
 "nbformat": 4,
 "nbformat_minor": 5
}
