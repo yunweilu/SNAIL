{
 "cells": [
  {
   "cell_type": "code",
   "execution_count": 1,
   "id": "13da1f2e",
   "metadata": {},
   "outputs": [],
   "source": [
    "import numpy as np\n",
    "import matplotlib.pyplot as plt\n",
    "import scipy as sci\n",
    "import autograd as ad\n",
    "import autograd.numpy as np"
   ]
  },
  {
   "cell_type": "code",
   "execution_count": 2,
   "id": "1f75ef9e",
   "metadata": {},
   "outputs": [],
   "source": [
    "from autograd.extend import primitive, defvjp\n",
    "def annihilation(dim):\n",
    "    return np.diag(np.sqrt(np.arange(1,dim)),1)\n",
    "def creation(dim):\n",
    "    return np.diag(np.sqrt(np.arange(1,dim)),-1)\n",
    "def SNAIL_spectrum(phi_ex):\n",
    "    beta = 0.15\n",
    "    def U_s(phi): \n",
    "        return (-beta*np.cos(phi-phi_ex)-3*np.cos((phi)/3))\n",
    "#     phi_ex = 0.4*2*np.pi\n",
    "    phi_min = sci.optimize.minimize(U_s,0).x\n",
    "    # potential expansion around minimum\n",
    "    firstd = ad.grad(U_s)\n",
    "    secondd = ad.grad(firstd)\n",
    "    thirdd = ad.grad(secondd)\n",
    "    fourd = ad.grad(thirdd)\n",
    "    fived = ad.grad(fourd)\n",
    "    sixd = ad.grad(fived)\n",
    "    sevend = ad.grad(sixd)\n",
    "    eightd = ad.grad(sevend)\n",
    "    c2 = secondd(phi_min[0])\n",
    "    c3 = thirdd(phi_min[0])/3/2\n",
    "    c4 = fourd(phi_min[0])/4/3/2\n",
    "    c5 = fived(phi_min[0])/5/4/3/2\n",
    "    c6 = sixd(phi_min[0])/6/5/4/3/2\n",
    "    c7 = sevend(phi_min[0])/7/6/5/4/3/2\n",
    "    c8 = eightd(phi_min[0])/8/7/6/5/4/3/2\n",
    "    \n",
    "    Ej = 90*2*np.pi\n",
    "    Ec = 0.177*2*np.pi\n",
    "    omega_s = np.sqrt(8*c2*Ej*Ec)\n",
    "    phi_zpf = np.power(2*Ec/Ej/c2,1/4)\n",
    "    g2 = Ej*phi_zpf**2*c2/2\n",
    "    g3 = Ej*phi_zpf**3*c3\n",
    "    g4 = Ej*phi_zpf**4*c4\n",
    "    g5 = Ej*phi_zpf**5*c5\n",
    "    g6 = Ej*phi_zpf**6*c6\n",
    "    g7 = Ej*phi_zpf**7*c7\n",
    "    g8 = 2*Ej*phi_zpf**8*c8\n",
    "    \n",
    "    dim = 10\n",
    "    s = annihilation(dim)\n",
    "    sd = creation(dim)\n",
    "    H = omega_s * np.matmul(sd,s)\n",
    "    x2 = np.matmul(s+sd,s+sd)\n",
    "    x3 = np.matmul(s+sd,x2)\n",
    "    x4 = np.matmul(s+sd,x3)\n",
    "    x5 = np.matmul(s+sd,x4)\n",
    "    x6 = np.matmul(s+sd,x5)\n",
    "    x7 = np.matmul(s+sd,x6)\n",
    "    x8 = np.matmul(s+sd,x7)\n",
    "    dc2 = c3*6/c2*(beta*np.cos(phi_min-phi_ex)-9/8*c2)\n",
    "    H += g3*x3 + g4*x4 + g5*x5 + g6*x6 + g7*x7 + g8*x8\n",
    "#     H = (omega_s * np.matmul(sd,s)\n",
    "#         - Ej*(beta*sci.linalg.cosm(phi_zpf*(s+sd)+(phi_min-phi_ex)*np.identity(dim))\n",
    "#         + 3*sci.linalg.cosm((phi_zpf*(s+sd)+phi_min*np.identity(dim))/3))- g2*x2)\n",
    "    energy = np.linalg.eigh(H)[0]\n",
    "    energy = energy-energy[0]*np.ones(len(energy))\n",
    "    return energy[1],g3,g4,dc2,phi_min"
   ]
  },
  {
   "cell_type": "markdown",
   "id": "13df2025",
   "metadata": {},
   "source": [
    "# SNAIL first excited states energy v.s external flux"
   ]
  },
  {
   "cell_type": "code",
   "execution_count": 3,
   "id": "f1d78c39",
   "metadata": {},
   "outputs": [],
   "source": [
    "from autograd.extend import primitive, defvjp\n",
    "def annihilation(dim):\n",
    "    return np.diag(np.sqrt(np.arange(1,dim)),1)\n",
    "def creation(dim):\n",
    "    return np.diag(np.sqrt(np.arange(1,dim)),-1)\n",
    "def SNAIL_spectrum(phi_ex):\n",
    "    beta = 0.15\n",
    "    def U_s(phi): \n",
    "        return (-beta*np.cos(phi-phi_ex)-3*np.cos((phi)/3))\n",
    "#     phi_ex = 0.4*2*np.pi\n",
    "    phi_min = sci.optimize.minimize(U_s,0).x\n",
    "    # potential expansion around minimum\n",
    "    firstd = ad.grad(U_s)\n",
    "    secondd = ad.grad(firstd)\n",
    "    thirdd = ad.grad(secondd)\n",
    "    fourd = ad.grad(thirdd)\n",
    "    fived = ad.grad(fourd)\n",
    "    sixd = ad.grad(fived)\n",
    "    sevend = ad.grad(sixd)\n",
    "    eightd = ad.grad(sevend)\n",
    "    c2 = secondd(phi_min[0])\n",
    "    c3 = thirdd(phi_min[0])/3/2\n",
    "    c4 = fourd(phi_min[0])/4/3/2\n",
    "    c5 = fived(phi_min[0])/5/4/3/2\n",
    "    c6 = sixd(phi_min[0])/6/5/4/3/2\n",
    "    c7 = sevend(phi_min[0])/7/6/5/4/3/2\n",
    "    c8 = eightd(phi_min[0])/8/7/6/5/4/3/2\n",
    "    \n",
    "    Ej = 90*2*np.pi\n",
    "    Ec = 0.177*2*np.pi\n",
    "    omega_s = np.sqrt(8*c2*Ej*Ec)\n",
    "    phi_zpf = np.power(2*Ec/Ej/c2,1/4)\n",
    "    g2 = Ej*phi_zpf**2*c2/2\n",
    "    g3 = Ej*phi_zpf**3*c3\n",
    "    g4 = Ej*phi_zpf**4*c4\n",
    "    g5 = Ej*phi_zpf**5*c5\n",
    "    g6 = Ej*phi_zpf**6*c6\n",
    "    g7 = Ej*phi_zpf**7*c7\n",
    "    g8 = 2*Ej*phi_zpf**8*c8\n",
    "    \n",
    "    g3 = 0\n",
    "    g4 = 0\n",
    "    g5 = 0\n",
    "    g6 = 0\n",
    "    g7 = 0\n",
    "    g8 = 5.46253910160294e-07\n",
    "    \n",
    "    dim = 10\n",
    "    s = annihilation(dim)\n",
    "    sd = creation(dim)\n",
    "    H = omega_s * np.matmul(sd,s)\n",
    "    x2 = np.matmul(s+sd,s+sd)\n",
    "    x3 = np.matmul(s+sd,x2)\n",
    "    x4 = np.matmul(s+sd,x3)\n",
    "    x5 = np.matmul(s+sd,x4)\n",
    "    x6 = np.matmul(s+sd,x5)\n",
    "    x7 = np.matmul(s+sd,x6)\n",
    "    x8 = np.matmul(s+sd,x7)\n",
    "    dc2 = c3*6/c2*(beta*np.cos(phi_min-phi_ex)-9/8*c2)\n",
    "#     H += g3*x3 + g4*x4 + g5*x5 + g6*x6 + g7*x7 + g8*x8\n",
    "    H = (omega_s * np.matmul(sd,s)\n",
    "        - Ej*(beta*sci.linalg.cosm(phi_zpf*(s+sd)+(phi_min-phi_ex)*np.identity(dim))\n",
    "        + 3*sci.linalg.cosm((phi_zpf*(s+sd)+phi_min*np.identity(dim))/3))- g2*x2)\n",
    "    energy = np.linalg.eigh(H)[0]\n",
    "    energy = energy-energy[0]*np.ones(len(energy))\n",
    "    return energy[1],g3,g4,dc2,phi_min"
   ]
  },
  {
   "cell_type": "code",
   "execution_count": 4,
   "id": "a6df0f1e",
   "metadata": {},
   "outputs": [],
   "source": [
    "phi_exs = np.linspace(0.0*2*np.pi,0.5*2*np.pi,100)\n",
    "snail_energies = np.zeros(len(phi_exs))\n",
    "g3s = np.zeros(len(phi_exs))\n",
    "g4s = np.zeros(len(phi_exs))\n",
    "dc2 = np.zeros(len(phi_exs))\n",
    "c2 = np.zeros(len(phi_exs))\n",
    "for i in range(len(phi_exs)):\n",
    "    result = SNAIL_spectrum(phi_exs[i])\n",
    "    snail_energies[i] = result[0]\n",
    "    g3s[i] = result[1]\n",
    "    g4s[i] = result[2]\n",
    "    dc2[i] = result[3]\n",
    "    c2[i] = result[4]"
   ]
  },
  {
   "cell_type": "code",
   "execution_count": 5,
   "id": "2c9fab9c",
   "metadata": {},
   "outputs": [],
   "source": [
    "# beta = 0.1\n",
    "# plt.plot(phi_exs/2/np.pi,c2,label = 'phi_m')\n",
    "# plt.plot(phi_exs/2/np.pi,beta*np.sin(phi_exs)/(1/3+beta*np.cos(phi_exs)),label = 'approximation')\n",
    "# plt.legend()"
   ]
  },
  {
   "cell_type": "code",
   "execution_count": 6,
   "id": "86e7a163",
   "metadata": {},
   "outputs": [
    {
     "data": {
      "text/plain": [
       "<matplotlib.legend.Legend at 0x7f8c61357ca0>"
      ]
     },
     "execution_count": 6,
     "metadata": {},
     "output_type": "execute_result"
    },
    {
     "data": {
      "image/png": "[encoded data removed]",
      "text/plain": [
       "<Figure size 432x288 with 1 Axes>"
      ]
     },
     "metadata": {
      "needs_background": "light"
     },
     "output_type": "display_data"
    }
   ],
   "source": [
    "#g4*12?\n",
    "plt.plot(phi_exs/2/np.pi,-g3s/2/np.pi,label = 'g3')\n",
    "plt.plot(phi_exs/2/np.pi,-g4s/2/np.pi,label = 'g4')\n",
    "plt.legend()"
   ]
  },
  {
   "cell_type": "code",
   "execution_count": 7,
   "id": "c1617ca1",
   "metadata": {},
   "outputs": [
    {
     "data": {
      "text/plain": [
       "Text(0, 0.5, '$\\\\omega_s$')"
      ]
     },
     "execution_count": 7,
     "metadata": {},
     "output_type": "execute_result"
    },
    {
     "data": {
      "image/png": "[encoded data removed]",
      "text/plain": [
       "<Figure size 432x288 with 1 Axes>"
      ]
     },
     "metadata": {
      "needs_background": "light"
     },
     "output_type": "display_data"
    }
   ],
   "source": [
    "plt.plot(phi_exs/2/np.pi,snail_energies/2/np.pi)\n",
    "plt.xlabel('external flux ($\\Phi_0$)')\n",
    "plt.ylabel('$\\omega_s$')"
   ]
  },
  {
   "cell_type": "markdown",
   "id": "5895f594",
   "metadata": {},
   "source": [
    "$\\partial E_{1}/ \\partial \\Phi_{ex}|_{\\Phi_{ex} = 0.4\\Phi_0}$ by finite difference"
   ]
  },
  {
   "cell_type": "code",
   "execution_count": 225,
   "id": "d1cf3ad0",
   "metadata": {},
   "outputs": [
    {
     "data": {
      "text/plain": [
       "Text(0, 0.5, '$\\\\omega_s$')"
      ]
     },
     "execution_count": 225,
     "metadata": {},
     "output_type": "execute_result"
    },
    {
     "data": {
      "image/png": "[encoded data removed]",
      "text/plain": [
       "<Figure size 432x288 with 1 Axes>"
      ]
     },
     "metadata": {
      "needs_background": "light"
     },
     "output_type": "display_data"
    }
   ],
   "source": [
    "phi_exs = np.linspace(0*2*np.pi,0.5*2*np.pi,100)\n",
    "snailE_de = np.zeros(len(phi_exs))\n",
    "for i in range(len(phi_exs)):\n",
    "    dphi = 1e-4\n",
    "    snailE_de[i] = (SNAIL_spectrum(phi_exs[i]+dphi)[0]-SNAIL_spectrum(phi_exs[i])[0])/dphi\n",
    "\n",
    "plt.plot(phi_exs/2/np.pi,snailE_de)\n",
    "plt.xlabel('external flux ($\\Phi_0$)')\n",
    "plt.ylabel('$\\omega_s$')"
   ]
  },
  {
   "cell_type": "code",
   "execution_count": 237,
   "id": "8c913f90",
   "metadata": {},
   "outputs": [],
   "source": [
    "def coupled_spectrum(phi_ex):\n",
    "    beta = 0.15\n",
    "    def U_s(phi): \n",
    "#         phi_ex = 0.4*2*np.pi\n",
    "        return (-beta*np.cos(phi-phi_ex)-3*np.cos((phi)/3))\n",
    "    phi_min = sci.optimize.minimize(U_s,0).x\n",
    "    # potential expansion around minimum\n",
    "    firstd = ad.grad(U_s)\n",
    "    secondd = ad.grad(firstd)\n",
    "    thirdd = ad.grad(secondd)\n",
    "    fourd = ad.grad(thirdd)\n",
    "    fived = ad.grad(fourd)\n",
    "    sixd = ad.grad(fived)\n",
    "    sevend = ad.grad(sixd)\n",
    "    eightd = ad.grad(sevend)\n",
    "    c2 = secondd(phi_min[0])\n",
    "    c3 = thirdd(phi_min[0])\n",
    "    c4 = fourd(phi_min[0])\n",
    "    c5 = fived(phi_min[0])\n",
    "    c6 = sixd(phi_min[0])\n",
    "    c7 = sevend(phi_min[0])\n",
    "    c8 = eightd(phi_min[0])\n",
    "    \n",
    "    Ej = 90*2*np.pi\n",
    "    Ec = 0.177*2*np.pi\n",
    "    omega_s = np.sqrt(8*c2*Ej*Ec)\n",
    "    phi_zpf = np.power(2*Ec/Ej/c2,1/4)\n",
    "    g2 = Ej*phi_zpf**2*c2/2\n",
    "    g3 = Ej*phi_zpf**3*c3/3/2\n",
    "    g4 = Ej*phi_zpf**4*c4/4/3/2\n",
    "    g5 = Ej*phi_zpf**5*c5/5/4/3/2\n",
    "    g6 = Ej*phi_zpf**6*c6/6/5/4/3/2\n",
    "    g7 = Ej*phi_zpf**7*c7/7/6/5/4/3/2\n",
    "    g8 = 2*Ej*phi_zpf**8*c8/8/7/6/5/4/3/2\n",
    "    \n",
    "    g3 = 0\n",
    "    g4 = 0\n",
    "    g5 = 0\n",
    "    g6 = 0\n",
    "    g7 = 0\n",
    "    g8 = 5.46253910160294e-07\n",
    "    \n",
    "    sdim = 10\n",
    "    s = annihilation(sdim)\n",
    "    sd = creation(sdim)\n",
    "    Hs = omega_s * np.matmul(sd,s)\n",
    "    x2 = np.matmul(s+sd,s+sd)\n",
    "    x3 = np.matmul(s+sd,x2)\n",
    "    x4 = np.matmul(s+sd,x3)\n",
    "    x5 = np.matmul(s+sd,x4)\n",
    "    x6 = np.matmul(s+sd,x5)\n",
    "    x7 = np.matmul(s+sd,x6)\n",
    "    x8 = np.matmul(s+sd,x7)\n",
    "    Hs += g3*x3 + g4*x4 + g5*x5 + g6*x6 + g7*x7 + g8*x8\n",
    "#     Hs = (omega_s * np.matmul(sd,s)\n",
    "#         - Ej*(beta*sci.linalg.cosm(phi_zpf*(s+sd)+(phi_min-phi_ex)*np.identity(sdim))\n",
    "#         + 3*sci.linalg.cosm((phi_zpf*(s+sd)+phi_min*np.identity(sdim))/3))- g2*x2)\n",
    "    cdim = 10\n",
    "    c = annihilation(sdim)\n",
    "    cd = creation(sdim)\n",
    "    omega_c = 1*2*np.pi\n",
    "    Hc = omega_c*np.matmul(cd,c)\n",
    "    delta = omega_c - omega_s\n",
    "    Ic = np.identity(cdim)\n",
    "    Is = np.identity(sdim)\n",
    "    Hs = np.kron(Hs,np.identity(sdim))\n",
    "    Hc = np.kron(Is,Hc)\n",
    "\n",
    "    g_int = 0.1*2*np.pi/np.power(0.251,1/4)\n",
    "    H_int = g_int*np.kron(c+cd,sd+s)\n",
    "    H = Hs + Hc + H_int\n",
    "    energy,dressed_states = np.linalg.eigh(H)\n",
    "    energy = energy-energy[0]*np.ones(len(energy))\n",
    "    return energy[1],g_int,delta"
   ]
  },
  {
   "cell_type": "code",
   "execution_count": 238,
   "id": "d451c693",
   "metadata": {},
   "outputs": [],
   "source": [
    "phi_exs = np.linspace(0.*2*np.pi,0.5*2*np.pi,100)\n",
    "coupled_energies = np.zeros(len(phi_exs))\n",
    "g_ints = np.zeros(len(phi_exs))\n",
    "deltas = np.zeros(len(phi_exs))\n",
    "for i in range(len(phi_exs)):\n",
    "    result = coupled_spectrum(phi_exs[i])\n",
    "    coupled_energies[i] = result[0]\n",
    "    g_ints[i] = result[1]\n",
    "    deltas[i] = result[2]"
   ]
  },
  {
   "cell_type": "code",
   "execution_count": 239,
   "id": "d0e231c7",
   "metadata": {},
   "outputs": [
    {
     "data": {
      "text/plain": [
       "Text(0, 0.5, '$dressed E_{1,0}$')"
      ]
     },
     "execution_count": 239,
     "metadata": {},
     "output_type": "execute_result"
    },
    {
     "data": {
      "image/png": "[encoded data removed]",
      "text/plain": [
       "<Figure size 432x288 with 1 Axes>"
      ]
     },
     "metadata": {
      "needs_background": "light"
     },
     "output_type": "display_data"
    }
   ],
   "source": [
    "plt.plot(phi_exs/2/np.pi,coupled_energies/2/np.pi)\n",
    "plt.plot(phi_exs/2/np.pi,np.ones(len(phi_exs))+g_ints**2/deltas/2/np.pi)\n",
    "plt.xlabel('external flux ($\\Phi_0$)')\n",
    "plt.ylabel('$dressed E_{1,0}$')"
   ]
  },
  {
   "cell_type": "code",
   "execution_count": 240,
   "id": "920cc645",
   "metadata": {},
   "outputs": [],
   "source": [
    "phi_exs = np.linspace(0*2*np.pi,0.5*2*np.pi,100)\n",
    "coupledE_de = np.zeros(len(phi_exs))\n",
    "g_intsd = np.zeros(len(phi_exs))\n",
    "for i in range(len(phi_exs)):\n",
    "    dphi = 1e-3\n",
    "    results1 = coupled_spectrum(phi_exs[i]+dphi)\n",
    "    results2 = coupled_spectrum(phi_exs[i])\n",
    "    coupledE_de[i] = (results1[0]-results2[0])/dphi\n",
    "    g_intsd[i] = (results1[1]-results2[1])/dphi              "
   ]
  },
  {
   "cell_type": "markdown",
   "id": "a70f6cee",
   "metadata": {},
   "source": [
    "g independent of phi_ex"
   ]
  },
  {
   "cell_type": "code",
   "execution_count": 241,
   "id": "008cd129",
   "metadata": {},
   "outputs": [
    {
     "data": {
      "text/plain": [
       "<matplotlib.legend.Legend at 0x7fd88b2514c0>"
      ]
     },
     "execution_count": 241,
     "metadata": {},
     "output_type": "execute_result"
    },
    {
     "data": {
      "image/png": "[encoded data removed]",
      "text/plain": [
       "<Figure size 432x288 with 1 Axes>"
      ]
     },
     "metadata": {
      "needs_background": "light"
     },
     "output_type": "display_data"
    }
   ],
   "source": [
    "plt.plot(phi_exs/2/np.pi,(g_ints/deltas)**2*snailE_de/2/np.pi,label=\"approximation\")\n",
    "plt.plot(phi_exs/2/np.pi,coupledE_de/2/np.pi,label=\"exact\")\n",
    "plt.xlabel('external flux ($\\Phi_0$)')\n",
    "plt.ylabel('$E_{1,0}$ derivative')\n",
    "plt.legend()"
   ]
  },
  {
   "cell_type": "markdown",
   "id": "09c3f368",
   "metadata": {},
   "source": [
    "g depends on phi_ex"
   ]
  },
  {
   "cell_type": "code",
   "execution_count": 242,
   "id": "a78de2e0",
   "metadata": {},
   "outputs": [
    {
     "data": {
      "text/plain": [
       "<matplotlib.legend.Legend at 0x7fd88b4bd610>"
      ]
     },
     "execution_count": 242,
     "metadata": {},
     "output_type": "execute_result"
    },
    {
     "data": {
      "image/png": "[encoded data removed]",
      "text/plain": [
       "<Figure size 432x288 with 1 Axes>"
      ]
     },
     "metadata": {
      "needs_background": "light"
     },
     "output_type": "display_data"
    }
   ],
   "source": [
    "plt.plot(phi_exs/2/np.pi,(g_ints/deltas)**2*snailE_de/2/np.pi+2*g_ints/deltas*g_intsd/2/np.pi,label=\"approximation\")\n",
    "plt.plot(phi_exs/2/np.pi,coupledE_de/2/np.pi,label=\"exact\")\n",
    "plt.xlabel('external flux ($\\Phi_0$)')\n",
    "plt.ylabel('$E_{1,0}$ derivative')\n",
    "plt.legend()"
   ]
  },
  {
   "cell_type": "code",
   "execution_count": 1,
   "id": "6ff43b76",
   "metadata": {},
   "outputs": [],
   "source": [
    "from sympy import *"
   ]
  },
  {
   "cell_type": "code",
   "execution_count": 202,
   "id": "5569ce42",
   "metadata": {},
   "outputs": [],
   "source": [
    "import sympy as sp\n",
    "\n",
    "# Define the symbol beta\n",
    "beta = sp.symbols('beta')\n",
    "\n",
    "# Define the expression\n",
    "x = (-4 * sp.sqrt(1540 * beta**2 + 141) + 45) / 77\n",
    "\n",
    "c2 = x+sp.Rational(1,3)\n",
    "c4 = -x - sp.Rational(1,27)\n",
    "c3 = sp.sqrt(0.6*c4*c2)\n",
    "phimd = x/(x+sp.Rational(1,3))\n",
    "c2d = (phimd-sp.Rational(9,8))\n",
    "c3d = c4*phimd+x\n",
    "c4d = (-sp.Rational(10,9)*phimd+sp.Rational(9,8))"
   ]
  },
  {
   "cell_type": "code",
   "execution_count": 203,
   "id": "9c8eb430",
   "metadata": {},
   "outputs": [
    {
     "data": {
      "text/latex": [
       "$\\displaystyle - 160102482570.089 i \\beta^{10} - 313227856.306291 i \\beta^{8} - 684898.539302391 i \\beta^{6} - 1841.64701053949 i \\beta^{4} - 10.7089958877866 i \\beta^{2} + 0.0288296490407102 i$"
      ],
      "text/plain": [
       "-160102482570.089*I*beta**10 - 313227856.306291*I*beta**8 - 684898.539302391*I*beta**6 - 1841.64701053949*I*beta**4 - 10.7089958877866*I*beta**2 + 0.0288296490407102*I"
      ]
     },
     "execution_count": 203,
     "metadata": {},
     "output_type": "execute_result"
    }
   ],
   "source": [
    "c3.series(beta, 0, 12).removeO().evalf()"
   ]
  },
  {
   "cell_type": "code",
   "execution_count": 204,
   "id": "a0e492eb",
   "metadata": {},
   "outputs": [
    {
     "data": {
      "text/latex": [
       "$\\displaystyle 0.0949385506919742$"
      ],
      "text/plain": [
       "0.0949385506919742"
      ]
     },
     "execution_count": 204,
     "metadata": {},
     "output_type": "execute_result"
    }
   ],
   "source": [
    "(c4/c2).simplify().series(beta, 0, 3).removeO().evalf().subs(beta,0.1)"
   ]
  },
  {
   "cell_type": "code",
   "execution_count": 205,
   "id": "f9d508ec",
   "metadata": {},
   "outputs": [
    {
     "data": {
      "text/latex": [
       "$\\displaystyle \\frac{10}{9}$"
      ],
      "text/plain": [
       "10/9"
      ]
     },
     "execution_count": 205,
     "metadata": {},
     "output_type": "execute_result"
    }
   ],
   "source": [
    "sp.Rational(10,9)"
   ]
  },
  {
   "cell_type": "code",
   "execution_count": 206,
   "id": "d228ec6a",
   "metadata": {},
   "outputs": [
    {
     "data": {
      "text/latex": [
       "$\\displaystyle -0.0721120873061228$"
      ],
      "text/plain": [
       "-0.0721120873061228"
      ]
     },
     "execution_count": 206,
     "metadata": {},
     "output_type": "execute_result"
    }
   ],
   "source": [
    "(c3d).simplify().series(beta, 0, 12).removeO().evalf().subs(beta,0.1)"
   ]
  },
  {
   "cell_type": "code",
   "execution_count": 207,
   "id": "111f51a4",
   "metadata": {},
   "outputs": [],
   "source": [
    "der = c4d -sp.Rational(3,2)*c4/c2*c2d-104/72*(2*c3d/c2-sp.Rational(5,2)*c3**2/c2**2*c2d)"
   ]
  },
  {
   "cell_type": "code",
   "execution_count": 240,
   "id": "2ea468b8",
   "metadata": {},
   "outputs": [
    {
     "data": {
      "text/latex": [
       "$\\displaystyle 2.07650745937289$"
      ],
      "text/plain": [
       "2.07650745937289"
      ]
     },
     "execution_count": 240,
     "metadata": {},
     "output_type": "execute_result"
    }
   ],
   "source": [
    "der.subs(beta,0.1)"
   ]
  },
  {
   "cell_type": "code",
   "execution_count": 237,
   "id": "e3da02a3",
   "metadata": {},
   "outputs": [
    {
     "data": {
      "text/latex": [
       "$\\displaystyle -1.36837906156693$"
      ],
      "text/plain": [
       "-1.36837906156693"
      ]
     },
     "execution_count": 237,
     "metadata": {},
     "output_type": "execute_result"
    }
   ],
   "source": [
    "c2d.subs(beta,0.1)"
   ]
  },
  {
   "cell_type": "code",
   "execution_count": 257,
   "id": "094a29d9",
   "metadata": {},
   "outputs": [],
   "source": [
    "ratio = sp.sqrt(-der/c2d*sp.sqrt(c2)*2*sp.sqrt(8))"
   ]
  },
  {
   "cell_type": "code",
   "execution_count": 258,
   "id": "c3da597f",
   "metadata": {},
   "outputs": [
    {
     "data": {
      "text/latex": [
       "$\\displaystyle 28.5048569323912 \\beta^{4} + 12.0967015436217 \\beta^{2} + 1.98409232301815$"
      ],
      "text/plain": [
       "28.5048569323912*beta**4 + 12.0967015436217*beta**2 + 1.98409232301815"
      ]
     },
     "execution_count": 258,
     "metadata": {},
     "output_type": "execute_result"
    }
   ],
   "source": [
    "ratio.simplify().series(beta, 0, 6).removeO().evalf()"
   ]
  },
  {
   "cell_type": "code",
   "execution_count": 209,
   "id": "64d4f12c",
   "metadata": {},
   "outputs": [
    {
     "data": {
      "text/latex": [
       "$\\displaystyle -1.36837906156693$"
      ],
      "text/plain": [
       "-1.36837906156693"
      ]
     },
     "execution_count": 209,
     "metadata": {},
     "output_type": "execute_result"
    }
   ],
   "source": [
    "c2d.evalf().subs(beta,0.1)"
   ]
  },
  {
   "cell_type": "code",
   "execution_count": 242,
   "id": "4d43152e",
   "metadata": {},
   "outputs": [
    {
     "data": {
      "text/latex": [
       "$\\displaystyle - 210.434737093987 \\beta^{4} - 22.570644196492 \\beta^{2} - 1.26863791326251$"
      ],
      "text/plain": [
       "-210.434737093987*beta**4 - 22.570644196492*beta**2 - 1.26863791326251"
      ]
     },
     "execution_count": 242,
     "metadata": {},
     "output_type": "execute_result"
    }
   ],
   "source": [
    "+210.434737093987*beta**4+22.570644196492*beta**2+1.26863791326251"
   ]
  },
  {
   "cell_type": "code",
   "execution_count": 250,
   "id": "2ff016f3",
   "metadata": {},
   "outputs": [
    {
     "data": {
      "text/plain": [
       "1.4444444444444444"
      ]
     },
     "execution_count": 250,
     "metadata": {},
     "output_type": "execute_result"
    }
   ],
   "source": [
    "13/9"
   ]
  },
  {
   "cell_type": "code",
   "execution_count": null,
   "id": "ee57b2c4",
   "metadata": {},
   "outputs": [],
   "source": [
    "1.27+22.57+210"
   ]
  },
  {
   "cell_type": "code",
   "execution_count": 265,
   "id": "96fc0d17",
   "metadata": {},
   "outputs": [
    {
     "data": {
      "text/latex": [
       "$\\displaystyle 0.154840043358547$"
      ],
      "text/plain": [
       "0.154840043358547"
      ]
     },
     "execution_count": 265,
     "metadata": {},
     "output_type": "execute_result"
    }
   ],
   "source": [
    "(sp.sqrt(sp.sqrt(0.7**3*15))*(1.98+12.1*0.01)-2.74)/2.74"
   ]
  },
  {
   "cell_type": "code",
   "execution_count": null,
   "id": "d88533a4",
   "metadata": {},
   "outputs": [],
   "source": []
  }
 ],
 "metadata": {
  "kernelspec": {
   "display_name": "Python 3 (ipykernel)",
   "language": "python",
   "name": "python3"
  },
  "language_info": {
   "codemirror_mode": {
    "name": "ipython",
    "version": 3
   },
   "file_extension": ".py",
   "mimetype": "text/x-python",
   "name": "python",
   "nbconvert_exporter": "python",
   "pygments_lexer": "ipython3",
   "version": "3.8.3"
  }
 },
 "nbformat": 4,
 "nbformat_minor": 5
}
