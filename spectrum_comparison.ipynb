{
 "cells": [
  {
   "cell_type": "code",
   "execution_count": 25,
   "id": "fe74d74a",
   "metadata": {},
   "outputs": [],
   "source": [
    "import numpy as np\n",
    "import matplotlib.pyplot as plt\n",
    "import scipy as sci\n",
    "import autograd as ad\n",
    "import autograd.numpy as np\n",
    "from cosmatrix import cosm,expm_pade\n",
    "expm = expm_pade\n",
    "from autograd.extend import primitive, defvjp\n",
    "def annihilation(dim):\n",
    "    return np.diag(np.sqrt(np.arange(1,dim)),1)\n",
    "def creation(dim):\n",
    "    return np.diag(np.sqrt(np.arange(1,dim)),-1)\n",
    "def coupled_spectrum(phi_ex,beta,N,Ej,Ec,omega_c,g_intfa):\n",
    "    @primitive\n",
    "    def Us_min(phi_ex):\n",
    "        def U_s(phi): \n",
    "            return (-beta*np.cos(phi-phi_ex)-N*np.cos((phi)/N))\n",
    "        phi_min = sci.optimize.minimize(U_s,0).x\n",
    "        return phi_min\n",
    "    \n",
    "    def phi_minde(ans, phi_ex):\n",
    "        def phi_minde_vjp(g):\n",
    "            c2 = beta*np.cos(ans - phi_ex) + 1/N*np.cos(ans/N)\n",
    "            return g*beta*np.cos(ans - phi_ex)/c2\n",
    "        return phi_minde_vjp\n",
    "    defvjp(Us_min, phi_minde)\n",
    "    \n",
    "    phi_min = Us_min(phi_ex)\n",
    "    # potential expansion around minimum\n",
    "    c2 = beta*np.cos(phi_min - phi_ex) + 1/N*np.cos(phi_min/N)\n",
    "    omega_s = np.sqrt(8*c2*Ej*Ec)\n",
    "    phi_zpf = np.power(2*Ec/(Ej*c2),1/4)\n",
    "    g2 = Ej*phi_zpf**2*c2/2\n",
    "    sdim = 10\n",
    "    s = annihilation(sdim)\n",
    "    sd = creation(sdim)\n",
    "    x2 = np.matmul(s+sd,s+sd)\n",
    "    Hs = (omega_s * np.matmul(sd,s)\n",
    "        - Ej*(beta*cosm(phi_zpf*(s+sd)+(phi_min-phi_ex)*np.identity(sdim))\n",
    "        + N*cosm((phi_zpf*(s+sd)+phi_min*np.identity(sdim))/N))- g2*x2)\n",
    "    \n",
    "    cdim = 10\n",
    "    c = annihilation(cdim)\n",
    "    cd = creation(cdim)\n",
    "    Hc = omega_c*np.matmul(cd,c)\n",
    "    Ic = np.identity(cdim)\n",
    "    Is = np.identity(sdim)\n",
    "    Hs = np.kron(Hs,Ic)\n",
    "    Hc = np.kron(Is,Hc)\n",
    "    g_int =  g_intfa*2*np.pi*np.power((2*Ec)/Ej,1/4)/phi_zpf\n",
    "    H_int = g_int*np.kron(s+sd,cd+c)\n",
    "#     H_int = g_int*(np.kron(sd,c)+np.kron(s,cd))\n",
    "    H = Hs + Hc + H_int\n",
    "    energy,dressed_states = np.linalg.eigh(H)\n",
    "    energy = energy-energy[0]*np.ones(len(energy))\n",
    "    exact = energy[1]/2/np.pi\n",
    "    return exact, omega_s\n",
    "\n",
    "def coupled_spectrumapp(phi_ex,beta,N,Ej,Ec,omega_c,g_intfa):\n",
    "    @primitive\n",
    "    def Us_min(phi_ex):\n",
    "        def U_s(phi): \n",
    "            return (-beta*np.cos(phi-phi_ex)-N*np.cos((phi)/N))\n",
    "        phi_min = sci.optimize.minimize(U_s,0).x\n",
    "        return phi_min\n",
    "    \n",
    "    def phi_minde(ans, phi_ex):\n",
    "        def phi_minde_vjp(g):\n",
    "            c2 = beta*np.cos(ans - phi_ex) + 1/N*np.cos(ans/N)\n",
    "            return g*beta*np.cos(ans - phi_ex)/c2\n",
    "        return phi_minde_vjp\n",
    "    defvjp(Us_min, phi_minde)\n",
    "    \n",
    "    phi_min = Us_min(phi_ex)\n",
    "    # potential expansion around minimum\n",
    "    c2 = beta*np.cos(phi_min - phi_ex) + 1/N*np.cos(phi_min/N)\n",
    "    omega_s = np.sqrt(8*c2*Ej*Ec)\n",
    "    phi_zpf = np.power(2*Ec/(Ej*c2),1/4)\n",
    "    g2 = Ej*phi_zpf**2*c2/2\n",
    "    sdim = 10\n",
    "    s = annihilation(sdim)\n",
    "    sd = creation(sdim)\n",
    "    x2 = np.matmul(s+sd,s+sd)\n",
    "    Hs = (omega_s * np.matmul(sd,s)\n",
    "        - Ej*(beta*cosm(phi_zpf*(s+sd)+(phi_min-phi_ex)*np.identity(sdim))\n",
    "        + N*cosm((phi_zpf*(s+sd)+phi_min*np.identity(sdim))/N))- g2*x2)\n",
    "    \n",
    "    energy,dressed_states = np.linalg.eigh(Hs)\n",
    "    energy = energy-energy[0]*np.ones(len(energy))\n",
    "    omega_sp = energy[1]\n",
    "    c3 = (N**2-1)/N**2*np.sin(phi_min/N)\n",
    "    g3 = Ej*phi_zpf**3*c3/3/2\n",
    "    c4 = -beta*np.cos(phi_min-phi_ex) -1/N**3*np.cos(phi_min/N)\n",
    "\n",
    "    g4 = Ej*phi_zpf**4*c4/4/3/2\n",
    "    omega_s = omega_s\n",
    "    g_int =  g_intfa*2*np.pi*np.power((2*Ec)/Ej,1/4)/phi_zpf\n",
    "    deltap = omega_c - omega_sp\n",
    "    addp = omega_c + omega_sp\n",
    "    delta = omega_c - omega_s\n",
    "    add = omega_c + omega_s\n",
    "    x2 = np.matmul(s+sd,s+sd)\n",
    "    x3 = np.matmul(s+sd,x2)\n",
    "    x4 = np.matmul(s+sd,x3)\n",
    "    Hs = omega_sp * np.matmul(sd,s) \n",
    "    cdim = 10\n",
    "    c = annihilation(cdim)\n",
    "    cd = creation(cdim)\n",
    "    Hc = omega_c*np.matmul(cd,c)\n",
    "    Ic = np.identity(cdim)\n",
    "    Is = np.identity(sdim)\n",
    "    Hs = np.kron(Hs,Ic)\n",
    "    Hc = np.kron(Is,Hc)\n",
    "    g_int =  g_intfa*2*np.pi*np.power((2*Ec)/Ej,1/4)/phi_zpf\n",
    "    g_intfaA= g_intfa*2*np.pi*np.power((2*Ec)/Ej,1/4)\n",
    "    p1 = - 6*g4*s +2*g3*s@s  - 6*g4*sd@s@s+g4*s@s@s \n",
    "    app2 = s+sd+1/omega_s*(-12*g3*sd@s+ p1 + np.transpose(p1.conjugate()))\n",
    "    dressed_states_dagger = np.conjugate(dressed_states.transpose())\n",
    "#     s_int = dressed_states_dagger@(s+sd)@dressed_states\n",
    "    D = int_swt(g3,g4,omega_s,s,sd,1)[1]\n",
    "    U = expm(-D)\n",
    "    int_s = np.transpose(U.conjugate())@(s+sd)@U\n",
    "    H_int = g_int*np.kron(app2,cd+c)\n",
    "    H = Hs + Hc + H_int\n",
    "    energy,dressed_states = np.linalg.eigh(H)\n",
    "    energy = energy-energy[0]*np.ones(len(energy))\n",
    "    exact = energy[1]/2/np.pi\n",
    "    sigma = omega_c**2-omega_s**2\n",
    "#     +20*(g3/omega_s)**2+300*(g4/omega_s)**2\n",
    "    A = 2*(g_int)**2*omega_s/sigma\n",
    "    B = g4\n",
    "    C = 24*omega_s/sigma\n",
    "    fac1 = 4*(Ej)*g_intfaA**2/sigma**2*c3*1.25\n",
    "    fac2 = omega_c**2\n",
    "    fac3 = 2*omega_s*Ec\n",
    "    x1 = (g3**2/omega_s**2)*144*omega_s**3*(6*omega_s**2-omega_c**2)/(omega_c**6-6*omega_c**4*omega_s**2+9*omega_c**2*omega_s**4-4*omega_s**6)\n",
    "    y1 = 48*omega_s**2*g4/(omega_c**2-omega_s**2)**2\n",
    "    z1 = 2*omega_s/(omega_c**2-omega_s**2)\n",
    "    return (x1+y1+z1)*g_int**2,A,B,C,c2,c4,fac1,fac2,fac3\n"
   ]
  },
  {
   "cell_type": "code",
   "execution_count": 26,
   "id": "05a9c483",
   "metadata": {},
   "outputs": [],
   "source": [
    "from qutip import qload\n",
    "from sympy.physics.secondquant import *\n",
    "from sympy import symbols\n",
    "import sympy as sp\n",
    "from cosmatrix import expm_pade\n",
    "def int_swt(g3,g4,omegas,s,sd,order):    \n",
    "    s1,s2,s3 = qload('./symbolic/swt')\n",
    "    omegasp = symbols('omega', real=True)\n",
    "    g3sp = symbols('g3', real=True)\n",
    "    g4sp = symbols('g4', real=True)\n",
    "    omega = symbols('omega', real=True)\n",
    "    kappa = symbols('kappa', real=True)\n",
    "    ind_a = symbols('a')\n",
    "    a = B(ind_a)\n",
    "    ad = Bd(ind_a)\n",
    "    def replace_scalars_with_valued_matrices(expr, matrix_values):\n",
    "        \"\"\"\n",
    "        Replace scalar symbols and scalar operations in a SymPy scalar expression with valued matrices.\n",
    "\n",
    "        Args:\n",
    "        expr (sympy.Expr): The input scalar expression.\n",
    "        matrix_values (dict): A dictionary mapping scalar symbols to valued matrices.\n",
    "\n",
    "        Returns:\n",
    "        sympy.Expr: The modified expression with valued matrices.\n",
    "        \"\"\"\n",
    "\n",
    "        def map_operations(node):\n",
    "            if (isinstance(node, AnnihilateBoson) or isinstance(node, CreateBoson) )and node in matrix_values:\n",
    "                return matrix_values[node]\n",
    "            elif isinstance(node, sp.Add):\n",
    "                return sp.Add(*[map_operations(arg) for arg in node.args])\n",
    "            elif isinstance(node, sp.Mul):\n",
    "                return sp.Mul(*[map_operations(arg) for arg in node.args])\n",
    "            elif isinstance(node, sp.Pow):\n",
    "                base, exponent = map_operations(node.base), map_operations(node.exp)\n",
    "                return base**exponent\n",
    "            else:\n",
    "                return node\n",
    "\n",
    "        return map_operations(expr)\n",
    "    def smatrix(expr):\n",
    "        expr = expr.subs({ g3sp:g3[0],g4sp:g4[0], kappa:1,omegasp:omegas[0]})\n",
    "        sp_s = sp.Matrix(s)\n",
    "        sp_sd = sp.Matrix(sd)\n",
    "        matrix_values = {a: sp_s, ad: sp_sd}\n",
    "        result = replace_scalars_with_valued_matrices(expr, matrix_values)\n",
    "        return np.array(result,np.float64)\n",
    "    if order == 1:\n",
    "        D = smatrix(s1)\n",
    "    if order == 2:\n",
    "        D = smatrix(s1) + smatrix(s2) \n",
    "    if order == 3:\n",
    "        D = smatrix(s1) + smatrix(s2) + smatrix(s3)\n",
    "    app = expm(D)@(s+sd)@expm(-D)\n",
    "    return app,D"
   ]
  },
  {
   "cell_type": "code",
   "execution_count": 27,
   "id": "c4a1b6dc",
   "metadata": {},
   "outputs": [],
   "source": [
    "beta = 0.1\n",
    "omega_c = 2.7*2*np.pi\n",
    "g_intfa=0.15\n",
    "N = 3\n",
    "Ej = 15*2*np.pi\n",
    "Ec = 0.7*2*np.pi\n",
    "phi_exs = np.linspace(0.0*2*np.pi,0.5*2*np.pi,100)\n",
    "grad = ad.grad(coupled_spectrum)\n",
    "snail_energies = np.zeros(len(phi_exs))\n",
    "snail_energiesapp1 = np.zeros(len(phi_exs))\n",
    "snail_energiesapp2 = np.zeros(len(phi_exs))\n",
    "snail_energiesapp3 = np.zeros(len(phi_exs))\n",
    "dressed_omegas = np.zeros(len(phi_exs))\n",
    "g4s = np.zeros(len(phi_exs))\n",
    "g3s = np.zeros(len(phi_exs))\n",
    "omega_sps = np.zeros(len(phi_exs))\n",
    "Hs34 = np.zeros(len(phi_exs))\n",
    "facs = np.zeros(len(phi_exs))\n",
    "h = 1e-4  # step size\n",
    "\n",
    "# Arrays to store derivatives\n",
    "deriv_snail_energies = np.zeros(len(phi_exs))\n",
    "deriv_snail_energiesapp3 = np.zeros(len(phi_exs))\n",
    "deriv_snail_energiesapp4 = np.zeros(len(phi_exs))\n",
    "deriv_snail_energiesapp5 = np.zeros(len(phi_exs))\n",
    "deriv_snail_energiesapp6 = np.zeros(len(phi_exs))\n",
    "deriv_snail_energiesapp7 = np.zeros(len(phi_exs))\n",
    "for i in range(1, len(phi_exs)-1):  # Avoiding the endpoints\n",
    "    snail_energies[i],dressed_omegas[i] = coupled_spectrum(phi_exs[i],beta,N,Ej,Ec,omega_c,g_intfa)\n",
    "    snail_energiesapp3[i],As,Bs,Cs,c2,c4,fac1,fac2,fac3,= coupled_spectrumapp(phi_exs[i],beta,N,Ej,Ec,omega_c,g_intfa)\n",
    "    snail_energy_plus, _ = coupled_spectrum(phi_exs[i] + h, beta, N, Ej, Ec, omega_c, g_intfa)\n",
    "    snail_energy_minus, _ = coupled_spectrum(phi_exs[i] - h, beta, N, Ej, Ec, omega_c, g_intfa)\n",
    "\n",
    "    snail_energiesapp3_plus,Aplus,Bplus,Cplus,c2plus,c4plus,_,_,_ = coupled_spectrumapp(phi_exs[i] + h, beta, N, Ej, Ec, omega_c, g_intfa)\n",
    "    snail_energiesapp3_minus,Aminus,Bminus,Cminus,c2minus,c4minus,_,_,_= coupled_spectrumapp(phi_exs[i] - h, beta, N, Ej, Ec, omega_c, g_intfa)\n",
    "    c2dot = (c2plus-c2minus)/(2*h)\n",
    "    c4dot = (c4plus-c4minus)/(2*h)\n",
    "    deriv_snail_energies[i] = (snail_energy_plus - snail_energy_minus) / (2 * h)\n",
    "    deriv_snail_energiesapp3[i] = (snail_energiesapp3_plus - snail_energiesapp3_minus) / (2 * h)\n",
    "    deriv_snail_energiesapp4[i] = (Aplus - Aminus) / (2 * h)/2/np.pi+As*(Bplus-Bminus)/2/h*Cs/2/np.pi\n",
    "    deriv_snail_energiesapp5[i] = fac1*(-fac2+fac3*1.011)/2/np.pi"
   ]
  },
  {
   "cell_type": "code",
   "execution_count": 28,
   "id": "29d1a0ac",
   "metadata": {},
   "outputs": [
    {
     "data": {
      "text/plain": [
       "<matplotlib.legend.Legend at 0x7fc3fb3d45e0>"
      ]
     },
     "execution_count": 28,
     "metadata": {},
     "output_type": "execute_result"
    },
    {
     "data": {
      "image/png": "[encoded data removed]",
      "text/plain": [
       "<Figure size 432x288 with 1 Axes>"
      ]
     },
     "metadata": {
      "needs_background": "light"
     },
     "output_type": "display_data"
    }
   ],
   "source": [
    "plt.plot(phi_exs/2/np.pi,deriv_snail_energiesapp4, label = 'dA')\n",
    "plt.plot(phi_exs/2/np.pi,deriv_snail_energiesapp5, label = 'dAg4C')\n",
    "# plt.plot(phi_exs/2/np.pi,deriv_snail_energiesapp6, label = 'dg4AC')\n",
    "# plt.plot(phi_exs/2/np.pi,deriv_snail_energiesapp7, label = 'g4Adc')\n",
    "plt.legend()"
   ]
  },
  {
   "cell_type": "code",
   "execution_count": 29,
   "id": "5086fe28",
   "metadata": {},
   "outputs": [
    {
     "data": {
      "text/plain": [
       "<matplotlib.legend.Legend at 0x7fc3fc9c0730>"
      ]
     },
     "execution_count": 29,
     "metadata": {},
     "output_type": "execute_result"
    },
    {
     "data": {
      "image/png": "[encoded data removed]",
      "text/plain": [
       "<Figure size 432x288 with 1 Axes>"
      ]
     },
     "metadata": {
      "needs_background": "light"
     },
     "output_type": "display_data"
    }
   ],
   "source": [
    "plt.plot((snail_energies-omega_c/2/np.pi*np.ones(100))[1:-2],label = 'exact dressed fock 1 energy')\n",
    "# plt.scatter((phi_exs/2/np.pi)[-13],snail_energies[-14])\n",
    "# plt.plot(phi_exs/2/np.pi,Hs34-omega_c/2/np.pi*np.ones(100), label = '1st order to $s+s^\\dagger$')\n",
    "# plt.plot(phi_exs/2/np.pi,snail_energiesapp2, label = '$g^2/\\Delta - g^2/(\\omega_c+\\omega_s)$')\n",
    "# plt.plot(phi_exs/2/np.pi,(snail_energiesapp3-omega_c/2/np.pi*np.ones(100)), label = '$g^2/\\Delta - g^2/(\\omega_c+\\omega_s)$')\n",
    "plt.plot((snail_energiesapp3)[1:-2]/2/np.pi, label = '$g^{\\'2}/\\Delta^{\\'} - g^{\\'2}/(\\omega_c+\\omega_s^{\\'})$, $g^{\\'}=g*(1-6g_4/ω_s)$')\n",
    "plt.legend()"
   ]
  },
  {
   "cell_type": "code",
   "execution_count": 30,
   "id": "645cb9c9",
   "metadata": {},
   "outputs": [
    {
     "data": {
      "text/plain": [
       "<matplotlib.legend.Legend at 0x7fc3fcb06d60>"
      ]
     },
     "execution_count": 30,
     "metadata": {},
     "output_type": "execute_result"
    },
    {
     "data": {
      "image/png": "[encoded data removed]",
      "text/plain": [
       "<Figure size 432x288 with 1 Axes>"
      ]
     },
     "metadata": {
      "needs_background": "light"
     },
     "output_type": "display_data"
    }
   ],
   "source": [
    "plt.plot(phi_exs/2/np.pi,deriv_snail_energies,label = 'exact dressed fock 1 energy')\n",
    "# plt.scatter((phi_exs/2/np.pi)[-13],snail_energies[-14])\n",
    "# plt.plot(phi_exs/2/np.pi,Hs34-omega_c/2/np.pi*np.ones(100), label = '1st order to $s+s^\\dagger$')\n",
    "# plt.plot(phi_exs/2/np.pi,snail_energiesapp2, label = '$g^2/\\Delta - g^2/(\\omega_c+\\omega_s)$')\n",
    "# plt.plot(phi_exs/2/np.pi,(snail_energiesapp3-omega_c/2/np.pi*np.ones(100)), label = '$g^2/\\Delta - g^2/(\\omega_c+\\omega_s)$')\n",
    "plt.plot(phi_exs/2/np.pi,deriv_snail_energiesapp3, label = 'app')\n",
    "plt.plot(phi_exs/2/np.pi,deriv_snail_energiesapp4+deriv_snail_energiesapp6, label = 'app2')\n",
    "plt.legend()"
   ]
  },
  {
   "cell_type": "code",
   "execution_count": 31,
   "id": "a0f9ea0e",
   "metadata": {},
   "outputs": [],
   "source": [
    "# check paramereters - g/delta\n",
    "# calculate t2 - see improvement\n",
    "# drive - engineer factor "
   ]
  },
  {
   "cell_type": "code",
   "execution_count": 32,
   "id": "769fe1aa",
   "metadata": {},
   "outputs": [
    {
     "data": {
      "text/plain": [
       "[<matplotlib.lines.Line2D at 0x7fc3fcc74ee0>]"
      ]
     },
     "execution_count": 32,
     "metadata": {},
     "output_type": "execute_result"
    },
    {
     "data": {
      "image/png": "[encoded data removed]",
      "text/plain": [
       "<Figure size 432x288 with 1 Axes>"
      ]
     },
     "metadata": {
      "needs_background": "light"
     },
     "output_type": "display_data"
    }
   ],
   "source": [
    "plt.plot(facs)"
   ]
  },
  {
   "cell_type": "code",
   "execution_count": 45,
   "id": "d7aba3f4",
   "metadata": {},
   "outputs": [],
   "source": [
    "def coupled_spectrumapp(phi_ex,beta,N,Ej,Ec,omega_c):\n",
    "    @primitive\n",
    "    def Us_min(phi_ex):\n",
    "        def U_s(phi): \n",
    "            return (-beta*np.cos(phi-phi_ex)-N*np.cos((phi)/N))\n",
    "        phi_min = sci.optimize.minimize(U_s,0).x\n",
    "        return phi_min\n",
    "    \n",
    "    def phi_minde(ans, phi_ex):\n",
    "        def phi_minde_vjp(g):\n",
    "            c2 = beta*np.cos(ans - phi_ex) + 1/N*np.cos(ans/N)\n",
    "            return g*beta*np.cos(ans - phi_ex)/c2\n",
    "        return phi_minde_vjp\n",
    "    defvjp(Us_min, phi_minde)\n",
    "    \n",
    "    phi_min = Us_min(phi_ex)\n",
    "    # potential expansion around minimum\n",
    "    c2 = beta*np.cos(phi_min - phi_ex) + 1/N*np.cos(phi_min/N)\n",
    "    omega_s = np.sqrt(8*c2*Ej*Ec)\n",
    "    phi_zpf = np.power(2*Ec/(Ej*c2),1/4)\n",
    "    g2 = Ej*phi_zpf**2*c2/2\n",
    "    sdim = 10\n",
    "    s = annihilation(sdim)\n",
    "    sd = creation(sdim)\n",
    "    x2 = np.matmul(s+sd,s+sd)\n",
    "    c3 = (N**2-1)/N**2*np.sin(phi_min/N)\n",
    "    g3 = Ej*phi_zpf**3*c3/3/2\n",
    "    c4 = -beta*np.cos(phi_min-phi_ex) -1/N**3*np.cos(phi_min/N)\n",
    "    g4 = Ej*phi_zpf**4*c4/4/3/2\n",
    "    x2 = np.matmul(s+sd,s+sd)\n",
    "    x3 = np.matmul(s+sd,x2)\n",
    "    x4 = np.matmul(s+sd,x3)\n",
    "    print(g3,g4)\n",
    "    Hs = (omega_s * np.matmul(sd,s)\n",
    "        - Ej*(beta*cosm(phi_zpf*(s+sd)+(phi_min-phi_ex)*np.identity(sdim))\n",
    "        + N*cosm((phi_zpf*(s+sd)+phi_min*np.identity(sdim))/N))- g2*x2)\n",
    "#     Hs = omega_s * np.matmul(sd,s) + g3*x3+g4*x4\n",
    "    energy,dressed_states = np.linalg.eigh(Hs)\n",
    "    energy = energy-energy[0]*np.ones(len(energy))\n",
    "    omega_sp = energy[1]\n",
    "    g_int =  0.15*2*np.pi*np.power((2*Ec)/Ej,1/4)/phi_zpf\n",
    "    deltap = omega_c - omega_sp\n",
    "    addp = omega_c + omega_sp\n",
    "    delta = omega_c - omega_s\n",
    "    add = omega_c + omega_s\n",
    "    \n",
    "    Hs = (omega_sp) * np.matmul(sd,s) \n",
    "    cdim = 10\n",
    "    c = annihilation(cdim)\n",
    "    cd = creation(cdim)\n",
    "    Hc = omega_c*np.matmul(cd,c)\n",
    "    Ic = np.identity(cdim)\n",
    "    Is = np.identity(sdim)\n",
    "    Hs = np.kron(Hs,Ic)\n",
    "    Hc = np.kron(Is,Hc)\n",
    "    g_int =  0.15*2*np.pi*np.power((2*Ec)/Ej,1/4)/phi_zpf\n",
    "    dressed_states_dagger = np.conjugate(dressed_states.transpose())\n",
    "#     s_int = dressed_states_dagger@(s+sd)@dressed_states\n",
    "    D = int_swt(g3,g4,omega_s,s,sd,1)[0]\n",
    "#     U = expm(-D)\n",
    "#     int_s = np.transpose(U.conjugate())@(s+sd)@U\n",
    "    H_int = g_int*np.kron(D,cd+c)\n",
    "    H = Hs + Hc + H_int\n",
    "    energy,dressed_states = np.linalg.eigh(H)\n",
    "    energy = energy-energy[0]*np.ones(len(energy))\n",
    "    exact1 = energy[1]/2/np.pi\n",
    "    D = int_swt(g3,g4,omega_s,s,sd,2)[0]\n",
    "#     U = expm(-D)\n",
    "#     int_s = np.transpose(U.conjugate())@(s+sd)@U\n",
    "    H_int = g_int*np.kron(D,cd+c)\n",
    "    H = Hs + Hc + H_int\n",
    "    energy,dressed_states = np.linalg.eigh(H)\n",
    "    energy = energy-energy[0]*np.ones(len(energy))\n",
    "    exact2 = energy[1]/2/np.pi\n",
    "    return exact1,exact2\n"
   ]
  },
  {
   "cell_type": "code",
   "execution_count": 46,
   "id": "6a30a1a4",
   "metadata": {},
   "outputs": [
    {
     "name": "stdout",
     "output_type": "stream",
     "text": [
      "[0.] [-0.11590776]\n",
      "[0.01077549] [-0.1158907]\n",
      "[0.02155069] [-0.11583951]\n",
      "[0.03232415] [-0.11575416]\n",
      "[0.0430961] [-0.11563457]\n",
      "[0.05386468] [-0.11548067]\n",
      "[0.06463017] [-0.11529234]\n",
      "[0.07534361] [-0.11506912]\n",
      "[0.08607623] [-0.11481127]\n",
      "[0.09679619] [-0.1145184]\n",
      "[0.10750197] [-0.11419027]\n",
      "[0.11819162] [-0.11382661]\n",
      "[0.12886344] [-0.11342712]\n",
      "[0.13951558] [-0.11299146]\n",
      "[0.15014595] [-0.11251928]\n",
      "[0.16075263] [-0.11201017]\n",
      "[0.17133348] [-0.11146373]\n",
      "[0.18188615] [-0.11087948]\n",
      "[0.19240835] [-0.11025695]\n",
      "[0.20289769] [-0.1095956]\n",
      "[0.21335179] [-0.10889488]\n",
      "[0.22376778] [-0.10815421]\n",
      "[0.2341426] [-0.10737293]\n",
      "[0.24447368] [-0.10655041]\n",
      "[0.25475773] [-0.10568594]\n",
      "[0.26499131] [-0.10477877]\n",
      "[0.27517112] [-0.10382814]\n",
      "[0.28529342] [-0.10283323]\n",
      "[0.2953544] [-0.10179319]\n",
      "[0.30534964] [-0.10070711]\n",
      "[0.31527509] [-0.09957407]\n",
      "[0.32516559] [-0.09839433]\n",
      "[0.33494322] [-0.09716463]\n",
      "[0.34463704] [-0.09588493]\n",
      "[0.3542416] [-0.09455415]\n",
      "[0.36375073] [-0.09317112]\n",
      "[0.37315871] [-0.09173466]\n",
      "[0.38245865] [-0.09024353]\n",
      "[0.39164395] [-0.08869647]\n",
      "[0.40070701] [-0.08709213]\n",
      "[0.40963979] [-0.08542914]\n",
      "[0.41843463] [-0.08370613]\n",
      "[0.42708202] [-0.08192162]\n",
      "[0.43557268] [-0.08007411]\n",
      "[0.44389671] [-0.07816209]\n",
      "[0.45204327] [-0.07618398]\n",
      "[0.46000109] [-0.07413818]\n",
      "[0.46775835] [-0.07202307]\n",
      "[0.47530189] [-0.06983699]\n",
      "[0.48261811] [-0.06757826]\n"
     ]
    },
    {
     "ename": "KeyboardInterrupt",
     "evalue": "",
     "output_type": "error",
     "traceback": [
      "\u001b[0;31m---------------------------------------------------------------------------\u001b[0m",
      "\u001b[0;31mKeyboardInterrupt\u001b[0m                         Traceback (most recent call last)",
      "Input \u001b[0;32mIn [46]\u001b[0m, in \u001b[0;36m<module>\u001b[0;34m\u001b[0m\n\u001b[1;32m     12\u001b[0m \u001b[38;5;28;01mfor\u001b[39;00m i \u001b[38;5;129;01min\u001b[39;00m \u001b[38;5;28mrange\u001b[39m(\u001b[38;5;28mlen\u001b[39m(phi_exs)):\n\u001b[1;32m     13\u001b[0m     snail_energies[i],dressed_omegas[i] \u001b[38;5;241m=\u001b[39m coupled_spectrum(phi_exs[i],beta,N,Ej,Ec,omega_c,g_intfa)\n\u001b[0;32m---> 14\u001b[0m     snail_energiesapp1[i],snail_energiesapp2[i]\u001b[38;5;241m=\u001b[39m \u001b[43mcoupled_spectrumapp\u001b[49m\u001b[43m(\u001b[49m\u001b[43mphi_exs\u001b[49m\u001b[43m[\u001b[49m\u001b[43mi\u001b[49m\u001b[43m]\u001b[49m\u001b[43m,\u001b[49m\u001b[43mbeta\u001b[49m\u001b[43m,\u001b[49m\u001b[43mN\u001b[49m\u001b[43m,\u001b[49m\u001b[43mEj\u001b[49m\u001b[43m,\u001b[49m\u001b[43mEc\u001b[49m\u001b[43m,\u001b[49m\u001b[43momega_c\u001b[49m\u001b[43m)\u001b[49m\n",
      "Input \u001b[0;32mIn [45]\u001b[0m, in \u001b[0;36mcoupled_spectrumapp\u001b[0;34m(phi_ex, beta, N, Ej, Ec, omega_c)\u001b[0m\n\u001b[1;32m     65\u001b[0m     energy \u001b[38;5;241m=\u001b[39m energy\u001b[38;5;241m-\u001b[39menergy[\u001b[38;5;241m0\u001b[39m]\u001b[38;5;241m*\u001b[39mnp\u001b[38;5;241m.\u001b[39mones(\u001b[38;5;28mlen\u001b[39m(energy))\n\u001b[1;32m     66\u001b[0m     exact1 \u001b[38;5;241m=\u001b[39m energy[\u001b[38;5;241m1\u001b[39m]\u001b[38;5;241m/\u001b[39m\u001b[38;5;241m2\u001b[39m\u001b[38;5;241m/\u001b[39mnp\u001b[38;5;241m.\u001b[39mpi\n\u001b[0;32m---> 67\u001b[0m     D \u001b[38;5;241m=\u001b[39m \u001b[43mint_swt\u001b[49m\u001b[43m(\u001b[49m\u001b[43mg3\u001b[49m\u001b[43m,\u001b[49m\u001b[43mg4\u001b[49m\u001b[43m,\u001b[49m\u001b[43momega_s\u001b[49m\u001b[43m,\u001b[49m\u001b[43ms\u001b[49m\u001b[43m,\u001b[49m\u001b[43msd\u001b[49m\u001b[43m,\u001b[49m\u001b[38;5;241;43m2\u001b[39;49m\u001b[43m)\u001b[49m[\u001b[38;5;241m0\u001b[39m]\n\u001b[1;32m     68\u001b[0m \u001b[38;5;66;03m#     U = expm(-D)\u001b[39;00m\n\u001b[1;32m     69\u001b[0m \u001b[38;5;66;03m#     int_s = np.transpose(U.conjugate())@(s+sd)@U\u001b[39;00m\n\u001b[1;32m     70\u001b[0m     H_int \u001b[38;5;241m=\u001b[39m g_int\u001b[38;5;241m*\u001b[39mnp\u001b[38;5;241m.\u001b[39mkron(D,cd\u001b[38;5;241m+\u001b[39mc)\n",
      "Input \u001b[0;32mIn [26]\u001b[0m, in \u001b[0;36mint_swt\u001b[0;34m(g3, g4, omegas, s, sd, order)\u001b[0m\n\u001b[1;32m     50\u001b[0m     D \u001b[38;5;241m=\u001b[39m smatrix(s1)\n\u001b[1;32m     51\u001b[0m \u001b[38;5;28;01mif\u001b[39;00m order \u001b[38;5;241m==\u001b[39m \u001b[38;5;241m2\u001b[39m:\n\u001b[0;32m---> 52\u001b[0m     D \u001b[38;5;241m=\u001b[39m smatrix(s1) \u001b[38;5;241m+\u001b[39m \u001b[43msmatrix\u001b[49m\u001b[43m(\u001b[49m\u001b[43ms2\u001b[49m\u001b[43m)\u001b[49m \n\u001b[1;32m     53\u001b[0m \u001b[38;5;28;01mif\u001b[39;00m order \u001b[38;5;241m==\u001b[39m \u001b[38;5;241m3\u001b[39m:\n\u001b[1;32m     54\u001b[0m     D \u001b[38;5;241m=\u001b[39m smatrix(s1) \u001b[38;5;241m+\u001b[39m smatrix(s2) \u001b[38;5;241m+\u001b[39m smatrix(s3)\n",
      "Input \u001b[0;32mIn [26]\u001b[0m, in \u001b[0;36mint_swt.<locals>.smatrix\u001b[0;34m(expr)\u001b[0m\n\u001b[1;32m     42\u001b[0m \u001b[38;5;28;01mdef\u001b[39;00m \u001b[38;5;21msmatrix\u001b[39m(expr):\n\u001b[0;32m---> 43\u001b[0m     expr \u001b[38;5;241m=\u001b[39m \u001b[43mexpr\u001b[49m\u001b[38;5;241;43m.\u001b[39;49m\u001b[43msubs\u001b[49m\u001b[43m(\u001b[49m\u001b[43m{\u001b[49m\u001b[43m \u001b[49m\u001b[43mg3sp\u001b[49m\u001b[43m:\u001b[49m\u001b[43mg3\u001b[49m\u001b[43m[\u001b[49m\u001b[38;5;241;43m0\u001b[39;49m\u001b[43m]\u001b[49m\u001b[43m,\u001b[49m\u001b[43mg4sp\u001b[49m\u001b[43m:\u001b[49m\u001b[43mg4\u001b[49m\u001b[43m[\u001b[49m\u001b[38;5;241;43m0\u001b[39;49m\u001b[43m]\u001b[49m\u001b[43m,\u001b[49m\u001b[43m \u001b[49m\u001b[43mkappa\u001b[49m\u001b[43m:\u001b[49m\u001b[38;5;241;43m1\u001b[39;49m\u001b[43m,\u001b[49m\u001b[43momegasp\u001b[49m\u001b[43m:\u001b[49m\u001b[43momegas\u001b[49m\u001b[43m[\u001b[49m\u001b[38;5;241;43m0\u001b[39;49m\u001b[43m]\u001b[49m\u001b[43m}\u001b[49m\u001b[43m)\u001b[49m\n\u001b[1;32m     44\u001b[0m     sp_s \u001b[38;5;241m=\u001b[39m sp\u001b[38;5;241m.\u001b[39mMatrix(s)\n\u001b[1;32m     45\u001b[0m     sp_sd \u001b[38;5;241m=\u001b[39m sp\u001b[38;5;241m.\u001b[39mMatrix(sd)\n",
      "File \u001b[0;32m~/miniconda3/lib/python3.8/site-packages/sympy/core/basic.py:944\u001b[0m, in \u001b[0;36mBasic.subs\u001b[0;34m(self, *args, **kwargs)\u001b[0m\n\u001b[1;32m    942\u001b[0m     s \u001b[38;5;241m=\u001b[39m Symbol(s[\u001b[38;5;241m0\u001b[39m]), s[\u001b[38;5;241m1\u001b[39m]\n\u001b[1;32m    943\u001b[0m \u001b[38;5;28;01mtry\u001b[39;00m:\n\u001b[0;32m--> 944\u001b[0m     s \u001b[38;5;241m=\u001b[39m [sympify(_, strict\u001b[38;5;241m=\u001b[39m\u001b[38;5;129;01mnot\u001b[39;00m \u001b[38;5;28misinstance\u001b[39m(_, (\u001b[38;5;28mstr\u001b[39m, \u001b[38;5;28mtype\u001b[39m)))\n\u001b[1;32m    945\u001b[0m          \u001b[38;5;28;01mfor\u001b[39;00m _ \u001b[38;5;129;01min\u001b[39;00m s]\n\u001b[1;32m    946\u001b[0m \u001b[38;5;28;01mexcept\u001b[39;00m SympifyError:\n\u001b[1;32m    947\u001b[0m     \u001b[38;5;66;03m# if it can't be sympified, skip it\u001b[39;00m\n\u001b[1;32m    948\u001b[0m     sequence[i] \u001b[38;5;241m=\u001b[39m \u001b[38;5;28;01mNone\u001b[39;00m\n",
      "File \u001b[0;32m~/miniconda3/lib/python3.8/site-packages/sympy/core/basic.py:944\u001b[0m, in \u001b[0;36m<listcomp>\u001b[0;34m(.0)\u001b[0m\n\u001b[1;32m    942\u001b[0m     s \u001b[38;5;241m=\u001b[39m Symbol(s[\u001b[38;5;241m0\u001b[39m]), s[\u001b[38;5;241m1\u001b[39m]\n\u001b[1;32m    943\u001b[0m \u001b[38;5;28;01mtry\u001b[39;00m:\n\u001b[0;32m--> 944\u001b[0m     s \u001b[38;5;241m=\u001b[39m [\u001b[43msympify\u001b[49m\u001b[43m(\u001b[49m\u001b[43m_\u001b[49m\u001b[43m,\u001b[49m\u001b[43m \u001b[49m\u001b[43mstrict\u001b[49m\u001b[38;5;241;43m=\u001b[39;49m\u001b[38;5;129;43;01mnot\u001b[39;49;00m\u001b[43m \u001b[49m\u001b[38;5;28;43misinstance\u001b[39;49m\u001b[43m(\u001b[49m\u001b[43m_\u001b[49m\u001b[43m,\u001b[49m\u001b[43m \u001b[49m\u001b[43m(\u001b[49m\u001b[38;5;28;43mstr\u001b[39;49m\u001b[43m,\u001b[49m\u001b[43m \u001b[49m\u001b[38;5;28;43mtype\u001b[39;49m\u001b[43m)\u001b[49m\u001b[43m)\u001b[49m\u001b[43m)\u001b[49m\n\u001b[1;32m    945\u001b[0m          \u001b[38;5;28;01mfor\u001b[39;00m _ \u001b[38;5;129;01min\u001b[39;00m s]\n\u001b[1;32m    946\u001b[0m \u001b[38;5;28;01mexcept\u001b[39;00m SympifyError:\n\u001b[1;32m    947\u001b[0m     \u001b[38;5;66;03m# if it can't be sympified, skip it\u001b[39;00m\n\u001b[1;32m    948\u001b[0m     sequence[i] \u001b[38;5;241m=\u001b[39m \u001b[38;5;28;01mNone\u001b[39;00m\n",
      "File \u001b[0;32m~/miniconda3/lib/python3.8/site-packages/sympy/core/sympify.py:384\u001b[0m, in \u001b[0;36msympify\u001b[0;34m(a, locals, convert_xor, strict, rational, evaluate)\u001b[0m\n\u001b[1;32m    382\u001b[0m         conv \u001b[38;5;241m=\u001b[39m _sympy_converter\u001b[38;5;241m.\u001b[39mget(superclass)\n\u001b[1;32m    383\u001b[0m     \u001b[38;5;28;01mif\u001b[39;00m conv \u001b[38;5;129;01mis\u001b[39;00m \u001b[38;5;129;01mnot\u001b[39;00m \u001b[38;5;28;01mNone\u001b[39;00m:\n\u001b[0;32m--> 384\u001b[0m         \u001b[38;5;28;01mreturn\u001b[39;00m \u001b[43mconv\u001b[49m\u001b[43m(\u001b[49m\u001b[43ma\u001b[49m\u001b[43m)\u001b[49m\n\u001b[1;32m    386\u001b[0m \u001b[38;5;28;01mif\u001b[39;00m \u001b[38;5;28mcls\u001b[39m \u001b[38;5;129;01mis\u001b[39;00m \u001b[38;5;28mtype\u001b[39m(\u001b[38;5;28;01mNone\u001b[39;00m):\n\u001b[1;32m    387\u001b[0m     \u001b[38;5;28;01mif\u001b[39;00m strict:\n",
      "File \u001b[0;32m~/miniconda3/lib/python3.8/site-packages/sympy/core/numbers.py:1067\u001b[0m, in \u001b[0;36mFloat.__new__\u001b[0;34m(cls, num, dps, precision)\u001b[0m\n\u001b[1;32m   1065\u001b[0m     \u001b[38;5;28;01mreturn\u001b[39;00m num\n\u001b[1;32m   1066\u001b[0m \u001b[38;5;28;01melif\u001b[39;00m _is_numpy_instance(num):  \u001b[38;5;66;03m# support for numpy datatypes\u001b[39;00m\n\u001b[0;32m-> 1067\u001b[0m     num \u001b[38;5;241m=\u001b[39m \u001b[43m_convert_numpy_types\u001b[49m\u001b[43m(\u001b[49m\u001b[43mnum\u001b[49m\u001b[43m)\u001b[49m\n\u001b[1;32m   1068\u001b[0m \u001b[38;5;28;01melif\u001b[39;00m \u001b[38;5;28misinstance\u001b[39m(num, mpmath\u001b[38;5;241m.\u001b[39mmpf):\n\u001b[1;32m   1069\u001b[0m     \u001b[38;5;28;01mif\u001b[39;00m precision \u001b[38;5;129;01mis\u001b[39;00m \u001b[38;5;28;01mNone\u001b[39;00m:\n",
      "File \u001b[0;32m~/miniconda3/lib/python3.8/site-packages/sympy/core/sympify.py:91\u001b[0m, in \u001b[0;36m_convert_numpy_types\u001b[0;34m(a, **sympify_args)\u001b[0m\n\u001b[1;32m     89\u001b[0m \u001b[38;5;28;01mtry\u001b[39;00m:\n\u001b[1;32m     90\u001b[0m     \u001b[38;5;28;01mfrom\u001b[39;00m \u001b[38;5;21;01m.\u001b[39;00m\u001b[38;5;21;01mnumbers\u001b[39;00m \u001b[38;5;28;01mimport\u001b[39;00m Float\n\u001b[0;32m---> 91\u001b[0m     prec \u001b[38;5;241m=\u001b[39m \u001b[43mnp\u001b[49m\u001b[38;5;241;43m.\u001b[39;49m\u001b[43mfinfo\u001b[49m\u001b[43m(\u001b[49m\u001b[43ma\u001b[49m\u001b[43m)\u001b[49m\u001b[38;5;241m.\u001b[39mnmant \u001b[38;5;241m+\u001b[39m \u001b[38;5;241m1\u001b[39m\n\u001b[1;32m     92\u001b[0m     \u001b[38;5;66;03m# E.g. double precision means prec=53 but nmant=52\u001b[39;00m\n\u001b[1;32m     93\u001b[0m     \u001b[38;5;66;03m# Leading bit of mantissa is always 1, so is not stored\u001b[39;00m\n\u001b[1;32m     94\u001b[0m     a \u001b[38;5;241m=\u001b[39m \u001b[38;5;28mstr\u001b[39m(\u001b[38;5;28mlist\u001b[39m(np\u001b[38;5;241m.\u001b[39mreshape(np\u001b[38;5;241m.\u001b[39masarray(a),\n\u001b[1;32m     95\u001b[0m                             (\u001b[38;5;241m1\u001b[39m, np\u001b[38;5;241m.\u001b[39msize(a)))[\u001b[38;5;241m0\u001b[39m]))[\u001b[38;5;241m1\u001b[39m:\u001b[38;5;241m-\u001b[39m\u001b[38;5;241m1\u001b[39m]\n",
      "File \u001b[0;32m~/miniconda3/lib/python3.8/site-packages/numpy/core/getlimits.py:483\u001b[0m, in \u001b[0;36mfinfo.__new__\u001b[0;34m(cls, dtype)\u001b[0m\n\u001b[1;32m    479\u001b[0m \u001b[38;5;28;01mexcept\u001b[39;00m \u001b[38;5;167;01mTypeError\u001b[39;00m:\n\u001b[1;32m    480\u001b[0m     \u001b[38;5;66;03m# In case a float instance was given\u001b[39;00m\n\u001b[1;32m    481\u001b[0m     dtype \u001b[38;5;241m=\u001b[39m numeric\u001b[38;5;241m.\u001b[39mdtype(\u001b[38;5;28mtype\u001b[39m(dtype))\n\u001b[0;32m--> 483\u001b[0m obj \u001b[38;5;241m=\u001b[39m \u001b[38;5;28;43mcls\u001b[39;49m\u001b[38;5;241;43m.\u001b[39;49m\u001b[43m_finfo_cache\u001b[49m\u001b[38;5;241;43m.\u001b[39;49m\u001b[43mget\u001b[49m\u001b[43m(\u001b[49m\u001b[43mdtype\u001b[49m\u001b[43m,\u001b[49m\u001b[43m \u001b[49m\u001b[38;5;28;43;01mNone\u001b[39;49;00m\u001b[43m)\u001b[49m\n\u001b[1;32m    484\u001b[0m \u001b[38;5;28;01mif\u001b[39;00m obj \u001b[38;5;129;01mis\u001b[39;00m \u001b[38;5;129;01mnot\u001b[39;00m \u001b[38;5;28;01mNone\u001b[39;00m:\n\u001b[1;32m    485\u001b[0m     \u001b[38;5;28;01mreturn\u001b[39;00m obj\n",
      "\u001b[0;31mKeyboardInterrupt\u001b[0m: "
     ]
    }
   ],
   "source": [
    "phi_exs = np.linspace(0.0*2*np.pi,0.5*2*np.pi,100)\n",
    "grad = ad.grad(coupled_spectrum)\n",
    "snail_energies = np.zeros(len(phi_exs))\n",
    "snail_energiesapp1 = np.zeros(len(phi_exs))\n",
    "snail_energiesapp2 = np.zeros(len(phi_exs))\n",
    "snail_energiesapp3 = np.zeros(len(phi_exs))\n",
    "dressed_omegas = np.zeros(len(phi_exs))\n",
    "g4s = np.zeros(len(phi_exs))\n",
    "g3s = np.zeros(len(phi_exs))\n",
    "omega_sps = np.zeros(len(phi_exs))\n",
    "Hs34 = np.zeros(len(phi_exs))\n",
    "for i in range(len(phi_exs)):\n",
    "    snail_energies[i],dressed_omegas[i] = coupled_spectrum(phi_exs[i],beta,N,Ej,Ec,omega_c,g_intfa)\n",
    "    snail_energiesapp1[i],snail_energiesapp2[i]= coupled_spectrumapp(phi_exs[i],beta,N,Ej,Ec,omega_c)"
   ]
  },
  {
   "cell_type": "code",
   "execution_count": null,
   "id": "86c918a9",
   "metadata": {},
   "outputs": [],
   "source": [
    "plt.plot(phi_exs/2/np.pi,snail_energies,label = 'exact dressed fock 1 energy')\n",
    "plt.plot(phi_exs/2/np.pi,snail_energiesapp1, label = '1st swt to $s+s^\\dagger$')\n",
    "plt.plot(phi_exs/2/np.pi,snail_energiesapp2, label = '2nd swt to $s+s^\\dagger$')\n",
    "\n",
    "plt.legend()"
   ]
  },
  {
   "cell_type": "code",
   "execution_count": null,
   "id": "b2103e5a",
   "metadata": {},
   "outputs": [],
   "source": []
  }
 ],
 "metadata": {
  "kernelspec": {
   "display_name": "Python 3 (ipykernel)",
   "language": "python",
   "name": "python3"
  },
  "language_info": {
   "codemirror_mode": {
    "name": "ipython",
    "version": 3
   },
   "file_extension": ".py",
   "mimetype": "text/x-python",
   "name": "python",
   "nbconvert_exporter": "python",
   "pygments_lexer": "ipython3",
   "version": "3.8.3"
  }
 },
 "nbformat": 4,
 "nbformat_minor": 5
}
