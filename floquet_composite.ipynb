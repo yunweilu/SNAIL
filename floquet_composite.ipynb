{
 "cells": [
  {
   "cell_type": "code",
   "execution_count": 378,
   "id": "1edeaa30",
   "metadata": {},
   "outputs": [],
   "source": [
    "import matplotlib.pyplot as plt\n",
    "from joblib import Parallel, delayed\n",
    "import scipy as sci\n",
    "import autograd as ad\n",
    "import autograd.numpy as np\n",
    "from cosmatrix import cosm,expm_pade\n",
    "expm = expm_pade\n",
    "from autograd.extend import primitive, defvjp\n",
    "from qutip import *\n",
    "def annihilation(dim):\n",
    "    return np.diag(np.sqrt(np.arange(1,dim)),1)\n",
    "def creation(dim):\n",
    "    return np.diag(np.sqrt(np.arange(1,dim)),-1)\n",
    "def SNAIL_H(phi_ex,beta,N,Ej,Ec):\n",
    "    phi_ex = 2*np.pi*phi_ex\n",
    "    @primitive\n",
    "    def Us_min(phi_ex):\n",
    "        def U_s(phi): \n",
    "            return (-beta*np.cos(phi-phi_ex)-N*np.cos((phi)/N))\n",
    "        phi_min = sci.optimize.minimize(U_s,0).x\n",
    "        return phi_min\n",
    "    \n",
    "    def phi_minde(ans, phi_ex):\n",
    "        def phi_minde_vjp(g):\n",
    "            c2 = beta*np.cos(ans - phi_ex) + 1/N*np.cos(ans/N)\n",
    "            return g*beta*np.cos(ans - phi_ex)/c2\n",
    "        return phi_minde_vjp\n",
    "    defvjp(Us_min, phi_minde)\n",
    "    \n",
    "    phi_min = Us_min(phi_ex)\n",
    "    # potential expansion around minimum\n",
    "    c2 = beta*np.cos(phi_min - phi_ex) + 1/N*np.cos(phi_min/N)\n",
    "    omega_s = np.sqrt(8*c2*Ej*Ec)\n",
    "    phi_zpf = np.power(2*Ec/(Ej*c2),1/4)\n",
    "    g2 = Ej*phi_zpf**2*c2/2\n",
    "    sdim = 10\n",
    "    s = annihilation(sdim)\n",
    "    sd = creation(sdim)\n",
    "    x2 = np.matmul(s+sd,s+sd)\n",
    "    c3 = (N**2-1)/N**2*np.sin(phi_min/N)\n",
    "    g3 = Ej*phi_zpf**3*c3/3/2\n",
    "    c4 = -beta*np.cos(phi_min-phi_ex) -1/N**3*np.cos(phi_min/N)\n",
    "\n",
    "    g4 = Ej*phi_zpf**4*c4/4/3/2\n",
    "    Hs = (omega_s * np.matmul(sd,s)\n",
    "        - Ej*(beta*cosm(phi_zpf*(s+sd)+(phi_min-phi_ex)*np.identity(sdim))\n",
    "        + N*cosm((phi_zpf*(s+sd)+phi_min*np.identity(sdim))/N))- g2*x2)\n",
    "    energy,U = np.linalg.eigh(Hs)\n",
    "    U_dag = np.conjugate(U.transpose())\n",
    "    Hs = U_dag@Hs@U\n",
    "    return Hs-energy[0]*np.identity(sdim),U_dag@(s+sd)@U\n",
    "\n",
    "def coupled_spectrum(phi_ex,omega_c,g_intfa):\n",
    "    beta = 0.15\n",
    "    N = 3\n",
    "    phi_ex = 2*np.pi*phi_ex\n",
    "    @primitive\n",
    "    def Us_min(phi_ex):\n",
    "        def U_s(phi): \n",
    "            return (-beta*np.cos(phi-phi_ex)-N*np.cos((phi)/N))\n",
    "        phi_min = sci.optimize.minimize(U_s,0).x\n",
    "        return phi_min\n",
    "    \n",
    "    def phi_minde(ans, phi_ex):\n",
    "        def phi_minde_vjp(g):\n",
    "            c2 = beta*np.cos(ans - phi_ex) + 1/N*np.cos(ans/N)\n",
    "            return g*beta*np.cos(ans - phi_ex)/c2\n",
    "        return phi_minde_vjp\n",
    "    defvjp(Us_min, phi_minde)\n",
    "    \n",
    "    phi_min = Us_min(phi_ex)\n",
    "    # potential expansion around minimum\n",
    "    c2 = beta*np.cos(phi_min - phi_ex) + 1/N*np.cos(phi_min/N)\n",
    "    omega_s = np.sqrt(8*c2*Ej*Ec)\n",
    "    phi_zpf = np.power(2*Ec/(Ej*c2),1/4)\n",
    "    g2 = Ej*phi_zpf**2*c2/2\n",
    "    sdim = 10\n",
    "    s = annihilation(sdim)\n",
    "    sd = creation(sdim)\n",
    "    x2 = np.matmul(s+sd,s+sd)\n",
    "    Hs = (omega_s * np.matmul(sd,s)\n",
    "        - Ej*(beta*cosm(phi_zpf*(s+sd)+(phi_min-phi_ex)*np.identity(sdim))\n",
    "        + N*cosm((phi_zpf*(s+sd)+phi_min*np.identity(sdim))/N))- g2*x2)\n",
    "    cdim = 5\n",
    "    c = annihilation(cdim)\n",
    "    cd = creation(cdim)\n",
    "    Hc = omega_c*np.matmul(cd,c)\n",
    "    Ic = np.identity(cdim)\n",
    "    Is = np.identity(sdim)\n",
    "    Hs = np.kron(Hs,Ic)\n",
    "    Hc = np.kron(Is,Hc)\n",
    "    g_int = g_intfa*2*np.pi*np.power((2*Ec)/Ej,1/4)/phi_zpf\n",
    "    H_int = g_int*np.kron(s+sd,cd+c)\n",
    "#     H_int = g_int*(np.kron(sd,c)+np.kron(s,cd))\n",
    "    H = Hs + Hc + H_int\n",
    "    energy,dressed_states = np.linalg.eigh(H)\n",
    "    energy,U = np.linalg.eigh(H)\n",
    "    U_dag = np.conjugate(U.transpose())\n",
    "    H = U_dag@H@U\n",
    "\n",
    "    return H-energy[0]*np.identity(sdim*cdim),U_dag@np.kron(s+sd,Ic)@U"
   ]
  },
  {
   "cell_type": "code",
   "execution_count": 379,
   "id": "58f813bc",
   "metadata": {},
   "outputs": [],
   "source": [
    "def find_optimal_k(A, B, D):\n",
    "    # Define a large initial minimum difference\n",
    "    min_diff = float('inf')\n",
    "    optimal_k = None\n",
    "    \n",
    "    # Iterate over a range of possible k values\n",
    "    # The range can be adjusted based on expected size of k or other insights you have about your problem\n",
    "    for k in range(-1000, 1000):\n",
    "        # Calculate the difference for this value of k\n",
    "        diff = abs(A - (B + k * D))\n",
    "        \n",
    "        # If this is the smallest difference we've found so far, update min_diff and optimal_k\n",
    "        if diff < min_diff:\n",
    "            min_diff = diff\n",
    "            optimal_k = k\n",
    "            \n",
    "    return optimal_k\n",
    "# Function to calculate overlap (you might use inner product, fidelity, etc.)\n",
    "def calculate_overlap(state1, state2):\n",
    "    return abs((state1.dag() * state2)[0,0])**2"
   ]
  },
  {
   "cell_type": "code",
   "execution_count": 380,
   "id": "f40c13c2",
   "metadata": {},
   "outputs": [],
   "source": [
    "import qutip as qt\n",
    "def floquet_spec(omega,A,phi_ex):\n",
    "#     phi_ex = 0.41340478058712055\n",
    "    H0,Hc = SNAIL_H(phi_ex,beta,N,Ej,Ec)\n",
    "    energies,U=np.linalg.eig(H0)\n",
    "    energies = energies - energies[0]*np.ones(len(energies))\n",
    "    energies = energies/2/np.pi\n",
    "    # U_dag = np.conjugate(U.transpose())\n",
    "    # U_dag@Hc@U\n",
    "    energies = np.sort(energies)\n",
    "    omega_s = energies[1]\n",
    "    H0 = Qobj(H0)\n",
    "    Hc = Qobj(Hc)\n",
    "    args = {'w': omega}\n",
    "    T = (2*np.pi)/omega\n",
    "    H = [H0, [Hc, lambda t, args: A*np.cos(args['w']*t)]] \n",
    "    options = Options(nsteps=100000)  # Increasing nsteps to 10000, adjust as needed\n",
    "    f_modes, f_energies = floquet_modes(H, T, args, False, options=options) \n",
    "    \n",
    "    # Define your system dimension\n",
    "    sdim = 10\n",
    "    floquet_states = f_modes\n",
    "    # Create your basis states\n",
    "    basis_states = [qt.basis(sdim, i) for i in range(3)]\n",
    "    # Initialize a list to hold the indices of the Floquet states with the maximum overlap for each basis state\n",
    "    max_overlap_indices = [-1] * 3\n",
    "    max_overlaps = [0] * 3\n",
    "    # Loop over each Floquet state\n",
    "    for f_index, f_state in enumerate(floquet_states):\n",
    "\n",
    "        # Loop over each basis state\n",
    "        for b_index, b_state in enumerate(basis_states):\n",
    "\n",
    "            # Calculate the overlap\n",
    "            overlap = calculate_overlap(f_state, b_state)\n",
    "\n",
    "            # If this is the maximum overlap for this basis state, store the index\n",
    "            if overlap > max_overlaps[b_index]:\n",
    "                max_overlaps[b_index] = overlap\n",
    "                max_overlap_indices[b_index] = f_index\n",
    "    energy01 = f_energies[max_overlap_indices[1]]/2/np.pi-f_energies[max_overlap_indices[0]]/2/np.pi\n",
    "    k = find_optimal_k(omega_s, energy01, omega/2/np.pi)\n",
    "    energy01 =energy01+k*omega/2/np.pi\n",
    "    omega_ss = energy01-omega_s\n",
    "    energy02 = f_energies[max_overlap_indices[2]]/2/np.pi-f_energies[max_overlap_indices[0]]/2/np.pi\n",
    "    k = find_optimal_k(2*omega_s, energy02, omega/2/np.pi)\n",
    "    energy02 =energy02+k*omega/2/np.pi\n",
    "    anh = energy02 - energy01 - energy01\n",
    "    if (max_overlaps<(np.sqrt(2)/2*np.ones(3))).all():\n",
    "        omega_ss = 1000\n",
    "        anh = 1000\n",
    "    return np.abs(omega_ss),anh\n",
    "def floquet_comp(omega,A,phi_ex,omega_c):\n",
    "    omega_c = omega_c *2*np.pi\n",
    "    g_intfa = 0.15\n",
    "    N = 3\n",
    "    H0,Hc = coupled_spectrum(phi_ex,omega_c,g_intfa)\n",
    "    energies,U=np.linalg.eig(H0)\n",
    "    energies = energies - energies[0]*np.ones(len(energies))\n",
    "    energies = energies\n",
    "    # U_dag = np.conjugate(U.transpose())\n",
    "    # U_dag@Hc@U\n",
    "    energies = np.sort(energies)\n",
    "    omega_cp = energies[1]\n",
    "    H0 = Qobj(H0)\n",
    "    Hc = Qobj(Hc)\n",
    "    args = {'w': omega}\n",
    "    T = (2*np.pi)/omega\n",
    "    H = [H0, [Hc, lambda t, args: A*np.cos(args['w']*t)]] \n",
    "    options = Options(nsteps=100000)  # Increasing nsteps to 10000, adjust as needed\n",
    "    f_modes, f_energies = floquet_modes(H, T, args, False, options=options) \n",
    "    \n",
    "    # Define your system dimension\n",
    "    sdim = 10\n",
    "    cdim = 5\n",
    "    floquet_states = f_modes\n",
    "    # Create your basis states\n",
    "    basis_states = [qt.basis(sdim*cdim, i) for i in range(2)]\n",
    "    # Initialize a list to hold the indices of the Floquet states with the maximum overlap for each basis state\n",
    "    max_overlap_indices = [-1] * 3\n",
    "    max_overlaps = [0] * 3\n",
    "    # Loop over each Floquet state\n",
    "    for f_index, f_state in enumerate(floquet_states):\n",
    "\n",
    "        # Loop over each basis state\n",
    "        for b_index, b_state in enumerate(basis_states):\n",
    "\n",
    "            # Calculate the overlap\n",
    "            overlap = calculate_overlap(f_state, b_state)\n",
    "\n",
    "            # If this is the maximum overlap for this basis state, store the index\n",
    "            if overlap > max_overlaps[b_index]:\n",
    "                max_overlaps[b_index] = overlap\n",
    "                max_overlap_indices[b_index] = f_index\n",
    "    energy01 = f_energies[max_overlap_indices[1]]-f_energies[max_overlap_indices[0]]\n",
    "    k = find_optimal_k(omega_cp, energy01, omega)\n",
    "    energy01 =energy01+k*omega\n",
    "    omega_cpp = energy01\n",
    "    if (max_overlaps<(np.sqrt(2)/2*np.ones(3))).all():\n",
    "        omega_cpp == 2*np.pi*1000\n",
    "    return omega_cpp\n",
    "def energy_der(omega,A,phi_ex,omega_c):\n",
    "    delta = 1e-6\n",
    "    der = (-floquet_comp(omega,A,phi_ex,omega_c) + floquet_comp(omega,A,phi_ex+delta,omega_c))/delta\n",
    "    return der\n",
    "def T1f(der):\n",
    "    factor = np.sqrt(2*np.abs(np.log(2*np.pi*1*1e-5)))\n",
    "    return 1/(factor*10**-6*der)\n",
    "import scipy.optimize as opt\n",
    "def minimize_anh( omega,A,phi_ex):\n",
    "    # Wrapper function that takes only phi_ex as an argument\n",
    "    def anh_wrapper(phi_ex):\n",
    "        omega_s, anh = floquet_spec(omega,A,phi_ex)\n",
    "        return np.abs(anh)\n",
    "    bounds = [(0,0.5)]\n",
    "    # Optimize phi_ex\n",
    "    result = opt.minimize(anh_wrapper,phi_ex, bounds = bounds,method='Nelder-Mead')\n",
    "\n",
    "    # Return the result of the optimization\n",
    "    return result.x, result.fun\n",
    "def minimize_Tp1(omega,A,phi_ex,omega_c):\n",
    "    # Wrapper function that takes only phi_ex as an argument\n",
    "    def wrapper(omega_c):\n",
    "        der = energy_der(omega,A,phi_ex,omega_c)\n",
    "        T1fs = np.abs(T1f(der))\n",
    "        return 1/T1fs*1e9\n",
    "\n",
    "    # Optimize phi_ex\n",
    "    bounds = [(1,3)]\n",
    "    result = opt.minimize(wrapper,omega_c, bounds = bounds,method='Nelder-Mead')\n",
    "\n",
    "    # Return the result of the optimization\n",
    "    return result.x, result.fun"
   ]
  },
  {
   "cell_type": "code",
   "execution_count": 381,
   "id": "82cf8f32",
   "metadata": {},
   "outputs": [
    {
     "data": {
      "text/plain": [
       "38057870.48658439"
      ]
     },
     "execution_count": 381,
     "metadata": {},
     "output_type": "execute_result"
    }
   ],
   "source": [
    "beta = 0.12\n",
    "N = 3\n",
    "Ej = 15*2*np.pi\n",
    "Ec = 0.7*2*np.pi\n",
    "omega = 2*2*np.pi\n",
    "omega_c = 2.5\n",
    "A = 0*2*np.pi\n",
    "phi_ex =0.38059900660029355\n",
    "omega_s, anh = floquet_spec(omega,A,phi_ex)\n",
    "np.abs(T1f(energy_der(omega,A,phi_ex,omega_c)))"
   ]
  },
  {
   "cell_type": "code",
   "execution_count": 382,
   "id": "8f012f09",
   "metadata": {},
   "outputs": [
    {
     "data": {
      "text/plain": [
       "0.0009506793856442843"
      ]
     },
     "execution_count": 382,
     "metadata": {},
     "output_type": "execute_result"
    }
   ],
   "source": [
    "energy_der(omega,A,phi_ex,omega_c)/2/np.pi"
   ]
  },
  {
   "cell_type": "code",
   "execution_count": 383,
   "id": "6ab7b19d",
   "metadata": {},
   "outputs": [
    {
     "data": {
      "text/plain": [
       "2.4928995296843834"
      ]
     },
     "execution_count": 383,
     "metadata": {},
     "output_type": "execute_result"
    }
   ],
   "source": [
    "floquet_comp(omega,0,phi_ex,omega_c)/2/np.pi"
   ]
  },
  {
   "cell_type": "code",
   "execution_count": 330,
   "id": "a9987346",
   "metadata": {},
   "outputs": [],
   "source": [
    "\n",
    "phi_ex,anh=minimize_anh(omega,A,0.41340478058712055)\n",
    "phi_ex=phi_ex[0]\n"
   ]
  },
  {
   "cell_type": "code",
   "execution_count": 331,
   "id": "2de17ba7",
   "metadata": {},
   "outputs": [
    {
     "data": {
      "text/plain": [
       "(0.38433725695208854, 4.4149336922316706e-05)"
      ]
     },
     "execution_count": 331,
     "metadata": {},
     "output_type": "execute_result"
    }
   ],
   "source": [
    "phi_ex,anh"
   ]
  },
  {
   "cell_type": "code",
   "execution_count": 332,
   "id": "640225a8",
   "metadata": {},
   "outputs": [],
   "source": [
    "omega_c, T=minimize_Tp1(omega,A,phi_ex,omega_c)"
   ]
  },
  {
   "cell_type": "code",
   "execution_count": 333,
   "id": "031e2bd7",
   "metadata": {},
   "outputs": [
    {
     "data": {
      "text/plain": [
       "15996988389705.096"
      ]
     },
     "execution_count": 333,
     "metadata": {},
     "output_type": "execute_result"
    }
   ],
   "source": [
    "np.abs(T1f(energy_der(omega,A,phi_ex,omega_c)))"
   ]
  },
  {
   "cell_type": "code",
   "execution_count": 334,
   "id": "65bd1ff7",
   "metadata": {},
   "outputs": [],
   "source": [
    "omega_s=np.abs(SNAIL_H(phi_ex,beta,N,Ej,Ec)[0][1][1]/2/np.pi)"
   ]
  },
  {
   "cell_type": "code",
   "execution_count": 335,
   "id": "b40edc58",
   "metadata": {},
   "outputs": [
    {
     "data": {
      "text/plain": [
       "4.655954919953192"
      ]
     },
     "execution_count": 335,
     "metadata": {},
     "output_type": "execute_result"
    }
   ],
   "source": [
    "omega_s"
   ]
  },
  {
   "cell_type": "code",
   "execution_count": 336,
   "id": "44107e19",
   "metadata": {},
   "outputs": [
    {
     "data": {
      "text/plain": [
       "(array([2.61740727]), 6.251176631743713e-05)"
      ]
     },
     "execution_count": 336,
     "metadata": {},
     "output_type": "execute_result"
    }
   ],
   "source": [
    "omega_c,T"
   ]
  },
  {
   "cell_type": "code",
   "execution_count": 337,
   "id": "4f2af3fb",
   "metadata": {},
   "outputs": [],
   "source": [
    "eta = A*2*omega_s/(omega_s**2-(omega/2/np.pi)**2)/2/np.pi"
   ]
  },
  {
   "cell_type": "code",
   "execution_count": 338,
   "id": "4d70dc4a",
   "metadata": {},
   "outputs": [
    {
     "data": {
      "text/plain": [
       "array([0.02456778])"
      ]
     },
     "execution_count": 338,
     "metadata": {},
     "output_type": "execute_result"
    }
   ],
   "source": [
    "omega_cp=np.sqrt(2*(1+eta**2)*omega_s*Ec/2/np.pi)\n",
    "np.abs((omega_cp-omega_c)/omega_c)"
   ]
  },
  {
   "cell_type": "code",
   "execution_count": 339,
   "id": "c029653b",
   "metadata": {},
   "outputs": [
    {
     "data": {
      "text/plain": [
       "2.553103383714508"
      ]
     },
     "execution_count": 339,
     "metadata": {},
     "output_type": "execute_result"
    }
   ],
   "source": [
    "omega_cp"
   ]
  },
  {
   "cell_type": "code",
   "execution_count": 340,
   "id": "fe9a0d03",
   "metadata": {},
   "outputs": [
    {
     "data": {
      "text/plain": [
       "array([2.61740727])"
      ]
     },
     "execution_count": 340,
     "metadata": {},
     "output_type": "execute_result"
    }
   ],
   "source": [
    "omega_c"
   ]
  },
  {
   "cell_type": "code",
   "execution_count": 348,
   "id": "a72daa49",
   "metadata": {},
   "outputs": [
    {
     "data": {
      "text/plain": [
       "1.4786044428560714"
      ]
     },
     "execution_count": 348,
     "metadata": {},
     "output_type": "execute_result"
    }
   ],
   "source": [
    "(np.sqrt(2*7.75*0.3)-0.87)/0.87"
   ]
  },
  {
   "cell_type": "code",
   "execution_count": null,
   "id": "47892441",
   "metadata": {},
   "outputs": [],
   "source": []
  }
 ],
 "metadata": {
  "kernelspec": {
   "display_name": "Python 3 (ipykernel)",
   "language": "python",
   "name": "python3"
  },
  "language_info": {
   "codemirror_mode": {
    "name": "ipython",
    "version": 3
   },
   "file_extension": ".py",
   "mimetype": "text/x-python",
   "name": "python",
   "nbconvert_exporter": "python",
   "pygments_lexer": "ipython3",
   "version": "3.8.3"
  }
 },
 "nbformat": 4,
 "nbformat_minor": 5
}
