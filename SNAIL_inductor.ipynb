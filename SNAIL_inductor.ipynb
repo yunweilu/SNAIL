{
 "cells": [
  {
   "cell_type": "code",
   "execution_count": 1,
   "id": "dbb4e562",
   "metadata": {},
   "outputs": [],
   "source": [
    "import numpy as np\n",
    "import matplotlib.pyplot as plt\n",
    "import scipy as sci\n",
    "import autograd as ad\n",
    "import autograd.numpy as np\n",
    "from cosmatrix import cosm,expm_pade\n",
    "expm = expm_pade\n",
    "from autograd.extend import primitive, defvjp\n",
    "def annihilation(dim):\n",
    "    return np.diag(np.sqrt(np.arange(1,dim)),1)\n",
    "def creation(dim):\n",
    "    return np.diag(np.sqrt(np.arange(1,dim)),-1)\n",
    "def new_cparameters(c2,c3,c4,c5,p):\n",
    "    c2=c2*p\n",
    "    c3=c3*p**3\n",
    "    c4=p**4*(c4-3*c3**2/c2*(1-p))\n",
    "    c5=p**5*(c5-(10*c4*c3/c2)*(1-p)+15*(c3**3/c2**2)*(1-p)**2)\n",
    "    return c2,c3,c4,c5\n",
    "def omega_s(phi_ex,beta,N,Ej,Ec,El,):\n",
    "    phi_ex = 2*np.pi*phi_ex\n",
    "    def U_s(phi): \n",
    "        return (-beta*np.cos(phi-phi_ex)-N*np.cos((phi)/N))\n",
    "    @primitive\n",
    "    def Us_min(phi_ex):\n",
    "        def U_s(phi): \n",
    "            return (-beta*np.cos(phi-phi_ex)-N*np.cos((phi)/N))\n",
    "        phi_min = sci.optimize.minimize(U_s,0).x\n",
    "        return phi_min\n",
    "    \n",
    "    def phi_minde(ans, phi_ex):\n",
    "        def phi_minde_vjp(g):\n",
    "            c2 = beta*np.cos(ans - phi_ex) + 1/N*np.cos(ans/N)\n",
    "            return g*beta*np.cos(ans - phi_ex)/c2\n",
    "        return phi_minde_vjp\n",
    "    defvjp(Us_min, phi_minde)\n",
    "    phi_min = Us_min(phi_ex)\n",
    "    # potential expansion around minimum\n",
    "    firstd = ad.grad(U_s)\n",
    "    secondd = ad.grad(firstd)\n",
    "    thirdd = ad.grad(secondd)\n",
    "    fourd = ad.grad(thirdd)\n",
    "    fived = ad.grad(fourd)\n",
    "    c2 = secondd(phi_min)\n",
    "    c3 = thirdd(phi_min)\n",
    "    c4 = fourd(phi_min)\n",
    "    c5 = fived(phi_min)\n",
    "    p = El/(El+c2*Ej)\n",
    "    c2,c3,c4,c5 = new_cparameters(c2,c3,c4,c5,p)\n",
    "    omega_s = np.sqrt(8*c2*Ej*Ec)\n",
    "    phi_zpf = np.power(2*Ec/(Ej*c2),1/4)\n",
    "    g2 = Ej*phi_zpf**2*c2/2\n",
    "    g3 = Ej*phi_zpf**3*c3/3/2\n",
    "    g4 = Ej*phi_zpf**4*c4/4/3/2\n",
    "    g5 = Ej*phi_zpf**5*c5/5/4/3/2\n",
    "    \n",
    "    sdim = 5\n",
    "    s = annihilation(sdim)\n",
    "    sd = creation(sdim)\n",
    "    x2 = np.matmul(s+sd,s+sd)\n",
    "    x3 = np.matmul(s+sd,x2)\n",
    "    x4 = np.matmul(s+sd,x3)\n",
    "    x5 = np.matmul(s+sd,x4)\n",
    "    x6 = np.matmul(s+sd,x5)\n",
    "    Hs = omega_s * np.matmul(sd,s)+g3*x3 + g4*x4 + g5*x5 + 1e-9*x6 \n",
    "    energy = np.linalg.eigh(Hs)[0]\n",
    "    energy = energy-energy[0]*np.ones(len(energy))\n",
    "    omega_s = energy[1]/2/np.pi\n",
    "    anh = (energy[2]-energy[1]-energy[1]-energy[0])\n",
    "    return omega_s\n",
    "\n",
    "def SNAIL(phi_ex,beta,N,Ej,Ec,El,omega_c,g_intfa):\n",
    "    phi_ex = 2*np.pi*phi_ex\n",
    "    def U_s(phi): \n",
    "        return (-beta*np.cos(phi-phi_ex)-N*np.cos((phi)/N))\n",
    "    @primitive\n",
    "    def Us_min(phi_ex):\n",
    "        def U_s(phi): \n",
    "            return (-beta*np.cos(phi-phi_ex)-N*np.cos((phi)/N))\n",
    "        phi_min = sci.optimize.minimize(U_s,0).x\n",
    "        return phi_min\n",
    "    \n",
    "    def phi_minde(ans, phi_ex):\n",
    "        def phi_minde_vjp(g):\n",
    "            c2 = beta*np.cos(ans - phi_ex) + 1/N*np.cos(ans/N)\n",
    "            return g*beta*np.cos(ans - phi_ex)/c2\n",
    "        return phi_minde_vjp\n",
    "    defvjp(Us_min, phi_minde)\n",
    "    phi_min = Us_min(phi_ex)\n",
    "    # potential expansion around minimum\n",
    "    firstd = ad.grad(U_s)\n",
    "    secondd = ad.grad(firstd)\n",
    "    thirdd = ad.grad(secondd)\n",
    "    fourd = ad.grad(thirdd)\n",
    "    fived = ad.grad(fourd)\n",
    "    c2 = secondd(phi_min)\n",
    "    c3 = thirdd(phi_min)\n",
    "    c4 = fourd(phi_min)\n",
    "    c5 = fived(phi_min)\n",
    "    p = El/(El+c2*Ej)\n",
    "    c2,c3,c4,c5 = new_cparameters(c2,c3,c4,c5,p)\n",
    "    omega_s = np.sqrt(8*c2*Ej*Ec)\n",
    "    phi_zpf = np.power(2*Ec/(Ej*c2),1/4)\n",
    "    g2 = Ej*phi_zpf**2*c2/2\n",
    "    g3 = Ej*phi_zpf**3*c3/3/2\n",
    "    g4 = Ej*phi_zpf**4*c4/4/3/2\n",
    "    g5 = Ej*phi_zpf**5*c5/5/4/3/2\n",
    "    \n",
    "    sdim = 5\n",
    "    s = annihilation(sdim)\n",
    "    sd = creation(sdim)\n",
    "    x2 = np.matmul(s+sd,s+sd)\n",
    "    x3 = np.matmul(s+sd,x2)\n",
    "    x4 = np.matmul(s+sd,x3)\n",
    "    x5 = np.matmul(s+sd,x4)\n",
    "    x6 = np.matmul(s+sd,x5)\n",
    "#     anh = 12*(g4-5*g3**2/omega_s)\n",
    "    Hs = omega_s * np.matmul(sd,s)+g3*x3 + g4*x4 + g5*x5 + 1e-9*x6 \n",
    "    energy = np.linalg.eigh(Hs)[0]\n",
    "    energy = energy-energy[0]*np.ones(len(energy))\n",
    "    omega_s = energy[1]\n",
    "    anh = (energy[2]-energy[1]-energy[1]-energy[0])\n",
    "    cdim = 5\n",
    "    c = annihilation(cdim)\n",
    "    cd = creation(cdim)\n",
    "    Hc = omega_c*np.matmul(cd,c)\n",
    "    Ic = np.identity(cdim)\n",
    "    Is = np.identity(sdim)\n",
    "    Hs = np.kron(Hs,Ic)\n",
    "    Hc = np.kron(Is,Hc)\n",
    "    g_int = g_intfa*2*np.pi*np.power((2*Ec)/Ej,1/4)/phi_zpf\n",
    "    H_int = g_int*np.kron(s+sd,cd+c)\n",
    "#     H_int = g_int*(np.kron(sd,c)+np.kron(s,cd))\n",
    "    H = Hs + Hc + H_int\n",
    "    energy,dressed_states = np.linalg.eigh(H)\n",
    "    energy = energy-energy[0]*np.ones(len(energy))\n",
    "    exact = energy[1]/2/np.pi\n",
    "    return exact,omega_s, g3, g4, g5, anh, g_int\n",
    "omega_sgrad = ad.grad(omega_s)"
   ]
  },
  {
   "cell_type": "code",
   "execution_count": 18,
   "id": "94419e20",
   "metadata": {},
   "outputs": [],
   "source": [
    "beta = 0.145\n",
    "N = 3\n",
    "Ej = 90*2*np.pi\n",
    "Ec = 0.177*2*np.pi\n",
    "El = 64*2*np.pi\n",
    "sweep_num = 500\n",
    "phi_exs = np.linspace(0,0.5,sweep_num)\n",
    "omega_c = 1.7*2*np.pi\n",
    "g_intfa = 0.145\n",
    "omega_ss =  np.zeros(len(phi_exs))\n",
    "g3s=np.zeros(len(phi_exs))\n",
    "g4s=np.zeros(len(phi_exs))\n",
    "g5s=np.zeros(len(phi_exs))\n",
    "anhs = np.zeros(len(phi_exs))\n",
    "sders = np.zeros(len(phi_exs))\n",
    "Es = np.zeros(len(phi_exs))\n",
    "g_ints = np.zeros(len(phi_exs))\n",
    "for i in range(sweep_num):\n",
    "    Es[i] ,omega_ss[i],g3s[i],g4s[i],g5s[i],anhs[i],g_ints[i]=SNAIL(phi_exs[i],beta,N,Ej,Ec,El,omega_c,g_intfa)\n",
    "    sders[i] = omega_sgrad(phi_exs[i],beta,N,Ej,Ec,El)"
   ]
  },
  {
   "cell_type": "code",
   "execution_count": 19,
   "id": "30b8a6ce",
   "metadata": {},
   "outputs": [
    {
     "data": {
      "text/plain": [
       "[<matplotlib.lines.Line2D at 0x7f8004299e80>]"
      ]
     },
     "execution_count": 19,
     "metadata": {},
     "output_type": "execute_result"
    },
    {
     "data": {
      "image/png": "[encoded data removed]",
      "text/plain": [
       "<Figure size 432x288 with 1 Axes>"
      ]
     },
     "metadata": {
      "needs_background": "light"
     },
     "output_type": "display_data"
    }
   ],
   "source": [
    "plt.plot(phi_exs,-g3s/2/np.pi)\n",
    "plt.plot(phi_exs,12*g4s/2/np.pi)\n",
    "plt.plot(phi_exs,-60*g5s/2/np.pi)\n",
    "plt.plot(phi_exs,anhs/2/np.pi)\n",
    "# plt.ylim(-0.05,0.05)"
   ]
  },
  {
   "cell_type": "code",
   "execution_count": 20,
   "id": "520fc4ee",
   "metadata": {},
   "outputs": [
    {
     "data": {
      "text/plain": [
       "Text(0, 0.5, 'dressed Fock 1 energy (GHz)')"
      ]
     },
     "execution_count": 20,
     "metadata": {},
     "output_type": "execute_result"
    },
    {
     "data": {
      "image/png": "[encoded data removed]",
      "text/plain": [
       "<Figure size 432x288 with 1 Axes>"
      ]
     },
     "metadata": {
      "needs_background": "light"
     },
     "output_type": "display_data"
    }
   ],
   "source": [
    "# plt.scatter(phi_exs[268],1.495)\n",
    "plt.plot(phi_exs,Es)\n",
    "plt.tick_params(axis='both', which='major', labelsize=14)  # Enlarge tick labels\n",
    "plt.xlabel('$ϕ_{ex}$', fontsize=14)  # Enlarge x-axis label\n",
    "plt.ylabel('dressed Fock 1 energy (GHz)', fontsize=14)  # Enlarge y-axis label\n",
    "# plt.plot(phi_exs,omega_c/2/np.pi*np.ones(len(g_ints)) - g_ints/2/np.pi/(omega_ss/2/np.pi-omega_c/2/np.pi*np.ones(len(g_ints)))**2)\n",
    "# plt.ylim(2.971,2.975)"
   ]
  },
  {
   "cell_type": "code",
   "execution_count": 21,
   "id": "840be199",
   "metadata": {},
   "outputs": [
    {
     "data": {
      "text/plain": [
       "0.45891783567134264"
      ]
     },
     "execution_count": 21,
     "metadata": {},
     "output_type": "execute_result"
    }
   ],
   "source": [
    "phi_exs[np.argmin(np.abs(Es))]"
   ]
  },
  {
   "cell_type": "code",
   "execution_count": 22,
   "id": "7d980183",
   "metadata": {},
   "outputs": [
    {
     "data": {
      "text/plain": [
       "(0.01, 100)"
      ]
     },
     "execution_count": 22,
     "metadata": {},
     "output_type": "execute_result"
    },
    {
     "data": {
      "image/png": "[encoded data removed]",
      "text/plain": [
       "<Figure size 432x288 with 1 Axes>"
      ]
     },
     "metadata": {
      "needs_background": "light"
     },
     "output_type": "display_data"
    }
   ],
   "source": [
    "plt.plot(phi_exs,np.abs(sders))\n",
    "plt.yscale('log')\n",
    "plt.ylim(1e-2,100)"
   ]
  },
  {
   "cell_type": "code",
   "execution_count": 23,
   "id": "4fdea7fe",
   "metadata": {},
   "outputs": [
    {
     "ename": "IndexError",
     "evalue": "index 913 is out of bounds for axis 0 with size 500",
     "output_type": "error",
     "traceback": [
      "\u001b[0;31m---------------------------------------------------------------------------\u001b[0m",
      "\u001b[0;31mIndexError\u001b[0m                                Traceback (most recent call last)",
      "Input \u001b[0;32mIn [23]\u001b[0m, in \u001b[0;36m<module>\u001b[0;34m\u001b[0m\n\u001b[0;32m----> 1\u001b[0m \u001b[43mg3s\u001b[49m\u001b[43m[\u001b[49m\u001b[38;5;241;43m913\u001b[39;49m\u001b[43m]\u001b[49m\u001b[38;5;241m/\u001b[39m\u001b[38;5;241m2\u001b[39m\u001b[38;5;241m/\u001b[39mnp\u001b[38;5;241m.\u001b[39mpi\n",
      "\u001b[0;31mIndexError\u001b[0m: index 913 is out of bounds for axis 0 with size 500"
     ]
    }
   ],
   "source": [
    "g3s[913]/2/np.pi"
   ]
  },
  {
   "cell_type": "code",
   "execution_count": null,
   "id": "94585f40",
   "metadata": {},
   "outputs": [],
   "source": []
  }
 ],
 "metadata": {
  "kernelspec": {
   "display_name": "Python 3 (ipykernel)",
   "language": "python",
   "name": "python3"
  },
  "language_info": {
   "codemirror_mode": {
    "name": "ipython",
    "version": 3
   },
   "file_extension": ".py",
   "mimetype": "text/x-python",
   "name": "python",
   "nbconvert_exporter": "python",
   "pygments_lexer": "ipython3",
   "version": "3.8.3"
  }
 },
 "nbformat": 4,
 "nbformat_minor": 5
}
